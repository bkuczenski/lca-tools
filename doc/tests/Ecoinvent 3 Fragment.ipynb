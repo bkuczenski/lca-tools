{
 "cells": [
  {
   "cell_type": "code",
   "execution_count": 1,
   "metadata": {
    "collapsed": true
   },
   "outputs": [],
   "source": [
    "import sys\n",
    "import os\n",
    "import json\n",
    "import re\n",
    "\n",
    "sys.path.append('../..')\n",
    "\n",
    "import lcatools\n",
    "from lcatools.foreground.manager import ForegroundManager\n",
    "from lcatools.interact import *"
   ]
  },
  {
   "cell_type": "code",
   "execution_count": 2,
   "metadata": {
    "collapsed": false
   },
   "outputs": [
    {
     "name": "stdout",
     "output_type": "stream",
     "text": [
      "ForegroundArchive archive added in position 0\n",
      "IlcdLcia archive added in position 1\n",
      "JSON archive added in position 2\n",
      "JSON archive added in position 3\n",
      "JSON archive added in position 4\n",
      "JSON archive added in position 5\n",
      "JSON archive added in position 6\n",
      "JSON archive added in position 7\n",
      "JSON archive added in position 8\n",
      "JSON archive added in position 9\n",
      "JSON archive added in position 10\n",
      "Generating flow-quantity database...\n",
      "Loading LCIA data... (0.78 s)\n",
      "Loading JSON data from /data/GitHub/lca-tools-datafiles/catalogs/elcd_lcia.json.gz:\n",
      "Found Extension: zip\n",
      "54 new quantity entities added (54 total)\n",
      "1256 new flow entities added (1256 total)\n",
      "0 new process entities added (0 total)\n",
      "0 unmatched flows found from source LCIA... \n",
      "\n",
      "finished LCIA... (1.64 s)\n",
      "Loading JSON data from /data/GitHub/lca-tools-datafiles/catalogs/ei_lcia.json.gz:\n",
      "**Upstream reference encountered: /data/LCI/Ecoinvent/3.2/undefined\n",
      "\n",
      "710 new quantity entities added (710 total)\n",
      "3255 new flow entities added (3255 total)\n",
      "0 new process entities added (0 total)\n",
      "92 unmatched flows found from source EI-LCIA... \n",
      "\n",
      "finished EI-LCIA... (8.07 s)\n",
      "finished... (8.07 s)\n"
     ]
    }
   ],
   "source": [
    "F = ForegroundManager('.')"
   ]
  },
  {
   "cell_type": "code",
   "execution_count": 3,
   "metadata": {
    "collapsed": false
   },
   "outputs": [
    {
     "name": "stdout",
     "output_type": "stream",
     "text": [
      "[ 0] (EI-LCIA) {q} ReCiPe Midpoint (I), agricultural land occupation, ALOP [LCIA] \n",
      "[ 1] (EI-LCIA) {q} ReCiPe Midpoint (I), photochemical oxidant formation, POFP [LCIA] \n",
      "[ 2] (EI-LCIA) {q} ReCiPe Midpoint (I), freshwater ecotoxicity, FETP100 [LCIA] \n",
      "[ 3] (EI-LCIA) {q} ReCiPe Midpoint (I), metal depletion, MDP [LCIA] \n",
      "[ 4] (EI-LCIA) {q} ReCiPe Midpoint (I), fossil depletion, FDP [LCIA] \n",
      "[ 5] (EI-LCIA) {q} ReCiPe Midpoint (I), urban land occupation, ULOP [LCIA] \n",
      "[ 6] (EI-LCIA) {q} ReCiPe Midpoint (I), ionising radiation, IRP_I [LCIA] \n",
      "[ 7] (EI-LCIA) {q} ReCiPe Midpoint (I), natural land transformation, NLTP [LCIA] \n",
      "[ 8] (EI-LCIA) {q} ReCiPe Midpoint (I), marine ecotoxicity, METP100 [LCIA] \n",
      "[ 9] (EI-LCIA) {q} ReCiPe Midpoint (I), terrestrial acidification, TAP20 [LCIA] \n",
      "[10] (EI-LCIA) {q} ReCiPe Midpoint (I), terrestrial ecotoxicity, TETP100 [LCIA] \n",
      "[11] (EI-LCIA) {q} ReCiPe Midpoint (I), human toxicity, HTP100 [LCIA] \n",
      "[12] (EI-LCIA) {q} ReCiPe Midpoint (I), freshwater eutrophication, FEP [LCIA] \n",
      "[13] (EI-LCIA) {q} ReCiPe Midpoint (I), particulate matter formation, PMFP [LCIA] \n",
      "[14] (EI-LCIA) {q} ReCiPe Midpoint (I), ozone depletion, ODPinf [LCIA] \n",
      "[15] (EI-LCIA) {q} ReCiPe Midpoint (I), marine eutrophication, MEP [LCIA] \n",
      "[16] (EI-LCIA) {q} ReCiPe Midpoint (I), water depletion, WDP [LCIA] \n",
      "[17] (EI-LCIA) {q} ReCiPe Midpoint (I), climate change, GWP20 [LCIA] \n",
      "Add to foreground: (EI-LCIA) {q} ReCiPe Midpoint (I), agricultural land occupation, ALOP [LCIA]\n",
      "Add to foreground: (EI-LCIA) {q} ReCiPe Midpoint (I), photochemical oxidant formation, POFP [LCIA]\n",
      "Add to foreground: (EI-LCIA) {q} ReCiPe Midpoint (I), freshwater ecotoxicity, FETP100 [LCIA]\n",
      "Add to foreground: (EI-LCIA) {q} ReCiPe Midpoint (I), metal depletion, MDP [LCIA]\n",
      "Add to foreground: (EI-LCIA) {q} ReCiPe Midpoint (I), fossil depletion, FDP [LCIA]\n",
      "Add to foreground: (EI-LCIA) {q} ReCiPe Midpoint (I), urban land occupation, ULOP [LCIA]\n",
      "Add to foreground: (EI-LCIA) {q} ReCiPe Midpoint (I), ionising radiation, IRP_I [LCIA]\n",
      "Add to foreground: (EI-LCIA) {q} ReCiPe Midpoint (I), natural land transformation, NLTP [LCIA]\n",
      "Add to foreground: (EI-LCIA) {q} ReCiPe Midpoint (I), marine ecotoxicity, METP100 [LCIA]\n",
      "Add to foreground: (EI-LCIA) {q} ReCiPe Midpoint (I), terrestrial acidification, TAP20 [LCIA]\n"
     ]
    }
   ],
   "source": [
    "for k in F.search('EI-LCIA', 'quantity', Name='ReCiPe mid.*\\(I\\)', show=True)[:10]:\n",
    "    F.add_to_foreground(k)"
   ]
  },
  {
   "cell_type": "code",
   "execution_count": 4,
   "metadata": {
    "collapsed": false
   },
   "outputs": [
    {
     "name": "stdout",
     "output_type": "stream",
     "text": [
      "Loading JSON data from /data/GitHub/lca-tools-datafiles/catalogs/ecoinvent_3.2_apos_xlsx.json.gz:\n",
      "Loading FG from /data/LCI/Ecoinvent/3.2/current_Version_3.2_apos_ecoSpold02.zip\n",
      "Found Extension: zip\n",
      "Loading BG from /data/LCI/Ecoinvent/3.2/current_Version_3.2_apos_lcia_ecoSpold02.zip\n",
      "Found Extension: zip\n",
      "**Upstream reference encountered: /home/b/Dropbox/data/Ecoinvent/3.2/activity_overview_for_users_3.2_undefined.xlsx\n",
      "\n",
      "718 new quantity entities added (718 total)\n",
      "6767 new flow entities added (6767 total)\n",
      "11420 new process entities added (11420 total)\n"
     ]
    }
   ],
   "source": [
    "F.load('EI_A')"
   ]
  },
  {
   "cell_type": "code",
   "execution_count": 5,
   "metadata": {
    "collapsed": false
   },
   "outputs": [
    {
     "name": "stdout",
     "output_type": "stream",
     "text": [
      "[ 0] (EI_A) {p} ethanol production from sugar beet molasses [RoW] \n",
      "[ 1] (EI_A) {p} ethanol production from sugar beet [RoW] \n",
      "[ 2] (EI_A) {p} sugar beet production [RoW] \n"
     ]
    }
   ],
   "source": [
    "sugar_beets = F.search('EI_A', 'process', Name='sugar.?beet', SpatialScope='RoW', show=True)\n"
   ]
  },
  {
   "cell_type": "code",
   "execution_count": 6,
   "metadata": {
    "collapsed": false
   },
   "outputs": [
    {
     "name": "stdout",
     "output_type": "stream",
     "text": [
      "This process has multiple allocations. Select reference flow:\n",
      "\n",
      "Choice Item\n",
      "====== ======================================================================\n",
      " [0]   ethanol, without water, in 95% solution state, from fermentation\n",
      " [1]   molasses, from sugar beet\n",
      "------ ----------------------------------------------------------------------\n",
      "Enter choice (or \"None\"): 0\n",
      "picked ethanol, without water, in 95% solution state, from fermentation (CAS 000064-17-5) [By-product classification: allocatable product]\n",
      "Loading LCIA results from f01eb904-d7e7-4633-b1a7-be54f33daa96_ffcb8cbb-77ab-4f87-8a94-87ca5b8ea79e.spold\n",
      "This process has multiple allocations. Select reference flow:\n",
      "\n",
      "Choice Item\n",
      "====== ======================================================================\n",
      " [0]   ethanol, without water, in 95% solution state, from fermentation\n",
      " [1]   molasses, from sugar beet\n",
      "------ ----------------------------------------------------------------------\n",
      "Enter choice (or \"None\"): 1\n",
      "picked molasses, from sugar beet [By-product classification: allocatable product]\n",
      "Loading LCIA results from f01eb904-d7e7-4633-b1a7-be54f33daa96_26448127-c1ac-4f48-818a-5e8fd9cb1645.spold\n",
      "Loading LCIA results from a1edcec1-cb98-4b3a-9d6a-0cbd1e015f16_ffcb8cbb-77ab-4f87-8a94-87ca5b8ea79e.spold\n",
      "Loading LCIA results from 921b7b9e-7dc0-4efe-8d1c-26de6f65c595_560e69eb-413e-49db-8796-3dd103ae8888.spold\n",
      "Ref Units  |   C0   |   C1   |   C2   |   C3    LCIA Method\n",
      "-----------------------------------------------------------\n",
      "[kg 1,4-D  0.000914 0.000914  0.00584 0.000412  ReCiPe Midpoint (I), freshwater ecotoxicity, FETP100\n",
      "    [m2a]  0.000816 0.000816  0.00868 0.000254  ReCiPe Midpoint (I), urban land occupation, ULOP\n",
      "[kg SO2-E  0.000632 0.000632  0.00603 0.000532  ReCiPe Midpoint (I), terrestrial acidification, TAP20\n",
      "[kg oil-E    0.0602   0.0602    0.153  0.00579  ReCiPe Midpoint (I), fossil depletion, FDP\n",
      "[kg U235-   0.00557  0.00557   0.0178 0.000373  ReCiPe Midpoint (I), ionising radiation, IRP_I\n",
      "     [m2]  2.67e-05 2.67e-05   0.0001 4.98e-06  ReCiPe Midpoint (I), natural land transformation, NLTP\n",
      "[kg Fe-Eq   0.00435  0.00435   0.0262  0.00206  ReCiPe Midpoint (I), metal depletion, MDP\n",
      "[kg 1,4-D  0.000582 0.000582  0.00264 0.000107  ReCiPe Midpoint (I), marine ecotoxicity, METP100\n",
      "[kg NMVOC  0.000343 0.000343  0.00253 0.000176  ReCiPe Midpoint (I), photochemical oxidant formation, POFP\n",
      "    [m2a]    0.0037   0.0037     1.28    0.148  ReCiPe Midpoint (I), agricultural land occupation, ALOP\n",
      "Ref Units  |   C0   |   C1   |   C2   |   C3    LCIA Method\n",
      "\n",
      "Columns:\n",
      "C0: (EI_A) {p} ethanol production from sugar beet molasses [RoW]\n",
      "C1: (EI_A) {p} ethanol production from sugar beet molasses [RoW]\n",
      "C2: (EI_A) {p} ethanol production from sugar beet [RoW]\n",
      "C3: (EI_A) {p} sugar beet production [RoW]\n"
     ]
    }
   ],
   "source": [
    "F.compare_lcia_results([sugar_beets[i] for i in (0, 0, 1, 2)], background=True)"
   ]
  },
  {
   "cell_type": "code",
   "execution_count": 7,
   "metadata": {
    "collapsed": false
   },
   "outputs": [],
   "source": [
    "ref_flow = sugar_beets[0].fg().find_reference('ethanol')"
   ]
  },
  {
   "cell_type": "code",
   "execution_count": 8,
   "metadata": {
    "collapsed": false
   },
   "outputs": [
    {
     "data": {
      "text/plain": [
       "'/data/LCI/Ecoinvent/3.2/current_Version_3.2_apos_ecoSpold02.zip'"
      ]
     },
     "execution_count": 8,
     "metadata": {},
     "output_type": "execute_result"
    }
   ],
   "source": [
    "ref_flow.origin"
   ]
  },
  {
   "cell_type": "code",
   "execution_count": 9,
   "metadata": {
    "collapsed": false
   },
   "outputs": [
    {
     "name": "stdout",
     "output_type": "stream",
     "text": [
      "LcFragment - Name: ethanol production from sugar beet molasses [RoW]:\n",
      "ethanol production from sugar beet molasses [RoW]\n"
     ]
    }
   ],
   "source": [
    "frag = F.create_fragment_from_process(sugar_beets[0], ref_flow=ref_flow)"
   ]
  },
  {
   "cell_type": "code",
   "execution_count": 10,
   "metadata": {
    "collapsed": false
   },
   "outputs": [
    {
     "name": "stdout",
     "output_type": "stream",
     "text": [
      "-<--*   cdcda3c (      1) ethanol production from sugar beet molasses [RoW]\n",
      "    | -<--*   4e35101 (    2.1) tap water\n",
      "    | -<--*   649226f (    2.1) tap water\n",
      "    | -<--*   5b5298f (      0) nitrogen fertiliser, as N\n",
      "    | -<--*   70c9500 (0.00051) chemical, inorganic\n",
      "    | -<--*   201b20d (   0.11) lime\n",
      "    | -<--*   2e3f23e (   0.56) heat, district or industrial, natural gas\n",
      "    | -<--*   d9acb4f (5.9e-11) sugar refinery\n",
      "    | -<--*   1116432 (   0.56) heat, district or industrial, natural gas\n",
      "    | -<--*   29a2f44 (      0) ammonium sulfate, as N\n",
      "    | -<--*   ea16c42 (      0) vinasse, from fermentation of sugar beet molasses\n",
      "    | -<--*   286feba (  0.063) electricity, medium voltage\n",
      "    | -<--*   35c2190 (0.00024) sulfuric acid\n",
      "    | -<--*   9df3315 (  -0.14) molasses, from sugar beet\n",
      "    | =>=---: 2da61c7 (      0) molasses, from sugar beet\n",
      "    | -<--*   f52ddb6 ( 0.0013) soda ash, light, crystalline, heptahydrate\n",
      "    | -<--*   9a51f84 (-0.0066) wastewater, from residence\n",
      "    | -<--*   dc2f2ce (  0.038) transport, tractor and trailer, agricultural\n",
      "    | -<--*   6be046c (      0) ethanol fermentation plant\n",
      "    | -<--*   930ab12 (0.00035) chemical, organic\n",
      "    | -<--*   c37baad (  -0.77) sugar beet pulp\n",
      "    | -<--*   0edb7bc (    3.8) sugar beet\n",
      "    | -<--*   385a7dd ( 0.0095) coke\n",
      "    | -<--*   bdb984f (  0.063) electricity, medium voltage\n",
      "    | -<--*   51f480f (  -0.14) limestone residue\n"
     ]
    }
   ],
   "source": [
    "F.draw_fragment(frag)"
   ]
  },
  {
   "cell_type": "code",
   "execution_count": 11,
   "metadata": {
    "collapsed": false
   },
   "outputs": [
    {
     "name": "stdout",
     "output_type": "stream",
     "text": [
      "ethanol production from sugar beet molasses [RoW]\n",
      "Intermediate exchanges:\n",
      " Input:     [-0.0066 [m3]] wastewater, from residence [By-product classification: Waste] (#)\n",
      " Input:     [5.95e-11 [unit]] sugar refinery [By-product classification: allocatable product] (#)\n",
      " Input:     [0.00131 [kg]] soda ash, light, crystalline, heptahydrate (CAS 497-19-8) [By-product classification: allocatable product] (#)\n",
      " Input:     [0.564 [MJ]] heat, district or industrial, natural gas [By-product classification: allocatable product] (#)\n",
      " Input:     [0.063 [kWh]] electricity, medium voltage [By-product classification: allocatable product] (#)\n",
      " Input:     [0.000352 [kg]] chemical, organic [By-product classification: allocatable product] (#)\n",
      " Input:     [0.564 [MJ]] heat, district or industrial, natural gas [By-product classification: allocatable product] (#)\n",
      " Input:     [2.08 [kg]] tap water (CAS 7732-18-5) [By-product classification: allocatable product] (#)\n",
      " Input:     [0 [kg]] nitrogen fertiliser, as N [By-product classification: allocatable product] (#)\n",
      " Input:     [0.00952 [MJ]] coke [By-product classification: allocatable product] (#)\n",
      " Input:     [0 [kg]] vinasse, from fermentation of sugar beet molasses [By-product classification: Recyclable] (#)\n",
      " Input:     [0.000239 [kg]] sulfuric acid [By-product classification: allocatable product] (#)\n",
      " Input:     [0.0379 [metric ton*km]] transport, tractor and trailer, agricultural [By-product classification: allocatable product] (#)\n",
      " Input:     [-0.136 [kg]] molasses, from sugar beet [By-product classification: allocatable product] (#)\n",
      " Input:     [0.000507 [kg]] chemical, inorganic [By-product classification: allocatable product] (#)\n",
      " Input:     [-0.139 [kg]] limestone residue [By-product classification: Waste] (#)\n",
      " Input:     [0.063 [kWh]] electricity, medium voltage [By-product classification: allocatable product] (#)\n",
      " Input:     [2.08 [kg]] tap water (CAS 7732-18-5) [By-product classification: allocatable product] (#)\n",
      " Input:     [0 [kg]] ammonium sulfate, as N [By-product classification: allocatable product] (#)\n",
      " Input:     [0.11 [kg]] lime [By-product classification: allocatable product] (#)\n",
      " Input:     [3.79 [kg]] sugar beet [By-product classification: allocatable product] (#)\n",
      " Input:     [0 [unit]] ethanol fermentation plant [By-product classification: allocatable product] (#)\n",
      " Input:     [-0.773 [kg]] sugar beet pulp [By-product classification: allocatable product] (#)\n",
      "Output: {*} [1 [kg]] ethanol, without water, in 95% solution state, from fermentation (CAS 000064-17-5) [By-product classification: allocatable product]\n",
      "Output: {*} [0 [kg]] molasses, from sugar beet [By-product classification: allocatable product]\n"
     ]
    }
   ],
   "source": [
    "F.intermediate(frag.termination(None).term_node, ref_flow=frag.termination(None).term_flow)"
   ]
  },
  {
   "cell_type": "code",
   "execution_count": 12,
   "metadata": {
    "collapsed": true
   },
   "outputs": [],
   "source": [
    "proc = frag.termination().term_node.fg()"
   ]
  },
  {
   "cell_type": "code",
   "execution_count": 13,
   "metadata": {
    "collapsed": false
   },
   "outputs": [
    {
     "data": {
      "text/plain": [
       "[<lcatools.exchanges.Exchange at 0x7f707d257400>,\n",
       " <lcatools.exchanges.Exchange at 0x7f707d2579b0>]"
      ]
     },
     "execution_count": 13,
     "metadata": {},
     "output_type": "execute_result"
    }
   ],
   "source": [
    "refs = list(proc.reference_entity)\n",
    "refs"
   ]
  },
  {
   "cell_type": "code",
   "execution_count": 14,
   "metadata": {
    "collapsed": false
   },
   "outputs": [
    {
     "name": "stdout",
     "output_type": "stream",
     "text": [
      "Process Entity\n",
      "           Name: ethanol production from sugar beet molasses\n",
      "        Comment: [This dataset was already contained in the ecoinvent database version 2. It was not individually updated during the transfer to ecoinvent version 3. Life Cycle Impact Assessment results may still have changed, as they are affected by changes in the supply chain, i.e. in other datasets. This dataset was generated following the ecoinvent quality guidelines for version 2. It may have been subject to central changes described in the ecoinvent version 3 change report (http://www.ecoinvent.org/database/ecoinvent-version-3/reports-of-changes/), and the results of the central updates were reviewed extensively. The changes added e.g. consistent water flows and other information throughout the database. The documentation of this dataset can be found in the ecoinvent reports of version 2, which are still available via the ecoinvent website. The change report linked above covers all central changes that were made during the conversion process.]\n",
      "Classifications: ['EcoSpold01Categories: biomass/fuels', 'ISIC rev.4 ecoinvent: 19a: Liquid and gaseous fuels from biomass']\n",
      "  TemporalScope: {'end': '2015-12-31', 'begin': '1998-01-01'}\n",
      "   SpatialScope: RoW\n"
     ]
    }
   ],
   "source": [
    "proc.show()"
   ]
  },
  {
   "cell_type": "code",
   "execution_count": 15,
   "metadata": {
    "collapsed": false
   },
   "outputs": [
    {
     "data": {
      "text/plain": [
       "[' Input:     [0.247 [kg]] Carbon dioxide, in air (CAS 000124-38-9) [natural resource, in air]',\n",
       " 'Output:     [0.25 [kg]] Carbon dioxide, non-fossil (CAS 000124-38-9) [air, urban air close to ground]',\n",
       " 'Output:     [0.00142 [m3]] Water (CAS 007732-18-5) [air, unspecified]',\n",
       " ' Input:     [0 [kg]] ammonium sulfate, as N [By-product classification: allocatable product] (#)',\n",
       " ' Input:     [0.000507 [kg]] chemical, inorganic [By-product classification: allocatable product] (#)',\n",
       " ' Input:     [0.000352 [kg]] chemical, organic [By-product classification: allocatable product] (#)',\n",
       " ' Input:     [0.00952 [MJ]] coke [By-product classification: allocatable product] (#)',\n",
       " ' Input:     [0.063 [kWh]] electricity, medium voltage [By-product classification: allocatable product] (#)',\n",
       " ' Input:     [0.063 [kWh]] electricity, medium voltage [By-product classification: allocatable product] (#)',\n",
       " ' Input:     [0 [unit]] ethanol fermentation plant [By-product classification: allocatable product] (#)',\n",
       " 'Output: {*} [1 [kg]] ethanol, without water, in 95% solution state, from fermentation (CAS 000064-17-5) [By-product classification: allocatable product]',\n",
       " ' Input:     [0.564 [MJ]] heat, district or industrial, natural gas [By-product classification: allocatable product] (#)',\n",
       " ' Input:     [0.564 [MJ]] heat, district or industrial, natural gas [By-product classification: allocatable product] (#)',\n",
       " ' Input:     [0.11 [kg]] lime [By-product classification: allocatable product] (#)',\n",
       " ' Input:     [-0.139 [kg]] limestone residue [By-product classification: Waste] (#)',\n",
       " ' Input:     [-0.136 [kg]] molasses, from sugar beet [By-product classification: allocatable product] (#)',\n",
       " 'Output: {*} [0 [kg]] molasses, from sugar beet [By-product classification: allocatable product]',\n",
       " ' Input:     [0 [kg]] nitrogen fertiliser, as N [By-product classification: allocatable product] (#)',\n",
       " ' Input:     [0.00131 [kg]] soda ash, light, crystalline, heptahydrate (CAS 497-19-8) [By-product classification: allocatable product] (#)',\n",
       " ' Input:     [3.79 [kg]] sugar beet [By-product classification: allocatable product] (#)',\n",
       " ' Input:     [-0.773 [kg]] sugar beet pulp [By-product classification: allocatable product] (#)',\n",
       " ' Input:     [5.95e-11 [unit]] sugar refinery [By-product classification: allocatable product] (#)',\n",
       " ' Input:     [0.000239 [kg]] sulfuric acid [By-product classification: allocatable product] (#)',\n",
       " ' Input:     [2.08 [kg]] tap water (CAS 7732-18-5) [By-product classification: allocatable product] (#)',\n",
       " ' Input:     [2.08 [kg]] tap water (CAS 7732-18-5) [By-product classification: allocatable product] (#)',\n",
       " ' Input:     [0.0379 [metric ton*km]] transport, tractor and trailer, agricultural [By-product classification: allocatable product] (#)',\n",
       " ' Input:     [0 [kg]] vinasse, from fermentation of sugar beet molasses [By-product classification: Recyclable] (#)',\n",
       " ' Input:     [-0.0066 [m3]] wastewater, from residence [By-product classification: Waste] (#)']"
      ]
     },
     "execution_count": 15,
     "metadata": {},
     "output_type": "execute_result"
    }
   ],
   "source": [
    "[str(x) for x in sorted(proc.allocated_exchanges(refs[0]), key=lambda x: x.flow['Name'])]"
   ]
  },
  {
   "cell_type": "code",
   "execution_count": 16,
   "metadata": {
    "collapsed": false
   },
   "outputs": [
    {
     "data": {
      "text/plain": [
       "[1.0,\n",
       " 1.0,\n",
       " 1.0,\n",
       " 1.0,\n",
       " 1.0,\n",
       " 1.0,\n",
       " 1.0,\n",
       " 1.0,\n",
       " 1.0,\n",
       " 1.0,\n",
       " -1.0,\n",
       " 1.0,\n",
       " 1.0,\n",
       " -1.0,\n",
       " 1.0,\n",
       " 1.0,\n",
       " -1.0,\n",
       " 1.0,\n",
       " 1.0,\n",
       " 1.0,\n",
       " -1.0,\n",
       " 1.0,\n",
       " 1.0,\n",
       " 1.0,\n",
       " -1.0]"
      ]
     },
     "execution_count": 16,
     "metadata": {},
     "output_type": "execute_result"
    }
   ],
   "source": [
    "[f.term._cached_ev for f in F[0].fragments(show_all=True)]"
   ]
  },
  {
   "cell_type": "code",
   "execution_count": 17,
   "metadata": {
    "collapsed": false
   },
   "outputs": [
    {
     "name": "stdout",
     "output_type": "stream",
     "text": [
      "LcFragment - Name: tap water:\n",
      "LcFragment - Name: tap water:\n",
      "LcFragment - Name: nitrogen fertiliser, as N:\n",
      "LcFragment - Name: chemical, inorganic:\n",
      "LcFragment - Name: lime:\n",
      "LcFragment - Name: heat, district or industrial, natural gas:\n",
      "LcFragment - Name: sugar refinery:\n",
      "LcFragment - Name: heat, district or industrial, natural gas:\n",
      "LcFragment - Name: ammonium sulfate, as N:\n",
      "LcFragment - Name: vinasse, from fermentation of sugar beet molasses:\n",
      "LcFragment - Name: electricity, medium voltage:\n",
      "LcFragment - Name: sulfuric acid:\n",
      "LcFragment - Name: molasses, from sugar beet:\n",
      "LcFragment - Name: soda ash, light, crystalline, heptahydrate:\n",
      "LcFragment - Name: wastewater, from residence:\n",
      "LcFragment - Name: transport, tractor and trailer, agricultural:\n",
      "LcFragment - Name: ethanol fermentation plant:\n",
      "LcFragment - Name: chemical, organic:\n",
      "LcFragment - Name: sugar beet pulp:\n",
      "LcFragment - Name: sugar beet:\n",
      "LcFragment - Name: coke:\n",
      "LcFragment - Name: electricity, medium voltage:\n",
      "LcFragment - Name: limestone residue:\n"
     ]
    }
   ],
   "source": [
    "for f in F.child_flows(frag):\n",
    "    if f.direction == 'Input':\n",
    "        F.fragment_to_background(f)"
   ]
  },
  {
   "cell_type": "code",
   "execution_count": 18,
   "metadata": {
    "collapsed": false
   },
   "outputs": [
    {
     "name": "stdout",
     "output_type": "stream",
     "text": [
      "-<--*   cdcda3c (      1) ethanol production from sugar beet molasses [RoW]\n",
      "    | -<--B   4e35101 (    2.1) tap water\n",
      "    | -<--B   649226f (    2.1) tap water\n",
      "    | -<--B   5b5298f (      0) nitrogen fertiliser, as N\n",
      "    | -<--B   70c9500 (0.00051) chemical, inorganic\n",
      "    | -<--B   201b20d (   0.11) lime\n",
      "    | -<--B   2e3f23e (   0.56) heat, district or industrial, natural gas\n",
      "    | -<--B   d9acb4f (5.9e-11) sugar refinery\n",
      "    | -<--B   1116432 (   0.56) heat, district or industrial, natural gas\n",
      "    | -<--B   29a2f44 (      0) ammonium sulfate, as N\n",
      "    | -<--B   ea16c42 (      0) vinasse, from fermentation of sugar beet molasses\n",
      "    | -<--B   286feba (  0.063) electricity, medium voltage\n",
      "    | -<--B   35c2190 (0.00024) sulfuric acid\n",
      "    | -<--B   9df3315 (  -0.14) molasses, from sugar beet\n",
      "    | =>=---: 2da61c7 (      0) molasses, from sugar beet\n",
      "    | -<--B   f52ddb6 ( 0.0013) soda ash, light, crystalline, heptahydrate\n",
      "    | -<--B   9a51f84 (-0.0066) wastewater, from residence\n",
      "    | -<--B   dc2f2ce (  0.038) transport, tractor and trailer, agricultural\n",
      "    | -<--B   6be046c (      0) ethanol fermentation plant\n",
      "    | -<--B   930ab12 (0.00035) chemical, organic\n",
      "    | -<--B   c37baad (  -0.77) sugar beet pulp\n",
      "    | -<--B   0edb7bc (    3.8) sugar beet\n",
      "    | -<--B   385a7dd ( 0.0095) coke\n",
      "    | -<--B   bdb984f (  0.063) electricity, medium voltage\n",
      "    | -<--B   51f480f (  -0.14) limestone residue\n"
     ]
    }
   ],
   "source": [
    "F.draw_fragment(frag)"
   ]
  },
  {
   "cell_type": "code",
   "execution_count": 19,
   "metadata": {
    "collapsed": false
   },
   "outputs": [
    {
     "data": {
      "text/plain": [
       "['(cdcda3c) -<- 4e35101 -<- -B    tap water',\n",
       " '( ** ref) -<- cdcda3c -<- -*    ethanol, without water, in 95% solution state, from fermentation',\n",
       " '( ** ref) -<- 02dbca0 -<- -*    soda ash, light, crystalline, heptahydrate',\n",
       " '(cdcda3c) -<- 649226f -<- -B    tap water',\n",
       " '(cdcda3c) -<- 5b5298f -<- -B    nitrogen fertiliser, as N',\n",
       " '(cdcda3c) -<- 70c9500 -<- -B    chemical, inorganic',\n",
       " '( ** ref) -<- 5468f06 -<- -*    coke',\n",
       " '( ** ref) -<- b321e5c -<- -*    wastewater, from residence',\n",
       " '( ** ref) -<- ac94a2c -<- -*    limestone residue',\n",
       " '( ** ref) -<- a310496 -<- -*    chemical, organic',\n",
       " '( ** ref) -<- dc43c8c -<- -*    sulfuric acid',\n",
       " '(cdcda3c) -<- 201b20d -<- -B    lime',\n",
       " '( ** ref) -<- a1e9ff5 -<- -*    heat, district or industrial, natural gas',\n",
       " '( ** ref) -<- d5ccc89 -<- -*    heat, district or industrial, natural gas',\n",
       " '(cdcda3c) -<- 2e3f23e -<- -B    heat, district or industrial, natural gas',\n",
       " '( ** ref) -<- e8aa6ba -<- -*    transport, tractor and trailer, agricultural',\n",
       " '(cdcda3c) -<- d9acb4f -<- -B    sugar refinery',\n",
       " '(cdcda3c) -<- 1116432 -<- -B    heat, district or industrial, natural gas',\n",
       " '( ** ref) -<- b9df3c3 -<- -*    molasses, from sugar beet',\n",
       " '(cdcda3c) -<- 29a2f44 -<- -B    ammonium sulfate, as N',\n",
       " '(cdcda3c) -<- ea16c42 -<- -B    vinasse, from fermentation of sugar beet molasses',\n",
       " '( ** ref) -<- 09b086d -<- -*    chemical, inorganic',\n",
       " '(cdcda3c) -<- 286feba -<- -B    electricity, medium voltage',\n",
       " '(cdcda3c) -<- 35c2190 -<- -B    sulfuric acid',\n",
       " '(cdcda3c) -<- 9df3315 -<- -B    molasses, from sugar beet',\n",
       " '(cdcda3c) =>= 2da61c7 =>= ---:  molasses, from sugar beet',\n",
       " '( ** ref) -<- b109a7b -<- -*    vinasse, from fermentation of sugar beet molasses',\n",
       " '(cdcda3c) -<- f52ddb6 -<- -B    soda ash, light, crystalline, heptahydrate',\n",
       " '( ** ref) -<- 363b5a8 -<- -*    sugar refinery',\n",
       " '(cdcda3c) -<- 9a51f84 -<- -B    wastewater, from residence',\n",
       " '( ** ref) -<- 73de324 -<- -*    tap water',\n",
       " '( ** ref) -<- 7b8bd82 -<- -*    electricity, medium voltage',\n",
       " '( ** ref) -<- 4323ae0 -<- -*    sugar beet pulp',\n",
       " '( ** ref) -<- d31b4da -<- -*    ethanol fermentation plant',\n",
       " '( ** ref) -<- f8b577d -<- -*    tap water',\n",
       " '( ** ref) -<- 78a401c -<- -*    nitrogen fertiliser, as N',\n",
       " '(cdcda3c) -<- dc2f2ce -<- -B    transport, tractor and trailer, agricultural',\n",
       " '( ** ref) -<- f48f38c -<- -*    ammonium sulfate, as N',\n",
       " '(cdcda3c) -<- 6be046c -<- -B    ethanol fermentation plant',\n",
       " '(cdcda3c) -<- 930ab12 -<- -B    chemical, organic',\n",
       " '( ** ref) -<- 57e8ac6 -<- -*    sugar beet',\n",
       " '(cdcda3c) -<- c37baad -<- -B    sugar beet pulp',\n",
       " '(cdcda3c) -<- 0edb7bc -<- -B    sugar beet',\n",
       " '(cdcda3c) -<- 385a7dd -<- -B    coke',\n",
       " '( ** ref) -<- 330892c -<- -*    electricity, medium voltage',\n",
       " '( ** ref) -<- a940522 -<- -*    lime',\n",
       " '(cdcda3c) -<- bdb984f -<- -B    electricity, medium voltage',\n",
       " '(cdcda3c) -<- 51f480f -<- -B    limestone residue']"
      ]
     },
     "execution_count": 19,
     "metadata": {},
     "output_type": "execute_result"
    }
   ],
   "source": [
    "[str(f) for f in F[0].fragments(show_all=True)]"
   ]
  },
  {
   "cell_type": "code",
   "execution_count": 21,
   "metadata": {
    "collapsed": false
   },
   "outputs": [],
   "source": [
    "F.compute_unit_scores()"
   ]
  },
  {
   "cell_type": "code",
   "execution_count": 22,
   "metadata": {
    "collapsed": false
   },
   "outputs": [],
   "source": [
    "l_methods = [q for q in F[0].lcia_methods()]"
   ]
  },
  {
   "cell_type": "code",
   "execution_count": 23,
   "metadata": {
    "collapsed": false
   },
   "outputs": [
    {
     "name": "stdout",
     "output_type": "stream",
     "text": [
      "CPU times: user 0 ns, sys: 0 ns, total: 0 ns\n",
      "Wall time: 1.85 ms\n"
     ]
    }
   ],
   "source": [
    "%time ffs = F.traverse(frag)\n"
   ]
  },
  {
   "cell_type": "code",
   "execution_count": 24,
   "metadata": {
    "collapsed": false
   },
   "outputs": [
    {
     "data": {
      "text/plain": [
       "[<lcatools.foreground.fragment_flows.FragmentFlow at 0x7f707d240470>,\n",
       " <lcatools.foreground.fragment_flows.FragmentFlow at 0x7f707d240588>,\n",
       " <lcatools.foreground.fragment_flows.FragmentFlow at 0x7f707d2405c0>,\n",
       " <lcatools.foreground.fragment_flows.FragmentFlow at 0x7f707d2405f8>,\n",
       " <lcatools.foreground.fragment_flows.FragmentFlow at 0x7f707d240630>,\n",
       " <lcatools.foreground.fragment_flows.FragmentFlow at 0x7f707d240668>,\n",
       " <lcatools.foreground.fragment_flows.FragmentFlow at 0x7f707d2406a0>,\n",
       " <lcatools.foreground.fragment_flows.FragmentFlow at 0x7f707d2406d8>,\n",
       " <lcatools.foreground.fragment_flows.FragmentFlow at 0x7f707d240710>,\n",
       " <lcatools.foreground.fragment_flows.FragmentFlow at 0x7f707d240748>,\n",
       " <lcatools.foreground.fragment_flows.FragmentFlow at 0x7f707d240780>,\n",
       " <lcatools.foreground.fragment_flows.FragmentFlow at 0x7f707d2407b8>,\n",
       " <lcatools.foreground.fragment_flows.FragmentFlow at 0x7f707d2407f0>,\n",
       " <lcatools.foreground.fragment_flows.FragmentFlow at 0x7f707d240828>,\n",
       " <lcatools.foreground.fragment_flows.FragmentFlow at 0x7f707d240550>,\n",
       " <lcatools.foreground.fragment_flows.FragmentFlow at 0x7f707d240898>,\n",
       " <lcatools.foreground.fragment_flows.FragmentFlow at 0x7f707d2408d0>,\n",
       " <lcatools.foreground.fragment_flows.FragmentFlow at 0x7f707d240908>,\n",
       " <lcatools.foreground.fragment_flows.FragmentFlow at 0x7f707d240940>,\n",
       " <lcatools.foreground.fragment_flows.FragmentFlow at 0x7f707d240978>,\n",
       " <lcatools.foreground.fragment_flows.FragmentFlow at 0x7f707d2409b0>,\n",
       " <lcatools.foreground.fragment_flows.FragmentFlow at 0x7f707d2409e8>,\n",
       " <lcatools.foreground.fragment_flows.FragmentFlow at 0x7f707d240a20>,\n",
       " <lcatools.foreground.fragment_flows.FragmentFlow at 0x7f707d240a58>,\n",
       " <lcatools.foreground.fragment_flows.FragmentFlow at 0x7f707d240a90>]"
      ]
     },
     "execution_count": 24,
     "metadata": {},
     "output_type": "execute_result"
    }
   ],
   "source": [
    "ffs"
   ]
  },
  {
   "cell_type": "code",
   "execution_count": 25,
   "metadata": {
    "collapsed": false
   },
   "outputs": [],
   "source": [
    "w = [i for i in ffs if i.fragment.flow['Name'] == 'tap water']"
   ]
  },
  {
   "cell_type": "code",
   "execution_count": 28,
   "metadata": {
    "collapsed": false
   },
   "outputs": [
    {
     "data": {
      "text/plain": [
       "'73de324       2.08 [ Input] -#  tap water'"
      ]
     },
     "execution_count": 28,
     "metadata": {},
     "output_type": "execute_result"
    }
   ],
   "source": [
    "str(w[0])"
   ]
  },
  {
   "cell_type": "code",
   "execution_count": 30,
   "metadata": {
    "collapsed": true
   },
   "outputs": [],
   "source": [
    "lcia_methods = (q for q in F[0].lcia_methods())"
   ]
  },
  {
   "cell_type": "code",
   "execution_count": 46,
   "metadata": {
    "collapsed": false
   },
   "outputs": [
    {
     "data": {
      "text/plain": [
       "'ReCiPe Midpoint (I), urban land occupation, ULOP [LCIA]'"
      ]
     },
     "execution_count": 46,
     "metadata": {},
     "output_type": "execute_result"
    }
   ],
   "source": [
    "quantity = next(lcia_methods)\n",
    "str(quantity)"
   ]
  },
  {
   "cell_type": "code",
   "execution_count": 47,
   "metadata": {
    "collapsed": false
   },
   "outputs": [
    {
     "name": "stdout",
     "output_type": "stream",
     "text": [
      "ReCiPe Midpoint (I), urban land occupation, ULOP [LCIA]\n",
      "         1 x          0 =          0 ethanol production from sugar beet molasses [RoW]\n",
      "      2.08 x   3.59e-06 =   7.49e-06 tap water\n",
      "      2.08 x   5.44e-06 =   1.13e-05 tap water\n",
      "         0 x       0.11 =          0 nitrogen fertiliser, as N\n",
      "  0.000507 x     0.0436 =   2.21e-05 chemical, inorganic\n",
      "      0.11 x    0.00046 =   5.06e-05 lime\n",
      "     0.564 x   2.33e-05 =   1.31e-05 heat, district or industrial, natural gas\n",
      "  5.95e-11 x   2.44e+06 =   0.000145 sugar refinery\n",
      "     0.564 x   3.21e-05 =   1.81e-05 heat, district or industrial, natural gas\n",
      "         0 x     0.0184 =          0 ammonium sulfate, as N\n",
      "        -0 x   4.63e-05 =         -0 vinasse, from fermentation of sugar beet molasses\n",
      "     0.063 x    0.00454 =   0.000286 electricity, medium voltage\n",
      "  0.000239 x    0.00508 =   1.21e-06 sulfuric acid\n",
      "     0.136 x   0.000187 =   2.55e-05 molasses, from sugar beet\n",
      "skipping this one: molasses, from sugar beet\n",
      "   0.00131 x    0.00993 =    1.3e-05 soda ash, light, crystalline, heptahydrate\n",
      "    0.0066 x    0.00979 =   6.46e-05 wastewater, from residence\n",
      "    0.0379 x    0.00995 =   0.000377 transport, tractor and trailer, agricultural\n",
      "         0 x   1.06e+06 =          0 ethanol fermentation plant\n",
      "  0.000352 x    0.00957 =   3.37e-06 chemical, organic\n",
      "     0.773 x          0 =          0 sugar beet pulp\n",
      "      3.79 x   0.000439 =    0.00166 sugar beet\n",
      "   0.00952 x   0.000693 =    6.6e-06 coke\n",
      "     0.063 x    0.00167 =   0.000105 electricity, medium voltage\n",
      "     0.139 x    0.00102 =   0.000142 limestone residue\n",
      "Total: 0.00295553\n"
     ]
    }
   ],
   "source": [
    "\n",
    "total = 0.0\n",
    "print('%s' % quantity)\n",
    "skips = []\n",
    "for i in ffs:\n",
    "    mag = i.node_weight\n",
    "    scr = i.term.score_cache(quantity)\n",
    "    if scr is None:\n",
    "        print('skipping this one: %s' % i.fragment['Name'])\n",
    "        skips.append(i)\n",
    "        continue\n",
    "    cont = mag * scr.total()\n",
    "    #if i.fragment.direction == i.term.direction:\n",
    "    #    cont *= -1\n",
    "    print('%10.3g x %10.3g = %10.3g %s' % (mag, scr.total(), cont, i.fragment['Name']))\n",
    "    total += cont\n",
    "print('Total: %10.6g' % total)"
   ]
  },
  {
   "cell_type": "code",
   "execution_count": 48,
   "metadata": {
    "collapsed": false
   },
   "outputs": [
    {
     "name": "stdout",
     "output_type": "stream",
     "text": [
      "Loading LCIA results from f01eb904-d7e7-4633-b1a7-be54f33daa96_ffcb8cbb-77ab-4f87-8a94-87ca5b8ea79e.spold\n",
      "ReCiPe Midpoint (I), urban land occupation, ULOP [LCIA] m2a\n",
      "------------------------------------------------------------\n",
      "         1 x    0.00296 =    0.00296 [RoW] ethanol, without water, in 95% solution state, from fermentation (CAS 000064-17-5) [By-product classification: allocatable product]\n",
      "============================================================\n",
      "             Total score: 0.00295553 \n",
      "   0.00296 ReCiPe Midpoint (I), urban land occupation, ULOP [LCIA]\n"
     ]
    }
   ],
   "source": [
    "F.bg_lcia(frag.term.term_node, [quantity], ref_flow=frag.term.term_flow, )[quantity.get_uuid()].show_details()"
   ]
  },
  {
   "cell_type": "code",
   "execution_count": 29,
   "metadata": {
    "collapsed": false
   },
   "outputs": [
    {
     "data": {
      "text/plain": [
       "0.015231301"
      ]
     },
     "execution_count": 29,
     "metadata": {},
     "output_type": "execute_result"
    }
   ],
   "source": [
    "ffs[9].term.score_cache(F[0]['276da1bd-49d4-35d0-a24b-391882cb611b']).total()"
   ]
  },
  {
   "cell_type": "code",
   "execution_count": 50,
   "metadata": {
    "collapsed": false
   },
   "outputs": [
    {
     "name": "stdout",
     "output_type": "stream",
     "text": [
      "ethanol production from sugar beet molasses [RoW]\n",
      "This process has multiple allocations. Select reference flow:\n",
      "\n",
      "Choice Item\n",
      "====== ======================================================================\n",
      " [0]   ethanol, without water, in 95% solution state, from fermentation\n",
      " [1]   molasses, from sugar beet\n",
      "------ ----------------------------------------------------------------------\n",
      "Enter choice (or \"None\"): 1\n",
      "picked molasses, from sugar beet [By-product classification: allocatable product]\n",
      "Elementary exchanges:\n",
      " Input:     [0.161 [kg]] Carbon dioxide, in air (CAS 000124-38-9) [natural resource, in air]\n",
      "Output:     [0.411 [kg]] Carbon dioxide, non-fossil (CAS 000124-38-9) [air, urban air close to ground]\n",
      "Output:     [0.000103 [m3]] Water (CAS 007732-18-5) [air, unspecified]\n"
     ]
    }
   ],
   "source": [
    "F.elementary(frag.termination(None).term_node)"
   ]
  },
  {
   "cell_type": "code",
   "execution_count": 48,
   "metadata": {
    "collapsed": false
   },
   "outputs": [
    {
     "name": "stdout",
     "output_type": "stream",
     "text": [
      "ethanol production from sugar beet molasses [RoW]\n",
      "ethanol production from sugar beet molasses [RoW] has Output: ethanol, without water, in 95% solution state, from fermentation (CAS 000064-17-5) [Intermediate flow] [kg]\n",
      "ethanol production from sugar beet molasses [RoW] has Output: molasses, from sugar beet [Intermediate flow] [kg]\n"
     ]
    }
   ],
   "source": [
    "frag.termination(None).term_node.entity().inventory()"
   ]
  },
  {
   "cell_type": "code",
   "execution_count": 23,
   "metadata": {
    "collapsed": false
   },
   "outputs": [
    {
     "ename": "NameError",
     "evalue": "name 'quantity' is not defined",
     "output_type": "error",
     "traceback": [
      "\u001b[1;31m---------------------------------------------------------------------------\u001b[0m",
      "\u001b[1;31mNameError\u001b[0m                                 Traceback (most recent call last)",
      "\u001b[1;32m<ipython-input-23-7f8674304105>\u001b[0m in \u001b[0;36m<module>\u001b[1;34m()\u001b[0m\n\u001b[1;32m----> 1\u001b[1;33m \u001b[0mfrag\u001b[0m\u001b[1;33m.\u001b[0m\u001b[0mtermination\u001b[0m\u001b[1;33m(\u001b[0m\u001b[1;32mNone\u001b[0m\u001b[1;33m)\u001b[0m\u001b[1;33m.\u001b[0m\u001b[0mscore_cache\u001b[0m\u001b[1;33m(\u001b[0m\u001b[0mquantity\u001b[0m\u001b[1;33m)\u001b[0m\u001b[1;33m.\u001b[0m\u001b[0mshow_details\u001b[0m\u001b[1;33m(\u001b[0m\u001b[1;33m)\u001b[0m\u001b[1;33m\u001b[0m\u001b[0m\n\u001b[0m",
      "\u001b[1;31mNameError\u001b[0m: name 'quantity' is not defined"
     ]
    }
   ],
   "source": [
    "frag.termination(None).score_cache(quantity).show_details()"
   ]
  },
  {
   "cell_type": "code",
   "execution_count": 51,
   "metadata": {
    "collapsed": false
   },
   "outputs": [
    {
     "name": "stdout",
     "output_type": "stream",
     "text": [
      "-<--*  eb54e0e (      1) ethanol production from sugar beet molasses [RoW]\n",
      "    | -<--B  9f43817 (  -0.14) limestone residue\n",
      "    | -<--B  c8e5a5b (   0.56) heat, district or industrial, natural gas\n",
      "    | -<--B  379226c (0.00024) sulfuric acid\n",
      "    | -<--B  472b61d (  0.063) electricity, medium voltage\n",
      "    | -<--B  a0327e3 (    2.1) tap water\n",
      "    | -<--B  000ffa3 (0.00051) chemical, inorganic\n",
      "    | -<--B  a368ced (  0.038) transport, tractor and trailer, agricultural\n",
      "    | -<--B  22c32a2 (   0.56) heat, district or industrial, natural gas\n",
      "    | -<--B  856eab7 (   0.11) lime\n",
      "    | -<--B  cdb5a6f (  -0.77) sugar beet pulp\n",
      "    | -<--B  5d73f2b (    3.8) sugar beet\n",
      "    | -<--B  a2cc982 (      0) vinasse, from fermentation of sugar beet molasses\n",
      "    | -<--B  8d3ea64 (  -0.14) molasses, from sugar beet\n",
      "    | -<--B  27bc6e0 (      0) nitrogen fertiliser, as N\n",
      "    | -<--B  dd4af18 (-0.0066) wastewater, from residence\n",
      "    | -<--B  78e2358 ( 0.0095) coke\n",
      "    | =>=-B  827171d (      0) molasses, from sugar beet\n",
      "    | -<--B  e18c7ab ( 0.0013) soda ash, light, crystalline, heptahydrate\n",
      "    | -<--B  abccd93 (0.00035) chemical, organic\n",
      "    | -<--B  bc807dc (      0) ethanol fermentation plant\n",
      "    | -<--B  8303091 (5.9e-11) sugar refinery\n",
      "    | -<--B  9916358 (    2.1) tap water\n",
      "    | -<--B  a4bfa29 (  0.063) electricity, medium voltage\n",
      "    | -<--B  ec35f1f (      0) ammonium sulfate, as N\n"
     ]
    }
   ],
   "source": [
    "F.draw_fragment(frag)"
   ]
  },
  {
   "cell_type": "code",
   "execution_count": 82,
   "metadata": {
    "collapsed": false
   },
   "outputs": [
    {
     "data": {
      "text/plain": [
       "[' 0.0003016', '  0.006204', ' 0.0019278']"
      ]
     },
     "execution_count": 82,
     "metadata": {},
     "output_type": "execute_result"
    }
   ],
   "source": [
    "['%10.5g' % (f[0] * f[1]) for f in ([.000145, 2.08], [.0110, .564], [.0306, .063])]"
   ]
  },
  {
   "cell_type": "code",
   "execution_count": 85,
   "metadata": {
    "collapsed": false
   },
   "outputs": [
    {
     "data": {
      "text/plain": [
       "'CH'"
      ]
     },
     "execution_count": 85,
     "metadata": {},
     "output_type": "execute_result"
    }
   ],
   "source": [
    "F.frag('22c3').termination(None).term_node['SpatialScope']"
   ]
  },
  {
   "cell_type": "code",
   "execution_count": 88,
   "metadata": {
    "collapsed": false
   },
   "outputs": [
    {
     "data": {
      "text/plain": [
       "['Output: {*} [1 [MJ]] heat, district or industrial, natural gas [By-product classification: allocatable product]']"
      ]
     },
     "execution_count": 88,
     "metadata": {},
     "output_type": "execute_result"
    }
   ],
   "source": [
    "[str(x) for x in F.frag('22c3').termination().term_node.bg()._exchanges]"
   ]
  },
  {
   "cell_type": "code",
   "execution_count": 54,
   "metadata": {
    "collapsed": false
   },
   "outputs": [
    {
     "data": {
      "text/plain": [
       "['22c3', '9916', 'a4bf']"
      ]
     },
     "execution_count": 54,
     "metadata": {},
     "output_type": "execute_result"
    }
   ],
   "source": [
    "[s.fragment.get_uuid()[:4] for s in skips]"
   ]
  },
  {
   "cell_type": "code",
   "execution_count": 50,
   "metadata": {
    "collapsed": false
   },
   "outputs": [
    {
     "data": {
      "text/plain": [
       "{'_cached_ev': 1.0,\n",
       " '_descend': True,\n",
       " '_flow_conversion': 1.0,\n",
       " '_parent': <lcatools.foreground.fragment_flows.LcFragment at 0x7fd6398f3518>,\n",
       " '_process_ref': <lcatools.catalog.CatalogRef at 0x7fd6398f3550>,\n",
       " '_score_cache': {},\n",
       " 'direction': 'Output',\n",
       " 'term_flow': <lcatools.entities.LcFlow at 0x7fd6398e5588>}"
      ]
     },
     "execution_count": 50,
     "metadata": {},
     "output_type": "execute_result"
    }
   ],
   "source": [
    "skips[0].term.__dict__"
   ]
  },
  {
   "cell_type": "code",
   "execution_count": 72,
   "metadata": {
    "collapsed": false
   },
   "outputs": [
    {
     "name": "stdout",
     "output_type": "stream",
     "text": [
      "ReCiPe Midpoint (I), fossil depletion, FDP [LCIA]\n",
      "Loading LCIA results from f01eb904-d7e7-4633-b1a7-be54f33daa96_ffcb8cbb-77ab-4f87-8a94-87ca5b8ea79e.spold\n",
      "result:   0.064554\n"
     ]
    }
   ],
   "source": [
    "print('%s' % quantity)\n",
    "r = F.bg_lcia(frag.termination(None).term_node, [quantity], ref_flow=frag.termination(None).term_flow)\n",
    "print('result: %10.5g' % r[quantity.get_uuid()].total())"
   ]
  },
  {
   "cell_type": "code",
   "execution_count": 41,
   "metadata": {
    "collapsed": false
   },
   "outputs": [
    {
     "name": "stdout",
     "output_type": "stream",
     "text": [
      "ReCiPe Midpoint (I), fossil depletion, FDP [LCIA] kg oil-Eq\n",
      "------------------------------------------------------------\n",
      "         1 x     0.0646 =     0.0646 [RoW] ethanol, without water, in 95% solution state, from fermentation (CAS 000064-17-5) [By-product classification: allocatable product]\n",
      "============================================================\n",
      "             Total score: 0.0645541 \n",
      "    0.0646 ReCiPe Midpoint (I), fossil depletion, FDP [LCIA]\n"
     ]
    }
   ],
   "source": [
    "r[quantity.get_uuid()].show_details()"
   ]
  },
  {
   "cell_type": "code",
   "execution_count": 43,
   "metadata": {
    "collapsed": false
   },
   "outputs": [],
   "source": [
    "term = frag.termination(None)"
   ]
  },
  {
   "cell_type": "code",
   "execution_count": 44,
   "metadata": {
    "collapsed": false,
    "scrolled": true
   },
   "outputs": [
    {
     "name": "stdout",
     "output_type": "stream",
     "text": [
      "ethanol production from sugar beet molasses [RoW]\n",
      "Intermediate exchanges:\n",
      " Input:     [0.00952 [MJ]] coke [By-product classification: allocatable product] (#)\n",
      " Input:     [0.564 [MJ]] heat, district or industrial, natural gas [By-product classification: allocatable product] (#)\n",
      " Input:     [-0.0066 [m3]] wastewater, from residence [By-product classification: Waste] (#)\n",
      " Input:     [-0.136 [kg]] molasses, from sugar beet [By-product classification: allocatable product] (#)\n",
      " Input:     [0 [unit]] ethanol fermentation plant [By-product classification: allocatable product] (#)\n",
      " Input:     [-0.773 [kg]] sugar beet pulp [By-product classification: allocatable product] (#)\n",
      " Input:     [0.00131 [kg]] soda ash, light, crystalline, heptahydrate (CAS 497-19-8) [By-product classification: allocatable product] (#)\n",
      " Input:     [0.063 [kWh]] electricity, medium voltage [By-product classification: allocatable product] (#)\n",
      " Input:     [0.000507 [kg]] chemical, inorganic [By-product classification: allocatable product] (#)\n",
      " Input:     [5.95e-11 [unit]] sugar refinery [By-product classification: allocatable product] (#)\n",
      " Input:     [0 [kg]] vinasse, from fermentation of sugar beet molasses [By-product classification: Recyclable] (#)\n",
      " Input:     [-0.139 [kg]] limestone residue [By-product classification: Waste] (#)\n",
      " Input:     [0 [kg]] nitrogen fertiliser, as N [By-product classification: allocatable product] (#)\n",
      " Input:     [2.08 [kg]] tap water (CAS 7732-18-5) [By-product classification: allocatable product] (#)\n",
      " Input:     [0.11 [kg]] lime [By-product classification: allocatable product] (#)\n",
      " Input:     [0.0379 [metric ton*km]] transport, tractor and trailer, agricultural [By-product classification: allocatable product] (#)\n",
      " Input:     [0 [kg]] ammonium sulfate, as N [By-product classification: allocatable product] (#)\n",
      " Input:     [0.000352 [kg]] chemical, organic [By-product classification: allocatable product] (#)\n",
      " Input:     [0.564 [MJ]] heat, district or industrial, natural gas [By-product classification: allocatable product] (#)\n",
      " Input:     [3.79 [kg]] sugar beet [By-product classification: allocatable product] (#)\n",
      " Input:     [2.08 [kg]] tap water (CAS 7732-18-5) [By-product classification: allocatable product] (#)\n",
      " Input:     [0.063 [kWh]] electricity, medium voltage [By-product classification: allocatable product] (#)\n",
      " Input:     [0.000239 [kg]] sulfuric acid [By-product classification: allocatable product] (#)\n",
      "Output: {*} [1 [kg]] ethanol, without water, in 95% solution state, from fermentation (CAS 000064-17-5) [By-product classification: allocatable product]\n",
      "Output: {*} [0 [kg]] molasses, from sugar beet [By-product classification: allocatable product]\n"
     ]
    }
   ],
   "source": [
    "F.intermediate(term.term_node, ref_flow=term.term_flow)"
   ]
  },
  {
   "cell_type": "code",
   "execution_count": 19,
   "metadata": {
    "collapsed": false
   },
   "outputs": [
    {
     "data": {
      "text/plain": [
       "'/home/b/Dropbox/data/Ecoinvent/3.2/activity_overview_for_users_3.2_undefined.xlsx'"
      ]
     },
     "execution_count": 19,
     "metadata": {},
     "output_type": "execute_result"
    }
   ],
   "source": [
    "term.term_flow.origin"
   ]
  },
  {
   "cell_type": "code",
   "execution_count": 25,
   "metadata": {
    "collapsed": false
   },
   "outputs": [
    {
     "data": {
      "text/plain": [
       "{'direction': 'Output',\n",
       " 'flow': <lcatools.entities.LcFlow at 0x7f2017ca8860>,\n",
       " 'process': <lcatools.entities.LcProcess at 0x7f2017096278>,\n",
       " 'termination': None,\n",
       " 'unit': <lcatools.entities.LcUnit at 0x7f2017fe48d0>,\n",
       " 'value': None}"
      ]
     },
     "execution_count": 25,
     "metadata": {},
     "output_type": "execute_result"
    }
   ],
   "source": [
    "term._process_ref.entity().exchange(term.term_flow).__dict__"
   ]
  },
  {
   "cell_type": "code",
   "execution_count": 26,
   "metadata": {
    "collapsed": false
   },
   "outputs": [
    {
     "name": "stdout",
     "output_type": "stream",
     "text": [
      "ethanol production from sugar beet molasses [RoW]\n",
      "ethanol production from sugar beet molasses [RoW] has Output: molasses, from sugar beet [Intermediate flow] [kg]\n",
      "ethanol production from sugar beet molasses [RoW] has Output: ethanol, without water, in 95% solution state, from fermentation (CAS 000064-17-5) [Intermediate flow] [kg]\n"
     ]
    }
   ],
   "source": [
    "term._process_ref.entity().inventory()"
   ]
  },
  {
   "cell_type": "code",
   "execution_count": 17,
   "metadata": {
    "collapsed": false
   },
   "outputs": [
    {
     "name": "stdout",
     "output_type": "stream",
     "text": [
      "Loading LCIA results from a6b03ed3-532c-43c8-abd6-c8242eb18d05_1125e767-7b5d-442e-81d6-9b0d3e1919ac.spold\n"
     ]
    }
   ],
   "source": [
    "F.compute_fragment_unit_scores(bg)"
   ]
  },
  {
   "cell_type": "code",
   "execution_count": 16,
   "metadata": {
    "collapsed": false
   },
   "outputs": [
    {
     "data": {
      "text/plain": [
       "True"
      ]
     },
     "execution_count": 16,
     "metadata": {},
     "output_type": "execute_result"
    }
   ],
   "source": [
    "F.frag('d92d').termination(None).is_null"
   ]
  },
  {
   "cell_type": "code",
   "execution_count": 29,
   "metadata": {
    "collapsed": false
   },
   "outputs": [
    {
     "name": "stdout",
     "output_type": "stream",
     "text": [
      "\n",
      "Currently loaded archives: \n",
      "X [ 0] FG     : ForegroundArchive with 89 entities at .\n",
      "X [ 2] LCIA   : IlcdLcia with 1310 entities at /home/b/Dropbox/data/ELCD/ELCD3.2.zip\n",
      "X [ 3] EI-LCIA: EcoinventLcia with 3965 entities at /data/LCI/LCIA implementation v3.1 2014_08_13.xlsx\n",
      "X [ 5] EI_A   : EcoinventSpreadsheet with 18905 entities at /home/b/Dropbox/data/Ecoinvent/3.2/activity_overview_for_users_3.2_apos.xlsx\n"
     ]
    }
   ],
   "source": [
    "F.show()"
   ]
  },
  {
   "cell_type": "code",
   "execution_count": 11,
   "metadata": {
    "collapsed": true
   },
   "outputs": [],
   "source": [
    "term = frag.termination(None)"
   ]
  },
  {
   "cell_type": "code",
   "execution_count": 12,
   "metadata": {
    "collapsed": false
   },
   "outputs": [
    {
     "data": {
      "text/plain": [
       "{'_characterizations': {'a6f890e7-2633-39da-8e99-e39791096af6': <lcatools.characterizations.Characterization at 0x7fb6b5e688d0>},\n",
       " '_d': {'CasNumber': '000064-17-5',\n",
       "  'Comment': '',\n",
       "  'Compartment': ['Intermediate flow'],\n",
       "  'Name': 'ethanol, without water, in 95% solution state, from fermentation',\n",
       "  'Synonyms': ''},\n",
       " '_external_ref': 'ethanol, without water, in 95% solution state, from fermentation',\n",
       " '_origin': '/home/b/Dropbox/data/Ecoinvent/3.2/activity_overview_for_users_3.2_undefined.xlsx',\n",
       " '_ref_quantity_factor': 1.0,\n",
       " '_scenarios': {},\n",
       " '_uuid': UUID('bdd926e7-9b82-3772-b28e-fbdac81bd1a9'),\n",
       " 'entity_type': 'flow',\n",
       " 'reference_entity': <lcatools.entities.LcQuantity at 0x7fb6b61a4978>}"
      ]
     },
     "execution_count": 12,
     "metadata": {},
     "output_type": "execute_result"
    }
   ],
   "source": [
    "term.term_flow.__dict__"
   ]
  },
  {
   "cell_type": "code",
   "execution_count": null,
   "metadata": {
    "collapsed": true
   },
   "outputs": [],
   "source": [
    "print('%s' % term.term_flow)\n",
    "for x in F._filter_exch(term.term_node, elem=False, ref_flow=term.term_flow):\n",
    "    print('%s' % x)\n",
    "    "
   ]
  },
  {
   "cell_type": "code",
   "execution_count": 22,
   "metadata": {
    "collapsed": false
   },
   "outputs": [
    {
     "data": {
      "text/plain": [
       "{'_characterizations': {'a6f890e7-2633-39da-8e99-e39791096af6': <lcatools.characterizations.Characterization at 0x7f932c11f5f8>},\n",
       " '_d': {'CasNumber': '000064-17-5',\n",
       "  'Comment': '',\n",
       "  'Compartment': ['Intermediate flow'],\n",
       "  'Name': 'ethanol, without water, in 95% solution state, from fermentation',\n",
       "  'Synonyms': ''},\n",
       " '_external_ref': 'ethanol, without water, in 95% solution state, from fermentation',\n",
       " '_origin': '/home/b/Dropbox/data/Ecoinvent/3.2/activity_overview_for_users_3.2_undefined.xlsx',\n",
       " '_ref_quantity_factor': 1.0,\n",
       " '_scenarios': {},\n",
       " '_uuid': UUID('bdd926e7-9b82-3772-b28e-fbdac81bd1a9'),\n",
       " 'entity_type': 'flow',\n",
       " 'reference_entity': <lcatools.entities.LcQuantity at 0x7f932c45a6a0>}"
      ]
     },
     "execution_count": 22,
     "metadata": {},
     "output_type": "execute_result"
    }
   ],
   "source": [
    "frag.termination().term_flow.__dict__"
   ]
  },
  {
   "cell_type": "code",
   "execution_count": 18,
   "metadata": {
    "collapsed": false
   },
   "outputs": [],
   "source": [
    "ff = next(f for f in F[0].fragments(show_all=True) if f.get_uuid().startswith('8841'))"
   ]
  },
  {
   "cell_type": "code",
   "execution_count": 23,
   "metadata": {
    "collapsed": false
   },
   "outputs": [
    {
     "data": {
      "text/plain": [
       "{'_characterizations': {'487df68b-4994-4027-8fdc-a4dc298257b7': <lcatools.characterizations.Characterization at 0x7f932b441f98>},\n",
       " '_d': {'CasNumber': '000064-17-5',\n",
       "  'Comment': 'EcoSpold02 Flow',\n",
       "  'Compartment': ['By-product classification: allocatable product'],\n",
       "  'Name': 'ethanol, without water, in 95% solution state, from fermentation'},\n",
       " '_external_ref': None,\n",
       " '_origin': '/data/LCI/Ecoinvent/3.2/current_Version_3.2_apos_ecoSpold02.zip',\n",
       " '_ref_quantity_factor': 1.0,\n",
       " '_scenarios': {},\n",
       " '_uuid': UUID('ffcb8cbb-77ab-4f87-8a94-87ca5b8ea79e'),\n",
       " 'entity_type': 'flow',\n",
       " 'reference_entity': <lcatools.entities.LcQuantity at 0x7f932b4419e8>}"
      ]
     },
     "execution_count": 23,
     "metadata": {},
     "output_type": "execute_result"
    }
   ],
   "source": [
    "ff.flow.__dict__"
   ]
  },
  {
   "cell_type": "code",
   "execution_count": 15,
   "metadata": {
    "collapsed": false
   },
   "outputs": [
    {
     "ename": "StopIteration",
     "evalue": "",
     "output_type": "error",
     "traceback": [
      "\u001b[1;31m---------------------------------------------------------------------------\u001b[0m",
      "\u001b[1;31mStopIteration\u001b[0m                             Traceback (most recent call last)",
      "\u001b[1;32m<ipython-input-15-82ebae6cace1>\u001b[0m in \u001b[0;36m<module>\u001b[1;34m()\u001b[0m\n\u001b[1;32m----> 1\u001b[1;33m \u001b[0mnext\u001b[0m\u001b[1;33m(\u001b[0m\u001b[0mF\u001b[0m\u001b[1;33m.\u001b[0m\u001b[0mchild_flows\u001b[0m\u001b[1;33m(\u001b[0m\u001b[0mfrag\u001b[0m\u001b[1;33m,\u001b[0m \u001b[0mbackground\u001b[0m\u001b[1;33m=\u001b[0m\u001b[1;32mTrue\u001b[0m\u001b[1;33m)\u001b[0m\u001b[1;33m)\u001b[0m\u001b[1;33m\u001b[0m\u001b[0m\n\u001b[0m",
      "\u001b[1;31mStopIteration\u001b[0m: "
     ]
    }
   ],
   "source": [
    "next(F.child_flows(frag, background=True))"
   ]
  }
 ],
 "metadata": {
  "kernelspec": {
   "display_name": "Python 3",
   "language": "python",
   "name": "python3"
  },
  "language_info": {
   "codemirror_mode": {
    "name": "ipython",
    "version": 3
   },
   "file_extension": ".py",
   "mimetype": "text/x-python",
   "name": "python",
   "nbconvert_exporter": "python",
   "pygments_lexer": "ipython3",
   "version": "3.5.1"
  }
 },
 "nbformat": 4,
 "nbformat_minor": 0
}
