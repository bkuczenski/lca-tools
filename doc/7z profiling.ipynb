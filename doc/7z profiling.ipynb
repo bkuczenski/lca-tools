{
 "cells": [
  {
   "cell_type": "code",
   "execution_count": 1,
   "metadata": {
    "collapsed": true
   },
   "outputs": [],
   "source": [
    "from py7zlib import Archive7z\n",
    "from zipfile import ZipFile\n",
    "\n",
    "import os\n",
    "import time"
   ]
  },
  {
   "cell_type": "code",
   "execution_count": 2,
   "metadata": {
    "collapsed": true
   },
   "outputs": [],
   "source": [
    "base_path = os.path.join('/data', 'LCI', 'Ecoinvent', '3.2')\n",
    "\n",
    "filename = 'current_Version_3.2_apos_lcia_ecoSpold02'\n",
    "file_7z = os.path.join(base_path, filename + '.7z')\n",
    "file_zip = os.path.join(base_path, filename + '.zip')"
   ]
  },
  {
   "cell_type": "code",
   "execution_count": 3,
   "metadata": {
    "collapsed": false
   },
   "outputs": [
    {
     "name": "stdout",
     "output_type": "stream",
     "text": [
      "filesize: 108591748 bytes [/data/LCI/Ecoinvent/3.2/current_Version_3.2_apos_lcia_ecoSpold02.7z]\n",
      "filesize: 591290984 bytes [/data/LCI/Ecoinvent/3.2/current_Version_3.2_apos_lcia_ecoSpold02.zip]\n"
     ]
    }
   ],
   "source": [
    "for i in (file_7z, file_zip):\n",
    "    print('filesize: %d bytes [%s]' % (os.stat(i).st_size, i))"
   ]
  },
  {
   "cell_type": "code",
   "execution_count": 4,
   "metadata": {
    "collapsed": true
   },
   "outputs": [],
   "source": [
    "fnames = ('007891bb-6fc0-497e-802f-eebee2a1dfd6_359d6943-6e60-416b-93dc-9c58398b0179.spold',\n",
    "          '82eeb0f7-77c4-486b-bece-e608f86f22de_f7a8981c-e94e-4fb7-908d-2786f6f0749c.spold',\n",
    "          'b2c33b9b-1091-4bed-92a3-decec3b8bd78_8b2dfb58-660d-44eb-b83f-5d9e28e467db.spold',\n",
    "          'f9694b1a-14f5-4c8c-863a-71132450b70f_5df09014-2ad5-467a-b48b-82e51d951f93.spold',)\n",
    "targets = (os.path.join('datasets', fname) for fname in fnames)"
   ]
  },
  {
   "cell_type": "code",
   "execution_count": 5,
   "metadata": {
    "collapsed": false
   },
   "outputs": [],
   "source": [
    "def _7z_cmd(j):\n",
    "    print('%30.30s' % 'Opening 7z')\n",
    "    with open(file_7z, 'rb') as fp:\n",
    "        return Archive7z(fp).getmember(j).read()\n",
    "\n",
    "def _zip_cmd(j):\n",
    "    print('%30.30s' % 'Opening zip')\n",
    "    with ZipFile(file_zip) as archive:\n",
    "        return archive.open(j).read()\n",
    "\n",
    "def profile(j):\n",
    "    out = []\n",
    "    print(j)\n",
    "    for cmd in (_7z_cmd, _zip_cmd):\n",
    "        t = time.time()\n",
    "        out.append(cmd(j))\n",
    "        print('%30.30s: %d' % ('Bytes read', len(out[-1])))\n",
    "        print('%30.30s: %6f s\\n' % ('finished', time.time() - t))\n",
    "        \n",
    "    return out[0] == out[1]\n"
   ]
  },
  {
   "cell_type": "code",
   "execution_count": 6,
   "metadata": {
    "collapsed": false
   },
   "outputs": [
    {
     "name": "stdout",
     "output_type": "stream",
     "text": [
      "datasets/007891bb-6fc0-497e-802f-eebee2a1dfd6_359d6943-6e60-416b-93dc-9c58398b0179.spold\n",
      "                    Opening 7z\n",
      "                    Bytes read: 372040\n",
      "                      finished: 1.137459 s\n",
      "\n",
      "                   Opening zip\n",
      "                    Bytes read: 372040\n",
      "                      finished: 0.191963 s\n",
      "\n"
     ]
    },
    {
     "data": {
      "text/plain": [
       "True"
      ]
     },
     "execution_count": 6,
     "metadata": {},
     "output_type": "execute_result"
    }
   ],
   "source": [
    "profile(next(targets))"
   ]
  },
  {
   "cell_type": "code",
   "execution_count": 7,
   "metadata": {
    "collapsed": false
   },
   "outputs": [
    {
     "name": "stdout",
     "output_type": "stream",
     "text": [
      "datasets/82eeb0f7-77c4-486b-bece-e608f86f22de_f7a8981c-e94e-4fb7-908d-2786f6f0749c.spold\n",
      "                    Opening 7z\n",
      "                    Bytes read: 364343\n",
      "                      finished: 45.343556 s\n",
      "\n",
      "                   Opening zip\n",
      "                    Bytes read: 364343\n",
      "                      finished: 0.143052 s\n",
      "\n"
     ]
    },
    {
     "data": {
      "text/plain": [
       "True"
      ]
     },
     "execution_count": 7,
     "metadata": {},
     "output_type": "execute_result"
    }
   ],
   "source": [
    "profile(next(targets))"
   ]
  },
  {
   "cell_type": "code",
   "execution_count": 8,
   "metadata": {
    "collapsed": false
   },
   "outputs": [
    {
     "name": "stdout",
     "output_type": "stream",
     "text": [
      "datasets/b2c33b9b-1091-4bed-92a3-decec3b8bd78_8b2dfb58-660d-44eb-b83f-5d9e28e467db.spold\n",
      "                    Opening 7z\n",
      "                    Bytes read: 362035\n",
      "                      finished: 51.763657 s\n",
      "\n",
      "                   Opening zip\n",
      "                    Bytes read: 362035\n",
      "                      finished: 0.278310 s\n",
      "\n"
     ]
    },
    {
     "data": {
      "text/plain": [
       "True"
      ]
     },
     "execution_count": 8,
     "metadata": {},
     "output_type": "execute_result"
    }
   ],
   "source": [
    "profile(next(targets))"
   ]
  },
  {
   "cell_type": "code",
   "execution_count": 9,
   "metadata": {
    "collapsed": false
   },
   "outputs": [
    {
     "name": "stdout",
     "output_type": "stream",
     "text": [
      "datasets/f9694b1a-14f5-4c8c-863a-71132450b70f_5df09014-2ad5-467a-b48b-82e51d951f93.spold\n",
      "                    Opening 7z\n",
      "                    Bytes read: 363595\n",
      "                      finished: 3.084895 s\n",
      "\n",
      "                   Opening zip\n",
      "                    Bytes read: 363595\n",
      "                      finished: 0.160578 s\n",
      "\n"
     ]
    },
    {
     "data": {
      "text/plain": [
       "True"
      ]
     },
     "execution_count": 9,
     "metadata": {},
     "output_type": "execute_result"
    }
   ],
   "source": [
    "profile(next(targets))"
   ]
  }
 ],
 "metadata": {
  "kernelspec": {
   "display_name": "Python 3",
   "language": "python",
   "name": "python3"
  },
  "language_info": {
   "codemirror_mode": {
    "name": "ipython",
    "version": 3
   },
   "file_extension": ".py",
   "mimetype": "text/x-python",
   "name": "python",
   "nbconvert_exporter": "python",
   "pygments_lexer": "ipython3",
   "version": "3.5.1"
  }
 },
 "nbformat": 4,
 "nbformat_minor": 0
}
