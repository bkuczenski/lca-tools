{
 "cells": [
  {
   "cell_type": "code",
   "execution_count": 1,
   "metadata": {
    "collapsed": true
   },
   "outputs": [],
   "source": [
    "import sys\n",
    "sys.path.append('..')\n",
    "\n",
    "import lcatools\n",
    "import os"
   ]
  },
  {
   "cell_type": "code",
   "execution_count": 2,
   "metadata": {
    "collapsed": false
   },
   "outputs": [],
   "source": [
    "elcd3_file = os.path.join(os.path.expanduser('~'),'Dropbox', 'data', 'ELCD', 'ELCD3.2.zip')\n",
    "catalog_dir = os.path.join(os.path.expanduser('~'), 'GitHub', 'lca-tools-datafiles', 'catalogs')"
   ]
  },
  {
   "cell_type": "code",
   "execution_count": 3,
   "metadata": {
    "collapsed": true
   },
   "outputs": [],
   "source": [
    "from lcatools.providers.ilcd import IlcdArchive"
   ]
  },
  {
   "cell_type": "code",
   "execution_count": 4,
   "metadata": {
    "collapsed": false
   },
   "outputs": [
    {
     "name": "stdout",
     "output_type": "stream",
     "text": [
      "Found Extension: zip\n"
     ]
    }
   ],
   "source": [
    "elcd32 = IlcdArchive(elcd3_file, quiet=True)"
   ]
  },
  {
   "cell_type": "code",
   "execution_count": 5,
   "metadata": {
    "collapsed": false
   },
   "outputs": [],
   "source": [
    "P = elcd32.list_objects('Process')[:10]"
   ]
  },
  {
   "cell_type": "code",
   "execution_count": 8,
   "metadata": {
    "collapsed": true
   },
   "outputs": [],
   "source": [
    "elcd32._quiet = True"
   ]
  },
  {
   "cell_type": "code",
   "execution_count": 3,
   "metadata": {
    "collapsed": true
   },
   "outputs": [],
   "source": [
    "from lcatools.tools import archive_from_json"
   ]
  },
  {
   "cell_type": "code",
   "execution_count": 4,
   "metadata": {
    "collapsed": false
   },
   "outputs": [
    {
     "name": "stdout",
     "output_type": "stream",
     "text": [
      "Loading JSON data from /home/b/GitHub/lca-tools-datafiles/catalogs/elcd_3.2.json.gz:\n",
      "Found Extension: zip\n",
      "94 new quantity entities added (94 total)\n",
      "2343 new flow entities added (2343 total)\n",
      "503 new process entities added (503 total)\n",
      "CPU times: user 7.67 s, sys: 30 ms, total: 7.7 s\n",
      "Wall time: 7.7 s\n"
     ]
    }
   ],
   "source": [
    "%time elcd32 = archive_from_json(os.path.join(catalog_dir, 'elcd_3.2.json.gz'))"
   ]
  },
  {
   "cell_type": "code",
   "execution_count": 7,
   "metadata": {
    "collapsed": false,
    "scrolled": true
   },
   "outputs": [
    {
     "name": "stdout",
     "output_type": "stream",
     "text": [
      "Loading /home/b/Dropbox/data/ELCD/ELCD3.2.zip\n",
      "In file ILCD/processes/1323a7e6-7841-47db-8da1-06355432a908.xml:\n",
      "Creating DUMMY flow (cd5c80bb-995b-456f-a12d-77b9b2ffad43) with name Hazardous waste (underground deposit)\n",
      "94 new quantity entities added (94 total)\n",
      "2343 new flow entities added (2343 total)\n",
      "503 new process entities added (503 total)\n",
      "CPU times: user 24 s, sys: 80 ms, total: 24.1 s\n",
      "Wall time: 24.1 s\n"
     ]
    }
   ],
   "source": [
    "%time elcd32.load_all()"
   ]
  },
  {
   "cell_type": "code",
   "execution_count": 8,
   "metadata": {
    "collapsed": true
   },
   "outputs": [],
   "source": [
    "q = elcd32.quantities()[0]"
   ]
  },
  {
   "cell_type": "code",
   "execution_count": 10,
   "metadata": {
    "collapsed": false
   },
   "outputs": [
    {
     "data": {
      "text/plain": [
       "{'Comment': '',\n",
       " 'Name': 'Br_wt',\n",
       " 'UnitConversion': {'centner': 50.0,\n",
       "  'g': 0.001,\n",
       "  'kg': 1.0,\n",
       "  'lb': 0.4535970244035199,\n",
       "  'long ton': 1016.0433240873392,\n",
       "  'metric Carat': 0.0002,\n",
       "  'mg': 1e-06,\n",
       "  'oz': 0.02834949254408346,\n",
       "  'short ton': 907.1940488070397,\n",
       "  't': 1000.0,\n",
       "  'u': 1.6605503063715316e-27},\n",
       " 'entityId': 'a7fb1268-6aa9-4b1c-88f0-7ba5aabc27ea',\n",
       " 'entityType': 'quantity',\n",
       " 'externalId': 'flowproperties/a7fb1268-6aa9-4b1c-88f0-7ba5aabc27ea',\n",
       " 'origin': '/home/b/Dropbox/data/ELCD/ELCD3.2.zip',\n",
       " 'referenceUnit': 'unitgroups/ad38d542-3fe9-439d-9b95-2f5f7752acaf'}"
      ]
     },
     "execution_count": 10,
     "metadata": {},
     "output_type": "execute_result"
    }
   ],
   "source": [
    "q.serialize()"
   ]
  },
  {
   "cell_type": "code",
   "execution_count": 12,
   "metadata": {
    "collapsed": false
   },
   "outputs": [
    {
     "data": {
      "text/plain": [
       "{'_external_ref': 'unitgroups/ad38d542-3fe9-439d-9b95-2f5f7752acaf',\n",
       " '_unitstring': 'kg',\n",
       " '_uuid': UUID('ad38d542-3fe9-439d-9b95-2f5f7752acaf')}"
      ]
     },
     "execution_count": 12,
     "metadata": {},
     "output_type": "execute_result"
    }
   ],
   "source": [
    "q.reference_entity.__dict__"
   ]
  },
  {
   "cell_type": "code",
   "execution_count": 11,
   "metadata": {
    "collapsed": false
   },
   "outputs": [],
   "source": [
    "elcd32.write_to_file(os.path.join(catalog_dir, 'elcd_3.2.json.gz'), exchanges=True, gzip=True, values=True)"
   ]
  },
  {
   "cell_type": "code",
   "execution_count": 7,
   "metadata": {
    "collapsed": true
   },
   "outputs": [],
   "source": [
    "p = elcd32.processes()[21]"
   ]
  },
  {
   "cell_type": "code",
   "execution_count": 8,
   "metadata": {
    "collapsed": false
   },
   "outputs": [
    {
     "data": {
      "text/plain": [
       "[' Input: [2.17e-05 [kg]] gypsum (CAS 007778-18-9) [Resources, Resources from ground, Non-renewable material resources from ground]',\n",
       " ' Input: [4.89 [MJ]] brown coal;  11.9 MJ/kg [Resources, Resources from ground, Non-renewable energy resources from ground]',\n",
       " ' Input: [0.000165 [kg]] iron (CAS 007439-89-6) [Resources, Resources from ground, Non-renewable element resources from ground]',\n",
       " ' Input: [1.68e-10 [kg]] baryte (CAS 007727-43-7) [Resources, Resources from ground, Non-renewable material resources from ground]',\n",
       " ' Input: [6.89e-12 [kg]] talc (CAS 014807-96-6) [Resources, Resources from ground, Non-renewable material resources from ground]',\n",
       " ' Input: [0.000953 [kg]] calcium carbonate (CAS 000471-34-1) [Resources, Resources from ground, Non-renewable material resources from ground]',\n",
       " ' Input: [4.39e-13 [kg]] sulfur (CAS 007704-34-9) [Resources, Resources from ground, Non-renewable element resources from ground]',\n",
       " ' Input: [2e-21 [kg]] sodium nitrate (CAS 007631-99-4) [Resources, Resources from ground, Non-renewable material resources from ground]',\n",
       " ' Input: [1.01e-09 [kg]] silver (CAS 007440-22-4) [Resources, Resources from ground, Non-renewable element resources from ground]',\n",
       " ' Input: [0.000144 [MJ]] Secondary fuel renewable [Production residues in life cycle]',\n",
       " ' Input: [0.0135 [mm*m2]] Groundwater Replenishment [Resources, Land use, Occupation]',\n",
       " ' Input: [2.99e-07 [kg]] phosphorus (CAS 007723-14-0) [Resources, Resources from ground, Non-renewable element resources from ground]',\n",
       " ' Input: [0.0846 [MJ]] hard coal;  26.3 MJ/kg [Resources, Resources from ground, Non-renewable energy resources from ground]',\n",
       " ' Input: [0.00807 [kg]] natural aggregate [Resources, Resources from ground, Non-renewable material resources from ground]',\n",
       " ' Input: [2.55e-06 [kg]] bauxite (CAS 001318-16-7) [Resources, Resources from ground, Non-renewable material resources from ground]',\n",
       " ' Input: [0.000102 [kg]] Biotic Production [Resources, Land use, Occupation]',\n",
       " ' Input: [7.91e-14 [kg]] ruthenium (CAS 007440-18-8) [Resources, Resources from ground, Non-renewable element resources from ground]',\n",
       " ' Input: [6.83e-07 [kg]] raw pumice [Resources, Resources from ground, Non-renewable material resources from ground]',\n",
       " ' Input: [2.57e-12 [kg]] gold (CAS 007440-57-5) [Resources, Resources from ground, Non-renewable element resources from ground]',\n",
       " ' Input: [0.028 [MJ]] Pit Methane (in MJ) (CAS 000074-82-8) [Resources, Energy resources, Non renewable energy resources, Natural gas (resource)]',\n",
       " ' Input: [-2.91e-05 [cm*m2/d]] Mechanical Filtration [Resources, Land use, Transformation]',\n",
       " ' Input: [7.66 [kg]] inert rock [Resources, Resources from ground, Non-renewable material resources from ground]',\n",
       " ' Input: [4.41e-14 [kg]] calcium chloride (CAS 010043-52-4) [Resources, Resources from ground, Non-renewable material resources from ground]',\n",
       " ' Input: [1.33 [MJ]] primary energy from hydro power [Resources, Resources from water, Renewable energy resources from water]',\n",
       " ' Input: [0.00223 [MJ]] primary energy from wind power [Resources, Resources from air, Renewable energy resources from air]',\n",
       " ' Input: [0.000182 [MJ]] primary energy from geothermics [Resources, Resources from ground, Renewable energy resources from ground]',\n",
       " ' Input: [8.36e-05 [(mm*m2)/a]] Groundwater Replenishment [Resources, Land use, Transformation]',\n",
       " ' Input: [3.85 [kg]] ground water (CAS 007732-18-5) [Resources, Resources from water, Renewable material resources from water]',\n",
       " ' Input: [9.84e-07 [kg]] potassium (CAS 007440-09-7) [Resources, Resources from ground, Non-renewable element resources from ground]',\n",
       " ' Input: [4.64e-06 [kg]] fluorspar (CAS 014542-23-5) [Resources, Resources from ground, Non-renewable material resources from ground]',\n",
       " ' Input: [0.0183 [kg]] Water (rain water) [Resources, Material resources, Renewable resources, Water]',\n",
       " ' Input: [2.81e-13 [kg]] antimony (CAS 007440-36-0) [Resources, Resources from ground, Non-renewable element resources from ground]',\n",
       " ' Input: [1.52e-05 [kg/a]] Biotic Production [Resources, Land use, Transformation]',\n",
       " ' Input: [0.0109 [kg]] soil [Resources, Resources from ground, Non-renewable material resources from ground]',\n",
       " ' Input: [4.59e-11 [kg]] magnesite (CAS 000546-93-0) [Resources, Resources from ground, Non-renewable material resources from ground]',\n",
       " ' Input: [4.72e-06 [kg]] manganese (CAS 007439-96-5) [Resources, Resources from ground, Non-renewable element resources from ground]',\n",
       " ' Input: [-7.52e-07 [kg]] nickel (CAS 007440-02-0) [Resources, Resources from ground, Non-renewable element resources from ground]',\n",
       " ' Input: [5.45e-06 [kg]] dolomite (CAS 069227-00-5) [Resources, Resources from ground, Non-renewable material resources from ground]',\n",
       " ' Input: [5.3e-06 [kg]] oxygen (CAS 007782-44-7) [Resources, Resources from air, Renewable element resources from air]',\n",
       " ' Input: [2.19e-06 [kg]] lead (CAS 007439-92-1) [Resources, Resources from ground, Non-renewable element resources from ground]',\n",
       " ' Input: [0.00016 [MJ]] Oil sand (100% bitumen) (in MJ) [Resources, Energy resources, Non renewable energy resources, Crude oil (resource)]',\n",
       " ' Input: [0.000607 [kg]] carbon dioxide (CAS 000124-38-9) [Resources, Resources from air, Renewable material resources from air]',\n",
       " ' Input: [0.221 [cm*m3]] Mechanical Filtration [Resources, Land use, Occupation]',\n",
       " ' Input: [4.01e-07 [kg]] molybdenum (CAS 007439-98-7) [Resources, Resources from ground, Non-renewable element resources from ground]',\n",
       " ' Input: [3.82 [kg]] air [Resources, Resources from air, Renewable material resources from air]',\n",
       " ' Input: [0.00539 [MJ]] primary energy from solar energy [Resources, Resources from air, Renewable energy resources from air]',\n",
       " ' Input: [0.175 [MJ]] crude oil; 42.3 MJ/kg [Resources, Resources from ground, Non-renewable energy resources from ground]',\n",
       " ' Input: [7.21e-12 [kg]] cobalt (CAS 007440-48-4) [Resources, Resources from ground, Non-renewable element resources from ground]',\n",
       " ' Input: [400 [kg]] lake water (CAS 007732-18-5) [Resources, Resources from water, Renewable material resources from water]',\n",
       " ' Input: [4.01e-13 [kg]] platinum (CAS 007440-06-4) [Resources, Resources from ground, Non-renewable element resources from ground]',\n",
       " ' Input: [6.78e-08 [kg]] colemanite (CAS 001318-33-8) [Resources, Resources from ground, Non-renewable material resources from ground]',\n",
       " ' Input: [4.01e-14 [kg]] rhodium (CAS 007440-16-6) [Resources, Resources from ground, Non-renewable element resources from ground]',\n",
       " ' Input: [2.48e-08 [kg]] tantalum (CAS 007440-25-7) [Resources, Resources from ground, Non-renewable element resources from ground]',\n",
       " ' Input: [1.6e-05 [kg]] copper (CAS 007440-50-8) [Resources, Resources from ground, Non-renewable element resources from ground]',\n",
       " ' Input: [9.87e-14 [kg]] sodium sulfate (CAS 007757-82-6) [Resources, Resources from ground, Non-renewable material resources from ground]',\n",
       " ' Input: [1.22e-13 [kg]] tin (CAS 007440-31-5) [Resources, Resources from ground, Non-renewable element resources from ground]',\n",
       " ' Input: [0.000826 [kg]] Erosion Resistance [Resources, Land use, Occupation]',\n",
       " ' Input: [2 [MJ]] natural gas;  44.1 MJ/kg [Resources, Resources from ground, Non-renewable energy resources from ground]',\n",
       " ' Input: [5.26e-25 [kg]] granite [Resources, Resources from ground, Non-renewable material resources from ground]',\n",
       " ' Input: [9.66e-05 [m2]] Land Transformation [Resources, Land use, Transformation]',\n",
       " ' Input: [-4.79e-06 [kg/a]] Erosion Resistance [Resources, Land use, Transformation]',\n",
       " ' Input: [0.000182 [kg]] bentonite (CAS 001302-78-9) [Resources, Resources from ground, Non-renewable material resources from ground]',\n",
       " ' Input: [42.6 [kg]] river water (CAS 007732-18-5) [Resources, Resources from water, Renewable material resources from water]',\n",
       " ' Input: [3.52e-07 [kg]] magnesium chloride (CAS 007786-30-3) [Resources, Resources from ground, Non-renewable material resources from ground]',\n",
       " ' Input: [1.63e-12 [kg]] dinitrogen (CAS 007727-37-9) [Resources, Resources from air, Renewable element resources from air]',\n",
       " ' Input: [7.51e-05 [m2*a]] Occup. as Convent. arable land [Resources, Land use, Hemeroby]',\n",
       " ' Input: [8.42e-18 [kg]] mercury (CAS 007439-97-6) [Resources, Resources from ground, Non-renewable element resources from ground]',\n",
       " ' Input: [3.7e-23 [kg]] feldspar (CAS 012168-80-8) [Resources, Resources from ground, Non-renewable material resources from ground]',\n",
       " ' Input: [1.84e-12 [kg]] potassium chloride (CAS 007447-40-7) [Resources, Resources from ground, Non-renewable material resources from ground]',\n",
       " ' Input: [0.000171 [m2*a]] Land Occupation [Resources, Land use, Occupation]',\n",
       " ' Input: [0.000183 [MJ]] Oil sand (10% bitumen) (in MJ) [Resources, Energy resources, Non renewable energy resources, Crude oil (resource)]',\n",
       " ' Input: [2 [MJ]] uranium (CAS 007440-61-1) [Resources, Resources from ground, Non-renewable energy resources from ground]',\n",
       " ' Input: [2.36e-13 [kg]] palladium (CAS 007440-05-3) [Resources, Resources from ground, Non-renewable element resources from ground]',\n",
       " ' Input: [-5.86e-05 [(cmol*m2)/kg]] Physicochemical Filtration [Resources, Land use, Transformation]',\n",
       " ' Input: [8.59e-19 [kg]] magnesium (CAS 007439-95-4) [Resources, Resources from ground, Non-renewable element resources from ground]',\n",
       " ' Input: [4.31e-16 [kg]] barium sulfate (CAS 007727-43-7) [Resources, Resources from ground, Non-renewable material resources from ground]',\n",
       " ' Input: [0.00152 [MJ]] Secondary fuel [Production residues in life cycle]',\n",
       " ' Input: [0.00196 [kg]] sea water (CAS 007732-18-5) [Resources, Resources from water, Renewable material resources from water]',\n",
       " ' Input: [2.46e-16 [kg]] olivine (CAS 019086-72-7) [Resources, Resources from ground, Non-renewable material resources from ground]',\n",
       " ' Input: [8.6e-07 [kg]] zinc (CAS 007440-66-6) [Resources, Resources from ground, Non-renewable element resources from ground]',\n",
       " ' Input: [1.66e-09 [kg]] basalt [Resources, Resources from ground, Non-renewable material resources from ground]',\n",
       " ' Input: [1.67e-06 [kg]] stone [Resources, Resources from ground, Non-renewable material resources from ground]',\n",
       " ' Input: [4.77e-05 [kg]] chromium (CAS 007440-47-3) [Resources, Resources from ground, Non-renewable element resources from ground]',\n",
       " ' Input: [0.00118 [(cmol*m2*a)/kg]] Physicochemical Filtration [Resources, Land use, Occupation]',\n",
       " ' Input: [4.64e-05 [kg]] sodium chloride (CAS 007647-14-5) [Resources, Resources from ground, Non-renewable material resources from ground]',\n",
       " ' Input: [1.12e-11 [kg]] silicon (CAS 007440-21-3) [Resources, Resources from ground, Non-renewable element resources from ground]',\n",
       " ' Input: [6.98e-05 [kg]] clay (CAS 070694-09-6) [Resources, Resources from ground, Non-renewable material resources from ground]',\n",
       " ' Input: [3.52e-08 [kg]] kaolin (CAS 001332-58-7) [Resources, Resources from ground, Non-renewable material resources from ground]',\n",
       " ' Input: [1.34e-14 [kg]] iridium (CAS 007439-88-5) [Resources, Resources from ground, Non-renewable element resources from ground]',\n",
       " ' Input: [1.63e-14 [kg]] osmium (CAS 007440-04-2) [Resources, Resources from ground, Non-renewable element resources from ground]',\n",
       " ' Input: [5.53e-05 [kg]] quartz sand (CAS 014808-60-7) [Resources, Resources from ground, Non-renewable material resources from ground]',\n",
       " ' Input: [4.75e-05 [MJ]] peat;  8.4 MJ/kg [Resources, Resources from ground, Non-renewable energy resources from ground]',\n",
       " ' Input: [7.06e-09 [kg]] titanium (CAS 007440-32-6) [Resources, Resources from ground, Non-renewable element resources from ground]']"
      ]
     },
     "execution_count": 8,
     "metadata": {},
     "output_type": "execute_result"
    }
   ],
   "source": [
    "[str(x) for x in p.exchanges() if x.direction == 'Input']"
   ]
  },
  {
   "cell_type": "code",
   "execution_count": 6,
   "metadata": {
    "collapsed": false
   },
   "outputs": [
    {
     "data": {
      "text/plain": [
       "503"
      ]
     },
     "execution_count": 6,
     "metadata": {},
     "output_type": "execute_result"
    }
   ],
   "source": [
    "len(elcd32.processes())"
   ]
  },
  {
   "cell_type": "code",
   "execution_count": 9,
   "metadata": {
    "collapsed": false
   },
   "outputs": [
    {
     "data": {
      "text/plain": [
       "<lcatools.entities.LcProcess at 0x7f4e549c9b38>"
      ]
     },
     "execution_count": 9,
     "metadata": {},
     "output_type": "execute_result"
    }
   ],
   "source": [
    "p"
   ]
  },
  {
   "cell_type": "code",
   "execution_count": 10,
   "metadata": {
    "collapsed": false
   },
   "outputs": [
    {
     "data": {
      "text/plain": [
       "514"
      ]
     },
     "execution_count": 10,
     "metadata": {},
     "output_type": "execute_result"
    }
   ],
   "source": [
    "len([x for x in p.exchanges()])"
   ]
  },
  {
   "cell_type": "code",
   "execution_count": 11,
   "metadata": {
    "collapsed": true
   },
   "outputs": [],
   "source": [
    "import itertools"
   ]
  },
  {
   "cell_type": "code",
   "execution_count": 12,
   "metadata": {
    "collapsed": false
   },
   "outputs": [],
   "source": [
    "def group_exchanges(proc):\n",
    "    groups = []\n",
    "    keys = []\n",
    "    key = lambda x: x.flow['Compartment']\n",
    "    for i, j in itertools.groupby(sorted(proc.exchanges(), key=key), key):\n",
    "        groups.append(list(j))\n",
    "        keys.append(i)\n",
    "    return keys,groups"
   ]
  },
  {
   "cell_type": "code",
   "execution_count": 13,
   "metadata": {
    "collapsed": false
   },
   "outputs": [
    {
     "name": "stdout",
     "output_type": "stream",
     "text": [
      "CPU times: user 10 ms, sys: 0 ns, total: 10 ms\n",
      "Wall time: 2.35 ms\n"
     ]
    }
   ],
   "source": [
    "%time keys,groups=group_exchanges(p)"
   ]
  },
  {
   "cell_type": "code",
   "execution_count": 14,
   "metadata": {
    "collapsed": false
   },
   "outputs": [
    {
     "name": "stdout",
     "output_type": "stream",
     "text": [
      "CPU times: user 0 ns, sys: 0 ns, total: 0 ns\n",
      "Wall time: 1.67 ms\n"
     ]
    },
    {
     "data": {
      "text/plain": [
       "{'Deposited goods',\n",
       " 'Emissions',\n",
       " 'Emissions to agricultural soil',\n",
       " 'Emissions to air',\n",
       " 'Emissions to fresh water',\n",
       " 'Emissions to industrial soil',\n",
       " 'Emissions to sea water',\n",
       " 'Production residues in life cycle',\n",
       " 'Resources',\n",
       " 'Valuable substances',\n",
       " 'Wastes'}"
      ]
     },
     "execution_count": 14,
     "metadata": {},
     "output_type": "execute_result"
    }
   ],
   "source": [
    "%time set([x.flow['Compartment'][0] for x in p.exchanges()])"
   ]
  },
  {
   "cell_type": "code",
   "execution_count": 15,
   "metadata": {
    "collapsed": false
   },
   "outputs": [
    {
     "data": {
      "text/plain": [
       "['Output: [1.15e-09 [kg]] copper (CAS 007440-50-8) [Emissions, Emissions to soil, Emissions to agricultural soil]',\n",
       " 'Output: [5.01e-11 [kg]] cadmium (CAS 007440-43-9) [Emissions, Emissions to soil, Emissions to agricultural soil]',\n",
       " 'Output: [4.6e-09 [kg]] zinc (CAS 007440-66-6) [Emissions, Emissions to soil, Emissions to agricultural soil]',\n",
       " 'Output: [1.15e-11 [kg]] mercury (CAS 007439-97-6) [Emissions, Emissions to soil, Emissions to agricultural soil]',\n",
       " 'Output: [1.73e-09 [kg]] lead (CAS 007439-92-1) [Emissions, Emissions to soil, Emissions to agricultural soil]',\n",
       " 'Output: [1.15e-09 [kg]] chromium III (CAS 016065-83-1) [Emissions, Emissions to soil, Emissions to agricultural soil]',\n",
       " 'Output: [-5.56e-13 [kg]] chromium (CAS 007440-47-3) [Emissions, Emissions to soil, Emissions to agricultural soil]']"
      ]
     },
     "execution_count": 15,
     "metadata": {},
     "output_type": "execute_result"
    }
   ],
   "source": [
    "[str(x) for x in groups[3]]"
   ]
  },
  {
   "cell_type": "code",
   "execution_count": 16,
   "metadata": {
    "collapsed": false
   },
   "outputs": [
    {
     "data": {
      "text/plain": [
       "[['Deposited goods', 'Radioactive waste'],\n",
       " ['Deposited goods', 'Stockpile goods'],\n",
       " ['Emissions', 'Emissions to air', 'Emissions to air, unspecified'],\n",
       " ['Emissions', 'Emissions to soil', 'Emissions to agricultural soil'],\n",
       " ['Emissions', 'Emissions to soil', 'Emissions to non-agricultural soil'],\n",
       " ['Emissions', 'Emissions to water', 'Emissions to fresh water'],\n",
       " ['Emissions', 'Emissions to water', 'Emissions to sea water'],\n",
       " ['Emissions to agricultural soil', 'Heavy metals to agricultural soil'],\n",
       " ['Emissions to air', 'Heavy metals to air'],\n",
       " ['Emissions to air', 'Inorganic emissions to air'],\n",
       " ['Emissions to air', 'Other emissions to air'],\n",
       " ['Emissions to fresh water', 'Heavy metals to fresh water'],\n",
       " ['Emissions to fresh water', 'Other emissions to fresh water'],\n",
       " ['Emissions to industrial soil', 'Heavy metals to industrial soil'],\n",
       " ['Emissions to sea water', 'Heavy metals to sea water'],\n",
       " ['Emissions to sea water', 'Other emissions to sea water'],\n",
       " ['Production residues in life cycle'],\n",
       " ['Resources',\n",
       "  'Energy resources',\n",
       "  'Non renewable energy resources',\n",
       "  'Crude oil (resource)'],\n",
       " ['Resources',\n",
       "  'Energy resources',\n",
       "  'Non renewable energy resources',\n",
       "  'Natural gas (resource)'],\n",
       " ['Resources', 'Land use', 'Hemeroby'],\n",
       " ['Resources', 'Land use', 'Occupation'],\n",
       " ['Resources', 'Land use', 'Transformation'],\n",
       " ['Resources', 'Material resources', 'Renewable resources', 'Water'],\n",
       " ['Resources', 'Resources from air', 'Renewable element resources from air'],\n",
       " ['Resources', 'Resources from air', 'Renewable energy resources from air'],\n",
       " ['Resources', 'Resources from air', 'Renewable material resources from air'],\n",
       " ['Resources',\n",
       "  'Resources from ground',\n",
       "  'Non-renewable element resources from ground'],\n",
       " ['Resources',\n",
       "  'Resources from ground',\n",
       "  'Non-renewable energy resources from ground'],\n",
       " ['Resources',\n",
       "  'Resources from ground',\n",
       "  'Non-renewable material resources from ground'],\n",
       " ['Resources',\n",
       "  'Resources from ground',\n",
       "  'Renewable energy resources from ground'],\n",
       " ['Resources',\n",
       "  'Resources from water',\n",
       "  'Renewable energy resources from water'],\n",
       " ['Resources',\n",
       "  'Resources from water',\n",
       "  'Renewable material resources from water'],\n",
       " ['Valuable substances', 'Energy carrier', 'Electric power'],\n",
       " ['Wastes', 'Mining waste']]"
      ]
     },
     "execution_count": 16,
     "metadata": {},
     "output_type": "execute_result"
    }
   ],
   "source": [
    "keys"
   ]
  },
  {
   "cell_type": "code",
   "execution_count": 5,
   "metadata": {
    "collapsed": true
   },
   "outputs": [],
   "source": [
    "from lcatools.providers.ilcd_lcia import IlcdLcia"
   ]
  },
  {
   "cell_type": "code",
   "execution_count": 6,
   "metadata": {
    "collapsed": false
   },
   "outputs": [
    {
     "name": "stdout",
     "output_type": "stream",
     "text": [
      "Found Extension: zip\n"
     ]
    }
   ],
   "source": [
    "elcd_lcia = IlcdLcia(elcd3_file, upstream=elcd32, quiet=True)"
   ]
  },
  {
   "cell_type": "code",
   "execution_count": 7,
   "metadata": {
    "collapsed": false
   },
   "outputs": [],
   "source": [
    "L = elcd_lcia.list_objects('LCIAMethod')"
   ]
  },
  {
   "cell_type": "code",
   "execution_count": 8,
   "metadata": {
    "collapsed": false
   },
   "outputs": [],
   "source": [
    "l = elcd_lcia.retrieve_or_fetch_entity(L[0])"
   ]
  },
  {
   "cell_type": "code",
   "execution_count": 10,
   "metadata": {
    "collapsed": true
   },
   "outputs": [],
   "source": [
    "from lcatools.providers.ilcd import find_tag, find_common, find_ns"
   ]
  },
  {
   "cell_type": "code",
   "execution_count": 12,
   "metadata": {
    "collapsed": false
   },
   "outputs": [],
   "source": [
    "ns = find_ns(l.nsmap, 'LCIAMethod')"
   ]
  },
  {
   "cell_type": "code",
   "execution_count": 25,
   "metadata": {
    "collapsed": false
   },
   "outputs": [
    {
     "data": {
      "text/plain": [
       "['Comparative Toxic Unit for human (CTUh)expressing the estimated increase in morbidity in the total human population per unit mass of a chemical emitted (cases per kilogramme).']"
      ]
     },
     "execution_count": 25,
     "metadata": {},
     "output_type": "execute_result"
    }
   ],
   "source": [
    "find_tag(l, 'impactIndicator')"
   ]
  },
  {
   "cell_type": "code",
   "execution_count": 22,
   "metadata": {
    "collapsed": false
   },
   "outputs": [
    {
     "data": {
      "text/plain": [
       "'LCIAmethods/324d2515-5985-4563-87d8-f59053db774d.xml'"
      ]
     },
     "execution_count": 22,
     "metadata": {},
     "output_type": "execute_result"
    }
   ],
   "source": [
    "L[0]"
   ]
  },
  {
   "cell_type": "code",
   "execution_count": 9,
   "metadata": {
    "collapsed": false
   },
   "outputs": [
    {
     "data": {
      "text/plain": [
       "<Element {http://lca.jrc.it/ILCD/LCIAMethod}LCIAMethodDataSet at 0x7fd177e01d88>"
      ]
     },
     "execution_count": 9,
     "metadata": {},
     "output_type": "execute_result"
    }
   ],
   "source": [
    "l"
   ]
  },
  {
   "cell_type": "code",
   "execution_count": 23,
   "metadata": {
    "collapsed": true
   },
   "outputs": [],
   "source": [
    "from lcatools.interfaces import uuid_regex"
   ]
  },
  {
   "cell_type": "code",
   "execution_count": 24,
   "metadata": {
    "collapsed": false
   },
   "outputs": [],
   "source": [
    "u = uuid_regex.search(L[0]).groups()[0]"
   ]
  },
  {
   "cell_type": "code",
   "execution_count": 25,
   "metadata": {
    "collapsed": false
   },
   "outputs": [],
   "source": [
    "elcd_lcia._create_lcia_quantity(elcd_lcia._build_entity_path('LCIAMethod', u))"
   ]
  },
  {
   "cell_type": "code",
   "execution_count": 26,
   "metadata": {
    "collapsed": false
   },
   "outputs": [
    {
     "name": "stdout",
     "output_type": "stream",
     "text": [
      "0 new process entities added (0 total)\n",
      "566 new flow entities added (566 total)\n",
      "2 new quantity entities added (2 total)\n"
     ]
    }
   ],
   "source": [
    "elcd_lcia.check_counter()"
   ]
  },
  {
   "cell_type": "code",
   "execution_count": 28,
   "metadata": {
    "collapsed": false
   },
   "outputs": [],
   "source": [
    "a=[]\n",
    "for q in elcd_lcia.quantities():\n",
    "    a.append(q.serialize())"
   ]
  },
  {
   "cell_type": "code",
   "execution_count": 31,
   "metadata": {
    "collapsed": false
   },
   "outputs": [],
   "source": [
    "q = elcd_lcia.quantities()[-1]"
   ]
  },
  {
   "cell_type": "code",
   "execution_count": 32,
   "metadata": {
    "collapsed": false
   },
   "outputs": [
    {
     "data": {
      "text/plain": [
       "{'Comment': 'USEtox consensus model (multimedia model). No spatial differentiation beyond continent and world compartments. Specific groups of chemicals requires further works (cf. details in other sections).',\n",
       " 'Duration': 'Indefinite',\n",
       " 'Methodology': '',\n",
       " 'Name': 'ILCD2011; Non-cancer human health effects; midpoint; CTUh; USEtox',\n",
       " 'ReferenceYear': 'time independent',\n",
       " 'entityId': '324d2515-5985-4563-87d8-f59053db774d',\n",
       " 'entityType': 'quantity',\n",
       " 'externalId': 'LCIAmethods/324d2515-5985-4563-87d8-f59053db774d',\n",
       " 'origin': '/home/b/Dropbox/data/ELCD/ELCD3.2.zip',\n",
       " 'referenceUnit': 'unitgroups/5beb6eed-33a9-47b8-9ede-1dfe8f679159'}"
      ]
     },
     "execution_count": 32,
     "metadata": {},
     "output_type": "execute_result"
    }
   ],
   "source": [
    "q.serialize()"
   ]
  },
  {
   "cell_type": "code",
   "execution_count": 30,
   "metadata": {
    "collapsed": true
   },
   "outputs": [],
   "source": [
    "from lcatools.characterizations import Characterization"
   ]
  },
  {
   "cell_type": "code",
   "execution_count": 34,
   "metadata": {
    "collapsed": false
   },
   "outputs": [],
   "source": [
    "F = [f for f in elcd32.flows() if Characterization(f, q) in f._characterizations]"
   ]
  },
  {
   "cell_type": "code",
   "execution_count": 36,
   "metadata": {
    "collapsed": false
   },
   "outputs": [
    {
     "data": {
      "text/plain": [
       "{'CasNumber': '007439-92-1',\n",
       " 'Comment': 'CAS number of the metallic form is chosen. Note that this elementary flow is representing also all ions, unless individual elementary flows are differentiated by the to-be-applied LCIA methods, which are then to be preferred. Reference elementary flow of the International Reference Life Cycle Data System (ILCD).',\n",
       " 'Compartment': ['Emissions',\n",
       "  'Emissions to water',\n",
       "  'Emissions to water, unspecified'],\n",
       " 'Name': 'lead',\n",
       " 'characterizations': [{'quantity': '324d2515-5985-4563-87d8-f59053db774d',\n",
       "   'value': 0.00012},\n",
       "  {'isReference': True,\n",
       "   'quantity': '93a60a56-a3c8-11da-a746-0800200b9a66',\n",
       "   'value': 1.0}],\n",
       " 'entityId': '4d9a8790-3ddd-11dd-91e2-0050c2490048',\n",
       " 'entityType': 'flow',\n",
       " 'externalId': 'flows/4d9a8790-3ddd-11dd-91e2-0050c2490048',\n",
       " 'origin': '/home/b/Dropbox/data/ELCD/ELCD3.2.zip'}"
      ]
     },
     "execution_count": 36,
     "metadata": {},
     "output_type": "execute_result"
    }
   ],
   "source": [
    "F[0].serialize(characterizations=True,values=True)"
   ]
  },
  {
   "cell_type": "code",
   "execution_count": 37,
   "metadata": {
    "collapsed": false
   },
   "outputs": [
    {
     "data": {
      "text/plain": [
       "566"
      ]
     },
     "execution_count": 37,
     "metadata": {},
     "output_type": "execute_result"
    }
   ],
   "source": [
    "len([f for f in elcd_lcia.flows()])"
   ]
  },
  {
   "cell_type": "code",
   "execution_count": 29,
   "metadata": {
    "collapsed": false
   },
   "outputs": [
    {
     "data": {
      "text/plain": [
       "<Element {http://lca.jrc.it/ILCD/LCIAMethod}characterisationFactors at 0x7f5273f96088>"
      ]
     },
     "execution_count": 29,
     "metadata": {},
     "output_type": "execute_result"
    }
   ],
   "source": [
    "l['characterisationFactors']"
   ]
  },
  {
   "cell_type": "code",
   "execution_count": 28,
   "metadata": {
    "collapsed": false
   },
   "outputs": [
    {
     "data": {
      "text/plain": [
       "[<Element {http://lca.jrc.it/ILCD/LCIAMethod}LCIAMethodInformation at 0x7f5273f94c48>,\n",
       " <Element {http://lca.jrc.it/ILCD/LCIAMethod}modellingAndValidation at 0x7f5273f94dc8>,\n",
       " <Element {http://lca.jrc.it/ILCD/LCIAMethod}administrativeInformation at 0x7f5273f94f48>,\n",
       " <Element {http://lca.jrc.it/ILCD/LCIAMethod}characterisationFactors at 0x7f5273f96088>]"
      ]
     },
     "execution_count": 28,
     "metadata": {},
     "output_type": "execute_result"
    }
   ],
   "source": [
    "l.getchildren()"
   ]
  },
  {
   "cell_type": "code",
   "execution_count": 7,
   "metadata": {
    "collapsed": false
   },
   "outputs": [
    {
     "name": "stdout",
     "output_type": "stream",
     "text": [
      "0 new process entities added (0 total)\n",
      "1256 new flow entities added (1256 total)\n",
      "48 new quantity entities added (48 total)\n",
      "CPU times: user 3.51 s, sys: 40 ms, total: 3.55 s\n",
      "Wall time: 3.65 s\n"
     ]
    }
   ],
   "source": [
    "%time elcd_lcia.load_lcia()"
   ]
  },
  {
   "cell_type": "code",
   "execution_count": 8,
   "metadata": {
    "collapsed": false
   },
   "outputs": [
    {
     "data": {
      "text/plain": [
       "4940"
      ]
     },
     "execution_count": 8,
     "metadata": {},
     "output_type": "execute_result"
    }
   ],
   "source": [
    "len([x for f in elcd_lcia.flows() for x in f._characterizations])"
   ]
  },
  {
   "cell_type": "code",
   "execution_count": 9,
   "metadata": {
    "collapsed": false
   },
   "outputs": [],
   "source": [
    "elcd_lcia.write_to_file(os.path.join(catalog_dir, 'elcd_lcia.json.gz'), characterizations=True,values=True,gzip=True)"
   ]
  }
 ],
 "metadata": {
  "kernelspec": {
   "display_name": "Python 3",
   "language": "python",
   "name": "python3"
  },
  "language_info": {
   "codemirror_mode": {
    "name": "ipython",
    "version": 3
   },
   "file_extension": ".py",
   "mimetype": "text/x-python",
   "name": "python",
   "nbconvert_exporter": "python",
   "pygments_lexer": "ipython3",
   "version": "3.5.1"
  }
 },
 "nbformat": 4,
 "nbformat_minor": 0
}
