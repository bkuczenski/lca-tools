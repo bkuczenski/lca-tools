{
 "cells": [
  {
   "cell_type": "code",
   "execution_count": 1,
   "metadata": {
    "collapsed": false
   },
   "outputs": [],
   "source": [
    "import sys\n",
    "sys.path.append('..')\n",
    "import os\n",
    "from os.path import expanduser\n",
    "\n",
    "import lcatools"
   ]
  },
  {
   "cell_type": "code",
   "execution_count": 2,
   "metadata": {
    "collapsed": true
   },
   "outputs": [],
   "source": [
    "from lcatools.providers.ecoinvent_spreadsheet import EcoinventSpreadsheet"
   ]
  },
  {
   "cell_type": "code",
   "execution_count": 3,
   "metadata": {
    "collapsed": false
   },
   "outputs": [],
   "source": [
    "ECOINVENT_VERSION = '3.2'\n",
    "\n",
    "SYSTEM_MODELS = ['undefined', 'apos', 'consequential', 'cut-off']\n",
    "\n",
    "datapath = os.path.join(expanduser('~'), 'Dropbox', 'data', 'Ecoinvent', ECOINVENT_VERSION)\n",
    "catalog_dir = os.path.join(os.path.expanduser('~'), 'GitHub', 'lca-tools-datafiles', 'catalogs')"
   ]
  },
  {
   "cell_type": "code",
   "execution_count": 4,
   "metadata": {
    "collapsed": true
   },
   "outputs": [],
   "source": [
    "ei = dict()"
   ]
  },
  {
   "cell_type": "code",
   "execution_count": 5,
   "metadata": {
    "collapsed": true
   },
   "outputs": [],
   "source": [
    "from lcatools.tools import archive_from_json"
   ]
  },
  {
   "cell_type": "code",
   "execution_count": 6,
   "metadata": {
    "collapsed": false
   },
   "outputs": [
    {
     "name": "stdout",
     "output_type": "stream",
     "text": [
      "Loading JSON data from /home/b/GitHub/lca-tools-datafiles/catalogs/ei_lcia.json.gz:\n",
      "**Upstream reference encountered: /data/LCI/Ecoinvent/3.2/undefined\n",
      "\n",
      "708 new quantity entities added (708 total)\n",
      "3255 new flow entities added (3255 total)\n",
      "0 new process entities added (0 total)\n",
      "CPU times: user 4.42 s, sys: 60 ms, total: 4.48 s\n",
      "Wall time: 4.48 s\n"
     ]
    }
   ],
   "source": [
    "%time ei_lcia = archive_from_json(os.path.join(catalog_dir, 'ei_lcia.json.gz'))"
   ]
  },
  {
   "cell_type": "code",
   "execution_count": 7,
   "metadata": {
    "collapsed": false,
    "scrolled": true
   },
   "outputs": [
    {
     "name": "stdout",
     "output_type": "stream",
     "text": [
      "Loading /home/b/Dropbox/data/Ecoinvent/3.2/activity_overview_for_users_3.2_undefined.xlsx\n",
      "Reading elementary exchanges ...\n",
      "Reading intermediate exchanges ...\n",
      "20 new quantity entities added (20 total)\n",
      "Handling elementary exchanges [public spreadsheet]\n",
      "4013 new flow entities added (4013 total)\n",
      "Handling intermediate exchanges [public spreadsheet]\n",
      "2754 new flow entities added (6767 total)\n",
      "Handling activities...\n",
      "Reading activity overview ...\n",
      "13307 new process entities added (13307 total)\n",
      "CPU times: user 53.5 s, sys: 180 ms, total: 53.6 s\n",
      "Wall time: 53.9 s\n"
     ]
    }
   ],
   "source": [
    "model = 'undefined'\n",
    "pub_file = os.path.join(datapath, 'activity_overview_for_users_' + ECOINVENT_VERSION + '_' + model + '.xlsx')\n",
    "ei[model] = EcoinventSpreadsheet(pub_file, internal=False, version=ECOINVENT_VERSION, \n",
    "                                 ns_uuid='544efee9-6651-4c77-813f-b0134f561eb9',\n",
    "                                 upstream=ei_lcia,\n",
    "                                 quiet=True)\n",
    "%time ei[model].load_all()"
   ]
  },
  {
   "cell_type": "code",
   "execution_count": 8,
   "metadata": {
    "collapsed": false
   },
   "outputs": [
    {
     "data": {
      "text/plain": [
       "0"
      ]
     },
     "execution_count": 8,
     "metadata": {},
     "output_type": "execute_result"
    }
   ],
   "source": [
    "F = [f for f in ei_lcia.flows() if f.reference_entity is None]\n",
    "len(F)"
   ]
  },
  {
   "cell_type": "code",
   "execution_count": 9,
   "metadata": {
    "collapsed": false
   },
   "outputs": [
    {
     "name": "stdout",
     "output_type": "stream",
     "text": [
      "20792 entities validated out of 20792\n"
     ]
    },
    {
     "data": {
      "text/plain": [
       "20792"
      ]
     },
     "execution_count": 9,
     "metadata": {},
     "output_type": "execute_result"
    }
   ],
   "source": [
    "ei[model].validate_entity_list()"
   ]
  },
  {
   "cell_type": "code",
   "execution_count": null,
   "metadata": {
    "collapsed": true
   },
   "outputs": [],
   "source": []
  },
  {
   "cell_type": "code",
   "execution_count": 10,
   "metadata": {
    "collapsed": true
   },
   "outputs": [],
   "source": [
    "import itertools"
   ]
  },
  {
   "cell_type": "code",
   "execution_count": 11,
   "metadata": {
    "collapsed": false
   },
   "outputs": [],
   "source": [
    "def group_by(result, group_key):\n",
    "    keys = []\n",
    "    groups = []\n",
    "    for i, j in itertools.groupby(sorted(result, key=group_key),\n",
    "                                  group_key):\n",
    "        keys.append(i)\n",
    "        groups.append(list(j))\n",
    "\n",
    "    return keys, groups\n",
    "\n"
   ]
  },
  {
   "cell_type": "code",
   "execution_count": 12,
   "metadata": {
    "collapsed": false
   },
   "outputs": [],
   "source": [
    "origin, flows_by_origin = group_by(ei[model]._entities_by_type('flow'), lambda x: x['origin'])"
   ]
  },
  {
   "cell_type": "code",
   "execution_count": 13,
   "metadata": {
    "collapsed": false
   },
   "outputs": [
    {
     "data": {
      "text/plain": [
       "['/data/LCI/Ecoinvent/3.2/undefined',\n",
       " '/data/LCI/LCIA implementation v3.1 2014_08_13.xlsx',\n",
       " '/home/b/Dropbox/data/Ecoinvent/3.2/activity_overview_for_users_3.2_undefined.xlsx']"
      ]
     },
     "execution_count": 13,
     "metadata": {},
     "output_type": "execute_result"
    }
   ],
   "source": [
    "origin"
   ]
  },
  {
   "cell_type": "code",
   "execution_count": 14,
   "metadata": {
    "collapsed": false
   },
   "outputs": [
    {
     "data": {
      "text/plain": [
       "[1555, 1700, 3512]"
      ]
     },
     "execution_count": 14,
     "metadata": {},
     "output_type": "execute_result"
    }
   ],
   "source": [
    "[len(g) for g in flows_by_origin]"
   ]
  },
  {
   "cell_type": "markdown",
   "metadata": {},
   "source": [
    "from spold -- elementary flows for which characterizations were found"
   ]
  },
  {
   "cell_type": "code",
   "execution_count": 15,
   "metadata": {
    "collapsed": false
   },
   "outputs": [
    {
     "data": {
      "text/plain": [
       "['Sethoxydim [air, non-urban air or from high stacks]',\n",
       " 'Occupation, lake, artificial [natural resource, land]',\n",
       " 'Strontium (CAS 007440-24-6) [soil, agricultural]',\n",
       " 'Pumice, in ground [natural resource, in ground]',\n",
       " 'Basalt, in ground [natural resource, in ground]',\n",
       " 'Cesium-134 [water, surface water]',\n",
       " 'Aerosols, radioactive, unspecified [air, non-urban air or from high stacks]',\n",
       " 'Zinc, ion (CAS 023713-49-7) [water, unspecified]',\n",
       " 'Transformation, to river, artificial [natural resource, land]',\n",
       " 'Antimony (CAS 007440-36-0) [water, ground-]']"
      ]
     },
     "execution_count": 15,
     "metadata": {},
     "output_type": "execute_result"
    }
   ],
   "source": [
    "[str(f) for f in flows_by_origin[0][:10]]"
   ]
  },
  {
   "cell_type": "markdown",
   "metadata": {},
   "source": [
    "from LCIA spreadsheet -- characterized elementary flows not found in the DB"
   ]
  },
  {
   "cell_type": "code",
   "execution_count": 16,
   "metadata": {
    "collapsed": false
   },
   "outputs": [
    {
     "data": {
      "text/plain": [
       "['Hydrocarbons, aliphatic, alkanes, cyclic [air, lower stratosphere + upper troposphere]',\n",
       " 'Ethene, tetrachloro- (CAS 000127-18-4) [water, ground-]',\n",
       " 'Iodine-135 [air, non-urban air or from high stacks]',\n",
       " 'Neptunium-237 [water, surface water]',\n",
       " 'Methane, bromotrifluoro-, Halon 1301 (CAS 000075-63-8) [air, unspecified]',\n",
       " 'Butyrolactone (CAS 000096-48-0) [air, unspecified]',\n",
       " 'Protactinium-234 (CAS 015100-28-4) [water, ground-]',\n",
       " 'Chromium-51 (CAS 014392-02-0) [air, unspecified]',\n",
       " 'Heat, waste [water, ocean]',\n",
       " 'Antimony-125 (CAS 014234-35-6) [water, ground-, long-term]']"
      ]
     },
     "execution_count": 16,
     "metadata": {},
     "output_type": "execute_result"
    }
   ],
   "source": [
    "[str(f) for f in flows_by_origin[1][:10]]"
   ]
  },
  {
   "cell_type": "markdown",
   "metadata": {},
   "source": [
    "from xls spreadsheet- probably mostly intermediate flows"
   ]
  },
  {
   "cell_type": "code",
   "execution_count": 17,
   "metadata": {
    "collapsed": false
   },
   "outputs": [
    {
     "data": {
      "text/plain": [
       "['sodium silicate, solid (CAS 1344-09-8) [Intermediate flow]',\n",
       " 'photovoltaic panel, single-Si wafer [Intermediate flow]',\n",
       " 'AOX, Adsorbable Organic Halogen as Cl [water, ground-]',\n",
       " 'cement, blast furnace slag 81-95%, non-US [Intermediate flow]',\n",
       " 'Lanthanum (CAS 007439-91-0) [air, non-urban air or from high stacks]',\n",
       " 'outside air intake, stainless steel, DN 370 [Intermediate flow]',\n",
       " 'glued laminated timber, for outdoor use [Intermediate flow]',\n",
       " 'Acidity, unspecified (CAS 012408-02-5) [water, ground-, long-term]',\n",
       " 'heptane (CAS 000142-82-5) [Intermediate flow]',\n",
       " 'waste packaging glass, unsorted [Intermediate flow]']"
      ]
     },
     "execution_count": 17,
     "metadata": {},
     "output_type": "execute_result"
    }
   ],
   "source": [
    "[str(f) for f in flows_by_origin[2][:10]]"
   ]
  },
  {
   "cell_type": "markdown",
   "metadata": {},
   "source": [
    "... but not strictly.\n",
    "\n",
    "Let's see those grouped by compartment"
   ]
  },
  {
   "cell_type": "code",
   "execution_count": 18,
   "metadata": {
    "collapsed": false
   },
   "outputs": [],
   "source": [
    "my_origin = 2\n",
    "comp, flows_by_comp = group_by(flows_by_origin[my_origin], lambda x: x['Compartment'][0])"
   ]
  },
  {
   "cell_type": "code",
   "execution_count": 19,
   "metadata": {
    "collapsed": true
   },
   "outputs": [],
   "source": [
    "def table(rows, entries):\n",
    "    for i, r in enumerate(rows):\n",
    "\n",
    "        print('%12d  %s' % (len(entries[i]), r))"
   ]
  },
  {
   "cell_type": "code",
   "execution_count": 20,
   "metadata": {
    "collapsed": false
   },
   "outputs": [
    {
     "name": "stdout",
     "output_type": "stream",
     "text": [
      "        2754  Intermediate flow\n",
      "         226  air\n",
      "           5  economic\n",
      "          41  natural resource\n",
      "          66  soil\n",
      "         420  water\n"
     ]
    }
   ],
   "source": [
    "table(comp, flows_by_comp)"
   ]
  },
  {
   "cell_type": "code",
   "execution_count": 21,
   "metadata": {
    "collapsed": false
   },
   "outputs": [
    {
     "name": "stdout",
     "output_type": "stream",
     "text": [
      "          15  LC quantity: Ecoinvent Spreadsheet Quantity kBq\n",
      "         398  LC quantity: Ecoinvent Spreadsheet Quantity kg\n",
      "           7  LC quantity: Ecoinvent Spreadsheet Quantity m3\n"
     ]
    }
   ],
   "source": [
    "table(*group_by(flows_by_comp[5], lambda x: str(x.reference_entity)))"
   ]
  },
  {
   "cell_type": "code",
   "execution_count": 22,
   "metadata": {
    "collapsed": false
   },
   "outputs": [
    {
     "data": {
      "text/plain": [
       "{'_external_ref': None, '_unitstring': 'kg', '_uuid': None}"
      ]
     },
     "execution_count": 22,
     "metadata": {},
     "output_type": "execute_result"
    }
   ],
   "source": [
    "ei[model]['2a75d3cb-eb9c-3b44-aad4-0bbaa51005d3'].reference_entity.__dict__"
   ]
  },
  {
   "cell_type": "code",
   "execution_count": 23,
   "metadata": {
    "collapsed": false
   },
   "outputs": [
    {
     "data": {
      "text/plain": [
       "['LC quantity: cumulative exergy demand, biomass, renewable energy resources, biomass',\n",
       " 'LC quantity: cumulative energy demand, biomass, renewable energy resources, biomass']"
      ]
     },
     "execution_count": 23,
     "metadata": {},
     "output_type": "execute_result"
    }
   ],
   "source": [
    "[str(x) for x in ei[model].search(entity_type='quantity', Name='mass')]"
   ]
  },
  {
   "cell_type": "code",
   "execution_count": null,
   "metadata": {
    "collapsed": true
   },
   "outputs": [],
   "source": []
  },
  {
   "cell_type": "code",
   "execution_count": null,
   "metadata": {
    "collapsed": true
   },
   "outputs": [],
   "source": []
  },
  {
   "cell_type": "code",
   "execution_count": 24,
   "metadata": {
    "collapsed": false
   },
   "outputs": [
    {
     "data": {
      "text/plain": [
       "{'_characterizations': {<lcatools.characterizations.Characterization at 0x7f3622519b00>},\n",
       " '_d': {'CasNumber': '',\n",
       "  'Comment': '',\n",
       "  'Compartment': ['Intermediate flow'],\n",
       "  'Name': 'outside air intake, stainless steel, DN 370',\n",
       "  'Synonyms': '',\n",
       "  'origin': '/home/b/Dropbox/data/Ecoinvent/3.2/activity_overview_for_users_3.2_undefined.xlsx'},\n",
       " '_external_ref': 'outside air intake, stainless steel, DN 370',\n",
       " '_ref_quantity_factor': 1.0,\n",
       " '_uuid': UUID('79e8c1a4-fec9-359c-9dd0-91cf86d5201d'),\n",
       " 'entity_type': 'flow',\n",
       " 'reference_entity': <lcatools.entities.LcQuantity at 0x7f3623cf3b00>}"
      ]
     },
     "execution_count": 24,
     "metadata": {},
     "output_type": "execute_result"
    }
   ],
   "source": [
    "flows_by_comp[0][3].__dict__"
   ]
  },
  {
   "cell_type": "code",
   "execution_count": null,
   "metadata": {
    "collapsed": true
   },
   "outputs": [],
   "source": []
  },
  {
   "cell_type": "code",
   "execution_count": 7,
   "metadata": {
    "collapsed": true
   },
   "outputs": [],
   "source": [
    "from lcatools.providers.ecoinvent_lcia import EcoinventLcia"
   ]
  },
  {
   "cell_type": "code",
   "execution_count": 8,
   "metadata": {
    "collapsed": true
   },
   "outputs": [],
   "source": [
    "lcia_file = '/data/LCI/LCIA implementation v3.1 2014_08_13.xlsx'\n"
   ]
  },
  {
   "cell_type": "code",
   "execution_count": 9,
   "metadata": {
    "collapsed": true
   },
   "outputs": [],
   "source": [
    "EL = EcoinventLcia(lcia_file, upstream=ei['undefined'], mass_quantity=ei['undefined'].quantity_with_unit('kg'),\n",
    "                  ns_uuid=ei['undefined']._ns_uuid)"
   ]
  },
  {
   "cell_type": "code",
   "execution_count": 10,
   "metadata": {
    "collapsed": false
   },
   "outputs": [
    {
     "name": "stdout",
     "output_type": "stream",
     "text": [
      "0 new process entities added (0 total)\n",
      "3255 new flow entities added (3255 total)\n",
      "707 new quantity entities added (707 total)\n"
     ]
    }
   ],
   "source": [
    "EL.load_all()"
   ]
  },
  {
   "cell_type": "code",
   "execution_count": 11,
   "metadata": {
    "collapsed": false
   },
   "outputs": [
    {
     "ename": "AttributeError",
     "evalue": "'LcFlow' object has no attribute 'get_external_key'",
     "output_type": "error",
     "traceback": [
      "\u001b[1;31m---------------------------------------------------------------------------\u001b[0m",
      "\u001b[1;31mAttributeError\u001b[0m                            Traceback (most recent call last)",
      "\u001b[1;32m<ipython-input-11-063dfe330770>\u001b[0m in \u001b[0;36m<module>\u001b[1;34m()\u001b[0m\n\u001b[1;32m----> 1\u001b[1;33m \u001b[0mei\u001b[0m\u001b[1;33m[\u001b[0m\u001b[1;34m'undefined'\u001b[0m\u001b[1;33m]\u001b[0m\u001b[1;33m.\u001b[0m\u001b[0mvalidate_entity_list\u001b[0m\u001b[1;33m(\u001b[0m\u001b[1;33m)\u001b[0m\u001b[1;33m\u001b[0m\u001b[0m\n\u001b[0m",
      "\u001b[1;32m/data/GitHub/lca-tools/lcatools/interfaces.py\u001b[0m in \u001b[0;36mvalidate_entity_list\u001b[1;34m(self)\u001b[0m\n\u001b[0;32m    388\u001b[0m             \u001b[1;31m# 2: confirm entity's external key maps to its uuid\u001b[0m\u001b[1;33m\u001b[0m\u001b[1;33m\u001b[0m\u001b[0m\n\u001b[0;32m    389\u001b[0m             \u001b[1;32mif\u001b[0m \u001b[0mself\u001b[0m\u001b[1;33m.\u001b[0m\u001b[0m_key_to_id\u001b[0m\u001b[1;33m(\u001b[0m\u001b[0mv\u001b[0m\u001b[1;33m.\u001b[0m\u001b[0mget_external_ref\u001b[0m\u001b[1;33m(\u001b[0m\u001b[1;33m)\u001b[0m\u001b[1;33m)\u001b[0m \u001b[1;33m!=\u001b[0m \u001b[0mk\u001b[0m\u001b[1;33m:\u001b[0m\u001b[1;33m\u001b[0m\u001b[0m\n\u001b[1;32m--> 390\u001b[1;33m                 \u001b[0mprint\u001b[0m\u001b[1;33m(\u001b[0m\u001b[1;34m\"%s: Key doesn't match UUID!\"\u001b[0m \u001b[1;33m%\u001b[0m \u001b[0mv\u001b[0m\u001b[1;33m.\u001b[0m\u001b[0mget_external_key\u001b[0m\u001b[1;33m(\u001b[0m\u001b[1;33m)\u001b[0m\u001b[1;33m)\u001b[0m\u001b[1;33m\u001b[0m\u001b[0m\n\u001b[0m\u001b[0;32m    391\u001b[0m                 \u001b[0mvalid\u001b[0m \u001b[1;33m=\u001b[0m \u001b[1;32mFalse\u001b[0m\u001b[1;33m\u001b[0m\u001b[0m\n\u001b[0;32m    392\u001b[0m \u001b[1;33m\u001b[0m\u001b[0m\n",
      "\u001b[1;31mAttributeError\u001b[0m: 'LcFlow' object has no attribute 'get_external_key'"
     ]
    }
   ],
   "source": [
    "ei['undefined'].validate_entity_list()"
   ]
  },
  {
   "cell_type": "code",
   "execution_count": 25,
   "metadata": {
    "collapsed": false
   },
   "outputs": [
    {
     "data": {
      "text/plain": [
       "{'CasNumber': '010028-17-8',\n",
       " 'Comment': '',\n",
       " 'Compartment': ['water', 'unspecified'],\n",
       " 'Formula': '',\n",
       " 'Name': 'Hydrogen-3, Tritium',\n",
       " 'Synonyms': '',\n",
       " 'characterizations': [{'quantity': '0148760a-5482-344b-95fc-e2e7327228ba',\n",
       "   'value': 6.7024e-09},\n",
       "  {'quantity': '01ec7c12-cefc-3c28-abbe-904c026752e9', 'value': 1.1688e-08},\n",
       "  {'quantity': '0755d155-caab-3ecf-9eaf-46d1d595cf8d', 'value': 1.1688e-08},\n",
       "  {'quantity': '0b07f0a8-f0bf-3780-a222-fd50e7ae61a6', 'value': 8.7097e-09},\n",
       "  {'quantity': '0c924ffe-72dc-3e70-a6e5-edcb64d5327a', 'value': 6.338e-11},\n",
       "  {'quantity': '0e8c57b2-c05b-3c01-843c-742398e18016', 'value': 3.4229e-09},\n",
       "  {'quantity': '209c3fc2-99ff-3015-b420-f9ba59015ea3', 'value': 1.0},\n",
       "  {'quantity': '2176194c-73ad-3edd-8027-616fb157165b',\n",
       "   'value': 2.14285714286e-05},\n",
       "  {'quantity': '22d43bc9-c0f9-31a8-a8e5-42576ac9575a', 'value': 2.5333e-08},\n",
       "  {'quantity': '37cd36bc-3613-3249-9542-4444ef53cae2', 'value': 8.7097e-09},\n",
       "  {'quantity': '3bc260a8-c1ff-3daf-91ac-5312315d4f1f', 'value': 3.4229e-09},\n",
       "  {'quantity': '3cfa3fc5-0496-324d-b7b8-84590991be96', 'value': 6.338e-11},\n",
       "  {'isReference': True,\n",
       "   'quantity': '487df68b-4994-4027-8fdc-a4dc298257b7',\n",
       "   'value': 1.0},\n",
       "  {'quantity': '4debc512-b711-3558-ac95-003811c2388e', 'value': 1.1688e-08},\n",
       "  {'quantity': '505100a9-26dd-32ff-b984-4132e8050100', 'value': 6.7024e-09},\n",
       "  {'quantity': '5c8b20ca-3d0d-3e40-9414-19a20542fbf7', 'value': 2.1429e-05},\n",
       "  {'quantity': '5dec3766-b351-3a58-9a34-80a95155d6c6', 'value': 6.9723e-09},\n",
       "  {'quantity': '5f856993-96e0-3f5d-9f39-4978688aa62c', 'value': 1.1688e-08},\n",
       "  {'quantity': '649c3a86-2029-351e-9302-4133f5527d6d', 'value': 8.7097e-09},\n",
       "  {'quantity': '66f7d746-ff32-3df9-bc73-cf5520cf0c7c', 'value': 6.7024e-09},\n",
       "  {'quantity': '7333792b-7c10-3524-be9f-271846f8b36e', 'value': 1.1688e-08},\n",
       "  {'quantity': '839b632f-3f3a-3964-8522-88f0bf49c206', 'value': 8.7097e-09},\n",
       "  {'quantity': '8475ac67-42d6-30e1-b105-34979a1ed842', 'value': 4.2e-05},\n",
       "  {'quantity': '89ffe28f-5875-3a76-96cf-4cca08259b7f',\n",
       "   'value': 2.14285714286e-05},\n",
       "  {'quantity': '8fc62490-0975-3a4f-8bdb-05a81e5651a4', 'value': 6.9723e-09},\n",
       "  {'quantity': '91973885-e5ff-3d08-85a9-db5bcba1521d', 'value': 4.2e-05},\n",
       "  {'quantity': '92a57842-db21-37fc-8dd2-c21bd8fdbf6d', 'value': 2.1429e-05},\n",
       "  {'quantity': '9b7eaffa-f0b5-36b1-8452-d5ab9d789e49', 'value': 3.4229e-09},\n",
       "  {'quantity': '9ed871ef-bd89-32b9-aeae-b7fc37d35180', 'value': 4.5e-13},\n",
       "  {'quantity': 'a2c95284-c32c-3b59-8e85-911b2ad575de', 'value': 8.7097e-09},\n",
       "  {'quantity': 'aa18caeb-12ef-3550-b652-a84781bc804d', 'value': 3.4229e-09},\n",
       "  {'quantity': 'b2a61239-661b-35dd-a2ca-8bb5faf9d4b5', 'value': 3.4229e-09},\n",
       "  {'quantity': 'b4487459-5bd6-3b5d-8107-6091a5b0f357', 'value': 4.5e-13},\n",
       "  {'quantity': 'bb0270a4-f444-31d5-8b87-74a67600874a', 'value': 1.1688e-08},\n",
       "  {'quantity': 'bb5087b8-cc9d-3252-b58d-88b3ee34c7f5', 'value': 2.5333e-08},\n",
       "  {'quantity': 'c99a4158-df02-3b27-a117-dba1a80817ce', 'value': 2.5333e-08},\n",
       "  {'quantity': 'd09d5ff6-1196-3cf8-856a-5f623f8e281f', 'value': 3.4229e-09},\n",
       "  {'quantity': 'd143e87c-7880-3f4a-b979-a53fce59fa46', 'value': 6.9723e-09},\n",
       "  {'quantity': 'd243f6fd-c7ec-3ca1-8b40-9674ecff68d6', 'value': 6.9723e-09},\n",
       "  {'quantity': 'dc0a2cb2-69ce-3644-8634-5d404b21ccb9', 'value': 6.9723e-09},\n",
       "  {'quantity': 'ef6b954f-fd88-3b1e-898b-788e7830046f', 'value': 6.9723e-09},\n",
       "  {'quantity': 'f38771f6-8491-3c83-95e5-36353aa7499a', 'value': 2.1429e-05},\n",
       "  {'quantity': 'fc767880-e1aa-37ee-b417-d27d52f54823', 'value': 8.7097e-09}],\n",
       " 'entityId': '5f4f97a7-8ea1-300d-8634-da6af1178040',\n",
       " 'entityType': 'flow',\n",
       " 'externalId': 'Hydrogen-3, Tritium, water, unspecified',\n",
       " 'origin': '/data/LCI/LCIA implementation v3.1 2014_08_13.xlsx'}"
      ]
     },
     "execution_count": 25,
     "metadata": {},
     "output_type": "execute_result"
    }
   ],
   "source": [
    "ei[model].flows()[47].serialize(characterizations=True, values=True)"
   ]
  },
  {
   "cell_type": "code",
   "execution_count": 26,
   "metadata": {
    "collapsed": false
   },
   "outputs": [
    {
     "name": "stdout",
     "output_type": "stream",
     "text": [
      "Loading /home/b/Dropbox/data/Ecoinvent/3.2/activity_overview_for_users_3.2_apos.xlsx\n",
      "Reading elementary exchanges ...\n",
      "Reading intermediate exchanges ...\n",
      "20 new quantity entities added (20 total)\n",
      "Handling elementary exchanges [public spreadsheet]\n",
      "4013 new flow entities added (4013 total)\n",
      "Handling intermediate exchanges [public spreadsheet]\n",
      "2754 new flow entities added (6767 total)\n",
      "Handling activities...\n",
      "Reading activity overview ...\n",
      "11420 new process entities added (11420 total)\n",
      "Loading /home/b/Dropbox/data/Ecoinvent/3.2/activity_overview_for_users_3.2_consequential.xlsx\n",
      "Reading elementary exchanges ...\n",
      "Reading intermediate exchanges ...\n",
      "20 new quantity entities added (20 total)\n",
      "Handling elementary exchanges [public spreadsheet]\n",
      "4013 new flow entities added (4013 total)\n",
      "Handling intermediate exchanges [public spreadsheet]\n",
      "2754 new flow entities added (6767 total)\n",
      "Handling activities...\n",
      "Reading activity overview ...\n",
      "11468 new process entities added (11468 total)\n",
      "Loading /home/b/Dropbox/data/Ecoinvent/3.2/activity_overview_for_users_3.2_cut-off.xlsx\n",
      "Reading elementary exchanges ...\n",
      "Reading intermediate exchanges ...\n",
      "20 new quantity entities added (20 total)\n",
      "Handling elementary exchanges [public spreadsheet]\n",
      "4013 new flow entities added (4013 total)\n",
      "Handling intermediate exchanges [public spreadsheet]\n",
      "2754 new flow entities added (6767 total)\n",
      "Handling activities...\n",
      "Reading activity overview ...\n",
      "11578 new process entities added (11578 total)\n"
     ]
    }
   ],
   "source": [
    "for model in SYSTEM_MODELS[1:]:\n",
    "    pub_file = os.path.join(datapath, 'activity_overview_for_users_' + ECOINVENT_VERSION + '_' + model + '.xlsx')\n",
    "    ei[model] = EcoinventSpreadsheet(pub_file, internal=False, upstream=ei['undefined'], version=ECOINVENT_VERSION, ns_uuid='544efee9-6651-4c77-813f-b0134f561eb9', quiet=True)\n",
    "    ei[model].load_all()\n",
    "    "
   ]
  },
  {
   "cell_type": "code",
   "execution_count": 27,
   "metadata": {
    "collapsed": false
   },
   "outputs": [
    {
     "name": "stdout",
     "output_type": "stream",
     "text": [
      "        1555  /data/LCI/Ecoinvent/3.2/undefined\n",
      "        1700  /data/LCI/LCIA implementation v3.1 2014_08_13.xlsx\n",
      "        3512  /home/b/Dropbox/data/Ecoinvent/3.2/activity_overview_for_users_3.2_undefined.xlsx\n"
     ]
    }
   ],
   "source": [
    "table(*group_by(ei[model]._entities_by_type('flow'), lambda x: x['origin']))"
   ]
  },
  {
   "cell_type": "code",
   "execution_count": 28,
   "metadata": {
    "collapsed": false
   },
   "outputs": [
    {
     "data": {
      "text/plain": [
       "['/data/LCI/Ecoinvent/3.2/undefined',\n",
       " '/data/LCI/LCIA implementation v3.1 2014_08_13.xlsx',\n",
       " '/home/b/Dropbox/data/Ecoinvent/3.2/activity_overview_for_users_3.2_undefined.xlsx']"
      ]
     },
     "execution_count": 28,
     "metadata": {},
     "output_type": "execute_result"
    }
   ],
   "source": [
    "origin, flows_by_origin = group_by(ei[model]._entities_by_type('flow'), lambda x: x['origin'])\n",
    "origin"
   ]
  },
  {
   "cell_type": "markdown",
   "metadata": {},
   "source": [
    "note: no flows from later spreadsheets"
   ]
  },
  {
   "cell_type": "code",
   "execution_count": 29,
   "metadata": {
    "collapsed": false
   },
   "outputs": [
    {
     "name": "stdout",
     "output_type": "stream",
     "text": [
      "        9491  /home/b/Dropbox/data/Ecoinvent/3.2/activity_overview_for_users_3.2_apos.xlsx\n",
      "        1929  /home/b/Dropbox/data/Ecoinvent/3.2/activity_overview_for_users_3.2_undefined.xlsx\n"
     ]
    }
   ],
   "source": [
    "table(*group_by(ei['apos']._entities_by_type('process'), lambda x: x['origin']))\n"
   ]
  },
  {
   "cell_type": "code",
   "execution_count": 30,
   "metadata": {
    "collapsed": false
   },
   "outputs": [],
   "source": [
    "for k, v in ei.items():\n",
    "    fname = 'ecoinvent_%s_%s_xlsx.json.gz' % (ECOINVENT_VERSION, k)\n",
    "    v.write_to_file(os.path.join(catalog_dir, fname), exchanges=True, gzip=True)"
   ]
  },
  {
   "cell_type": "code",
   "execution_count": 17,
   "metadata": {
    "collapsed": false
   },
   "outputs": [
    {
     "data": {
      "text/plain": [
       "{'apos': <lcatools.providers.ecoinvent_spreadsheet.EcoinventSpreadsheet at 0x7f0660f89518>,\n",
       " 'consequential': <lcatools.providers.ecoinvent_spreadsheet.EcoinventSpreadsheet at 0x7f069a6b28d0>,\n",
       " 'cut-off': <lcatools.providers.ecoinvent_spreadsheet.EcoinventSpreadsheet at 0x7f065fb29438>,\n",
       " 'undefined': <lcatools.providers.ecoinvent_spreadsheet.EcoinventSpreadsheet at 0x7f0667ada208>}"
      ]
     },
     "execution_count": 17,
     "metadata": {},
     "output_type": "execute_result"
    }
   ],
   "source": [
    "ei"
   ]
  },
  {
   "cell_type": "code",
   "execution_count": 18,
   "metadata": {
    "collapsed": true
   },
   "outputs": [],
   "source": [
    "def process_set(arch):\n",
    "    p = set()\n",
    "    for j in arch.processes():\n",
    "        p.add(j.get_external_ref())\n",
    "    return p\n",
    "        \n",
    "def compare(a1, a2):\n",
    "    s1 = process_set(a1)\n",
    "    s2 = process_set(a2)\n",
    "    return s1.intersection(s2)\n"
   ]
  },
  {
   "cell_type": "code",
   "execution_count": 19,
   "metadata": {
    "collapsed": false
   },
   "outputs": [
    {
     "data": {
      "text/plain": [
       "1929"
      ]
     },
     "execution_count": 19,
     "metadata": {},
     "output_type": "execute_result"
    }
   ],
   "source": [
    "len(compare(ei['apos'], ei['undefined']))"
   ]
  },
  {
   "cell_type": "code",
   "execution_count": 20,
   "metadata": {
    "collapsed": false
   },
   "outputs": [
    {
     "data": {
      "text/plain": [
       "11420"
      ]
     },
     "execution_count": 20,
     "metadata": {},
     "output_type": "execute_result"
    }
   ],
   "source": [
    "len(set([p.get_uuid() for p in ei['apos'].processes()]))"
   ]
  },
  {
   "cell_type": "code",
   "execution_count": 21,
   "metadata": {
    "collapsed": false
   },
   "outputs": [],
   "source": [
    "p = ei['apos'].search('00420798')[0]"
   ]
  },
  {
   "cell_type": "code",
   "execution_count": 22,
   "metadata": {
    "collapsed": false
   },
   "outputs": [
    {
     "data": {
      "text/plain": [
       "{'Comment': 'industrial gas power//fossil fuels',\n",
       " 'IsicClass': 'Electric power generation, transmission and distribution',\n",
       " 'IsicNumber': '3510',\n",
       " 'Name': 'treatment of blast furnace gas, in power plant',\n",
       " 'SpatialScope': 'BR',\n",
       " 'TechnologyLevel': 'Current',\n",
       " 'TemporalScope': {'begin': '1980-01-01', 'end': '2015-12-31'},\n",
       " 'entityId': '00420798-e9d1-4de9-8745-09bd85f31db8',\n",
       " 'entityType': 'process',\n",
       " 'exchanges': [{'direction': 'Output',\n",
       "   'flow': '58271de9-51c4-3b86-ae82-98c2b46280ec',\n",
       "   'isReference': True},\n",
       "  {'direction': 'Output',\n",
       "   'flow': 'c9655b4d-25ab-3e72-93ab-beb16f577e47',\n",
       "   'isReference': True},\n",
       "  {'direction': 'Output',\n",
       "   'flow': 'd804f912-5b47-31b5-a0bb-aaa4c5e378c4',\n",
       "   'isReference': True}],\n",
       " 'externalId': '00420798-e9d1-4de9-8745-09bd85f31db8',\n",
       " 'origin': '/home/b/Dropbox/data/Ecoinvent/3.2/activity_overview_for_users_3.2_undefined.xlsx'}"
      ]
     },
     "execution_count": 22,
     "metadata": {},
     "output_type": "execute_result"
    }
   ],
   "source": [
    "p.serialize(exchanges=True)"
   ]
  },
  {
   "cell_type": "code",
   "execution_count": 26,
   "metadata": {
    "collapsed": false
   },
   "outputs": [],
   "source": [
    "model = 'apos'\n",
    "zip_dir = os.path.join(os.path.expanduser('~'), 'Dropbox', 'data', 'Ecoinvent', ECOINVENT_VERSION)\n",
    "catalog_dir = os.path.join(os.path.expanduser('~'), 'GitHub', 'lca-tools-datafiles', 'catalogs')\n",
    "\n",
    "spold = 'current_Version_' + ECOINVENT_VERSION + '_' + model + '_ecoSpold02.7z'"
   ]
  },
  {
   "cell_type": "code",
   "execution_count": 27,
   "metadata": {
    "collapsed": true
   },
   "outputs": [],
   "source": [
    "ei_spold = dict()"
   ]
  },
  {
   "cell_type": "code",
   "execution_count": 28,
   "metadata": {
    "collapsed": true
   },
   "outputs": [],
   "source": [
    "from lcatools.providers.ecospold2 import EcospoldV2Archive"
   ]
  },
  {
   "cell_type": "code",
   "execution_count": 29,
   "metadata": {
    "collapsed": false
   },
   "outputs": [
    {
     "name": "stdout",
     "output_type": "stream",
     "text": [
      "Found Extension: 7z\n"
     ]
    }
   ],
   "source": [
    "ei_spold[model] = EcospoldV2Archive(os.path.join(zip_dir,spold), prefix='datasets', upstream=ei[model])"
   ]
  },
  {
   "cell_type": "code",
   "execution_count": 31,
   "metadata": {
    "collapsed": false
   },
   "outputs": [],
   "source": [
    "for k in ei_spold[model].list_datasets('00420798'):\n",
    "    ei_spold[model].retrieve_or_fetch_entity(k)"
   ]
  },
  {
   "cell_type": "code",
   "execution_count": 33,
   "metadata": {
    "collapsed": false
   },
   "outputs": [
    {
     "data": {
      "text/plain": [
       "{'Comment': 'industrial gas power//fossil fuels',\n",
       " 'IsicClass': 'Electric power generation, transmission and distribution',\n",
       " 'IsicNumber': '3510',\n",
       " 'Name': 'treatment of blast furnace gas, in power plant',\n",
       " 'SpatialScope': 'BR',\n",
       " 'TechnologyLevel': 'Current',\n",
       " 'TemporalScope': {'begin': '1980-01-01', 'end': '2015-12-31'},\n",
       " 'entityId': '00420798-e9d1-4de9-8745-09bd85f31db8',\n",
       " 'entityType': 'process',\n",
       " 'exchanges': [{'direction': 'Input',\n",
       "   'flow': '0451c9ba-5f09-4e23-a8b4-3d7ee441a6fc',\n",
       "   'value': {'66c93e71-f32b-4591-901c-55395db5c132': -0.00156381549138548,\n",
       "    '71e2f1db-a2c5-44d0-8337-dfff15be974d': -0.000169666777980411}},\n",
       "  {'direction': 'Input',\n",
       "   'flow': '0d3eda5a-4601-4573-9549-0701c459ab88',\n",
       "   'value': {'66c93e71-f32b-4591-901c-55395db5c132': 0.00283875927868927,\n",
       "    '71e2f1db-a2c5-44d0-8337-dfff15be974d': 0.000307992306592695}},\n",
       "  {'direction': 'Input',\n",
       "   'flow': '0d3eda5a-4601-4573-9549-0701c459ab88',\n",
       "   'value': {'66c93e71-f32b-4591-901c-55395db5c132': 0.0020937028567077,\n",
       "    '71e2f1db-a2c5-44d0-8337-dfff15be974d': 0.000227157116490293}},\n",
       "  {'direction': 'Input',\n",
       "   'flow': '0d3eda5a-4601-4573-9549-0701c459ab88',\n",
       "   'value': {'66c93e71-f32b-4591-901c-55395db5c132': 0.000622452200642829,\n",
       "    '71e2f1db-a2c5-44d0-8337-dfff15be974d': 6.75331967944115e-05}},\n",
       "  {'direction': 'Input',\n",
       "   'flow': '0d3eda5a-4601-4573-9549-0701c459ab88',\n",
       "   'value': {'66c93e71-f32b-4591-901c-55395db5c132': 0.0115503456393497,\n",
       "    '71e2f1db-a2c5-44d0-8337-dfff15be974d': 0.00125315930171041}},\n",
       "  {'direction': 'Input',\n",
       "   'flow': '0d3eda5a-4601-4573-9549-0701c459ab88',\n",
       "   'value': {'66c93e71-f32b-4591-901c-55395db5c132': 0.0209936151307718,\n",
       "    '71e2f1db-a2c5-44d0-8337-dfff15be974d': 0.0022777105464297}},\n",
       "  {'direction': 'Input',\n",
       "   'flow': '0d3eda5a-4601-4573-9549-0701c459ab88',\n",
       "   'value': {'66c93e71-f32b-4591-901c-55395db5c132': 0.00251047232941387,\n",
       "    '71e2f1db-a2c5-44d0-8337-dfff15be974d': 0.000272374684665169}},\n",
       "  {'direction': 'Input',\n",
       "   'flow': '0d3eda5a-4601-4573-9549-0701c459ab88',\n",
       "   'value': {'66c93e71-f32b-4591-901c-55395db5c132': 0.00276802607407076,\n",
       "    '71e2f1db-a2c5-44d0-8337-dfff15be974d': 0.000300318079684239}},\n",
       "  {'direction': 'Input',\n",
       "   'flow': '0d3eda5a-4601-4573-9549-0701c459ab88',\n",
       "   'value': {'66c93e71-f32b-4591-901c-55395db5c132': 0.00226346254779211,\n",
       "    '71e2f1db-a2c5-44d0-8337-dfff15be974d': 0.000245575261070587}},\n",
       "  {'direction': 'Input',\n",
       "   'flow': '0d3eda5a-4601-4573-9549-0701c459ab88',\n",
       "   'value': {'66c93e71-f32b-4591-901c-55395db5c132': 0.00896897034562622,\n",
       "    '71e2f1db-a2c5-44d0-8337-dfff15be974d': 0.000973091971992202}},\n",
       "  {'direction': 'Input',\n",
       "   'flow': '0d3eda5a-4601-4573-9549-0701c459ab88',\n",
       "   'value': {'66c93e71-f32b-4591-901c-55395db5c132': 0.000514937729622704,\n",
       "    '71e2f1db-a2c5-44d0-8337-dfff15be974d': 5.58683718935586e-05}},\n",
       "  {'direction': 'Input',\n",
       "   'flow': '1fa64d0c-afd7-46ab-b95c-3a54e0902dd0',\n",
       "   'value': {'66c93e71-f32b-4591-901c-55395db5c132': 3.57355341297498,\n",
       "    '71e2f1db-a2c5-44d0-8337-dfff15be974d': 0.387714085747542}},\n",
       "  {'direction': 'Input',\n",
       "   'flow': '240c1a3c-1aba-4528-afc3-3f27f56583be',\n",
       "   'value': {'66c93e71-f32b-4591-901c-55395db5c132': -0.0076237521135506,\n",
       "    '71e2f1db-a2c5-44d0-8337-dfff15be974d': -0.000827141989801807}},\n",
       "  {'direction': 'Input',\n",
       "   'flow': '28f2da0b-78ef-4715-ab9a-db1a5b17b2aa',\n",
       "   'value': {'66c93e71-f32b-4591-901c-55395db5c132': 4.89985475680743e-12,\n",
       "    '71e2f1db-a2c5-44d0-8337-dfff15be974d': 5.3161167269354e-13}},\n",
       "  {'direction': 'Input',\n",
       "   'flow': '3da25df2-438a-4e27-9141-4393f3b6f86f',\n",
       "   'value': {'66c93e71-f32b-4591-901c-55395db5c132': 0.146999317687165,\n",
       "    '71e2f1db-a2c5-44d0-8337-dfff15be974d': 0.0159487488995287}},\n",
       "  {'direction': 'Input',\n",
       "   'flow': '64d5b86f-0965-4051-89cc-9580ac0ee5cf',\n",
       "   'value': {'66c93e71-f32b-4591-901c-55395db5c132': -4.47037624233664e-05,\n",
       "    '71e2f1db-a2c5-44d0-8337-dfff15be974d': -4.85015232024242e-06}},\n",
       "  {'direction': 'Input',\n",
       "   'flow': '831f249e-53f2-49cf-a93c-7cee105f048e',\n",
       "   'value': {'66c93e71-f32b-4591-901c-55395db5c132': 0.000148312178346806,\n",
       "    '71e2f1db-a2c5-44d0-8337-dfff15be974d': 1.60911882341468e-05}},\n",
       "  {'direction': 'Input',\n",
       "   'flow': '98d3683b-565f-492d-b2df-de9de017bb28',\n",
       "   'value': {'66c93e71-f32b-4591-901c-55395db5c132': -0.0959170547908753,\n",
       "    '71e2f1db-a2c5-44d0-8337-dfff15be974d': -0.0104065586569425}},\n",
       "  {'direction': 'Input',\n",
       "   'flow': 'a9007f10-7e39-4d50-8f4a-d6d03ce3d673',\n",
       "   'value': {'66c93e71-f32b-4591-901c-55395db5c132': 0.00113076398220896,\n",
       "    '71e2f1db-a2c5-44d0-8337-dfff15be974d': 0.000122682683842528}},\n",
       "  {'direction': 'Input',\n",
       "   'flow': 'b254bbdf-fb2b-4878-aec9-2a7820f3f32e',\n",
       "   'value': {'66c93e71-f32b-4591-901c-55395db5c132': -0.771746417857617,\n",
       "    '71e2f1db-a2c5-44d0-8337-dfff15be974d': -0.0837309317225256}},\n",
       "  {'direction': 'Input',\n",
       "   'flow': 'cb262c3c-a7c7-4781-82e6-e1e90dd92b65',\n",
       "   'value': {'66c93e71-f32b-4591-901c-55395db5c132': 0.0551247441326869,\n",
       "    '71e2f1db-a2c5-44d0-8337-dfff15be974d': 0.00598078083732326}},\n",
       "  {'direction': 'Input',\n",
       "   'flow': 'cf8c95e1-aa88-4d23-9d83-065a935387d3',\n",
       "   'value': {'66c93e71-f32b-4591-901c-55395db5c132': 0.00367498294217913,\n",
       "    '71e2f1db-a2c5-44d0-8337-dfff15be974d': 0.000398718722488217}},\n",
       "  {'direction': 'Input',\n",
       "   'flow': 'd3e019ee-edbe-4774-a4a6-9701cf293d05',\n",
       "   'value': {'66c93e71-f32b-4591-901c-55395db5c132': 0.000734996588435826,\n",
       "    '71e2f1db-a2c5-44d0-8337-dfff15be974d': 7.97437444976435e-05}},\n",
       "  {'direction': 'Input',\n",
       "   'flow': 'd4591183-a1ce-4c6d-80fa-761edfb78aec',\n",
       "   'value': {'66c93e71-f32b-4591-901c-55395db5c132': 0.385873208928809,\n",
       "    '71e2f1db-a2c5-44d0-8337-dfff15be974d': 0.0418654658612628}},\n",
       "  {'direction': 'Input',\n",
       "   'flow': 'f89244f2-c60e-455b-ba2a-6ed369955d60',\n",
       "   'value': {'b254bbdf-fb2b-4878-aec9-2a7820f3f32e': 6.56047887323944e-12}},\n",
       "  {'direction': 'Input',\n",
       "   'flow': 'fc1c42ce-a759-49fa-b987-f1ec5e503db1',\n",
       "   'value': {'66c93e71-f32b-4591-901c-55395db5c132': 0.000388436657574969,\n",
       "    '71e2f1db-a2c5-44d0-8337-dfff15be974d': 4.21435882322894e-05,\n",
       "    'b254bbdf-fb2b-4878-aec9-2a7820f3f32e': 0.00567078688602113}},\n",
       "  {'direction': 'Output',\n",
       "   'flow': '075e433b-4be4-448e-9510-9a5029c1ce94',\n",
       "   'value': {'66c93e71-f32b-4591-901c-55395db5c132': 0.000180181640479661,\n",
       "    '71e2f1db-a2c5-44d0-8337-dfff15be974d': 1.95488780868415e-05,\n",
       "    'b254bbdf-fb2b-4878-aec9-2a7820f3f32e': 9.02664041901409e-05}},\n",
       "  {'direction': 'Output',\n",
       "   'flow': '0b9698ec-8b52-4986-8f9f-ad30915aa00c',\n",
       "   'value': {'b254bbdf-fb2b-4878-aec9-2a7820f3f32e': 1.11112676056338e-06}},\n",
       "  {'direction': 'Output',\n",
       "   'flow': '1bb6a502-3ff9-4a79-835c-5588b855f1f5',\n",
       "   'value': {'b254bbdf-fb2b-4878-aec9-2a7820f3f32e': 8.94698591549296e-10}},\n",
       "  {'direction': 'Output',\n",
       "   'flow': '20664d0e-24e3-4daa-8c5c-2ade6e0c2723',\n",
       "   'value': {'b254bbdf-fb2b-4878-aec9-2a7820f3f32e': 3.19811267605634e-08}},\n",
       "  {'direction': 'Output',\n",
       "   'flow': '20d4d821-f4f7-4017-8810-f822fcdf619e',\n",
       "   'value': {'66c93e71-f32b-4591-901c-55395db5c132': 3.94876917137147e-06,\n",
       "    '71e2f1db-a2c5-44d0-8337-dfff15be974d': 4.28423267313589e-07}},\n",
       "  {'direction': 'Output',\n",
       "   'flow': '21e46cb8-6233-4c99-bac3-c41d2ab99498',\n",
       "   'value': {'66c93e71-f32b-4591-901c-55395db5c132': 1.05556535048211e-05,\n",
       "    '71e2f1db-a2c5-44d0-8337-dfff15be974d': 1.14523978660291e-06}},\n",
       "  {'direction': 'Output',\n",
       "   'flow': '230d8a0a-517c-43fe-8357-1818dd12997a',\n",
       "   'value': {'b254bbdf-fb2b-4878-aec9-2a7820f3f32e': 9.66197183098592e-07}},\n",
       "  {'direction': 'Output',\n",
       "   'flow': '2404b41a-2eed-4e9d-8ab6-783946fdf5d6',\n",
       "   'value': {'66c93e71-f32b-4591-901c-55395db5c132': 0.000356567195442113,\n",
       "    '71e2f1db-a2c5-44d0-8337-dfff15be974d': 3.86858983795947e-05,\n",
       "    'b254bbdf-fb2b-4878-aec9-2a7820f3f32e': 0.00558052048183099}},\n",
       "  {'direction': 'Output',\n",
       "   'flow': '295060ba-3c3d-45e4-99ca-e17b1204b553',\n",
       "   'value': {'66c93e71-f32b-4591-901c-55395db5c132': 2.73668629738195e-08,\n",
       "    '71e2f1db-a2c5-44d0-8337-dfff15be974d': 2.96917858262526e-09}},\n",
       "  {'direction': 'Output',\n",
       "   'flow': '2cbb504a-ce2f-40e9-9d38-e130e95a1242',\n",
       "   'value': {'b254bbdf-fb2b-4878-aec9-2a7820f3f32e': 5.11118309859155e-13}},\n",
       "  {'direction': 'Output',\n",
       "   'flow': '349b29d1-3e58-4c66-98b9-9d1a076efd2e',\n",
       "   'value': {'66c93e71-f32b-4591-901c-55395db5c132': 0.312035451654545,\n",
       "    '71e2f1db-a2c5-44d0-8337-dfff15be974d': 0.0338544092890295}},\n",
       "  {'direction': 'Output',\n",
       "   'flow': '39946c56-cdf6-4a22-9ac9-1cd333b65533',\n",
       "   'value': {'b254bbdf-fb2b-4878-aec9-2a7820f3f32e': 1.44929577464789e-09}},\n",
       "  {'direction': 'Output',\n",
       "   'flow': '3bbc78d0-08c4-48ef-a863-704e32fddcb3',\n",
       "   'value': {'b254bbdf-fb2b-4878-aec9-2a7820f3f32e': 7.66194366197183e-07}},\n",
       "  {'direction': 'Output',\n",
       "   'flow': '58271de9-51c4-3b86-ae82-98c2b46280ec',\n",
       "   'isReference': True},\n",
       "  {'direction': 'Output',\n",
       "   'flow': '5ad58fcc-e9ba-4155-a3c9-e4ffb3065a6f',\n",
       "   'value': {'b254bbdf-fb2b-4878-aec9-2a7820f3f32e': 7.72957746478874e-10}},\n",
       "  {'direction': 'Output',\n",
       "   'flow': '5f7aad3d-566c-4d0d-ad59-e765f971aa0f',\n",
       "   'value': {'b254bbdf-fb2b-4878-aec9-2a7820f3f32e': 9.33536996627654e-07}},\n",
       "  {'direction': 'Output',\n",
       "   'flow': '66020d27-7ae4-4e59-83a3-89214b72c40a',\n",
       "   'value': {'66c93e71-f32b-4591-901c-55395db5c132': 5.86417028083524e-07,\n",
       "    '71e2f1db-a2c5-44d0-8337-dfff15be974d': 6.36235465474448e-08}},\n",
       "  {'direction': 'Output',\n",
       "   'flow': '66c93e71-f32b-4591-901c-55395db5c132',\n",
       "   'isReference': True,\n",
       "   'value': {'66c93e71-f32b-4591-901c-55395db5c132': 1.0}},\n",
       "  {'direction': 'Output',\n",
       "   'flow': '6dc1b46f-ee89-4495-95c4-b8a637bcd6cb',\n",
       "   'value': {'b254bbdf-fb2b-4878-aec9-2a7820f3f32e': 9.66197183098592e-07}},\n",
       "  {'direction': 'Output',\n",
       "   'flow': '6edcc2df-88a3-48e1-83d8-ffc38d31c35b',\n",
       "   'value': {'b254bbdf-fb2b-4878-aec9-2a7820f3f32e': 1.44929577464789e-05}},\n",
       "  {'direction': 'Output',\n",
       "   'flow': '71e2f1db-a2c5-44d0-8337-dfff15be974d',\n",
       "   'isReference': True,\n",
       "   'value': {'71e2f1db-a2c5-44d0-8337-dfff15be974d': 1.0}},\n",
       "  {'direction': 'Output',\n",
       "   'flow': '892f10da-7bf2-42b3-b171-221989661a05',\n",
       "   'value': {'b254bbdf-fb2b-4878-aec9-2a7820f3f32e': 8.94698591549296e-07}},\n",
       "  {'direction': 'Output',\n",
       "   'flow': '8c52f40c-69b7-4538-8923-b371523c71f5',\n",
       "   'value': {'b254bbdf-fb2b-4878-aec9-2a7820f3f32e': 1.93239436619718e-05}},\n",
       "  {'direction': 'Output',\n",
       "   'flow': '8e123669-94d3-41d8-9480-a79211fe7c43',\n",
       "   'value': {'66c93e71-f32b-4591-901c-55395db5c132': 2.54121395468745e-08,\n",
       "    '71e2f1db-a2c5-44d0-8337-dfff15be974d': 2.75710009413377e-09}},\n",
       "  {'direction': 'Output',\n",
       "   'flow': '98c66fdb-091d-46e9-a533-686f821e8f6a',\n",
       "   'value': {'b254bbdf-fb2b-4878-aec9-2a7820f3f32e': 6.81169014084507e-07}},\n",
       "  {'direction': 'Output',\n",
       "   'flow': '99c07b66-c039-4896-866d-06abdaa9d46a',\n",
       "   'value': {'b254bbdf-fb2b-4878-aec9-2a7820f3f32e': 7.66194366197183e-13}},\n",
       "  {'direction': 'Output',\n",
       "   'flow': '9d1efa17-070a-4602-a65f-daf5056b0647',\n",
       "   'value': {'b254bbdf-fb2b-4878-aec9-2a7820f3f32e': 7.72957746478874e-09}},\n",
       "  {'direction': 'Output',\n",
       "   'flow': '9ea11aea-7cb7-4b38-b936-a42c2a4bac97',\n",
       "   'value': {'b254bbdf-fb2b-4878-aec9-2a7820f3f32e': 1.32369014084507e-06}},\n",
       "  {'direction': 'Output',\n",
       "   'flow': 'a5506f4b-113f-4713-95c3-c819dde6e48b',\n",
       "   'value': {'66c93e71-f32b-4591-901c-55395db5c132': 5.86417028083523e-09,\n",
       "    '71e2f1db-a2c5-44d0-8337-dfff15be974d': 6.36235465474448e-10}},\n",
       "  {'direction': 'Output',\n",
       "   'flow': 'b254bbdf-fb2b-4878-aec9-2a7820f3f32e',\n",
       "   'isReference': True,\n",
       "   'value': {'b254bbdf-fb2b-4878-aec9-2a7820f3f32e': -1.0}},\n",
       "  {'direction': 'Output',\n",
       "   'flow': 'b967e1bf-f09b-4c89-8740-ace21db47bba',\n",
       "   'value': {'66c93e71-f32b-4591-901c-55395db5c132': 5.86417028083524e-07,\n",
       "    '71e2f1db-a2c5-44d0-8337-dfff15be974d': 6.36235465474448e-08}},\n",
       "  {'direction': 'Output',\n",
       "   'flow': 'b9b68c0c-053e-41de-ab72-8dfe1c3f5755',\n",
       "   'value': {'b254bbdf-fb2b-4878-aec9-2a7820f3f32e': 1.1690985915493e-07}},\n",
       "  {'direction': 'Output',\n",
       "   'flow': 'ba2f3f82-c93a-47a5-822a-37ec97495275',\n",
       "   'value': {'66c93e71-f32b-4591-901c-55395db5c132': 0.00049259471356969,\n",
       "    '71e2f1db-a2c5-44d0-8337-dfff15be974d': 5.34442575623206e-05}},\n",
       "  {'direction': 'Output',\n",
       "   'flow': 'c1b91234-6f24-417b-8309-46111d09c457',\n",
       "   'value': {'66c93e71-f32b-4591-901c-55395db5c132': 2.93215864007646e-05,\n",
       "    '71e2f1db-a2c5-44d0-8337-dfff15be974d': 3.18125707111674e-06}},\n",
       "  {'direction': 'Output',\n",
       "   'flow': 'c9655b4d-25ab-3e72-93ab-beb16f577e47',\n",
       "   'isReference': True},\n",
       "  {'direction': 'Output',\n",
       "   'flow': 'd068f3e2-b033-417b-a359-ca4f25da9731',\n",
       "   'value': {'b254bbdf-fb2b-4878-aec9-2a7820f3f32e': 6.76338028169014e-05}},\n",
       "  {'direction': 'Output',\n",
       "   'flow': 'd804f912-5b47-31b5-a0bb-aaa4c5e378c4',\n",
       "   'isReference': True},\n",
       "  {'direction': 'Output',\n",
       "   'flow': 'f1c0cd31-8d5e-4bc9-91f6-79e76329234e',\n",
       "   'value': {'b254bbdf-fb2b-4878-aec9-2a7820f3f32e': 1.54591549295775e-08}},\n",
       "  {'direction': 'Output',\n",
       "   'flow': 'f9749677-9c9f-4678-ab55-c607dfdc2cb9',\n",
       "   'value': {'b254bbdf-fb2b-4878-aec9-2a7820f3f32e': 0.193239436619718}},\n",
       "  {'direction': 'Output',\n",
       "   'flow': 'fd7aa71c-508c-480d-81a6-8052aad92646',\n",
       "   'value': {'66c93e71-f32b-4591-901c-55395db5c132': 4.88699231650981e-05,\n",
       "    '71e2f1db-a2c5-44d0-8337-dfff15be974d': 5.30216157164831e-06}}],\n",
       " 'externalId': '00420798-e9d1-4de9-8745-09bd85f31db8',\n",
       " 'origin': '/home/b/Dropbox/data/Ecoinvent/3.2/activity_overview_for_users_3.2_undefined.xlsx'}"
      ]
     },
     "execution_count": 33,
     "metadata": {},
     "output_type": "execute_result"
    }
   ],
   "source": [
    "p.serialize(exchanges=True, values=True)"
   ]
  },
  {
   "cell_type": "code",
   "execution_count": 35,
   "metadata": {
    "collapsed": false
   },
   "outputs": [
    {
     "name": "stdout",
     "output_type": "stream",
     "text": [
      "1 new process entities added (1 total)\n",
      "89 new flow entities added (89 total)\n",
      "5 new quantity entities added (5 total)\n"
     ]
    }
   ],
   "source": [
    "ei_spold[model].check_counter()"
   ]
  },
  {
   "cell_type": "code",
   "execution_count": 36,
   "metadata": {
    "collapsed": false
   },
   "outputs": [
    {
     "data": {
      "text/plain": [
       "{'catalogNames': {},\n",
       " 'dataSourceReference': '/home/b/Dropbox/data/Ecoinvent/3.2/current_Version_3.2_apos_ecoSpold02.7z',\n",
       " 'dataSourceType': 'EcospoldV2Archive',\n",
       " 'flows': [{'CasNumber': None,\n",
       "   'Comment': 'EcoSpold02 Flow',\n",
       "   'Compartment': ['By-product classification: Waste'],\n",
       "   'Name': 'sludge, pig iron production',\n",
       "   'characterizations': [{'isReference': True,\n",
       "     'quantity': '487df68b-4994-4027-8fdc-a4dc298257b7'}],\n",
       "   'entityId': '0451c9ba-5f09-4e23-a8b4-3d7ee441a6fc',\n",
       "   'entityType': 'flow',\n",
       "   'externalId': '0451c9ba-5f09-4e23-a8b4-3d7ee441a6fc',\n",
       "   'origin': '/home/b/Dropbox/data/Ecoinvent/3.2/current_Version_3.2_apos_ecoSpold02.7z'},\n",
       "  {'CasNumber': '007732-18-5',\n",
       "   'Comment': 'EcoSpold02 Flow',\n",
       "   'Compartment': ['air', 'unspecified'],\n",
       "   'Name': 'Water',\n",
       "   'characterizations': [{'isReference': True,\n",
       "     'quantity': 'de5b3c87-0e35-4fb0-9765-4f3ba34c99e5'}],\n",
       "   'entityId': '075e433b-4be4-448e-9510-9a5029c1ce94',\n",
       "   'entityType': 'flow',\n",
       "   'externalId': '075e433b-4be4-448e-9510-9a5029c1ce94',\n",
       "   'origin': '/home/b/Dropbox/data/Ecoinvent/3.2/current_Version_3.2_apos_ecoSpold02.7z'},\n",
       "  {'CasNumber': '001746-01-6',\n",
       "   'Comment': 'EcoSpold02 Flow',\n",
       "   'Compartment': ['air', 'unspecified'],\n",
       "   'Name': 'Dioxins, measured as 2,3,7,8-tetrachlorodibenzo-p-dioxin',\n",
       "   'characterizations': [{'isReference': True,\n",
       "     'quantity': '487df68b-4994-4027-8fdc-a4dc298257b7'}],\n",
       "   'entityId': '082903e4-45d8-4078-94cb-736b15279277',\n",
       "   'entityType': 'flow',\n",
       "   'externalId': '082903e4-45d8-4078-94cb-736b15279277',\n",
       "   'origin': '/home/b/Dropbox/data/Ecoinvent/3.2/current_Version_3.2_apos_ecoSpold02.7z'},\n",
       "  {'CasNumber': '000630-08-0',\n",
       "   'Comment': 'EcoSpold02 Flow',\n",
       "   'Compartment': ['air', 'non-urban air or from high stacks'],\n",
       "   'Name': 'Carbon monoxide, fossil',\n",
       "   'characterizations': [{'isReference': True,\n",
       "     'quantity': '487df68b-4994-4027-8fdc-a4dc298257b7'}],\n",
       "   'entityId': '099b36ab-4c03-4587-87f4-2f81e337afb8',\n",
       "   'entityType': 'flow',\n",
       "   'externalId': '099b36ab-4c03-4587-87f4-2f81e337afb8',\n",
       "   'origin': '/home/b/Dropbox/data/Ecoinvent/3.2/current_Version_3.2_apos_ecoSpold02.7z'},\n",
       "  {'CasNumber': '000109-66-0',\n",
       "   'Comment': 'EcoSpold02 Flow',\n",
       "   'Compartment': ['air', 'urban air close to ground'],\n",
       "   'Name': 'Pentane',\n",
       "   'characterizations': [{'isReference': True,\n",
       "     'quantity': '487df68b-4994-4027-8fdc-a4dc298257b7'}],\n",
       "   'entityId': '0b9698ec-8b52-4986-8f9f-ad30915aa00c',\n",
       "   'entityType': 'flow',\n",
       "   'externalId': '0b9698ec-8b52-4986-8f9f-ad30915aa00c',\n",
       "   'origin': '/home/b/Dropbox/data/Ecoinvent/3.2/current_Version_3.2_apos_ecoSpold02.7z'},\n",
       "  {'CasNumber': None,\n",
       "   'Comment': 'EcoSpold02 Flow',\n",
       "   'Compartment': ['By-product classification: allocatable product'],\n",
       "   'Name': 'hard coal',\n",
       "   'characterizations': [{'isReference': True,\n",
       "     'quantity': '487df68b-4994-4027-8fdc-a4dc298257b7'}],\n",
       "   'entityId': '0d3eda5a-4601-4573-9549-0701c459ab88',\n",
       "   'entityType': 'flow',\n",
       "   'externalId': '0d3eda5a-4601-4573-9549-0701c459ab88',\n",
       "   'origin': '/home/b/Dropbox/data/Ecoinvent/3.2/current_Version_3.2_apos_ecoSpold02.7z'},\n",
       "  {'CasNumber': '000079-09-4',\n",
       "   'Comment': 'EcoSpold02 Flow',\n",
       "   'Compartment': ['air', 'non-urban air or from high stacks'],\n",
       "   'Name': 'Propionic acid',\n",
       "   'characterizations': [{'isReference': True,\n",
       "     'quantity': '487df68b-4994-4027-8fdc-a4dc298257b7'}],\n",
       "   'entityId': '0f907765-2a94-48a8-8978-55a2757d3e24',\n",
       "   'entityType': 'flow',\n",
       "   'externalId': '0f907765-2a94-48a8-8978-55a2757d3e24',\n",
       "   'origin': '/home/b/Dropbox/data/Ecoinvent/3.2/current_Version_3.2_apos_ecoSpold02.7z'},\n",
       "  {'CasNumber': '130498-29-2',\n",
       "   'Comment': 'EcoSpold02 Flow',\n",
       "   'Compartment': ['air', 'non-urban air or from high stacks'],\n",
       "   'Name': 'PAH, polycyclic aromatic hydrocarbons',\n",
       "   'characterizations': [{'isReference': True,\n",
       "     'quantity': '487df68b-4994-4027-8fdc-a4dc298257b7'}],\n",
       "   'entityId': '13d898ac-b9be-4723-a153-565e2a9144ac',\n",
       "   'entityType': 'flow',\n",
       "   'externalId': '13d898ac-b9be-4723-a153-565e2a9144ac',\n",
       "   'origin': '/home/b/Dropbox/data/Ecoinvent/3.2/current_Version_3.2_apos_ecoSpold02.7z'},\n",
       "  {'CasNumber': '000071-43-2',\n",
       "   'Comment': 'EcoSpold02 Flow',\n",
       "   'Compartment': ['air', 'urban air close to ground'],\n",
       "   'Name': 'Benzene',\n",
       "   'characterizations': [{'isReference': True,\n",
       "     'quantity': '487df68b-4994-4027-8fdc-a4dc298257b7'}],\n",
       "   'entityId': '1bb6a502-3ff9-4a79-835c-5588b855f1f5',\n",
       "   'entityType': 'flow',\n",
       "   'externalId': '1bb6a502-3ff9-4a79-835c-5588b855f1f5',\n",
       "   'origin': '/home/b/Dropbox/data/Ecoinvent/3.2/current_Version_3.2_apos_ecoSpold02.7z'},\n",
       "  {'CasNumber': None,\n",
       "   'Comment': 'EcoSpold02 Flow',\n",
       "   'Compartment': ['By-product classification: allocatable product'],\n",
       "   'Name': 'coke',\n",
       "   'characterizations': [{'isReference': True,\n",
       "     'quantity': '980b811e-3905-4797-82a5-173f5568bc7e'}],\n",
       "   'entityId': '1fa64d0c-afd7-46ab-b95c-3a54e0902dd0',\n",
       "   'entityType': 'flow',\n",
       "   'externalId': '1fa64d0c-afd7-46ab-b95c-3a54e0902dd0',\n",
       "   'origin': '/home/b/Dropbox/data/Ecoinvent/3.2/current_Version_3.2_apos_ecoSpold02.7z'},\n",
       "  {'CasNumber': '000050-00-0',\n",
       "   'Comment': 'EcoSpold02 Flow',\n",
       "   'Compartment': ['air', 'urban air close to ground'],\n",
       "   'Name': 'Formaldehyde',\n",
       "   'characterizations': [{'isReference': True,\n",
       "     'quantity': '487df68b-4994-4027-8fdc-a4dc298257b7'}],\n",
       "   'entityId': '20664d0e-24e3-4daa-8c5c-2ade6e0c2723',\n",
       "   'entityType': 'flow',\n",
       "   'externalId': '20664d0e-24e3-4daa-8c5c-2ade6e0c2723',\n",
       "   'origin': '/home/b/Dropbox/data/Ecoinvent/3.2/current_Version_3.2_apos_ecoSpold02.7z'},\n",
       "  {'CasNumber': '007783-06-4',\n",
       "   'Comment': 'EcoSpold02 Flow',\n",
       "   'Compartment': ['air', 'unspecified'],\n",
       "   'Name': 'Hydrogen sulfide',\n",
       "   'characterizations': [{'isReference': True,\n",
       "     'quantity': '487df68b-4994-4027-8fdc-a4dc298257b7'}],\n",
       "   'entityId': '20d4d821-f4f7-4017-8810-f822fcdf619e',\n",
       "   'entityType': 'flow',\n",
       "   'externalId': '20d4d821-f4f7-4017-8810-f822fcdf619e',\n",
       "   'origin': '/home/b/Dropbox/data/Ecoinvent/3.2/current_Version_3.2_apos_ecoSpold02.7z'},\n",
       "  {'CasNumber': None,\n",
       "   'Comment': 'EcoSpold02 Flow',\n",
       "   'Compartment': ['air', 'unspecified'],\n",
       "   'Name': 'Particulates, < 2.5 um',\n",
       "   'characterizations': [{'isReference': True,\n",
       "     'quantity': '487df68b-4994-4027-8fdc-a4dc298257b7'}],\n",
       "   'entityId': '21e46cb8-6233-4c99-bac3-c41d2ab99498',\n",
       "   'entityType': 'flow',\n",
       "   'externalId': '21e46cb8-6233-4c99-bac3-c41d2ab99498',\n",
       "   'origin': '/home/b/Dropbox/data/Ecoinvent/3.2/current_Version_3.2_apos_ecoSpold02.7z'},\n",
       "  {'CasNumber': None,\n",
       "   'Comment': 'EcoSpold02 Flow',\n",
       "   'Compartment': ['air', 'urban air close to ground'],\n",
       "   'Name': 'Particulates, < 2.5 um',\n",
       "   'characterizations': [{'isReference': True,\n",
       "     'quantity': '487df68b-4994-4027-8fdc-a4dc298257b7'}],\n",
       "   'entityId': '230d8a0a-517c-43fe-8357-1818dd12997a',\n",
       "   'entityType': 'flow',\n",
       "   'externalId': '230d8a0a-517c-43fe-8357-1818dd12997a',\n",
       "   'origin': '/home/b/Dropbox/data/Ecoinvent/3.2/current_Version_3.2_apos_ecoSpold02.7z'},\n",
       "  {'CasNumber': '001746-01-6',\n",
       "   'Comment': 'EcoSpold02 Flow',\n",
       "   'Compartment': ['air', 'urban air close to ground'],\n",
       "   'Name': 'Dioxins, measured as 2,3,7,8-tetrachlorodibenzo-p-dioxin',\n",
       "   'characterizations': [{'isReference': True,\n",
       "     'quantity': '487df68b-4994-4027-8fdc-a4dc298257b7'}],\n",
       "   'entityId': '237a5f15-8119-472a-8988-88b7ecb42405',\n",
       "   'entityType': 'flow',\n",
       "   'externalId': '237a5f15-8119-472a-8988-88b7ecb42405',\n",
       "   'origin': '/home/b/Dropbox/data/Ecoinvent/3.2/current_Version_3.2_apos_ecoSpold02.7z'},\n",
       "  {'CasNumber': '007732-18-5',\n",
       "   'Comment': 'EcoSpold02 Flow',\n",
       "   'Compartment': ['water', 'unspecified'],\n",
       "   'Name': 'Water',\n",
       "   'characterizations': [{'isReference': True,\n",
       "     'quantity': 'de5b3c87-0e35-4fb0-9765-4f3ba34c99e5'}],\n",
       "   'entityId': '2404b41a-2eed-4e9d-8ab6-783946fdf5d6',\n",
       "   'entityType': 'flow',\n",
       "   'externalId': '2404b41a-2eed-4e9d-8ab6-783946fdf5d6',\n",
       "   'origin': '/home/b/Dropbox/data/Ecoinvent/3.2/current_Version_3.2_apos_ecoSpold02.7z'},\n",
       "  {'CasNumber': None,\n",
       "   'Comment': 'EcoSpold02 Flow',\n",
       "   'Compartment': ['By-product classification: Waste'],\n",
       "   'Name': 'inert waste, for final disposal',\n",
       "   'characterizations': [{'isReference': True,\n",
       "     'quantity': '487df68b-4994-4027-8fdc-a4dc298257b7'}],\n",
       "   'entityId': '240c1a3c-1aba-4528-afc3-3f27f56583be',\n",
       "   'entityType': 'flow',\n",
       "   'externalId': '240c1a3c-1aba-4528-afc3-3f27f56583be',\n",
       "   'origin': '/home/b/Dropbox/data/Ecoinvent/3.2/current_Version_3.2_apos_ecoSpold02.7z'},\n",
       "  {'CasNumber': '007439-96-5',\n",
       "   'Comment': 'EcoSpold02 Flow',\n",
       "   'Compartment': ['air', 'non-urban air or from high stacks'],\n",
       "   'Name': 'Manganese',\n",
       "   'characterizations': [{'isReference': True,\n",
       "     'quantity': '487df68b-4994-4027-8fdc-a4dc298257b7'}],\n",
       "   'entityId': '2460f868-54a9-404c-bec8-c809a44ae72c',\n",
       "   'entityType': 'flow',\n",
       "   'externalId': '2460f868-54a9-404c-bec8-c809a44ae72c',\n",
       "   'origin': '/home/b/Dropbox/data/Ecoinvent/3.2/current_Version_3.2_apos_ecoSpold02.7z'},\n",
       "  {'CasNumber': '007439-92-1',\n",
       "   'Comment': 'EcoSpold02 Flow',\n",
       "   'Compartment': ['air', 'non-urban air or from high stacks'],\n",
       "   'Name': 'Lead',\n",
       "   'characterizations': [{'isReference': True,\n",
       "     'quantity': '487df68b-4994-4027-8fdc-a4dc298257b7'}],\n",
       "   'entityId': '2718482b-8399-442e-b89a-52fbcc22d2e6',\n",
       "   'entityType': 'flow',\n",
       "   'externalId': '2718482b-8399-442e-b89a-52fbcc22d2e6',\n",
       "   'origin': '/home/b/Dropbox/data/Ecoinvent/3.2/current_Version_3.2_apos_ecoSpold02.7z'},\n",
       "  {'CasNumber': None,\n",
       "   'Comment': 'EcoSpold02 Flow',\n",
       "   'Compartment': ['By-product classification: allocatable product'],\n",
       "   'Name': 'blast furnace',\n",
       "   'characterizations': [{'isReference': True,\n",
       "     'quantity': '5b972631-34e3-4db7-a615-f6931770a0cb'}],\n",
       "   'entityId': '28f2da0b-78ef-4715-ab9a-db1a5b17b2aa',\n",
       "   'entityType': 'flow',\n",
       "   'externalId': '28f2da0b-78ef-4715-ab9a-db1a5b17b2aa',\n",
       "   'origin': '/home/b/Dropbox/data/Ecoinvent/3.2/current_Version_3.2_apos_ecoSpold02.7z'},\n",
       "  {'CasNumber': '007439-96-5',\n",
       "   'Comment': 'EcoSpold02 Flow',\n",
       "   'Compartment': ['air', 'unspecified'],\n",
       "   'Name': 'Manganese',\n",
       "   'characterizations': [{'isReference': True,\n",
       "     'quantity': '487df68b-4994-4027-8fdc-a4dc298257b7'}],\n",
       "   'entityId': '295060ba-3c3d-45e4-99ca-e17b1204b553',\n",
       "   'entityType': 'flow',\n",
       "   'externalId': '295060ba-3c3d-45e4-99ca-e17b1204b553',\n",
       "   'origin': '/home/b/Dropbox/data/Ecoinvent/3.2/current_Version_3.2_apos_ecoSpold02.7z'},\n",
       "  {'CasNumber': '000050-32-8',\n",
       "   'Comment': 'EcoSpold02 Flow',\n",
       "   'Compartment': ['air', 'urban air close to ground'],\n",
       "   'Name': 'Benzo(a)pyrene',\n",
       "   'characterizations': [{'isReference': True,\n",
       "     'quantity': '487df68b-4994-4027-8fdc-a4dc298257b7'}],\n",
       "   'entityId': '2cbb504a-ce2f-40e9-9d38-e130e95a1242',\n",
       "   'entityType': 'flow',\n",
       "   'externalId': '2cbb504a-ce2f-40e9-9d38-e130e95a1242',\n",
       "   'origin': '/home/b/Dropbox/data/Ecoinvent/3.2/current_Version_3.2_apos_ecoSpold02.7z'},\n",
       "  {'CasNumber': '000109-66-0',\n",
       "   'Comment': 'EcoSpold02 Flow',\n",
       "   'Compartment': ['air', 'non-urban air or from high stacks'],\n",
       "   'Name': 'Pentane',\n",
       "   'characterizations': [{'isReference': True,\n",
       "     'quantity': '487df68b-4994-4027-8fdc-a4dc298257b7'}],\n",
       "   'entityId': '2f052025-4072-4d8e-b22d-68d50bfb260c',\n",
       "   'entityType': 'flow',\n",
       "   'externalId': '2f052025-4072-4d8e-b22d-68d50bfb260c',\n",
       "   'origin': '/home/b/Dropbox/data/Ecoinvent/3.2/current_Version_3.2_apos_ecoSpold02.7z'},\n",
       "  {'CasNumber': '000124-38-9',\n",
       "   'Comment': 'EcoSpold02 Flow',\n",
       "   'Compartment': ['air', 'unspecified'],\n",
       "   'Name': 'Carbon dioxide, fossil',\n",
       "   'characterizations': [{'isReference': True,\n",
       "     'quantity': '487df68b-4994-4027-8fdc-a4dc298257b7'}],\n",
       "   'entityId': '349b29d1-3e58-4c66-98b9-9d1a076efd2e',\n",
       "   'entityType': 'flow',\n",
       "   'externalId': '349b29d1-3e58-4c66-98b9-9d1a076efd2e',\n",
       "   'origin': '/home/b/Dropbox/data/Ecoinvent/3.2/current_Version_3.2_apos_ecoSpold02.7z'},\n",
       "  {'CasNumber': '000108-88-3',\n",
       "   'Comment': 'EcoSpold02 Flow',\n",
       "   'Compartment': ['air', 'urban air close to ground'],\n",
       "   'Name': 'Toluene',\n",
       "   'characterizations': [{'isReference': True,\n",
       "     'quantity': '487df68b-4994-4027-8fdc-a4dc298257b7'}],\n",
       "   'entityId': '39946c56-cdf6-4a22-9ac9-1cd333b65533',\n",
       "   'entityType': 'flow',\n",
       "   'externalId': '39946c56-cdf6-4a22-9ac9-1cd333b65533',\n",
       "   'origin': '/home/b/Dropbox/data/Ecoinvent/3.2/current_Version_3.2_apos_ecoSpold02.7z'},\n",
       "  {'CasNumber': '000110-54-3',\n",
       "   'Comment': 'EcoSpold02 Flow',\n",
       "   'Compartment': ['air', 'urban air close to ground'],\n",
       "   'Name': 'Hexane',\n",
       "   'characterizations': [{'isReference': True,\n",
       "     'quantity': '487df68b-4994-4027-8fdc-a4dc298257b7'}],\n",
       "   'entityId': '3bbc78d0-08c4-48ef-a863-704e32fddcb3',\n",
       "   'entityType': 'flow',\n",
       "   'externalId': '3bbc78d0-08c4-48ef-a863-704e32fddcb3',\n",
       "   'origin': '/home/b/Dropbox/data/Ecoinvent/3.2/current_Version_3.2_apos_ecoSpold02.7z'},\n",
       "  {'CasNumber': None,\n",
       "   'Comment': 'EcoSpold02 Flow',\n",
       "   'Compartment': ['By-product classification: allocatable product'],\n",
       "   'Name': 'iron pellet',\n",
       "   'characterizations': [{'isReference': True,\n",
       "     'quantity': '487df68b-4994-4027-8fdc-a4dc298257b7'}],\n",
       "   'entityId': '3da25df2-438a-4e27-9141-4393f3b6f86f',\n",
       "   'entityType': 'flow',\n",
       "   'externalId': '3da25df2-438a-4e27-9141-4393f3b6f86f',\n",
       "   'origin': '/home/b/Dropbox/data/Ecoinvent/3.2/current_Version_3.2_apos_ecoSpold02.7z'},\n",
       "  {'CasNumber': '000110-54-3',\n",
       "   'Comment': 'EcoSpold02 Flow',\n",
       "   'Compartment': ['air', 'non-urban air or from high stacks'],\n",
       "   'Name': 'Hexane',\n",
       "   'characterizations': [{'isReference': True,\n",
       "     'quantity': '487df68b-4994-4027-8fdc-a4dc298257b7'}],\n",
       "   'entityId': '41067ac7-bf36-47ef-a19f-683d9b758a28',\n",
       "   'entityType': 'flow',\n",
       "   'externalId': '41067ac7-bf36-47ef-a19f-683d9b758a28',\n",
       "   'origin': '/home/b/Dropbox/data/Ecoinvent/3.2/current_Version_3.2_apos_ecoSpold02.7z'},\n",
       "  {'CasNumber': '007440-47-3',\n",
       "   'Comment': 'EcoSpold02 Flow',\n",
       "   'Compartment': ['air', 'non-urban air or from high stacks'],\n",
       "   'Name': 'Chromium',\n",
       "   'characterizations': [{'isReference': True,\n",
       "     'quantity': '487df68b-4994-4027-8fdc-a4dc298257b7'}],\n",
       "   'entityId': '4d40d8e3-9bc7-4ab1-ac5c-4f4a76fda8e5',\n",
       "   'entityType': 'flow',\n",
       "   'externalId': '4d40d8e3-9bc7-4ab1-ac5c-4f4a76fda8e5',\n",
       "   'origin': '/home/b/Dropbox/data/Ecoinvent/3.2/current_Version_3.2_apos_ecoSpold02.7z'},\n",
       "  {'CasNumber': '000075-07-0',\n",
       "   'Comment': 'EcoSpold02 Flow',\n",
       "   'Compartment': ['air', 'urban air close to ground'],\n",
       "   'Name': 'Acetaldehyde',\n",
       "   'characterizations': [{'isReference': True,\n",
       "     'quantity': '487df68b-4994-4027-8fdc-a4dc298257b7'}],\n",
       "   'entityId': '5ad58fcc-e9ba-4155-a3c9-e4ffb3065a6f',\n",
       "   'entityType': 'flow',\n",
       "   'externalId': '5ad58fcc-e9ba-4155-a3c9-e4ffb3065a6f',\n",
       "   'origin': '/home/b/Dropbox/data/Ecoinvent/3.2/current_Version_3.2_apos_ecoSpold02.7z'},\n",
       "  {'CasNumber': '007440-41-7',\n",
       "   'Comment': 'EcoSpold02 Flow',\n",
       "   'Compartment': ['air', 'non-urban air or from high stacks'],\n",
       "   'Name': 'Beryllium',\n",
       "   'characterizations': [{'isReference': True,\n",
       "     'quantity': '487df68b-4994-4027-8fdc-a4dc298257b7'}],\n",
       "   'entityId': '5d4b497b-d265-42d1-a41a-113785a6d694',\n",
       "   'entityType': 'flow',\n",
       "   'externalId': '5d4b497b-d265-42d1-a41a-113785a6d694',\n",
       "   'origin': '/home/b/Dropbox/data/Ecoinvent/3.2/current_Version_3.2_apos_ecoSpold02.7z'},\n",
       "  {'CasNumber': '000071-43-2',\n",
       "   'Comment': 'EcoSpold02 Flow',\n",
       "   'Compartment': ['air', 'non-urban air or from high stacks'],\n",
       "   'Name': 'Benzene',\n",
       "   'characterizations': [{'isReference': True,\n",
       "     'quantity': '487df68b-4994-4027-8fdc-a4dc298257b7'}],\n",
       "   'entityId': '5e883a00-04e6-4d96-8dce-12d7117c6635',\n",
       "   'entityType': 'flow',\n",
       "   'externalId': '5e883a00-04e6-4d96-8dce-12d7117c6635',\n",
       "   'origin': '/home/b/Dropbox/data/Ecoinvent/3.2/current_Version_3.2_apos_ecoSpold02.7z'},\n",
       "  {'CasNumber': '007439-97-6',\n",
       "   'Comment': 'EcoSpold02 Flow',\n",
       "   'Compartment': ['air', 'non-urban air or from high stacks'],\n",
       "   'Name': 'Mercury',\n",
       "   'characterizations': [{'isReference': True,\n",
       "     'quantity': '487df68b-4994-4027-8fdc-a4dc298257b7'}],\n",
       "   'entityId': '5ec9c16a-959d-44cd-be7d-a935727d2151',\n",
       "   'entityType': 'flow',\n",
       "   'externalId': '5ec9c16a-959d-44cd-be7d-a935727d2151',\n",
       "   'origin': '/home/b/Dropbox/data/Ecoinvent/3.2/current_Version_3.2_apos_ecoSpold02.7z'},\n",
       "  {'CasNumber': '000074-82-8',\n",
       "   'Comment': 'EcoSpold02 Flow',\n",
       "   'Compartment': ['air', 'urban air close to ground'],\n",
       "   'Name': 'Methane, fossil',\n",
       "   'characterizations': [{'isReference': True,\n",
       "     'quantity': '487df68b-4994-4027-8fdc-a4dc298257b7'}],\n",
       "   'entityId': '5f7aad3d-566c-4d0d-ad59-e765f971aa0f',\n",
       "   'entityType': 'flow',\n",
       "   'externalId': '5f7aad3d-566c-4d0d-ad59-e765f971aa0f',\n",
       "   'origin': '/home/b/Dropbox/data/Ecoinvent/3.2/current_Version_3.2_apos_ecoSpold02.7z'},\n",
       "  {'CasNumber': None,\n",
       "   'Comment': 'EcoSpold02 Flow',\n",
       "   'Compartment': ['By-product classification: Waste'],\n",
       "   'Name': 'wastewater from pig iron production',\n",
       "   'characterizations': [{'isReference': True,\n",
       "     'quantity': 'de5b3c87-0e35-4fb0-9765-4f3ba34c99e5'}],\n",
       "   'entityId': '64d5b86f-0965-4051-89cc-9580ac0ee5cf',\n",
       "   'entityType': 'flow',\n",
       "   'externalId': '64d5b86f-0965-4051-89cc-9580ac0ee5cf',\n",
       "   'origin': '/home/b/Dropbox/data/Ecoinvent/3.2/current_Version_3.2_apos_ecoSpold02.7z'},\n",
       "  {'CasNumber': None,\n",
       "   'Comment': 'EcoSpold02 Flow',\n",
       "   'Compartment': ['air', 'unspecified'],\n",
       "   'Name': 'Particulates, > 10 um',\n",
       "   'characterizations': [{'isReference': True,\n",
       "     'quantity': '487df68b-4994-4027-8fdc-a4dc298257b7'}],\n",
       "   'entityId': '66020d27-7ae4-4e59-83a3-89214b72c40a',\n",
       "   'entityType': 'flow',\n",
       "   'externalId': '66020d27-7ae4-4e59-83a3-89214b72c40a',\n",
       "   'origin': '/home/b/Dropbox/data/Ecoinvent/3.2/current_Version_3.2_apos_ecoSpold02.7z'},\n",
       "  {'CasNumber': None,\n",
       "   'Comment': 'EcoSpold02 Flow',\n",
       "   'Compartment': ['By-product classification: allocatable product'],\n",
       "   'Name': 'electricity, high voltage',\n",
       "   'characterizations': [{'isReference': True,\n",
       "     'quantity': '77ae64fa-7e74-4252-9c3b-889c1cd20bfc'}],\n",
       "   'entityId': '66c93e71-f32b-4591-901c-55395db5c132',\n",
       "   'entityType': 'flow',\n",
       "   'externalId': '66c93e71-f32b-4591-901c-55395db5c132',\n",
       "   'origin': '/home/b/Dropbox/data/Ecoinvent/3.2/current_Version_3.2_apos_ecoSpold02.7z'},\n",
       "  {'CasNumber': None,\n",
       "   'Comment': 'EcoSpold02 Flow',\n",
       "   'Compartment': ['air', 'non-urban air or from high stacks'],\n",
       "   'Name': 'Particulates, < 2.5 um',\n",
       "   'characterizations': [{'isReference': True,\n",
       "     'quantity': '487df68b-4994-4027-8fdc-a4dc298257b7'}],\n",
       "   'entityId': '66f50b33-fd62-4fdd-a373-c5b0de7de00d',\n",
       "   'entityType': 'flow',\n",
       "   'externalId': '66f50b33-fd62-4fdd-a373-c5b0de7de00d',\n",
       "   'origin': '/home/b/Dropbox/data/Ecoinvent/3.2/current_Version_3.2_apos_ecoSpold02.7z'},\n",
       "  {'CasNumber': None,\n",
       "   'Comment': 'EcoSpold02 Flow',\n",
       "   'Compartment': ['By-product classification: allocatable product'],\n",
       "   'Name': 'water, decarbonised, at user',\n",
       "   'characterizations': [{'isReference': True,\n",
       "     'quantity': '487df68b-4994-4027-8fdc-a4dc298257b7'}],\n",
       "   'entityId': '6ab2abde-801d-45a3-8ea3-455d0f01c3f4',\n",
       "   'entityType': 'flow',\n",
       "   'externalId': '6ab2abde-801d-45a3-8ea3-455d0f01c3f4',\n",
       "   'origin': '/home/b/Dropbox/data/Ecoinvent/3.2/current_Version_3.2_apos_ecoSpold02.7z'},\n",
       "  {'CasNumber': '010024-97-2',\n",
       "   'Comment': 'EcoSpold02 Flow',\n",
       "   'Compartment': ['air', 'urban air close to ground'],\n",
       "   'Name': 'Dinitrogen monoxide',\n",
       "   'characterizations': [{'isReference': True,\n",
       "     'quantity': '487df68b-4994-4027-8fdc-a4dc298257b7'}],\n",
       "   'entityId': '6dc1b46f-ee89-4495-95c4-b8a637bcd6cb',\n",
       "   'entityType': 'flow',\n",
       "   'externalId': '6dc1b46f-ee89-4495-95c4-b8a637bcd6cb',\n",
       "   'origin': '/home/b/Dropbox/data/Ecoinvent/3.2/current_Version_3.2_apos_ecoSpold02.7z'},\n",
       "  {'CasNumber': '000630-08-0',\n",
       "   'Comment': 'EcoSpold02 Flow',\n",
       "   'Compartment': ['air', 'urban air close to ground'],\n",
       "   'Name': 'Carbon monoxide, fossil',\n",
       "   'characterizations': [{'isReference': True,\n",
       "     'quantity': '487df68b-4994-4027-8fdc-a4dc298257b7'}],\n",
       "   'entityId': '6edcc2df-88a3-48e1-83d8-ffc38d31c35b',\n",
       "   'entityType': 'flow',\n",
       "   'externalId': '6edcc2df-88a3-48e1-83d8-ffc38d31c35b',\n",
       "   'origin': '/home/b/Dropbox/data/Ecoinvent/3.2/current_Version_3.2_apos_ecoSpold02.7z'},\n",
       "  {'CasNumber': '000074-82-8',\n",
       "   'Comment': 'EcoSpold02 Flow',\n",
       "   'Compartment': ['air', 'non-urban air or from high stacks'],\n",
       "   'Name': 'Methane, fossil',\n",
       "   'characterizations': [{'isReference': True,\n",
       "     'quantity': '487df68b-4994-4027-8fdc-a4dc298257b7'}],\n",
       "   'entityId': '70ef743b-3ed5-4a6d-b192-fb6d62378555',\n",
       "   'entityType': 'flow',\n",
       "   'externalId': '70ef743b-3ed5-4a6d-b192-fb6d62378555',\n",
       "   'origin': '/home/b/Dropbox/data/Ecoinvent/3.2/current_Version_3.2_apos_ecoSpold02.7z'},\n",
       "  {'CasNumber': None,\n",
       "   'Comment': 'EcoSpold02 Flow',\n",
       "   'Compartment': ['By-product classification: allocatable product'],\n",
       "   'Name': 'heat, district or industrial, other than natural gas',\n",
       "   'characterizations': [{'isReference': True,\n",
       "     'quantity': '980b811e-3905-4797-82a5-173f5568bc7e'}],\n",
       "   'entityId': '71e2f1db-a2c5-44d0-8337-dfff15be974d',\n",
       "   'entityType': 'flow',\n",
       "   'externalId': '71e2f1db-a2c5-44d0-8337-dfff15be974d',\n",
       "   'origin': '/home/b/Dropbox/data/Ecoinvent/3.2/current_Version_3.2_apos_ecoSpold02.7z'},\n",
       "  {'CasNumber': '007440-38-2',\n",
       "   'Comment': 'EcoSpold02 Flow',\n",
       "   'Compartment': ['air', 'non-urban air or from high stacks'],\n",
       "   'Name': 'Arsenic',\n",
       "   'characterizations': [{'isReference': True,\n",
       "     'quantity': '487df68b-4994-4027-8fdc-a4dc298257b7'}],\n",
       "   'entityId': '7348af7c-e102-4a03-a0df-efce16469eed',\n",
       "   'entityType': 'flow',\n",
       "   'externalId': '7348af7c-e102-4a03-a0df-efce16469eed',\n",
       "   'origin': '/home/b/Dropbox/data/Ecoinvent/3.2/current_Version_3.2_apos_ecoSpold02.7z'},\n",
       "  {'CasNumber': '011104-93-1',\n",
       "   'Comment': 'EcoSpold02 Flow',\n",
       "   'Compartment': ['air', 'non-urban air or from high stacks'],\n",
       "   'Name': 'Nitrogen oxides',\n",
       "   'characterizations': [{'isReference': True,\n",
       "     'quantity': '487df68b-4994-4027-8fdc-a4dc298257b7'}],\n",
       "   'entityId': '77357947-ccc5-438e-9996-95e65e1e1bce',\n",
       "   'entityType': 'flow',\n",
       "   'externalId': '77357947-ccc5-438e-9996-95e65e1e1bce',\n",
       "   'origin': '/home/b/Dropbox/data/Ecoinvent/3.2/current_Version_3.2_apos_ecoSpold02.7z'},\n",
       "  {'CasNumber': '000108-88-3',\n",
       "   'Comment': 'EcoSpold02 Flow',\n",
       "   'Compartment': ['air', 'non-urban air or from high stacks'],\n",
       "   'Name': 'Toluene',\n",
       "   'characterizations': [{'isReference': True,\n",
       "     'quantity': '487df68b-4994-4027-8fdc-a4dc298257b7'}],\n",
       "   'entityId': '77f17646-cede-4a49-99dd-55950098b077',\n",
       "   'entityType': 'flow',\n",
       "   'externalId': '77f17646-cede-4a49-99dd-55950098b077',\n",
       "   'origin': '/home/b/Dropbox/data/Ecoinvent/3.2/current_Version_3.2_apos_ecoSpold02.7z'},\n",
       "  {'CasNumber': '007446-09-5',\n",
       "   'Comment': 'EcoSpold02 Flow',\n",
       "   'Compartment': ['air', 'non-urban air or from high stacks'],\n",
       "   'Name': 'Sulfur dioxide',\n",
       "   'characterizations': [{'isReference': True,\n",
       "     'quantity': '487df68b-4994-4027-8fdc-a4dc298257b7'}],\n",
       "   'entityId': '78c3efe4-421c-4d30-82e4-b97ac5124993',\n",
       "   'entityType': 'flow',\n",
       "   'externalId': '78c3efe4-421c-4d30-82e4-b97ac5124993',\n",
       "   'origin': '/home/b/Dropbox/data/Ecoinvent/3.2/current_Version_3.2_apos_ecoSpold02.7z'},\n",
       "  {'CasNumber': '000050-32-8',\n",
       "   'Comment': 'EcoSpold02 Flow',\n",
       "   'Compartment': ['air', 'non-urban air or from high stacks'],\n",
       "   'Name': 'Benzo(a)pyrene',\n",
       "   'characterizations': [{'isReference': True,\n",
       "     'quantity': '487df68b-4994-4027-8fdc-a4dc298257b7'}],\n",
       "   'entityId': '81c4ba39-8a3f-4a43-97b4-401605bbebf5',\n",
       "   'entityType': 'flow',\n",
       "   'externalId': '81c4ba39-8a3f-4a43-97b4-401605bbebf5',\n",
       "   'origin': '/home/b/Dropbox/data/Ecoinvent/3.2/current_Version_3.2_apos_ecoSpold02.7z'},\n",
       "  {'CasNumber': '007732-18-5',\n",
       "   'Comment': 'EcoSpold02 Flow',\n",
       "   'Compartment': ['natural resource', 'in water'],\n",
       "   'Name': 'Water, unspecified natural origin',\n",
       "   'characterizations': [{'isReference': True,\n",
       "     'quantity': 'de5b3c87-0e35-4fb0-9765-4f3ba34c99e5'}],\n",
       "   'entityId': '831f249e-53f2-49cf-a93c-7cee105f048e',\n",
       "   'entityType': 'flow',\n",
       "   'externalId': '831f249e-53f2-49cf-a93c-7cee105f048e',\n",
       "   'origin': '/home/b/Dropbox/data/Ecoinvent/3.2/current_Version_3.2_apos_ecoSpold02.7z'},\n",
       "  {'CasNumber': '000106-97-8',\n",
       "   'Comment': 'EcoSpold02 Flow',\n",
       "   'Compartment': ['air', 'urban air close to ground'],\n",
       "   'Name': 'Butane',\n",
       "   'characterizations': [{'isReference': True,\n",
       "     'quantity': '487df68b-4994-4027-8fdc-a4dc298257b7'}],\n",
       "   'entityId': '892f10da-7bf2-42b3-b171-221989661a05',\n",
       "   'entityType': 'flow',\n",
       "   'externalId': '892f10da-7bf2-42b3-b171-221989661a05',\n",
       "   'origin': '/home/b/Dropbox/data/Ecoinvent/3.2/current_Version_3.2_apos_ecoSpold02.7z'},\n",
       "  {'CasNumber': '007446-09-5',\n",
       "   'Comment': 'EcoSpold02 Flow',\n",
       "   'Compartment': ['air', 'urban air close to ground'],\n",
       "   'Name': 'Sulfur dioxide',\n",
       "   'characterizations': [{'isReference': True,\n",
       "     'quantity': '487df68b-4994-4027-8fdc-a4dc298257b7'}],\n",
       "   'entityId': '8c52f40c-69b7-4538-8923-b371523c71f5',\n",
       "   'entityType': 'flow',\n",
       "   'externalId': '8c52f40c-69b7-4538-8923-b371523c71f5',\n",
       "   'origin': '/home/b/Dropbox/data/Ecoinvent/3.2/current_Version_3.2_apos_ecoSpold02.7z'},\n",
       "  {'CasNumber': '007439-92-1',\n",
       "   'Comment': 'EcoSpold02 Flow',\n",
       "   'Compartment': ['air', 'unspecified'],\n",
       "   'Name': 'Lead',\n",
       "   'characterizations': [{'isReference': True,\n",
       "     'quantity': '487df68b-4994-4027-8fdc-a4dc298257b7'}],\n",
       "   'entityId': '8e123669-94d3-41d8-9480-a79211fe7c43',\n",
       "   'entityType': 'flow',\n",
       "   'externalId': '8e123669-94d3-41d8-9480-a79211fe7c43',\n",
       "   'origin': '/home/b/Dropbox/data/Ecoinvent/3.2/current_Version_3.2_apos_ecoSpold02.7z'},\n",
       "  {'CasNumber': '000050-00-0',\n",
       "   'Comment': 'EcoSpold02 Flow',\n",
       "   'Compartment': ['air', 'non-urban air or from high stacks'],\n",
       "   'Name': 'Formaldehyde',\n",
       "   'characterizations': [{'isReference': True,\n",
       "     'quantity': '487df68b-4994-4027-8fdc-a4dc298257b7'}],\n",
       "   'entityId': '9167dca7-615e-435c-8ba6-dbbf50e50e34',\n",
       "   'entityType': 'flow',\n",
       "   'externalId': '9167dca7-615e-435c-8ba6-dbbf50e50e34',\n",
       "   'origin': '/home/b/Dropbox/data/Ecoinvent/3.2/current_Version_3.2_apos_ecoSpold02.7z'},\n",
       "  {'CasNumber': '000083-32-9',\n",
       "   'Comment': 'EcoSpold02 Flow',\n",
       "   'Compartment': ['air', 'non-urban air or from high stacks'],\n",
       "   'Name': 'Acenaphthene',\n",
       "   'characterizations': [{'isReference': True,\n",
       "     'quantity': '487df68b-4994-4027-8fdc-a4dc298257b7'}],\n",
       "   'entityId': '922a7ccf-3338-43ad-bd7e-77d51df051ab',\n",
       "   'entityType': 'flow',\n",
       "   'externalId': '922a7ccf-3338-43ad-bd7e-77d51df051ab',\n",
       "   'origin': '/home/b/Dropbox/data/Ecoinvent/3.2/current_Version_3.2_apos_ecoSpold02.7z'},\n",
       "  {'CasNumber': '000074-98-6',\n",
       "   'Comment': 'EcoSpold02 Flow',\n",
       "   'Compartment': ['air', 'urban air close to ground'],\n",
       "   'Name': 'Propane',\n",
       "   'characterizations': [{'isReference': True,\n",
       "     'quantity': '487df68b-4994-4027-8fdc-a4dc298257b7'}],\n",
       "   'entityId': '98c66fdb-091d-46e9-a533-686f821e8f6a',\n",
       "   'entityType': 'flow',\n",
       "   'externalId': '98c66fdb-091d-46e9-a533-686f821e8f6a',\n",
       "   'origin': '/home/b/Dropbox/data/Ecoinvent/3.2/current_Version_3.2_apos_ecoSpold02.7z'},\n",
       "  {'CasNumber': None,\n",
       "   'Comment': 'EcoSpold02 Flow',\n",
       "   'Compartment': ['By-product classification: Waste'],\n",
       "   'Name': 'blast furnace slag',\n",
       "   'characterizations': [{'isReference': True,\n",
       "     'quantity': '487df68b-4994-4027-8fdc-a4dc298257b7'}],\n",
       "   'entityId': '98d3683b-565f-492d-b2df-de9de017bb28',\n",
       "   'entityType': 'flow',\n",
       "   'externalId': '98d3683b-565f-492d-b2df-de9de017bb28',\n",
       "   'origin': '/home/b/Dropbox/data/Ecoinvent/3.2/current_Version_3.2_apos_ecoSpold02.7z'},\n",
       "  {'CasNumber': '000083-32-9',\n",
       "   'Comment': 'EcoSpold02 Flow',\n",
       "   'Compartment': ['air', 'urban air close to ground'],\n",
       "   'Name': 'Acenaphthene',\n",
       "   'characterizations': [{'isReference': True,\n",
       "     'quantity': '487df68b-4994-4027-8fdc-a4dc298257b7'}],\n",
       "   'entityId': '99c07b66-c039-4896-866d-06abdaa9d46a',\n",
       "   'entityType': 'flow',\n",
       "   'externalId': '99c07b66-c039-4896-866d-06abdaa9d46a',\n",
       "   'origin': '/home/b/Dropbox/data/Ecoinvent/3.2/current_Version_3.2_apos_ecoSpold02.7z'},\n",
       "  {'CasNumber': '000074-98-6',\n",
       "   'Comment': 'EcoSpold02 Flow',\n",
       "   'Compartment': ['air', 'non-urban air or from high stacks'],\n",
       "   'Name': 'Propane',\n",
       "   'characterizations': [{'isReference': True,\n",
       "     'quantity': '487df68b-4994-4027-8fdc-a4dc298257b7'}],\n",
       "   'entityId': '9beb60a3-3a8c-4345-9a0e-107eec2f709f',\n",
       "   'entityType': 'flow',\n",
       "   'externalId': '9beb60a3-3a8c-4345-9a0e-107eec2f709f',\n",
       "   'origin': '/home/b/Dropbox/data/Ecoinvent/3.2/current_Version_3.2_apos_ecoSpold02.7z'},\n",
       "  {'CasNumber': '130498-29-2',\n",
       "   'Comment': 'EcoSpold02 Flow',\n",
       "   'Compartment': ['air', 'urban air close to ground'],\n",
       "   'Name': 'PAH, polycyclic aromatic hydrocarbons',\n",
       "   'characterizations': [{'isReference': True,\n",
       "     'quantity': '487df68b-4994-4027-8fdc-a4dc298257b7'}],\n",
       "   'entityId': '9d1efa17-070a-4602-a65f-daf5056b0647',\n",
       "   'entityType': 'flow',\n",
       "   'externalId': '9d1efa17-070a-4602-a65f-daf5056b0647',\n",
       "   'origin': '/home/b/Dropbox/data/Ecoinvent/3.2/current_Version_3.2_apos_ecoSpold02.7z'},\n",
       "  {'CasNumber': '000074-84-0',\n",
       "   'Comment': 'EcoSpold02 Flow',\n",
       "   'Compartment': ['air', 'urban air close to ground'],\n",
       "   'Name': 'Ethane',\n",
       "   'characterizations': [{'isReference': True,\n",
       "     'quantity': '487df68b-4994-4027-8fdc-a4dc298257b7'}],\n",
       "   'entityId': '9ea11aea-7cb7-4b38-b936-a42c2a4bac97',\n",
       "   'entityType': 'flow',\n",
       "   'externalId': '9ea11aea-7cb7-4b38-b936-a42c2a4bac97',\n",
       "   'origin': '/home/b/Dropbox/data/Ecoinvent/3.2/current_Version_3.2_apos_ecoSpold02.7z'},\n",
       "  {'CasNumber': '007440-02-0',\n",
       "   'Comment': 'EcoSpold02 Flow',\n",
       "   'Compartment': ['air', 'unspecified'],\n",
       "   'Name': 'Nickel',\n",
       "   'characterizations': [{'isReference': True,\n",
       "     'quantity': '487df68b-4994-4027-8fdc-a4dc298257b7'}],\n",
       "   'entityId': 'a5506f4b-113f-4713-95c3-c819dde6e48b',\n",
       "   'entityType': 'flow',\n",
       "   'externalId': 'a5506f4b-113f-4713-95c3-c819dde6e48b',\n",
       "   'origin': '/home/b/Dropbox/data/Ecoinvent/3.2/current_Version_3.2_apos_ecoSpold02.7z'},\n",
       "  {'CasNumber': None,\n",
       "   'Comment': 'EcoSpold02 Flow',\n",
       "   'Compartment': ['By-product classification: allocatable product'],\n",
       "   'Name': 'natural gas, high pressure',\n",
       "   'characterizations': [{'isReference': True,\n",
       "     'quantity': 'de5b3c87-0e35-4fb0-9765-4f3ba34c99e5'}],\n",
       "   'entityId': 'a9007f10-7e39-4d50-8f4a-d6d03ce3d673',\n",
       "   'entityType': 'flow',\n",
       "   'externalId': 'a9007f10-7e39-4d50-8f4a-d6d03ce3d673',\n",
       "   'origin': '/home/b/Dropbox/data/Ecoinvent/3.2/current_Version_3.2_apos_ecoSpold02.7z'},\n",
       "  {'CasNumber': '000124-38-9',\n",
       "   'Comment': 'EcoSpold02 Flow',\n",
       "   'Compartment': ['air', 'non-urban air or from high stacks'],\n",
       "   'Name': 'Carbon dioxide, fossil',\n",
       "   'characterizations': [{'isReference': True,\n",
       "     'quantity': '487df68b-4994-4027-8fdc-a4dc298257b7'}],\n",
       "   'entityId': 'aa7cac3a-3625-41d4-bc54-33e2cf11ec46',\n",
       "   'entityType': 'flow',\n",
       "   'externalId': 'aa7cac3a-3625-41d4-bc54-33e2cf11ec46',\n",
       "   'origin': '/home/b/Dropbox/data/Ecoinvent/3.2/current_Version_3.2_apos_ecoSpold02.7z'},\n",
       "  {'CasNumber': '010024-97-2',\n",
       "   'Comment': 'EcoSpold02 Flow',\n",
       "   'Compartment': ['air', 'non-urban air or from high stacks'],\n",
       "   'Name': 'Dinitrogen monoxide',\n",
       "   'characterizations': [{'isReference': True,\n",
       "     'quantity': '487df68b-4994-4027-8fdc-a4dc298257b7'}],\n",
       "   'entityId': 'afd6d670-bbb0-4625-9730-04088a5b035e',\n",
       "   'entityType': 'flow',\n",
       "   'externalId': 'afd6d670-bbb0-4625-9730-04088a5b035e',\n",
       "   'origin': '/home/b/Dropbox/data/Ecoinvent/3.2/current_Version_3.2_apos_ecoSpold02.7z'},\n",
       "  {'CasNumber': '007440-48-4',\n",
       "   'Comment': 'EcoSpold02 Flow',\n",
       "   'Compartment': ['air', 'non-urban air or from high stacks'],\n",
       "   'Name': 'Cobalt',\n",
       "   'characterizations': [{'isReference': True,\n",
       "     'quantity': '487df68b-4994-4027-8fdc-a4dc298257b7'}],\n",
       "   'entityId': 'b10faa87-2c1d-4f6e-aa65-9f80b376939a',\n",
       "   'entityType': 'flow',\n",
       "   'externalId': 'b10faa87-2c1d-4f6e-aa65-9f80b376939a',\n",
       "   'origin': '/home/b/Dropbox/data/Ecoinvent/3.2/current_Version_3.2_apos_ecoSpold02.7z'},\n",
       "  {'CasNumber': None,\n",
       "   'Comment': 'EcoSpold02 Flow',\n",
       "   'Compartment': ['By-product classification: Recyclable'],\n",
       "   'Name': 'blast furnace gas',\n",
       "   'characterizations': [{'isReference': True,\n",
       "     'quantity': '980b811e-3905-4797-82a5-173f5568bc7e'}],\n",
       "   'entityId': 'b254bbdf-fb2b-4878-aec9-2a7820f3f32e',\n",
       "   'entityType': 'flow',\n",
       "   'externalId': 'b254bbdf-fb2b-4878-aec9-2a7820f3f32e',\n",
       "   'origin': '/home/b/Dropbox/data/Ecoinvent/3.2/current_Version_3.2_apos_ecoSpold02.7z'},\n",
       "  {'CasNumber': None,\n",
       "   'Comment': 'EcoSpold02 Flow',\n",
       "   'Compartment': ['air', 'unspecified'],\n",
       "   'Name': 'Particulates, > 2.5 um, and < 10um',\n",
       "   'characterizations': [{'isReference': True,\n",
       "     'quantity': '487df68b-4994-4027-8fdc-a4dc298257b7'}],\n",
       "   'entityId': 'b967e1bf-f09b-4c89-8740-ace21db47bba',\n",
       "   'entityType': 'flow',\n",
       "   'externalId': 'b967e1bf-f09b-4c89-8740-ace21db47bba',\n",
       "   'origin': '/home/b/Dropbox/data/Ecoinvent/3.2/current_Version_3.2_apos_ecoSpold02.7z'},\n",
       "  {'CasNumber': '000064-19-7',\n",
       "   'Comment': 'EcoSpold02 Flow',\n",
       "   'Compartment': ['air', 'urban air close to ground'],\n",
       "   'Name': 'Acetic acid',\n",
       "   'characterizations': [{'isReference': True,\n",
       "     'quantity': '487df68b-4994-4027-8fdc-a4dc298257b7'}],\n",
       "   'entityId': 'b9b68c0c-053e-41de-ab72-8dfe1c3f5755',\n",
       "   'entityType': 'flow',\n",
       "   'externalId': 'b9b68c0c-053e-41de-ab72-8dfe1c3f5755',\n",
       "   'origin': '/home/b/Dropbox/data/Ecoinvent/3.2/current_Version_3.2_apos_ecoSpold02.7z'},\n",
       "  {'CasNumber': '000630-08-0',\n",
       "   'Comment': 'EcoSpold02 Flow',\n",
       "   'Compartment': ['air', 'unspecified'],\n",
       "   'Name': 'Carbon monoxide, fossil',\n",
       "   'characterizations': [{'isReference': True,\n",
       "     'quantity': '487df68b-4994-4027-8fdc-a4dc298257b7'}],\n",
       "   'entityId': 'ba2f3f82-c93a-47a5-822a-37ec97495275',\n",
       "   'entityType': 'flow',\n",
       "   'externalId': 'ba2f3f82-c93a-47a5-822a-37ec97495275',\n",
       "   'origin': '/home/b/Dropbox/data/Ecoinvent/3.2/current_Version_3.2_apos_ecoSpold02.7z'},\n",
       "  {'CasNumber': '011104-93-1',\n",
       "   'Comment': 'EcoSpold02 Flow',\n",
       "   'Compartment': ['air', 'unspecified'],\n",
       "   'Name': 'Nitrogen oxides',\n",
       "   'characterizations': [{'isReference': True,\n",
       "     'quantity': '487df68b-4994-4027-8fdc-a4dc298257b7'}],\n",
       "   'entityId': 'c1b91234-6f24-417b-8309-46111d09c457',\n",
       "   'entityType': 'flow',\n",
       "   'externalId': 'c1b91234-6f24-417b-8309-46111d09c457',\n",
       "   'origin': '/home/b/Dropbox/data/Ecoinvent/3.2/current_Version_3.2_apos_ecoSpold02.7z'},\n",
       "  {'CasNumber': '000064-19-7',\n",
       "   'Comment': 'EcoSpold02 Flow',\n",
       "   'Compartment': ['air', 'non-urban air or from high stacks'],\n",
       "   'Name': 'Acetic acid',\n",
       "   'characterizations': [{'isReference': True,\n",
       "     'quantity': '487df68b-4994-4027-8fdc-a4dc298257b7'}],\n",
       "   'entityId': 'c5cc0625-6e01-4639-b053-5d1d9d22a53c',\n",
       "   'entityType': 'flow',\n",
       "   'externalId': 'c5cc0625-6e01-4639-b053-5d1d9d22a53c',\n",
       "   'origin': '/home/b/Dropbox/data/Ecoinvent/3.2/current_Version_3.2_apos_ecoSpold02.7z'},\n",
       "  {'CasNumber': None,\n",
       "   'Comment': 'EcoSpold02 Flow',\n",
       "   'Compartment': ['By-product classification: allocatable product'],\n",
       "   'Name': 'iron ore, beneficiated, 65% Fe',\n",
       "   'characterizations': [{'isReference': True,\n",
       "     'quantity': '487df68b-4994-4027-8fdc-a4dc298257b7'}],\n",
       "   'entityId': 'cb262c3c-a7c7-4781-82e6-e1e90dd92b65',\n",
       "   'entityType': 'flow',\n",
       "   'externalId': 'cb262c3c-a7c7-4781-82e6-e1e90dd92b65',\n",
       "   'origin': '/home/b/Dropbox/data/Ecoinvent/3.2/current_Version_3.2_apos_ecoSpold02.7z'},\n",
       "  {'CasNumber': None,\n",
       "   'Comment': 'EcoSpold02 Flow',\n",
       "   'Compartment': ['By-product classification: allocatable product'],\n",
       "   'Name': 'limestone, unprocessed',\n",
       "   'characterizations': [{'isReference': True,\n",
       "     'quantity': '487df68b-4994-4027-8fdc-a4dc298257b7'}],\n",
       "   'entityId': 'cf8c95e1-aa88-4d23-9d83-065a935387d3',\n",
       "   'entityType': 'flow',\n",
       "   'externalId': 'cf8c95e1-aa88-4d23-9d83-065a935387d3',\n",
       "   'origin': '/home/b/Dropbox/data/Ecoinvent/3.2/current_Version_3.2_apos_ecoSpold02.7z'},\n",
       "  {'CasNumber': None,\n",
       "   'Comment': 'EcoSpold02 Flow',\n",
       "   'Compartment': ['By-product classification: allocatable product'],\n",
       "   'Name': 'water, completely softened, from decarbonised water, at user',\n",
       "   'characterizations': [{'isReference': True,\n",
       "     'quantity': '487df68b-4994-4027-8fdc-a4dc298257b7'}],\n",
       "   'entityId': 'cfc90fee-20f0-451a-8e50-a5bd859d3feb',\n",
       "   'entityType': 'flow',\n",
       "   'externalId': 'cfc90fee-20f0-451a-8e50-a5bd859d3feb',\n",
       "   'origin': '/home/b/Dropbox/data/Ecoinvent/3.2/current_Version_3.2_apos_ecoSpold02.7z'},\n",
       "  {'CasNumber': '011104-93-1',\n",
       "   'Comment': 'EcoSpold02 Flow',\n",
       "   'Compartment': ['air', 'urban air close to ground'],\n",
       "   'Name': 'Nitrogen oxides',\n",
       "   'characterizations': [{'isReference': True,\n",
       "     'quantity': '487df68b-4994-4027-8fdc-a4dc298257b7'}],\n",
       "   'entityId': 'd068f3e2-b033-417b-a359-ca4f25da9731',\n",
       "   'entityType': 'flow',\n",
       "   'externalId': 'd068f3e2-b033-417b-a359-ca4f25da9731',\n",
       "   'origin': '/home/b/Dropbox/data/Ecoinvent/3.2/current_Version_3.2_apos_ecoSpold02.7z'},\n",
       "  {'CasNumber': None,\n",
       "   'Comment': 'EcoSpold02 Flow',\n",
       "   'Compartment': ['By-product classification: allocatable product'],\n",
       "   'Name': 'refractory, fireclay, packed',\n",
       "   'characterizations': [{'isReference': True,\n",
       "     'quantity': '487df68b-4994-4027-8fdc-a4dc298257b7'}],\n",
       "   'entityId': 'd3e019ee-edbe-4774-a4a6-9701cf293d05',\n",
       "   'entityType': 'flow',\n",
       "   'externalId': 'd3e019ee-edbe-4774-a4a6-9701cf293d05',\n",
       "   'origin': '/home/b/Dropbox/data/Ecoinvent/3.2/current_Version_3.2_apos_ecoSpold02.7z'},\n",
       "  {'CasNumber': None,\n",
       "   'Comment': 'EcoSpold02 Flow',\n",
       "   'Compartment': ['By-product classification: allocatable product'],\n",
       "   'Name': 'sinter, iron',\n",
       "   'characterizations': [{'isReference': True,\n",
       "     'quantity': '487df68b-4994-4027-8fdc-a4dc298257b7'}],\n",
       "   'entityId': 'd4591183-a1ce-4c6d-80fa-761edfb78aec',\n",
       "   'entityType': 'flow',\n",
       "   'externalId': 'd4591183-a1ce-4c6d-80fa-761edfb78aec',\n",
       "   'origin': '/home/b/Dropbox/data/Ecoinvent/3.2/current_Version_3.2_apos_ecoSpold02.7z'},\n",
       "  {'CasNumber': '007440-43-9',\n",
       "   'Comment': 'EcoSpold02 Flow',\n",
       "   'Compartment': ['air', 'non-urban air or from high stacks'],\n",
       "   'Name': 'Cadmium',\n",
       "   'characterizations': [{'isReference': True,\n",
       "     'quantity': '487df68b-4994-4027-8fdc-a4dc298257b7'}],\n",
       "   'entityId': 'e2d58f90-9aac-4ac4-87f7-bbd6cfc358e3',\n",
       "   'entityType': 'flow',\n",
       "   'externalId': 'e2d58f90-9aac-4ac4-87f7-bbd6cfc358e3',\n",
       "   'origin': '/home/b/Dropbox/data/Ecoinvent/3.2/current_Version_3.2_apos_ecoSpold02.7z'},\n",
       "  {'CasNumber': '007782-49-2',\n",
       "   'Comment': 'EcoSpold02 Flow',\n",
       "   'Compartment': ['air', 'non-urban air or from high stacks'],\n",
       "   'Name': 'Selenium',\n",
       "   'characterizations': [{'isReference': True,\n",
       "     'quantity': '487df68b-4994-4027-8fdc-a4dc298257b7'}],\n",
       "   'entityId': 'e6551223-73b6-4289-b841-c5cdeb25abd9',\n",
       "   'entityType': 'flow',\n",
       "   'externalId': 'e6551223-73b6-4289-b841-c5cdeb25abd9',\n",
       "   'origin': '/home/b/Dropbox/data/Ecoinvent/3.2/current_Version_3.2_apos_ecoSpold02.7z'},\n",
       "  {'CasNumber': '000074-84-0',\n",
       "   'Comment': 'EcoSpold02 Flow',\n",
       "   'Compartment': ['air', 'non-urban air or from high stacks'],\n",
       "   'Name': 'Ethane',\n",
       "   'characterizations': [{'isReference': True,\n",
       "     'quantity': '487df68b-4994-4027-8fdc-a4dc298257b7'}],\n",
       "   'entityId': 'e7e0031e-791d-42f4-b26c-ec322db637bc',\n",
       "   'entityType': 'flow',\n",
       "   'externalId': 'e7e0031e-791d-42f4-b26c-ec322db637bc',\n",
       "   'origin': '/home/b/Dropbox/data/Ecoinvent/3.2/current_Version_3.2_apos_ecoSpold02.7z'},\n",
       "  {'CasNumber': '007440-02-0',\n",
       "   'Comment': 'EcoSpold02 Flow',\n",
       "   'Compartment': ['air', 'non-urban air or from high stacks'],\n",
       "   'Name': 'Nickel',\n",
       "   'characterizations': [{'isReference': True,\n",
       "     'quantity': '487df68b-4994-4027-8fdc-a4dc298257b7'}],\n",
       "   'entityId': 'e8fc62ba-678e-4706-97d2-b79d83e227d5',\n",
       "   'entityType': 'flow',\n",
       "   'externalId': 'e8fc62ba-678e-4706-97d2-b79d83e227d5',\n",
       "   'origin': '/home/b/Dropbox/data/Ecoinvent/3.2/current_Version_3.2_apos_ecoSpold02.7z'},\n",
       "  {'CasNumber': '000079-09-4',\n",
       "   'Comment': 'EcoSpold02 Flow',\n",
       "   'Compartment': ['air', 'urban air close to ground'],\n",
       "   'Name': 'Propionic acid',\n",
       "   'characterizations': [{'isReference': True,\n",
       "     'quantity': '487df68b-4994-4027-8fdc-a4dc298257b7'}],\n",
       "   'entityId': 'f1c0cd31-8d5e-4bc9-91f6-79e76329234e',\n",
       "   'entityType': 'flow',\n",
       "   'externalId': 'f1c0cd31-8d5e-4bc9-91f6-79e76329234e',\n",
       "   'origin': '/home/b/Dropbox/data/Ecoinvent/3.2/current_Version_3.2_apos_ecoSpold02.7z'},\n",
       "  {'CasNumber': '001746-01-6',\n",
       "   'Comment': 'EcoSpold02 Flow',\n",
       "   'Compartment': ['air', 'non-urban air or from high stacks'],\n",
       "   'Name': 'Dioxins, measured as 2,3,7,8-tetrachlorodibenzo-p-dioxin',\n",
       "   'characterizations': [{'isReference': True,\n",
       "     'quantity': '487df68b-4994-4027-8fdc-a4dc298257b7'}],\n",
       "   'entityId': 'f77c5e36-ee47-4437-b757-03139bb1d6d6',\n",
       "   'entityType': 'flow',\n",
       "   'externalId': 'f77c5e36-ee47-4437-b757-03139bb1d6d6',\n",
       "   'origin': '/home/b/Dropbox/data/Ecoinvent/3.2/current_Version_3.2_apos_ecoSpold02.7z'},\n",
       "  {'CasNumber': None,\n",
       "   'Comment': 'EcoSpold02 Flow',\n",
       "   'Compartment': ['By-product classification: allocatable product'],\n",
       "   'Name': 'gas power plant, 100MW electrical',\n",
       "   'characterizations': [{'isReference': True,\n",
       "     'quantity': '5b972631-34e3-4db7-a615-f6931770a0cb'}],\n",
       "   'entityId': 'f89244f2-c60e-455b-ba2a-6ed369955d60',\n",
       "   'entityType': 'flow',\n",
       "   'externalId': 'f89244f2-c60e-455b-ba2a-6ed369955d60',\n",
       "   'origin': '/home/b/Dropbox/data/Ecoinvent/3.2/current_Version_3.2_apos_ecoSpold02.7z'},\n",
       "  {'CasNumber': '000124-38-9',\n",
       "   'Comment': 'EcoSpold02 Flow',\n",
       "   'Compartment': ['air', 'urban air close to ground'],\n",
       "   'Name': 'Carbon dioxide, fossil',\n",
       "   'characterizations': [{'isReference': True,\n",
       "     'quantity': '487df68b-4994-4027-8fdc-a4dc298257b7'}],\n",
       "   'entityId': 'f9749677-9c9f-4678-ab55-c607dfdc2cb9',\n",
       "   'entityType': 'flow',\n",
       "   'externalId': 'f9749677-9c9f-4678-ab55-c607dfdc2cb9',\n",
       "   'origin': '/home/b/Dropbox/data/Ecoinvent/3.2/current_Version_3.2_apos_ecoSpold02.7z'},\n",
       "  {'CasNumber': '000106-97-8',\n",
       "   'Comment': 'EcoSpold02 Flow',\n",
       "   'Compartment': ['air', 'non-urban air or from high stacks'],\n",
       "   'Name': 'Butane',\n",
       "   'characterizations': [{'isReference': True,\n",
       "     'quantity': '487df68b-4994-4027-8fdc-a4dc298257b7'}],\n",
       "   'entityId': 'fa5512cf-04a2-4014-8e96-d3e2d137f0df',\n",
       "   'entityType': 'flow',\n",
       "   'externalId': 'fa5512cf-04a2-4014-8e96-d3e2d137f0df',\n",
       "   'origin': '/home/b/Dropbox/data/Ecoinvent/3.2/current_Version_3.2_apos_ecoSpold02.7z'},\n",
       "  {'CasNumber': '007732-18-5',\n",
       "   'Comment': 'EcoSpold02 Flow',\n",
       "   'Compartment': ['natural resource', 'in water'],\n",
       "   'Name': 'Water, cooling, unspecified natural origin',\n",
       "   'characterizations': [{'isReference': True,\n",
       "     'quantity': 'de5b3c87-0e35-4fb0-9765-4f3ba34c99e5'}],\n",
       "   'entityId': 'fc1c42ce-a759-49fa-b987-f1ec5e503db1',\n",
       "   'entityType': 'flow',\n",
       "   'externalId': 'fc1c42ce-a759-49fa-b987-f1ec5e503db1',\n",
       "   'origin': '/home/b/Dropbox/data/Ecoinvent/3.2/current_Version_3.2_apos_ecoSpold02.7z'},\n",
       "  {'CasNumber': '000075-07-0',\n",
       "   'Comment': 'EcoSpold02 Flow',\n",
       "   'Compartment': ['air', 'non-urban air or from high stacks'],\n",
       "   'Name': 'Acetaldehyde',\n",
       "   'characterizations': [{'isReference': True,\n",
       "     'quantity': '487df68b-4994-4027-8fdc-a4dc298257b7'}],\n",
       "   'entityId': 'fc9f9a81-c4b9-4dce-bc20-9f04e05ca2f1',\n",
       "   'entityType': 'flow',\n",
       "   'externalId': 'fc9f9a81-c4b9-4dce-bc20-9f04e05ca2f1',\n",
       "   'origin': '/home/b/Dropbox/data/Ecoinvent/3.2/current_Version_3.2_apos_ecoSpold02.7z'},\n",
       "  {'CasNumber': '007446-09-5',\n",
       "   'Comment': 'EcoSpold02 Flow',\n",
       "   'Compartment': ['air', 'unspecified'],\n",
       "   'Name': 'Sulfur dioxide',\n",
       "   'characterizations': [{'isReference': True,\n",
       "     'quantity': '487df68b-4994-4027-8fdc-a4dc298257b7'}],\n",
       "   'entityId': 'fd7aa71c-508c-480d-81a6-8052aad92646',\n",
       "   'entityType': 'flow',\n",
       "   'externalId': 'fd7aa71c-508c-480d-81a6-8052aad92646',\n",
       "   'origin': '/home/b/Dropbox/data/Ecoinvent/3.2/current_Version_3.2_apos_ecoSpold02.7z'}],\n",
       " 'prefix': 'datasets',\n",
       " 'processes': [{'Comment': 'industrial gas power//fossil fuels',\n",
       "   'IsicClass': 'Electric power generation, transmission and distribution',\n",
       "   'IsicNumber': '3510',\n",
       "   'Name': 'treatment of blast furnace gas, in power plant',\n",
       "   'SpatialScope': 'BR',\n",
       "   'TechnologyLevel': 'Current',\n",
       "   'TemporalScope': {'begin': '1980-01-01', 'end': '2015-12-31'},\n",
       "   'entityId': '00420798-e9d1-4de9-8745-09bd85f31db8',\n",
       "   'entityType': 'process',\n",
       "   'exchanges': [{'direction': 'Output',\n",
       "     'flow': '58271de9-51c4-3b86-ae82-98c2b46280ec',\n",
       "     'isReference': True},\n",
       "    {'direction': 'Output',\n",
       "     'flow': '66c93e71-f32b-4591-901c-55395db5c132',\n",
       "     'isReference': True,\n",
       "     'value': {'66c93e71-f32b-4591-901c-55395db5c132': 1.0}},\n",
       "    {'direction': 'Output',\n",
       "     'flow': '71e2f1db-a2c5-44d0-8337-dfff15be974d',\n",
       "     'isReference': True,\n",
       "     'value': {'71e2f1db-a2c5-44d0-8337-dfff15be974d': 1.0}},\n",
       "    {'direction': 'Output',\n",
       "     'flow': 'b254bbdf-fb2b-4878-aec9-2a7820f3f32e',\n",
       "     'isReference': True,\n",
       "     'value': {'b254bbdf-fb2b-4878-aec9-2a7820f3f32e': -1.0}},\n",
       "    {'direction': 'Output',\n",
       "     'flow': 'c9655b4d-25ab-3e72-93ab-beb16f577e47',\n",
       "     'isReference': True},\n",
       "    {'direction': 'Output',\n",
       "     'flow': 'd804f912-5b47-31b5-a0bb-aaa4c5e378c4',\n",
       "     'isReference': True}],\n",
       "   'externalId': '00420798-e9d1-4de9-8745-09bd85f31db8',\n",
       "   'origin': '/home/b/Dropbox/data/Ecoinvent/3.2/activity_overview_for_users_3.2_undefined.xlsx'}],\n",
       " 'quantities': [{'Comment': 'EcoSpold02',\n",
       "   'Name': 'EcoSpold Quantity kg',\n",
       "   'entityId': '487df68b-4994-4027-8fdc-a4dc298257b7',\n",
       "   'entityType': 'quantity',\n",
       "   'externalId': '487df68b-4994-4027-8fdc-a4dc298257b7',\n",
       "   'origin': '/home/b/Dropbox/data/Ecoinvent/3.2/current_Version_3.2_apos_ecoSpold02.7z',\n",
       "   'referenceUnit': 'kg'},\n",
       "  {'Comment': 'EcoSpold02',\n",
       "   'Name': 'EcoSpold Quantity unit',\n",
       "   'entityId': '5b972631-34e3-4db7-a615-f6931770a0cb',\n",
       "   'entityType': 'quantity',\n",
       "   'externalId': '5b972631-34e3-4db7-a615-f6931770a0cb',\n",
       "   'origin': '/home/b/Dropbox/data/Ecoinvent/3.2/current_Version_3.2_apos_ecoSpold02.7z',\n",
       "   'referenceUnit': 'unit'},\n",
       "  {'Comment': 'EcoSpold02',\n",
       "   'Name': 'EcoSpold Quantity kWh',\n",
       "   'entityId': '77ae64fa-7e74-4252-9c3b-889c1cd20bfc',\n",
       "   'entityType': 'quantity',\n",
       "   'externalId': '77ae64fa-7e74-4252-9c3b-889c1cd20bfc',\n",
       "   'origin': '/home/b/Dropbox/data/Ecoinvent/3.2/current_Version_3.2_apos_ecoSpold02.7z',\n",
       "   'referenceUnit': 'kWh'},\n",
       "  {'Comment': 'EcoSpold02',\n",
       "   'Name': 'EcoSpold Quantity MJ',\n",
       "   'entityId': '980b811e-3905-4797-82a5-173f5568bc7e',\n",
       "   'entityType': 'quantity',\n",
       "   'externalId': '980b811e-3905-4797-82a5-173f5568bc7e',\n",
       "   'origin': '/home/b/Dropbox/data/Ecoinvent/3.2/current_Version_3.2_apos_ecoSpold02.7z',\n",
       "   'referenceUnit': 'MJ'},\n",
       "  {'Comment': 'EcoSpold02',\n",
       "   'Name': 'EcoSpold Quantity m3',\n",
       "   'entityId': 'de5b3c87-0e35-4fb0-9765-4f3ba34c99e5',\n",
       "   'entityType': 'quantity',\n",
       "   'externalId': 'de5b3c87-0e35-4fb0-9765-4f3ba34c99e5',\n",
       "   'origin': '/home/b/Dropbox/data/Ecoinvent/3.2/current_Version_3.2_apos_ecoSpold02.7z',\n",
       "   'referenceUnit': 'm3'}],\n",
       " 'upstreamReference': '/home/b/Dropbox/data/Ecoinvent/3.2/activity_overview_for_users_3.2_apos.xlsx'}"
      ]
     },
     "execution_count": 36,
     "metadata": {},
     "output_type": "execute_result"
    }
   ],
   "source": [
    "ei_spold[model].serialize(exchanges=False,characterizations=True, values=True)"
   ]
  }
 ],
 "metadata": {
  "kernelspec": {
   "display_name": "Python 3",
   "language": "python",
   "name": "python3"
  },
  "language_info": {
   "codemirror_mode": {
    "name": "ipython",
    "version": 3
   },
   "file_extension": ".py",
   "mimetype": "text/x-python",
   "name": "python",
   "nbconvert_exporter": "python",
   "pygments_lexer": "ipython3",
   "version": "3.5.1"
  }
 },
 "nbformat": 4,
 "nbformat_minor": 0
}
