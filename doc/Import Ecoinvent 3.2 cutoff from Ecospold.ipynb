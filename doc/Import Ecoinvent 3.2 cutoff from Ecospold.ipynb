{
 "cells": [
  {
   "cell_type": "code",
   "execution_count": 1,
   "metadata": {
    "collapsed": true
   },
   "outputs": [],
   "source": [
    "import sys\n",
    "sys.path.append('..')\n",
    "import os\n",
    "import re\n",
    "\n",
    "import lcatools\n"
   ]
  },
  {
   "cell_type": "code",
   "execution_count": 2,
   "metadata": {
    "collapsed": true
   },
   "outputs": [],
   "source": [
    "EI_version = '3.2'\n",
    "model = 'undefined'\n",
    "\n",
    "data_dir = os.path.join('/data','LCI','Ecoinvent', EI_version, model)\n",
    "zip_dir = os.path.join(os.path.expanduser('~'), 'Dropbox', 'data', 'Ecoinvent', EI_version)\n",
    "bg_dir = os.path.join(os.path.expanduser('~'), 'Dropbox', 'data', 'Ecoinvent', )\n",
    "catalog_dir = os.path.join(os.path.expanduser('~'), 'GitHub', 'lca-tools-datafiles', 'catalogs')\n",
    "\n",
    "spold = 'current_Version_' + EI_version + '_' + model + '_ecoSpold02.7z'"
   ]
  },
  {
   "cell_type": "code",
   "execution_count": 3,
   "metadata": {
    "collapsed": true
   },
   "outputs": [],
   "source": [
    "from lcatools.providers.archive import Archive"
   ]
  },
  {
   "cell_type": "code",
   "execution_count": 6,
   "metadata": {
    "collapsed": false
   },
   "outputs": [
    {
     "name": "stdout",
     "output_type": "stream",
     "text": [
      "Found Extension: 7z\n"
     ]
    }
   ],
   "source": [
    "A = Archive(os.path.join(zip_dir, spold))"
   ]
  },
  {
   "cell_type": "code",
   "execution_count": 7,
   "metadata": {
    "collapsed": true
   },
   "outputs": [],
   "source": [
    "l = A.listfiles('datasets')[:10]"
   ]
  },
  {
   "cell_type": "code",
   "execution_count": 8,
   "metadata": {
    "collapsed": false
   },
   "outputs": [
    {
     "data": {
      "text/plain": [
       "['datasets/00009573-c174-463a-8ebf-183ec587ba0d_7cb72345-4338-4f2d-830f-65bba3530fdb.spold',\n",
       " 'datasets/00137c74-429d-4cd4-b9be-c70e88f0d3a7_6f13ac10-76f1-42c1-a46e-7dabda411274.spold',\n",
       " 'datasets/00137c74-429d-4cd4-b9be-c70e88f0d3a7_aabed306-e9a0-4441-86ac-5936fe671ed2.spold',\n",
       " 'datasets/001b1457-2b18-48de-913a-dee0f3064bb3_cb388ab7-cbc9-412f-ab11-811c808a8004.spold',\n",
       " 'datasets/0023ecb0-cb93-446b-a181-e307571b203c_db14b1bf-6c5e-4db1-833e-6bf331874714.spold',\n",
       " 'datasets/0036e50d-8e5b-438c-b94c-4ee40350362b_66c93e71-f32b-4591-901c-55395db5c132.spold',\n",
       " 'datasets/003b13f0-18f4-467d-91a6-4201072dadaa_759b89bd-3aa6-42ad-b767-5bb9ef5d331d.spold',\n",
       " 'datasets/003f9a31-c540-4351-a434-3b1b1c791b99_66c93e71-f32b-4591-901c-55395db5c132.spold',\n",
       " 'datasets/00420798-e9d1-4de9-8745-09bd85f31db8_66c93e71-f32b-4591-901c-55395db5c132.spold',\n",
       " 'datasets/00420798-e9d1-4de9-8745-09bd85f31db8_71e2f1db-a2c5-44d0-8337-dfff15be974d.spold']"
      ]
     },
     "execution_count": 8,
     "metadata": {},
     "output_type": "execute_result"
    }
   ],
   "source": [
    "l"
   ]
  },
  {
   "cell_type": "code",
   "execution_count": 9,
   "metadata": {
    "collapsed": true
   },
   "outputs": [],
   "source": [
    "uuid_regex = re.compile('([0-9a-f]{8}.?([0-9a-f]{4}.?){3}[0-9a-f]{12})')"
   ]
  },
  {
   "cell_type": "code",
   "execution_count": 10,
   "metadata": {
    "collapsed": false
   },
   "outputs": [
    {
     "data": {
      "text/plain": [
       "[('00009573-c174-463a-8ebf-183ec587ba0d', '8ebf-'),\n",
       " ('7cb72345-4338-4f2d-830f-65bba3530fdb', '830f-')]"
      ]
     },
     "execution_count": 10,
     "metadata": {},
     "output_type": "execute_result"
    }
   ],
   "source": [
    "uuid_regex.findall(l[0])"
   ]
  },
  {
   "cell_type": "code",
   "execution_count": 3,
   "metadata": {
    "collapsed": true
   },
   "outputs": [],
   "source": [
    "from lcatools.providers.ecospold2 import EcospoldV2Archive"
   ]
  },
  {
   "cell_type": "code",
   "execution_count": 6,
   "metadata": {
    "collapsed": true
   },
   "outputs": [],
   "source": [
    "EU = EcospoldV2Archive(data_dir, prefix='datasets - public')"
   ]
  },
  {
   "cell_type": "code",
   "execution_count": 5,
   "metadata": {
    "collapsed": false
   },
   "outputs": [
    {
     "name": "stdout",
     "output_type": "stream",
     "text": [
      "WARNING: path does not resolve.  Archive will be non-functional.\n"
     ]
    }
   ],
   "source": [
    "EU = EcospoldV2Archive(os.path.join(zip_dir,spold), prefix='datasets - public')"
   ]
  },
  {
   "cell_type": "code",
   "execution_count": 7,
   "metadata": {
    "collapsed": false
   },
   "outputs": [
    {
     "data": {
      "text/plain": [
       "['00093951-0c71-4a74-96d8-ece56003838a_b335722e-f52e-44cd-b335-a6686c7fe3ab.spold',\n",
       " '000b493f-5e76-4fe0-93ca-73b49263c1fc_29fbcb1d-79ca-45df-8eec-3e51bb95979d.spold',\n",
       " '001a7c31-a39b-4606-9877-d6cfc36e5fd8_47e8f15f-6a0b-4ec5-be7d-8965ce014081.spold',\n",
       " '001b83bb-d07c-4c91-90c1-5a9437badf06_089f5c04-e340-42c4-bf9c-e8ec6174443a.spold',\n",
       " '001fa547-fbbd-4172-9492-0f58076c4553_7f56554d-e090-4df5-b538-3a235b534353.spold',\n",
       " '002da2f2-595b-427e-ae3a-3f7dcd769715_6eb408db-980a-4b9e-82a8-b6dca183ec35.spold',\n",
       " '002f9105-f892-4241-9c45-b3b7d68a9c72_99e47244-0ecd-4d45-8d79-f4e3cb384d05.spold',\n",
       " '00352317-8629-4778-96a7-abfa11c1face_dcb70fd5-e305-4920-b68b-40697cc6a206.spold',\n",
       " '0036e50d-8e5b-438c-b94c-4ee40350362b_66c93e71-f32b-4591-901c-55395db5c132.spold',\n",
       " '003ad59e-1069-4a8f-ada1-6785cf19e74b_77c1da70-f6b7-47eb-a986-4d70a4bf31a1.spold']"
      ]
     },
     "execution_count": 7,
     "metadata": {},
     "output_type": "execute_result"
    }
   ],
   "source": [
    "EU.list_datasets()[:10]"
   ]
  },
  {
   "cell_type": "code",
   "execution_count": 8,
   "metadata": {
    "collapsed": false
   },
   "outputs": [],
   "source": [
    "l = EU.list_datasets()[:10]"
   ]
  },
  {
   "cell_type": "code",
   "execution_count": 9,
   "metadata": {
    "collapsed": false
   },
   "outputs": [],
   "source": [
    "EU._quiet = False"
   ]
  },
  {
   "cell_type": "code",
   "execution_count": 10,
   "metadata": {
    "collapsed": false
   },
   "outputs": [
    {
     "name": "stdout",
     "output_type": "stream",
     "text": [
      "Adding process entity with 000b493f-5e76-4fe0-93ca-73b49263c1fc: chlorine dioxide production\n",
      "Adding quantity entity with 487df68b-4994-4027-8fdc-a4dc298257b7: EcoSpold Quantity kg\n",
      "Adding flow entity with 29fbcb1d-79ca-45df-8eec-3e51bb95979d: chlorine dioxide\n",
      "Identified reference exchange\n",
      " chlorine dioxide production [GLO] has Output: chlorine dioxide (CAS 10049-04-4) [By-product classification: allocatable product] [kg]\n",
      "Adding flow entity with edcfa83a-363a-4b2d-8d6a-612e32dfcdfc: sodium chloride, powder\n",
      "Adding quantity entity with 77ae64fa-7e74-4252-9c3b-889c1cd20bfc: EcoSpold Quantity kWh\n",
      "Adding flow entity with 759b89bd-3aa6-42ad-b767-5bb9ef5d331d: electricity, medium voltage\n",
      "Adding quantity entity with 5b972631-34e3-4db7-a615-f6931770a0cb: EcoSpold Quantity unit\n",
      "Adding flow entity with 3d0fe4e0-eac9-4704-b3fd-09b8594d0fbe: chemical factory, organics\n",
      "Adding flow entity with 6c9cf309-10ae-4fde-8f55-d2debd3103c2: sodium chlorate, powder\n",
      "Adding flow entity with 9d63da75-8289-4b96-a900-67ec3bd40a16: sulfuric acid\n",
      "Adding quantity entity with 980b811e-3905-4797-82a5-173f5568bc7e: EcoSpold Quantity MJ\n",
      "Adding flow entity with 1125e767-7b5d-442e-81d6-9b0d3e1919ac: heat, district or industrial, natural gas\n",
      "Adding quantity entity with de5b3c87-0e35-4fb0-9765-4f3ba34c99e5: EcoSpold Quantity m3\n",
      "Adding flow entity with 075e433b-4be4-448e-9510-9a5029c1ce94: Water\n",
      "Adding flow entity with 2404b41a-2eed-4e9d-8ab6-783946fdf5d6: Water\n",
      "Adding flow entity with 1fc409bc-b8e7-48b2-92d5-2ced4aa7bae2: Sodium, ion\n",
      "Adding flow entity with 37d35fd0-7f07-4b9b-92eb-de3c27050172: Sulfate\n",
      "Adding flow entity with 826677aa-8347-4494-85da-a26fe3e1e824: Sulfate\n",
      "Adding flow entity with fc1c42ce-a759-49fa-b987-f1ec5e503db1: Water, cooling, unspecified natural origin\n",
      "Adding flow entity with 831f249e-53f2-49cf-a93c-7cee105f048e: Water, unspecified natural origin\n",
      "Adding flow entity with f9749677-9c9f-4678-ab55-c607dfdc2cb9: Carbon dioxide, fossil\n",
      "Adding flow entity with 21b46c65-491e-40a9-ac74-5877af997d7c: Sodium chlorate\n",
      "Adding flow entity with 25131632-4b24-4625-8940-60d00385dad5: Chlorate\n",
      "Adding flow entity with c9e29113-8f61-41bb-8bc1-b49c6f152fd9: Cyanide\n",
      "Adding flow entity with 5e050fab-1837-4c42-b597-ed2f376f768f: Chloride\n",
      "Exch chlorine dioxide (CAS 10049-04-4) [By-product classification: allocatable product] [Output] (1)\n",
      "Exch sodium chloride, powder (CAS 7647-14-5) [By-product classification: allocatable product] [Input] (0.912)\n",
      "Exch electricity, medium voltage [By-product classification: allocatable product] [Input] (0.333)\n",
      "Exch chemical factory, organics [By-product classification: allocatable product] [Input] (4e-10)\n",
      "Exch sodium chlorate, powder (CAS 7775-09-9) [By-product classification: allocatable product] [Input] (1.66)\n",
      "Exch sulfuric acid [By-product classification: allocatable product] [Input] (1.53)\n",
      "Exch heat, district or industrial, natural gas [By-product classification: allocatable product] [Input] (2)\n",
      "Exch Water (CAS 007732-18-5) [air, unspecified] [Output] (0.01176)\n",
      "Exch Water (CAS 007732-18-5) [water, unspecified] [Output] (0.02424)\n",
      "Exch Sodium, ion (CAS 017341-25-2) [water, surface water] [Output] (0.0352)\n",
      "Exch Sulfate (CAS 014808-79-8) [water, surface water] [Output] (0.072)\n",
      "Exch Sulfate (CAS 014808-79-8) [air, urban air close to ground] [Output] (0.003)\n",
      "Exch Water, cooling, unspecified natural origin (CAS 007732-18-5) [natural resource, in water] [Input] (0.024)\n",
      "Exch Water, unspecified natural origin (CAS 007732-18-5) [natural resource, in water] [Input] (0.012)\n",
      "Exch Carbon dioxide, fossil (CAS 000124-38-9) [air, urban air close to ground] [Output] (0.0402)\n",
      "Exch Sodium chlorate (CAS 007775-09-9) [air, urban air close to ground] [Output] (0.00332)\n",
      "Exch Chlorate (CAS 007790-93-4) [water, surface water] [Output] (0.0625)\n",
      "Exch Cyanide (CAS 000057-12-5) [water, surface water] [Output] (0.00274)\n",
      "Exch Chloride (CAS 016887-00-6) [water, surface water] [Output] (0.0277)\n"
     ]
    },
    {
     "data": {
      "text/plain": [
       "<lcatools.entities.LcProcess at 0x7fabb466cba8>"
      ]
     },
     "execution_count": 10,
     "metadata": {},
     "output_type": "execute_result"
    }
   ],
   "source": [
    "EU.retrieve_or_fetch_entity(l[1])"
   ]
  },
  {
   "cell_type": "code",
   "execution_count": 11,
   "metadata": {
    "collapsed": false
   },
   "outputs": [
    {
     "data": {
      "text/plain": [
       "[' Input:     [0.024 [m3]] Water, cooling, unspecified natural origin (CAS 007732-18-5) [natural resource, in water]',\n",
       " ' Input:     [0.333 [kWh]] electricity, medium voltage [By-product classification: allocatable product]',\n",
       " ' Input:     [4e-10 [unit]] chemical factory, organics [By-product classification: allocatable product]',\n",
       " ' Input:     [2 [MJ]] heat, district or industrial, natural gas [By-product classification: allocatable product]',\n",
       " ' Input:     [0.912 [kg]] sodium chloride, powder (CAS 7647-14-5) [By-product classification: allocatable product]',\n",
       " ' Input:     [1.66 [kg]] sodium chlorate, powder (CAS 7775-09-9) [By-product classification: allocatable product]',\n",
       " ' Input:     [0.012 [m3]] Water, unspecified natural origin (CAS 007732-18-5) [natural resource, in water]',\n",
       " ' Input:     [1.53 [kg]] sulfuric acid [By-product classification: allocatable product]',\n",
       " 'Output:     [0.0242 [m3]] Water (CAS 007732-18-5) [water, unspecified]',\n",
       " 'Output:     [0.0402 [kg]] Carbon dioxide, fossil (CAS 000124-38-9) [air, urban air close to ground]',\n",
       " 'Output:     [0.0625 [kg]] Chlorate (CAS 007790-93-4) [water, surface water]',\n",
       " 'Output:     [0.0277 [kg]] Chloride (CAS 016887-00-6) [water, surface water]',\n",
       " 'Output:     [0.003 [kg]] Sulfate (CAS 014808-79-8) [air, urban air close to ground]',\n",
       " 'Output:     [0.00332 [kg]] Sodium chlorate (CAS 007775-09-9) [air, urban air close to ground]',\n",
       " 'Output: {*} [1 [kg]] chlorine dioxide (CAS 10049-04-4) [By-product classification: allocatable product]',\n",
       " 'Output:     [0.0118 [m3]] Water (CAS 007732-18-5) [air, unspecified]',\n",
       " 'Output:     [0.072 [kg]] Sulfate (CAS 014808-79-8) [water, surface water]',\n",
       " 'Output:     [0.00274 [kg]] Cyanide (CAS 000057-12-5) [water, surface water]',\n",
       " 'Output:     [0.0352 [kg]] Sodium, ion (CAS 017341-25-2) [water, surface water]']"
      ]
     },
     "execution_count": 11,
     "metadata": {},
     "output_type": "execute_result"
    }
   ],
   "source": [
    "[str(x) for x in EU.processes()[0].exchanges()]"
   ]
  },
  {
   "cell_type": "code",
   "execution_count": 12,
   "metadata": {
    "collapsed": true
   },
   "outputs": [],
   "source": [
    "p = EU.processes()[0]"
   ]
  },
  {
   "cell_type": "code",
   "execution_count": 13,
   "metadata": {
    "collapsed": false
   },
   "outputs": [],
   "source": [
    "px = [x for x in p.exchanges()]"
   ]
  },
  {
   "cell_type": "code",
   "execution_count": 14,
   "metadata": {
    "collapsed": false
   },
   "outputs": [
    {
     "data": {
      "text/plain": [
       "'Output:     [0.0352 [kg]] Sodium, ion (CAS 017341-25-2) [water, surface water]'"
      ]
     },
     "execution_count": 14,
     "metadata": {},
     "output_type": "execute_result"
    }
   ],
   "source": [
    "str(px[-1])"
   ]
  },
  {
   "cell_type": "code",
   "execution_count": 15,
   "metadata": {
    "collapsed": false
   },
   "outputs": [
    {
     "data": {
      "text/plain": [
       "{'_ref_flow': '1fc409bc-b8e7-48b2-92d5-2ced4aa7bae2',\n",
       " '_value': 0.0352,\n",
       " '_value_dict': {'29fbcb1d-79ca-45df-8eec-3e51bb95979d': 0.0352},\n",
       " 'direction': 'Output',\n",
       " 'flow': <lcatools.entities.LcFlow at 0x7fabb467ea58>,\n",
       " 'process': <lcatools.entities.LcProcess at 0x7fabb466cba8>,\n",
       " 'termination': None,\n",
       " 'unit': <lcatools.entities.LcUnit at 0x7fabb466c710>}"
      ]
     },
     "execution_count": 15,
     "metadata": {},
     "output_type": "execute_result"
    }
   ],
   "source": [
    "px[-1].__dict__"
   ]
  },
  {
   "cell_type": "code",
   "execution_count": 16,
   "metadata": {
    "collapsed": false
   },
   "outputs": [
    {
     "data": {
      "text/plain": [
       "['000b493f-5e76-4fe0-93ca-73b49263c1fc_29fbcb1d-79ca-45df-8eec-3e51bb95979d.spold']"
      ]
     },
     "execution_count": 16,
     "metadata": {},
     "output_type": "execute_result"
    }
   ],
   "source": [
    "EU.list_datasets(EU.processes()[0].get_uuid())"
   ]
  },
  {
   "cell_type": "code",
   "execution_count": 17,
   "metadata": {
    "collapsed": true
   },
   "outputs": [],
   "source": [
    "EU._quiet = True\n"
   ]
  },
  {
   "cell_type": "code",
   "execution_count": 19,
   "metadata": {
    "collapsed": false
   },
   "outputs": [
    {
     "name": "stdout",
     "output_type": "stream",
     "text": [
      "Loading /data/LCI/Ecoinvent/3.2/undefined\n",
      " Loaded 100 processes (t=0.68 s)\n",
      " Loaded 200 processes (t=1.11 s)\n",
      " Loaded 300 processes (t=1.80 s)\n",
      " Loaded 400 processes (t=2.27 s)\n",
      " Loaded 500 processes (t=2.72 s)\n",
      " Loaded 600 processes (t=3.15 s)\n",
      " Loaded 700 processes (t=3.55 s)\n",
      " Loaded 800 processes (t=3.93 s)\n",
      " Loaded 900 processes (t=4.52 s)\n",
      " Loaded 1000 processes (t=4.86 s)\n",
      " Loaded 1100 processes (t=5.20 s)\n",
      " Loaded 1200 processes (t=5.57 s)\n",
      " Loaded 1300 processes (t=5.96 s)\n",
      " Loaded 1400 processes (t=6.34 s)\n",
      " Loaded 1500 processes (t=6.69 s)\n",
      " Loaded 1600 processes (t=7.13 s)\n",
      " Loaded 1700 processes (t=7.57 s)\n",
      " Loaded 1800 processes (t=7.96 s)\n",
      " Loaded 1900 processes (t=8.31 s)\n",
      " Loaded 2000 processes (t=9.11 s)\n",
      " Loaded 2100 processes (t=9.71 s)\n",
      " Loaded 2200 processes (t=10.11 s)\n",
      " Loaded 2300 processes (t=10.75 s)\n",
      " Loaded 2400 processes (t=11.29 s)\n",
      " Loaded 2500 processes (t=11.71 s)\n",
      " Loaded 2600 processes (t=12.35 s)\n",
      " Loaded 2700 processes (t=12.94 s)\n",
      " Loaded 2800 processes (t=13.26 s)\n",
      " Loaded 2900 processes (t=13.75 s)\n",
      " Loaded 3000 processes (t=14.15 s)\n",
      " Loaded 3100 processes (t=14.80 s)\n",
      " Loaded 3200 processes (t=15.23 s)\n",
      " Loaded 3300 processes (t=15.66 s)\n",
      " Loaded 3400 processes (t=16.35 s)\n",
      " Loaded 3500 processes (t=16.70 s)\n",
      " Loaded 3600 processes (t=17.11 s)\n",
      " Loaded 3700 processes (t=17.64 s)\n",
      " Loaded 3800 processes (t=18.09 s)\n",
      " Loaded 3900 processes (t=18.53 s)\n",
      " Loaded 4000 processes (t=18.93 s)\n",
      " Loaded 4100 processes (t=19.69 s)\n",
      " Loaded 4200 processes (t=20.34 s)\n",
      " Loaded 4300 processes (t=20.74 s)\n",
      " Loaded 4400 processes (t=21.19 s)\n",
      " Loaded 4500 processes (t=21.64 s)\n",
      " Loaded 4600 processes (t=22.06 s)\n",
      " Loaded 4700 processes (t=22.66 s)\n",
      " Loaded 4800 processes (t=23.01 s)\n",
      " Loaded 4900 processes (t=23.52 s)\n",
      " Loaded 5000 processes (t=23.97 s)\n",
      " Loaded 5100 processes (t=24.59 s)\n",
      " Loaded 5200 processes (t=25.02 s)\n",
      " Loaded 5300 processes (t=25.47 s)\n",
      " Loaded 5400 processes (t=26.01 s)\n",
      " Loaded 5500 processes (t=26.62 s)\n",
      " Loaded 5600 processes (t=27.09 s)\n",
      " Loaded 5700 processes (t=27.58 s)\n",
      " Loaded 5800 processes (t=27.95 s)\n",
      " Loaded 5900 processes (t=28.41 s)\n",
      " Loaded 6000 processes (t=28.85 s)\n",
      " Loaded 6100 processes (t=29.35 s)\n",
      " Loaded 6200 processes (t=29.87 s)\n",
      " Loaded 6300 processes (t=30.69 s)\n",
      " Loaded 6400 processes (t=31.09 s)\n",
      " Loaded 6500 processes (t=31.67 s)\n",
      " Loaded 6600 processes (t=32.25 s)\n",
      " Loaded 6700 processes (t=32.64 s)\n",
      " Loaded 6800 processes (t=33.00 s)\n",
      " Loaded 6900 processes (t=33.48 s)\n",
      " Loaded 7000 processes (t=34.25 s)\n",
      " Loaded 7100 processes (t=34.72 s)\n",
      " Loaded 7200 processes (t=35.15 s)\n",
      " Loaded 7300 processes (t=35.57 s)\n",
      " Loaded 7400 processes (t=35.97 s)\n",
      " Loaded 7500 processes (t=36.60 s)\n",
      " Loaded 7600 processes (t=37.78 s)\n",
      "activity ID a8ad9471-66a4-4464-8c8b-f5f7943e92dc: no comment\n",
      " Loaded 7700 processes (t=38.82 s)\n",
      " Loaded 7800 processes (t=39.16 s)\n",
      " Loaded 7900 processes (t=39.79 s)\n",
      " Loaded 8000 processes (t=40.39 s)\n",
      " Loaded 8100 processes (t=40.97 s)\n",
      " Loaded 8200 processes (t=41.37 s)\n",
      " Loaded 8300 processes (t=42.00 s)\n",
      " Loaded 8400 processes (t=42.54 s)\n",
      " Loaded 8500 processes (t=43.02 s)\n",
      " Loaded 8600 processes (t=43.37 s)\n",
      " Loaded 8700 processes (t=43.98 s)\n",
      " Loaded 8800 processes (t=44.35 s)\n",
      " Loaded 8900 processes (t=44.99 s)\n",
      " Loaded 9000 processes (t=45.51 s)\n",
      " Loaded 9100 processes (t=46.26 s)\n",
      " Loaded 9200 processes (t=46.90 s)\n",
      " Loaded 9300 processes (t=47.73 s)\n",
      " Loaded 9400 processes (t=48.66 s)\n",
      " Loaded 9500 processes (t=49.12 s)\n",
      " Loaded 9600 processes (t=49.65 s)\n",
      " Loaded 9700 processes (t=50.09 s)\n",
      " Loaded 9800 processes (t=50.73 s)\n",
      " Loaded 9900 processes (t=51.09 s)\n",
      " Loaded 10000 processes (t=51.49 s)\n",
      " Loaded 10100 processes (t=51.89 s)\n",
      " Loaded 10200 processes (t=52.40 s)\n",
      " Loaded 10300 processes (t=53.01 s)\n",
      " Loaded 10400 processes (t=53.41 s)\n",
      " Loaded 10500 processes (t=53.89 s)\n",
      " Loaded 10600 processes (t=54.25 s)\n",
      " Loaded 10700 processes (t=54.65 s)\n",
      " Loaded 10800 processes (t=55.04 s)\n",
      " Loaded 10900 processes (t=55.77 s)\n",
      " Loaded 11000 processes (t=56.32 s)\n",
      " Loaded 11100 processes (t=57.09 s)\n",
      " Loaded 11200 processes (t=57.69 s)\n",
      " Loaded 11300 processes (t=58.12 s)\n",
      " Loaded 11400 processes (t=58.56 s)\n",
      " Loaded 11500 processes (t=58.99 s)\n",
      " Loaded 11552 processes (t=59.18 s)\n",
      "11552 new process entities added (11552 total)\n",
      "4680 new flow entities added (4680 total)\n",
      "19 new quantity entities added (19 total)\n"
     ]
    }
   ],
   "source": [
    "EU.load_all()"
   ]
  },
  {
   "cell_type": "code",
   "execution_count": 21,
   "metadata": {
    "collapsed": true
   },
   "outputs": [],
   "source": [
    "EU.write_to_file(os.path.join(catalog_dir, 'ei' + EI_version + '_' + model + '_spold.json.gz'), \n",
    "                exchanges=False, characterizations=False, values=False, gzip=True)"
   ]
  },
  {
   "cell_type": "code",
   "execution_count": 18,
   "metadata": {
    "collapsed": false
   },
   "outputs": [
    {
     "data": {
      "text/plain": [
       "1"
      ]
     },
     "execution_count": 18,
     "metadata": {},
     "output_type": "execute_result"
    }
   ],
   "source": [
    "len({x.get_uuid() for x in EU.processes()})"
   ]
  },
  {
   "cell_type": "code",
   "execution_count": 66,
   "metadata": {
    "collapsed": false
   },
   "outputs": [],
   "source": [
    "z = [x for x in EU.processes()[0]._exchanges]"
   ]
  },
  {
   "cell_type": "code",
   "execution_count": 10,
   "metadata": {
    "collapsed": true
   },
   "outputs": [],
   "source": [
    "from lcatools.interfaces import uuid_regex"
   ]
  },
  {
   "cell_type": "code",
   "execution_count": 23,
   "metadata": {
    "collapsed": false
   },
   "outputs": [],
   "source": [
    "uuids = [x[0] for y in EU.list_datasets() for x in uuid_regex.findall(y) ]"
   ]
  },
  {
   "cell_type": "code",
   "execution_count": 35,
   "metadata": {
    "collapsed": false
   },
   "outputs": [],
   "source": [
    "process_uuids = uuids[0::2]\n",
    "flow_uuids = uuids[1::2]"
   ]
  },
  {
   "cell_type": "code",
   "execution_count": 41,
   "metadata": {
    "collapsed": false
   },
   "outputs": [
    {
     "data": {
      "text/plain": [
       "2737"
      ]
     },
     "execution_count": 41,
     "metadata": {},
     "output_type": "execute_result"
    }
   ],
   "source": [
    "len(set(flow_uuids))"
   ]
  },
  {
   "cell_type": "code",
   "execution_count": 46,
   "metadata": {
    "collapsed": false
   },
   "outputs": [],
   "source": [
    "import matplotlib.pyplot as plt\n",
    "import plotly.plotly as py"
   ]
  },
  {
   "cell_type": "code",
   "execution_count": 53,
   "metadata": {
    "collapsed": true
   },
   "outputs": [],
   "source": [
    "%matplotlib inline"
   ]
  },
  {
   "cell_type": "code",
   "execution_count": 58,
   "metadata": {
    "collapsed": false
   },
   "outputs": [
    {
     "data": {
      "text/plain": [
       "<matplotlib.text.Text at 0x7f111720f9e8>"
      ]
     },
     "execution_count": 58,
     "metadata": {},
     "output_type": "execute_result"
    },
    {
     "data": {
      "image/png": "[encoded data removed]",
      "text/plain": [
       "<matplotlib.figure.Figure at 0x7f1117199c50>"
      ]
     },
     "metadata": {},
     "output_type": "display_data"
    }
   ],
   "source": [
    "plt.hist([len(x._exchanges) for x in EU.processes() if len(x._exchanges) > 1000])\n",
    "plt.title('foo')\n",
    "plt.xlabel('bar')\n",
    "plt.ylabel('baz')\n"
   ]
  },
  {
   "cell_type": "code",
   "execution_count": 54,
   "metadata": {
    "collapsed": false
   },
   "outputs": [
    {
     "data": {
      "image/png": "[encoded data removed]",
      "text/plain": [
       "<matplotlib.figure.Figure at 0x7f11194b1f98>"
      ]
     },
     "metadata": {},
     "output_type": "display_data"
    }
   ],
   "source": [
    "import matplotlib.pyplot as plt\n",
    "from numpy.random import normal\n",
    "gaussian_numbers = normal(size=1000)\n",
    "plt.hist(gaussian_numbers)\n",
    "plt.title(\"Gaussian Histogram\")\n",
    "plt.xlabel(\"Value\")\n",
    "plt.ylabel(\"Frequency\")\n",
    "plt.show()\n"
   ]
  },
  {
   "cell_type": "code",
   "execution_count": 7,
   "metadata": {
    "collapsed": true
   },
   "outputs": [],
   "source": [
    "f = EU._fetch_filename(fname)"
   ]
  },
  {
   "cell_type": "code",
   "execution_count": 14,
   "metadata": {
    "collapsed": false
   },
   "outputs": [
    {
     "data": {
      "text/plain": [
       "1066974"
      ]
     },
     "execution_count": 14,
     "metadata": {},
     "output_type": "execute_result"
    }
   ],
   "source": [
    "len(f.decode())"
   ]
  },
  {
   "cell_type": "code",
   "execution_count": 11,
   "metadata": {
    "collapsed": false
   },
   "outputs": [
    {
     "data": {
      "text/plain": [
       "'b\\'\\\\xef\\\\xbb\\\\xbf<?xml version=\"1.0\" encoding=\"utf-8\"?>\\\\n<ecoSpold xmlns=\"http://www.EcoInvent.org/EcoSpold02\">\\\\n  <activityDataset>\\\\n    <activityDescription>\\\\n      <activity id=\"023459eb-219f-4d85-bc6f-6031652b51ee\" activityNameId=\"3acee32c-27cd-4aa4-baf0-f003ba9f53b0\" inheritanceDepth=\"0\" type=\"1\" specialActivityType=\"0\" energyValues=\"0\">\\\\n        <activityName xml:lang=\"en\">layered sodium silicate production, SKS-6, powder</activityName>\\\\n        <includedActivitiesStart xml:lang=\"en\" />\\\\n        <includedActivitiesEnd xml:lang=\"en\">This module contains material and energy input, production of waste and emissions for the production of SKS-6 sodium silicate powder. Transport and infrastructure have been estimated. The input of compressed air is not reported in the data according to the methodology of the study.</includedActivitiesEnd>\\\\n        <generalComment>\\\\n          <text xml:lang=\"en\" index=\"1\">data based on information from the major European producer</text>\\\\n          <text xm'"
      ]
     },
     "execution_count": 11,
     "metadata": {},
     "output_type": "execute_result"
    }
   ],
   "source": [
    "str(f)[:1000]"
   ]
  },
  {
   "cell_type": "code",
   "execution_count": 6,
   "metadata": {
    "collapsed": false
   },
   "outputs": [
    {
     "data": {
      "text/plain": [
       "452"
      ]
     },
     "execution_count": 6,
     "metadata": {},
     "output_type": "execute_result"
    }
   ],
   "source": [
    "len(EA.processes())"
   ]
  },
  {
   "cell_type": "code",
   "execution_count": 16,
   "metadata": {
    "collapsed": false
   },
   "outputs": [
    {
     "name": "stdout",
     "output_type": "stream",
     "text": [
      "Help on built-in function remove:\n",
      "\n",
      "remove(...) method of builtins.set instance\n",
      "    Remove an element from a set; it must be a member.\n",
      "    \n",
      "    If the element is not a member, raise a KeyError.\n",
      "\n"
     ]
    }
   ],
   "source": [
    "help(g.remove)"
   ]
  },
  {
   "cell_type": "code",
   "execution_count": 21,
   "metadata": {
    "collapsed": false
   },
   "outputs": [],
   "source": [
    "from lcatools.literate_float import LiterateFloat"
   ]
  },
  {
   "cell_type": "code",
   "execution_count": 22,
   "metadata": {
    "collapsed": true
   },
   "outputs": [],
   "source": [
    "l = LiterateFloat(47.2)"
   ]
  },
  {
   "cell_type": "code",
   "execution_count": 26,
   "metadata": {
    "collapsed": false
   },
   "outputs": [
    {
     "data": {
      "text/plain": [
       "False"
      ]
     },
     "execution_count": 26,
     "metadata": {},
     "output_type": "execute_result"
    }
   ],
   "source": [
    "isinstance(l, int)"
   ]
  }
 ],
 "metadata": {
  "kernelspec": {
   "display_name": "Python 3",
   "language": "python",
   "name": "python3"
  },
  "language_info": {
   "codemirror_mode": {
    "name": "ipython",
    "version": 3
   },
   "file_extension": ".py",
   "mimetype": "text/x-python",
   "name": "python",
   "nbconvert_exporter": "python",
   "pygments_lexer": "ipython3",
   "version": "3.5.1"
  }
 },
 "nbformat": 4,
 "nbformat_minor": 0
}
