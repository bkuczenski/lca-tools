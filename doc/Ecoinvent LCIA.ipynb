{
 "cells": [
  {
   "cell_type": "code",
   "execution_count": 1,
   "metadata": {
    "collapsed": true
   },
   "outputs": [],
   "source": [
    "import sys\n",
    "sys.path.append('..')\n",
    "\n",
    "import lcatools\n",
    "import os"
   ]
  },
  {
   "cell_type": "code",
   "execution_count": 2,
   "metadata": {
    "collapsed": true
   },
   "outputs": [],
   "source": [
    "import xlrd\n",
    "import re"
   ]
  },
  {
   "cell_type": "code",
   "execution_count": 3,
   "metadata": {
    "collapsed": true
   },
   "outputs": [],
   "source": [
    "from collections import defaultdict"
   ]
  },
  {
   "cell_type": "code",
   "execution_count": 4,
   "metadata": {
    "collapsed": false
   },
   "outputs": [],
   "source": [
    "lcia_file = '/data/LCI/LCIA implementation v3.1 2014_08_13.xlsx'\n",
    "spold_archive = '/data/LCI/Ecoinvent/3.2/cutoff/datasets'\n",
    "\n",
    "catalog_dir = os.path.join(os.path.expanduser('~'), 'GitHub', 'lca-tools-datafiles', 'catalogs')\n",
    "spold_catfile = 'ei3.2_cutoff_spold.gz'"
   ]
  },
  {
   "cell_type": "code",
   "execution_count": 5,
   "metadata": {
    "collapsed": false
   },
   "outputs": [
    {
     "name": "stdout",
     "output_type": "stream",
     "text": [
      "CPU times: user 19.2 s, sys: 20 ms, total: 19.2 s\n",
      "Wall time: 19.2 s\n"
     ]
    }
   ],
   "source": [
    "%time X = xlrd.open_workbook(lcia_file)"
   ]
  },
  {
   "cell_type": "code",
   "execution_count": 10,
   "metadata": {
    "collapsed": false
   },
   "outputs": [],
   "source": [
    "s = X.sheet_by_index(1)"
   ]
  },
  {
   "cell_type": "code",
   "execution_count": 11,
   "metadata": {
    "collapsed": false
   },
   "outputs": [
    {
     "data": {
      "text/plain": [
       "'impact methods'"
      ]
     },
     "execution_count": 11,
     "metadata": {},
     "output_type": "execute_result"
    }
   ],
   "source": [
    "s.name"
   ]
  },
  {
   "cell_type": "code",
   "execution_count": 12,
   "metadata": {
    "collapsed": false
   },
   "outputs": [],
   "source": [
    "b = X.sheet_by_name('impact methods')"
   ]
  },
  {
   "cell_type": "code",
   "execution_count": 62,
   "metadata": {
    "collapsed": false
   },
   "outputs": [
    {
     "data": {
      "text/plain": [
       "['method',\n",
       " 'category',\n",
       " 'indicator',\n",
       " 'name',\n",
       " 'compartment',\n",
       " 'subcompartment',\n",
       " 'CF 3.01',\n",
       " 'CF 3.1',\n",
       " 'Change?',\n",
       " 'note',\n",
       " 'Known issue']"
      ]
     },
     "execution_count": 62,
     "metadata": {},
     "output_type": "execute_result"
    }
   ],
   "source": [
    "headings"
   ]
  },
  {
   "cell_type": "code",
   "execution_count": 46,
   "metadata": {
    "collapsed": false
   },
   "outputs": [
    {
     "data": {
      "text/plain": [
       "'method'"
      ]
     },
     "execution_count": 46,
     "metadata": {},
     "output_type": "execute_result"
    }
   ],
   "source": [
    "headings[0].value"
   ]
  },
  {
   "cell_type": "code",
   "execution_count": 52,
   "metadata": {
    "collapsed": false
   },
   "outputs": [],
   "source": [
    "g = b.get_rows()\n",
    "headings = [h.value for h in next(g)]"
   ]
  },
  {
   "cell_type": "code",
   "execution_count": 53,
   "metadata": {
    "collapsed": false
   },
   "outputs": [
    {
     "data": {
      "text/plain": [
       "'method'"
      ]
     },
     "execution_count": 53,
     "metadata": {},
     "output_type": "execute_result"
    }
   ],
   "source": [
    "headings[0]"
   ]
  },
  {
   "cell_type": "code",
   "execution_count": 54,
   "metadata": {
    "collapsed": true
   },
   "outputs": [],
   "source": [
    "cfs = []\n",
    "for row in g:\n",
    "    d = dict()\n",
    "    for i,h in enumerate(headings):\n",
    "        d[h] = row[i]\n",
    "    cfs.append(d)"
   ]
  },
  {
   "cell_type": "code",
   "execution_count": 55,
   "metadata": {
    "collapsed": false
   },
   "outputs": [
    {
     "data": {
      "text/plain": [
       "170915"
      ]
     },
     "execution_count": 55,
     "metadata": {},
     "output_type": "execute_result"
    }
   ],
   "source": [
    "len(cfs)"
   ]
  },
  {
   "cell_type": "code",
   "execution_count": 56,
   "metadata": {
    "collapsed": false
   },
   "outputs": [
    {
     "data": {
      "text/plain": [
       "{'CF 3.01': number:1.6,\n",
       " 'CF 3.1': number:1.6,\n",
       " 'Change?': text:'FALSE',\n",
       " 'Known issue': empty:'',\n",
       " 'category': text:'acidification potential',\n",
       " 'compartment': text:'air',\n",
       " 'indicator': text:'average European',\n",
       " 'method': text:'CML 2001',\n",
       " 'name': text:'Ammonia',\n",
       " 'note': text:'',\n",
       " 'subcompartment': text:'low population density, long-term'}"
      ]
     },
     "execution_count": 56,
     "metadata": {},
     "output_type": "execute_result"
    }
   ],
   "source": [
    "cfs[0]"
   ]
  },
  {
   "cell_type": "code",
   "execution_count": 5,
   "metadata": {
    "collapsed": false
   },
   "outputs": [],
   "source": [
    "from lcatools.providers.ecoinvent_lcia import EcoinventLcia\n",
    "from lcatools.db_catalog import from_json\n",
    "from lcatools.providers.ecospold2 import EcospoldV2Archive"
   ]
  },
  {
   "cell_type": "code",
   "execution_count": 6,
   "metadata": {
    "collapsed": false
   },
   "outputs": [
    {
     "data": {
      "text/plain": [
       "'/data/LCI/LCIA implementation v3.1 2014_08_13.xlsx'"
      ]
     },
     "execution_count": 6,
     "metadata": {},
     "output_type": "execute_result"
    }
   ],
   "source": [
    "lcia_file"
   ]
  },
  {
   "cell_type": "markdown",
   "metadata": {},
   "source": [
    "es_upstream = EcospoldV2Archive('/data/LCI/Ecoinvent/3.2/cutoff/datasets', quiet=True)"
   ]
  },
  {
   "cell_type": "code",
   "execution_count": 7,
   "metadata": {
    "collapsed": false
   },
   "outputs": [
    {
     "name": "stdout",
     "output_type": "stream",
     "text": [
      "Path points to a directory. Assuming expanded archive\n",
      "19 new quantity entities added (19 total)\n",
      "4681 new flow entities added (4681 total)\n",
      "11578 new process entities added (11578 total)\n"
     ]
    }
   ],
   "source": [
    "es_upstream = from_json(os.path.join(catalog_dir, spold_catfile))"
   ]
  },
  {
   "cell_type": "code",
   "execution_count": 8,
   "metadata": {
    "collapsed": false
   },
   "outputs": [
    {
     "data": {
      "text/plain": [
       "['person*km',\n",
       " 'm*year',\n",
       " 'm3',\n",
       " 'unit',\n",
       " 'ha',\n",
       " 'kWh',\n",
       " 'metric ton*km',\n",
       " 'km*year',\n",
       " 'm2*year',\n",
       " 'm3*year',\n",
       " 'kBq',\n",
       " 'm',\n",
       " 'hour',\n",
       " 'km',\n",
       " 'l',\n",
       " 'kg',\n",
       " 'm2',\n",
       " 'MJ',\n",
       " 'kg*day']"
      ]
     },
     "execution_count": 8,
     "metadata": {},
     "output_type": "execute_result"
    }
   ],
   "source": [
    "[k['referenceUnit'].unitstring() for k in es_upstream.quantities()]"
   ]
  },
  {
   "cell_type": "code",
   "execution_count": 9,
   "metadata": {
    "collapsed": false
   },
   "outputs": [
    {
     "name": "stdout",
     "output_type": "stream",
     "text": [
      "Adding quantity entity with 487df68b-4994-4027-8fdc-a4dc298257b7: EcoSpold Quantity kg\n"
     ]
    }
   ],
   "source": [
    "EL = EcoinventLcia(lcia_file, upstream=es_upstream, mass_quantity=es_upstream.quantity_with_unit('kg'), \n",
    "                   ns_uuid='46802ca5-8b25-398c-af10-2376adaa4623')"
   ]
  },
  {
   "cell_type": "code",
   "execution_count": 10,
   "metadata": {
    "collapsed": false
   },
   "outputs": [
    {
     "name": "stdout",
     "output_type": "stream",
     "text": [
      "CPU times: user 22 s, sys: 70 ms, total: 22 s\n",
      "Wall time: 22.1 s\n"
     ]
    }
   ],
   "source": [
    "%time EL._load_xl_rows()"
   ]
  },
  {
   "cell_type": "code",
   "execution_count": 11,
   "metadata": {
    "collapsed": false
   },
   "outputs": [
    {
     "data": {
      "text/plain": [
       "170915"
      ]
     },
     "execution_count": 11,
     "metadata": {},
     "output_type": "execute_result"
    }
   ],
   "source": [
    "len(EL._xl_rows)"
   ]
  },
  {
   "cell_type": "code",
   "execution_count": 12,
   "metadata": {
    "collapsed": false
   },
   "outputs": [
    {
     "name": "stdout",
     "output_type": "stream",
     "text": [
      "Found upstream match: Ammonia (CAS 007664-41-7) [air, low population density, long-term]\n",
      "Adding flow entity with 825de299-9656-3d57-a6d6-e04093ff21f5: Ammonia\n",
      "Adding flow entity with 30f6b7f3-65b0-3705-b096-a2ef311315c2: Ammonia\n",
      "Found upstream match: Ammonia (CAS 007664-41-7) [air, non-urban air or from high stacks]\n",
      "Adding flow entity with becd3615-9110-3e27-be55-e1e6261276bd: Ammonia\n",
      "Found upstream match: Ammonia (CAS 007664-41-7) [air, unspecified]\n",
      "Adding flow entity with 161e309c-49de-3936-a1c4-7ffd9de33f47: Ammonia\n",
      "Found upstream match: Ammonia (CAS 007664-41-7) [air, urban air close to ground]\n",
      "Adding flow entity with fc10a7a9-5532-3e60-8b6b-b4398f11bf2a: Ammonia\n",
      "Found upstream match: Nitrogen oxides (CAS 011104-93-1) [air, low population density, long-term]\n",
      "Adding flow entity with 88190311-886f-3106-af98-bee5edb80b8c: Nitrogen oxides\n",
      "Found upstream match: Nitrogen oxides (CAS 011104-93-1) [air, lower stratosphere + upper troposphere]\n",
      "Adding flow entity with a2ba07ea-fb23-310a-8e5a-6df76c1b0d86: Nitrogen oxides\n",
      "Found upstream match: Nitrogen oxides (CAS 011104-93-1) [air, non-urban air or from high stacks]\n",
      "Adding flow entity with 5dfba873-20a7-3c97-83ca-f1bb61af34ed: Nitrogen oxides\n",
      "Found upstream match: Nitrogen oxides (CAS 011104-93-1) [air, unspecified]\n",
      "Adding flow entity with bef41fe6-b063-386f-a362-4b6a8f9ec2cc: Nitrogen oxides\n",
      "Found upstream match: Nitrogen oxides (CAS 011104-93-1) [air, urban air close to ground]\n",
      "Adding flow entity with 13691bca-e8e7-367e-8d94-7bfd631b9269: Nitrogen oxides\n"
     ]
    }
   ],
   "source": [
    "for row in EL._xl_rows[:10]:\n",
    "    EL._create_flow(row)"
   ]
  },
  {
   "cell_type": "code",
   "execution_count": 13,
   "metadata": {
    "collapsed": false
   },
   "outputs": [],
   "source": [
    "f = EL.search('30f6b7f3-65b0-3705-b096-a2ef311315c2')[0]"
   ]
  },
  {
   "cell_type": "code",
   "execution_count": 14,
   "metadata": {
    "collapsed": false
   },
   "outputs": [
    {
     "data": {
      "text/plain": [
       "'Ammonia [air, lower stratosphere + upper troposphere]'"
      ]
     },
     "execution_count": 14,
     "metadata": {},
     "output_type": "execute_result"
    }
   ],
   "source": [
    "str(f)"
   ]
  },
  {
   "cell_type": "code",
   "execution_count": 15,
   "metadata": {
    "collapsed": false
   },
   "outputs": [
    {
     "data": {
      "text/plain": [
       "[]"
      ]
     },
     "execution_count": 15,
     "metadata": {},
     "output_type": "execute_result"
    }
   ],
   "source": [
    "es_upstream.search(entity_type='flow', Name='Ammonia', Compartment='tropo')"
   ]
  },
  {
   "cell_type": "code",
   "execution_count": 16,
   "metadata": {
    "collapsed": false
   },
   "outputs": [
    {
     "data": {
      "text/plain": [
       "[<lcatools.entities.LcFlow at 0x7fe838c66320>]"
      ]
     },
     "execution_count": 16,
     "metadata": {},
     "output_type": "execute_result"
    }
   ],
   "source": [
    "EL.search(entity_type='flow', Name='Ammonia', Compartment='tropo')"
   ]
  },
  {
   "cell_type": "code",
   "execution_count": 17,
   "metadata": {
    "collapsed": false
   },
   "outputs": [
    {
     "data": {
      "text/plain": [
       "{'_d': {'CasNumber': '011104-93-1',\n",
       "  'Comment': 'EcoSpold02 Flow',\n",
       "  'Compartment': ['air', 'lower stratosphere + upper troposphere'],\n",
       "  'Name': 'Nitrogen oxides',\n",
       "  'origin': '/data/LCI/Ecoinvent/3.2/cutoff/datasets'},\n",
       " '_external_ref': 'Nitrogen oxides, air, lower stratosphere + upper troposphere',\n",
       " '_ref_quantity_factor': 1,\n",
       " '_uuid': UUID('4841a0fe-c250-4a39-94a1-1bc31426c0f1'),\n",
       " 'entity_type': 'flow',\n",
       " 'reference_entity': <lcatools.entities.LcQuantity at 0x7fe837385f60>}"
      ]
     },
     "execution_count": 17,
     "metadata": {},
     "output_type": "execute_result"
    }
   ],
   "source": [
    "EL.flows()[0].__dict__"
   ]
  },
  {
   "cell_type": "code",
   "execution_count": 18,
   "metadata": {
    "collapsed": false
   },
   "outputs": [
    {
     "data": {
      "text/plain": [
       "{'CasNumber': '011104-93-1',\n",
       " 'Comment': 'EcoSpold02 Flow',\n",
       " 'Compartment': ['air', 'lower stratosphere + upper troposphere'],\n",
       " 'EntityType': 'flow',\n",
       " 'Name': 'Nitrogen oxides',\n",
       " 'referenceQuantity': <lcatools.entities.LcQuantity at 0x7fe837385f60>}"
      ]
     },
     "execution_count": 18,
     "metadata": {},
     "output_type": "execute_result"
    }
   ],
   "source": [
    "EL.flows()[0].get_signature()"
   ]
  },
  {
   "cell_type": "code",
   "execution_count": 19,
   "metadata": {
    "collapsed": true
   },
   "outputs": [],
   "source": [
    "EL._quiet=True"
   ]
  },
  {
   "cell_type": "code",
   "execution_count": null,
   "metadata": {
    "collapsed": true
   },
   "outputs": [],
   "source": []
  },
  {
   "cell_type": "code",
   "execution_count": 20,
   "metadata": {
    "collapsed": false
   },
   "outputs": [
    {
     "name": "stdout",
     "output_type": "stream",
     "text": [
      "0 new process entities added (0 total)\n",
      "3255 new flow entities added (3255 total)\n",
      "702 new quantity entities added (702 total)\n",
      "CPU times: user 10.7 s, sys: 90 ms, total: 10.8 s\n",
      "Wall time: 10.8 s\n"
     ]
    }
   ],
   "source": [
    "%time EL.load_all()"
   ]
  },
  {
   "cell_type": "code",
   "execution_count": 21,
   "metadata": {
    "collapsed": false
   },
   "outputs": [
    {
     "data": {
      "text/plain": [
       "170755"
      ]
     },
     "execution_count": 21,
     "metadata": {},
     "output_type": "execute_result"
    }
   ],
   "source": [
    "len(EL.characterizations())"
   ]
  },
  {
   "cell_type": "code",
   "execution_count": 23,
   "metadata": {
    "collapsed": false
   },
   "outputs": [
    {
     "data": {
      "text/plain": [
       "160"
      ]
     },
     "execution_count": 23,
     "metadata": {},
     "output_type": "execute_result"
    }
   ],
   "source": [
    "len([i for i in EL._characterizations.zeros()])"
   ]
  },
  {
   "cell_type": "code",
   "execution_count": 24,
   "metadata": {
    "collapsed": false
   },
   "outputs": [
    {
     "data": {
      "text/plain": [
       "'0755d155-caab-3ecf-9eaf-46d1d595cf8d'"
      ]
     },
     "execution_count": 24,
     "metadata": {},
     "output_type": "execute_result"
    }
   ],
   "source": [
    "EL.characterizations()[0].quantity.get_uuid()"
   ]
  },
  {
   "cell_type": "code",
   "execution_count": 52,
   "metadata": {
    "collapsed": true
   },
   "outputs": [],
   "source": [
    "def flows_gen():\n",
    "    for _f in EL.flows():\n",
    "        yield _f"
   ]
  },
  {
   "cell_type": "code",
   "execution_count": 36,
   "metadata": {
    "collapsed": true
   },
   "outputs": [],
   "source": [
    "def en_gen(archive):\n",
    "    for k in archive._entities.keys():\n",
    "        v = archive._get_entity(k)\n",
    "        if v.entity_type == 'flow':\n",
    "            yield v\n",
    "u = en_gen(es_upstream)"
   ]
  },
  {
   "cell_type": "code",
   "execution_count": 37,
   "metadata": {
    "collapsed": false
   },
   "outputs": [],
   "source": [
    "e = next(u)"
   ]
  },
  {
   "cell_type": "code",
   "execution_count": 38,
   "metadata": {
    "collapsed": false
   },
   "outputs": [
    {
     "data": {
      "text/plain": [
       "['natural resource', 'land']"
      ]
     },
     "execution_count": 38,
     "metadata": {},
     "output_type": "execute_result"
    }
   ],
   "source": [
    "next(u)['Compartment']"
   ]
  },
  {
   "cell_type": "code",
   "execution_count": 46,
   "metadata": {
    "collapsed": false
   },
   "outputs": [
    {
     "data": {
      "text/plain": [
       "['Cesium-134', 'water', 'surface water']"
      ]
     },
     "execution_count": 46,
     "metadata": {},
     "output_type": "execute_result"
    }
   ],
   "source": [
    "e = next(u)\n",
    "[e['Name']] + e['Compartment']"
   ]
  },
  {
   "cell_type": "code",
   "execution_count": 35,
   "metadata": {
    "collapsed": false
   },
   "outputs": [
    {
     "data": {
      "text/plain": [
       "<lcatools.entities.LcProcess at 0x7f9b2815cc50>"
      ]
     },
     "execution_count": 35,
     "metadata": {},
     "output_type": "execute_result"
    }
   ],
   "source": [
    "e"
   ]
  },
  {
   "cell_type": "code",
   "execution_count": 31,
   "metadata": {
    "collapsed": true
   },
   "outputs": [],
   "source": [
    "x"
   ]
  },
  {
   "cell_type": "code",
   "execution_count": 53,
   "metadata": {
    "collapsed": false
   },
   "outputs": [],
   "source": [
    "flows = flows_gen()"
   ]
  },
  {
   "cell_type": "code",
   "execution_count": 69,
   "metadata": {
    "collapsed": false
   },
   "outputs": [
    {
     "name": "stdout",
     "output_type": "stream",
     "text": [
      "68\n",
      "177\n",
      "38\n",
      "23\n",
      "11\n",
      "5\n",
      "68\n",
      "63\n",
      "4\n",
      "3 loops, best of 3: 56.3 ms per loop\n"
     ]
    }
   ],
   "source": [
    "%timeit -n3 print(len(EL._characterizations.get(flow=next(flows))))"
   ]
  },
  {
   "cell_type": "code",
   "execution_count": 54,
   "metadata": {
    "collapsed": false
   },
   "outputs": [],
   "source": [
    "f = next(flows)"
   ]
  },
  {
   "cell_type": "code",
   "execution_count": 55,
   "metadata": {
    "collapsed": false
   },
   "outputs": [
    {
     "data": {
      "text/plain": [
       "<lcatools.entities.LcFlow at 0x7fb44a35ee80>"
      ]
     },
     "execution_count": 55,
     "metadata": {},
     "output_type": "execute_result"
    }
   ],
   "source": [
    "f"
   ]
  },
  {
   "cell_type": "code",
   "execution_count": 66,
   "metadata": {
    "collapsed": false
   },
   "outputs": [
    {
     "data": {
      "text/plain": [
       "1"
      ]
     },
     "execution_count": 66,
     "metadata": {},
     "output_type": "execute_result"
    }
   ],
   "source": [
    "len(EL._characterizations.get(flow=next(flows)))"
   ]
  },
  {
   "cell_type": "code",
   "execution_count": 61,
   "metadata": {
    "collapsed": false
   },
   "outputs": [
    {
     "data": {
      "text/plain": [
       "{'CasNumber': '',\n",
       " 'Comment': '',\n",
       " 'Compartment': ['air', 'non-urban air or from high stacks'],\n",
       " 'EntityType': 'flow',\n",
       " 'Name': 'Dipropylamine',\n",
       " 'referenceQuantity': <lcatools.entities.LcQuantity at 0x7fb483ee9828>}"
      ]
     },
     "execution_count": 61,
     "metadata": {},
     "output_type": "execute_result"
    }
   ],
   "source": [
    "f=next(flows)\n",
    "f.get_signature()"
   ]
  },
  {
   "cell_type": "code",
   "execution_count": 51,
   "metadata": {
    "collapsed": false
   },
   "outputs": [
    {
     "data": {
      "text/plain": [
       "3255"
      ]
     },
     "execution_count": 51,
     "metadata": {},
     "output_type": "execute_result"
    }
   ],
   "source": [
    "len([f for f in flows()])"
   ]
  },
  {
   "cell_type": "code",
   "execution_count": 71,
   "metadata": {
    "collapsed": false
   },
   "outputs": [],
   "source": [
    "cf = EL._characterizations.get(flow=next(flows))"
   ]
  },
  {
   "cell_type": "code",
   "execution_count": 72,
   "metadata": {
    "collapsed": false
   },
   "outputs": [
    {
     "data": {
      "text/plain": [
       "152"
      ]
     },
     "execution_count": 72,
     "metadata": {},
     "output_type": "execute_result"
    }
   ],
   "source": [
    "len(cf)"
   ]
  },
  {
   "cell_type": "code",
   "execution_count": 75,
   "metadata": {
    "collapsed": false
   },
   "outputs": [
    {
     "data": {
      "text/plain": [
       "{'flow': <lcatools.entities.LcFlow at 0x7fb44b5dd710>,\n",
       " 'quantity': <lcatools.entities.LcQuantity at 0x7fb483ed0470>,\n",
       " 'value': 224400.0}"
      ]
     },
     "execution_count": 75,
     "metadata": {},
     "output_type": "execute_result"
    }
   ],
   "source": [
    "cf[0].__dict__"
   ]
  },
  {
   "cell_type": "code",
   "execution_count": 79,
   "metadata": {
    "collapsed": true
   },
   "outputs": [],
   "source": [
    "def cf_str(cf):\n",
    "    return { 'flow': str(cf.flow), 'quantity': str(cf.quantity), 'value': cf.value}"
   ]
  },
  {
   "cell_type": "code",
   "execution_count": 86,
   "metadata": {
    "collapsed": false
   },
   "outputs": [
    {
     "data": {
      "text/plain": [
       "{'flow': 'Cadmium, ion [water, ground-]',\n",
       " 'quantity': 'LC quantity: ReCiPe Endpoint (H,A) w/o LT, ecosystem quality w/o LT, freshwater ecotoxicity w/o LT',\n",
       " 'value': 0.0172175497759}"
      ]
     },
     "execution_count": 86,
     "metadata": {},
     "output_type": "execute_result"
    }
   ],
   "source": [
    "cf_str(cf[2])"
   ]
  },
  {
   "cell_type": "code",
   "execution_count": 90,
   "metadata": {
    "collapsed": false
   },
   "outputs": [
    {
     "data": {
      "text/plain": [
       "dict_keys(['category', 'indicator', 'method', 'name', 'note', 'CF 3.1', 'CF 3.01', 'subcompartment', 'Known issue', 'compartment'])"
      ]
     },
     "execution_count": 90,
     "metadata": {},
     "output_type": "execute_result"
    }
   ],
   "source": [
    "cf[2].value.keys()"
   ]
  },
  {
   "cell_type": "code",
   "execution_count": 103,
   "metadata": {
    "collapsed": false
   },
   "outputs": [
    {
     "data": {
      "text/plain": [
       "'carcinogenics'"
      ]
     },
     "execution_count": 103,
     "metadata": {},
     "output_type": "execute_result"
    }
   ],
   "source": [
    "cf[3].value['indicator']"
   ]
  },
  {
   "cell_type": "code",
   "execution_count": 38,
   "metadata": {
    "collapsed": true
   },
   "outputs": [],
   "source": [
    "unique_names = set([f['Name'] for f in EL.flows()])"
   ]
  },
  {
   "cell_type": "code",
   "execution_count": 39,
   "metadata": {
    "collapsed": false
   },
   "outputs": [
    {
     "data": {
      "text/plain": [
       "984"
      ]
     },
     "execution_count": 39,
     "metadata": {},
     "output_type": "execute_result"
    }
   ],
   "source": [
    "len(unique_names)"
   ]
  },
  {
   "cell_type": "code",
   "execution_count": 40,
   "metadata": {
    "collapsed": false
   },
   "outputs": [
    {
     "data": {
      "text/plain": [
       "['Mercury',\n",
       " 'Benzene, chloro-',\n",
       " 'Occupation, pasture, man made',\n",
       " 'Tolylfluanid',\n",
       " 'Transformation, from dump site, inert material landfill',\n",
       " 'Monochloroethane',\n",
       " 'Pd, Pd 7.3E-4%, Pt 2.5E-4%, Rh 2.0E-5%, Ni 2.3E+0%, Cu 3.2E+0% in ore, in ground',\n",
       " 'Ammonium carbonate',\n",
       " 'Oxadixyl',\n",
       " '3-Methyl-1-butanol']"
      ]
     },
     "execution_count": 40,
     "metadata": {},
     "output_type": "execute_result"
    }
   ],
   "source": [
    "list(unique_names)[:10]"
   ]
  },
  {
   "cell_type": "code",
   "execution_count": 28,
   "metadata": {
    "collapsed": false
   },
   "outputs": [],
   "source": [
    "f = EL.flows()[123]\n",
    "q = EL.quantities()[698]"
   ]
  },
  {
   "cell_type": "code",
   "execution_count": 36,
   "metadata": {
    "collapsed": false
   },
   "outputs": [
    {
     "name": "stdout",
     "output_type": "stream",
     "text": [
      "260\n",
      "260\n",
      "260\n",
      "260\n",
      "260\n",
      "260\n",
      "260\n",
      "260\n",
      "260\n",
      "260\n",
      "260\n",
      "260\n",
      "260\n",
      "260\n",
      "260\n",
      "5 loops, best of 3: 147 ms per loop\n"
     ]
    }
   ],
   "source": [
    "%timeit -n5 print('%d' % len([i for i in EL.characterizations() if i.quantity is q]))"
   ]
  },
  {
   "cell_type": "code",
   "execution_count": 37,
   "metadata": {
    "collapsed": false
   },
   "outputs": [
    {
     "name": "stdout",
     "output_type": "stream",
     "text": [
      "260\n",
      "260\n",
      "260\n",
      "260\n",
      "260\n",
      "260\n",
      "260\n",
      "260\n",
      "260\n",
      "260\n",
      "260\n",
      "260\n",
      "260\n",
      "260\n",
      "260\n",
      "5 loops, best of 3: 57.6 ms per loop\n"
     ]
    }
   ],
   "source": [
    "%timeit -n5 print('%d' % len(EL._characterizations.get(quantity=q)))"
   ]
  },
  {
   "cell_type": "code",
   "execution_count": 24,
   "metadata": {
    "collapsed": false
   },
   "outputs": [
    {
     "data": {
      "text/plain": [
       "'points'"
      ]
     },
     "execution_count": 24,
     "metadata": {},
     "output_type": "execute_result"
    }
   ],
   "source": [
    "EL.quantities()[0]['referenceUnit'].unitstring()"
   ]
  },
  {
   "cell_type": "code",
   "execution_count": 18,
   "metadata": {
    "collapsed": false
   },
   "outputs": [
    {
     "data": {
      "text/plain": [
       "{'CF 3.01': 1.6,\n",
       " 'CF 3.1': 1.6,\n",
       " 'Change?': 'FALSE',\n",
       " 'Known issue': '',\n",
       " 'category': 'acidification potential',\n",
       " 'compartment': 'air',\n",
       " 'indicator': 'average European',\n",
       " 'method': 'CML 2001',\n",
       " 'name': 'Ammonia',\n",
       " 'note': '',\n",
       " 'subcompartment': 'low population density, long-term'}"
      ]
     },
     "execution_count": 18,
     "metadata": {},
     "output_type": "execute_result"
    }
   ],
   "source": [
    "EL._xl_rows[0]"
   ]
  },
  {
   "cell_type": "code",
   "execution_count": 17,
   "metadata": {
    "collapsed": false
   },
   "outputs": [],
   "source": [
    "f = EL.flows()[0]"
   ]
  },
  {
   "cell_type": "code",
   "execution_count": 22,
   "metadata": {
    "collapsed": false
   },
   "outputs": [
    {
     "name": "stdout",
     "output_type": "stream",
     "text": [
      "0 new process entities added (0 total)\n",
      "3245 new flow entities added (3255 total)\n",
      "0 new quantity entities added (702 total)\n"
     ]
    }
   ],
   "source": [
    "EL.load_all()"
   ]
  },
  {
   "cell_type": "code",
   "execution_count": 32,
   "metadata": {
    "collapsed": false
   },
   "outputs": [],
   "source": [
    "cf = EL.characterizations()[100000]"
   ]
  },
  {
   "cell_type": "code",
   "execution_count": 33,
   "metadata": {
    "collapsed": false
   },
   "outputs": [
    {
     "data": {
      "text/plain": [
       "{'flow': <lcatools.entities.LcFlow at 0x7fa002887f60>,\n",
       " 'quantity': <lcatools.entities.LcQuantity at 0x7fa009760208>,\n",
       " 'value': None}"
      ]
     },
     "execution_count": 33,
     "metadata": {},
     "output_type": "execute_result"
    }
   ],
   "source": [
    "cf.__dict__"
   ]
  },
  {
   "cell_type": "code",
   "execution_count": 26,
   "metadata": {
    "collapsed": false
   },
   "outputs": [],
   "source": [
    "EL.write_to_file(os.path.join(catalog_dir, 'ei_lcia.gz'), gzip=True, characterizations=False)"
   ]
  },
  {
   "cell_type": "code",
   "execution_count": 25,
   "metadata": {
    "collapsed": false
   },
   "outputs": [
    {
     "data": {
      "text/plain": [
       "{'CasNumber': '',\n",
       " 'Comment': '',\n",
       " 'Compartment': ['water', 'ground-, long-term'],\n",
       " 'EntityType': 'flow',\n",
       " 'Name': 'Ethane, 1,1,1-trichloro-, HCFC-140',\n",
       " 'referenceQuantity': <lcatools.entities.LcQuantity at 0x7fe837385f60>}"
      ]
     },
     "execution_count": 25,
     "metadata": {},
     "output_type": "execute_result"
    }
   ],
   "source": [
    "EL.flows()[100].get_signature()"
   ]
  },
  {
   "cell_type": "code",
   "execution_count": null,
   "metadata": {
    "collapsed": true
   },
   "outputs": [],
   "source": []
  }
 ],
 "metadata": {
  "kernelspec": {
   "display_name": "Python 3",
   "language": "python",
   "name": "python3"
  },
  "language_info": {
   "codemirror_mode": {
    "name": "ipython",
    "version": 3
   },
   "file_extension": ".py",
   "mimetype": "text/x-python",
   "name": "python",
   "nbconvert_exporter": "python",
   "pygments_lexer": "ipython3",
   "version": "3.5.1"
  }
 },
 "nbformat": 4,
 "nbformat_minor": 0
}
