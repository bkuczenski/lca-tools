{
 "cells": [
  {
   "cell_type": "code",
   "execution_count": 1,
   "metadata": {
    "collapsed": true
   },
   "outputs": [],
   "source": [
    "import sys\n",
    "sys.path.append('..')\n",
    "import os\n",
    "import re\n",
    "\n",
    "import lcatools\n"
   ]
  },
  {
   "cell_type": "code",
   "execution_count": 2,
   "metadata": {
    "collapsed": true
   },
   "outputs": [],
   "source": [
    "EI_version = '3.2'\n",
    "model = 'undefined'\n",
    "\n",
    "data_dir = os.path.join('/data','LCI','Ecoinvent', EI_version, model)\n",
    "zip_dir = os.path.join(os.path.expanduser('~'), 'Dropbox', 'data', 'Ecoinvent', EI_version)\n",
    "catalog_dir = os.path.join(os.path.expanduser('~'), 'GitHub', 'lca-tools-datafiles', 'catalogs')\n",
    "\n",
    "spold = 'current_Version_' + EI_version + '_' + model + '_ecoSpold02.7z'"
   ]
  },
  {
   "cell_type": "code",
   "execution_count": 3,
   "metadata": {
    "collapsed": true
   },
   "outputs": [],
   "source": [
    "from lcatools.providers.archive import Archive"
   ]
  },
  {
   "cell_type": "code",
   "execution_count": 6,
   "metadata": {
    "collapsed": false
   },
   "outputs": [
    {
     "name": "stdout",
     "output_type": "stream",
     "text": [
      "Found Extension: 7z\n"
     ]
    }
   ],
   "source": [
    "A = Archive(os.path.join(zip_dir, spold))"
   ]
  },
  {
   "cell_type": "code",
   "execution_count": 7,
   "metadata": {
    "collapsed": true
   },
   "outputs": [],
   "source": [
    "l = A.listfiles('datasets')[:10]"
   ]
  },
  {
   "cell_type": "code",
   "execution_count": 8,
   "metadata": {
    "collapsed": false
   },
   "outputs": [
    {
     "data": {
      "text/plain": [
       "['datasets/00009573-c174-463a-8ebf-183ec587ba0d_7cb72345-4338-4f2d-830f-65bba3530fdb.spold',\n",
       " 'datasets/00137c74-429d-4cd4-b9be-c70e88f0d3a7_6f13ac10-76f1-42c1-a46e-7dabda411274.spold',\n",
       " 'datasets/00137c74-429d-4cd4-b9be-c70e88f0d3a7_aabed306-e9a0-4441-86ac-5936fe671ed2.spold',\n",
       " 'datasets/001b1457-2b18-48de-913a-dee0f3064bb3_cb388ab7-cbc9-412f-ab11-811c808a8004.spold',\n",
       " 'datasets/0023ecb0-cb93-446b-a181-e307571b203c_db14b1bf-6c5e-4db1-833e-6bf331874714.spold',\n",
       " 'datasets/0036e50d-8e5b-438c-b94c-4ee40350362b_66c93e71-f32b-4591-901c-55395db5c132.spold',\n",
       " 'datasets/003b13f0-18f4-467d-91a6-4201072dadaa_759b89bd-3aa6-42ad-b767-5bb9ef5d331d.spold',\n",
       " 'datasets/003f9a31-c540-4351-a434-3b1b1c791b99_66c93e71-f32b-4591-901c-55395db5c132.spold',\n",
       " 'datasets/00420798-e9d1-4de9-8745-09bd85f31db8_66c93e71-f32b-4591-901c-55395db5c132.spold',\n",
       " 'datasets/00420798-e9d1-4de9-8745-09bd85f31db8_71e2f1db-a2c5-44d0-8337-dfff15be974d.spold']"
      ]
     },
     "execution_count": 8,
     "metadata": {},
     "output_type": "execute_result"
    }
   ],
   "source": [
    "l"
   ]
  },
  {
   "cell_type": "code",
   "execution_count": 9,
   "metadata": {
    "collapsed": true
   },
   "outputs": [],
   "source": [
    "uuid_regex = re.compile('([0-9a-f]{8}.?([0-9a-f]{4}.?){3}[0-9a-f]{12})')"
   ]
  },
  {
   "cell_type": "code",
   "execution_count": 10,
   "metadata": {
    "collapsed": false
   },
   "outputs": [
    {
     "data": {
      "text/plain": [
       "[('00009573-c174-463a-8ebf-183ec587ba0d', '8ebf-'),\n",
       " ('7cb72345-4338-4f2d-830f-65bba3530fdb', '830f-')]"
      ]
     },
     "execution_count": 10,
     "metadata": {},
     "output_type": "execute_result"
    }
   ],
   "source": [
    "uuid_regex.findall(l[0])"
   ]
  },
  {
   "cell_type": "code",
   "execution_count": 4,
   "metadata": {
    "collapsed": true
   },
   "outputs": [],
   "source": [
    "from lcatools.providers.ecospold2 import EcospoldV2Archive"
   ]
  },
  {
   "cell_type": "code",
   "execution_count": 5,
   "metadata": {
    "collapsed": false
   },
   "outputs": [
    {
     "name": "stdout",
     "output_type": "stream",
     "text": [
      "Found Extension: 7z\n"
     ]
    }
   ],
   "source": [
    "EU = EcospoldV2Archive(os.path.join(zip_dir,spold), prefix='datasets - public')"
   ]
  },
  {
   "cell_type": "code",
   "execution_count": 6,
   "metadata": {
    "collapsed": false
   },
   "outputs": [
    {
     "data": {
      "text/plain": [
       "['00093951-0c71-4a74-96d8-ece56003838a_b335722e-f52e-44cd-b335-a6686c7fe3ab.spold',\n",
       " '000b493f-5e76-4fe0-93ca-73b49263c1fc_29fbcb1d-79ca-45df-8eec-3e51bb95979d.spold',\n",
       " '001a7c31-a39b-4606-9877-d6cfc36e5fd8_47e8f15f-6a0b-4ec5-be7d-8965ce014081.spold',\n",
       " '001b83bb-d07c-4c91-90c1-5a9437badf06_089f5c04-e340-42c4-bf9c-e8ec6174443a.spold',\n",
       " '001fa547-fbbd-4172-9492-0f58076c4553_7f56554d-e090-4df5-b538-3a235b534353.spold',\n",
       " '002da2f2-595b-427e-ae3a-3f7dcd769715_6eb408db-980a-4b9e-82a8-b6dca183ec35.spold',\n",
       " '002f9105-f892-4241-9c45-b3b7d68a9c72_99e47244-0ecd-4d45-8d79-f4e3cb384d05.spold',\n",
       " '00352317-8629-4778-96a7-abfa11c1face_dcb70fd5-e305-4920-b68b-40697cc6a206.spold',\n",
       " '0036e50d-8e5b-438c-b94c-4ee40350362b_66c93e71-f32b-4591-901c-55395db5c132.spold',\n",
       " '003ad59e-1069-4a8f-ada1-6785cf19e74b_77c1da70-f6b7-47eb-a986-4d70a4bf31a1.spold']"
      ]
     },
     "execution_count": 6,
     "metadata": {},
     "output_type": "execute_result"
    }
   ],
   "source": [
    "EU.list_datasets()[:10]"
   ]
  },
  {
   "cell_type": "code",
   "execution_count": 7,
   "metadata": {
    "collapsed": false
   },
   "outputs": [],
   "source": [
    "l = EU.list_datasets()[:10]"
   ]
  },
  {
   "cell_type": "code",
   "execution_count": 8,
   "metadata": {
    "collapsed": false
   },
   "outputs": [],
   "source": [
    "EU._quiet = False"
   ]
  },
  {
   "cell_type": "code",
   "execution_count": 9,
   "metadata": {
    "collapsed": false
   },
   "outputs": [
    {
     "name": "stdout",
     "output_type": "stream",
     "text": [
      "Adding process entity with 000b493f-5e76-4fe0-93ca-73b49263c1fc: chlorine dioxide production\n",
      "Adding quantity entity with 487df68b-4994-4027-8fdc-a4dc298257b7: EcoSpold Quantity kg\n",
      "Adding flow entity with 29fbcb1d-79ca-45df-8eec-3e51bb95979d: chlorine dioxide\n",
      "Identified reference exchange\n",
      " chlorine dioxide production [GLO] has Output: chlorine dioxide (CAS 10049-04-4) [By-product classification: allocatable product] [kg]\n",
      "Adding flow entity with edcfa83a-363a-4b2d-8d6a-612e32dfcdfc: sodium chloride, powder\n",
      "Adding quantity entity with 77ae64fa-7e74-4252-9c3b-889c1cd20bfc: EcoSpold Quantity kWh\n",
      "Adding flow entity with 759b89bd-3aa6-42ad-b767-5bb9ef5d331d: electricity, medium voltage\n",
      "Adding quantity entity with 5b972631-34e3-4db7-a615-f6931770a0cb: EcoSpold Quantity unit\n",
      "Adding flow entity with 3d0fe4e0-eac9-4704-b3fd-09b8594d0fbe: chemical factory, organics\n",
      "Adding flow entity with 6c9cf309-10ae-4fde-8f55-d2debd3103c2: sodium chlorate, powder\n",
      "Adding flow entity with 9d63da75-8289-4b96-a900-67ec3bd40a16: sulfuric acid\n",
      "Adding quantity entity with 980b811e-3905-4797-82a5-173f5568bc7e: EcoSpold Quantity MJ\n",
      "Adding flow entity with 1125e767-7b5d-442e-81d6-9b0d3e1919ac: heat, district or industrial, natural gas\n",
      "Adding quantity entity with de5b3c87-0e35-4fb0-9765-4f3ba34c99e5: EcoSpold Quantity m3\n",
      "Adding flow entity with 075e433b-4be4-448e-9510-9a5029c1ce94: Water\n",
      "Adding flow entity with 2404b41a-2eed-4e9d-8ab6-783946fdf5d6: Water\n",
      "Adding flow entity with 1fc409bc-b8e7-48b2-92d5-2ced4aa7bae2: Sodium, ion\n",
      "Adding flow entity with 37d35fd0-7f07-4b9b-92eb-de3c27050172: Sulfate\n",
      "Adding flow entity with 826677aa-8347-4494-85da-a26fe3e1e824: Sulfate\n",
      "Adding flow entity with fc1c42ce-a759-49fa-b987-f1ec5e503db1: Water, cooling, unspecified natural origin\n",
      "Adding flow entity with 831f249e-53f2-49cf-a93c-7cee105f048e: Water, unspecified natural origin\n",
      "Adding flow entity with f9749677-9c9f-4678-ab55-c607dfdc2cb9: Carbon dioxide, fossil\n",
      "Adding flow entity with 21b46c65-491e-40a9-ac74-5877af997d7c: Sodium chlorate\n",
      "Adding flow entity with 25131632-4b24-4625-8940-60d00385dad5: Chlorate\n",
      "Adding flow entity with c9e29113-8f61-41bb-8bc1-b49c6f152fd9: Cyanide\n",
      "Adding flow entity with 5e050fab-1837-4c42-b597-ed2f376f768f: Chloride\n",
      "Exch chlorine dioxide (CAS 10049-04-4) [By-product classification: allocatable product] [Output] (1)\n",
      "Exch sodium chloride, powder (CAS 7647-14-5) [By-product classification: allocatable product] [Input] (0.912)\n",
      "Exch electricity, medium voltage [By-product classification: allocatable product] [Input] (0.333)\n",
      "Exch chemical factory, organics [By-product classification: allocatable product] [Input] (4e-10)\n",
      "Exch sodium chlorate, powder (CAS 7775-09-9) [By-product classification: allocatable product] [Input] (1.66)\n",
      "Exch sulfuric acid [By-product classification: allocatable product] [Input] (1.53)\n",
      "Exch heat, district or industrial, natural gas [By-product classification: allocatable product] [Input] (2)\n",
      "Exch Water (CAS 007732-18-5) [air, unspecified] [Output] (0.01176)\n",
      "Exch Water (CAS 007732-18-5) [water, unspecified] [Output] (0.02424)\n",
      "Exch Sodium, ion (CAS 017341-25-2) [water, surface water] [Output] (0.0352)\n",
      "Exch Sulfate (CAS 014808-79-8) [water, surface water] [Output] (0.072)\n",
      "Exch Sulfate (CAS 014808-79-8) [air, urban air close to ground] [Output] (0.003)\n",
      "Exch Water, cooling, unspecified natural origin (CAS 007732-18-5) [natural resource, in water] [Input] (0.024)\n",
      "Exch Water, unspecified natural origin (CAS 007732-18-5) [natural resource, in water] [Input] (0.012)\n",
      "Exch Carbon dioxide, fossil (CAS 000124-38-9) [air, urban air close to ground] [Output] (0.0402)\n",
      "Exch Sodium chlorate (CAS 007775-09-9) [air, urban air close to ground] [Output] (0.00332)\n",
      "Exch Chlorate (CAS 007790-93-4) [water, surface water] [Output] (0.0625)\n",
      "Exch Cyanide (CAS 000057-12-5) [water, surface water] [Output] (0.00274)\n",
      "Exch Chloride (CAS 016887-00-6) [water, surface water] [Output] (0.0277)\n"
     ]
    },
    {
     "data": {
      "text/plain": [
       "<lcatools.entities.LcProcess at 0x7fefbebe2400>"
      ]
     },
     "execution_count": 9,
     "metadata": {},
     "output_type": "execute_result"
    }
   ],
   "source": [
    "EU.retrieve_or_fetch_entity(l[1])"
   ]
  },
  {
   "cell_type": "code",
   "execution_count": 10,
   "metadata": {
    "collapsed": false
   },
   "outputs": [
    {
     "data": {
      "text/plain": [
       "[' Input:     [4e-10 [unit]] chemical factory, organics [By-product classification: allocatable product]',\n",
       " ' Input:     [0.012 [m3]] Water, unspecified natural origin (CAS 007732-18-5) [natural resource, in water]',\n",
       " ' Input:     [0.912 [kg]] sodium chloride, powder (CAS 7647-14-5) [By-product classification: allocatable product]',\n",
       " ' Input:     [1.53 [kg]] sulfuric acid [By-product classification: allocatable product]',\n",
       " ' Input:     [0.024 [m3]] Water, cooling, unspecified natural origin (CAS 007732-18-5) [natural resource, in water]',\n",
       " ' Input:     [0.333 [kWh]] electricity, medium voltage [By-product classification: allocatable product]',\n",
       " ' Input:     [1.66 [kg]] sodium chlorate, powder (CAS 7775-09-9) [By-product classification: allocatable product]',\n",
       " ' Input:     [2 [MJ]] heat, district or industrial, natural gas [By-product classification: allocatable product]',\n",
       " 'Output:     [0.0242 [m3]] Water (CAS 007732-18-5) [water, unspecified]',\n",
       " 'Output:     [0.072 [kg]] Sulfate (CAS 014808-79-8) [water, surface water]',\n",
       " 'Output:     [0.003 [kg]] Sulfate (CAS 014808-79-8) [air, urban air close to ground]',\n",
       " 'Output:     [0.0402 [kg]] Carbon dioxide, fossil (CAS 000124-38-9) [air, urban air close to ground]',\n",
       " 'Output: {*} [1 [kg]] chlorine dioxide (CAS 10049-04-4) [By-product classification: allocatable product]',\n",
       " 'Output:     [0.0625 [kg]] Chlorate (CAS 007790-93-4) [water, surface water]',\n",
       " 'Output:     [0.0118 [m3]] Water (CAS 007732-18-5) [air, unspecified]',\n",
       " 'Output:     [0.00332 [kg]] Sodium chlorate (CAS 007775-09-9) [air, urban air close to ground]',\n",
       " 'Output:     [0.0277 [kg]] Chloride (CAS 016887-00-6) [water, surface water]',\n",
       " 'Output:     [0.0352 [kg]] Sodium, ion (CAS 017341-25-2) [water, surface water]',\n",
       " 'Output:     [0.00274 [kg]] Cyanide (CAS 000057-12-5) [water, surface water]']"
      ]
     },
     "execution_count": 10,
     "metadata": {},
     "output_type": "execute_result"
    }
   ],
   "source": [
    "[str(x) for x in EU.processes()[0].exchanges()]"
   ]
  },
  {
   "cell_type": "code",
   "execution_count": 16,
   "metadata": {
    "collapsed": false
   },
   "outputs": [
    {
     "data": {
      "text/plain": [
       "['00093951-0c71-4a74-96d8-ece56003838a_b335722e-f52e-44cd-b335-a6686c7fe3ab.spold']"
      ]
     },
     "execution_count": 16,
     "metadata": {},
     "output_type": "execute_result"
    }
   ],
   "source": [
    "EU.list_datasets(EU.processes()[0].get_uuid())"
   ]
  },
  {
   "cell_type": "code",
   "execution_count": 19,
   "metadata": {
    "collapsed": false
   },
   "outputs": [
    {
     "ename": "NameError",
     "evalue": "name 'EA' is not defined",
     "output_type": "error",
     "traceback": [
      "\u001b[1;31m---------------------------------------------------------------------------\u001b[0m",
      "\u001b[1;31mNameError\u001b[0m                                 Traceback (most recent call last)",
      "\u001b[1;32m<ipython-input-19-2e2fb0da58bb>\u001b[0m in \u001b[0;36m<module>\u001b[1;34m()\u001b[0m\n\u001b[1;32m----> 1\u001b[1;33m \u001b[1;32mfor\u001b[0m \u001b[0mf\u001b[0m \u001b[1;32min\u001b[0m \u001b[0mEA\u001b[0m\u001b[1;33m.\u001b[0m\u001b[0mlist_datasets\u001b[0m\u001b[1;33m(\u001b[0m\u001b[1;34m'0ac9332f'\u001b[0m\u001b[1;33m)\u001b[0m\u001b[1;33m:\u001b[0m\u001b[1;33m\u001b[0m\u001b[0m\n\u001b[0m\u001b[0;32m      2\u001b[0m     \u001b[0mEA\u001b[0m\u001b[1;33m.\u001b[0m\u001b[0m_fetch\u001b[0m\u001b[1;33m(\u001b[0m\u001b[0mf\u001b[0m\u001b[1;33m)\u001b[0m\u001b[1;33m\u001b[0m\u001b[0m\n",
      "\u001b[1;31mNameError\u001b[0m: name 'EA' is not defined"
     ]
    }
   ],
   "source": [
    "for f in EA.list_datasets('0ac9332f'):\n",
    "    EA._fetch(f)"
   ]
  },
  {
   "cell_type": "code",
   "execution_count": 23,
   "metadata": {
    "collapsed": false
   },
   "outputs": [],
   "source": [
    "g = (EA.processes()[0].exchanges())"
   ]
  },
  {
   "cell_type": "code",
   "execution_count": 29,
   "metadata": {
    "collapsed": false
   },
   "outputs": [
    {
     "data": {
      "text/plain": [
       "{'_ref_flow': '6ab2abde-801d-45a3-8ea3-455d0f01c3f4',\n",
       " '_value': None,\n",
       " '_value_dict': {'45fbbc41-7ae9-46cc-bb31-abfa11e69de0': '0'},\n",
       " 'direction': 'Input',\n",
       " 'flow': <lcatools.entities.LcFlow at 0x7fc0d6c0f5f8>,\n",
       " 'process': <lcatools.entities.LcProcess at 0x7fc0d6c00588>,\n",
       " 'quantity': <lcatools.entities.LcQuantity at 0x7fc0d6c00b38>}"
      ]
     },
     "execution_count": 29,
     "metadata": {},
     "output_type": "execute_result"
    }
   ],
   "source": [
    "next(g).__dict__"
   ]
  },
  {
   "cell_type": "code",
   "execution_count": 20,
   "metadata": {
    "collapsed": false
   },
   "outputs": [],
   "source": [
    "def qprint(*args):\n",
    "    print(*args)"
   ]
  },
  {
   "cell_type": "code",
   "execution_count": 22,
   "metadata": {
    "collapsed": true
   },
   "outputs": [],
   "source": [
    "stuff='foo'"
   ]
  },
  {
   "cell_type": "code",
   "execution_count": 23,
   "metadata": {
    "collapsed": false
   },
   "outputs": [
    {
     "name": "stdout",
     "output_type": "stream",
     "text": [
      "this is the foo\n"
     ]
    }
   ],
   "source": [
    "qprint('this is the %s' % stuff)"
   ]
  },
  {
   "cell_type": "code",
   "execution_count": 13,
   "metadata": {
    "collapsed": false
   },
   "outputs": [],
   "source": [
    "b = set([a])"
   ]
  },
  {
   "cell_type": "code",
   "execution_count": 13,
   "metadata": {
    "collapsed": true
   },
   "outputs": [],
   "source": [
    "EU._quiet = False\n"
   ]
  },
  {
   "cell_type": "code",
   "execution_count": 14,
   "metadata": {
    "collapsed": false
   },
   "outputs": [
    {
     "name": "stdout",
     "output_type": "stream",
     "text": [
      "Loading /home/b/Dropbox/data/Ecoinvent/3.2/current_Version_3.2_undefined_ecoSpold02.7z\n",
      "Adding process entity with 002f9105-f892-4241-9c45-b3b7d68a9c72: power saw production, without catalytic converter\n",
      "Adding flow entity with 99e47244-0ecd-4d45-8d79-f4e3cb384d05: power saw, without catalytic converter\n",
      "Identified reference exchange\n",
      " power saw production, without catalytic converter [RER] has Output: power saw, without catalytic converter [By-product classification: allocatable product] [unit]\n",
      "Adding flow entity with 68d6dfcf-2089-4586-9bbf-ad75591105cf: injection moulding\n",
      "Adding flow entity with a430f433-cdc8-45be-ace2-32a634634d3b: aluminium, cast alloy\n",
      "Adding flow entity with 8cb650d5-8a48-4719-81b1-2080b3b4387f: steel, low-alloyed, hot rolled\n",
      "Adding flow entity with 8aa5cd19-c1ca-49f1-8efb-c7a28f5ad71f: section bar rolling, steel\n",
      "Adding flow entity with b685192a-e033-421e-9074-8fe7cb176046: polyethylene, high density, granulate\n",
      "Adding flow entity with b77c44e6-9d76-47c3-8f45-4e68ebf7dfff: magnesium-alloy, AZ91, diecast\n",
      "Exch injection moulding [By-product classification: allocatable product] [Input] (2.45)\n",
      "Exch aluminium, cast alloy [By-product classification: allocatable product] [Input] (1.75)\n",
      "Exch steel, low-alloyed, hot rolled [By-product classification: allocatable product] [Input] (2.1)\n",
      "Exch section bar rolling, steel [By-product classification: allocatable product] [Input] (2.1)\n",
      "Exch electricity, medium voltage [By-product classification: allocatable product] [Input] (0.0187)\n",
      "Exch power saw, without catalytic converter [By-product classification: allocatable product] [Output] (1)\n",
      "Exch heat, district or industrial, natural gas [By-product classification: allocatable product] [Input] (0.1836)\n",
      "Exch polyethylene, high density, granulate (CAS 9002-88-4) [By-product classification: allocatable product] [Input] (2.45)\n",
      "Exch magnesium-alloy, AZ91, diecast [By-product classification: allocatable product] [Input] (0.7)\n",
      "Adding process entity with 00352317-8629-4778-96a7-abfa11c1face: treatment of waste polyethylene terephtalate, municipal incineration\n",
      "Adding flow entity with dcb70fd5-e305-4920-b68b-40697cc6a206: waste polyethylene terephtalate\n",
      "Identified reference exchange\n",
      " treatment of waste polyethylene terephtalate, municipal incineration [GLO] has Output: waste polyethylene terephtalate (CAS 25038-59-9) [By-product classification: Waste] [kg]\n",
      "Adding flow entity with 6ab2abde-801d-45a3-8ea3-455d0f01c3f4: water, decarbonised, at user\n",
      "Adding flow entity with 45fdcba1-32e8-462e-b7a3-932ad3dd761b: chromium oxide, flakes\n",
      "Adding flow entity with ec23da1b-e5fa-4f01-bd2c-3233fece2175: cement, unspecified\n",
      "Adding flow entity with 1d32d9ef-8f9d-4b72-9d72-ab08b08fa52c: slag landfill\n",
      "Adding flow entity with 3ab60559-40d3-42e4-9cac-476a519098fa: hydrochloric acid, without water, in 30% solution state\n",
      "Adding flow entity with 0efdaa40-18e9-4c35-b443-7123307fb358: process-specific burdens, residual material landfill\n",
      "Adding flow entity with 2be73167-58e8-4706-a68f-167c80df9f72: chemical, organic\n",
      "Adding flow entity with 73b452c8-3ac4-4993-86e4-fe0653467988: chemical, inorganic\n",
      "Adding flow entity with 2a478bad-9f24-4208-a86c-3683f9b69610: quicklime, milled, packed\n",
      "Adding flow entity with 3cc30fa4-8564-443b-9849-8c7b98c60ec8: residual material landfill\n",
      "Adding flow entity with b419e26a-249f-4286-a6f8-188e7dfba951: titanium dioxide\n",
      "Adding flow entity with 51202bed-5f41-4b96-a788-9f6649dcb3c8: iron (III) chloride, without water, in 40% solution state\n",
      "Adding flow entity with 637ee275-a239-4dcb-b084-abfa110dd65b: electricity, for reuse in municipal waste incineration only\n",
      "Adding flow entity with a0e53510-b90b-43ba-80cc-7600f5da004f: municipal waste incineration facility\n",
      "Adding flow entity with 45fbbc41-7ae9-46cc-bb31-abfa11e69de0: heat, for reuse in municipal waste incineration only\n",
      "Adding flow entity with 092689fc-3f10-47fe-abbd-9ffaf77f3013: process-specific burdens, slag landfill\n",
      "Adding quantity entity with 2f4daad7-5331-4f14-930c-d8bca924557d: EcoSpold Quantity metric ton*km\n",
      "Adding flow entity with cfbce515-3f54-4411-ad9d-3d26b7faa15a: transport, freight, lorry, unspecified\n",
      "Adding flow entity with 7f6bb533-2d3c-43a6-ac60-6eef299d7c52: waste cement, hydrated\n",
      "Adding flow entity with ccb169c3-8aae-4727-89bb-a7dd122946f3: Particulates, > 2.5 um, and < 10um\n",
      "Adding flow entity with 24e0a9cb-a789-46e2-a25c-0278a90d67e5: Beryllium\n",
      "Adding flow entity with 237a5f15-8119-472a-8988-88b7ecb42405: Dioxins, measured as 2,3,7,8-tetrachlorodibenzo-p-dioxin\n",
      "Adding flow entity with 6edcc2df-88a3-48e1-83d8-ffc38d31c35b: Carbon monoxide, fossil\n",
      "Adding flow entity with e34d3da4-a3d5-41be-84b5-458afe32c990: Chromium, ion\n",
      "Adding flow entity with 748f22a9-eba4-4726-bef5-92c7442ce189: Zinc\n",
      "Adding flow entity with ca04300a-8338-4601-ba7c-66c10a4f6322: Cobalt\n",
      "Adding flow entity with af83b42f-a4e6-4457-be74-46a87798f82a: Cadmium, ion\n",
      "Adding flow entity with 66bfb434-78ab-4183-b1a7-7f87d08974fa: Mercury\n",
      "Adding flow entity with 08b928d8-1812-4e0b-b057-4bcaaba24865: Phenol, pentachloro-\n",
      "Adding flow entity with 2c872773-0a29-4831-93b9-d49b116fa7d5: Barium\n",
      "Adding flow entity with 34b96163-a3df-4bc1-8224-e2a9fe01b23f: Antimony\n",
      "Adding flow entity with 2cbb504a-ce2f-40e9-9d38-e130e95a1242: Benzo(a)pyrene\n",
      "Adding flow entity with fb83d61e-6fe3-4da7-8eb2-b0e2dc85a76d: Sodium, ion\n",
      "Adding flow entity with 9b6d6f07-ebc6-447d-a3c0-f2017d77d852: Iron, ion\n",
      "Adding flow entity with 8f1b69d9-fc00-4b46-99f9-7a57fd71dad2: Strontium\n",
      "Adding flow entity with f65558fb-61a1-4e48-b4f2-60d62f14b085: TOC, Total Organic Carbon\n",
      "Adding flow entity with 98eb1d16-9d7a-4716-9be4-1449341a832f: Sodium\n",
      "Adding flow entity with aedea697-930a-4a0e-9e4f-b9c369aa9a33: BOD5, Biological Oxygen Demand\n",
      "Adding flow entity with 39946c56-cdf6-4a22-9ac9-1cd333b65533: Toluene\n",
      "Adding flow entity with abb7f444-e74a-46b5-a6a5-080a847cbbc5: Strontium\n",
      "Adding flow entity with 257eacb9-96fe-4a3d-961a-f5e6c7823ff0: Hydrogen fluoride\n",
      "Adding flow entity with b61057a3-a0bc-4158-882e-b819c4797419: Nitrate\n",
      "Adding flow entity with 5ffb3576-740f-41ba-814f-8538d83a4b3b: Barium\n",
      "Adding flow entity with 8216fc31-15a1-4d33-858f-e09650b14c63: Chromium VI\n",
      "Adding flow entity with e60edb16-3c74-415b-9aff-a22a6f49fecb: Arsenic, ion\n",
      "Adding flow entity with bdce3a7c-e008-4391-be26-285f71a02453: Zinc, ion\n",
      "Adding flow entity with 9798359e-a3ee-4362-a038-23a188582c6e: Nickel, ion\n",
      "Adding flow entity with 77c46f0e-c8c0-4bc3-992c-2a9725d49f70: Bromine\n",
      "Adding flow entity with 541b633c-17a3-4047-bce6-0c0e4fdb7c10: Zinc, ion\n",
      "Adding flow entity with 32cd0492-c0cb-4898-a2b1-675eedc5b688: Iron\n",
      "Adding flow entity with 921df5eb-cde6-40ea-8744-c02746db0a3c: Cyanide\n",
      "Adding flow entity with 5f7aad3d-566c-4d0d-ad59-e765f971aa0f: Methane, fossil\n",
      "Adding flow entity with 7ae3e6e8-75e6-4566-b18f-6d848086c4e5: Fluoride\n",
      "Adding flow entity with 1af44724-172c-462b-b277-bb4b2fd32c33: Benzene, hexachloro-\n",
      "Adding flow entity with 40229ebf-9346-4f20-910a-f8ea3bd88d44: Copper, ion\n",
      "Adding flow entity with 4d54a415-82d7-49ac-88e1-712bd0009363: Selenium\n",
      "Adding flow entity with a46a250e-297d-43e9-b1c4-052cdcfb79c5: Vanadium, ion\n",
      "Adding flow entity with 276e755c-ed57-466a-b555-4658c791f385: Beryllium\n",
      "Adding flow entity with b3ebdcc3-c588-4997-95d2-9785b26b34e1: Lead\n",
      "Adding flow entity with afcbd980-14c2-4e1d-a0aa-5f6464e5c76b: Hydrogen chloride\n",
      "Adding flow entity with 835d0907-a668-4d92-b6b6-7b56fa343713: Manganese\n",
      "Adding flow entity with 7c335b9c-a403-47a8-bb6d-2e7d3c3a230e: Iron, ion\n",
      "Adding flow entity with 230d8a0a-517c-43fe-8357-1818dd12997a: Particulates, < 2.5 um\n",
      "Adding flow entity with 3ddb2e36-bc1b-43a5-8ef4-cbcdbeeeea70: Tin, ion\n",
      "Adding flow entity with 1bb6a502-3ff9-4a79-835c-5588b855f1f5: Benzene\n",
      "Adding flow entity with 40f89b03-64f8-466d-9480-bca47d8a435c: Mercury\n",
      "Adding flow entity with db4566b1-bd88-427d-92da-2d25879063b9: Water\n",
      "Adding flow entity with fc0b5c85-3b49-42c2-a3fd-db7e57b696e3: COD, Chemical Oxygen Demand\n",
      "Adding flow entity with af01e564-f816-4906-bd4f-b7c932f926b9: Oxygen\n",
      "Adding flow entity with ae28c923-a4a3-4f00-b862-1ae6e748efb9: Calcium, ion\n",
      "Adding flow entity with 70d467b6-115e-43c5-add2-441de9411348: BOD5, Biological Oxygen Demand\n",
      "Adding flow entity with 7e9baf19-8fa4-49c6-a3c2-2e875217e60b: Thallium\n",
      "Adding flow entity with 9f69cb8e-51fe-447b-a1ac-4da74de8ebe4: Nickel, ion\n",
      "Adding flow entity with b0546417-3064-4878-bd6f-2da75cefdf63: Manganese\n",
      "Adding flow entity with 88cde01c-df69-40bb-9b14-6eac71bea5b8: Copper\n",
      "Adding flow entity with bfc0bf1c-e5e2-4702-a502-08c892031837: Sulfate\n",
      "Adding flow entity with 2a46e7f4-c66c-43e5-8a8a-d119c4098aff: Titanium, ion\n",
      "Adding flow entity with 36e53653-1338-42c7-816c-f6667809e0b1: Cadmium\n",
      "Adding flow entity with 6d9550e2-e670-44c1-bad8-c0c4975ffca7: Copper, ion\n",
      "Adding flow entity with bac53020-1fed-4119-9242-33e4a2597560: Bromine\n",
      "Adding flow entity with 41dbbe1f-06e1-4a34-8497-5986be8f9e51: Vanadium, ion\n",
      "Adding flow entity with 60a6702f-20ad-444f-a6df-f6374f1e3183: Tin, ion\n",
      "Adding flow entity with 97e498ec-f323-4ec6-bcc0-d8a4c853bae3: Aluminium\n",
      "Adding flow entity with 3ea5684a-6d64-4f96-8c09-1d90f997c9d4: Antimony\n",
      "Adding flow entity with a8fea8cf-9b09-49fc-aa58-5a732494a2a0: COD, Chemical Oxygen Demand\n",
      "Adding flow entity with 8734eb08-50cf-4f5a-8d1a-db76d38efe3c: TOC, Total Organic Carbon\n",
      "Adding flow entity with d068f3e2-b033-417b-a359-ca4f25da9731: Nitrogen oxides\n",
      "Adding flow entity with 6f0b8b7c-3888-4174-b7e3-916d42d678ee: Aluminium\n",
      "Adding flow entity with e43a270f-4f88-4789-a0b8-7aba56677743: Nickel\n",
      "Adding flow entity with 1e904267-caa3-40e6-a3a0-fc104489770b: Cobalt\n",
      "Adding flow entity with 50deb561-3de9-4b25-9b61-1695ad2dd136: Thallium\n",
      "Adding flow entity with 83cf77ca-867b-4eef-b0f0-78d71b3d91d5: Antimony\n",
      "Adding flow entity with 00d2fef1-e4d4-4a16-8e81-b8cc514e4c25: Fluoride\n",
      "Adding flow entity with 544dbea9-1d18-44ff-b92b-7866e3baa6dd: Selenium\n",
      "Adding flow entity with ac066c02-b403-407b-a1f0-b29ad0f8188f: Calcium, ion\n",
      "Adding flow entity with d9008a06-991c-4acc-a33e-5483ffd2491e: Thallium\n",
      "Adding flow entity with a912f450-5233-489b-a2e9-8c029fab480f: Calcium\n",
      "Adding flow entity with 3184c902-c587-4fd7-bd89-769d3cf30072: Barium\n",
      "Adding flow entity with 725c7923-0ed8-43e5-b485-fad7e34bef08: DOC, Dissolved Organic Carbon\n",
      "Adding flow entity with 19b6e569-85a4-4ea9-a590-d61a21e3c846: Tin\n",
      "Adding flow entity with ea70cc93-c68c-4228-8b8e-1b189b4c705c: Chloride\n",
      "Adding flow entity with f532985c-90b7-46fc-aac9-b039b40e22f1: Manganese\n",
      "Adding flow entity with 8c8ffaa5-84ed-4668-ba7d-80fd0f47013f: Arsenic, ion\n",
      "Adding flow entity with ff36578b-f403-4656-b934-81d8d4e02dc8: Titanium, ion\n",
      "Adding flow entity with ef475b50-9cd0-4e7c-9c59-07868fe16e91: Chromium VI\n",
      "Adding flow entity with 5d368100-b1bc-4456-8420-e469edccf349: Water\n",
      "Adding flow entity with 960c0f37-f34c-4fc1-b77c-22d8b35fd8d5: DOC, Dissolved Organic Carbon\n",
      "Adding flow entity with 8c52f40c-69b7-4538-8923-b371523c71f5: Sulfur dioxide\n",
      "Adding flow entity with f8f772bc-7204-4fda-aa97-080fd0f1b34c: Titanium\n",
      "Adding flow entity with 4295ed5b-9824-4bbf-97a4-fc4cabd87f0d: Strontium\n",
      "Adding flow entity with 7705f0e1-5b14-44f4-b330-1245b5c7fc08: Chromium\n",
      "Adding flow entity with 20bc9500-2e2f-4cba-9332-8ea17d362aba: Bromine\n",
      "Adding flow entity with a850e6de-a007-432f-be7f-ce6e2cf1f2ae: Mercury\n",
      "Adding flow entity with 0ff15165-d761-48c9-9814-2d1dcdd56857: Lead\n",
      "Adding flow entity with 152e5a83-96e8-4f54-af42-4f0925a771ac: Heat, waste\n",
      "Adding flow entity with 01056d4b-f9b0-4dfc-b8d9-8407c8376efb: Aluminium\n",
      "Adding flow entity with 2cba713d-ab0b-44cb-babb-f8cac262554f: Vanadium\n",
      "Adding flow entity with 6dc1b46f-ee89-4495-95c4-b8a637bcd6cb: Dinitrogen monoxide\n",
      "Adding flow entity with c75dd699-08a5-4215-acf5-e618995e768f: Benzene, pentachloro-\n",
      "Adding flow entity with 175baa64-d985-4c5e-84ef-67cc3a1cf952: NMVOC, non-methane volatile organic compounds, unspecified origin\n",
      "Adding flow entity with 6a903634-c97f-4c49-a7c0-88f0e6ac7a23: Lead\n",
      "Adding flow entity with 4ce23896-a82f-49f1-a8e3-8848734805a3: Cadmium, ion\n",
      "Adding flow entity with f4d0a2c8-efef-4188-85da-5801097389a2: Arsenic\n",
      "Adding flow entity with b411ec8b-c60a-4235-a3b2-8bf8443cbc55: Heat, waste\n",
      "Adding flow entity with a79be2ee-ac83-4328-a136-a34ba1f99089: Selenium\n",
      "Adding flow entity with d4291dd5-dae8-47fa-bf06-466fcecbc210: Cobalt\n",
      "Exch water, decarbonised, at user [By-product classification: allocatable product] [Input] (0.35189)\n",
      "Exch chromium oxide, flakes (CAS 1333-82-0) [By-product classification: allocatable product] [Input] (1.5771e-06)\n",
      "Exch heat, district or industrial, natural gas [By-product classification: allocatable product] [Input] (0.23065)\n",
      "Exch cement, unspecified [By-product classification: allocatable product] [Input] (0.0025065)\n",
      "Exch slag landfill [By-product classification: allocatable product] [Input] (2.2055e-11)\n",
      "Exch hydrochloric acid, without water, in 30% solution state (CAS 7647-01-0) [By-product classification: allocatable product] [Input] (1.4506e-05)\n",
      "Exch process-specific burdens, residual material landfill [By-product classification: allocatable product] [Input] (0.0062662)\n",
      "Exch ammonia, liquid (CAS 7664-41-7) [By-product classification: allocatable product] [Input] (0.0012334)\n",
      "Exch sodium hydroxide, without water, in 50% solution state (CAS 1310-73-2) [By-product classification: allocatable product] [Input] (0.0001356)\n",
      "Exch chemical, organic [By-product classification: allocatable product] [Input] (2.3248e-06)\n",
      "Exch chemical, inorganic [By-product classification: allocatable product] [Input] (5.5189e-05)\n",
      "Exch quicklime, milled, packed [By-product classification: allocatable product] [Input] (0.00044204)\n",
      "Exch residual material landfill [By-product classification: allocatable product] [Input] (1.3055e-11)\n",
      "Exch titanium dioxide [By-product classification: allocatable product] [Input] (7.7276e-05)\n",
      "Exch iron (III) chloride, without water, in 40% solution state (CAS 007705-08-0) [By-product classification: allocatable product] [Input] (0.00018854)\n",
      "Exch electricity, for reuse in municipal waste incineration only [By-product classification: allocatable product] [Output] (0.82365)\n",
      "Exch municipal waste incineration facility [By-product classification: allocatable product] [Input] (2.5e-10)\n",
      "Exch heat, for reuse in municipal waste incineration only [By-product classification: allocatable product] [Output] (5.807)\n",
      "Exch process-specific burdens, slag landfill [By-product classification: allocatable product] [Input] (0.012406)\n",
      "Exch transport, freight, lorry, unspecified [By-product classification: allocatable product] [Input] (0.00074689)\n",
      "Exch waste polyethylene terephtalate (CAS 25038-59-9) [By-product classification: Waste] [Output] (-1)\n",
      "Exch waste cement, hydrated [By-product classification: Waste] [Output] (0.0062662)\n",
      "Exch Particulates, > 2.5 um, and < 10um [air, urban air close to ground] [Output] (1.6124e-08)\n",
      "Exch Beryllium (CAS 007440-41-7) [water, ground-, long-term] [Output] (4.5046e-07)\n",
      "Exch Dioxins, measured as 2,3,7,8-tetrachlorodibenzo-p-dioxin (CAS 001746-01-6) [air, urban air close to ground] [Output] (5.3747e-14)\n",
      "Exch Carbon monoxide, fossil (CAS 000630-08-0) [air, urban air close to ground] [Output] (4.5685e-05)\n",
      "Exch Chromium, ion (CAS 016065-83-1) [water, surface water] [Output] (4.2098e-10)\n",
      "Exch Zinc (CAS 007440-66-6) [air, urban air close to ground] [Output] (4.6031e-08)\n",
      "Exch Cobalt (CAS 007440-48-4) [air, urban air close to ground] [Output] (5.6473e-08)\n",
      "Exch Cadmium, ion (CAS 022537-48-0) [water, surface water] [Output] (3.1179e-10)\n",
      "Exch Mercury (CAS 007439-97-6) [water, surface water] [Output] (9.6352e-11)\n",
      "Exch Nitrate (CAS 014797-55-8) [water, surface water] [Output] (8.2308e-05)\n",
      "Exch Phenol, pentachloro- (CAS 000087-86-5) [air, urban air close to ground] [Output] (1.1704e-11)\n",
      "Exch Barium (CAS 007440-39-3) [water, surface water] [Output] (6.6339e-09)\n",
      "Exch Antimony (CAS 007440-36-0) [water, surface water] [Output] (5.4872e-05)\n",
      "Exch Benzo(a)pyrene (CAS 000050-32-8) [air, urban air close to ground] [Output] (5.9807e-13)\n",
      "Exch Sodium, ion (CAS 017341-25-2) [water, ground-, long-term] [Output] (0.0010403)\n",
      "Exch Iron, ion (CAS 015438-31-0) [water, ground-, long-term] [Output] (4.9731e-05)\n",
      "Exch Strontium (CAS 007440-24-6) [water, ground-, long-term] [Output] (8.7127e-05)\n",
      "Exch TOC, Total Organic Carbon [water, surface water] [Output] (0.00028283)\n",
      "Exch Sodium (CAS 017341-25-2) [air, urban air close to ground] [Output] (1.1861e-05)\n",
      "Exch BOD5, Biological Oxygen Demand [water, ground-, long-term] [Output] (0.00136)\n",
      "Exch Toluene (CAS 000108-88-3) [air, urban air close to ground] [Output] (5.3751e-08)\n",
      "Exch Strontium (CAS 007440-24-6) [air, urban air close to ground] [Output] (8.7241e-09)\n",
      "Exch Hydrogen fluoride (CAS 007664-39-3) [air, urban air close to ground] [Output] (7.9808e-08)\n",
      "Exch Nitrate (CAS 014797-55-8) [water, ground-, long-term] [Output] (0.00023223)\n",
      "Exch Barium (CAS 007440-39-3) [air, urban air close to ground] [Output] (1.9346e-07)\n",
      "Exch Chromium VI (CAS 018540-29-9) [water, surface water] [Output] (1.5153e-07)\n",
      "Exch Arsenic, ion (CAS 017428-41-0) [water, ground-, long-term] [Output] (5.6087e-07)\n",
      "Exch Zinc, ion (CAS 023713-49-7) [water, ground-, long-term] [Output] (2.0884e-05)\n",
      "Exch Nickel, ion (CAS 014701-22-5) [water, surface water] [Output] (2.6494e-09)\n",
      "Exch Bromine (CAS 007726-95-6) [air, urban air close to ground] [Output] (3.4468e-08)\n",
      "Exch Zinc, ion (CAS 023713-49-7) [water, surface water] [Output] (6.1961e-09)\n",
      "Exch Iron (CAS 007439-89-6) [air, urban air close to ground] [Output] (1.7667e-10)\n",
      "Exch Cyanide (CAS 000057-12-5) [air, urban air close to ground] [Output] (2.0689e-05)\n",
      "Exch Methane, fossil (CAS 000074-82-8) [air, urban air close to ground] [Output] (4.0313e-07)\n",
      "Exch Fluoride (CAS 016984-48-8) [water, ground-, long-term] [Output] (1.0606e-05)\n",
      "Exch Benzene, hexachloro- (CAS 000118-74-1) [air, urban air close to ground] [Output] (5.6195e-11)\n",
      "Exch Copper, ion (CAS 017493-86-6) [water, ground-, long-term] [Output] (1.0566e-05)\n",
      "Exch Selenium (CAS 007782-49-2) [water, ground-, long-term] [Output] (1.3445e-06)\n",
      "Exch Vanadium, ion (CAS 022541-77-1) [water, surface water] [Output] (2.046e-06)\n",
      "Exch Beryllium (CAS 007440-41-7) [water, surface water] [Output] (3.0871e-10)\n",
      "Exch Lead (CAS 007439-92-1) [water, surface water] [Output] (5.2805e-10)\n",
      "Exch Hydrogen chloride (CAS 007647-01-0) [air, urban air close to ground] [Output] (4.5003e-07)\n",
      "Exch Manganese (CAS 007439-96-5) [water, ground-, long-term] [Output] (1.0947e-05)\n",
      "Exch Iron, ion (CAS 015438-31-0) [water, surface water] [Output] (2.5915e-09)\n",
      "Exch Particulates, < 2.5 um [air, urban air close to ground] [Output] (3.2087e-06)\n",
      "Exch Tin, ion (CAS 022537-50-4) [water, surface water] [Output] (2.6079e-11)\n",
      "Exch Benzene (CAS 000071-43-2) [air, urban air close to ground] [Output] (2.6876e-08)\n",
      "Exch Mercury (CAS 007439-97-6) [water, ground-, long-term] [Output] (5.6506e-09)\n",
      "Exch Water (CAS 007732-18-5) [water, surface water] [Output] (0.00047579)\n",
      "Exch COD, Chemical Oxygen Demand [water, surface water] [Output] (0.00064764)\n",
      "Exch Oxygen [natural resource, in air] [Input] (1.9984)\n",
      "Exch Calcium, ion (CAS 014127-61-8) [water, ground-, long-term] [Output] (0.00022028)\n",
      "Exch BOD5, Biological Oxygen Demand [water, surface water] [Output] (0.00063932)\n",
      "Exch Thallium (CAS 007440-28-0) [water, ground-, long-term] [Output] (2.3009e-07)\n",
      "Exch Nickel, ion (CAS 014701-22-5) [water, ground-, long-term] [Output] (3.7849e-06)\n",
      "Exch Manganese (CAS 007439-96-5) [air, urban air close to ground] [Output] (3.3887e-09)\n",
      "Exch Copper (CAS 007440-50-8) [air, urban air close to ground] [Output] (1.0834e-09)\n",
      "Exch Sulfate (CAS 014808-79-8) [water, ground-, long-term] [Output] (0.00036623)\n",
      "Exch Titanium, ion (CAS 022541-75-9) [water, ground-, long-term] [Output] (0.00029469)\n",
      "Exch Cadmium (CAS 007440-43-9) [air, urban air close to ground] [Output] (1.6581e-09)\n",
      "Exch Copper, ion (CAS 017493-86-6) [water, surface water] [Output] (1.5328e-09)\n",
      "Exch Bromine (CAS 007726-95-6) [water, surface water] [Output] (6.2319e-05)\n",
      "Exch Vanadium, ion (CAS 022541-77-1) [water, ground-, long-term] [Output] (0.00059738)\n",
      "Exch Tin, ion (CAS 022537-50-4) [water, ground-, long-term] [Output] (3.7728e-07)\n",
      "Exch Aluminium (CAS 007429-90-5) [water, surface water] [Output] (2.1336e-08)\n",
      "Exch Antimony (CAS 007440-36-0) [air, urban air close to ground] [Output] (1.2753e-10)\n",
      "Exch COD, Chemical Oxygen Demand [water, ground-, long-term] [Output] (0.0041576)\n",
      "Exch TOC, Total Organic Carbon [water, ground-, long-term] [Output] (0.0016452)\n",
      "Exch Nitrogen oxides (CAS 011104-93-1) [air, urban air close to ground] [Output] (0.00045922)\n",
      "Exch Aluminium (CAS 007429-90-5) [air, urban air close to ground] [Output] (1.6074e-10)\n",
      "Exch Sodium, ion (CAS 017341-25-2) [water, surface water] [Output] (0.00039252)\n",
      "Exch Nickel (CAS 007440-02-0) [air, urban air close to ground] [Output] (4.9534e-09)\n",
      "Exch Cobalt (CAS 007440-48-4) [water, ground-, long-term] [Output] (2.5295e-05)\n",
      "Exch Thallium (CAS 007440-28-0) [air, urban air close to ground] [Output] (3.9431e-10)\n",
      "Exch Antimony (CAS 007440-36-0) [water, ground-, long-term] [Output] (0.00010124)\n",
      "Exch Fluoride (CAS 016984-48-8) [water, surface water] [Output] (9.045e-07)\n",
      "Exch Selenium (CAS 007782-49-2) [water, surface water] [Output] (6.9933e-07)\n",
      "Exch Calcium, ion (CAS 014127-61-8) [water, surface water] [Output] (3.2739e-06)\n",
      "Exch Thallium (CAS 007440-28-0) [water, surface water] [Output] (2.4156e-10)\n",
      "Exch Ammonia (CAS 007664-41-7) [air, urban air close to ground] [Output] (1.4502e-06)\n",
      "Exch Calcium (CAS 007440-70-2) [air, urban air close to ground] [Output] (2.3274e-06)\n",
      "Exch Barium (CAS 007440-39-3) [water, ground-, long-term] [Output] (2.4823e-05)\n",
      "Exch DOC, Dissolved Organic Carbon [water, ground-, long-term] [Output] (0.0016452)\n",
      "Exch Tin (CAS 007440-31-5) [air, urban air close to ground] [Output] (6.4391e-13)\n",
      "Exch Chloride (CAS 016887-00-6) [water, ground-, long-term] [Output] (0.00018274)\n",
      "Exch Manganese (CAS 007439-96-5) [water, surface water] [Output] (2.762e-09)\n",
      "Exch Arsenic, ion (CAS 017428-41-0) [water, surface water] [Output] (1.2974e-06)\n",
      "Exch Titanium, ion (CAS 022541-75-9) [water, surface water] [Output] (3.6754e-07)\n",
      "Exch Chromium VI (CAS 018540-29-9) [water, ground-, long-term] [Output] (4.9735e-07)\n",
      "Exch Water (CAS 007732-18-5) [air, urban air close to ground] [Output] (0.001421)\n",
      "Exch DOC, Dissolved Organic Carbon [water, surface water] [Output] (0.00028283)\n",
      "Exch Sulfur dioxide (CAS 007446-09-5) [air, urban air close to ground] [Output] (1.5725e-06)\n",
      "Exch Titanium (CAS 007440-32-6) [air, urban air close to ground] [Output] (8.1785e-07)\n",
      "Exch Strontium (CAS 007440-24-6) [water, surface water] [Output] (5.493e-08)\n",
      "Exch Chromium (CAS 007440-47-3) [air, urban air close to ground] [Output] (4.7343e-09)\n",
      "Exch Chloride (CAS 016887-00-6) [water, surface water] [Output] (0.00060544)\n",
      "Exch Bromine (CAS 007726-95-6) [water, ground-, long-term] [Output] (6.6509e-06)\n",
      "Exch Mercury (CAS 007439-97-6) [air, urban air close to ground] [Output] (2.5155e-09)\n",
      "Exch Lead (CAS 007439-92-1) [water, ground-, long-term] [Output] (2.669e-06)\n",
      "Exch Heat, waste [water, surface water] [Output] (3.8809)\n",
      "Exch Aluminium (CAS 007429-90-5) [water, ground-, long-term] [Output] (0.00014257)\n",
      "Exch Carbon dioxide, fossil (CAS 000124-38-9) [air, urban air close to ground] [Output] (2.0177)\n",
      "Exch Vanadium (CAS 007440-62-2) [air, urban air close to ground] [Output] (2.7179e-05)\n",
      "Exch Dinitrogen monoxide (CAS 010024-97-2) [air, urban air close to ground] [Output] (9.6301e-05)\n",
      "Exch Benzene, pentachloro- (CAS 000608-93-5) [air, urban air close to ground] [Output] (1.4199e-10)\n",
      "Exch NMVOC, non-methane volatile organic compounds, unspecified origin [air, urban air close to ground] [Output] (1.2231e-06)\n",
      "Exch Sulfate (CAS 014808-79-8) [water, surface water] [Output] (7.5012e-05)\n",
      "Exch Lead (CAS 007439-92-1) [air, urban air close to ground] [Output] (4.5479e-10)\n",
      "Exch Cadmium, ion (CAS 022537-48-0) [water, ground-, long-term] [Output] (2.3738e-07)\n",
      "Exch Arsenic (CAS 007440-38-2) [air, urban air close to ground] [Output] (1.4671e-08)\n",
      "Exch Heat, waste [air, urban air close to ground] [Output] (16.95)\n",
      "Exch Selenium (CAS 007782-49-2) [air, urban air close to ground] [Output] (2.4696e-08)\n",
      "Exch Cobalt (CAS 007440-48-4) [water, surface water] [Output] (5.6259e-09)\n",
      "Adding process entity with 0036e50d-8e5b-438c-b94c-4ee40350362b: electricity production, natural gas, conventional power plant\n",
      "Adding flow entity with 66c93e71-f32b-4591-901c-55395db5c132: electricity, high voltage\n",
      "Identified reference exchange\n",
      " electricity production, natural gas, conventional power plant [CN-HU] has Output: electricity, high voltage [By-product classification: allocatable product] [kWh]\n",
      "Adding flow entity with f89244f2-c60e-455b-ba2a-6ed369955d60: gas power plant, 100MW electrical\n",
      "Adding flow entity with a9007f10-7e39-4d50-8f4a-d6d03ce3d673: natural gas, high pressure\n",
      "Adding flow entity with cbe9c9dc-9b5e-40c0-a513-2db2d42e1b1f: residue from cooling tower\n",
      "Adding flow entity with cfc90fee-20f0-451a-8e50-a5bd859d3feb: water, completely softened, from decarbonised water, at user\n",
      "Adding flow entity with 5d4b497b-d265-42d1-a41a-113785a6d694: Beryllium\n",
      "Adding flow entity with afd6d670-bbb0-4625-9730-04088a5b035e: Dinitrogen monoxide\n",
      "Adding flow entity with e8fc62ba-678e-4706-97d2-b79d83e227d5: Nickel\n",
      "Adding flow entity with e6551223-73b6-4289-b841-c5cdeb25abd9: Selenium\n",
      "Adding flow entity with 77f17646-cede-4a49-99dd-55950098b077: Toluene\n",
      "Adding flow entity with e2d58f90-9aac-4ac4-87f7-bbd6cfc358e3: Cadmium\n",
      "Adding flow entity with fa5512cf-04a2-4014-8e96-d3e2d137f0df: Butane\n",
      "Adding flow entity with 9167dca7-615e-435c-8ba6-dbbf50e50e34: Formaldehyde\n",
      "Adding flow entity with c5cc0625-6e01-4639-b053-5d1d9d22a53c: Acetic acid\n",
      "Adding flow entity with 9beb60a3-3a8c-4345-9a0e-107eec2f709f: Propane\n",
      "Adding flow entity with 2460f868-54a9-404c-bec8-c809a44ae72c: Manganese\n",
      "Adding flow entity with 81c4ba39-8a3f-4a43-97b4-401605bbebf5: Benzo(a)pyrene\n",
      "Adding flow entity with e7e0031e-791d-42f4-b26c-ec322db637bc: Ethane\n",
      "Adding flow entity with 41067ac7-bf36-47ef-a19f-683d9b758a28: Hexane\n",
      "Adding flow entity with fc9f9a81-c4b9-4dce-bc20-9f04e05ca2f1: Acetaldehyde\n",
      "Adding flow entity with 78c3efe4-421c-4d30-82e4-b97ac5124993: Sulfur dioxide\n",
      "Adding flow entity with 0f907765-2a94-48a8-8978-55a2757d3e24: Propionic acid\n",
      "Adding flow entity with f77c5e36-ee47-4437-b757-03139bb1d6d6: Dioxins, measured as 2,3,7,8-tetrachlorodibenzo-p-dioxin\n",
      "Adding flow entity with b10faa87-2c1d-4f6e-aa65-9f80b376939a: Cobalt\n",
      "Adding flow entity with 5e883a00-04e6-4d96-8dce-12d7117c6635: Benzene\n",
      "Adding flow entity with 2f052025-4072-4d8e-b22d-68d50bfb260c: Pentane\n",
      "Adding flow entity with 70ef743b-3ed5-4a6d-b192-fb6d62378555: Methane, fossil\n",
      "Adding flow entity with 77357947-ccc5-438e-9996-95e65e1e1bce: Nitrogen oxides\n",
      "Adding flow entity with 7348af7c-e102-4a03-a0df-efce16469eed: Arsenic\n",
      "Adding flow entity with 4d40d8e3-9bc7-4ab1-ac5c-4f4a76fda8e5: Chromium\n",
      "Adding flow entity with 922a7ccf-3338-43ad-bd7e-77d51df051ab: Acenaphthene\n",
      "Adding flow entity with 099b36ab-4c03-4587-87f4-2f81e337afb8: Carbon monoxide, fossil\n",
      "Adding flow entity with aa7cac3a-3625-41d4-bc54-33e2cf11ec46: Carbon dioxide, fossil\n",
      "Adding flow entity with 2718482b-8399-442e-b89a-52fbcc22d2e6: Lead\n",
      "Adding flow entity with 13d898ac-b9be-4723-a153-565e2a9144ac: PAH, polycyclic aromatic hydrocarbons\n",
      "Adding flow entity with 5ec9c16a-959d-44cd-be7d-a935727d2151: Mercury\n",
      "Adding flow entity with 66f50b33-fd62-4fdd-a373-c5b0de7de00d: Particulates, < 2.5 um\n",
      "Exch gas power plant, 100MW electrical [By-product classification: allocatable product] [Input] (5.88706e-10)\n",
      "Exch natural gas, high pressure [By-product classification: allocatable product] [Input] (0.271493)\n",
      "Exch electricity, high voltage [By-product classification: allocatable product] [Output] (1)\n",
      "Exch residue from cooling tower [By-product classification: Waste] [Output] (1.05882e-05)\n",
      "Exch water, decarbonised, at user [By-product classification: allocatable product] [Input] (2.11765)\n",
      "Exch water, completely softened, from decarbonised water, at user [By-product classification: allocatable product] [Input] (0.0635294)\n",
      "Exch Water (CAS 007732-18-5) [water, unspecified] [Output] (0.063701)\n",
      "Exch Water (CAS 007732-18-5) [air, unspecified] [Output] (0.00103904)\n",
      "Exch Beryllium (CAS 007440-41-7) [air, non-urban air or from high stacks] [Output] (2.61529e-11)\n",
      "Exch Dinitrogen monoxide (CAS 010024-97-2) [air, non-urban air or from high stacks] [Output] (1.03447e-05)\n",
      "Exch Nickel (CAS 007440-02-0) [air, non-urban air or from high stacks] [Output] (4.56353e-09)\n",
      "Exch Selenium (CAS 007782-49-2) [air, non-urban air or from high stacks] [Output] (5.19882e-11)\n",
      "Exch Toluene (CAS 000108-88-3) [air, non-urban air or from high stacks] [Output] (1.58824e-08)\n",
      "Exch Cadmium (CAS 007440-43-9) [air, non-urban air or from high stacks] [Output] (2.39294e-09)\n",
      "Exch Butane (CAS 000106-97-8) [air, non-urban air or from high stacks] [Output] (9.80471e-06)\n",
      "Exch Formaldehyde (CAS 000050-00-0) [air, non-urban air or from high stacks] [Output] (3.42e-07)\n",
      "Exch Acetic acid (CAS 000064-19-7) [air, non-urban air or from high stacks] [Output] (1.28118e-06)\n",
      "Exch Propane (CAS 000074-98-6) [air, non-urban air or from high stacks] [Output] (7.46471e-06)\n",
      "Exch Manganese (CAS 007439-96-5) [air, non-urban air or from high stacks] [Output] (8.26941e-10)\n",
      "Exch Benzo(a)pyrene (CAS 000050-32-8) [air, non-urban air or from high stacks] [Output] (5.60118e-12)\n",
      "Exch Ethane (CAS 000074-84-0) [air, non-urban air or from high stacks] [Output] (1.45059e-05)\n",
      "Exch Hexane (CAS 000110-54-3) [air, non-urban air or from high stacks] [Output] (8.39647e-06)\n",
      "Exch Acetaldehyde (CAS 000075-07-0) [air, non-urban air or from high stacks] [Output] (8.47059e-09)\n",
      "Exch Sulfur dioxide (CAS 007446-09-5) [air, non-urban air or from high stacks] [Output] (6.05647e-06)\n",
      "Exch Propionic acid (CAS 000079-09-4) [air, non-urban air or from high stacks] [Output] (1.69412e-07)\n",
      "Exch Dioxins, measured as 2,3,7,8-tetrachlorodibenzo-p-dioxin (CAS 001746-01-6) [air, non-urban air or from high stacks] [Output] (3.07059e-16)\n",
      "Exch Cobalt (CAS 007440-48-4) [air, non-urban air or from high stacks] [Output] (1.82118e-10)\n",
      "Exch Benzene (CAS 000071-43-2) [air, non-urban air or from high stacks] [Output] (9.55059e-09)\n",
      "Exch Pentane (CAS 000109-66-0) [air, non-urban air or from high stacks] [Output] (1.21765e-05)\n",
      "Exch Methane, fossil (CAS 000074-82-8) [air, non-urban air or from high stacks] [Output] (1.02812e-05)\n",
      "Exch Nitrogen oxides (CAS 011104-93-1) [air, non-urban air or from high stacks] [Output] (0.000388588)\n",
      "Exch Water, cooling, unspecified natural origin (CAS 007732-18-5) [natural resource, in water] [Input] (0.0625588)\n",
      "Exch Arsenic (CAS 007440-38-2) [air, non-urban air or from high stacks] [Output] (4.35176e-10)\n",
      "Exch Chromium (CAS 007440-47-3) [air, non-urban air or from high stacks] [Output] (3.03882e-09)\n",
      "Exch Acenaphthene (CAS 000083-32-9) [air, non-urban air or from high stacks] [Output] (8.39647e-12)\n",
      "Exch Carbon monoxide, fossil (CAS 000630-08-0) [air, non-urban air or from high stacks] [Output] (0.000211765)\n",
      "Exch Carbon dioxide, fossil (CAS 000124-38-9) [air, non-urban air or from high stacks] [Output] (0.565412)\n",
      "Exch Lead (CAS 007439-92-1) [air, non-urban air or from high stacks] [Output] (1.09059e-09)\n",
      "Exch PAH, polycyclic aromatic hydrocarbons (CAS 130498-29-2) [air, non-urban air or from high stacks] [Output] (8.47059e-08)\n",
      "Exch Mercury (CAS 007439-97-6) [air, non-urban air or from high stacks] [Output] (7.28471e-10)\n",
      "Exch Particulates, < 2.5 um [air, non-urban air or from high stacks] [Output] (5.19882e-06)\n",
      "Adding process entity with 003ad59e-1069-4a8f-ada1-6785cf19e74b: market for wastewater from medium density board production\n",
      "Adding flow entity with 77c1da70-f6b7-47eb-a986-4d70a4bf31a1: wastewater from medium density board production\n",
      "Identified reference exchange\n",
      " market for wastewater from medium density board production [GLO] has Output: wastewater from medium density board production [By-product classification: Waste] [m3]\n",
      "Exch wastewater from medium density board production [By-product classification: Waste] [Output] (-1)\n",
      "Adding process entity with 003b13f0-18f4-467d-91a6-4201072dadaa: market for electricity, medium voltage\n",
      "Identified reference exchange\n",
      " market for electricity, medium voltage [CA-YK] has Output: electricity, medium voltage [By-product classification: allocatable product] [kWh]\n",
      "Adding flow entity with ab5dcfa8-e8f9-4923-84d4-51b25a898fa1: sulfur hexafluoride, liquid\n",
      "Adding quantity entity with ae252091-811b-461b-8e89-8f3075639eb1: EcoSpold Quantity km\n",
      "Adding flow entity with 46712f19-9f47-43d7-a13d-5fac729070ba: transmission network, electricity, medium voltage\n",
      "Adding flow entity with 35d1dff5-b535-4628-9826-4a8fce08a1f2: Sulfur hexafluoride\n",
      "Exch sulfur hexafluoride, liquid (CAS 002551-62-4) [By-product classification: allocatable product] [Input] (1.29e-07)\n",
      "Exch transmission network, electricity, medium voltage [By-product classification: allocatable product] [Input] (1.86278e-08)\n",
      "Exch electricity, medium voltage [By-product classification: allocatable product] [Input] (0.0042)\n",
      "Exch electricity, medium voltage [By-product classification: allocatable product] [Output] (1)\n",
      "Exch Sulfur hexafluoride (CAS 002551-62-4) [air, unspecified] [Output] (1.29e-07)\n",
      "Adding process entity with 003e869a-f532-46cc-b8d4-641988008e6d: lath, hardwood, raw, air drying to u=20%\n",
      "Adding flow entity with 45c9c99d-a8e1-43f7-afab-7610034ad887: sawnwood, lath, hardwood, raw, dried (u=20%)\n",
      "Identified reference exchange\n",
      " lath, hardwood, raw, air drying to u=20% [CA-QC] has Output: sawnwood, lath, hardwood, raw, dried (u=20%) [By-product classification: allocatable product] [m3]\n",
      "Adding flow entity with 4ebb2775-2992-43f5-8cc3-053982b40822: sawnwood, hardwood, raw\n",
      "Adding flow entity with 4624deff-2016-41d4-b2bf-3db8dab88779: Transformation, to industrial area\n",
      "Adding flow entity with 29630a65-f38c-48a5-9744-c0121f586640: Transformation, from unspecified\n",
      "Adding flow entity with fe9c3a98-a6d2-452d-a9a4-a13e64f1b95b: Occupation, industrial area\n",
      "Exch sawnwood, hardwood, raw [By-product classification: allocatable product] [Input] (1.04167)\n",
      "Exch sawnwood, lath, hardwood, raw, dried (u=20%) [By-product classification: allocatable product] [Output] (1)\n",
      "Exch Transformation, to industrial area [natural resource, land] [Input] (0.00392)\n",
      "Exch Transformation, from unspecified [natural resource, land] [Input] (0.00392)\n",
      "Exch Occupation, industrial area [natural resource, land] [Input] (0.00392)\n",
      "Exch Water (CAS 007732-18-5) [air, unspecified] [Output] (0.292907)\n",
      "Adding process entity with 003f9a31-c540-4351-a434-3b1b1c791b99: electricity production, hard coal\n",
      "Identified reference exchange\n",
      " electricity production, hard coal [NL] has Output: electricity, high voltage [By-product classification: allocatable product] [kWh]\n",
      "Adding flow entity with c9641dad-17a0-4d81-a9ee-85890945c39d: NOx retained, by selective catalytic reduction\n",
      "Adding flow entity with b89dadb0-75e9-44fd-8d41-1ec8dcce23b6: light fuel oil\n",
      "Adding flow entity with 59bd8156-c8de-4992-909e-c0ff39d0329a: hard coal power plant\n",
      "Adding flow entity with 0992e479-07eb-4837-8aa3-d4411f675dad: chlorine, gaseous\n",
      "Adding flow entity with 76ab0018-e176-43e0-b42c-12e82b937fef: hard coal ash\n",
      "Adding flow entity with 0d3eda5a-4601-4573-9549-0701c459ab88: hard coal\n",
      "Adding flow entity with 6ada853f-7787-4880-b159-826651fadee5: SOx retained, in hard coal flue gas desulfurisation\n",
      "Adding flow entity with 91667712-8403-49bd-95be-c929b47067c2: transport, freight, sea, transoceanic ship\n",
      "Adding quantity entity with 4923348e-591b-4772-b224-d19df86f04c9: EcoSpold Quantity kBq\n",
      "Adding flow entity with 8e2a5517-13ff-4423-b1ec-3632b0a72bf5: Thorium-234\n",
      "Adding flow entity with a1d277aa-7aea-4b5e-8aa9-2789ba8ff333: Xylene\n",
      "Adding flow entity with 4eb24f81-0468-4b92-bae3-8b12dfc90438: Thorium-230\n",
      "Adding flow entity with 33b38ccb-593b-4b11-b965-10d747ba3556: NMVOC, non-methane volatile organic compounds, unspecified origin\n",
      "Adding flow entity with 1471acca-34ab-4e04-9bd6-e3825b20580f: Iodine\n",
      "Adding flow entity with 9e8d685c-9948-4dc0-9c0b-d5c511e14d05: Cyanide\n",
      "Adding flow entity with 295c9740-6fdb-4676-9eb8-15e3786f713d: Particulates, > 2.5 um, and < 10um\n",
      "Adding flow entity with 0437e787-ef47-4a50-b11f-df7c743e860c: Magnesium\n",
      "Adding flow entity with ba1a3dcb-d53a-42fd-80f0-d09f3a12ffe2: Aldehydes, unspecified\n",
      "Adding flow entity with 99585564-bfce-4845-9aaa-2f24b8f26a41: Ethane, 1,1,1-trichloro-, HCFC-140\n",
      "Adding flow entity with e336eee7-148a-4d1c-8027-780cbfafa12b: Copper\n",
      "Adding flow entity with 006aa3f7-59ba-450f-aa45-a2b2d1752647: Sulfate\n",
      "Adding flow entity with 02703daf-fde4-489a-b7e5-523e46151312: Actinides, radioactive, unspecified\n",
      "Adding flow entity with 17a98e7f-a8fd-431d-9bb6-6c4bf3fc5517: Hydrocarbons, aliphatic, alkanes, unspecified\n",
      "Adding flow entity with 754028fd-e650-4804-922e-694a764ba578: Ethene, tetrachloro-\n",
      "Adding flow entity with ac98d2a4-4985-49f9-b4e2-fc896ef145b6: Uranium-234\n",
      "Adding flow entity with ada3ecfe-8244-4389-bcce-e83ca4f66e09: Zinc\n",
      "Adding flow entity with 7678cec7-b8e1-439d-8242-99cd452834b1: Particulates, > 10 um\n",
      "Adding flow entity with d1679eda-eac2-4be4-876f-3be480c53dc4: Radium-226\n",
      "Adding flow entity with 43b29ad9-26dd-4838-b931-6216e55a0120: Antimony\n",
      "Adding flow entity with 68e32537-beae-41c2-be72-74df4d273c11: Hydrogen chloride\n",
      "Adding flow entity with 1a796dc4-5dcb-40da-a609-3a5a40655fad: Cumene\n",
      "Adding flow entity with 142ce3b0-4bd6-47a3-9991-7c657c947ffe: Furan\n",
      "Adding flow entity with 793f8194-88c0-4315-b59e-58de48ba6ce4: Radium-228\n",
      "Adding flow entity with e0e605c8-370b-4b5a-b6d4-2e7a5a1a6709: Benzene, ethyl-\n",
      "Adding flow entity with 63974d2c-11f3-45eb-be9c-726261b04d85: Phenol\n",
      "Adding flow entity with 7069a2cd-257a-4a29-b10f-1e21ed853709: Potassium-40\n",
      "Adding flow entity with fb13070e-06f1-4964-832f-a23945b880cc: Protactinium-234\n",
      "Adding flow entity with 1551f1cd-7cb7-4f68-a628-cb9301323c7b: Radon-222\n",
      "Adding flow entity with 2d456fb8-592b-46a7-97f0-81fc2a18e587: Styrene\n",
      "Adding flow entity with e70d3563-78c4-42cf-8cf3-5ac42c499589: Radon-220\n",
      "Adding flow entity with 89324b2f-1e73-4eb1-9716-96b9be0349ac: Ethane, 1,2-dichloro-\n",
      "Adding flow entity with 12840cef-c3b8-4ef2-b7d4-3a73dbd6a280: Acrolein\n",
      "Adding flow entity with fa9b9736-6de8-4bd6-ba22-1bd78c798373: Chloroform\n",
      "Adding flow entity with 24cf82f8-c517-4fef-8f93-17519adb855e: Barium\n",
      "Adding flow entity with 8b7dc667-f04e-492c-a161-80b1482126b0: Hydrogen fluoride\n",
      "Adding flow entity with 03b279a7-4626-4703-a451-d0650599dbd9: Chromium VI\n",
      "Adding flow entity with d4b61c6c-a620-4a91-afc6-ca87ef97b55a: Methane, dichloro-, HCC-30\n",
      "Adding flow entity with 15f9ebbb-b1b5-4bf7-88c6-d99424f5eced: Carbon disulfide\n",
      "Adding flow entity with d32f9dd8-9514-4c22-8c99-2e108609731f: Bromine\n",
      "Adding flow entity with 890c2697-3463-4466-bebb-aecc1e1e730b: Strontium\n",
      "Adding flow entity with d6626dfb-3ac8-4169-9e75-54c41ef2a582: Hydrocarbons, chlorinated\n",
      "Adding flow entity with 2d50f4c8-a917-4496-a7d9-470b080faf68: Hydrocarbons, aliphatic, unsaturated\n",
      "Adding flow entity with ed63abd0-7cc6-4825-8759-b367e560fe95: Methane, monochloro-, R-40\n",
      "Adding flow entity with 512364ac-5bba-4b77-8712-981247617519: Boron\n",
      "Adding flow entity with bae57811-0343-41be-97cf-2c74279dd638: Thorium-228\n",
      "Adding flow entity with 23856318-9583-426b-ab04-12e4506b60a8: Propene\n",
      "Adding flow entity with 44dd80c7-9960-4881-8431-939509b81f53: Polonium-210\n",
      "Adding flow entity with e6aafd63-a6d5-41f7-9b82-45f791c7037c: Uranium-238\n",
      "Adding flow entity with e8783a01-d3f5-4c08-b7b0-12af0f33c20d: Lead-210\n",
      "Adding flow entity with 5f4baaf6-055e-491e-9852-258897ab5194: Hydrocarbons, aliphatic, alkanes, cyclic\n",
      "Adding flow entity with 4c54be62-05f1-4201-940d-f161537be704: Thorium-232\n",
      "Adding flow entity with 481c0dd4-3ab2-47b5-94c4-b990e8a9dde5: Vanadium\n",
      "Adding flow entity with 5fa36ce3-aed0-443b-a09d-4cdf25b41995: Molybdenum\n",
      "Exch electricity, high voltage [By-product classification: allocatable product] [Output] (1)\n",
      "Exch NOx retained, by selective catalytic reduction [By-product classification: allocatable product] [Input] (0.00191335)\n",
      "Exch water, decarbonised, at user [By-product classification: allocatable product] [Input] (1.3602)\n",
      "Exch light fuel oil [By-product classification: allocatable product] [Input] (0.000154156)\n",
      "Exch hard coal power plant [By-product classification: allocatable product] [Input] (1.17884e-11)\n",
      "Exch chlorine, gaseous (CAS 7782-50-5) [By-product classification: allocatable product] [Input] (9.06801e-05)\n",
      "Exch residue from cooling tower [By-product classification: Waste] [Output] (4.53401e-05)\n",
      "Exch hard coal ash [By-product classification: Waste] [Output] (0.00213098)\n",
      "Exch hard coal [By-product classification: allocatable product] [Input] (0.391738)\n",
      "Exch SOx retained, in hard coal flue gas desulfurisation [By-product classification: allocatable product] [Input] (0.00463375)\n",
      "Exch water, completely softened, from decarbonised water, at user [By-product classification: allocatable product] [Input] (0.0544081)\n",
      "Exch Xylene (CAS 001330-20-7) [air, non-urban air or from high stacks] [Output] (8.36071e-06)\n",
      "Exch Benzo(a)pyrene (CAS 000050-32-8) [air, non-urban air or from high stacks] [Output] (1.8136e-12)\n",
      "Exch Manganese (CAS 007439-96-5) [air, non-urban air or from high stacks] [Output] (4.06247e-09)\n",
      "Exch Dinitrogen monoxide (CAS 010024-97-2) [air, non-urban air or from high stacks] [Output] (2.90176e-05)\n",
      "Exch Iodine (CAS 007553-56-2) [air, non-urban air or from high stacks] [Output] (2.6932e-07)\n",
      "Exch Particulates, > 2.5 um, and < 10um [air, non-urban air or from high stacks] [Output] (1.94055e-06)\n",
      "Exch Copper (CAS 007440-50-8) [air, non-urban air or from high stacks] [Output] (3.55466e-09)\n",
      "Exch Benzene (CAS 000071-43-2) [air, non-urban air or from high stacks] [Output] (1.96776e-06)\n",
      "Exch Dioxins, measured as 2,3,7,8-tetrachlorodibenzo-p-dioxin (CAS 001746-01-6) [air, non-urban air or from high stacks] [Output] (6.34761e-14)\n",
      "Exch Cobalt (CAS 007440-48-4) [air, non-urban air or from high stacks] [Output] (6.75567e-10)\n",
      "Exch Hydrocarbons, aliphatic, alkanes, unspecified [air, non-urban air or from high stacks] [Output] (1.98589e-06)\n",
      "Exch Methane, fossil (CAS 000074-82-8) [air, non-urban air or from high stacks] [Output] (9.06801e-06)\n",
      "Exch Arsenic (CAS 007440-38-2) [air, non-urban air or from high stacks] [Output] (4.72443e-09)\n",
      "Exch Chromium (CAS 007440-47-3) [air, non-urban air or from high stacks] [Output] (2.62972e-09)\n",
      "Exch Zinc (CAS 007440-66-6) [air, non-urban air or from high stacks] [Output] (8.71436e-09)\n",
      "Exch Particulates, > 10 um [air, non-urban air or from high stacks] [Output] (4.63375e-05)\n",
      "Exch Propane (CAS 000074-98-6) [air, non-urban air or from high stacks] [Output] (3.1738e-07)\n",
      "Exch Water, cooling, unspecified natural origin (CAS 007732-18-5) [natural resource, in water] [Input] (0.0481559)\n",
      "Exch Nitrogen oxides (CAS 011104-93-1) [air, non-urban air or from high stacks] [Output] (0.000712746)\n",
      "Exch Radium-226 [air, non-urban air or from high stacks] [Output] (1.57783e-06)\n",
      "Exch Lead (CAS 007439-92-1) [air, non-urban air or from high stacks] [Output] (7.10932e-09)\n",
      "Exch Antimony (CAS 007440-36-0) [air, non-urban air or from high stacks] [Output] (1.51436e-10)\n",
      "Exch PAH, polycyclic aromatic hydrocarbons (CAS 130498-29-2) [air, non-urban air or from high stacks] [Output] (9.06801e-09)\n",
      "Exch Hydrogen chloride (CAS 007647-01-0) [air, non-urban air or from high stacks] [Output] (9.61209e-06)\n",
      "Exch Mercury (CAS 007439-97-6) [air, non-urban air or from high stacks] [Output] (1.66851e-08)\n",
      "Exch Water (CAS 007732-18-5) [water, unspecified] [Output] (0.0483191)\n",
      "Exch Selenium (CAS 007782-49-2) [air, non-urban air or from high stacks] [Output] (6.22065e-08)\n",
      "Exch Nickel (CAS 007440-02-0) [air, non-urban air or from high stacks] [Output] (6.51083e-09)\n",
      "Exch Radium-228 [air, non-urban air or from high stacks] [Output] (8.51486e-07)\n",
      "Exch Carbon dioxide, fossil (CAS 000124-38-9) [air, non-urban air or from high stacks] [Output] (0.843325)\n",
      "Exch Potassium-40 [air, non-urban air or from high stacks] [Output] (9.34005e-06)\n",
      "Exch Water (CAS 007732-18-5) [air, unspecified] [Output] (0.00125138)\n",
      "Exch Carbon monoxide, fossil (CAS 000630-08-0) [air, non-urban air or from high stacks] [Output] (7.25441e-05)\n",
      "Exch Radon-222 [air, non-urban air or from high stacks] [Output] (0.00439798)\n",
      "Exch Radon-220 [air, non-urban air or from high stacks] [Output] (0.00247557)\n",
      "Exch Particulates, < 2.5 um [air, non-urban air or from high stacks] [Output] (1.65038e-05)\n",
      "Exch Barium (CAS 007440-39-3) [air, non-urban air or from high stacks] [Output] (2.81108e-08)\n",
      "Exch Hydrogen fluoride (CAS 007664-39-3) [air, non-urban air or from high stacks] [Output] (1.02469e-05)\n",
      "Exch Chromium VI (CAS 018540-29-9) [air, non-urban air or from high stacks] [Output] (3.25542e-10)\n",
      "Exch Formaldehyde (CAS 000050-00-0) [air, non-urban air or from high stacks] [Output] (5.25945e-07)\n",
      "Exch Cadmium (CAS 007440-43-9) [air, non-urban air or from high stacks] [Output] (1.74106e-10)\n",
      "Exch Bromine (CAS 007726-95-6) [air, non-urban air or from high stacks] [Output] (4.76977e-07)\n",
      "Exch Strontium (CAS 007440-24-6) [air, non-urban air or from high stacks] [Output] (3.91738e-09)\n",
      "Exch Hydrocarbons, aliphatic, unsaturated [air, non-urban air or from high stacks] [Output] (1.95869e-06)\n",
      "Exch Pentane (CAS 000109-66-0) [air, non-urban air or from high stacks] [Output] (1.333e-06)\n",
      "Exch Boron (CAS 007440-42-8) [air, non-urban air or from high stacks] [Output] (1.70479e-06)\n",
      "Exch Thorium-228 [air, non-urban air or from high stacks] [Output] (4.58841e-07)\n",
      "Exch Propene (CAS 000115-07-1) [air, non-urban air or from high stacks] [Output] (1.45088e-07)\n",
      "Exch Polonium-210 [air, non-urban air or from high stacks] [Output] (1.12443e-05)\n",
      "Exch Uranium-238 [air, non-urban air or from high stacks] [Output] (1.31486e-06)\n",
      "Exch Lead-210 [air, non-urban air or from high stacks] [Output] (6.12997e-06)\n",
      "Exch Toluene (CAS 000108-88-3) [air, non-urban air or from high stacks] [Output] (9.88413e-07)\n",
      "Exch Butane (CAS 000106-97-8) [air, non-urban air or from high stacks] [Output] (1.72292e-07)\n",
      "Exch Sulfur dioxide (CAS 007446-09-5) [air, non-urban air or from high stacks] [Output] (0.000550428)\n",
      "Exch Thorium-232 [air, non-urban air or from high stacks] [Output] (7.20907e-07)\n",
      "Exch Vanadium (CAS 007440-62-2) [air, non-urban air or from high stacks] [Output] (1.74106e-09)\n",
      "Exch Molybdenum (CAS 007439-98-7) [air, non-urban air or from high stacks] [Output] (5.12343e-10)\n",
      "Exch Ethane (CAS 000074-84-0) [air, non-urban air or from high stacks] [Output] (3.71788e-07)\n",
      "Adding process entity with 00420798-e9d1-4de9-8745-09bd85f31db8: treatment of blast furnace gas, in power plant\n",
      "Adding flow entity with b254bbdf-fb2b-4878-aec9-2a7820f3f32e: blast furnace gas\n",
      "Identified reference exchange\n",
      " treatment of blast furnace gas, in power plant [BR] has Output: blast furnace gas [By-product classification: Recyclable] [MJ]\n",
      "Adding flow entity with 71e2f1db-a2c5-44d0-8337-dfff15be974d: heat, district or industrial, other than natural gas\n",
      "Adding flow entity with f1c0cd31-8d5e-4bc9-91f6-79e76329234e: Propionic acid\n",
      "Adding flow entity with 892f10da-7bf2-42b3-b171-221989661a05: Butane\n",
      "Adding flow entity with 20664d0e-24e3-4daa-8c5c-2ade6e0c2723: Formaldehyde\n",
      "Adding flow entity with b9b68c0c-053e-41de-ab72-8dfe1c3f5755: Acetic acid\n",
      "Adding flow entity with 5ad58fcc-e9ba-4155-a3c9-e4ffb3065a6f: Acetaldehyde\n",
      "Adding flow entity with 9ea11aea-7cb7-4b38-b936-a42c2a4bac97: Ethane\n",
      "Adding flow entity with 3bbc78d0-08c4-48ef-a863-704e32fddcb3: Hexane\n",
      "Adding flow entity with 99c07b66-c039-4896-866d-06abdaa9d46a: Acenaphthene\n",
      "Adding flow entity with 98c66fdb-091d-46e9-a533-686f821e8f6a: Propane\n",
      "Adding flow entity with 9d1efa17-070a-4602-a65f-daf5056b0647: PAH, polycyclic aromatic hydrocarbons\n",
      "Exch blast furnace gas [By-product classification: Recyclable] [Output] (-1)\n",
      "Exch electricity, high voltage [By-product classification: allocatable product] [Output] (0.0986111)\n",
      "Exch heat, district or industrial, other than natural gas [By-product classification: allocatable product] [Output] (0.145)\n",
      "Exch gas power plant, 100MW electrical [By-product classification: allocatable product] [Input] (6.56048e-12)\n",
      "Exch Water (CAS 007732-18-5) [water, unspecified] [Output] (0.00558052)\n",
      "Exch Propionic acid (CAS 000079-09-4) [air, urban air close to ground] [Output] (1.54592e-08)\n",
      "Exch Butane (CAS 000106-97-8) [air, urban air close to ground] [Output] (8.94699e-07)\n",
      "Exch Formaldehyde (CAS 000050-00-0) [air, urban air close to ground] [Output] (3.19811e-08)\n",
      "Exch Water (CAS 007732-18-5) [air, unspecified] [Output] (9.02664e-05)\n",
      "Exch Toluene (CAS 000108-88-3) [air, urban air close to ground] [Output] (1.4493e-09)\n",
      "Exch Acetic acid (CAS 000064-19-7) [air, urban air close to ground] [Output] (1.1691e-07)\n",
      "Exch Pentane (CAS 000109-66-0) [air, urban air close to ground] [Output] (1.11113e-06)\n",
      "Exch Benzo(a)pyrene (CAS 000050-32-8) [air, urban air close to ground] [Output] (5.11118e-13)\n",
      "Exch Sulfur dioxide (CAS 007446-09-5) [air, urban air close to ground] [Output] (1.93239e-05)\n",
      "Exch Carbon monoxide, fossil (CAS 000630-08-0) [air, urban air close to ground] [Output] (1.4493e-05)\n",
      "Exch Acetaldehyde (CAS 000075-07-0) [air, urban air close to ground] [Output] (7.72958e-10)\n",
      "Exch Ethane (CAS 000074-84-0) [air, urban air close to ground] [Output] (1.32369e-06)\n",
      "Exch Hexane (CAS 000110-54-3) [air, urban air close to ground] [Output] (7.66194e-07)\n",
      "Exch Benzene (CAS 000071-43-2) [air, urban air close to ground] [Output] (8.94699e-10)\n",
      "Exch Dinitrogen monoxide (CAS 010024-97-2) [air, urban air close to ground] [Output] (9.66197e-07)\n",
      "Exch Acenaphthene (CAS 000083-32-9) [air, urban air close to ground] [Output] (7.66194e-13)\n",
      "Exch Propane (CAS 000074-98-6) [air, urban air close to ground] [Output] (6.81169e-07)\n",
      "Exch Water, cooling, unspecified natural origin (CAS 007732-18-5) [natural resource, in water] [Input] (0.00567079)\n",
      "Exch Nitrogen oxides (CAS 011104-93-1) [air, urban air close to ground] [Output] (6.76338e-05)\n",
      "Exch PAH, polycyclic aromatic hydrocarbons (CAS 130498-29-2) [air, urban air close to ground] [Output] (7.72958e-09)\n",
      "Exch Particulates, < 2.5 um [air, urban air close to ground] [Output] (9.66197e-07)\n",
      "Exch Methane, fossil (CAS 000074-82-8) [air, urban air close to ground] [Output] (9.33537e-07)\n",
      "Exch Carbon dioxide, fossil (CAS 000124-38-9) [air, urban air close to ground] [Output] (0.193239)\n",
      "Adding process entity with 00463986-6243-48f9-9af3-c2b98d95a832: heat and power co-generation, biogas, gas engine\n",
      "Adding flow entity with 18e1cfa1-498b-4d93-bace-44cd2ae12596: biogas\n",
      "Identified reference exchange\n",
      " heat and power co-generation, biogas, gas engine [RFC] has Output: biogas [By-product classification: allocatable product] [m3]\n",
      "Adding flow entity with dd80f0f2-f4d5-40f0-9035-09c1a7f3f07b: heat, central or small-scale, other than natural gas\n",
      "Adding flow entity with 1b30b018-ac39-41f4-a9e0-92057eef8bb8: waste mineral oil\n",
      "Adding flow entity with ea75b944-c676-4a13-85b8-2bea98f765a4: lubricating oil\n",
      "Adding flow entity with c5d96d5d-ba53-42b6-9dc5-7a21d1608af7: heat and power co-generation unit, 160kW electrical, components for electricity only\n",
      "Adding flow entity with 6b10e00e-917b-4db0-b05f-c8601965c50a: heat and power co-generation unit, 160kW electrical, components for heat only\n",
      "Adding flow entity with 4d5465b8-4e4a-4920-8200-9d79044d2d4a: heat and power co-generation unit, 160kW electrical, common components for heat+electricity\n",
      "Adding flow entity with 57bdb443-d4a6-423d-8024-959b8261d02e: Methane, non-fossil\n",
      "Adding flow entity with d6235194-e4e6-4548-bfa3-ac095131aef4: Carbon dioxide, non-fossil\n",
      "Adding flow entity with d4238781-b3da-4efc-b20f-a5ec1d9d85b6: Platinum\n",
      "Adding flow entity with b821ad93-ba6a-4d74-b6ae-ca12cd9563d7: Carbon monoxide, non-fossil\n",
      "Exch heat, central or small-scale, other than natural gas [By-product classification: allocatable product] [Output] (12.5027)\n",
      "Exch electricity, high voltage [By-product classification: allocatable product] [Output] (2.02065)\n",
      "Exch waste mineral oil [By-product classification: Waste] [Output] (0.000681968)\n",
      "Exch biogas [By-product classification: allocatable product] [Output] (-1)\n",
      "Exch lubricating oil [By-product classification: allocatable product] [Input] (0.000681968)\n",
      "Exch heat and power co-generation unit, 160kW electrical, components for electricity only [By-product classification: allocatable product] [Input] (1.13662e-07)\n",
      "Exch heat and power co-generation unit, 160kW electrical, components for heat only [By-product classification: allocatable product] [Input] (1.13662e-07)\n",
      "Exch heat and power co-generation unit, 160kW electrical, common components for heat+electricity [By-product classification: allocatable product] [Input] (1.13662e-07)\n",
      "Exch Methane, non-fossil (CAS 000074-82-8) [air, non-urban air or from high stacks] [Output] (0.000522846)\n",
      "Exch Carbon dioxide, non-fossil (CAS 000124-38-9) [air, non-urban air or from high stacks] [Output] (1.89814)\n",
      "Exch Dinitrogen monoxide (CAS 010024-97-2) [air, non-urban air or from high stacks] [Output] (5.68311e-05)\n",
      "Exch Nitrogen oxides (CAS 011104-93-1) [air, non-urban air or from high stacks] [Output] (0.000340984)\n",
      "Exch Sulfur dioxide (CAS 007446-09-5) [air, non-urban air or from high stacks] [Output] (0.000568307)\n",
      "Exch NMVOC, non-methane volatile organic compounds, unspecified origin [air, non-urban air or from high stacks] [Output] (4.54649e-05)\n",
      "Exch Platinum (CAS 007440-06-4) [air, non-urban air or from high stacks] [Output] (1.59127e-10)\n",
      "Exch Carbon monoxide, non-fossil (CAS 000630-08-0) [air, non-urban air or from high stacks] [Output] (0.00109116)\n",
      "Adding process entity with 00486194-99d5-4a08-aff3-57becc77bdc2: market for shavings, softwood, measured as dry mass\n",
      "Adding flow entity with ff7a13da-3665-469e-a211-4ab06801c7ea: shavings, softwood, measured as dry mass\n",
      "Identified reference exchange\n",
      " market for shavings, softwood, measured as dry mass [GLO] has Output: shavings, softwood, measured as dry mass [By-product classification: allocatable product] [kg]\n",
      "Exch shavings, softwood, measured as dry mass [By-product classification: allocatable product] [Output] (1)\n",
      "Exch transport, freight, lorry, unspecified [By-product classification: allocatable product] [Input] (0.0357143)\n",
      "Exch shavings, softwood, measured as dry mass [By-product classification: allocatable product] [Output] (-1)\n",
      "{'ff7a13da-3665-469e-a211-4ab06801c7ea': 1.0}\n"
     ]
    },
    {
     "ename": "KeyError",
     "evalue": "'Exchange value already defined for this reference!'",
     "output_type": "error",
     "traceback": [
      "\u001b[1;31m---------------------------------------------------------------------------\u001b[0m",
      "\u001b[1;31mKeyError\u001b[0m                                  Traceback (most recent call last)",
      "\u001b[1;32m<ipython-input-14-f41408789ed1>\u001b[0m in \u001b[0;36m<module>\u001b[1;34m()\u001b[0m\n\u001b[1;32m----> 1\u001b[1;33m \u001b[0mEU\u001b[0m\u001b[1;33m.\u001b[0m\u001b[0mload_all\u001b[0m\u001b[1;33m(\u001b[0m\u001b[1;33m)\u001b[0m\u001b[1;33m\u001b[0m\u001b[0m\n\u001b[0m",
      "\u001b[1;32m/data/GitHub/lca-tools/lcatools/interfaces.py\u001b[0m in \u001b[0;36mload_all\u001b[1;34m(self, **kwargs)\u001b[0m\n\u001b[0;32m    398\u001b[0m     \u001b[1;32mdef\u001b[0m \u001b[0mload_all\u001b[0m\u001b[1;33m(\u001b[0m\u001b[0mself\u001b[0m\u001b[1;33m,\u001b[0m \u001b[1;33m**\u001b[0m\u001b[0mkwargs\u001b[0m\u001b[1;33m)\u001b[0m\u001b[1;33m:\u001b[0m\u001b[1;33m\u001b[0m\u001b[0m\n\u001b[0;32m    399\u001b[0m         \u001b[0mprint\u001b[0m\u001b[1;33m(\u001b[0m\u001b[1;34m'Loading %s'\u001b[0m \u001b[1;33m%\u001b[0m \u001b[0mself\u001b[0m\u001b[1;33m.\u001b[0m\u001b[0mref\u001b[0m\u001b[1;33m)\u001b[0m\u001b[1;33m\u001b[0m\u001b[0m\n\u001b[1;32m--> 400\u001b[1;33m         \u001b[0mself\u001b[0m\u001b[1;33m.\u001b[0m\u001b[0m_load_all\u001b[0m\u001b[1;33m(\u001b[0m\u001b[1;33m**\u001b[0m\u001b[0mkwargs\u001b[0m\u001b[1;33m)\u001b[0m\u001b[1;33m\u001b[0m\u001b[0m\n\u001b[0m\u001b[0;32m    401\u001b[0m \u001b[1;33m\u001b[0m\u001b[0m\n\u001b[0;32m    402\u001b[0m     \u001b[1;32mdef\u001b[0m \u001b[0m_entities_by_type\u001b[0m\u001b[1;33m(\u001b[0m\u001b[0mself\u001b[0m\u001b[1;33m,\u001b[0m \u001b[0mentity_type\u001b[0m\u001b[1;33m,\u001b[0m \u001b[1;33m**\u001b[0m\u001b[0mkwargs\u001b[0m\u001b[1;33m)\u001b[0m\u001b[1;33m:\u001b[0m\u001b[1;33m\u001b[0m\u001b[0m\n",
      "\u001b[1;32m/data/GitHub/lca-tools/lcatools/providers/ecospold2.py\u001b[0m in \u001b[0;36m_load_all\u001b[1;34m(self, exchanges)\u001b[0m\n\u001b[0;32m    301\u001b[0m         \u001b[0mcount\u001b[0m \u001b[1;33m=\u001b[0m \u001b[1;36m0\u001b[0m\u001b[1;33m\u001b[0m\u001b[0m\n\u001b[0;32m    302\u001b[0m         \u001b[1;32mfor\u001b[0m \u001b[0mk\u001b[0m \u001b[1;32min\u001b[0m \u001b[0mself\u001b[0m\u001b[1;33m.\u001b[0m\u001b[0mlist_datasets\u001b[0m\u001b[1;33m(\u001b[0m\u001b[1;33m)\u001b[0m\u001b[1;33m:\u001b[0m\u001b[1;33m\u001b[0m\u001b[0m\n\u001b[1;32m--> 303\u001b[1;33m             \u001b[0mself\u001b[0m\u001b[1;33m.\u001b[0m\u001b[0mretrieve_or_fetch_entity\u001b[0m\u001b[1;33m(\u001b[0m\u001b[0mk\u001b[0m\u001b[1;33m,\u001b[0m \u001b[0mexchanges\u001b[0m\u001b[1;33m=\u001b[0m\u001b[0mexchanges\u001b[0m\u001b[1;33m)\u001b[0m\u001b[1;33m\u001b[0m\u001b[0m\n\u001b[0m\u001b[0;32m    304\u001b[0m             \u001b[0mcount\u001b[0m \u001b[1;33m+=\u001b[0m \u001b[1;36m1\u001b[0m\u001b[1;33m\u001b[0m\u001b[0m\n\u001b[0;32m    305\u001b[0m             \u001b[1;32mif\u001b[0m \u001b[0mcount\u001b[0m \u001b[1;33m%\u001b[0m \u001b[1;36m100\u001b[0m \u001b[1;33m==\u001b[0m \u001b[1;36m0\u001b[0m\u001b[1;33m:\u001b[0m\u001b[1;33m\u001b[0m\u001b[0m\n",
      "\u001b[1;32m/data/GitHub/lca-tools/lcatools/providers/ecospold2.py\u001b[0m in \u001b[0;36mretrieve_or_fetch_entity\u001b[1;34m(self, filename, **kwargs)\u001b[0m\n\u001b[0;32m    295\u001b[0m             \u001b[1;32mif\u001b[0m \u001b[0mspold_reference_flow\u001b[0m\u001b[1;33m(\u001b[0m\u001b[0mfilename\u001b[0m\u001b[1;33m)\u001b[0m \u001b[1;32min\u001b[0m \u001b[1;33m[\u001b[0m\u001b[0mx\u001b[0m\u001b[1;33m.\u001b[0m\u001b[0mflow\u001b[0m\u001b[1;33m.\u001b[0m\u001b[0mget_uuid\u001b[0m\u001b[1;33m(\u001b[0m\u001b[1;33m)\u001b[0m \u001b[1;32mfor\u001b[0m \u001b[0mx\u001b[0m \u001b[1;32min\u001b[0m \u001b[0mentity\u001b[0m\u001b[1;33m.\u001b[0m\u001b[0mreference_entity\u001b[0m\u001b[1;33m]\u001b[0m\u001b[1;33m:\u001b[0m\u001b[1;33m\u001b[0m\u001b[0m\n\u001b[0;32m    296\u001b[0m                 \u001b[1;32mreturn\u001b[0m \u001b[0mentity\u001b[0m\u001b[1;33m\u001b[0m\u001b[0m\n\u001b[1;32m--> 297\u001b[1;33m         \u001b[1;32mreturn\u001b[0m \u001b[0mself\u001b[0m\u001b[1;33m.\u001b[0m\u001b[0m_create_process\u001b[0m\u001b[1;33m(\u001b[0m\u001b[0mfilename\u001b[0m\u001b[1;33m,\u001b[0m \u001b[1;33m**\u001b[0m\u001b[0mkwargs\u001b[0m\u001b[1;33m)\u001b[0m\u001b[1;33m\u001b[0m\u001b[0m\n\u001b[0m\u001b[0;32m    298\u001b[0m \u001b[1;33m\u001b[0m\u001b[0m\n\u001b[0;32m    299\u001b[0m     \u001b[1;32mdef\u001b[0m \u001b[0m_load_all\u001b[0m\u001b[1;33m(\u001b[0m\u001b[0mself\u001b[0m\u001b[1;33m,\u001b[0m \u001b[0mexchanges\u001b[0m\u001b[1;33m=\u001b[0m\u001b[1;32mTrue\u001b[0m\u001b[1;33m)\u001b[0m\u001b[1;33m:\u001b[0m\u001b[1;33m\u001b[0m\u001b[0m\n",
      "\u001b[1;32m/data/GitHub/lca-tools/lcatools/providers/ecospold2.py\u001b[0m in \u001b[0;36m_create_process\u001b[1;34m(self, filename, exchanges)\u001b[0m\n\u001b[0;32m    269\u001b[0m                 \u001b[1;32mif\u001b[0m \u001b[0mexch\u001b[0m\u001b[1;33m.\u001b[0m\u001b[0mvalue\u001b[0m \u001b[1;33m!=\u001b[0m \u001b[1;36m0\u001b[0m\u001b[1;33m:\u001b[0m\u001b[1;33m\u001b[0m\u001b[0m\n\u001b[0;32m    270\u001b[0m                     \u001b[0mself\u001b[0m\u001b[1;33m.\u001b[0m\u001b[0m_print\u001b[0m\u001b[1;33m(\u001b[0m\u001b[1;34m'Exch %s [%s] (%g)'\u001b[0m \u001b[1;33m%\u001b[0m \u001b[1;33m(\u001b[0m\u001b[0mexch\u001b[0m\u001b[1;33m.\u001b[0m\u001b[0mflow\u001b[0m\u001b[1;33m,\u001b[0m \u001b[0mexch\u001b[0m\u001b[1;33m.\u001b[0m\u001b[0mdirection\u001b[0m\u001b[1;33m,\u001b[0m \u001b[0mexch\u001b[0m\u001b[1;33m.\u001b[0m\u001b[0mvalue\u001b[0m\u001b[1;33m)\u001b[0m\u001b[1;33m)\u001b[0m\u001b[1;33m\u001b[0m\u001b[0m\n\u001b[1;32m--> 271\u001b[1;33m                     \u001b[0mp\u001b[0m\u001b[1;33m.\u001b[0m\u001b[0madd_exchange\u001b[0m\u001b[1;33m(\u001b[0m\u001b[0mexch\u001b[0m\u001b[1;33m.\u001b[0m\u001b[0mflow\u001b[0m\u001b[1;33m,\u001b[0m \u001b[0mexch\u001b[0m\u001b[1;33m.\u001b[0m\u001b[0mdirection\u001b[0m\u001b[1;33m,\u001b[0m \u001b[0mreference\u001b[0m\u001b[1;33m=\u001b[0m\u001b[0mrx\u001b[0m\u001b[1;33m,\u001b[0m \u001b[0mvalue\u001b[0m\u001b[1;33m=\u001b[0m\u001b[0mexch\u001b[0m\u001b[1;33m.\u001b[0m\u001b[0mvalue\u001b[0m\u001b[1;33m)\u001b[0m\u001b[1;33m\u001b[0m\u001b[0m\n\u001b[0m\u001b[0;32m    272\u001b[0m \u001b[1;33m\u001b[0m\u001b[0m\n\u001b[0;32m    273\u001b[0m         \u001b[1;32mreturn\u001b[0m \u001b[0mp\u001b[0m\u001b[1;33m\u001b[0m\u001b[0m\n",
      "\u001b[1;32m/data/GitHub/lca-tools/lcatools/entities.py\u001b[0m in \u001b[0;36madd_exchange\u001b[1;34m(self, flow, dirn, reference, value)\u001b[0m\n\u001b[0;32m    272\u001b[0m                     \u001b[0mexch\u001b[0m\u001b[1;33m.\u001b[0m\u001b[0mupdate\u001b[0m\u001b[1;33m(\u001b[0m\u001b[0mvalue\u001b[0m\u001b[1;33m)\u001b[0m\u001b[1;33m\u001b[0m\u001b[0m\n\u001b[0;32m    273\u001b[0m                 \u001b[1;32melse\u001b[0m\u001b[1;33m:\u001b[0m\u001b[1;33m\u001b[0m\u001b[0m\n\u001b[1;32m--> 274\u001b[1;33m                     \u001b[0mexch\u001b[0m\u001b[1;33m[\u001b[0m\u001b[0mreference\u001b[0m\u001b[1;33m]\u001b[0m \u001b[1;33m=\u001b[0m \u001b[0mvalue\u001b[0m\u001b[1;33m\u001b[0m\u001b[0m\n\u001b[0m\u001b[0;32m    275\u001b[0m                 \u001b[0mself\u001b[0m\u001b[1;33m.\u001b[0m\u001b[0m_exchanges\u001b[0m\u001b[1;33m.\u001b[0m\u001b[0mremove\u001b[0m\u001b[1;33m(\u001b[0m\u001b[0me\u001b[0m\u001b[1;33m)\u001b[0m\u001b[1;33m\u001b[0m\u001b[0m\n\u001b[0;32m    276\u001b[0m                 \u001b[0mself\u001b[0m\u001b[1;33m.\u001b[0m\u001b[0m_exchanges\u001b[0m\u001b[1;33m.\u001b[0m\u001b[0madd\u001b[0m\u001b[1;33m(\u001b[0m\u001b[0mexch\u001b[0m\u001b[1;33m)\u001b[0m\u001b[1;33m\u001b[0m\u001b[0m\n",
      "\u001b[1;32m/data/GitHub/lca-tools/lcatools/exchanges.py\u001b[0m in \u001b[0;36m__setitem__\u001b[1;34m(self, key, value)\u001b[0m\n\u001b[0;32m    269\u001b[0m         \u001b[1;32mif\u001b[0m \u001b[0mkey\u001b[0m \u001b[1;32min\u001b[0m \u001b[0mself\u001b[0m\u001b[1;33m.\u001b[0m\u001b[0m_value_dict\u001b[0m\u001b[1;33m:\u001b[0m\u001b[1;33m\u001b[0m\u001b[0m\n\u001b[0;32m    270\u001b[0m             \u001b[0mprint\u001b[0m\u001b[1;33m(\u001b[0m\u001b[0mself\u001b[0m\u001b[1;33m.\u001b[0m\u001b[0m_value_dict\u001b[0m\u001b[1;33m)\u001b[0m\u001b[1;33m\u001b[0m\u001b[0m\n\u001b[1;32m--> 271\u001b[1;33m             \u001b[1;32mraise\u001b[0m \u001b[0mKeyError\u001b[0m\u001b[1;33m(\u001b[0m\u001b[1;34m'Exchange value already defined for this reference!'\u001b[0m\u001b[1;33m)\u001b[0m\u001b[1;33m\u001b[0m\u001b[0m\n\u001b[0m\u001b[0;32m    272\u001b[0m         \u001b[1;32mif\u001b[0m \u001b[0mkey\u001b[0m \u001b[1;32mnot\u001b[0m \u001b[1;32min\u001b[0m \u001b[1;33m[\u001b[0m\u001b[0mx\u001b[0m\u001b[1;33m.\u001b[0m\u001b[0mflow\u001b[0m\u001b[1;33m.\u001b[0m\u001b[0mget_uuid\u001b[0m\u001b[1;33m(\u001b[0m\u001b[1;33m)\u001b[0m \u001b[1;32mfor\u001b[0m \u001b[0mx\u001b[0m \u001b[1;32min\u001b[0m \u001b[0mself\u001b[0m\u001b[1;33m.\u001b[0m\u001b[0mprocess\u001b[0m\u001b[1;33m.\u001b[0m\u001b[0mreference_entity\u001b[0m\u001b[1;33m]\u001b[0m\u001b[1;33m:\u001b[0m\u001b[1;33m\u001b[0m\u001b[0m\n\u001b[0;32m    273\u001b[0m             \u001b[1;32mraise\u001b[0m \u001b[0mKeyError\u001b[0m\u001b[1;33m(\u001b[0m\u001b[1;34m'Cannot set allocation for a non-reference flow'\u001b[0m\u001b[1;33m)\u001b[0m\u001b[1;33m\u001b[0m\u001b[0m\n",
      "\u001b[1;31mKeyError\u001b[0m: 'Exchange value already defined for this reference!'"
     ]
    }
   ],
   "source": [
    "EU.load_all()"
   ]
  },
  {
   "cell_type": "code",
   "execution_count": 60,
   "metadata": {
    "collapsed": false
   },
   "outputs": [
    {
     "data": {
      "text/plain": [
       "1040"
      ]
     },
     "execution_count": 60,
     "metadata": {},
     "output_type": "execute_result"
    }
   ],
   "source": [
    "len(EU.processes())"
   ]
  },
  {
   "cell_type": "code",
   "execution_count": 61,
   "metadata": {
    "collapsed": false
   },
   "outputs": [
    {
     "data": {
      "text/plain": [
       "1040"
      ]
     },
     "execution_count": 61,
     "metadata": {},
     "output_type": "execute_result"
    }
   ],
   "source": [
    "len({x.get_uuid() for x in EU.processes()})"
   ]
  },
  {
   "cell_type": "code",
   "execution_count": 66,
   "metadata": {
    "collapsed": false
   },
   "outputs": [],
   "source": [
    "z = [x for x in EU.processes()[0]._exchanges]"
   ]
  },
  {
   "cell_type": "code",
   "execution_count": 71,
   "metadata": {
    "collapsed": false
   },
   "outputs": [
    {
     "name": "stdout",
     "output_type": "stream",
     "text": [
      "dict_items([('6d7a9035-752d-4b84-ad72-bde1a987a585', 0.00115)])\n",
      "dict_items([('6d7a9035-752d-4b84-ad72-bde1a987a585', 0.018)])\n",
      "dict_items([('6d7a9035-752d-4b84-ad72-bde1a987a585', 1.0)])\n",
      "dict_items([('6d7a9035-752d-4b84-ad72-bde1a987a585', 2.8e-05)])\n",
      "dict_items([('6d7a9035-752d-4b84-ad72-bde1a987a585', 0.000779)])\n",
      "dict_items([('6d7a9035-752d-4b84-ad72-bde1a987a585', 2.5e-07)])\n",
      "dict_items([('6d7a9035-752d-4b84-ad72-bde1a987a585', 0.01269)])\n",
      "dict_items([('6d7a9035-752d-4b84-ad72-bde1a987a585', 0.267)])\n",
      "dict_items([('6d7a9035-752d-4b84-ad72-bde1a987a585', 2.41)])\n",
      "dict_items([('6d7a9035-752d-4b84-ad72-bde1a987a585', 0.000508)])\n",
      "dict_items([('6d7a9035-752d-4b84-ad72-bde1a987a585', 0.2356)])\n",
      "dict_items([('6d7a9035-752d-4b84-ad72-bde1a987a585', 0.00196)])\n",
      "dict_items([('6d7a9035-752d-4b84-ad72-bde1a987a585', 0.000252)])\n",
      "dict_items([('6d7a9035-752d-4b84-ad72-bde1a987a585', 0.0008875)])\n",
      "dict_items([('6d7a9035-752d-4b84-ad72-bde1a987a585', 0.111)])\n",
      "dict_items([('6d7a9035-752d-4b84-ad72-bde1a987a585', 1.0)])\n",
      "dict_items([('6d7a9035-752d-4b84-ad72-bde1a987a585', 0.018)])\n",
      "dict_items([('6d7a9035-752d-4b84-ad72-bde1a987a585', 0.724)])\n",
      "dict_items([('6d7a9035-752d-4b84-ad72-bde1a987a585', 1.1e-05)])\n",
      "dict_items([('6d7a9035-752d-4b84-ad72-bde1a987a585', 0.0052)])\n",
      "dict_items([('6d7a9035-752d-4b84-ad72-bde1a987a585', 0.000779)])\n",
      "dict_items([('6d7a9035-752d-4b84-ad72-bde1a987a585', -0.000828)])\n",
      "dict_items([('6d7a9035-752d-4b84-ad72-bde1a987a585', 4.44e-10)])\n",
      "dict_items([('6d7a9035-752d-4b84-ad72-bde1a987a585', 0.0003615)])\n"
     ]
    }
   ],
   "source": [
    "for k in z:\n",
    "    print(k.values())"
   ]
  },
  {
   "cell_type": "code",
   "execution_count": 10,
   "metadata": {
    "collapsed": true
   },
   "outputs": [],
   "source": [
    "from lcatools.interfaces import uuid_regex"
   ]
  },
  {
   "cell_type": "code",
   "execution_count": 23,
   "metadata": {
    "collapsed": false
   },
   "outputs": [],
   "source": [
    "uuids = [x[0] for y in EU.list_datasets() for x in uuid_regex.findall(y) ]"
   ]
  },
  {
   "cell_type": "code",
   "execution_count": 35,
   "metadata": {
    "collapsed": false
   },
   "outputs": [],
   "source": [
    "process_uuids = uuids[0::2]\n",
    "flow_uuids = uuids[1::2]"
   ]
  },
  {
   "cell_type": "code",
   "execution_count": 41,
   "metadata": {
    "collapsed": false
   },
   "outputs": [
    {
     "data": {
      "text/plain": [
       "2737"
      ]
     },
     "execution_count": 41,
     "metadata": {},
     "output_type": "execute_result"
    }
   ],
   "source": [
    "len(set(flow_uuids))"
   ]
  },
  {
   "cell_type": "code",
   "execution_count": 46,
   "metadata": {
    "collapsed": false
   },
   "outputs": [],
   "source": [
    "import matplotlib.pyplot as plt\n",
    "import plotly.plotly as py"
   ]
  },
  {
   "cell_type": "code",
   "execution_count": 53,
   "metadata": {
    "collapsed": true
   },
   "outputs": [],
   "source": [
    "%matplotlib inline"
   ]
  },
  {
   "cell_type": "code",
   "execution_count": 58,
   "metadata": {
    "collapsed": false
   },
   "outputs": [
    {
     "data": {
      "text/plain": [
       "<matplotlib.text.Text at 0x7f111720f9e8>"
      ]
     },
     "execution_count": 58,
     "metadata": {},
     "output_type": "execute_result"
    },
    {
     "data": {
      "image/png": "[encoded data removed]",
      "text/plain": [
       "<matplotlib.figure.Figure at 0x7f1117199c50>"
      ]
     },
     "metadata": {},
     "output_type": "display_data"
    }
   ],
   "source": [
    "plt.hist([len(x._exchanges) for x in EU.processes() if len(x._exchanges) > 1000])\n",
    "plt.title('foo')\n",
    "plt.xlabel('bar')\n",
    "plt.ylabel('baz')\n"
   ]
  },
  {
   "cell_type": "code",
   "execution_count": 54,
   "metadata": {
    "collapsed": false
   },
   "outputs": [
    {
     "data": {
      "image/png": "[encoded data removed]",
      "text/plain": [
       "<matplotlib.figure.Figure at 0x7f11194b1f98>"
      ]
     },
     "metadata": {},
     "output_type": "display_data"
    }
   ],
   "source": [
    "import matplotlib.pyplot as plt\n",
    "from numpy.random import normal\n",
    "gaussian_numbers = normal(size=1000)\n",
    "plt.hist(gaussian_numbers)\n",
    "plt.title(\"Gaussian Histogram\")\n",
    "plt.xlabel(\"Value\")\n",
    "plt.ylabel(\"Frequency\")\n",
    "plt.show()\n"
   ]
  },
  {
   "cell_type": "code",
   "execution_count": 7,
   "metadata": {
    "collapsed": true
   },
   "outputs": [],
   "source": [
    "f = EU._fetch_filename(fname)"
   ]
  },
  {
   "cell_type": "code",
   "execution_count": 14,
   "metadata": {
    "collapsed": false
   },
   "outputs": [
    {
     "data": {
      "text/plain": [
       "1066974"
      ]
     },
     "execution_count": 14,
     "metadata": {},
     "output_type": "execute_result"
    }
   ],
   "source": [
    "len(f.decode())"
   ]
  },
  {
   "cell_type": "code",
   "execution_count": 11,
   "metadata": {
    "collapsed": false
   },
   "outputs": [
    {
     "data": {
      "text/plain": [
       "'b\\'\\\\xef\\\\xbb\\\\xbf<?xml version=\"1.0\" encoding=\"utf-8\"?>\\\\n<ecoSpold xmlns=\"http://www.EcoInvent.org/EcoSpold02\">\\\\n  <activityDataset>\\\\n    <activityDescription>\\\\n      <activity id=\"023459eb-219f-4d85-bc6f-6031652b51ee\" activityNameId=\"3acee32c-27cd-4aa4-baf0-f003ba9f53b0\" inheritanceDepth=\"0\" type=\"1\" specialActivityType=\"0\" energyValues=\"0\">\\\\n        <activityName xml:lang=\"en\">layered sodium silicate production, SKS-6, powder</activityName>\\\\n        <includedActivitiesStart xml:lang=\"en\" />\\\\n        <includedActivitiesEnd xml:lang=\"en\">This module contains material and energy input, production of waste and emissions for the production of SKS-6 sodium silicate powder. Transport and infrastructure have been estimated. The input of compressed air is not reported in the data according to the methodology of the study.</includedActivitiesEnd>\\\\n        <generalComment>\\\\n          <text xml:lang=\"en\" index=\"1\">data based on information from the major European producer</text>\\\\n          <text xm'"
      ]
     },
     "execution_count": 11,
     "metadata": {},
     "output_type": "execute_result"
    }
   ],
   "source": [
    "str(f)[:1000]"
   ]
  },
  {
   "cell_type": "code",
   "execution_count": 6,
   "metadata": {
    "collapsed": false
   },
   "outputs": [
    {
     "data": {
      "text/plain": [
       "452"
      ]
     },
     "execution_count": 6,
     "metadata": {},
     "output_type": "execute_result"
    }
   ],
   "source": [
    "len(EA.processes())"
   ]
  },
  {
   "cell_type": "code",
   "execution_count": 7,
   "metadata": {
    "collapsed": true
   },
   "outputs": [],
   "source": [
    "g = set()\n",
    "g.add('a')\n",
    "g.add('B')\n",
    "g.add(42)"
   ]
  },
  {
   "cell_type": "code",
   "execution_count": 8,
   "metadata": {
    "collapsed": false
   },
   "outputs": [
    {
     "data": {
      "text/plain": [
       "{'B', 42, 'a'}"
      ]
     },
     "execution_count": 8,
     "metadata": {},
     "output_type": "execute_result"
    }
   ],
   "source": [
    "g"
   ]
  },
  {
   "cell_type": "code",
   "execution_count": 14,
   "metadata": {
    "collapsed": false
   },
   "outputs": [
    {
     "ename": "KeyError",
     "evalue": "'pop from an empty set'",
     "output_type": "error",
     "traceback": [
      "\u001b[1;31m---------------------------------------------------------------------------\u001b[0m",
      "\u001b[1;31mKeyError\u001b[0m                                  Traceback (most recent call last)",
      "\u001b[1;32m<ipython-input-14-1820ea8e4143>\u001b[0m in \u001b[0;36m<module>\u001b[1;34m()\u001b[0m\n\u001b[1;32m----> 1\u001b[1;33m \u001b[0mg\u001b[0m\u001b[1;33m.\u001b[0m\u001b[0mpop\u001b[0m\u001b[1;33m(\u001b[0m\u001b[1;33m)\u001b[0m\u001b[1;33m\u001b[0m\u001b[0m\n\u001b[0m",
      "\u001b[1;31mKeyError\u001b[0m: 'pop from an empty set'"
     ]
    }
   ],
   "source": [
    "g.pop()"
   ]
  },
  {
   "cell_type": "code",
   "execution_count": 16,
   "metadata": {
    "collapsed": false
   },
   "outputs": [
    {
     "name": "stdout",
     "output_type": "stream",
     "text": [
      "Help on built-in function remove:\n",
      "\n",
      "remove(...) method of builtins.set instance\n",
      "    Remove an element from a set; it must be a member.\n",
      "    \n",
      "    If the element is not a member, raise a KeyError.\n",
      "\n"
     ]
    }
   ],
   "source": [
    "help(g.remove)"
   ]
  },
  {
   "cell_type": "code",
   "execution_count": 17,
   "metadata": {
    "collapsed": true
   },
   "outputs": [],
   "source": [
    "d = { 'foo':'bar', 'baz':42}"
   ]
  },
  {
   "cell_type": "code",
   "execution_count": 19,
   "metadata": {
    "collapsed": false
   },
   "outputs": [
    {
     "ename": "TypeError",
     "evalue": "'NoneType' object is not iterable",
     "output_type": "error",
     "traceback": [
      "\u001b[1;31m---------------------------------------------------------------------------\u001b[0m",
      "\u001b[1;31mTypeError\u001b[0m                                 Traceback (most recent call last)",
      "\u001b[1;32m<ipython-input-19-975884811cfd>\u001b[0m in \u001b[0;36m<module>\u001b[1;34m()\u001b[0m\n\u001b[1;32m----> 1\u001b[1;33m \u001b[0md\u001b[0m\u001b[1;33m.\u001b[0m\u001b[0mupdate\u001b[0m\u001b[1;33m(\u001b[0m\u001b[1;32mNone\u001b[0m\u001b[1;33m)\u001b[0m\u001b[1;33m\u001b[0m\u001b[0m\n\u001b[0m",
      "\u001b[1;31mTypeError\u001b[0m: 'NoneType' object is not iterable"
     ]
    }
   ],
   "source": [
    "d.update(None)"
   ]
  },
  {
   "cell_type": "code",
   "execution_count": 21,
   "metadata": {
    "collapsed": false
   },
   "outputs": [],
   "source": [
    "from lcatools.literate_float import LiterateFloat"
   ]
  },
  {
   "cell_type": "code",
   "execution_count": 22,
   "metadata": {
    "collapsed": true
   },
   "outputs": [],
   "source": [
    "l = LiterateFloat(47.2)"
   ]
  },
  {
   "cell_type": "code",
   "execution_count": 26,
   "metadata": {
    "collapsed": false
   },
   "outputs": [
    {
     "data": {
      "text/plain": [
       "False"
      ]
     },
     "execution_count": 26,
     "metadata": {},
     "output_type": "execute_result"
    }
   ],
   "source": [
    "isinstance(l, int)"
   ]
  }
 ],
 "metadata": {
  "kernelspec": {
   "display_name": "Python 3",
   "language": "python",
   "name": "python3"
  },
  "language_info": {
   "codemirror_mode": {
    "name": "ipython",
    "version": 3
   },
   "file_extension": ".py",
   "mimetype": "text/x-python",
   "name": "python",
   "nbconvert_exporter": "python",
   "pygments_lexer": "ipython3",
   "version": "3.5.1"
  }
 },
 "nbformat": 4,
 "nbformat_minor": 0
}
