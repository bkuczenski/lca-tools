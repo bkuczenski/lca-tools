{
 "cells": [
  {
   "cell_type": "code",
   "execution_count": 1,
   "metadata": {
    "collapsed": true
   },
   "outputs": [],
   "source": [
    "import sys\n",
    "sys.path.append('..')\n",
    "import os\n",
    "from os.path import expanduser\n",
    "\n",
    "import lcatools"
   ]
  },
  {
   "cell_type": "code",
   "execution_count": 2,
   "metadata": {
    "collapsed": true
   },
   "outputs": [],
   "source": [
    "from lcatools.tools import archive_from_json"
   ]
  },
  {
   "cell_type": "code",
   "execution_count": 3,
   "metadata": {
    "collapsed": true
   },
   "outputs": [],
   "source": [
    "elcd3_file = os.path.join(os.path.expanduser('~'),'Dropbox', 'data', 'ELCD', 'ELCD3.2.zip')\n",
    "catalog_dir = os.path.join(os.path.expanduser('~'), 'GitHub', 'lca-tools-datafiles', 'catalogs')\n",
    "lcia_file = os.path.join(catalog_dir, 'elcd_lcia.json.gz')"
   ]
  },
  {
   "cell_type": "code",
   "execution_count": 15,
   "metadata": {
    "collapsed": false
   },
   "outputs": [],
   "source": [
    "def lcia(process, quantity):\n",
    "    print(', '.join([quantity[desc] for desc in ('Method', 'Category', 'Indicator')]))\n",
    "    print('-'*60)\n",
    "    score = 0.0\n",
    "    for x in process.exchanges():\n",
    "        if x.flow.cf(quantity) != 0:\n",
    "            c = x.flow.cf(quantity)\n",
    "            v = x.value\n",
    "            score += c*v\n",
    "            print('%10.3g x %-10.3g = %-10.3g %s' % (c, v, c*v, x.flow['Name']) )\n",
    "    print('='*60)\n",
    "    print('             Total score: %g [%s]' % (score, quantity.reference_entity.unitstring()))\n",
    "    return score"
   ]
  },
  {
   "cell_type": "markdown",
   "metadata": {},
   "source": [
    "### ELCD LCIA Computation"
   ]
  },
  {
   "cell_type": "code",
   "execution_count": 4,
   "metadata": {
    "collapsed": false
   },
   "outputs": [
    {
     "name": "stdout",
     "output_type": "stream",
     "text": [
      "Loading JSON data from /home/b/GitHub/lca-tools-datafiles/catalogs/elcd_lcia.json.gz:\n",
      "Found Extension: zip\n",
      "**Upstream reference encountered: /home/b/Dropbox/data/ELCD/ELCD3.2.zip\n",
      "\n",
      "54 new quantity entities added (54 total)\n",
      "1256 new flow entities added (1256 total)\n",
      "0 new process entities added (0 total)\n"
     ]
    }
   ],
   "source": [
    "l = archive_from_json(lcia_file)"
   ]
  },
  {
   "cell_type": "code",
   "execution_count": 5,
   "metadata": {
    "collapsed": true
   },
   "outputs": [],
   "source": [
    "from lcatools.providers.ilcd import IlcdArchive"
   ]
  },
  {
   "cell_type": "code",
   "execution_count": 6,
   "metadata": {
    "collapsed": false
   },
   "outputs": [
    {
     "name": "stdout",
     "output_type": "stream",
     "text": [
      "Found Extension: zip\n"
     ]
    }
   ],
   "source": [
    "ps = IlcdArchive(elcd3_file, upstream=l)"
   ]
  },
  {
   "cell_type": "code",
   "execution_count": 7,
   "metadata": {
    "collapsed": false
   },
   "outputs": [
    {
     "data": {
      "text/plain": [
       "<lcatools.entities.LcProcess at 0x7f26732bcb38>"
      ]
     },
     "execution_count": 7,
     "metadata": {},
     "output_type": "execute_result"
    }
   ],
   "source": [
    "ps.retrieve_or_fetch_entity(ps.list_objects('Process')[27])"
   ]
  },
  {
   "cell_type": "code",
   "execution_count": 8,
   "metadata": {
    "collapsed": false
   },
   "outputs": [],
   "source": [
    "p = _"
   ]
  },
  {
   "cell_type": "code",
   "execution_count": null,
   "metadata": {
    "collapsed": true
   },
   "outputs": [],
   "source": []
  },
  {
   "cell_type": "code",
   "execution_count": 9,
   "metadata": {
    "collapsed": true
   },
   "outputs": [],
   "source": [
    "qs = (x for x in l.quantities() if 'Method' in x.keys())"
   ]
  },
  {
   "cell_type": "code",
   "execution_count": 10,
   "metadata": {
    "collapsed": false
   },
   "outputs": [],
   "source": [
    "q = next(qs)"
   ]
  },
  {
   "cell_type": "code",
   "execution_count": 11,
   "metadata": {
    "collapsed": false
   },
   "outputs": [
    {
     "data": {
      "text/plain": [
       "dict_keys(['Comment', 'Method', 'Name', 'origin', 'Category', 'ReferenceYear', 'Duration', 'Indicator', 'externalId'])"
      ]
     },
     "execution_count": 11,
     "metadata": {},
     "output_type": "execute_result"
    }
   ],
   "source": [
    "q.keys()"
   ]
  },
  {
   "cell_type": "code",
   "execution_count": 23,
   "metadata": {
    "collapsed": false
   },
   "outputs": [
    {
     "name": "stdout",
     "output_type": "stream",
     "text": [
      "ILCD2011, Ionizing radiation, Comparative Toxic Unit for ecosystems (CTUe) expressing an estimate of the potentially affected fraction of species (PAF) integrated over time and volume per unit mass of a radionucleide emitted (PAF m3 year/kg).\n",
      "------------------------------------------------------------\n",
      "  1.86e-05 x 0.00089    = 1.65e-08   antimony-124\n",
      "  1.51e-05 x 0.0273     = 4.12e-07   antimony-125\n",
      "  1.04e-05 x 0.639      = 6.65e-06   iodine-131\n",
      "  4.59e-09 x 133        = 6.13e-07   hydrogen-3\n",
      "  2.43e-05 x 0.144      = 3.51e-06   cobalt-58\n",
      "  4.62e-05 x 0.0242     = 1.12e-06   antimony-124\n",
      "   5.5e-05 x 0.000267   = 1.47e-08   cesium-134\n",
      "  0.000124 x 0.0275     = 3.41e-06   cesium-134\n",
      "  2.26e-05 x 0.000968   = 2.19e-08   cobalt-60\n",
      "  4.78e-06 x 9.97e-10   = 4.77e-15   manganese-54\n",
      "  4.49e-05 x 0.000355   = 1.59e-08   cesium-137\n",
      "  0.000172 x 0.0207     = 3.56e-06   carbon-14\n",
      "  1.37e-05 x 0.0295     = 4.04e-07   silver-110\n",
      "  6.83e-05 x 4.24e-06   = 2.9e-10    tellurium-123\n",
      "  5.41e-05 x 0.181      = 9.81e-06   cobalt-60\n",
      "   2.6e-05 x 0.00413    = 1.07e-07   iodine-131\n",
      "  7.05e-05 x 42.9       = 0.00302    carbon-14\n",
      "   5.7e-06 x 2.58e-10   = 1.47e-15   silver-110\n",
      "  6.06e-06 x 1.93e-09   = 1.17e-14   antimony-125\n",
      "  1.02e-05 x 0.000438   = 4.47e-09   cobalt-58\n",
      "  1.08e-05 x 0.0223     = 2.41e-07   manganese-54\n",
      "  0.000101 x 0.221      = 2.23e-05   cesium-137\n",
      "  1.12e-08 x 3.33e+03   = 3.73e-05   hydrogen-3\n",
      "============================================================\n",
      "             Total score: 0.00311449 [m3*a]\n",
      "CPU times: user 0 ns, sys: 0 ns, total: 0 ns\n",
      "Wall time: 3.69 ms\n"
     ]
    },
    {
     "data": {
      "text/plain": [
       "0.0031144941582810586"
      ]
     },
     "execution_count": 23,
     "metadata": {},
     "output_type": "execute_result"
    }
   ],
   "source": [
    "%time lcia(p, next(qs))"
   ]
  },
  {
   "cell_type": "markdown",
   "metadata": {},
   "source": [
    "### Ecoinvent LCIA Computation"
   ]
  },
  {
   "cell_type": "code",
   "execution_count": 5,
   "metadata": {
    "collapsed": false
   },
   "outputs": [
    {
     "name": "stdout",
     "output_type": "stream",
     "text": [
      "Loading JSON data from /home/b/GitHub/lca-tools-datafiles/catalogs/ei_lcia.json.gz:\n",
      "**Upstream reference encountered: /data/LCI/Ecoinvent/3.2/undefined\n",
      "\n",
      "708 new quantity entities added (708 total)\n",
      "3255 new flow entities added (3255 total)\n",
      "0 new process entities added (0 total)\n"
     ]
    }
   ],
   "source": [
    "e = archive_from_json(os.path.join(catalog_dir, 'ei_lcia.json.gz'))"
   ]
  },
  {
   "cell_type": "code",
   "execution_count": 6,
   "metadata": {
    "collapsed": true
   },
   "outputs": [],
   "source": [
    "from lcatools.providers.ecospold2 import EcospoldV2Archive"
   ]
  },
  {
   "cell_type": "code",
   "execution_count": 7,
   "metadata": {
    "collapsed": true
   },
   "outputs": [],
   "source": [
    "ei_32_path = os.path.join(os.path.expanduser('~'),'Dropbox', 'data', 'Ecoinvent', \n",
    "                               '3.2')\n",
    "ei_32_undefined = os.path.join(ei_32_path, 'current_Version_3.2_undefined_ecoSpold02.7z')\n"
   ]
  },
  {
   "cell_type": "code",
   "execution_count": 8,
   "metadata": {
    "collapsed": false
   },
   "outputs": [
    {
     "name": "stdout",
     "output_type": "stream",
     "text": [
      "Found Extension: 7z\n"
     ]
    }
   ],
   "source": [
    "E = EcospoldV2Archive(ei_32_undefined, upstream=e, prefix='datasets - public')"
   ]
  },
  {
   "cell_type": "code",
   "execution_count": 9,
   "metadata": {
    "collapsed": true
   },
   "outputs": [],
   "source": [
    "p = E.retrieve_or_fetch_entity(E.list_datasets()[2790])"
   ]
  },
  {
   "cell_type": "code",
   "execution_count": 10,
   "metadata": {
    "collapsed": true
   },
   "outputs": [],
   "source": [
    "qe = (x for x in e.quantities() if 'Method' in x.keys())  # or if isLciaMethod"
   ]
  },
  {
   "cell_type": "code",
   "execution_count": 11,
   "metadata": {
    "collapsed": false
   },
   "outputs": [
    {
     "data": {
      "text/plain": [
       "[' Input:     [0.106 [m3]] Water, cooling, unspecified natural origin (CAS 007732-18-5) [natural resource, in water]',\n",
       " ' Input:     [1e-05 [kg]] chlorine, gaseous (CAS 7782-50-5) [By-product classification: allocatable product]',\n",
       " ' Input:     [0.0893 [kg]] lignite [By-product classification: allocatable product]',\n",
       " ' Input:     [0.006 [kg]] water, completely softened, from decarbonised water, at user [By-product classification: allocatable product]',\n",
       " ' Input:     [4.92e-13 [unit]] lignite power plant [By-product classification: allocatable product]',\n",
       " ' Input:     [0.00223 [kg]] SOx retained, in lignite flue gas desulfurisation [By-product classification: allocatable product]',\n",
       " ' Input:     [0.15 [kg]] water, decarbonised, at user [By-product classification: allocatable product]',\n",
       " 'Output:     [2.14e-10 [kg]] Strontium (CAS 007440-24-6) [air, non-urban air or from high stacks]',\n",
       " 'Output:     [1e-09 [kg]] PAH, polycyclic aromatic hydrocarbons (CAS 130498-29-2) [air, non-urban air or from high stacks]',\n",
       " 'Output:     [2.16e-07 [kg]] Hydrocarbons, aliphatic, unsaturated [air, non-urban air or from high stacks]',\n",
       " 'Output:     [1.6e-08 [kg]] Propene (CAS 000115-07-1) [air, non-urban air or from high stacks]',\n",
       " 'Output:     [4.1e-08 [kg]] Ethane (CAS 000074-84-0) [air, non-urban air or from high stacks]',\n",
       " 'Output: {*} [0.3 [MJ]] heat, district or industrial, other than natural gas [By-product classification: allocatable product]',\n",
       " 'Output:     [2e-13 [kg]] Benzo(a)pyrene (CAS 000050-32-8) [air, non-urban air or from high stacks]',\n",
       " 'Output:     [9.22e-07 [kg]] Xylene (CAS 001330-20-7) [air, non-urban air or from high stacks]',\n",
       " 'Output:     [3.06e-10 [kg]] Cobalt (CAS 007440-48-4) [air, non-urban air or from high stacks]',\n",
       " 'Output:     [5.8e-08 [kg]] Formaldehyde (CAS 000050-00-0) [air, non-urban air or from high stacks]',\n",
       " 'Output:     [2.54e-10 [kg]] Chromium (CAS 007440-47-3) [air, non-urban air or from high stacks]',\n",
       " 'Output:     [0.000198 [kg]] Sulfur dioxide (CAS 007446-09-5) [air, non-urban air or from high stacks]',\n",
       " 'Output:     [1.25e-07 [kBq]] Thorium-232 [air, non-urban air or from high stacks]',\n",
       " 'Output:     [8.71e-11 [kg]] Cadmium (CAS 007440-43-9) [air, non-urban air or from high stacks]',\n",
       " 'Output:     [7e-15 [kg]] Dioxins, measured as 2,3,7,8-tetrachlorodibenzo-p-dioxin (CAS 001746-01-6) [air, non-urban air or from high stacks]',\n",
       " 'Output:     [0.0492 [kWh]] electricity, high voltage [By-product classification: allocatable product]',\n",
       " 'Output:     [2.85e-10 [kg]] Molybdenum (CAS 007439-98-7) [air, non-urban air or from high stacks]',\n",
       " 'Output:     [0.00267 [m3]] Water (CAS 007732-18-5) [air, unspecified]',\n",
       " 'Output:     [2e-08 [kg]] Iodine (CAS 007553-56-2) [air, non-urban air or from high stacks]',\n",
       " 'Output:     [3.5e-08 [kg]] Propane (CAS 000074-98-6) [air, non-urban air or from high stacks]',\n",
       " 'Output:     [7.95e-08 [kBq]] Thorium-228 [air, non-urban air or from high stacks]',\n",
       " 'Output:     [6.79e-07 [kg]] Hydrogen chloride (CAS 007647-01-0) [air, non-urban air or from high stacks]',\n",
       " 'Output:     [1.51e-07 [kBq]] Radium-226 [air, non-urban air or from high stacks]',\n",
       " 'Output:     [3.14e-11 [kg]] Chromium VI (CAS 018540-29-9) [air, non-urban air or from high stacks]',\n",
       " 'Output:     [0.0111 [kg]] lignite ash [By-product classification: Waste]',\n",
       " 'Output:     [2.14e-08 [kg]] Bromine (CAS 007726-95-6) [air, non-urban air or from high stacks]',\n",
       " 'Output:     [1.26e-07 [kBq]] Uranium-238 [air, non-urban air or from high stacks]',\n",
       " 'Output:     [5.41e-06 [kg]] Particulates, > 10 um [air, non-urban air or from high stacks]',\n",
       " 'Output:     [2.17e-07 [kg]] Benzene (CAS 000071-43-2) [air, non-urban air or from high stacks]',\n",
       " 'Output:     [5e-06 [kg]] residue from cooling tower [By-product classification: Waste]',\n",
       " 'Output:     [3.8e-07 [kBq]] Potassium-40 [air, non-urban air or from high stacks]',\n",
       " 'Output:     [1.07e-06 [kBq]] Polonium-210 [air, non-urban air or from high stacks]',\n",
       " 'Output:     [1.6e-06 [kg]] Boron (CAS 007440-42-8) [air, non-urban air or from high stacks]',\n",
       " 'Output:     [1e-06 [kg]] Methane, fossil (CAS 000074-82-8) [air, non-urban air or from high stacks]',\n",
       " 'Output:     [5e-07 [kg]] Dinitrogen monoxide (CAS 010024-97-2) [air, non-urban air or from high stacks]',\n",
       " 'Output:     [5.86e-07 [kBq]] Lead-210 [air, non-urban air or from high stacks]',\n",
       " 'Output:     [1.63e-10 [kg]] Antimony (CAS 007440-36-0) [air, non-urban air or from high stacks]',\n",
       " 'Output:     [6.12e-10 [kg]] Lead (CAS 007439-92-1) [air, non-urban air or from high stacks]',\n",
       " 'Output:     [0.00019 [kBq]] Radon-222 [air, non-urban air or from high stacks]',\n",
       " 'Output:     [1.9e-08 [kg]] Butane (CAS 000106-97-8) [air, non-urban air or from high stacks]',\n",
       " 'Output:     [2e-09 [kg]] Zinc (CAS 007440-66-6) [air, non-urban air or from high stacks]',\n",
       " 'Output:     [2.04e-10 [kg]] Manganese (CAS 007439-96-5) [air, non-urban air or from high stacks]',\n",
       " 'Output:     [9.1e-09 [kg]] Selenium (CAS 007782-49-2) [air, non-urban air or from high stacks]',\n",
       " 'Output:     [2e-05 [kg]] Carbon monoxide, fossil (CAS 000630-08-0) [air, non-urban air or from high stacks]',\n",
       " 'Output:     [1.48e-07 [kBq]] Radium-228 [air, non-urban air or from high stacks]',\n",
       " 'Output:     [1.78e-09 [kg]] Mercury (CAS 007439-97-6) [air, non-urban air or from high stacks]',\n",
       " 'Output:     [1.09e-07 [kg]] Toluene (CAS 000108-88-3) [air, non-urban air or from high stacks]',\n",
       " 'Output:     [2.81e-10 [kg]] Copper (CAS 007440-50-8) [air, non-urban air or from high stacks]',\n",
       " 'Output:     [6.32e-07 [kg]] Hydrogen fluoride (CAS 007664-39-3) [air, non-urban air or from high stacks]',\n",
       " 'Output:     [6.95e-06 [kg]] Particulates, < 2.5 um [air, non-urban air or from high stacks]',\n",
       " 'Output:     [0.105 [kg]] Carbon dioxide, fossil (CAS 000124-38-9) [air, non-urban air or from high stacks]',\n",
       " 'Output:     [0.000107 [kBq]] Radon-220 [air, non-urban air or from high stacks]',\n",
       " 'Output:     [0.104 [m3]] Water (CAS 007732-18-5) [water, unspecified]',\n",
       " 'Output:     [1.01e-09 [kg]] Nickel (CAS 007440-02-0) [air, non-urban air or from high stacks]',\n",
       " 'Output:     [2.19e-07 [kg]] Hydrocarbons, aliphatic, alkanes, unspecified [air, non-urban air or from high stacks]',\n",
       " 'Output:     [0.000165 [kg]] Nitrogen oxides (CAS 011104-93-1) [air, non-urban air or from high stacks]',\n",
       " 'Output:     [1.17e-09 [kg]] Arsenic (CAS 007440-38-2) [air, non-urban air or from high stacks]',\n",
       " 'Output:     [8.18e-07 [kg]] Particulates, > 2.5 um, and < 10um [air, non-urban air or from high stacks]',\n",
       " 'Output:     [3.57e-10 [kg]] Vanadium (CAS 007440-62-2) [air, non-urban air or from high stacks]',\n",
       " 'Output:     [2.04e-09 [kg]] Barium (CAS 007440-39-3) [air, non-urban air or from high stacks]',\n",
       " 'Output:     [1.47e-07 [kg]] Pentane (CAS 000109-66-0) [air, non-urban air or from high stacks]']"
      ]
     },
     "execution_count": 11,
     "metadata": {},
     "output_type": "execute_result"
    }
   ],
   "source": [
    "[str(x) for x in p.exchanges()]"
   ]
  },
  {
   "cell_type": "code",
   "execution_count": 18,
   "metadata": {
    "collapsed": false
   },
   "outputs": [
    {
     "name": "stdout",
     "output_type": "stream",
     "text": [
      "ReCiPe Midpoint (H) w/o LT, terrestrial acidification w/o LT, TAP100 w/o LT\n",
      "------------------------------------------------------------\n",
      "         1 x 0.000198   = 0.000198   Sulfur dioxide\n",
      "      0.56 x 0.000165   = 9.24e-05   Nitrogen oxides\n",
      "============================================================\n",
      "             Total score: 0.0002904 [kg SO2-Eq]\n"
     ]
    },
    {
     "data": {
      "text/plain": [
       "0.0002904"
      ]
     },
     "execution_count": 18,
     "metadata": {},
     "output_type": "execute_result"
    }
   ],
   "source": [
    "lcia(p, next(qe))"
   ]
  },
  {
   "cell_type": "markdown",
   "metadata": {},
   "source": [
    " same system model three different ways:"
   ]
  },
  {
   "cell_type": "code",
   "execution_count": 19,
   "metadata": {
    "collapsed": false
   },
   "outputs": [
    {
     "name": "stdout",
     "output_type": "stream",
     "text": [
      "Found Extension: 7z\n"
     ]
    }
   ],
   "source": [
    "E_fg = EcospoldV2Archive(os.path.join(ei_32_path, 'current_Version_3.2_apos_ecoSpold02.7z'), \n",
    "                         upstream=e, prefix='datasets')"
   ]
  },
  {
   "cell_type": "code",
   "execution_count": 20,
   "metadata": {
    "collapsed": false
   },
   "outputs": [
    {
     "name": "stdout",
     "output_type": "stream",
     "text": [
      "Found Extension: 7z\n"
     ]
    }
   ],
   "source": [
    "E_bg = EcospoldV2Archive(os.path.join(ei_32_path, 'current_Version_3.2_apos_lci_ecoSpold02.7z'), \n",
    "                         upstream=e, prefix='datasets')"
   ]
  },
  {
   "cell_type": "code",
   "execution_count": 21,
   "metadata": {
    "collapsed": false
   },
   "outputs": [
    {
     "name": "stdout",
     "output_type": "stream",
     "text": [
      "Found Extension: 7z\n"
     ]
    }
   ],
   "source": [
    "E_lcia = EcospoldV2Archive(os.path.join(ei_32_path, 'current_Version_3.2_apos_lcia_ecoSpold02.7z'), \n",
    "                           upstream=e, prefix='datasets')\n",
    "for q in e.quantities():\n",
    "    E_lcia.add(q)"
   ]
  },
  {
   "cell_type": "code",
   "execution_count": 23,
   "metadata": {
    "collapsed": true
   },
   "outputs": [],
   "source": [
    "file = E_fg.list_datasets()[28]"
   ]
  },
  {
   "cell_type": "code",
   "execution_count": 24,
   "metadata": {
    "collapsed": true
   },
   "outputs": [],
   "source": [
    "p_fg = E_fg.retrieve_or_fetch_entity(file)"
   ]
  },
  {
   "cell_type": "code",
   "execution_count": 25,
   "metadata": {
    "collapsed": false
   },
   "outputs": [
    {
     "data": {
      "text/plain": [
       "130"
      ]
     },
     "execution_count": 25,
     "metadata": {},
     "output_type": "execute_result"
    }
   ],
   "source": [
    "len([x for x in p_fg.exchanges()])"
   ]
  },
  {
   "cell_type": "code",
   "execution_count": 26,
   "metadata": {
    "collapsed": false
   },
   "outputs": [],
   "source": [
    "p_bg = E_bg.retrieve_or_fetch_entity(file)"
   ]
  },
  {
   "cell_type": "code",
   "execution_count": 27,
   "metadata": {
    "collapsed": false
   },
   "outputs": [
    {
     "data": {
      "text/plain": [
       "1879"
      ]
     },
     "execution_count": 27,
     "metadata": {},
     "output_type": "execute_result"
    }
   ],
   "source": [
    "len([x for x in p_bg.exchanges()])"
   ]
  },
  {
   "cell_type": "code",
   "execution_count": 28,
   "metadata": {
    "collapsed": false
   },
   "outputs": [],
   "source": [
    "f_lcia = E_lcia.retrieve_lcia_scores(file)"
   ]
  },
  {
   "cell_type": "code",
   "execution_count": 36,
   "metadata": {
    "collapsed": false
   },
   "outputs": [],
   "source": [
    "q = next(qe)"
   ]
  },
  {
   "cell_type": "code",
   "execution_count": 37,
   "metadata": {
    "collapsed": false
   },
   "outputs": [
    {
     "name": "stdout",
     "output_type": "stream",
     "text": [
      "IMPACT 2002+ (Endpoint), human health, respiratory effects (inorganics)\n",
      "------------------------------------------------------------\n",
      "    0.0986 x 0.000105   = 1.04e-05   Particulates, < 2.5 um\n",
      "   0.00769 x 0.0019     = 1.46e-05   Sulfur dioxide\n",
      "     0.012 x 1.35e-10   = 1.61e-12   Ammonia\n",
      "    0.0125 x 0.00212    = 2.67e-05   Nitrogen oxides\n",
      "  0.000103 x 0.00222    = 2.28e-07   Carbon monoxide, fossil\n",
      "  0.000103 x 2.55e-06   = 2.63e-10   Carbon monoxide, non-fossil\n",
      "============================================================\n",
      "             Total score: 5.18897e-05 [points]\n"
     ]
    },
    {
     "data": {
      "text/plain": [
       "5.188967521736182e-05"
      ]
     },
     "execution_count": 37,
     "metadata": {},
     "output_type": "execute_result"
    }
   ],
   "source": [
    "lcia(p_fg, q)"
   ]
  },
  {
   "cell_type": "code",
   "execution_count": 38,
   "metadata": {
    "collapsed": false
   },
   "outputs": [
    {
     "name": "stdout",
     "output_type": "stream",
     "text": [
      "IMPACT 2002+ (Endpoint), human health, respiratory effects (inorganics)\n",
      "------------------------------------------------------------\n",
      "   0.00769 x 0.00191    = 1.47e-05   Sulfur dioxide\n",
      "     0.012 x 7.84e-08   = 9.39e-10   Ammonia\n",
      "   0.00769 x 9.24e-07   = 7.1e-09    Sulfur dioxide\n",
      "    0.0125 x 3.38e-06   = 4.24e-08   Nitrogen oxides\n",
      "    0.0125 x 8.06e-13   = 1.01e-14   Nitrogen oxides\n",
      "    0.0125 x 1.69e-06   = 2.12e-08   Nitrogen oxides\n",
      "  0.000103 x 7.26e-07   = 7.47e-11   Carbon monoxide, fossil\n",
      "  0.000103 x 0.00233    = 2.39e-07   Carbon monoxide, fossil\n",
      "    0.0986 x 0.000106   = 1.04e-05   Particulates, < 2.5 um\n",
      "  0.000103 x 2.01e-06   = 2.07e-10   Carbon monoxide, fossil\n",
      "    0.0986 x 1.38e-07   = 1.37e-08   Particulates, < 2.5 um\n",
      "     0.012 x 7.09e-09   = 8.49e-11   Ammonia\n",
      "   0.00615 x 9.68e-13   = 5.96e-15   Sulfur trioxide\n",
      "   0.00769 x 3.49e-06   = 2.68e-08   Sulfur dioxide\n",
      "     0.012 x 5.35e-12   = 6.41e-14   Ammonia\n",
      "  0.000103 x 6.06e-09   = 6.24e-13   Carbon monoxide, non-fossil\n",
      "  0.000103 x 1.05e-11   = 1.08e-15   Carbon monoxide, non-fossil\n",
      "  0.000103 x 3.29e-06   = 3.38e-10   Carbon monoxide, non-fossil\n",
      "    0.0986 x 1.25e-06   = 1.23e-07   Particulates, < 2.5 um\n",
      "     0.012 x 8.09e-08   = 9.69e-10   Ammonia\n",
      "    0.0125 x 0.00213    = 2.67e-05   Nitrogen oxides\n",
      "    0.0986 x 1.65e-09   = 1.62e-10   Particulates, < 2.5 um\n",
      "   0.00615 x 5.47e-14   = 3.37e-16   Sulfur trioxide\n",
      "============================================================\n",
      "             Total score: 5.22637e-05 [points]\n",
      "aggregated result: 5.22637e-05\n"
     ]
    }
   ],
   "source": [
    "lcia(p_bg, q)\n",
    "print('aggregated result: %g' %f_lcia.cf(q))"
   ]
  },
  {
   "cell_type": "markdown",
   "metadata": {},
   "source": [
    "### Okay, now sugarbeets"
   ]
  },
  {
   "cell_type": "code",
   "execution_count": 22,
   "metadata": {
    "collapsed": false
   },
   "outputs": [
    {
     "name": "stdout",
     "output_type": "stream",
     "text": [
      "Loading JSON data from /home/b/GitHub/lca-tools-datafiles/catalogs/ecoinvent_3.2_apos_xlsx.json.gz:\n",
      "**Upstream reference encountered: /home/b/Dropbox/data/Ecoinvent/3.2/activity_overview_for_users_3.2_undefined.xlsx\n",
      "\n",
      "718 new quantity entities added (718 total)\n",
      "6767 new flow entities added (6767 total)\n",
      "11420 new process entities added (11420 total)\n"
     ]
    }
   ],
   "source": [
    "ei_foreground = archive_from_json(os.path.join(catalog_dir, 'ecoinvent_3.2_apos_xlsx.json.gz'))"
   ]
  },
  {
   "cell_type": "code",
   "execution_count": 23,
   "metadata": {
    "collapsed": false
   },
   "outputs": [],
   "source": [
    "results = ei_foreground.search(Name=['sugar','beet'])"
   ]
  },
  {
   "cell_type": "code",
   "execution_count": 24,
   "metadata": {
    "collapsed": true
   },
   "outputs": [],
   "source": [
    "def show(search):\n",
    "    for i, k in enumerate(search):\n",
    "        print('%3d: %s' % (i, k))"
   ]
  },
  {
   "cell_type": "code",
   "execution_count": 25,
   "metadata": {
    "collapsed": false
   },
   "outputs": [
    {
     "name": "stdout",
     "output_type": "stream",
     "text": [
      "  0: market for sugar, from sugar beet [GLO]\n",
      "  1: sugar beet pulp [Intermediate flow]\n",
      "  2: market for sugar beet [GLO]\n",
      "  3: ethanol production from sugar beet [CH]\n",
      "  4: field application of vinasse, from fermentation of sugar beet [GLO]\n",
      "  5: market for vinasse, from fermentation of sugar beet [GLO]\n",
      "  6: ethanol production from sugar beet molasses [RoW]\n",
      "  7: sugar beet seed production, for sowing [GLO]\n",
      "  8: sugar beet pulp to generic market for energy feed [GLO]\n",
      "  9: market for sugar beet pulp [GLO]\n",
      " 10: molasses, from sugar beet [Intermediate flow]\n",
      " 11: sugar, from sugar beet [Intermediate flow]\n",
      " 12: sugar beet production [CH]\n",
      " 13: sugar beet seed, for sowing [Intermediate flow]\n",
      " 14: market for sugar beet seed, for sowing [GLO]\n",
      " 15: ethanol production from sugar beet [RoW]\n",
      " 16: vinasse, from fermentation of sugar beet molasses [Intermediate flow]\n",
      " 17: market for molasses, from sugar beet [GLO]\n",
      " 18: ethanol production from sugar beet molasses [CH]\n",
      " 19: market for vinasse, from fermentation of sugar beet molasses [GLO]\n",
      " 20: field application of vinasse, from fermentation of sugar beet molasses [GLO]\n",
      " 21: beet sugar production [CH]\n",
      " 22: sugar beet production [RoW]\n",
      " 23: beet sugar production [RoW]\n",
      " 24: sugar beet [Intermediate flow]\n",
      " 25: vinasse, from fermentation of sugar beet [Intermediate flow]\n",
      " 26: molasses, from sugar beet, to generic market for energy feed [GLO]\n"
     ]
    }
   ],
   "source": [
    "show(results)"
   ]
  },
  {
   "cell_type": "code",
   "execution_count": 26,
   "metadata": {
    "collapsed": false
   },
   "outputs": [
    {
     "data": {
      "text/plain": [
       "['b2c33b9b-1091-4bed-92a3-decec3b8bd78_7cb72345-4338-4f2d-830f-65bba3530fdb.spold',\n",
       " 'b2c33b9b-1091-4bed-92a3-decec3b8bd78_8b2dfb58-660d-44eb-b83f-5d9e28e467db.spold',\n",
       " 'b2c33b9b-1091-4bed-92a3-decec3b8bd78_e98c4987-0c27-4ad8-aa06-568bea573460.spold']"
      ]
     },
     "execution_count": 26,
     "metadata": {},
     "output_type": "execute_result"
    }
   ],
   "source": [
    "E_fg.list_datasets(results[8].get_uuid())"
   ]
  },
  {
   "cell_type": "code",
   "execution_count": 27,
   "metadata": {
    "collapsed": false
   },
   "outputs": [],
   "source": [
    "for f in E_fg.list_datasets(results[8].get_uuid()):\n",
    "    E_fg.retrieve_or_fetch_entity(f)"
   ]
  },
  {
   "cell_type": "code",
   "execution_count": 28,
   "metadata": {
    "collapsed": false
   },
   "outputs": [
    {
     "data": {
      "text/plain": [
       "[{<lcatools.exchanges.Exchange at 0x7f67a6944518>,\n",
       "  <lcatools.exchanges.Exchange at 0x7f67a7a1f668>,\n",
       "  <lcatools.exchanges.Exchange at 0x7f67a69446a0>}]"
      ]
     },
     "execution_count": 28,
     "metadata": {},
     "output_type": "execute_result"
    }
   ],
   "source": [
    "[x.reference_entity for x in E_fg.processes('b2c33')]"
   ]
  },
  {
   "cell_type": "code",
   "execution_count": 29,
   "metadata": {
    "collapsed": true
   },
   "outputs": [],
   "source": [
    "p = E_fg['b2c33b9b-1091-4bed-92a3-decec3b8bd78']"
   ]
  },
  {
   "cell_type": "code",
   "execution_count": 30,
   "metadata": {
    "collapsed": false
   },
   "outputs": [],
   "source": [
    "pulp_to_energy = list(p.reference_entity)"
   ]
  },
  {
   "cell_type": "code",
   "execution_count": 31,
   "metadata": {
    "collapsed": false
   },
   "outputs": [
    {
     "data": {
      "text/plain": [
       "{'CasNumber': None,\n",
       " 'Comment': 'EcoSpold02 Flow',\n",
       " 'Compartment': ['By-product classification: allocatable product'],\n",
       " 'Name': 'protein feed, 100% crude',\n",
       " 'characterizations': [{'isReference': True,\n",
       "   'quantity': '487df68b-4994-4027-8fdc-a4dc298257b7'}],\n",
       " 'entityId': '8b2dfb58-660d-44eb-b83f-5d9e28e467db',\n",
       " 'entityType': 'flow',\n",
       " 'externalId': '8b2dfb58-660d-44eb-b83f-5d9e28e467db',\n",
       " 'origin': '/home/b/Dropbox/data/Ecoinvent/3.2/current_Version_3.2_apos_ecoSpold02.7z'}"
      ]
     },
     "execution_count": 31,
     "metadata": {},
     "output_type": "execute_result"
    }
   ],
   "source": [
    "pulp_to_energy[2].flow.serialize(characterizations=True)"
   ]
  },
  {
   "cell_type": "code",
   "execution_count": 32,
   "metadata": {
    "collapsed": false
   },
   "outputs": [
    {
     "data": {
      "text/plain": [
       "[' Input:     [-0.00185 [kg]] molasses, from sugar beet [By-product classification: allocatable product] (#)',\n",
       " ' Input:     [0.00335 [kg]] Carbon dioxide, in air (CAS 000124-38-9) [natural resource, in air]',\n",
       " ' Input:     [-8.95e-05 [m3]] wastewater, from residence [By-product classification: Waste] (#)',\n",
       " ' Input:     [-0.104 [kg]] vinasse, from fermentation of sugar beet [By-product classification: Recyclable] (#)',\n",
       " ' Input:     [7.46e-12 [unit]] ethanol fermentation plant [By-product classification: allocatable product] (#)',\n",
       " ' Input:     [8.07e-13 [unit]] sugar refinery [By-product classification: allocatable product] (#)',\n",
       " ' Input:     [8.79e-09 [m3]] Water, cooling, unspecified natural origin (CAS 007732-18-5) [natural resource, in water]',\n",
       " ' Input:     [-0.00188 [kg]] limestone residue [By-product classification: Waste] (#)',\n",
       " ' Input:     [0.000506 [kg]] sulfuric acid [By-product classification: allocatable product] (#)',\n",
       " ' Input:     [0.00149 [kg]] lime [By-product classification: allocatable product] (#)',\n",
       " ' Input:     [0.0363 [kg]] tap water (CAS 7732-18-5) [By-product classification: allocatable product] (#)',\n",
       " ' Input:     [0.00241 [kWh]] electricity, medium voltage [By-product classification: allocatable product] (#)',\n",
       " ' Input:     [4.77e-06 [kg]] chemical, organic [By-product classification: allocatable product] (#)',\n",
       " ' Input:     [0.084 [kg]] sugar beet [By-product classification: allocatable product] (#)',\n",
       " ' Input:     [0.00504 [MJ]] heat, central or small-scale, other than natural gas [By-product classification: allocatable product] (#)',\n",
       " ' Input:     [0.0353 [MJ]] heat, district or industrial, natural gas [By-product classification: allocatable product] (#)',\n",
       " ' Input:     [0.135 [kg]] sugar beet [By-product classification: allocatable product] (#)',\n",
       " ' Input:     [3.35e-05 [kg]] sodium sulfate, anhydrite (CAS 7757-82-6) [By-product classification: allocatable product] (#)',\n",
       " ' Input:     [0.00504 [MJ]] heat, central or small-scale, other than natural gas [By-product classification: allocatable product] (#)',\n",
       " ' Input:     [0.0363 [kg]] tap water (CAS 7732-18-5) [By-product classification: allocatable product] (#)',\n",
       " ' Input:     [3.35e-05 [kg]] sodium sulfate, anhydrite (CAS 7757-82-6) [By-product classification: allocatable product] (#)',\n",
       " ' Input:     [0.000514 [metric ton*km]] transport, tractor and trailer, agricultural [By-product classification: allocatable product] (#)',\n",
       " ' Input:     [1.78e-05 [kg]] soda ash, light, crystalline, heptahydrate (CAS 497-19-8) [By-product classification: allocatable product] (#)',\n",
       " ' Input:     [0.000129 [MJ]] coke [By-product classification: allocatable product] (#)',\n",
       " ' Input:     [6.87e-06 [kg]] chemical, inorganic [By-product classification: allocatable product] (#)',\n",
       " ' Input:     [0.00241 [kWh]] electricity, medium voltage [By-product classification: allocatable product] (#)',\n",
       " ' Input:     [0.0353 [MJ]] heat, district or industrial, natural gas [By-product classification: allocatable product] (#)',\n",
       " ' Input:     [-0.0379 [kg]] sugar beet pulp [By-product classification: allocatable product] (#)',\n",
       " ' Input:     [0.0001 [kg]] sodium phosphate (CAS 7601-54-9) [By-product classification: allocatable product] (#)',\n",
       " 'Output: {*} [1 [MJ]] energy feed, gross [By-product classification: allocatable product]',\n",
       " 'Output:     [0.0174 [kg]] Carbon dioxide, non-fossil (CAS 000124-38-9) [air, urban air close to ground]',\n",
       " 'Output: {*} [1 [kg]] protein feed, 100% crude [By-product classification: allocatable product]',\n",
       " 'Output: {*} [-1 [kg]] sugar beet pulp [By-product classification: allocatable product]',\n",
       " 'Output:     [1.92e-05 [m3]] Water (CAS 007732-18-5) [air, unspecified]',\n",
       " 'Output:     [1.6e-05 [m3]] Water (CAS 007732-18-5) [water, unspecified]']"
      ]
     },
     "execution_count": 32,
     "metadata": {},
     "output_type": "execute_result"
    }
   ],
   "source": [
    "[str(x) for x in p.exchanges()]"
   ]
  },
  {
   "cell_type": "code",
   "execution_count": 33,
   "metadata": {
    "collapsed": true
   },
   "outputs": [],
   "source": [
    "def exch_to_spold(exch):\n",
    "    return '%s_%s.spold' % (exch.process.get_uuid(), exch.flow.get_uuid())"
   ]
  },
  {
   "cell_type": "code",
   "execution_count": 34,
   "metadata": {
    "collapsed": true
   },
   "outputs": [],
   "source": [
    "p_lcia = E_lcia.retrieve_lcia_scores(exch_to_spold(pulp_to_energy[0]))"
   ]
  },
  {
   "cell_type": "code",
   "execution_count": 37,
   "metadata": {
    "collapsed": false
   },
   "outputs": [],
   "source": [
    "_cf = (str(x) for x in p_lcia.characterizations())"
   ]
  },
  {
   "cell_type": "code",
   "execution_count": 43,
   "metadata": {
    "collapsed": false
   },
   "outputs": [
    {
     "data": {
      "text/plain": [
       "'energy feed, gross [By-product classification: allocatable product]: [0.000293 [points]] LC quantity: ReCiPe Endpoint (H,A) w/o LT, ecosystem quality w/o LT, climate change, ecosystems w/o LT'"
      ]
     },
     "execution_count": 43,
     "metadata": {},
     "output_type": "execute_result"
    }
   ],
   "source": [
    "next(_cf)"
   ]
  },
  {
   "cell_type": "code",
   "execution_count": null,
   "metadata": {
    "collapsed": true
   },
   "outputs": [],
   "source": []
  },
  {
   "cell_type": "code",
   "execution_count": null,
   "metadata": {
    "collapsed": true
   },
   "outputs": [],
   "source": []
  },
  {
   "cell_type": "code",
   "execution_count": 44,
   "metadata": {
    "collapsed": false
   },
   "outputs": [
    {
     "name": "stdout",
     "output_type": "stream",
     "text": [
      "CPU times: user 810 ms, sys: 2.5 s, total: 3.31 s\n",
      "Wall time: 10.2 s\n"
     ]
    }
   ],
   "source": [
    "%time o = E_lcia.objectify(exch_to_spold(pulp_to_energy[1]))"
   ]
  },
  {
   "cell_type": "code",
   "execution_count": 45,
   "metadata": {
    "collapsed": false
   },
   "outputs": [
    {
     "name": "stdout",
     "output_type": "stream",
     "text": [
      "CPU times: user 50 ms, sys: 0 ns, total: 50 ms\n",
      "Wall time: 68.2 ms\n"
     ]
    }
   ],
   "source": [
    "%time cfs = E_lcia._collect_impact_scores(o)"
   ]
  },
  {
   "cell_type": "code",
   "execution_count": 46,
   "metadata": {
    "collapsed": false
   },
   "outputs": [
    {
     "data": {
      "text/plain": [
       "701"
      ]
     },
     "execution_count": 46,
     "metadata": {},
     "output_type": "execute_result"
    }
   ],
   "source": [
    "len(cfs)"
   ]
  },
  {
   "cell_type": "code",
   "execution_count": 50,
   "metadata": {
    "collapsed": true
   },
   "outputs": [],
   "source": [
    "def tagslist():\n",
    "    tags = dict()\n",
    "    for q in E_lcia.quantities():\n",
    "        if 'Method' in q.keys():\n",
    "            tags[q['Name']] = q\n",
    "    return tags"
   ]
  },
  {
   "cell_type": "code",
   "execution_count": 51,
   "metadata": {
    "collapsed": false
   },
   "outputs": [
    {
     "name": "stdout",
     "output_type": "stream",
     "text": [
      "CPU times: user 0 ns, sys: 0 ns, total: 0 ns\n",
      "Wall time: 7.05 ms\n"
     ]
    }
   ],
   "source": [
    "%time tags = tagslist()"
   ]
  },
  {
   "cell_type": "code",
   "execution_count": 53,
   "metadata": {
    "collapsed": false
   },
   "outputs": [
    {
     "ename": "NameError",
     "evalue": "name 'spold_reference_flow' is not defined",
     "output_type": "error",
     "traceback": [
      "\u001b[1;31m---------------------------------------------------------------------------\u001b[0m",
      "\u001b[1;31mNameError\u001b[0m                                 Traceback (most recent call last)",
      "\u001b[1;32m<ipython-input-53-e8344f1481e6>\u001b[0m in \u001b[0;36m<module>\u001b[1;34m()\u001b[0m\n\u001b[1;32m----> 1\u001b[1;33m \u001b[0mget_ipython\u001b[0m\u001b[1;33m(\u001b[0m\u001b[1;33m)\u001b[0m\u001b[1;33m.\u001b[0m\u001b[0mmagic\u001b[0m\u001b[1;33m(\u001b[0m\u001b[1;34m'time rf = E_lcia._grab_reference_flow(o, spold_reference_flow(filename))'\u001b[0m\u001b[1;33m)\u001b[0m\u001b[1;33m\u001b[0m\u001b[0m\n\u001b[0m",
      "\u001b[1;32m/home/b/.virtualenvs/lca-tools/lib/python3.5/site-packages/IPython/core/interactiveshell.py\u001b[0m in \u001b[0;36mmagic\u001b[1;34m(self, arg_s)\u001b[0m\n\u001b[0;32m   2161\u001b[0m         \u001b[0mmagic_name\u001b[0m\u001b[1;33m,\u001b[0m \u001b[0m_\u001b[0m\u001b[1;33m,\u001b[0m \u001b[0mmagic_arg_s\u001b[0m \u001b[1;33m=\u001b[0m \u001b[0marg_s\u001b[0m\u001b[1;33m.\u001b[0m\u001b[0mpartition\u001b[0m\u001b[1;33m(\u001b[0m\u001b[1;34m' '\u001b[0m\u001b[1;33m)\u001b[0m\u001b[1;33m\u001b[0m\u001b[0m\n\u001b[0;32m   2162\u001b[0m         \u001b[0mmagic_name\u001b[0m \u001b[1;33m=\u001b[0m \u001b[0mmagic_name\u001b[0m\u001b[1;33m.\u001b[0m\u001b[0mlstrip\u001b[0m\u001b[1;33m(\u001b[0m\u001b[0mprefilter\u001b[0m\u001b[1;33m.\u001b[0m\u001b[0mESC_MAGIC\u001b[0m\u001b[1;33m)\u001b[0m\u001b[1;33m\u001b[0m\u001b[0m\n\u001b[1;32m-> 2163\u001b[1;33m         \u001b[1;32mreturn\u001b[0m \u001b[0mself\u001b[0m\u001b[1;33m.\u001b[0m\u001b[0mrun_line_magic\u001b[0m\u001b[1;33m(\u001b[0m\u001b[0mmagic_name\u001b[0m\u001b[1;33m,\u001b[0m \u001b[0mmagic_arg_s\u001b[0m\u001b[1;33m)\u001b[0m\u001b[1;33m\u001b[0m\u001b[0m\n\u001b[0m\u001b[0;32m   2164\u001b[0m \u001b[1;33m\u001b[0m\u001b[0m\n\u001b[0;32m   2165\u001b[0m     \u001b[1;31m#-------------------------------------------------------------------------\u001b[0m\u001b[1;33m\u001b[0m\u001b[1;33m\u001b[0m\u001b[0m\n",
      "\u001b[1;32m/home/b/.virtualenvs/lca-tools/lib/python3.5/site-packages/IPython/core/interactiveshell.py\u001b[0m in \u001b[0;36mrun_line_magic\u001b[1;34m(self, magic_name, line)\u001b[0m\n\u001b[0;32m   2082\u001b[0m                 \u001b[0mkwargs\u001b[0m\u001b[1;33m[\u001b[0m\u001b[1;34m'local_ns'\u001b[0m\u001b[1;33m]\u001b[0m \u001b[1;33m=\u001b[0m \u001b[0msys\u001b[0m\u001b[1;33m.\u001b[0m\u001b[0m_getframe\u001b[0m\u001b[1;33m(\u001b[0m\u001b[0mstack_depth\u001b[0m\u001b[1;33m)\u001b[0m\u001b[1;33m.\u001b[0m\u001b[0mf_locals\u001b[0m\u001b[1;33m\u001b[0m\u001b[0m\n\u001b[0;32m   2083\u001b[0m             \u001b[1;32mwith\u001b[0m \u001b[0mself\u001b[0m\u001b[1;33m.\u001b[0m\u001b[0mbuiltin_trap\u001b[0m\u001b[1;33m:\u001b[0m\u001b[1;33m\u001b[0m\u001b[0m\n\u001b[1;32m-> 2084\u001b[1;33m                 \u001b[0mresult\u001b[0m \u001b[1;33m=\u001b[0m \u001b[0mfn\u001b[0m\u001b[1;33m(\u001b[0m\u001b[1;33m*\u001b[0m\u001b[0margs\u001b[0m\u001b[1;33m,\u001b[0m\u001b[1;33m**\u001b[0m\u001b[0mkwargs\u001b[0m\u001b[1;33m)\u001b[0m\u001b[1;33m\u001b[0m\u001b[0m\n\u001b[0m\u001b[0;32m   2085\u001b[0m             \u001b[1;32mreturn\u001b[0m \u001b[0mresult\u001b[0m\u001b[1;33m\u001b[0m\u001b[0m\n\u001b[0;32m   2086\u001b[0m \u001b[1;33m\u001b[0m\u001b[0m\n",
      "\u001b[1;32m<decorator-gen-60>\u001b[0m in \u001b[0;36mtime\u001b[1;34m(self, line, cell, local_ns)\u001b[0m\n",
      "\u001b[1;32m/home/b/.virtualenvs/lca-tools/lib/python3.5/site-packages/IPython/core/magic.py\u001b[0m in \u001b[0;36m<lambda>\u001b[1;34m(f, *a, **k)\u001b[0m\n\u001b[0;32m    191\u001b[0m     \u001b[1;31m# but it's overkill for just that one bit of state.\u001b[0m\u001b[1;33m\u001b[0m\u001b[1;33m\u001b[0m\u001b[0m\n\u001b[0;32m    192\u001b[0m     \u001b[1;32mdef\u001b[0m \u001b[0mmagic_deco\u001b[0m\u001b[1;33m(\u001b[0m\u001b[0marg\u001b[0m\u001b[1;33m)\u001b[0m\u001b[1;33m:\u001b[0m\u001b[1;33m\u001b[0m\u001b[0m\n\u001b[1;32m--> 193\u001b[1;33m         \u001b[0mcall\u001b[0m \u001b[1;33m=\u001b[0m \u001b[1;32mlambda\u001b[0m \u001b[0mf\u001b[0m\u001b[1;33m,\u001b[0m \u001b[1;33m*\u001b[0m\u001b[0ma\u001b[0m\u001b[1;33m,\u001b[0m \u001b[1;33m**\u001b[0m\u001b[0mk\u001b[0m\u001b[1;33m:\u001b[0m \u001b[0mf\u001b[0m\u001b[1;33m(\u001b[0m\u001b[1;33m*\u001b[0m\u001b[0ma\u001b[0m\u001b[1;33m,\u001b[0m \u001b[1;33m**\u001b[0m\u001b[0mk\u001b[0m\u001b[1;33m)\u001b[0m\u001b[1;33m\u001b[0m\u001b[0m\n\u001b[0m\u001b[0;32m    194\u001b[0m \u001b[1;33m\u001b[0m\u001b[0m\n\u001b[0;32m    195\u001b[0m         \u001b[1;32mif\u001b[0m \u001b[0mcallable\u001b[0m\u001b[1;33m(\u001b[0m\u001b[0marg\u001b[0m\u001b[1;33m)\u001b[0m\u001b[1;33m:\u001b[0m\u001b[1;33m\u001b[0m\u001b[0m\n",
      "\u001b[1;32m/home/b/.virtualenvs/lca-tools/lib/python3.5/site-packages/IPython/core/magics/execution.py\u001b[0m in \u001b[0;36mtime\u001b[1;34m(self, line, cell, local_ns)\u001b[0m\n\u001b[0;32m   1175\u001b[0m         \u001b[1;32melse\u001b[0m\u001b[1;33m:\u001b[0m\u001b[1;33m\u001b[0m\u001b[0m\n\u001b[0;32m   1176\u001b[0m             \u001b[0mst\u001b[0m \u001b[1;33m=\u001b[0m \u001b[0mclock2\u001b[0m\u001b[1;33m(\u001b[0m\u001b[1;33m)\u001b[0m\u001b[1;33m\u001b[0m\u001b[0m\n\u001b[1;32m-> 1177\u001b[1;33m             \u001b[0mexec\u001b[0m\u001b[1;33m(\u001b[0m\u001b[0mcode\u001b[0m\u001b[1;33m,\u001b[0m \u001b[0mglob\u001b[0m\u001b[1;33m,\u001b[0m \u001b[0mlocal_ns\u001b[0m\u001b[1;33m)\u001b[0m\u001b[1;33m\u001b[0m\u001b[0m\n\u001b[0m\u001b[0;32m   1178\u001b[0m             \u001b[0mend\u001b[0m \u001b[1;33m=\u001b[0m \u001b[0mclock2\u001b[0m\u001b[1;33m(\u001b[0m\u001b[1;33m)\u001b[0m\u001b[1;33m\u001b[0m\u001b[0m\n\u001b[0;32m   1179\u001b[0m             \u001b[0mout\u001b[0m \u001b[1;33m=\u001b[0m \u001b[1;32mNone\u001b[0m\u001b[1;33m\u001b[0m\u001b[0m\n",
      "\u001b[1;32m<timed exec>\u001b[0m in \u001b[0;36m<module>\u001b[1;34m()\u001b[0m\n",
      "\u001b[1;31mNameError\u001b[0m: name 'spold_reference_flow' is not defined"
     ]
    }
   ],
   "source": [
    "\n"
   ]
  }
 ],
 "metadata": {
  "kernelspec": {
   "display_name": "Python 3",
   "language": "python",
   "name": "python3"
  },
  "language_info": {
   "codemirror_mode": {
    "name": "ipython",
    "version": 3
   },
   "file_extension": ".py",
   "mimetype": "text/x-python",
   "name": "python",
   "nbconvert_exporter": "python",
   "pygments_lexer": "ipython3",
   "version": "3.5.1"
  }
 },
 "nbformat": 4,
 "nbformat_minor": 0
}
