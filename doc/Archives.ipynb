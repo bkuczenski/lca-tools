{
 "cells": [
  {
   "cell_type": "code",
   "execution_count": 1,
   "metadata": {
    "collapsed": true
   },
   "outputs": [],
   "source": [
    "import sys\n",
    "sys.path.append('..')\n",
    "\n",
    "import os\n",
    "from os.path import expanduser\n"
   ]
  },
  {
   "cell_type": "code",
   "execution_count": 2,
   "metadata": {
    "collapsed": true
   },
   "outputs": [],
   "source": [
    "from lxml import objectify"
   ]
  },
  {
   "cell_type": "code",
   "execution_count": 3,
   "metadata": {
    "collapsed": false
   },
   "outputs": [],
   "source": [
    "from lcatools.providers import archive"
   ]
  },
  {
   "cell_type": "code",
   "execution_count": 4,
   "metadata": {
    "collapsed": true
   },
   "outputs": [],
   "source": [
    "EI_MODELS = ('apos', 'consequential_longterm', 'cutoff', 'undefined')\n",
    "\n",
    "system_model = 'undefined'\n",
    "EI_VERSION = '3.2'\n",
    "DATA_ROOT = os.path.join(expanduser('~'), 'Dropbox', 'data', 'Ecoinvent', EI_VERSION)\n",
    "EI_ARCHIVE = 'current_Version_' + EI_VERSION + '_' + system_model + '_ecoSpold02.7z'"
   ]
  },
  {
   "cell_type": "code",
   "execution_count": 5,
   "metadata": {
    "collapsed": false
   },
   "outputs": [],
   "source": [
    "TEST_7Z = os.path.join(DATA_ROOT, EI_ARCHIVE)\n",
    "TEST_DIR = '/data/LCI/Ecoinvent'\n",
    "TEST_ZIP = '/data/LCI/USLCI-ILCD.zip'\n",
    "TEST_HTTP = 'http://gabi-documentation-2014.gabi-software.com/xml-data/'"
   ]
  },
  {
   "cell_type": "markdown",
   "metadata": {},
   "source": [
    "# 7z file (ecoinvent)"
   ]
  },
  {
   "cell_type": "code",
   "execution_count": 6,
   "metadata": {
    "collapsed": false
   },
   "outputs": [
    {
     "name": "stdout",
     "output_type": "stream",
     "text": [
      "Found Extension: 7z\n"
     ]
    }
   ],
   "source": [
    "g = archive.Archive(TEST_7Z)"
   ]
  },
  {
   "cell_type": "code",
   "execution_count": 7,
   "metadata": {
    "collapsed": false
   },
   "outputs": [
    {
     "data": {
      "text/plain": [
       "['datasets - public']"
      ]
     },
     "execution_count": 7,
     "metadata": {},
     "output_type": "execute_result"
    }
   ],
   "source": [
    "g.prefixes"
   ]
  },
  {
   "cell_type": "code",
   "execution_count": 8,
   "metadata": {
    "collapsed": false
   },
   "outputs": [
    {
     "data": {
      "text/plain": [
       "['datasets - public/00093951-0c71-4a74-96d8-ece56003838a_b335722e-f52e-44cd-b335-a6686c7fe3ab.spold',\n",
       " 'datasets - public/000b493f-5e76-4fe0-93ca-73b49263c1fc_29fbcb1d-79ca-45df-8eec-3e51bb95979d.spold',\n",
       " 'datasets - public/001a7c31-a39b-4606-9877-d6cfc36e5fd8_47e8f15f-6a0b-4ec5-be7d-8965ce014081.spold',\n",
       " 'datasets - public/001b83bb-d07c-4c91-90c1-5a9437badf06_089f5c04-e340-42c4-bf9c-e8ec6174443a.spold',\n",
       " 'datasets - public/001fa547-fbbd-4172-9492-0f58076c4553_7f56554d-e090-4df5-b538-3a235b534353.spold',\n",
       " 'datasets - public/002da2f2-595b-427e-ae3a-3f7dcd769715_6eb408db-980a-4b9e-82a8-b6dca183ec35.spold',\n",
       " 'datasets - public/002f9105-f892-4241-9c45-b3b7d68a9c72_99e47244-0ecd-4d45-8d79-f4e3cb384d05.spold',\n",
       " 'datasets - public/00352317-8629-4778-96a7-abfa11c1face_dcb70fd5-e305-4920-b68b-40697cc6a206.spold',\n",
       " 'datasets - public/0036e50d-8e5b-438c-b94c-4ee40350362b_66c93e71-f32b-4591-901c-55395db5c132.spold',\n",
       " 'datasets - public/003ad59e-1069-4a8f-ada1-6785cf19e74b_77c1da70-f6b7-47eb-a986-4d70a4bf31a1.spold']"
      ]
     },
     "execution_count": 8,
     "metadata": {},
     "output_type": "execute_result"
    }
   ],
   "source": [
    "g.listfiles()[:10]"
   ]
  },
  {
   "cell_type": "code",
   "execution_count": 9,
   "metadata": {
    "collapsed": false
   },
   "outputs": [],
   "source": [
    "d = g.readfile('datasets - public/0036e50d-8e5b-438c-b94c-4ee40350362b_66c93e71-f32b-4591-901c-55395db5c132.spold')"
   ]
  },
  {
   "cell_type": "code",
   "execution_count": 10,
   "metadata": {
    "collapsed": false
   },
   "outputs": [
    {
     "data": {
      "text/plain": [
       "227834"
      ]
     },
     "execution_count": 10,
     "metadata": {},
     "output_type": "execute_result"
    }
   ],
   "source": [
    "len(d)"
   ]
  },
  {
   "cell_type": "code",
   "execution_count": 11,
   "metadata": {
    "collapsed": false
   },
   "outputs": [
    {
     "data": {
      "text/plain": [
       "bytes"
      ]
     },
     "execution_count": 11,
     "metadata": {},
     "output_type": "execute_result"
    }
   ],
   "source": [
    "type(d)"
   ]
  },
  {
   "cell_type": "code",
   "execution_count": 12,
   "metadata": {
    "collapsed": true
   },
   "outputs": [],
   "source": [
    "o = objectify.fromstring(d)"
   ]
  },
  {
   "cell_type": "code",
   "execution_count": 13,
   "metadata": {
    "collapsed": false
   },
   "outputs": [
    {
     "data": {
      "text/plain": [
       "[<Element {http://www.EcoInvent.org/EcoSpold02}childActivityDataset at 0x7f58a1e148c8>]"
      ]
     },
     "execution_count": 13,
     "metadata": {},
     "output_type": "execute_result"
    }
   ],
   "source": [
    "o.getchildren()"
   ]
  },
  {
   "cell_type": "code",
   "execution_count": 14,
   "metadata": {
    "collapsed": false
   },
   "outputs": [
    {
     "data": {
      "text/plain": [
       "11552"
      ]
     },
     "execution_count": 14,
     "metadata": {},
     "output_type": "execute_result"
    }
   ],
   "source": [
    "g.countfiles()"
   ]
  },
  {
   "cell_type": "markdown",
   "metadata": {},
   "source": [
    "literal directory\n",
    "====="
   ]
  },
  {
   "cell_type": "code",
   "execution_count": 15,
   "metadata": {
    "collapsed": false
   },
   "outputs": [],
   "source": [
    "h = archive.Archive(TEST_DIR)"
   ]
  },
  {
   "cell_type": "code",
   "execution_count": 16,
   "metadata": {
    "collapsed": false
   },
   "outputs": [
    {
     "data": {
      "text/plain": [
       "['3.2/.~lock.activity_overview_for_users_3.2_undefined.xlsx#',\n",
       " '3.2/activity_overview_for_users_3.2_apos.xlsx',\n",
       " '3.2/activity_overview_for_users_3.2_consequential.xlsx',\n",
       " '3.2/activity_overview_for_users_3.2_cut-off.xlsx',\n",
       " '3.2/activity_overview_for_users_3.2_undefined.xlsx',\n",
       " '3.2/cutoff-files',\n",
       " '3.2/ecoinvent elementary flows 3.2.xml',\n",
       " '3.2/cutoff/FilenameToActivtiyLookup.csv',\n",
       " '3.2/cutoff/datasets/00009573-c174-463a-8ebf-183ec587ba0d_7cb72345-4338-4f2d-830f-65bba3530fdb.spold',\n",
       " '3.2/cutoff/datasets/00137c74-429d-4cd4-b9be-c70e88f0d3a7_6f13ac10-76f1-42c1-a46e-7dabda411274.spold',\n",
       " '3.2/cutoff/datasets/00137c74-429d-4cd4-b9be-c70e88f0d3a7_aabed306-e9a0-4441-86ac-5936fe671ed2.spold',\n",
       " '3.2/cutoff/datasets/001b1457-2b18-48de-913a-dee0f3064bb3_cb388ab7-cbc9-412f-ab11-811c808a8004.spold',\n",
       " '3.2/cutoff/datasets/0023ecb0-cb93-446b-a181-e307571b203c_db14b1bf-6c5e-4db1-833e-6bf331874714.spold',\n",
       " '3.2/cutoff/datasets/0036e50d-8e5b-438c-b94c-4ee40350362b_66c93e71-f32b-4591-901c-55395db5c132.spold',\n",
       " '3.2/cutoff/datasets/003b13f0-18f4-467d-91a6-4201072dadaa_759b89bd-3aa6-42ad-b767-5bb9ef5d331d.spold',\n",
       " '3.2/cutoff/datasets/003f9a31-c540-4351-a434-3b1b1c791b99_66c93e71-f32b-4591-901c-55395db5c132.spold',\n",
       " '3.2/cutoff/datasets/00420798-e9d1-4de9-8745-09bd85f31db8_71e2f1db-a2c5-44d0-8337-dfff15be974d.spold',\n",
       " '3.2/cutoff/datasets/00463986-6243-48f9-9af3-c2b98d95a832_66c93e71-f32b-4591-901c-55395db5c132.spold',\n",
       " '3.2/cutoff/datasets/00463986-6243-48f9-9af3-c2b98d95a832_dd80f0f2-f4d5-40f0-9035-09c1a7f3f07b.spold',\n",
       " '3.2/cutoff/datasets/0052f41d-1f71-45be-af2f-56bc830c4a9c_ffa87882-6302-430b-a4c2-45426a006ed7.spold']"
      ]
     },
     "execution_count": 16,
     "metadata": {},
     "output_type": "execute_result"
    }
   ],
   "source": [
    "h.listfiles()[:20]"
   ]
  },
  {
   "cell_type": "code",
   "execution_count": 17,
   "metadata": {
    "collapsed": false
   },
   "outputs": [
    {
     "data": {
      "text/plain": [
       "['3.2',\n",
       " '3.2/cutoff',\n",
       " '3.2/cutoff/datasets',\n",
       " '3.2/cutoff/MasterData',\n",
       " '3.2/undefined',\n",
       " '3.2/undefined/datasets - public']"
      ]
     },
     "execution_count": 17,
     "metadata": {},
     "output_type": "execute_result"
    }
   ],
   "source": [
    "h.prefixes"
   ]
  },
  {
   "cell_type": "code",
   "execution_count": 18,
   "metadata": {
    "collapsed": false
   },
   "outputs": [],
   "source": [
    "j = h.listfiles()[14]"
   ]
  },
  {
   "cell_type": "code",
   "execution_count": 19,
   "metadata": {
    "collapsed": false
   },
   "outputs": [],
   "source": [
    "dd = h.readfile(j)"
   ]
  },
  {
   "cell_type": "code",
   "execution_count": 20,
   "metadata": {
    "collapsed": true
   },
   "outputs": [],
   "source": [
    "oo = objectify.fromstring(dd)"
   ]
  },
  {
   "cell_type": "code",
   "execution_count": 21,
   "metadata": {
    "collapsed": false
   },
   "outputs": [
    {
     "data": {
      "text/plain": [
       "[<Element {http://www.EcoInvent.org/EcoSpold02}childActivityDataset at 0x7f58a1e1b088>]"
      ]
     },
     "execution_count": 21,
     "metadata": {},
     "output_type": "execute_result"
    }
   ],
   "source": [
    "oo.getchildren()"
   ]
  },
  {
   "cell_type": "code",
   "execution_count": 22,
   "metadata": {
    "collapsed": false
   },
   "outputs": [
    {
     "data": {
      "text/plain": [
       "24497"
      ]
     },
     "execution_count": 22,
     "metadata": {},
     "output_type": "execute_result"
    }
   ],
   "source": [
    "h.countfiles()"
   ]
  },
  {
   "cell_type": "markdown",
   "metadata": {},
   "source": [
    "# ZIP archive (ILCD)"
   ]
  },
  {
   "cell_type": "code",
   "execution_count": 23,
   "metadata": {
    "collapsed": false
   },
   "outputs": [
    {
     "name": "stdout",
     "output_type": "stream",
     "text": [
      "Found Extension: zip\n"
     ]
    }
   ],
   "source": [
    "k = archive.Archive(TEST_ZIP)"
   ]
  },
  {
   "cell_type": "code",
   "execution_count": 24,
   "metadata": {
    "collapsed": false
   },
   "outputs": [
    {
     "data": {
      "text/plain": [
       "['USLCI-ILCD/META-INF',\n",
       " 'USLCI-ILCD/ILCD/processes',\n",
       " 'USLCI-ILCD/schemas',\n",
       " 'USLCI-ILCD/ILCD/sources',\n",
       " 'USLCI-ILCD/ILCD/contacts',\n",
       " 'USLCI-ILCD/ILCD',\n",
       " 'USLCI-ILCD/ILCD/unitgroups',\n",
       " 'USLCI-ILCD/ILCD/external_docs',\n",
       " 'USLCI-ILCD',\n",
       " 'USLCI-ILCD/ILCD/flowproperties',\n",
       " 'USLCI-ILCD/stylesheets',\n",
       " 'USLCI-ILCD/ILCD/flows']"
      ]
     },
     "execution_count": 24,
     "metadata": {},
     "output_type": "execute_result"
    }
   ],
   "source": [
    "k.prefixes"
   ]
  },
  {
   "cell_type": "code",
   "execution_count": 25,
   "metadata": {
    "collapsed": false
   },
   "outputs": [
    {
     "data": {
      "text/plain": [
       "['USLCI-ILCD/ILCD/flows/0000c596-8bf4-3455-2f47-0000637834a0.xml',\n",
       " 'USLCI-ILCD/ILCD/flows/0000ccc8-5187-9300-c124-00007e853580.xml',\n",
       " 'USLCI-ILCD/ILCD/flows/0000ccc8-7aaf-54ba-661e-000034e82940.xml',\n",
       " 'USLCI-ILCD/ILCD/flows/0000ccc8-7aaf-904d-1c17-00007f9fbf20.xml',\n",
       " 'USLCI-ILCD/ILCD/flows/00010917-7a60-37a9-a233-00007ce0fa20.xml',\n",
       " 'USLCI-ILCD/ILCD/flows/0001a9f9-337e-64b5-65ef-00005b4c5ca0.xml',\n",
       " 'USLCI-ILCD/ILCD/flows/0001a9f9-337e-b644-7358-000034fe3300.xml',\n",
       " 'USLCI-ILCD/ILCD/flows/0001b805-3472-3e29-fb85-0000277392e0.xml',\n",
       " 'USLCI-ILCD/ILCD/flows/0001b805-85c5-f124-3a48-00000f64c500.xml',\n",
       " 'USLCI-ILCD/ILCD/flows/0001b8ea-4f78-a80f-dbd3-00007161625a.xml',\n",
       " 'USLCI-ILCD/ILCD/flows/0001b8ea-4f78-e5c7-a4e3-000079aec720.xml',\n",
       " 'USLCI-ILCD/ILCD/flows/0001bcae-2dc0-d480-29ea-000058f5f1f1.xml',\n",
       " 'USLCI-ILCD/ILCD/flows/001defa3-1b3a-e7f4-c53e-00002397907d.xml',\n",
       " 'USLCI-ILCD/ILCD/flows/001ec0d9-2a11-c94e-47b2-00001c778e40.xml',\n",
       " 'USLCI-ILCD/ILCD/flows/001ec0d9-fce2-9339-bc3d-00005cac0c86.xml',\n",
       " 'USLCI-ILCD/ILCD/flows/001f402f-ae62-eabc-00a6-00005042b74b.xml',\n",
       " 'USLCI-ILCD/ILCD/flows/0026ef44-dcc6-1399-babd-000012213fa0.xml',\n",
       " 'USLCI-ILCD/ILCD/flows/002eaabc-81a5-38c4-c8e0-000024204dc0.xml',\n",
       " 'USLCI-ILCD/ILCD/flows/002eaabc-a54e-6066-58be-0000299a62c0.xml',\n",
       " 'USLCI-ILCD/ILCD/flows/002eedc4-3786-e05e-5a86-00003aa90840.xml']"
      ]
     },
     "execution_count": 25,
     "metadata": {},
     "output_type": "execute_result"
    }
   ],
   "source": [
    "k.listfiles('USLCI-ILCD/ILCD/flows')[:20]"
   ]
  },
  {
   "cell_type": "code",
   "execution_count": 26,
   "metadata": {
    "collapsed": true
   },
   "outputs": [],
   "source": [
    "ddd = k.readfile('USLCI-ILCD/ILCD/processes/02530428-7948-20fc-22a8-000057f19a45.xml')"
   ]
  },
  {
   "cell_type": "code",
   "execution_count": 27,
   "metadata": {
    "collapsed": false
   },
   "outputs": [
    {
     "data": {
      "text/plain": [
       "bytes"
      ]
     },
     "execution_count": 27,
     "metadata": {},
     "output_type": "execute_result"
    }
   ],
   "source": [
    "type(ddd)"
   ]
  },
  {
   "cell_type": "code",
   "execution_count": 28,
   "metadata": {
    "collapsed": false
   },
   "outputs": [
    {
     "data": {
      "text/plain": [
       "69254"
      ]
     },
     "execution_count": 28,
     "metadata": {},
     "output_type": "execute_result"
    }
   ],
   "source": [
    "len(ddd)"
   ]
  },
  {
   "cell_type": "code",
   "execution_count": 29,
   "metadata": {
    "collapsed": true
   },
   "outputs": [],
   "source": [
    "ooo = objectify.fromstring(ddd)"
   ]
  },
  {
   "cell_type": "code",
   "execution_count": 30,
   "metadata": {
    "collapsed": false
   },
   "outputs": [
    {
     "data": {
      "text/plain": [
       "[<Element {http://lca.jrc.it/ILCD/Process}processInformation at 0x7f58a1e1ba48>,\n",
       " <Element {http://lca.jrc.it/ILCD/Process}modellingAndValidation at 0x7f58a0d07108>,\n",
       " <Element {http://lca.jrc.it/ILCD/Process}administrativeInformation at 0x7f58a0d070c8>,\n",
       " <Element {http://lca.jrc.it/ILCD/Process}exchanges at 0x7f58a0d07148>]"
      ]
     },
     "execution_count": 30,
     "metadata": {},
     "output_type": "execute_result"
    }
   ],
   "source": [
    "ooo.getchildren()"
   ]
  },
  {
   "cell_type": "code",
   "execution_count": 31,
   "metadata": {
    "collapsed": false
   },
   "outputs": [
    {
     "data": {
      "text/plain": [
       "4690"
      ]
     },
     "execution_count": 31,
     "metadata": {},
     "output_type": "execute_result"
    }
   ],
   "source": [
    "k.countfiles()"
   ]
  },
  {
   "cell_type": "markdown",
   "metadata": {},
   "source": [
    "# HTTP Archive"
   ]
  },
  {
   "cell_type": "code",
   "execution_count": 32,
   "metadata": {
    "collapsed": false
   },
   "outputs": [
    {
     "name": "stdout",
     "output_type": "stream",
     "text": [
      "Archive refers to a web address using protocol http\n",
      " caching files locally in /data/GitHub/lca-tools/lcatools/providers/web_cache/gabi-documentation-2014.gabi-software.com/xml-data/\n"
     ]
    }
   ],
   "source": [
    "m = archive.Archive(TEST_HTTP)"
   ]
  },
  {
   "cell_type": "code",
   "execution_count": 33,
   "metadata": {
    "collapsed": false
   },
   "outputs": [
    {
     "data": {
      "text/plain": [
       "[]"
      ]
     },
     "execution_count": 33,
     "metadata": {},
     "output_type": "execute_result"
    }
   ],
   "source": [
    "m.prefixes"
   ]
  },
  {
   "cell_type": "code",
   "execution_count": 34,
   "metadata": {
    "collapsed": false
   },
   "outputs": [
    {
     "name": "stdout",
     "output_type": "stream",
     "text": [
      "Listing cached files:\n"
     ]
    },
    {
     "data": {
      "text/plain": [
       "['unitgroups/93a60a57-a4c8-11da-a746-0800200c9a66.xml']"
      ]
     },
     "execution_count": 34,
     "metadata": {},
     "output_type": "execute_result"
    }
   ],
   "source": [
    "m.listfiles()"
   ]
  },
  {
   "cell_type": "code",
   "execution_count": 35,
   "metadata": {
    "collapsed": false
   },
   "outputs": [
    {
     "name": "stdout",
     "output_type": "stream",
     "text": [
      "Found file in cache: unitgroups/93a60a57-a4c8-11da-a746-0800200c9a66.xml\n"
     ]
    }
   ],
   "source": [
    "dddd = m.readfile('unitgroups/93a60a57-a4c8-11da-a746-0800200c9a66.xml')"
   ]
  },
  {
   "cell_type": "code",
   "execution_count": 36,
   "metadata": {
    "collapsed": true
   },
   "outputs": [],
   "source": [
    "oooo = objectify.fromstring(dddd)"
   ]
  },
  {
   "cell_type": "code",
   "execution_count": 37,
   "metadata": {
    "collapsed": false
   },
   "outputs": [
    {
     "data": {
      "text/plain": [
       "[<Element {http://lca.jrc.it/ILCD/UnitGroup}unitGroupInformation at 0x7f58a0d07248>,\n",
       " <Element {http://lca.jrc.it/ILCD/UnitGroup}modellingAndValidation at 0x7f58a0d07748>,\n",
       " <Element {http://lca.jrc.it/ILCD/UnitGroup}administrativeInformation at 0x7f58a0d07988>,\n",
       " <Element {http://lca.jrc.it/ILCD/UnitGroup}units at 0x7f58a0d079c8>]"
      ]
     },
     "execution_count": 37,
     "metadata": {},
     "output_type": "execute_result"
    }
   ],
   "source": [
    "oooo.getchildren()"
   ]
  },
  {
   "cell_type": "markdown",
   "metadata": {},
   "source": [
    "### brilliant!"
   ]
  }
 ],
 "metadata": {
  "kernelspec": {
   "display_name": "Python 3",
   "language": "python",
   "name": "python3"
  },
  "language_info": {
   "codemirror_mode": {
    "name": "ipython",
    "version": 3
   },
   "file_extension": ".py",
   "mimetype": "text/x-python",
   "name": "python",
   "nbconvert_exporter": "python",
   "pygments_lexer": "ipython3",
   "version": "3.5.1"
  }
 },
 "nbformat": 4,
 "nbformat_minor": 0
}
