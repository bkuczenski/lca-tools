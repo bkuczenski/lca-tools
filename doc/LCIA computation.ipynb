{
 "cells": [
  {
   "cell_type": "code",
   "execution_count": 1,
   "metadata": {
    "collapsed": true
   },
   "outputs": [],
   "source": [
    "import sys\n",
    "sys.path.append('..')\n",
    "import os\n",
    "from os.path import expanduser\n",
    "\n",
    "import lcatools"
   ]
  },
  {
   "cell_type": "code",
   "execution_count": 2,
   "metadata": {
    "collapsed": true
   },
   "outputs": [],
   "source": [
    "from lcatools.tools import archive_from_json"
   ]
  },
  {
   "cell_type": "code",
   "execution_count": 3,
   "metadata": {
    "collapsed": true
   },
   "outputs": [],
   "source": [
    "elcd3_file = os.path.join(os.path.expanduser('~'),'Dropbox', 'data', 'ELCD', 'ELCD3.2.zip')\n",
    "catalog_dir = os.path.join(os.path.expanduser('~'), 'GitHub', 'lca-tools-datafiles', 'catalogs')\n",
    "lcia_file = os.path.join(catalog_dir, 'elcd_lcia.json.gz')"
   ]
  },
  {
   "cell_type": "code",
   "execution_count": 4,
   "metadata": {
    "collapsed": false
   },
   "outputs": [],
   "source": [
    "def lcia(process, quantity):\n",
    "    print(', '.join([quantity[desc] for desc in ('Method', 'Category', 'Indicator')]))\n",
    "    print('-'*60)\n",
    "    score = 0.0\n",
    "    for x in process.exchanges():\n",
    "        if x.flow.cf(quantity) != 0:\n",
    "            c = x.flow.cf(quantity)\n",
    "            v = x.value\n",
    "            score += c*v\n",
    "            print('%10.3g x %-10.3g = %-10.3g %s' % (c, v, c*v, x.flow['Name']) )\n",
    "    print('='*60)\n",
    "    print('             Total score: %g [%s]' % (score, quantity.reference_entity.unitstring()))\n",
    "    return score"
   ]
  },
  {
   "cell_type": "markdown",
   "metadata": {},
   "source": [
    "### ELCD LCIA Computation"
   ]
  },
  {
   "cell_type": "code",
   "execution_count": 4,
   "metadata": {
    "collapsed": false
   },
   "outputs": [
    {
     "name": "stdout",
     "output_type": "stream",
     "text": [
      "Loading JSON data from /home/b/GitHub/lca-tools-datafiles/catalogs/elcd_lcia.json.gz:\n",
      "Found Extension: zip\n",
      "**Upstream reference encountered: /home/b/Dropbox/data/ELCD/ELCD3.2.zip\n",
      "\n",
      "54 new quantity entities added (54 total)\n",
      "1256 new flow entities added (1256 total)\n",
      "0 new process entities added (0 total)\n"
     ]
    }
   ],
   "source": [
    "l = archive_from_json(lcia_file)"
   ]
  },
  {
   "cell_type": "code",
   "execution_count": 5,
   "metadata": {
    "collapsed": true
   },
   "outputs": [],
   "source": [
    "from lcatools.providers.ilcd import IlcdArchive"
   ]
  },
  {
   "cell_type": "code",
   "execution_count": 6,
   "metadata": {
    "collapsed": false
   },
   "outputs": [
    {
     "name": "stdout",
     "output_type": "stream",
     "text": [
      "Found Extension: zip\n"
     ]
    }
   ],
   "source": [
    "ps = IlcdArchive(elcd3_file, upstream=l)"
   ]
  },
  {
   "cell_type": "code",
   "execution_count": 7,
   "metadata": {
    "collapsed": false
   },
   "outputs": [
    {
     "data": {
      "text/plain": [
       "<lcatools.entities.LcProcess at 0x7f26732bcb38>"
      ]
     },
     "execution_count": 7,
     "metadata": {},
     "output_type": "execute_result"
    }
   ],
   "source": [
    "ps.retrieve_or_fetch_entity(ps.list_objects('Process')[27])"
   ]
  },
  {
   "cell_type": "code",
   "execution_count": 8,
   "metadata": {
    "collapsed": false
   },
   "outputs": [],
   "source": [
    "p = _"
   ]
  },
  {
   "cell_type": "code",
   "execution_count": null,
   "metadata": {
    "collapsed": true
   },
   "outputs": [],
   "source": []
  },
  {
   "cell_type": "code",
   "execution_count": 9,
   "metadata": {
    "collapsed": true
   },
   "outputs": [],
   "source": [
    "qs = (x for x in l.quantities() if 'Method' in x.keys())"
   ]
  },
  {
   "cell_type": "code",
   "execution_count": 10,
   "metadata": {
    "collapsed": false
   },
   "outputs": [],
   "source": [
    "q = next(qs)"
   ]
  },
  {
   "cell_type": "code",
   "execution_count": 11,
   "metadata": {
    "collapsed": false
   },
   "outputs": [
    {
     "data": {
      "text/plain": [
       "dict_keys(['Comment', 'Method', 'Name', 'origin', 'Category', 'ReferenceYear', 'Duration', 'Indicator', 'externalId'])"
      ]
     },
     "execution_count": 11,
     "metadata": {},
     "output_type": "execute_result"
    }
   ],
   "source": [
    "q.keys()"
   ]
  },
  {
   "cell_type": "code",
   "execution_count": 23,
   "metadata": {
    "collapsed": false
   },
   "outputs": [
    {
     "name": "stdout",
     "output_type": "stream",
     "text": [
      "ILCD2011, Ionizing radiation, Comparative Toxic Unit for ecosystems (CTUe) expressing an estimate of the potentially affected fraction of species (PAF) integrated over time and volume per unit mass of a radionucleide emitted (PAF m3 year/kg).\n",
      "------------------------------------------------------------\n",
      "  1.86e-05 x 0.00089    = 1.65e-08   antimony-124\n",
      "  1.51e-05 x 0.0273     = 4.12e-07   antimony-125\n",
      "  1.04e-05 x 0.639      = 6.65e-06   iodine-131\n",
      "  4.59e-09 x 133        = 6.13e-07   hydrogen-3\n",
      "  2.43e-05 x 0.144      = 3.51e-06   cobalt-58\n",
      "  4.62e-05 x 0.0242     = 1.12e-06   antimony-124\n",
      "   5.5e-05 x 0.000267   = 1.47e-08   cesium-134\n",
      "  0.000124 x 0.0275     = 3.41e-06   cesium-134\n",
      "  2.26e-05 x 0.000968   = 2.19e-08   cobalt-60\n",
      "  4.78e-06 x 9.97e-10   = 4.77e-15   manganese-54\n",
      "  4.49e-05 x 0.000355   = 1.59e-08   cesium-137\n",
      "  0.000172 x 0.0207     = 3.56e-06   carbon-14\n",
      "  1.37e-05 x 0.0295     = 4.04e-07   silver-110\n",
      "  6.83e-05 x 4.24e-06   = 2.9e-10    tellurium-123\n",
      "  5.41e-05 x 0.181      = 9.81e-06   cobalt-60\n",
      "   2.6e-05 x 0.00413    = 1.07e-07   iodine-131\n",
      "  7.05e-05 x 42.9       = 0.00302    carbon-14\n",
      "   5.7e-06 x 2.58e-10   = 1.47e-15   silver-110\n",
      "  6.06e-06 x 1.93e-09   = 1.17e-14   antimony-125\n",
      "  1.02e-05 x 0.000438   = 4.47e-09   cobalt-58\n",
      "  1.08e-05 x 0.0223     = 2.41e-07   manganese-54\n",
      "  0.000101 x 0.221      = 2.23e-05   cesium-137\n",
      "  1.12e-08 x 3.33e+03   = 3.73e-05   hydrogen-3\n",
      "============================================================\n",
      "             Total score: 0.00311449 [m3*a]\n",
      "CPU times: user 0 ns, sys: 0 ns, total: 0 ns\n",
      "Wall time: 3.69 ms\n"
     ]
    },
    {
     "data": {
      "text/plain": [
       "0.0031144941582810586"
      ]
     },
     "execution_count": 23,
     "metadata": {},
     "output_type": "execute_result"
    }
   ],
   "source": [
    "%time lcia(p, next(qs))"
   ]
  },
  {
   "cell_type": "markdown",
   "metadata": {},
   "source": [
    "### Ecoinvent LCIA Computation"
   ]
  },
  {
   "cell_type": "code",
   "execution_count": 5,
   "metadata": {
    "collapsed": false
   },
   "outputs": [
    {
     "name": "stdout",
     "output_type": "stream",
     "text": [
      "Loading JSON data from /home/b/GitHub/lca-tools-datafiles/catalogs/ei_lcia.json.gz:\n",
      "**Upstream reference encountered: /data/LCI/Ecoinvent/3.2/undefined\n",
      "\n",
      "708 new quantity entities added (708 total)\n",
      "3255 new flow entities added (3255 total)\n",
      "0 new process entities added (0 total)\n"
     ]
    }
   ],
   "source": [
    "e = archive_from_json(os.path.join(catalog_dir, 'ei_lcia.json.gz'))"
   ]
  },
  {
   "cell_type": "code",
   "execution_count": 6,
   "metadata": {
    "collapsed": true
   },
   "outputs": [],
   "source": [
    "qe = (x for x in e.quantities() if 'Method' in x.keys())  # or if isLciaMethod"
   ]
  },
  {
   "cell_type": "code",
   "execution_count": 7,
   "metadata": {
    "collapsed": true
   },
   "outputs": [],
   "source": [
    "from lcatools.providers.ecospold2 import EcospoldV2Archive"
   ]
  },
  {
   "cell_type": "code",
   "execution_count": 8,
   "metadata": {
    "collapsed": true
   },
   "outputs": [],
   "source": [
    "ei_32_path = os.path.join(os.path.expanduser('~'),'Dropbox', 'data', 'Ecoinvent', \n",
    "                               '3.2')\n",
    "ei_32_undefined = os.path.join(ei_32_path, 'current_Version_3.2_undefined_ecoSpold02.7z')\n"
   ]
  },
  {
   "cell_type": "code",
   "execution_count": 8,
   "metadata": {
    "collapsed": false
   },
   "outputs": [
    {
     "name": "stdout",
     "output_type": "stream",
     "text": [
      "Found Extension: 7z\n"
     ]
    }
   ],
   "source": [
    "E = EcospoldV2Archive(ei_32_undefined, upstream=e, prefix='datasets - public')"
   ]
  },
  {
   "cell_type": "code",
   "execution_count": 9,
   "metadata": {
    "collapsed": true
   },
   "outputs": [],
   "source": [
    "p = E.retrieve_or_fetch_entity(E.list_datasets()[2790])"
   ]
  },
  {
   "cell_type": "code",
   "execution_count": 11,
   "metadata": {
    "collapsed": false
   },
   "outputs": [
    {
     "data": {
      "text/plain": [
       "[' Input:     [0.106 [m3]] Water, cooling, unspecified natural origin (CAS 007732-18-5) [natural resource, in water]',\n",
       " ' Input:     [1e-05 [kg]] chlorine, gaseous (CAS 7782-50-5) [By-product classification: allocatable product]',\n",
       " ' Input:     [0.0893 [kg]] lignite [By-product classification: allocatable product]',\n",
       " ' Input:     [0.006 [kg]] water, completely softened, from decarbonised water, at user [By-product classification: allocatable product]',\n",
       " ' Input:     [4.92e-13 [unit]] lignite power plant [By-product classification: allocatable product]',\n",
       " ' Input:     [0.00223 [kg]] SOx retained, in lignite flue gas desulfurisation [By-product classification: allocatable product]',\n",
       " ' Input:     [0.15 [kg]] water, decarbonised, at user [By-product classification: allocatable product]',\n",
       " 'Output:     [2.14e-10 [kg]] Strontium (CAS 007440-24-6) [air, non-urban air or from high stacks]',\n",
       " 'Output:     [1e-09 [kg]] PAH, polycyclic aromatic hydrocarbons (CAS 130498-29-2) [air, non-urban air or from high stacks]',\n",
       " 'Output:     [2.16e-07 [kg]] Hydrocarbons, aliphatic, unsaturated [air, non-urban air or from high stacks]',\n",
       " 'Output:     [1.6e-08 [kg]] Propene (CAS 000115-07-1) [air, non-urban air or from high stacks]',\n",
       " 'Output:     [4.1e-08 [kg]] Ethane (CAS 000074-84-0) [air, non-urban air or from high stacks]',\n",
       " 'Output: {*} [0.3 [MJ]] heat, district or industrial, other than natural gas [By-product classification: allocatable product]',\n",
       " 'Output:     [2e-13 [kg]] Benzo(a)pyrene (CAS 000050-32-8) [air, non-urban air or from high stacks]',\n",
       " 'Output:     [9.22e-07 [kg]] Xylene (CAS 001330-20-7) [air, non-urban air or from high stacks]',\n",
       " 'Output:     [3.06e-10 [kg]] Cobalt (CAS 007440-48-4) [air, non-urban air or from high stacks]',\n",
       " 'Output:     [5.8e-08 [kg]] Formaldehyde (CAS 000050-00-0) [air, non-urban air or from high stacks]',\n",
       " 'Output:     [2.54e-10 [kg]] Chromium (CAS 007440-47-3) [air, non-urban air or from high stacks]',\n",
       " 'Output:     [0.000198 [kg]] Sulfur dioxide (CAS 007446-09-5) [air, non-urban air or from high stacks]',\n",
       " 'Output:     [1.25e-07 [kBq]] Thorium-232 [air, non-urban air or from high stacks]',\n",
       " 'Output:     [8.71e-11 [kg]] Cadmium (CAS 007440-43-9) [air, non-urban air or from high stacks]',\n",
       " 'Output:     [7e-15 [kg]] Dioxins, measured as 2,3,7,8-tetrachlorodibenzo-p-dioxin (CAS 001746-01-6) [air, non-urban air or from high stacks]',\n",
       " 'Output:     [0.0492 [kWh]] electricity, high voltage [By-product classification: allocatable product]',\n",
       " 'Output:     [2.85e-10 [kg]] Molybdenum (CAS 007439-98-7) [air, non-urban air or from high stacks]',\n",
       " 'Output:     [0.00267 [m3]] Water (CAS 007732-18-5) [air, unspecified]',\n",
       " 'Output:     [2e-08 [kg]] Iodine (CAS 007553-56-2) [air, non-urban air or from high stacks]',\n",
       " 'Output:     [3.5e-08 [kg]] Propane (CAS 000074-98-6) [air, non-urban air or from high stacks]',\n",
       " 'Output:     [7.95e-08 [kBq]] Thorium-228 [air, non-urban air or from high stacks]',\n",
       " 'Output:     [6.79e-07 [kg]] Hydrogen chloride (CAS 007647-01-0) [air, non-urban air or from high stacks]',\n",
       " 'Output:     [1.51e-07 [kBq]] Radium-226 [air, non-urban air or from high stacks]',\n",
       " 'Output:     [3.14e-11 [kg]] Chromium VI (CAS 018540-29-9) [air, non-urban air or from high stacks]',\n",
       " 'Output:     [0.0111 [kg]] lignite ash [By-product classification: Waste]',\n",
       " 'Output:     [2.14e-08 [kg]] Bromine (CAS 007726-95-6) [air, non-urban air or from high stacks]',\n",
       " 'Output:     [1.26e-07 [kBq]] Uranium-238 [air, non-urban air or from high stacks]',\n",
       " 'Output:     [5.41e-06 [kg]] Particulates, > 10 um [air, non-urban air or from high stacks]',\n",
       " 'Output:     [2.17e-07 [kg]] Benzene (CAS 000071-43-2) [air, non-urban air or from high stacks]',\n",
       " 'Output:     [5e-06 [kg]] residue from cooling tower [By-product classification: Waste]',\n",
       " 'Output:     [3.8e-07 [kBq]] Potassium-40 [air, non-urban air or from high stacks]',\n",
       " 'Output:     [1.07e-06 [kBq]] Polonium-210 [air, non-urban air or from high stacks]',\n",
       " 'Output:     [1.6e-06 [kg]] Boron (CAS 007440-42-8) [air, non-urban air or from high stacks]',\n",
       " 'Output:     [1e-06 [kg]] Methane, fossil (CAS 000074-82-8) [air, non-urban air or from high stacks]',\n",
       " 'Output:     [5e-07 [kg]] Dinitrogen monoxide (CAS 010024-97-2) [air, non-urban air or from high stacks]',\n",
       " 'Output:     [5.86e-07 [kBq]] Lead-210 [air, non-urban air or from high stacks]',\n",
       " 'Output:     [1.63e-10 [kg]] Antimony (CAS 007440-36-0) [air, non-urban air or from high stacks]',\n",
       " 'Output:     [6.12e-10 [kg]] Lead (CAS 007439-92-1) [air, non-urban air or from high stacks]',\n",
       " 'Output:     [0.00019 [kBq]] Radon-222 [air, non-urban air or from high stacks]',\n",
       " 'Output:     [1.9e-08 [kg]] Butane (CAS 000106-97-8) [air, non-urban air or from high stacks]',\n",
       " 'Output:     [2e-09 [kg]] Zinc (CAS 007440-66-6) [air, non-urban air or from high stacks]',\n",
       " 'Output:     [2.04e-10 [kg]] Manganese (CAS 007439-96-5) [air, non-urban air or from high stacks]',\n",
       " 'Output:     [9.1e-09 [kg]] Selenium (CAS 007782-49-2) [air, non-urban air or from high stacks]',\n",
       " 'Output:     [2e-05 [kg]] Carbon monoxide, fossil (CAS 000630-08-0) [air, non-urban air or from high stacks]',\n",
       " 'Output:     [1.48e-07 [kBq]] Radium-228 [air, non-urban air or from high stacks]',\n",
       " 'Output:     [1.78e-09 [kg]] Mercury (CAS 007439-97-6) [air, non-urban air or from high stacks]',\n",
       " 'Output:     [1.09e-07 [kg]] Toluene (CAS 000108-88-3) [air, non-urban air or from high stacks]',\n",
       " 'Output:     [2.81e-10 [kg]] Copper (CAS 007440-50-8) [air, non-urban air or from high stacks]',\n",
       " 'Output:     [6.32e-07 [kg]] Hydrogen fluoride (CAS 007664-39-3) [air, non-urban air or from high stacks]',\n",
       " 'Output:     [6.95e-06 [kg]] Particulates, < 2.5 um [air, non-urban air or from high stacks]',\n",
       " 'Output:     [0.105 [kg]] Carbon dioxide, fossil (CAS 000124-38-9) [air, non-urban air or from high stacks]',\n",
       " 'Output:     [0.000107 [kBq]] Radon-220 [air, non-urban air or from high stacks]',\n",
       " 'Output:     [0.104 [m3]] Water (CAS 007732-18-5) [water, unspecified]',\n",
       " 'Output:     [1.01e-09 [kg]] Nickel (CAS 007440-02-0) [air, non-urban air or from high stacks]',\n",
       " 'Output:     [2.19e-07 [kg]] Hydrocarbons, aliphatic, alkanes, unspecified [air, non-urban air or from high stacks]',\n",
       " 'Output:     [0.000165 [kg]] Nitrogen oxides (CAS 011104-93-1) [air, non-urban air or from high stacks]',\n",
       " 'Output:     [1.17e-09 [kg]] Arsenic (CAS 007440-38-2) [air, non-urban air or from high stacks]',\n",
       " 'Output:     [8.18e-07 [kg]] Particulates, > 2.5 um, and < 10um [air, non-urban air or from high stacks]',\n",
       " 'Output:     [3.57e-10 [kg]] Vanadium (CAS 007440-62-2) [air, non-urban air or from high stacks]',\n",
       " 'Output:     [2.04e-09 [kg]] Barium (CAS 007440-39-3) [air, non-urban air or from high stacks]',\n",
       " 'Output:     [1.47e-07 [kg]] Pentane (CAS 000109-66-0) [air, non-urban air or from high stacks]']"
      ]
     },
     "execution_count": 11,
     "metadata": {},
     "output_type": "execute_result"
    }
   ],
   "source": [
    "[str(x) for x in p.exchanges()]"
   ]
  },
  {
   "cell_type": "code",
   "execution_count": 18,
   "metadata": {
    "collapsed": false
   },
   "outputs": [
    {
     "name": "stdout",
     "output_type": "stream",
     "text": [
      "ReCiPe Midpoint (H) w/o LT, terrestrial acidification w/o LT, TAP100 w/o LT\n",
      "------------------------------------------------------------\n",
      "         1 x 0.000198   = 0.000198   Sulfur dioxide\n",
      "      0.56 x 0.000165   = 9.24e-05   Nitrogen oxides\n",
      "============================================================\n",
      "             Total score: 0.0002904 [kg SO2-Eq]\n"
     ]
    },
    {
     "data": {
      "text/plain": [
       "0.0002904"
      ]
     },
     "execution_count": 18,
     "metadata": {},
     "output_type": "execute_result"
    }
   ],
   "source": [
    "lcia(p, next(qe))"
   ]
  },
  {
   "cell_type": "markdown",
   "metadata": {},
   "source": [
    " same system model three different ways:"
   ]
  },
  {
   "cell_type": "code",
   "execution_count": 11,
   "metadata": {
    "collapsed": false
   },
   "outputs": [
    {
     "name": "stdout",
     "output_type": "stream",
     "text": [
      "Found Extension: 7z\n"
     ]
    }
   ],
   "source": [
    "E_fg = EcospoldV2Archive(os.path.join(ei_32_path, 'current_Version_3.2_apos_ecoSpold02.7z'), \n",
    "                         upstream=e, prefix='datasets')"
   ]
  },
  {
   "cell_type": "code",
   "execution_count": 12,
   "metadata": {
    "collapsed": false
   },
   "outputs": [
    {
     "name": "stdout",
     "output_type": "stream",
     "text": [
      "Found Extension: 7z\n"
     ]
    }
   ],
   "source": [
    "E_bg = EcospoldV2Archive(os.path.join(ei_32_path, 'current_Version_3.2_apos_lci_ecoSpold02.7z'), \n",
    "                         upstream=e, prefix='datasets')"
   ]
  },
  {
   "cell_type": "code",
   "execution_count": 38,
   "metadata": {
    "collapsed": false
   },
   "outputs": [],
   "source": [
    "def E_lcia(spold, upstream=None, sys_model='apos'):\n",
    "    filename = 'current_Version_3.2_' + sys_model + '_lcia_ecoSpold02.zip'\n",
    "    _E_lcia = EcospoldV2Archive(os.path.join('/data', 'LCI', 'Ecoinvent','3.2', filename),\n",
    "                           upstream=upstream, prefix='datasets')\n",
    "    if upstream is not None:\n",
    "        for q in upstream.quantities():\n",
    "            _E_lcia.add(q)\n",
    "    return _E_lcia.retrieve_lcia_scores(spold)"
   ]
  },
  {
   "cell_type": "code",
   "execution_count": 12,
   "metadata": {
    "collapsed": false
   },
   "outputs": [],
   "source": [
    "file = E_fg.list_datasets()[28]"
   ]
  },
  {
   "cell_type": "code",
   "execution_count": 51,
   "metadata": {
    "collapsed": false
   },
   "outputs": [
    {
     "data": {
      "text/plain": [
       "'007891bb-6fc0-497e-802f-eebee2a1dfd6_359d6943-6e60-416b-93dc-9c58398b0179.spold'"
      ]
     },
     "execution_count": 51,
     "metadata": {},
     "output_type": "execute_result"
    }
   ],
   "source": [
    "file"
   ]
  },
  {
   "cell_type": "code",
   "execution_count": null,
   "metadata": {
    "collapsed": true
   },
   "outputs": [],
   "source": []
  },
  {
   "cell_type": "code",
   "execution_count": 39,
   "metadata": {
    "collapsed": false
   },
   "outputs": [
    {
     "name": "stdout",
     "output_type": "stream",
     "text": [
      "Found Extension: zip\n",
      "                   Objectified -- 0.016592\n",
      "       Impact scores collected -- 0.032834\n",
      "        Method names extracted -- 0.036642\n",
      "           cfs added- finished -- 0.048197\n"
     ]
    },
    {
     "data": {
      "text/plain": [
       "<lcatools.entities.LcFlow at 0x7f3798bbb048>"
      ]
     },
     "execution_count": 39,
     "metadata": {},
     "output_type": "execute_result"
    }
   ],
   "source": [
    "E_lcia(file, upstream=e)"
   ]
  },
  {
   "cell_type": "code",
   "execution_count": 40,
   "metadata": {
    "collapsed": false
   },
   "outputs": [
    {
     "data": {
      "text/plain": [
       "['propylene, pipeline system (CAS 115-07-1) [By-product classification: allocatable product]: [0.000176 [kg]] LC quantity: EDIP2003, non-renewable resources, brown coal',\n",
       " 'propylene, pipeline system (CAS 115-07-1) [By-product classification: allocatable product]: [2.89e-08 [points]] LC quantity: ReCiPe Endpoint (H,A), human health, ozone depletion',\n",
       " 'propylene, pipeline system (CAS 115-07-1) [By-product classification: allocatable product]: [0.000247 [kg formed ozone]] LC quantity: CML 2001 w/o LT, photochemical oxidation w/o LT, EBIR w/o LT',\n",
       " 'propylene, pipeline system (CAS 115-07-1) [By-product classification: allocatable product]: [1.11e-07 [kg waste]] LC quantity: EDIP w/o LT, environmental impact w/o LT, land filling, radioactive waste w/o LT',\n",
       " 'propylene, pipeline system (CAS 115-07-1) [By-product classification: allocatable product]: [2.22e-06 [points]] LC quantity: eco-indicator 99, (E,E), resources, mineral extraction',\n",
       " 'propylene, pipeline system (CAS 115-07-1) [By-product classification: allocatable product]: [0.00112 [points]] LC quantity: eco-indicator 99, (H,A) w/o LT, ecosystem quality w/o LT, total w/o LT',\n",
       " 'propylene, pipeline system (CAS 115-07-1) [By-product classification: allocatable product]: [6.56e-10 [kg CFC-11-Eq]] LC quantity: CML 2001, stratospheric ozone depletion, ODP 25a',\n",
       " 'propylene, pipeline system (CAS 115-07-1) [By-product classification: allocatable product]: [0.000176 [kg]] LC quantity: EDIP w/o LT, resource consumption w/o LT, non-renewable resources, brown coal w/o LT',\n",
       " 'propylene, pipeline system (CAS 115-07-1) [By-product classification: allocatable product]: [2.26 [kg CO2-Eq]] LC quantity: IPCC 2001, climate change, GWP 20a',\n",
       " 'propylene, pipeline system (CAS 115-07-1) [By-product classification: allocatable product]: [0.00342 [kg SO2-Eq]] LC quantity: CML 2001 w/o LT, acidification potential w/o LT, generic w/o LT',\n",
       " 'propylene, pipeline system (CAS 115-07-1) [By-product classification: allocatable product]: [0.000805 [points]] LC quantity: eco-indicator 99, (I,I), ecosystem quality, total',\n",
       " 'propylene, pipeline system (CAS 115-07-1) [By-product classification: allocatable product]: [0.0392 [kg 1,4-DCB-Eq]] LC quantity: CML 2001, human toxicity, HTP infinite',\n",
       " 'propylene, pipeline system (CAS 115-07-1) [By-product classification: allocatable product]: [0.00213 [kBq]] LC quantity: selected LCI results, additional, water, radioactive, tritium',\n",
       " 'propylene, pipeline system (CAS 115-07-1) [By-product classification: allocatable product]: [0.00053 [kg Fe-Eq]] LC quantity: ReCiPe Midpoint (E), metal depletion, MDP',\n",
       " 'propylene, pipeline system (CAS 115-07-1) [By-product classification: allocatable product]: [1.42e-08 [points]] LC quantity: ReCiPe Endpoint (E,A) w/o LT, human health w/o LT, ozone depletion w/o LT',\n",
       " 'propylene, pipeline system (CAS 115-07-1) [By-product classification: allocatable product]: [1.25e-10 [kg]] LC quantity: EDIP, resource consumption, non-renewable resources, tantalum',\n",
       " 'propylene, pipeline system (CAS 115-07-1) [By-product classification: allocatable product]: [8.33e-06 [points]] LC quantity: ReCiPe Endpoint (H,A) w/o LT, ecosystem quality w/o LT, agricultural land occupation w/o LT',\n",
       " 'propylene, pipeline system (CAS 115-07-1) [By-product classification: allocatable product]: [1.29 [kg CO2-Eq]] LC quantity: CML 2001, climate change, GWP 500a',\n",
       " 'propylene, pipeline system (CAS 115-07-1) [By-product classification: allocatable product]: [4.52e-07 [kg]] LC quantity: EDIP2003 w/o LT, non-renewable resources w/o LT, copper w/o LT',\n",
       " 'propylene, pipeline system (CAS 115-07-1) [By-product classification: allocatable product]: [1.56 [kg CO2-Eq]] LC quantity: IPCC 2001, climate change, GWP 100a',\n",
       " 'propylene, pipeline system (CAS 115-07-1) [By-product classification: allocatable product]: [3.9e-12 [DALYs]] LC quantity: CML 2001, ionising radiation, ionising radiation',\n",
       " 'propylene, pipeline system (CAS 115-07-1) [By-product classification: allocatable product]: [1.15 [kg]] LC quantity: selected LCI results, air, CO2, fossil',\n",
       " 'propylene, pipeline system (CAS 115-07-1) [By-product classification: allocatable product]: [2.43 [kg CO2-Eq]] LC quantity: CML 2001 w/o LT, climate change w/o LT, GWP 20a w/o LT',\n",
       " 'propylene, pipeline system (CAS 115-07-1) [By-product classification: allocatable product]: [6.6e-10 [kg CFC-11-Eq]] LC quantity: EDIP w/o LT, environmental impact w/o LT, stratospheric ozone depletion, ODP 20a w/o LT',\n",
       " 'propylene, pipeline system (CAS 115-07-1) [By-product classification: allocatable product]: [0.23 [points]] LC quantity: eco-indicator 99, (H,A) w/o LT, resources w/o LT, fossil fuels w/o LT',\n",
       " 'propylene, pipeline system (CAS 115-07-1) [By-product classification: allocatable product]: [1.56 [kg CO2-Eq]] LC quantity: TRACI, environmental impact, global warming',\n",
       " 'propylene, pipeline system (CAS 115-07-1) [By-product classification: allocatable product]: [1.14 [UBP]] LC quantity: ecological scarcity 2013, total, Water resources',\n",
       " 'propylene, pipeline system (CAS 115-07-1) [By-product classification: allocatable product]: [0.00517 [UBP]] LC quantity: ecological scarcity 2013, total, Ozone layer depletion',\n",
       " 'propylene, pipeline system (CAS 115-07-1) [By-product classification: allocatable product]: [0.000919 [person.ppm.h]] LC quantity: EDIP2003, photochemical ozone formation, impacts on human health',\n",
       " 'propylene, pipeline system (CAS 115-07-1) [By-product classification: allocatable product]: [4.44 [UBP]] LC quantity: ecological scarcity 1997, total, deposited waste',\n",
       " 'propylene, pipeline system (CAS 115-07-1) [By-product classification: allocatable product]: [0.209 [points]] LC quantity: eco-indicator 99, (E,E) w/o LT, total w/o LT, total w/o LT',\n",
       " 'propylene, pipeline system (CAS 115-07-1) [By-product classification: allocatable product]: [8.98e-07 [MJ-Eq]] LC quantity: cumulative energy demand, primary forest, non-renewable energy resources, primary forest',\n",
       " 'propylene, pipeline system (CAS 115-07-1) [By-product classification: allocatable product]: [8.11e-13 [kg]] LC quantity: EDIP w/o LT, resource consumption w/o LT, non-renewable resources, platinum w/o LT',\n",
       " 'propylene, pipeline system (CAS 115-07-1) [By-product classification: allocatable product]: [0.0426 [kg 1,4-DCB-Eq]] LC quantity: CML 2001, marine sediment ecotoxicity, MSETP 20a',\n",
       " 'propylene, pipeline system (CAS 115-07-1) [By-product classification: allocatable product]: [0.000137 [MJ-Eq]] LC quantity: cumulative exergy demand, wind, renewable energy resources, kinetic (in wind), converted',\n",
       " 'propylene, pipeline system (CAS 115-07-1) [By-product classification: allocatable product]: [3.16e+04 [m3 air]] LC quantity: EDIP w/o LT, environmental impact w/o LT, human toxicity, via air w/o LT',\n",
       " 'propylene, pipeline system (CAS 115-07-1) [By-product classification: allocatable product]: [0.0513 [points]] LC quantity: ReCiPe Endpoint (H,A) w/o LT, human health w/o LT, total w/o LT',\n",
       " 'propylene, pipeline system (CAS 115-07-1) [By-product classification: allocatable product]: [0.000226 [m2a]] LC quantity: ReCiPe Midpoint (H), agricultural land occupation, ALOP',\n",
       " 'propylene, pipeline system (CAS 115-07-1) [By-product classification: allocatable product]: [0.00562 [kg 1,4-DCB-Eq]] LC quantity: CML 2001, human toxicity, HTP 20a',\n",
       " 'propylene, pipeline system (CAS 115-07-1) [By-product classification: allocatable product]: [0.00026 [points]] LC quantity: ReCiPe Endpoint (H,A) w/o LT, ecosystem quality w/o LT, terrestrial acidification w/o LT',\n",
       " 'propylene, pipeline system (CAS 115-07-1) [By-product classification: allocatable product]: [5.49e-10 [points]] LC quantity: IMPACT 2002+ (Endpoint), human health, ionising radiation',\n",
       " 'propylene, pipeline system (CAS 115-07-1) [By-product classification: allocatable product]: [-4.05e-08 [m2]] LC quantity: ReCiPe Midpoint (E) w/o LT, natural land transformation w/o LT, NLTP w/o LT',\n",
       " 'propylene, pipeline system (CAS 115-07-1) [By-product classification: allocatable product]: [1.28 [kg CO2-Eq]] LC quantity: EDIP, environmental impact, global warming, GWP 500a',\n",
       " 'propylene, pipeline system (CAS 115-07-1) [By-product classification: allocatable product]: [0.00349 [points]] LC quantity: ReCiPe Endpoint (E,A), human health, human toxicity',\n",
       " 'propylene, pipeline system (CAS 115-07-1) [By-product classification: allocatable product]: [8.52e-05 [points]] LC quantity: eco-indicator 99, (E,E), ecosystem quality, ecotoxicity',\n",
       " 'propylene, pipeline system (CAS 115-07-1) [By-product classification: allocatable product]: [0.000647 [kg N]] LC quantity: EDIP, environmental impact, nutrient enrichment, separate N potential',\n",
       " 'propylene, pipeline system (CAS 115-07-1) [By-product classification: allocatable product]: [0.000176 [kg]] LC quantity: EDIP2003 w/o LT, non-renewable resources w/o LT, brown coal w/o LT',\n",
       " 'propylene, pipeline system (CAS 115-07-1) [By-product classification: allocatable product]: [0.00336 [kg SO2-Eq]] LC quantity: CML 2001, acidification potential, average European',\n",
       " 'propylene, pipeline system (CAS 115-07-1) [By-product classification: allocatable product]: [1.4e-08 [points]] LC quantity: eco-indicator 99, (I,I), human health, ionising radiation',\n",
       " 'propylene, pipeline system (CAS 115-07-1) [By-product classification: allocatable product]: [0.000262 [kg ethylene-Eq]] LC quantity: CML 2001 w/o LT, photochemical oxidation w/o LT, high NOx POCP w/o LT',\n",
       " 'propylene, pipeline system (CAS 115-07-1) [By-product classification: allocatable product]: [1.07 [ELU]] LC quantity: EPS 2000, total, abiotic stock resources',\n",
       " 'propylene, pipeline system (CAS 115-07-1) [By-product classification: allocatable product]: [0.0139 [kg 1,4-DCB-Eq]] LC quantity: CML 2001 w/o LT, human toxicity w/o LT, HTP infinite w/o LT',\n",
       " 'propylene, pipeline system (CAS 115-07-1) [By-product classification: allocatable product]: [0.513 [kg 1,4-DCB-Eq]] LC quantity: ReCiPe Midpoint (E), human toxicity, HTPinf',\n",
       " 'propylene, pipeline system (CAS 115-07-1) [By-product classification: allocatable product]: [1.31e-05 [points]] LC quantity: eco-indicator 99, (E,E) w/o LT, ecosystem quality w/o LT, ecotoxicity w/o LT',\n",
       " 'propylene, pipeline system (CAS 115-07-1) [By-product classification: allocatable product]: [0.0316 [UBP]] LC quantity: ecological scarcity 2013, total, Land use',\n",
       " 'propylene, pipeline system (CAS 115-07-1) [By-product classification: allocatable product]: [0.00256 [kg NOx-Eq]] LC quantity: CML 2001 w/o LT, eutrophication potential w/o LT, average European w/o LT',\n",
       " 'propylene, pipeline system (CAS 115-07-1) [By-product classification: allocatable product]: [0.000712 [m3]] LC quantity: ReCiPe Midpoint (H), water depletion, WDP',\n",
       " 'propylene, pipeline system (CAS 115-07-1) [By-product classification: allocatable product]: [1.6e-10 [kg]] LC quantity: EDIP w/o LT, resource consumption w/o LT, non-renewable resources, cerium w/o LT',\n",
       " 'propylene, pipeline system (CAS 115-07-1) [By-product classification: allocatable product]: [0.00113 [kg 1,4-DCB-Eq]] LC quantity: CML 2001 w/o LT, freshwater aquatic ecotoxicity w/o LT, FAETP 20a w/o LT',\n",
       " 'propylene, pipeline system (CAS 115-07-1) [By-product classification: allocatable product]: [0.291 [points]] LC quantity: ReCiPe Endpoint (E,A) w/o LT, total w/o LT, total w/o LT',\n",
       " 'propylene, pipeline system (CAS 115-07-1) [By-product classification: allocatable product]: [8.7e-05 [kg 1,4-DCB-Eq]] LC quantity: CML 2001 w/o LT, terrestrial ecotoxicity w/o LT, TAETP infinite w/o LT',\n",
       " 'propylene, pipeline system (CAS 115-07-1) [By-product classification: allocatable product]: [1.05e-05 [points]] LC quantity: eco-indicator 99, (H,A) w/o LT, ecosystem quality w/o LT, ecotoxicity w/o LT',\n",
       " 'propylene, pipeline system (CAS 115-07-1) [By-product classification: allocatable product]: [0.000193 [kg formed ozone]] LC quantity: CML 2001, photochemical oxidation (summer smog), MOIR',\n",
       " 'propylene, pipeline system (CAS 115-07-1) [By-product classification: allocatable product]: [1.56e-09 [points]] LC quantity: ReCiPe Endpoint (I,A), human health, photochemical oxidant formation',\n",
       " 'propylene, pipeline system (CAS 115-07-1) [By-product classification: allocatable product]: [4.46e-05 [points]] LC quantity: ReCiPe Endpoint (E,A), ecosystem quality, natural land transformation',\n",
       " 'propylene, pipeline system (CAS 115-07-1) [By-product classification: allocatable product]: [0.000185 [points]] LC quantity: eco-indicator 99, (H,A) w/o LT, human health w/o LT, carcinogenics w/o LT',\n",
       " 'propylene, pipeline system (CAS 115-07-1) [By-product classification: allocatable product]: [0.0334 [kg antimony-Eq]] LC quantity: CML 2001 w/o LT, resources w/o LT, depletion of abiotic resources w/o LT',\n",
       " 'propylene, pipeline system (CAS 115-07-1) [By-product classification: allocatable product]: [253 [UBP]] LC quantity: ecological scarcity 2013, total, Energy resources',\n",
       " 'propylene, pipeline system (CAS 115-07-1) [By-product classification: allocatable product]: [0.293 [points]] LC quantity: ReCiPe Endpoint (E,A), total, total',\n",
       " 'propylene, pipeline system (CAS 115-07-1) [By-product classification: allocatable product]: [0.044 [points]] LC quantity: ReCiPe Endpoint (E,A), human health, climate change, human health',\n",
       " 'propylene, pipeline system (CAS 115-07-1) [By-product classification: allocatable product]: [0.358 [CTU]] LC quantity: USEtox, ecotoxicity, total',\n",
       " 'propylene, pipeline system (CAS 115-07-1) [By-product classification: allocatable product]: [12.1 [m2.ppm.h]] LC quantity: EDIP2003, photochemical ozone formation, impacts on vegetation',\n",
       " 'propylene, pipeline system (CAS 115-07-1) [By-product classification: allocatable product]: [0.337 [m3 soil]] LC quantity: EDIP2003, ecotoxicity, chronic, in soil',\n",
       " 'propylene, pipeline system (CAS 115-07-1) [By-product classification: allocatable product]: [6.82e-09 [points]] LC quantity: ReCiPe Endpoint (I,A), human health, ozone depletion',\n",
       " 'propylene, pipeline system (CAS 115-07-1) [By-product classification: allocatable product]: [0.00138 [points]] LC quantity: eco-indicator 99, (E,E), ecosystem quality, acidification & eutrophication',\n",
       " 'propylene, pipeline system (CAS 115-07-1) [By-product classification: allocatable product]: [0.00856 [points]] LC quantity: eco-indicator 99, (E,E) w/o LT, human health w/o LT, respiratory effects w/o LT',\n",
       " 'propylene, pipeline system (CAS 115-07-1) [By-product classification: allocatable product]: [4.21e-07 [kg]] LC quantity: EDIP w/o LT, resource consumption w/o LT, non-renewable resources, manganese w/o LT',\n",
       " 'propylene, pipeline system (CAS 115-07-1) [By-product classification: allocatable product]: [2.26 [kg CO2-Eq]] LC quantity: EDIP w/o LT, environmental impact w/o LT, global warming, GWP 20a w/o LT',\n",
       " 'propylene, pipeline system (CAS 115-07-1) [By-product classification: allocatable product]: [0.0794 [kBq]] LC quantity: selected LCI results, additional, air, radioactive, radon (+ radium)',\n",
       " 'propylene, pipeline system (CAS 115-07-1) [By-product classification: allocatable product]: [0.000102 [kg 1,4-DCB-Eq]] LC quantity: CML 2001, terrestrial ecotoxicity, TAETP infinite',\n",
       " 'propylene, pipeline system (CAS 115-07-1) [By-product classification: allocatable product]: [0.337 [m3 soil]] LC quantity: EDIP, environmental impact, ecotoxicity, chronic, in soil',\n",
       " 'propylene, pipeline system (CAS 115-07-1) [By-product classification: allocatable product]: [1.25 [kg CO2-Eq]] LC quantity: IPCC 2013, climate change, GTP 100a',\n",
       " 'propylene, pipeline system (CAS 115-07-1) [By-product classification: allocatable product]: [1.28 [kg CO2-Eq]] LC quantity: IPCC 2001, climate change, GWP 500a',\n",
       " 'propylene, pipeline system (CAS 115-07-1) [By-product classification: allocatable product]: [1.27e+03 [UBP]] LC quantity: ecological scarcity 1997, total, total',\n",
       " 'propylene, pipeline system (CAS 115-07-1) [By-product classification: allocatable product]: [1.6e-10 [kg]] LC quantity: EDIP2003, non-renewable resources, cerium',\n",
       " 'propylene, pipeline system (CAS 115-07-1) [By-product classification: allocatable product]: [3.81 [m3 water]] LC quantity: EDIP, environmental impact, human toxicity, via surface water',\n",
       " 'propylene, pipeline system (CAS 115-07-1) [By-product classification: allocatable product]: [1.13 [UBP]] LC quantity: ecological scarcity 2013, total, Water pollutants',\n",
       " 'propylene, pipeline system (CAS 115-07-1) [By-product classification: allocatable product]: [4.44e-12 [kg]] LC quantity: selected LCI results, soil, cadmium',\n",
       " 'propylene, pipeline system (CAS 115-07-1) [By-product classification: allocatable product]: [0.337 [m3 soil]] LC quantity: EDIP2003 w/o LT, ecotoxicity w/o LT, chronic, in soil w/o LT',\n",
       " 'propylene, pipeline system (CAS 115-07-1) [By-product classification: allocatable product]: [0.207 [points]] LC quantity: ReCiPe Endpoint (H,A) w/o LT, resources w/o LT, total w/o LT',\n",
       " 'propylene, pipeline system (CAS 115-07-1) [By-product classification: allocatable product]: [0.0682 [kg 1,4-DCB-Eq]] LC quantity: CML 2001, freshwater aquatic ecotoxicity, FAETP infinite',\n",
       " 'propylene, pipeline system (CAS 115-07-1) [By-product classification: allocatable product]: [14.1 [m3 water]] LC quantity: EDIP, environmental impact, ecotoxicity, acute, in water',\n",
       " 'propylene, pipeline system (CAS 115-07-1) [By-product classification: allocatable product]: [1.72 [kg oil-Eq]] LC quantity: ReCiPe Midpoint (E), fossil depletion, FDP',\n",
       " 'propylene, pipeline system (CAS 115-07-1) [By-product classification: allocatable product]: [1.42 [m3 waste water]] LC quantity: EDIP2003 w/o LT, ecotoxicity w/o LT, in sewage treatment plants w/o LT',\n",
       " 'propylene, pipeline system (CAS 115-07-1) [By-product classification: allocatable product]: [0.002 [kg 1,4-DCB-Eq]] LC quantity: CML 2001 w/o LT, freshwater sediment ecotoxicity w/o LT, FSETP 100a w/o LT',\n",
       " 'propylene, pipeline system (CAS 115-07-1) [By-product classification: allocatable product]: [0.337 [m3 soil]] LC quantity: EDIP w/o LT, environmental impact w/o LT, ecotoxicity, chronic, in soil w/o LT',\n",
       " 'propylene, pipeline system (CAS 115-07-1) [By-product classification: allocatable product]: [0.00202 [kg 1,4-DCB-Eq]] LC quantity: CML 2001 w/o LT, freshwater sediment ecotoxicity w/o LT, FSETP infinite w/o LT',\n",
       " 'propylene, pipeline system (CAS 115-07-1) [By-product classification: allocatable product]: [0.0044 [kg 1,4-DCB-Eq]] LC quantity: CML 2001 w/o LT, human toxicity w/o LT, HTP 100a w/o LT',\n",
       " 'propylene, pipeline system (CAS 115-07-1) [By-product classification: allocatable product]: [1.61 [kg oil-Eq]] LC quantity: ReCiPe Midpoint (E) w/o LT, fossil depletion w/o LT, FDP w/o LT',\n",
       " 'propylene, pipeline system (CAS 115-07-1) [By-product classification: allocatable product]: [8.85e-08 [kg waste]] LC quantity: EDIP, environmental impact, land filling, hazardous waste',\n",
       " 'propylene, pipeline system (CAS 115-07-1) [By-product classification: allocatable product]: [0.834 [m3 water]] LC quantity: EDIP2003 w/o LT, human toxicity w/o LT, via surface water w/o LT',\n",
       " 'propylene, pipeline system (CAS 115-07-1) [By-product classification: allocatable product]: [0.00191 [kg]] LC quantity: selected LCI results, air, sulphur dioxide',\n",
       " 'propylene, pipeline system (CAS 115-07-1) [By-product classification: allocatable product]: [0.028 [points]] LC quantity: ReCiPe Endpoint (H,A), ecosystem quality, total',\n",
       " 'propylene, pipeline system (CAS 115-07-1) [By-product classification: allocatable product]: [0.0282 [points]] LC quantity: ReCiPe Endpoint (H,A) w/o LT, ecosystem quality w/o LT, total w/o LT',\n",
       " 'propylene, pipeline system (CAS 115-07-1) [By-product classification: allocatable product]: [0.00323 [kg NO3-]] LC quantity: EDIP, environmental impact, nutrient enrichment, combined potential',\n",
       " 'propylene, pipeline system (CAS 115-07-1) [By-product classification: allocatable product]: [1.29 [kg CO2-Eq]] LC quantity: CML 2001 w/o LT, climate change w/o LT, GWP 500a w/o LT',\n",
       " 'propylene, pipeline system (CAS 115-07-1) [By-product classification: allocatable product]: [0.251 [points]] LC quantity: eco-indicator 99, (H,A) w/o LT, total w/o LT, total w/o LT',\n",
       " 'propylene, pipeline system (CAS 115-07-1) [By-product classification: allocatable product]: [1.24 [kg 1,4-DCB-Eq]] LC quantity: CML 2001, marine aquatic ecotoxicity, MAETP 500a',\n",
       " 'propylene, pipeline system (CAS 115-07-1) [By-product classification: allocatable product]: [0.0927 [kg 1,4-DCB-Eq]] LC quantity: ReCiPe Midpoint (E) w/o LT, marine ecotoxicity w/o LT, METPinf w/o LT',\n",
       " 'propylene, pipeline system (CAS 115-07-1) [By-product classification: allocatable product]: [1.69 [kg CO2-Eq]] LC quantity: IPCC 2013, climate change, GWP 100a',\n",
       " 'propylene, pipeline system (CAS 115-07-1) [By-product classification: allocatable product]: [4.48e-06 [points]] LC quantity: ecosystem damage potential, total, linear, land transformation',\n",
       " 'propylene, pipeline system (CAS 115-07-1) [By-product classification: allocatable product]: [0.0608 [points]] LC quantity: ReCiPe Endpoint (I,A), human health, total',\n",
       " 'propylene, pipeline system (CAS 115-07-1) [By-product classification: allocatable product]: [2.32e-11 [kg]] LC quantity: EDIP2003, non-renewable resources, cobalt',\n",
       " 'propylene, pipeline system (CAS 115-07-1) [By-product classification: allocatable product]: [0.00125 [points]] LC quantity: ReCiPe Endpoint (E,A) w/o LT, human health w/o LT, human toxicity w/o LT',\n",
       " 'propylene, pipeline system (CAS 115-07-1) [By-product classification: allocatable product]: [0.00343 [kg SO2-Eq]] LC quantity: ReCiPe Midpoint (E), terrestrial acidification, TAP500',\n",
       " 'propylene, pipeline system (CAS 115-07-1) [By-product classification: allocatable product]: [0.016 [kg 1,4-DCB-Eq]] LC quantity: CML 2001 w/o LT, marine sediment ecotoxicity w/o LT, MSETP 500a w/o LT',\n",
       " 'propylene, pipeline system (CAS 115-07-1) [By-product classification: allocatable product]: [94.6 [m3 air]] LC quantity: CML 2001, malodours air, malodours air',\n",
       " 'propylene, pipeline system (CAS 115-07-1) [By-product classification: allocatable product]: [0.000822 [kg 1,4-DCB-Eq]] LC quantity: ReCiPe Midpoint (H), marine ecotoxicity, METPinf',\n",
       " 'propylene, pipeline system (CAS 115-07-1) [By-product classification: allocatable product]: [73.2 [UBP]] LC quantity: ecological scarcity 1997, total, use of energy resources',\n",
       " 'propylene, pipeline system (CAS 115-07-1) [By-product classification: allocatable product]: [0.00381 [kg 1,4-DCB-Eq]] LC quantity: CML 2001 w/o LT, marine aquatic ecotoxicity w/o LT, MAETP 100a w/o LT',\n",
       " 'propylene, pipeline system (CAS 115-07-1) [By-product classification: allocatable product]: [0.00053 [kg Fe-Eq]] LC quantity: ReCiPe Midpoint (I), metal depletion, MDP',\n",
       " 'propylene, pipeline system (CAS 115-07-1) [By-product classification: allocatable product]: [3.64e-05 [kg 1,4-DCB-Eq]] LC quantity: CML 2001 w/o LT, terrestrial ecotoxicity w/o LT, TAETP 500a w/o LT',\n",
       " 'propylene, pipeline system (CAS 115-07-1) [By-product classification: allocatable product]: [0.0677 [CTU]] LC quantity: USEtox w/o LT, ecotoxicity w/o LT, total w/o LT',\n",
       " 'propylene, pipeline system (CAS 115-07-1) [By-product classification: allocatable product]: [0.000836 [kg N-Eq]] LC quantity: ReCiPe Midpoint (I), marine eutrophication, MEP',\n",
       " 'propylene, pipeline system (CAS 115-07-1) [By-product classification: allocatable product]: [6.81e-05 [points]] LC quantity: eco-indicator 99, (H,A), ecosystem quality, ecotoxicity',\n",
       " 'propylene, pipeline system (CAS 115-07-1) [By-product classification: allocatable product]: [8.43e-09 [kg]] LC quantity: EDIP, resource consumption, non-renewable resources, molybdenum',\n",
       " 'propylene, pipeline system (CAS 115-07-1) [By-product classification: allocatable product]: [1.16e-06 [kg]] LC quantity: EDIP, resource consumption, non-renewable resources, aluminium',\n",
       " 'propylene, pipeline system (CAS 115-07-1) [By-product classification: allocatable product]: [0.61 [kg]] LC quantity: EDIP w/o LT, resource consumption w/o LT, non-renewable resources, natural gas w/o LT',\n",
       " 'propylene, pipeline system (CAS 115-07-1) [By-product classification: allocatable product]: [24.3 [kg 1,4-DCB-Eq]] LC quantity: CML 2001 w/o LT, marine aquatic ecotoxicity w/o LT, MAETP infinite w/o LT',\n",
       " 'propylene, pipeline system (CAS 115-07-1) [By-product classification: allocatable product]: [0.000283 [kg PO4-Eq]] LC quantity: CML 2001 w/o LT, eutrophication potential w/o LT, generic w/o LT',\n",
       " 'propylene, pipeline system (CAS 115-07-1) [By-product classification: allocatable product]: [0.0114 [points]] LC quantity: eco-indicator 99, (H,A) w/o LT, human health w/o LT, respiratory effects w/o LT',\n",
       " 'propylene, pipeline system (CAS 115-07-1) [By-product classification: allocatable product]: [0.000186 [kg U235-Eq]] LC quantity: ReCiPe Midpoint (E), ionising radiation, IRP_HE',\n",
       " 'propylene, pipeline system (CAS 115-07-1) [By-product classification: allocatable product]: [0.252 [points]] LC quantity: eco-indicator 99, (H,A), total, total',\n",
       " 'propylene, pipeline system (CAS 115-07-1) [By-product classification: allocatable product]: [71.3 [MJ-Eq]] LC quantity: cumulative exergy demand, fossil, non-renewable energy resources, fossil',\n",
       " 'propylene, pipeline system (CAS 115-07-1) [By-product classification: allocatable product]: [5.25e-09 [ELU]] LC quantity: EPS 2000, total, emissions into soil',\n",
       " 'propylene, pipeline system (CAS 115-07-1) [By-product classification: allocatable product]: [1.42 [m3 waste water]] LC quantity: EDIP w/o LT, environmental impact w/o LT, ecotoxicity, in sewage treatment plants w/o LT',\n",
       " 'propylene, pipeline system (CAS 115-07-1) [By-product classification: allocatable product]: [0.000226 [m2a]] LC quantity: ReCiPe Midpoint (H) w/o LT, agricultural land occupation w/o LT, ALOP w/o LT',\n",
       " 'propylene, pipeline system (CAS 115-07-1) [By-product classification: allocatable product]: [1.58 [kg CO2-Eq]] LC quantity: CML 2001, climate change, upper limit of net GWP',\n",
       " 'propylene, pipeline system (CAS 115-07-1) [By-product classification: allocatable product]: [1.16e-06 [kg]] LC quantity: EDIP2003 w/o LT, non-renewable resources w/o LT, aluminium w/o LT',\n",
       " 'propylene, pipeline system (CAS 115-07-1) [By-product classification: allocatable product]: [6.62e-10 [kg CFC-11-Eq]] LC quantity: CML 2001, stratospheric ozone depletion, ODP 15a',\n",
       " 'propylene, pipeline system (CAS 115-07-1) [By-product classification: allocatable product]: [2.26 [kg CO2-Eq]] LC quantity: EDIP2003, global warming, GWP 20a',\n",
       " 'propylene, pipeline system (CAS 115-07-1) [By-product classification: allocatable product]: [0.00112 [kg ethylene-Eq]] LC quantity: EDIP, environmental impact, photochemical ozone formation, high NOx POCP',\n",
       " 'propylene, pipeline system (CAS 115-07-1) [By-product classification: allocatable product]: [0.000712 [m3]] LC quantity: ReCiPe Midpoint (E), water depletion, WDP',\n",
       " 'propylene, pipeline system (CAS 115-07-1) [By-product classification: allocatable product]: [0.00857 [kg waste]] LC quantity: EDIP w/o LT, environmental impact w/o LT, land filling, bulk waste w/o LT',\n",
       " 'propylene, pipeline system (CAS 115-07-1) [By-product classification: allocatable product]: [4.54e-09 [kg]] LC quantity: selected LCI results, additional, air, lead',\n",
       " 'propylene, pipeline system (CAS 115-07-1) [By-product classification: allocatable product]: [2.04e-09 [kg]] LC quantity: EDIP w/o LT, resource consumption w/o LT, non-renewable resources, tin w/o LT',\n",
       " 'propylene, pipeline system (CAS 115-07-1) [By-product classification: allocatable product]: [0.00448 [kg 1,4-DCB-Eq]] LC quantity: CML 2001 w/o LT, human toxicity w/o LT, HTP 500a w/o LT',\n",
       " 'propylene, pipeline system (CAS 115-07-1) [By-product classification: allocatable product]: [9.49e-06 [kg 1,4-DCB-Eq]] LC quantity: CML 2001 w/o LT, terrestrial ecotoxicity w/o LT, TAETP 100a w/o LT',\n",
       " 'propylene, pipeline system (CAS 115-07-1) [By-product classification: allocatable product]: [2.64e-07 [points]] LC quantity: ReCiPe Endpoint (H,A) w/o LT, ecosystem quality w/o LT, freshwater ecotoxicity w/o LT',\n",
       " 'propylene, pipeline system (CAS 115-07-1) [By-product classification: allocatable product]: [0.000518 [kg 1,4-DCB-Eq]] LC quantity: ReCiPe Midpoint (I), marine ecotoxicity, METP100',\n",
       " 'propylene, pipeline system (CAS 115-07-1) [By-product classification: allocatable product]: [0.000262 [kg ethylene-Eq]] LC quantity: CML 2001, photochemical oxidation (summer smog), high NOx POCP',\n",
       " 'propylene, pipeline system (CAS 115-07-1) [By-product classification: allocatable product]: [7.91e-13 [kg]] LC quantity: EDIP2003 w/o LT, non-renewable resources w/o LT, platinum w/o LT',\n",
       " 'propylene, pipeline system (CAS 115-07-1) [By-product classification: allocatable product]: [72.4 [MJ-Eq]] LC quantity: cumulative energy demand, fossil, non-renewable energy resources, fossil',\n",
       " 'propylene, pipeline system (CAS 115-07-1) [By-product classification: allocatable product]: [0.0256 [UBP]] LC quantity: ecological scarcity 2013, total, POP into water',\n",
       " 'propylene, pipeline system (CAS 115-07-1) [By-product classification: allocatable product]: [4.81e-10 [kg CFC-11-Eq]] LC quantity: EDIP, environmental impact, stratospheric ozone depletion, ODP steady state',\n",
       " 'propylene, pipeline system (CAS 115-07-1) [By-product classification: allocatable product]: [1.03e-06 [points]] LC quantity: IMPACT 2002+ (Endpoint), ecosystem quality, terrestrial acidification & nutrification',\n",
       " 'propylene, pipeline system (CAS 115-07-1) [By-product classification: allocatable product]: [0.000737 [points]] LC quantity: ReCiPe Endpoint (E,A), human health, photochemical oxidant formation',\n",
       " 'propylene, pipeline system (CAS 115-07-1) [By-product classification: allocatable product]: [-0.00068 [kg]] LC quantity: selected LCI results, additional, resource, carbon, biogenic, fixed',\n",
       " 'propylene, pipeline system (CAS 115-07-1) [By-product classification: allocatable product]: [13.6 [UBP]] LC quantity: ecological scarcity 2006, total, deposited waste',\n",
       " 'propylene, pipeline system (CAS 115-07-1) [By-product classification: allocatable product]: [9.77e-05 [kg U235-Eq]] LC quantity: ReCiPe Midpoint (E) w/o LT, ionising radiation w/o LT, IRP_HE w/o LT',\n",
       " 'propylene, pipeline system (CAS 115-07-1) [By-product classification: allocatable product]: [1.15e-06 [kg]] LC quantity: EDIP2003 w/o LT, non-renewable resources w/o LT, nickel w/o LT',\n",
       " 'propylene, pipeline system (CAS 115-07-1) [By-product classification: allocatable product]: [4.21e-07 [kg]] LC quantity: EDIP2003, non-renewable resources, manganese',\n",
       " 'propylene, pipeline system (CAS 115-07-1) [By-product classification: allocatable product]: [9.65e-06 [kg 1,4-DCB-Eq]] LC quantity: CML 2001, terrestrial ecotoxicity, TAETP 100a',\n",
       " 'propylene, pipeline system (CAS 115-07-1) [By-product classification: allocatable product]: [1.15e-06 [kg]] LC quantity: EDIP2003, non-renewable resources, nickel',\n",
       " 'propylene, pipeline system (CAS 115-07-1) [By-product classification: allocatable product]: [6.76e-10 [kg CFC-11-Eq]] LC quantity: CML 2001, stratospheric ozone depletion, ODP 5a',\n",
       " 'propylene, pipeline system (CAS 115-07-1) [By-product classification: allocatable product]: [0.02 [points]] LC quantity: eco-indicator 99, (H,A), human health, total',\n",
       " 'propylene, pipeline system (CAS 115-07-1) [By-product classification: allocatable product]: [4.81e-10 [kg CFC-11-Eq]] LC quantity: CML 2001, stratospheric ozone depletion, ODP steady state',\n",
       " 'propylene, pipeline system (CAS 115-07-1) [By-product classification: allocatable product]: [1.06e-06 [points]] LC quantity: ReCiPe Endpoint (H,A), ecosystem quality, freshwater eutrophication',\n",
       " 'propylene, pipeline system (CAS 115-07-1) [By-product classification: allocatable product]: [0.00477 [kg NMVOC]] LC quantity: ReCiPe Midpoint (E), photochemical oxidant formation, POFP',\n",
       " 'propylene, pipeline system (CAS 115-07-1) [By-product classification: allocatable product]: [4.21e-07 [kg]] LC quantity: EDIP, resource consumption, non-renewable resources, manganese',\n",
       " 'propylene, pipeline system (CAS 115-07-1) [By-product classification: allocatable product]: [0.000971 [kg 1,4-DCB-Eq]] LC quantity: ReCiPe Midpoint (H), freshwater ecotoxicity, FETPinf',\n",
       " 'propylene, pipeline system (CAS 115-07-1) [By-product classification: allocatable product]: [0.00114 [kg PM10-Eq]] LC quantity: ReCiPe Midpoint (H) w/o LT, particulate matter formation w/o LT, PMFP w/o LT',\n",
       " 'propylene, pipeline system (CAS 115-07-1) [By-product classification: allocatable product]: [4.63e-10 [kg CFC-11-Eq]] LC quantity: TRACI, environmental impact, ozone depletion',\n",
       " 'propylene, pipeline system (CAS 115-07-1) [By-product classification: allocatable product]: [0.000193 [kg formed ozone]] LC quantity: CML 2001 w/o LT, photochemical oxidation w/o LT, MOIR w/o LT',\n",
       " 'propylene, pipeline system (CAS 115-07-1) [By-product classification: allocatable product]: [0.185 [kg 1,4-DCB-Eq]] LC quantity: ReCiPe Midpoint (E) w/o LT, human toxicity w/o LT, HTPinf w/o LT',\n",
       " 'propylene, pipeline system (CAS 115-07-1) [By-product classification: allocatable product]: [3.08e-06 [points]] LC quantity: ReCiPe Endpoint (I,A), ecosystem quality, urban land occupation',\n",
       " 'propylene, pipeline system (CAS 115-07-1) [By-product classification: allocatable product]: [0.0929 [kg 1,4-DCB-Eq]] LC quantity: CML 2001, freshwater sediment ecotoxicity, FSETP 100a',\n",
       " 'propylene, pipeline system (CAS 115-07-1) [By-product classification: allocatable product]: [2.73e-06 [kg PO4-Eq]] LC quantity: IMPACT 2002+ (Midpoint), ecosystem quality, aquatic eutrophication',\n",
       " 'propylene, pipeline system (CAS 115-07-1) [By-product classification: allocatable product]: [0.00437 [kg 1,4-DCB-Eq]] LC quantity: CML 2001 w/o LT, human toxicity w/o LT, HTP 20a w/o LT',\n",
       " 'propylene, pipeline system (CAS 115-07-1) [By-product classification: allocatable product]: [1.42e-08 [points]] LC quantity: ReCiPe Endpoint (E,A), human health, ozone depletion',\n",
       " 'propylene, pipeline system (CAS 115-07-1) [By-product classification: allocatable product]: [5.78 [m3 water]] LC quantity: EDIP w/o LT, environmental impact w/o LT, ecotoxicity, chronic, in water w/o LT',\n",
       " 'propylene, pipeline system (CAS 115-07-1) [By-product classification: allocatable product]: [0.00342 [kg SO2-Eq]] LC quantity: IMPACT 2002+ (Midpoint), ecosystem quality, aquatic acidification',\n",
       " 'propylene, pipeline system (CAS 115-07-1) [By-product classification: allocatable product]: [0.0015 [points]] LC quantity: eco-indicator 99, (E,E), ecosystem quality, total',\n",
       " 'propylene, pipeline system (CAS 115-07-1) [By-product classification: allocatable product]: [0.000128 [points]] LC quantity: IMPACT 2002+ (Endpoint), climate change, climate change',\n",
       " 'propylene, pipeline system (CAS 115-07-1) [By-product classification: allocatable product]: [2.32e-11 [kg]] LC quantity: EDIP w/o LT, resource consumption w/o LT, non-renewable resources, cobalt w/o LT',\n",
       " 'propylene, pipeline system (CAS 115-07-1) [By-product classification: allocatable product]: [2.9e-05 [points]] LC quantity: eco-indicator 99, (E,E) w/o LT, ecosystem quality w/o LT, land occupation w/o LT',\n",
       " 'propylene, pipeline system (CAS 115-07-1) [By-product classification: allocatable product]: [1.01e-08 [kg]] LC quantity: EDIP2003, non-renewable resources, cadmium',\n",
       " 'propylene, pipeline system (CAS 115-07-1) [By-product classification: allocatable product]: [3.15e-08 [points]] LC quantity: ReCiPe Endpoint (I,A), human health, ionising radiation',\n",
       " 'propylene, pipeline system (CAS 115-07-1) [By-product classification: allocatable product]: [0.0279 [points]] LC quantity: ReCiPe Endpoint (H,A), ecosystem quality, climate change, ecosystems',\n",
       " 'propylene, pipeline system (CAS 115-07-1) [By-product classification: allocatable product]: [2.28e-05 [points]] LC quantity: ReCiPe Endpoint (E,A) w/o LT, ecosystem quality w/o LT, marine ecotoxicity w/o LT',\n",
       " 'propylene, pipeline system (CAS 115-07-1) [By-product classification: allocatable product]: [4.79e-11 [kg]] LC quantity: EDIP w/o LT, resource consumption w/o LT, non-renewable resources, lanthanum w/o LT',\n",
       " 'propylene, pipeline system (CAS 115-07-1) [By-product classification: allocatable product]: [-1.27e-06 [ELU]] LC quantity: EPS 2000, total, emissions into water',\n",
       " 'propylene, pipeline system (CAS 115-07-1) [By-product classification: allocatable product]: [2.04e-09 [kg]] LC quantity: EDIP2003 w/o LT, non-renewable resources w/o LT, tin w/o LT',\n",
       " 'propylene, pipeline system (CAS 115-07-1) [By-product classification: allocatable product]: [7.55e-08 [points]] LC quantity: eco-indicator 99, (E,E), human health, ionising radiation',\n",
       " 'propylene, pipeline system (CAS 115-07-1) [By-product classification: allocatable product]: [0.0171 [MJ]] LC quantity: selected LCI results, additional, total, heat, waste',\n",
       " 'propylene, pipeline system (CAS 115-07-1) [By-product classification: allocatable product]: [0.000315 [kg waste]] LC quantity: EDIP, environmental impact, land filling, slag and ashes',\n",
       " 'propylene, pipeline system (CAS 115-07-1) [By-product classification: allocatable product]: [0.00289 [points]] LC quantity: ReCiPe Endpoint (E,A), human health, particulate matter formation',\n",
       " 'propylene, pipeline system (CAS 115-07-1) [By-product classification: allocatable product]: [0.0178 [kg]] LC quantity: selected LCI results, additional, air, methane',\n",
       " 'propylene, pipeline system (CAS 115-07-1) [By-product classification: allocatable product]: [3.99e-06 [points]] LC quantity: IMPACT 2002+ (Endpoint), human health, human toxicity',\n",
       " 'propylene, pipeline system (CAS 115-07-1) [By-product classification: allocatable product]: [0.000187 [points]] LC quantity: ecosystem damage potential, total, linear, land occupation',\n",
       " 'propylene, pipeline system (CAS 115-07-1) [By-product classification: allocatable product]: [7.08e-05 [points]] LC quantity: ReCiPe Endpoint (E,A), ecosystem quality, terrestrial acidification',\n",
       " 'propylene, pipeline system (CAS 115-07-1) [By-product classification: allocatable product]: [0.00734 [m3 soil]] LC quantity: EDIP w/o LT, environmental impact w/o LT, human toxicity, via soil w/o LT',\n",
       " 'propylene, pipeline system (CAS 115-07-1) [By-product classification: allocatable product]: [0.207 [points]] LC quantity: ReCiPe Endpoint (E,A) w/o LT, resources w/o LT, fossil depletion w/o LT',\n",
       " 'propylene, pipeline system (CAS 115-07-1) [By-product classification: allocatable product]: [0.000107 [kg]] LC quantity: selected LCI results, air, particulates, < 2.5 um',\n",
       " 'propylene, pipeline system (CAS 115-07-1) [By-product classification: allocatable product]: [0.074 [MJ-Eq]] LC quantity: cumulative energy demand, biomass, renewable energy resources, biomass',\n",
       " 'propylene, pipeline system (CAS 115-07-1) [By-product classification: allocatable product]: [0.000254 [kg]] LC quantity: EDIP w/o LT, resource consumption w/o LT, non-renewable resources, iron w/o LT',\n",
       " 'propylene, pipeline system (CAS 115-07-1) [By-product classification: allocatable product]: [1.01e-08 [kg]] LC quantity: EDIP2003 w/o LT, non-renewable resources w/o LT, cadmium w/o LT',\n",
       " 'propylene, pipeline system (CAS 115-07-1) [By-product classification: allocatable product]: [8.78e-05 [points]] LC quantity: eco-indicator 99, (I,I), resources, mineral extraction',\n",
       " 'propylene, pipeline system (CAS 115-07-1) [By-product classification: allocatable product]: [-4.05e-08 [m2]] LC quantity: ReCiPe Midpoint (H), natural land transformation, NLTP',\n",
       " 'propylene, pipeline system (CAS 115-07-1) [By-product classification: allocatable product]: [2.32e-11 [kg]] LC quantity: EDIP, resource consumption, non-renewable resources, cobalt',\n",
       " 'propylene, pipeline system (CAS 115-07-1) [By-product classification: allocatable product]: [8.1e-07 [points]] LC quantity: ReCiPe Endpoint (E,A), ecosystem quality, freshwater ecotoxicity',\n",
       " 'propylene, pipeline system (CAS 115-07-1) [By-product classification: allocatable product]: [4.52e-07 [kg]] LC quantity: EDIP w/o LT, resource consumption w/o LT, non-renewable resources, copper w/o LT',\n",
       " 'propylene, pipeline system (CAS 115-07-1) [By-product classification: allocatable product]: [1.57e-06 [points]] LC quantity: eco-indicator 99, (H,A) w/o LT, resources w/o LT, mineral extraction w/o LT',\n",
       " 'propylene, pipeline system (CAS 115-07-1) [By-product classification: allocatable product]: [0.206 [points]] LC quantity: ReCiPe Endpoint (I,A), resources, total',\n",
       " 'propylene, pipeline system (CAS 115-07-1) [By-product classification: allocatable product]: [94.4 [m3 air]] LC quantity: CML 2001 w/o LT, malodours air w/o LT, malodours air w/o LT',\n",
       " 'propylene, pipeline system (CAS 115-07-1) [By-product classification: allocatable product]: [7.17e-07 [points]] LC quantity: ReCiPe Endpoint (H,A) w/o LT, ecosystem quality w/o LT, terrestrial ecotoxicity w/o LT',\n",
       " 'propylene, pipeline system (CAS 115-07-1) [By-product classification: allocatable product]: [3.07 [m2a]] LC quantity: ecological footprint, total, CO2',\n",
       " 'propylene, pipeline system (CAS 115-07-1) [By-product classification: allocatable product]: [0.00291 [kg NO3-]] LC quantity: EDIP2003 w/o LT, eutrophication w/o LT, combined potential w/o LT',\n",
       " 'propylene, pipeline system (CAS 115-07-1) [By-product classification: allocatable product]: [0.000254 [kg]] LC quantity: EDIP2003, non-renewable resources, iron',\n",
       " 'propylene, pipeline system (CAS 115-07-1) [By-product classification: allocatable product]: [6.56e-10 [kg CFC-11-Eq]] LC quantity: CML 2001 w/o LT, stratospheric ozone depletion w/o LT, ODP 20a w/o LT',\n",
       " 'propylene, pipeline system (CAS 115-07-1) [By-product classification: allocatable product]: [0.0677 [kg 1,4-DCB-Eq]] LC quantity: CML 2001, freshwater aquatic ecotoxicity, FAETP 100a',\n",
       " 'propylene, pipeline system (CAS 115-07-1) [By-product classification: allocatable product]: [0.000646 [kg N]] LC quantity: EDIP w/o LT, environmental impact w/o LT, nutrient enrichment, separate N potential w/o LT',\n",
       " 'propylene, pipeline system (CAS 115-07-1) [By-product classification: allocatable product]: [2.26 [kg CO2-Eq]] LC quantity: EDIP2003 w/o LT, global warming w/o LT, GWP 20a w/o LT',\n",
       " 'propylene, pipeline system (CAS 115-07-1) [By-product classification: allocatable product]: [0.00342 [kg SO2-Eq]] LC quantity: EDIP w/o LT, environmental impact w/o LT, acidification w/o LT',\n",
       " 'propylene, pipeline system (CAS 115-07-1) [By-product classification: allocatable product]: [0.00458 [kg 1,4-DCB-Eq]] LC quantity: ReCiPe Midpoint (H) w/o LT, human toxicity w/o LT, HTPinf w/o LT',\n",
       " 'propylene, pipeline system (CAS 115-07-1) [By-product classification: allocatable product]: [3.71e-07 [kg]] LC quantity: EDIP w/o LT, resource consumption w/o LT, non-renewable resources, lead w/o LT',\n",
       " 'propylene, pipeline system (CAS 115-07-1) [By-product classification: allocatable product]: [0.00112 [kg ethylene-Eq]] LC quantity: EDIP w/o LT, environmental impact w/o LT, photochemical ozone formation, high NOx POCP w/o LT',\n",
       " 'propylene, pipeline system (CAS 115-07-1) [By-product classification: allocatable product]: [4.89e-06 [points]] LC quantity: ReCiPe Endpoint (I,A), ecosystem quality, agricultural land occupation',\n",
       " 'propylene, pipeline system (CAS 115-07-1) [By-product classification: allocatable product]: [0.0777 [MJ-Eq]] LC quantity: cumulative exergy demand, biomass, renewable energy resources, biomass',\n",
       " 'propylene, pipeline system (CAS 115-07-1) [By-product classification: allocatable product]: [0.000786 [points]] LC quantity: eco-indicator 99, (I,I), ecosystem quality, acidification & eutrophication',\n",
       " 'propylene, pipeline system (CAS 115-07-1) [By-product classification: allocatable product]: [9.19e-10 [kg]] LC quantity: EDIP2003 w/o LT, non-renewable resources w/o LT, mercury w/o LT',\n",
       " 'propylene, pipeline system (CAS 115-07-1) [By-product classification: allocatable product]: [0.00857 [kg waste]] LC quantity: EDIP, environmental impact, land filling, bulk waste',\n",
       " 'propylene, pipeline system (CAS 115-07-1) [By-product classification: allocatable product]: [1.25e-10 [kg]] LC quantity: EDIP2003 w/o LT, non-renewable resources w/o LT, tantalum w/o LT',\n",
       " 'propylene, pipeline system (CAS 115-07-1) [By-product classification: allocatable product]: [0.015 [points]] LC quantity: eco-indicator 99, (E,E), human health, total',\n",
       " 'propylene, pipeline system (CAS 115-07-1) [By-product classification: allocatable product]: [9.19e-10 [kg]] LC quantity: EDIP w/o LT, resource consumption w/o LT, non-renewable resources, mercury w/o LT',\n",
       " 'propylene, pipeline system (CAS 115-07-1) [By-product classification: allocatable product]: [0.000427 [kg]] LC quantity: selected LCI results, additional, air, particulates',\n",
       " 'propylene, pipeline system (CAS 115-07-1) [By-product classification: allocatable product]: [4.02e-10 [kg]] LC quantity: EDIP2003, non-renewable resources, silver',\n",
       " 'propylene, pipeline system (CAS 115-07-1) [By-product classification: allocatable product]: [369 [kg 1,4-DCB-Eq]] LC quantity: CML 2001, marine aquatic ecotoxicity, MAETP infinite',\n",
       " 'propylene, pipeline system (CAS 115-07-1) [By-product classification: allocatable product]: [8.14e-05 [m2a]] LC quantity: ReCiPe Midpoint (H), urban land occupation, ULOP',\n",
       " 'propylene, pipeline system (CAS 115-07-1) [By-product classification: allocatable product]: [2.62e-11 [kg]] LC quantity: EDIP w/o LT, resource consumption w/o LT, non-renewable resources, gold w/o LT',\n",
       " 'propylene, pipeline system (CAS 115-07-1) [By-product classification: allocatable product]: [1.59 [kg CO2-Eq]] LC quantity: ReCiPe Midpoint (H) w/o LT, climate change w/o LT, GWP100 w/o LT',\n",
       " 'propylene, pipeline system (CAS 115-07-1) [By-product classification: allocatable product]: [2.46e-05 [points]] LC quantity: ReCiPe Endpoint (E,A) w/o LT, resources w/o LT, metal depletion w/o LT',\n",
       " 'propylene, pipeline system (CAS 115-07-1) [By-product classification: allocatable product]: [0.0109 [UBP]] LC quantity: ecological scarcity 2013, total, Heavy metals into soil',\n",
       " 'propylene, pipeline system (CAS 115-07-1) [By-product classification: allocatable product]: [4.69e-06 [kBq]] LC quantity: selected LCI results, additional, water, radioactive, actinides',\n",
       " 'propylene, pipeline system (CAS 115-07-1) [By-product classification: allocatable product]: [5.63e-07 [kBq]] LC quantity: selected LCI results, additional, air, radioactive, actinides',\n",
       " 'propylene, pipeline system (CAS 115-07-1) [By-product classification: allocatable product]: [0.0331 [points]] LC quantity: eco-indicator 99, (I,I), human health, total',\n",
       " 'propylene, pipeline system (CAS 115-07-1) [By-product classification: allocatable product]: [0.00224 [kg]] LC quantity: selected LCI results, air, NMVOC',\n",
       " 'propylene, pipeline system (CAS 115-07-1) [By-product classification: allocatable product]: [0.206 [points]] LC quantity: ReCiPe Endpoint (I,A), resources, fossil depletion',\n",
       " 'propylene, pipeline system (CAS 115-07-1) [By-product classification: allocatable product]: [6.56e-10 [kg CFC-11-Eq]] LC quantity: CML 2001 w/o LT, stratospheric ozone depletion w/o LT, ODP 25a w/o LT',\n",
       " 'propylene, pipeline system (CAS 115-07-1) [By-product classification: allocatable product]: [0.00319 [kg NO3-]] LC quantity: EDIP2003, eutrophication, combined potential',\n",
       " 'propylene, pipeline system (CAS 115-07-1) [By-product classification: allocatable product]: [2.38 [kg CO2-Eq]] LC quantity: IPCC 2013, climate change, GTP 20a',\n",
       " 'propylene, pipeline system (CAS 115-07-1) [By-product classification: allocatable product]: [4.02e-10 [kg]] LC quantity: EDIP w/o LT, resource consumption w/o LT, non-renewable resources, silver w/o LT',\n",
       " 'propylene, pipeline system (CAS 115-07-1) [By-product classification: allocatable product]: [1.65e-05 [points]] LC quantity: eco-indicator 99, (I,I), ecosystem quality, land occupation',\n",
       " 'propylene, pipeline system (CAS 115-07-1) [By-product classification: allocatable product]: [0.207 [points]] LC quantity: ReCiPe Endpoint (H,A), resources, fossil depletion',\n",
       " 'propylene, pipeline system (CAS 115-07-1) [By-product classification: allocatable product]: [2.45e-06 [points]] LC quantity: ReCiPe Endpoint (E,A), ecosystem quality, urban land occupation',\n",
       " 'propylene, pipeline system (CAS 115-07-1) [By-product classification: allocatable product]: [4.53e-07 [kg P]] LC quantity: EDIP2003 w/o LT, eutrophication w/o LT, separate P potential w/o LT',\n",
       " 'propylene, pipeline system (CAS 115-07-1) [By-product classification: allocatable product]: [0.000315 [kg waste]] LC quantity: EDIP2003, land filling, slag and ashes',\n",
       " 'propylene, pipeline system (CAS 115-07-1) [By-product classification: allocatable product]: [0.000375 [UBP]] LC quantity: ecological scarcity 2013, total, Pesticides into soil',\n",
       " 'propylene, pipeline system (CAS 115-07-1) [By-product classification: allocatable product]: [1.11e-07 [kg waste]] LC quantity: EDIP, environmental impact, land filling, radioactive waste',\n",
       " 'propylene, pipeline system (CAS 115-07-1) [By-product classification: allocatable product]: [1.37e-08 [points]] LC quantity: eco-indicator 99, (E,E) w/o LT, human health w/o LT, ozone layer depletion w/o LT',\n",
       " 'propylene, pipeline system (CAS 115-07-1) [By-product classification: allocatable product]: [1.76 [MJ-Eq]] LC quantity: cumulative exergy demand, water resources, renewable material resources, water',\n",
       " 'propylene, pipeline system (CAS 115-07-1) [By-product classification: allocatable product]: [0.0149 [points]] LC quantity: eco-indicator 99, (E,E) w/o LT, human health w/o LT, total w/o LT',\n",
       " 'propylene, pipeline system (CAS 115-07-1) [By-product classification: allocatable product]: [1.24e-07 [m3]] LC quantity: EDIP w/o LT, resource consumption w/o LT, renewable resources, wood w/o LT',\n",
       " 'propylene, pipeline system (CAS 115-07-1) [By-product classification: allocatable product]: [0.000143 [kg 1,4-DCB-Eq]] LC quantity: ReCiPe Midpoint (H) w/o LT, freshwater ecotoxicity w/o LT, FETPinf w/o LT',\n",
       " 'propylene, pipeline system (CAS 115-07-1) [By-product classification: allocatable product]: [1.57 [kg CO2-Eq]] LC quantity: CML 2001, climate change, lower limit of net GWP',\n",
       " 'propylene, pipeline system (CAS 115-07-1) [By-product classification: allocatable product]: [3.75e-06 [kBq]] LC quantity: selected LCI results, additional, water, radioactive, nuclides',\n",
       " 'propylene, pipeline system (CAS 115-07-1) [By-product classification: allocatable product]: [0.000737 [points]] LC quantity: ReCiPe Endpoint (E,A) w/o LT, human health w/o LT, photochemical oxidant formation w/o LT',\n",
       " 'propylene, pipeline system (CAS 115-07-1) [By-product classification: allocatable product]: [0.0012 [points]] LC quantity: ReCiPe Endpoint (H,A) w/o LT, human health w/o LT, photochemical oxidant formation w/o LT',\n",
       " 'propylene, pipeline system (CAS 115-07-1) [By-product classification: allocatable product]: [8.91e-05 [kg N-Eq]] LC quantity: ReCiPe Midpoint (H) w/o LT, marine eutrophication w/o LT, MEP w/o LT',\n",
       " 'propylene, pipeline system (CAS 115-07-1) [By-product classification: allocatable product]: [9.43e-07 [MJ-Eq]] LC quantity: cumulative exergy demand, primary forest, non-renewable energy resources, primary forest',\n",
       " 'propylene, pipeline system (CAS 115-07-1) [By-product classification: allocatable product]: [1.72 [kg oil-Eq]] LC quantity: ReCiPe Midpoint (I), fossil depletion, FDP',\n",
       " 'propylene, pipeline system (CAS 115-07-1) [By-product classification: allocatable product]: [2.05e-12 [DALYs]] LC quantity: CML 2001 w/o LT, ionising radiation w/o LT, ionising radiation w/o LT',\n",
       " 'propylene, pipeline system (CAS 115-07-1) [By-product classification: allocatable product]: [2.68 [kg CO2-Eq]] LC quantity: IPCC 2013 no LT, climate change, GWP 20a',\n",
       " 'propylene, pipeline system (CAS 115-07-1) [By-product classification: allocatable product]: [0.00587 [points]] LC quantity: ReCiPe Endpoint (H,A) w/o LT, human health w/o LT, particulate matter formation w/o LT',\n",
       " 'propylene, pipeline system (CAS 115-07-1) [By-product classification: allocatable product]: [0.00311 [kg SO2-Eq]] LC quantity: ReCiPe Midpoint (H), terrestrial acidification, TAP100',\n",
       " 'propylene, pipeline system (CAS 115-07-1) [By-product classification: allocatable product]: [5.78 [m3 water]] LC quantity: EDIP2003 w/o LT, ecotoxicity w/o LT, chronic, in water w/o LT',\n",
       " 'propylene, pipeline system (CAS 115-07-1) [By-product classification: allocatable product]: [1.25e-10 [kg]] LC quantity: EDIP w/o LT, resource consumption w/o LT, non-renewable resources, tantalum w/o LT',\n",
       " 'propylene, pipeline system (CAS 115-07-1) [By-product classification: allocatable product]: [0.00597 [kg 1,4-DCB-Eq]] LC quantity: CML 2001, human toxicity, HTP 500a',\n",
       " 'propylene, pipeline system (CAS 115-07-1) [By-product classification: allocatable product]: [0.00554 [kg 2,4-D-Eq]] LC quantity: TRACI, environmental impact, ecotoxicity',\n",
       " 'propylene, pipeline system (CAS 115-07-1) [By-product classification: allocatable product]: [3.73e-06 [points]] LC quantity: ReCiPe Endpoint (H,A), ecosystem quality, urban land occupation',\n",
       " 'propylene, pipeline system (CAS 115-07-1) [By-product classification: allocatable product]: [0.000218 [kg ethylene-Eq]] LC quantity: CML 2001, photochemical oxidation (summer smog), low NOx POCP',\n",
       " 'propylene, pipeline system (CAS 115-07-1) [By-product classification: allocatable product]: [0.000666 [kg PM2.5-Eq]] LC quantity: TRACI, human health, respiratory effects, average',\n",
       " 'propylene, pipeline system (CAS 115-07-1) [By-product classification: allocatable product]: [5.14e-08 [points]] LC quantity: ReCiPe Endpoint (H,A) w/o LT, ecosystem quality w/o LT, freshwater eutrophication w/o LT',\n",
       " 'propylene, pipeline system (CAS 115-07-1) [By-product classification: allocatable product]: [3.49 [UBP]] LC quantity: ecological scarcity 2006, total, natural resources',\n",
       " 'propylene, pipeline system (CAS 115-07-1) [By-product classification: allocatable product]: [1.84e-08 [points]] LC quantity: eco-indicator 99, (H,A), human health, ozone layer depletion',\n",
       " 'propylene, pipeline system (CAS 115-07-1) [By-product classification: allocatable product]: [0.000836 [kg N-Eq]] LC quantity: ReCiPe Midpoint (E), marine eutrophication, MEP',\n",
       " 'propylene, pipeline system (CAS 115-07-1) [By-product classification: allocatable product]: [0.0414 [points]] LC quantity: ReCiPe Endpoint (I,A), ecosystem quality, climate change, ecosystems',\n",
       " 'propylene, pipeline system (CAS 115-07-1) [By-product classification: allocatable product]: [0.000971 [kg 1,4-DCB-Eq]] LC quantity: ReCiPe Midpoint (E), freshwater ecotoxicity, FETPinf',\n",
       " 'propylene, pipeline system (CAS 115-07-1) [By-product classification: allocatable product]: [81.7 [m3 waste water]] LC quantity: EDIP, environmental impact, ecotoxicity, in sewage treatment plants',\n",
       " 'propylene, pipeline system (CAS 115-07-1) [By-product classification: allocatable product]: [0.0379 [kg]] LC quantity: EDIP w/o LT, resource consumption w/o LT, non-renewable resources, coal w/o LT',\n",
       " 'propylene, pipeline system (CAS 115-07-1) [By-product classification: allocatable product]: [5.82e-09 [CTU]] LC quantity: USEtox w/o LT, human toxicity w/o LT, non-carcinogenic w/o LT',\n",
       " 'propylene, pipeline system (CAS 115-07-1) [By-product classification: allocatable product]: [1.8 [UBP]] LC quantity: ecological scarcity 2013, total, Non radioactive waste to deposit',\n",
       " 'propylene, pipeline system (CAS 115-07-1) [By-product classification: allocatable product]: [13 [m3 water]] LC quantity: EDIP2003, ecotoxicity, acute, in water',\n",
       " 'propylene, pipeline system (CAS 115-07-1) [By-product classification: allocatable product]: [5.32e-08 [points]] LC quantity: eco-indicator 99, (H,A) w/o LT, human health w/o LT, ionising radiation w/o LT',\n",
       " 'propylene, pipeline system (CAS 115-07-1) [By-product classification: allocatable product]: [3.01e-06 [points]] LC quantity: eco-indicator 99, (I,I), ecosystem quality, ecotoxicity',\n",
       " 'propylene, pipeline system (CAS 115-07-1) [By-product classification: allocatable product]: [-2.77e-07 [points]] LC quantity: ReCiPe Endpoint (I,A), ecosystem quality, natural land transformation',\n",
       " 'propylene, pipeline system (CAS 115-07-1) [By-product classification: allocatable product]: [2.56e-06 [kg 1,4-DCB-Eq]] LC quantity: ReCiPe Midpoint (H), terrestrial ecotoxicity, TETPinf',\n",
       " 'propylene, pipeline system (CAS 115-07-1) [By-product classification: allocatable product]: [2.43 [kg CO2-Eq]] LC quantity: ReCiPe Midpoint (I), climate change, GWP20',\n",
       " 'propylene, pipeline system (CAS 115-07-1) [By-product classification: allocatable product]: [6.22e-10 [kg CFC-11-Eq]] LC quantity: CML 2001, stratospheric ozone depletion, ODP 40a',\n",
       " 'propylene, pipeline system (CAS 115-07-1) [By-product classification: allocatable product]: [0.0114 [points]] LC quantity: eco-indicator 99, (H,A), human health, respiratory effects',\n",
       " 'propylene, pipeline system (CAS 115-07-1) [By-product classification: allocatable product]: [5.48e-06 [points]] LC quantity: ReCiPe Endpoint (E,A) w/o LT, ecosystem quality w/o LT, agricultural land occupation w/o LT',\n",
       " 'propylene, pipeline system (CAS 115-07-1) [By-product classification: allocatable product]: [2.38 [kg CO2-Eq]] LC quantity: IPCC 2013 no LT, climate change, GTP 20a',\n",
       " 'propylene, pipeline system (CAS 115-07-1) [By-product classification: allocatable product]: [6.6e-10 [kg CFC-11-Eq]] LC quantity: EDIP, environmental impact, stratospheric ozone depletion, ODP 20a',\n",
       " 'propylene, pipeline system (CAS 115-07-1) [By-product classification: allocatable product]: [2.45e-06 [points]] LC quantity: ReCiPe Endpoint (E,A) w/o LT, ecosystem quality w/o LT, urban land occupation w/o LT',\n",
       " 'propylene, pipeline system (CAS 115-07-1) [By-product classification: allocatable product]: [0.0677 [kg 1,4-DCB-Eq]] LC quantity: CML 2001, freshwater aquatic ecotoxicity, FAETP 500a',\n",
       " 'propylene, pipeline system (CAS 115-07-1) [By-product classification: allocatable product]: [1 [kg]] LC quantity: EcoSpold Quantity kg',\n",
       " 'propylene, pipeline system (CAS 115-07-1) [By-product classification: allocatable product]: [0.000497 [m2a]] LC quantity: ecological footprint, total, land occupation',\n",
       " 'propylene, pipeline system (CAS 115-07-1) [By-product classification: allocatable product]: [0.0179 [MJ-Eq]] LC quantity: cumulative energy demand, water, renewable energy resources, potential (in barrage water), converted',\n",
       " 'propylene, pipeline system (CAS 115-07-1) [By-product classification: allocatable product]: [0.0519 [points]] LC quantity: ReCiPe Endpoint (H,A), human health, total',\n",
       " 'propylene, pipeline system (CAS 115-07-1) [By-product classification: allocatable product]: [247 [UBP]] LC quantity: ecological scarcity 2006, total, energy resources',\n",
       " 'propylene, pipeline system (CAS 115-07-1) [By-product classification: allocatable product]: [0.000314 [kg PO4-Eq]] LC quantity: CML 2001, eutrophication potential, generic',\n",
       " 'propylene, pipeline system (CAS 115-07-1) [By-product classification: allocatable product]: [0.00302 [points]] LC quantity: ReCiPe Endpoint (E,A) w/o LT, human health w/o LT, particulate matter formation w/o LT',\n",
       " 'propylene, pipeline system (CAS 115-07-1) [By-product classification: allocatable product]: [0.61 [kg]] LC quantity: EDIP2003, non-renewable resources, natural gas',\n",
       " 'propylene, pipeline system (CAS 115-07-1) [By-product classification: allocatable product]: [1.29 [kg CO2-Eq]] LC quantity: IPCC 2007 no LT, climate change, GWP 500a',\n",
       " 'propylene, pipeline system (CAS 115-07-1) [By-product classification: allocatable product]: [2.46e-05 [points]] LC quantity: ReCiPe Endpoint (E,A), resources, metal depletion',\n",
       " 'propylene, pipeline system (CAS 115-07-1) [By-product classification: allocatable product]: [1.08e-12 [kg]] LC quantity: EDIP, resource consumption, non-renewable resources, palladium',\n",
       " 'propylene, pipeline system (CAS 115-07-1) [By-product classification: allocatable product]: [1.56e-08 [points]] LC quantity: ReCiPe Endpoint (E,A) w/o LT, human health w/o LT, ionising radiation w/o LT',\n",
       " 'propylene, pipeline system (CAS 115-07-1) [By-product classification: allocatable product]: [1.21e-06 [points]] LC quantity: IMPACT 2002+ (Endpoint), ecosystem quality, total',\n",
       " 'propylene, pipeline system (CAS 115-07-1) [By-product classification: allocatable product]: [1.01e-07 [points]] LC quantity: eco-indicator 99, (H,A), human health, ionising radiation',\n",
       " 'propylene, pipeline system (CAS 115-07-1) [By-product classification: allocatable product]: [1.25e-10 [kg]] LC quantity: EDIP2003, non-renewable resources, tantalum',\n",
       " 'propylene, pipeline system (CAS 115-07-1) [By-product classification: allocatable product]: [0.00928 [kg 1,4-DCB-Eq]] LC quantity: ReCiPe Midpoint (H), human toxicity, HTPinf',\n",
       " 'propylene, pipeline system (CAS 115-07-1) [By-product classification: allocatable product]: [0.0199 [points]] LC quantity: eco-indicator 99, (H,A) w/o LT, human health w/o LT, total w/o LT',\n",
       " 'propylene, pipeline system (CAS 115-07-1) [By-product classification: allocatable product]: [2.17e-06 [kg 1,4-DCB-Eq]] LC quantity: ReCiPe Midpoint (H) w/o LT, terrestrial ecotoxicity w/o LT, TETPinf w/o LT',\n",
       " 'propylene, pipeline system (CAS 115-07-1) [By-product classification: allocatable product]: [0.000253 [points]] LC quantity: eco-indicator 99, (H,A), human health, carcinogenics',\n",
       " 'propylene, pipeline system (CAS 115-07-1) [By-product classification: allocatable product]: [0.83 [UBP]] LC quantity: ecological scarcity 2013, total, Carcinogenic substances into air',\n",
       " 'propylene, pipeline system (CAS 115-07-1) [By-product classification: allocatable product]: [8.62e-06 [kBq]] LC quantity: selected LCI results, additional, water, radioactive, radium',\n",
       " 'propylene, pipeline system (CAS 115-07-1) [By-product classification: allocatable product]: [0.0062 [points]] LC quantity: eco-indicator 99, (E,E) w/o LT, human health w/o LT, climate change w/o LT',\n",
       " 'propylene, pipeline system (CAS 115-07-1) [By-product classification: allocatable product]: [0.000315 [kg waste]] LC quantity: EDIP w/o LT, environmental impact w/o LT, land filling, slag and ashes w/o LT',\n",
       " 'propylene, pipeline system (CAS 115-07-1) [By-product classification: allocatable product]: [0.286 [points]] LC quantity: ReCiPe Endpoint (H,A) w/o LT, total w/o LT, total w/o LT',\n",
       " 'propylene, pipeline system (CAS 115-07-1) [By-product classification: allocatable product]: [0.000128 [points]] LC quantity: IMPACT 2002+ (Endpoint), climate change, total',\n",
       " 'propylene, pipeline system (CAS 115-07-1) [By-product classification: allocatable product]: [0.000191 [kg]] LC quantity: selected LCI results, water, BOD',\n",
       " 'propylene, pipeline system (CAS 115-07-1) [By-product classification: allocatable product]: [0.049 [points]] LC quantity: ReCiPe Endpoint (E,A) w/o LT, human health w/o LT, total w/o LT',\n",
       " 'propylene, pipeline system (CAS 115-07-1) [By-product classification: allocatable product]: [1.21e+03 [UBP]] LC quantity: ecological scarcity 2013, total, total',\n",
       " 'propylene, pipeline system (CAS 115-07-1) [By-product classification: allocatable product]: [0.0588 [UBP]] LC quantity: ecological scarcity 2013, total, Radioactive waste to deposit',\n",
       " 'propylene, pipeline system (CAS 115-07-1) [By-product classification: allocatable product]: [-4.05e-08 [m2]] LC quantity: ReCiPe Midpoint (E), natural land transformation, NLTP',\n",
       " 'propylene, pipeline system (CAS 115-07-1) [By-product classification: allocatable product]: [7.62 [UBP]] LC quantity: ecological scarcity 2006, total, emission into surface water',\n",
       " 'propylene, pipeline system (CAS 115-07-1) [By-product classification: allocatable product]: [2.56e-06 [kg 1,4-DCB-Eq]] LC quantity: ReCiPe Midpoint (I), terrestrial ecotoxicity, TETP100',\n",
       " 'propylene, pipeline system (CAS 115-07-1) [By-product classification: allocatable product]: [0.171 [m2a]] LC quantity: ecological footprint, total, nuclear',\n",
       " 'propylene, pipeline system (CAS 115-07-1) [By-product classification: allocatable product]: [0.00336 [kg SO2-Eq]] LC quantity: CML 2001 w/o LT, acidification potential w/o LT, average European w/o LT',\n",
       " 'propylene, pipeline system (CAS 115-07-1) [By-product classification: allocatable product]: [0.00857 [kg waste]] LC quantity: EDIP2003, land filling, bulk waste',\n",
       " 'propylene, pipeline system (CAS 115-07-1) [By-product classification: allocatable product]: [0.000864 [MJ-Eq]] LC quantity: cumulative exergy demand, metals, non-renewable material resources, metals',\n",
       " 'propylene, pipeline system (CAS 115-07-1) [By-product classification: allocatable product]: [0.000492 [points]] LC quantity: IMPACT 2002+ (Endpoint), resources, total',\n",
       " 'propylene, pipeline system (CAS 115-07-1) [By-product classification: allocatable product]: [0.00477 [kg NMVOC]] LC quantity: ReCiPe Midpoint (H) w/o LT, photochemical oxidant formation w/o LT, POFP w/o LT',\n",
       " 'propylene, pipeline system (CAS 115-07-1) [By-product classification: allocatable product]: [555 [UBP]] LC quantity: ecological scarcity 1997, total, emission into air',\n",
       " 'propylene, pipeline system (CAS 115-07-1) [By-product classification: allocatable product]: [0.00142 [points]] LC quantity: eco-indicator 99, (E,E) w/o LT, ecosystem quality w/o LT, total w/o LT',\n",
       " 'propylene, pipeline system (CAS 115-07-1) [By-product classification: allocatable product]: [5.1e-07 [kg P-Eq]] LC quantity: ReCiPe Midpoint (E) w/o LT, freshwater eutrophication w/o LT, FEP w/o LT',\n",
       " 'propylene, pipeline system (CAS 115-07-1) [By-product classification: allocatable product]: [2.04e-09 [kg]] LC quantity: EDIP2003, non-renewable resources, tin',\n",
       " 'propylene, pipeline system (CAS 115-07-1) [By-product classification: allocatable product]: [-4.05e-08 [m2]] LC quantity: ReCiPe Midpoint (H) w/o LT, natural land transformation w/o LT, NLTP w/o LT',\n",
       " 'propylene, pipeline system (CAS 115-07-1) [By-product classification: allocatable product]: [0.0511 [points]] LC quantity: ReCiPe Endpoint (E,A), human health, total',\n",
       " 'propylene, pipeline system (CAS 115-07-1) [By-product classification: allocatable product]: [0.146 [UBP]] LC quantity: ecological scarcity 2013, total, Mineral resources',\n",
       " 'propylene, pipeline system (CAS 115-07-1) [By-product classification: allocatable product]: [0.834 [UBP]] LC quantity: ecological scarcity 2013, total, Heavy metals into air',\n",
       " 'propylene, pipeline system (CAS 115-07-1) [By-product classification: allocatable product]: [9.19e-10 [kg]] LC quantity: EDIP2003, non-renewable resources, mercury',\n",
       " 'propylene, pipeline system (CAS 115-07-1) [By-product classification: allocatable product]: [4.23e-05 [points]] LC quantity: ReCiPe Endpoint (I,A), human health, human toxicity',\n",
       " 'propylene, pipeline system (CAS 115-07-1) [By-product classification: allocatable product]: [0.0531 [m2]] LC quantity: EDIP2003, acidification, acidification',\n",
       " 'propylene, pipeline system (CAS 115-07-1) [By-product classification: allocatable product]: [1.08e-12 [kg]] LC quantity: EDIP2003, non-renewable resources, palladium',\n",
       " 'propylene, pipeline system (CAS 115-07-1) [By-product classification: allocatable product]: [8.14e-05 [m2a]] LC quantity: ReCiPe Midpoint (I), urban land occupation, ULOP',\n",
       " 'propylene, pipeline system (CAS 115-07-1) [By-product classification: allocatable product]: [-3.4e-07 [points]] LC quantity: ReCiPe Endpoint (H,A) w/o LT, ecosystem quality w/o LT, natural land transformation w/o LT',\n",
       " 'propylene, pipeline system (CAS 115-07-1) [By-product classification: allocatable product]: [3.96e-08 [points]] LC quantity: eco-indicator 99, (E,E) w/o LT, human health w/o LT, ionising radiation w/o LT',\n",
       " 'propylene, pipeline system (CAS 115-07-1) [By-product classification: allocatable product]: [0.000712 [m3]] LC quantity: ReCiPe Midpoint (H) w/o LT, water depletion w/o LT, WDP w/o LT',\n",
       " 'propylene, pipeline system (CAS 115-07-1) [By-product classification: allocatable product]: [1.28 [kg CO2-Eq]] LC quantity: ReCiPe Midpoint (E) w/o LT, climate change w/o LT, GWP500 w/o LT',\n",
       " 'propylene, pipeline system (CAS 115-07-1) [By-product classification: allocatable product]: [8.78e-13 [kg]] LC quantity: EDIP2003 w/o LT, non-renewable resources w/o LT, antimony w/o LT',\n",
       " 'propylene, pipeline system (CAS 115-07-1) [By-product classification: allocatable product]: [0.00117 [kg 1,4-DCB-Eq]] LC quantity: CML 2001 w/o LT, freshwater aquatic ecotoxicity w/o LT, FAETP 500a w/o LT',\n",
       " 'propylene, pipeline system (CAS 115-07-1) [By-product classification: allocatable product]: [1.15e-06 [kg]] LC quantity: EDIP, resource consumption, non-renewable resources, nickel',\n",
       " 'propylene, pipeline system (CAS 115-07-1) [By-product classification: allocatable product]: [1.6e-10 [kg]] LC quantity: EDIP, resource consumption, non-renewable resources, cerium',\n",
       " 'propylene, pipeline system (CAS 115-07-1) [By-product classification: allocatable product]: [0.0194 [kBq]] LC quantity: selected LCI results, additional, air, radioactive, noble gas',\n",
       " 'propylene, pipeline system (CAS 115-07-1) [By-product classification: allocatable product]: [7.91e-13 [kg]] LC quantity: EDIP2003, non-renewable resources, platinum',\n",
       " 'propylene, pipeline system (CAS 115-07-1) [By-product classification: allocatable product]: [0.00862 [m3 soil]] LC quantity: EDIP2003, human toxicity, via soil',\n",
       " 'propylene, pipeline system (CAS 115-07-1) [By-product classification: allocatable product]: [2.62e-11 [kg]] LC quantity: EDIP2003 w/o LT, non-renewable resources w/o LT, gold w/o LT',\n",
       " 'propylene, pipeline system (CAS 115-07-1) [By-product classification: allocatable product]: [0.00053 [kg Fe-Eq]] LC quantity: ReCiPe Midpoint (E) w/o LT, metal depletion w/o LT, MDP w/o LT',\n",
       " 'propylene, pipeline system (CAS 115-07-1) [By-product classification: allocatable product]: [6.62e-10 [kg CFC-11-Eq]] LC quantity: CML 2001 w/o LT, stratospheric ozone depletion w/o LT, ODP 15a w/o LT',\n",
       " 'propylene, pipeline system (CAS 115-07-1) [By-product classification: allocatable product]: [0.00342 [kg SO2-Eq]] LC quantity: EDIP, environmental impact, acidification',\n",
       " 'propylene, pipeline system (CAS 115-07-1) [By-product classification: allocatable product]: [1.05e-05 [kg P-Eq]] LC quantity: ReCiPe Midpoint (E), freshwater eutrophication, FEP',\n",
       " 'propylene, pipeline system (CAS 115-07-1) [By-product classification: allocatable product]: [0.000651 [kg 1,4-DCB-Eq]] LC quantity: ReCiPe Midpoint (I), freshwater ecotoxicity, FETP100',\n",
       " 'propylene, pipeline system (CAS 115-07-1) [By-product classification: allocatable product]: [1.28 [kg CO2-Eq]] LC quantity: ReCiPe Midpoint (E), climate change, GWP500',\n",
       " 'propylene, pipeline system (CAS 115-07-1) [By-product classification: allocatable product]: [1.05e-05 [kg P-Eq]] LC quantity: ReCiPe Midpoint (H), freshwater eutrophication, FEP',\n",
       " 'propylene, pipeline system (CAS 115-07-1) [By-product classification: allocatable product]: [0.00114 [kg PM10-Eq]] LC quantity: ReCiPe Midpoint (E) w/o LT, particulate matter formation w/o LT, PMFP w/o LT',\n",
       " 'propylene, pipeline system (CAS 115-07-1) [By-product classification: allocatable product]: [6.8e-06 [points]] LC quantity: eco-indicator 99, (H,A), ecosystem quality, land occupation',\n",
       " 'propylene, pipeline system (CAS 115-07-1) [By-product classification: allocatable product]: [1.84e-08 [points]] LC quantity: eco-indicator 99, (H,A) w/o LT, human health w/o LT, ozone layer depletion w/o LT',\n",
       " 'propylene, pipeline system (CAS 115-07-1) [By-product classification: allocatable product]: [9.25e-06 [kg P]] LC quantity: EDIP2003, eutrophication, separate P potential',\n",
       " 'propylene, pipeline system (CAS 115-07-1) [By-product classification: allocatable product]: [7.04e-09 [points]] LC quantity: IMPACT 2002+ (Endpoint), ecosystem quality, land occupation',\n",
       " 'propylene, pipeline system (CAS 115-07-1) [By-product classification: allocatable product]: [0.0669 [kg 1,4-DCB-Eq]] LC quantity: CML 2001, freshwater aquatic ecotoxicity, FAETP 20a',\n",
       " 'propylene, pipeline system (CAS 115-07-1) [By-product classification: allocatable product]: [1.61 [kg oil-Eq]] LC quantity: ReCiPe Midpoint (H) w/o LT, fossil depletion w/o LT, FDP w/o LT',\n",
       " 'propylene, pipeline system (CAS 115-07-1) [By-product classification: allocatable product]: [0.000315 [kg waste]] LC quantity: EDIP2003 w/o LT, land filling w/o LT, slag and ashes w/o LT',\n",
       " 'propylene, pipeline system (CAS 115-07-1) [By-product classification: allocatable product]: [4.02e-10 [kg]] LC quantity: EDIP, resource consumption, non-renewable resources, silver',\n",
       " 'propylene, pipeline system (CAS 115-07-1) [By-product classification: allocatable product]: [1.6 [kg CO2-Eq]] LC quantity: IPCC 2007 no LT, climate change, GWP 100a',\n",
       " 'propylene, pipeline system (CAS 115-07-1) [By-product classification: allocatable product]: [2.26e-08 [CTU]] LC quantity: USEtox, human toxicity, carcinogenic',\n",
       " 'propylene, pipeline system (CAS 115-07-1) [By-product classification: allocatable product]: [1.25 [kg CO2-Eq]] LC quantity: IPCC 2013 no LT, climate change, GTP 100a',\n",
       " 'propylene, pipeline system (CAS 115-07-1) [By-product classification: allocatable product]: [3.18e+04 [m3 air]] LC quantity: EDIP, environmental impact, human toxicity, via air',\n",
       " 'propylene, pipeline system (CAS 115-07-1) [By-product classification: allocatable product]: [0.0442 [points]] LC quantity: ReCiPe Endpoint (H,A), human health, climate change, human health',\n",
       " 'propylene, pipeline system (CAS 115-07-1) [By-product classification: allocatable product]: [0.0201 [kg 1,4-DCB-Eq]] LC quantity: CML 2001 w/o LT, marine aquatic ecotoxicity w/o LT, MAETP 500a w/o LT',\n",
       " 'propylene, pipeline system (CAS 115-07-1) [By-product classification: allocatable product]: [0.192 [points]] LC quantity: eco-indicator 99, (E,E), resources, total',\n",
       " 'propylene, pipeline system (CAS 115-07-1) [By-product classification: allocatable product]: [0.000836 [kg N-Eq]] LC quantity: ReCiPe Midpoint (H), marine eutrophication, MEP',\n",
       " 'propylene, pipeline system (CAS 115-07-1) [By-product classification: allocatable product]: [0.00477 [kg NMVOC]] LC quantity: ReCiPe Midpoint (I), photochemical oxidant formation, POFP',\n",
       " 'propylene, pipeline system (CAS 115-07-1) [By-product classification: allocatable product]: [6.56e-10 [kg CFC-11-Eq]] LC quantity: CML 2001, stratospheric ozone depletion, ODP 20a',\n",
       " 'propylene, pipeline system (CAS 115-07-1) [By-product classification: allocatable product]: [77.7 [m3 water]] LC quantity: EDIP, environmental impact, ecotoxicity, chronic, in water',\n",
       " 'propylene, pipeline system (CAS 115-07-1) [By-product classification: allocatable product]: [2.68 [kg CO2-Eq]] LC quantity: IPCC 2013, climate change, GWP 20a',\n",
       " 'propylene, pipeline system (CAS 115-07-1) [By-product classification: allocatable product]: [-3.4e-07 [points]] LC quantity: ReCiPe Endpoint (H,A), ecosystem quality, natural land transformation',\n",
       " 'propylene, pipeline system (CAS 115-07-1) [By-product classification: allocatable product]: [1.22e-05 [kg 1,4-DCB-Eq]] LC quantity: ReCiPe Midpoint (E), terrestrial ecotoxicity, TETPinf',\n",
       " 'propylene, pipeline system (CAS 115-07-1) [By-product classification: allocatable product]: [1.69 [kg CO2-Eq]] LC quantity: IPCC 2013 no LT, climate change, GWP 100a',\n",
       " 'propylene, pipeline system (CAS 115-07-1) [By-product classification: allocatable product]: [0.00118 [points]] LC quantity: eco-indicator 99, (H,A), ecosystem quality, total',\n",
       " 'propylene, pipeline system (CAS 115-07-1) [By-product classification: allocatable product]: [1.6 [kg CO2-Eq]] LC quantity: CML 2001 w/o LT, climate change w/o LT, GWP 100a w/o LT',\n",
       " 'propylene, pipeline system (CAS 115-07-1) [By-product classification: allocatable product]: [8.43e-09 [kg]] LC quantity: EDIP2003, non-renewable resources, molybdenum',\n",
       " 'propylene, pipeline system (CAS 115-07-1) [By-product classification: allocatable product]: [6.8e-06 [points]] LC quantity: eco-indicator 99, (H,A) w/o LT, ecosystem quality w/o LT, land occupation w/o LT',\n",
       " 'propylene, pipeline system (CAS 115-07-1) [By-product classification: allocatable product]: [4.46e-05 [points]] LC quantity: ReCiPe Endpoint (E,A) w/o LT, ecosystem quality w/o LT, natural land transformation w/o LT',\n",
       " 'propylene, pipeline system (CAS 115-07-1) [By-product classification: allocatable product]: [6.76e-10 [kg CFC-11-Eq]] LC quantity: EDIP w/o LT, environmental impact w/o LT, stratospheric ozone depletion, ODP 5a w/o LT',\n",
       " 'propylene, pipeline system (CAS 115-07-1) [By-product classification: allocatable product]: [4.98e-10 [kg CFC-11-Eq]] LC quantity: ReCiPe Midpoint (E), ozone depletion, ODPinf',\n",
       " 'propylene, pipeline system (CAS 115-07-1) [By-product classification: allocatable product]: [6.26e-10 [kg CFC-11-Eq]] LC quantity: EDIP, environmental impact, stratospheric ozone depletion, ODP 100a',\n",
       " 'propylene, pipeline system (CAS 115-07-1) [By-product classification: allocatable product]: [0.000712 [m3]] LC quantity: ReCiPe Midpoint (I), water depletion, WDP',\n",
       " 'propylene, pipeline system (CAS 115-07-1) [By-product classification: allocatable product]: [4.81e-10 [kg CFC-11-Eq]] LC quantity: EDIP2003, stratospheric ozone depletion, ODP total',\n",
       " 'propylene, pipeline system (CAS 115-07-1) [By-product classification: allocatable product]: [1.08e-12 [kg]] LC quantity: EDIP w/o LT, resource consumption w/o LT, non-renewable resources, palladium w/o LT',\n",
       " 'propylene, pipeline system (CAS 115-07-1) [By-product classification: allocatable product]: [0.000216 [points]] LC quantity: eco-indicator 99, (E,E), human health, carcinogenics',\n",
       " 'propylene, pipeline system (CAS 115-07-1) [By-product classification: allocatable product]: [4.79e-11 [kg]] LC quantity: EDIP2003 w/o LT, non-renewable resources w/o LT, lanthanum w/o LT',\n",
       " 'propylene, pipeline system (CAS 115-07-1) [By-product classification: allocatable product]: [0.23 [points]] LC quantity: eco-indicator 99, (H,A) w/o LT, resources w/o LT, total w/o LT',\n",
       " 'propylene, pipeline system (CAS 115-07-1) [By-product classification: allocatable product]: [1.82 [UBP]] LC quantity: ecological scarcity 1997, total, emission into water',\n",
       " 'propylene, pipeline system (CAS 115-07-1) [By-product classification: allocatable product]: [1.37e-08 [points]] LC quantity: eco-indicator 99, (E,E), human health, ozone layer depletion',\n",
       " 'propylene, pipeline system (CAS 115-07-1) [By-product classification: allocatable product]: [0.00343 [kg SO2-Eq]] LC quantity: ReCiPe Midpoint (E) w/o LT, terrestrial acidification w/o LT, TAP500 w/o LT',\n",
       " 'propylene, pipeline system (CAS 115-07-1) [By-product classification: allocatable product]: [3.6e-08 [CTU]] LC quantity: USEtox, human toxicity, total',\n",
       " 'propylene, pipeline system (CAS 115-07-1) [By-product classification: allocatable product]: [0.000218 [kg ethylene-Eq]] LC quantity: CML 2001 w/o LT, photochemical oxidation w/o LT, low NOx POCP w/o LT',\n",
       " 'propylene, pipeline system (CAS 115-07-1) [By-product classification: allocatable product]: [0.000653 [UBP]] LC quantity: ecological scarcity 2013, total, Radioactive substances into water',\n",
       " 'propylene, pipeline system (CAS 115-07-1) [By-product classification: allocatable product]: [3.98e-05 [points]] LC quantity: ReCiPe Endpoint (H,A), ecosystem quality, terrestrial acidification',\n",
       " 'propylene, pipeline system (CAS 115-07-1) [By-product classification: allocatable product]: [5.23e-05 [points]] LC quantity: IMPACT 2002+ (Endpoint), human health, respiratory effects (inorganics)',\n",
       " 'propylene, pipeline system (CAS 115-07-1) [By-product classification: allocatable product]: [0.0206 [points]] LC quantity: eco-indicator 99, (I,I), human health, climate change',\n",
       " 'propylene, pipeline system (CAS 115-07-1) [By-product classification: allocatable product]: [0.00832 [points]] LC quantity: eco-indicator 99, (H,A), human health, climate change',\n",
       " 'propylene, pipeline system (CAS 115-07-1) [By-product classification: allocatable product]: [0.000138 [kg]] LC quantity: selected LCI results, additional, air, particulates >10 um',\n",
       " 'propylene, pipeline system (CAS 115-07-1) [By-product classification: allocatable product]: [0.00311 [kg SO2-Eq]] LC quantity: ReCiPe Midpoint (H) w/o LT, terrestrial acidification w/o LT, TAP100 w/o LT',\n",
       " 'propylene, pipeline system (CAS 115-07-1) [By-product classification: allocatable product]: [2.9e-05 [points]] LC quantity: eco-indicator 99, (E,E), ecosystem quality, land occupation',\n",
       " 'propylene, pipeline system (CAS 115-07-1) [By-product classification: allocatable product]: [1.73e-06 [kg]] LC quantity: selected LCI results, additional, total, oils, unspecified',\n",
       " 'propylene, pipeline system (CAS 115-07-1) [By-product classification: allocatable product]: [0.0379 [kg]] LC quantity: EDIP2003, non-renewable resources, coal',\n",
       " 'propylene, pipeline system (CAS 115-07-1) [By-product classification: allocatable product]: [2.43 [kg CO2-Eq]] LC quantity: CML 2001, climate change, GWP 20a',\n",
       " 'propylene, pipeline system (CAS 115-07-1) [By-product classification: allocatable product]: [0.212 [UBP]] LC quantity: ecological scarcity 1997, total, radioactive waste',\n",
       " 'propylene, pipeline system (CAS 115-07-1) [By-product classification: allocatable product]: [0.000144 [kg 1,4-DCB-Eq]] LC quantity: ReCiPe Midpoint (E) w/o LT, freshwater ecotoxicity w/o LT, FETPinf w/o LT',\n",
       " 'propylene, pipeline system (CAS 115-07-1) [By-product classification: allocatable product]: [0.000904 [kg 1,4-DCB-Eq]] LC quantity: CML 2001 w/o LT, marine sediment ecotoxicity w/o LT, MSETP 20a w/o LT',\n",
       " 'propylene, pipeline system (CAS 115-07-1) [By-product classification: allocatable product]: [2.22e-06 [points]] LC quantity: eco-indicator 99, (E,E) w/o LT, resources w/o LT, mineral extraction w/o LT',\n",
       " 'propylene, pipeline system (CAS 115-07-1) [By-product classification: allocatable product]: [0.000209 [points]] LC quantity: eco-indicator 99, (I,I), human health, carcinogenics',\n",
       " 'propylene, pipeline system (CAS 115-07-1) [By-product classification: allocatable product]: [1.34e-08 [CTU]] LC quantity: USEtox, human toxicity, non-carcinogenic',\n",
       " 'propylene, pipeline system (CAS 115-07-1) [By-product classification: allocatable product]: [1.24e-07 [m3]] LC quantity: EDIP, resource consumption, renewable resources, wood',\n",
       " 'propylene, pipeline system (CAS 115-07-1) [By-product classification: allocatable product]: [0.00832 [points]] LC quantity: eco-indicator 99, (H,A) w/o LT, human health w/o LT, climate change w/o LT',\n",
       " 'propylene, pipeline system (CAS 115-07-1) [By-product classification: allocatable product]: [1.6e-10 [kg]] LC quantity: EDIP2003 w/o LT, non-renewable resources w/o LT, cerium w/o LT',\n",
       " 'propylene, pipeline system (CAS 115-07-1) [By-product classification: allocatable product]: [0.000137 [MJ-Eq]] LC quantity: cumulative energy demand, wind, renewable energy resources, kinetic (in wind), converted',\n",
       " 'propylene, pipeline system (CAS 115-07-1) [By-product classification: allocatable product]: [8.23e-07 [points]] LC quantity: ReCiPe Endpoint (I,A), ecosystem quality, terrestrial ecotoxicity',\n",
       " 'propylene, pipeline system (CAS 115-07-1) [By-product classification: allocatable product]: [3.81e-08 [points]] LC quantity: eco-indicator 99, (I,I), human health, ozone layer depletion',\n",
       " 'propylene, pipeline system (CAS 115-07-1) [By-product classification: allocatable product]: [0.00291 [kg NO3-]] LC quantity: EDIP w/o LT, environmental impact w/o LT, nutrient enrichment, combined potential w/o LT',\n",
       " 'propylene, pipeline system (CAS 115-07-1) [By-product classification: allocatable product]: [3.73e-06 [points]] LC quantity: ReCiPe Endpoint (H,A) w/o LT, ecosystem quality w/o LT, urban land occupation w/o LT',\n",
       " 'propylene, pipeline system (CAS 115-07-1) [By-product classification: allocatable product]: [0.834 [m3 water]] LC quantity: EDIP w/o LT, environmental impact w/o LT, human toxicity, via surface water w/o LT',\n",
       " 'propylene, pipeline system (CAS 115-07-1) [By-product classification: allocatable product]: [4.98e-10 [kg CFC-11-Eq]] LC quantity: ReCiPe Midpoint (H), ozone depletion, ODPinf',\n",
       " 'propylene, pipeline system (CAS 115-07-1) [By-product classification: allocatable product]: [1.08e-12 [kg]] LC quantity: EDIP2003 w/o LT, non-renewable resources w/o LT, palladium w/o LT',\n",
       " 'propylene, pipeline system (CAS 115-07-1) [By-product classification: allocatable product]: [7.12e-11 [points]] LC quantity: IMPACT 2002+ (Endpoint), human health, ozone layer depletion',\n",
       " 'propylene, pipeline system (CAS 115-07-1) [By-product classification: allocatable product]: [0 [MJ-Eq]] LC quantity: cumulative energy demand, geothermal, renewable energy resources, geothermal, converted',\n",
       " 'propylene, pipeline system (CAS 115-07-1) [By-product classification: allocatable product]: [2.26 [kg CO2-Eq]] LC quantity: EDIP, environmental impact, global warming, GWP 20a',\n",
       " 'propylene, pipeline system (CAS 115-07-1) [By-product classification: allocatable product]: [0.000109 [kg formed ozone]] LC quantity: CML 2001 w/o LT, photochemical oxidation w/o LT, MIR w/o LT',\n",
       " 'propylene, pipeline system (CAS 115-07-1) [By-product classification: allocatable product]: [9.65e-06 [points]] LC quantity: ReCiPe Endpoint (I,A), ecosystem quality, terrestrial acidification',\n",
       " 'propylene, pipeline system (CAS 115-07-1) [By-product classification: allocatable product]: [0.0349 [points]] LC quantity: ReCiPe Endpoint (E,A), ecosystem quality, climate change, ecosystems',\n",
       " 'propylene, pipeline system (CAS 115-07-1) [By-product classification: allocatable product]: [8.78e-13 [kg]] LC quantity: EDIP w/o LT, resource consumption w/o LT, non-renewable resources, antimony w/o LT',\n",
       " 'propylene, pipeline system (CAS 115-07-1) [By-product classification: allocatable product]: [8.78e-13 [kg]] LC quantity: EDIP2003, non-renewable resources, antimony',\n",
       " 'propylene, pipeline system (CAS 115-07-1) [By-product classification: allocatable product]: [3.81e-05 [kg benzene-Eq]] LC quantity: TRACI, human health, carcinogenics',\n",
       " 'propylene, pipeline system (CAS 115-07-1) [By-product classification: allocatable product]: [9.64 [UBP]] LC quantity: ecological scarcity 2013, total, Heavy metals into water',\n",
       " 'propylene, pipeline system (CAS 115-07-1) [By-product classification: allocatable product]: [0.0542 [m2]] LC quantity: EDIP2003, eutrophication, terrestrial eutrophication',\n",
       " 'propylene, pipeline system (CAS 115-07-1) [By-product classification: allocatable product]: [0.0542 [m2]] LC quantity: EDIP2003 w/o LT, eutrophication w/o LT, terrestrial eutrophication w/o LT',\n",
       " 'propylene, pipeline system (CAS 115-07-1) [By-product classification: allocatable product]: [1.15e-06 [kg]] LC quantity: EDIP w/o LT, resource consumption w/o LT, non-renewable resources, nickel w/o LT',\n",
       " 'propylene, pipeline system (CAS 115-07-1) [By-product classification: allocatable product]: [4.98e-10 [kg CFC-11-Eq]] LC quantity: ReCiPe Midpoint (I), ozone depletion, ODPinf',\n",
       " 'propylene, pipeline system (CAS 115-07-1) [By-product classification: allocatable product]: [0.000247 [kg formed ozone]] LC quantity: CML 2001, photochemical oxidation (summer smog), EBIR',\n",
       " 'propylene, pipeline system (CAS 115-07-1) [By-product classification: allocatable product]: [0.00342 [kg SO2-Eq]] LC quantity: CML 2001, acidification potential, generic',\n",
       " 'propylene, pipeline system (CAS 115-07-1) [By-product classification: allocatable product]: [0.0279 [points]] LC quantity: ReCiPe Endpoint (H,A) w/o LT, ecosystem quality w/o LT, climate change, ecosystems w/o LT',\n",
       " 'propylene, pipeline system (CAS 115-07-1) [By-product classification: allocatable product]: [3.23e-07 [kg]] LC quantity: EDIP2003, non-renewable resources, zinc',\n",
       " 'propylene, pipeline system (CAS 115-07-1) [By-product classification: allocatable product]: [1.6 [kg CO2-Eq]] LC quantity: CML 2001, climate change, GWP 100a',\n",
       " 'propylene, pipeline system (CAS 115-07-1) [By-product classification: allocatable product]: [0.926 [kg]] LC quantity: EDIP, resource consumption, non-renewable resources, oil',\n",
       " 'propylene, pipeline system (CAS 115-07-1) [By-product classification: allocatable product]: [1.52e-08 [UBP]] LC quantity: ecological scarcity 2013, total, Radioactive substances into air',\n",
       " 'propylene, pipeline system (CAS 115-07-1) [By-product classification: allocatable product]: [0.0442 [points]] LC quantity: ReCiPe Endpoint (H,A) w/o LT, human health w/o LT, climate change, human health w/o LT',\n",
       " 'propylene, pipeline system (CAS 115-07-1) [By-product classification: allocatable product]: [3.81 [m3 water]] LC quantity: EDIP2003, human toxicity, via surface water',\n",
       " 'propylene, pipeline system (CAS 115-07-1) [By-product classification: allocatable product]: [0.0929 [kg 1,4-DCB-Eq]] LC quantity: CML 2001, freshwater sediment ecotoxicity, FSETP 500a',\n",
       " 'propylene, pipeline system (CAS 115-07-1) [By-product classification: allocatable product]: [0.000492 [points]] LC quantity: IMPACT 2002+ (Endpoint), resources, non-renewable energy',\n",
       " 'propylene, pipeline system (CAS 115-07-1) [By-product classification: allocatable product]: [0.000595 [kg 1,4-DCB-Eq]] LC quantity: CML 2001 w/o LT, marine aquatic ecotoxicity w/o LT, MAETP 20a w/o LT',\n",
       " 'propylene, pipeline system (CAS 115-07-1) [By-product classification: allocatable product]: [0.000186 [kg U235-Eq]] LC quantity: ReCiPe Midpoint (H), ionising radiation, IRP_HE',\n",
       " 'propylene, pipeline system (CAS 115-07-1) [By-product classification: allocatable product]: [2.97e-08 [points]] LC quantity: ReCiPe Endpoint (E,A), human health, ionising radiation',\n",
       " 'propylene, pipeline system (CAS 115-07-1) [By-product classification: allocatable product]: [0.711 [m3 water]] LC quantity: EDIP w/o LT, environmental impact w/o LT, ecotoxicity, acute, in water w/o LT',\n",
       " 'propylene, pipeline system (CAS 115-07-1) [By-product classification: allocatable product]: [2.61e-06 [points]] LC quantity: ReCiPe Endpoint (E,A), ecosystem quality, terrestrial ecotoxicity',\n",
       " 'propylene, pipeline system (CAS 115-07-1) [By-product classification: allocatable product]: [0.0349 [points]] LC quantity: ReCiPe Endpoint (E,A) w/o LT, ecosystem quality w/o LT, climate change, ecosystems w/o LT',\n",
       " 'propylene, pipeline system (CAS 115-07-1) [By-product classification: allocatable product]: [0.0019 [kg 1,4-DCB-Eq]] LC quantity: CML 2001 w/o LT, freshwater sediment ecotoxicity w/o LT, FSETP 20a w/o LT',\n",
       " 'propylene, pipeline system (CAS 115-07-1) [By-product classification: allocatable product]: [0.23 [points]] LC quantity: eco-indicator 99, (H,A), resources, fossil fuels',\n",
       " 'propylene, pipeline system (CAS 115-07-1) [By-product classification: allocatable product]: [0.61 [kg]] LC quantity: EDIP, resource consumption, non-renewable resources, natural gas',\n",
       " 'propylene, pipeline system (CAS 115-07-1) [By-product classification: allocatable product]: [8.14e-05 [m2a]] LC quantity: ReCiPe Midpoint (E), urban land occupation, ULOP',\n",
       " 'propylene, pipeline system (CAS 115-07-1) [By-product classification: allocatable product]: [1e-08 [kg]] LC quantity: selected LCI results, additional, air, zinc',\n",
       " 'propylene, pipeline system (CAS 115-07-1) [By-product classification: allocatable product]: [3.23e-07 [kg]] LC quantity: EDIP2003 w/o LT, non-renewable resources w/o LT, zinc w/o LT',\n",
       " 'propylene, pipeline system (CAS 115-07-1) [By-product classification: allocatable product]: [0.0012 [points]] LC quantity: ReCiPe Endpoint (H,A), human health, photochemical oxidant formation',\n",
       " 'propylene, pipeline system (CAS 115-07-1) [By-product classification: allocatable product]: [4.8e-10 [kg CFC-11-Eq]] LC quantity: EDIP w/o LT, environmental impact w/o LT, stratospheric ozone depletion, ODP steady state w/o LT',\n",
       " 'propylene, pipeline system (CAS 115-07-1) [By-product classification: allocatable product]: [2.46e-05 [points]] LC quantity: ReCiPe Endpoint (H,A) w/o LT, resources w/o LT, metal depletion w/o LT',\n",
       " 'propylene, pipeline system (CAS 115-07-1) [By-product classification: allocatable product]: [4.98e-10 [kg CFC-11-Eq]] LC quantity: ReCiPe Midpoint (E) w/o LT, ozone depletion w/o LT, ODPinf w/o LT',\n",
       " 'propylene, pipeline system (CAS 115-07-1) [By-product classification: allocatable product]: [12.1 [m2.ppm.h]] LC quantity: EDIP2003 w/o LT, photochemical ozone formation w/o LT, impacts on vegetation w/o LT',\n",
       " 'propylene, pipeline system (CAS 115-07-1) [By-product classification: allocatable product]: [3.67e-06 [kBq]] LC quantity: selected LCI results, additional, air, radioactive, aerosole',\n",
       " 'propylene, pipeline system (CAS 115-07-1) [By-product classification: allocatable product]: [0.000182 [kg]] LC quantity: selected LCI results, additional, air, particulates, >2.5 um and <10',\n",
       " 'propylene, pipeline system (CAS 115-07-1) [By-product classification: allocatable product]: [0.000128 [points]] LC quantity: ReCiPe Endpoint (H,A), human health, human toxicity',\n",
       " 'propylene, pipeline system (CAS 115-07-1) [By-product classification: allocatable product]: [0.00111 [points]] LC quantity: eco-indicator 99, (H,A) w/o LT, ecosystem quality w/o LT, acidification & eutrophication w/o LT',\n",
       " 'propylene, pipeline system (CAS 115-07-1) [By-product classification: allocatable product]: [0.0379 [kg]] LC quantity: EDIP, resource consumption, non-renewable resources, coal',\n",
       " 'propylene, pipeline system (CAS 115-07-1) [By-product classification: allocatable product]: [0.00213 [kg]] LC quantity: selected LCI results, air, nitrogen oxides',\n",
       " 'propylene, pipeline system (CAS 115-07-1) [By-product classification: allocatable product]: [0.00477 [kg NMVOC]] LC quantity: ReCiPe Midpoint (H), photochemical oxidant formation, POFP',\n",
       " 'propylene, pipeline system (CAS 115-07-1) [By-product classification: allocatable product]: [0.209 [points]] LC quantity: eco-indicator 99, (E,E), total, total',\n",
       " 'propylene, pipeline system (CAS 115-07-1) [By-product classification: allocatable product]: [0.00222 [kg NOx-Eq]] LC quantity: TRACI, environmental impact, photochemical oxidation',\n",
       " 'propylene, pipeline system (CAS 115-07-1) [By-product classification: allocatable product]: [3.73e-10 [points]] LC quantity: IMPACT 2002+ (Endpoint), resources, mineral extraction',\n",
       " 'propylene, pipeline system (CAS 115-07-1) [By-product classification: allocatable product]: [69.7 [m3 waste water]] LC quantity: EDIP2003, ecotoxicity, in sewage treatment plants',\n",
       " 'propylene, pipeline system (CAS 115-07-1) [By-product classification: allocatable product]: [0.000226 [m2a]] LC quantity: ReCiPe Midpoint (E) w/o LT, agricultural land occupation w/o LT, ALOP w/o LT',\n",
       " 'propylene, pipeline system (CAS 115-07-1) [By-product classification: allocatable product]: [1.74e-07 [points]] LC quantity: ReCiPe Endpoint (E,A) w/o LT, ecosystem quality w/o LT, freshwater ecotoxicity w/o LT',\n",
       " 'propylene, pipeline system (CAS 115-07-1) [By-product classification: allocatable product]: [1.2e-06 [points]] LC quantity: ReCiPe Endpoint (I,A), ecosystem quality, freshwater ecotoxicity',\n",
       " 'propylene, pipeline system (CAS 115-07-1) [By-product classification: allocatable product]: [0.000107 [kg N]] LC quantity: TRACI, environmental impact, eutrophication',\n",
       " 'propylene, pipeline system (CAS 115-07-1) [By-product classification: allocatable product]: [0.00053 [kg Fe-Eq]] LC quantity: ReCiPe Midpoint (H), metal depletion, MDP',\n",
       " 'propylene, pipeline system (CAS 115-07-1) [By-product classification: allocatable product]: [0.207 [points]] LC quantity: ReCiPe Endpoint (E,A), resources, total',\n",
       " 'propylene, pipeline system (CAS 115-07-1) [By-product classification: allocatable product]: [1.58 [kg CO2-Eq]] LC quantity: CML 2001 w/o LT, climate change w/o LT, upper limit of net GWP w/o LT',\n",
       " 'propylene, pipeline system (CAS 115-07-1) [By-product classification: allocatable product]: [2.12e-06 [kg 1,4-DCB-Eq]] LC quantity: CML 2001 w/o LT, terrestrial ecotoxicity w/o LT, TAETP 20a w/o LT',\n",
       " 'propylene, pipeline system (CAS 115-07-1) [By-product classification: allocatable product]: [2.46e-05 [points]] LC quantity: ReCiPe Endpoint (H,A), resources, metal depletion',\n",
       " 'propylene, pipeline system (CAS 115-07-1) [By-product classification: allocatable product]: [1.57 [kg CO2-Eq]] LC quantity: EDIP2003 w/o LT, global warming w/o LT, GWP 100a w/o LT',\n",
       " 'propylene, pipeline system (CAS 115-07-1) [By-product classification: allocatable product]: [6.21e-10 [kg CFC-11-Eq]] LC quantity: CML 2001 w/o LT, stratospheric ozone depletion w/o LT, ODP 40a w/o LT',\n",
       " 'propylene, pipeline system (CAS 115-07-1) [By-product classification: allocatable product]: [1.11e-07 [kg waste]] LC quantity: EDIP2003 w/o LT, land filling w/o LT, radioactive waste w/o LT',\n",
       " 'propylene, pipeline system (CAS 115-07-1) [By-product classification: allocatable product]: [1.23e-06 [points]] LC quantity: ReCiPe Endpoint (H,A), ecosystem quality, freshwater ecotoxicity',\n",
       " 'propylene, pipeline system (CAS 115-07-1) [By-product classification: allocatable product]: [0.00477 [kg NMVOC]] LC quantity: ReCiPe Midpoint (E) w/o LT, photochemical oxidant formation w/o LT, POFP w/o LT',\n",
       " 'propylene, pipeline system (CAS 115-07-1) [By-product classification: allocatable product]: [8.54 [kg 1,4-DCB-Eq]] LC quantity: CML 2001 w/o LT, marine sediment ecotoxicity w/o LT, MSETP infinite w/o LT',\n",
       " 'propylene, pipeline system (CAS 115-07-1) [By-product classification: allocatable product]: [1.57 [kg CO2-Eq]] LC quantity: EDIP w/o LT, environmental impact w/o LT, global warming, GWP 100a w/o LT',\n",
       " 'propylene, pipeline system (CAS 115-07-1) [By-product classification: allocatable product]: [2.62e-11 [kg]] LC quantity: EDIP2003, non-renewable resources, gold',\n",
       " 'propylene, pipeline system (CAS 115-07-1) [By-product classification: allocatable product]: [9.77e-05 [kg U235-Eq]] LC quantity: ReCiPe Midpoint (H) w/o LT, ionising radiation w/o LT, IRP_HE w/o LT',\n",
       " 'propylene, pipeline system (CAS 115-07-1) [By-product classification: allocatable product]: [0.203 [ELU]] LC quantity: EPS 2000, total, emissions into air',\n",
       " 'propylene, pipeline system (CAS 115-07-1) [By-product classification: allocatable product]: [195 [UBP]] LC quantity: ecological scarcity 2013, total, Main air pollutants and PM',\n",
       " 'propylene, pipeline system (CAS 115-07-1) [By-product classification: allocatable product]: [0.000312 [m2a]] LC quantity: selected LCI results, resource, land occupation',\n",
       " 'propylene, pipeline system (CAS 115-07-1) [By-product classification: allocatable product]: [0.044 [points]] LC quantity: ReCiPe Endpoint (E,A) w/o LT, human health w/o LT, climate change, human health w/o LT',\n",
       " 'propylene, pipeline system (CAS 115-07-1) [By-product classification: allocatable product]: [0.000644 [kg N]] LC quantity: EDIP2003, eutrophication, separate N potential',\n",
       " 'propylene, pipeline system (CAS 115-07-1) [By-product classification: allocatable product]: [8.85e-08 [kg waste]] LC quantity: EDIP2003 w/o LT, land filling w/o LT, hazardous waste w/o LT',\n",
       " 'propylene, pipeline system (CAS 115-07-1) [By-product classification: allocatable product]: [0.00114 [kg PM10-Eq]] LC quantity: ReCiPe Midpoint (I), particulate matter formation, PMFP',\n",
       " 'propylene, pipeline system (CAS 115-07-1) [By-product classification: allocatable product]: [0.00856 [points]] LC quantity: eco-indicator 99, (E,E), human health, respiratory effects',\n",
       " 'propylene, pipeline system (CAS 115-07-1) [By-product classification: allocatable product]: [0.00363 [kg 1,4-DCB-Eq]] LC quantity: CML 2001 w/o LT, marine sediment ecotoxicity w/o LT, MSETP 100a w/o LT',\n",
       " 'propylene, pipeline system (CAS 115-07-1) [By-product classification: allocatable product]: [1.11e-07 [kg waste]] LC quantity: EDIP2003, land filling, radioactive waste',\n",
       " 'propylene, pipeline system (CAS 115-07-1) [By-product classification: allocatable product]: [1.72 [kg oil-Eq]] LC quantity: ReCiPe Midpoint (H), fossil depletion, FDP',\n",
       " 'propylene, pipeline system (CAS 115-07-1) [By-product classification: allocatable product]: [2.99 [kg 1,4-DCB-Eq]] LC quantity: ReCiPe Midpoint (E), marine ecotoxicity, METPinf',\n",
       " 'propylene, pipeline system (CAS 115-07-1) [By-product classification: allocatable product]: [0.61 [kg]] LC quantity: EDIP2003 w/o LT, non-renewable resources w/o LT, natural gas w/o LT',\n",
       " 'propylene, pipeline system (CAS 115-07-1) [By-product classification: allocatable product]: [0.183 [moles of H+-Eq]] LC quantity: TRACI, environmental impact, acidification',\n",
       " 'propylene, pipeline system (CAS 115-07-1) [By-product classification: allocatable product]: [744 [UBP]] LC quantity: ecological scarcity 2013, total, Global warming',\n",
       " 'propylene, pipeline system (CAS 115-07-1) [By-product classification: allocatable product]: [1.6 [kg CO2-Eq]] LC quantity: IPCC 2007, climate change, GWP 100a',\n",
       " 'propylene, pipeline system (CAS 115-07-1) [By-product classification: allocatable product]: [0.00565 [points]] LC quantity: ReCiPe Endpoint (I,A), human health, particulate matter formation',\n",
       " 'propylene, pipeline system (CAS 115-07-1) [By-product classification: allocatable product]: [3.77e-05 [kg 1,4-DCB-Eq]] LC quantity: CML 2001, terrestrial ecotoxicity, TAETP 500a',\n",
       " 'propylene, pipeline system (CAS 115-07-1) [By-product classification: allocatable product]: [8.78e-05 [points]] LC quantity: eco-indicator 99, (I,I), resources, total',\n",
       " 'propylene, pipeline system (CAS 115-07-1) [By-product classification: allocatable product]: [6.76e-10 [kg CFC-11-Eq]] LC quantity: EDIP, environmental impact, stratospheric ozone depletion, ODP 5a',\n",
       " 'propylene, pipeline system (CAS 115-07-1) [By-product classification: allocatable product]: [0.0419 [kg 1,4-DCB-Eq]] LC quantity: CML 2001, marine aquatic ecotoxicity, MAETP 20a',\n",
       " 'propylene, pipeline system (CAS 115-07-1) [By-product classification: allocatable product]: [0.00111 [points]] LC quantity: eco-indicator 99, (H,A), ecosystem quality, acidification & eutrophication',\n",
       " 'propylene, pipeline system (CAS 115-07-1) [By-product classification: allocatable product]: [3.71e-07 [kg]] LC quantity: EDIP2003, non-renewable resources, lead',\n",
       " 'propylene, pipeline system (CAS 115-07-1) [By-product classification: allocatable product]: [3.18e-08 [points]] LC quantity: ReCiPe Endpoint (H,A) w/o LT, human health w/o LT, ionising radiation w/o LT',\n",
       " 'propylene, pipeline system (CAS 115-07-1) [By-product classification: allocatable product]: [3.71e-07 [kg]] LC quantity: EDIP, resource consumption, non-renewable resources, lead',\n",
       " 'propylene, pipeline system (CAS 115-07-1) [By-product classification: allocatable product]: [4.46e-07 [points]] LC quantity: IMPACT 2002+ (Endpoint), human health, photochemical oxidation',\n",
       " 'propylene, pipeline system (CAS 115-07-1) [By-product classification: allocatable product]: [9.57e-06 [kg 1,4-DCB-Eq]] LC quantity: ReCiPe Midpoint (E) w/o LT, terrestrial ecotoxicity w/o LT, TETPinf w/o LT',\n",
       " 'propylene, pipeline system (CAS 115-07-1) [By-product classification: allocatable product]: [0.000176 [kg]] LC quantity: EDIP, resource consumption, non-renewable resources, brown coal',\n",
       " 'propylene, pipeline system (CAS 115-07-1) [By-product classification: allocatable product]: [0.207 [points]] LC quantity: ReCiPe Endpoint (E,A), resources, fossil depletion',\n",
       " 'propylene, pipeline system (CAS 115-07-1) [By-product classification: allocatable product]: [3.23e-07 [kg]] LC quantity: EDIP, resource consumption, non-renewable resources, zinc',\n",
       " 'propylene, pipeline system (CAS 115-07-1) [By-product classification: allocatable product]: [5.16e-07 [kg P]] LC quantity: EDIP w/o LT, environmental impact w/o LT, nutrient enrichment, separate P potential w/o LT',\n",
       " 'propylene, pipeline system (CAS 115-07-1) [By-product classification: allocatable product]: [0.00572 [kg 1,4-DCB-Eq]] LC quantity: CML 2001, human toxicity, HTP 100a',\n",
       " 'propylene, pipeline system (CAS 115-07-1) [By-product classification: allocatable product]: [6.76e-10 [kg CFC-11-Eq]] LC quantity: CML 2001 w/o LT, stratospheric ozone depletion w/o LT, ODP 5a w/o LT',\n",
       " 'propylene, pipeline system (CAS 115-07-1) [By-product classification: allocatable product]: [0.207 [points]] LC quantity: ReCiPe Endpoint (E,A) w/o LT, resources w/o LT, total w/o LT',\n",
       " 'propylene, pipeline system (CAS 115-07-1) [By-product classification: allocatable product]: [1.64e-06 [MJ-Eq]] LC quantity: cumulative exergy demand, solar, renewable energy resources, solar, converted',\n",
       " 'propylene, pipeline system (CAS 115-07-1) [By-product classification: allocatable product]: [0.0358 [points]] LC quantity: ReCiPe Endpoint (E,A), ecosystem quality, total',\n",
       " 'propylene, pipeline system (CAS 115-07-1) [By-product classification: allocatable product]: [0.00296 [kg SO2-Eq]] LC quantity: ReCiPe Midpoint (I), terrestrial acidification, TAP20',\n",
       " 'propylene, pipeline system (CAS 115-07-1) [By-product classification: allocatable product]: [-4.05e-08 [m2]] LC quantity: ReCiPe Midpoint (I), natural land transformation, NLTP',\n",
       " 'propylene, pipeline system (CAS 115-07-1) [By-product classification: allocatable product]: [3.83e-06 [ELU]] LC quantity: EPS 2000, total, land occupation',\n",
       " 'propylene, pipeline system (CAS 115-07-1) [By-product classification: allocatable product]: [1.76e-06 [MJ-Eq]] LC quantity: cumulative energy demand, solar, renewable energy resources, solar, converted',\n",
       " 'propylene, pipeline system (CAS 115-07-1) [By-product classification: allocatable product]: [0.0907 [kg 1,4-DCB-Eq]] LC quantity: CML 2001, freshwater sediment ecotoxicity, FSETP 20a',\n",
       " 'propylene, pipeline system (CAS 115-07-1) [By-product classification: allocatable product]: [6.27e-05 [points]] LC quantity: ReCiPe Endpoint (H,A) w/o LT, human health w/o LT, human toxicity w/o LT',\n",
       " 'propylene, pipeline system (CAS 115-07-1) [By-product classification: allocatable product]: [2.43 [kg CO2-Eq]] LC quantity: IPCC 2007, climate change, GWP 20a',\n",
       " 'propylene, pipeline system (CAS 115-07-1) [By-product classification: allocatable product]: [0.0123 [points]] LC quantity: eco-indicator 99, (I,I), human health, respiratory effects',\n",
       " 'propylene, pipeline system (CAS 115-07-1) [By-product classification: allocatable product]: [0.00114 [kg PM10-Eq]] LC quantity: ReCiPe Midpoint (H), particulate matter formation, PMFP',\n",
       " 'propylene, pipeline system (CAS 115-07-1) [By-product classification: allocatable product]: [0.872 [MJ-Eq]] LC quantity: cumulative energy demand, nuclear, non-renewable energy resources, nuclear',\n",
       " 'propylene, pipeline system (CAS 115-07-1) [By-product classification: allocatable product]: [2.54 [ELU]] LC quantity: EPS 2000, total, total',\n",
       " 'propylene, pipeline system (CAS 115-07-1) [By-product classification: allocatable product]: [8.85e-08 [kg waste]] LC quantity: EDIP2003, land filling, hazardous waste',\n",
       " 'propylene, pipeline system (CAS 115-07-1) [By-product classification: allocatable product]: [0.192 [points]] LC quantity: eco-indicator 99, (E,E), resources, fossil fuels',\n",
       " 'propylene, pipeline system (CAS 115-07-1) [By-product classification: allocatable product]: [5.78e-05 [kg 1,4-DCB-Eq]] LC quantity: ReCiPe Midpoint (H) w/o LT, marine ecotoxicity w/o LT, METPinf w/o LT',\n",
       " 'propylene, pipeline system (CAS 115-07-1) [By-product classification: allocatable product]: [1.95e-07 [points]] LC quantity: ReCiPe Endpoint (I,A), ecosystem quality, marine ecotoxicity',\n",
       " 'propylene, pipeline system (CAS 115-07-1) [By-product classification: allocatable product]: [0.00138 [points]] LC quantity: eco-indicator 99, (E,E) w/o LT, ecosystem quality w/o LT, acidification & eutrophication w/o LT',\n",
       " 'propylene, pipeline system (CAS 115-07-1) [By-product classification: allocatable product]: [1.01e-08 [kg]] LC quantity: EDIP, resource consumption, non-renewable resources, cadmium',\n",
       " 'propylene, pipeline system (CAS 115-07-1) [By-product classification: allocatable product]: [0.00862 [m3 soil]] LC quantity: EDIP, environmental impact, human toxicity, via soil',\n",
       " 'propylene, pipeline system (CAS 115-07-1) [By-product classification: allocatable product]: [3.16e+04 [m3 air]] LC quantity: EDIP2003, human toxicity, via air',\n",
       " 'propylene, pipeline system (CAS 115-07-1) [By-product classification: allocatable product]: [1.16e-06 [kg]] LC quantity: EDIP2003, non-renewable resources, aluminium',\n",
       " 'propylene, pipeline system (CAS 115-07-1) [By-product classification: allocatable product]: [4.81e-10 [kg CFC-11-Eq]] LC quantity: EDIP2003 w/o LT, stratospheric ozone depletion w/o LT, ODP total w/o LT',\n",
       " 'propylene, pipeline system (CAS 115-07-1) [By-product classification: allocatable product]: [2.88e-08 [points]] LC quantity: ReCiPe Endpoint (H,A) w/o LT, human health w/o LT, ozone depletion w/o LT',\n",
       " 'propylene, pipeline system (CAS 115-07-1) [By-product classification: allocatable product]: [0.0932 [kg 1,4-DCB-Eq]] LC quantity: CML 2001, freshwater sediment ecotoxicity, FSETP infinite',\n",
       " 'propylene, pipeline system (CAS 115-07-1) [By-product classification: allocatable product]: [8.78e-13 [kg]] LC quantity: EDIP, resource consumption, non-renewable resources, antimony',\n",
       " 'propylene, pipeline system (CAS 115-07-1) [By-product classification: allocatable product]: [6.48e-10 [kg CFC-11-Eq]] LC quantity: CML 2001 w/o LT, stratospheric ozone depletion w/o LT, ODP 30a w/o LT',\n",
       " 'propylene, pipeline system (CAS 115-07-1) [By-product classification: allocatable product]: [4.81e-10 [kg CFC-11-Eq]] LC quantity: CML 2001 w/o LT, stratospheric ozone depletion w/o LT, ODP steady state w/o LT',\n",
       " 'propylene, pipeline system (CAS 115-07-1) [By-product classification: allocatable product]: [0.872 [MJ-Eq]] LC quantity: cumulative exergy demand, nuclear, non-renewable energy resources, nuclear',\n",
       " 'propylene, pipeline system (CAS 115-07-1) [By-product classification: allocatable product]: [5.78e-05 [points]] LC quantity: ReCiPe Endpoint (I,A), resources, metal depletion',\n",
       " 'propylene, pipeline system (CAS 115-07-1) [By-product classification: allocatable product]: [4.98e-10 [kg CFC-11-Eq]] LC quantity: ReCiPe Midpoint (H) w/o LT, ozone depletion w/o LT, ODPinf w/o LT',\n",
       " 'propylene, pipeline system (CAS 115-07-1) [By-product classification: allocatable product]: [5.48e-06 [points]] LC quantity: ReCiPe Endpoint (E,A), ecosystem quality, agricultural land occupation',\n",
       " 'propylene, pipeline system (CAS 115-07-1) [By-product classification: allocatable product]: [8.14e-05 [m2a]] LC quantity: ReCiPe Midpoint (E) w/o LT, urban land occupation w/o LT, ULOP w/o LT',\n",
       " 'propylene, pipeline system (CAS 115-07-1) [By-product classification: allocatable product]: [0.0027 [m3]] LC quantity: selected LCI results, additional, resource, water',\n",
       " 'propylene, pipeline system (CAS 115-07-1) [By-product classification: allocatable product]: [0.00857 [kg waste]] LC quantity: EDIP2003 w/o LT, land filling w/o LT, bulk waste w/o LT',\n",
       " 'propylene, pipeline system (CAS 115-07-1) [By-product classification: allocatable product]: [0.00317 [kg 1,4-DCB-Eq]] LC quantity: ReCiPe Midpoint (I), human toxicity, HTP100',\n",
       " 'propylene, pipeline system (CAS 115-07-1) [By-product classification: allocatable product]: [0.0531 [kg toluene-Eq]] LC quantity: TRACI, human health, non-carcinogenics',\n",
       " 'propylene, pipeline system (CAS 115-07-1) [By-product classification: allocatable product]: [3.71e-07 [kg]] LC quantity: EDIP2003 w/o LT, non-renewable resources w/o LT, lead w/o LT',\n",
       " 'propylene, pipeline system (CAS 115-07-1) [By-product classification: allocatable product]: [2.04e-09 [kg]] LC quantity: EDIP, resource consumption, non-renewable resources, tin',\n",
       " 'propylene, pipeline system (CAS 115-07-1) [By-product classification: allocatable product]: [6.48e-10 [kg CFC-11-Eq]] LC quantity: CML 2001, stratospheric ozone depletion, ODP 30a',\n",
       " 'propylene, pipeline system (CAS 115-07-1) [By-product classification: allocatable product]: [0.0334 [kg antimony-Eq]] LC quantity: CML 2001, resources, depletion of abiotic resources',\n",
       " 'propylene, pipeline system (CAS 115-07-1) [By-product classification: allocatable product]: [0.00117 [kg 1,4-DCB-Eq]] LC quantity: CML 2001 w/o LT, freshwater aquatic ecotoxicity w/o LT, FAETP 100a w/o LT',\n",
       " 'propylene, pipeline system (CAS 115-07-1) [By-product classification: allocatable product]: [0.000165 [points]] LC quantity: eco-indicator 99, (E,E) w/o LT, human health w/o LT, carcinogenics w/o LT',\n",
       " 'propylene, pipeline system (CAS 115-07-1) [By-product classification: allocatable product]: [0.000307 [m2a]] LC quantity: CML 2001, land use, competition',\n",
       " 'propylene, pipeline system (CAS 115-07-1) [By-product classification: allocatable product]: [3.48e-08 [points]] LC quantity: IMPACT 2002+ (Endpoint), ecosystem quality, aquatic ecotoxicity',\n",
       " 'propylene, pipeline system (CAS 115-07-1) [By-product classification: allocatable product]: [1.02e-06 [points]] LC quantity: ReCiPe Endpoint (I,A), ecosystem quality, freshwater eutrophication',\n",
       " 'propylene, pipeline system (CAS 115-07-1) [By-product classification: allocatable product]: [0.286 [points]] LC quantity: ReCiPe Endpoint (H,A), total, total',\n",
       " 'propylene, pipeline system (CAS 115-07-1) [By-product classification: allocatable product]: [0.000745 [points]] LC quantity: ReCiPe Endpoint (E,A), ecosystem quality, marine ecotoxicity',\n",
       " 'propylene, pipeline system (CAS 115-07-1) [By-product classification: allocatable product]: [8.14e-05 [m2a]] LC quantity: ReCiPe Midpoint (H) w/o LT, urban land occupation w/o LT, ULOP w/o LT',\n",
       " 'propylene, pipeline system (CAS 115-07-1) [By-product classification: allocatable product]: [6.25e-10 [kg CFC-11-Eq]] LC quantity: EDIP w/o LT, environmental impact w/o LT, stratospheric ozone depletion, ODP 100a w/o LT',\n",
       " 'propylene, pipeline system (CAS 115-07-1) [By-product classification: allocatable product]: [0.671 [kg 1,4-DCB-Eq]] LC quantity: CML 2001, marine sediment ecotoxicity, MSETP 500a',\n",
       " 'propylene, pipeline system (CAS 115-07-1) [By-product classification: allocatable product]: [1.12e-08 [CTU]] LC quantity: USEtox w/o LT, human toxicity w/o LT, total w/o LT',\n",
       " 'propylene, pipeline system (CAS 115-07-1) [By-product classification: allocatable product]: [0.308 [points]] LC quantity: ReCiPe Endpoint (I,A), total, total',\n",
       " 'propylene, pipeline system (CAS 115-07-1) [By-product classification: allocatable product]: [0.034 [points]] LC quantity: eco-indicator 99, (I,I), total, total',\n",
       " 'propylene, pipeline system (CAS 115-07-1) [By-product classification: allocatable product]: [0.711 [m3 water]] LC quantity: EDIP2003 w/o LT, ecotoxicity w/o LT, acute, in water w/o LT',\n",
       " 'propylene, pipeline system (CAS 115-07-1) [By-product classification: allocatable product]: [0.0017 [MJ-Eq]] LC quantity: cumulative exergy demand, minerals, non-renewable material resources, minerals',\n",
       " 'propylene, pipeline system (CAS 115-07-1) [By-product classification: allocatable product]: [0.192 [points]] LC quantity: eco-indicator 99, (E,E) w/o LT, resources w/o LT, total w/o LT',\n",
       " 'propylene, pipeline system (CAS 115-07-1) [By-product classification: allocatable product]: [1.28 [kg CO2-Eq]] LC quantity: EDIP2003, global warming, GWP 500a',\n",
       " 'propylene, pipeline system (CAS 115-07-1) [By-product classification: allocatable product]: [2.14e-06 [kg 1,4-DCB-Eq]] LC quantity: CML 2001, terrestrial ecotoxicity, TAETP 20a',\n",
       " 'propylene, pipeline system (CAS 115-07-1) [By-product classification: allocatable product]: [8.43e-09 [kg]] LC quantity: EDIP w/o LT, resource consumption w/o LT, non-renewable resources, molybdenum w/o LT',\n",
       " 'propylene, pipeline system (CAS 115-07-1) [By-product classification: allocatable product]: [2.11e-07 [points]] LC quantity: ReCiPe Endpoint (H,A), ecosystem quality, marine ecotoxicity',\n",
       " 'propylene, pipeline system (CAS 115-07-1) [By-product classification: allocatable product]: [9.19e-10 [kg]] LC quantity: EDIP, resource consumption, non-renewable resources, mercury',\n",
       " 'propylene, pipeline system (CAS 115-07-1) [By-product classification: allocatable product]: [6.89e-07 [points]] LC quantity: ReCiPe Endpoint (E,A), ecosystem quality, freshwater eutrophication',\n",
       " 'propylene, pipeline system (CAS 115-07-1) [By-product classification: allocatable product]: [0.00638 [points]] LC quantity: ReCiPe Endpoint (H,A), human health, particulate matter formation',\n",
       " 'propylene, pipeline system (CAS 115-07-1) [By-product classification: allocatable product]: [3.35e-08 [points]] LC quantity: ReCiPe Endpoint (E,A) w/o LT, ecosystem quality w/o LT, freshwater eutrophication w/o LT',\n",
       " 'propylene, pipeline system (CAS 115-07-1) [By-product classification: allocatable product]: [3.16e+04 [m3 air]] LC quantity: EDIP2003 w/o LT, human toxicity w/o LT, via air w/o LT',\n",
       " 'propylene, pipeline system (CAS 115-07-1) [By-product classification: allocatable product]: [0.000254 [kg]] LC quantity: EDIP, resource consumption, non-renewable resources, iron',\n",
       " 'propylene, pipeline system (CAS 115-07-1) [By-product classification: allocatable product]: [77.7 [m3 water]] LC quantity: EDIP2003, ecotoxicity, chronic, in water',\n",
       " 'propylene, pipeline system (CAS 115-07-1) [By-product classification: allocatable product]: [0.926 [kg]] LC quantity: EDIP w/o LT, resource consumption w/o LT, non-renewable resources, oil w/o LT',\n",
       " 'propylene, pipeline system (CAS 115-07-1) [By-product classification: allocatable product]: [6.71e-10 [kg CFC-11-Eq]] LC quantity: CML 2001, stratospheric ozone depletion, ODP 10a',\n",
       " 'propylene, pipeline system (CAS 115-07-1) [By-product classification: allocatable product]: [1.24e-07 [m3]] LC quantity: EDIP2003 w/o LT, renewable resources w/o LT, wood w/o LT',\n",
       " 'propylene, pipeline system (CAS 115-07-1) [By-product classification: allocatable product]: [1.93e-07 [kg]] LC quantity: selected LCI results, additional, air, N20',\n",
       " 'propylene, pipeline system (CAS 115-07-1) [By-product classification: allocatable product]: [0.000254 [kg]] LC quantity: EDIP2003 w/o LT, non-renewable resources w/o LT, iron w/o LT',\n",
       " 'propylene, pipeline system (CAS 115-07-1) [By-product classification: allocatable product]: [0.000192 [points]] LC quantity: ecosystem damage potential, total, linear, land use, total',\n",
       " 'propylene, pipeline system (CAS 115-07-1) [By-product classification: allocatable product]: [1.29 [kg CO2-Eq]] LC quantity: IPCC 2007, climate change, GWP 500a',\n",
       " 'propylene, pipeline system (CAS 115-07-1) [By-product classification: allocatable product]: [0.0531 [m2]] LC quantity: EDIP2003 w/o LT, acidification w/o LT, acidification w/o LT',\n",
       " 'propylene, pipeline system (CAS 115-07-1) [By-product classification: allocatable product]: [5.42e-09 [CTU]] LC quantity: USEtox w/o LT, human toxicity w/o LT, carcinogenic w/o LT',\n",
       " 'propylene, pipeline system (CAS 115-07-1) [By-product classification: allocatable product]: [3.23e-07 [kg]] LC quantity: EDIP w/o LT, resource consumption w/o LT, non-renewable resources, zinc w/o LT',\n",
       " 'propylene, pipeline system (CAS 115-07-1) [By-product classification: allocatable product]: [8.43e-09 [kg]] LC quantity: EDIP2003 w/o LT, non-renewable resources w/o LT, molybdenum w/o LT',\n",
       " 'propylene, pipeline system (CAS 115-07-1) [By-product classification: allocatable product]: [1.05e-05 [kg P-Eq]] LC quantity: ReCiPe Midpoint (I), freshwater eutrophication, FEP',\n",
       " 'propylene, pipeline system (CAS 115-07-1) [By-product classification: allocatable product]: [0.0356 [points]] LC quantity: ReCiPe Endpoint (E,A) w/o LT, ecosystem quality w/o LT, total w/o LT',\n",
       " 'propylene, pipeline system (CAS 115-07-1) [By-product classification: allocatable product]: [1.35e-07 [points]] LC quantity: IMPACT 2002+ (Endpoint), ecosystem quality, terrestrial ecotoxicity',\n",
       " 'propylene, pipeline system (CAS 115-07-1) [By-product classification: allocatable product]: [2.04e-06 [points]] LC quantity: ReCiPe Endpoint (E,A) w/o LT, ecosystem quality w/o LT, terrestrial ecotoxicity w/o LT',\n",
       " 'propylene, pipeline system (CAS 115-07-1) [By-product classification: allocatable product]: [6.05e-08 [points]] LC quantity: ReCiPe Endpoint (H,A), human health, ionising radiation',\n",
       " 'propylene, pipeline system (CAS 115-07-1) [By-product classification: allocatable product]: [0.000644 [kg N]] LC quantity: EDIP2003 w/o LT, eutrophication w/o LT, separate N potential w/o LT',\n",
       " 'propylene, pipeline system (CAS 115-07-1) [By-product classification: allocatable product]: [4.79e-11 [kg]] LC quantity: EDIP, resource consumption, non-renewable resources, lanthanum',\n",
       " 'propylene, pipeline system (CAS 115-07-1) [By-product classification: allocatable product]: [1.57e-06 [points]] LC quantity: eco-indicator 99, (H,A), resources, mineral extraction',\n",
       " 'propylene, pipeline system (CAS 115-07-1) [By-product classification: allocatable product]: [5.67e-05 [points]] LC quantity: IMPACT 2002+ (Endpoint), human health, total',\n",
       " 'propylene, pipeline system (CAS 115-07-1) [By-product classification: allocatable product]: [1.16e-06 [kg]] LC quantity: EDIP w/o LT, resource consumption w/o LT, non-renewable resources, aluminium w/o LT',\n",
       " 'propylene, pipeline system (CAS 115-07-1) [By-product classification: allocatable product]: [0.00315 [UBP]] LC quantity: ecological scarcity 1997, total, emission into top-soil/groundwater',\n",
       " 'propylene, pipeline system (CAS 115-07-1) [By-product classification: allocatable product]: [0.00114 [kg PM10-Eq]] LC quantity: ReCiPe Midpoint (E), particulate matter formation, PMFP',\n",
       " 'propylene, pipeline system (CAS 115-07-1) [By-product classification: allocatable product]: [8.85e-08 [kg waste]] LC quantity: EDIP w/o LT, environmental impact w/o LT, land filling, hazardous waste w/o LT',\n",
       " 'propylene, pipeline system (CAS 115-07-1) [By-product classification: allocatable product]: [0.926 [kg]] LC quantity: EDIP2003, non-renewable resources, oil',\n",
       " 'propylene, pipeline system (CAS 115-07-1) [By-product classification: allocatable product]: [6.71e-10 [kg CFC-11-Eq]] LC quantity: CML 2001 w/o LT, stratospheric ozone depletion w/o LT, ODP 10a w/o LT',\n",
       " 'propylene, pipeline system (CAS 115-07-1) [By-product classification: allocatable product]: [0.000226 [m2a]] LC quantity: ReCiPe Midpoint (E), agricultural land occupation, ALOP',\n",
       " 'propylene, pipeline system (CAS 115-07-1) [By-product classification: allocatable product]: [7.91e-13 [kg]] LC quantity: EDIP, resource consumption, non-renewable resources, platinum',\n",
       " 'propylene, pipeline system (CAS 115-07-1) [By-product classification: allocatable product]: [1.05e-05 [kg P]] LC quantity: EDIP, environmental impact, nutrient enrichment, separate P potential',\n",
       " 'propylene, pipeline system (CAS 115-07-1) [By-product classification: allocatable product]: [0.0415 [points]] LC quantity: ReCiPe Endpoint (I,A), ecosystem quality, total',\n",
       " 'propylene, pipeline system (CAS 115-07-1) [By-product classification: allocatable product]: [1.57 [kg CO2-Eq]] LC quantity: EDIP, environmental impact, global warming, GWP 100a',\n",
       " 'propylene, pipeline system (CAS 115-07-1) [By-product classification: allocatable product]: [0.000542 [points]] LC quantity: ReCiPe Endpoint (E,A) w/o LT, ecosystem quality w/o LT, terrestrial acidification w/o LT',\n",
       " 'propylene, pipeline system (CAS 115-07-1) [By-product classification: allocatable product]: [0.00111 [kg ethylene-Eq]] LC quantity: EDIP w/o LT, environmental impact w/o LT, photochemical ozone formation, low NOx POCP w/o LT',\n",
       " 'propylene, pipeline system (CAS 115-07-1) [By-product classification: allocatable product]: [0.00118 [kg 1,4-DCB-Eq]] LC quantity: CML 2001 w/o LT, freshwater aquatic ecotoxicity w/o LT, FAETP infinite w/o LT',\n",
       " 'propylene, pipeline system (CAS 115-07-1) [By-product classification: allocatable product]: [1.57 [kg CO2-Eq]] LC quantity: CML 2001 w/o LT, climate change w/o LT, lower limit of net GWP w/o LT',\n",
       " 'propylene, pipeline system (CAS 115-07-1) [By-product classification: allocatable product]: [0.013 [UBP]] LC quantity: ecological scarcity 2006, total, emission into top soil',\n",
       " 'propylene, pipeline system (CAS 115-07-1) [By-product classification: allocatable product]: [0.000712 [m3]] LC quantity: ReCiPe Midpoint (E) w/o LT, water depletion w/o LT, WDP w/o LT',\n",
       " 'propylene, pipeline system (CAS 115-07-1) [By-product classification: allocatable product]: [994 [UBP]] LC quantity: ecological scarcity 2006, total, total',\n",
       " 'propylene, pipeline system (CAS 115-07-1) [By-product classification: allocatable product]: [0.000919 [person.ppm.h]] LC quantity: EDIP2003 w/o LT, photochemical ozone formation w/o LT, impacts on human health w/o LT',\n",
       " 'propylene, pipeline system (CAS 115-07-1) [By-product classification: allocatable product]: [8.91e-05 [kg N-Eq]] LC quantity: ReCiPe Midpoint (E) w/o LT, marine eutrophication w/o LT, MEP w/o LT',\n",
       " 'propylene, pipeline system (CAS 115-07-1) [By-product classification: allocatable product]: [1.28 [kg CO2-Eq]] LC quantity: EDIP w/o LT, environmental impact w/o LT, global warming, GWP 500a w/o LT',\n",
       " 'propylene, pipeline system (CAS 115-07-1) [By-product classification: allocatable product]: [2.09e-08 [points]] LC quantity: ReCiPe Endpoint (H,A) w/o LT, ecosystem quality w/o LT, marine ecotoxicity w/o LT',\n",
       " 'propylene, pipeline system (CAS 115-07-1) [By-product classification: allocatable product]: [4.02e-10 [kg]] LC quantity: EDIP2003 w/o LT, non-renewable resources w/o LT, silver w/o LT',\n",
       " 'propylene, pipeline system (CAS 115-07-1) [By-product classification: allocatable product]: [0.00053 [kg Fe-Eq]] LC quantity: ReCiPe Midpoint (H) w/o LT, metal depletion w/o LT, MDP w/o LT',\n",
       " 'propylene, pipeline system (CAS 115-07-1) [By-product classification: allocatable product]: [6.48 [m2a]] LC quantity: ecological footprint, total, total',\n",
       " 'propylene, pipeline system (CAS 115-07-1) [By-product classification: allocatable product]: [723 [UBP]] LC quantity: ecological scarcity 2006, total, emission into air',\n",
       " 'propylene, pipeline system (CAS 115-07-1) [By-product classification: allocatable product]: [0.002 [kg 1,4-DCB-Eq]] LC quantity: CML 2001 w/o LT, freshwater sediment ecotoxicity w/o LT, FSETP 500a w/o LT',\n",
       " 'propylene, pipeline system (CAS 115-07-1) [By-product classification: allocatable product]: [0.0062 [points]] LC quantity: eco-indicator 99, (E,E), human health, climate change',\n",
       " 'propylene, pipeline system (CAS 115-07-1) [By-product classification: allocatable product]: [1.59 [kg CO2-Eq]] LC quantity: ReCiPe Midpoint (H), climate change, GWP100',\n",
       " 'propylene, pipeline system (CAS 115-07-1) [By-product classification: allocatable product]: [0.241 [kg 1,4-DCB-Eq]] LC quantity: CML 2001, marine aquatic ecotoxicity, MAETP 100a',\n",
       " 'propylene, pipeline system (CAS 115-07-1) [By-product classification: allocatable product]: [0.207 [points]] LC quantity: ReCiPe Endpoint (H,A), resources, total',\n",
       " 'propylene, pipeline system (CAS 115-07-1) [By-product classification: allocatable product]: [1.57 [kg CO2-Eq]] LC quantity: EDIP2003, global warming, GWP 100a',\n",
       " 'propylene, pipeline system (CAS 115-07-1) [By-product classification: allocatable product]: [0.23 [points]] LC quantity: eco-indicator 99, (H,A), resources, total',\n",
       " 'propylene, pipeline system (CAS 115-07-1) [By-product classification: allocatable product]: [0.00111 [kg ethylene-Eq]] LC quantity: EDIP, environmental impact, photochemical ozone formation, low NOx POCP',\n",
       " 'propylene, pipeline system (CAS 115-07-1) [By-product classification: allocatable product]: [5.1e-07 [kg P-Eq]] LC quantity: ReCiPe Midpoint (H) w/o LT, freshwater eutrophication w/o LT, FEP w/o LT',\n",
       " 'propylene, pipeline system (CAS 115-07-1) [By-product classification: allocatable product]: [2.62e-11 [kg]] LC quantity: EDIP, resource consumption, non-renewable resources, gold',\n",
       " 'propylene, pipeline system (CAS 115-07-1) [By-product classification: allocatable product]: [4.79e-11 [kg]] LC quantity: EDIP2003, non-renewable resources, lanthanum',\n",
       " 'propylene, pipeline system (CAS 115-07-1) [By-product classification: allocatable product]: [0.926 [kg]] LC quantity: EDIP2003 w/o LT, non-renewable resources w/o LT, oil w/o LT',\n",
       " 'propylene, pipeline system (CAS 115-07-1) [By-product classification: allocatable product]: [1.24e-07 [m3]] LC quantity: EDIP2003, renewable resources, wood',\n",
       " 'propylene, pipeline system (CAS 115-07-1) [By-product classification: allocatable product]: [0.00256 [kg NOx-Eq]] LC quantity: CML 2001, eutrophication potential, average European',\n",
       " 'propylene, pipeline system (CAS 115-07-1) [By-product classification: allocatable product]: [0.00734 [m3 soil]] LC quantity: EDIP2003 w/o LT, human toxicity w/o LT, via soil w/o LT',\n",
       " 'propylene, pipeline system (CAS 115-07-1) [By-product classification: allocatable product]: [8.33e-06 [points]] LC quantity: ReCiPe Endpoint (H,A), ecosystem quality, agricultural land occupation',\n",
       " 'propylene, pipeline system (CAS 115-07-1) [By-product classification: allocatable product]: [0.153 [kg 1,4-DCB-Eq]] LC quantity: CML 2001, marine sediment ecotoxicity, MSETP 100a',\n",
       " 'propylene, pipeline system (CAS 115-07-1) [By-product classification: allocatable product]: [0.00263 [UBP]] LC quantity: ecological scarcity 2006, total, emission into groundwater',\n",
       " 'propylene, pipeline system (CAS 115-07-1) [By-product classification: allocatable product]: [0.192 [points]] LC quantity: eco-indicator 99, (E,E) w/o LT, resources w/o LT, fossil fuels w/o LT',\n",
       " 'propylene, pipeline system (CAS 115-07-1) [By-product classification: allocatable product]: [1.01e-08 [kg]] LC quantity: EDIP w/o LT, resource consumption w/o LT, non-renewable resources, cadmium w/o LT',\n",
       " 'propylene, pipeline system (CAS 115-07-1) [By-product classification: allocatable product]: [0.000109 [kg formed ozone]] LC quantity: CML 2001, photochemical oxidation (summer smog), MIR',\n",
       " 'propylene, pipeline system (CAS 115-07-1) [By-product classification: allocatable product]: [4.52e-07 [kg]] LC quantity: EDIP2003, non-renewable resources, copper',\n",
       " 'propylene, pipeline system (CAS 115-07-1) [By-product classification: allocatable product]: [2.32e-11 [kg]] LC quantity: EDIP2003 w/o LT, non-renewable resources w/o LT, cobalt w/o LT',\n",
       " 'propylene, pipeline system (CAS 115-07-1) [By-product classification: allocatable product]: [0.0179 [MJ-Eq]] LC quantity: cumulative exergy demand, water, renewable energy resources, potential (in barrage water), converted',\n",
       " 'propylene, pipeline system (CAS 115-07-1) [By-product classification: allocatable product]: [2.43 [kg CO2-Eq]] LC quantity: IPCC 2007 no LT, climate change, GWP 20a',\n",
       " 'propylene, pipeline system (CAS 115-07-1) [By-product classification: allocatable product]: [0.000307 [m2a]] LC quantity: CML 2001 w/o LT, land use w/o LT, competition w/o LT',\n",
       " 'propylene, pipeline system (CAS 115-07-1) [By-product classification: allocatable product]: [162 [kg 1,4-DCB-Eq]] LC quantity: CML 2001, marine sediment ecotoxicity, MSETP infinite',\n",
       " 'propylene, pipeline system (CAS 115-07-1) [By-product classification: allocatable product]: [0.0551 [points]] LC quantity: ReCiPe Endpoint (I,A), human health, climate change, human health',\n",
       " 'propylene, pipeline system (CAS 115-07-1) [By-product classification: allocatable product]: [4.21e-07 [kg]] LC quantity: EDIP2003 w/o LT, non-renewable resources w/o LT, manganese w/o LT',\n",
       " 'propylene, pipeline system (CAS 115-07-1) [By-product classification: allocatable product]: [0.000101 [kg U235-Eq]] LC quantity: ReCiPe Midpoint (I), ionising radiation, IRP_I',\n",
       " 'propylene, pipeline system (CAS 115-07-1) [By-product classification: allocatable product]: [1.28 [kg CO2-Eq]] LC quantity: EDIP2003 w/o LT, global warming w/o LT, GWP 500a w/o LT',\n",
       " 'propylene, pipeline system (CAS 115-07-1) [By-product classification: allocatable product]: [8.45e-07 [points]] LC quantity: ReCiPe Endpoint (H,A), ecosystem quality, terrestrial ecotoxicity',\n",
       " 'propylene, pipeline system (CAS 115-07-1) [By-product classification: allocatable product]: [0.00233 [kg]] LC quantity: selected LCI results, additional, air, carbon monoxide',\n",
       " 'propylene, pipeline system (CAS 115-07-1) [By-product classification: allocatable product]: [0.207 [points]] LC quantity: ReCiPe Endpoint (H,A) w/o LT, resources w/o LT, fossil depletion w/o LT',\n",
       " 'propylene, pipeline system (CAS 115-07-1) [By-product classification: allocatable product]: [0.0379 [kg]] LC quantity: EDIP2003 w/o LT, non-renewable resources w/o LT, coal w/o LT',\n",
       " 'propylene, pipeline system (CAS 115-07-1) [By-product classification: allocatable product]: [0.000226 [m2a]] LC quantity: ReCiPe Midpoint (I), agricultural land occupation, ALOP',\n",
       " 'propylene, pipeline system (CAS 115-07-1) [By-product classification: allocatable product]: [4.52e-07 [kg]] LC quantity: EDIP, resource consumption, non-renewable resources, copper']"
      ]
     },
     "execution_count": 40,
     "metadata": {},
     "output_type": "execute_result"
    }
   ],
   "source": [
    "[str(x) for x in _.characterizations()]"
   ]
  },
  {
   "cell_type": "code",
   "execution_count": 24,
   "metadata": {
    "collapsed": true
   },
   "outputs": [],
   "source": [
    "p_fg = E_fg.retrieve_or_fetch_entity(file)"
   ]
  },
  {
   "cell_type": "code",
   "execution_count": 25,
   "metadata": {
    "collapsed": false
   },
   "outputs": [
    {
     "data": {
      "text/plain": [
       "130"
      ]
     },
     "execution_count": 25,
     "metadata": {},
     "output_type": "execute_result"
    }
   ],
   "source": [
    "len([x for x in p_fg.exchanges()])"
   ]
  },
  {
   "cell_type": "code",
   "execution_count": 26,
   "metadata": {
    "collapsed": false
   },
   "outputs": [],
   "source": [
    "p_bg = E_bg.retrieve_or_fetch_entity(file)"
   ]
  },
  {
   "cell_type": "code",
   "execution_count": 27,
   "metadata": {
    "collapsed": false
   },
   "outputs": [
    {
     "data": {
      "text/plain": [
       "1879"
      ]
     },
     "execution_count": 27,
     "metadata": {},
     "output_type": "execute_result"
    }
   ],
   "source": [
    "len([x for x in p_bg.exchanges()])"
   ]
  },
  {
   "cell_type": "code",
   "execution_count": 42,
   "metadata": {
    "collapsed": true
   },
   "outputs": [],
   "source": [
    "import cProfile"
   ]
  },
  {
   "cell_type": "code",
   "execution_count": 43,
   "metadata": {
    "collapsed": false
   },
   "outputs": [
    {
     "name": "stdout",
     "output_type": "stream",
     "text": [
      "Found Extension: zip\n",
      "                   Objectified -- 0.006758\n",
      "       Impact scores collected -- 0.024823\n",
      "        Method names extracted -- 0.030338\n",
      "           cfs added- finished -- 0.042740\n",
      "         509250 function calls (509248 primitive calls) in 0.390 seconds\n",
      "\n",
      "   Ordered by: standard name\n",
      "\n",
      "   ncalls  tottime  percall  cumtime  percall filename:lineno(function)\n",
      "        1    0.003    0.003    0.380    0.380 <ipython-input-38-0bb1b04e11fc>:1(E_lcia)\n",
      "        1    0.010    0.010    0.390    0.390 <string>:1(<module>)\n",
      "      701    0.000    0.000    0.000    0.000 <string>:12(__new__)\n",
      "        2    0.000    0.000    0.000    0.000 _elementpath.py:101(select)\n",
      "        4    0.001    0.000    0.002    0.000 _elementpath.py:113(select)\n",
      "        2    0.000    0.000    0.000    0.000 _elementpath.py:231(_build_path_iterator)\n",
      "        2    0.000    0.000    0.000    0.000 _elementpath.py:276(iterfind)\n",
      "        2    0.000    0.000    0.002    0.001 _elementpath.py:303(findall)\n",
      "        1    0.007    0.007    0.034    0.034 archive.py:130(_prefix_zip)\n",
      "        1    0.001    0.001    0.001    0.001 archive.py:18(get_ext)\n",
      "        1    0.000    0.000    0.002    0.002 archive.py:189(readfile)\n",
      "        1    0.000    0.000    0.001    0.001 archive.py:227(<lambda>)\n",
      "        1    0.000    0.000    0.208    0.208 archive.py:43(_access_zip)\n",
      "        1    0.000    0.000    0.244    0.244 archive.py:51(__init__)\n",
      "        1    0.000    0.000    0.028    0.028 base.py:215(flows)\n",
      "        2    0.000    0.000    0.013    0.006 base.py:221(quantities)\n",
      "     3964    0.003    0.000    0.005    0.000 base.py:286(_key_to_id)\n",
      "        1    0.004    0.004    0.058    0.058 base.py:31(set_upstream)\n",
      "     6510    0.010    0.000    0.025    0.000 base.py:41(_upstream_flow_key)\n",
      "      702    0.001    0.000    0.001    0.000 characterizations.py:14(__init__)\n",
      "      702    0.000    0.000    0.000    0.000 characterizations.py:46(__setitem__)\n",
      "      702    0.000    0.000    0.001    0.000 characterizations.py:55(add_value)\n",
      "    12969    0.005    0.000    0.014    0.000 cp437.py:14(decode)\n",
      "        1    0.000    0.000    0.000    0.000 ecospold2.py:120(_create_quantity)\n",
      "        1    0.000    0.000    0.000    0.000 ecospold2.py:142(_cls_to_text)\n",
      "        1    0.000    0.000    0.001    0.001 ecospold2.py:156(_create_flow)\n",
      "        1    0.000    0.000    0.003    0.003 ecospold2.py:219(_grab_reference_flow)\n",
      "        1    0.013    0.013    0.015    0.015 ecospold2.py:259(_collect_impact_scores)\n",
      "        1    0.000    0.000    0.007    0.007 ecospold2.py:279(objectify)\n",
      "        1    0.003    0.003    0.043    0.043 ecospold2.py:336(retrieve_lcia_scores)\n",
      "        1    0.000    0.000    0.000    0.000 ecospold2.py:36(spold_reference_flow)\n",
      "        1    0.000    0.000    0.302    0.302 ecospold2.py:59(__init__)\n",
      "        1    0.000    0.000    0.000    0.000 ecospold2.py:74(_prefix)\n",
      "        1    0.000    0.000    0.002    0.002 ecospold2.py:88(_fetch_filename)\n",
      "        1    0.005    0.005    0.007    0.007 ecospold2.py:95(_get_objectified_entity)\n",
      "      709    0.000    0.000    0.000    0.000 entities.py:10(concatenate)\n",
      "      709    0.003    0.000    0.008    0.000 entities.py:106(validate)\n",
      "    25895    0.023    0.000    0.029    0.000 entities.py:144(__getitem__)\n",
      "        5    0.000    0.000    0.000    0.000 entities.py:153(__setitem__)\n",
      "     6089    0.002    0.000    0.003    0.000 entities.py:161(keys)\n",
      "        1    0.000    0.000    0.000    0.000 entities.py:25(__init__)\n",
      "        1    0.000    0.000    0.000    0.000 entities.py:363(__init__)\n",
      "        1    0.000    0.000    0.000    0.000 entities.py:374(set_local_unit)\n",
      "      702    0.002    0.000    0.004    0.000 entities.py:386(add_characterization)\n",
      "      701    0.001    0.000    0.006    0.000 entities.py:404(has_characterization)\n",
      "      709    0.001    0.000    0.001    0.000 entities.py:44(signature_fields)\n",
      "      709    0.000    0.000    0.000    0.000 entities.py:58(get_external_ref)\n",
      "     1404    0.001    0.000    0.007    0.000 entities.py:67(get_uuid)\n",
      "      710    0.001    0.000    0.001    0.000 entities.py:70(_validate_reference)\n",
      "        1    0.000    0.000    0.000    0.000 entities.py:78(_set_reference)\n",
      "        1    0.000    0.000    0.000    0.000 genericpath.py:16(exists)\n",
      "        1    0.000    0.000    0.000    0.000 genericpath.py:39(isdir)\n",
      "4674/4673    0.010    0.000    0.023    0.000 interfaces.py:103(_get_entity)\n",
      "      3/2    0.000    0.000    0.000    0.000 interfaces.py:128(__getitem__)\n",
      "      709    0.003    0.000    0.023    0.000 interfaces.py:131(add)\n",
      "        3    0.000    0.000    0.000    0.000 interfaces.py:160(_narrow_search)\n",
      "        3    0.000    0.000    0.041    0.014 interfaces.py:289(_entities_by_type)\n",
      "        3    0.007    0.002    0.041    0.014 interfaces.py:290(<listcomp>)\n",
      "     5383    0.004    0.000    0.012    0.000 interfaces.py:31(to_uuid)\n",
      "     1419    0.001    0.000    0.011    0.000 interfaces.py:56(_key_to_id)\n",
      "        1    0.000    0.000    0.058    0.058 interfaces.py:66(__init__)\n",
      "        1    0.000    0.000    0.000    0.000 interfaces.py:83(set_upstream)\n",
      "      701    0.000    0.000    0.000    0.000 interfaces.py:93(_print)\n",
      "        2    0.000    0.000    0.000    0.000 ioloop.py:928(add_callback)\n",
      "       10    0.000    0.000    0.000    0.000 iostream.py:227(_is_master_process)\n",
      "       10    0.000    0.000    0.000    0.000 iostream.py:240(_schedule_flush)\n",
      "       10    0.000    0.000    0.000    0.000 iostream.py:308(write)\n",
      "        2    0.000    0.000    0.000    0.000 posix.py:53(wake)\n",
      "    12970    0.003    0.000    0.005    0.000 posixpath.py:39(_get_sep)\n",
      "        2    0.000    0.000    0.000    0.000 posixpath.py:71(join)\n",
      "    12968    0.015    0.000    0.025    0.000 posixpath.py:99(split)\n",
      "        2    0.000    0.000    0.000    0.000 stack_context.py:253(wrap)\n",
      "        1    0.000    0.000    0.000    0.000 threading.py:72(RLock)\n",
      "      713    0.003    0.000    0.004    0.000 uuid.py:106(__init__)\n",
      "        2    0.000    0.000    0.000    0.000 uuid.py:185(__eq__)\n",
      "    10764    0.005    0.000    0.006    0.000 uuid.py:213(__hash__)\n",
      "     1407    0.006    0.000    0.006    0.000 uuid.py:225(__str__)\n",
      "        2    0.001    0.000    0.002    0.001 xml_widgets.py:3(find_tag)\n",
      "        1    0.082    0.082    0.207    0.207 zipfile.py:1085(_RealGetContents)\n",
      "        1    0.000    0.000    0.001    0.001 zipfile.py:1163(namelist)\n",
      "        1    0.001    0.001    0.001    0.001 zipfile.py:1165(<listcomp>)\n",
      "        1    0.000    0.000    0.000    0.000 zipfile.py:1194(getinfo)\n",
      "        1    0.000    0.000    0.001    0.001 zipfile.py:1235(open)\n",
      "        1    0.000    0.000    0.000    0.000 zipfile.py:1591(__del__)\n",
      "        1    0.000    0.000    0.000    0.000 zipfile.py:1595(close)\n",
      "        2    0.000    0.000    0.000    0.000 zipfile.py:1713(_fpclose)\n",
      "        1    0.000    0.000    0.000    0.000 zipfile.py:191(_EndRecData64)\n",
      "        1    0.000    0.000    0.000    0.000 zipfile.py:234(_EndRecData)\n",
      "    12968    0.022    0.000    0.027    0.000 zipfile.py:320(__init__)\n",
      "    12968    0.021    0.000    0.028    0.000 zipfile.py:436(_decodeExtra)\n",
      "        1    0.000    0.000    0.000    0.000 zipfile.py:605(_check_compression)\n",
      "        1    0.000    0.000    0.000    0.000 zipfile.py:636(_get_decompressor)\n",
      "        1    0.000    0.000    0.000    0.000 zipfile.py:654(__init__)\n",
      "        4    0.000    0.000    0.000    0.000 zipfile.py:660(read)\n",
      "        1    0.000    0.000    0.000    0.000 zipfile.py:667(close)\n",
      "        1    0.000    0.000    0.000    0.000 zipfile.py:708(__init__)\n",
      "        1    0.000    0.000    0.001    0.001 zipfile.py:821(read)\n",
      "        1    0.000    0.000    0.000    0.000 zipfile.py:854(_update_crc)\n",
      "        1    0.000    0.000    0.001    0.001 zipfile.py:901(_read1)\n",
      "        1    0.000    0.000    0.000    0.000 zipfile.py:937(_read2)\n",
      "        1    0.000    0.000    0.000    0.000 zipfile.py:953(close)\n",
      "        1    0.000    0.000    0.208    0.208 zipfile.py:981(__init__)\n",
      "      701    0.000    0.000    0.000    0.000 {built-in method __new__ of type object at 0x7f37d49570a0}\n",
      "    12969    0.008    0.000    0.008    0.000 {built-in method _codecs.charmap_decode}\n",
      "        1    0.000    0.000    0.000    0.000 {built-in method _stat.S_ISDIR}\n",
      "    38907    0.010    0.000    0.010    0.000 {built-in method _struct.unpack}\n",
      "        2    0.000    0.000    0.000    0.000 {built-in method _thread.get_ident}\n",
      "    12968    0.002    0.000    0.002    0.000 {built-in method builtins.chr}\n",
      "        1    0.000    0.000    0.390    0.390 {built-in method builtins.exec}\n",
      "        3    0.000    0.000    0.000    0.000 {built-in method builtins.hasattr}\n",
      "    10764    0.001    0.000    0.001    0.000 {built-in method builtins.hash}\n",
      "    22334    0.003    0.000    0.003    0.000 {built-in method builtins.isinstance}\n",
      "        2    0.000    0.000    0.000    0.000 {built-in method builtins.iter}\n",
      "    65561    0.004    0.000    0.004    0.000 {built-in method builtins.len}\n",
      "        2    0.000    0.000    0.000    0.000 {built-in method builtins.max}\n",
      "        1    0.000    0.000    0.000    0.000 {built-in method builtins.min}\n",
      "        5    0.000    0.000    0.000    0.000 {built-in method builtins.print}\n",
      "        1    0.000    0.000    0.000    0.000 {built-in method io.open}\n",
      "       10    0.000    0.000    0.000    0.000 {built-in method posix.getpid}\n",
      "        2    0.000    0.000    0.000    0.000 {built-in method posix.stat}\n",
      "        5    0.000    0.000    0.000    0.000 {built-in method time.time}\n",
      "        2    0.000    0.000    0.000    0.000 {built-in method zlib.crc32}\n",
      "        1    0.000    0.000    0.000    0.000 {built-in method zlib.decompressobj}\n",
      "        1    0.000    0.000    0.000    0.000 {function ZipExtFile.close at 0x7f37c807a7b8}\n",
      "    12968    0.001    0.000    0.001    0.000 {method 'add' of 'set' objects}\n",
      "    13673    0.001    0.000    0.001    0.000 {method 'append' of 'list' objects}\n",
      "        1    0.000    0.000    0.000    0.000 {method 'close' of '_io.BufferedReader' objects}\n",
      "      713    0.000    0.000    0.000    0.000 {method 'count' of 'list' objects}\n",
      "    12969    0.040    0.000    0.054    0.000 {method 'decode' of 'bytes' objects}\n",
      "        1    0.001    0.001    0.001    0.001 {method 'decompress' of 'zlib.Decompress' objects}\n",
      "        1    0.000    0.000    0.000    0.000 {method 'disable' of '_lsprof.Profiler' objects}\n",
      "        5    0.000    0.000    0.000    0.000 {method 'endswith' of 'str' objects}\n",
      "    12968    0.003    0.000    0.003    0.000 {method 'find' of 'str' objects}\n",
      "        1    0.000    0.000    0.000    0.000 {method 'findall' of '_sre.SRE_Pattern' objects}\n",
      "        2    0.000    0.000    0.002    0.001 {method 'findall' of 'lxml.etree._Element' objects}\n",
      "        1    0.000    0.000    0.000    0.000 {method 'flush' of 'zlib.Decompress' objects}\n",
      "        2    0.000    0.000    0.000    0.000 {method 'format' of 'str' objects}\n",
      "        1    0.000    0.000    0.000    0.000 {method 'get' of 'dict' objects}\n",
      "      701    0.001    0.000    0.001    0.000 {method 'get' of 'lxml.etree._Element' objects}\n",
      "        2    0.001    0.000    0.001    0.000 {method 'getchildren' of 'lxml.objectify.ObjectifiedElement' objects}\n",
      "      713    0.000    0.000    0.000    0.000 {method 'groups' of '_sre.SRE_Match' objects}\n",
      "        7    0.000    0.000    0.000    0.000 {method 'items' of 'dict' objects}\n",
      "        2    0.000    0.000    0.000    0.000 {method 'iterdescendants' of 'lxml.etree._Element' objects}\n",
      "     7212    0.002    0.000    0.002    0.000 {method 'join' of 'str' objects}\n",
      "     7492    0.001    0.000    0.001    0.000 {method 'keys' of 'dict' objects}\n",
      "    51801    0.006    0.000    0.006    0.000 {method 'lower' of 'str' objects}\n",
      "        7    0.001    0.000    0.001    0.000 {method 'read' of '_io.BufferedReader' objects}\n",
      "    51872    0.007    0.000    0.007    0.000 {method 'read' of '_io.BytesIO' objects}\n",
      "     2139    0.001    0.000    0.001    0.000 {method 'replace' of 'str' objects}\n",
      "    12968    0.002    0.000    0.002    0.000 {method 'rfind' of 'str' objects}\n",
      "    12967    0.002    0.000    0.002    0.000 {method 'rstrip' of 'str' objects}\n",
      "      714    0.003    0.000    0.003    0.000 {method 'search' of '_sre.SRE_Pattern' objects}\n",
      "        8    0.000    0.000    0.000    0.000 {method 'seek' of '_io.BufferedReader' objects}\n",
      "        5    0.000    0.000    0.000    0.000 {method 'startswith' of 'str' objects}\n",
      "      713    0.000    0.000    0.000    0.000 {method 'strip' of 'str' objects}\n",
      "        5    0.000    0.000    0.000    0.000 {method 'tell' of '_io.BufferedReader' objects}\n",
      "        2    0.000    0.000    0.000    0.000 {method 'write' of '_io.FileIO' objects}\n",
      "       10    0.000    0.000    0.000    0.000 {method 'write' of '_io.StringIO' objects}\n",
      "\n",
      "\n"
     ]
    }
   ],
   "source": [
    "cProfile.run('f_lcia = E_lcia(file, upstream=e)')"
   ]
  },
  {
   "cell_type": "code",
   "execution_count": 15,
   "metadata": {
    "collapsed": false
   },
   "outputs": [
    {
     "data": {
      "text/plain": [
       "702"
      ]
     },
     "execution_count": 15,
     "metadata": {},
     "output_type": "execute_result"
    }
   ],
   "source": [
    "len([x for x in f_lcia.characterizations()])"
   ]
  },
  {
   "cell_type": "code",
   "execution_count": 16,
   "metadata": {
    "collapsed": false
   },
   "outputs": [
    {
     "name": "stdout",
     "output_type": "stream",
     "text": [
      "                   Objectified -- 0.010115\n",
      "       Impact scores collected -- 0.036550\n",
      "        Method names extracted -- 0.044735\n",
      "           cfs added- finished -- 0.049445\n"
     ]
    }
   ],
   "source": [
    "f_lcia = E_lcia.retrieve_lcia_scores(file)"
   ]
  },
  {
   "cell_type": "code",
   "execution_count": 36,
   "metadata": {
    "collapsed": false
   },
   "outputs": [],
   "source": [
    "q = next(qe)"
   ]
  },
  {
   "cell_type": "code",
   "execution_count": 37,
   "metadata": {
    "collapsed": false
   },
   "outputs": [
    {
     "name": "stdout",
     "output_type": "stream",
     "text": [
      "IMPACT 2002+ (Endpoint), human health, respiratory effects (inorganics)\n",
      "------------------------------------------------------------\n",
      "    0.0986 x 0.000105   = 1.04e-05   Particulates, < 2.5 um\n",
      "   0.00769 x 0.0019     = 1.46e-05   Sulfur dioxide\n",
      "     0.012 x 1.35e-10   = 1.61e-12   Ammonia\n",
      "    0.0125 x 0.00212    = 2.67e-05   Nitrogen oxides\n",
      "  0.000103 x 0.00222    = 2.28e-07   Carbon monoxide, fossil\n",
      "  0.000103 x 2.55e-06   = 2.63e-10   Carbon monoxide, non-fossil\n",
      "============================================================\n",
      "             Total score: 5.18897e-05 [points]\n"
     ]
    },
    {
     "data": {
      "text/plain": [
       "5.188967521736182e-05"
      ]
     },
     "execution_count": 37,
     "metadata": {},
     "output_type": "execute_result"
    }
   ],
   "source": [
    "lcia(p_fg, q)"
   ]
  },
  {
   "cell_type": "code",
   "execution_count": 38,
   "metadata": {
    "collapsed": false
   },
   "outputs": [
    {
     "name": "stdout",
     "output_type": "stream",
     "text": [
      "IMPACT 2002+ (Endpoint), human health, respiratory effects (inorganics)\n",
      "------------------------------------------------------------\n",
      "   0.00769 x 0.00191    = 1.47e-05   Sulfur dioxide\n",
      "     0.012 x 7.84e-08   = 9.39e-10   Ammonia\n",
      "   0.00769 x 9.24e-07   = 7.1e-09    Sulfur dioxide\n",
      "    0.0125 x 3.38e-06   = 4.24e-08   Nitrogen oxides\n",
      "    0.0125 x 8.06e-13   = 1.01e-14   Nitrogen oxides\n",
      "    0.0125 x 1.69e-06   = 2.12e-08   Nitrogen oxides\n",
      "  0.000103 x 7.26e-07   = 7.47e-11   Carbon monoxide, fossil\n",
      "  0.000103 x 0.00233    = 2.39e-07   Carbon monoxide, fossil\n",
      "    0.0986 x 0.000106   = 1.04e-05   Particulates, < 2.5 um\n",
      "  0.000103 x 2.01e-06   = 2.07e-10   Carbon monoxide, fossil\n",
      "    0.0986 x 1.38e-07   = 1.37e-08   Particulates, < 2.5 um\n",
      "     0.012 x 7.09e-09   = 8.49e-11   Ammonia\n",
      "   0.00615 x 9.68e-13   = 5.96e-15   Sulfur trioxide\n",
      "   0.00769 x 3.49e-06   = 2.68e-08   Sulfur dioxide\n",
      "     0.012 x 5.35e-12   = 6.41e-14   Ammonia\n",
      "  0.000103 x 6.06e-09   = 6.24e-13   Carbon monoxide, non-fossil\n",
      "  0.000103 x 1.05e-11   = 1.08e-15   Carbon monoxide, non-fossil\n",
      "  0.000103 x 3.29e-06   = 3.38e-10   Carbon monoxide, non-fossil\n",
      "    0.0986 x 1.25e-06   = 1.23e-07   Particulates, < 2.5 um\n",
      "     0.012 x 8.09e-08   = 9.69e-10   Ammonia\n",
      "    0.0125 x 0.00213    = 2.67e-05   Nitrogen oxides\n",
      "    0.0986 x 1.65e-09   = 1.62e-10   Particulates, < 2.5 um\n",
      "   0.00615 x 5.47e-14   = 3.37e-16   Sulfur trioxide\n",
      "============================================================\n",
      "             Total score: 5.22637e-05 [points]\n",
      "aggregated result: 5.22637e-05\n"
     ]
    }
   ],
   "source": [
    "lcia(p_bg, q)\n",
    "print('aggregated result: %g' %f_lcia.cf(q))"
   ]
  },
  {
   "cell_type": "markdown",
   "metadata": {},
   "source": [
    "### Okay, now sugarbeets"
   ]
  },
  {
   "cell_type": "code",
   "execution_count": 14,
   "metadata": {
    "collapsed": false
   },
   "outputs": [
    {
     "name": "stdout",
     "output_type": "stream",
     "text": [
      "Loading JSON data from /home/b/GitHub/lca-tools-datafiles/catalogs/ecoinvent_3.2_apos_xlsx.json.gz:\n",
      "**Upstream reference encountered: /home/b/Dropbox/data/Ecoinvent/3.2/activity_overview_for_users_3.2_undefined.xlsx\n",
      "\n",
      "718 new quantity entities added (718 total)\n",
      "6767 new flow entities added (6767 total)\n",
      "11420 new process entities added (11420 total)\n"
     ]
    }
   ],
   "source": [
    "ei_foreground = archive_from_json(os.path.join(catalog_dir, 'ecoinvent_3.2_apos_xlsx.json.gz'))"
   ]
  },
  {
   "cell_type": "code",
   "execution_count": 23,
   "metadata": {
    "collapsed": false
   },
   "outputs": [],
   "source": [
    "results = ei_foreground.search(Name=['sugar','beet'])"
   ]
  },
  {
   "cell_type": "code",
   "execution_count": 24,
   "metadata": {
    "collapsed": true
   },
   "outputs": [],
   "source": [
    "def show(search):\n",
    "    for i, k in enumerate(search):\n",
    "        print('%3d: %s' % (i, k))"
   ]
  },
  {
   "cell_type": "code",
   "execution_count": 25,
   "metadata": {
    "collapsed": false
   },
   "outputs": [
    {
     "name": "stdout",
     "output_type": "stream",
     "text": [
      "  0: market for sugar, from sugar beet [GLO]\n",
      "  1: sugar beet pulp [Intermediate flow]\n",
      "  2: market for sugar beet [GLO]\n",
      "  3: ethanol production from sugar beet [CH]\n",
      "  4: field application of vinasse, from fermentation of sugar beet [GLO]\n",
      "  5: market for vinasse, from fermentation of sugar beet [GLO]\n",
      "  6: ethanol production from sugar beet molasses [RoW]\n",
      "  7: sugar beet seed production, for sowing [GLO]\n",
      "  8: sugar beet pulp to generic market for energy feed [GLO]\n",
      "  9: market for sugar beet pulp [GLO]\n",
      " 10: molasses, from sugar beet [Intermediate flow]\n",
      " 11: sugar, from sugar beet [Intermediate flow]\n",
      " 12: sugar beet production [CH]\n",
      " 13: sugar beet seed, for sowing [Intermediate flow]\n",
      " 14: market for sugar beet seed, for sowing [GLO]\n",
      " 15: ethanol production from sugar beet [RoW]\n",
      " 16: vinasse, from fermentation of sugar beet molasses [Intermediate flow]\n",
      " 17: market for molasses, from sugar beet [GLO]\n",
      " 18: ethanol production from sugar beet molasses [CH]\n",
      " 19: market for vinasse, from fermentation of sugar beet molasses [GLO]\n",
      " 20: field application of vinasse, from fermentation of sugar beet molasses [GLO]\n",
      " 21: beet sugar production [CH]\n",
      " 22: sugar beet production [RoW]\n",
      " 23: beet sugar production [RoW]\n",
      " 24: sugar beet [Intermediate flow]\n",
      " 25: vinasse, from fermentation of sugar beet [Intermediate flow]\n",
      " 26: molasses, from sugar beet, to generic market for energy feed [GLO]\n"
     ]
    }
   ],
   "source": [
    "show(results)"
   ]
  },
  {
   "cell_type": "code",
   "execution_count": 26,
   "metadata": {
    "collapsed": false
   },
   "outputs": [
    {
     "data": {
      "text/plain": [
       "['b2c33b9b-1091-4bed-92a3-decec3b8bd78_7cb72345-4338-4f2d-830f-65bba3530fdb.spold',\n",
       " 'b2c33b9b-1091-4bed-92a3-decec3b8bd78_8b2dfb58-660d-44eb-b83f-5d9e28e467db.spold',\n",
       " 'b2c33b9b-1091-4bed-92a3-decec3b8bd78_e98c4987-0c27-4ad8-aa06-568bea573460.spold']"
      ]
     },
     "execution_count": 26,
     "metadata": {},
     "output_type": "execute_result"
    }
   ],
   "source": [
    "E_fg.list_datasets(results[8].get_uuid())"
   ]
  },
  {
   "cell_type": "code",
   "execution_count": 27,
   "metadata": {
    "collapsed": false
   },
   "outputs": [
    {
     "name": "stdout",
     "output_type": "stream",
     "text": [
      "CPU times: user 8.94 s, sys: 2.67 s, total: 11.6 s\n",
      "Wall time: 11.6 s\n",
      "CPU times: user 250 ms, sys: 360 ms, total: 610 ms\n",
      "Wall time: 608 ms\n",
      "CPU times: user 220 ms, sys: 600 ms, total: 820 ms\n",
      "Wall time: 820 ms\n"
     ]
    }
   ],
   "source": [
    "for f in E_fg.list_datasets(results[8].get_uuid()):\n",
    "    %time E_fg.retrieve_or_fetch_entity(f)"
   ]
  },
  {
   "cell_type": "code",
   "execution_count": 28,
   "metadata": {
    "collapsed": false
   },
   "outputs": [
    {
     "data": {
      "text/plain": [
       "[{<lcatools.exchanges.Exchange at 0x7f67a6944518>,\n",
       "  <lcatools.exchanges.Exchange at 0x7f67a7a1f668>,\n",
       "  <lcatools.exchanges.Exchange at 0x7f67a69446a0>}]"
      ]
     },
     "execution_count": 28,
     "metadata": {},
     "output_type": "execute_result"
    }
   ],
   "source": [
    "[x.reference_entity for x in E_fg.processes('b2c33')]"
   ]
  },
  {
   "cell_type": "code",
   "execution_count": 28,
   "metadata": {
    "collapsed": true
   },
   "outputs": [],
   "source": [
    "p = E_fg['b2c33b9b-1091-4bed-92a3-decec3b8bd78']"
   ]
  },
  {
   "cell_type": "code",
   "execution_count": 29,
   "metadata": {
    "collapsed": false
   },
   "outputs": [
    {
     "data": {
      "text/plain": [
       "<lcatools.entities.LcProcess at 0x7f379a4eeb70>"
      ]
     },
     "execution_count": 29,
     "metadata": {},
     "output_type": "execute_result"
    }
   ],
   "source": [
    "p"
   ]
  },
  {
   "cell_type": "code",
   "execution_count": 30,
   "metadata": {
    "collapsed": false
   },
   "outputs": [],
   "source": [
    "pulp_to_energy = list(p.reference_entity)"
   ]
  },
  {
   "cell_type": "code",
   "execution_count": 34,
   "metadata": {
    "collapsed": false
   },
   "outputs": [
    {
     "data": {
      "text/plain": [
       "{'CasNumber': None,\n",
       " 'Comment': 'EcoSpold02 Flow',\n",
       " 'Compartment': ['By-product classification: allocatable product'],\n",
       " 'Name': 'protein feed, 100% crude',\n",
       " 'characterizations': [{'isReference': True,\n",
       "   'quantity': '487df68b-4994-4027-8fdc-a4dc298257b7'}],\n",
       " 'entityId': '8b2dfb58-660d-44eb-b83f-5d9e28e467db',\n",
       " 'entityType': 'flow',\n",
       " 'externalId': '8b2dfb58-660d-44eb-b83f-5d9e28e467db',\n",
       " 'origin': '/home/b/Dropbox/data/Ecoinvent/3.2/current_Version_3.2_apos_lcia_ecoSpold02.7z'}"
      ]
     },
     "execution_count": 34,
     "metadata": {},
     "output_type": "execute_result"
    }
   ],
   "source": [
    "f.serialize(characterizations=True)"
   ]
  },
  {
   "cell_type": "code",
   "execution_count": 53,
   "metadata": {
    "collapsed": false
   },
   "outputs": [
    {
     "data": {
      "text/plain": [
       "['b2c33b9b-1091-4bed-92a3-decec3b8bd78_e98c4987-0c27-4ad8-aa06-568bea573460.spold',\n",
       " 'b2c33b9b-1091-4bed-92a3-decec3b8bd78_7cb72345-4338-4f2d-830f-65bba3530fdb.spold',\n",
       " 'b2c33b9b-1091-4bed-92a3-decec3b8bd78_8b2dfb58-660d-44eb-b83f-5d9e28e467db.spold']"
      ]
     },
     "execution_count": 53,
     "metadata": {},
     "output_type": "execute_result"
    }
   ],
   "source": [
    "[exch_to_spold(k) for k in pulp_to_energy]"
   ]
  },
  {
   "cell_type": "code",
   "execution_count": 49,
   "metadata": {
    "collapsed": false
   },
   "outputs": [
    {
     "name": "stdout",
     "output_type": "stream",
     "text": [
      "Found Extension: zip\n",
      "                   Objectified -- 0.007375\n",
      "       Impact scores collected -- 0.020212\n",
      "        Method names extracted -- 0.023705\n",
      "           cfs added- finished -- 0.040546\n"
     ]
    }
   ],
   "source": [
    "f = E_lcia(exch_to_spold(pulp_to_energy[1]), upstream=e)"
   ]
  },
  {
   "cell_type": "code",
   "execution_count": 45,
   "metadata": {
    "collapsed": true
   },
   "outputs": [],
   "source": [
    "import itertools"
   ]
  },
  {
   "cell_type": "code",
   "execution_count": 50,
   "metadata": {
    "collapsed": false
   },
   "outputs": [
    {
     "data": {
      "text/plain": [
       "['energy feed, gross [By-product classification: allocatable product]: [0.000562 [kg]] LC quantity: EDIP2003, non-renewable resources, brown coal',\n",
       " 'energy feed, gross [By-product classification: allocatable product]: [6.96e-08 [points]] LC quantity: ReCiPe Endpoint (H,A), human health, ozone depletion',\n",
       " 'energy feed, gross [By-product classification: allocatable product]: [3.77e-06 [kg formed ozone]] LC quantity: CML 2001 w/o LT, photochemical oxidation w/o LT, EBIR w/o LT',\n",
       " 'energy feed, gross [By-product classification: allocatable product]: [8.52e-07 [kg waste]] LC quantity: EDIP w/o LT, environmental impact w/o LT, land filling, radioactive waste w/o LT',\n",
       " 'energy feed, gross [By-product classification: allocatable product]: [1.61e-05 [points]] LC quantity: eco-indicator 99, (E,E), resources, mineral extraction',\n",
       " 'energy feed, gross [By-product classification: allocatable product]: [0.00302 [points]] LC quantity: eco-indicator 99, (H,A) w/o LT, ecosystem quality w/o LT, total w/o LT',\n",
       " 'energy feed, gross [By-product classification: allocatable product]: [1.2e-09 [kg CFC-11-Eq]] LC quantity: CML 2001, stratospheric ozone depletion, ODP 25a',\n",
       " 'energy feed, gross [By-product classification: allocatable product]: [0.000562 [kg]] LC quantity: EDIP w/o LT, resource consumption w/o LT, non-renewable resources, brown coal w/o LT',\n",
       " 'energy feed, gross [By-product classification: allocatable product]: [0.0174 [kg CO2-Eq]] LC quantity: IPCC 2001, climate change, GWP 20a',\n",
       " 'energy feed, gross [By-product classification: allocatable product]: [0.00015 [kg SO2-Eq]] LC quantity: CML 2001 w/o LT, acidification potential w/o LT, generic w/o LT']"
      ]
     },
     "execution_count": 50,
     "metadata": {},
     "output_type": "execute_result"
    }
   ],
   "source": [
    "[str(x) for x in itertools.islice(f.characterizations(), 10)]"
   ]
  },
  {
   "cell_type": "code",
   "execution_count": 24,
   "metadata": {
    "collapsed": false
   },
   "outputs": [
    {
     "data": {
      "text/plain": [
       "[' Input:     [8.07e-13 [unit]] sugar refinery [By-product classification: allocatable product] (#)',\n",
       " ' Input:     [0.0363 [kg]] tap water (CAS 7732-18-5) [By-product classification: allocatable product] (#)',\n",
       " ' Input:     [0.000129 [MJ]] coke [By-product classification: allocatable product] (#)',\n",
       " ' Input:     [7.46e-12 [unit]] ethanol fermentation plant [By-product classification: allocatable product] (#)',\n",
       " ' Input:     [0.0001 [kg]] sodium phosphate (CAS 7601-54-9) [By-product classification: allocatable product] (#)',\n",
       " ' Input:     [-0.00185 [kg]] molasses, from sugar beet [By-product classification: allocatable product] (#)',\n",
       " ' Input:     [0.00504 [MJ]] heat, central or small-scale, other than natural gas [By-product classification: allocatable product] (#)',\n",
       " ' Input:     [6.87e-06 [kg]] chemical, inorganic [By-product classification: allocatable product] (#)',\n",
       " ' Input:     [0.135 [kg]] sugar beet [By-product classification: allocatable product] (#)',\n",
       " ' Input:     [0.0353 [MJ]] heat, district or industrial, natural gas [By-product classification: allocatable product] (#)',\n",
       " ' Input:     [1.78e-05 [kg]] soda ash, light, crystalline, heptahydrate (CAS 497-19-8) [By-product classification: allocatable product] (#)',\n",
       " ' Input:     [0.084 [kg]] sugar beet [By-product classification: allocatable product] (#)',\n",
       " ' Input:     [0.000506 [kg]] sulfuric acid [By-product classification: allocatable product] (#)',\n",
       " ' Input:     [0.0353 [MJ]] heat, district or industrial, natural gas [By-product classification: allocatable product] (#)',\n",
       " ' Input:     [8.79e-09 [m3]] Water, cooling, unspecified natural origin (CAS 007732-18-5) [natural resource, in water]',\n",
       " ' Input:     [0.00241 [kWh]] electricity, medium voltage [By-product classification: allocatable product] (#)',\n",
       " ' Input:     [3.35e-05 [kg]] sodium sulfate, anhydrite (CAS 7757-82-6) [By-product classification: allocatable product] (#)',\n",
       " ' Input:     [-8.95e-05 [m3]] wastewater, from residence [By-product classification: Waste] (#)',\n",
       " ' Input:     [-0.0379 [kg]] sugar beet pulp [By-product classification: allocatable product] (#)',\n",
       " ' Input:     [4.77e-06 [kg]] chemical, organic [By-product classification: allocatable product] (#)',\n",
       " ' Input:     [3.35e-05 [kg]] sodium sulfate, anhydrite (CAS 7757-82-6) [By-product classification: allocatable product] (#)',\n",
       " ' Input:     [0.000514 [metric ton*km]] transport, tractor and trailer, agricultural [By-product classification: allocatable product] (#)',\n",
       " ' Input:     [-0.104 [kg]] vinasse, from fermentation of sugar beet [By-product classification: Recyclable] (#)',\n",
       " ' Input:     [0.00149 [kg]] lime [By-product classification: allocatable product] (#)',\n",
       " ' Input:     [0.00335 [kg]] Carbon dioxide, in air (CAS 000124-38-9) [natural resource, in air]',\n",
       " ' Input:     [0.00241 [kWh]] electricity, medium voltage [By-product classification: allocatable product] (#)',\n",
       " ' Input:     [-0.00188 [kg]] limestone residue [By-product classification: Waste] (#)',\n",
       " ' Input:     [0.00504 [MJ]] heat, central or small-scale, other than natural gas [By-product classification: allocatable product] (#)',\n",
       " ' Input:     [0.0363 [kg]] tap water (CAS 7732-18-5) [By-product classification: allocatable product] (#)',\n",
       " 'Output: {*} [1 [MJ]] energy feed, gross [By-product classification: allocatable product]',\n",
       " 'Output: {*} [1 [kg]] protein feed, 100% crude [By-product classification: allocatable product]',\n",
       " 'Output:     [0.0174 [kg]] Carbon dioxide, non-fossil (CAS 000124-38-9) [air, urban air close to ground]',\n",
       " 'Output: {*} [-1 [kg]] sugar beet pulp [By-product classification: allocatable product]',\n",
       " 'Output:     [1.92e-05 [m3]] Water (CAS 007732-18-5) [air, unspecified]',\n",
       " 'Output:     [1.6e-05 [m3]] Water (CAS 007732-18-5) [water, unspecified]']"
      ]
     },
     "execution_count": 24,
     "metadata": {},
     "output_type": "execute_result"
    }
   ],
   "source": [
    "[str(x) for x in p.exchanges()]"
   ]
  },
  {
   "cell_type": "code",
   "execution_count": 17,
   "metadata": {
    "collapsed": true
   },
   "outputs": [],
   "source": [
    "def exch_to_spold(exch):\n",
    "    return '%s_%s.spold' % (exch.process.get_uuid(), exch.flow.get_uuid())"
   ]
  },
  {
   "cell_type": "code",
   "execution_count": 18,
   "metadata": {
    "collapsed": false
   },
   "outputs": [
    {
     "ename": "NameError",
     "evalue": "name 'pulp_to_energy' is not defined",
     "output_type": "error",
     "traceback": [
      "\u001b[1;31m---------------------------------------------------------------------------\u001b[0m",
      "\u001b[1;31mNameError\u001b[0m                                 Traceback (most recent call last)",
      "\u001b[1;32m<ipython-input-18-9b90dda9418c>\u001b[0m in \u001b[0;36m<module>\u001b[1;34m()\u001b[0m\n\u001b[1;32m----> 1\u001b[1;33m \u001b[0mp_lcia\u001b[0m \u001b[1;33m=\u001b[0m \u001b[0mE_lcia\u001b[0m\u001b[1;33m(\u001b[0m\u001b[0mexch_to_spold\u001b[0m\u001b[1;33m(\u001b[0m\u001b[0mpulp_to_energy\u001b[0m\u001b[1;33m[\u001b[0m\u001b[1;36m0\u001b[0m\u001b[1;33m]\u001b[0m\u001b[1;33m)\u001b[0m\u001b[1;33m,\u001b[0m \u001b[0mupstream\u001b[0m\u001b[1;33m=\u001b[0m\u001b[0me\u001b[0m\u001b[1;33m)\u001b[0m\u001b[1;33m\u001b[0m\u001b[0m\n\u001b[0m",
      "\u001b[1;31mNameError\u001b[0m: name 'pulp_to_energy' is not defined"
     ]
    }
   ],
   "source": [
    "p_lcia = E_lcia(exch_to_spold(pulp_to_energy[0]), upstream=e)"
   ]
  },
  {
   "cell_type": "code",
   "execution_count": 39,
   "metadata": {
    "collapsed": false
   },
   "outputs": [
    {
     "name": "stdout",
     "output_type": "stream",
     "text": [
      "         37 function calls in 8.216 seconds\n",
      "\n",
      "   Ordered by: standard name\n",
      "\n",
      "   ncalls  tottime  percall  cumtime  percall filename:lineno(function)\n",
      "        1    0.024    0.024    0.025    0.025 <ipython-input-28-8f8d23825535>:1(exch_to_spold)\n",
      "        1    0.002    0.002    8.216    8.216 <string>:1(<module>)\n",
      "        1    0.003    0.003    7.940    7.940 archive.py:189(readfile)\n",
      "        1    0.001    0.001    0.002    0.002 archive.py:226(<lambda>)\n",
      "        1    0.000    0.000    8.188    8.188 ecospold2.py:279(objectify)\n",
      "        1    0.000    0.000    0.000    0.000 ecospold2.py:74(_prefix)\n",
      "        1    0.001    0.001    7.941    7.941 ecospold2.py:88(_fetch_filename)\n",
      "        1    0.247    0.247    8.188    8.188 ecospold2.py:95(_get_objectified_entity)\n",
      "        2    0.000    0.000    0.001    0.000 entities.py:67(get_uuid)\n",
      "        1    0.000    0.000    0.000    0.000 posixpath.py:39(_get_sep)\n",
      "        1    0.000    0.000    0.000    0.000 posixpath.py:71(join)\n",
      "        1    0.002    0.002    7.935    7.935 py7zlib.py:592(read)\n",
      "        1    0.120    0.120    7.775    7.775 py7zlib.py:620(_read_from_decompressor)\n",
      "        1    0.159    0.159    7.934    7.934 py7zlib.py:667(_read_lzma)\n",
      "        1    0.001    0.001    0.001    0.001 py7zlib.py:875(getmember)\n",
      "        2    0.000    0.000    0.000    0.000 uuid.py:225(__str__)\n",
      "        1    0.001    0.001    8.216    8.216 {built-in method builtins.exec}\n",
      "        2    0.000    0.000    0.000    0.000 {built-in method builtins.getattr}\n",
      "        2    0.000    0.000    0.000    0.000 {built-in method builtins.isinstance}\n",
      "        1    0.000    0.000    0.000    0.000 {built-in method builtins.len}\n",
      "        1    0.000    0.000    0.000    0.000 {method 'decompress' of 'pylzma.decompressobj' objects}\n",
      "        1    0.000    0.000    0.000    0.000 {method 'disable' of '_lsprof.Profiler' objects}\n",
      "        1    0.000    0.000    0.000    0.000 {method 'endswith' of 'str' objects}\n",
      "        5    0.000    0.000    0.000    0.000 {method 'get' of 'dict' objects}\n",
      "        1    0.002    0.002    0.002    0.002 {method 'getvalue' of '_io.BytesIO' objects}\n",
      "        1    0.011    0.011    0.011    0.011 {method 'seek' of '_io.BufferedReader' objects}\n",
      "        1    0.000    0.000    0.000    0.000 {method 'startswith' of 'str' objects}\n",
      "        1    0.001    0.001    0.001    0.001 {method 'tell' of '_io.BufferedReader' objects}\n",
      "        1    7.641    7.641    7.641    7.641 {method 'write' of '_io.BytesIO' objects}\n",
      "\n",
      "\n"
     ]
    }
   ],
   "source": [
    "cProfile.run('E_lcia.objectify(exch_to_spold(pulp_to_energy[0]))')"
   ]
  },
  {
   "cell_type": "code",
   "execution_count": 37,
   "metadata": {
    "collapsed": false
   },
   "outputs": [
    {
     "data": {
      "text/plain": [
       "196704"
      ]
     },
     "execution_count": 37,
     "metadata": {},
     "output_type": "execute_result"
    }
   ],
   "source": [
    "sys.getsizeof(E_lcia._upstream_hash)"
   ]
  },
  {
   "cell_type": "code",
   "execution_count": 43,
   "metadata": {
    "collapsed": false
   },
   "outputs": [
    {
     "data": {
      "text/plain": [
       "'e1cc645c-9d74-40ff-a4b0-b0591d8717e5'"
      ]
     },
     "execution_count": 43,
     "metadata": {},
     "output_type": "execute_result"
    }
   ],
   "source": [
    "E_lcia._upstream_hash['Diethylene glycol, air, non-urban air or from high stacks'].get_uuid()"
   ]
  },
  {
   "cell_type": "code",
   "execution_count": 44,
   "metadata": {
    "collapsed": false
   },
   "outputs": [
    {
     "data": {
      "text/plain": [
       "True"
      ]
     },
     "execution_count": 44,
     "metadata": {},
     "output_type": "execute_result"
    }
   ],
   "source": [
    "e['e1cc645c-9d74-40ff-a4b0-b0591d8717e5'] is E_lcia._upstream_hash['Diethylene glycol, air, non-urban air or from high stacks']"
   ]
  },
  {
   "cell_type": "code",
   "execution_count": 45,
   "metadata": {
    "collapsed": false
   },
   "outputs": [
    {
     "data": {
      "text/plain": [
       "True"
      ]
     },
     "execution_count": 45,
     "metadata": {},
     "output_type": "execute_result"
    }
   ],
   "source": [
    "e['e1cc645c-9d74-40ff-a4b0-b0591d8717e5'] is E_lcia['e1cc645c-9d74-40ff-a4b0-b0591d8717e5']"
   ]
  },
  {
   "cell_type": "code",
   "execution_count": 47,
   "metadata": {
    "collapsed": false
   },
   "outputs": [
    {
     "data": {
      "text/plain": [
       "3168"
      ]
     },
     "execution_count": 47,
     "metadata": {},
     "output_type": "execute_result"
    }
   ],
   "source": [
    "sys.getsizeof(e['e1cc645c-9d74-40ff-a4b0-b0591d8717e5']._characterizations)"
   ]
  },
  {
   "cell_type": "code",
   "execution_count": 48,
   "metadata": {
    "collapsed": false
   },
   "outputs": [
    {
     "data": {
      "text/plain": [
       "44"
      ]
     },
     "execution_count": 48,
     "metadata": {},
     "output_type": "execute_result"
    }
   ],
   "source": [
    "len(e['e1cc645c-9d74-40ff-a4b0-b0591d8717e5']._characterizations)"
   ]
  },
  {
   "cell_type": "code",
   "execution_count": 55,
   "metadata": {
    "collapsed": false
   },
   "outputs": [],
   "source": [
    "c = list(e['e1cc645c-9d74-40ff-a4b0-b0591d8717e5']._characterizations.values())"
   ]
  },
  {
   "cell_type": "code",
   "execution_count": 62,
   "metadata": {
    "collapsed": false
   },
   "outputs": [
    {
     "name": "stdout",
     "output_type": "stream",
     "text": [
      "Help on built-in function getsizeof in module sys:\n",
      "\n",
      "getsizeof(...)\n",
      "    getsizeof(object, default) -> int\n",
      "    \n",
      "    Return the size of object in bytes.\n",
      "\n"
     ]
    }
   ],
   "source": [
    "help(sys.getsizeof)"
   ]
  },
  {
   "cell_type": "code",
   "execution_count": 70,
   "metadata": {
    "collapsed": false
   },
   "outputs": [
    {
     "data": {
      "text/plain": [
       "56"
      ]
     },
     "execution_count": 70,
     "metadata": {},
     "output_type": "execute_result"
    }
   ],
   "source": [
    "sys.getsizeof(E_lcia._archive._archive.files[0])"
   ]
  },
  {
   "cell_type": "code",
   "execution_count": 72,
   "metadata": {
    "collapsed": false
   },
   "outputs": [
    {
     "data": {
      "text/plain": [
       "{'_archive': <py7zlib.Archive7z at 0x7f7cd18fca20>,\n",
       " '_decoders': {b'\\x00': '_read_copy',\n",
       "  b'\\x03': '_read_lzma',\n",
       "  b'\\x04\\x01': '_read_zip',\n",
       "  b'\\x04\\x02': '_read_bzip',\n",
       "  b'\\x06\\xf1\\x07\\x01': '_read_7z_aes256_sha256'},\n",
       " '_file': <_io.BufferedReader name='/home/b/Dropbox/data/Ecoinvent/3.2/current_Version_3.2_apos_lcia_ecoSpold02.7z'>,\n",
       " '_folder': <py7zlib.Folder at 0x7f7cd18fccc0>,\n",
       " '_maxsize': 96924579,\n",
       " '_src_start': 32,\n",
       " '_start': 0,\n",
       " '_uncompressed': [1734974],\n",
       " 'attributes': 8192,\n",
       " 'compressed': 96924579,\n",
       " 'digest': 4248269810,\n",
       " 'emptystream': False,\n",
       " 'filename': 'FilenameToActivtiyLookup.csv',\n",
       " 'lastwritetime': ArchiveTimestamp(130927399598329508),\n",
       " 'pos': 0,\n",
       " 'size': 1734974,\n",
       " 'uncompressed': 1734974}"
      ]
     },
     "execution_count": 72,
     "metadata": {},
     "output_type": "execute_result"
    }
   ],
   "source": [
    "E_lcia._archive._archive.files[0].__dict__"
   ]
  },
  {
   "cell_type": "code",
   "execution_count": 61,
   "metadata": {
    "collapsed": false
   },
   "outputs": [
    {
     "data": {
      "text/plain": [
       "56"
      ]
     },
     "execution_count": 61,
     "metadata": {},
     "output_type": "execute_result"
    }
   ],
   "source": [
    "sys.getsizeof(c[0])"
   ]
  },
  {
   "cell_type": "code",
   "execution_count": 57,
   "metadata": {
    "collapsed": false
   },
   "outputs": [
    {
     "data": {
      "text/plain": [
       "44"
      ]
     },
     "execution_count": 57,
     "metadata": {},
     "output_type": "execute_result"
    }
   ],
   "source": [
    "len(c)"
   ]
  },
  {
   "cell_type": "code",
   "execution_count": 59,
   "metadata": {
    "collapsed": false
   },
   "outputs": [
    {
     "data": {
      "text/plain": [
       "{'_locations': {'GLO': 0.033247},\n",
       " 'flow': <lcatools.entities.LcFlow at 0x7f7cd30eac88>,\n",
       " 'quantity': <lcatools.entities.LcQuantity at 0x7f7cd22fb550>}"
      ]
     },
     "execution_count": 59,
     "metadata": {},
     "output_type": "execute_result"
    }
   ],
   "source": [
    "c[1].__dict__"
   ]
  },
  {
   "cell_type": "code",
   "execution_count": 35,
   "metadata": {
    "collapsed": false
   },
   "outputs": [
    {
     "data": {
      "text/plain": [
       "{'_archive': <lcatools.providers.archive.Archive at 0x7f7cd18fc9b0>,\n",
       " '_counter': defaultdict(int, {'flow': 2, 'quantity': 708}),\n",
       " '_entities': {UUID('0029e424-9fdb-3250-9cbc-d1f18c57b496'): <lcatools.entities.LcQuantity at 0x7f7cd22fb160>,\n",
       "  UUID('00c94bb8-88cf-34cb-9229-340fc362c735'): <lcatools.entities.LcQuantity at 0x7f7cd22fb1d0>,\n",
       "  UUID('011e34a1-1ab8-34b1-85df-8de1b4351eeb'): <lcatools.entities.LcQuantity at 0x7f7cd22fb2b0>,\n",
       "  UUID('0148760a-5482-344b-95fc-e2e7327228ba'): <lcatools.entities.LcQuantity at 0x7f7cd22fb390>,\n",
       "  UUID('01bd99e1-65ca-30ff-a1b9-ea9aaed2c569'): <lcatools.entities.LcQuantity at 0x7f7cd22fb470>,\n",
       "  UUID('01ec7c12-cefc-3c28-abbe-904c026752e9'): <lcatools.entities.LcQuantity at 0x7f7cd22fb550>,\n",
       "  UUID('01fc5501-7edc-3f0a-95c7-6763aa15631d'): <lcatools.entities.LcQuantity at 0x7f7cd22fb630>,\n",
       "  UUID('022541fb-da7e-3739-9169-875486adc2a0'): <lcatools.entities.LcQuantity at 0x7f7cd22fb710>,\n",
       "  UUID('0258fb60-603b-37bb-97fb-2f04720809ea'): <lcatools.entities.LcQuantity at 0x7f7cd22fb7f0>,\n",
       "  UUID('025fd117-e5c0-3f28-ab68-9cda70ef2b9f'): <lcatools.entities.LcQuantity at 0x7f7cd22fb8d0>,\n",
       "  UUID('02843ee3-0bca-3930-8b20-580b3935723e'): <lcatools.entities.LcQuantity at 0x7f7cd22fb9b0>,\n",
       "  UUID('029e1ed9-6902-3095-bd5b-27431bd704a4'): <lcatools.entities.LcQuantity at 0x7f7cd22fba90>,\n",
       "  UUID('02da66d1-0f2d-360d-a026-58dba6144fb8'): <lcatools.entities.LcQuantity at 0x7f7cd22fbb70>,\n",
       "  UUID('038cc4f0-1dfe-3784-a91c-3742ee912359'): <lcatools.entities.LcQuantity at 0x7f7cd22fbc50>,\n",
       "  UUID('039a87e5-6843-366f-a286-73cd9c0a86e3'): <lcatools.entities.LcQuantity at 0x7f7cd22fbd30>,\n",
       "  UUID('03a914ad-18fd-3d40-a2fc-fa6e790250c7'): <lcatools.entities.LcQuantity at 0x7f7cd22fbe10>,\n",
       "  UUID('03c9e341-b5db-3e10-a23e-c0ebbf606691'): <lcatools.entities.LcQuantity at 0x7f7cd22fbef0>,\n",
       "  UUID('04432292-ea96-324b-95f5-f7579cca1a6f'): <lcatools.entities.LcQuantity at 0x7f7cd22fbfd0>,\n",
       "  UUID('0520ce49-89ef-30c6-a4f1-3bff4a5fecdf'): <lcatools.entities.LcQuantity at 0x7f7cd23000f0>,\n",
       "  UUID('06b555d4-00fd-3c43-abaf-e4aa66a4c663'): <lcatools.entities.LcQuantity at 0x7f7cd23001d0>,\n",
       "  UUID('07352d97-aa60-38f3-a8c5-41ec35b64861'): <lcatools.entities.LcQuantity at 0x7f7cd23002b0>,\n",
       "  UUID('07395f11-9ae5-3070-a49b-623ec4ddeb81'): <lcatools.entities.LcQuantity at 0x7f7cd2300390>,\n",
       "  UUID('0755d155-caab-3ecf-9eaf-46d1d595cf8d'): <lcatools.entities.LcQuantity at 0x7f7cd2300470>,\n",
       "  UUID('07c5c491-a417-332e-a360-8f7592f76793'): <lcatools.entities.LcQuantity at 0x7f7cd2300550>,\n",
       "  UUID('07dca9c7-ffe2-3b30-bec3-4912572773ad'): <lcatools.entities.LcQuantity at 0x7f7cd2300630>,\n",
       "  UUID('0835e7c0-f7a3-3628-b612-7db71397739a'): <lcatools.entities.LcQuantity at 0x7f7cd2300710>,\n",
       "  UUID('087f1400-be3a-3c7b-abbd-62ec32e10177'): <lcatools.entities.LcQuantity at 0x7f7cd23007f0>,\n",
       "  UUID('090405ff-ac4d-3694-841b-3ac7858841c4'): <lcatools.entities.LcQuantity at 0x7f7cd23008d0>,\n",
       "  UUID('0a82e53b-3253-32fb-9f06-8254d40080b8'): <lcatools.entities.LcQuantity at 0x7f7cd23009b0>,\n",
       "  UUID('0aa94602-468e-35b1-9f6a-a17a5e9597f1'): <lcatools.entities.LcQuantity at 0x7f7cd2300a90>,\n",
       "  UUID('0aaf87be-fbea-38ee-88d0-5eaf27b2ca9f'): <lcatools.entities.LcQuantity at 0x7f7cd2300b70>,\n",
       "  UUID('0af15e28-af2b-338a-8343-82a44ac0f2be'): <lcatools.entities.LcQuantity at 0x7f7cd2300c50>,\n",
       "  UUID('0b07f0a8-f0bf-3780-a222-fd50e7ae61a6'): <lcatools.entities.LcQuantity at 0x7f7cd2300d30>,\n",
       "  UUID('0b228448-1d2e-33c7-b85b-856a9d088819'): <lcatools.entities.LcQuantity at 0x7f7cd2300e10>,\n",
       "  UUID('0b59e551-7b31-33fe-8bfa-8804e4d954a7'): <lcatools.entities.LcQuantity at 0x7f7cd2300ef0>,\n",
       "  UUID('0b851572-68e2-3954-825e-6e3875e940f7'): <lcatools.entities.LcQuantity at 0x7f7cd2300fd0>,\n",
       "  UUID('0c0ba082-1044-365f-8aca-3a5592913953'): <lcatools.entities.LcQuantity at 0x7f7cd23030f0>,\n",
       "  UUID('0c924ffe-72dc-3e70-a6e5-edcb64d5327a'): <lcatools.entities.LcQuantity at 0x7f7cd23031d0>,\n",
       "  UUID('0daed8b2-9290-3386-93f5-8dd4ac6b6f55'): <lcatools.entities.LcQuantity at 0x7f7cd23032b0>,\n",
       "  UUID('0dfb5158-e787-35fd-bc64-a1cdb8ec15e1'): <lcatools.entities.LcQuantity at 0x7f7cd2303390>,\n",
       "  UUID('0dfd143f-03e1-3597-8a7e-9449bcc06724'): <lcatools.entities.LcQuantity at 0x7f7cd2303470>,\n",
       "  UUID('0e465650-652a-38d1-920c-6934295d6cbb'): <lcatools.entities.LcQuantity at 0x7f7cd2303550>,\n",
       "  UUID('0e8c57b2-c05b-3c01-843c-742398e18016'): <lcatools.entities.LcQuantity at 0x7f7cd2303630>,\n",
       "  UUID('0ede85e0-6eb1-3b8f-b336-97cda632044c'): <lcatools.entities.LcQuantity at 0x7f7cd2303710>,\n",
       "  UUID('0f3318ba-7cef-3e97-ba54-49f66d3825b8'): <lcatools.entities.LcQuantity at 0x7f7cd23037f0>,\n",
       "  UUID('1017f68a-f818-4f9d-a34d-a31e7386f628'): <lcatools.entities.LcQuantity at 0x7f7cd23038d0>,\n",
       "  UUID('107a886a-b1a8-316b-8159-c1c62cc66f1e'): <lcatools.entities.LcQuantity at 0x7f7cd23039b0>,\n",
       "  UUID('10d7b04b-ccec-3d31-8f37-e102da4b441c'): <lcatools.entities.LcQuantity at 0x7f7cd2303a90>,\n",
       "  UUID('118a9d13-b3d5-3300-af52-2413310dae2b'): <lcatools.entities.LcQuantity at 0x7f7cd2303b70>,\n",
       "  UUID('1379d22c-f5ee-3273-8dd5-fe3f50f07aca'): <lcatools.entities.LcQuantity at 0x7f7cd2303c50>,\n",
       "  UUID('13980942-f937-35b0-a456-b8bbfb29de7f'): <lcatools.entities.LcQuantity at 0x7f7cd2303d30>,\n",
       "  UUID('13a5aa6c-ffd8-3f28-b4fa-b1a8a247e6af'): <lcatools.entities.LcQuantity at 0x7f7cd2303e10>,\n",
       "  UUID('13a73dc2-c9b9-3bdf-bf04-faceb1803df4'): <lcatools.entities.LcQuantity at 0x7f7cd2303ef0>,\n",
       "  UUID('13e353fe-82c2-3391-a203-8e292e3a5d2a'): <lcatools.entities.LcQuantity at 0x7f7cd2303fd0>,\n",
       "  UUID('147a850f-e783-3324-9dea-ab7763df5afb'): <lcatools.entities.LcQuantity at 0x7f7cd23060f0>,\n",
       "  UUID('15028522-5562-3209-ae6f-e21182be2501'): <lcatools.entities.LcQuantity at 0x7f7cd23061d0>,\n",
       "  UUID('15a36521-d33e-3fc4-a703-54a5f4480c02'): <lcatools.entities.LcQuantity at 0x7f7cd23062b0>,\n",
       "  UUID('16e6f582-1ee8-3f66-b345-e7f3d37784a3'): <lcatools.entities.LcQuantity at 0x7f7cd2306390>,\n",
       "  UUID('171fde90-1f5e-303e-a6cf-af70498f460c'): <lcatools.entities.LcQuantity at 0x7f7cd2306470>,\n",
       "  UUID('1740dd7a-741a-3880-9023-3d7655650d4a'): <lcatools.entities.LcQuantity at 0x7f7cd2306550>,\n",
       "  UUID('18528790-86ae-30fe-8e39-91747f560529'): <lcatools.entities.LcQuantity at 0x7f7cd2306630>,\n",
       "  UUID('18d15574-ea36-398a-8db8-f594d5760043'): <lcatools.entities.LcQuantity at 0x7f7cd2306710>,\n",
       "  UUID('191695cc-7d17-3485-a13e-818d3345ba85'): <lcatools.entities.LcQuantity at 0x7f7cd23067f0>,\n",
       "  UUID('191ae69d-81be-3d9b-993f-5c3b3dacce21'): <lcatools.entities.LcQuantity at 0x7f7cd23068d0>,\n",
       "  UUID('191c7333-2e5c-34a9-91d6-7a0543b272f2'): <lcatools.entities.LcQuantity at 0x7f7cd23069b0>,\n",
       "  UUID('19326926-890d-377a-b7ef-1e68b5753a75'): <lcatools.entities.LcQuantity at 0x7f7cd2306a90>,\n",
       "  UUID('193aa3e2-f3b2-344b-b213-a676ee2848b2'): <lcatools.entities.LcQuantity at 0x7f7cd2306b70>,\n",
       "  UUID('196a03c1-9b71-3c3e-a04a-e9b24a550a20'): <lcatools.entities.LcQuantity at 0x7f7cd2306c50>,\n",
       "  UUID('19862d50-b82f-37ad-8dcd-a23b240f14ae'): <lcatools.entities.LcQuantity at 0x7f7cd2306d30>,\n",
       "  UUID('19d928d8-9ac9-36e4-92bc-b28faa63f274'): <lcatools.entities.LcQuantity at 0x7f7cd2306e10>,\n",
       "  UUID('1a5b6ac1-25e3-3f5e-b7e7-dcfddcc7af13'): <lcatools.entities.LcQuantity at 0x7f7cd2306ef0>,\n",
       "  UUID('1a739c9a-0ea1-3fc3-9ea4-2a152fde1dc1'): <lcatools.entities.LcQuantity at 0x7f7cd2306fd0>,\n",
       "  UUID('1b9676de-fe70-3fe3-8a5e-7d8a52b8c686'): <lcatools.entities.LcQuantity at 0x7f7cd23080f0>,\n",
       "  UUID('1c605cfa-20af-3f89-974d-038aef47aefd'): <lcatools.entities.LcQuantity at 0x7f7cd23081d0>,\n",
       "  UUID('1cb5bce7-490a-3edf-ab6b-5bbbd2261b27'): <lcatools.entities.LcQuantity at 0x7f7cd23082b0>,\n",
       "  UUID('1d07bc94-85e4-3321-9764-5d3f5a4656cc'): <lcatools.entities.LcQuantity at 0x7f7cd2308390>,\n",
       "  UUID('1d334928-bb91-35b0-b0a1-00d33cf50afb'): <lcatools.entities.LcQuantity at 0x7f7cd2308470>,\n",
       "  UUID('1d8b3e42-6472-3573-ae59-3789b864e7b3'): <lcatools.entities.LcQuantity at 0x7f7cd2308550>,\n",
       "  UUID('1daa7734-4d28-37ec-b481-a3f4d7f3fd5c'): <lcatools.entities.LcQuantity at 0x7f7cd2308630>,\n",
       "  UUID('1dbced53-057b-3599-b7b2-ca405eac1914'): <lcatools.entities.LcQuantity at 0x7f7cd2308710>,\n",
       "  UUID('1e2783ef-23db-39b1-ba02-28276e7f8966'): <lcatools.entities.LcQuantity at 0x7f7cd23087f0>,\n",
       "  UUID('1e44af01-1cb6-310b-9e03-a02418b65c12'): <lcatools.entities.LcQuantity at 0x7f7cd23088d0>,\n",
       "  UUID('1e898a79-1d4f-3993-a682-910dc8619aae'): <lcatools.entities.LcQuantity at 0x7f7cd23089b0>,\n",
       "  UUID('1e8d90db-fe41-3276-870e-b2059299b694'): <lcatools.entities.LcQuantity at 0x7f7cd2308a90>,\n",
       "  UUID('1ecfe6af-a115-38e5-acac-e64d797f007f'): <lcatools.entities.LcQuantity at 0x7f7cd2308b70>,\n",
       "  UUID('1ef3c868-2365-339c-9bac-bc9da1ffbefe'): <lcatools.entities.LcQuantity at 0x7f7cd2308c50>,\n",
       "  UUID('1f0dd27e-5462-3bd9-a94f-1c6f44e549e2'): <lcatools.entities.LcQuantity at 0x7f7cd2308d30>,\n",
       "  UUID('1f7175ba-6362-3ebb-b4f9-a603ed4e774e'): <lcatools.entities.LcQuantity at 0x7f7cd2308e10>,\n",
       "  UUID('1ffe3ccb-b99d-3961-8a83-ab36344e93ed'): <lcatools.entities.LcQuantity at 0x7f7cd2308ef0>,\n",
       "  UUID('201a8129-486d-38fe-8c90-2b4cf9249e61'): <lcatools.entities.LcQuantity at 0x7f7cd2308fd0>,\n",
       "  UUID('209c3fc2-99ff-3015-b420-f9ba59015ea3'): <lcatools.entities.LcQuantity at 0x7f7cd230b0f0>,\n",
       "  UUID('211b6a23-ede5-341b-a701-d21079936417'): <lcatools.entities.LcQuantity at 0x7f7cd230b1d0>,\n",
       "  UUID('2176194c-73ad-3edd-8027-616fb157165b'): <lcatools.entities.LcQuantity at 0x7f7cd230b2b0>,\n",
       "  UUID('21aab329-9d27-3fb3-b86a-d561adff79ec'): <lcatools.entities.LcQuantity at 0x7f7cd230b390>,\n",
       "  UUID('21ff83bd-a1fb-33b3-927e-b604fa2aa4b5'): <lcatools.entities.LcQuantity at 0x7f7cd230b470>,\n",
       "  UUID('22675ca5-c218-3c3e-ad78-8ef8bc08cde4'): <lcatools.entities.LcQuantity at 0x7f7cd230b550>,\n",
       "  UUID('22d43bc9-c0f9-31a8-a8e5-42576ac9575a'): <lcatools.entities.LcQuantity at 0x7f7cd230b630>,\n",
       "  UUID('23d58e05-3db9-3ddf-90c1-1162dd323564'): <lcatools.entities.LcQuantity at 0x7f7cd230b710>,\n",
       "  UUID('23fbd046-1cc8-3cb1-a623-1c6c245a12fb'): <lcatools.entities.LcQuantity at 0x7f7cd230b7f0>,\n",
       "  UUID('257050df-5c95-3a31-86ce-7f6aac7cc0c2'): <lcatools.entities.LcQuantity at 0x7f7cd230b8d0>,\n",
       "  UUID('25ab1829-7882-3856-a6d0-0c6805aaed70'): <lcatools.entities.LcQuantity at 0x7f7cd230b9b0>,\n",
       "  UUID('25b7c8dc-83ff-37d9-98b3-babc87270852'): <lcatools.entities.LcQuantity at 0x7f7cd230ba90>,\n",
       "  UUID('25dee14c-e696-361a-ac4d-b4992323dc5a'): <lcatools.entities.LcQuantity at 0x7f7cd230bb70>,\n",
       "  UUID('276da1bd-49d4-35d0-a24b-391882cb611b'): <lcatools.entities.LcQuantity at 0x7f7cd230bc50>,\n",
       "  UUID('27ae9ef4-8468-3c98-a84b-314f02e878fc'): <lcatools.entities.LcQuantity at 0x7f7cd230bd30>,\n",
       "  UUID('28343577-d22e-3bde-953c-2564d6a2835e'): <lcatools.entities.LcQuantity at 0x7f7cd230be10>,\n",
       "  UUID('28a84c28-67f7-352b-9ab3-fe2ec1957c1b'): <lcatools.entities.LcQuantity at 0x7f7cd230bef0>,\n",
       "  UUID('28ce2f3f-fddc-3d2e-ab62-69e51cb653fb'): <lcatools.entities.LcQuantity at 0x7f7cd230bfd0>,\n",
       "  UUID('2970c455-206e-3e28-9c18-68aa586e35fe'): <lcatools.entities.LcQuantity at 0x7f7cd230d0f0>,\n",
       "  UUID('29887486-8706-32a9-8dc9-8d31941739a9'): <lcatools.entities.LcQuantity at 0x7f7cd230d1d0>,\n",
       "  UUID('2996b1db-9488-38b2-9f1a-119a8efe5825'): <lcatools.entities.LcQuantity at 0x7f7cd230d2b0>,\n",
       "  UUID('29b8ae8e-6633-3f2c-9b78-534cf230a6c9'): <lcatools.entities.LcQuantity at 0x7f7cd230d390>,\n",
       "  UUID('2a61a4db-de32-3f6e-b7dd-9bc21f8d64b6'): <lcatools.entities.LcQuantity at 0x7f7cd230d470>,\n",
       "  UUID('2a75d3cb-eb9c-3b44-aad4-0bbaa51005d3'): <lcatools.entities.LcQuantity at 0x7f7cd230d550>,\n",
       "  UUID('2ad2a833-3c6e-3bc1-b7a4-b4f29ca567aa'): <lcatools.entities.LcQuantity at 0x7f7cd230d630>,\n",
       "  UUID('2af73082-04ac-3d3a-9a85-8ac2674c7a25'): <lcatools.entities.LcQuantity at 0x7f7cd230d710>,\n",
       "  UUID('2b05a5fe-01e5-3292-a75a-6877b7d46a76'): <lcatools.entities.LcQuantity at 0x7f7cd230d7f0>,\n",
       "  UUID('2b20c7d6-9cef-311e-b8b9-9e747e6d3d44'): <lcatools.entities.LcQuantity at 0x7f7cd230d8d0>,\n",
       "  UUID('2b23aa67-621b-3d0a-8986-a1c9bfd0a361'): <lcatools.entities.LcQuantity at 0x7f7cd230d9b0>,\n",
       "  UUID('2be2f3a9-e702-3ae0-910a-d2a620e21a60'): <lcatools.entities.LcQuantity at 0x7f7cd230da90>,\n",
       "  UUID('2c8888cc-35c0-3de3-9d4d-7232c9482b65'): <lcatools.entities.LcQuantity at 0x7f7cd230db70>,\n",
       "  UUID('2ca54800-b676-3474-8c90-b0e09845af7e'): <lcatools.entities.LcQuantity at 0x7f7cd230dc50>,\n",
       "  UUID('2cab6be1-3a84-33b5-a498-904a40b028a0'): <lcatools.entities.LcQuantity at 0x7f7cd230dd30>,\n",
       "  UUID('2cfd96e1-0391-3823-80d4-ce8c686a759a'): <lcatools.entities.LcQuantity at 0x7f7cd230de10>,\n",
       "  UUID('2d41f42a-d5ed-3d68-b6d7-5acee3ade86a'): <lcatools.entities.LcQuantity at 0x7f7cd230def0>,\n",
       "  UUID('2e42c828-e979-3c2f-aeea-930bcaf6fa94'): <lcatools.entities.LcQuantity at 0x7f7cd230dfd0>,\n",
       "  UUID('2e5eee81-1a49-349c-8522-3654762e4828'): <lcatools.entities.LcQuantity at 0x7f7cd23100f0>,\n",
       "  UUID('2e791e6b-dc8f-381f-be7e-436953861c2b'): <lcatools.entities.LcQuantity at 0x7f7cd23101d0>,\n",
       "  UUID('2e86eaa6-6569-35ac-a47e-128c5b718081'): <lcatools.entities.LcQuantity at 0x7f7cd23102b0>,\n",
       "  UUID('2eab7aec-85ea-399c-aced-892470b63ba0'): <lcatools.entities.LcQuantity at 0x7f7cd2310390>,\n",
       "  UUID('2ecc6ebc-db53-3c25-9ece-ea3952a112ff'): <lcatools.entities.LcQuantity at 0x7f7cd2310470>,\n",
       "  UUID('2ef80bcf-7871-34ce-9b0b-330ab52d8c59'): <lcatools.entities.LcQuantity at 0x7f7cd2310550>,\n",
       "  UUID('2f83c6a9-30de-3bea-ab51-a8df604f7ee4'): <lcatools.entities.LcQuantity at 0x7f7cd2310630>,\n",
       "  UUID('2fe28556-463f-3962-b97c-05279d488cb3'): <lcatools.entities.LcQuantity at 0x7f7cd2310710>,\n",
       "  UUID('30b0f96f-c842-3335-983b-6291f4349fd7'): <lcatools.entities.LcQuantity at 0x7f7cd23107f0>,\n",
       "  UUID('30cd2f23-32a7-3e6c-885a-e9b2e82b5e98'): <lcatools.entities.LcQuantity at 0x7f7cd23108d0>,\n",
       "  UUID('31e5b4ad-c8ed-39e3-b37d-25654d8cf5df'): <lcatools.entities.LcQuantity at 0x7f7cd23109b0>,\n",
       "  UUID('326cc9e0-3f58-3658-b55f-0371b0d7a5b5'): <lcatools.entities.LcQuantity at 0x7f7cd2310a90>,\n",
       "  UUID('32706ddc-3874-391f-9597-b4d4e60a5054'): <lcatools.entities.LcQuantity at 0x7f7cd2310b70>,\n",
       "  UUID('327604cc-bae6-320e-8242-064dd2ada942'): <lcatools.entities.LcQuantity at 0x7f7cd2310c50>,\n",
       "  UUID('32a1ec90-f7bd-34b9-8ec6-6a10e9005ead'): <lcatools.entities.LcQuantity at 0x7f7cd2310d30>,\n",
       "  UUID('33041aca-ec3c-32e2-a492-1adecfaf71ed'): <lcatools.entities.LcQuantity at 0x7f7cd2310e10>,\n",
       "  UUID('33cdbbfe-295c-354e-8652-c39a3ddc8725'): <lcatools.entities.LcQuantity at 0x7f7cd2310ef0>,\n",
       "  UUID('33f8f310-eb5a-3fa6-87e1-f8b324f1d4ac'): <lcatools.entities.LcQuantity at 0x7f7cd2310fd0>,\n",
       "  UUID('3415dcb7-acb0-393f-8556-bee5e9fb97c9'): <lcatools.entities.LcQuantity at 0x7f7cd23120f0>,\n",
       "  UUID('3472e081-0595-3024-bf38-1201b0dae0ed'): <lcatools.entities.LcQuantity at 0x7f7cd23121d0>,\n",
       "  UUID('34bd6172-b167-3ac6-aecf-c58f4d729c8b'): <lcatools.entities.LcQuantity at 0x7f7cd23122b0>,\n",
       "  UUID('34cb231b-8c18-323b-b912-9a132f6c7aa8'): <lcatools.entities.LcQuantity at 0x7f7cd2312390>,\n",
       "  UUID('35137f49-8068-3098-9b1a-c8fe770b203e'): <lcatools.entities.LcQuantity at 0x7f7cd2312470>,\n",
       "  UUID('3598d5ab-2e7b-39cd-991c-1350748fa2ec'): <lcatools.entities.LcQuantity at 0x7f7cd2312550>,\n",
       "  UUID('359d6943-6e60-416b-93dc-9c58398b0179'): <lcatools.entities.LcFlow at 0x7f7cd0fb7be0>,\n",
       "  UUID('35a1c09c-5480-3800-90c8-fdd86a95dbed'): <lcatools.entities.LcQuantity at 0x7f7cd2312630>,\n",
       "  UUID('35b064bd-ee73-3479-b80d-eb05c1611e1b'): <lcatools.entities.LcQuantity at 0x7f7cd2312710>,\n",
       "  UUID('362ba7e9-3df2-3539-87a7-9746fb859105'): <lcatools.entities.LcQuantity at 0x7f7cd23127f0>,\n",
       "  UUID('371214a6-9523-313a-8790-dd61a5763a4a'): <lcatools.entities.LcQuantity at 0x7f7cd23128d0>,\n",
       "  UUID('37845297-d85a-3308-92d4-316147dbd4f3'): <lcatools.entities.LcQuantity at 0x7f7cd23129b0>,\n",
       "  UUID('37c4cb5f-3965-301c-9ca2-b8d42dc53549'): <lcatools.entities.LcQuantity at 0x7f7cd2312b00>,\n",
       "  UUID('37cd36bc-3613-3249-9542-4444ef53cae2'): <lcatools.entities.LcQuantity at 0x7f7cd2312be0>,\n",
       "  UUID('37d02f70-63c2-3587-9f05-a585e8eb7a5d'): <lcatools.entities.LcQuantity at 0x7f7cd2312cc0>,\n",
       "  UUID('38afe89c-0e86-3650-be29-ae3fadb47384'): <lcatools.entities.LcQuantity at 0x7f7cd2312da0>,\n",
       "  UUID('395c8bc9-11cb-3334-88dc-3b407c0a56c6'): <lcatools.entities.LcQuantity at 0x7f7cd2312e80>,\n",
       "  UUID('39fdd33f-84ac-3215-bdcf-fb3f4d7f50c4'): <lcatools.entities.LcQuantity at 0x7f7cd2312f60>,\n",
       "  UUID('3a38df56-c2a7-3b4a-8e81-11b15eaa7c3a'): <lcatools.entities.LcQuantity at 0x7f7cd2314080>,\n",
       "  UUID('3b115877-b5af-3ef5-92f5-6a8a93fb6841'): <lcatools.entities.LcQuantity at 0x7f7cd2314160>,\n",
       "  UUID('3bc260a8-c1ff-3daf-91ac-5312315d4f1f'): <lcatools.entities.LcQuantity at 0x7f7cd2314240>,\n",
       "  UUID('3bfbe231-3102-302e-887d-e3e537e93580'): <lcatools.entities.LcQuantity at 0x7f7cd2314320>,\n",
       "  UUID('3bfd60a2-cf6e-39e0-a8d6-bedd3c3a8f2a'): <lcatools.entities.LcQuantity at 0x7f7cd2314400>,\n",
       "  UUID('3c1233c2-8db6-3aeb-a0f6-a3ffe09f0355'): <lcatools.entities.LcQuantity at 0x7f7cd23144e0>,\n",
       "  UUID('3ce59f92-b91c-364c-b3ec-c3e915427db6'): <lcatools.entities.LcQuantity at 0x7f7cd23145c0>,\n",
       "  UUID('3cfa3fc5-0496-324d-b7b8-84590991be96'): <lcatools.entities.LcQuantity at 0x7f7cd23146a0>,\n",
       "  UUID('3d2a6a55-b0bf-3e1b-aebb-8c1621068cf2'): <lcatools.entities.LcQuantity at 0x7f7cd2314780>,\n",
       "  UUID('3d3015fb-c294-391e-b925-35be5667d194'): <lcatools.entities.LcQuantity at 0x7f7cd2314860>,\n",
       "  UUID('3d57ecb8-16e2-315b-92ba-46fb2624a898'): <lcatools.entities.LcQuantity at 0x7f7cd2314940>,\n",
       "  UUID('3ddfa227-646b-327d-845b-a5a234231784'): <lcatools.entities.LcQuantity at 0x7f7cd2314a20>,\n",
       "  UUID('3f1e8de0-1255-313e-b191-92365194f4c1'): <lcatools.entities.LcQuantity at 0x7f7cd2314b00>,\n",
       "  UUID('3f3f1284-477f-3703-bb8d-bb370936e172'): <lcatools.entities.LcQuantity at 0x7f7cd2314be0>,\n",
       "  UUID('40367717-7d4f-3a42-b471-c3201161f001'): <lcatools.entities.LcQuantity at 0x7f7cd2314cc0>,\n",
       "  UUID('40777fd4-26b4-3ef7-b7e6-4b56e09454c4'): <lcatools.entities.LcQuantity at 0x7f7cd2314da0>,\n",
       "  UUID('40caaa55-706b-3096-8cf0-4924be62dbcf'): <lcatools.entities.LcQuantity at 0x7f7cd2314e80>,\n",
       "  UUID('40f0d391-a312-3bd6-9fd2-c63f8215a8cc'): <lcatools.entities.LcQuantity at 0x7f7cd2314f60>,\n",
       "  UUID('41c936f9-4357-349a-86fb-54ece6467f82'): <lcatools.entities.LcQuantity at 0x7f7cd2317080>,\n",
       "  UUID('41eabc1b-9d32-35d9-b071-e6da04e2b2ca'): <lcatools.entities.LcQuantity at 0x7f7cd2317160>,\n",
       "  UUID('420a17eb-710c-3660-8a30-d25a1d66c01c'): <lcatools.entities.LcQuantity at 0x7f7cd2317240>,\n",
       "  UUID('423364ba-daeb-34b6-88cc-0e90fcbe5ad2'): <lcatools.entities.LcQuantity at 0x7f7cd2317320>,\n",
       "  UUID('42b29935-deef-30c8-87b8-de8c93e8e74d'): <lcatools.entities.LcQuantity at 0x7f7cd2317400>,\n",
       "  UUID('44afe772-671f-3f8d-91f7-63b7860ceefe'): <lcatools.entities.LcQuantity at 0x7f7cd23174e0>,\n",
       "  UUID('44f50e17-4ee6-3be3-9838-810cf7ff647b'): <lcatools.entities.LcQuantity at 0x7f7cd23175c0>,\n",
       "  UUID('45e4d6bb-2870-39eb-822f-8325d3d6743d'): <lcatools.entities.LcQuantity at 0x7f7cd23176a0>,\n",
       "  UUID('4696836d-b42a-3193-9f11-c025240c7f7b'): <lcatools.entities.LcQuantity at 0x7f7cd2317780>,\n",
       "  UUID('47f92810-0f62-3205-a117-1c773c2b917b'): <lcatools.entities.LcQuantity at 0x7f7cd2317860>,\n",
       "  UUID('484b855a-b099-31f6-ad31-66087f8b4855'): <lcatools.entities.LcQuantity at 0x7f7cd2317940>,\n",
       "  UUID('48631bb5-2763-363b-a71b-ee0cab557c2c'): <lcatools.entities.LcQuantity at 0x7f7cd2317a20>,\n",
       "  UUID('487df68b-4994-4027-8fdc-a4dc298257b7'): <lcatools.entities.LcQuantity at 0x7f7cd2317b00>,\n",
       "  UUID('48a234de-aaa5-3c17-92bb-28b1fba822eb'): <lcatools.entities.LcQuantity at 0x7f7cd2317be0>,\n",
       "  UUID('48b005aa-c396-3d0d-a62e-fa9410fc6803'): <lcatools.entities.LcQuantity at 0x7f7cd2317cc0>,\n",
       "  UUID('4923348e-591b-4772-b224-d19df86f04c9'): <lcatools.entities.LcQuantity at 0x7f7cd2317da0>,\n",
       "  UUID('4a09363e-a6c8-34a7-9db3-9da9863fe037'): <lcatools.entities.LcQuantity at 0x7f7cd2317e80>,\n",
       "  UUID('4b36948b-8183-3865-9476-973153ff43c3'): <lcatools.entities.LcQuantity at 0x7f7cd2317f60>,\n",
       "  UUID('4b8fa86d-18d3-3740-9443-642c89b3ee76'): <lcatools.entities.LcQuantity at 0x7f7cd2319080>,\n",
       "  UUID('4bd5cd41-17fe-3a45-8378-3fc6d2dac874'): <lcatools.entities.LcQuantity at 0x7f7cd2319160>,\n",
       "  UUID('4c28816c-0d85-3259-9694-e642eaad1a28'): <lcatools.entities.LcQuantity at 0x7f7cd2319240>,\n",
       "  UUID('4c64c080-bbf9-3af7-960d-c472aa120622'): <lcatools.entities.LcQuantity at 0x7f7cd2319320>,\n",
       "  UUID('4cbf67c5-bcfa-3484-b081-4a58a09c7d8b'): <lcatools.entities.LcQuantity at 0x7f7cd2319400>,\n",
       "  UUID('4cfb668e-e0a8-3be8-ad3e-a985501741e3'): <lcatools.entities.LcQuantity at 0x7f7cd23194e0>,\n",
       "  UUID('4d1199dd-758c-3e45-856f-658111e00269'): <lcatools.entities.LcQuantity at 0x7f7cd23195c0>,\n",
       "  UUID('4d189fd6-c604-35d9-af4e-fd75f9548155'): <lcatools.entities.LcQuantity at 0x7f7cd23196a0>,\n",
       "  UUID('4debc512-b711-3558-ac95-003811c2388e'): <lcatools.entities.LcQuantity at 0x7f7cd2319780>,\n",
       "  UUID('4e5229e6-d701-3212-a968-746af8de421c'): <lcatools.entities.LcQuantity at 0x7f7cd2319860>,\n",
       "  UUID('4e80ea0d-335c-31d7-be03-5cb14d746fb1'): <lcatools.entities.LcQuantity at 0x7f7cd2319940>,\n",
       "  UUID('4ebba9c5-28ce-3e91-9ed3-3a04ceefc4d1'): <lcatools.entities.LcQuantity at 0x7f7cd2319a20>,\n",
       "  UUID('4ec4a887-380b-3ad1-bac1-3e6ff87ad1d6'): <lcatools.entities.LcQuantity at 0x7f7cd2319b00>,\n",
       "  UUID('4ed7a71f-8827-3769-8a13-414820aec268'): <lcatools.entities.LcQuantity at 0x7f7cd2319be0>,\n",
       "  UUID('4eee3aec-b0f3-362a-8e0d-40cea41df086'): <lcatools.entities.LcQuantity at 0x7f7cd2319cc0>,\n",
       "  UUID('501f9738-4379-380d-8415-e532e2c94e64'): <lcatools.entities.LcQuantity at 0x7f7cd2319da0>,\n",
       "  UUID('505100a9-26dd-32ff-b984-4132e8050100'): <lcatools.entities.LcQuantity at 0x7f7cd2319e80>,\n",
       "  UUID('5060a6fc-ff7b-3e15-845f-94186e709109'): <lcatools.entities.LcQuantity at 0x7f7cd2319f60>,\n",
       "  UUID('52134fb9-757a-3ed7-9994-601e54cca714'): <lcatools.entities.LcQuantity at 0x7f7cd231b080>,\n",
       "  UUID('521aae61-46b9-3437-809d-b2d0c149bc75'): <lcatools.entities.LcQuantity at 0x7f7cd231b160>,\n",
       "  UUID('5237bd49-541e-3a60-8e04-c368614d1de5'): <lcatools.entities.LcQuantity at 0x7f7cd231b240>,\n",
       "  UUID('526c5924-8318-3280-9248-ecc6c460f0f1'): <lcatools.entities.LcQuantity at 0x7f7cd231b320>,\n",
       "  UUID('52892499-5157-3996-9449-13fb8d82b2b3'): <lcatools.entities.LcQuantity at 0x7f7cd231b400>,\n",
       "  UUID('52d7d7fc-e5f1-3c40-9e04-f5c8f904da72'): <lcatools.entities.LcQuantity at 0x7f7cd231b4e0>,\n",
       "  UUID('5349f45c-ec1e-3dbf-9a54-508c570521ec'): <lcatools.entities.LcQuantity at 0x7f7cd231b5c0>,\n",
       "  UUID('53ba6bd2-2665-3d3d-99a7-d7039e1a2e21'): <lcatools.entities.LcQuantity at 0x7f7cd231b6a0>,\n",
       "  UUID('53ce0bf1-5347-393e-ad79-2afc6e2b3e65'): <lcatools.entities.LcQuantity at 0x7f7cd231b780>,\n",
       "  UUID('53cec7d7-5fc9-3009-8718-0821631130de'): <lcatools.entities.LcQuantity at 0x7f7cd231b860>,\n",
       "  UUID('53e0ce8e-1bcf-3abb-a2b6-b6265f6a9748'): <lcatools.entities.LcQuantity at 0x7f7cd231b940>,\n",
       "  UUID('53e409a1-cc2c-39bc-8d29-76446166f2c1'): <lcatools.entities.LcQuantity at 0x7f7cd231ba20>,\n",
       "  UUID('5402d52e-9395-3835-88ba-f886366834cf'): <lcatools.entities.LcQuantity at 0x7f7cd231bb00>,\n",
       "  UUID('545822c7-4baf-3758-b7e9-233ad4bcdf76'): <lcatools.entities.LcQuantity at 0x7f7cd231bbe0>,\n",
       "  UUID('54cf4898-f16e-31db-a9d5-145eb9f168af'): <lcatools.entities.LcQuantity at 0x7f7cd231bcc0>,\n",
       "  UUID('54fe203f-2a41-3dd5-9b39-9283b9efe844'): <lcatools.entities.LcQuantity at 0x7f7cd231bda0>,\n",
       "  UUID('55130d77-fafa-3cd8-9e79-379f30b4560c'): <lcatools.entities.LcQuantity at 0x7f7cd231be80>,\n",
       "  UUID('553ba050-6b5f-3adc-b402-c86b61551d0d'): <lcatools.entities.LcQuantity at 0x7f7cd231bf60>,\n",
       "  UUID('55ad482c-5a98-3cbf-ba8f-d024320d05b7'): <lcatools.entities.LcQuantity at 0x7f7cd231e080>,\n",
       "  UUID('55df6321-33de-35d2-ba65-5f5976a003e3'): <lcatools.entities.LcQuantity at 0x7f7cd231e160>,\n",
       "  UUID('55f8ec27-410c-34da-b073-aa315d02ba13'): <lcatools.entities.LcQuantity at 0x7f7cd231e240>,\n",
       "  UUID('55f9c1d6-cda9-310a-82e7-f65bf3233b19'): <lcatools.entities.LcQuantity at 0x7f7cd231e320>,\n",
       "  UUID('55fba2d9-0087-316a-b3a4-97a8b90d8481'): <lcatools.entities.LcQuantity at 0x7f7cd231e400>,\n",
       "  UUID('5669a26b-d9c1-3e20-9fed-2deaf083ec4e'): <lcatools.entities.LcQuantity at 0x7f7cd231e4e0>,\n",
       "  UUID('568e5638-9f12-31f3-ad8d-d6d48a839b12'): <lcatools.entities.LcQuantity at 0x7f7cd231e5c0>,\n",
       "  UUID('56a7f40a-3ac4-3ec6-a9ab-79516e8b5b13'): <lcatools.entities.LcQuantity at 0x7f7cd231e6a0>,\n",
       "  UUID('574401cf-ab2e-38ca-bf55-f8cab8dcc380'): <lcatools.entities.LcQuantity at 0x7f7cd231e780>,\n",
       "  UUID('5784051c-3699-3b9f-aa33-afc3c50317aa'): <lcatools.entities.LcQuantity at 0x7f7cd231e860>,\n",
       "  UUID('57a83b29-a2d0-391d-b274-495f5d14db6c'): <lcatools.entities.LcQuantity at 0x7f7cd231e940>,\n",
       "  UUID('57feb529-d2f0-3c7a-bceb-3dcd70111c73'): <lcatools.entities.LcQuantity at 0x7f7cd231ea20>,\n",
       "  UUID('589a8265-9e05-317a-a847-3e76df0e1b36'): <lcatools.entities.LcQuantity at 0x7f7cd231eb00>,\n",
       "  UUID('594cae37-4c79-3fd4-abfc-b0d08f31270b'): <lcatools.entities.LcQuantity at 0x7f7cd231ebe0>,\n",
       "  UUID('5969856c-66fc-306d-b06c-51bb402b6abc'): <lcatools.entities.LcQuantity at 0x7f7cd231ecc0>,\n",
       "  UUID('5995e509-b803-32e1-9f26-4d3a61e4de9f'): <lcatools.entities.LcQuantity at 0x7f7cd231eda0>,\n",
       "  UUID('5a86e85f-3548-309f-b1e0-af126cde2445'): <lcatools.entities.LcQuantity at 0x7f7cd231ee80>,\n",
       "  UUID('5a908d40-7bf6-365a-902f-a32634f5ed9d'): <lcatools.entities.LcQuantity at 0x7f7cd231ef60>,\n",
       "  UUID('5a91386b-74ec-3158-9b29-9992cea33f2b'): <lcatools.entities.LcQuantity at 0x7f7cd2320080>,\n",
       "  UUID('5af798c0-9719-3383-a098-81bae9edc0e3'): <lcatools.entities.LcQuantity at 0x7f7cd2320160>,\n",
       "  UUID('5b7447d3-7c9b-310b-acd6-d3e7b14f9b15'): <lcatools.entities.LcQuantity at 0x7f7cd2320240>,\n",
       "  UUID('5c40a8b5-3cd6-36b0-bff1-76f41df23ed2'): <lcatools.entities.LcQuantity at 0x7f7cd2320320>,\n",
       "  UUID('5c8b20ca-3d0d-3e40-9414-19a20542fbf7'): <lcatools.entities.LcQuantity at 0x7f7cd2320400>,\n",
       "  UUID('5cad4937-f428-31e8-8f21-27d3d01e3d95'): <lcatools.entities.LcQuantity at 0x7f7cd23204e0>,\n",
       "  UUID('5cd5fe62-7b4b-3f8c-916c-0669c095f670'): <lcatools.entities.LcQuantity at 0x7f7cd23205c0>,\n",
       "  UUID('5d327986-7e19-32bf-a311-58d1d12e1358'): <lcatools.entities.LcQuantity at 0x7f7cd23206a0>,\n",
       "  UUID('5dcfd824-4a5d-3060-b547-9998db5bb0ba'): <lcatools.entities.LcQuantity at 0x7f7cd2320780>,\n",
       "  UUID('5dddb09c-5cb5-3447-aa5c-ef7052b5c0e4'): <lcatools.entities.LcQuantity at 0x7f7cd2320860>,\n",
       "  UUID('5dec3766-b351-3a58-9a34-80a95155d6c6'): <lcatools.entities.LcQuantity at 0x7f7cd2320940>,\n",
       "  UUID('5e43ca8b-95ef-3917-961f-306b833c0646'): <lcatools.entities.LcQuantity at 0x7f7cd2320a20>,\n",
       "  UUID('5e6eff4f-c829-370a-9303-b7d64292b3f8'): <lcatools.entities.LcQuantity at 0x7f7cd2320b00>,\n",
       "  UUID('5e704f9c-215f-3360-a3c2-5ffdb5d45097'): <lcatools.entities.LcQuantity at 0x7f7cd2320be0>,\n",
       "  UUID('5f856993-96e0-3f5d-9f39-4978688aa62c'): <lcatools.entities.LcQuantity at 0x7f7cd2320cc0>,\n",
       "  UUID('5f8dda46-6cb8-31ec-82c5-beb2257dc359'): <lcatools.entities.LcQuantity at 0x7f7cd2320da0>,\n",
       "  UUID('5f903230-0228-3963-90af-24bd301ea141'): <lcatools.entities.LcQuantity at 0x7f7cd2320e80>,\n",
       "  UUID('6097dff7-1be5-3e65-ade4-1eaa3454c9ef'): <lcatools.entities.LcQuantity at 0x7f7cd2320f60>,\n",
       "  UUID('60c1648a-afca-30ff-b338-d51f602dc597'): <lcatools.entities.LcQuantity at 0x7f7cd2323080>,\n",
       "  UUID('60da8059-cfe1-3a4c-abee-67a43fb64b5e'): <lcatools.entities.LcQuantity at 0x7f7cd2323160>,\n",
       "  UUID('61050155-c5f5-3f1b-aa84-51d8cdd00981'): <lcatools.entities.LcQuantity at 0x7f7cd2323240>,\n",
       "  UUID('61952cbb-277e-3a6c-92b5-56c718808bce'): <lcatools.entities.LcQuantity at 0x7f7cd2323320>,\n",
       "  UUID('619c4f41-f318-3f10-86be-ccf13d99f772'): <lcatools.entities.LcQuantity at 0x7f7cd2323400>,\n",
       "  UUID('61c093b8-3ed6-3ba0-aa40-c0dec32ca093'): <lcatools.entities.LcQuantity at 0x7f7cd23234e0>,\n",
       "  UUID('6252e0b5-5617-3ff1-a3c0-6a84fe24ca8b'): <lcatools.entities.LcQuantity at 0x7f7cd23235c0>,\n",
       "  UUID('63115ceb-0ecb-3652-9704-583e39bd8f20'): <lcatools.entities.LcQuantity at 0x7f7cd23236a0>,\n",
       "  UUID('6320e69c-1b77-3ed1-b3ec-14d582a8309b'): <lcatools.entities.LcQuantity at 0x7f7cd2323780>,\n",
       "  UUID('632f7b46-94fc-3433-a2d8-0339759c3dc5'): <lcatools.entities.LcQuantity at 0x7f7cd2323860>,\n",
       "  UUID('6361c6d8-eeb6-35df-be11-d8d30b3b9522'): <lcatools.entities.LcQuantity at 0x7f7cd2323940>,\n",
       "  UUID('63bda639-4225-3f28-abd4-a79aa6673671'): <lcatools.entities.LcQuantity at 0x7f7cd2323a20>,\n",
       "  UUID('63c3d1f2-5fa7-3164-8a58-dcaf6aba645e'): <lcatools.entities.LcQuantity at 0x7f7cd2323b00>,\n",
       "  UUID('64316a59-75d7-3c3e-8f51-851f73c1f48d'): <lcatools.entities.LcQuantity at 0x7f7cd2323be0>,\n",
       "  UUID('64540478-63ce-3953-ae18-5ffadc1b6f62'): <lcatools.entities.LcQuantity at 0x7f7cd2323cc0>,\n",
       "  UUID('649c3a86-2029-351e-9302-4133f5527d6d'): <lcatools.entities.LcQuantity at 0x7f7cd2323da0>,\n",
       "  UUID('64c65344-430a-37bd-912a-03f160cc370e'): <lcatools.entities.LcQuantity at 0x7f7cd2323e80>,\n",
       "  UUID('64de568f-07aa-3c3f-9a02-5b0b3eff83b3'): <lcatools.entities.LcQuantity at 0x7f7cd2323f60>,\n",
       "  UUID('65098ab7-66d2-3818-a6b5-602db4a825f8'): <lcatools.entities.LcQuantity at 0x7f7cd2326080>,\n",
       "  UUID('6579f1a2-9d8d-3d9f-930c-d8f85a0413b4'): <lcatools.entities.LcQuantity at 0x7f7cd2326160>,\n",
       "  UUID('65c6231b-c350-3104-a203-6203c267b878'): <lcatools.entities.LcQuantity at 0x7f7cd2326240>,\n",
       "  UUID('65e47e96-6d8a-3409-bdac-f71169e49fbc'): <lcatools.entities.LcQuantity at 0x7f7cd2326320>,\n",
       "  UUID('660c0fd2-fac8-3889-8a10-cf90637fbe4e'): <lcatools.entities.LcQuantity at 0x7f7cd2326400>,\n",
       "  UUID('66265e4a-174f-3385-af76-00a2e3e106bf'): <lcatools.entities.LcQuantity at 0x7f7cd23264e0>,\n",
       "  UUID('666aeaac-8118-33bc-825e-570231896aac'): <lcatools.entities.LcQuantity at 0x7f7cd23265c0>,\n",
       "  UUID('66f7d746-ff32-3df9-bc73-cf5520cf0c7c'): <lcatools.entities.LcQuantity at 0x7f7cd23266a0>,\n",
       "  UUID('675fc297-8d40-3cc1-aac2-d9f5b63f812a'): <lcatools.entities.LcQuantity at 0x7f7cd2326780>,\n",
       "  UUID('681c0d53-193a-3067-9593-1c23d0943123'): <lcatools.entities.LcQuantity at 0x7f7cd2326860>,\n",
       "  UUID('684c5b78-3ef0-3bfa-8571-a418685efe53'): <lcatools.entities.LcQuantity at 0x7f7cd2326940>,\n",
       "  UUID('68cbe556-811c-3510-bb16-11eea30b75de'): <lcatools.entities.LcQuantity at 0x7f7cd2326a20>,\n",
       "  UUID('69107a3f-fb34-327e-a368-a04aba73f725'): <lcatools.entities.LcQuantity at 0x7f7cd2326b00>,\n",
       "  UUID('6a0fac25-4192-3b0c-89c8-27d531cf0b96'): <lcatools.entities.LcQuantity at 0x7f7cd2326be0>,\n",
       "  UUID('6a204b8a-4f32-360f-a74b-0d4c7c3ea708'): <lcatools.entities.LcQuantity at 0x7f7cd2326cc0>,\n",
       "  UUID('6b3cf02e-2506-30c7-980a-d4bc8ec06997'): <lcatools.entities.LcQuantity at 0x7f7cd2326da0>,\n",
       "  UUID('6b436119-fd9d-3209-a685-db8960d26f0e'): <lcatools.entities.LcQuantity at 0x7f7cd2326e80>,\n",
       "  UUID('6b86cede-3dca-3fb2-9619-9d89c62d8486'): <lcatools.entities.LcQuantity at 0x7f7cd2326f60>,\n",
       "  UUID('6bc94f4c-6c2f-3cbf-bb14-ef71622a533a'): <lcatools.entities.LcQuantity at 0x7f7cd2329080>,\n",
       "  UUID('6bec0f5a-3279-376c-8e16-66ff037457f4'): <lcatools.entities.LcQuantity at 0x7f7cd2329160>,\n",
       "  UUID('6bf3d976-9d02-3705-b5f4-421dada2b810'): <lcatools.entities.LcQuantity at 0x7f7cd2329240>,\n",
       "  UUID('6c7a9d5c-0066-30ce-b3fc-fb10c16be973'): <lcatools.entities.LcQuantity at 0x7f7cd2329320>,\n",
       "  UUID('6ce97b9b-0513-3e0b-a6b8-e7e5e62101ec'): <lcatools.entities.LcQuantity at 0x7f7cd2329400>,\n",
       "  UUID('6eb66f7e-a7a1-30f2-9c08-beb64083d228'): <lcatools.entities.LcQuantity at 0x7f7cd23294e0>,\n",
       "  UUID('6ed165cb-9073-3922-976f-6bcaa7e10edb'): <lcatools.entities.LcQuantity at 0x7f7cd23295c0>,\n",
       "  UUID('6efd6834-7080-3063-9c50-b5f985b5f6b1'): <lcatools.entities.LcQuantity at 0x7f7cd23296a0>,\n",
       "  UUID('6fb15427-8af7-317a-a895-ca1991712a2b'): <lcatools.entities.LcQuantity at 0x7f7cd2329780>,\n",
       "  UUID('7075e7ae-d245-3e4b-a113-64e7830b0745'): <lcatools.entities.LcQuantity at 0x7f7cd2329860>,\n",
       "  UUID('71a954ea-fa4d-3cd5-b0be-385fdfacd909'): <lcatools.entities.LcQuantity at 0x7f7cd2329940>,\n",
       "  UUID('72a2a021-9157-33f4-bb96-9aaae3f929d3'): <lcatools.entities.LcQuantity at 0x7f7cd2329a20>,\n",
       "  UUID('72cbc0d9-2ebe-3bdd-8226-b7467ee1ef9e'): <lcatools.entities.LcQuantity at 0x7f7cd2329b00>,\n",
       "  UUID('73312781-8ed0-36bc-87ce-ee7d061addc2'): <lcatools.entities.LcQuantity at 0x7f7cd2329be0>,\n",
       "  UUID('7333792b-7c10-3524-be9f-271846f8b36e'): <lcatools.entities.LcQuantity at 0x7f7cd2329cc0>,\n",
       "  UUID('7415813f-70e6-343b-9f0e-257501e79a99'): <lcatools.entities.LcQuantity at 0x7f7cd2329da0>,\n",
       "  UUID('743043e6-7f73-3158-aff4-717fb453ff5f'): <lcatools.entities.LcQuantity at 0x7f7cd2329e80>,\n",
       "  UUID('7458f228-f672-3319-8c2c-905fc8f0acb9'): <lcatools.entities.LcQuantity at 0x7f7cd2329f60>,\n",
       "  UUID('74d6c908-9f61-30ca-b03a-85daf7cbd8c7'): <lcatools.entities.LcQuantity at 0x7f7cd232b080>,\n",
       "  UUID('751bdf20-bd4f-3ba4-9add-2b3418063a3e'): <lcatools.entities.LcQuantity at 0x7f7cd232b160>,\n",
       "  UUID('75d014ed-7b6d-3b9f-9bbb-05c2aaf1ce22'): <lcatools.entities.LcQuantity at 0x7f7cd232b240>,\n",
       "  UUID('75d86f16-6035-3ab3-a07c-d9bc3af6d3dd'): <lcatools.entities.LcQuantity at 0x7f7cd232b320>,\n",
       "  UUID('778186f9-791c-37fd-9a44-5e5b47784e27'): <lcatools.entities.LcQuantity at 0x7f7cd232b400>,\n",
       "  UUID('77e7613a-239c-3803-a510-f1a7b23d4b0d'): <lcatools.entities.LcQuantity at 0x7f7cd232b4e0>,\n",
       "  UUID('7801cf83-2e05-3895-ad69-7f0a6225dd86'): <lcatools.entities.LcQuantity at 0x7f7cd232b5c0>,\n",
       "  UUID('78187a4e-308e-33d0-85f9-02a34558036e'): <lcatools.entities.LcQuantity at 0x7f7cd232b6a0>,\n",
       "  UUID('78293a1b-6a9b-3d77-8da7-9f8be2e01bc2'): <lcatools.entities.LcQuantity at 0x7f7cd232b780>,\n",
       "  UUID('7859a37a-45a1-3582-889e-8e0f3ea27898'): <lcatools.entities.LcQuantity at 0x7f7cd232b860>,\n",
       "  UUID('78d073b3-1071-388f-93c4-e76bed26b56a'): <lcatools.entities.LcQuantity at 0x7f7cd232b940>,\n",
       "  UUID('78e4ab05-b263-3a5e-b335-2589bbe00f8b'): <lcatools.entities.LcQuantity at 0x7f7cd232ba20>,\n",
       "  UUID('78f072fb-dc68-3009-8364-01424a57e6bd'): <lcatools.entities.LcQuantity at 0x7f7cd232bb00>,\n",
       "  UUID('79451a72-003f-35be-ac7c-9fd2a20c9ef6'): <lcatools.entities.LcQuantity at 0x7f7cd232bbe0>,\n",
       "  UUID('796f6a2c-2500-37a8-aade-21c049a1438f'): <lcatools.entities.LcQuantity at 0x7f7cd232bcc0>,\n",
       "  UUID('7984895c-80a1-383e-8bfe-368d9a0e5d99'): <lcatools.entities.LcQuantity at 0x7f7cd232bda0>,\n",
       "  UUID('79e2a93e-102e-380d-8c29-28b7c5d6f077'): <lcatools.entities.LcQuantity at 0x7f7cd232be80>,\n",
       "  UUID('7a26bd3c-5f4a-33b9-8987-92ab987cc94b'): <lcatools.entities.LcQuantity at 0x7f7cd232bf60>,\n",
       "  UUID('7a4c9cab-7ed5-380f-86b2-205491307a06'): <lcatools.entities.LcQuantity at 0x7f7cd232d080>,\n",
       "  UUID('7a87949b-2748-3734-b5f6-1e3d9a701bbb'): <lcatools.entities.LcQuantity at 0x7f7cd232d160>,\n",
       "  UUID('7abc10d5-0656-3c54-9b80-c77954e318f9'): <lcatools.entities.LcQuantity at 0x7f7cd232d240>,\n",
       "  UUID('7adbcb9a-e547-34b6-8399-aa3d4e16f40d'): <lcatools.entities.LcQuantity at 0x7f7cd232d320>,\n",
       "  UUID('7b2a1887-9032-3dd4-9119-7218a5974834'): <lcatools.entities.LcQuantity at 0x7f7cd232d400>,\n",
       "  UUID('7c326ea6-e2a1-3769-a613-643e4fe0f5da'): <lcatools.entities.LcQuantity at 0x7f7cd232d4e0>,\n",
       "  UUID('7cab743e-ef68-3b6c-9293-0fd029949968'): <lcatools.entities.LcQuantity at 0x7f7cd232d5c0>,\n",
       "  UUID('7d17ff0f-88de-3b42-a4a4-63d9d62966d4'): <lcatools.entities.LcQuantity at 0x7f7cd232d6a0>,\n",
       "  UUID('7ecafe55-29cd-3bdb-8f64-8d8af7e1242e'): <lcatools.entities.LcQuantity at 0x7f7cd232d780>,\n",
       "  UUID('7fc90fc9-33a9-3531-9c2d-507b95a191d9'): <lcatools.entities.LcQuantity at 0x7f7cd232d860>,\n",
       "  UUID('7ff07a57-6b3d-3c1a-85c2-b554f5236366'): <lcatools.entities.LcQuantity at 0x7f7cd232d940>,\n",
       "  UUID('800388b9-9200-3d2b-84dc-6dec7ef67511'): <lcatools.entities.LcQuantity at 0x7f7cd232da20>,\n",
       "  UUID('800d27fd-f6dd-3e1c-a2eb-af0efc900a9f'): <lcatools.entities.LcQuantity at 0x7f7cd232db00>,\n",
       "  UUID('8070fd6f-c859-3ae8-ba56-534a252035fb'): <lcatools.entities.LcQuantity at 0x7f7cd232dbe0>,\n",
       "  UUID('80c6bd31-d832-3be7-8937-64e3b29be7cd'): <lcatools.entities.LcQuantity at 0x7f7cd232dcc0>,\n",
       "  UUID('80d8b83b-9a85-3994-bcf2-8a2c6faacf35'): <lcatools.entities.LcQuantity at 0x7f7cd232dda0>,\n",
       "  UUID('8104dc8f-5495-3342-8e31-28b7728d0fc3'): <lcatools.entities.LcQuantity at 0x7f7cd232de80>,\n",
       "  UUID('815d9364-105b-330d-8e5e-587c0705213e'): <lcatools.entities.LcQuantity at 0x7f7cd232df60>,\n",
       "  UUID('81a9c222-3419-362e-8e99-8d451916b22d'): <lcatools.entities.LcQuantity at 0x7f7cd2330080>,\n",
       "  UUID('823a9269-d20c-3f29-8e0e-35f5e3d4b0c1'): <lcatools.entities.LcQuantity at 0x7f7cd2330160>,\n",
       "  UUID('839b632f-3f3a-3964-8522-88f0bf49c206'): <lcatools.entities.LcQuantity at 0x7f7cd2330240>,\n",
       "  UUID('83f57b97-bc18-3813-ad5e-eb6f03de5d10'): <lcatools.entities.LcQuantity at 0x7f7cd2330320>,\n",
       "  UUID('83faf6a3-9dd7-36c0-ad09-059a3345ae9e'): <lcatools.entities.LcQuantity at 0x7f7cd2330400>,\n",
       "  UUID('8411e41b-48c5-3e9e-ba1d-a9f2cce97605'): <lcatools.entities.LcQuantity at 0x7f7cd23304e0>,\n",
       "  UUID('841eb7d8-6f4b-3e7d-b0b9-cb1cb4fce7a3'): <lcatools.entities.LcQuantity at 0x7f7cd23305c0>,\n",
       "  UUID('8426a10f-66f6-36e6-8290-63788bfca2cb'): <lcatools.entities.LcQuantity at 0x7f7cd23306a0>,\n",
       "  UUID('844c1127-7dcf-345c-8125-b9eb7a695284'): <lcatools.entities.LcQuantity at 0x7f7cd2330780>,\n",
       "  UUID('8475ac67-42d6-30e1-b105-34979a1ed842'): <lcatools.entities.LcQuantity at 0x7f7cd2330860>,\n",
       "  UUID('8483e89d-1911-3bd6-83a1-1eae620dfb4a'): <lcatools.entities.LcQuantity at 0x7f7cd2330940>,\n",
       "  UUID('8523df81-3e38-3764-a433-970b0dd8be46'): <lcatools.entities.LcQuantity at 0x7f7cd2330a20>,\n",
       "  UUID('8581ea18-f45d-39c5-b85f-af3a25867950'): <lcatools.entities.LcQuantity at 0x7f7cd2330b00>,\n",
       "  UUID('85b698be-e936-31fa-b64e-5a31305b7c83'): <lcatools.entities.LcQuantity at 0x7f7cd2330be0>,\n",
       "  UUID('86aecabe-df03-3a2f-8b88-8e882c7d00e9'): <lcatools.entities.LcQuantity at 0x7f7cd2330cc0>,\n",
       "  UUID('86e9472b-4774-3129-8eff-a2727f785065'): <lcatools.entities.LcQuantity at 0x7f7cd2330da0>,\n",
       "  UUID('881f2119-f520-363c-9eae-dc6e1c4952b8'): <lcatools.entities.LcQuantity at 0x7f7cd2330e80>,\n",
       "  UUID('884df922-75f4-31eb-80c1-12c60c4664b1'): <lcatools.entities.LcQuantity at 0x7f7cd2330f60>,\n",
       "  UUID('88b10dd0-9d0b-3f66-b599-cb0f8a5255ae'): <lcatools.entities.LcQuantity at 0x7f7cd4388080>,\n",
       "  UUID('88be10be-b859-3bc6-90e0-bafb7c27583a'): <lcatools.entities.LcQuantity at 0x7f7cd4388160>,\n",
       "  UUID('88bf5929-2275-3891-ac9e-eff3d869a9a2'): <lcatools.entities.LcQuantity at 0x7f7cd4388240>,\n",
       "  UUID('88d29e55-249c-3134-ae47-7f1ebceb85fb'): <lcatools.entities.LcQuantity at 0x7f7cd4388320>,\n",
       "  UUID('8949fc76-a609-367b-ab5f-f9b43bac6289'): <lcatools.entities.LcQuantity at 0x7f7cd4388400>,\n",
       "  UUID('89bafca0-1b4e-35a3-9248-00dfe8e42706'): <lcatools.entities.LcQuantity at 0x7f7cd43884e0>,\n",
       "  UUID('89ffe28f-5875-3a76-96cf-4cca08259b7f'): <lcatools.entities.LcQuantity at 0x7f7cd43885c0>,\n",
       "  UUID('8a8c3e27-01b5-3d36-ab9e-5bc682115875'): <lcatools.entities.LcQuantity at 0x7f7cd43886a0>,\n",
       "  UUID('8b449680-c4f7-33f3-b856-d9c197560569'): <lcatools.entities.LcQuantity at 0x7f7cd4388780>,\n",
       "  UUID('8b9d29f4-571e-3a64-a700-bea72a0e039e'): <lcatools.entities.LcQuantity at 0x7f7cd4388860>,\n",
       "  UUID('8bec0ea4-d25b-32e6-a57a-f4a2f1fc070b'): <lcatools.entities.LcQuantity at 0x7f7cd4388940>,\n",
       "  UUID('8c44567a-6254-3da2-bab7-b20d19132dcd'): <lcatools.entities.LcQuantity at 0x7f7cd4388a20>,\n",
       "  UUID('8c6da447-105b-362c-afc7-d6b84aaa014d'): <lcatools.entities.LcQuantity at 0x7f7cd4388b00>,\n",
       "  UUID('8ca81911-db19-38d6-9d2b-b830d84c4080'): <lcatools.entities.LcQuantity at 0x7f7cd4388be0>,\n",
       "  UUID('8d0b58c0-836a-3e95-a5ef-83264af973e1'): <lcatools.entities.LcQuantity at 0x7f7cd4388cc0>,\n",
       "  UUID('8e395929-cff0-3f01-8e76-1e0cc2fd2a39'): <lcatools.entities.LcQuantity at 0x7f7cd4388da0>,\n",
       "  UUID('8eeaa8c4-db09-3c3c-ab54-2e52ddf5a65b'): <lcatools.entities.LcQuantity at 0x7f7cd4388e80>,\n",
       "  UUID('8efa6b38-b2d9-3ea6-a80f-694703253663'): <lcatools.entities.LcQuantity at 0x7f7cd4388f60>,\n",
       "  UUID('8f245d37-5f2d-374f-945f-0542a93c95db'): <lcatools.entities.LcQuantity at 0x7f7cd438b080>,\n",
       "  UUID('8f3329aa-c340-3e48-bfed-b85bac74e6e0'): <lcatools.entities.LcQuantity at 0x7f7cd438b160>,\n",
       "  UUID('8f3f5151-724f-3abe-b4af-cd4c01a192d1'): <lcatools.entities.LcQuantity at 0x7f7cd438b240>,\n",
       "  UUID('8f6121f8-76c7-3881-afe6-26ac3f4ddd57'): <lcatools.entities.LcQuantity at 0x7f7cd438b320>,\n",
       "  UUID('8fbf682c-89d8-33f2-a90c-0838ee725c22'): <lcatools.entities.LcQuantity at 0x7f7cd438b400>,\n",
       "  UUID('8fc62490-0975-3a4f-8bdb-05a81e5651a4'): <lcatools.entities.LcQuantity at 0x7f7cd438b4e0>,\n",
       "  UUID('8fe77525-aef9-3fb3-bb78-90b86dbc5dd5'): <lcatools.entities.LcQuantity at 0x7f7cd438b5c0>,\n",
       "  UUID('8ff34aa7-713c-3ed5-ab08-5e7a8454d6f9'): <lcatools.entities.LcQuantity at 0x7f7cd438b6a0>,\n",
       "  UUID('9018e18a-bc03-333e-8a1e-a73538387908'): <lcatools.entities.LcQuantity at 0x7f7cd438b780>,\n",
       "  UUID('90339268-fa98-3dec-ab39-9dece0e336dc'): <lcatools.entities.LcQuantity at 0x7f7cd438b860>,\n",
       "  UUID('9040b666-e86d-33c1-9c86-f5b32d9b1581'): <lcatools.entities.LcQuantity at 0x7f7cd438b940>,\n",
       "  UUID('9045c119-27ca-387a-a645-0792c6a83e91'): <lcatools.entities.LcQuantity at 0x7f7cd438ba20>,\n",
       "  UUID('908f13c0-8f9e-3011-a96f-8e7fa7ae5bdb'): <lcatools.entities.LcQuantity at 0x7f7cd438bb00>,\n",
       "  UUID('90cc07dc-985d-34ae-a46d-047fc67d5e58'): <lcatools.entities.LcQuantity at 0x7f7cd438bbe0>,\n",
       "  UUID('9108d34b-143e-390f-9725-db9c80f86717'): <lcatools.entities.LcQuantity at 0x7f7cd438bcc0>,\n",
       "  UUID('915ce29f-24f4-3aeb-98a3-d57f37c20158'): <lcatools.entities.LcQuantity at 0x7f7cd438bda0>,\n",
       "  UUID('91973885-e5ff-3d08-85a9-db5bcba1521d'): <lcatools.entities.LcQuantity at 0x7f7cd438be80>,\n",
       "  UUID('91b0aaff-fa38-3c81-aaac-93fd2deadaed'): <lcatools.entities.LcQuantity at 0x7f7cd438bf60>,\n",
       "  UUID('91e35a11-de94-3e53-9683-19a331071999'): <lcatools.entities.LcQuantity at 0x7f7cd438e080>,\n",
       "  UUID('9239740a-a760-3312-9c01-315c38270b3d'): <lcatools.entities.LcQuantity at 0x7f7cd438e160>,\n",
       "  UUID('928948e8-12db-305e-8399-96820a0649d6'): <lcatools.entities.LcQuantity at 0x7f7cd438e240>,\n",
       "  UUID('92a57842-db21-37fc-8dd2-c21bd8fdbf6d'): <lcatools.entities.LcQuantity at 0x7f7cd438e320>,\n",
       "  UUID('930f07b9-1ad3-3133-9f5c-62745600f7f6'): <lcatools.entities.LcQuantity at 0x7f7cd438e400>,\n",
       "  UUID('93d7fcb0-cda2-33a1-919f-2183fb5685cf'): <lcatools.entities.LcQuantity at 0x7f7cd438e4e0>,\n",
       "  UUID('9450129a-6e5e-3b10-982e-845ed92eae55'): <lcatools.entities.LcQuantity at 0x7f7cd438e5c0>,\n",
       "  UUID('949369ac-b66a-3490-9033-7b5fcef00be0'): <lcatools.entities.LcQuantity at 0x7f7cd438e6a0>,\n",
       "  UUID('9544f303-6bf4-3e80-a454-dc666f2d793c'): <lcatools.entities.LcQuantity at 0x7f7cd438e780>,\n",
       "  UUID('95555f8d-25fb-3569-8165-46d7e0a9457d'): <lcatools.entities.LcQuantity at 0x7f7cd438e860>,\n",
       "  UUID('9641bbe9-c5c0-3e52-894c-cf8d8379937a'): <lcatools.entities.LcQuantity at 0x7f7cd438e940>,\n",
       "  UUID('968c2256-2abc-3fb7-b041-863cf4e614b7'): <lcatools.entities.LcQuantity at 0x7f7cd438ea20>,\n",
       "  UUID('971334ae-2415-3a84-b9f5-e12ad60eab0b'): <lcatools.entities.LcQuantity at 0x7f7cd438eb00>,\n",
       "  UUID('97bf2dbc-db6d-3c87-ab4e-65d61c313700'): <lcatools.entities.LcQuantity at 0x7f7cd438ebe0>,\n",
       "  UUID('980b811e-3905-4797-82a5-173f5568bc7e'): <lcatools.entities.LcQuantity at 0x7f7cd438ecc0>,\n",
       "  UUID('981867fa-10e7-3128-a2fa-a15722644e0b'): <lcatools.entities.LcQuantity at 0x7f7cd438eda0>,\n",
       "  UUID('98914f58-55db-384c-8892-5f93f610224d'): <lcatools.entities.LcQuantity at 0x7f7cd438ee80>,\n",
       "  UUID('98b5061e-2eba-3f9d-b0ca-da773670b05f'): <lcatools.entities.LcQuantity at 0x7f7cd438ef60>,\n",
       "  UUID('99add0b0-c9ea-3bce-87f6-793f6b0e84ad'): <lcatools.entities.LcQuantity at 0x7f7cd4391080>,\n",
       "  UUID('9afbb866-e0b7-39d3-906d-ffabc8a9c16b'): <lcatools.entities.LcQuantity at 0x7f7cd4391160>,\n",
       "  UUID('9b430415-ab67-38e0-ae37-b82cca24d852'): <lcatools.entities.LcQuantity at 0x7f7cd4391240>,\n",
       "  UUID('9b7cf845-f331-3b39-9503-0c3570807e8f'): <lcatools.entities.LcQuantity at 0x7f7cd4391320>,\n",
       "  UUID('9b7eaffa-f0b5-36b1-8452-d5ab9d789e49'): <lcatools.entities.LcQuantity at 0x7f7cd4391400>,\n",
       "  UUID('9b86b9ae-1940-3d52-a263-deaf45b6d510'): <lcatools.entities.LcQuantity at 0x7f7cd43914e0>,\n",
       "  UUID('9c3c6bdc-12c6-3d39-9b8e-fd22e8024d1c'): <lcatools.entities.LcQuantity at 0x7f7cd43915c0>,\n",
       "  UUID('9c3fe418-ace2-37fe-a7a2-5395c4773fef'): <lcatools.entities.LcQuantity at 0x7f7cd43916a0>,\n",
       "  UUID('9ca44d51-bd16-314c-8444-46079bb678d6'): <lcatools.entities.LcQuantity at 0x7f7cd4391780>,\n",
       "  UUID('9cc703cf-8e9b-3cc2-ba0f-59e68eacba1f'): <lcatools.entities.LcQuantity at 0x7f7cd4391860>,\n",
       "  UUID('9d30e21e-e70d-3636-a0ef-c5660883ca29'): <lcatools.entities.LcQuantity at 0x7f7cd4391940>,\n",
       "  UUID('9d91642e-9fda-3e5c-bbda-8804731c2d1e'): <lcatools.entities.LcQuantity at 0x7f7cd4391a20>,\n",
       "  UUID('9d9502db-84b7-353e-a77d-e4d9ea0cc30c'): <lcatools.entities.LcQuantity at 0x7f7cd4391b00>,\n",
       "  UUID('9dcbc85d-060d-3e90-9e8d-6171da1d8ff8'): <lcatools.entities.LcQuantity at 0x7f7cd4391be0>,\n",
       "  UUID('9ec64b60-870c-3c27-bbb2-b46af3654da0'): <lcatools.entities.LcQuantity at 0x7f7cd4391cc0>,\n",
       "  UUID('9ed095fe-c28f-37a3-b59d-1f81c8ab5d08'): <lcatools.entities.LcQuantity at 0x7f7cd4391da0>,\n",
       "  UUID('9ed871ef-bd89-32b9-aeae-b7fc37d35180'): <lcatools.entities.LcQuantity at 0x7f7cd4391e80>,\n",
       "  UUID('9f8a0557-9be7-3c55-b775-db17d8ce496b'): <lcatools.entities.LcQuantity at 0x7f7cd4391f60>,\n",
       "  UUID('a03bd380-f69c-3202-a91b-3e4f0a98e9d2'): <lcatools.entities.LcQuantity at 0x7f7cd4393080>,\n",
       "  UUID('a064461e-6924-3a36-a69e-83c57ac9d929'): <lcatools.entities.LcQuantity at 0x7f7cd4393160>,\n",
       "  UUID('a0705f05-4577-3bff-8b71-72bc86278023'): <lcatools.entities.LcQuantity at 0x7f7cd4393240>,\n",
       "  UUID('a07f8a93-13fd-31c2-85b5-d85ecbf8d1c6'): <lcatools.entities.LcQuantity at 0x7f7cd4393320>,\n",
       "  UUID('a0c50532-90ec-34ea-bb8a-f28512039902'): <lcatools.entities.LcQuantity at 0x7f7cd4393400>,\n",
       "  UUID('a1197630-5856-3107-8bde-b1e738182833'): <lcatools.entities.LcQuantity at 0x7f7cd43934e0>,\n",
       "  UUID('a182d1db-7f48-365d-afa5-8cc1000de6ea'): <lcatools.entities.LcQuantity at 0x7f7cd43935c0>,\n",
       "  UUID('a299efcb-c003-3f67-b43f-4ae7f44a14ac'): <lcatools.entities.LcQuantity at 0x7f7cd43936a0>,\n",
       "  UUID('a2c95284-c32c-3b59-8e85-911b2ad575de'): <lcatools.entities.LcQuantity at 0x7f7cd4393780>,\n",
       "  UUID('a37de66e-b2ba-3387-9d2c-892e8526f6bd'): <lcatools.entities.LcQuantity at 0x7f7cd4393860>,\n",
       "  UUID('a3973a35-0171-3001-946a-adc124ab79cb'): <lcatools.entities.LcQuantity at 0x7f7cd4393940>,\n",
       "  UUID('a3e09896-e280-3a5c-ab8f-3afb2a481adf'): <lcatools.entities.LcQuantity at 0x7f7cd4393a20>,\n",
       "  UUID('a3ea1f73-c8a4-3f92-bab4-996b8d2c794c'): <lcatools.entities.LcQuantity at 0x7f7cd4393b00>,\n",
       "  UUID('a44c4138-1181-353d-8f6c-415c038cff5a'): <lcatools.entities.LcQuantity at 0x7f7cd4393be0>,\n",
       "  UUID('a4941e04-f18c-349b-a334-c3fa270b9a23'): <lcatools.entities.LcQuantity at 0x7f7cd4393cc0>,\n",
       "  UUID('a4dbec73-ac16-302b-85dc-4a13138b4e47'): <lcatools.entities.LcQuantity at 0x7f7cd4393da0>,\n",
       "  UUID('a57552ee-47a6-3bd1-9c79-19f2b794d179'): <lcatools.entities.LcQuantity at 0x7f7cd4393e80>,\n",
       "  UUID('a5bd3202-0c5f-3270-acd7-6280eb119b90'): <lcatools.entities.LcQuantity at 0x7f7cd4393f60>,\n",
       "  UUID('a5d27249-ebd8-30da-8028-e7b30f836341'): <lcatools.entities.LcQuantity at 0x7f7cd4395080>,\n",
       "  UUID('a5fe9b5c-e6f0-31ee-8d58-3ffbaf39a64f'): <lcatools.entities.LcQuantity at 0x7f7cd4395160>,\n",
       "  UUID('a62f10bc-21c6-329c-a409-77b700c56193'): <lcatools.entities.LcQuantity at 0x7f7cd4395240>,\n",
       "  UUID('a6a70dfb-279f-356b-8b0f-8cfd0355100a'): <lcatools.entities.LcQuantity at 0x7f7cd4395320>,\n",
       "  UUID('a739870b-e48d-32ac-a8a5-946aa96dd9d2'): <lcatools.entities.LcQuantity at 0x7f7cd4395400>,\n",
       "  UUID('a76828d8-1579-3441-af1f-3446c4f09769'): <lcatools.entities.LcQuantity at 0x7f7cd43954e0>,\n",
       "  UUID('a7bbfdd4-8652-3c5a-8f96-d5d4a6ba1e32'): <lcatools.entities.LcQuantity at 0x7f7cd43955c0>,\n",
       "  UUID('a88042de-d053-3fea-b71a-e2717f5b054e'): <lcatools.entities.LcQuantity at 0x7f7cd43956a0>,\n",
       "  UUID('a88c533d-e2bb-3f77-877a-aedddc418879'): <lcatools.entities.LcQuantity at 0x7f7cd4395780>,\n",
       "  UUID('a8b3dbb0-c914-32ae-ae4a-8daf67c3c4a5'): <lcatools.entities.LcQuantity at 0x7f7cd4395860>,\n",
       "  UUID('a903b44f-c89e-35b2-80aa-c3775390290e'): <lcatools.entities.LcQuantity at 0x7f7cd4395940>,\n",
       "  UUID('aa18caeb-12ef-3550-b652-a84781bc804d'): <lcatools.entities.LcQuantity at 0x7f7cd4395a20>,\n",
       "  UUID('aadb88ab-ae0e-3a43-ac3a-3049cc6504d9'): <lcatools.entities.LcQuantity at 0x7f7cd4395b00>,\n",
       "  UUID('aae3395b-166c-31ee-bccd-3efc84e69956'): <lcatools.entities.LcQuantity at 0x7f7cd4395be0>,\n",
       "  UUID('ab475758-53af-35ee-b452-9dea7530f9f2'): <lcatools.entities.LcQuantity at 0x7f7cd4395cc0>,\n",
       "  UUID('abb40654-8dbb-3640-8f15-16dfde910a13'): <lcatools.entities.LcQuantity at 0x7f7cd4395da0>,\n",
       "  UUID('ac0711e7-b00f-3228-b6f9-38adc1a14d13'): <lcatools.entities.LcQuantity at 0x7f7cd4395e80>,\n",
       "  UUID('ac1d2045-b19a-3229-a7c4-930e0931ea8f'): <lcatools.entities.LcQuantity at 0x7f7cd4395f60>,\n",
       "  UUID('acec8c71-0b04-39bb-9b44-9bf269ef547c'): <lcatools.entities.LcQuantity at 0x7f7cd4398080>,\n",
       "  UUID('ad4c1064-7c20-35de-a7f4-bf81dda2328e'): <lcatools.entities.LcQuantity at 0x7f7cd4398160>,\n",
       "  UUID('ae53345f-d2b2-3f4b-b33a-80694b19726f'): <lcatools.entities.LcQuantity at 0x7f7cd4398240>,\n",
       "  UUID('af185e31-5b39-3e67-bee2-a8995aa7bcc2'): <lcatools.entities.LcQuantity at 0x7f7cd4398320>,\n",
       "  UUID('af18ec30-c454-3c8c-b9c9-ee47492d3f5b'): <lcatools.entities.LcQuantity at 0x7f7cd4398400>,\n",
       "  UUID('b07ab03b-a9aa-371c-9e4c-82b9f6bce9b9'): <lcatools.entities.LcQuantity at 0x7f7cd43984e0>,\n",
       "  UUID('b09c9e3f-8f3f-376c-a765-d1ef5e333c40'): <lcatools.entities.LcQuantity at 0x7f7cd43985c0>,\n",
       "  UUID('b0fe325b-9db5-30d3-87b4-83cbb33fd7a0'): <lcatools.entities.LcQuantity at 0x7f7cd43986a0>,\n",
       "  UUID('b11ccfec-aedd-3395-810e-351d2183508c'): <lcatools.entities.LcQuantity at 0x7f7cd4398780>,\n",
       "  UUID('b125506b-f999-30a5-9b75-b61e492fab07'): <lcatools.entities.LcQuantity at 0x7f7cd4398860>,\n",
       "  UUID('b16734a9-fb64-336b-8d42-2a10aa4acc00'): <lcatools.entities.LcQuantity at 0x7f7cd4398940>,\n",
       "  UUID('b2a61239-661b-35dd-a2ca-8bb5faf9d4b5'): <lcatools.entities.LcQuantity at 0x7f7cd4398a20>,\n",
       "  UUID('b2e395d6-303b-3005-9887-bae93e85abdf'): <lcatools.entities.LcQuantity at 0x7f7cd4398b00>,\n",
       "  UUID('b2f8de1f-4837-3408-bfce-1f7318748e1f'): <lcatools.entities.LcQuantity at 0x7f7cd4398be0>,\n",
       "  UUID('b31f364e-7663-3192-b81b-5fbc5f3397a3'): <lcatools.entities.LcQuantity at 0x7f7cd4398cc0>,\n",
       "  UUID('b33e6e20-aa0d-3f1f-8e67-58620029d283'): <lcatools.entities.LcQuantity at 0x7f7cd4398d68>,\n",
       "  UUID('b3d8b588-ddf1-3e7b-9518-e56721da1138'): <lcatools.entities.LcQuantity at 0x7f7cd4398e48>,\n",
       "  UUID('b3e5ebee-7530-3e1f-9942-eef458c5e5cc'): <lcatools.entities.LcQuantity at 0x7f7cd4398f28>,\n",
       "  UUID('b4487459-5bd6-3b5d-8107-6091a5b0f357'): <lcatools.entities.LcQuantity at 0x7f7cd439a048>,\n",
       "  UUID('b50240b5-d761-3f28-a8be-b73bb086306e'): <lcatools.entities.LcQuantity at 0x7f7cd439a128>,\n",
       "  UUID('b53af184-5500-3e67-9b73-ccdbf0bc7848'): <lcatools.entities.LcQuantity at 0x7f7cd439a208>,\n",
       "  UUID('b542a1c1-b493-3559-b6e2-2a6419f1dc66'): <lcatools.entities.LcQuantity at 0x7f7cd439a2e8>,\n",
       "  UUID('b56a2821-596b-3334-867d-f0a164a6d85f'): <lcatools.entities.LcQuantity at 0x7f7cd439a3c8>,\n",
       "  UUID('b573aa35-91c0-39ae-ba01-130739eccddb'): <lcatools.entities.LcQuantity at 0x7f7cd439a4a8>,\n",
       "  UUID('b602a9a2-439a-3498-8ab0-5ea74f9e7153'): <lcatools.entities.LcQuantity at 0x7f7cd439a588>,\n",
       "  UUID('b60d4ab9-c085-3fbf-bac5-cbad8745bd86'): <lcatools.entities.LcQuantity at 0x7f7cd439a668>,\n",
       "  UUID('b7144a4d-d82b-3e0c-8a94-a024d9939598'): <lcatools.entities.LcQuantity at 0x7f7cd439a748>,\n",
       "  UUID('b7793c1e-f488-3e64-9f3a-aa5ab17c9a92'): <lcatools.entities.LcQuantity at 0x7f7cd439a828>,\n",
       "  UUID('b7da536d-4ad7-387c-be9f-c9246f825dbe'): <lcatools.entities.LcQuantity at 0x7f7cd439a908>,\n",
       "  UUID('b8393390-78fa-3733-90cd-adf90d6265b4'): <lcatools.entities.LcQuantity at 0x7f7cd439a9e8>,\n",
       "  UUID('b897cff2-c70c-3489-a2c8-12283b2d2b13'): <lcatools.entities.LcQuantity at 0x7f7cd439aac8>,\n",
       "  UUID('b89890b7-ae69-358a-bc87-26072f8f9de1'): <lcatools.entities.LcQuantity at 0x7f7cd439aba8>,\n",
       "  UUID('b8d4ea1a-1da6-3816-ac7b-01deec1a3bcf'): <lcatools.entities.LcQuantity at 0x7f7cd439ac88>,\n",
       "  UUID('b935cb28-1f2f-34fd-876e-348086330a95'): <lcatools.entities.LcQuantity at 0x7f7cd439ad68>,\n",
       "  UUID('ba80e292-ae21-360f-a5de-6853de56a628'): <lcatools.entities.LcQuantity at 0x7f7cd439ae48>,\n",
       "  UUID('bae89052-c348-30c5-962f-da4a95b1db75'): <lcatools.entities.LcQuantity at 0x7f7cd439af28>,\n",
       "  UUID('bb0270a4-f444-31d5-8b87-74a67600874a'): <lcatools.entities.LcQuantity at 0x7f7cd439d048>,\n",
       "  UUID('bb5087b8-cc9d-3252-b58d-88b3ee34c7f5'): <lcatools.entities.LcQuantity at 0x7f7cd439d128>,\n",
       "  UUID('bb8c38ed-ef60-3d8e-b30e-8a3a470b1f16'): <lcatools.entities.LcQuantity at 0x7f7cd439d208>,\n",
       "  UUID('bb972f99-766b-30b5-8ecf-ee946a76c6c6'): <lcatools.entities.LcQuantity at 0x7f7cd439d2e8>,\n",
       "  UUID('bba5b36d-0d34-357d-8a80-c956fe4d7b84'): <lcatools.entities.LcQuantity at 0x7f7cd439d3c8>,\n",
       "  UUID('bbe87c34-1e89-343a-80b4-24c542d17db7'): <lcatools.entities.LcQuantity at 0x7f7cd439d4a8>,\n",
       "  UUID('bc7a1d9c-5470-3d77-a4da-86334aa1440d'): <lcatools.entities.LcQuantity at 0x7f7cd439d588>,\n",
       "  UUID('bcb8684d-a50c-3c2c-9753-150d6b76ea4a'): <lcatools.entities.LcQuantity at 0x7f7cd439d668>,\n",
       "  UUID('bea21efb-6dc2-32f9-9d7e-90286238128a'): <lcatools.entities.LcQuantity at 0x7f7cd439d748>,\n",
       "  UUID('beab66fd-1df9-3f61-a7db-47a0abbb5f9a'): <lcatools.entities.LcQuantity at 0x7f7cd439d828>,\n",
       "  UUID('beca4c60-6e37-3b9d-bf6d-4f01746d0be4'): <lcatools.entities.LcQuantity at 0x7f7cd439d908>,\n",
       "  UUID('bf7abcf3-628d-3e2c-8adf-e1a58b36b7f7'): <lcatools.entities.LcQuantity at 0x7f7cd439d9e8>,\n",
       "  UUID('bffab3f2-3878-31ae-8093-24291f8779fe'): <lcatools.entities.LcQuantity at 0x7f7cd439dac8>,\n",
       "  UUID('c0975cb1-2f0c-3ef2-aeaf-a63bed1e5d38'): <lcatools.entities.LcQuantity at 0x7f7cd439dba8>,\n",
       "  UUID('c142f671-1b2b-34af-b9ff-9669e7709958'): <lcatools.entities.LcQuantity at 0x7f7cd439dc88>,\n",
       "  UUID('c18ac32d-8921-3fb6-a610-9b7bb13bc874'): <lcatools.entities.LcQuantity at 0x7f7cd439dd68>,\n",
       "  UUID('c1b86775-f6be-3343-84d7-9ad3bdaaf07a'): <lcatools.entities.LcQuantity at 0x7f7cd439de48>,\n",
       "  UUID('c1d85817-5a59-335d-b2dd-b3587af442b4'): <lcatools.entities.LcQuantity at 0x7f7cd439df28>,\n",
       "  UUID('c23a5549-db1e-3a52-aadb-1bea6b6f681d'): <lcatools.entities.LcQuantity at 0x7f7cd43a0048>,\n",
       "  UUID('c4f59c8f-cc33-388c-bb99-57aa0ce55cdb'): <lcatools.entities.LcQuantity at 0x7f7cd43a0128>,\n",
       "  UUID('c51d43ef-3307-32ac-8252-c796ef487d18'): <lcatools.entities.LcQuantity at 0x7f7cd43a0208>,\n",
       "  UUID('c55285f3-52fc-398d-8517-4f09e7599d9d'): <lcatools.entities.LcQuantity at 0x7f7cd43a02e8>,\n",
       "  UUID('c581e7f9-42f4-34b4-b8d4-fb4ba72c4f24'): <lcatools.entities.LcQuantity at 0x7f7cd43a03c8>,\n",
       "  UUID('c6e31f92-1fd0-31fa-8b3d-f4718cb406f6'): <lcatools.entities.LcQuantity at 0x7f7cd43a04a8>,\n",
       "  UUID('c7700238-e884-352f-a6d2-e3171545c40d'): <lcatools.entities.LcQuantity at 0x7f7cd43a0588>,\n",
       "  UUID('c8123047-d5fb-389e-9473-b36f20d05feb'): <lcatools.entities.LcQuantity at 0x7f7cd43a0668>,\n",
       "  UUID('c888114c-eb65-3d17-946d-c20fff307cdf'): <lcatools.entities.LcQuantity at 0x7f7cd43a0748>,\n",
       "  UUID('c898ca20-5795-3c1e-aa73-7bd5272f84ec'): <lcatools.entities.LcQuantity at 0x7f7cd43a0828>,\n",
       "  UUID('c8a6bf95-9f90-3668-adac-bef949f93d2b'): <lcatools.entities.LcQuantity at 0x7f7cd43a0908>,\n",
       "  UUID('c902e10b-2f4d-3a41-aaa6-6bc80dae841a'): <lcatools.entities.LcQuantity at 0x7f7cd43a09e8>,\n",
       "  UUID('c99a4158-df02-3b27-a117-dba1a80817ce'): <lcatools.entities.LcQuantity at 0x7f7cd43a0ac8>,\n",
       "  UUID('c9aea83e-e148-3640-89a9-b21c01847a1c'): <lcatools.entities.LcQuantity at 0x7f7cd43a0ba8>,\n",
       "  UUID('c9ba70fb-83e8-36cc-939f-e230ef896ab8'): <lcatools.entities.LcQuantity at 0x7f7cd43a0c88>,\n",
       "  UUID('cafcb8c5-5a21-3b78-8479-1649d34634c8'): <lcatools.entities.LcQuantity at 0x7f7cd43a0d68>,\n",
       "  UUID('cafd9671-f2ae-3dab-88a6-9aa5c3c83dd0'): <lcatools.entities.LcQuantity at 0x7f7cd43a0e48>,\n",
       "  UUID('cb2c8a9f-a895-39d7-ac40-e763606cb1cc'): <lcatools.entities.LcQuantity at 0x7f7cd43a0f28>,\n",
       "  UUID('cb81f44c-2c3d-3dee-9c52-1ee1ea8fa6a1'): <lcatools.entities.LcQuantity at 0x7f7cd43a3048>,\n",
       "  UUID('cbc74917-285f-3f26-99a9-6b0c2a5ba1f7'): <lcatools.entities.LcQuantity at 0x7f7cd43a3128>,\n",
       "  UUID('cc946a2a-3ead-3a4a-a20a-ac7792f6ea9b'): <lcatools.entities.LcQuantity at 0x7f7cd43a3208>,\n",
       "  UUID('cca01bed-5284-394a-a158-65242ba78231'): <lcatools.entities.LcQuantity at 0x7f7cd43a32e8>,\n",
       "  UUID('ccc65d1b-d1cd-3796-9366-0868d47ed5ab'): <lcatools.entities.LcQuantity at 0x7f7cd43a33c8>,\n",
       "  UUID('cd0d79b2-6ee4-314b-a3d4-d8a3d761dec5'): <lcatools.entities.LcQuantity at 0x7f7cd43a34a8>,\n",
       "  UUID('cd199201-fc87-3501-a4c7-c12ce7226810'): <lcatools.entities.LcQuantity at 0x7f7cd43a3588>,\n",
       "  UUID('cd6227e4-3239-3618-a6a0-a4701db2a050'): <lcatools.entities.LcQuantity at 0x7f7cd43a3668>,\n",
       "  UUID('cdddfe73-225e-3ca0-9368-cf81e5fd5529'): <lcatools.entities.LcQuantity at 0x7f7cd43a3748>,\n",
       "  UUID('cebdcc15-f9a5-4f10-a740-93e518bcfb9b'): <lcatools.entities.LcQuantity at 0x7f7cd5abbda0>,\n",
       "  UUID('d050a878-0c70-3036-846e-6eab8e0d5211'): <lcatools.entities.LcQuantity at 0x7f7cd43a3828>,\n",
       "  UUID('d09b5d83-199a-3f2a-8598-024f949e7cea'): <lcatools.entities.LcQuantity at 0x7f7cd43a3908>,\n",
       "  UUID('d09d5ff6-1196-3cf8-856a-5f623f8e281f'): <lcatools.entities.LcQuantity at 0x7f7cd43a39e8>,\n",
       "  UUID('d0acfc15-fcd7-383d-bb66-e253f042d431'): <lcatools.entities.LcQuantity at 0x7f7cd43a3ac8>,\n",
       "  UUID('d0d12c82-6db4-3d53-8651-858cfb79f117'): <lcatools.entities.LcQuantity at 0x7f7cd43a3ba8>,\n",
       "  UUID('d0df894c-5fc5-3785-92dc-38579a267d46'): <lcatools.entities.LcQuantity at 0x7f7cd43a3c88>,\n",
       "  UUID('d0f34c34-5002-3ca8-8013-cdf1f2efad81'): <lcatools.entities.LcQuantity at 0x7f7cd43a3d68>,\n",
       "  UUID('d143e87c-7880-3f4a-b979-a53fce59fa46'): <lcatools.entities.LcQuantity at 0x7f7cd43a3e48>,\n",
       "  UUID('d1df14de-e212-3563-908b-037897407b57'): <lcatools.entities.LcQuantity at 0x7f7cd43a3f28>,\n",
       "  UUID('d1e1197b-1ee7-3c57-be96-c3330dbc07ac'): <lcatools.entities.LcQuantity at 0x7f7cd43a5048>,\n",
       "  UUID('d20cf8b4-ee0c-3a95-b288-bb747cea8c23'): <lcatools.entities.LcQuantity at 0x7f7cd43a5128>,\n",
       "  UUID('d243f6fd-c7ec-3ca1-8b40-9674ecff68d6'): <lcatools.entities.LcQuantity at 0x7f7cd43a5208>,\n",
       "  UUID('d297791a-640a-3691-92aa-30771558e541'): <lcatools.entities.LcQuantity at 0x7f7cd43a52e8>,\n",
       "  UUID('d2ada23c-3353-3460-ba15-84e684f14e6b'): <lcatools.entities.LcQuantity at 0x7f7cd43a53c8>,\n",
       "  UUID('d2b78e71-1311-350a-8107-cd4488c84795'): <lcatools.entities.LcQuantity at 0x7f7cd43a54a8>,\n",
       "  UUID('d2d7c2ff-4d72-3178-b217-4d2af3bdf22b'): <lcatools.entities.LcQuantity at 0x7f7cd43a5588>,\n",
       "  UUID('d3bcb4a3-412c-3723-a4cf-98fb565dcc64'): <lcatools.entities.LcQuantity at 0x7f7cd43a5668>,\n",
       "  UUID('d3d698d7-94f1-3e8b-a703-55368bf0575a'): <lcatools.entities.LcQuantity at 0x7f7cd43a5748>,\n",
       "  UUID('d4037a2d-d575-36bf-b712-631592e7c71d'): <lcatools.entities.LcQuantity at 0x7f7cd43a5828>,\n",
       "  UUID('d47b0c2f-b23e-38f6-a560-372cdef74f1c'): <lcatools.entities.LcQuantity at 0x7f7cd43a5908>,\n",
       "  UUID('d4903d08-2c43-3355-a13e-ff53b223804a'): <lcatools.entities.LcQuantity at 0x7f7cd43a59e8>,\n",
       "  UUID('d4b3274e-be22-3536-8344-514f490259a4'): <lcatools.entities.LcQuantity at 0x7f7cd43a5ac8>,\n",
       "  UUID('d4e3e90d-5aff-35da-80bd-bc4f22f8a013'): <lcatools.entities.LcQuantity at 0x7f7cd43a5ba8>,\n",
       "  UUID('d5ae4f31-d240-3d70-99cd-c98beea200a6'): <lcatools.entities.LcQuantity at 0x7f7cd43a5c88>,\n",
       "  UUID('d5de0b05-8bec-3e1c-a7bc-c7142007da60'): <lcatools.entities.LcQuantity at 0x7f7cd43a5d68>,\n",
       "  UUID('d5f1ae0f-b5eb-39bd-8998-e8a0631134aa'): <lcatools.entities.LcQuantity at 0x7f7cd43a5e48>,\n",
       "  UUID('d5f924b4-980d-3c41-898d-abd5dca66b39'): <lcatools.entities.LcQuantity at 0x7f7cd43a5f28>,\n",
       "  UUID('d65f47ff-0dac-397e-b244-ea748a542c42'): <lcatools.entities.LcQuantity at 0x7f7cd43a7048>,\n",
       "  UUID('d71f8dda-612d-3164-ab36-baad74b5f150'): <lcatools.entities.LcQuantity at 0x7f7cd43a7128>,\n",
       "  UUID('d727c51c-1d15-3023-bb72-092ba9fb3d3f'): <lcatools.entities.LcQuantity at 0x7f7cd43a7208>,\n",
       "  UUID('d73d349f-a4cb-3c12-b72a-14bca1faa902'): <lcatools.entities.LcQuantity at 0x7f7cd43a72e8>,\n",
       "  UUID('d7b882eb-bc7c-39e5-b7db-cefe1f70c83e'): <lcatools.entities.LcQuantity at 0x7f7cd43a73c8>,\n",
       "  UUID('d83c49e9-fb67-305e-b662-1df56a5ae2bc'): <lcatools.entities.LcQuantity at 0x7f7cd43a74a8>,\n",
       "  UUID('d8bd3bc4-ff6f-31cc-a4ed-c2d67909aace'): <lcatools.entities.LcQuantity at 0x7f7cd43a7588>,\n",
       "  UUID('d8d7d801-c13e-328c-8764-a5b652ec063a'): <lcatools.entities.LcQuantity at 0x7f7cd43a7668>,\n",
       "  UUID('d8edb714-d0d1-3e1c-83d4-e9d537b9d30f'): <lcatools.entities.LcQuantity at 0x7f7cd43a7748>,\n",
       "  UUID('d907604c-9dd0-3581-83ea-1d59e778a3c0'): <lcatools.entities.LcQuantity at 0x7f7cd43a7828>,\n",
       "  UUID('d936ea53-663b-3937-91bc-b94ca747a788'): <lcatools.entities.LcQuantity at 0x7f7cd43a7908>,\n",
       "  UUID('d96be456-d83d-36d3-957a-d880d356246f'): <lcatools.entities.LcQuantity at 0x7f7cd43a79e8>,\n",
       "  UUID('da1baaf4-f4d9-3985-9e7b-991edfa889c1'): <lcatools.entities.LcQuantity at 0x7f7cd43a7ac8>,\n",
       "  UUID('dbecd7ac-3c0c-34a8-9dc5-dd2fad0a9677'): <lcatools.entities.LcQuantity at 0x7f7cd43a7ba8>,\n",
       "  UUID('dc083607-a376-3591-b902-6f606bced563'): <lcatools.entities.LcQuantity at 0x7f7cd43a7c88>,\n",
       "  UUID('dc0a2cb2-69ce-3644-8634-5d404b21ccb9'): <lcatools.entities.LcQuantity at 0x7f7cd43a7d68>,\n",
       "  UUID('dc0eb86e-76eb-3337-98c9-271a4d709ecf'): <lcatools.entities.LcQuantity at 0x7f7cd43a7e10>,\n",
       "  UUID('dc621367-2faf-3f67-b2f4-78e3e93d221e'): <lcatools.entities.LcQuantity at 0x7f7cd43a7ef0>,\n",
       "  UUID('ddc9e5e3-6337-3499-98a1-11595f83030b'): <lcatools.entities.LcQuantity at 0x7f7cd43a7fd0>,\n",
       "  UUID('de5b3c87-0e35-4fb0-9765-4f3ba34c99e5'): <lcatools.entities.LcQuantity at 0x7f7cd43ab0f0>,\n",
       "  UUID('de73972b-8cd3-32cd-a2d0-a90a310a80c0'): <lcatools.entities.LcQuantity at 0x7f7cd43ab1d0>,\n",
       "  UUID('df05e983-7dac-3beb-a813-3ee7495b221e'): <lcatools.entities.LcQuantity at 0x7f7cd43ab2b0>,\n",
       "  UUID('e023ac43-a8ce-3612-be91-bbfb8a268297'): <lcatools.entities.LcQuantity at 0x7f7cd43ab390>,\n",
       "  UUID('e121171c-2927-341c-9add-a9e3ba9a1cb0'): <lcatools.entities.LcQuantity at 0x7f7cd43ab470>,\n",
       "  UUID('e149685a-4352-3564-ae77-75f832d23459'): <lcatools.entities.LcQuantity at 0x7f7cd43ab550>,\n",
       "  UUID('e1a930c8-8b28-39c4-a189-c9945f94f2cb'): <lcatools.entities.LcQuantity at 0x7f7cd43ab630>,\n",
       "  UUID('e1d8bcc3-1b53-3bf1-a3c1-a0a0864089e4'): <lcatools.entities.LcQuantity at 0x7f7cd43ab710>,\n",
       "  UUID('e29a60ab-59d8-3dbf-84c6-add5c22a20c7'): <lcatools.entities.LcQuantity at 0x7f7cd43ab7f0>,\n",
       "  UUID('e2ae2305-fd4c-33b1-b8da-6a8b01ed7f1c'): <lcatools.entities.LcQuantity at 0x7f7cd43ab8d0>,\n",
       "  UUID('e3116280-07e6-35ac-83b6-103ea927441b'): <lcatools.entities.LcQuantity at 0x7f7cd43ab9b0>,\n",
       "  UUID('e338db51-211a-3cad-a1d4-fe191b9c3c4a'): <lcatools.entities.LcQuantity at 0x7f7cd43aba90>,\n",
       "  UUID('e4190c7a-ae1b-334a-8666-47f428871cd1'): <lcatools.entities.LcQuantity at 0x7f7cd43abb70>,\n",
       "  UUID('e43bd872-d17f-36c0-a26f-bfcaf5b38b02'): <lcatools.entities.LcQuantity at 0x7f7cd43abc50>,\n",
       "  UUID('e444080e-2de5-3223-9d87-f11f9a9c9ca7'): <lcatools.entities.LcQuantity at 0x7f7cd43abd30>,\n",
       "  UUID('e46ba47d-360c-3f89-a1ab-c95d88877850'): <lcatools.entities.LcQuantity at 0x7f7cd43abe10>,\n",
       "  UUID('e4d24f78-dc3e-3b15-9d33-dce2fcfa35f6'): <lcatools.entities.LcQuantity at 0x7f7cd43abef0>,\n",
       "  UUID('e4ec4420-c28f-38f0-b29c-549705c46227'): <lcatools.entities.LcQuantity at 0x7f7cd43abfd0>,\n",
       "  UUID('e50342c0-4486-3127-9922-3ff8be7d77fe'): <lcatools.entities.LcQuantity at 0x7f7cd43ad0f0>,\n",
       "  UUID('e522434c-1e82-3db4-9ba4-7f9728537d8a'): <lcatools.entities.LcQuantity at 0x7f7cd43ad1d0>,\n",
       "  UUID('e52db382-fc2d-3683-add4-dfa76ceebf07'): <lcatools.entities.LcQuantity at 0x7f7cd43ad2b0>,\n",
       "  UUID('e53d29c0-0027-36dc-a4c7-09900f9a353c'): <lcatools.entities.LcQuantity at 0x7f7cd43ad390>,\n",
       "  UUID('e561da8c-2d28-3ca3-b5c9-7eac5b03c052'): <lcatools.entities.LcQuantity at 0x7f7cd43ad470>,\n",
       "  UUID('e5986e7c-d44b-3a3b-bc60-47f84341f986'): <lcatools.entities.LcQuantity at 0x7f7cd43ad550>,\n",
       "  UUID('e5b596b0-21fc-3b15-89f4-3e8a48df0d91'): <lcatools.entities.LcQuantity at 0x7f7cd43ad630>,\n",
       "  UUID('e5f6e1e9-bdd6-3acf-bc11-66858b59db60'): <lcatools.entities.LcQuantity at 0x7f7cd43ad710>,\n",
       "  UUID('e665f456-4dc6-3b08-b73e-2163fbbdd3c4'): <lcatools.entities.LcQuantity at 0x7f7cd43ad7f0>,\n",
       "  UUID('e703d9e5-8019-3694-a411-381705f6873a'): <lcatools.entities.LcQuantity at 0x7f7cd43ad8d0>,\n",
       "  UUID('e7274dc3-418e-3cc0-8f87-2ab997cc7d4b'): <lcatools.entities.LcQuantity at 0x7f7cd43ad9b0>,\n",
       "  UUID('e7522667-59cd-3858-a0b2-aebcb5a28e48'): <lcatools.entities.LcQuantity at 0x7f7cd43ada90>,\n",
       "  UUID('e7b1f599-0f38-3480-abd5-353c06e314e8'): <lcatools.entities.LcQuantity at 0x7f7cd43adb70>,\n",
       "  UUID('e7dec056-8871-3160-b533-0bd95c6fb31b'): <lcatools.entities.LcQuantity at 0x7f7cd43adc50>,\n",
       "  UUID('e965f6f3-1f00-32b6-9f4b-40665e42473b'): <lcatools.entities.LcQuantity at 0x7f7cd43add30>,\n",
       "  UUID('e97f3cc5-27e5-3cfb-84bb-1fa95ffbad0c'): <lcatools.entities.LcQuantity at 0x7f7cd43ade10>,\n",
       "  UUID('e98c4987-0c27-4ad8-aa06-568bea573460'): <lcatools.entities.LcFlow at 0x7f7cd18fc860>,\n",
       "  UUID('e9a2bb6b-a111-30db-ba07-232f3da84365'): <lcatools.entities.LcQuantity at 0x7f7cd43adef0>,\n",
       "  UUID('e9bc278f-4d8a-3adf-a5b2-609f5772d0a2'): <lcatools.entities.LcQuantity at 0x7f7cd43adfd0>,\n",
       "  UUID('ea987690-03c3-3409-ba02-658cf80b1267'): <lcatools.entities.LcQuantity at 0x7f7cd43b00f0>,\n",
       "  UUID('eaa6a7a4-0d49-38eb-a8e6-c8f3405a824d'): <lcatools.entities.LcQuantity at 0x7f7cd43b01d0>,\n",
       "  UUID('eacb9ec4-904a-334b-9eb4-efaf3d9922dd'): <lcatools.entities.LcQuantity at 0x7f7cd43b02b0>,\n",
       "  UUID('eb341b31-d448-3c2c-9366-1e92710269a1'): <lcatools.entities.LcQuantity at 0x7f7cd43b0390>,\n",
       "  UUID('eb6b38ef-f81f-3b6d-8724-57948d210281'): <lcatools.entities.LcQuantity at 0x7f7cd43b0470>,\n",
       "  UUID('eb840aa6-2671-37a8-9f72-0c3a724b7eb2'): <lcatools.entities.LcQuantity at 0x7f7cd43b0550>,\n",
       "  UUID('eb955b7c-7bed-401f-9c76-5db716ca3640'): <lcatools.entities.LcQuantity at 0x7f7cd43b0630>,\n",
       "  UUID('ebbed472-bcc1-3480-b1ee-56cb44012e01'): <lcatools.entities.LcQuantity at 0x7f7cd43b0710>,\n",
       "  UUID('ec278b89-cc4e-34ec-a5e8-4e0e99c0c074'): <lcatools.entities.LcQuantity at 0x7f7cd43b07f0>,\n",
       "  UUID('ec4b5a58-03fd-39f5-8986-7b4bea16414a'): <lcatools.entities.LcQuantity at 0x7f7cd43b08d0>,\n",
       "  UUID('edc91d73-8932-3f28-8d99-d5c0e2429102'): <lcatools.entities.LcQuantity at 0x7f7cd43b09b0>,\n",
       "  UUID('edd70a54-ab2f-351b-988c-9576f752397d'): <lcatools.entities.LcQuantity at 0x7f7cd43b0a90>,\n",
       "  UUID('ee232f13-31e9-3725-87c3-165f9e7e320a'): <lcatools.entities.LcQuantity at 0x7f7cd43b0b70>,\n",
       "  UUID('eea436c1-8dad-3788-82db-617b9766ee0a'): <lcatools.entities.LcQuantity at 0x7f7cd43b0c50>,\n",
       "  UUID('eef10c42-6ab2-3c0d-a8a2-75feb1c80cc9'): <lcatools.entities.LcQuantity at 0x7f7cd43b0d30>,\n",
       "  UUID('ef6b954f-fd88-3b1e-898b-788e7830046f'): <lcatools.entities.LcQuantity at 0x7f7cd43b0e10>,\n",
       "  UUID('ef6bf613-9aa5-397c-b74a-fd572655aa2c'): <lcatools.entities.LcQuantity at 0x7f7cd43b0ef0>,\n",
       "  UUID('f07336c1-382b-3d84-8f1f-4d7cccacbd2e'): <lcatools.entities.LcQuantity at 0x7f7cd43b0fd0>,\n",
       "  UUID('f0e9fcef-bb15-38af-a60d-9bae102fb4c5'): <lcatools.entities.LcQuantity at 0x7f7cd43b30f0>,\n",
       "  UUID('f1520c9c-5af2-388b-9714-1db3e5f240cc'): <lcatools.entities.LcQuantity at 0x7f7cd43b31d0>,\n",
       "  UUID('f1d52ec9-30d5-3e4b-932b-914965308a63'): <lcatools.entities.LcQuantity at 0x7f7cd43b32b0>,\n",
       "  UUID('f21d998f-22a6-39b4-a0fb-997c57ef8654'): <lcatools.entities.LcQuantity at 0x7f7cd43b3390>,\n",
       "  UUID('f24e00e5-0389-3c5f-8700-e113007d86c7'): <lcatools.entities.LcQuantity at 0x7f7cd43b3470>,\n",
       "  UUID('f2574ba6-bd71-3d0c-a79a-acd67249a8d1'): <lcatools.entities.LcQuantity at 0x7f7cd43b3550>,\n",
       "  UUID('f2622631-d54b-309c-b441-d1d4fdb65469'): <lcatools.entities.LcQuantity at 0x7f7cd43b3630>,\n",
       "  UUID('f2798394-f7f3-36cb-9a2e-ad72009e77dd'): <lcatools.entities.LcQuantity at 0x7f7cd43b3710>,\n",
       "  UUID('f38771f6-8491-3c83-95e5-36353aa7499a'): <lcatools.entities.LcQuantity at 0x7f7cd43b37f0>,\n",
       "  UUID('f393560e-e7ce-360c-bac5-5eab5a22b0ab'): <lcatools.entities.LcQuantity at 0x7f7cd43b38d0>,\n",
       "  UUID('f450575a-b27c-376a-821c-4490acabacc5'): <lcatools.entities.LcQuantity at 0x7f7cd43b39b0>,\n",
       "  UUID('f48da890-f6f3-38a4-82c0-f80b7a8d42f7'): <lcatools.entities.LcQuantity at 0x7f7cd43b3a90>,\n",
       "  UUID('f4b9822d-dbb1-3c74-ac82-20fef8c0e73d'): <lcatools.entities.LcQuantity at 0x7f7cd43b3b70>,\n",
       "  UUID('f4e312c7-917d-3b65-88a5-e1fcee290aea'): <lcatools.entities.LcQuantity at 0x7f7cd43b3c50>,\n",
       "  UUID('f4ee7890-2ddb-3882-ad3b-64d6e4d783a7'): <lcatools.entities.LcQuantity at 0x7f7cd43b3d30>,\n",
       "  UUID('f4f8f0b5-a0af-33ae-b1cb-ae60a3634699'): <lcatools.entities.LcQuantity at 0x7f7cd43b3e10>,\n",
       "  UUID('f56416c4-d108-34e8-8a1b-75a40fd9073a'): <lcatools.entities.LcQuantity at 0x7f7cd43b3ef0>,\n",
       "  UUID('f58294d3-0dc6-3b2f-afab-b5d69e744e56'): <lcatools.entities.LcQuantity at 0x7f7cd43b3fd0>,\n",
       "  UUID('f5ac4530-2f89-300f-a312-e9f918d28c32'): <lcatools.entities.LcQuantity at 0x7f7cd43b60f0>,\n",
       "  UUID('f6c0024a-9276-3dbe-9f66-715f2ef96790'): <lcatools.entities.LcQuantity at 0x7f7cd43b61d0>,\n",
       "  UUID('f7202328-6590-3b72-a2e3-7f76253e971c'): <lcatools.entities.LcQuantity at 0x7f7cd43b62b0>,\n",
       "  UUID('f8473aa1-2949-32f2-a6fe-b8bb35755cdf'): <lcatools.entities.LcQuantity at 0x7f7cd43b6390>,\n",
       "  UUID('f8802fdf-cf73-3de1-9701-b2eaf731930c'): <lcatools.entities.LcQuantity at 0x7f7cd43b6470>,\n",
       "  UUID('f91853d6-1a02-3501-8c56-5b11b84298df'): <lcatools.entities.LcQuantity at 0x7f7cd43b6550>,\n",
       "  UUID('f98657da-54be-3e29-b945-776472619be1'): <lcatools.entities.LcQuantity at 0x7f7cd43b6630>,\n",
       "  UUID('fa31a1f7-592a-3f64-9636-16391930e513'): <lcatools.entities.LcQuantity at 0x7f7cd43b6710>,\n",
       "  UUID('fa3e6239-f2e3-3f4b-b320-43b3edcd0c5a'): <lcatools.entities.LcQuantity at 0x7f7cd43b67f0>,\n",
       "  UUID('fa4d467e-696b-3fd4-976a-f521ae173563'): <lcatools.entities.LcQuantity at 0x7f7cd43b68d0>,\n",
       "  UUID('faad7539-9de6-3452-b093-37901b7c89c0'): <lcatools.entities.LcQuantity at 0x7f7cd43b69b0>,\n",
       "  UUID('faadd217-0122-3979-9f2f-c00ab0719f91'): <lcatools.entities.LcQuantity at 0x7f7cd43b6a90>,\n",
       "  UUID('fae8c7f7-672a-3df4-8cdc-8e33ae2c31bf'): <lcatools.entities.LcQuantity at 0x7f7cd43b6b70>,\n",
       "  UUID('fb582ff3-8d3b-3e3a-aa59-8d364a76d41b'): <lcatools.entities.LcQuantity at 0x7f7cd43b6c50>,\n",
       "  UUID('fc084051-07a3-3789-927e-bb4b29652763'): <lcatools.entities.LcQuantity at 0x7f7cd43b6d30>,\n",
       "  UUID('fc767880-e1aa-37ee-b417-d27d52f54823'): <lcatools.entities.LcQuantity at 0x7f7cd43b6e10>,\n",
       "  UUID('fce62dd5-b60e-3584-ad57-e625cf9f7c69'): <lcatools.entities.LcQuantity at 0x7f7cd43b6ef0>,\n",
       "  UUID('fcf03c7c-2888-3eea-90f4-ca010c59b04d'): <lcatools.entities.LcQuantity at 0x7f7cd43b6fd0>,\n",
       "  UUID('fd042cd4-1f27-3edf-a173-03c3521a249f'): <lcatools.entities.LcQuantity at 0x7f7cd43b80f0>,\n",
       "  UUID('fd04e48c-6f69-32d2-ba8f-eb40532a7bcf'): <lcatools.entities.LcQuantity at 0x7f7cd43b81d0>,\n",
       "  UUID('fe1db0fb-ae30-3b5f-aa5b-3a546b4a725d'): <lcatools.entities.LcQuantity at 0x7f7cd43b82b0>,\n",
       "  UUID('feafa501-1259-399c-a4f9-993877e410b7'): <lcatools.entities.LcQuantity at 0x7f7cd43b8390>,\n",
       "  UUID('ffaebdd8-202e-3cc9-a5c8-4ac7d1a7e1a5'): <lcatools.entities.LcQuantity at 0x7f7cd43b8470>},\n",
       " '_quiet': True,\n",
       " '_serialize_dict': {'prefix': 'datasets',\n",
       "  'upstreamReference': '/data/LCI/LCIA implementation v3.1 2014_08_13.xlsx'},\n",
       " '_upstream': <lcatools.providers.ecoinvent_lcia.EcoinventLcia at 0x7f7cd5abbf28>,\n",
       " '_upstream_hash': {'Procymidone, soil, agricultural': <lcatools.entities.LcFlow at 0x7f7cd3eecf60>,\n",
       "  'Isopropylamine, water, ground-, long-term': <lcatools.entities.LcFlow at 0x7f7cd44371d0>,\n",
       "  'Acetic acid, trifluoro-, air, low population density, long-term': <lcatools.entities.LcFlow at 0x7f7cd3d23940>,\n",
       "  'Dichromate, water, ocean': <lcatools.entities.LcFlow at 0x7f7cd3bc7ba8>,\n",
       "  'Alachlor, air, non-urban air or from high stacks': <lcatools.entities.LcFlow at 0x7f7cd311e400>,\n",
       "  'Propylene oxide, air, unspecified': <lcatools.entities.LcFlow at 0x7f7cd3a2f7b8>,\n",
       "  'Sylvite, 25 % in sylvinite, in ground, natural resource, in ground': <lcatools.entities.LcFlow at 0x7f7cd31ab588>,\n",
       "  'Silver, soil, unspecified': <lcatools.entities.LcFlow at 0x7f7cd38eeac8>,\n",
       "  'Silver-110, air, urban air close to ground': <lcatools.entities.LcFlow at 0x7f7cd420c588>,\n",
       "  'Ozone, air, urban air close to ground': <lcatools.entities.LcFlow at 0x7f7cd31f19e8>,\n",
       "  'Nitrate, water, surface water': <lcatools.entities.LcFlow at 0x7f7cd38df4e0>,\n",
       "  'Acetaldehyde, water, ocean': <lcatools.entities.LcFlow at 0x7f7cd4e21748>,\n",
       "  'Chlorosilane, trimethyl-, air, lower stratosphere + upper troposphere': <lcatools.entities.LcFlow at 0x7f7cd34357b8>,\n",
       "  'Dimethyl ether, air, low population density, long-term': <lcatools.entities.LcFlow at 0x7f7cd3161eb8>,\n",
       "  'Methane, tetrachloro-, R-10, air, low population density, long-term': <lcatools.entities.LcFlow at 0x7f7cd45c02b0>,\n",
       "  'Curium-242, air, non-urban air or from high stacks': <lcatools.entities.LcFlow at 0x7f7cd3b50780>,\n",
       "  'Strontium-90, water, ground-, long-term': <lcatools.entities.LcFlow at 0x7f7cd4f09208>,\n",
       "  'Hydrogen-3, Tritium, air, unspecified': <lcatools.entities.LcFlow at 0x7f7cd3dc95c0>,\n",
       "  'Thorium, air, unspecified': <lcatools.entities.LcFlow at 0x7f7cd2b605f8>,\n",
       "  'Zinc-65, water, ground-': <lcatools.entities.LcFlow at 0x7f7cd2dc2c50>,\n",
       "  'Nickel, soil, forestry': <lcatools.entities.LcFlow at 0x7f7cd3dd20f0>,\n",
       "  'Furan, air, non-urban air or from high stacks': <lcatools.entities.LcFlow at 0x7f7cd562d908>,\n",
       "  'Barium-140, water, surface water': <lcatools.entities.LcFlow at 0x7f7cd42db710>,\n",
       "  'Cesium-136, water, ocean': <lcatools.entities.LcFlow at 0x7f7cd2fc6240>,\n",
       "  'Ethene, trichloro-, water, ocean': <lcatools.entities.LcFlow at 0x7f7cd288e550>,\n",
       "  'Vanadium, ion, water, unspecified': <lcatools.entities.LcFlow at 0x7f7cd40f7b70>,\n",
       "  'Dichromate, water, ground-': <lcatools.entities.LcFlow at 0x7f7cd43e9780>,\n",
       "  'Cobalt-58, water, unspecified': <lcatools.entities.LcFlow at 0x7f7cd356c588>,\n",
       "  'Cobalt-57, air, non-urban air or from high stacks': <lcatools.entities.LcFlow at 0x7f7cd376d7f0>,\n",
       "  'Sodium-24, water, ocean': <lcatools.entities.LcFlow at 0x7f7cd422c7f0>,\n",
       "  'Acenaphthene, air, low population density, long-term': <lcatools.entities.LcFlow at 0x7f7cd512aba8>,\n",
       "  'Iodine-133, water, unspecified': <lcatools.entities.LcFlow at 0x7f7cd31d8390>,\n",
       "  'Ethene, chloro-, air, lower stratosphere + upper troposphere': <lcatools.entities.LcFlow at 0x7f7cd41ab6a0>,\n",
       "  'Occupation, permanent crop, non-irrigated, extensive, natural resource, land': <lcatools.entities.LcFlow at 0x7f7cd3af8eb8>,\n",
       "  'Hydrocarbons, aromatic, water, unspecified': <lcatools.entities.LcFlow at 0x7f7cd401f2e8>,\n",
       "  'Benzene, hexachloro-, air, non-urban air or from high stacks': <lcatools.entities.LcFlow at 0x7f7cd4458a90>,\n",
       "  'Uranium-234, air, urban air close to ground': <lcatools.entities.LcFlow at 0x7f7cd2ab1518>,\n",
       "  'Occupation, lake, artificial, natural resource, land': <lcatools.entities.LcFlow at 0x7f7cd3aa4358>,\n",
       "  'Benzene, ethyl-, air, unspecified': <lcatools.entities.LcFlow at 0x7f7cd475bef0>,\n",
       "  'Antimony-122, water, unspecified': <lcatools.entities.LcFlow at 0x7f7cd36d3128>,\n",
       "  'Tantalum, 81.9% in tantalite, 1.6E-4% in crude ore, in ground, natural resource, in ground': <lcatools.entities.LcFlow at 0x7f7cd4c53630>,\n",
       "  'Nickel, ion, water, surface water': <lcatools.entities.LcFlow at 0x7f7cd45ab860>,\n",
       "  'Iodine-133, air, low population density, long-term': <lcatools.entities.LcFlow at 0x7f7cd399f6a0>,\n",
       "  'Ethane, 1,2-dichloro-1,1,2,2-tetrafluoro-, CFC-114, air, lower stratosphere + upper troposphere': <lcatools.entities.LcFlow at 0x7f7cd3aa4518>,\n",
       "  'Nickel, air, lower stratosphere + upper troposphere': <lcatools.entities.LcFlow at 0x7f7cd430f0f0>,\n",
       "  'Diethylamine, air, unspecified': <lcatools.entities.LcFlow at 0x7f7cd364e9b0>,\n",
       "  'Methyl acrylate, water, surface water': <lcatools.entities.LcFlow at 0x7f7cd3bce4e0>,\n",
       "  'Silver-110, water, unspecified': <lcatools.entities.LcFlow at 0x7f7cd36f1748>,\n",
       "  'Xenon-131m, air, lower stratosphere + upper troposphere': <lcatools.entities.LcFlow at 0x7f7cd3066748>,\n",
       "  '1,4-Butanediol, water, surface water': <lcatools.entities.LcFlow at 0x7f7cd31915f8>,\n",
       "  'Propanol, air, low population density, long-term': <lcatools.entities.LcFlow at 0x7f7cd4458160>,\n",
       "  'Bentazone, air, non-urban air or from high stacks': <lcatools.entities.LcFlow at 0x7f7cd3fd5710>,\n",
       "  'Actinides, radioactive, unspecified, water, ground-, long-term': <lcatools.entities.LcFlow at 0x7f7cd3066908>,\n",
       "  'Strontium, water, ground-': <lcatools.entities.LcFlow at 0x7f7cd4338f98>,\n",
       "  '1,4-Butanediol, air, unspecified': <lcatools.entities.LcFlow at 0x7f7cd22dcb38>,\n",
       "  'Carbon monoxide, non-fossil, air, non-urban air or from high stacks': <lcatools.entities.LcFlow at 0x7f7cd34790b8>,\n",
       "  'Titanium, soil, agricultural': <lcatools.entities.LcFlow at 0x7f7cd3f18710>,\n",
       "  'Chromium VI, soil, industrial': <lcatools.entities.LcFlow at 0x7f7cd3b32e80>,\n",
       "  'Methane, bromotrifluoro-, Halon 1301, air, unspecified': <lcatools.entities.LcFlow at 0x7f7cd22b49b0>,\n",
       "  'Transformation, from traffic area, rail network, natural resource, land': <lcatools.entities.LcFlow at 0x7f7cd3999e80>,\n",
       "  'Silver, ion, water, surface water': <lcatools.entities.LcFlow at 0x7f7cd34fa4e0>,\n",
       "  'Dicamba, soil, agricultural': <lcatools.entities.LcFlow at 0x7f7cd4faf908>,\n",
       "  'Barium, air, non-urban air or from high stacks': <lcatools.entities.LcFlow at 0x7f7cd4059668>,\n",
       "  'Chromium, ion, water, ground-': <lcatools.entities.LcFlow at 0x7f7cd411d940>,\n",
       "  'Cyanide, water, ground-': <lcatools.entities.LcFlow at 0x7f7cd501a400>,\n",
       "  'Formaldehyde, water, unspecified': <lcatools.entities.LcFlow at 0x7f7cd3acfe10>,\n",
       "  'Aniline, water, surface water': <lcatools.entities.LcFlow at 0x7f7cd32fd978>,\n",
       "  'Radioactive species, other beta emitters, air, unspecified': <lcatools.entities.LcFlow at 0x7f7cd3a35e80>,\n",
       "  'Methane, dichlorodifluoro-, CFC-12, air, low population density, long-term': <lcatools.entities.LcFlow at 0x7f7cd2c970b8>,\n",
       "  'Barite, water, unspecified': <lcatools.entities.LcFlow at 0x7f7cd2ce27f0>,\n",
       "  'Volume occupied, final repository for low-active radioactive waste, natural resource, in ground': <lcatools.entities.LcFlow at 0x7f7cd2561c50>,\n",
       "  'Methane, bromotrifluoro-, Halon 1301, air, urban air close to ground': <lcatools.entities.LcFlow at 0x7f7cd5556dd8>,\n",
       "  'Occupation, arable, conventional tillage (obsolete), natural resource, land': <lcatools.entities.LcFlow at 0x7f7cd39b9a58>,\n",
       "  'Technetium-99, water, ground-, long-term': <lcatools.entities.LcFlow at 0x7f7cd3e77f98>,\n",
       "  'Cobalt-58, water, ground-': <lcatools.entities.LcFlow at 0x7f7cd5392d68>,\n",
       "  'Formamide, water, unspecified': <lcatools.entities.LcFlow at 0x7f7cd3ef1a20>,\n",
       "  'Dimethyl malonate, air, urban air close to ground': <lcatools.entities.LcFlow at 0x7f7cd388ee10>,\n",
       "  'Hydrogen-3, Tritium, water, surface water': <lcatools.entities.LcFlow at 0x7f7cd4238fd0>,\n",
       "  'Ammonium carbonate, air, non-urban air or from high stacks': <lcatools.entities.LcFlow at 0x7f7cd33e2438>,\n",
       "  'Americium-241, air, low population density, long-term': <lcatools.entities.LcFlow at 0x7f7cd550c898>,\n",
       "  'Phosphorus, water, surface water': <lcatools.entities.LcFlow at 0x7f7cd2ddbe80>,\n",
       "  'Chlorosilane, trimethyl-, air, unspecified': <lcatools.entities.LcFlow at 0x7f7cd2b78b00>,\n",
       "  'Transformation, from forest, intensive, natural resource, land': <lcatools.entities.LcFlow at 0x7f7cd27a76a0>,\n",
       "  'Silver, soil, forestry': <lcatools.entities.LcFlow at 0x7f7cd516f0f0>,\n",
       "  'Nitrogen, organic bound, water, unspecified': <lcatools.entities.LcFlow at 0x7f7cd3e3d518>,\n",
       "  'Plutonium-alpha, water, surface water': <lcatools.entities.LcFlow at 0x7f7cd4ea65c0>,\n",
       "  'm-Xylene, water, unspecified': <lcatools.entities.LcFlow at 0x7f7cd21746d8>,\n",
       "  'Tebuconazole, soil, agricultural': <lcatools.entities.LcFlow at 0x7f7cd35737b8>,\n",
       "  'Occupation, forest, unspecified, natural resource, land': <lcatools.entities.LcFlow at 0x7f7cd4f800b8>,\n",
       "  'Ethane, 1,1,2-trichloro-1,2,2-trifluoro-, CFC-113, air, non-urban air or from high stacks': <lcatools.entities.LcFlow at 0x7f7cd3a0bdd8>,\n",
       "  'AOX, Adsorbable Organic Halogen as Cl, water, ocean': <lcatools.entities.LcFlow at 0x7f7cd4f09080>,\n",
       "  'Lead-210, air, urban air close to ground': <lcatools.entities.LcFlow at 0x7f7cd3ed04e0>,\n",
       "  'Ethane, 1,1,2-trichloro-1,2,2-trifluoro-, CFC-113, air, urban air close to ground': <lcatools.entities.LcFlow at 0x7f7cd36be278>,\n",
       "  'Ethane, 1,1,1-trichloro-, HCFC-140, water, surface water': <lcatools.entities.LcFlow at 0x7f7cd364efd0>,\n",
       "  'Plutonium-238, air, low population density, long-term': <lcatools.entities.LcFlow at 0x7f7cd3bd0c88>,\n",
       "  'Oils, non-fossil, soil, forestry': <lcatools.entities.LcFlow at 0x7f7cd31d8470>,\n",
       "  'Americium-241, air, unspecified': <lcatools.entities.LcFlow at 0x7f7cd3bceef0>,\n",
       "  'Aerosols, radioactive, unspecified, air, lower stratosphere + upper troposphere': <lcatools.entities.LcFlow at 0x7f7cd2fc1eb8>,\n",
       "  'Cadmium, air, unspecified': <lcatools.entities.LcFlow at 0x7f7cd4117278>,\n",
       "  'Sulfate, air, non-urban air or from high stacks': <lcatools.entities.LcFlow at 0x7f7cd43b8ef0>,\n",
       "  'Xenon-133m, air, lower stratosphere + upper troposphere': <lcatools.entities.LcFlow at 0x7f7cd4eb4dd8>,\n",
       "  'Thorium-232, air, unspecified': <lcatools.entities.LcFlow at 0x7f7cd5756c50>,\n",
       "  'Hydrocarbons, aliphatic, alkanes, unspecified, air, lower stratosphere + upper troposphere': <lcatools.entities.LcFlow at 0x7f7cd270f908>,\n",
       "  'Acetone, water, ground-, long-term': <lcatools.entities.LcFlow at 0x7f7cd35a7438>,\n",
       "  'Phthalate, dioctyl-, water, unspecified': <lcatools.entities.LcFlow at 0x7f7cd3d58dd8>,\n",
       "  'Cobalt-57, water, unspecified': <lcatools.entities.LcFlow at 0x7f7cd2a525c0>,\n",
       "  'Technetium-99, air, low population density, long-term': <lcatools.entities.LcFlow at 0x7f7cd377a320>,\n",
       "  'Methane, dichloro-, HCC-30, air, low population density, long-term': <lcatools.entities.LcFlow at 0x7f7cd32c25f8>,\n",
       "  'Ethofumesate, soil, agricultural': <lcatools.entities.LcFlow at 0x7f7cd44364e0>,\n",
       "  'Aluminium, soil, unspecified': <lcatools.entities.LcFlow at 0x7f7cd28a66d8>,\n",
       "  'Acetone, air, low population density, long-term': <lcatools.entities.LcFlow at 0x7f7cd2e6feb8>,\n",
       "  'Diethylamine, air, urban air close to ground': <lcatools.entities.LcFlow at 0x7f7cd38ff7b8>,\n",
       "  'Cyproconazole, soil, agricultural': <lcatools.entities.LcFlow at 0x7f7cd2b70128>,\n",
       "  'Trichlorfon, soil, agricultural': <lcatools.entities.LcFlow at 0x7f7cd3ca5b00>,\n",
       "  'Nickel, 1.98% in silicates, 1.04% in crude ore, in ground, natural resource, in ground': <lcatools.entities.LcFlow at 0x7f7cd27c1fd0>,\n",
       "  'Krypton-89, air, lower stratosphere + upper troposphere': <lcatools.entities.LcFlow at 0x7f7cd23cd2e8>,\n",
       "  'Nitrogen, organic bound, water, ground-': <lcatools.entities.LcFlow at 0x7f7cd3472588>,\n",
       "  'Nitrogen fluoride, air, urban air close to ground': <lcatools.entities.LcFlow at 0x7f7cd40d86d8>,\n",
       "  'Manganese, soil, agricultural': <lcatools.entities.LcFlow at 0x7f7cd3651c18>,\n",
       "  'Krypton-87, air, unspecified': <lcatools.entities.LcFlow at 0x7f7cd36e79e8>,\n",
       "  'Occupation, permanent crop, non-irrigated, intensive, natural resource, land': <lcatools.entities.LcFlow at 0x7f7cd2b60f98>,\n",
       "  'Triadimenol, soil, agricultural': <lcatools.entities.LcFlow at 0x7f7cd3902dd8>,\n",
       "  'Butane, air, unspecified': <lcatools.entities.LcFlow at 0x7f7cd45b99b0>,\n",
       "  'Prochloraz, soil, agricultural': <lcatools.entities.LcFlow at 0x7f7cd36a9978>,\n",
       "  'Transformation, from grassland, natural (non-use), natural resource, land': <lcatools.entities.LcFlow at 0x7f7cd340f630>,\n",
       "  'Methamidophos, soil, agricultural': <lcatools.entities.LcFlow at 0x7f7cd47a2160>,\n",
       "  'Quizalofop-p-ethyl, soil, agricultural': <lcatools.entities.LcFlow at 0x7f7cd38cf400>,\n",
       "  'Ethane, pentafluoro-, HFC-125, air, non-urban air or from high stacks': <lcatools.entities.LcFlow at 0x7f7cd3808c50>,\n",
       "  't-Butyl methyl ether, water, surface water': <lcatools.entities.LcFlow at 0x7f7cd396fba8>,\n",
       "  'Zinc-65, water, surface water': <lcatools.entities.LcFlow at 0x7f7cd4a70940>,\n",
       "  'Methoxyfenozide, soil, agricultural': <lcatools.entities.LcFlow at 0x7f7cd393b9b0>,\n",
       "  'Pronamide, soil, agricultural': <lcatools.entities.LcFlow at 0x7f7cd527fe48>,\n",
       "  'Propamocarb HCl, soil, agricultural': <lcatools.entities.LcFlow at 0x7f7cd33abcc0>,\n",
       "  'Copper, ion, water, ground-, long-term': <lcatools.entities.LcFlow at 0x7f7cd50120b8>,\n",
       "  'Ethyl acetate, water, ground-': <lcatools.entities.LcFlow at 0x7f7cd220dc18>,\n",
       "  'Methane, fossil, air, urban air close to ground': <lcatools.entities.LcFlow at 0x7f7cd3b5f1d0>,\n",
       "  'Heat, waste, soil, industrial': <lcatools.entities.LcFlow at 0x7f7cd3ca5550>,\n",
       "  'Chromium-51, air, non-urban air or from high stacks': <lcatools.entities.LcFlow at 0x7f7cd32976d8>,\n",
       "  'Disulfoton, soil, agricultural': <lcatools.entities.LcFlow at 0x7f7cd42e9be0>,\n",
       "  'o-Xylene, air, lower stratosphere + upper troposphere': <lcatools.entities.LcFlow at 0x7f7cd3892080>,\n",
       "  'Dimethylamine, air, low population density, long-term': <lcatools.entities.LcFlow at 0x7f7cd39557b8>,\n",
       "  'Cyanide, air, unspecified': <lcatools.entities.LcFlow at 0x7f7cd31caa58>,\n",
       "  'Xylene, water, unspecified': <lcatools.entities.LcFlow at 0x7f7cd4377ef0>,\n",
       "  'Cyanoacetic acid, air, urban air close to ground': <lcatools.entities.LcFlow at 0x7f7cd37266a0>,\n",
       "  'Ruthenium-106, air, low population density, long-term': <lcatools.entities.LcFlow at 0x7f7cd3b04198>,\n",
       "  'Lead, air, non-urban air or from high stacks': <lcatools.entities.LcFlow at 0x7f7cd4016d68>,\n",
       "  'Butyrolactone, water, ocean': <lcatools.entities.LcFlow at 0x7f7cd3a9e5f8>,\n",
       "  'Titanium, air, lower stratosphere + upper troposphere': <lcatools.entities.LcFlow at 0x7f7cd3ed8080>,\n",
       "  'Methane, monochloro-, R-40, air, unspecified': <lcatools.entities.LcFlow at 0x7f7cd3e93d68>,\n",
       "  'Krypton-89, air, unspecified': <lcatools.entities.LcFlow at 0x7f7cd27c1e10>,\n",
       "  'Antimony, water, ocean': <lcatools.entities.LcFlow at 0x7f7cd3abc710>,\n",
       "  'Potassium-40, air, low population density, long-term': <lcatools.entities.LcFlow at 0x7f7cd3b50860>,\n",
       "  'Xylene, water, ocean': <lcatools.entities.LcFlow at 0x7f7cd4a8d4e0>,\n",
       "  'Hydrogen sulfide, air, low population density, long-term': <lcatools.entities.LcFlow at 0x7f7cd442beb8>,\n",
       "  'Propanal, air, non-urban air or from high stacks': <lcatools.entities.LcFlow at 0x7f7cd36dda90>,\n",
       "  'Krypton, in air, natural resource, in air': <lcatools.entities.LcFlow at 0x7f7cd3d56e48>,\n",
       "  '1-Pentanol, air, non-urban air or from high stacks': <lcatools.entities.LcFlow at 0x7f7cd307ad68>,\n",
       "  'Curium-242, air, unspecified': <lcatools.entities.LcFlow at 0x7f7cd3b32da0>,\n",
       "  'Transformation, to wetland, coastal (non-use), natural resource, land': <lcatools.entities.LcFlow at 0x7f7cd3220d68>,\n",
       "  'Pd, Pd 2.0E-4%, Pt 4.8E-4%, Rh 2.4E-5%, Ni 3.7E-2%, Cu 5.2E-2% in ore, in ground, natural resource, in ground': <lcatools.entities.LcFlow at 0x7f7cd3d3a978>,\n",
       "  'Imazethapyr, air, non-urban air or from high stacks': <lcatools.entities.LcFlow at 0x7f7cd3accda0>,\n",
       "  'Barium, air, unspecified': <lcatools.entities.LcFlow at 0x7f7cd48b8240>,\n",
       "  'Ethyl acetate, water, surface water': <lcatools.entities.LcFlow at 0x7f7cd263c0f0>,\n",
       "  'Molybdenum, water, ocean': <lcatools.entities.LcFlow at 0x7f7cd41fa438>,\n",
       "  'Lactic acid, air, lower stratosphere + upper troposphere': <lcatools.entities.LcFlow at 0x7f7cd303e400>,\n",
       "  'Methyl acetate, water, ocean': <lcatools.entities.LcFlow at 0x7f7cd2de8278>,\n",
       "  'Occupation, annual crop, flooded crop, natural resource, land': <lcatools.entities.LcFlow at 0x7f7cd3f570f0>,\n",
       "  'Iodine, air, low population density, long-term': <lcatools.entities.LcFlow at 0x7f7cd2ae64a8>,\n",
       "  'Ethylamine, water, surface water': <lcatools.entities.LcFlow at 0x7f7cd3fb58d0>,\n",
       "  'Uranium-238, water, ground-': <lcatools.entities.LcFlow at 0x7f7cd5589278>,\n",
       "  'Ethene, trichloro-, water, unspecified': <lcatools.entities.LcFlow at 0x7f7cd4b6c630>,\n",
       "  'Dichromate, water, unspecified': <lcatools.entities.LcFlow at 0x7f7cd508a5c0>,\n",
       "  'Formaldehyde, water, surface water': <lcatools.entities.LcFlow at 0x7f7cd4140eb8>,\n",
       "  'Azoxystrobin, air, non-urban air or from high stacks': <lcatools.entities.LcFlow at 0x7f7cd428d828>,\n",
       "  'Uranium-235, water, ground-': <lcatools.entities.LcFlow at 0x7f7cd4ff53c8>,\n",
       "  'Methane, monochloro-, R-40, air, low population density, long-term': <lcatools.entities.LcFlow at 0x7f7cd25f59b0>,\n",
       "  'Zinc, air, non-urban air or from high stacks': <lcatools.entities.LcFlow at 0x7f7cd2e4f8d0>,\n",
       "  'Methyl acrylate, water, ground-': <lcatools.entities.LcFlow at 0x7f7cd485c668>,\n",
       "  'Mercury, soil, forestry': <lcatools.entities.LcFlow at 0x7f7cd37c0be0>,\n",
       "  'Styrene, water, ground-': <lcatools.entities.LcFlow at 0x7f7cd3444da0>,\n",
       "  'Ethane, 1,1,1-trichloro-, HCFC-140, air, lower stratosphere + upper troposphere': <lcatools.entities.LcFlow at 0x7f7cd35f5208>,\n",
       "  'Diflubenzuron, air, non-urban air or from high stacks': <lcatools.entities.LcFlow at 0x7f7cd2c831d0>,\n",
       "  'Phosphorus, water, ocean': <lcatools.entities.LcFlow at 0x7f7cd3b262b0>,\n",
       "  'Fluorochloridone, soil, agricultural': <lcatools.entities.LcFlow at 0x7f7cd32e7390>,\n",
       "  'Trimethylamine, air, lower stratosphere + upper troposphere': <lcatools.entities.LcFlow at 0x7f7cd3af7358>,\n",
       "  'Ethane, 2,2-dichloro-1,1,1-trifluoro-, HCFC-123, air, unspecified': <lcatools.entities.LcFlow at 0x7f7cd4242cc0>,\n",
       "  'Deltamethrin, soil, agricultural': <lcatools.entities.LcFlow at 0x7f7cd402b940>,\n",
       "  'Carbon dioxide, fossil, air, lower stratosphere + upper troposphere': <lcatools.entities.LcFlow at 0x7f7cd5589c50>,\n",
       "  'Tebufenozide, soil, agricultural': <lcatools.entities.LcFlow at 0x7f7cd4577fd0>,\n",
       "  'Phosphate, water, surface water': <lcatools.entities.LcFlow at 0x7f7cd4190278>,\n",
       "  'Zirconium-95, water, ground-': <lcatools.entities.LcFlow at 0x7f7cd3f0af98>,\n",
       "  'Fluroxypyr, soil, agricultural': <lcatools.entities.LcFlow at 0x7f7cd40f7780>,\n",
       "  'Trimethylamine, air, urban air close to ground': <lcatools.entities.LcFlow at 0x7f7cd51790b8>,\n",
       "  'Methane, bromotrifluoro-, Halon 1301, air, low population density, long-term': <lcatools.entities.LcFlow at 0x7f7cd3b04278>,\n",
       "  'Zinc-65, water, ground-, long-term': <lcatools.entities.LcFlow at 0x7f7cd308eef0>,\n",
       "  'Carbon disulfide, air, non-urban air or from high stacks': <lcatools.entities.LcFlow at 0x7f7cd41ec7f0>,\n",
       "  'Ethylene diamine, water, unspecified': <lcatools.entities.LcFlow at 0x7f7cd4338400>,\n",
       "  'Iodine-131, air, non-urban air or from high stacks': <lcatools.entities.LcFlow at 0x7f7cd5834cc0>,\n",
       "  'Ethene, tetrachloro-, air, low population density, long-term': <lcatools.entities.LcFlow at 0x7f7cd3cf0b00>,\n",
       "  'Krypton-87, air, non-urban air or from high stacks': <lcatools.entities.LcFlow at 0x7f7cd33087f0>,\n",
       "  'Aniline, air, low population density, long-term': <lcatools.entities.LcFlow at 0x7f7cd3e842e8>,\n",
       "  'Styrene, water, ocean': <lcatools.entities.LcFlow at 0x7f7cd5469828>,\n",
       "  'Heptane, air, non-urban air or from high stacks': <lcatools.entities.LcFlow at 0x7f7cd348ab00>,\n",
       "  '1-Pentanol, air, unspecified': <lcatools.entities.LcFlow at 0x7f7cd320c240>,\n",
       "  'Cadmium-109, water, ground-, long-term': <lcatools.entities.LcFlow at 0x7f7cd28b9c50>,\n",
       "  'Methyl acetate, water, surface water': <lcatools.entities.LcFlow at 0x7f7cd36893c8>,\n",
       "  'Hydrocarbons, aromatic, water, ocean': <lcatools.entities.LcFlow at 0x7f7cd3aea550>,\n",
       "  'Iodine-135, air, urban air close to ground': <lcatools.entities.LcFlow at 0x7f7cd3854278>,\n",
       "  'Hydrazine, water, surface water': <lcatools.entities.LcFlow at 0x7f7cd21b6e48>,\n",
       "  'Ethane, 1,2-dichloro-, air, non-urban air or from high stacks': <lcatools.entities.LcFlow at 0x7f7cd4769358>,\n",
       "  'Neptunium-237, water, ground-, long-term': <lcatools.entities.LcFlow at 0x7f7cd3475c50>,\n",
       "  'Manganese, air, low population density, long-term': <lcatools.entities.LcFlow at 0x7f7cd4302ac8>,\n",
       "  'Thorium-232, air, non-urban air or from high stacks': <lcatools.entities.LcFlow at 0x7f7cd3ccb5c0>,\n",
       "  'Tralkoxydim, soil, agricultural': <lcatools.entities.LcFlow at 0x7f7cd34c8358>,\n",
       "  'Transformation, to forest, unspecified, natural resource, land': <lcatools.entities.LcFlow at 0x7f7cd2cb9ef0>,\n",
       "  'Hydrocarbons, aromatic, water, ground-, long-term': <lcatools.entities.LcFlow at 0x7f7cd319a978>,\n",
       "  'Xenon-137, air, non-urban air or from high stacks': <lcatools.entities.LcFlow at 0x7f7cd43b8e10>,\n",
       "  'Nitrate, air, unspecified': <lcatools.entities.LcFlow at 0x7f7cd3bb8f60>,\n",
       "  'Radon-222, air, urban air close to ground': <lcatools.entities.LcFlow at 0x7f7cd4a70be0>,\n",
       "  'Atrazine, air, non-urban air or from high stacks': <lcatools.entities.LcFlow at 0x7f7cd2be3438>,\n",
       "  'Propanal, water, surface water': <lcatools.entities.LcFlow at 0x7f7cd262af28>,\n",
       "  'PAH, polycyclic aromatic hydrocarbons, water, ground-': <lcatools.entities.LcFlow at 0x7f7cd528fd68>,\n",
       "  'Dimethyl ether, air, urban air close to ground': <lcatools.entities.LcFlow at 0x7f7cd50cc128>,\n",
       "  'Imazapyr, soil, agricultural': <lcatools.entities.LcFlow at 0x7f7cd2f22390>,\n",
       "  'Carbon disulfide, air, unspecified': <lcatools.entities.LcFlow at 0x7f7cd2970ba8>,\n",
       "  'Lead, air, low population density, long-term': <lcatools.entities.LcFlow at 0x7f7cd36282b0>,\n",
       "  'Strontium, air, low population density, long-term': <lcatools.entities.LcFlow at 0x7f7cd2e69dd8>,\n",
       "  'Toluene, air, low population density, long-term': <lcatools.entities.LcFlow at 0x7f7cd39f1198>,\n",
       "  'Epichlorohydrin, air, lower stratosphere + upper troposphere': <lcatools.entities.LcFlow at 0x7f7cd21c0f60>,\n",
       "  'Carbon monoxide, from soil or biomass stock, air, indoor': <lcatools.entities.LcFlow at 0x7f7cd5776a90>,\n",
       "  'Benzene, ethyl-, air, lower stratosphere + upper troposphere': <lcatools.entities.LcFlow at 0x7f7cd52a5400>,\n",
       "  'Carbon disulfide, water, surface water': <lcatools.entities.LcFlow at 0x7f7cd44e4f28>,\n",
       "  'Transformation, to dump site, sanitary landfill, natural resource, land': <lcatools.entities.LcFlow at 0x7f7cd550c978>,\n",
       "  'Methyl amine, air, unspecified': <lcatools.entities.LcFlow at 0x7f7cd3599860>,\n",
       "  'Ethylene glycol monoethyl ether, air, unspecified': <lcatools.entities.LcFlow at 0x7f7cd29a3dd8>,\n",
       "  'Lead, air, lower stratosphere + upper troposphere': <lcatools.entities.LcFlow at 0x7f7cd21e05f8>,\n",
       "  'Transformation, to dump site, residual material landfill, natural resource, land': <lcatools.entities.LcFlow at 0x7f7cd375d160>,\n",
       "  'Barium-140, water, unspecified': <lcatools.entities.LcFlow at 0x7f7cd3cb6f98>,\n",
       "  'Methane, monochloro-, R-40, air, non-urban air or from high stacks': <lcatools.entities.LcFlow at 0x7f7cd269f6a0>,\n",
       "  'Butyrolactone, air, unspecified': <lcatools.entities.LcFlow at 0x7f7cd286b320>,\n",
       "  'Thorium-230, air, lower stratosphere + upper troposphere': <lcatools.entities.LcFlow at 0x7f7cd5580390>,\n",
       "  'Manganese, air, non-urban air or from high stacks': <lcatools.entities.LcFlow at 0x7f7cd4055438>,\n",
       "  'Formic acid, air, unspecified': <lcatools.entities.LcFlow at 0x7f7cd3a70fd0>,\n",
       "  'Cobalt, air, urban air close to ground': <lcatools.entities.LcFlow at 0x7f7cd32f6358>,\n",
       "  'Ruthenium-103, air, urban air close to ground': <lcatools.entities.LcFlow at 0x7f7cd38dbc18>,\n",
       "  'Ruthenium-103, water, ground-': <lcatools.entities.LcFlow at 0x7f7cd33be908>,\n",
       "  'Curium alpha, air, non-urban air or from high stacks': <lcatools.entities.LcFlow at 0x7f7cd5511160>,\n",
       "  'Protactinium-234, water, ground-': <lcatools.entities.LcFlow at 0x7f7cd46fe2b0>,\n",
       "  'Benzaldehyde, air, non-urban air or from high stacks': <lcatools.entities.LcFlow at 0x7f7cd4025908>,\n",
       "  'Yttrium-90, water, ground-': <lcatools.entities.LcFlow at 0x7f7cd2b60860>,\n",
       "  'PAH, polycyclic aromatic hydrocarbons, air, urban air close to ground': <lcatools.entities.LcFlow at 0x7f7cd4501a20>,\n",
       "  'Mancozeb, soil, agricultural': <lcatools.entities.LcFlow at 0x7f7cd4e51390>,\n",
       "  'Actinides, radioactive, unspecified, air, urban air close to ground': <lcatools.entities.LcFlow at 0x7f7cd3d7a278>,\n",
       "  'Transformation, from pasture, man made, intensive, natural resource, land': <lcatools.entities.LcFlow at 0x7f7cd3c42748>,\n",
       "  'Methyl formate, air, lower stratosphere + upper troposphere': <lcatools.entities.LcFlow at 0x7f7cd3c49e10>,\n",
       "  'Ethene, water, unspecified': <lcatools.entities.LcFlow at 0x7f7cd37383c8>,\n",
       "  'Barium, soil, unspecified': <lcatools.entities.LcFlow at 0x7f7cd4571dd8>,\n",
       "  'Lenacil, soil, agricultural': <lcatools.entities.LcFlow at 0x7f7cd3a5a518>,\n",
       "  'Pt, Pt 2.5E-4%, Pd 7.3E-4%, Rh 2.0E-5%, Ni 2.3E+0%, Cu 3.2E+0% in ore, in ground, natural resource, in ground': <lcatools.entities.LcFlow at 0x7f7cd3f85940>,\n",
       "  'Plutonium-alpha, water, ground-, long-term': <lcatools.entities.LcFlow at 0x7f7cd5226320>,\n",
       "  'Americium-241, water, ocean': <lcatools.entities.LcFlow at 0x7f7cd53389e8>,\n",
       "  'Carbon dioxide, from soil or biomass stock, air, unspecified': <lcatools.entities.LcFlow at 0x7f7cd30b15f8>,\n",
       "  'Carbon-14, air, non-urban air or from high stacks': <lcatools.entities.LcFlow at 0x7f7cd41c3fd0>,\n",
       "  'Transformation, from shrub land, sclerophyllous, natural resource, land': <lcatools.entities.LcFlow at 0x7f7cd55a4e10>,\n",
       "  'Oils, non-fossil, soil, industrial': <lcatools.entities.LcFlow at 0x7f7cd33ece10>,\n",
       "  'Ethyl acetate, air, unspecified': <lcatools.entities.LcFlow at 0x7f7cd33eff60>,\n",
       "  'Bromine, soil, agricultural': <lcatools.entities.LcFlow at 0x7f7cd5425ef0>,\n",
       "  'Styrene, air, low population density, long-term': <lcatools.entities.LcFlow at 0x7f7cd3ee4518>,\n",
       "  'Anthranilic acid, air, non-urban air or from high stacks': <lcatools.entities.LcFlow at 0x7f7cd22be9b0>,\n",
       "  '2-Propanol, water, surface water': <lcatools.entities.LcFlow at 0x7f7cd32928d0>,\n",
       "  '4-Methyl-2-pentanone, air, non-urban air or from high stacks': <lcatools.entities.LcFlow at 0x7f7cd4ac6518>,\n",
       "  'Transformation, from industrial area, natural resource, land': <lcatools.entities.LcFlow at 0x7f7cd3473898>,\n",
       "  'Xenon-131m, air, low population density, long-term': <lcatools.entities.LcFlow at 0x7f7cd3e3f5f8>,\n",
       "  'Beryllium, water, ground-, long-term': <lcatools.entities.LcFlow at 0x7f7cd54060f0>,\n",
       "  'Butyrolactone, air, low population density, long-term': <lcatools.entities.LcFlow at 0x7f7cd3b50940>,\n",
       "  'Lead, air, urban air close to ground': <lcatools.entities.LcFlow at 0x7f7cd4b14e10>,\n",
       "  'Krypton-89, air, low population density, long-term': <lcatools.entities.LcFlow at 0x7f7cd4869f98>,\n",
       "  'Beryllium, air, low population density, long-term': <lcatools.entities.LcFlow at 0x7f7cd3c5de48>,\n",
       "  'Phosphorus, water, unspecified': <lcatools.entities.LcFlow at 0x7f7cd3fa2ac8>,\n",
       "  'Propylamine, water, ground-': <lcatools.entities.LcFlow at 0x7f7cd5776978>,\n",
       "  'Benzene, pentachloro-, air, urban air close to ground': <lcatools.entities.LcFlow at 0x7f7cd3325f60>,\n",
       "  'Xenon-131m, air, urban air close to ground': <lcatools.entities.LcFlow at 0x7f7cd34957f0>,\n",
       "  'Ni, Ni 3.7E-2%, Pt 4.8E-4%, Pd 2.0E-4%, Rh 2.4E-5%, Cu 5.2E-2% in ore, in ground, natural resource, in ground': <lcatools.entities.LcFlow at 0x7f7cd217b2e8>,\n",
       "  'Antimony-125, air, low population density, long-term': <lcatools.entities.LcFlow at 0x7f7cd34959b0>,\n",
       "  'Nitrogen oxides, air, unspecified': <lcatools.entities.LcFlow at 0x7f7cd33ad668>,\n",
       "  'Methyl amine, air, low population density, long-term': <lcatools.entities.LcFlow at 0x7f7cd3e3dd68>,\n",
       "  'Hydrocarbons, aliphatic, alkanes, unspecified, air, non-urban air or from high stacks': <lcatools.entities.LcFlow at 0x7f7cd419c0b8>,\n",
       "  'Occupation, grassland, natural, for livestock grazing, natural resource, land': <lcatools.entities.LcFlow at 0x7f7cd2f07c50>,\n",
       "  'Methane, tetrachloro-, R-10, air, urban air close to ground': <lcatools.entities.LcFlow at 0x7f7cd3c05278>,\n",
       "  'Thallium, air, low population density, long-term': <lcatools.entities.LcFlow at 0x7f7cd4f8cf60>,\n",
       "  'Ethane, 1-chloro-1,1-difluoro-, HCFC-142b, air, unspecified': <lcatools.entities.LcFlow at 0x7f7cd4489470>,\n",
       "  'Butyrolactone, air, non-urban air or from high stacks': <lcatools.entities.LcFlow at 0x7f7cd5087e80>,\n",
       "  'Toluene, 2-chloro, air, unspecified': <lcatools.entities.LcFlow at 0x7f7cd3388198>,\n",
       "  't-Butyl methyl ether, water, ocean': <lcatools.entities.LcFlow at 0x7f7cd2bcb668>,\n",
       "  'Butyrolactone, water, surface water': <lcatools.entities.LcFlow at 0x7f7cd4bc31d0>,\n",
       "  'Cyanoacetic acid, air, low population density, long-term': <lcatools.entities.LcFlow at 0x7f7cd41991d0>,\n",
       "  'Uranium-238, water, unspecified': <lcatools.entities.LcFlow at 0x7f7cd3302518>,\n",
       "  'Nitrogen, water, surface water': <lcatools.entities.LcFlow at 0x7f7cd2e6d978>,\n",
       "  'Lanthanum-140, air, urban air close to ground': <lcatools.entities.LcFlow at 0x7f7cd4f2bd30>,\n",
       "  'Acrylic acid, air, lower stratosphere + upper troposphere': <lcatools.entities.LcFlow at 0x7f7cd30669e8>,\n",
       "  'Carbon dioxide, to soil or biomass stock, soil, unspecified': <lcatools.entities.LcFlow at 0x7f7cd376dcc0>,\n",
       "  'Hexane, water, ocean': <lcatools.entities.LcFlow at 0x7f7cd505bc50>,\n",
       "  'Antimony-125, air, urban air close to ground': <lcatools.entities.LcFlow at 0x7f7cd46a97b8>,\n",
       "  'Cadmium, air, low population density, long-term': <lcatools.entities.LcFlow at 0x7f7cd40c5e80>,\n",
       "  'o-Nitrotoluene, air, unspecified': <lcatools.entities.LcFlow at 0x7f7cd55264e0>,\n",
       "  'Pirimicarb, soil, agricultural': <lcatools.entities.LcFlow at 0x7f7cd54d2668>,\n",
       "  'Thallium, air, unspecified': <lcatools.entities.LcFlow at 0x7f7cd41b17f0>,\n",
       "  'Iodine, air, non-urban air or from high stacks': <lcatools.entities.LcFlow at 0x7f7cd41ca358>,\n",
       "  'Hydrogen chloride, air, lower stratosphere + upper troposphere': <lcatools.entities.LcFlow at 0x7f7cd4e7ca20>,\n",
       "  '3-Methyl-1-butanol, water, ground-': <lcatools.entities.LcFlow at 0x7f7cd53645f8>,\n",
       "  'Gold, Au 1.4E-4%, in ore, in ground, natural resource, in ground': <lcatools.entities.LcFlow at 0x7f7cd3583a20>,\n",
       "  'Coal, brown, in ground, natural resource, in ground': <lcatools.entities.LcFlow at 0x7f7cd4355fd0>,\n",
       "  'Heat, waste, air, urban air close to ground': <lcatools.entities.LcFlow at 0x7f7cd344ce48>,\n",
       "  'Ethane, 1,1,1-trifluoro-, HFC-143a, air, non-urban air or from high stacks': <lcatools.entities.LcFlow at 0x7f7cd3b404e0>,\n",
       "  'Ethane, 1,1-difluoro-, HFC-152a, air, unspecified': <lcatools.entities.LcFlow at 0x7f7cd46fe390>,\n",
       "  'Iodine-131, air, urban air close to ground': <lcatools.entities.LcFlow at 0x7f7cd4020748>,\n",
       "  'Dioxins, measured as 2,3,7,8-tetrachlorodibenzo-p-dioxin, air, low population density, long-term': <lcatools.entities.LcFlow at 0x7f7cd305d748>,\n",
       "  '2-Methyl pentane, air, non-urban air or from high stacks': <lcatools.entities.LcFlow at 0x7f7cd24dd2b0>,\n",
       "  'Hexane, water, unspecified': <lcatools.entities.LcFlow at 0x7f7cd391bc18>,\n",
       "  'Occupation, dump site, natural resource, land': <lcatools.entities.LcFlow at 0x7f7cd5496940>,\n",
       "  'Thorium-230, water, ground-': <lcatools.entities.LcFlow at 0x7f7cd4068860>,\n",
       "  'Xenon-135m, air, unspecified': <lcatools.entities.LcFlow at 0x7f7cd3f15780>,\n",
       "  'TiO2, 95% in rutile, 0.40% in crude ore, in ground, natural resource, in ground': <lcatools.entities.LcFlow at 0x7f7cd2ff1b00>,\n",
       "  'Ethylamine, water, ground-': <lcatools.entities.LcFlow at 0x7f7cd5763ba8>,\n",
       "  'AOX, Adsorbable Organic Halogen as Cl, water, unspecified': <lcatools.entities.LcFlow at 0x7f7cd35a7e80>,\n",
       "  '1,4-Butanediol, air, lower stratosphere + upper troposphere': <lcatools.entities.LcFlow at 0x7f7cd2e6df60>,\n",
       "  'Lead, water, unspecified': <lcatools.entities.LcFlow at 0x7f7cd3f81630>,\n",
       "  'Cesium-134, water, unspecified': <lcatools.entities.LcFlow at 0x7f7cd5154fd0>,\n",
       "  'Wood, unspecified, standing, natural resource, biotic': <lcatools.entities.LcFlow at 0x7f7cd40c5cf8>,\n",
       "  'Xenon-135, air, low population density, long-term': <lcatools.entities.LcFlow at 0x7f7cd2cad208>,\n",
       "  'Antimony, soil, unspecified': <lcatools.entities.LcFlow at 0x7f7cd2c30470>,\n",
       "  'Potassium-40, air, unspecified': <lcatools.entities.LcFlow at 0x7f7cd3d3cf98>,\n",
       "  'Iodine-131, water, ground-, long-term': <lcatools.entities.LcFlow at 0x7f7cd392bdd8>,\n",
       "  'Argon-41, air, lower stratosphere + upper troposphere': <lcatools.entities.LcFlow at 0x7f7cd478b940>,\n",
       "  'Nitrogen fluoride, air, non-urban air or from high stacks': <lcatools.entities.LcFlow at 0x7f7cd34625f8>,\n",
       "  '2-Methyl-1-propanol, air, urban air close to ground': <lcatools.entities.LcFlow at 0x7f7cd3104550>,\n",
       "  'Transformation, to permanent crop, irrigated, extensive, natural resource, land': <lcatools.entities.LcFlow at 0x7f7cd3c20a58>,\n",
       "  'Sodium formate, water, surface water': <lcatools.entities.LcFlow at 0x7f7cd37c4f60>,\n",
       "  'Nickel, soil, unspecified': <lcatools.entities.LcFlow at 0x7f7cd3feac88>,\n",
       "  'Cadmium, soil, industrial': <lcatools.entities.LcFlow at 0x7f7cd4773e10>,\n",
       "  'Propylamine, water, ocean': <lcatools.entities.LcFlow at 0x7f7cd28b08d0>,\n",
       "  'Oils, unspecified, water, surface water': <lcatools.entities.LcFlow at 0x7f7cd3853438>,\n",
       "  'Benzaldehyde, air, unspecified': <lcatools.entities.LcFlow at 0x7f7cd5649cf8>,\n",
       "  'Ammonium, ion, water, ocean': <lcatools.entities.LcFlow at 0x7f7cd2cc0e10>,\n",
       "  'Glutaraldehyde, water, ground-': <lcatools.entities.LcFlow at 0x7f7cd33c6198>,\n",
       "  'Cyanide, air, urban air close to ground': <lcatools.entities.LcFlow at 0x7f7cd3711128>,\n",
       "  'Hexamethyldisilizane, air, non-urban air or from high stacks': <lcatools.entities.LcFlow at 0x7f7cd3caea20>,\n",
       "  'Acenaphthylene, water, ground-': <lcatools.entities.LcFlow at 0x7f7cd2260390>,\n",
       "  'Thorium-230, air, non-urban air or from high stacks': <lcatools.entities.LcFlow at 0x7f7cd4ec0e80>,\n",
       "  'Transformation, to pasture, man made, natural resource, land': <lcatools.entities.LcFlow at 0x7f7cd391b7b8>,\n",
       "  'Phthalate, dioctyl-, water, ground-': <lcatools.entities.LcFlow at 0x7f7cd291b278>,\n",
       "  'Iodine-129, water, ground-, long-term': <lcatools.entities.LcFlow at 0x7f7cd431c828>,\n",
       "  'Occupation, field margin/hedgerow, natural resource, land': <lcatools.entities.LcFlow at 0x7f7cd49f2208>,\n",
       "  'Hydrocarbons, chlorinated, air, low population density, long-term': <lcatools.entities.LcFlow at 0x7f7cd31e3f60>,\n",
       "  'Methane, tetrachloro-, R-10, air, lower stratosphere + upper troposphere': <lcatools.entities.LcFlow at 0x7f7cd373bf98>,\n",
       "  'Tin, air, low population density, long-term': <lcatools.entities.LcFlow at 0x7f7cd37e1978>,\n",
       "  'Sodium formate, air, low population density, long-term': <lcatools.entities.LcFlow at 0x7f7cd4c0d518>,\n",
       "  'Chromium, ion, water, unspecified': <lcatools.entities.LcFlow at 0x7f7cd3f63198>,\n",
       "  'Silver-110, water, surface water': <lcatools.entities.LcFlow at 0x7f7cd44bdb70>,\n",
       "  'TiO2, 54% in ilmenite, 2.6% in crude ore, in ground, natural resource, in ground': <lcatools.entities.LcFlow at 0x7f7cd490b518>,\n",
       "  'Carbon monoxide, fossil, air, lower stratosphere + upper troposphere': <lcatools.entities.LcFlow at 0x7f7cd3592ef0>,\n",
       "  'Methane, from soil or biomass stock, air, urban air close to ground': <lcatools.entities.LcFlow at 0x7f7cd3fbeda0>,\n",
       "  'Radium-224, water, surface water': <lcatools.entities.LcFlow at 0x7f7cd3828438>,\n",
       "  'Carbon monoxide, fossil, air, urban air close to ground': <lcatools.entities.LcFlow at 0x7f7cd3a29a20>,\n",
       "  'Transformation, from urban, green area, natural resource, land': <lcatools.entities.LcFlow at 0x7f7cd2fd1d68>,\n",
       "  'Etridiazole, soil, agricultural': <lcatools.entities.LcFlow at 0x7f7cd38e5780>,\n",
       "  'Isocyanic acid, air, lower stratosphere + upper troposphere': <lcatools.entities.LcFlow at 0x7f7cd3557f28>,\n",
       "  'Ethane, 2-chloro-1,1,1,2-tetrafluoro-, HCFC-124, air, unspecified': <lcatools.entities.LcFlow at 0x7f7cd3b74e10>,\n",
       "  'Polonium-210, air, urban air close to ground': <lcatools.entities.LcFlow at 0x7f7cd2e83fd0>,\n",
       "  'Cobalt, soil, forestry': <lcatools.entities.LcFlow at 0x7f7cd42fd1d0>,\n",
       "  'Cobalt, air, low population density, long-term': <lcatools.entities.LcFlow at 0x7f7cd498a208>,\n",
       "  'Chromium, air, non-urban air or from high stacks': <lcatools.entities.LcFlow at 0x7f7cd4ea66a0>,\n",
       "  'Nitrogen, soil, agricultural': <lcatools.entities.LcFlow at 0x7f7cd3aeca20>,\n",
       "  'Transformation, from annual crop, irrigated, natural resource, land': <lcatools.entities.LcFlow at 0x7f7cd2fc1fd0>,\n",
       "  'Transformation, to heterogeneous, agricultural, natural resource, land': <lcatools.entities.LcFlow at 0x7f7cd21dc518>,\n",
       "  'Transformation, from forest, extensive, natural resource, land': <lcatools.entities.LcFlow at 0x7f7cd27a9e48>,\n",
       "  'Sodium hypochlorite, air, unspecified': <lcatools.entities.LcFlow at 0x7f7cd3a166a0>,\n",
       "  'Anthracene, water, unspecified': <lcatools.entities.LcFlow at 0x7f7cd45a3b38>,\n",
       "  'Cyclohexane, air, unspecified': <lcatools.entities.LcFlow at 0x7f7cd27285c0>,\n",
       "  'Aldehydes, unspecified, air, unspecified': <lcatools.entities.LcFlow at 0x7f7cd4334a90>,\n",
       "  'Carbon dioxide, in air, natural resource, in air': <lcatools.entities.LcFlow at 0x7f7cd2aceda0>,\n",
       "  'Acetonitrile, air, urban air close to ground': <lcatools.entities.LcFlow at 0x7f7cd40ac5f8>,\n",
       "  'Cobalt-60, water, ground-': <lcatools.entities.LcFlow at 0x7f7cd4323518>,\n",
       "  'Ethane, 1,1,2-trichloro-, air, non-urban air or from high stacks': <lcatools.entities.LcFlow at 0x7f7cd30ca6d8>,\n",
       "  'Monoethanolamine, air, lower stratosphere + upper troposphere': <lcatools.entities.LcFlow at 0x7f7cd3545080>,\n",
       "  'Fluoroglycofen-ethyl, soil, agricultural': <lcatools.entities.LcFlow at 0x7f7cd45ab668>,\n",
       "  'Chromium, soil, industrial': <lcatools.entities.LcFlow at 0x7f7cd3053da0>,\n",
       "  'Phenol, 2,4-dichloro, air, urban air close to ground': <lcatools.entities.LcFlow at 0x7f7cd30ba3c8>,\n",
       "  'Propene, water, surface water': <lcatools.entities.LcFlow at 0x7f7cd41ca198>,\n",
       "  'Hexamethyldisilizane, air, lower stratosphere + upper troposphere': <lcatools.entities.LcFlow at 0x7f7cd2262c50>,\n",
       "  'Methyl borate, air, non-urban air or from high stacks': <lcatools.entities.LcFlow at 0x7f7cd3651ac8>,\n",
       "  'AOX, Adsorbable Organic Halogen as Cl, water, surface water': <lcatools.entities.LcFlow at 0x7f7cd309b438>,\n",
       "  'Transformation, to annual crop, natural resource, land': <lcatools.entities.LcFlow at 0x7f7cd2c0fb00>,\n",
       "  'Propachlor, soil, agricultural': <lcatools.entities.LcFlow at 0x7f7cd42f0c88>,\n",
       "  'Fluoride, soil, agricultural': <lcatools.entities.LcFlow at 0x7f7cd2181208>,\n",
       "  'Ethylene glycol monoethyl ether, air, non-urban air or from high stacks': <lcatools.entities.LcFlow at 0x7f7cd3f984e0>,\n",
       "  '1-Pentene, air, low population density, long-term': <lcatools.entities.LcFlow at 0x7f7cd2b86b00>,\n",
       "  'Bifenthrin, soil, agricultural': <lcatools.entities.LcFlow at 0x7f7cd25f06a0>,\n",
       "  'Barium, air, lower stratosphere + upper troposphere': <lcatools.entities.LcFlow at 0x7f7cd3eada58>,\n",
       "  'Cyanide, air, lower stratosphere + upper troposphere': <lcatools.entities.LcFlow at 0x7f7cd49c6390>,\n",
       "  'Uranium-234, air, non-urban air or from high stacks': <lcatools.entities.LcFlow at 0x7f7cd3539128>,\n",
       "  'Dinitrogen monoxide, air, unspecified': <lcatools.entities.LcFlow at 0x7f7cd40dcf98>,\n",
       "  'Ethephon, soil, agricultural': <lcatools.entities.LcFlow at 0x7f7cd428b978>,\n",
       "  'Iron, ion, water, surface water': <lcatools.entities.LcFlow at 0x7f7cd49024e0>,\n",
       "  'Phosphorus, air, lower stratosphere + upper troposphere': <lcatools.entities.LcFlow at 0x7f7cd4e6b390>,\n",
       "  'Cobalt-57, water, ground-': <lcatools.entities.LcFlow at 0x7f7cd4bc32e8>,\n",
       "  'Antimony-122, water, ground-': <lcatools.entities.LcFlow at 0x7f7cd316dc88>,\n",
       "  'Formamide, air, low population density, long-term': <lcatools.entities.LcFlow at 0x7f7cd3e2db38>,\n",
       "  'Acenaphthene, water, surface water': <lcatools.entities.LcFlow at 0x7f7cd3c005f8>,\n",
       "  'Acrylonitrile, air, urban air close to ground': <lcatools.entities.LcFlow at 0x7f7cd48b8128>,\n",
       "  'Aniline, water, ground-, long-term': <lcatools.entities.LcFlow at 0x7f7cd47f8c50>,\n",
       "  'Strontium, soil, agricultural': <lcatools.entities.LcFlow at 0x7f7cd485a978>,\n",
       "  'Propanal, water, ocean': <lcatools.entities.LcFlow at 0x7f7cd40ceb00>,\n",
       "  'Hypochlorite, water, ground-, long-term': <lcatools.entities.LcFlow at 0x7f7cd2a9d320>,\n",
       "  'Nicosulfuron, soil, agricultural': <lcatools.entities.LcFlow at 0x7f7cd3d052b0>,\n",
       "  'Dichromate, water, surface water': <lcatools.entities.LcFlow at 0x7f7cd3230be0>,\n",
       "  'Ethyl cellulose, air, lower stratosphere + upper troposphere': <lcatools.entities.LcFlow at 0x7f7cd35d5ef0>,\n",
       "  'Xenon-135m, air, low population density, long-term': <lcatools.entities.LcFlow at 0x7f7cd3cedac8>,\n",
       "  'Methane, bromo-, Halon 1001, air, low population density, long-term': <lcatools.entities.LcFlow at 0x7f7cd51dea20>,\n",
       "  'Methyl ethyl ketone, air, urban air close to ground': <lcatools.entities.LcFlow at 0x7f7cd53a5a20>,\n",
       "  'Transformation, from inland waterbody, unspecified, natural resource, land': <lcatools.entities.LcFlow at 0x7f7cd3475d30>,\n",
       "  'Iodine-133, air, urban air close to ground': <lcatools.entities.LcFlow at 0x7f7cd40af320>,\n",
       "  'Aldehydes, unspecified, air, non-urban air or from high stacks': <lcatools.entities.LcFlow at 0x7f7cd2d0cc88>,\n",
       "  'Cyfluthrin, soil, agricultural': <lcatools.entities.LcFlow at 0x7f7cd28d9048>,\n",
       "  'Isopropylamine, water, surface water': <lcatools.entities.LcFlow at 0x7f7cd3fe3e10>,\n",
       "  'Nitrogen, water, ocean': <lcatools.entities.LcFlow at 0x7f7cd369e2e8>,\n",
       "  'Butyl acetate, air, lower stratosphere + upper troposphere': <lcatools.entities.LcFlow at 0x7f7cd32977b8>,\n",
       "  'Protactinium-234, air, urban air close to ground': <lcatools.entities.LcFlow at 0x7f7cd4fce6d8>,\n",
       "  'Manganese, air, lower stratosphere + upper troposphere': <lcatools.entities.LcFlow at 0x7f7cd349e390>,\n",
       "  'Sodium chloride, in ground, natural resource, in ground': <lcatools.entities.LcFlow at 0x7f7cd4292630>,\n",
       "  'm-Xylene, water, surface water': <lcatools.entities.LcFlow at 0x7f7cd282b198>,\n",
       "  'Cobalt, soil, industrial': <lcatools.entities.LcFlow at 0x7f7cd5179eb8>,\n",
       "  'Chromium, ion, water, surface water': <lcatools.entities.LcFlow at 0x7f7cd308efd0>,\n",
       "  'Silver, air, unspecified': <lcatools.entities.LcFlow at 0x7f7cd26da588>,\n",
       "  'Propanal, air, unspecified': <lcatools.entities.LcFlow at 0x7f7cd3c6ff60>,\n",
       "  'Technetium-99, water, surface water': <lcatools.entities.LcFlow at 0x7f7cd2f7b278>,\n",
       "  'Sodium formate, water, ground-': <lcatools.entities.LcFlow at 0x7f7cd35965f8>,\n",
       "  'Curium alpha, water, ground-': <lcatools.entities.LcFlow at 0x7f7cd3750128>,\n",
       "  'Zinc, 9.0% in sulfide, Zn 5.3%, Pb, Ag, Cd, In, in ground, natural resource, in ground': <lcatools.entities.LcFlow at 0x7f7cd3e3f6d8>,\n",
       "  'Formic acid, water, ocean': <lcatools.entities.LcFlow at 0x7f7cd3bd99b0>,\n",
       "  'Chlorpyrifos, soil, agricultural': <lcatools.entities.LcFlow at 0x7f7cd3a02b70>,\n",
       "  'Ethyl acetate, water, unspecified': <lcatools.entities.LcFlow at 0x7f7cd4968c50>,\n",
       "  'Occupation, annual crop, irrigated, intensive, natural resource, land': <lcatools.entities.LcFlow at 0x7f7cd363d9b0>,\n",
       "  'Aluminium, air, urban air close to ground': <lcatools.entities.LcFlow at 0x7f7cd3a35f98>,\n",
       "  'Formic acid, air, lower stratosphere + upper troposphere': <lcatools.entities.LcFlow at 0x7f7cd2a4a400>,\n",
       "  '1-Pentanol, water, unspecified': <lcatools.entities.LcFlow at 0x7f7cd4458978>,\n",
       "  'Thorium, air, low population density, long-term': <lcatools.entities.LcFlow at 0x7f7cd44e4da0>,\n",
       "  'Methane, from soil or biomass stock, air, lower stratosphere + upper troposphere': <lcatools.entities.LcFlow at 0x7f7cd34ec0b8>,\n",
       "  'Napropamide, soil, agricultural': <lcatools.entities.LcFlow at 0x7f7cd37754a8>,\n",
       "  'Xenon-133m, air, non-urban air or from high stacks': <lcatools.entities.LcFlow at 0x7f7cd3613940>,\n",
       "  'Hexane, air, lower stratosphere + upper troposphere': <lcatools.entities.LcFlow at 0x7f7cd42bfbe0>,\n",
       "  'Styrene, water, ground-, long-term': <lcatools.entities.LcFlow at 0x7f7cd4e8ceb8>,\n",
       "  'Cesium-134, air, unspecified': <lcatools.entities.LcFlow at 0x7f7cd38c3c50>,\n",
       "  'Krypton-85, air, lower stratosphere + upper troposphere': <lcatools.entities.LcFlow at 0x7f7cd4fe1518>,\n",
       "  'Aldehydes, unspecified, air, lower stratosphere + upper troposphere': <lcatools.entities.LcFlow at 0x7f7cd33e5a90>,\n",
       "  'Radioactive species, alpha emitters, water, surface water': <lcatools.entities.LcFlow at 0x7f7cd4f8a048>,\n",
       "  'Butyrolactone, air, urban air close to ground': <lcatools.entities.LcFlow at 0x7f7cd4653898>,\n",
       "  'Urea, water, surface water': <lcatools.entities.LcFlow at 0x7f7cd4f3aac8>,\n",
       "  'Butene, water, unspecified': <lcatools.entities.LcFlow at 0x7f7cd301c5f8>,\n",
       "  'Propene, air, lower stratosphere + upper troposphere': <lcatools.entities.LcFlow at 0x7f7cd547e208>,\n",
       "  'Dimethylamine, air, urban air close to ground': <lcatools.entities.LcFlow at 0x7f7cd2fb1a58>,\n",
       "  'Benzyl alcohol, water, ground-': <lcatools.entities.LcFlow at 0x7f7cd54c0080>,\n",
       "  'Metsulfuron-methyl, soil, agricultural': <lcatools.entities.LcFlow at 0x7f7cd33be9e8>,\n",
       "  'Tellurium-132, water, ground-, long-term': <lcatools.entities.LcFlow at 0x7f7cd57de6a0>,\n",
       "  'Copper, soil, agricultural': <lcatools.entities.LcFlow at 0x7f7cd48bc6d8>,\n",
       "  'Methyl acrylate, air, urban air close to ground': <lcatools.entities.LcFlow at 0x7f7cd4b74a90>,\n",
       "  'Noble gases, radioactive, unspecified, air, low population density, long-term': <lcatools.entities.LcFlow at 0x7f7cd4e7a048>,\n",
       "  'Strontium-89, air, lower stratosphere + upper troposphere': <lcatools.entities.LcFlow at 0x7f7cd3ca5a20>,\n",
       "  'Occupation, river, artificial, natural resource, land': <lcatools.entities.LcFlow at 0x7f7cd33a5fd0>,\n",
       "  'Fluorine, 4.5% in apatite, 1% in crude ore, in ground, natural resource, in ground': <lcatools.entities.LcFlow at 0x7f7cd304ac18>,\n",
       "  'Selenium, air, urban air close to ground': <lcatools.entities.LcFlow at 0x7f7cd3566780>,\n",
       "  'Propionic acid, water, unspecified': <lcatools.entities.LcFlow at 0x7f7cd3db0e48>,\n",
       "  'Benzene, ethyl-, water, surface water': <lcatools.entities.LcFlow at 0x7f7cd3d25e10>,\n",
       "  'BOD5, Biological Oxygen Demand, water, ocean': <lcatools.entities.LcFlow at 0x7f7cd2f641d0>,\n",
       "  'Perlite, in ground, natural resource, in ground': <lcatools.entities.LcFlow at 0x7f7cd42f0ac8>,\n",
       "  'Uranium-235, water, ocean': <lcatools.entities.LcFlow at 0x7f7cd32e5978>,\n",
       "  'Ulexite, in ground, natural resource, in ground': <lcatools.entities.LcFlow at 0x7f7cd3207278>,\n",
       "  'Plutonium-238, air, urban air close to ground': <lcatools.entities.LcFlow at 0x7f7cd2fa2278>,\n",
       "  'Transformation, from lake, natural (non-use), natural resource, land': <lcatools.entities.LcFlow at 0x7f7cd2ec77b8>,\n",
       "  'Polonium-210, air, unspecified': <lcatools.entities.LcFlow at 0x7f7cd5618be0>,\n",
       "  'o-Xylene, water, unspecified': <lcatools.entities.LcFlow at 0x7f7cd5526c50>,\n",
       "  'Propylene oxide, water, ocean': <lcatools.entities.LcFlow at 0x7f7cd30b4860>,\n",
       "  'Trimethylamine, water, ground-, long-term': <lcatools.entities.LcFlow at 0x7f7cd2fe0c18>,\n",
       "  'Transformation, from river, artificial, natural resource, land': <lcatools.entities.LcFlow at 0x7f7cd38bf390>,\n",
       "  'Transformation, to annual crop, irrigated, intensive, natural resource, land': <lcatools.entities.LcFlow at 0x7f7cd33529e8>,\n",
       "  'Copper, ion, water, ocean': <lcatools.entities.LcFlow at 0x7f7cd31c1470>,\n",
       "  'Benzene, pentachloro-, air, lower stratosphere + upper troposphere': <lcatools.entities.LcFlow at 0x7f7cd21ea940>,\n",
       "  'Dimethyl ether, air, non-urban air or from high stacks': <lcatools.entities.LcFlow at 0x7f7cd263aeb8>,\n",
       "  'Propanol, air, lower stratosphere + upper troposphere': <lcatools.entities.LcFlow at 0x7f7cd382ffd0>,\n",
       "  'Formamide, air, urban air close to ground': <lcatools.entities.LcFlow at 0x7f7cd52e7f98>,\n",
       "  'COD, Chemical Oxygen Demand, water, surface water': <lcatools.entities.LcFlow at 0x7f7cd222f908>,\n",
       "  'Arsenic, air, lower stratosphere + upper troposphere': <lcatools.entities.LcFlow at 0x7f7cd4f3abe0>,\n",
       "  'Bromine, 0.23% in water, natural resource, in water': <lcatools.entities.LcFlow at 0x7f7cd3b09240>,\n",
       "  'Occupation, pasture, man made, natural resource, land': <lcatools.entities.LcFlow at 0x7f7cd3bc9b70>,\n",
       "  'Thallium, air, lower stratosphere + upper troposphere': <lcatools.entities.LcFlow at 0x7f7cd30bf4e0>,\n",
       "  'Antimony-125, water, ocean': <lcatools.entities.LcFlow at 0x7f7cd2d972b0>,\n",
       "  'Cerium-141, air, unspecified': <lcatools.entities.LcFlow at 0x7f7cd3c13d68>,\n",
       "  'Dimethenamid, soil, agricultural': <lcatools.entities.LcFlow at 0x7f7cd4a25550>,\n",
       "  'Arsenic, ion, water, ground-, long-term': <lcatools.entities.LcFlow at 0x7f7cd304ae48>,\n",
       "  'Cobalt-58, air, non-urban air or from high stacks': <lcatools.entities.LcFlow at 0x7f7cd435d898>,\n",
       "  'Carfentrazone-ethyl, air, non-urban air or from high stacks': <lcatools.entities.LcFlow at 0x7f7cd44b1908>,\n",
       "  'Chromium-51, air, low population density, long-term': <lcatools.entities.LcFlow at 0x7f7cd26168d0>,\n",
       "  'Methane, chlorotrifluoro-, CFC-13, air, unspecified': <lcatools.entities.LcFlow at 0x7f7cd2f61978>,\n",
       "  'Ruthenium-106, water, ocean': <lcatools.entities.LcFlow at 0x7f7cd47a1198>,\n",
       "  'Occupation, wetland, inland (non-use), natural resource, land': <lcatools.entities.LcFlow at 0x7f7cd2912c88>,\n",
       "  'Cobalt-60, air, urban air close to ground': <lcatools.entities.LcFlow at 0x7f7cd36bc828>,\n",
       "  'Ethane, 1,2-dichloro-, water, ground-': <lcatools.entities.LcFlow at 0x7f7cd3a58358>,\n",
       "  'Radium-228, water, ocean': <lcatools.entities.LcFlow at 0x7f7cd5763ac8>,\n",
       "  'Plutonium-238, air, unspecified': <lcatools.entities.LcFlow at 0x7f7cd247cb70>,\n",
       "  'Molybdenum, air, non-urban air or from high stacks': <lcatools.entities.LcFlow at 0x7f7cd4c66da0>,\n",
       "  'Butanol, air, lower stratosphere + upper troposphere': <lcatools.entities.LcFlow at 0x7f7cd4265d68>,\n",
       "  'Propene, air, low population density, long-term': <lcatools.entities.LcFlow at 0x7f7cd4a0d080>,\n",
       "  'Ethylene glycol monoethyl ether, water, ocean': <lcatools.entities.LcFlow at 0x7f7cd2e43e48>,\n",
       "  'Xenon-137, air, low population density, long-term': <lcatools.entities.LcFlow at 0x7f7cd2fb3cc0>,\n",
       "  'Neptunium-237, air, lower stratosphere + upper troposphere': <lcatools.entities.LcFlow at 0x7f7cd251af98>,\n",
       "  'Sulfate, air, urban air close to ground': <lcatools.entities.LcFlow at 0x7f7cd4827668>,\n",
       "  'Manganese-54, air, unspecified': <lcatools.entities.LcFlow at 0x7f7cd3ccb6a0>,\n",
       "  'Acetic acid, water, unspecified': <lcatools.entities.LcFlow at 0x7f7cd2f7b470>,\n",
       "  'Chromium VI, water, ground-': <lcatools.entities.LcFlow at 0x7f7cd3655438>,\n",
       "  'Lanthanum-140, water, unspecified': <lcatools.entities.LcFlow at 0x7f7cd3ade7f0>,\n",
       "  'Lead, 5.0% in sulfide, Pb 3.0%, Zn, Ag, Cd, In, in ground, natural resource, in ground': <lcatools.entities.LcFlow at 0x7f7cd3cf9400>,\n",
       "  'Aluminium, air, lower stratosphere + upper troposphere': <lcatools.entities.LcFlow at 0x7f7cd31e3a58>,\n",
       "  'Hydrocarbons, aliphatic, unsaturated, air, non-urban air or from high stacks': <lcatools.entities.LcFlow at 0x7f7cd52a2978>,\n",
       "  'Plutonium-alpha, air, unspecified': <lcatools.entities.LcFlow at 0x7f7cd3d56470>,\n",
       "  'Carbon dioxide, fossil, air, urban air close to ground': <lcatools.entities.LcFlow at 0x7f7cd2265208>,\n",
       "  'Thorium-234, water, ground-': <lcatools.entities.LcFlow at 0x7f7cd3788eb8>,\n",
       "  'Propene, air, urban air close to ground': <lcatools.entities.LcFlow at 0x7f7cd34ce5f8>,\n",
       "  'Cobalt, water, ground-': <lcatools.entities.LcFlow at 0x7f7cd2f6f9b0>,\n",
       "  'Americium-241, water, surface water': <lcatools.entities.LcFlow at 0x7f7cd4fce5f8>,\n",
       "  'Benzo(a)pyrene, air, unspecified': <lcatools.entities.LcFlow at 0x7f7cd3bafda0>,\n",
       "  'Propionic acid, air, urban air close to ground': <lcatools.entities.LcFlow at 0x7f7cd25bbba8>,\n",
       "  'Methane, bromochlorodifluoro-, Halon 1211, air, low population density, long-term': <lcatools.entities.LcFlow at 0x7f7cd37311d0>,\n",
       "  'Water, salt, sole, natural resource, in water': <lcatools.entities.LcFlow at 0x7f7cd3982c88>,\n",
       "  'Antimony, soil, industrial': <lcatools.entities.LcFlow at 0x7f7cd338be80>,\n",
       "  'Ethane thiol, air, low population density, long-term': <lcatools.entities.LcFlow at 0x7f7cd27c13c8>,\n",
       "  'Selenium, air, low population density, long-term': <lcatools.entities.LcFlow at 0x7f7cd3736160>,\n",
       "  'Trimethylamine, air, non-urban air or from high stacks': <lcatools.entities.LcFlow at 0x7f7cd3aa94e0>,\n",
       "  'Uranium-234, air, unspecified': <lcatools.entities.LcFlow at 0x7f7cd520ea20>,\n",
       "  'Toluene, 2-chloro, water, ocean': <lcatools.entities.LcFlow at 0x7f7cd51ac128>,\n",
       "  'Butene, water, surface water': <lcatools.entities.LcFlow at 0x7f7cd3a70550>,\n",
       "  't-Butylamine, water, ground-': <lcatools.entities.LcFlow at 0x7f7cd37382b0>,\n",
       "  'Ethanol, air, low population density, long-term': <lcatools.entities.LcFlow at 0x7f7cd4644c88>,\n",
       "  'Benzene, pentachloro-, air, unspecified': <lcatools.entities.LcFlow at 0x7f7cd3726eb8>,\n",
       "  'Transformation, to permanent crop, non-irrigated, extensive, natural resource, land': <lcatools.entities.LcFlow at 0x7f7cd42aa160>,\n",
       "  'Propionic acid, air, low population density, long-term': <lcatools.entities.LcFlow at 0x7f7cd35d6668>,\n",
       "  'Cesium-136, water, ground-, long-term': <lcatools.entities.LcFlow at 0x7f7cd42207f0>,\n",
       "  'Acetone, water, ocean': <lcatools.entities.LcFlow at 0x7f7cd26fff28>,\n",
       "  'Technetium-99, air, non-urban air or from high stacks': <lcatools.entities.LcFlow at 0x7f7cd3844eb8>,\n",
       "  'Methyl amine, air, non-urban air or from high stacks': <lcatools.entities.LcFlow at 0x7f7cd27fb048>,\n",
       "  'tau-Fluvalinate, soil, agricultural': <lcatools.entities.LcFlow at 0x7f7cd4035cc0>,\n",
       "  'Propargite, soil, agricultural': <lcatools.entities.LcFlow at 0x7f7cd3a55908>,\n",
       "  'Radium-226, water, unspecified': <lcatools.entities.LcFlow at 0x7f7cd29930f0>,\n",
       "  'Ethane, 1,1,1-trichloro-, HCFC-140, air, unspecified': <lcatools.entities.LcFlow at 0x7f7cd3251da0>,\n",
       "  'Methane, non-fossil, air, non-urban air or from high stacks': <lcatools.entities.LcFlow at 0x7f7cd3c1d940>,\n",
       "  'Sodium formate, water, ground-, long-term': <lcatools.entities.LcFlow at 0x7f7cd32ccf60>,\n",
       "  'Thallium, soil, industrial': <lcatools.entities.LcFlow at 0x7f7cd3ac13c8>,\n",
       "  'm-Xylene, air, non-urban air or from high stacks': <lcatools.entities.LcFlow at 0x7f7cd322a5c0>,\n",
       "  'Transformation, from wetland, inland (non-use), natural resource, land': <lcatools.entities.LcFlow at 0x7f7cd57a7940>,\n",
       "  'Hydrogen chloride, air, low population density, long-term': <lcatools.entities.LcFlow at 0x7f7cd3d3cac8>,\n",
       "  'Nitrobenzene, air, unspecified': <lcatools.entities.LcFlow at 0x7f7cd3308a20>,\n",
       "  'Tellurium-123m, air, low population density, long-term': <lcatools.entities.LcFlow at 0x7f7cd4773320>,\n",
       "  'Transformation, to river, natural (non-use), natural resource, land': <lcatools.entities.LcFlow at 0x7f7cd34e9400>,\n",
       "  'Selenium, water, ground-': <lcatools.entities.LcFlow at 0x7f7cd410afd0>,\n",
       "  'Curium alpha, air, low population density, long-term': <lcatools.entities.LcFlow at 0x7f7cd42f0ba8>,\n",
       "  'm-Xylene, air, urban air close to ground': <lcatools.entities.LcFlow at 0x7f7cd4279dd8>,\n",
       "  'Heptane, air, unspecified': <lcatools.entities.LcFlow at 0x7f7cd5499438>,\n",
       "  'Krypton-85, air, unspecified': <lcatools.entities.LcFlow at 0x7f7cd5644748>,\n",
       "  'Antimony-125, water, ground-, long-term': <lcatools.entities.LcFlow at 0x7f7cd497ad68>,\n",
       "  'o-Dichlorobenzene, water, ground-, long-term': <lcatools.entities.LcFlow at 0x7f7cd4317828>,\n",
       "  '3-Methyl-1-butanol, air, lower stratosphere + upper troposphere': <lcatools.entities.LcFlow at 0x7f7cd49bc7b8>,\n",
       "  'Chlorosulfonic acid, air, lower stratosphere + upper troposphere': <lcatools.entities.LcFlow at 0x7f7cd3a14128>,\n",
       "  'Radon-222, air, low population density, long-term': <lcatools.entities.LcFlow at 0x7f7cd3d2b940>,\n",
       "  'Furathiocarb, soil, agricultural': <lcatools.entities.LcFlow at 0x7f7cd2e0d630>,\n",
       "  'Cyclohexane, air, low population density, long-term': <lcatools.entities.LcFlow at 0x7f7cd4190be0>,\n",
       "  'Diethylamine, water, ground-, long-term': <lcatools.entities.LcFlow at 0x7f7cd5644668>,\n",
       "  'Trifluralin, air, non-urban air or from high stacks': <lcatools.entities.LcFlow at 0x7f7cd37e1710>,\n",
       "  'Fomesafen, soil, agricultural': <lcatools.entities.LcFlow at 0x7f7cd32a8128>,\n",
       "  'Cesium-137, water, ocean': <lcatools.entities.LcFlow at 0x7f7cd43bdf28>,\n",
       "  'Argon-41, air, low population density, long-term': <lcatools.entities.LcFlow at 0x7f7cd34970f0>,\n",
       "  'Methyl formate, air, unspecified': <lcatools.entities.LcFlow at 0x7f7cd271aeb8>,\n",
       "  'Xenon-133, air, unspecified': <lcatools.entities.LcFlow at 0x7f7cd2e69f60>,\n",
       "  'Propylene oxide, water, ground-': <lcatools.entities.LcFlow at 0x7f7cd35e0ba8>,\n",
       "  'Radioactive species, Nuclides, unspecified, water, ocean': <lcatools.entities.LcFlow at 0x7f7cd3feaa20>,\n",
       "  '2-Propanol, air, low population density, long-term': <lcatools.entities.LcFlow at 0x7f7cd35bfeb8>,\n",
       "  'Cyfluthrin, air, non-urban air or from high stacks': <lcatools.entities.LcFlow at 0x7f7cd219a908>,\n",
       "  'Nitrobenzene, air, low population density, long-term': <lcatools.entities.LcFlow at 0x7f7cd26aa208>,\n",
       "  'Cyclanilide, soil, agricultural': <lcatools.entities.LcFlow at 0x7f7cd4052208>,\n",
       "  'Dipropylamine, water, surface water': <lcatools.entities.LcFlow at 0x7f7cd2258f28>,\n",
       "  'Heat, waste, water, surface water': <lcatools.entities.LcFlow at 0x7f7cd41de630>,\n",
       "  'Arsine, air, non-urban air or from high stacks': <lcatools.entities.LcFlow at 0x7f7cd32a8f60>,\n",
       "  'Iron, air, low population density, long-term': <lcatools.entities.LcFlow at 0x7f7cd27692b0>,\n",
       "  'Polonium-210, air, non-urban air or from high stacks': <lcatools.entities.LcFlow at 0x7f7cd3dbabe0>,\n",
       "  'Vanadium, soil, industrial': <lcatools.entities.LcFlow at 0x7f7cd347ff60>,\n",
       "  'Mercury, water, ground-, long-term': <lcatools.entities.LcFlow at 0x7f7cd3dd8588>,\n",
       "  'Polonium-210, water, ground-': <lcatools.entities.LcFlow at 0x7f7cd4f2b748>,\n",
       "  'Gravel, in ground, natural resource, in ground': <lcatools.entities.LcFlow at 0x7f7cd53d8a20>,\n",
       "  'Protactinium-234, water, ocean': <lcatools.entities.LcFlow at 0x7f7cd3363cc0>,\n",
       "  'Carboxylic acids, unspecified, water, unspecified': <lcatools.entities.LcFlow at 0x7f7cd4350ac8>,\n",
       "  't-Butyl methyl ether, air, low population density, long-term': <lcatools.entities.LcFlow at 0x7f7cd3d35a58>,\n",
       "  'Chloramine, water, surface water': <lcatools.entities.LcFlow at 0x7f7cd3ec6b00>,\n",
       "  'Tin, air, urban air close to ground': <lcatools.entities.LcFlow at 0x7f7cd4148860>,\n",
       "  'Barite, water, ground-, long-term': <lcatools.entities.LcFlow at 0x7f7cd311e6d8>,\n",
       "  'Butyl acetate, water, unspecified': <lcatools.entities.LcFlow at 0x7f7cd526dd30>,\n",
       "  'Beryllium, soil, agricultural': <lcatools.entities.LcFlow at 0x7f7cd2d97c88>,\n",
       "  'Heptane, air, lower stratosphere + upper troposphere': <lcatools.entities.LcFlow at 0x7f7cd4a97fd0>,\n",
       "  'Ethane, 1,1,1,2-tetrafluoro-, HFC-134a, air, lower stratosphere + upper troposphere': <lcatools.entities.LcFlow at 0x7f7cd24a92e8>,\n",
       "  'Terpenes, air, lower stratosphere + upper troposphere': <lcatools.entities.LcFlow at 0x7f7cd3a706a0>,\n",
       "  'Radium-226, air, low population density, long-term': <lcatools.entities.LcFlow at 0x7f7cd4501438>,\n",
       "  'Cobalt-58, air, urban air close to ground': <lcatools.entities.LcFlow at 0x7f7cd3666438>,\n",
       "  'Ethane, 1,1,2-trichloro-1,2,2-trifluoro-, CFC-113, air, lower stratosphere + upper troposphere': <lcatools.entities.LcFlow at 0x7f7cd2181390>,\n",
       "  'Lanthanum-140, air, non-urban air or from high stacks': <lcatools.entities.LcFlow at 0x7f7cd40e26d8>,\n",
       "  'Ethane, 1,1,1-trichloro-, HCFC-140, water, ground-': <lcatools.entities.LcFlow at 0x7f7cd2fb00b8>,\n",
       "  'Metconazole, soil, agricultural': <lcatools.entities.LcFlow at 0x7f7cd4131898>,\n",
       "  'Diisobutyl ketone, water, ground-, long-term': <lcatools.entities.LcFlow at 0x7f7cd4bc30f0>,\n",
       "  'Helium, 0.08% in natural gas, in ground, natural resource, in ground': <lcatools.entities.LcFlow at 0x7f7cd37d61d0>,\n",
       "  'Zinc-65, air, lower stratosphere + upper troposphere': <lcatools.entities.LcFlow at 0x7f7cd4025828>,\n",
       "  'Acetone, water, surface water': <lcatools.entities.LcFlow at 0x7f7cd424c438>,\n",
       "  'Cerium-144, water, ground-, long-term': <lcatools.entities.LcFlow at 0x7f7cd313a6d8>,\n",
       "  'Methyl acrylate, water, unspecified': <lcatools.entities.LcFlow at 0x7f7cd23b7b00>,\n",
       "  'Barium, soil, industrial': <lcatools.entities.LcFlow at 0x7f7cd4db1668>,\n",
       "  'Iron-59, water, ground-': <lcatools.entities.LcFlow at 0x7f7cd4377e10>,\n",
       "  'Butanol, water, surface water': <lcatools.entities.LcFlow at 0x7f7cd2561f28>,\n",
       "  'Phosmet, soil, agricultural': <lcatools.entities.LcFlow at 0x7f7cd2de0eb8>,\n",
       "  'Lead-210, water, ground-': <lcatools.entities.LcFlow at 0x7f7cd387a710>,\n",
       "  'Polonium-210, water, unspecified': <lcatools.entities.LcFlow at 0x7f7cd47e8c50>,\n",
       "  'Occupation, forest, extensive, natural resource, land': <lcatools.entities.LcFlow at 0x7f7cd3fcb860>,\n",
       "  'Krypton-87, air, lower stratosphere + upper troposphere': <lcatools.entities.LcFlow at 0x7f7cd36e7d30>,\n",
       "  'Methanol, water, unspecified': <lcatools.entities.LcFlow at 0x7f7cd2fb3da0>,\n",
       "  'Chloramine, water, ocean': <lcatools.entities.LcFlow at 0x7f7cd56d7fd0>,\n",
       "  'Uranium-235, air, non-urban air or from high stacks': <lcatools.entities.LcFlow at 0x7f7cd4acd940>,\n",
       "  'Antimony-122, water, ocean': <lcatools.entities.LcFlow at 0x7f7cd3f98400>,\n",
       "  'Xenon-137, air, unspecified': <lcatools.entities.LcFlow at 0x7f7cd4303550>,\n",
       "  'Occupation, annual crop, non-irrigated, natural resource, land': <lcatools.entities.LcFlow at 0x7f7cd35495f8>,\n",
       "  'Uranium-238, air, non-urban air or from high stacks': <lcatools.entities.LcFlow at 0x7f7cd278ada0>,\n",
       "  'Methane, trichlorofluoro-, CFC-11, air, low population density, long-term': <lcatools.entities.LcFlow at 0x7f7cd4f8a978>,\n",
       "  'Xenon-133m, air, unspecified': <lcatools.entities.LcFlow at 0x7f7cd39b93c8>,\n",
       "  'Hydrocarbons, aliphatic, alkanes, cyclic, air, unspecified': <lcatools.entities.LcFlow at 0x7f7cd32678d0>,\n",
       "  'Potassium-40, water, ocean': <lcatools.entities.LcFlow at 0x7f7cd2bc3128>,\n",
       "  'Ethane, hexafluoro-, HFC-116, air, lower stratosphere + upper troposphere': <lcatools.entities.LcFlow at 0x7f7cd5511550>,\n",
       "  'Dipropylamine, air, low population density, long-term': <lcatools.entities.LcFlow at 0x7f7cd39cf710>,\n",
       "  'Trimethylamine, air, low population density, long-term': <lcatools.entities.LcFlow at 0x7f7cd2467d68>,\n",
       "  'Ruthenium-106, water, surface water': <lcatools.entities.LcFlow at 0x7f7cd3e116d8>,\n",
       "  'Copper, 0.52% in sulfide, Cu 0.27% and Mo 8.2E-3% in crude ore, in ground, natural resource, in ground': <lcatools.entities.LcFlow at 0x7f7cd55192b0>,\n",
       "  'Barium, water, ground-, long-term': <lcatools.entities.LcFlow at 0x7f7cd3f6c6a0>,\n",
       "  'Carbon dioxide, to soil or biomass stock, soil, forestry': <lcatools.entities.LcFlow at 0x7f7cd3d439e8>,\n",
       "  'Chromium VI, water, ground-, long-term': <lcatools.entities.LcFlow at 0x7f7cd2f4b0f0>,\n",
       "  '4-Methyl-2-pentanol, water, ground-': <lcatools.entities.LcFlow at 0x7f7cd33a8eb8>,\n",
       "  'Fluoride, soil, forestry': <lcatools.entities.LcFlow at 0x7f7cd41b1668>,\n",
       "  'Benzaldehyde, air, lower stratosphere + upper troposphere': <lcatools.entities.LcFlow at 0x7f7cd2292da0>,\n",
       "  'Iron-59, air, unspecified': <lcatools.entities.LcFlow at 0x7f7cd57b1128>,\n",
       "  'Sodium formate, water, unspecified': <lcatools.entities.LcFlow at 0x7f7cd23f7cc0>,\n",
       "  'Actinides, radioactive, unspecified, water, surface water': <lcatools.entities.LcFlow at 0x7f7cd3515a20>,\n",
       "  'Toluene, 2-chloro, water, unspecified': <lcatools.entities.LcFlow at 0x7f7cd55323c8>,\n",
       "  'Azinphos-methyl, soil, agricultural': <lcatools.entities.LcFlow at 0x7f7cd2c3bd68>,\n",
       "  'Spodumene, in ground, natural resource, in ground': <lcatools.entities.LcFlow at 0x7f7cd4e357b8>,\n",
       "  'Butyl acetate, water, surface water': <lcatools.entities.LcFlow at 0x7f7cd4f2b828>,\n",
       "  'Ethene, tetrachloro-, air, lower stratosphere + upper troposphere': <lcatools.entities.LcFlow at 0x7f7cd4d35c50>,\n",
       "  'Chromium VI, air, unspecified': <lcatools.entities.LcFlow at 0x7f7cd38bb160>,\n",
       "  'Uranium-238, water, ground-, long-term': <lcatools.entities.LcFlow at 0x7f7cd37099e8>,\n",
       "  'Ethylamine, air, low population density, long-term': <lcatools.entities.LcFlow at 0x7f7cd3b65ba8>,\n",
       "  'Sulfuric acid, air, urban air close to ground': <lcatools.entities.LcFlow at 0x7f7cd3906d68>,\n",
       "  'Polonium-210, air, low population density, long-term': <lcatools.entities.LcFlow at 0x7f7cd22d83c8>,\n",
       "  'Occupation, bare area (non-use), natural resource, land': <lcatools.entities.LcFlow at 0x7f7cd3cc1a58>,\n",
       "  'Benzene, ethyl-, water, ground-': <lcatools.entities.LcFlow at 0x7f7cd39d5da0>,\n",
       "  'Thallium, air, non-urban air or from high stacks': <lcatools.entities.LcFlow at 0x7f7cd45ded30>,\n",
       "  'Strontium-90, water, ground-': <lcatools.entities.LcFlow at 0x7f7cd54cab70>,\n",
       "  'Hydrogen chloride, air, unspecified': <lcatools.entities.LcFlow at 0x7f7cd2b60940>,\n",
       "  'Chromium, air, unspecified': <lcatools.entities.LcFlow at 0x7f7cd2847860>,\n",
       "  'Chloramine, air, low population density, long-term': <lcatools.entities.LcFlow at 0x7f7cd4dca128>,\n",
       "  'Zinc, air, unspecified': <lcatools.entities.LcFlow at 0x7f7cd3b93eb8>,\n",
       "  'Lindane, soil, agricultural': <lcatools.entities.LcFlow at 0x7f7cd4049fd0>,\n",
       "  '2-Propanol, air, urban air close to ground': <lcatools.entities.LcFlow at 0x7f7cd2ac6b70>,\n",
       "  'Hydrocarbons, chlorinated, air, lower stratosphere + upper troposphere': <lcatools.entities.LcFlow at 0x7f7cd3d2bf28>,\n",
       "  'Tin, ion, water, unspecified': <lcatools.entities.LcFlow at 0x7f7cd2984358>,\n",
       "  '2-Propanol, water, unspecified': <lcatools.entities.LcFlow at 0x7f7cd3462ef0>,\n",
       "  'Tralomethrin, soil, agricultural': <lcatools.entities.LcFlow at 0x7f7cd3a16828>,\n",
       "  'BOD5, Biological Oxygen Demand, water, ground-, long-term': <lcatools.entities.LcFlow at 0x7f7cd2e6fdd8>,\n",
       "  'Niobium-95, air, urban air close to ground': <lcatools.entities.LcFlow at 0x7f7cd472d0b8>,\n",
       "  'Cloquintocet-mexyl, soil, agricultural': <lcatools.entities.LcFlow at 0x7f7cd4e7aeb8>,\n",
       "  'Bromate, water, ground-': <lcatools.entities.LcFlow at 0x7f7cd39f8a90>,\n",
       "  'Occupation, pasture, man made, extensive, natural resource, land': <lcatools.entities.LcFlow at 0x7f7cd4155828>,\n",
       "  'Antimony-125, water, surface water': <lcatools.entities.LcFlow at 0x7f7cd4355208>,\n",
       "  'Cumene, air, low population density, long-term': <lcatools.entities.LcFlow at 0x7f7cd34932e8>,\n",
       "  'Cumene, air, unspecified': <lcatools.entities.LcFlow at 0x7f7cd4486c50>,\n",
       "  'Formic acid, water, ground-, long-term': <lcatools.entities.LcFlow at 0x7f7cd5179898>,\n",
       "  'Uranium-235, water, surface water': <lcatools.entities.LcFlow at 0x7f7cd35a90b8>,\n",
       "  'Sulfur trioxide, air, non-urban air or from high stacks': <lcatools.entities.LcFlow at 0x7f7cd4a3f940>,\n",
       "  'Carboxylic acids, unspecified, water, ground-': <lcatools.entities.LcFlow at 0x7f7cd36d9390>,\n",
       "  'Transformation, to shrub land, sclerophyllous, natural resource, land': <lcatools.entities.LcFlow at 0x7f7cd376a550>,\n",
       "  'Chlorsulfuron, soil, agricultural': <lcatools.entities.LcFlow at 0x7f7cd3ce3518>,\n",
       "  '1-Pentene, air, lower stratosphere + upper troposphere': <lcatools.entities.LcFlow at 0x7f7cd3919588>,\n",
       "  'Abamectin, soil, agricultural': <lcatools.entities.LcFlow at 0x7f7cd333e780>,\n",
       "  'Cadmium-109, water, ocean': <lcatools.entities.LcFlow at 0x7f7cd3222898>,\n",
       "  'Ethene, tetrachloro-, water, surface water': <lcatools.entities.LcFlow at 0x7f7cd2ebc198>,\n",
       "  'Ethylene glycol monoethyl ether, air, low population density, long-term': <lcatools.entities.LcFlow at 0x7f7cd3b9c2b0>,\n",
       "  'Curium-242, air, urban air close to ground': <lcatools.entities.LcFlow at 0x7f7cd2fc6160>,\n",
       "  'Uranium alpha, air, non-urban air or from high stacks': <lcatools.entities.LcFlow at 0x7f7cd4202b70>,\n",
       "  'Difenoconazole, soil, agricultural': <lcatools.entities.LcFlow at 0x7f7cd4dedf98>,\n",
       "  'Thiodicarb, air, non-urban air or from high stacks': <lcatools.entities.LcFlow at 0x7f7cd29707f0>,\n",
       "  '2-Propanol, air, non-urban air or from high stacks': <lcatools.entities.LcFlow at 0x7f7cd2f896d8>,\n",
       "  'Cerium-141, water, unspecified': <lcatools.entities.LcFlow at 0x7f7cd4493f98>,\n",
       "  'Thorium-232, water, surface water': <lcatools.entities.LcFlow at 0x7f7cd263afd0>,\n",
       "  'Manganese, soil, unspecified': <lcatools.entities.LcFlow at 0x7f7cd3a5a6a0>,\n",
       "  'Transformation, from dump site, slag compartment, natural resource, land': <lcatools.entities.LcFlow at 0x7f7cd48a1908>,\n",
       "  'Aerosols, radioactive, unspecified, air, low population density, long-term': <lcatools.entities.LcFlow at 0x7f7cd573ee48>,\n",
       "  'Hypochlorite, water, ground-': <lcatools.entities.LcFlow at 0x7f7cd3eca0f0>,\n",
       "  'Imidacloprid, soil, agricultural': <lcatools.entities.LcFlow at 0x7f7cd4279b00>,\n",
       "  'Zirconium-95, water, surface water': <lcatools.entities.LcFlow at 0x7f7cd37bbd68>,\n",
       "  'Lead-210, water, unspecified': <lcatools.entities.LcFlow at 0x7f7cd528fc88>,\n",
       "  'Transformation, from river, natural (non-use), natural resource, land': <lcatools.entities.LcFlow at 0x7f7cd5169cf8>,\n",
       "  'Formic acid, water, ground-': <lcatools.entities.LcFlow at 0x7f7cd35a1d68>,\n",
       "  'Plutonium-241, water, ground-': <lcatools.entities.LcFlow at 0x7f7cd51f46a0>,\n",
       "  'Methyl acrylate, air, lower stratosphere + upper troposphere': <lcatools.entities.LcFlow at 0x7f7cd36380f0>,\n",
       "  'Ethane thiol, air, non-urban air or from high stacks': <lcatools.entities.LcFlow at 0x7f7cd2c21438>,\n",
       "  'Oils, non-fossil, soil, unspecified': <lcatools.entities.LcFlow at 0x7f7cd33a8780>,\n",
       "  'Chlorine, air, non-urban air or from high stacks': <lcatools.entities.LcFlow at 0x7f7cd332f3c8>,\n",
       "  'Particulates, > 10 um, air, non-urban air or from high stacks': <lcatools.entities.LcFlow at 0x7f7cd39bd7b8>,\n",
       "  'Propane, air, low population density, long-term': <lcatools.entities.LcFlow at 0x7f7cd57d6ac8>,\n",
       "  'Radium-228, water, ground-, long-term': <lcatools.entities.LcFlow at 0x7f7cd32c72e8>,\n",
       "  'Formic acid, water, surface water': <lcatools.entities.LcFlow at 0x7f7cd50e2ba8>,\n",
       "  'Selenium, air, lower stratosphere + upper troposphere': <lcatools.entities.LcFlow at 0x7f7cd2229c88>,\n",
       "  'Benzo(a)pyrene, air, lower stratosphere + upper troposphere': <lcatools.entities.LcFlow at 0x7f7cd35ba8d0>,\n",
       "  'Glutaraldehyde, water, ground-, long-term': <lcatools.entities.LcFlow at 0x7f7cd3222978>,\n",
       "  'Phenol, air, non-urban air or from high stacks': <lcatools.entities.LcFlow at 0x7f7cd3b2c6a0>,\n",
       "  'Methane, chloro-fluoro-, HCFC-31, air, lower stratosphere + upper troposphere': <lcatools.entities.LcFlow at 0x7f7cd41f2630>,\n",
       "  'Strontium-90, air, low population density, long-term': <lcatools.entities.LcFlow at 0x7f7cd2960b70>,\n",
       "  'Methane, trifluoro-, HFC-23, air, lower stratosphere + upper troposphere': <lcatools.entities.LcFlow at 0x7f7cd3c13f60>,\n",
       "  'MSMA, soil, agricultural': <lcatools.entities.LcFlow at 0x7f7cd2f4e2b0>,\n",
       "  'Radium-228, air, unspecified': <lcatools.entities.LcFlow at 0x7f7cd3202b70>,\n",
       "  'Cesium-136, water, ground-': <lcatools.entities.LcFlow at 0x7f7cd3c859e8>,\n",
       "  'Yttrium-90, water, ocean': <lcatools.entities.LcFlow at 0x7f7cd4faf748>,\n",
       "  'Ethane, 1,2-dichloro-, water, unspecified': <lcatools.entities.LcFlow at 0x7f7cd3feff60>,\n",
       "  'Butene, air, non-urban air or from high stacks': <lcatools.entities.LcFlow at 0x7f7cd2f84400>,\n",
       "  'Methyl acetate, air, low population density, long-term': <lcatools.entities.LcFlow at 0x7f7cd4a3fc18>,\n",
       "  'Plutonium-241, air, unspecified': <lcatools.entities.LcFlow at 0x7f7cd41e0828>,\n",
       "  'Ethalfluralin, soil, agricultural': <lcatools.entities.LcFlow at 0x7f7cd3488128>,\n",
       "  'Bromine, water, ground-, long-term': <lcatools.entities.LcFlow at 0x7f7cd40fd438>,\n",
       "  'Benzene, water, surface water': <lcatools.entities.LcFlow at 0x7f7cd35d94e0>,\n",
       "  'Uranium, air, urban air close to ground': <lcatools.entities.LcFlow at 0x7f7cd3cae4a8>,\n",
       "  't-Butylamine, air, low population density, long-term': <lcatools.entities.LcFlow at 0x7f7cd2abffd0>,\n",
       "  'Strontium-89, air, low population density, long-term': <lcatools.entities.LcFlow at 0x7f7cd394acc0>,\n",
       "  'Barium-140, air, non-urban air or from high stacks': <lcatools.entities.LcFlow at 0x7f7cd3e3da58>,\n",
       "  'Glutaraldehyde, water, ocean': <lcatools.entities.LcFlow at 0x7f7cd3f4dcc0>,\n",
       "  '4-Methyl-2-pentanone, water, unspecified': <lcatools.entities.LcFlow at 0x7f7cd24d7f60>,\n",
       "  'Oils, unspecified, water, ground-, long-term': <lcatools.entities.LcFlow at 0x7f7cd429c978>,\n",
       "  'Transformation, from annual crop, flooded crop, natural resource, land': <lcatools.entities.LcFlow at 0x7f7cd35d5b70>,\n",
       "  'Carbon dioxide, fossil, air, low population density, long-term': <lcatools.entities.LcFlow at 0x7f7cd52b4f28>,\n",
       "  'Thorium-230, water, ground-, long-term': <lcatools.entities.LcFlow at 0x7f7cd4b38198>,\n",
       "  'Krypton-87, air, urban air close to ground': <lcatools.entities.LcFlow at 0x7f7cd36bbcc0>,\n",
       "  'Strontium-90, air, unspecified': <lcatools.entities.LcFlow at 0x7f7cd36e7ac8>,\n",
       "  'Cesium-137, water, ground-, long-term': <lcatools.entities.LcFlow at 0x7f7cd2a12f60>,\n",
       "  'Transformation, from urban, continuously built, natural resource, land': <lcatools.entities.LcFlow at 0x7f7cd2f79898>,\n",
       "  'Occupation, forest, intensive, natural resource, land': <lcatools.entities.LcFlow at 0x7f7cd353b1d0>,\n",
       "  'Zeta-cypermethrin, soil, agricultural': <lcatools.entities.LcFlow at 0x7f7cd3473cf8>,\n",
       "  'Strontium-89, water, unspecified': <lcatools.entities.LcFlow at 0x7f7cd2a9d240>,\n",
       "  'Kresoxim-methyl, soil, agricultural': <lcatools.entities.LcFlow at 0x7f7cd2737828>,\n",
       "  'Chlormequat, soil, agricultural': <lcatools.entities.LcFlow at 0x7f7cd2f79160>,\n",
       "  'Nitrite, water, surface water': <lcatools.entities.LcFlow at 0x7f7cd43b86d8>,\n",
       "  'Krypton-88, air, urban air close to ground': <lcatools.entities.LcFlow at 0x7f7cd35284e0>,\n",
       "  'Sodium formate, water, ocean': <lcatools.entities.LcFlow at 0x7f7cd39bd8d0>,\n",
       "  'Silver-110, water, ocean': <lcatools.entities.LcFlow at 0x7f7cd254dc88>,\n",
       "  'Cadmium, soil, unspecified': <lcatools.entities.LcFlow at 0x7f7cd5681828>,\n",
       "  '2-Methyl-1-propanol, air, unspecified': <lcatools.entities.LcFlow at 0x7f7cd36e7e10>,\n",
       "  'Tin, 79% in cassiterite, 0.1% in crude ore, in ground, natural resource, in ground': <lcatools.entities.LcFlow at 0x7f7cd5226400>,\n",
       "  'Diisobutyl ketone, water, ocean': <lcatools.entities.LcFlow at 0x7f7cd3e3dc50>,\n",
       "  'Transformation, from urban, discontinuously built, natural resource, land': <lcatools.entities.LcFlow at 0x7f7cd360bfd0>,\n",
       "  'Particulates, < 2.5 um, air, unspecified': <lcatools.entities.LcFlow at 0x7f7cd5418e80>,\n",
       "  'Yttrium-90, water, ground-, long-term': <lcatools.entities.LcFlow at 0x7f7cd35cb748>,\n",
       "  'Methyl amine, air, urban air close to ground': <lcatools.entities.LcFlow at 0x7f7cd4a3f278>,\n",
       "  'Methyl borate, air, low population density, long-term': <lcatools.entities.LcFlow at 0x7f7cd376d6a0>,\n",
       "  'Methyl formate, water, ground-': <lcatools.entities.LcFlow at 0x7f7cd4207e48>,\n",
       "  'Toluene, 2-chloro, water, ground-, long-term': <lcatools.entities.LcFlow at 0x7f7cd21f4f60>,\n",
       "  'Hydrocarbons, aromatic, water, ground-': <lcatools.entities.LcFlow at 0x7f7cd3d37b70>,\n",
       "  'Triasulfuron, soil, agricultural': <lcatools.entities.LcFlow at 0x7f7cd303eeb8>,\n",
       "  'Dioxins, measured as 2,3,7,8-tetrachlorodibenzo-p-dioxin, water, surface water': <lcatools.entities.LcFlow at 0x7f7cd3a63cc0>,\n",
       "  'Cyanoacetic acid, air, lower stratosphere + upper troposphere': <lcatools.entities.LcFlow at 0x7f7cd4367ef0>,\n",
       "  'Silver, air, lower stratosphere + upper troposphere': <lcatools.entities.LcFlow at 0x7f7cd3e16f60>,\n",
       "  'Fenoxaprop, soil, agricultural': <lcatools.entities.LcFlow at 0x7f7cd3cae320>,\n",
       "  'Dinitrogen monoxide, air, low population density, long-term': <lcatools.entities.LcFlow at 0x7f7cd4885198>,\n",
       "  'Carbon monoxide, from soil or biomass stock, air, lower stratosphere + upper troposphere': <lcatools.entities.LcFlow at 0x7f7cd338b710>,\n",
       "  'Anthranilic acid, air, urban air close to ground': <lcatools.entities.LcFlow at 0x7f7cd3d10940>,\n",
       "  'Carbon monoxide, from soil or biomass stock, air, non-urban air or from high stacks': <lcatools.entities.LcFlow at 0x7f7cd4b4b898>,\n",
       "  'Ethene, chloro-, air, unspecified': <lcatools.entities.LcFlow at 0x7f7cd3fd8fd0>,\n",
       "  'Fenbuconazole, soil, agricultural': <lcatools.entities.LcFlow at 0x7f7cd5364710>,\n",
       "  'Acetone, water, ground-': <lcatools.entities.LcFlow at 0x7f7cd5789a58>,\n",
       "  '1-Pentene, air, urban air close to ground': <lcatools.entities.LcFlow at 0x7f7cd46f6fd0>,\n",
       "  'Argon-41, air, unspecified': <lcatools.entities.LcFlow at 0x7f7cd57639e8>,\n",
       "  'Lactic acid, air, urban air close to ground': <lcatools.entities.LcFlow at 0x7f7cd39325c0>,\n",
       "  'Gold, Au 1.3E-4%, Ag 4.6E-5%, in ore, in ground, natural resource, in ground': <lcatools.entities.LcFlow at 0x7f7cd38dcd30>,\n",
       "  'Methane, fossil, air, unspecified': <lcatools.entities.LcFlow at 0x7f7cd57a7ef0>,\n",
       "  'Sodium dichromate, air, urban air close to ground': <lcatools.entities.LcFlow at 0x7f7cd3927be0>,\n",
       "  'Bromate, water, ocean': <lcatools.entities.LcFlow at 0x7f7cd41ebc88>,\n",
       "  'Prothioconazol, soil, agricultural': <lcatools.entities.LcFlow at 0x7f7cd2a9df98>,\n",
       "  'Methyl acetate, air, urban air close to ground': <lcatools.entities.LcFlow at 0x7f7cd2fc6320>,\n",
       "  'Butyl acetate, air, non-urban air or from high stacks': <lcatools.entities.LcFlow at 0x7f7cd391b6a0>,\n",
       "  'Acrylic acid, air, unspecified': <lcatools.entities.LcFlow at 0x7f7cd4c4d0b8>,\n",
       "  'Ethane, 1,1,2-trichloro-1,2,2-trifluoro-, CFC-113, air, unspecified': <lcatools.entities.LcFlow at 0x7f7cd328b5c0>,\n",
       "  'Occupation, river, natural (non-use), natural resource, land': <lcatools.entities.LcFlow at 0x7f7cd33e3208>,\n",
       "  'Phosphoric acid, air, lower stratosphere + upper troposphere': <lcatools.entities.LcFlow at 0x7f7cd28606d8>,\n",
       "  'Arsenic, ion, water, unspecified': <lcatools.entities.LcFlow at 0x7f7cd28577b8>,\n",
       "  'Butanol, air, unspecified': <lcatools.entities.LcFlow at 0x7f7cd33a1ba8>,\n",
       "  'Gas, mine, off-gas, process, coal mining, natural resource, in ground': <lcatools.entities.LcFlow at 0x7f7cd507a828>,\n",
       "  'Ethane, pentafluoro-, HFC-125, air, low population density, long-term': <lcatools.entities.LcFlow at 0x7f7cd35d1978>,\n",
       "  'Flupyrsulfuron-methyl, soil, agricultural': <lcatools.entities.LcFlow at 0x7f7cd573eba8>,\n",
       "  'Occupation, seabed, natural (non-use), natural resource, land': <lcatools.entities.LcFlow at 0x7f7cd4869e48>,\n",
       "  'Ethane, pentafluoro-, HFC-125, air, lower stratosphere + upper troposphere': <lcatools.entities.LcFlow at 0x7f7cd32efeb8>,\n",
       "  'Xenon-138, air, non-urban air or from high stacks': <lcatools.entities.LcFlow at 0x7f7cd38d74e0>,\n",
       "  'Mercury, air, urban air close to ground': <lcatools.entities.LcFlow at 0x7f7cd2ec7ac8>,\n",
       "  'Acrylic acid, air, non-urban air or from high stacks': <lcatools.entities.LcFlow at 0x7f7cd2fb9128>,\n",
       "  'Fluoride, soil, industrial': <lcatools.entities.LcFlow at 0x7f7cd2f24668>,\n",
       "  'Cobalt-60, air, lower stratosphere + upper troposphere': <lcatools.entities.LcFlow at 0x7f7cd5290a58>,\n",
       "  'Carbon monoxide, from soil or biomass stock, air, urban air close to ground': <lcatools.entities.LcFlow at 0x7f7cd3507400>,\n",
       "  'Iodine-131, air, lower stratosphere + upper troposphere': <lcatools.entities.LcFlow at 0x7f7cd370d898>,\n",
       "  'Niobium-95, water, ground-, long-term': <lcatools.entities.LcFlow at 0x7f7cd34958d0>,\n",
       "  'Transformation, to cropland fallow (non-use), natural resource, land': <lcatools.entities.LcFlow at 0x7f7cd3c68198>,\n",
       "  'Metazachlor, soil, agricultural': <lcatools.entities.LcFlow at 0x7f7cd47805f8>,\n",
       "  'Benzene, ethyl-, air, non-urban air or from high stacks': <lcatools.entities.LcFlow at 0x7f7cd30d12b0>,\n",
       "  'Oils, unspecified, water, unspecified': <lcatools.entities.LcFlow at 0x7f7cd3a85470>,\n",
       "  'Mercury, soil, unspecified': <lcatools.entities.LcFlow at 0x7f7cd3f3a2e8>,\n",
       "  'Promethium-147, air, unspecified': <lcatools.entities.LcFlow at 0x7f7cd2e91748>,\n",
       "  'Antimony-124, water, unspecified': <lcatools.entities.LcFlow at 0x7f7cd4c01978>,\n",
       "  'Transformation, from traffic area, rail/road embankment, natural resource, land': <lcatools.entities.LcFlow at 0x7f7cd3d6ac18>,\n",
       "  'Trifloxystrobin, soil, agricultural': <lcatools.entities.LcFlow at 0x7f7cd24e57f0>,\n",
       "  'Occupation, permanent crop, irrigated, natural resource, land': <lcatools.entities.LcFlow at 0x7f7cd389ea58>,\n",
       "  'Diethylamine, water, surface water': <lcatools.entities.LcFlow at 0x7f7cd3acfcf8>,\n",
       "  'Methane, non-fossil, air, low population density, long-term': <lcatools.entities.LcFlow at 0x7f7cd324e8d0>,\n",
       "  'Lead, water, ground-, long-term': <lcatools.entities.LcFlow at 0x7f7cd426ffd0>,\n",
       "  'Tributyltin compounds, water, ground-, long-term': <lcatools.entities.LcFlow at 0x7f7cd47c0208>,\n",
       "  'Vanadium, soil, forestry': <lcatools.entities.LcFlow at 0x7f7cd34ac3c8>,\n",
       "  'Sulfate, air, unspecified': <lcatools.entities.LcFlow at 0x7f7cd36bc208>,\n",
       "  'Ethylene oxide, air, unspecified': <lcatools.entities.LcFlow at 0x7f7cd4f96128>,\n",
       "  'Barium-140, air, urban air close to ground': <lcatools.entities.LcFlow at 0x7f7cd322a2e8>,\n",
       "  'Krypton-88, air, unspecified': <lcatools.entities.LcFlow at 0x7f7cd3e34390>,\n",
       "  'Thorium-232, water, ground-': <lcatools.entities.LcFlow at 0x7f7cd219ab00>,\n",
       "  'Lanthanum-140, water, ground-': <lcatools.entities.LcFlow at 0x7f7cd3618630>,\n",
       "  'Silver-110, air, non-urban air or from high stacks': <lcatools.entities.LcFlow at 0x7f7cd52f9fd0>,\n",
       "  'm-Xylene, water, ground-, long-term': <lcatools.entities.LcFlow at 0x7f7cd3475128>,\n",
       "  'Propionic acid, water, ground-, long-term': <lcatools.entities.LcFlow at 0x7f7cd4805710>,\n",
       "  'Methane, dichlorofluoro-, HCFC-21, air, non-urban air or from high stacks': <lcatools.entities.LcFlow at 0x7f7cd227d470>,\n",
       "  'Diflubenzuron, soil, agricultural': <lcatools.entities.LcFlow at 0x7f7cd3413358>,\n",
       "  'Phenol, air, lower stratosphere + upper troposphere': <lcatools.entities.LcFlow at 0x7f7cd36eb208>,\n",
       "  'Cyprodinil, soil, agricultural': <lcatools.entities.LcFlow at 0x7f7cd3454320>,\n",
       "  'Urea, water, ground-': <lcatools.entities.LcFlow at 0x7f7cd3d3a860>,\n",
       "  'Propanol, water, ground-, long-term': <lcatools.entities.LcFlow at 0x7f7cd50cce10>,\n",
       "  'Ethene, chloro-, air, non-urban air or from high stacks': <lcatools.entities.LcFlow at 0x7f7cd25d6668>,\n",
       "  'Iodine-129, water, surface water': <lcatools.entities.LcFlow at 0x7f7cd33ecef0>,\n",
       "  'Carfentrazone-ethyl, soil, agricultural': <lcatools.entities.LcFlow at 0x7f7cd3709ef0>,\n",
       "  'Methane, fossil, air, lower stratosphere + upper troposphere': <lcatools.entities.LcFlow at 0x7f7cd3a4ca90>,\n",
       "  'Selenium, water, surface water': <lcatools.entities.LcFlow at 0x7f7cd4de50b8>,\n",
       "  'Epoxiconazole, soil, agricultural': <lcatools.entities.LcFlow at 0x7f7cd4170f98>,\n",
       "  'Iodine-135, air, lower stratosphere + upper troposphere': <lcatools.entities.LcFlow at 0x7f7cd2b70438>,\n",
       "  'Ethyl acetate, water, ocean': <lcatools.entities.LcFlow at 0x7f7cd298c0b8>,\n",
       "  'Rh, Rh 2.0E-5%, Pt 2.5E-4%, Pd 7.3E-4%, Ni 2.3E+0%, Cu 3.2E+0% in ore, in ground, natural resource, in ground': <lcatools.entities.LcFlow at 0x7f7cd39c9b00>,\n",
       "  'Triforine, soil, agricultural': <lcatools.entities.LcFlow at 0x7f7cd3f57860>,\n",
       "  'Ethylene oxide, water, ocean': <lcatools.entities.LcFlow at 0x7f7cd33b5860>,\n",
       "  'Antimony-125, air, non-urban air or from high stacks': <lcatools.entities.LcFlow at 0x7f7cd4e21550>,\n",
       "  'Uranium alpha, water, surface water': <lcatools.entities.LcFlow at 0x7f7cd37f6358>,\n",
       "  'Plutonium-alpha, air, low population density, long-term': <lcatools.entities.LcFlow at 0x7f7cd2fce2b0>,\n",
       "  'Radioactive species, Nuclides, unspecified, water, surface water': <lcatools.entities.LcFlow at 0x7f7cd3d7a160>,\n",
       "  'Iron-59, air, urban air close to ground': <lcatools.entities.LcFlow at 0x7f7cd3cf0a20>,\n",
       "  'Propanal, water, unspecified': <lcatools.entities.LcFlow at 0x7f7cd4df3ba8>,\n",
       "  'Ethene, chloro-, water, unspecified': <lcatools.entities.LcFlow at 0x7f7cd34d4c88>,\n",
       "  'Paraquat, soil, agricultural': <lcatools.entities.LcFlow at 0x7f7cd2844f60>,\n",
       "  'Dioxins, measured as 2,3,7,8-tetrachlorodibenzo-p-dioxin, air, urban air close to ground': <lcatools.entities.LcFlow at 0x7f7cd53c89e8>,\n",
       "  'Xylene, water, surface water': <lcatools.entities.LcFlow at 0x7f7cd53176d8>,\n",
       "  'Methane, chlorodifluoro-, HCFC-22, air, lower stratosphere + upper troposphere': <lcatools.entities.LcFlow at 0x7f7cd36b1e80>,\n",
       "  'Vanadium, air, unspecified': <lcatools.entities.LcFlow at 0x7f7cd3c3d9b0>,\n",
       "  'Methane, dichlorofluoro-, HCFC-21, air, urban air close to ground': <lcatools.entities.LcFlow at 0x7f7cd50a4ba8>,\n",
       "  'Barium-140, water, ocean': <lcatools.entities.LcFlow at 0x7f7cd2ba3b00>,\n",
       "  'Ruthenium-103, water, ocean': <lcatools.entities.LcFlow at 0x7f7cd39da2b0>,\n",
       "  'Actinides, radioactive, unspecified, water, ocean': <lcatools.entities.LcFlow at 0x7f7cd3f3a128>,\n",
       "  'Aluminium, air, low population density, long-term': <lcatools.entities.LcFlow at 0x7f7cd4f80be0>,\n",
       "  'Actinides, radioactive, unspecified, air, unspecified': <lcatools.entities.LcFlow at 0x7f7cd348f5c0>,\n",
       "  'Cerium-141, water, ground-': <lcatools.entities.LcFlow at 0x7f7cd3352b00>,\n",
       "  'Cesium-136, water, surface water': <lcatools.entities.LcFlow at 0x7f7cd2457c18>,\n",
       "  'Cyanide, water, ocean': <lcatools.entities.LcFlow at 0x7f7cd40daa58>,\n",
       "  'Butanol, air, urban air close to ground': <lcatools.entities.LcFlow at 0x7f7cd2f58080>,\n",
       "  'Curium alpha, water, surface water': <lcatools.entities.LcFlow at 0x7f7cd3accba8>,\n",
       "  'Heat, waste, air, low population density, long-term': <lcatools.entities.LcFlow at 0x7f7cd39f8780>,\n",
       "  'Arsenic, soil, forestry': <lcatools.entities.LcFlow at 0x7f7cd37e8ba8>,\n",
       "  'Epichlorohydrin, air, non-urban air or from high stacks': <lcatools.entities.LcFlow at 0x7f7cd3039898>,\n",
       "  'Monolinuron, soil, agricultural': <lcatools.entities.LcFlow at 0x7f7cd3fba358>,\n",
       "  'Krypton-85m, air, low population density, long-term': <lcatools.entities.LcFlow at 0x7f7cd4fce7b8>,\n",
       "  'Butadiene, air, non-urban air or from high stacks': <lcatools.entities.LcFlow at 0x7f7cd4713828>,\n",
       "  'Occupation, lake, natural (non-use), natural resource, land': <lcatools.entities.LcFlow at 0x7f7cd373bdd8>,\n",
       "  'Thallium, soil, forestry': <lcatools.entities.LcFlow at 0x7f7cd38b7630>,\n",
       "  'Lead-210, water, ground-, long-term': <lcatools.entities.LcFlow at 0x7f7cd3676c88>,\n",
       "  'Chlorosulfonic acid, water, surface water': <lcatools.entities.LcFlow at 0x7f7cd43bf940>,\n",
       "  'Molybdenum-99, water, unspecified': <lcatools.entities.LcFlow at 0x7f7cd2e879e8>,\n",
       "  '1-Pentanol, water, surface water': <lcatools.entities.LcFlow at 0x7f7cd27c1cf8>,\n",
       "  'Phthalate, dioctyl-, water, ocean': <lcatools.entities.LcFlow at 0x7f7cd420d160>,\n",
       "  'Ethane, chloropentafluoro-, CFC-115, air, unspecified': <lcatools.entities.LcFlow at 0x7f7cd5822748>,\n",
       "  'Oils, unspecified, soil, agricultural': <lcatools.entities.LcFlow at 0x7f7cd387a7f0>,\n",
       "  'Thidiazuron, soil, agricultural': <lcatools.entities.LcFlow at 0x7f7cd3a8ba58>,\n",
       "  'Fluoride, water, ocean': <lcatools.entities.LcFlow at 0x7f7cd33355c0>,\n",
       "  'Thorium-232, water, ocean': <lcatools.entities.LcFlow at 0x7f7cd385b668>,\n",
       "  'Iodine-129, water, unspecified': <lcatools.entities.LcFlow at 0x7f7cd311ecc0>,\n",
       "  'Niobium-95, air, unspecified': <lcatools.entities.LcFlow at 0x7f7cd3251a58>,\n",
       "  'Cerium-141, air, lower stratosphere + upper troposphere': <lcatools.entities.LcFlow at 0x7f7cd4e34668>,\n",
       "  'Isoprene, air, non-urban air or from high stacks': <lcatools.entities.LcFlow at 0x7f7cd33f8fd0>,\n",
       "  'Uranium-235, air, urban air close to ground': <lcatools.entities.LcFlow at 0x7f7cd2fc7ba8>,\n",
       "  'Ethane, 1,1,2-trichloro-1,2,2-trifluoro-, CFC-113, air, low population density, long-term': <lcatools.entities.LcFlow at 0x7f7cd3224d68>,\n",
       "  'Transformation, to inland waterbody, unspecified, natural resource, land': <lcatools.entities.LcFlow at 0x7f7cd41d5a90>,\n",
       "  'Transformation, to pasture, man made, intensive, natural resource, land': <lcatools.entities.LcFlow at 0x7f7cd26e7160>,\n",
       "  'Urea, water, ocean': <lcatools.entities.LcFlow at 0x7f7cd4c70080>,\n",
       "  'Phosphate, water, unspecified': <lcatools.entities.LcFlow at 0x7f7cd32cc5f8>,\n",
       "  'Silver, 0.007% in sulfide, Ag 0.004%, Pb, Zn, Cd, In, in ground, natural resource, in ground': <lcatools.entities.LcFlow at 0x7f7cd2c4efd0>,\n",
       "  'Phthalate, dioctyl-, water, ground-, long-term': <lcatools.entities.LcFlow at 0x7f7cd43596d8>,\n",
       "  'Methane, tetrachloro-, R-10, water, ground-': <lcatools.entities.LcFlow at 0x7f7cd49f2898>,\n",
       "  'Arsenic, ion, water, ground-': <lcatools.entities.LcFlow at 0x7f7cd40d37b8>,\n",
       "  'Metribuzin, air, non-urban air or from high stacks': <lcatools.entities.LcFlow at 0x7f7cd35d5898>,\n",
       "  'Nitrobenzene, water, surface water': <lcatools.entities.LcFlow at 0x7f7cd3532780>,\n",
       "  'Vanadium, air, non-urban air or from high stacks': <lcatools.entities.LcFlow at 0x7f7cd3d7ae48>,\n",
       "  'Methyl lactate, air, low population density, long-term': <lcatools.entities.LcFlow at 0x7f7cd5041dd8>,\n",
       "  'Ethylene oxide, water, ground-': <lcatools.entities.LcFlow at 0x7f7cd2b07a20>,\n",
       "  'Methyl acrylate, air, low population density, long-term': <lcatools.entities.LcFlow at 0x7f7cd354a2b0>,\n",
       "  'Cerium-144, water, ocean': <lcatools.entities.LcFlow at 0x7f7cd48a1b70>,\n",
       "  'Propaquizafop, soil, agricultural': <lcatools.entities.LcFlow at 0x7f7cd3c98b38>,\n",
       "  'Thorium-234, air, lower stratosphere + upper troposphere': <lcatools.entities.LcFlow at 0x7f7cd33e2358>,\n",
       "  'Lactofen, soil, agricultural': <lcatools.entities.LcFlow at 0x7f7cd46e72e8>,\n",
       "  'Acetic acid, water, ground-, long-term': <lcatools.entities.LcFlow at 0x7f7cd270f128>,\n",
       "  'Thorium-230, air, urban air close to ground': <lcatools.entities.LcFlow at 0x7f7cd412be48>,\n",
       "  'Acetamide, soil, agricultural': <lcatools.entities.LcFlow at 0x7f7cd2fe0908>,\n",
       "  'Benzo(a)pyrene, air, urban air close to ground': <lcatools.entities.LcFlow at 0x7f7cd3f90240>,\n",
       "  'Nitrate, water, unspecified': <lcatools.entities.LcFlow at 0x7f7cd4e0efd0>,\n",
       "  'Plutonium-alpha, water, ground-': <lcatools.entities.LcFlow at 0x7f7cd35ebd68>,\n",
       "  'Cadmium, 0.30% in sulfide, Cd 0.18%, Pb, Zn, Ag, In, in ground, natural resource, in ground': <lcatools.entities.LcFlow at 0x7f7cd3b14518>,\n",
       "  'Niobium-95, water, ground-': <lcatools.entities.LcFlow at 0x7f7cd3b260f0>,\n",
       "  'Sulfur trioxide, air, urban air close to ground': <lcatools.entities.LcFlow at 0x7f7cd3487e10>,\n",
       "  'Nickel, air, low population density, long-term': <lcatools.entities.LcFlow at 0x7f7cd32cd828>,\n",
       "  'Florasulam, soil, agricultural': <lcatools.entities.LcFlow at 0x7f7cd43b84e0>,\n",
       "  'Acetic acid, water, ground-': <lcatools.entities.LcFlow at 0x7f7cd4d0f748>,\n",
       "  'Ethene, air, lower stratosphere + upper troposphere': <lcatools.entities.LcFlow at 0x7f7cd335b518>,\n",
       "  'Vanadium, ion, water, ground-, long-term': <lcatools.entities.LcFlow at 0x7f7cd3de9eb8>,\n",
       "  'Curium alpha, water, unspecified': <lcatools.entities.LcFlow at 0x7f7cd21f9e48>,\n",
       "  'Propylamine, water, surface water': <lcatools.entities.LcFlow at 0x7f7cd4885fd0>,\n",
       "  'Acetonitrile, water, ground-': <lcatools.entities.LcFlow at 0x7f7cd3ccb780>,\n",
       "  'Ethane, 1,1,2-trichloro-, air, urban air close to ground': <lcatools.entities.LcFlow at 0x7f7cd37d8be0>,\n",
       "  'Thorium-230, air, low population density, long-term': <lcatools.entities.LcFlow at 0x7f7cd528f710>,\n",
       "  'Phosphorus, air, non-urban air or from high stacks': <lcatools.entities.LcFlow at 0x7f7cd2fca6d8>,\n",
       "  'Monochloroethane, air, urban air close to ground': <lcatools.entities.LcFlow at 0x7f7cd22e5e80>,\n",
       "  'Methane, tetrafluoro-, R-14, air, low population density, long-term': <lcatools.entities.LcFlow at 0x7f7cd23c9470>,\n",
       "  'Flumetsulam, air, non-urban air or from high stacks': <lcatools.entities.LcFlow at 0x7f7cd4fce198>,\n",
       "  'Transformation, from unspecified, natural (non-use), natural resource, land': <lcatools.entities.LcFlow at 0x7f7cd550c2b0>,\n",
       "  'PAH, polycyclic aromatic hydrocarbons, water, ground-, long-term': <lcatools.entities.LcFlow at 0x7f7cd33634e0>,\n",
       "  'Iodine-133, water, ocean': <lcatools.entities.LcFlow at 0x7f7cd5169eb8>,\n",
       "  'Antimony, water, unspecified': <lcatools.entities.LcFlow at 0x7f7cd2de85c0>,\n",
       "  'Cobalt, air, lower stratosphere + upper troposphere': <lcatools.entities.LcFlow at 0x7f7cd43c5320>,\n",
       "  'Cadmium, ion, water, ground-, long-term': <lcatools.entities.LcFlow at 0x7f7cd4e9f908>,\n",
       "  'Radon-220, air, unspecified': <lcatools.entities.LcFlow at 0x7f7cd34724a8>,\n",
       "  'Ethylene oxide, air, urban air close to ground': <lcatools.entities.LcFlow at 0x7f7cd3dab9e8>,\n",
       "  'Cumene, water, ocean': <lcatools.entities.LcFlow at 0x7f7cd3d52ef0>,\n",
       "  'Endothall, soil, agricultural': <lcatools.entities.LcFlow at 0x7f7cd36fbda0>,\n",
       "  'Aniline, water, ground-': <lcatools.entities.LcFlow at 0x7f7cd4df3eb8>,\n",
       "  'Lead-210, air, lower stratosphere + upper troposphere': <lcatools.entities.LcFlow at 0x7f7cd2bb9898>,\n",
       "  'Quinclorac, soil, agricultural': <lcatools.entities.LcFlow at 0x7f7cd3acc9b0>,\n",
       "  'Phenol, air, low population density, long-term': <lcatools.entities.LcFlow at 0x7f7cd3287048>,\n",
       "  'Xenon-131m, air, non-urban air or from high stacks': <lcatools.entities.LcFlow at 0x7f7cd2dc2080>,\n",
       "  'Ammonium carbonate, air, urban air close to ground': <lcatools.entities.LcFlow at 0x7f7cd421ef98>,\n",
       "  'Diuron, soil, agricultural': <lcatools.entities.LcFlow at 0x7f7cd372d320>,\n",
       "  'Transformation, from cropland fallow (non-use), natural resource, land': <lcatools.entities.LcFlow at 0x7f7cd3ce32b0>,\n",
       "  'Methanol, air, non-urban air or from high stacks': <lcatools.entities.LcFlow at 0x7f7cd54f5908>,\n",
       "  'Ethyl acetate, air, non-urban air or from high stacks': <lcatools.entities.LcFlow at 0x7f7cd2c05320>,\n",
       "  'Methane, fossil, air, non-urban air or from high stacks': <lcatools.entities.LcFlow at 0x7f7cd39da550>,\n",
       "  '4-Methyl-2-pentanone, air, urban air close to ground': <lcatools.entities.LcFlow at 0x7f7cd363b3c8>,\n",
       "  'Aniline, water, ocean': <lcatools.entities.LcFlow at 0x7f7cd32cfc88>,\n",
       "  'Chlorine, air, unspecified': <lcatools.entities.LcFlow at 0x7f7cd50db908>,\n",
       "  'Chromium, air, lower stratosphere + upper troposphere': <lcatools.entities.LcFlow at 0x7f7cd3fe20f0>,\n",
       "  'Formamide, water, ocean': <lcatools.entities.LcFlow at 0x7f7cd3fd8cf8>,\n",
       "  'Plutonium-238, air, lower stratosphere + upper troposphere': <lcatools.entities.LcFlow at 0x7f7cd3e3bb00>,\n",
       "  'Chlorothalonil, soil, agricultural': <lcatools.entities.LcFlow at 0x7f7cd578dd30>,\n",
       "  'Radioactive species, Nuclides, unspecified, water, unspecified': <lcatools.entities.LcFlow at 0x7f7cd3eb3518>,\n",
       "  'Iron-59, air, non-urban air or from high stacks': <lcatools.entities.LcFlow at 0x7f7cd5688550>,\n",
       "  'Toluene, 2-chloro, air, urban air close to ground': <lcatools.entities.LcFlow at 0x7f7cd4446438>,\n",
       "  'Diethylene glycol, water, unspecified': <lcatools.entities.LcFlow at 0x7f7cd3550748>,\n",
       "  'Transformation, to annual crop, irrigated, natural resource, land': <lcatools.entities.LcFlow at 0x7f7cd34064a8>,\n",
       "  'o-Dichlorobenzene, water, unspecified': <lcatools.entities.LcFlow at 0x7f7cd2543e48>,\n",
       "  'NMVOC, non-methane volatile organic compounds, unspecified origin, air, lower stratosphere + upper troposphere': <lcatools.entities.LcFlow at 0x7f7cd3ef3390>,\n",
       "  'Titanium, ion, water, surface water': <lcatools.entities.LcFlow at 0x7f7cd23bdeb8>,\n",
       "  'Propiconazole, soil, agricultural': <lcatools.entities.LcFlow at 0x7f7cd2242e10>,\n",
       "  'Manganese-55, water, unspecified': <lcatools.entities.LcFlow at 0x7f7cd4a1d198>,\n",
       "  'Neptunium-237, air, non-urban air or from high stacks': <lcatools.entities.LcFlow at 0x7f7cd361f438>,\n",
       "  'Styrene, air, urban air close to ground': <lcatools.entities.LcFlow at 0x7f7cd31ab7f0>,\n",
       "  'Aluminium, soil, forestry': <lcatools.entities.LcFlow at 0x7f7cd2ff1d30>,\n",
       "  'Monoethanolamine, air, low population density, long-term': <lcatools.entities.LcFlow at 0x7f7cd4751cc0>,\n",
       "  'Neptunium-237, water, unspecified': <lcatools.entities.LcFlow at 0x7f7cd31c1390>,\n",
       "  'Zirconium-95, air, lower stratosphere + upper troposphere': <lcatools.entities.LcFlow at 0x7f7cd2a9d160>,\n",
       "  'Ethane, hexachloro-, water, unspecified': <lcatools.entities.LcFlow at 0x7f7cd31f1b70>,\n",
       "  'Xylene, air, low population density, long-term': <lcatools.entities.LcFlow at 0x7f7cd4567d68>,\n",
       "  'Methane, non-fossil, air, unspecified': <lcatools.entities.LcFlow at 0x7f7cd290a0f0>,\n",
       "  'Benzene, ethyl-, air, urban air close to ground': <lcatools.entities.LcFlow at 0x7f7cd38cf9b0>,\n",
       "  'Pyrite, in ground, natural resource, in ground': <lcatools.entities.LcFlow at 0x7f7cd3325e10>,\n",
       "  'Diethylene glycol, air, non-urban air or from high stacks': <lcatools.entities.LcFlow at 0x7f7cd30eac88>,\n",
       "  'Formaldehyde, water, ground-': <lcatools.entities.LcFlow at 0x7f7cd3d43b00>,\n",
       "  'Bromine, water, ground-': <lcatools.entities.LcFlow at 0x7f7cd34bc2b0>,\n",
       "  'Ethene, chloro-, air, urban air close to ground': <lcatools.entities.LcFlow at 0x7f7cd4220f98>,\n",
       "  'Silver, 3.2ppm in sulfide, Ag 1.2ppm, Cu and Te, in crude ore, in ground, natural resource, in ground': <lcatools.entities.LcFlow at 0x7f7cd41d0400>,\n",
       "  'Potassium-40, water, ground-': <lcatools.entities.LcFlow at 0x7f7cd2265128>,\n",
       "  'Lanthanum-140, air, low population density, long-term': <lcatools.entities.LcFlow at 0x7f7cd42b2b00>,\n",
       "  'Ethene, trichloro-, water, ground-, long-term': <lcatools.entities.LcFlow at 0x7f7cd3c74cc0>,\n",
       "  ...},\n",
       " 'catalog_names': {},\n",
       " 'internal_prefix': 'datasets',\n",
       " 'ref': '/home/b/Dropbox/data/Ecoinvent/3.2/current_Version_3.2_apos_lcia_ecoSpold02.7z'}"
      ]
     },
     "execution_count": 35,
     "metadata": {},
     "output_type": "execute_result"
    }
   ],
   "source": [
    "E_lcia.__dict__"
   ]
  },
  {
   "cell_type": "code",
   "execution_count": 37,
   "metadata": {
    "collapsed": false
   },
   "outputs": [],
   "source": [
    "_cf = (str(x) for x in p_lcia.characterizations())"
   ]
  },
  {
   "cell_type": "code",
   "execution_count": 43,
   "metadata": {
    "collapsed": false
   },
   "outputs": [
    {
     "data": {
      "text/plain": [
       "'energy feed, gross [By-product classification: allocatable product]: [0.000293 [points]] LC quantity: ReCiPe Endpoint (H,A) w/o LT, ecosystem quality w/o LT, climate change, ecosystems w/o LT'"
      ]
     },
     "execution_count": 43,
     "metadata": {},
     "output_type": "execute_result"
    }
   ],
   "source": [
    "next(_cf)"
   ]
  },
  {
   "cell_type": "code",
   "execution_count": null,
   "metadata": {
    "collapsed": true
   },
   "outputs": [],
   "source": []
  },
  {
   "cell_type": "code",
   "execution_count": null,
   "metadata": {
    "collapsed": true
   },
   "outputs": [],
   "source": []
  },
  {
   "cell_type": "code",
   "execution_count": 27,
   "metadata": {
    "collapsed": false
   },
   "outputs": [
    {
     "name": "stdout",
     "output_type": "stream",
     "text": [
      "CPU times: user 640 ms, sys: 2.36 s, total: 3 s\n",
      "Wall time: 8.46 s\n"
     ]
    }
   ],
   "source": [
    "%time o = E_lcia.objectify(exch_to_spold(pulp_to_energy[0]))"
   ]
  },
  {
   "cell_type": "code",
   "execution_count": 28,
   "metadata": {
    "collapsed": false
   },
   "outputs": [
    {
     "name": "stdout",
     "output_type": "stream",
     "text": [
      "CPU times: user 30 ms, sys: 10 ms, total: 40 ms\n",
      "Wall time: 92.6 ms\n"
     ]
    }
   ],
   "source": [
    "%time cfs = E_lcia._collect_impact_scores(o)"
   ]
  },
  {
   "cell_type": "code",
   "execution_count": 36,
   "metadata": {
    "collapsed": false
   },
   "outputs": [
    {
     "data": {
      "text/plain": [
       "1"
      ]
     },
     "execution_count": 36,
     "metadata": {},
     "output_type": "execute_result"
    }
   ],
   "source": [
    "len([x for x in f.characterizations()])"
   ]
  },
  {
   "cell_type": "code",
   "execution_count": 30,
   "metadata": {
    "collapsed": true
   },
   "outputs": [],
   "source": [
    "def tagslist():\n",
    "    tags = dict()\n",
    "    for q in E_lcia.quantities():\n",
    "        if 'Method' in q.keys():\n",
    "            tags[q['Name']] = q\n",
    "    return tags"
   ]
  },
  {
   "cell_type": "code",
   "execution_count": 31,
   "metadata": {
    "collapsed": false
   },
   "outputs": [
    {
     "name": "stdout",
     "output_type": "stream",
     "text": [
      "CPU times: user 0 ns, sys: 0 ns, total: 0 ns\n",
      "Wall time: 9.84 ms\n"
     ]
    }
   ],
   "source": [
    "%time tags = tagslist()"
   ]
  },
  {
   "cell_type": "code",
   "execution_count": 32,
   "metadata": {
    "collapsed": false
   },
   "outputs": [
    {
     "name": "stdout",
     "output_type": "stream",
     "text": [
      "CPU times: user 0 ns, sys: 0 ns, total: 0 ns\n",
      "Wall time: 2.45 ms\n"
     ]
    }
   ],
   "source": [
    "%time rf = E_lcia._grab_reference_flow(o, pulp_to_energy[0].flow.get_uuid())"
   ]
  },
  {
   "cell_type": "code",
   "execution_count": 33,
   "metadata": {
    "collapsed": false
   },
   "outputs": [
    {
     "data": {
      "text/plain": [
       "702"
      ]
     },
     "execution_count": 33,
     "metadata": {},
     "output_type": "execute_result"
    }
   ],
   "source": [
    "len([x for x in rf.characterizations()])"
   ]
  },
  {
   "cell_type": "code",
   "execution_count": 34,
   "metadata": {
    "collapsed": false
   },
   "outputs": [],
   "source": [
    "import cProfile\n"
   ]
  }
 ],
 "metadata": {
  "kernelspec": {
   "display_name": "Python 3",
   "language": "python",
   "name": "python3"
  },
  "language_info": {
   "codemirror_mode": {
    "name": "ipython",
    "version": 3
   },
   "file_extension": ".py",
   "mimetype": "text/x-python",
   "name": "python",
   "nbconvert_exporter": "python",
   "pygments_lexer": "ipython3",
   "version": "3.5.1"
  }
 },
 "nbformat": 4,
 "nbformat_minor": 0
}
