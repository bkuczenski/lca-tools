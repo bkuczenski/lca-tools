{
 "cells": [
  {
   "cell_type": "code",
   "execution_count": 1,
   "metadata": {
    "collapsed": false
   },
   "outputs": [
    {
     "name": "stdout",
     "output_type": "stream",
     "text": [
      "/Users/brandon/Documents/Github/lca-tools-datafiles/catalogs/json\n"
     ]
    }
   ],
   "source": [
    "cd '../../lca-tools-datafiles/catalogs/json'"
   ]
  },
  {
   "cell_type": "code",
   "execution_count": 2,
   "metadata": {
    "collapsed": true
   },
   "outputs": [],
   "source": [
    "import json\n",
    "import re"
   ]
  },
  {
   "cell_type": "code",
   "execution_count": 3,
   "metadata": {
    "collapsed": false
   },
   "outputs": [],
   "source": [
    "with open('gabi_2014.json') as fp:\n",
    "    G = json.load(fp)"
   ]
  },
  {
   "cell_type": "code",
   "execution_count": 4,
   "metadata": {
    "collapsed": false
   },
   "outputs": [
    {
     "data": {
      "text/plain": [
       "[u'catalogReference', u'archives', u'catalogType']"
      ]
     },
     "execution_count": 4,
     "metadata": {},
     "output_type": "execute_result"
    }
   ],
   "source": [
    "G.keys()"
   ]
  },
  {
   "cell_type": "code",
   "execution_count": 5,
   "metadata": {
    "collapsed": false
   },
   "outputs": [
    {
     "data": {
      "text/plain": [
       "list"
      ]
     },
     "execution_count": 5,
     "metadata": {},
     "output_type": "execute_result"
    }
   ],
   "source": [
    "## G['archives']  # this will generate thousands of lines of output and chokes the notebook.\n",
    "## do this instead:\n",
    "type(G['archives'])"
   ]
  },
  {
   "cell_type": "code",
   "execution_count": 6,
   "metadata": {
    "collapsed": false
   },
   "outputs": [
    {
     "data": {
      "text/plain": [
       "1"
      ]
     },
     "execution_count": 6,
     "metadata": {},
     "output_type": "execute_result"
    }
   ],
   "source": [
    "len(G['archives'])"
   ]
  },
  {
   "cell_type": "code",
   "execution_count": 7,
   "metadata": {
    "collapsed": false
   },
   "outputs": [
    {
     "data": {
      "text/plain": [
       "dict"
      ]
     },
     "execution_count": 7,
     "metadata": {},
     "output_type": "execute_result"
    }
   ],
   "source": [
    "A = G['archives'][0]\n",
    "type(A)"
   ]
  },
  {
   "cell_type": "code",
   "execution_count": 8,
   "metadata": {
    "collapsed": false
   },
   "outputs": [
    {
     "data": {
      "text/plain": [
       "[u'processes',\n",
       " u'quantities',\n",
       " u'exchanges',\n",
       " u'flows',\n",
       " u'dataSourceReference',\n",
       " u'dataSourceType']"
      ]
     },
     "execution_count": 8,
     "metadata": {},
     "output_type": "execute_result"
    }
   ],
   "source": [
    "A.keys()"
   ]
  },
  {
   "cell_type": "code",
   "execution_count": 9,
   "metadata": {
    "collapsed": false
   },
   "outputs": [],
   "source": [
    "te = [flow for flow in A['flows'] if re.search('Thermal', flow['tags']['Name'])]"
   ]
  },
  {
   "cell_type": "code",
   "execution_count": 10,
   "metadata": {
    "collapsed": false
   },
   "outputs": [
    {
     "data": {
      "text/plain": [
       "[{u'ReferenceQuantity': u'flowproperties/93a60a56-a3c8-11da-a746-0800200c9a66',\n",
       "  u'dataSetReference': u'flows/fe2304b5-b6eb-43a6-a2ad-6343d5600bb6',\n",
       "  u'entityType': u'flow',\n",
       "  u'tags': {u'CasNumber': u'',\n",
       "   u'Comment': u'',\n",
       "   u'Compartment': [u'Valuable substances',\n",
       "    u'Energy carrier',\n",
       "    u'Thermal energy'],\n",
       "   u'Name': u'Thermal energy (MJ)'}},\n",
       " {u'ReferenceQuantity': u'flowproperties/93a60a56-a3c8-11da-a746-0800200c9a66',\n",
       "  u'dataSetReference': u'flows/7c5c690c-b58b-478d-8df8-6cc9520f32c1',\n",
       "  u'entityType': u'flow',\n",
       "  u'tags': {u'CasNumber': u'',\n",
       "   u'Comment': u'',\n",
       "   u'Compartment': [u'Valuable substances',\n",
       "    u'Energy carrier',\n",
       "    u'Thermal energy'],\n",
       "   u'Name': u'Thermal energy from storage (MJ)'}},\n",
       " {u'ReferenceQuantity': u'flowproperties/93a60a56-a3c8-11da-a746-0800200c9a66',\n",
       "  u'dataSetReference': u'flows/ab09db3b-9577-4fbf-b72b-96404245faf6',\n",
       "  u'entityType': u'flow',\n",
       "  u'tags': {u'CasNumber': u'',\n",
       "   u'Comment': u'',\n",
       "   u'Compartment': [u'Valuable substances',\n",
       "    u'Energy carrier',\n",
       "    u'Thermal energy'],\n",
       "   u'Name': u'Thermal energy from solar (MJ)'}}]"
      ]
     },
     "execution_count": 10,
     "metadata": {},
     "output_type": "execute_result"
    }
   ],
   "source": [
    "te"
   ]
  },
  {
   "cell_type": "code",
   "execution_count": 11,
   "metadata": {
    "collapsed": false
   },
   "outputs": [
    {
     "data": {
      "text/plain": [
       "230"
      ]
     },
     "execution_count": 11,
     "metadata": {},
     "output_type": "execute_result"
    }
   ],
   "source": [
    "len([process for process in A['processes'] if process['ReferenceExchange'] == 'Output: %s' % te[0]['dataSetReference']])"
   ]
  },
  {
   "cell_type": "code",
   "execution_count": 12,
   "metadata": {
    "collapsed": true
   },
   "outputs": [],
   "source": [
    "from collections import Counter"
   ]
  },
  {
   "cell_type": "code",
   "execution_count": 13,
   "metadata": {
    "collapsed": true
   },
   "outputs": [],
   "source": [
    "outflow = Counter()\n",
    "for p in A['processes']:\n",
    "    outflow[p['ReferenceExchange']] +=1"
   ]
  },
  {
   "cell_type": "code",
   "execution_count": 14,
   "metadata": {
    "collapsed": false
   },
   "outputs": [
    {
     "data": {
      "text/plain": [
       "[(u'Output: flows/d71fef59-2e93-450f-b18f-72981f58e312', 622),\n",
       " (u'Output: flows/890a70b7-b677-4e2a-8a1b-7d017e0a10ae', 413),\n",
       " (u'Output: flows/fe2304b5-b6eb-43a6-a2ad-6343d5600bb6', 230),\n",
       " (u'Output: flows/e9fd08fb-8067-4d90-91e3-4c92fc1803f7', 127),\n",
       " (u'Input: flows/e0c2b408-7dca-41de-ad53-2d7975838e87', 59),\n",
       " (u'Input: flows/55a81a3f-4639-4be6-99a0-22586cbc1e84', 54),\n",
       " (u'Input: flows/64876ac6-a289-45f8-b94d-d720c93e2830', 50),\n",
       " (u'Output: flows/9106196a-8660-41a3-895b-0cddbbe9ca5b', 48),\n",
       " (u'Output: flows/5cd49049-83ce-4a48-8c23-18a27de88a83', 21),\n",
       " (u'Output: flows/55a4c166-2eb6-43a3-9a13-2e4f2c4fee60', 18),\n",
       " (u'Output: flows/81aed24e-a316-485d-b6c2-7cbc316b2d28', 14),\n",
       " (u'Output: flows/830b6968-5b87-42d2-b679-03973197cfa6', 13),\n",
       " (u'Output: flows/cc42cd54-36f3-4b6c-930a-c47144607c12', 12),\n",
       " (u'Output: flows/b909af97-bff5-43e1-87be-9993589a4387', 12),\n",
       " (u'Output: flows/9b5fb8b6-a8f4-48d5-b912-56c65c0cc263', 12),\n",
       " (u'Output: flows/efa69527-5e73-4485-b95f-91fcbe097f3e', 12),\n",
       " (u'Input: flows/71d1241f-fb2b-4774-9c17-18f19955c2db', 11),\n",
       " (u'Output: flows/cf2bd799-5a6a-48ba-9d12-9005fc6b8ac5', 9),\n",
       " (u'Output: flows/fa4d0c5b-122a-44db-b6c3-ce03a0c6f794', 9),\n",
       " (u'Output: flows/faf3163d-6b99-4578-9bed-c44d7eaca028', 9),\n",
       " (u'Output: flows/235ddf08-254c-45be-ab34-c2569b2f68ca', 9),\n",
       " (u'Output: flows/8e1e39c0-11ef-4607-85f0-157ae68f6c63', 9),\n",
       " (u'Output: flows/53afe53a-7bbc-4b82-8e39-df2c6bbb2c46', 8),\n",
       " (u'Output: flows/23e5fea5-d83a-4d27-9cb2-2907f715f4ab', 8),\n",
       " (u'Output: flows/9f723736-35c3-4218-8dbe-a1331f56be46', 8),\n",
       " (u'Output: flows/ef0193ef-fd64-4fa5-9948-5365b30f36bd', 8),\n",
       " (u'Output: flows/d8a11424-0089-465b-8e5d-40aef78f1fe7', 8),\n",
       " (u'Output: flows/a9eed32e-1dd7-412c-8972-8aa730131db7', 8),\n",
       " (u'Output: flows/ee2fff3b-78dd-4fa3-b346-af7130d5b34c', 8),\n",
       " (u'Output: flows/b53fc253-533d-4da1-aad3-dc092902e2fe', 8),\n",
       " (u'Output: flows/ea9cd04e-cb31-467b-9311-d2a2e43f55f4', 7),\n",
       " (u'Output: flows/8c5fd1a8-a1d6-42f8-acd6-4e5ae7ed8397', 7),\n",
       " (u'Output: flows/ae206e6f-e4f5-4dbf-8de7-42576f6da892', 7),\n",
       " (u'Output: flows/5a740d05-5a1c-42f4-8b5b-8680dfca6636', 7),\n",
       " (u'Output: flows/9556b2dd-a149-480e-96bc-d2678947ffd9', 7),\n",
       " (u'Output: flows/917ee290-097e-443d-aa94-1e61e06f8f24', 7),\n",
       " (u'Output: flows/2126a80d-1cd0-46e4-8f30-341bd20a1d64', 6),\n",
       " (u'Output: flows/644c2d89-0efb-45e2-a8a7-6ead451c1b84', 6),\n",
       " (u'Output: flows/c707e768-2a44-4b33-8218-e8dcdb345132', 6),\n",
       " (u'Output: flows/c13fc156-d6f2-40b7-acc1-93ce441c348f', 6),\n",
       " (u'Output: flows/0e63e411-090d-4b39-9606-f467816b734c', 6),\n",
       " (u'Input: flows/53d51aa1-f1ae-4ad5-8a03-2caba9f41e43', 6),\n",
       " (u'Output: flows/4ccd63df-b0eb-4a78-a07f-9d5e555dc7c9', 6),\n",
       " (u'Output: flows/f46cd45b-b457-41f3-bd08-1ab41bd796e5', 5),\n",
       " (u'Output: flows/4d464b0c-62ad-4ec3-b870-eb2e1048d3fb', 5),\n",
       " (u'Output: flows/4e5197c4-ffce-4f2d-a648-ebb25bb63748', 5),\n",
       " (u'Output: flows/b5047c96-7f4d-46e5-8424-6f43e62e2fdd', 5),\n",
       " (u'Output: flows/f5458338-7c8d-4b77-815b-ef2a2df69ee8', 5),\n",
       " (u'Output: flows/311a6556-602a-4bd7-bb7e-8fdcd15138b0', 5),\n",
       " (u'Output: flows/577f1bae-3168-4761-9852-8dbf555a0365', 5)]"
      ]
     },
     "execution_count": 14,
     "metadata": {},
     "output_type": "execute_result"
    }
   ],
   "source": [
    "outflow.most_common(50)"
   ]
  },
  {
   "cell_type": "code",
   "execution_count": 15,
   "metadata": {
    "collapsed": true
   },
   "outputs": [],
   "source": [
    "def flow_from_exchange(ref):\n",
    "    return re.match('^(((In)|(Out))put: )?(.*)$', ref).groups()[-1]"
   ]
  },
  {
   "cell_type": "code",
   "execution_count": 16,
   "metadata": {
    "collapsed": true
   },
   "outputs": [],
   "source": [
    "def flow_name(ref):\n",
    "    return [f['tags']['Name'] for f in A['flows'] if f['dataSetReference'] == flow_from_exchange(ref)]"
   ]
  },
  {
   "cell_type": "code",
   "execution_count": 17,
   "metadata": {
    "collapsed": false
   },
   "outputs": [
    {
     "data": {
      "text/plain": [
       "[\"622: [u'Steam (MJ)']\",\n",
       " \"413: [u'Electricity']\",\n",
       " \"230: [u'Thermal energy (MJ)']\",\n",
       " \"127: [u'Cargo']\",\n",
       " \" 59: [u'Aluminium scrap']\"]"
      ]
     },
     "execution_count": 17,
     "metadata": {},
     "output_type": "execute_result"
    }
   ],
   "source": [
    "['%3d: %s' % (j, flow_name(i)) for i, j in outflow.most_common(5)]"
   ]
  },
  {
   "cell_type": "markdown",
   "metadata": {},
   "source": [
    "59 processes whose reference exchange is an input of Alumin[i]um scrap!!?"
   ]
  },
  {
   "cell_type": "code",
   "execution_count": 18,
   "metadata": {
    "collapsed": false
   },
   "outputs": [
    {
     "data": {
      "text/plain": [
       "[u'   [EU-15] Auto transmissions - scrap credit (open loop)',\n",
       " u'      [US] Aluminium foil - scrap credit (open loop)',\n",
       " u'      [US] Aluminium turnings - scrap credit (open loop)',\n",
       " u'   [EU-15] Paperbacked aluminium foil - scrap credit (open loop)',\n",
       " u'   [EU-15] Clean painted aluminium sheets - scrap credit (open loop)',\n",
       " u'      [US] Low grade irony aluminium - scrap credit (open loop)',\n",
       " u'      [US] Loose used beverage cans (UBC) - scrap credit (open loop)',\n",
       " u'   [EU-15] Old mixed aluminium - scrap credit (open loop)',\n",
       " u'   [EU-15] Cast aluminium - scrap credit (open loop)',\n",
       " u'      [CN] Recycling potential aluminium (sheet and profiles)',\n",
       " u'      [US] Auto transmissions - scrap credit (open loop)',\n",
       " u'   [EU-15] Painted, insulated aluminium sheets - scrap credit (open loop)',\n",
       " u'   [EU-15] Coated aluminium - scrap credit (open loop)',\n",
       " u'      [US] Baled used beverage cans (UBC) - scrap credit (open loop)',\n",
       " u'   [EU-15] Aluminium auto rads - scrap credit (open loop)',\n",
       " u'   [EU-15] Aluminium auto wheels - scrap credit (open loop)',\n",
       " u'   [EU-15] Baled used beverage cans (UBC) - scrap credit (open loop)',\n",
       " u'      [US] Paperbacked aluminium foil - scrap credit (open loop)',\n",
       " u'      [US] Low copper aluminium - scrap credit (open loop)',\n",
       " u'      [US] New beverage cans stock - scrap credit (open loop)',\n",
       " u'      [US] Mixed irony aluminium - scrap credit (open loop)',\n",
       " u'      [US] Clean painted aluminium sheets - scrap credit (open loop)',\n",
       " u'   [EU-15] Mixed irony aluminium - scrap credit (open loop)',\n",
       " u'      [US] Utensil aluminium - scrap credit (open loop)',\n",
       " u'   [EU-15] Aluminium foil - scrap credit (open loop)',\n",
       " u'      [US] Insulated aluminium wire - scrap credit (open loop)',\n",
       " u'   [EU-15] Bare aluminium wire - scrap credit (open loop)',\n",
       " u'      [US] Aluminium auto rads - scrap credit (open loop)',\n",
       " u'      [US] Remelt aluminium ingots - credit (open loop)',\n",
       " u'      [US] Aluminium nodules - scrap credit (open loop)',\n",
       " u'      [US] Briquetted used beverage cans (UBC) - scrap credit (open loop)',\n",
       " u'   [EU-15] Remelt aluminium sows - credit (open loop)',\n",
       " u'      [US] Aluminium auto fragments - scrap credit (open loop)',\n",
       " u'   [EU-15] Aluminium nodules - scrap credit (open loop)',\n",
       " u'   [EU-15] Aluminium auto fragments - scrap credit (open loop)',\n",
       " u'   [EU-15] Low copper aluminium - scrap credit (open loop)',\n",
       " u'      [US] Painted, insulated aluminium sheets - scrap credit (open loop)',\n",
       " u'   [EU-15] Low grade irony aluminium - scrap credit (open loop)',\n",
       " u'   [EU-15] Insulated aluminium wire - scrap credit (open loop)',\n",
       " u'      [US] Old mixed aluminium - scrap credit (open loop)',\n",
       " u'      [US] Supported aluminium cable - scrap credit (open loop)',\n",
       " u'   [EU-15] Remelt aluminium ingots - credit (open loop)',\n",
       " u'      [US] Aluminium auto wheels - scrap credit (open loop)',\n",
       " u'      [US] Aluminium litho sheets - scrap credit (open loop)',\n",
       " u'      [US] Cast aluminium - scrap credit (open loop)',\n",
       " u'   [EU-15] New beverage cans stock - scrap credit (open loop)',\n",
       " u'   [EU-15] Shredded used beverage cans (UBC) - scrap credit (open loop)',\n",
       " u'      [US] Remelt aluminium sows - credit (open loop)',\n",
       " u'      [US] Coated aluminium - scrap credit (open loop)',\n",
       " u'   [EU-15] Loose used beverage cans (UBC) - scrap credit (open loop)',\n",
       " u'      [US] Shredded used beverage cans (UBC) - scrap credit (open loop)',\n",
       " u'   [EU-15] Utensil aluminium - scrap credit (open loop)',\n",
       " u'   [EU-15] Supported aluminium cable - scrap credit (open loop)',\n",
       " u'      [US] Bare aluminium wire - scrap credit (open loop)',\n",
       " u'   [EU-15] Briquetted used beverage cans (UBC) - scrap credit (open loop)',\n",
       " u'   [EU-15] Aluminium extrusions - scrap credit (open loop)',\n",
       " u'   [EU-15] Aluminium turnings - scrap credit (open loop)',\n",
       " u'   [EU-15] Aluminium litho sheets - scrap credit (open loop)',\n",
       " u'      [US] Aluminium extrusions - scrap credit (open loop)']"
      ]
     },
     "execution_count": 18,
     "metadata": {},
     "output_type": "execute_result"
    }
   ],
   "source": [
    "['%10s %s' %('[' + p['tags']['SpatialScope'] +']', p['tags']['Name']) for p in A['processes'] if p['ReferenceExchange'] == outflow.most_common(5)[4][0]]"
   ]
  }
 ],
 "metadata": {
  "kernelspec": {
   "display_name": "Python 2",
   "language": "python",
   "name": "python2"
  },
  "language_info": {
   "codemirror_mode": {
    "name": "ipython",
    "version": 2
   },
   "file_extension": ".py",
   "mimetype": "text/x-python",
   "name": "python",
   "nbconvert_exporter": "python",
   "pygments_lexer": "ipython2",
   "version": "2.7.10"
  }
 },
 "nbformat": 4,
 "nbformat_minor": 0
}
