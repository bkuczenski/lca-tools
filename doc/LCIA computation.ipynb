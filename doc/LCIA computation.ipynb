{
 "cells": [
  {
   "cell_type": "code",
   "execution_count": 1,
   "metadata": {
    "collapsed": true
   },
   "outputs": [],
   "source": [
    "import sys\n",
    "sys.path.append('..')\n",
    "import os\n",
    "from os.path import expanduser\n",
    "\n",
    "import lcatools"
   ]
  },
  {
   "cell_type": "code",
   "execution_count": 2,
   "metadata": {
    "collapsed": true
   },
   "outputs": [],
   "source": [
    "from lcatools.tools import archive_from_json"
   ]
  },
  {
   "cell_type": "code",
   "execution_count": 3,
   "metadata": {
    "collapsed": true
   },
   "outputs": [],
   "source": [
    "elcd3_file = os.path.join(os.path.expanduser('~'),'Dropbox', 'data', 'ELCD', 'ELCD3.2.zip')\n",
    "catalog_dir = os.path.join(os.path.expanduser('~'), 'GitHub', 'lca-tools-datafiles', 'catalogs')\n",
    "lcia_file = os.path.join(catalog_dir, 'elcd_lcia.json.gz')"
   ]
  },
  {
   "cell_type": "code",
   "execution_count": 4,
   "metadata": {
    "collapsed": false
   },
   "outputs": [
    {
     "name": "stdout",
     "output_type": "stream",
     "text": [
      "Loading JSON data from /home/b/GitHub/lca-tools-datafiles/catalogs/elcd_lcia.json.gz:\n",
      "Found Extension: zip\n",
      "**Upstream reference encountered: /home/b/Dropbox/data/ELCD/ELCD3.2.zip\n",
      "\n",
      "54 new quantity entities added (54 total)\n",
      "1256 new flow entities added (1256 total)\n",
      "0 new process entities added (0 total)\n"
     ]
    }
   ],
   "source": [
    "l = archive_from_json(lcia_file)"
   ]
  },
  {
   "cell_type": "code",
   "execution_count": 5,
   "metadata": {
    "collapsed": true
   },
   "outputs": [],
   "source": [
    "from lcatools.providers.ilcd import IlcdArchive"
   ]
  },
  {
   "cell_type": "code",
   "execution_count": 6,
   "metadata": {
    "collapsed": false
   },
   "outputs": [
    {
     "name": "stdout",
     "output_type": "stream",
     "text": [
      "Found Extension: zip\n"
     ]
    }
   ],
   "source": [
    "ps = IlcdArchive(elcd3_file, upstream=l)"
   ]
  },
  {
   "cell_type": "code",
   "execution_count": 7,
   "metadata": {
    "collapsed": false
   },
   "outputs": [
    {
     "data": {
      "text/plain": [
       "<lcatools.entities.LcProcess at 0x7f26732bcb38>"
      ]
     },
     "execution_count": 7,
     "metadata": {},
     "output_type": "execute_result"
    }
   ],
   "source": [
    "ps.retrieve_or_fetch_entity(ps.list_objects('Process')[27])"
   ]
  },
  {
   "cell_type": "code",
   "execution_count": 8,
   "metadata": {
    "collapsed": false
   },
   "outputs": [],
   "source": [
    "p = _"
   ]
  },
  {
   "cell_type": "code",
   "execution_count": null,
   "metadata": {
    "collapsed": true
   },
   "outputs": [],
   "source": []
  },
  {
   "cell_type": "code",
   "execution_count": 9,
   "metadata": {
    "collapsed": true
   },
   "outputs": [],
   "source": [
    "qs = (x for x in l.quantities() if 'Method' in x.keys())"
   ]
  },
  {
   "cell_type": "code",
   "execution_count": 10,
   "metadata": {
    "collapsed": false
   },
   "outputs": [],
   "source": [
    "q = next(qs)"
   ]
  },
  {
   "cell_type": "code",
   "execution_count": 11,
   "metadata": {
    "collapsed": false
   },
   "outputs": [
    {
     "data": {
      "text/plain": [
       "dict_keys(['Comment', 'Method', 'Name', 'origin', 'Category', 'ReferenceYear', 'Duration', 'Indicator', 'externalId'])"
      ]
     },
     "execution_count": 11,
     "metadata": {},
     "output_type": "execute_result"
    }
   ],
   "source": [
    "q.keys()"
   ]
  },
  {
   "cell_type": "code",
   "execution_count": 12,
   "metadata": {
    "collapsed": false
   },
   "outputs": [],
   "source": [
    "def lcia(process, lcia):\n",
    "    print(', '.join([lcia[desc] for desc in ('Method', 'Category', 'Indicator')]))\n",
    "    print('-'*60)\n",
    "    score = 0.0\n",
    "    for x in process.exchanges():\n",
    "        if x.flow.cf(lcia) != 0:\n",
    "            c = x.flow.cf(lcia)\n",
    "            v = x.value\n",
    "            score += c*v\n",
    "            print('%10.3g x %-10.3g = %-10.3g %s' % (c, v, c*v, x.flow['Name']) )\n",
    "    print('='*60)\n",
    "    print('             Total score: %g [%s]' % (score, lcia.reference_entity.unitstring()))\n",
    "    return score"
   ]
  },
  {
   "cell_type": "code",
   "execution_count": 23,
   "metadata": {
    "collapsed": false
   },
   "outputs": [
    {
     "name": "stdout",
     "output_type": "stream",
     "text": [
      "ILCD2011, Ionizing radiation, Comparative Toxic Unit for ecosystems (CTUe) expressing an estimate of the potentially affected fraction of species (PAF) integrated over time and volume per unit mass of a radionucleide emitted (PAF m3 year/kg).\n",
      "------------------------------------------------------------\n",
      "  1.86e-05 x 0.00089    = 1.65e-08   antimony-124\n",
      "  1.51e-05 x 0.0273     = 4.12e-07   antimony-125\n",
      "  1.04e-05 x 0.639      = 6.65e-06   iodine-131\n",
      "  4.59e-09 x 133        = 6.13e-07   hydrogen-3\n",
      "  2.43e-05 x 0.144      = 3.51e-06   cobalt-58\n",
      "  4.62e-05 x 0.0242     = 1.12e-06   antimony-124\n",
      "   5.5e-05 x 0.000267   = 1.47e-08   cesium-134\n",
      "  0.000124 x 0.0275     = 3.41e-06   cesium-134\n",
      "  2.26e-05 x 0.000968   = 2.19e-08   cobalt-60\n",
      "  4.78e-06 x 9.97e-10   = 4.77e-15   manganese-54\n",
      "  4.49e-05 x 0.000355   = 1.59e-08   cesium-137\n",
      "  0.000172 x 0.0207     = 3.56e-06   carbon-14\n",
      "  1.37e-05 x 0.0295     = 4.04e-07   silver-110\n",
      "  6.83e-05 x 4.24e-06   = 2.9e-10    tellurium-123\n",
      "  5.41e-05 x 0.181      = 9.81e-06   cobalt-60\n",
      "   2.6e-05 x 0.00413    = 1.07e-07   iodine-131\n",
      "  7.05e-05 x 42.9       = 0.00302    carbon-14\n",
      "   5.7e-06 x 2.58e-10   = 1.47e-15   silver-110\n",
      "  6.06e-06 x 1.93e-09   = 1.17e-14   antimony-125\n",
      "  1.02e-05 x 0.000438   = 4.47e-09   cobalt-58\n",
      "  1.08e-05 x 0.0223     = 2.41e-07   manganese-54\n",
      "  0.000101 x 0.221      = 2.23e-05   cesium-137\n",
      "  1.12e-08 x 3.33e+03   = 3.73e-05   hydrogen-3\n",
      "============================================================\n",
      "             Total score: 0.00311449 [m3*a]\n",
      "CPU times: user 0 ns, sys: 0 ns, total: 0 ns\n",
      "Wall time: 3.69 ms\n"
     ]
    },
    {
     "data": {
      "text/plain": [
       "0.0031144941582810586"
      ]
     },
     "execution_count": 23,
     "metadata": {},
     "output_type": "execute_result"
    }
   ],
   "source": [
    "%time lcia(p, next(qs))"
   ]
  },
  {
   "cell_type": "markdown",
   "metadata": {},
   "source": []
  }
 ],
 "metadata": {
  "kernelspec": {
   "display_name": "Python 3",
   "language": "python",
   "name": "python3"
  },
  "language_info": {
   "codemirror_mode": {
    "name": "ipython",
    "version": 3
   },
   "file_extension": ".py",
   "mimetype": "text/x-python",
   "name": "python",
   "nbconvert_exporter": "python",
   "pygments_lexer": "ipython3",
   "version": "3.5.1"
  }
 },
 "nbformat": 4,
 "nbformat_minor": 0
}
