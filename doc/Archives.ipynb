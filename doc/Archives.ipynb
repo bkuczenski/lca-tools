{
 "cells": [
  {
   "cell_type": "code",
   "execution_count": 1,
   "metadata": {
    "collapsed": false
   },
   "outputs": [],
   "source": [
    "import sys\n",
    "sys.path.append('../lcatools')\n",
    "\n",
    "import os\n",
    "from os.path import expanduser\n"
   ]
  },
  {
   "cell_type": "code",
   "execution_count": 2,
   "metadata": {
    "collapsed": true
   },
   "outputs": [],
   "source": [
    "from lxml import objectify"
   ]
  },
  {
   "cell_type": "code",
   "execution_count": 3,
   "metadata": {
    "collapsed": true
   },
   "outputs": [],
   "source": [
    "from archives import archive"
   ]
  },
  {
   "cell_type": "code",
   "execution_count": 4,
   "metadata": {
    "collapsed": true
   },
   "outputs": [],
   "source": [
    "EI_MODELS = ('apos', 'consequential_longterm', 'cutoff', 'undefined')\n",
    "\n",
    "system_model = 'undefined'\n",
    "EI_VERSION = '3.2'\n",
    "DATA_ROOT = os.path.join(expanduser('~'), 'Dropbox', 'data', 'Ecoinvent', EI_VERSION)\n",
    "EI_ARCHIVE = 'current_Version_' + EI_VERSION + '_' + system_model + '_ecoSpold02.7z'"
   ]
  },
  {
   "cell_type": "code",
   "execution_count": 5,
   "metadata": {
    "collapsed": false
   },
   "outputs": [],
   "source": [
    "TEST_7Z = os.path.join(DATA_ROOT, EI_ARCHIVE)\n",
    "TEST_DIR = '/data/LCI/Ecoinvent'\n",
    "TEST_ZIP = '/data/LCI/USLCI-ILCD.zip'"
   ]
  },
  {
   "cell_type": "markdown",
   "metadata": {},
   "source": [
    "# 7z file (ecoinvent)"
   ]
  },
  {
   "cell_type": "code",
   "execution_count": 6,
   "metadata": {
    "collapsed": false
   },
   "outputs": [
    {
     "name": "stdout",
     "output_type": "stream",
     "text": [
      "Found Extension: 7z\n"
     ]
    }
   ],
   "source": [
    "g = archive.Archive(TEST_7Z)"
   ]
  },
  {
   "cell_type": "code",
   "execution_count": 7,
   "metadata": {
    "collapsed": false
   },
   "outputs": [
    {
     "data": {
      "text/plain": [
       "['datasets - public']"
      ]
     },
     "execution_count": 7,
     "metadata": {},
     "output_type": "execute_result"
    }
   ],
   "source": [
    "g.prefixes"
   ]
  },
  {
   "cell_type": "code",
   "execution_count": 8,
   "metadata": {
    "collapsed": false
   },
   "outputs": [
    {
     "data": {
      "text/plain": [
       "['datasets - public/00093951-0c71-4a74-96d8-ece56003838a_b335722e-f52e-44cd-b335-a6686c7fe3ab.spold',\n",
       " 'datasets - public/000b493f-5e76-4fe0-93ca-73b49263c1fc_29fbcb1d-79ca-45df-8eec-3e51bb95979d.spold',\n",
       " 'datasets - public/001a7c31-a39b-4606-9877-d6cfc36e5fd8_47e8f15f-6a0b-4ec5-be7d-8965ce014081.spold',\n",
       " 'datasets - public/001b83bb-d07c-4c91-90c1-5a9437badf06_089f5c04-e340-42c4-bf9c-e8ec6174443a.spold',\n",
       " 'datasets - public/001fa547-fbbd-4172-9492-0f58076c4553_7f56554d-e090-4df5-b538-3a235b534353.spold',\n",
       " 'datasets - public/002da2f2-595b-427e-ae3a-3f7dcd769715_6eb408db-980a-4b9e-82a8-b6dca183ec35.spold',\n",
       " 'datasets - public/002f9105-f892-4241-9c45-b3b7d68a9c72_99e47244-0ecd-4d45-8d79-f4e3cb384d05.spold',\n",
       " 'datasets - public/00352317-8629-4778-96a7-abfa11c1face_dcb70fd5-e305-4920-b68b-40697cc6a206.spold',\n",
       " 'datasets - public/0036e50d-8e5b-438c-b94c-4ee40350362b_66c93e71-f32b-4591-901c-55395db5c132.spold',\n",
       " 'datasets - public/003ad59e-1069-4a8f-ada1-6785cf19e74b_77c1da70-f6b7-47eb-a986-4d70a4bf31a1.spold']"
      ]
     },
     "execution_count": 8,
     "metadata": {},
     "output_type": "execute_result"
    }
   ],
   "source": [
    "g.listfiles()[:10]"
   ]
  },
  {
   "cell_type": "code",
   "execution_count": 9,
   "metadata": {
    "collapsed": false
   },
   "outputs": [],
   "source": [
    "d = g.readfile('datasets - public/0036e50d-8e5b-438c-b94c-4ee40350362b_66c93e71-f32b-4591-901c-55395db5c132.spold')"
   ]
  },
  {
   "cell_type": "code",
   "execution_count": 10,
   "metadata": {
    "collapsed": false
   },
   "outputs": [
    {
     "data": {
      "text/plain": [
       "227834"
      ]
     },
     "execution_count": 10,
     "metadata": {},
     "output_type": "execute_result"
    }
   ],
   "source": [
    "len(d)"
   ]
  },
  {
   "cell_type": "code",
   "execution_count": 11,
   "metadata": {
    "collapsed": false
   },
   "outputs": [
    {
     "data": {
      "text/plain": [
       "bytes"
      ]
     },
     "execution_count": 11,
     "metadata": {},
     "output_type": "execute_result"
    }
   ],
   "source": [
    "type(d)"
   ]
  },
  {
   "cell_type": "code",
   "execution_count": 12,
   "metadata": {
    "collapsed": true
   },
   "outputs": [],
   "source": [
    "o = objectify.fromstring(d)"
   ]
  },
  {
   "cell_type": "code",
   "execution_count": 13,
   "metadata": {
    "collapsed": false
   },
   "outputs": [
    {
     "data": {
      "text/plain": [
       "[<Element {http://www.EcoInvent.org/EcoSpold02}childActivityDataset at 0x7fedeadc1548>]"
      ]
     },
     "execution_count": 13,
     "metadata": {},
     "output_type": "execute_result"
    }
   ],
   "source": [
    "o.getchildren()"
   ]
  },
  {
   "cell_type": "code",
   "execution_count": 14,
   "metadata": {
    "collapsed": false
   },
   "outputs": [
    {
     "data": {
      "text/plain": [
       "11552"
      ]
     },
     "execution_count": 14,
     "metadata": {},
     "output_type": "execute_result"
    }
   ],
   "source": [
    "g.countfiles()"
   ]
  },
  {
   "cell_type": "markdown",
   "metadata": {},
   "source": [
    "literal directory\n",
    "====="
   ]
  },
  {
   "cell_type": "code",
   "execution_count": 15,
   "metadata": {
    "collapsed": false
   },
   "outputs": [
    {
     "name": "stdout",
     "output_type": "stream",
     "text": [
      "Path points to a directory. Assuming expanded archive\n"
     ]
    }
   ],
   "source": [
    "h = archive.Archive(TEST_DIR)"
   ]
  },
  {
   "cell_type": "code",
   "execution_count": 16,
   "metadata": {
    "collapsed": false
   },
   "outputs": [
    {
     "data": {
      "text/plain": [
       "['3.2/undefined/003ad59e-1069-4a8f-ada1-6785cf19e74b_77c1da70-f6b7-47eb-a986-4d70a4bf31a1.spold',\n",
       " '3.2/undefined/003b13f0-18f4-467d-91a6-4201072dadaa_759b89bd-3aa6-42ad-b767-5bb9ef5d331d.spold',\n",
       " '3.2/undefined/003e869a-f532-46cc-b8d4-641988008e6d_45c9c99d-a8e1-43f7-afab-7610034ad887.spold',\n",
       " '3.2/undefined/003f9a31-c540-4351-a434-3b1b1c791b99_66c93e71-f32b-4591-901c-55395db5c132.spold',\n",
       " '3.2/undefined/00420798-e9d1-4de9-8745-09bd85f31db8_b254bbdf-fb2b-4878-aec9-2a7820f3f32e.spold',\n",
       " '3.2/undefined/00463986-6243-48f9-9af3-c2b98d95a832_18e1cfa1-498b-4d93-bace-44cd2ae12596.spold',\n",
       " '3.2/undefined/00486194-99d5-4a08-aff3-57becc77bdc2_ff7a13da-3665-469e-a211-4ab06801c7ea.spold',\n",
       " '3.2/undefined/004c7be0-6a95-4157-a05b-51af77a5161d_1211687f-b185-4e5d-9620-41515a66a390.spold',\n",
       " '3.2/undefined/004dd8d2-03e5-4d02-8916-6b1ce5d45d57_9e2fbebe-7357-4057-b7c6-3c4d7cfa5285.spold',\n",
       " '3.2/undefined/0051bea7-f5ea-4511-aacc-c7f777e88f51_b7b72951-a57c-4364-9b49-ea3c7cb03d00.spold',\n",
       " '3.2/undefined/0052f41d-1f71-45be-af2f-56bc830c4a9c_ffa87882-6302-430b-a4c2-45426a006ed7.spold',\n",
       " '3.2/undefined/0053d93b-c533-45e6-acc9-0319cb19ba02_32e60fbc-4778-470c-9653-feb859a3418f.spold',\n",
       " '3.2/undefined/005a17a6-5fc5-443c-8767-d39ceb6b4c6a_3f6dada9-2497-4e1c-9e1b-eabafa6920f8.spold',\n",
       " '3.2/undefined/006070e4-f237-4735-b254-44c8857fd4e1_f5707bdf-f7e2-479b-b3ea-99c04de8a927.spold',\n",
       " '3.2/undefined/006b5463-b339-4f27-921b-09eaf17d0574_3f7cf9ef-4608-4f6b-b628-071bcdb69f3a.spold',\n",
       " '3.2/undefined/0071c1e5-4147-430d-b1b9-62c63ae7f6bb_27da8130-82ba-485c-a800-b89efdcb0491.spold',\n",
       " '3.2/undefined/0088641f-8300-4bbe-b20b-485eb9db30dc_d489bb71-b54d-4bbe-8bce-15aa0d1bc608.spold',\n",
       " '3.2/undefined/00896cae-d2a2-40bd-ba38-a21cd3a4c609_27064b22-328b-4578-9739-933b87b94abb.spold',\n",
       " '3.2/undefined/009956ae-591c-41ca-9f71-74d3b60fad7f_5d08c003-7cfd-4271-bb99-8a9dcd2a40bf.spold',\n",
       " '3.2/undefined/009bcb57-b5a2-4243-831a-7c13ebcd43ad_f9a99959-0ebf-43d7-b70a-3e311c524d7e.spold']"
      ]
     },
     "execution_count": 16,
     "metadata": {},
     "output_type": "execute_result"
    }
   ],
   "source": [
    "h.listfiles()[:20]"
   ]
  },
  {
   "cell_type": "code",
   "execution_count": 17,
   "metadata": {
    "collapsed": false
   },
   "outputs": [
    {
     "data": {
      "text/plain": [
       "['3.2', '3.2/undefined', '3.2/undefined/datasets - public']"
      ]
     },
     "execution_count": 17,
     "metadata": {},
     "output_type": "execute_result"
    }
   ],
   "source": [
    "h.prefixes"
   ]
  },
  {
   "cell_type": "code",
   "execution_count": 18,
   "metadata": {
    "collapsed": false
   },
   "outputs": [],
   "source": [
    "j = h.listfiles()[7]"
   ]
  },
  {
   "cell_type": "code",
   "execution_count": 19,
   "metadata": {
    "collapsed": false
   },
   "outputs": [],
   "source": [
    "dd = h.readfile(j)"
   ]
  },
  {
   "cell_type": "code",
   "execution_count": 20,
   "metadata": {
    "collapsed": true
   },
   "outputs": [],
   "source": [
    "oo = objectify.fromstring(dd)"
   ]
  },
  {
   "cell_type": "code",
   "execution_count": 21,
   "metadata": {
    "collapsed": false
   },
   "outputs": [
    {
     "data": {
      "text/plain": [
       "[<Element {http://www.EcoInvent.org/EcoSpold02}activityDataset at 0x7fedeadc1848>]"
      ]
     },
     "execution_count": 21,
     "metadata": {},
     "output_type": "execute_result"
    }
   ],
   "source": [
    "oo.getchildren()"
   ]
  },
  {
   "cell_type": "code",
   "execution_count": 22,
   "metadata": {
    "collapsed": false
   },
   "outputs": [
    {
     "data": {
      "text/plain": [
       "11552"
      ]
     },
     "execution_count": 22,
     "metadata": {},
     "output_type": "execute_result"
    }
   ],
   "source": [
    "h.countfiles()"
   ]
  },
  {
   "cell_type": "markdown",
   "metadata": {},
   "source": [
    "# ZIP archive (ILCD)"
   ]
  },
  {
   "cell_type": "code",
   "execution_count": 23,
   "metadata": {
    "collapsed": false
   },
   "outputs": [
    {
     "name": "stdout",
     "output_type": "stream",
     "text": [
      "Found Extension: zip\n"
     ]
    }
   ],
   "source": [
    "k = archive.Archive(TEST_ZIP)"
   ]
  },
  {
   "cell_type": "code",
   "execution_count": 24,
   "metadata": {
    "collapsed": false
   },
   "outputs": [
    {
     "data": {
      "text/plain": [
       "['USLCI-ILCD/ILCD/unitgroups',\n",
       " 'USLCI-ILCD/ILCD/flows',\n",
       " 'USLCI-ILCD/ILCD',\n",
       " 'USLCI-ILCD/ILCD/external_docs',\n",
       " 'USLCI-ILCD/META-INF',\n",
       " 'USLCI-ILCD',\n",
       " 'USLCI-ILCD/stylesheets',\n",
       " 'USLCI-ILCD/ILCD/contacts',\n",
       " 'USLCI-ILCD/ILCD/processes',\n",
       " 'USLCI-ILCD/ILCD/flowproperties',\n",
       " 'USLCI-ILCD/schemas',\n",
       " 'USLCI-ILCD/ILCD/sources']"
      ]
     },
     "execution_count": 24,
     "metadata": {},
     "output_type": "execute_result"
    }
   ],
   "source": [
    "k.prefixes"
   ]
  },
  {
   "cell_type": "code",
   "execution_count": 25,
   "metadata": {
    "collapsed": false
   },
   "outputs": [
    {
     "data": {
      "text/plain": [
       "['USLCI-ILCD/found-errors.txt',\n",
       " 'USLCI-ILCD/ILCD/contacts/05505c9a-17bc-50d3-b675-00004bbdcb86.xml',\n",
       " 'USLCI-ILCD/ILCD/contacts/05505c9a-730e-3b7f-0263-0000272ba40c.xml',\n",
       " 'USLCI-ILCD/ILCD/contacts/0c006d34-fd09-4093-04ef-000065c952de.xml',\n",
       " 'USLCI-ILCD/ILCD/contacts/12ccb9df-0e44-ea67-697b-00001c610534.xml',\n",
       " 'USLCI-ILCD/ILCD/contacts/12ccb9df-73fa-476f-c4d3-0000736ea201.xml',\n",
       " 'USLCI-ILCD/ILCD/contacts/19c075b8-90de-a2b3-6fcb-000032a94124.xml',\n",
       " 'USLCI-ILCD/ILCD/contacts/1a60213a-89f0-c781-b45f-0000086f45ce.xml',\n",
       " 'USLCI-ILCD/ILCD/contacts/1dd2a2d6-8327-4708-9126-00007f98426b.xml',\n",
       " 'USLCI-ILCD/ILCD/contacts/213e38bc-51e4-7c95-10cd-000035ef9ade.xml',\n",
       " 'USLCI-ILCD/ILCD/contacts/25c32c73-04dc-bc28-247a-000066b697ac.xml',\n",
       " 'USLCI-ILCD/ILCD/contacts/2ffa6c1e-d353-8b76-596c-000050aff0fd.xml',\n",
       " 'USLCI-ILCD/ILCD/contacts/33a3bc65-4de0-1131-734d-00005a556d21.xml',\n",
       " 'USLCI-ILCD/ILCD/contacts/346a0151-c57b-e8aa-7f8c-00000b4e5fdd.xml',\n",
       " 'USLCI-ILCD/ILCD/contacts/37b69ba6-0420-b2ef-712f-0000181e59de.xml',\n",
       " 'USLCI-ILCD/ILCD/contacts/3aee56c1-b9ec-b3e1-ba1f-00007e1a86d0.xml',\n",
       " 'USLCI-ILCD/ILCD/contacts/3c2f54ed-a022-e630-ab32-00007ee309c1.xml',\n",
       " 'USLCI-ILCD/ILCD/contacts/4253d3f0-f266-8069-3575-0000292f7ee4.xml',\n",
       " 'USLCI-ILCD/ILCD/contacts/4420a860-994d-fba2-fe00-00004d587a72.xml',\n",
       " 'USLCI-ILCD/ILCD/contacts/4420a860-a676-d73f-18c3-000029893932.xml']"
      ]
     },
     "execution_count": 25,
     "metadata": {},
     "output_type": "execute_result"
    }
   ],
   "source": [
    "k.listfiles()[:20]"
   ]
  },
  {
   "cell_type": "code",
   "execution_count": 26,
   "metadata": {
    "collapsed": true
   },
   "outputs": [],
   "source": [
    "ddd = k.readfile('USLCI-ILCD/ILCD/processes/02530428-7948-20fc-22a8-000057f19a45.xml')"
   ]
  },
  {
   "cell_type": "code",
   "execution_count": 27,
   "metadata": {
    "collapsed": false
   },
   "outputs": [
    {
     "data": {
      "text/plain": [
       "bytes"
      ]
     },
     "execution_count": 27,
     "metadata": {},
     "output_type": "execute_result"
    }
   ],
   "source": [
    "type(ddd)"
   ]
  },
  {
   "cell_type": "code",
   "execution_count": 28,
   "metadata": {
    "collapsed": false
   },
   "outputs": [
    {
     "data": {
      "text/plain": [
       "69254"
      ]
     },
     "execution_count": 28,
     "metadata": {},
     "output_type": "execute_result"
    }
   ],
   "source": [
    "len(ddd)"
   ]
  },
  {
   "cell_type": "code",
   "execution_count": 29,
   "metadata": {
    "collapsed": true
   },
   "outputs": [],
   "source": [
    "ooo = objectify.fromstring(ddd)"
   ]
  },
  {
   "cell_type": "code",
   "execution_count": 30,
   "metadata": {
    "collapsed": false
   },
   "outputs": [
    {
     "data": {
      "text/plain": [
       "[<Element {http://lca.jrc.it/ILCD/Process}processInformation at 0x7fedeadc6748>,\n",
       " <Element {http://lca.jrc.it/ILCD/Process}modellingAndValidation at 0x7fedeadc6808>,\n",
       " <Element {http://lca.jrc.it/ILCD/Process}administrativeInformation at 0x7fedeadc67c8>,\n",
       " <Element {http://lca.jrc.it/ILCD/Process}exchanges at 0x7fedeadc6788>]"
      ]
     },
     "execution_count": 30,
     "metadata": {},
     "output_type": "execute_result"
    }
   ],
   "source": [
    "ooo.getchildren()"
   ]
  },
  {
   "cell_type": "code",
   "execution_count": 31,
   "metadata": {
    "collapsed": false
   },
   "outputs": [
    {
     "data": {
      "text/plain": [
       "4690"
      ]
     },
     "execution_count": 31,
     "metadata": {},
     "output_type": "execute_result"
    }
   ],
   "source": [
    "k.countfiles()"
   ]
  },
  {
   "cell_type": "markdown",
   "metadata": {},
   "source": [
    "### brilliant!"
   ]
  }
 ],
 "metadata": {
  "kernelspec": {
   "display_name": "Python 3",
   "language": "python",
   "name": "python3"
  },
  "language_info": {
   "codemirror_mode": {
    "name": "ipython",
    "version": 3
   },
   "file_extension": ".py",
   "mimetype": "text/x-python",
   "name": "python",
   "nbconvert_exporter": "python",
   "pygments_lexer": "ipython3",
   "version": "3.5.1"
  }
 },
 "nbformat": 4,
 "nbformat_minor": 0
}
