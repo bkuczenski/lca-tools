{
 "cells": [
  {
   "cell_type": "code",
   "execution_count": 1,
   "metadata": {
    "collapsed": true
   },
   "outputs": [],
   "source": [
    "import sys\n",
    "import os\n",
    "import json\n",
    "import re\n",
    "\n",
    "sys.path.append('../..')\n",
    "\n",
    "import lcatools\n",
    "from lcatools.foreground.manager import ForegroundManager\n",
    "from lcatools.interact import *"
   ]
  },
  {
   "cell_type": "code",
   "execution_count": 2,
   "metadata": {
    "collapsed": false
   },
   "outputs": [
    {
     "name": "stdout",
     "output_type": "stream",
     "text": [
      "ForegroundArchive archive added in position 0\n",
      "IlcdLcia archive added in position 1\n",
      "JSON archive added in position 2\n",
      "JSON archive added in position 3\n",
      "JSON archive added in position 4\n",
      "JSON archive added in position 5\n",
      "JSON archive added in position 6\n",
      "JSON archive added in position 7\n",
      "JSON archive added in position 8\n",
      "JSON archive added in position 9\n",
      "JSON archive added in position 10\n",
      "Generating flow-quantity database...\n",
      "Loading LCIA data... (0.78 s)\n",
      "Loading JSON data from /data/GitHub/lca-tools-datafiles/catalogs/elcd_lcia.json.gz:\n",
      "Found Extension: zip\n",
      "54 new quantity entities added (54 total)\n",
      "1256 new flow entities added (1256 total)\n",
      "0 new process entities added (0 total)\n",
      "0 unmatched flows found from source LCIA... \n",
      "\n",
      "finished LCIA... (1.67 s)\n",
      "Loading JSON data from /data/GitHub/lca-tools-datafiles/catalogs/ei_lcia.json.gz:\n",
      "**Upstream reference encountered: /data/LCI/Ecoinvent/3.2/undefined\n",
      "\n",
      "710 new quantity entities added (710 total)\n",
      "3255 new flow entities added (3255 total)\n",
      "0 new process entities added (0 total)\n",
      "92 unmatched flows found from source EI-LCIA... \n",
      "\n",
      "finished EI-LCIA... (8.45 s)\n",
      "finished... (8.46 s)\n"
     ]
    }
   ],
   "source": [
    "F = ForegroundManager('.', force_create_new=True)"
   ]
  },
  {
   "cell_type": "code",
   "execution_count": 3,
   "metadata": {
    "collapsed": false
   },
   "outputs": [
    {
     "name": "stdout",
     "output_type": "stream",
     "text": [
      "[ 0] (EI-LCIA) {q} ReCiPe Midpoint (I), agricultural land occupation, ALOP [LCIA] \n",
      "[ 1] (EI-LCIA) {q} ReCiPe Midpoint (I), photochemical oxidant formation, POFP [LCIA] \n",
      "[ 2] (EI-LCIA) {q} ReCiPe Midpoint (I), freshwater ecotoxicity, FETP100 [LCIA] \n",
      "[ 3] (EI-LCIA) {q} ReCiPe Midpoint (I), metal depletion, MDP [LCIA] \n",
      "[ 4] (EI-LCIA) {q} ReCiPe Midpoint (I), fossil depletion, FDP [LCIA] \n",
      "[ 5] (EI-LCIA) {q} ReCiPe Midpoint (I), urban land occupation, ULOP [LCIA] \n",
      "[ 6] (EI-LCIA) {q} ReCiPe Midpoint (I), ionising radiation, IRP_I [LCIA] \n",
      "[ 7] (EI-LCIA) {q} ReCiPe Midpoint (I), natural land transformation, NLTP [LCIA] \n",
      "[ 8] (EI-LCIA) {q} ReCiPe Midpoint (I), marine ecotoxicity, METP100 [LCIA] \n",
      "[ 9] (EI-LCIA) {q} ReCiPe Midpoint (I), terrestrial acidification, TAP20 [LCIA] \n",
      "[10] (EI-LCIA) {q} ReCiPe Midpoint (I), terrestrial ecotoxicity, TETP100 [LCIA] \n",
      "[11] (EI-LCIA) {q} ReCiPe Midpoint (I), human toxicity, HTP100 [LCIA] \n",
      "[12] (EI-LCIA) {q} ReCiPe Midpoint (I), freshwater eutrophication, FEP [LCIA] \n",
      "[13] (EI-LCIA) {q} ReCiPe Midpoint (I), particulate matter formation, PMFP [LCIA] \n",
      "[14] (EI-LCIA) {q} ReCiPe Midpoint (I), ozone depletion, ODPinf [LCIA] \n",
      "[15] (EI-LCIA) {q} ReCiPe Midpoint (I), marine eutrophication, MEP [LCIA] \n",
      "[16] (EI-LCIA) {q} ReCiPe Midpoint (I), water depletion, WDP [LCIA] \n",
      "[17] (EI-LCIA) {q} ReCiPe Midpoint (I), climate change, GWP20 [LCIA] \n",
      "Add to foreground: (EI-LCIA) {q} ReCiPe Midpoint (I), agricultural land occupation, ALOP [LCIA]\n",
      "Add to foreground: (EI-LCIA) {q} ReCiPe Midpoint (I), photochemical oxidant formation, POFP [LCIA]\n",
      "Add to foreground: (EI-LCIA) {q} ReCiPe Midpoint (I), freshwater ecotoxicity, FETP100 [LCIA]\n",
      "Add to foreground: (EI-LCIA) {q} ReCiPe Midpoint (I), metal depletion, MDP [LCIA]\n",
      "Add to foreground: (EI-LCIA) {q} ReCiPe Midpoint (I), fossil depletion, FDP [LCIA]\n",
      "Add to foreground: (EI-LCIA) {q} ReCiPe Midpoint (I), urban land occupation, ULOP [LCIA]\n",
      "Add to foreground: (EI-LCIA) {q} ReCiPe Midpoint (I), ionising radiation, IRP_I [LCIA]\n",
      "Add to foreground: (EI-LCIA) {q} ReCiPe Midpoint (I), natural land transformation, NLTP [LCIA]\n",
      "Add to foreground: (EI-LCIA) {q} ReCiPe Midpoint (I), marine ecotoxicity, METP100 [LCIA]\n",
      "Add to foreground: (EI-LCIA) {q} ReCiPe Midpoint (I), terrestrial acidification, TAP20 [LCIA]\n"
     ]
    }
   ],
   "source": [
    "for k in F.search('EI-LCIA', 'quantity', Name='ReCiPe mid.*\\(I\\)', show=True)[:10]:\n",
    "    F.add_to_foreground(k)"
   ]
  },
  {
   "cell_type": "code",
   "execution_count": 4,
   "metadata": {
    "collapsed": false
   },
   "outputs": [
    {
     "name": "stdout",
     "output_type": "stream",
     "text": [
      "Loading JSON data from /data/GitHub/lca-tools-datafiles/catalogs/ecoinvent_3.2_apos_xlsx.json.gz:\n",
      "Loading FG from /data/LCI/Ecoinvent/3.2/current_Version_3.2_apos_ecoSpold02.zip\n",
      "Found Extension: zip\n",
      "Loading BG from /data/LCI/Ecoinvent/3.2/current_Version_3.2_apos_lcia_ecoSpold02.zip\n",
      "Found Extension: zip\n",
      "**Upstream reference encountered: /home/b/Dropbox/data/Ecoinvent/3.2/activity_overview_for_users_3.2_undefined.xlsx\n",
      "\n",
      "718 new quantity entities added (718 total)\n",
      "6767 new flow entities added (6767 total)\n",
      "11420 new process entities added (11420 total)\n"
     ]
    }
   ],
   "source": [
    "F.load('EI_A')"
   ]
  },
  {
   "cell_type": "code",
   "execution_count": 5,
   "metadata": {
    "collapsed": false
   },
   "outputs": [
    {
     "name": "stdout",
     "output_type": "stream",
     "text": [
      "[ 0] (EI_A) {p} ethanol production from sugar beet molasses [RoW] \n",
      "[ 1] (EI_A) {p} ethanol production from sugar beet [RoW] \n",
      "[ 2] (EI_A) {p} sugar beet production [RoW] \n"
     ]
    }
   ],
   "source": [
    "sugar_beets = F.search('EI_A', 'process', Name='sugar.?beet', SpatialScope='RoW', show=True)\n"
   ]
  },
  {
   "cell_type": "code",
   "execution_count": 6,
   "metadata": {
    "collapsed": false
   },
   "outputs": [],
   "source": [
    "ref_flow = sugar_beets[0].fg().find_reference('ethanol')"
   ]
  },
  {
   "cell_type": "code",
   "execution_count": 7,
   "metadata": {
    "collapsed": false
   },
   "outputs": [
    {
     "data": {
      "text/plain": [
       "'/data/LCI/Ecoinvent/3.2/current_Version_3.2_apos_ecoSpold02.zip'"
      ]
     },
     "execution_count": 7,
     "metadata": {},
     "output_type": "execute_result"
    }
   ],
   "source": [
    "ref_flow.origin"
   ]
  },
  {
   "cell_type": "code",
   "execution_count": 8,
   "metadata": {
    "collapsed": false
   },
   "outputs": [
    {
     "name": "stdout",
     "output_type": "stream",
     "text": [
      "LcFragment - Name: ethanol production from sugar beet molasses [RoW]:\n",
      "ethanol production from sugar beet molasses [RoW]\n",
      "LcFragment - Name: lime:\n",
      "BG: ( ** ref) -<- 63acf5a -<- -*    lime\n",
      "LcFragment - Name: chemical, inorganic:\n",
      "BG: ( ** ref) -<- a93f9c5 -<- -*    chemical, inorganic\n",
      "LcFragment - Name: electricity, medium voltage:\n",
      "BG: ( ** ref) -<- 9843618 -<- -*    electricity, medium voltage\n",
      "LcFragment - Name: soda ash, light, crystalline, heptahydrate:\n",
      "BG: ( ** ref) -<- 93f5465 -<- -*    soda ash, light, crystalline, heptahydrate\n",
      "LcFragment - Name: tap water:\n",
      "BG: ( ** ref) -<- cdabc61 -<- -*    tap water\n",
      "LcFragment - Name: sugar beet:\n",
      "BG: ( ** ref) -<- e17d514 -<- -*    sugar beet\n",
      "LcFragment - Name: sulfuric acid:\n",
      "BG: ( ** ref) -<- 323c0af -<- -*    sulfuric acid\n",
      "LcFragment - Name: wastewater, from residence:\n",
      "BG: ( ** ref) -<- 9934994 -<- -*    wastewater, from residence\n",
      "LcFragment - Name: transport, tractor and trailer, agricultural:\n",
      "BG: ( ** ref) -<- a005faf -<- -*    transport, tractor and trailer, agricultural\n",
      "LcFragment - Name: sugar beet pulp:\n",
      "BG: ( ** ref) -<- 979cfe5 -<- -*    sugar beet pulp\n",
      "LcFragment - Name: heat, district or industrial, natural gas:\n",
      "BG: ( ** ref) -<- aab137c -<- -*    heat, district or industrial, natural gas\n",
      "LcFragment - Name: heat, district or industrial, natural gas:\n",
      "BG: ( ** ref) -<- 5d3a17c -<- -*    heat, district or industrial, natural gas\n",
      "LcFragment - Name: nitrogen fertiliser, as N:\n",
      "BG: ( ** ref) -<- 0d61bc1 -<- -*    nitrogen fertiliser, as N\n",
      "LcFragment - Name: electricity, medium voltage:\n",
      "BG: ( ** ref) -<- 2717384 -<- -*    electricity, medium voltage\n",
      "LcFragment - Name: ammonium sulfate, as N:\n",
      "BG: ( ** ref) -<- d839177 -<- -*    ammonium sulfate, as N\n",
      "LcFragment - Name: coke:\n",
      "BG: ( ** ref) -<- 224ccad -<- -*    coke\n",
      "LcFragment - Name: ethanol fermentation plant:\n",
      "BG: ( ** ref) -<- a0b6579 -<- -*    ethanol fermentation plant\n",
      "LcFragment - Name: vinasse, from fermentation of sugar beet molasses:\n",
      "BG: ( ** ref) -<- c072bfc -<- -*    vinasse, from fermentation of sugar beet molasses\n",
      "LcFragment - Name: chemical, organic:\n",
      "BG: ( ** ref) -<- 932a648 -<- -*    chemical, organic\n",
      "LcFragment - Name: sugar refinery:\n",
      "BG: ( ** ref) -<- 46be12a -<- -*    sugar refinery\n",
      "LcFragment - Name: molasses, from sugar beet:\n",
      "BG: ( ** ref) -<- 825254a -<- -*    molasses, from sugar beet\n",
      "LcFragment - Name: limestone residue:\n",
      "BG: ( ** ref) -<- a302aed -<- -*    limestone residue\n",
      "LcFragment - Name: tap water:\n",
      "BG: ( ** ref) -<- 4d55823 -<- -*    tap water\n",
      "LcFragment - Name: molasses, from sugar beet:\n",
      "BG: ( ** ref) =>= b8224eb =>= ---:  molasses, from sugar beet\n"
     ]
    }
   ],
   "source": [
    "frag = F.create_fragment_from_process(sugar_beets[0], ref_flow=ref_flow)"
   ]
  },
  {
   "cell_type": "code",
   "execution_count": 9,
   "metadata": {
    "collapsed": false
   },
   "outputs": [
    {
     "name": "stdout",
     "output_type": "stream",
     "text": [
      "-<--*   4a37702 (      1) ethanol production from sugar beet molasses [RoW]\n",
      "    | -<--B   e4046e1 (   0.56) heat, district or industrial, natural gas\n",
      "    | -<--B   bce6ce5 (      0) ammonium sulfate, as N\n",
      "    | -<--B   0740a66 (      0) ethanol fermentation plant\n",
      "    | =>=---: 2968b7b (      0) molasses, from sugar beet\n",
      "    | -<--B   c74262b (0.00024) sulfuric acid\n",
      "    | -<--B   9438c00 (0.00051) chemical, inorganic\n",
      "    | -<--B   76a37f5 (   0.11) lime\n",
      "    | -<--B   785f445 (    2.1) tap water\n",
      "    | -<--B   36ef048 (    3.8) sugar beet\n",
      "    | -<--B   73c362f ( 0.0095) coke\n",
      "    | -<--B   2ae168c (      0) nitrogen fertiliser, as N\n",
      "    | -<--B   9548702 ( 0.0013) soda ash, light, crystalline, heptahydrate\n",
      "    | -<--B   509b6ae (  0.063) electricity, medium voltage\n",
      "    | -<--B   e42c9b5 (  -0.14) limestone residue\n",
      "    | -<--B   8b59e50 (  0.038) transport, tractor and trailer, agricultural\n",
      "    | -<--B   d193a54 (    2.1) tap water\n",
      "    | -<--B   be50d7c (  -0.77) sugar beet pulp\n",
      "    | -<--B   8ae6663 (      0) vinasse, from fermentation of sugar beet molasses\n",
      "    | -<--B   035b944 (5.9e-11) sugar refinery\n",
      "    | -<--B   d30b1cb (   0.56) heat, district or industrial, natural gas\n",
      "    | -<--B   8a21dee (-0.0066) wastewater, from residence\n",
      "    | -<--B   3189ffd (  0.063) electricity, medium voltage\n",
      "    | -<--B   e1352ca (  -0.14) molasses, from sugar beet\n",
      "    | -<--B   571b6a4 (0.00035) chemical, organic\n"
     ]
    }
   ],
   "source": [
    "F.draw_fragment(frag)"
   ]
  },
  {
   "cell_type": "code",
   "execution_count": 10,
   "metadata": {
    "collapsed": false
   },
   "outputs": [
    {
     "name": "stdout",
     "output_type": "stream",
     "text": [
      "ethanol production from sugar beet molasses [RoW]\n",
      "Intermediate exchanges:\n",
      " Input:     [0.11 [kg]] lime [By-product classification: allocatable product] (#)\n",
      " Input:     [0.000507 [kg]] chemical, inorganic [By-product classification: allocatable product] (#)\n",
      " Input:     [0.063 [kWh]] electricity, medium voltage [By-product classification: allocatable product] (#)\n",
      " Input:     [0.00131 [kg]] soda ash, light, crystalline, heptahydrate (CAS 497-19-8) [By-product classification: allocatable product] (#)\n",
      " Input:     [2.08 [kg]] tap water (CAS 7732-18-5) [By-product classification: allocatable product] (#)\n",
      " Input:     [3.79 [kg]] sugar beet [By-product classification: allocatable product] (#)\n",
      " Input:     [0.000239 [kg]] sulfuric acid [By-product classification: allocatable product] (#)\n",
      " Input:     [-0.0066 [m3]] wastewater, from residence [By-product classification: Waste] (#)\n",
      " Input:     [0.0379 [metric ton*km]] transport, tractor and trailer, agricultural [By-product classification: allocatable product] (#)\n",
      " Input:     [-0.773 [kg]] sugar beet pulp [By-product classification: allocatable product] (#)\n",
      " Input:     [0.564 [MJ]] heat, district or industrial, natural gas [By-product classification: allocatable product] (#)\n",
      " Input:     [0.564 [MJ]] heat, district or industrial, natural gas [By-product classification: allocatable product] (#)\n",
      " Input:     [0 [kg]] nitrogen fertiliser, as N [By-product classification: allocatable product] (#)\n",
      " Input:     [0.063 [kWh]] electricity, medium voltage [By-product classification: allocatable product] (#)\n",
      " Input:     [0 [kg]] ammonium sulfate, as N [By-product classification: allocatable product] (#)\n",
      " Input:     [0.00952 [MJ]] coke [By-product classification: allocatable product] (#)\n",
      " Input:     [0 [unit]] ethanol fermentation plant [By-product classification: allocatable product] (#)\n",
      " Input:     [0 [kg]] vinasse, from fermentation of sugar beet molasses [By-product classification: Recyclable] (#)\n",
      " Input:     [0.000352 [kg]] chemical, organic [By-product classification: allocatable product] (#)\n",
      " Input:     [5.95e-11 [unit]] sugar refinery [By-product classification: allocatable product] (#)\n",
      " Input:     [-0.136 [kg]] molasses, from sugar beet [By-product classification: allocatable product] (#)\n",
      " Input:     [-0.139 [kg]] limestone residue [By-product classification: Waste] (#)\n",
      " Input:     [2.08 [kg]] tap water (CAS 7732-18-5) [By-product classification: allocatable product] (#)\n",
      "Output: {*} [1 [kg]] ethanol, without water, in 95% solution state, from fermentation (CAS 000064-17-5) [By-product classification: allocatable product]\n",
      "Output: {*} [0 [kg]] molasses, from sugar beet [By-product classification: allocatable product]\n"
     ]
    }
   ],
   "source": [
    "F.intermediate(frag.termination(None).term_node, ref_flow=frag.termination(None).term_flow)"
   ]
  },
  {
   "cell_type": "code",
   "execution_count": 11,
   "metadata": {
    "collapsed": true
   },
   "outputs": [],
   "source": [
    "proc = frag.termination().term_node.fg()"
   ]
  },
  {
   "cell_type": "code",
   "execution_count": 12,
   "metadata": {
    "collapsed": false
   },
   "outputs": [
    {
     "data": {
      "text/plain": [
       "[<lcatools.exchanges.Exchange at 0x7f8542145eb8>,\n",
       " <lcatools.exchanges.Exchange at 0x7f854214a128>]"
      ]
     },
     "execution_count": 12,
     "metadata": {},
     "output_type": "execute_result"
    }
   ],
   "source": [
    "refs = list(proc.reference_entity)\n",
    "refs"
   ]
  },
  {
   "cell_type": "code",
   "execution_count": 13,
   "metadata": {
    "collapsed": false
   },
   "outputs": [
    {
     "name": "stdout",
     "output_type": "stream",
     "text": [
      "Process Entity\n",
      "           Name: ethanol production from sugar beet molasses\n",
      "        Comment: [This dataset was already contained in the ecoinvent database version 2. It was not individually updated during the transfer to ecoinvent version 3. Life Cycle Impact Assessment results may still have changed, as they are affected by changes in the supply chain, i.e. in other datasets. This dataset was generated following the ecoinvent quality guidelines for version 2. It may have been subject to central changes described in the ecoinvent version 3 change report (http://www.ecoinvent.org/database/ecoinvent-version-3/reports-of-changes/), and the results of the central updates were reviewed extensively. The changes added e.g. consistent water flows and other information throughout the database. The documentation of this dataset can be found in the ecoinvent reports of version 2, which are still available via the ecoinvent website. The change report linked above covers all central changes that were made during the conversion process.]\n",
      "Classifications: ['EcoSpold01Categories: biomass/fuels', 'ISIC rev.4 ecoinvent: 19a: Liquid and gaseous fuels from biomass']\n",
      "   SpatialScope: RoW\n",
      "  TemporalScope: {'end': '2015-12-31', 'begin': '1998-01-01'}\n"
     ]
    }
   ],
   "source": [
    "proc.show()"
   ]
  },
  {
   "cell_type": "code",
   "execution_count": 14,
   "metadata": {
    "collapsed": false
   },
   "outputs": [
    {
     "data": {
      "text/plain": [
       "[' Input:     [0.161 [kg]] Carbon dioxide, in air (CAS 000124-38-9) [natural resource, in air]',\n",
       " 'Output:     [0.411 [kg]] Carbon dioxide, non-fossil (CAS 000124-38-9) [air, urban air close to ground]',\n",
       " 'Output:     [0.000103 [m3]] Water (CAS 007732-18-5) [air, unspecified]',\n",
       " ' Input:     [0.00123 [kg]] ammonium sulfate, as N [By-product classification: allocatable product] (#)',\n",
       " ' Input:     [0 [kg]] chemical, inorganic [By-product classification: allocatable product] (#)',\n",
       " ' Input:     [0 [kg]] chemical, organic [By-product classification: allocatable product] (#)',\n",
       " ' Input:     [0 [MJ]] coke [By-product classification: allocatable product] (#)',\n",
       " ' Input:     [0 [kWh]] electricity, medium voltage [By-product classification: allocatable product] (#)',\n",
       " ' Input:     [0.057 [kWh]] electricity, medium voltage [By-product classification: allocatable product] (#)',\n",
       " ' Input:     [1.2e-10 [unit]] ethanol fermentation plant [By-product classification: allocatable product] (#)',\n",
       " 'Output: {*} [0 [kg]] ethanol, without water, in 95% solution state, from fermentation (CAS 000064-17-5) [By-product classification: allocatable product]',\n",
       " ' Input:     [3.1 [MJ]] heat, district or industrial, natural gas [By-product classification: allocatable product] (#)',\n",
       " ' Input:     [0 [MJ]] heat, district or industrial, natural gas [By-product classification: allocatable product] (#)',\n",
       " ' Input:     [0 [kg]] lime [By-product classification: allocatable product] (#)',\n",
       " ' Input:     [0 [kg]] limestone residue [By-product classification: Waste] (#)',\n",
       " ' Input:     [-0.136 [kg]] molasses, from sugar beet [By-product classification: allocatable product] (#)',\n",
       " 'Output: {*} [-1 [kg]] molasses, from sugar beet [By-product classification: allocatable product]',\n",
       " ' Input:     [0.00185 [kg]] nitrogen fertiliser, as N [By-product classification: allocatable product] (#)',\n",
       " ' Input:     [0 [kg]] soda ash, light, crystalline, heptahydrate (CAS 497-19-8) [By-product classification: allocatable product] (#)',\n",
       " ' Input:     [0 [kg]] sugar beet [By-product classification: allocatable product] (#)',\n",
       " ' Input:     [0 [kg]] sugar beet pulp [By-product classification: allocatable product] (#)',\n",
       " ' Input:     [0 [unit]] sugar refinery [By-product classification: allocatable product] (#)',\n",
       " ' Input:     [0.00926 [kg]] sulfuric acid [By-product classification: allocatable product] (#)',\n",
       " ' Input:     [1.98 [kg]] tap water (CAS 7732-18-5) [By-product classification: allocatable product] (#)',\n",
       " ' Input:     [0 [kg]] tap water (CAS 7732-18-5) [By-product classification: allocatable product] (#)',\n",
       " ' Input:     [0 [metric ton*km]] transport, tractor and trailer, agricultural [By-product classification: allocatable product] (#)',\n",
       " ' Input:     [-0.614 [kg]] vinasse, from fermentation of sugar beet molasses [By-product classification: Recyclable] (#)',\n",
       " ' Input:     [-0.00187 [m3]] wastewater, from residence [By-product classification: Waste] (#)']"
      ]
     },
     "execution_count": 14,
     "metadata": {},
     "output_type": "execute_result"
    }
   ],
   "source": [
    "[str(x) for x in sorted(proc.allocated_exchanges(refs[0]), key=lambda x: x.flow['Name'])]"
   ]
  },
  {
   "cell_type": "code",
   "execution_count": 15,
   "metadata": {
    "collapsed": false
   },
   "outputs": [
    {
     "name": "stdout",
     "output_type": "stream",
     "text": [
      "Loading LCIA results from b203c4a7-fc43-4434-89b4-490061e32a93_7349f706-8f4e-4061-9e68-a66c269b4030.spold\n",
      "Loading LCIA results from 52cfdcee-514c-4366-a7e8-b2a23212e995_759b89bd-3aa6-42ad-b767-5bb9ef5d331d.spold\n",
      "Loading LCIA results from 6158d46e-b32c-42b9-aa95-1eeb4e593ec2_73b452c8-3ac4-4993-86e4-fe0653467988.spold\n",
      "Loading LCIA results from 71019788-1cb7-4fd2-924a-e1b278cd2a9a_1fa64d0c-afd7-46ab-b95c-3a54e0902dd0.spold\n",
      "Loading LCIA results from 6268f498-c703-49d1-b646-3ee9d15c0200_7a7db01b-126b-42fa-b3cc-e2ed48081eca.spold\n",
      "Loading LCIA results from 6c46fcb8-bd3f-41f0-b9d0-dfbde74ecfec_26448127-c1ac-4f48-818a-5e8fd9cb1645.spold\n",
      "Loading LCIA results from 598c89fe-6d31-48a3-89ae-3687734e4208_c5adb1fb-872e-4446-a3bb-c4b61aa4bd45.spold\n",
      "Loading LCIA results from 268b4507-3a49-49d9-8ee6-765059909ac3_f5707bdf-f7e2-479b-b3ea-99c04de8a927.spold\n",
      "Loading LCIA results from bb6cc7c3-a81e-4b6e-ba86-de97ec13cb7d_2be73167-58e8-4706-a68f-167c80df9f72.spold\n",
      "Loading LCIA results from 82552aab-ecf2-4d0b-9e76-e7ec4ce47178_f33b4dc5-f3af-4ca8-aeff-3deeb7159ec1.spold\n",
      "Loading LCIA results from 31147725-f08f-4e3d-8196-29744fad76d8_9d63da75-8289-4b96-a900-67ec3bd40a16.spold\n",
      "Loading LCIA results from 57697b27-e4f7-4afc-847f-e0b189a7b900_560e69eb-413e-49db-8796-3dd103ae8888.spold\n",
      "Loading LCIA results from ad026e7f-b646-4e4f-9689-6e06868e2538_759b89bd-3aa6-42ad-b767-5bb9ef5d331d.spold\n",
      "Loading LCIA results from 61e38d92-d558-4759-b9a8-dea9954cf16f_ba4b7781-39f2-465b-8d98-0bc1c4c82e61.spold\n",
      "Loading LCIA results from 75aaa5d0-e5df-4977-a8fb-b79dad545a2d_6f4bede8-f885-499c-8ac9-6832e35d9d16.spold\n",
      "Loading LCIA results from 62c92136-dc40-41fd-8286-e024c3097209_a00b7e35-1bc7-4b73-9df8-05f3dd07ffdb.spold\n",
      "Loading LCIA results from 1ae5f888-6823-4250-a3b5-b6de66a0d9cb_c5adb1fb-872e-4446-a3bb-c4b61aa4bd45.spold\n",
      "ethanol production from sugar beet molasses [RoW]\n",
      "Loading LCIA results from 7424a131-694d-48a5-b188-de7adf16dd99_1125e767-7b5d-442e-81d6-9b0d3e1919ac.spold\n",
      "Loading LCIA results from 86c6f7e6-a0ea-4897-a7f6-ef757bb46a2c_e98c4987-0c27-4ad8-aa06-568bea573460.spold\n",
      "Loading LCIA results from f461b3a8-fff5-45d8-90fb-563e157624ad_9e6f12d8-b727-4aef-94e3-c8278e3661d7.spold\n",
      "Loading LCIA results from 1cbeda02-4edf-45b4-b787-02d6783807e2_725cbdbd-cdb2-484b-9363-2c6facb2ab4b.spold\n",
      "Loading LCIA results from 40d9dc2f-e712-4d8b-8fa3-ed9f2dbfcdf1_93ee89ba-ff0b-4c4b-a333-af78bda8a9c4.spold\n",
      "Loading LCIA results from a6b03ed3-532c-43c8-abd6-c8242eb18d05_1125e767-7b5d-442e-81d6-9b0d3e1919ac.spold\n"
     ]
    }
   ],
   "source": [
    "F.compute_unit_scores()"
   ]
  },
  {
   "cell_type": "code",
   "execution_count": 16,
   "metadata": {
    "collapsed": false
   },
   "outputs": [
    {
     "name": "stdout",
     "output_type": "stream",
     "text": [
      "CPU times: user 10 ms, sys: 0 ns, total: 10 ms\n",
      "Wall time: 1.74 ms\n"
     ]
    }
   ],
   "source": [
    "%time ffs = F.traverse(frag)\n"
   ]
  },
  {
   "cell_type": "code",
   "execution_count": 17,
   "metadata": {
    "collapsed": false
   },
   "outputs": [
    {
     "data": {
      "text/plain": [
       "[<lcatools.foreground.fragment_flows.FragmentFlow at 0x7f854212be48>,\n",
       " <lcatools.foreground.fragment_flows.FragmentFlow at 0x7f854212bf28>,\n",
       " <lcatools.foreground.fragment_flows.FragmentFlow at 0x7f854212bf60>,\n",
       " <lcatools.foreground.fragment_flows.FragmentFlow at 0x7f854212bf98>,\n",
       " <lcatools.foreground.fragment_flows.FragmentFlow at 0x7f854212bef0>,\n",
       " <lcatools.foreground.fragment_flows.FragmentFlow at 0x7f8542117048>,\n",
       " <lcatools.foreground.fragment_flows.FragmentFlow at 0x7f8542117080>,\n",
       " <lcatools.foreground.fragment_flows.FragmentFlow at 0x7f85421170b8>,\n",
       " <lcatools.foreground.fragment_flows.FragmentFlow at 0x7f85421170f0>,\n",
       " <lcatools.foreground.fragment_flows.FragmentFlow at 0x7f8542117128>,\n",
       " <lcatools.foreground.fragment_flows.FragmentFlow at 0x7f8542117160>,\n",
       " <lcatools.foreground.fragment_flows.FragmentFlow at 0x7f8542117198>,\n",
       " <lcatools.foreground.fragment_flows.FragmentFlow at 0x7f85421171d0>,\n",
       " <lcatools.foreground.fragment_flows.FragmentFlow at 0x7f8542117208>,\n",
       " <lcatools.foreground.fragment_flows.FragmentFlow at 0x7f8542117240>,\n",
       " <lcatools.foreground.fragment_flows.FragmentFlow at 0x7f8542117278>,\n",
       " <lcatools.foreground.fragment_flows.FragmentFlow at 0x7f85421172b0>,\n",
       " <lcatools.foreground.fragment_flows.FragmentFlow at 0x7f85421172e8>,\n",
       " <lcatools.foreground.fragment_flows.FragmentFlow at 0x7f8542117320>,\n",
       " <lcatools.foreground.fragment_flows.FragmentFlow at 0x7f8542117358>,\n",
       " <lcatools.foreground.fragment_flows.FragmentFlow at 0x7f8542117390>,\n",
       " <lcatools.foreground.fragment_flows.FragmentFlow at 0x7f85421173c8>,\n",
       " <lcatools.foreground.fragment_flows.FragmentFlow at 0x7f8542117400>,\n",
       " <lcatools.foreground.fragment_flows.FragmentFlow at 0x7f8542117438>,\n",
       " <lcatools.foreground.fragment_flows.FragmentFlow at 0x7f8542117470>]"
      ]
     },
     "execution_count": 17,
     "metadata": {},
     "output_type": "execute_result"
    }
   ],
   "source": [
    "ffs"
   ]
  },
  {
   "cell_type": "code",
   "execution_count": 18,
   "metadata": {
    "collapsed": false
   },
   "outputs": [],
   "source": [
    "w = [i for i in ffs if i.fragment.flow['Name'] == 'tap water']"
   ]
  },
  {
   "cell_type": "code",
   "execution_count": 19,
   "metadata": {
    "collapsed": false
   },
   "outputs": [
    {
     "data": {
      "text/plain": [
       "'cdabc61       2.08 [ Input] -#  market group for tap water [GLO]'"
      ]
     },
     "execution_count": 19,
     "metadata": {},
     "output_type": "execute_result"
    }
   ],
   "source": [
    "str(w[0])"
   ]
  },
  {
   "cell_type": "code",
   "execution_count": 20,
   "metadata": {
    "collapsed": true
   },
   "outputs": [],
   "source": [
    "lcia_methods = (q for q in F[0].lcia_methods())"
   ]
  },
  {
   "cell_type": "code",
   "execution_count": 24,
   "metadata": {
    "collapsed": false
   },
   "outputs": [
    {
     "data": {
      "text/plain": [
       "'ReCiPe Midpoint (I), photochemical oxidant formation, POFP [LCIA]'"
      ]
     },
     "execution_count": 24,
     "metadata": {},
     "output_type": "execute_result"
    }
   ],
   "source": [
    "quantity = next(lcia_methods)\n",
    "str(quantity)"
   ]
  },
  {
   "cell_type": "code",
   "execution_count": 25,
   "metadata": {
    "collapsed": false
   },
   "outputs": [
    {
     "name": "stdout",
     "output_type": "stream",
     "text": [
      "ReCiPe Midpoint (I), photochemical oxidant formation, POFP [LCIA]\n",
      "         1 x          0 =          0 ethanol production from sugar beet molasses [RoW]\n",
      "     0.564 x   5.02e-05 =   2.83e-05 market group for heat, district or industrial, natural gas [GLO]\n",
      "         0 x    0.00522 =          0 market for ammonium sulfate, as N [GLO]\n",
      "         0 x   2.77e+04 =          0 market for ethanol fermentation plant [GLO]\n",
      "skipping this one: molasses, from sugar beet\n",
      "  0.000239 x    0.00181 =   4.33e-07 market for sulfuric acid [GLO]\n",
      "  0.000507 x    0.00648 =   3.28e-06 market for chemicals, inorganic [GLO]\n",
      "      0.11 x   0.000162 =   1.78e-05 market for lime [GLO]\n",
      "      2.08 x   1.65e-06 =   3.44e-06 market group for tap water [GLO]\n",
      "      3.79 x   0.000192 =   0.000729 market for sugar beet [GLO]\n",
      "   0.00952 x   0.000332 =   3.16e-06 market for coke [GLO]\n",
      "         0 x     0.0233 =          0 market for nitrogen fertiliser, as N [GLO]\n",
      "   0.00131 x    0.00213 =   2.78e-06 market for soda ash, light, crystalline, heptahydrate [GLO]\n",
      "     0.063 x    0.00189 =   0.000119 market group for electricity, medium voltage [GLO]\n",
      "     0.139 x   5.51e-05 =   7.64e-06 market for limestone residue [GLO]\n",
      "    0.0379 x    0.00292 =   0.000111 market for transport, tractor and trailer, agricultural [GLO]\n",
      "      2.08 x    7.2e-07 =    1.5e-06 market for tap water [CH]\n",
      "     0.773 x          0 =          0 market for sugar beet pulp [GLO]\n",
      "        -0 x   4.18e-06 =         -0 market for vinasse, from fermentation of sugar beet molasses [GLO]\n",
      "  5.95e-11 x   3.94e+04 =   2.34e-06 market for sugar refinery [GLO]\n",
      "     0.564 x   6.08e-05 =   3.43e-05 market for heat, district or industrial, natural gas [CH]\n",
      "    0.0066 x    0.00251 =   1.66e-05 market for wastewater, from residence [GLO]\n",
      "     0.063 x   0.000193 =   1.22e-05 market for electricity, medium voltage [CH]\n",
      "     0.136 x   6.36e-05 =   8.67e-06 market for molasses, from sugar beet [GLO]\n",
      "  0.000352 x     0.0075 =   2.64e-06 market for chemical, organic [GLO]\n",
      "Total: 0.00110382\n"
     ]
    }
   ],
   "source": [
    "\n",
    "total = 0.0\n",
    "print('%s' % quantity)\n",
    "skips = []\n",
    "for i in ffs:\n",
    "    mag = i.node_weight\n",
    "    scr = i.term.score_cache(quantity)\n",
    "    if scr is None:\n",
    "        print('skipping this one: %s' % i.fragment['Name'])\n",
    "        skips.append(i)\n",
    "        continue\n",
    "    cont = mag * scr.total()\n",
    "    #if i.fragment.direction == i.term.direction:\n",
    "    #    cont *= -1\n",
    "    print('%10.3g x %10.3g = %10.3g %s' % (mag, scr.total(), cont, i.fragment['Name']))\n",
    "    total += cont\n",
    "print('Total: %10.6g' % total)"
   ]
  },
  {
   "cell_type": "code",
   "execution_count": 26,
   "metadata": {
    "collapsed": false
   },
   "outputs": [
    {
     "name": "stdout",
     "output_type": "stream",
     "text": [
      "Loading LCIA results from f01eb904-d7e7-4633-b1a7-be54f33daa96_ffcb8cbb-77ab-4f87-8a94-87ca5b8ea79e.spold\n",
      "ReCiPe Midpoint (I), photochemical oxidant formation, POFP [LCIA] kg NMVOC\n",
      "------------------------------------------------------------\n",
      "         1 x     0.0011 =     0.0011 [RoW] ethanol, without water, in 95% solution state, from fermentation (CAS 000064-17-5) [By-product classification: allocatable product]\n",
      "============================================================\n",
      "             Total score: 0.00110382 \n",
      "    0.0011 ReCiPe Midpoint (I), photochemical oxidant formation, POFP [LCIA]\n"
     ]
    }
   ],
   "source": [
    "F.bg_lcia(frag.term.term_node, [quantity], ref_flow=frag.term.term_flow, )[quantity.get_uuid()].show_details()"
   ]
  },
  {
   "cell_type": "code",
   "execution_count": 27,
   "metadata": {
    "collapsed": false
   },
   "outputs": [
    {
     "name": "stdout",
     "output_type": "stream",
     "text": [
      "-<--*   4a37702 (      1) ethanol production from sugar beet molasses [RoW]\n",
      "    | -<--B   e4046e1 (   0.56) heat, district or industrial, natural gas\n",
      "    | -<--B   bce6ce5 (      0) ammonium sulfate, as N\n",
      "    | -<--B   0740a66 (      0) ethanol fermentation plant\n",
      "    | =>=---: 2968b7b (      0) molasses, from sugar beet\n",
      "    | -<--B   c74262b (0.00024) sulfuric acid\n",
      "    | -<--B   9438c00 (0.00051) chemical, inorganic\n",
      "    | -<--B   76a37f5 (   0.11) lime\n",
      "    | -<--B   785f445 (    2.1) tap water\n",
      "    | -<--B   36ef048 (    3.8) sugar beet\n",
      "    | -<--B   73c362f ( 0.0095) coke\n",
      "    | -<--B   2ae168c (      0) nitrogen fertiliser, as N\n",
      "    | -<--B   9548702 ( 0.0013) soda ash, light, crystalline, heptahydrate\n",
      "    | -<--B   509b6ae (  0.063) electricity, medium voltage\n",
      "    | -<--B   e42c9b5 (  -0.14) limestone residue\n",
      "    | -<--B   8b59e50 (  0.038) transport, tractor and trailer, agricultural\n",
      "    | -<--B   d193a54 (    2.1) tap water\n",
      "    | -<--B   be50d7c (  -0.77) sugar beet pulp\n",
      "    | -<--B   8ae6663 (      0) vinasse, from fermentation of sugar beet molasses\n",
      "    | -<--B   035b944 (5.9e-11) sugar refinery\n",
      "    | -<--B   d30b1cb (   0.56) heat, district or industrial, natural gas\n",
      "    | -<--B   8a21dee (-0.0066) wastewater, from residence\n",
      "    | -<--B   3189ffd (  0.063) electricity, medium voltage\n",
      "    | -<--B   e1352ca (  -0.14) molasses, from sugar beet\n",
      "    | -<--B   571b6a4 (0.00035) chemical, organic\n"
     ]
    }
   ],
   "source": [
    "F.draw_fragment(frag)"
   ]
  },
  {
   "cell_type": "code",
   "execution_count": 28,
   "metadata": {
    "collapsed": false
   },
   "outputs": [
    {
     "name": "stdout",
     "output_type": "stream",
     "text": [
      "market for sugar beet [GLO]\n",
      "LcFragment - Name: transport, freight, lorry, unspecified:\n",
      "BG: ( ** ref) -<- 34aa7ca -<- -*    transport, freight, lorry, unspecified\n",
      "LcFragment - Name: sugar beet:\n",
      "BG: ( ** ref) -<- 489d5e7 -<- -*    sugar beet\n"
     ]
    },
    {
     "data": {
      "text/plain": [
       "<lcatools.foreground.fragment_flows.LcFragment at 0x7f8542160fd0>"
      ]
     },
     "execution_count": 28,
     "metadata": {},
     "output_type": "execute_result"
    }
   ],
   "source": [
    "F.fragment_to_foreground(F.frag('36ef0'))  # manually specify sugar beet fragment"
   ]
  },
  {
   "cell_type": "code",
   "execution_count": 30,
   "metadata": {
    "collapsed": false
   },
   "outputs": [
    {
     "name": "stdout",
     "output_type": "stream",
     "text": [
      "sugar beet production [RoW]\n",
      "LcFragment - Name: sugar beet seed, for sowing:\n",
      "BG: ( ** ref) -<- c1f1285 -<- -*    sugar beet seed, for sowing\n",
      "LcFragment - Name: fertilising, by broadcaster:\n",
      "BG: ( ** ref) -<- ce43fca -<- -*    fertilising, by broadcaster\n",
      "LcFragment - Name: ammonium sulfate, as N:\n",
      "LcFragment - Name: ammonium nitrate, as N:\n",
      "BG: ( ** ref) -<- 39ef817 -<- -*    ammonium nitrate, as N\n",
      "LcFragment - Name: solid manure loading and spreading, by hydraulic loader and spreader:\n",
      "BG: ( ** ref) -<- 4bd651c -<- -*    solid manure loading and spreading, by hydraulic loader and spreader\n",
      "LcFragment - Name: green manure, Swiss integrated production, until February:\n",
      "BG: ( ** ref) -<- cfda770 -<- -*    green manure, Swiss integrated production, until February\n",
      "LcFragment - Name: harvesting, by complete harvester, beets:\n",
      "BG: ( ** ref) -<- 4fa8d08 -<- -*    harvesting, by complete harvester, beets\n",
      "LcFragment - Name: [thio]carbamate-compound:\n",
      "BG: ( ** ref) -<- 5419ef4 -<- -*    [thio]carbamate-compound\n",
      "LcFragment - Name: phosphate rock, as P2O5, beneficiated, dry:\n",
      "BG: ( ** ref) -<- 254ee02 -<- -*    phosphate rock, as P2O5, beneficiated, dry\n",
      "LcFragment - Name: tillage, ploughing:\n",
      "BG: ( ** ref) -<- 345d809 -<- -*    tillage, ploughing\n",
      "LcFragment - Name: benzimidazole-compound:\n",
      "BG: ( ** ref) -<- d237f1a -<- -*    benzimidazole-compound\n",
      "LcFragment - Name: potassium sulfate, as K2O:\n",
      "BG: ( ** ref) -<- 0c69ec3 -<- -*    potassium sulfate, as K2O\n",
      "LcFragment - Name: cyclic N-compound:\n",
      "BG: ( ** ref) -<- 9b205a5 -<- -*    cyclic N-compound\n",
      "LcFragment - Name: phosphate fertiliser, as P2O5:\n",
      "BG: ( ** ref) -<- c0c9e01 -<- -*    phosphate fertiliser, as P2O5\n",
      "LcFragment - Name: fodder loading, by self-loading trailer:\n",
      "BG: ( ** ref) -<- 8707ee9 -<- -*    fodder loading, by self-loading trailer\n",
      "LcFragment - Name: biowaste:\n",
      "BG: ( ** ref) -<- d725d83 -<- -*    biowaste\n",
      "LcFragment - Name: pesticide, unspecified:\n",
      "BG: ( ** ref) -<- a70da1e -<- -*    pesticide, unspecified\n",
      "LcFragment - Name: hoeing:\n",
      "BG: ( ** ref) -<- 1f9bc14 -<- -*    hoeing\n",
      "LcFragment - Name: transport, tractor and trailer, agricultural:\n",
      "LcFragment - Name: urea, as N:\n",
      "BG: ( ** ref) -<- fa19380 -<- -*    urea, as N\n",
      "LcFragment - Name: liquid manure spreading, by vacuum tanker:\n",
      "BG: ( ** ref) -<- a772f1a -<- -*    liquid manure spreading, by vacuum tanker\n",
      "LcFragment - Name: potassium chloride, as K2O:\n",
      "BG: ( ** ref) -<- f8dbe36 -<- -*    potassium chloride, as K2O\n",
      "LcFragment - Name: application of plant protection product, by field sprayer:\n",
      "BG: ( ** ref) -<- eda151b -<- -*    application of plant protection product, by field sprayer\n",
      "LcFragment - Name: nitrogen fertiliser, as N:\n",
      "LcFragment - Name: tillage, harrowing, by spring tine harrow:\n",
      "BG: ( ** ref) -<- 10bd5c8 -<- -*    tillage, harrowing, by spring tine harrow\n",
      "LcFragment - Name: triazine-compound, unspecified:\n",
      "BG: ( ** ref) -<- bf4f8a8 -<- -*    triazine-compound, unspecified\n",
      "LcFragment - Name: sowing:\n",
      "BG: ( ** ref) -<- 9bd6f7c -<- -*    sowing\n"
     ]
    },
    {
     "data": {
      "text/plain": [
       "<lcatools.foreground.fragment_flows.LcFragment at 0x7f8542117898>"
      ]
     },
     "execution_count": 30,
     "metadata": {},
     "output_type": "execute_result"
    }
   ],
   "source": [
    "F.fragment_to_foreground(F.frag('17991'))"
   ]
  },
  {
   "cell_type": "code",
   "execution_count": 31,
   "metadata": {
    "collapsed": false
   },
   "outputs": [
    {
     "name": "stdout",
     "output_type": "stream",
     "text": [
      "-<--*   4a37702 (      1) ethanol production from sugar beet molasses [RoW]\n",
      "    | -<--B   73c362f ( 0.0095) coke\n",
      "    | -<--B   bce6ce5 (      0) ammonium sulfate, as N\n",
      "    | -<--B   0740a66 (      0) ethanol fermentation plant\n",
      "    | =>=---: 2968b7b (      0) molasses, from sugar beet\n",
      "    | -<--B   76a37f5 (   0.11) lime\n",
      "    | -<--*   36ef048 (    3.8) sugar beet\n",
      "    |  | -<--*   1799103 (      1) sugar beet\n",
      "    |  |  | -<--B   8e1cb31 (5.1e-05) fertilising, by broadcaster\n",
      "    |  |  | -<--B   3ba3c84 (5.7e-05) application of plant protection product, by field sprayer\n",
      "    |  |  | -<--B   95ded38 (4.2e-05) potassium sulfate, as K2O\n",
      "    |  |  | -<--B   cf3497a (0.00028) ammonium nitrate, as N\n",
      "    |  |  | -<--B   e6d8b98 (2.6e-05) hoeing\n",
      "    |  |  | -<--B   47c0ca2 (2.6e-05) triazine-compound, unspecified\n",
      "    |  |  | -<--B   c330e5a (0.00017) liquid manure spreading, by vacuum tanker\n",
      "    |  |  | -<--B   8070ae7 (2.7e-05) sugar beet seed, for sowing\n",
      "    |  |  | -<--B   a925df0 (2.6e-05) fodder loading, by self-loading trailer\n",
      "    |  |  | -<--B   f9a2cc3 (3.9e-06) pesticide, unspecified\n",
      "    |  |  | -<--B   39fa0ac (  0.001) transport, tractor and trailer, agricultural\n",
      "    |  |  | -<--B   0c9d875 (0.00064) potassium chloride, as K2O\n",
      "    |  |  | -<--B   753c14c (8.1e-05) phosphate fertiliser, as P2O5\n",
      "    |  |  | -<--B   13ec51a (9.7e-05) urea, as N\n",
      "    |  |  | -<--B   6817cce (0.00015) nitrogen fertiliser, as N\n",
      "    |  |  | -<--B   ddc4c2d (1.3e-05) green manure, Swiss integrated production, until February\n",
      "    |  |  | -<--B   e365c1c (1.3e-05) harvesting, by complete harvester, beets\n",
      "    |  |  | -<--B   7d46431 (7.7e-06) benzimidazole-compound\n",
      "    |  |  | -<--B   df4dca5 (-0.0033) biowaste\n",
      "    |  |  | -<--B   ee05d46 (2.6e-05) phosphate rock, as P2O5, beneficiated, dry\n",
      "    |  |  | -<--B   5532522 (1.9e-06) cyclic N-compound\n",
      "    |  |  | -<--B   83d0764 (1.3e-05) sowing\n",
      "    |  |  | -<--B   5be8746 (   0.12) solid manure loading and spreading, by hydraulic loader and spreader\n",
      "    |  |  | -<--B   c761b09 (2.6e-05) tillage, harrowing, by spring tine harrow\n",
      "    |  |  | -<--B   9215e7b (4.8e-06) [thio]carbamate-compound\n",
      "    |  |  | -<--B   2e9483b (2.1e-05) ammonium sulfate, as N\n",
      "    |  |  | -<--B   ff4b760 (1.3e-05) tillage, ploughing\n",
      "    |  | -<--B   efc4504 (   0.02) transport, freight, lorry, unspecified\n",
      "    | -<--B   2ae168c (      0) nitrogen fertiliser, as N\n",
      "    | -<--B   9438c00 (0.00051) chemical, inorganic\n",
      "    | -<--B   8b59e50 (  0.038) transport, tractor and trailer, agricultural\n",
      "    | -<--B   be50d7c (  -0.77) sugar beet pulp\n",
      "    | -<--B   035b944 (5.9e-11) sugar refinery\n",
      "    | -<--B   d30b1cb (   0.56) heat, district or industrial, natural gas\n",
      "    | -<--B   785f445 (    2.1) tap water\n",
      "    | -<--B   e4046e1 (   0.56) heat, district or industrial, natural gas\n",
      "    | -<--B   c74262b (0.00024) sulfuric acid\n",
      "    | -<--B   e1352ca (  -0.14) molasses, from sugar beet\n",
      "    | -<--B   9548702 ( 0.0013) soda ash, light, crystalline, heptahydrate\n",
      "    | -<--B   509b6ae (  0.063) electricity, medium voltage\n",
      "    | -<--B   e42c9b5 (  -0.14) limestone residue\n",
      "    | -<--B   d193a54 (    2.1) tap water\n",
      "    | -<--B   8ae6663 (      0) vinasse, from fermentation of sugar beet molasses\n",
      "    | -<--B   8a21dee (-0.0066) wastewater, from residence\n",
      "    | -<--B   571b6a4 (0.00035) chemical, organic\n",
      "    | -<--B   3189ffd (  0.063) electricity, medium voltage\n"
     ]
    }
   ],
   "source": [
    "F.draw_fragment(frag)"
   ]
  },
  {
   "cell_type": "code",
   "execution_count": 32,
   "metadata": {
    "collapsed": false
   },
   "outputs": [
    {
     "name": "stdout",
     "output_type": "stream",
     "text": [
      "Loading LCIA results from aee5bcfc-9314-4598-82e1-e82c400e4364_cfbce515-3f54-4411-ad9d-3d26b7faa15a.spold\n",
      "Loading LCIA results from d3e789cb-ecca-4bb2-884e-2f218039a94d_9e0c9c28-7d8f-4f18-a769-bff3a4c8c1e5.spold\n",
      "Loading LCIA results from e47aac85-2f09-426b-82f8-4627b31bbcb9_af729e94-ad8b-4c25-859c-e2f6aba1de16.spold\n",
      "market for sugar beet [GLO]\n",
      "Loading LCIA results from 86bceccc-2692-4218-b3ca-25157a6dde91_a498d9fb-9402-4374-b2e2-3f85f5d98f43.spold\n",
      "Loading LCIA results from 6e00445b-5435-4aa8-9b3d-82bf908647d3_75168394-3da2-467a-90a1-285836ccd00d.spold\n",
      "Loading LCIA results from b27d6a13-dc49-493e-8ada-8677b999a2a2_bab7524a-43df-40ff-ab5b-2a318758273d.spold\n",
      "sugar beet production [RoW]\n",
      "Loading LCIA results from 32364fde-3444-4cef-b6f3-385185db172e_6dc5955e-e2a6-4fd5-845d-63df2e29ecaa.spold\n",
      "Loading LCIA results from af714d54-d182-4204-a338-411913942ac5_f9c6e4e7-e45c-423e-b48e-f7e140efb38e.spold\n",
      "Loading LCIA results from 102e64cf-8548-47f4-a69a-836facb18e55_5321a299-0c03-4bfc-9dda-d020456f6b2e.spold\n",
      "Loading LCIA results from 05f6e302-35c7-496e-ae61-7ad592dc3dca_d006454e-161f-4b7f-ad8a-8892ee176041.spold\n",
      "Loading LCIA results from ae5135f7-64dc-4a5c-8879-27f2edee898f_a2193d6a-1c79-42de-aa16-355543601b4e.spold\n",
      "Loading LCIA results from 7d3fa0a4-1fb2-459a-ba7c-a6dd32e15ba1_6c365ae3-f8cb-4aff-8709-afea7fbf0a40.spold\n",
      "Loading LCIA results from 1030f31c-3c48-4952-a097-e84fa182cba2_fb76d2b4-16bb-4373-bcdf-03545f362b83.spold\n",
      "Loading LCIA results from e075b3df-0fa5-477f-9430-9c2c2a39fd57_db8488c0-a49f-4550-8bae-f2356ce1de64.spold\n",
      "Loading LCIA results from 0f1c7ebe-c324-42ce-893f-0aaed23ee973_8d53f85d-4fd8-4861-9f64-5799ac3906a6.spold\n",
      "Loading LCIA results from ddc30d35-2aa9-4520-965a-dfa558dbbabc_318df8f5-f490-436c-8f93-23ccfa15e60a.spold\n",
      "Loading LCIA results from 1bd6b86a-5ff6-4fc2-9935-81297d2658f1_3fdcbdaa-e8d2-46fc-8632-268b89a29ba0.spold\n",
      "Loading LCIA results from fe830632-b16e-4014-9ddd-f4f0712e63bd_f4470cb4-f0f6-43d0-9e03-52bec610169f.spold\n",
      "Loading LCIA results from 90dfdb8d-22e6-4a3f-a29b-33412dba667e_aeb1ebef-7095-4956-91da-8c4017df556d.spold\n",
      "Loading LCIA results from 181ab724-e1c9-4ce0-9b60-1c73a6b58738_92b3c2d6-e5bf-4b2e-b2ac-1352d6640b58.spold\n",
      "Loading LCIA results from a82a19b3-c85c-4ba7-a7b8-aaef88010bb7_1a444fb4-f931-4369-8683-2844944ebdba.spold\n",
      "Loading LCIA results from d7b1820b-e83a-4aec-95d0-a5aff9e45891_4cc48a86-dc1d-4c85-815c-8f1988326e97.spold\n",
      "Loading LCIA results from 5ed130c8-104f-486d-baf6-e5c7124a2b15_1be4f7e4-5244-4f9d-b80d-7fbf1e337e2b.spold\n",
      "Loading LCIA results from 05ed83fe-5ddd-4da8-9e9b-e997a9e68c81_7225e2a6-7fd6-40e2-b341-f097b027d119.spold\n",
      "Loading LCIA results from 44eaa1cc-dc5d-4830-90ca-dc83c2834adb_50306184-2a7e-4825-8e5d-fe8e674d1274.spold\n",
      "Loading LCIA results from 921b7b9e-7dc0-4efe-8d1c-26de6f65c595_560e69eb-413e-49db-8796-3dd103ae8888.spold\n"
     ]
    }
   ],
   "source": [
    "F.compute_unit_scores()"
   ]
  },
  {
   "cell_type": "code",
   "execution_count": 43,
   "metadata": {
    "collapsed": false
   },
   "outputs": [
    {
     "name": "stdout",
     "output_type": "stream",
     "text": [
      "CPU times: user 0 ns, sys: 0 ns, total: 0 ns\n",
      "Wall time: 4.47 ms\n"
     ]
    }
   ],
   "source": [
    "%time ffs = F.traverse(frag)"
   ]
  },
  {
   "cell_type": "code",
   "execution_count": 46,
   "metadata": {
    "collapsed": false
   },
   "outputs": [
    {
     "data": {
      "text/plain": [
       "'ReCiPe Midpoint (I), metal depletion, MDP [LCIA]'"
      ]
     },
     "execution_count": 46,
     "metadata": {},
     "output_type": "execute_result"
    }
   ],
   "source": [
    "quantity = next(lcia_methods)\n",
    "str(quantity)"
   ]
  },
  {
   "cell_type": "code",
   "execution_count": 47,
   "metadata": {
    "collapsed": false
   },
   "outputs": [
    {
     "name": "stdout",
     "output_type": "stream",
     "text": [
      "ReCiPe Midpoint (I), metal depletion, MDP [LCIA]\n",
      "         1 x          0 =          0 ethanol production from sugar beet molasses [RoW]\n",
      "   0.00952 x   0.000478 =   4.55e-06 market for coke [GLO]\n",
      "         0 x      0.297 =          0 market for ammonium sulfate, as N [GLO]\n",
      "         0 x   4.49e+06 =          0 market for ethanol fermentation plant [GLO]\n",
      "skipping this one: molasses, from sugar beet\n",
      "      0.11 x    0.00151 =   0.000166 market for lime [GLO]\n",
      "      3.79 x          0 =          0 sugar beet\n",
      "      3.79 x          0 =          0 sugar beet\n",
      "  0.000195 x       2.63 =   0.000513 market for fertilising, by broadcaster [GLO]\n",
      "  0.000214 x        2.4 =   0.000514 market for application of plant protection product, by field sprayer [GLO]\n",
      "  0.000159 x      0.238 =    3.8e-05 market for potassium sulfate, as K2O [GLO]\n",
      "   0.00105 x      0.352 =   0.000371 market for ammonium nitrate, as N [GLO]\n",
      "  9.74e-05 x       5.09 =   0.000496 market for hoeing [GLO]\n",
      "  9.83e-05 x      0.501 =   4.93e-05 market for triazine-compound, unspecified [GLO]\n",
      "   0.00064 x      0.221 =   0.000141 market for liquid manure spreading, by vacuum tanker [GLO]\n",
      "  0.000102 x      0.126 =   1.29e-05 market for sugar beet seed, for sowing [GLO]\n",
      "  9.88e-05 x      0.137 =   1.35e-05 market for fodder loading, by self-loading trailer [GLO]\n",
      "  1.48e-05 x       1.08 =   1.59e-05 market for pesticide, unspecified [GLO]\n",
      "   0.00378 x     0.0509 =   0.000192 market for transport, tractor and trailer, agricultural [GLO]\n",
      "   0.00243 x     0.0905 =    0.00022 market for potassium chloride, as K2O [GLO]\n",
      "  0.000306 x      0.292 =   8.93e-05 market for phosphate fertiliser, as P2O5 [GLO]\n",
      "  0.000369 x      0.206 =   7.61e-05 market for urea, as N [GLO]\n",
      "  0.000572 x      0.667 =   0.000381 market for nitrogen fertiliser, as N [GLO]\n",
      "  4.87e-05 x       15.6 =   0.000757 market for green manure, Swiss integrated production, until February [GLO]\n",
      "  4.87e-05 x       38.3 =    0.00187 market for harvesting, by complete harvester, beets [GLO]\n",
      "  2.92e-05 x        9.4 =   0.000275 market for benzimidazole-compound [GLO]\n",
      "    0.0126 x    0.00445 =   5.61e-05 market for biowaste [RoW]\n",
      "  9.69e-05 x    0.00782 =   7.58e-07 market for phosphate rock, as P2O5, beneficiated, dry [GLO]\n",
      "   7.3e-06 x      0.744 =   5.44e-06 market for cyclic N-compound [GLO]\n",
      "  4.87e-05 x       4.46 =   0.000217 market for sowing [GLO]\n",
      "     0.438 x   0.000698 =   0.000306 market for solid manure loading and spreading, by hydraulic loader and spreader [GLO]\n",
      "  9.74e-05 x       5.21 =   0.000508 market for tillage, harrowing, by spring tine harrow [GLO]\n",
      "   1.8e-05 x      0.684 =   1.23e-05 market for [thio]carbamate-compound [GLO]\n",
      "  7.96e-05 x      0.297 =   2.36e-05 market for ammonium sulfate, as N [GLO]\n",
      "  4.87e-05 x       13.2 =   0.000643 market for tillage, ploughing [GLO]\n",
      "    0.0758 x     0.0047 =   0.000356 market for transport, freight, lorry, unspecified [GLO]\n",
      "         0 x      0.667 =          0 market for nitrogen fertiliser, as N [GLO]\n",
      "  0.000507 x       0.14 =   7.07e-05 market for chemicals, inorganic [GLO]\n",
      "    0.0379 x     0.0509 =    0.00193 market for transport, tractor and trailer, agricultural [GLO]\n",
      "     0.773 x          0 =          0 market for sugar beet pulp [GLO]\n",
      "  5.95e-11 x    6.2e+06 =   0.000369 market for sugar refinery [GLO]\n",
      "     0.564 x   0.000245 =   0.000138 market for heat, district or industrial, natural gas [CH]\n",
      "      2.08 x   6.23e-05 =    0.00013 market group for tap water [GLO]\n",
      "     0.564 x   0.000229 =   0.000129 market group for heat, district or industrial, natural gas [GLO]\n",
      "  0.000239 x     0.0678 =   1.62e-05 market for sulfuric acid [GLO]\n",
      "     0.136 x   0.000777 =   0.000106 market for molasses, from sugar beet [GLO]\n",
      "   0.00131 x     0.0584 =   7.65e-05 market for soda ash, light, crystalline, heptahydrate [GLO]\n",
      "     0.063 x    0.00888 =    0.00056 market group for electricity, medium voltage [GLO]\n",
      "     0.139 x   0.000225 =   3.12e-05 market for limestone residue [GLO]\n",
      "      2.08 x   5.92e-05 =   0.000123 market for tap water [CH]\n",
      "        -0 x   2.35e-05 =         -0 market for vinasse, from fermentation of sugar beet molasses [GLO]\n",
      "    0.0066 x      0.125 =   0.000825 market for wastewater, from residence [GLO]\n",
      "  0.000352 x     0.0584 =   2.06e-05 market for chemical, organic [GLO]\n",
      "     0.063 x     0.0117 =   0.000736 market for electricity, medium voltage [CH]\n",
      "Total:   0.013581\n"
     ]
    }
   ],
   "source": [
    "\n",
    "total = 0.0\n",
    "print('%s' % quantity)\n",
    "skips = []\n",
    "for i in ffs:\n",
    "    mag = i.node_weight\n",
    "    scr = i.term.score_cache(quantity)\n",
    "    if scr is None:\n",
    "        print('skipping this one: %s' % i.fragment['Name'])\n",
    "        skips.append(i)\n",
    "        continue\n",
    "    cont = mag * scr.total()\n",
    "    #if i.fragment.direction == i.term.direction:\n",
    "    #    cont *= -1\n",
    "    print('%10.3g x %10.3g = %10.3g %s' % (mag, scr.total(), cont, i.fragment['Name']))\n",
    "    total += cont\n",
    "print('Total: %10.6g' % total)"
   ]
  },
  {
   "cell_type": "code",
   "execution_count": 48,
   "metadata": {
    "collapsed": false
   },
   "outputs": [
    {
     "name": "stdout",
     "output_type": "stream",
     "text": [
      "Loading LCIA results from f01eb904-d7e7-4633-b1a7-be54f33daa96_ffcb8cbb-77ab-4f87-8a94-87ca5b8ea79e.spold\n",
      "ReCiPe Midpoint (I), metal depletion, MDP [LCIA] kg Fe-Eq\n",
      "------------------------------------------------------------\n",
      "         1 x     0.0136 =     0.0136 [RoW] ethanol, without water, in 95% solution state, from fermentation (CAS 000064-17-5) [By-product classification: allocatable product]\n",
      "============================================================\n",
      "             Total score: 0.013581 \n",
      "    0.0136 ReCiPe Midpoint (I), metal depletion, MDP [LCIA]\n"
     ]
    }
   ],
   "source": [
    "F.bg_lcia(frag.term.term_node, [quantity], ref_flow=frag.term.term_flow, )[quantity.get_uuid()].show_details()"
   ]
  },
  {
   "cell_type": "code",
   "execution_count": 49,
   "metadata": {
    "collapsed": false
   },
   "outputs": [
    {
     "name": "stdout",
     "output_type": "stream",
     "text": [
      "\n",
      "Currently loaded archives: \n",
      "X [ 0] FG     : ForegroundArchive with 191 entities at .\n",
      "X [ 2] LCIA   : IlcdLcia with 1310 entities at /home/b/Dropbox/data/ELCD/ELCD3.2.zip\n",
      "X [ 3] EI-LCIA: EcoinventLcia with 3965 entities at /data/LCI/LCIA implementation v3.1 2014_08_13.xlsx\n",
      "X [ 5] EI_A   : EcoinventSpreadsheet with 18905 entities at /home/b/Dropbox/data/Ecoinvent/3.2/activity_overview_for_users_3.2_apos.xlsx\n"
     ]
    }
   ],
   "source": [
    "F.show()"
   ]
  },
  {
   "cell_type": "code",
   "execution_count": 50,
   "metadata": {
    "collapsed": false
   },
   "outputs": [
    {
     "name": "stdout",
     "output_type": "stream",
     "text": [
      "Saving foreground\n"
     ]
    }
   ],
   "source": [
    "F.save()"
   ]
  }
 ],
 "metadata": {
  "kernelspec": {
   "display_name": "Python 3",
   "language": "python",
   "name": "python3"
  },
  "language_info": {
   "codemirror_mode": {
    "name": "ipython",
    "version": 3
   },
   "file_extension": ".py",
   "mimetype": "text/x-python",
   "name": "python",
   "nbconvert_exporter": "python",
   "pygments_lexer": "ipython3",
   "version": "3.5.1"
  }
 },
 "nbformat": 4,
 "nbformat_minor": 0
}
