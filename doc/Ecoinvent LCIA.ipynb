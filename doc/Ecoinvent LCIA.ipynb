{
 "cells": [
  {
   "cell_type": "code",
   "execution_count": 1,
   "metadata": {
    "collapsed": true
   },
   "outputs": [],
   "source": [
    "import sys\n",
    "sys.path.append('..')\n",
    "\n",
    "import lcatools\n",
    "import os"
   ]
  },
  {
   "cell_type": "code",
   "execution_count": 2,
   "metadata": {
    "collapsed": true
   },
   "outputs": [],
   "source": [
    "import xlrd\n",
    "import re"
   ]
  },
  {
   "cell_type": "code",
   "execution_count": 3,
   "metadata": {
    "collapsed": true
   },
   "outputs": [],
   "source": [
    "from collections import defaultdict"
   ]
  },
  {
   "cell_type": "code",
   "execution_count": 4,
   "metadata": {
    "collapsed": false
   },
   "outputs": [],
   "source": [
    "lcia_file = '/data/LCI/LCIA implementation v3.1 2014_08_13.xlsx'\n",
    "catalog_dir = os.path.join(os.path.expanduser('~'), 'GitHub', 'lca-tools-datafiles', 'catalogs')\n"
   ]
  },
  {
   "cell_type": "code",
   "execution_count": 5,
   "metadata": {
    "collapsed": false
   },
   "outputs": [
    {
     "name": "stdout",
     "output_type": "stream",
     "text": [
      "CPU times: user 19.2 s, sys: 20 ms, total: 19.2 s\n",
      "Wall time: 19.2 s\n"
     ]
    }
   ],
   "source": [
    "%time X = xlrd.open_workbook(lcia_file)"
   ]
  },
  {
   "cell_type": "code",
   "execution_count": 10,
   "metadata": {
    "collapsed": false
   },
   "outputs": [],
   "source": [
    "s = X.sheet_by_index(1)"
   ]
  },
  {
   "cell_type": "code",
   "execution_count": 11,
   "metadata": {
    "collapsed": false
   },
   "outputs": [
    {
     "data": {
      "text/plain": [
       "'impact methods'"
      ]
     },
     "execution_count": 11,
     "metadata": {},
     "output_type": "execute_result"
    }
   ],
   "source": [
    "s.name"
   ]
  },
  {
   "cell_type": "code",
   "execution_count": 12,
   "metadata": {
    "collapsed": false
   },
   "outputs": [],
   "source": [
    "b = X.sheet_by_name('impact methods')"
   ]
  },
  {
   "cell_type": "code",
   "execution_count": 62,
   "metadata": {
    "collapsed": false
   },
   "outputs": [
    {
     "data": {
      "text/plain": [
       "['method',\n",
       " 'category',\n",
       " 'indicator',\n",
       " 'name',\n",
       " 'compartment',\n",
       " 'subcompartment',\n",
       " 'CF 3.01',\n",
       " 'CF 3.1',\n",
       " 'Change?',\n",
       " 'note',\n",
       " 'Known issue']"
      ]
     },
     "execution_count": 62,
     "metadata": {},
     "output_type": "execute_result"
    }
   ],
   "source": [
    "headings"
   ]
  },
  {
   "cell_type": "code",
   "execution_count": 46,
   "metadata": {
    "collapsed": false
   },
   "outputs": [
    {
     "data": {
      "text/plain": [
       "'method'"
      ]
     },
     "execution_count": 46,
     "metadata": {},
     "output_type": "execute_result"
    }
   ],
   "source": [
    "headings[0].value"
   ]
  },
  {
   "cell_type": "code",
   "execution_count": 52,
   "metadata": {
    "collapsed": false
   },
   "outputs": [],
   "source": [
    "g = b.get_rows()\n",
    "headings = [h.value for h in next(g)]"
   ]
  },
  {
   "cell_type": "code",
   "execution_count": 53,
   "metadata": {
    "collapsed": false
   },
   "outputs": [
    {
     "data": {
      "text/plain": [
       "'method'"
      ]
     },
     "execution_count": 53,
     "metadata": {},
     "output_type": "execute_result"
    }
   ],
   "source": [
    "headings[0]"
   ]
  },
  {
   "cell_type": "code",
   "execution_count": 54,
   "metadata": {
    "collapsed": true
   },
   "outputs": [],
   "source": [
    "cfs = []\n",
    "for row in g:\n",
    "    d = dict()\n",
    "    for i,h in enumerate(headings):\n",
    "        d[h] = row[i]\n",
    "    cfs.append(d)"
   ]
  },
  {
   "cell_type": "code",
   "execution_count": 55,
   "metadata": {
    "collapsed": false
   },
   "outputs": [
    {
     "data": {
      "text/plain": [
       "170915"
      ]
     },
     "execution_count": 55,
     "metadata": {},
     "output_type": "execute_result"
    }
   ],
   "source": [
    "len(cfs)"
   ]
  },
  {
   "cell_type": "code",
   "execution_count": 56,
   "metadata": {
    "collapsed": false
   },
   "outputs": [
    {
     "data": {
      "text/plain": [
       "{'CF 3.01': number:1.6,\n",
       " 'CF 3.1': number:1.6,\n",
       " 'Change?': text:'FALSE',\n",
       " 'Known issue': empty:'',\n",
       " 'category': text:'acidification potential',\n",
       " 'compartment': text:'air',\n",
       " 'indicator': text:'average European',\n",
       " 'method': text:'CML 2001',\n",
       " 'name': text:'Ammonia',\n",
       " 'note': text:'',\n",
       " 'subcompartment': text:'low population density, long-term'}"
      ]
     },
     "execution_count": 56,
     "metadata": {},
     "output_type": "execute_result"
    }
   ],
   "source": [
    "cfs[0]"
   ]
  },
  {
   "cell_type": "code",
   "execution_count": 6,
   "metadata": {
    "collapsed": false
   },
   "outputs": [],
   "source": [
    "from lcatools.providers.ecoinvent_lcia import EcoinventLcia"
   ]
  },
  {
   "cell_type": "code",
   "execution_count": 7,
   "metadata": {
    "collapsed": false
   },
   "outputs": [
    {
     "data": {
      "text/plain": [
       "'/data/LCI/LCIA implementation v3.1 2014_08_13.xlsx'"
      ]
     },
     "execution_count": 7,
     "metadata": {},
     "output_type": "execute_result"
    }
   ],
   "source": [
    "lcia_file"
   ]
  },
  {
   "cell_type": "code",
   "execution_count": 8,
   "metadata": {
    "collapsed": false
   },
   "outputs": [
    {
     "name": "stdout",
     "output_type": "stream",
     "text": [
      "Adding quantity entity with 75c16700-535a-469a-a4d2-6f7831271a57: Mass\n"
     ]
    }
   ],
   "source": [
    "EL = EcoinventLcia(lcia_file)"
   ]
  },
  {
   "cell_type": "code",
   "execution_count": 9,
   "metadata": {
    "collapsed": false
   },
   "outputs": [
    {
     "name": "stdout",
     "output_type": "stream",
     "text": [
      "Adding quantity entity with 5eb0ce92-9c4d-3743-aade-35f58a19eeb1: CML 2001, acidification potential, average European\n",
      "Adding quantity entity with 663620fb-ea1a-3cd6-a242-521e65a77a5d: CML 2001, acidification potential, generic\n",
      "Adding quantity entity with b5fe2cea-0418-3a38-9093-5f936b2d20d5: CML 2001, climate change, GWP 100a\n",
      "Adding quantity entity with dcf44476-1b29-30f7-bdbc-02ad2bc38f74: CML 2001, climate change, GWP 20a\n",
      "Adding quantity entity with c00fb9b8-aa83-3c9f-a808-656266ef7c45: CML 2001, climate change, GWP 500a\n",
      "Adding quantity entity with 726bc194-4b18-3afc-892c-b74ce9ce3b2a: CML 2001, climate change, lower limit of net GWP\n",
      "Adding quantity entity with 4f61bf8e-9795-36db-b034-2409c2b58b27: CML 2001, climate change, upper limit of net GWP\n",
      "Adding quantity entity with 66c2ff7a-bdf1-3654-91db-34927fcb09c6: CML 2001, eutrophication potential, average European\n",
      "Adding quantity entity with e6c6bb8f-5fcc-30b0-8130-21c3970a873e: CML 2001, eutrophication potential, generic\n",
      "Adding quantity entity with d71d491f-09d2-3954-b439-e59894baca67: CML 2001, freshwater aquatic ecotoxicity, FAETP 100a\n",
      "Adding quantity entity with 9cff1b80-8e90-375b-98fa-302408539939: CML 2001, freshwater aquatic ecotoxicity, FAETP 20a\n",
      "Adding quantity entity with 0c277626-4ec0-3dbc-ae7f-d3cdddc455cc: CML 2001, freshwater aquatic ecotoxicity, FAETP 500a\n",
      "Adding quantity entity with bef68f93-8c12-338b-a0bd-c056e7f0272c: CML 2001, freshwater aquatic ecotoxicity, FAETP infinite\n",
      "Adding quantity entity with a281a526-2495-38b9-a492-1c816d3f2d5f: CML 2001, freshwater sediment ecotoxicity, FSETP 100a\n",
      "Adding quantity entity with f7602d74-29fd-39f3-8f29-4ae2a193adb9: CML 2001, freshwater sediment ecotoxicity, FSETP 20a\n",
      "Adding quantity entity with 55ce1967-6e91-3b36-abfd-dd49ed302614: CML 2001, freshwater sediment ecotoxicity, FSETP 500a\n",
      "Adding quantity entity with 229cb465-9c25-3781-bfa3-e8a7db105feb: CML 2001, freshwater sediment ecotoxicity, FSETP infinite\n",
      "Adding quantity entity with 64a4fc31-0400-34f5-b85e-22cc92f44aef: CML 2001, human toxicity, HTP 100a\n",
      "Adding quantity entity with 3567172a-3976-35dd-b2a7-83aa5cc86265: CML 2001, human toxicity, HTP 20a\n",
      "Adding quantity entity with d2c58d20-124c-3705-bae4-fd33016ae42e: CML 2001, human toxicity, HTP 500a\n",
      "Adding quantity entity with 3e68e2a8-ce2a-3f79-bf04-e815a559ff10: CML 2001, human toxicity, HTP infinite\n",
      "Adding quantity entity with a3e2bd8c-d23b-349b-b1dd-bc9953d34b5c: CML 2001, ionising radiation, ionising radiation\n",
      "Adding quantity entity with 4972c1c2-5895-3f8d-8ae8-0c908e617136: CML 2001, land use, competition\n",
      "Adding quantity entity with f05b5fa0-ec98-347d-8de0-163d19e5735b: CML 2001, malodours air, malodours air\n",
      "Adding quantity entity with ebdca102-71a6-3076-9f79-b7c83c54a09f: CML 2001, marine aquatic ecotoxicity, MAETP 100a\n",
      "Adding quantity entity with ebc067e2-91dd-3172-8969-6117675f7e52: CML 2001, marine aquatic ecotoxicity, MAETP 20a\n",
      "Adding quantity entity with e48e93c4-b1dd-399f-b61f-0a42341e7a78: CML 2001, marine aquatic ecotoxicity, MAETP 500a\n",
      "Adding quantity entity with 3c32a246-6a1d-33a3-a0d6-940253c3d878: CML 2001, marine aquatic ecotoxicity, MAETP infinite\n",
      "Adding quantity entity with 00b1a023-5069-3b63-9e84-90bd30d0a786: CML 2001, marine sediment ecotoxicity, MSETP 100a\n",
      "Adding quantity entity with 00b73630-321d-3c35-906d-f1cec9e865ce: CML 2001, marine sediment ecotoxicity, MSETP 20a\n",
      "Adding quantity entity with 62af83c2-285a-303a-8d20-9d8189123503: CML 2001, marine sediment ecotoxicity, MSETP 500a\n",
      "Adding quantity entity with 39b3888e-519e-3230-a808-c3e0f79288a5: CML 2001, marine sediment ecotoxicity, MSETP infinite\n",
      "Adding quantity entity with 52213535-fde4-35ad-891f-877bbc772d73: CML 2001, photochemical oxidation (summer smog), EBIR\n",
      "Adding quantity entity with 75c167e2-f407-3801-8d77-ce17352690ec: CML 2001, photochemical oxidation (summer smog), high NOx POCP\n",
      "Adding quantity entity with a4f9c6f7-e3e5-3b2e-b35c-903074c77ab1: CML 2001, photochemical oxidation (summer smog), low NOx POCP\n",
      "Adding quantity entity with 441c8547-cc77-3849-92aa-ed7230f773f1: CML 2001, photochemical oxidation (summer smog), MIR\n",
      "Adding quantity entity with d77e6034-975b-3a7f-ab2b-1a584cd8364f: CML 2001, photochemical oxidation (summer smog), MOIR\n",
      "Adding quantity entity with 9d1d41de-24f6-3bcc-bd5a-29ed569f5007: CML 2001, resources, depletion of abiotic resources\n",
      "Adding quantity entity with 5556ffcd-6e18-31ef-87d7-d82db40f775d: CML 2001, stratospheric ozone depletion, ODP 10a\n",
      "Adding quantity entity with 42d0db46-1461-3653-86dd-57a7edfb6009: CML 2001, stratospheric ozone depletion, ODP 15a\n",
      "Adding quantity entity with 900f72c4-6a2f-3074-b6f1-e1cdb64a626a: CML 2001, stratospheric ozone depletion, ODP 20a\n",
      "Adding quantity entity with a8f0570d-6800-39a8-9c9a-ca0a7e9e4463: CML 2001, stratospheric ozone depletion, ODP 25a\n",
      "Adding quantity entity with a09cd0b8-e453-3685-9db0-569f48aec670: CML 2001, stratospheric ozone depletion, ODP 30a\n",
      "Adding quantity entity with e6ae0dd4-c4e6-37ab-91ad-cd6312a66ca3: CML 2001, stratospheric ozone depletion, ODP 40a\n",
      "Adding quantity entity with 043a5cc8-1e29-3125-be98-fc77c786107d: CML 2001, stratospheric ozone depletion, ODP 5a\n",
      "Adding quantity entity with f82f318c-1be9-3039-ad51-2c174af222ee: CML 2001, stratospheric ozone depletion, ODP steady state\n",
      "Adding quantity entity with cc852776-53c0-3f28-96e5-380c550160ac: CML 2001, terrestrial ecotoxicity, TAETP 100a\n",
      "Adding quantity entity with 9ebd90f1-1f27-3449-a0c2-76d790f36eff: CML 2001, terrestrial ecotoxicity, TAETP 20a\n",
      "Adding quantity entity with 77490814-93b1-3373-a4af-2f66bbedb100: CML 2001, terrestrial ecotoxicity, TAETP 500a\n",
      "Adding quantity entity with 18da13d1-1c26-39c8-b931-6bb07b72c9d7: CML 2001, terrestrial ecotoxicity, TAETP infinite\n",
      "Adding quantity entity with 1817badb-6059-3882-9942-55555d173f0d: CML 2001 w/o LT, acidification potential w/o LT, average European w/o LT\n",
      "Adding quantity entity with a8665e93-5ece-3015-b63a-e4223551060b: CML 2001 w/o LT, acidification potential w/o LT, generic w/o LT\n",
      "Adding quantity entity with 93b254d8-1f9d-31cb-87ab-0e2fc5dc8307: CML 2001 w/o LT, climate change w/o LT, GWP 100a w/o LT\n",
      "Adding quantity entity with 2deead1e-0f89-30b2-b704-07d72f251624: CML 2001 w/o LT, climate change w/o LT, GWP 20a w/o LT\n",
      "Adding quantity entity with 350010c7-1173-3ca2-b5f8-07e106d47050: CML 2001 w/o LT, climate change w/o LT, GWP 500a w/o LT\n",
      "Adding quantity entity with 5af5ae41-b358-3852-97fa-79cec13b04e2: CML 2001 w/o LT, climate change w/o LT, lower limit of net GWP w/o LT\n",
      "Adding quantity entity with de790313-bdaf-3b06-b13f-fd68261f1d23: CML 2001 w/o LT, climate change w/o LT, upper limit of net GWP w/o LT\n",
      "Adding quantity entity with f3b4e7ac-fc39-36b9-89b8-9f05b25e01e2: CML 2001 w/o LT, eutrophication potential w/o LT, average European w/o LT\n",
      "Adding quantity entity with f8ab83d8-ca4c-39bd-a34e-2dfd5a161ea7: CML 2001 w/o LT, eutrophication potential w/o LT, generic w/o LT\n",
      "Adding quantity entity with b02812f0-0c8e-32af-84a4-25d9abba235b: CML 2001 w/o LT, freshwater aquatic ecotoxicity w/o LT, FAETP 100a w/o LT\n",
      "Adding quantity entity with 7b780200-0dd4-37c0-8109-204085de0996: CML 2001 w/o LT, freshwater aquatic ecotoxicity w/o LT, FAETP 20a w/o LT\n",
      "Adding quantity entity with 382ea14e-5b43-3b88-8632-dfa83dee2151: CML 2001 w/o LT, freshwater aquatic ecotoxicity w/o LT, FAETP 500a w/o LT\n",
      "Adding quantity entity with 2368d13f-e3e1-37ca-8df5-cc81d0b0a4c8: CML 2001 w/o LT, freshwater aquatic ecotoxicity w/o LT, FAETP infinite w/o LT\n",
      "Adding quantity entity with 6d131c2f-92cd-3a48-a511-781faa71b676: CML 2001 w/o LT, freshwater sediment ecotoxicity w/o LT, FSETP 100a w/o LT\n",
      "Adding quantity entity with 8844528f-37c9-3fe3-8830-73b280ca8f8b: CML 2001 w/o LT, freshwater sediment ecotoxicity w/o LT, FSETP 20a w/o LT\n",
      "Adding quantity entity with a0efc3e8-b03d-3abb-b1ae-378c8761d29b: CML 2001 w/o LT, freshwater sediment ecotoxicity w/o LT, FSETP 500a w/o LT\n",
      "Adding quantity entity with 76aaf0f6-0540-3de0-b106-90eef5a82f53: CML 2001 w/o LT, freshwater sediment ecotoxicity w/o LT, FSETP infinite w/o LT\n",
      "Adding quantity entity with 4dd1ca0c-3d81-3c90-9e66-7fcad4634900: CML 2001 w/o LT, human toxicity w/o LT, HTP 100a w/o LT\n",
      "Adding quantity entity with 55a944fe-fd1d-30b7-93d5-551b598c902e: CML 2001 w/o LT, human toxicity w/o LT, HTP 20a w/o LT\n",
      "Adding quantity entity with 48b1acf2-1685-344a-ba35-3a820f73b870: CML 2001 w/o LT, human toxicity w/o LT, HTP 500a w/o LT\n",
      "Adding quantity entity with de90692c-9af0-3f04-bf35-00b8356c4d3c: CML 2001 w/o LT, human toxicity w/o LT, HTP infinite w/o LT\n",
      "Adding quantity entity with 8943ffe4-6ebc-3c7c-83b4-7670098106c3: CML 2001 w/o LT, ionising radiation w/o LT, ionising radiation w/o LT\n",
      "Adding quantity entity with f629d77f-bc87-3ea8-8155-6edb1151098b: CML 2001 w/o LT, land use w/o LT, competition w/o LT\n",
      "Adding quantity entity with ab298e6d-f7c6-34d5-924b-c8c7af4a1646: CML 2001 w/o LT, malodours air w/o LT, malodours air w/o LT\n",
      "Adding quantity entity with 554b428a-353d-3767-a743-d0a39eded39a: CML 2001 w/o LT, marine aquatic ecotoxicity w/o LT, MAETP 100a w/o LT\n",
      "Adding quantity entity with c3f76f39-5b19-3bed-b12a-4ddc8edce28e: CML 2001 w/o LT, marine aquatic ecotoxicity w/o LT, MAETP 20a w/o LT\n",
      "Adding quantity entity with e6f90871-862f-3e3c-bcb5-fd4fe6d7c15a: CML 2001 w/o LT, marine aquatic ecotoxicity w/o LT, MAETP 500a w/o LT\n",
      "Adding quantity entity with b6006f53-0e4c-3b74-8b23-db7a22925f07: CML 2001 w/o LT, marine aquatic ecotoxicity w/o LT, MAETP infinite w/o LT\n",
      "Adding quantity entity with 224df74d-146f-3fc0-a2eb-0f4a3af797c9: CML 2001 w/o LT, marine sediment ecotoxicity w/o LT, MSETP 100a w/o LT\n",
      "Adding quantity entity with 67841b4e-31ee-35fd-a645-19954b4eaf8d: CML 2001 w/o LT, marine sediment ecotoxicity w/o LT, MSETP 20a w/o LT\n",
      "Adding quantity entity with c315b77f-52fe-393a-a4bd-3d061f03d99b: CML 2001 w/o LT, marine sediment ecotoxicity w/o LT, MSETP 500a w/o LT\n",
      "Adding quantity entity with c2c138bb-738d-3630-b015-4e0d5c0dec50: CML 2001 w/o LT, marine sediment ecotoxicity w/o LT, MSETP infinite w/o LT\n",
      "Adding quantity entity with f24660bd-378d-3a5a-8325-4fb45626450f: CML 2001 w/o LT, photochemical oxidation w/o LT, EBIR w/o LT\n",
      "Adding quantity entity with 97a7ffc8-bb7c-3f6c-bf3f-c33d12762653: CML 2001 w/o LT, photochemical oxidation w/o LT, high NOx POCP w/o LT\n",
      "Adding quantity entity with dad4d3f7-f93e-3a5e-a301-e1f2f0d78e38: CML 2001 w/o LT, photochemical oxidation w/o LT, low NOx POCP w/o LT\n",
      "Adding quantity entity with 0bee9ef8-7b20-37a1-9a39-73ee626b3630: CML 2001 w/o LT, photochemical oxidation w/o LT, MIR w/o LT\n",
      "Adding quantity entity with 037bd9f1-9b09-35e8-ae59-2d83a4fed14b: CML 2001 w/o LT, photochemical oxidation w/o LT, MOIR w/o LT\n",
      "Adding quantity entity with 461074fc-c24b-3486-bd4b-0e661843b381: CML 2001 w/o LT, resources w/o LT, depletion of abiotic resources w/o LT\n",
      "Adding quantity entity with 1f7d856f-52f2-3ecd-96f0-03806f04c280: CML 2001 w/o LT, stratospheric ozone depletion w/o LT, ODP 10a w/o LT\n",
      "Adding quantity entity with 760d110a-1bae-389a-bf79-6e726a87f026: CML 2001 w/o LT, stratospheric ozone depletion w/o LT, ODP 15a w/o LT\n",
      "Adding quantity entity with ffa4ddac-cfd9-332e-9e1f-93cc682d7dc0: CML 2001 w/o LT, stratospheric ozone depletion w/o LT, ODP 20a w/o LT\n",
      "Adding quantity entity with 9061293f-7ec4-396f-9491-871672464a5d: CML 2001 w/o LT, stratospheric ozone depletion w/o LT, ODP 25a w/o LT\n",
      "Adding quantity entity with d13cd9f9-709a-3384-9cd4-e61b58b07a8d: CML 2001 w/o LT, stratospheric ozone depletion w/o LT, ODP 30a w/o LT\n",
      "Adding quantity entity with 3298ec89-f746-313b-b8c1-2287c19edca3: CML 2001 w/o LT, stratospheric ozone depletion w/o LT, ODP 40a w/o LT\n",
      "Adding quantity entity with ef185e7d-5a57-3d1e-879b-6d28d92edf88: CML 2001 w/o LT, stratospheric ozone depletion w/o LT, ODP 5a w/o LT\n",
      "Adding quantity entity with 3fd6893e-c672-3108-a71e-15e100922e09: CML 2001 w/o LT, stratospheric ozone depletion w/o LT, ODP steady state w/o LT\n",
      "Adding quantity entity with 650264dc-0bd3-3330-8645-d010fd6091ad: CML 2001 w/o LT, terrestrial ecotoxicity w/o LT, TAETP 100a w/o LT\n",
      "Adding quantity entity with 33f14343-3d74-37ea-b21d-c0a43b937de8: CML 2001 w/o LT, terrestrial ecotoxicity w/o LT, TAETP 20a w/o LT\n",
      "Adding quantity entity with f6994557-f35b-38e3-8907-731fa6bfb5ae: CML 2001 w/o LT, terrestrial ecotoxicity w/o LT, TAETP 500a w/o LT\n",
      "Adding quantity entity with 5a982468-a959-3f9a-8ea9-dc2e551d7474: CML 2001 w/o LT, terrestrial ecotoxicity w/o LT, TAETP infinite w/o LT\n",
      "Adding quantity entity with 08c7a1b6-ad34-351d-8fcb-d0b28d906f8f: cumulative energy demand, biomass, renewable energy resources, biomass\n",
      "Adding quantity entity with 98437477-3581-3b84-b91b-df8ed5c473d4: cumulative energy demand, fossil, non-renewable energy resources, fossil\n",
      "Adding quantity entity with 30d105df-c14a-3cc8-9ad3-69e67281a273: cumulative energy demand, geothermal, renewable energy resources, geothermal, converted\n",
      "Adding quantity entity with aca091e6-f7c6-3ab5-83a7-773509b6362c: cumulative energy demand, nuclear, non-renewable energy resources, nuclear\n",
      "Adding quantity entity with e4ed1fda-bf53-3e01-b692-07186f87911e: cumulative energy demand, primary forest, non-renewable energy resources, primary forest\n",
      "Adding quantity entity with 3f2b3148-161c-340e-a207-b35712ad2fd5: cumulative energy demand, solar, renewable energy resources, solar, converted\n",
      "Adding quantity entity with 6883189c-4a9d-3ef0-b1fb-2f48401c57a4: cumulative energy demand, water, renewable energy resources, potential (in barrage water), converted\n",
      "Adding quantity entity with a2bfb3a1-e13d-3262-8836-3744fd762461: cumulative energy demand, wind, renewable energy resources, kinetic (in wind), converted\n",
      "Adding quantity entity with 8ec1397f-2195-3c74-b977-eda7d3786d3b: cumulative exergy demand, biomass, renewable energy resources, biomass\n",
      "Adding quantity entity with 5cca72d2-4427-3cd1-b5b6-8de4fdf23a06: cumulative exergy demand, fossil, non-renewable energy resources, fossil\n",
      "Adding quantity entity with 959fc403-fa53-3f09-8e0a-aedeeb3003a5: cumulative exergy demand, metals, non-renewable material resources, metals\n",
      "Adding quantity entity with a4a93f37-5143-3029-9e6c-11c314bfc49f: cumulative exergy demand, minerals, non-renewable material resources, minerals\n",
      "Adding quantity entity with 587cf5b2-ab20-391e-9cdf-23e38b8f966c: cumulative exergy demand, nuclear, non-renewable energy resources, nuclear\n",
      "Adding quantity entity with 4b3f38ec-679b-3360-980a-5a6bbb265fec: cumulative exergy demand, primary forest, non-renewable energy resources, primary forest\n",
      "Adding quantity entity with fc20e61e-7d61-3367-9480-de0a389a0438: cumulative exergy demand, solar, renewable energy resources, solar, converted\n",
      "Adding quantity entity with a39f95c0-26ee-3f69-a62f-990279d44903: cumulative exergy demand, water, renewable energy resources, potential (in barrage water), converted\n",
      "Adding quantity entity with 11d9ccaa-3d71-3b0a-8ac9-74fa4dd5c16e: cumulative exergy demand, water resources, renewable material resources, water\n",
      "Adding quantity entity with 0ecda3d1-94bf-31b3-aac8-8f49efd82463: cumulative exergy demand, wind, renewable energy resources, kinetic (in wind), converted\n",
      "Adding quantity entity with c54bd1a4-f6ed-3a2a-9b6a-53c979769fed: eco-indicator 99, (E,E), ecosystem quality, acidification & eutrophication\n",
      "Adding quantity entity with 42d19877-f721-3bb9-b797-67c300bb6182: eco-indicator 99, (E,E), ecosystem quality, ecotoxicity\n",
      "Adding quantity entity with 45d1ea94-7b72-30a9-9c75-ba504584e457: eco-indicator 99, (E,E), ecosystem quality, land occupation\n",
      "Adding quantity entity with 2d7acda9-7379-34cd-b396-8e91d5826af1: eco-indicator 99, (E,E), ecosystem quality, total\n",
      "Adding quantity entity with ec98517b-b6ea-32d3-b82c-27b325e38381: eco-indicator 99, (E,E), human health, carcinogenics\n",
      "Adding quantity entity with 98688c09-cb9a-349f-acde-417b13a034b6: eco-indicator 99, (E,E), human health, climate change\n",
      "Adding quantity entity with 7e190191-54c4-36f5-943f-89699b0fdbcc: eco-indicator 99, (E,E), human health, ionising radiation\n",
      "Adding quantity entity with de63d58a-f400-3a87-a8dc-9bbd93cbf436: eco-indicator 99, (E,E), human health, ozone layer depletion\n",
      "Adding quantity entity with be1b6a48-0f94-3f6d-8e1a-bd861fe3211b: eco-indicator 99, (E,E), human health, respiratory effects\n",
      "Adding quantity entity with af3adab2-89cb-329c-a6d2-d7f90eb093bc: eco-indicator 99, (E,E), human health, total\n",
      "Adding quantity entity with d57ffca8-88c5-387c-b899-1a6cbce36969: eco-indicator 99, (E,E), resources, fossil fuels\n",
      "Adding quantity entity with bc40fed5-b9a1-3251-998b-ba266341705d: eco-indicator 99, (E,E), resources, mineral extraction\n",
      "Adding quantity entity with 7f832186-775c-3d69-9573-d085d6073aa1: eco-indicator 99, (E,E), resources, total\n",
      "Adding quantity entity with 4a9f1db7-0be5-31fa-9e83-ffd444f083e6: eco-indicator 99, (E,E), total, total\n",
      "Adding quantity entity with 593d27e1-dd04-33bd-bbf1-c762f55f37b6: eco-indicator 99, (E,E) w/o LT, ecosystem quality w/o LT, acidification & eutrophication w/o LT\n",
      "Adding quantity entity with 2c8f03cd-e641-33c5-a45f-9de1f16e035a: eco-indicator 99, (E,E) w/o LT, ecosystem quality w/o LT, ecotoxicity w/o LT\n",
      "Adding quantity entity with 2e243d02-57a3-352b-9c9a-f8d5cbe81625: eco-indicator 99, (E,E) w/o LT, ecosystem quality w/o LT, land occupation w/o LT\n",
      "Adding quantity entity with 8becb60a-3abf-3830-b947-21992723e640: eco-indicator 99, (E,E) w/o LT, ecosystem quality w/o LT, total w/o LT\n",
      "Adding quantity entity with a03bc0ba-2be1-36a3-b43a-a2df1d760807: eco-indicator 99, (E,E) w/o LT, human health w/o LT, carcinogenics w/o LT\n",
      "Adding quantity entity with 268b0cb4-a9ea-36a6-a764-dc258515f48c: eco-indicator 99, (E,E) w/o LT, human health w/o LT, climate change w/o LT\n",
      "Adding quantity entity with dba07cbe-50c9-334b-91eb-1dad4ac0a0e8: eco-indicator 99, (E,E) w/o LT, human health w/o LT, ionising radiation w/o LT\n",
      "Adding quantity entity with b2c5b981-fb2d-384c-887a-dc2ab481a7d8: eco-indicator 99, (E,E) w/o LT, human health w/o LT, ozone layer depletion w/o LT\n",
      "Adding quantity entity with 504a00aa-3a0e-30b2-acb4-b6837a786293: eco-indicator 99, (E,E) w/o LT, human health w/o LT, respiratory effects w/o LT\n",
      "Adding quantity entity with a71e841e-6765-3d5f-a7d1-854fba4c4bb9: eco-indicator 99, (E,E) w/o LT, human health w/o LT, total w/o LT\n",
      "Adding quantity entity with 9cca8b32-6dd8-37c3-ab35-36ad565ebb47: eco-indicator 99, (E,E) w/o LT, resources w/o LT, fossil fuels w/o LT\n",
      "Adding quantity entity with 805ea882-9884-37cf-b3d7-0e9856609849: eco-indicator 99, (E,E) w/o LT, resources w/o LT, mineral extraction w/o LT\n",
      "Adding quantity entity with 434024e3-fb3f-3766-9921-d5c4b08c3cc1: eco-indicator 99, (E,E) w/o LT, resources w/o LT, total w/o LT\n",
      "Adding quantity entity with a7bbfb85-e6ac-336b-a142-baaffea546dc: eco-indicator 99, (E,E) w/o LT, total w/o LT, total w/o LT\n",
      "Adding quantity entity with a50bbeb7-c7c9-3ec7-82cc-9a13817d3924: eco-indicator 99, (H,A), ecosystem quality, acidification & eutrophication\n",
      "Adding quantity entity with ec6bd62c-6d3e-328d-aebe-5361b4973ada: eco-indicator 99, (H,A), ecosystem quality, ecotoxicity\n",
      "Adding quantity entity with edf17f67-170a-3c00-9368-40ffafba3d48: eco-indicator 99, (H,A), ecosystem quality, land occupation\n",
      "Adding quantity entity with d7aecca3-2d09-333d-a1e3-8d67edce6f2b: eco-indicator 99, (H,A), ecosystem quality, total\n",
      "Adding quantity entity with bef47028-9608-3517-a33a-1c7a07c58c66: eco-indicator 99, (H,A), human health, carcinogenics\n",
      "Adding quantity entity with 9a1016a6-c3bb-39c5-9ec4-535c20e203fc: eco-indicator 99, (H,A), human health, climate change\n",
      "Adding quantity entity with be339e69-ac63-3445-8ed3-13802000df57: eco-indicator 99, (H,A), human health, ionising radiation\n",
      "Adding quantity entity with 5c2e4d00-a422-3887-b2f3-5ee77aeea065: eco-indicator 99, (H,A), human health, ozone layer depletion\n",
      "Adding quantity entity with 31d178e0-3724-33d4-bc24-abe04e559978: eco-indicator 99, (H,A), human health, respiratory effects\n",
      "Adding quantity entity with f8e14424-9e19-336c-9724-e3116946c495: eco-indicator 99, (H,A), human health, total\n",
      "Adding quantity entity with c0989a4e-c111-397f-92f5-746100f1753d: eco-indicator 99, (H,A), resources, fossil fuels\n",
      "Adding quantity entity with c243b2be-3bed-3f4d-81cf-937e9f7d881b: eco-indicator 99, (H,A), resources, mineral extraction\n",
      "Adding quantity entity with 59dce7ad-b877-3340-8006-55924aa7fdbe: eco-indicator 99, (H,A), resources, total\n",
      "Adding quantity entity with 2aee59b7-8120-3916-812a-4831073f0fae: eco-indicator 99, (H,A), total, total\n",
      "Adding quantity entity with 603813ca-dc6b-3e18-a542-f3232d937658: eco-indicator 99, (H,A) w/o LT, ecosystem quality w/o LT, acidification & eutrophication w/o LT\n",
      "Adding quantity entity with f088249f-9c87-36b9-b9a4-fcbf9e0c697f: eco-indicator 99, (H,A) w/o LT, ecosystem quality w/o LT, ecotoxicity w/o LT\n",
      "Adding quantity entity with b2503148-8c8c-37c4-80e5-8b3685cac889: eco-indicator 99, (H,A) w/o LT, ecosystem quality w/o LT, land occupation w/o LT\n",
      "Adding quantity entity with 9fb7f65f-f9fc-3c34-87cd-c794263926f3: eco-indicator 99, (H,A) w/o LT, ecosystem quality w/o LT, total w/o LT\n",
      "Adding quantity entity with 349fecfc-be06-3434-a402-759e03c281b2: eco-indicator 99, (H,A) w/o LT, human health w/o LT, carcinogenics w/o LT\n",
      "Adding quantity entity with dbedc7b8-3b40-3a6f-9993-c4b5c0e76b8a: eco-indicator 99, (H,A) w/o LT, human health w/o LT, climate change w/o LT\n",
      "Adding quantity entity with 38c278e4-3e03-3be0-8f04-eee1a9d10564: eco-indicator 99, (H,A) w/o LT, human health w/o LT, ionising radiation w/o LT\n",
      "Adding quantity entity with 05815d18-eb3b-3b46-9f92-ee295cb2d898: eco-indicator 99, (H,A) w/o LT, human health w/o LT, ozone layer depletion w/o LT\n",
      "Adding quantity entity with b0404b4c-7fbc-3987-ac1a-e98569f1ce50: eco-indicator 99, (H,A) w/o LT, human health w/o LT, respiratory effects w/o LT\n",
      "Adding quantity entity with 99811bd6-31b8-3ef2-9542-f2dc8408e46d: eco-indicator 99, (H,A) w/o LT, human health w/o LT, total w/o LT\n",
      "Adding quantity entity with 57220edf-294f-3f01-b6cc-b03d47320ce1: eco-indicator 99, (H,A) w/o LT, resources w/o LT, fossil fuels w/o LT\n",
      "Adding quantity entity with b1201713-fda3-3e7e-b91e-8fd05aab76d6: eco-indicator 99, (H,A) w/o LT, resources w/o LT, mineral extraction w/o LT\n",
      "Adding quantity entity with 22ddcb39-af60-3776-b961-4ca4e332d991: eco-indicator 99, (H,A) w/o LT, resources w/o LT, total w/o LT\n",
      "Adding quantity entity with b794ea90-5592-3f95-8a9b-3fb21bcbd2ae: eco-indicator 99, (H,A) w/o LT, total w/o LT, total w/o LT\n",
      "Adding quantity entity with 3477e335-a9be-3b72-bda5-9a62c987c7d1: eco-indicator 99, (I,I), ecosystem quality, acidification & eutrophication\n",
      "Adding quantity entity with 7cf8c52f-79ba-3f7c-b273-4d8b9f9b7154: eco-indicator 99, (I,I), ecosystem quality, ecotoxicity\n",
      "Adding quantity entity with a1f8e5d4-f0fb-31f1-8c97-676cbd1d9c95: eco-indicator 99, (I,I), ecosystem quality, land occupation\n",
      "Adding quantity entity with 4d515e0d-a340-38d0-aa31-eadb41e3e999: eco-indicator 99, (I,I), ecosystem quality, total\n",
      "Adding quantity entity with bff80cff-a4c2-3b92-8730-96b60224ce16: eco-indicator 99, (I,I), human health, carcinogenics\n",
      "Adding quantity entity with 494cf945-f4d1-3f4c-a04c-153b6ef0fe07: eco-indicator 99, (I,I), human health, climate change\n",
      "Adding quantity entity with f0850a68-80a3-3725-b676-06c7df4e9b96: eco-indicator 99, (I,I), human health, ionising radiation\n",
      "Adding quantity entity with 9fa7e703-e632-3340-be61-8c5d43b066f3: eco-indicator 99, (I,I), human health, ozone layer depletion\n",
      "Adding quantity entity with 337b9b12-9926-32c4-b181-33f1677e2ed7: eco-indicator 99, (I,I), human health, respiratory effects\n",
      "Adding quantity entity with 3bfd9074-cd4a-32a7-a13f-e077ada9ebc7: eco-indicator 99, (I,I), human health, total\n",
      "Adding quantity entity with 280a0c4a-322f-3ace-8e6c-16cda9a56557: eco-indicator 99, (I,I), resources, mineral extraction\n",
      "Adding quantity entity with 16d3febb-edf0-3c70-9cc4-d20d148b3c4c: eco-indicator 99, (I,I), resources, total\n",
      "Adding quantity entity with 32f002e1-ac17-362f-ae9e-dad3f5650ed7: eco-indicator 99, (I,I), total, total\n",
      "Adding quantity entity with f994d8f3-7509-3009-a5aa-d49f906316f5: ecological footprint, total, CO2\n",
      "Adding quantity entity with a032901a-1ab6-3cc7-8159-27938dc736c9: ecological footprint, total, land occupation\n",
      "Adding quantity entity with 1c38da11-56f6-3d1c-ba55-a4855f9c0ede: ecological footprint, total, nuclear\n",
      "Adding quantity entity with 0b87e28d-3774-3aff-a839-ce6632878b5d: ecological footprint, total, total\n",
      "Adding quantity entity with 8bb1693b-d323-353c-8949-fe177114e362: ecological scarcity 1997, total, deposited waste\n",
      "Adding quantity entity with f4347ec5-0cf2-3529-879f-c5b91b097eac: ecological scarcity 1997, total, emission into air\n",
      "Adding quantity entity with a548cc66-ad9d-3ff8-bcb5-de476328f74f: ecological scarcity 1997, total, emission into top-soil/groundwater\n",
      "Adding quantity entity with 0367dad4-0828-3e9e-a90b-a5e5f24be16a: ecological scarcity 1997, total, emission into water\n",
      "Adding quantity entity with 75eeea6b-7258-38d2-8ae4-c9ce04205e48: ecological scarcity 1997, total, radioactive waste\n",
      "Adding quantity entity with 8a99617a-5fb2-3927-b7ee-d024d404c762: ecological scarcity 1997, total, total\n",
      "Adding quantity entity with e408d002-c26f-3aca-936f-9dea61b8efc1: ecological scarcity 1997, total, use of energy resources\n",
      "Adding quantity entity with 6fb10cab-e9d5-3e3a-99a3-6a0aa947dea4: ecological scarcity 2006, total, deposited waste\n",
      "Adding quantity entity with da60d9a6-e999-317b-a1b3-5b70533b156f: ecological scarcity 2006, total, emission into air\n",
      "Adding quantity entity with 74be1f08-24e5-3e3b-9ede-61abb553ca4d: ecological scarcity 2006, total, emission into groundwater\n",
      "Adding quantity entity with 68ef1dce-b8df-3875-837f-03a99b8780a9: ecological scarcity 2006, total, emission into surface water\n",
      "Adding quantity entity with 43040e3a-0ddf-353a-a4a2-e274e2eaba72: ecological scarcity 2006, total, emission into top soil\n",
      "Adding quantity entity with 4dc82fda-167c-388f-923c-3340358ea58b: ecological scarcity 2006, total, energy resources\n",
      "Adding quantity entity with b96d7e81-1172-3b0c-917d-c08f18fe6e05: ecological scarcity 2006, total, natural resources\n",
      "Adding quantity entity with 9ac3c698-25af-374d-9768-ceb4597d9e47: ecological scarcity 2006, total, total\n",
      "Adding quantity entity with ced89634-26f6-3329-a088-4ab19b543e1d: ecological scarcity 2013, total, Carcinogenic substances into air\n",
      "Adding quantity entity with 699c256f-e7d2-3e7e-8313-01a6685d70c2: ecological scarcity 2013, total, Energy resources\n",
      "Adding quantity entity with 83317f12-451f-3053-af04-3689370409ba: ecological scarcity 2013, total, Global warming\n",
      "Adding quantity entity with 03529d19-62de-326b-9e9d-93a5f79a9b1b: ecological scarcity 2013, total, Heavy metals into air\n",
      "Adding quantity entity with b26a4129-67c8-3a37-83b3-31e8bb91d6a9: ecological scarcity 2013, total, Heavy metals into soil\n",
      "Adding quantity entity with 87db8dc6-731b-3f80-a3b0-781bfd35a5e2: ecological scarcity 2013, total, Heavy metals into water\n",
      "Adding quantity entity with a721c611-7579-3368-b54e-0d13ed16317e: ecological scarcity 2013, total, Land use\n",
      "Adding quantity entity with db49c5cd-6737-39bf-a477-d5f462c8b1a2: ecological scarcity 2013, total, Main air pollutants and PM\n",
      "Adding quantity entity with 2e674ca2-cd6a-38b0-823e-fe18e461bbf3: ecological scarcity 2013, total, Mineral resources\n",
      "Adding quantity entity with 1596cb6c-d407-32b1-acc0-d708cddfe567: ecological scarcity 2013, total, Non radioactive waste to deposit\n",
      "Adding quantity entity with 018e8f3e-448f-3b84-bd07-ef0fe852831b: ecological scarcity 2013, total, Ozone layer depletion\n",
      "Adding quantity entity with d9cb4a25-fef6-3d4e-9538-63a708729468: ecological scarcity 2013, total, Pesticides into soil\n",
      "Adding quantity entity with d19f2810-d476-356d-afd3-908bc9327727: ecological scarcity 2013, total, POP into water\n",
      "Adding quantity entity with 816f646e-67a8-312e-854d-6738b9f6e206: ecological scarcity 2013, total, Radioactive substances into air\n",
      "Adding quantity entity with 405f8163-8995-3a5f-b95a-760dce429123: ecological scarcity 2013, total, Radioactive substances into water\n",
      "Adding quantity entity with 3a47dc6b-cb7e-31f2-97f0-320a770a8292: ecological scarcity 2013, total, Radioactive waste to deposit\n",
      "Adding quantity entity with 2d4de329-c929-30c5-bfc6-40da615bda11: ecological scarcity 2013, total, total\n",
      "Adding quantity entity with 7d67c397-b7a2-3c6a-9d2f-bf492ea0202b: ecological scarcity 2013, total, Water pollutants\n",
      "Adding quantity entity with 5cae50dc-55f8-3798-b1cb-36ad43039f99: ecological scarcity 2013, total, Water resources\n",
      "Adding quantity entity with 10a93927-12e2-36e0-8252-3bdf892f8dec: ecosystem damage potential, total, linear, land occupation\n",
      "Adding quantity entity with 86df1995-053f-3955-95b5-6daabe882f02: ecosystem damage potential, total, linear, land transformation\n",
      "Adding quantity entity with 4c2da50b-a830-3087-bfb9-6e0127c1fe58: ecosystem damage potential, total, linear, land use, total\n",
      "Adding quantity entity with 5f8491e7-557a-372e-8919-e048eea82591: EDIP, environmental impact, acidification\n",
      "Adding quantity entity with 1bc12cb2-ac24-3a8d-8c48-d532d0c135d2: EDIP, environmental impact, ecotoxicity, acute, in water\n",
      "Adding quantity entity with 907b04f1-03c5-303d-a9e7-a5ced0e6e21d: EDIP, environmental impact, ecotoxicity, chronic, in soil\n",
      "Adding quantity entity with 2ce14174-2514-381c-93f2-d47c25fb231b: EDIP, environmental impact, ecotoxicity, chronic, in water\n",
      "Adding quantity entity with 1e23638f-7201-3fa1-9943-4ba20e92e8b2: EDIP, environmental impact, ecotoxicity, in sewage treatment plants\n",
      "Adding quantity entity with 61a00477-f64b-37da-869c-80ab942a9678: EDIP, environmental impact, global warming, GWP 100a\n",
      "Adding quantity entity with 5e2301a8-caaf-3808-b128-65b5fbb73528: EDIP, environmental impact, global warming, GWP 20a\n",
      "Adding quantity entity with d63a5b24-9be0-30fc-9f5d-ff154ad0124f: EDIP, environmental impact, global warming, GWP 500a\n",
      "Adding quantity entity with ef44d8a4-7d21-3d80-af68-80fc73d40d6c: EDIP, environmental impact, human toxicity, via air\n",
      "Adding quantity entity with 94cc088d-ad92-32c2-865c-22bae3fca7d3: EDIP, environmental impact, human toxicity, via soil\n",
      "Adding quantity entity with a6133f41-d5aa-3d62-acb9-86c6049c4d55: EDIP, environmental impact, human toxicity, via surface water\n",
      "Adding quantity entity with 1eb82960-20bf-3b66-a5c4-4e42847e94e0: EDIP, environmental impact, land filling, bulk waste\n",
      "Adding quantity entity with f77daa20-add7-3d92-9e4e-1ebcae5ff0f2: EDIP, environmental impact, land filling, hazardous waste\n",
      "Adding quantity entity with 46b0d6e1-fdad-37c3-9760-55e9cac2b3ba: EDIP, environmental impact, land filling, radioactive waste\n",
      "Adding quantity entity with 756c1c26-9fad-3b46-a1b1-b5dcce57d078: EDIP, environmental impact, land filling, slag and ashes\n",
      "Adding quantity entity with 367aaf1d-7c88-3d6d-b27f-33d233be2538: EDIP, environmental impact, nutrient enrichment, combined potential\n",
      "Adding quantity entity with 90d139aa-c4ee-319f-9aec-b37e1e836da5: EDIP, environmental impact, nutrient enrichment, separate N potential\n",
      "Adding quantity entity with b611725f-6256-3a63-aca1-014e11a65024: EDIP, environmental impact, nutrient enrichment, separate P potential\n",
      "Adding quantity entity with 32256851-e704-3551-821c-511a91729224: EDIP, environmental impact, photochemical ozone formation, high NOx POCP\n",
      "Adding quantity entity with 5990e6a6-bd46-3305-a190-35d622cff150: EDIP, environmental impact, photochemical ozone formation, low NOx POCP\n",
      "Adding quantity entity with 2e2c0158-aafa-3e63-81d7-b4255309e661: EDIP, environmental impact, stratospheric ozone depletion, ODP 100a\n",
      "Adding quantity entity with 298fa9ef-b06f-31ce-ae13-00b5bdbc65ed: EDIP, environmental impact, stratospheric ozone depletion, ODP 20a\n",
      "Adding quantity entity with b293a149-af0f-398f-b4a1-2c9bda24582e: EDIP, environmental impact, stratospheric ozone depletion, ODP 5a\n",
      "Adding quantity entity with ae243dd1-0a3c-3d11-ad55-1b7744973fde: EDIP, environmental impact, stratospheric ozone depletion, ODP steady state\n",
      "Adding quantity entity with 5cda9a79-e933-33dc-8a01-6058269101cc: EDIP, resource consumption, non-renewable resources, aluminium\n",
      "Adding quantity entity with 03e2ea0c-d8cf-3082-af51-e7a0137a72a5: EDIP, resource consumption, non-renewable resources, antimony\n",
      "Adding quantity entity with 7d654eee-e2fa-3243-98d0-471fca7485db: EDIP, resource consumption, non-renewable resources, brown coal\n",
      "Adding quantity entity with 96bcf6b6-714e-36d1-a53b-b09364c21309: EDIP, resource consumption, non-renewable resources, cadmium\n",
      "Adding quantity entity with 4de09d61-a9d6-3926-bf02-11fb023ecb4d: EDIP, resource consumption, non-renewable resources, cerium\n",
      "Adding quantity entity with aff74081-5fa9-303c-8fbc-d7cf248dd0f9: EDIP, resource consumption, non-renewable resources, coal\n",
      "Adding quantity entity with 7a8e624f-fffc-3434-89be-e44312a0c2cb: EDIP, resource consumption, non-renewable resources, cobalt\n",
      "Adding quantity entity with 6968a676-12c8-3a8e-9c4b-c0e6a666beeb: EDIP, resource consumption, non-renewable resources, copper\n",
      "Adding quantity entity with 9683c0e0-572e-3ffb-87a2-bcbb5da42153: EDIP, resource consumption, non-renewable resources, gold\n",
      "Adding quantity entity with a50dc084-6730-397e-a5b1-315f8e51813c: EDIP, resource consumption, non-renewable resources, iron\n",
      "Adding quantity entity with b7158800-bb22-3e99-a795-9e55ef58e9b5: EDIP, resource consumption, non-renewable resources, lanthanum\n",
      "Adding quantity entity with f8d701a4-5ca9-3e27-a103-47fb9035664e: EDIP, resource consumption, non-renewable resources, lead\n",
      "Adding quantity entity with 253ed3cd-dc4f-3f95-ae56-4c4235358ae9: EDIP, resource consumption, non-renewable resources, manganese\n",
      "Adding quantity entity with 65f5f566-0f2b-3551-9a39-babaaead02f5: EDIP, resource consumption, non-renewable resources, mercury\n",
      "Adding quantity entity with 60291018-310d-39e1-995b-9639b5d96ba1: EDIP, resource consumption, non-renewable resources, molybdenum\n",
      "Adding quantity entity with f5e71fd7-a009-3a8c-934f-45c265e5238a: EDIP, resource consumption, non-renewable resources, natural gas\n",
      "Adding quantity entity with 4321e4d8-41ec-346a-a070-8cb6a77b61f1: EDIP, resource consumption, non-renewable resources, nickel\n",
      "Adding quantity entity with 272a8bb4-40e9-3a7d-85d1-6b19687e62dd: EDIP, resource consumption, non-renewable resources, oil\n",
      "Adding quantity entity with 333bfb73-f1b6-33c6-98d9-4ceae9376f5f: EDIP, resource consumption, non-renewable resources, palladium\n",
      "Adding quantity entity with c8d4df9a-c45d-33be-8763-1c00476d6fcb: EDIP, resource consumption, non-renewable resources, platinum\n",
      "Adding quantity entity with 5a9fa4aa-0782-3b09-b4d5-c39239475797: EDIP, resource consumption, non-renewable resources, silver\n",
      "Adding quantity entity with 58e3c291-58ea-3707-bff0-be04dce7a028: EDIP, resource consumption, non-renewable resources, tantalum\n",
      "Adding quantity entity with cbd272ff-29d9-3c79-b55e-883d62525fba: EDIP, resource consumption, non-renewable resources, tin\n",
      "Adding quantity entity with d37b68d6-634c-3872-ac0f-cdaf97653b6d: EDIP, resource consumption, non-renewable resources, zinc\n",
      "Adding quantity entity with 1814ff8b-9263-3b64-ab7c-e8e00393bb3f: EDIP, resource consumption, renewable resources, wood\n",
      "Adding quantity entity with f041b13d-9718-358c-93e9-0ff5d3ab64cc: EDIP w/o LT, environmental impact w/o LT, acidification w/o LT\n",
      "Adding quantity entity with 090f2362-cf72-3be9-a360-b68ba9ff4aa3: EDIP w/o LT, environmental impact w/o LT, ecotoxicity, acute, in water w/o LT\n",
      "Adding quantity entity with 8f78862a-b4b6-38d9-a141-e8b976b32f7f: EDIP w/o LT, environmental impact w/o LT, ecotoxicity, chronic, in soil w/o LT\n",
      "Adding quantity entity with 7fc1857c-2220-3658-a188-9140c128277f: EDIP w/o LT, environmental impact w/o LT, ecotoxicity, chronic, in water w/o LT\n",
      "Adding quantity entity with 6acfa07d-fa3a-3e62-9126-be4b8da91de5: EDIP w/o LT, environmental impact w/o LT, ecotoxicity, in sewage treatment plants w/o LT\n",
      "Adding quantity entity with 7e8c44b7-fd11-33a8-b453-de667057639f: EDIP w/o LT, environmental impact w/o LT, global warming, GWP 100a w/o LT\n",
      "Adding quantity entity with 4ae0122d-21e1-36f0-b116-954d8f74d0ff: EDIP w/o LT, environmental impact w/o LT, global warming, GWP 20a w/o LT\n",
      "Adding quantity entity with 78a4a7d2-7ec9-37fd-836d-6584817eaa0b: EDIP w/o LT, environmental impact w/o LT, global warming, GWP 500a w/o LT\n",
      "Adding quantity entity with 0a2871b3-6182-33a9-b524-a3dab4c599f4: EDIP w/o LT, environmental impact w/o LT, human toxicity, via air w/o LT\n",
      "Adding quantity entity with 635b2c18-dbee-3c70-83b0-47d2f809d2b8: EDIP w/o LT, environmental impact w/o LT, human toxicity, via soil w/o LT\n",
      "Adding quantity entity with 24611176-773a-3bb1-8e32-4e86f196a366: EDIP w/o LT, environmental impact w/o LT, human toxicity, via surface water w/o LT\n",
      "Adding quantity entity with ac5bc59b-50cc-3377-bec6-059c545631c3: EDIP w/o LT, environmental impact w/o LT, land filling, bulk waste w/o LT\n",
      "Adding quantity entity with 352db2a0-4988-3a31-a873-89b08446afe3: EDIP w/o LT, environmental impact w/o LT, land filling, hazardous waste w/o LT\n",
      "Adding quantity entity with e003b105-3461-3b25-9fb3-c3aa992ff2d6: EDIP w/o LT, environmental impact w/o LT, land filling, radioactive waste w/o LT\n",
      "Adding quantity entity with 29ecb0db-249c-3b9e-84d3-cb0d0750eb8d: EDIP w/o LT, environmental impact w/o LT, land filling, slag and ashes w/o LT\n",
      "Adding quantity entity with ff23f821-0573-3876-b6d8-69eb848051ff: EDIP w/o LT, environmental impact w/o LT, nutrient enrichment, combined potential w/o LT\n",
      "Adding quantity entity with 8af1f7c5-0d2c-3479-ba30-41b3ce7095d9: EDIP w/o LT, environmental impact w/o LT, nutrient enrichment, separate N potential w/o LT\n",
      "Adding quantity entity with 7794c5fa-3bb9-35fa-a082-179dab070989: EDIP w/o LT, environmental impact w/o LT, nutrient enrichment, separate P potential w/o LT\n",
      "Adding quantity entity with a0f1c739-d693-39da-bfac-994062a7e5c9: EDIP w/o LT, environmental impact w/o LT, photochemical ozone formation, high NOx POCP w/o LT\n",
      "Adding quantity entity with 39d52191-0dbe-35e7-b4af-b69b357013c1: EDIP w/o LT, environmental impact w/o LT, photochemical ozone formation, low NOx POCP w/o LT\n",
      "Adding quantity entity with 209d4820-5276-34f6-90c3-946c1a359498: EDIP w/o LT, environmental impact w/o LT, stratospheric ozone depletion, ODP 100a w/o LT\n",
      "Adding quantity entity with abe998cf-e470-3645-89b0-5e1884bab356: EDIP w/o LT, environmental impact w/o LT, stratospheric ozone depletion, ODP 20a w/o LT\n",
      "Adding quantity entity with 039f81ac-240e-3452-8c27-5d39f1210cf3: EDIP w/o LT, environmental impact w/o LT, stratospheric ozone depletion, ODP 5a w/o LT\n",
      "Adding quantity entity with deea2d57-3b4c-3fc6-b77f-c38fa6b935e9: EDIP w/o LT, environmental impact w/o LT, stratospheric ozone depletion, ODP steady state w/o LT\n",
      "Adding quantity entity with 6b7a314a-068d-3517-bbd6-3b9ea7b0ebd1: EDIP w/o LT, resource consumption w/o LT, non-renewable resources, aluminium w/o LT\n",
      "Adding quantity entity with e09ed7c3-565b-3d07-b4c5-f364c02fbd40: EDIP w/o LT, resource consumption w/o LT, non-renewable resources, antimony w/o LT\n",
      "Adding quantity entity with a5105ffe-2079-348b-b8ae-52fe8cb8b9b9: EDIP w/o LT, resource consumption w/o LT, non-renewable resources, brown coal w/o LT\n",
      "Adding quantity entity with b01b3426-142e-323d-b645-58cb0e3c608f: EDIP w/o LT, resource consumption w/o LT, non-renewable resources, cadmium w/o LT\n",
      "Adding quantity entity with 587c6a86-76ab-3a1b-9ea0-0aa4ae1ef3bc: EDIP w/o LT, resource consumption w/o LT, non-renewable resources, cerium w/o LT\n",
      "Adding quantity entity with 257a29ea-5aed-31b7-9ce4-1cb28146d2fe: EDIP w/o LT, resource consumption w/o LT, non-renewable resources, coal w/o LT\n",
      "Adding quantity entity with fdf3f5ad-2d40-3786-a663-22626069f01c: EDIP w/o LT, resource consumption w/o LT, non-renewable resources, cobalt w/o LT\n",
      "Adding quantity entity with fa4a6187-7473-32d0-a72b-6518629c897b: EDIP w/o LT, resource consumption w/o LT, non-renewable resources, copper w/o LT\n",
      "Adding quantity entity with 52ef179c-604c-3888-bf49-678d753763ed: EDIP w/o LT, resource consumption w/o LT, non-renewable resources, gold w/o LT\n",
      "Adding quantity entity with 01dc9cf5-f1e6-3a3d-83c6-8f842383a497: EDIP w/o LT, resource consumption w/o LT, non-renewable resources, iron w/o LT\n",
      "Adding quantity entity with 680a4854-d04d-38d4-a9ac-fcd0195db3a0: EDIP w/o LT, resource consumption w/o LT, non-renewable resources, lanthanum w/o LT\n",
      "Adding quantity entity with 767eb1a3-4a24-3df3-9b57-e58ad52b0a85: EDIP w/o LT, resource consumption w/o LT, non-renewable resources, lead w/o LT\n",
      "Adding quantity entity with fce6b59f-658c-33a9-8d5f-31384f633162: EDIP w/o LT, resource consumption w/o LT, non-renewable resources, manganese w/o LT\n",
      "Adding quantity entity with f3ecf545-9ab3-3231-a768-fc995c569f22: EDIP w/o LT, resource consumption w/o LT, non-renewable resources, mercury w/o LT\n",
      "Adding quantity entity with e515582c-b4b0-36f5-a995-2d2399e2ad2a: EDIP w/o LT, resource consumption w/o LT, non-renewable resources, molybdenum w/o LT\n",
      "Adding quantity entity with 27bdcf67-dc2c-34ff-980d-da002c4db003: EDIP w/o LT, resource consumption w/o LT, non-renewable resources, natural gas w/o LT\n",
      "Adding quantity entity with ad6bad1a-cfdc-344e-a08a-7273e68b3120: EDIP w/o LT, resource consumption w/o LT, non-renewable resources, nickel w/o LT\n",
      "Adding quantity entity with 575eaa6c-d8e3-314e-b9ed-bf980c3c7f0e: EDIP w/o LT, resource consumption w/o LT, non-renewable resources, oil w/o LT\n",
      "Adding quantity entity with 27805670-0124-3d13-8a1e-fd461720248f: EDIP w/o LT, resource consumption w/o LT, non-renewable resources, palladium w/o LT\n",
      "Adding quantity entity with eb987097-5d4b-3122-9f76-6e075068480b: EDIP w/o LT, resource consumption w/o LT, non-renewable resources, platinum w/o LT\n",
      "Adding quantity entity with 8e596262-420f-3836-b1cb-bd790c3fa28e: EDIP w/o LT, resource consumption w/o LT, non-renewable resources, silver w/o LT\n",
      "Adding quantity entity with 075cbcbd-2d00-359f-b275-22b7c2b30153: EDIP w/o LT, resource consumption w/o LT, non-renewable resources, tantalum w/o LT\n",
      "Adding quantity entity with 6a77dddf-fbce-3919-aef1-a6d9340ffa00: EDIP w/o LT, resource consumption w/o LT, non-renewable resources, tin w/o LT\n",
      "Adding quantity entity with 72359ef2-7c20-3622-9b78-a790737e7ba9: EDIP w/o LT, resource consumption w/o LT, non-renewable resources, zinc w/o LT\n",
      "Adding quantity entity with 9f328c94-a734-373a-b180-012c7dd891d1: EDIP w/o LT, resource consumption w/o LT, renewable resources, wood w/o LT\n",
      "Adding quantity entity with 9a4c1ea2-87ed-3ac4-a662-0dd5ab8384e2: EDIP2003, acidification, acidification\n",
      "Adding quantity entity with fe12dfef-2003-325b-92a7-056b093fde82: EDIP2003, ecotoxicity, acute, in water\n",
      "Adding quantity entity with 8e716ea5-0381-33fa-94fd-a08635d5a0a2: EDIP2003, ecotoxicity, chronic, in soil\n",
      "Adding quantity entity with 382eacec-1dc4-34ad-86a9-ba2b36834c5b: EDIP2003, ecotoxicity, chronic, in water\n",
      "Adding quantity entity with f8b37efc-9ac8-3d93-8f1c-1f63e7a55135: EDIP2003, ecotoxicity, in sewage treatment plants\n",
      "Adding quantity entity with 00499694-4b8b-3a2f-8a78-07dacc4fcd5e: EDIP2003, eutrophication, combined potential\n",
      "Adding quantity entity with 8e3086e3-4ee7-3c56-a226-93e8bf9f1856: EDIP2003, eutrophication, separate N potential\n",
      "Adding quantity entity with 57a009b2-7879-3f48-9a57-bf563c616fb0: EDIP2003, eutrophication, separate P potential\n",
      "Adding quantity entity with 00c7d344-ed54-3976-83ed-11ad9d61d943: EDIP2003, eutrophication, terrestrial eutrophication\n",
      "Adding quantity entity with 4a30db34-1c63-328f-b9a3-19e052da814f: EDIP2003, global warming, GWP 100a\n",
      "Adding quantity entity with 37dba05a-4a13-3c31-bab0-4d73b36d67e5: EDIP2003, global warming, GWP 20a\n",
      "Adding quantity entity with 8bb7a69a-dbcb-3a16-898c-ab404b373d95: EDIP2003, global warming, GWP 500a\n",
      "Adding quantity entity with 6dd2cd28-939f-3cc0-a7dc-4dff744ef8df: EDIP2003, human toxicity, via air\n",
      "Adding quantity entity with 56ba5fd8-187a-3276-b63c-af6c401bceaf: EDIP2003, human toxicity, via soil\n",
      "Adding quantity entity with 4b3e274a-1ca5-3a98-8847-73ac13040ffe: EDIP2003, human toxicity, via surface water\n",
      "Adding quantity entity with d1ba446d-1254-31a5-a7aa-3e4ffd781ccf: EDIP2003, land filling, bulk waste\n",
      "Adding quantity entity with 35b8778d-c194-37cc-a3cf-68689a637600: EDIP2003, land filling, hazardous waste\n",
      "Adding quantity entity with 3d76c7b3-cc6d-3777-ab99-7e4f1b9356a2: EDIP2003, land filling, radioactive waste\n",
      "Adding quantity entity with e1e70ba5-984e-3258-b533-93af90c8a22d: EDIP2003, land filling, slag and ashes\n",
      "Adding quantity entity with 5370c5d1-2274-30ec-ba8c-8d55ba1f1bf3: EDIP2003, non-renewable resources, aluminium\n",
      "Adding quantity entity with 1d4ea9c5-9fe0-36b7-a550-71acfd4e2032: EDIP2003, non-renewable resources, antimony\n",
      "Adding quantity entity with e431f089-ceb1-3597-8cb8-2b8ae0634c01: EDIP2003, non-renewable resources, brown coal\n",
      "Adding quantity entity with 93207498-346b-3d0c-85aa-287873cc3d89: EDIP2003, non-renewable resources, cadmium\n",
      "Adding quantity entity with f1d83270-f1b1-3374-9c42-bb0eeb084fcd: EDIP2003, non-renewable resources, cerium\n",
      "Adding quantity entity with ec6d9f0c-2aee-3264-ac10-13ef912f87f1: EDIP2003, non-renewable resources, coal\n",
      "Adding quantity entity with 757f71d5-1fcb-3541-a1ce-2a48b06cb770: EDIP2003, non-renewable resources, cobalt\n",
      "Adding quantity entity with 36b75619-5856-3ede-ab17-3b7d364e79e2: EDIP2003, non-renewable resources, copper\n",
      "Adding quantity entity with fc58dd65-a483-3599-855f-e7c50cde528f: EDIP2003, non-renewable resources, gold\n",
      "Adding quantity entity with 270739b1-7284-3875-96a7-9a0a9a7664a2: EDIP2003, non-renewable resources, iron\n",
      "Adding quantity entity with 18e73402-0be4-33ab-ae81-61b4a62ee1a4: EDIP2003, non-renewable resources, lanthanum\n",
      "Adding quantity entity with 5b1e5786-09e0-32d7-9e63-3cb1088888cb: EDIP2003, non-renewable resources, lead\n",
      "Adding quantity entity with 95760ca4-514b-3989-82b2-14e8d2100916: EDIP2003, non-renewable resources, manganese\n",
      "Adding quantity entity with d846f523-6fa9-355b-82a9-ed65d5c7691e: EDIP2003, non-renewable resources, mercury\n",
      "Adding quantity entity with 128f43b3-500f-358e-bc90-2f109b63d610: EDIP2003, non-renewable resources, molybdenum\n",
      "Adding quantity entity with 81708b07-4f0c-3ae2-b55b-085e8cba5c73: EDIP2003, non-renewable resources, natural gas\n",
      "Adding quantity entity with a9e47040-5ce2-3ab1-b7b7-72e196c55b1f: EDIP2003, non-renewable resources, nickel\n",
      "Adding quantity entity with d6d800b6-b537-3694-b515-2a12d76abe62: EDIP2003, non-renewable resources, oil\n",
      "Adding quantity entity with 1cc8dfc5-bb38-3cc8-8b42-bf69a289c945: EDIP2003, non-renewable resources, palladium\n",
      "Adding quantity entity with 3e2e6c9d-324f-3456-974e-f6647f541c6a: EDIP2003, non-renewable resources, platinum\n",
      "Adding quantity entity with 71e37448-f668-30b7-b9d5-6c570b44a90c: EDIP2003, non-renewable resources, silver\n",
      "Adding quantity entity with 07a58189-c4c3-3b06-b79d-f90645886068: EDIP2003, non-renewable resources, tantalum\n",
      "Adding quantity entity with e7565f05-37a8-31ae-8a42-6281820372d0: EDIP2003, non-renewable resources, tin\n",
      "Adding quantity entity with 88cfd27e-ed7c-390e-a550-df1b1e27a820: EDIP2003, non-renewable resources, zinc\n",
      "Adding quantity entity with b09f5da5-5cbd-35d3-8eb7-632e19d95618: EDIP2003, photochemical ozone formation, impacts on human health\n",
      "Adding quantity entity with 983dc120-df62-36ad-bf86-4a36766d3172: EDIP2003, photochemical ozone formation, impacts on vegetation\n",
      "Adding quantity entity with 3a9a776e-15ab-3104-808d-2673645bd5fa: EDIP2003, renewable resources, wood\n",
      "Adding quantity entity with a6d4c29c-3731-33db-a655-649f8b56f893: EDIP2003, stratospheric ozone depletion, ODP total\n",
      "Adding quantity entity with c03e0502-e3af-3708-806e-41ad3e8263fd: EDIP2003 w/o LT, acidification w/o LT, acidification w/o LT\n",
      "Adding quantity entity with 54d66a02-bdd5-3702-84c4-2b184c03cfa6: EDIP2003 w/o LT, ecotoxicity w/o LT, acute, in water w/o LT\n",
      "Adding quantity entity with 1c75bfaa-a80a-32ef-9029-ebaeb03a90d0: EDIP2003 w/o LT, ecotoxicity w/o LT, chronic, in soil w/o LT\n",
      "Adding quantity entity with dbde9509-8262-3789-8b86-642ee32d3877: EDIP2003 w/o LT, ecotoxicity w/o LT, chronic, in water w/o LT\n",
      "Adding quantity entity with 4f82dbc0-56e4-33e2-8fe9-2361454674cf: EDIP2003 w/o LT, ecotoxicity w/o LT, in sewage treatment plants w/o LT\n",
      "Adding quantity entity with 6666fb3d-7e64-3700-a7eb-138b5329c023: EDIP2003 w/o LT, eutrophication w/o LT, combined potential w/o LT\n",
      "Adding quantity entity with f5af10ad-0aab-349f-abe8-64aae5825328: EDIP2003 w/o LT, eutrophication w/o LT, separate N potential w/o LT\n",
      "Adding quantity entity with 0ee12458-acce-34f8-883c-819a472aca67: EDIP2003 w/o LT, eutrophication w/o LT, separate P potential w/o LT\n",
      "Adding quantity entity with 47d43030-d1a1-35cc-99d2-6377c7d81502: EDIP2003 w/o LT, eutrophication w/o LT, terrestrial eutrophication w/o LT\n",
      "Adding quantity entity with 34ca12f6-0c78-3fba-b39f-e2fad2f7bd9a: EDIP2003 w/o LT, global warming w/o LT, GWP 100a w/o LT\n",
      "Adding quantity entity with 67fb8976-556c-3824-bd65-1a5d24254573: EDIP2003 w/o LT, global warming w/o LT, GWP 20a w/o LT\n",
      "Adding quantity entity with 3f13a77b-560a-3059-b84a-258efef7c608: EDIP2003 w/o LT, global warming w/o LT, GWP 500a w/o LT\n",
      "Adding quantity entity with 9c22b3b6-f0b2-3cd2-8c7e-9d7ccf88da05: EDIP2003 w/o LT, human toxicity w/o LT, via air w/o LT\n",
      "Adding quantity entity with 388646fb-c27f-3b9c-adc7-60ea28df25b5: EDIP2003 w/o LT, human toxicity w/o LT, via soil w/o LT\n",
      "Adding quantity entity with 0ce75376-70bb-34d4-9225-ff20ff42e335: EDIP2003 w/o LT, human toxicity w/o LT, via surface water w/o LT\n",
      "Adding quantity entity with c412fa27-bd80-3e66-9690-fb5c26116042: EDIP2003 w/o LT, land filling w/o LT, bulk waste w/o LT\n",
      "Adding quantity entity with 2d3f618b-bab8-3fbb-a902-097766c7ac02: EDIP2003 w/o LT, land filling w/o LT, hazardous waste w/o LT\n",
      "Adding quantity entity with db5f3a64-79ea-3393-97c0-4c2e3a86b5af: EDIP2003 w/o LT, land filling w/o LT, radioactive waste w/o LT\n",
      "Adding quantity entity with 9eaa94c5-9ac9-3f7f-a83f-dc525b4e8503: EDIP2003 w/o LT, land filling w/o LT, slag and ashes w/o LT\n",
      "Adding quantity entity with fe09c56e-007e-3b18-85c3-44fb8b2bf0ee: EDIP2003 w/o LT, non-renewable resources w/o LT, aluminium w/o LT\n",
      "Adding quantity entity with 08523eeb-76c7-3ddb-a9fd-814cf432a21b: EDIP2003 w/o LT, non-renewable resources w/o LT, antimony w/o LT\n",
      "Adding quantity entity with b2fdfc6a-6489-3bac-b2ee-54c3829eefe1: EDIP2003 w/o LT, non-renewable resources w/o LT, brown coal w/o LT\n",
      "Adding quantity entity with 16b8d32f-de30-3183-b871-b027fd9b4248: EDIP2003 w/o LT, non-renewable resources w/o LT, cadmium w/o LT\n",
      "Adding quantity entity with 6d2ec316-abf3-3444-bd49-37b929ae3dbd: EDIP2003 w/o LT, non-renewable resources w/o LT, cerium w/o LT\n",
      "Adding quantity entity with 9cfe22ed-c3cb-32b6-8231-15ddc0ff4f2c: EDIP2003 w/o LT, non-renewable resources w/o LT, coal w/o LT\n",
      "Adding quantity entity with 5f31d7e8-7bed-38fc-b10d-99ff26f153b8: EDIP2003 w/o LT, non-renewable resources w/o LT, cobalt w/o LT\n",
      "Adding quantity entity with e8e19f14-85c4-3b41-b743-d6c1ad3df3a7: EDIP2003 w/o LT, non-renewable resources w/o LT, copper w/o LT\n",
      "Adding quantity entity with cb0ac007-4117-3cbb-9c42-dc50edeff187: EDIP2003 w/o LT, non-renewable resources w/o LT, gold w/o LT\n",
      "Adding quantity entity with e60f2d74-8686-3dcf-b401-8eb071ffcf9a: EDIP2003 w/o LT, non-renewable resources w/o LT, iron w/o LT\n",
      "Adding quantity entity with 38e753ce-25e0-3da2-abd4-14812b608a40: EDIP2003 w/o LT, non-renewable resources w/o LT, lanthanum w/o LT\n",
      "Adding quantity entity with a779e9e7-8a79-3db6-899b-9a7b3e20a4db: EDIP2003 w/o LT, non-renewable resources w/o LT, lead w/o LT\n",
      "Adding quantity entity with 9ff51d06-1c4b-3ca1-ad1a-76ac09bfbcad: EDIP2003 w/o LT, non-renewable resources w/o LT, manganese w/o LT\n",
      "Adding quantity entity with fb6ea453-8997-3564-96e3-8893a4431142: EDIP2003 w/o LT, non-renewable resources w/o LT, mercury w/o LT\n",
      "Adding quantity entity with 1cfe27f7-b2a1-3255-80c8-4354e80d7ce7: EDIP2003 w/o LT, non-renewable resources w/o LT, molybdenum w/o LT\n",
      "Adding quantity entity with 52022306-9413-32e1-97e3-fd3cbe51da13: EDIP2003 w/o LT, non-renewable resources w/o LT, natural gas w/o LT\n",
      "Adding quantity entity with 59b0cf30-0139-3574-8171-381170b326d0: EDIP2003 w/o LT, non-renewable resources w/o LT, nickel w/o LT\n",
      "Adding quantity entity with 7f64fabb-6537-3f27-87da-324bec77ac8a: EDIP2003 w/o LT, non-renewable resources w/o LT, oil w/o LT\n",
      "Adding quantity entity with 6a328279-002d-375f-9516-47d0df90fdb4: EDIP2003 w/o LT, non-renewable resources w/o LT, palladium w/o LT\n",
      "Adding quantity entity with 843765d2-9f19-3653-9c06-b09a2816980c: EDIP2003 w/o LT, non-renewable resources w/o LT, platinum w/o LT\n",
      "Adding quantity entity with 037f6e39-6ca5-3429-afaa-8e22267fa503: EDIP2003 w/o LT, non-renewable resources w/o LT, silver w/o LT\n",
      "Adding quantity entity with b1769054-8798-33f9-afbe-cf3bce14be7b: EDIP2003 w/o LT, non-renewable resources w/o LT, tantalum w/o LT\n",
      "Adding quantity entity with d5a71abd-e6db-36d3-ba29-121a400a8f06: EDIP2003 w/o LT, non-renewable resources w/o LT, tin w/o LT\n",
      "Adding quantity entity with 2f394ee0-0fda-3c93-b7f7-48cc7a7e1a33: EDIP2003 w/o LT, non-renewable resources w/o LT, zinc w/o LT\n",
      "Adding quantity entity with bf999e5a-edca-3d39-88e0-01aeb6d6d134: EDIP2003 w/o LT, photochemical ozone formation w/o LT, impacts on human health w/o LT\n",
      "Adding quantity entity with a7c97bf4-cfa2-3986-8b60-9f67bc4fcf5e: EDIP2003 w/o LT, photochemical ozone formation w/o LT, impacts on vegetation w/o LT\n",
      "Adding quantity entity with 40116ab6-3c5f-3fe3-b053-e9cf29811dca: EDIP2003 w/o LT, renewable resources w/o LT, wood w/o LT\n",
      "Adding quantity entity with 01a96b62-408d-3e47-a5a4-af9df31a5e69: EDIP2003 w/o LT, stratospheric ozone depletion w/o LT, ODP total w/o LT\n",
      "Adding quantity entity with 411e1ead-d7a7-37af-860e-abd47778003f: EPS 2000, total, abiotic stock resources\n",
      "Adding quantity entity with e18f3513-caf9-3310-b9dd-e30dc7fb97fa: EPS 2000, total, emissions into air\n",
      "Adding quantity entity with 6c9b351d-bde1-3032-a796-f875aec3ad08: EPS 2000, total, emissions into soil\n",
      "Adding quantity entity with 07f6e280-f0cc-3cab-ac55-96cfa3a7b644: EPS 2000, total, emissions into water\n",
      "Adding quantity entity with 45c81b7b-834e-33f1-9a94-c0042c37aac3: EPS 2000, total, land occupation\n",
      "Adding quantity entity with 45cfdd69-b810-359d-9679-dac6194cad5b: EPS 2000, total, total\n",
      "Adding quantity entity with a1da07c7-88bb-3446-a901-46dee753168f: IMPACT 2002+ (Endpoint), climate change, climate change\n",
      "Adding quantity entity with 636536ff-8199-3b23-94f6-b5cdf091e4f1: IMPACT 2002+ (Endpoint), climate change, total\n",
      "Adding quantity entity with 2d60b031-4b07-36ef-9e8c-32b83858bcf9: IMPACT 2002+ (Endpoint), ecosystem quality, aquatic ecotoxicity\n",
      "Adding quantity entity with 16b9b20e-d477-39ee-88bd-1f5a13ef0c53: IMPACT 2002+ (Endpoint), ecosystem quality, land occupation\n",
      "Adding quantity entity with 92738295-3b97-30a5-adcf-a7051b4a28b6: IMPACT 2002+ (Endpoint), ecosystem quality, terrestrial acidification & nutrification\n",
      "Adding quantity entity with a109af35-14bc-3ed1-8d32-b3d15619382d: IMPACT 2002+ (Endpoint), ecosystem quality, terrestrial ecotoxicity\n",
      "Adding quantity entity with 91c2fda9-cffb-3906-882a-55300607fd01: IMPACT 2002+ (Endpoint), ecosystem quality, total\n",
      "Adding quantity entity with 674bb285-eedb-3ece-8018-6c48422c4eff: IMPACT 2002+ (Endpoint), human health, human toxicity\n",
      "Adding quantity entity with 85c68c0b-c82b-3481-9b84-a94e4c0e3efa: IMPACT 2002+ (Endpoint), human health, ionising radiation\n",
      "Adding quantity entity with 3b804e14-8eb4-3e27-a800-803053a2d654: IMPACT 2002+ (Endpoint), human health, ozone layer depletion\n",
      "Adding quantity entity with 28df6e14-c585-398c-8b32-cd3ddb0b6dec: IMPACT 2002+ (Endpoint), human health, photochemical oxidation\n",
      "Adding quantity entity with 47614656-178d-3d08-a0e5-79d2ea524781: IMPACT 2002+ (Endpoint), human health, respiratory effects (inorganics)\n",
      "Adding quantity entity with 708c1bf0-0676-3948-b695-b14f438e748e: IMPACT 2002+ (Endpoint), human health, total\n",
      "Adding quantity entity with 3149f98c-e7fc-343d-8376-9e4643b1acbb: IMPACT 2002+ (Endpoint), resources, mineral extraction\n",
      "Adding quantity entity with de193aad-f974-3a44-a66e-f1430b0dae84: IMPACT 2002+ (Endpoint), resources, non-renewable energy\n",
      "Adding quantity entity with c2455fab-c149-384e-afea-66f26dc2fa97: IMPACT 2002+ (Endpoint), resources, total\n",
      "Adding quantity entity with 366cc638-35ff-36a5-8f5a-054871095c62: IMPACT 2002+ (Midpoint), ecosystem quality, aquatic acidification\n",
      "Adding quantity entity with 505d2d04-b913-3625-9e59-c48c4d3083be: IMPACT 2002+ (Midpoint), ecosystem quality, aquatic eutrophication\n",
      "Adding quantity entity with 462ef843-4b0b-35c1-ab3a-9d7b8ad187a7: IPCC 2001, climate change, GWP 100a\n",
      "Adding quantity entity with 7ca45aa9-8012-34fe-95b2-e6b35e494d96: IPCC 2001, climate change, GWP 20a\n",
      "Adding quantity entity with 618598ee-145c-325d-af4f-2da551a902e6: IPCC 2001, climate change, GWP 500a\n",
      "Adding quantity entity with 598ff9e4-740a-3dc1-9d83-9efa4d1f65ed: IPCC 2007, climate change, GWP 100a\n",
      "Adding quantity entity with 97fd7694-40ae-34aa-9785-1d915d7d6246: IPCC 2007, climate change, GWP 20a\n",
      "Adding quantity entity with 508e7152-8ef9-35bc-820a-a82a3162bb66: IPCC 2007, climate change, GWP 500a\n",
      "Adding quantity entity with 4c53dd63-5aa2-3cce-af0e-fce52128f90b: IPCC 2007 no LT, climate change, GWP 100a\n",
      "Adding quantity entity with d2e85604-b8ac-3745-a56c-4c048cd68021: IPCC 2007 no LT, climate change, GWP 20a\n",
      "Adding quantity entity with 8b80cd72-a6c6-3b5e-8947-e3813c111e87: IPCC 2007 no LT, climate change, GWP 500a\n",
      "Adding quantity entity with edd5cbcf-65c0-3192-b2d4-0e8875d1c72c: IPCC 2013, climate change, GTP 100a\n",
      "Adding quantity entity with 87f7000f-2494-3c09-921b-70625153983b: IPCC 2013, climate change, GTP 20a\n",
      "Adding quantity entity with e80156aa-43f6-3889-8fec-991de4ad0580: IPCC 2013, climate change, GWP 100a\n",
      "Adding quantity entity with 9b2cdecc-ad3d-3a60-8807-70fcfcf84c4e: IPCC 2013, climate change, GWP 20a\n",
      "Adding quantity entity with 2ab8c4d3-088a-38e8-b544-ad9976f43d0c: IPCC 2013 no LT, climate change, GTP 100a\n",
      "Adding quantity entity with 4ee37a01-f80f-3f7d-84f1-192ee3163ff2: IPCC 2013 no LT, climate change, GTP 20a\n",
      "Adding quantity entity with 0c865939-f941-34ac-ba42-9be258925d65: IPCC 2013 no LT, climate change, GWP 100a\n",
      "Adding quantity entity with 40a3d2af-26ad-39b8-a9a5-cae1241af520: IPCC 2013 no LT, climate change, GWP 20a\n",
      "Adding quantity entity with e83fa401-437b-3764-a90f-a600c81dcb04: ReCiPe Endpoint (E,A), ecosystem quality, agricultural land occupation\n",
      "Adding quantity entity with 11521182-04c3-3a2e-8be4-5216f636ef74: ReCiPe Endpoint (E,A), ecosystem quality, climate change, ecosystems\n",
      "Adding quantity entity with d2b9d81b-3c4a-359c-9c9a-3259da5bdf37: ReCiPe Endpoint (E,A), ecosystem quality, freshwater ecotoxicity\n",
      "Adding quantity entity with 6538342f-23fd-3ad2-be67-aadeb2d4b4b6: ReCiPe Endpoint (E,A), ecosystem quality, freshwater eutrophication\n",
      "Adding quantity entity with 9f5cecc7-1eb4-3a44-92c1-0ccf85c7b3cb: ReCiPe Endpoint (E,A), ecosystem quality, marine ecotoxicity\n",
      "Adding quantity entity with a241f4ef-143e-381b-86a3-013de1b25262: ReCiPe Endpoint (E,A), ecosystem quality, natural land transformation\n",
      "Adding quantity entity with 749c4c3e-0c4f-3b01-86d2-aa1d9a545bc9: ReCiPe Endpoint (E,A), ecosystem quality, terrestrial acidification\n",
      "Adding quantity entity with 6c6c29ed-2b25-3d6e-8591-23c1416e3d95: ReCiPe Endpoint (E,A), ecosystem quality, terrestrial ecotoxicity\n",
      "Adding quantity entity with 98d21d15-b7c3-3def-af9b-0ce44baf9f57: ReCiPe Endpoint (E,A), ecosystem quality, total\n",
      "Adding quantity entity with 00d4845f-f181-358d-a5e2-6ee2d846df67: ReCiPe Endpoint (E,A), ecosystem quality, urban land occupation\n",
      "Adding quantity entity with e39f3695-20dd-344f-b3e3-a9dbb7680f47: ReCiPe Endpoint (E,A), human health, climate change, human health\n",
      "Adding quantity entity with 71e2a893-7f9c-3193-9aa5-118404c933f8: ReCiPe Endpoint (E,A), human health, human toxicity\n",
      "Adding quantity entity with 43145a56-9a88-30e4-84c6-04e1e52c04e0: ReCiPe Endpoint (E,A), human health, ionising radiation\n",
      "Adding quantity entity with 049c15a2-b841-3167-bd67-3773960afccb: ReCiPe Endpoint (E,A), human health, ozone depletion\n",
      "Adding quantity entity with 9785f65e-2c12-3723-b78e-3f9a9855e7bf: ReCiPe Endpoint (E,A), human health, particulate matter formation\n",
      "Adding quantity entity with d93246c9-c894-3148-a757-07ec5f5f316d: ReCiPe Endpoint (E,A), human health, photochemical oxidant formation\n",
      "Adding quantity entity with fb51abe4-9d7d-3afc-b762-53eb5eece4bc: ReCiPe Endpoint (E,A), human health, total\n",
      "Adding quantity entity with d0b3ce1d-2e12-36ac-ab9e-547ccab39686: ReCiPe Endpoint (E,A), resources, fossil depletion\n",
      "Adding quantity entity with eb421d78-b358-387f-b9a2-7afefd1d1276: ReCiPe Endpoint (E,A), resources, metal depletion\n",
      "Adding quantity entity with 9478a1b1-6345-34a6-b396-15855a17fc83: ReCiPe Endpoint (E,A), resources, total\n",
      "Adding quantity entity with 3045f121-8612-36e3-987d-e94694a3e01d: ReCiPe Endpoint (E,A), total, total\n",
      "Adding quantity entity with 22a4283e-0042-3216-b950-f332c9597820: ReCiPe Endpoint (E,A) w/o LT, ecosystem quality w/o LT, agricultural land occupation w/o LT\n",
      "Adding quantity entity with d7bca649-4429-3340-9100-3a71e32466a1: ReCiPe Endpoint (E,A) w/o LT, ecosystem quality w/o LT, climate change, ecosystems w/o LT\n",
      "Adding quantity entity with e63cf3b3-79dd-385b-8889-089765df7971: ReCiPe Endpoint (E,A) w/o LT, ecosystem quality w/o LT, freshwater ecotoxicity w/o LT\n",
      "Adding quantity entity with c4a172f1-9c76-31e0-83c7-390027167290: ReCiPe Endpoint (E,A) w/o LT, ecosystem quality w/o LT, freshwater eutrophication w/o LT\n",
      "Adding quantity entity with ccca85cd-8300-3c78-beaa-da7efffd0ff7: ReCiPe Endpoint (E,A) w/o LT, ecosystem quality w/o LT, marine ecotoxicity w/o LT\n",
      "Adding quantity entity with e44b0efa-1886-3faa-b4ad-fe41a80db8b0: ReCiPe Endpoint (E,A) w/o LT, ecosystem quality w/o LT, natural land transformation w/o LT\n",
      "Adding quantity entity with 4e06dbc6-89a2-31d4-8a5d-84fb6b7af68c: ReCiPe Endpoint (E,A) w/o LT, ecosystem quality w/o LT, terrestrial acidification w/o LT\n",
      "Adding quantity entity with f9ad3e04-ea41-3241-87bf-294f0818fa54: ReCiPe Endpoint (E,A) w/o LT, ecosystem quality w/o LT, terrestrial ecotoxicity w/o LT\n",
      "Adding quantity entity with b46536aa-faf1-3f6b-b60c-dff61795defa: ReCiPe Endpoint (E,A) w/o LT, ecosystem quality w/o LT, total w/o LT\n",
      "Adding quantity entity with 2c5705eb-54eb-330c-8922-32530406ee22: ReCiPe Endpoint (E,A) w/o LT, ecosystem quality w/o LT, urban land occupation w/o LT\n",
      "Adding quantity entity with 08525ac8-9041-34aa-9894-0c950ca14165: ReCiPe Endpoint (E,A) w/o LT, human health w/o LT, climate change, human health w/o LT\n",
      "Adding quantity entity with bac98c51-6ca9-3638-9736-5174b258ceb5: ReCiPe Endpoint (E,A) w/o LT, human health w/o LT, human toxicity w/o LT\n",
      "Adding quantity entity with cb5564ba-9c22-35ab-8a89-547b2da67ae8: ReCiPe Endpoint (E,A) w/o LT, human health w/o LT, ionising radiation w/o LT\n",
      "Adding quantity entity with 93379c08-0178-3f98-9b24-a78a969404b5: ReCiPe Endpoint (E,A) w/o LT, human health w/o LT, ozone depletion w/o LT\n",
      "Adding quantity entity with 6cbb870d-1a76-3e5f-984b-b78c8023c191: ReCiPe Endpoint (E,A) w/o LT, human health w/o LT, particulate matter formation w/o LT\n",
      "Adding quantity entity with 60fb5bb7-cf17-346f-8c1d-4446aea38047: ReCiPe Endpoint (E,A) w/o LT, human health w/o LT, photochemical oxidant formation w/o LT\n",
      "Adding quantity entity with 5e33e16f-5ab1-35f3-93a3-315163dbd84f: ReCiPe Endpoint (E,A) w/o LT, human health w/o LT, total w/o LT\n",
      "Adding quantity entity with 77a9c4c9-6747-3ead-a1c7-f8d153b83ed1: ReCiPe Endpoint (E,A) w/o LT, resources w/o LT, fossil depletion w/o LT\n",
      "Adding quantity entity with a0ad038b-bb04-3ad5-86be-82dac7b3af68: ReCiPe Endpoint (E,A) w/o LT, resources w/o LT, metal depletion w/o LT\n",
      "Adding quantity entity with 03139ec8-42ee-301a-a09f-201e8dd74158: ReCiPe Endpoint (E,A) w/o LT, resources w/o LT, total w/o LT\n",
      "Adding quantity entity with 39a063b0-c03f-389b-8261-277fbf6bca6f: ReCiPe Endpoint (E,A) w/o LT, total w/o LT, total w/o LT\n",
      "Adding quantity entity with 2fdf8892-621b-3ecc-8104-02c71931076d: ReCiPe Endpoint (H,A), ecosystem quality, agricultural land occupation\n",
      "Adding quantity entity with 33331a43-d673-3391-829d-794996179dff: ReCiPe Endpoint (H,A), ecosystem quality, climate change, ecosystems\n",
      "Adding quantity entity with 7fff184d-2ac6-3e3b-92ab-4fca8c24cd49: ReCiPe Endpoint (H,A), ecosystem quality, freshwater ecotoxicity\n",
      "Adding quantity entity with 6da245f6-8ff0-30a3-b70c-04211e0cdeda: ReCiPe Endpoint (H,A), ecosystem quality, freshwater eutrophication\n",
      "Adding quantity entity with fd840fbc-d57c-3731-a8a0-30e768dfe805: ReCiPe Endpoint (H,A), ecosystem quality, marine ecotoxicity\n",
      "Adding quantity entity with ab212fbe-5635-3bd2-8605-b025b7ef6d9c: ReCiPe Endpoint (H,A), ecosystem quality, natural land transformation\n",
      "Adding quantity entity with 2f3eec37-31a5-33a0-9482-a1ccf5b05632: ReCiPe Endpoint (H,A), ecosystem quality, terrestrial acidification\n",
      "Adding quantity entity with 482d7f98-8105-3142-9fd0-e5ba2da2ca0a: ReCiPe Endpoint (H,A), ecosystem quality, terrestrial ecotoxicity\n",
      "Adding quantity entity with 250e0dd0-40a6-3386-aae7-b6c450c923c2: ReCiPe Endpoint (H,A), ecosystem quality, total\n",
      "Adding quantity entity with 8f9e00f1-bc28-33a7-9ddc-a75a97b2ea9a: ReCiPe Endpoint (H,A), ecosystem quality, urban land occupation\n",
      "Adding quantity entity with 146f55a8-85c8-3dd2-b360-8eff3e86a59a: ReCiPe Endpoint (H,A), human health, climate change, human health\n",
      "Adding quantity entity with 366a725f-2199-3069-b319-54e86236499a: ReCiPe Endpoint (H,A), human health, human toxicity\n",
      "Adding quantity entity with 70eaecb7-67d4-327d-ac5a-740d2b75fb13: ReCiPe Endpoint (H,A), human health, ionising radiation\n",
      "Adding quantity entity with 1248bc70-d42e-3477-9a54-08e2cdca9354: ReCiPe Endpoint (H,A), human health, ozone depletion\n",
      "Adding quantity entity with 4af98584-a31f-391f-aa44-0871a7de7a8a: ReCiPe Endpoint (H,A), human health, particulate matter formation\n",
      "Adding quantity entity with 9356da73-7594-30e0-b820-6e73de1333b5: ReCiPe Endpoint (H,A), human health, photochemical oxidant formation\n",
      "Adding quantity entity with a7b70d37-ab3a-3c1c-97c1-9ef4ae4fc000: ReCiPe Endpoint (H,A), human health, total\n",
      "Adding quantity entity with 424e9d48-9a12-3c68-9c6d-be48cc463967: ReCiPe Endpoint (H,A), resources, fossil depletion\n",
      "Adding quantity entity with 4b6eacc2-f293-3da3-9f07-a873ea6a7782: ReCiPe Endpoint (H,A), resources, metal depletion\n",
      "Adding quantity entity with f4e6c62b-0fe7-3f88-adfd-e1a5a393a837: ReCiPe Endpoint (H,A), resources, total\n",
      "Adding quantity entity with d582824c-f6d5-360f-9edd-d961d42e1ea2: ReCiPe Endpoint (H,A), total, total\n",
      "Adding quantity entity with 2de86625-ca67-3019-963a-167fc2ebfa6d: ReCiPe Endpoint (H,A) w/o LT, ecosystem quality w/o LT, agricultural land occupation w/o LT\n",
      "Adding quantity entity with b1081ec6-9e9a-3ca9-a6b3-3f50b69711ff: ReCiPe Endpoint (H,A) w/o LT, ecosystem quality w/o LT, climate change, ecosystems w/o LT\n",
      "Adding quantity entity with ef15fda8-70b0-3c0c-9bc2-1189d278133d: ReCiPe Endpoint (H,A) w/o LT, ecosystem quality w/o LT, freshwater ecotoxicity w/o LT\n",
      "Adding quantity entity with 0867570a-5a5c-3db6-9234-ed189823df1e: ReCiPe Endpoint (H,A) w/o LT, ecosystem quality w/o LT, freshwater eutrophication w/o LT\n",
      "Adding quantity entity with 62ca879f-8264-3f25-bb3e-3ba03e4797be: ReCiPe Endpoint (H,A) w/o LT, ecosystem quality w/o LT, marine ecotoxicity w/o LT\n",
      "Adding quantity entity with d1083d65-8266-3daf-989b-b631871f58d9: ReCiPe Endpoint (H,A) w/o LT, ecosystem quality w/o LT, natural land transformation w/o LT\n",
      "Adding quantity entity with 3dd9aafb-7efa-3ba2-a2b1-2bebe866b6e2: ReCiPe Endpoint (H,A) w/o LT, ecosystem quality w/o LT, terrestrial acidification w/o LT\n",
      "Adding quantity entity with 063a2f6a-2b15-3d07-bc8b-b9034de472ce: ReCiPe Endpoint (H,A) w/o LT, ecosystem quality w/o LT, terrestrial ecotoxicity w/o LT\n",
      "Adding quantity entity with 8b1946a8-ff2f-3d0c-898a-ef6c047cb515: ReCiPe Endpoint (H,A) w/o LT, ecosystem quality w/o LT, total w/o LT\n",
      "Adding quantity entity with b093a3c9-2c72-3f1b-b52d-058653ca7ffd: ReCiPe Endpoint (H,A) w/o LT, ecosystem quality w/o LT, urban land occupation w/o LT\n",
      "Adding quantity entity with 8dc7ef3b-3b8c-3fd6-8b98-38bb8fccd0e9: ReCiPe Endpoint (H,A) w/o LT, human health w/o LT, climate change, human health w/o LT\n",
      "Adding quantity entity with 7f70df7c-5944-3a97-8b24-b81661e33826: ReCiPe Endpoint (H,A) w/o LT, human health w/o LT, human toxicity w/o LT\n",
      "Adding quantity entity with 2c37a820-10fe-3287-9c99-8348b1ed3caa: ReCiPe Endpoint (H,A) w/o LT, human health w/o LT, ionising radiation w/o LT\n",
      "Adding quantity entity with ce7c883f-8c0f-3f92-a673-66a2fb10c8d6: ReCiPe Endpoint (H,A) w/o LT, human health w/o LT, ozone depletion w/o LT\n",
      "Adding quantity entity with afde228c-2585-3678-beef-677c839cf1c8: ReCiPe Endpoint (H,A) w/o LT, human health w/o LT, particulate matter formation w/o LT\n",
      "Adding quantity entity with 5e5f7596-7ce0-3cae-a864-e0e4527e97c2: ReCiPe Endpoint (H,A) w/o LT, human health w/o LT, photochemical oxidant formation w/o LT\n",
      "Adding quantity entity with 561ad9a0-1b1b-3bab-8b22-0f6844e21ab1: ReCiPe Endpoint (H,A) w/o LT, human health w/o LT, total w/o LT\n",
      "Adding quantity entity with a969c8e9-e99e-35d8-a429-cd1b66ee201b: ReCiPe Endpoint (H,A) w/o LT, resources w/o LT, fossil depletion w/o LT\n",
      "Adding quantity entity with 962567e3-5a7c-3d7c-ada3-5eb49b7950ac: ReCiPe Endpoint (H,A) w/o LT, resources w/o LT, metal depletion w/o LT\n",
      "Adding quantity entity with f1020630-94be-35ec-acac-b2867e91ceb5: ReCiPe Endpoint (H,A) w/o LT, resources w/o LT, total w/o LT\n",
      "Adding quantity entity with d68e126b-5688-333a-a029-9b7dcfce11d5: ReCiPe Endpoint (H,A) w/o LT, total w/o LT, total w/o LT\n",
      "Adding quantity entity with d5ccfa0e-1231-3dc0-a302-05678acbc580: ReCiPe Endpoint (I,A), ecosystem quality, agricultural land occupation\n",
      "Adding quantity entity with 4b1f74ca-6675-3192-b67a-2033dc098904: ReCiPe Endpoint (I,A), ecosystem quality, climate change, ecosystems\n",
      "Adding quantity entity with 41a96544-1a21-3676-9da6-216dfc10a091: ReCiPe Endpoint (I,A), ecosystem quality, freshwater ecotoxicity\n",
      "Adding quantity entity with d0753b8b-6c55-3442-b90a-5a2df541fc8c: ReCiPe Endpoint (I,A), ecosystem quality, freshwater eutrophication\n",
      "Adding quantity entity with 961976d6-c111-3a11-a00e-becdd0b50ed7: ReCiPe Endpoint (I,A), ecosystem quality, marine ecotoxicity\n",
      "Adding quantity entity with 96fc3973-961b-3ac1-bd03-9fe99dbdcf68: ReCiPe Endpoint (I,A), ecosystem quality, natural land transformation\n",
      "Adding quantity entity with 415e7c77-49f8-3ce5-91a9-0a22e4b59e94: ReCiPe Endpoint (I,A), ecosystem quality, terrestrial acidification\n",
      "Adding quantity entity with 0271ae8f-2e91-3baa-be87-9ade0be13416: ReCiPe Endpoint (I,A), ecosystem quality, terrestrial ecotoxicity\n",
      "Adding quantity entity with 3cb587e0-13bd-3eaf-b13b-b27bc18b7307: ReCiPe Endpoint (I,A), ecosystem quality, total\n",
      "Adding quantity entity with fa544657-f38b-311d-aacf-a2c5340e4c43: ReCiPe Endpoint (I,A), ecosystem quality, urban land occupation\n",
      "Adding quantity entity with 6e18e1b9-6f77-3da5-bbaa-cc27f45e2f06: ReCiPe Endpoint (I,A), human health, climate change, human health\n",
      "Adding quantity entity with 398e1d79-b538-3c6e-a817-2090521b70a7: ReCiPe Endpoint (I,A), human health, human toxicity\n",
      "Adding quantity entity with 5d8b5ab5-3cb3-3e2a-a88c-2b7ff325e847: ReCiPe Endpoint (I,A), human health, ionising radiation\n",
      "Adding quantity entity with 4ec7adfa-8cb5-32b3-ba0f-f28fd3f0f258: ReCiPe Endpoint (I,A), human health, ozone depletion\n",
      "Adding quantity entity with 49215942-f841-3638-ae74-c47164531b70: ReCiPe Endpoint (I,A), human health, particulate matter formation\n",
      "Adding quantity entity with 8626a1d4-6f81-3001-b1ee-084305955945: ReCiPe Endpoint (I,A), human health, photochemical oxidant formation\n",
      "Adding quantity entity with d69e9275-85cb-3e78-ad2d-aa56d53dba44: ReCiPe Endpoint (I,A), human health, total\n",
      "Adding quantity entity with 521779b5-f79d-3ee6-89ac-4ee9a03b821a: ReCiPe Endpoint (I,A), resources, fossil depletion\n",
      "Adding quantity entity with d74dd7d3-e894-3ce7-8351-9d02fd0d2e82: ReCiPe Endpoint (I,A), resources, metal depletion\n",
      "Adding quantity entity with 873926a9-4700-3c12-9a15-9498d701fcaf: ReCiPe Endpoint (I,A), resources, total\n",
      "Adding quantity entity with 693c54ab-427b-31f6-9b99-e181acd43bfb: ReCiPe Endpoint (I,A), total, total\n",
      "Adding quantity entity with 1738b969-75c8-3557-82d3-5abf98738a7c: ReCiPe Midpoint (E), agricultural land occupation, ALOP\n",
      "Adding quantity entity with a99e2531-1264-354d-8c55-6b264b61788c: ReCiPe Midpoint (E), climate change, GWP500\n",
      "Adding quantity entity with 9923db4a-03df-3198-9673-e3bdab787fc2: ReCiPe Midpoint (E), fossil depletion, FDP\n",
      "Adding quantity entity with 7133c330-0422-3281-9044-0ebbacf374ac: ReCiPe Midpoint (E), freshwater ecotoxicity, FETPinf\n",
      "Adding quantity entity with 20070efc-0c9a-31c7-834c-34b47bc7ea38: ReCiPe Midpoint (E), freshwater eutrophication, FEP\n",
      "Adding quantity entity with 8922c876-03f7-37ec-a1f2-6b9831eab1af: ReCiPe Midpoint (E), human toxicity, HTPinf\n",
      "Adding quantity entity with 1a5aa541-a590-345b-b65e-1d3656924471: ReCiPe Midpoint (E), ionising radiation, IRP_HE\n",
      "Adding quantity entity with ebddd3a8-a20c-3276-852b-de181ec1f904: ReCiPe Midpoint (E), marine ecotoxicity, METPinf\n",
      "Adding quantity entity with 5f3df782-1f3b-31d6-aca7-026287ae1f27: ReCiPe Midpoint (E), marine eutrophication, MEP\n",
      "Adding quantity entity with e0b5b356-5837-3671-abb5-ad9b6ef66a55: ReCiPe Midpoint (E), metal depletion, MDP\n",
      "Adding quantity entity with 6cd0c42b-b71f-3c99-aa96-107c5310c26b: ReCiPe Midpoint (E), natural land transformation, NLTP\n",
      "Adding quantity entity with bc7c296a-bcb4-3786-b9c0-5c4c0f7e6e86: ReCiPe Midpoint (E), ozone depletion, ODPinf\n",
      "Adding quantity entity with 50794633-5310-358a-94e5-da6e255c17f4: ReCiPe Midpoint (E), particulate matter formation, PMFP\n",
      "Adding quantity entity with 991ac1c3-b8ef-34f7-b252-b105e92c8eec: ReCiPe Midpoint (E), photochemical oxidant formation, POFP\n",
      "Adding quantity entity with 7202bbb1-1cff-3b8e-ab4e-c3381d3eefbb: ReCiPe Midpoint (E), terrestrial acidification, TAP500\n",
      "Adding quantity entity with 9fccd589-20c1-3958-8f4c-e9f89dbda675: ReCiPe Midpoint (E), terrestrial ecotoxicity, TETPinf\n",
      "Adding quantity entity with fd5b3fcf-df27-32c7-a0af-fbe6e86176db: ReCiPe Midpoint (E), urban land occupation, ULOP\n",
      "Adding quantity entity with e78a1ea5-49b9-3895-b34f-7ce92625d3ba: ReCiPe Midpoint (E), water depletion, WDP\n",
      "Adding quantity entity with ed84ee88-8498-3a64-97e8-7451e1620b26: ReCiPe Midpoint (E) w/o LT, agricultural land occupation w/o LT, ALOP w/o LT\n",
      "Adding quantity entity with e52969f7-8b12-3840-9487-c874d1bc329d: ReCiPe Midpoint (E) w/o LT, climate change w/o LT, GWP500 w/o LT\n",
      "Adding quantity entity with c3674273-9e6f-387c-b58a-345bee15013c: ReCiPe Midpoint (E) w/o LT, fossil depletion w/o LT, FDP w/o LT\n",
      "Adding quantity entity with 4e9464d0-4d31-3600-9fef-d40b106ae22e: ReCiPe Midpoint (E) w/o LT, freshwater ecotoxicity w/o LT, FETPinf w/o LT\n",
      "Adding quantity entity with 935b4477-8fe0-3a69-a38f-85d554864ce6: ReCiPe Midpoint (E) w/o LT, freshwater eutrophication w/o LT, FEP w/o LT\n",
      "Adding quantity entity with b9f5ffc8-28bf-33a7-98b6-1888051a847b: ReCiPe Midpoint (E) w/o LT, human toxicity w/o LT, HTPinf w/o LT\n",
      "Adding quantity entity with 581f42d8-e6c8-3a85-84d7-ce2e13ca116d: ReCiPe Midpoint (E) w/o LT, ionising radiation w/o LT, IRP_HE w/o LT\n",
      "Adding quantity entity with 5f5b372b-4ba4-3340-8ab3-fe59c9bbb59e: ReCiPe Midpoint (E) w/o LT, marine ecotoxicity w/o LT, METPinf w/o LT\n",
      "Adding quantity entity with fe51e481-53fd-37c9-b421-5fbc7c9ddbea: ReCiPe Midpoint (E) w/o LT, marine eutrophication w/o LT, MEP w/o LT\n",
      "Adding quantity entity with 411c0cb5-9f00-3149-9cc9-ad8b19007b0b: ReCiPe Midpoint (E) w/o LT, metal depletion w/o LT, MDP w/o LT\n",
      "Adding quantity entity with c10f66fc-77ef-3fbf-8463-3d9c681544f5: ReCiPe Midpoint (E) w/o LT, natural land transformation w/o LT, NLTP w/o LT\n",
      "Adding quantity entity with 773258be-da91-37ce-a904-0ec1c575d363: ReCiPe Midpoint (E) w/o LT, ozone depletion w/o LT, ODPinf w/o LT\n",
      "Adding quantity entity with a670b586-80cc-3760-8a0b-e0fe03cf41e5: ReCiPe Midpoint (E) w/o LT, particulate matter formation w/o LT, PMFP w/o LT\n",
      "Adding quantity entity with 0073a7f6-be5f-3d84-ba3b-652795109720: ReCiPe Midpoint (E) w/o LT, photochemical oxidant formation w/o LT, POFP w/o LT\n",
      "Adding quantity entity with 9f1e9b3a-24e1-3a1c-a8ec-6841e297e97f: ReCiPe Midpoint (E) w/o LT, terrestrial acidification w/o LT, TAP500 w/o LT\n",
      "Adding quantity entity with f13d01ef-8441-3b23-9fe4-a358b5b58619: ReCiPe Midpoint (E) w/o LT, terrestrial ecotoxicity w/o LT, TETPinf w/o LT\n",
      "Adding quantity entity with 443d959c-6517-338c-88fd-2a92f72fd6d6: ReCiPe Midpoint (E) w/o LT, urban land occupation w/o LT, ULOP w/o LT\n",
      "Adding quantity entity with 71941ea3-d1d6-3979-973e-8ecca1236dd1: ReCiPe Midpoint (E) w/o LT, water depletion w/o LT, WDP w/o LT\n",
      "Adding quantity entity with 03a30696-16bc-385b-b242-174d304d1f17: ReCiPe Midpoint (H), agricultural land occupation, ALOP\n",
      "Adding quantity entity with 114f5da8-e1d5-3de7-8b2f-78ceeb86b8cf: ReCiPe Midpoint (H), climate change, GWP100\n",
      "Adding quantity entity with a71d9e8f-4ce3-3d78-a97c-0809f8d06228: ReCiPe Midpoint (H), fossil depletion, FDP\n",
      "Adding quantity entity with d6ec288e-89be-3e30-9cfd-747980609ae8: ReCiPe Midpoint (H), freshwater ecotoxicity, FETPinf\n",
      "Adding quantity entity with 1a52944e-e148-3453-bee9-ef1a5ed8581b: ReCiPe Midpoint (H), freshwater eutrophication, FEP\n",
      "Adding quantity entity with 237baea8-8e5c-39f8-8603-b5c725f4d584: ReCiPe Midpoint (H), human toxicity, HTPinf\n",
      "Adding quantity entity with 1d61be84-eced-32cf-a2d8-acfed8d45deb: ReCiPe Midpoint (H), ionising radiation, IRP_HE\n",
      "Adding quantity entity with d7465172-df7d-30ef-af1b-4e7338c73f0e: ReCiPe Midpoint (H), marine ecotoxicity, METPinf\n",
      "Adding quantity entity with 44cb3981-1059-3af7-bf75-96d708c70a42: ReCiPe Midpoint (H), marine eutrophication, MEP\n",
      "Adding quantity entity with aa3cff92-67c6-3910-8d3e-7637d3c4bfe1: ReCiPe Midpoint (H), metal depletion, MDP\n",
      "Adding quantity entity with 31f3ba16-460c-354c-a437-a85e161bae82: ReCiPe Midpoint (H), natural land transformation, NLTP\n",
      "Adding quantity entity with a84409c9-65cf-30c9-bf36-15e7c4dae98e: ReCiPe Midpoint (H), ozone depletion, ODPinf\n",
      "Adding quantity entity with 5f6a0fcf-de5c-3482-9a52-9a366cbc8f1f: ReCiPe Midpoint (H), particulate matter formation, PMFP\n",
      "Adding quantity entity with 98d1680d-71e6-3896-b121-4c65fbc3beec: ReCiPe Midpoint (H), photochemical oxidant formation, POFP\n",
      "Adding quantity entity with 071f0f4c-2ccc-3576-917e-47b5a7ba0386: ReCiPe Midpoint (H), terrestrial acidification, TAP100\n",
      "Adding quantity entity with c5afaf27-aafe-39d4-8b1c-b5d1d0694013: ReCiPe Midpoint (H), terrestrial ecotoxicity, TETPinf\n",
      "Adding quantity entity with 11de6f41-284a-3eba-871b-3e49c750951c: ReCiPe Midpoint (H), urban land occupation, ULOP\n",
      "Adding quantity entity with 56a45a42-79e3-37ef-a188-4d826b9309e2: ReCiPe Midpoint (H), water depletion, WDP\n",
      "Adding quantity entity with d65e4423-af44-38e3-a364-ebc39325d114: ReCiPe Midpoint (H) w/o LT, agricultural land occupation w/o LT, ALOP w/o LT\n",
      "Adding quantity entity with 6e9fa900-caaf-34bd-a7ec-a4b78c93d3a4: ReCiPe Midpoint (H) w/o LT, climate change w/o LT, GWP100 w/o LT\n",
      "Adding quantity entity with 9de4dd72-42e9-3b3d-b648-85f6152f0bab: ReCiPe Midpoint (H) w/o LT, fossil depletion w/o LT, FDP w/o LT\n",
      "Adding quantity entity with 2b050138-5460-363a-8558-c4134d8434ac: ReCiPe Midpoint (H) w/o LT, freshwater ecotoxicity w/o LT, FETPinf w/o LT\n",
      "Adding quantity entity with f7fbef58-f00b-34a4-8eec-90b6b726a584: ReCiPe Midpoint (H) w/o LT, freshwater eutrophication w/o LT, FEP w/o LT\n",
      "Adding quantity entity with 2479e6ee-9a82-31f8-82a8-4967cf33515c: ReCiPe Midpoint (H) w/o LT, human toxicity w/o LT, HTPinf w/o LT\n",
      "Adding quantity entity with 5f7fece8-4014-3ed7-8b80-d6c36d50b7bc: ReCiPe Midpoint (H) w/o LT, ionising radiation w/o LT, IRP_HE w/o LT\n",
      "Adding quantity entity with 0c70880b-33e0-3173-8ebf-aeebb49abf4c: ReCiPe Midpoint (H) w/o LT, marine ecotoxicity w/o LT, METPinf w/o LT\n",
      "Adding quantity entity with 3f703ce6-2209-3a70-88f8-7ff9c6e6ab27: ReCiPe Midpoint (H) w/o LT, marine eutrophication w/o LT, MEP w/o LT\n",
      "Adding quantity entity with 8b572552-d971-3f45-aedb-43746650ca42: ReCiPe Midpoint (H) w/o LT, metal depletion w/o LT, MDP w/o LT\n",
      "Adding quantity entity with 5bd20a05-75e0-30be-a083-c30d3e43f94b: ReCiPe Midpoint (H) w/o LT, natural land transformation w/o LT, NLTP w/o LT\n",
      "Adding quantity entity with 66aa6b3e-3b17-3010-971e-1490da7c4156: ReCiPe Midpoint (H) w/o LT, ozone depletion w/o LT, ODPinf w/o LT\n",
      "Adding quantity entity with fe99980e-5e78-3f8d-bac3-a760296d2c06: ReCiPe Midpoint (H) w/o LT, particulate matter formation w/o LT, PMFP w/o LT\n",
      "Adding quantity entity with 98030672-42e6-3f22-a08c-41517166924f: ReCiPe Midpoint (H) w/o LT, photochemical oxidant formation w/o LT, POFP w/o LT\n",
      "Adding quantity entity with 71d7325e-7942-3b9b-a975-74731ff071bd: ReCiPe Midpoint (H) w/o LT, terrestrial acidification w/o LT, TAP100 w/o LT\n",
      "Adding quantity entity with 20629c2a-be1c-30e8-a40e-9e568c43eb82: ReCiPe Midpoint (H) w/o LT, terrestrial ecotoxicity w/o LT, TETPinf w/o LT\n",
      "Adding quantity entity with 71a5df15-b0af-3f98-953a-ff2e9017d4ff: ReCiPe Midpoint (H) w/o LT, urban land occupation w/o LT, ULOP w/o LT\n",
      "Adding quantity entity with de6c8205-7a65-3cda-9f10-36cbf5964888: ReCiPe Midpoint (H) w/o LT, water depletion w/o LT, WDP w/o LT\n",
      "Adding quantity entity with 867ca64f-b1cf-3729-8cbd-e4be0cd8054e: ReCiPe Midpoint (I), agricultural land occupation, ALOP\n",
      "Adding quantity entity with 98676426-95b7-3abb-9f31-56eaf8a438c6: ReCiPe Midpoint (I), climate change, GWP20\n",
      "Adding quantity entity with 99a731f2-0507-389b-8f79-c4b82323a297: ReCiPe Midpoint (I), fossil depletion, FDP\n",
      "Adding quantity entity with cffa7bab-957e-31b3-9aff-04a5a501178a: ReCiPe Midpoint (I), freshwater ecotoxicity, FETP100\n",
      "Adding quantity entity with b8e568f6-62f3-3049-87ed-f325c33e78fb: ReCiPe Midpoint (I), freshwater eutrophication, FEP\n",
      "Adding quantity entity with cb0c353b-33fe-3361-9752-b6881d38869a: ReCiPe Midpoint (I), human toxicity, HTP100\n",
      "Adding quantity entity with 545c4ff3-fa9d-3764-afac-5619d58e07a2: ReCiPe Midpoint (I), ionising radiation, IRP_I\n",
      "Adding quantity entity with 1041e1b6-cf9d-31c0-8f69-dbcd775ea359: ReCiPe Midpoint (I), marine ecotoxicity, METP100\n",
      "Adding quantity entity with fc54ea31-d037-3ef1-8b59-025a8d446dc6: ReCiPe Midpoint (I), marine eutrophication, MEP\n",
      "Adding quantity entity with 19c3c3ce-15bf-3594-be81-67150e7216e5: ReCiPe Midpoint (I), metal depletion, MDP\n",
      "Adding quantity entity with 397435c4-2e6a-326e-a9c7-8cd2617278ca: ReCiPe Midpoint (I), natural land transformation, NLTP\n",
      "Adding quantity entity with c44ad837-5632-39b2-8670-98fd19b8b409: ReCiPe Midpoint (I), ozone depletion, ODPinf\n",
      "Adding quantity entity with d8f66ecb-471c-35da-9a28-021c1f5d3b0d: ReCiPe Midpoint (I), particulate matter formation, PMFP\n",
      "Adding quantity entity with 5fe4f0b2-468e-3295-abf4-5b96e4069ae1: ReCiPe Midpoint (I), photochemical oxidant formation, POFP\n",
      "Adding quantity entity with 30399618-9773-3328-9b01-476329448fd9: ReCiPe Midpoint (I), terrestrial acidification, TAP20\n",
      "Adding quantity entity with cb416001-997f-3224-99da-52e1dd22bb31: ReCiPe Midpoint (I), terrestrial ecotoxicity, TETP100\n",
      "Adding quantity entity with 46e1a34b-514d-3afe-aa36-63234a32e750: ReCiPe Midpoint (I), urban land occupation, ULOP\n",
      "Adding quantity entity with 4b3c9129-8c0f-36a3-9daa-dffa40080ac6: ReCiPe Midpoint (I), water depletion, WDP\n",
      "Adding quantity entity with 4a52c58e-ac1e-355d-8943-616858a64cab: selected LCI results, air, CO2, fossil\n",
      "Adding quantity entity with a03e33df-2d02-3624-87d4-9a69fda8d8fc: selected LCI results, air, nitrogen oxides\n",
      "Adding quantity entity with 84c70378-acb6-3073-9601-6ce00ba25049: selected LCI results, air, NMVOC\n",
      "Adding quantity entity with 2d2295a0-9ca7-32b7-8133-df3ec2900d15: selected LCI results, air, particulates, < 2.5 um\n",
      "Adding quantity entity with d3315bca-5cc8-37e8-8710-3555745256db: selected LCI results, air, sulphur dioxide\n",
      "Adding quantity entity with 04d06e5d-270a-32e0-9080-3f5d5d429973: selected LCI results, resource, land occupation\n",
      "Adding quantity entity with 79a28295-ce78-3267-9571-8266b96e1436: selected LCI results, soil, cadmium\n",
      "Adding quantity entity with 3b9e573b-6a9d-346f-9656-f141ba65a678: selected LCI results, water, BOD\n",
      "Adding quantity entity with 10314ee2-2ad9-3076-9d29-1cce57967e2e: selected LCI results, additional, air, carbon monoxide\n",
      "Adding quantity entity with ccb0ce65-3b70-399b-931a-fcd715ca257b: selected LCI results, additional, air, lead\n",
      "Adding quantity entity with 623d4d3f-54b1-3908-aee5-904c14bb25ca: selected LCI results, additional, air, methane\n",
      "Adding quantity entity with d38f6b0f-b85f-3057-8d3b-a76fa0832cd7: selected LCI results, additional, air, N20\n",
      "Adding quantity entity with 7e2532fb-7268-3308-b013-7582d89de674: selected LCI results, additional, air, particulates\n",
      "Adding quantity entity with 785e268e-ff3e-3824-881f-b6ad1e55abcd: selected LCI results, additional, air, particulates >10 um\n",
      "Adding quantity entity with b543a837-df86-35f4-96de-b96fc715fd69: selected LCI results, additional, air, particulates, >2.5 um and <10\n",
      "Adding quantity entity with 989ec4c9-46cf-3891-a95f-7a691e790e16: selected LCI results, additional, air, zinc\n",
      "Adding quantity entity with 82021c8b-3f94-3b79-826a-88d11647700b: selected LCI results, additional, air, radioactive, actinides\n",
      "Adding quantity entity with 25ae9e4c-d20e-3870-b502-a5716137684b: selected LCI results, additional, air, radioactive, aerosole\n",
      "Adding quantity entity with 7ac89ba7-4344-3d73-b2ce-d8dde94c1020: selected LCI results, additional, air, radioactive, noble gas\n",
      "Adding quantity entity with 08a280a5-2b0c-334e-95e8-b6a539d149c8: selected LCI results, additional, air, radioactive, radon (+ radium)\n",
      "Adding quantity entity with 62ddc533-d31c-313e-982d-32c8d91408f7: selected LCI results, additional, resource, carbon, biogenic, fixed\n",
      "Adding quantity entity with ceef3204-d60b-3545-90f5-e8ca9a12b1d8: selected LCI results, additional, resource, water\n",
      "Adding quantity entity with 53a074a1-545b-3451-ac73-77b19acfb421: selected LCI results, additional, total, heat, waste\n",
      "Adding quantity entity with 73beae45-b195-387b-8c81-634590f7f29a: selected LCI results, additional, total, oils, unspecified\n",
      "Adding quantity entity with 5259609f-9c0c-3839-8bf3-c06dfba7e286: selected LCI results, additional, water, radioactive, actinides\n",
      "Adding quantity entity with 2a47dc34-6cc5-31c1-9645-c8901b7e6894: selected LCI results, additional, water, radioactive, nuclides\n",
      "Adding quantity entity with 520ff952-417d-36cd-b727-4ce251ef2ec8: selected LCI results, additional, water, radioactive, radium\n",
      "Adding quantity entity with 94c3e0ef-a128-3d49-a8e0-0d16546f391a: selected LCI results, additional, water, radioactive, tritium\n",
      "Adding quantity entity with c5c7ab3b-7b0a-340d-9561-3a8b7e0d720e: TRACI, environmental impact, acidification\n",
      "Adding quantity entity with b560bf3c-8649-3fa3-97c8-df5ab830766f: TRACI, environmental impact, ecotoxicity\n",
      "Adding quantity entity with d6f4c6d2-7845-38f9-9e2f-d392da9e9f2b: TRACI, environmental impact, eutrophication\n",
      "Adding quantity entity with cc0c14d2-667f-3f40-b1c1-2947886bc03c: TRACI, environmental impact, global warming\n",
      "Adding quantity entity with b917c6be-ab06-3bf2-a77f-4f67330365e4: TRACI, environmental impact, ozone depletion\n",
      "Adding quantity entity with e9931aa2-12d1-3b9f-bdbf-363ba0f9c861: TRACI, environmental impact, photochemical oxidation\n",
      "Adding quantity entity with 12368d58-b5d8-3da0-b728-6569aadf2c8d: TRACI, human health, carcinogenics\n",
      "Adding quantity entity with ad297b58-ba9b-31d0-bff1-99b3698bb498: TRACI, human health, non-carcinogenics\n",
      "Adding quantity entity with d5fbd49c-d5f2-3601-b3a0-d8ead5cf521f: TRACI, human health, respiratory effects, average\n",
      "Adding quantity entity with 28bfd534-73bb-3727-83f6-ab9811aad8ef: USEtox, ecotoxicity, total\n",
      "Adding quantity entity with e709b2f3-3ce8-3ed4-8520-d9840eb6e134: USEtox, human toxicity, carcinogenic\n",
      "Adding quantity entity with b071c7ec-6218-3e56-a62c-889b90e08164: USEtox, human toxicity, non-carcinogenic\n",
      "Adding quantity entity with 0078db93-2587-3060-8e8c-84cad367b096: USEtox, human toxicity, total\n",
      "Adding quantity entity with d6843a42-a593-38dd-9246-12b8657cf5b4: USEtox w/o LT, ecotoxicity w/o LT, total w/o LT\n",
      "Adding quantity entity with a200d464-cfe9-3fbc-9778-b15539f8e23b: USEtox w/o LT, human toxicity w/o LT, carcinogenic w/o LT\n",
      "Adding quantity entity with 3ae8b241-8640-3a29-9edc-b60c4cc74fdf: USEtox w/o LT, human toxicity w/o LT, non-carcinogenic w/o LT\n",
      "Adding quantity entity with 5e2c1673-3001-320b-b292-895344d0c207: USEtox w/o LT, human toxicity w/o LT, total w/o LT\n"
     ]
    }
   ],
   "source": [
    "EL._create_all_quantities()"
   ]
  },
  {
   "cell_type": "code",
   "execution_count": 10,
   "metadata": {
    "collapsed": false
   },
   "outputs": [
    {
     "name": "stdout",
     "output_type": "stream",
     "text": [
      "CPU times: user 22.8 s, sys: 100 ms, total: 22.9 s\n",
      "Wall time: 22.9 s\n"
     ]
    }
   ],
   "source": [
    "%time EL._load_xl_rows()"
   ]
  },
  {
   "cell_type": "code",
   "execution_count": 11,
   "metadata": {
    "collapsed": false
   },
   "outputs": [
    {
     "data": {
      "text/plain": [
       "170915"
      ]
     },
     "execution_count": 11,
     "metadata": {},
     "output_type": "execute_result"
    }
   ],
   "source": [
    "len(EL._xl_rows)"
   ]
  },
  {
   "cell_type": "code",
   "execution_count": 12,
   "metadata": {
    "collapsed": false
   },
   "outputs": [
    {
     "name": "stdout",
     "output_type": "stream",
     "text": [
      "Adding flow entity with 0b5402d3-df93-399f-8e88-f032ff10f325: Ammonia\n",
      "Adding flow entity with bdd7a9d6-1557-3a2e-94ed-dd3b09a14546: Ammonia\n",
      "Adding flow entity with 88b39939-7951-3d33-ac2a-88f97f8391f1: Ammonia\n",
      "Adding flow entity with 8ed7fbb1-22ae-3a55-8567-d22f06b02738: Ammonia\n",
      "Adding flow entity with e80cea4c-dc01-3365-a63a-7700cde4402d: Ammonia\n",
      "Adding flow entity with b59c4154-6d6e-3175-a0e6-f0aa9ebf9ecf: Nitrogen oxides\n",
      "Adding flow entity with 7899a56c-1ac3-3871-90c0-144216094601: Nitrogen oxides\n",
      "Adding flow entity with 2af5f4c4-c17a-3242-b0e2-1897b8dfd6f3: Nitrogen oxides\n",
      "Adding flow entity with d1eb5fc2-8669-3a8f-9c4a-309136398bd2: Nitrogen oxides\n",
      "Adding flow entity with 27ea9823-d24f-3774-9874-edd9ac18769f: Nitrogen oxides\n"
     ]
    }
   ],
   "source": [
    "for row in EL._xl_rows[:10]:\n",
    "    EL._create_flow(row)"
   ]
  },
  {
   "cell_type": "code",
   "execution_count": 13,
   "metadata": {
    "collapsed": false
   },
   "outputs": [
    {
     "data": {
      "text/plain": [
       "{'CasNumber': '',\n",
       " 'Comment': '',\n",
       " 'Compartment': ['air', 'low population density, long-term'],\n",
       " 'EntityType': 'flow',\n",
       " 'Name': 'Ammonia',\n",
       " 'referenceQuantity': <lcatools.entities.LcQuantity at 0x7fb483ee9828>}"
      ]
     },
     "execution_count": 13,
     "metadata": {},
     "output_type": "execute_result"
    }
   ],
   "source": [
    "EL.flows()[0].get_signature()"
   ]
  },
  {
   "cell_type": "code",
   "execution_count": 14,
   "metadata": {
    "collapsed": true
   },
   "outputs": [],
   "source": [
    "EL._quiet=True"
   ]
  },
  {
   "cell_type": "code",
   "execution_count": 15,
   "metadata": {
    "collapsed": false
   },
   "outputs": [
    {
     "name": "stdout",
     "output_type": "stream",
     "text": [
      "0 new process entities added (0 total)\n",
      "3255 new flow entities added (3255 total)\n",
      "702 new quantity entities added (702 total)\n",
      "CPU times: user 10.6 s, sys: 50 ms, total: 10.6 s\n",
      "Wall time: 10.6 s\n"
     ]
    }
   ],
   "source": [
    "%time EL.load_all()"
   ]
  },
  {
   "cell_type": "code",
   "execution_count": 16,
   "metadata": {
    "collapsed": false
   },
   "outputs": [
    {
     "data": {
      "text/plain": [
       "170755"
      ]
     },
     "execution_count": 16,
     "metadata": {},
     "output_type": "execute_result"
    }
   ],
   "source": [
    "len(EL.characterizations())"
   ]
  },
  {
   "cell_type": "code",
   "execution_count": 17,
   "metadata": {
    "collapsed": false
   },
   "outputs": [
    {
     "data": {
      "text/plain": [
       "'e709b2f3-3ce8-3ed4-8520-d9840eb6e134'"
      ]
     },
     "execution_count": 17,
     "metadata": {},
     "output_type": "execute_result"
    }
   ],
   "source": [
    "EL.characterizations()[0].quantity.get_uuid()"
   ]
  },
  {
   "cell_type": "code",
   "execution_count": 52,
   "metadata": {
    "collapsed": true
   },
   "outputs": [],
   "source": [
    "def flows_gen():\n",
    "    for _f in EL.flows():\n",
    "        yield _f"
   ]
  },
  {
   "cell_type": "code",
   "execution_count": 53,
   "metadata": {
    "collapsed": false
   },
   "outputs": [],
   "source": [
    "flows = flows_gen()"
   ]
  },
  {
   "cell_type": "code",
   "execution_count": 69,
   "metadata": {
    "collapsed": false
   },
   "outputs": [
    {
     "name": "stdout",
     "output_type": "stream",
     "text": [
      "68\n",
      "177\n",
      "38\n",
      "23\n",
      "11\n",
      "5\n",
      "68\n",
      "63\n",
      "4\n",
      "3 loops, best of 3: 56.3 ms per loop\n"
     ]
    }
   ],
   "source": [
    "%timeit -n3 print(len(EL._characterizations.get(flow=next(flows))))"
   ]
  },
  {
   "cell_type": "code",
   "execution_count": 54,
   "metadata": {
    "collapsed": false
   },
   "outputs": [],
   "source": [
    "f = next(flows)"
   ]
  },
  {
   "cell_type": "code",
   "execution_count": 55,
   "metadata": {
    "collapsed": false
   },
   "outputs": [
    {
     "data": {
      "text/plain": [
       "<lcatools.entities.LcFlow at 0x7fb44a35ee80>"
      ]
     },
     "execution_count": 55,
     "metadata": {},
     "output_type": "execute_result"
    }
   ],
   "source": [
    "f"
   ]
  },
  {
   "cell_type": "code",
   "execution_count": 66,
   "metadata": {
    "collapsed": false
   },
   "outputs": [
    {
     "data": {
      "text/plain": [
       "1"
      ]
     },
     "execution_count": 66,
     "metadata": {},
     "output_type": "execute_result"
    }
   ],
   "source": [
    "len(EL._characterizations.get(flow=next(flows)))"
   ]
  },
  {
   "cell_type": "code",
   "execution_count": 61,
   "metadata": {
    "collapsed": false
   },
   "outputs": [
    {
     "data": {
      "text/plain": [
       "{'CasNumber': '',\n",
       " 'Comment': '',\n",
       " 'Compartment': ['air', 'non-urban air or from high stacks'],\n",
       " 'EntityType': 'flow',\n",
       " 'Name': 'Dipropylamine',\n",
       " 'referenceQuantity': <lcatools.entities.LcQuantity at 0x7fb483ee9828>}"
      ]
     },
     "execution_count": 61,
     "metadata": {},
     "output_type": "execute_result"
    }
   ],
   "source": [
    "f=next(flows)\n",
    "f.get_signature()"
   ]
  },
  {
   "cell_type": "code",
   "execution_count": 51,
   "metadata": {
    "collapsed": false
   },
   "outputs": [
    {
     "data": {
      "text/plain": [
       "3255"
      ]
     },
     "execution_count": 51,
     "metadata": {},
     "output_type": "execute_result"
    }
   ],
   "source": [
    "len([f for f in flows()])"
   ]
  },
  {
   "cell_type": "code",
   "execution_count": 71,
   "metadata": {
    "collapsed": false
   },
   "outputs": [],
   "source": [
    "cf = EL._characterizations.get(flow=next(flows))"
   ]
  },
  {
   "cell_type": "code",
   "execution_count": 72,
   "metadata": {
    "collapsed": false
   },
   "outputs": [
    {
     "data": {
      "text/plain": [
       "152"
      ]
     },
     "execution_count": 72,
     "metadata": {},
     "output_type": "execute_result"
    }
   ],
   "source": [
    "len(cf)"
   ]
  },
  {
   "cell_type": "code",
   "execution_count": 75,
   "metadata": {
    "collapsed": false
   },
   "outputs": [
    {
     "data": {
      "text/plain": [
       "{'flow': <lcatools.entities.LcFlow at 0x7fb44b5dd710>,\n",
       " 'quantity': <lcatools.entities.LcQuantity at 0x7fb483ed0470>,\n",
       " 'value': 224400.0}"
      ]
     },
     "execution_count": 75,
     "metadata": {},
     "output_type": "execute_result"
    }
   ],
   "source": [
    "cf[0].__dict__"
   ]
  },
  {
   "cell_type": "code",
   "execution_count": 79,
   "metadata": {
    "collapsed": true
   },
   "outputs": [],
   "source": [
    "def cf_str(cf):\n",
    "    return { 'flow': str(cf.flow), 'quantity': str(cf.quantity), 'value': cf.value}"
   ]
  },
  {
   "cell_type": "code",
   "execution_count": 86,
   "metadata": {
    "collapsed": false
   },
   "outputs": [
    {
     "data": {
      "text/plain": [
       "{'flow': 'Cadmium, ion [water, ground-]',\n",
       " 'quantity': 'LC quantity: ReCiPe Endpoint (H,A) w/o LT, ecosystem quality w/o LT, freshwater ecotoxicity w/o LT',\n",
       " 'value': 0.0172175497759}"
      ]
     },
     "execution_count": 86,
     "metadata": {},
     "output_type": "execute_result"
    }
   ],
   "source": [
    "cf_str(cf[2])"
   ]
  },
  {
   "cell_type": "code",
   "execution_count": 90,
   "metadata": {
    "collapsed": false
   },
   "outputs": [
    {
     "data": {
      "text/plain": [
       "dict_keys(['category', 'indicator', 'method', 'name', 'note', 'CF 3.1', 'CF 3.01', 'subcompartment', 'Known issue', 'compartment'])"
      ]
     },
     "execution_count": 90,
     "metadata": {},
     "output_type": "execute_result"
    }
   ],
   "source": [
    "cf[2].value.keys()"
   ]
  },
  {
   "cell_type": "code",
   "execution_count": 103,
   "metadata": {
    "collapsed": false
   },
   "outputs": [
    {
     "data": {
      "text/plain": [
       "'carcinogenics'"
      ]
     },
     "execution_count": 103,
     "metadata": {},
     "output_type": "execute_result"
    }
   ],
   "source": [
    "cf[3].value['indicator']"
   ]
  },
  {
   "cell_type": "code",
   "execution_count": 104,
   "metadata": {
    "collapsed": true
   },
   "outputs": [],
   "source": [
    "unique_names = set([f['Name'] for f in EL.flows()])"
   ]
  },
  {
   "cell_type": "code",
   "execution_count": 105,
   "metadata": {
    "collapsed": false
   },
   "outputs": [
    {
     "data": {
      "text/plain": [
       "984"
      ]
     },
     "execution_count": 105,
     "metadata": {},
     "output_type": "execute_result"
    }
   ],
   "source": [
    "len(unique_names)"
   ]
  },
  {
   "cell_type": "code",
   "execution_count": 107,
   "metadata": {
    "collapsed": false
   },
   "outputs": [
    {
     "data": {
      "text/plain": [
       "['Occupation, permanent crop, irrigated',\n",
       " 'Magnesite, 60% in crude ore, in ground',\n",
       " 'Chromium, 25.5% in chromite, 11.6% in crude ore, in ground',\n",
       " 'Molybdenum, 0.022% in sulfide, Mo 8.2E-3% and Cu 0.22% in crude ore, in ground',\n",
       " 'Lead-210',\n",
       " 'Copper, Cu 0.38%, in mixed ore, in ground',\n",
       " 'Prosulfuron',\n",
       " 'Transformation, to heterogeneous, agricultural',\n",
       " 'Ethane, 1,1,1,2-tetrafluoro-, HFC-134a',\n",
       " 'Transformation, from seabed, unspecified']"
      ]
     },
     "execution_count": 107,
     "metadata": {},
     "output_type": "execute_result"
    }
   ],
   "source": [
    "list(unique_names)[:10]"
   ]
  },
  {
   "cell_type": "code",
   "execution_count": 32,
   "metadata": {
    "collapsed": true
   },
   "outputs": [],
   "source": [
    "char_dict = dict()\n",
    "for i in EL.characterizations():\n",
    "    char_dict['_'.join([i.flow.get_uuid(), i.quantity.get_uuid()])] = i"
   ]
  },
  {
   "cell_type": "code",
   "execution_count": 51,
   "metadata": {
    "collapsed": false
   },
   "outputs": [],
   "source": [
    "f = EL.flows()[123]\n",
    "q = EL.quantities()[698]"
   ]
  },
  {
   "cell_type": "code",
   "execution_count": 56,
   "metadata": {
    "collapsed": false
   },
   "outputs": [
    {
     "name": "stdout",
     "output_type": "stream",
     "text": [
      "5 loops, best of 3: 77.9 ms per loop\n"
     ]
    }
   ],
   "source": [
    "%timeit -n5 [i for i in EL.characterizations() if i.flow is f and i.quantity is q]"
   ]
  },
  {
   "cell_type": "code",
   "execution_count": 55,
   "metadata": {
    "collapsed": false
   },
   "outputs": [
    {
     "name": "stdout",
     "output_type": "stream",
     "text": [
      "5 loops, best of 3: 8.03 µs per loop\n"
     ]
    }
   ],
   "source": [
    "%timeit -n5 char_dict['_'.join([f.get_uuid(), q.get_uuid()])]"
   ]
  },
  {
   "cell_type": "code",
   "execution_count": 49,
   "metadata": {
    "collapsed": false
   },
   "outputs": [
    {
     "data": {
      "text/plain": [
       "<lcatools.entities.LcQuantity at 0x7fe70b0c5828>"
      ]
     },
     "execution_count": 49,
     "metadata": {},
     "output_type": "execute_result"
    }
   ],
   "source": [
    "q"
   ]
  },
  {
   "cell_type": "code",
   "execution_count": 50,
   "metadata": {
    "collapsed": false
   },
   "outputs": [
    {
     "data": {
      "text/plain": [
       "[698]"
      ]
     },
     "execution_count": 50,
     "metadata": {},
     "output_type": "execute_result"
    }
   ],
   "source": [
    "[i for i, v in enumerate(EL.quantities()) if v is q]"
   ]
  },
  {
   "cell_type": "code",
   "execution_count": 58,
   "metadata": {
    "collapsed": false
   },
   "outputs": [],
   "source": [
    "b = [1, 2, 3, 0, 4]"
   ]
  },
  {
   "cell_type": "code",
   "execution_count": 66,
   "metadata": {
    "collapsed": false
   },
   "outputs": [],
   "source": [
    "def _to_dict(i):\n",
    "    if i == 0:\n",
    "        return None\n",
    "    return {'value': i}\n",
    "\n",
    "g =  filter(None, [_to_dict(i) for i in b])"
   ]
  },
  {
   "cell_type": "code",
   "execution_count": 68,
   "metadata": {
    "collapsed": false
   },
   "outputs": [
    {
     "ename": "TypeError",
     "evalue": "'filter' object is not callable",
     "output_type": "error",
     "traceback": [
      "\u001b[1;31m---------------------------------------------------------------------------\u001b[0m",
      "\u001b[1;31mTypeError\u001b[0m                                 Traceback (most recent call last)",
      "\u001b[1;32m<ipython-input-68-d65ffd94a45c>\u001b[0m in \u001b[0;36m<module>\u001b[1;34m()\u001b[0m\n\u001b[1;32m----> 1\u001b[1;33m \u001b[0mg\u001b[0m\u001b[1;33m(\u001b[0m\u001b[1;33m)\u001b[0m\u001b[1;33m\u001b[0m\u001b[0m\n\u001b[0m",
      "\u001b[1;31mTypeError\u001b[0m: 'filter' object is not callable"
     ]
    }
   ],
   "source": []
  },
  {
   "cell_type": "code",
   "execution_count": 17,
   "metadata": {
    "collapsed": false
   },
   "outputs": [
    {
     "name": "stdout",
     "output_type": "stream",
     "text": [
      "0 new process entities added (0 total)\n",
      "0 new flow entities added (0 total)\n",
      "702 new quantity entities added (702 total)\n"
     ]
    }
   ],
   "source": [
    "EL.check_counter()"
   ]
  },
  {
   "cell_type": "code",
   "execution_count": 24,
   "metadata": {
    "collapsed": false
   },
   "outputs": [
    {
     "data": {
      "text/plain": [
       "'points'"
      ]
     },
     "execution_count": 24,
     "metadata": {},
     "output_type": "execute_result"
    }
   ],
   "source": [
    "EL.quantities()[0]['referenceUnit'].unitstring()"
   ]
  },
  {
   "cell_type": "code",
   "execution_count": 18,
   "metadata": {
    "collapsed": false
   },
   "outputs": [
    {
     "data": {
      "text/plain": [
       "{'CF 3.01': 1.6,\n",
       " 'CF 3.1': 1.6,\n",
       " 'Change?': 'FALSE',\n",
       " 'Known issue': '',\n",
       " 'category': 'acidification potential',\n",
       " 'compartment': 'air',\n",
       " 'indicator': 'average European',\n",
       " 'method': 'CML 2001',\n",
       " 'name': 'Ammonia',\n",
       " 'note': '',\n",
       " 'subcompartment': 'low population density, long-term'}"
      ]
     },
     "execution_count": 18,
     "metadata": {},
     "output_type": "execute_result"
    }
   ],
   "source": [
    "EL._xl_rows[0]"
   ]
  },
  {
   "cell_type": "code",
   "execution_count": 17,
   "metadata": {
    "collapsed": false
   },
   "outputs": [],
   "source": [
    "f = EL.flows()[0]"
   ]
  },
  {
   "cell_type": "code",
   "execution_count": 22,
   "metadata": {
    "collapsed": false
   },
   "outputs": [
    {
     "name": "stdout",
     "output_type": "stream",
     "text": [
      "0 new process entities added (0 total)\n",
      "3245 new flow entities added (3255 total)\n",
      "0 new quantity entities added (702 total)\n"
     ]
    }
   ],
   "source": [
    "EL.load_all()"
   ]
  },
  {
   "cell_type": "code",
   "execution_count": 32,
   "metadata": {
    "collapsed": false
   },
   "outputs": [],
   "source": [
    "cf = EL.characterizations()[100000]"
   ]
  },
  {
   "cell_type": "code",
   "execution_count": 33,
   "metadata": {
    "collapsed": false
   },
   "outputs": [
    {
     "data": {
      "text/plain": [
       "{'flow': <lcatools.entities.LcFlow at 0x7fa002887f60>,\n",
       " 'quantity': <lcatools.entities.LcQuantity at 0x7fa009760208>,\n",
       " 'value': None}"
      ]
     },
     "execution_count": 33,
     "metadata": {},
     "output_type": "execute_result"
    }
   ],
   "source": [
    "cf.__dict__"
   ]
  },
  {
   "cell_type": "code",
   "execution_count": 38,
   "metadata": {
    "collapsed": false
   },
   "outputs": [],
   "source": [
    "EL.write_to_file(os.path.join(catalog_dir, 'ei_lcia.gz'), gzip=True, characterizations=False)"
   ]
  },
  {
   "cell_type": "code",
   "execution_count": 28,
   "metadata": {
    "collapsed": false
   },
   "outputs": [
    {
     "data": {
      "text/plain": [
       "{'CasNumber': '',\n",
       " 'Comment': '',\n",
       " 'Compartment': ['air', 'urban air close to ground'],\n",
       " 'EntityType': 'flow',\n",
       " 'Name': 'Cesium-137',\n",
       " 'referenceQuantity': <lcatools.entities.LcQuantity at 0x7fa009c45748>}"
      ]
     },
     "execution_count": 28,
     "metadata": {},
     "output_type": "execute_result"
    }
   ],
   "source": [
    "EL.flows()[100].get_signature()"
   ]
  }
 ],
 "metadata": {
  "kernelspec": {
   "display_name": "Python 3",
   "language": "python",
   "name": "python3"
  },
  "language_info": {
   "codemirror_mode": {
    "name": "ipython",
    "version": 3
   },
   "file_extension": ".py",
   "mimetype": "text/x-python",
   "name": "python",
   "nbconvert_exporter": "python",
   "pygments_lexer": "ipython3",
   "version": "3.5.1"
  }
 },
 "nbformat": 4,
 "nbformat_minor": 0
}
