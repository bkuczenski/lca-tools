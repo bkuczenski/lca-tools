{
 "cells": [
  {
   "cell_type": "code",
   "execution_count": 1,
   "metadata": {
    "collapsed": false
   },
   "outputs": [],
   "source": [
    "import sys\n",
    "sys.path.append('..')\n",
    "import lcatools\n",
    "from lcatools.tools import *"
   ]
  },
  {
   "cell_type": "code",
   "execution_count": 2,
   "metadata": {
    "collapsed": true
   },
   "outputs": [],
   "source": [
    "from lcatools.exchanges import Exchange"
   ]
  },
  {
   "cell_type": "code",
   "execution_count": 8,
   "metadata": {
    "collapsed": false
   },
   "outputs": [],
   "source": [
    "def catalog_name(catalog):\n",
    "    return [f for f in filter(bool, catalog.split('/'))][-1]\n",
    "\n",
    "def add_catalog_name(catalog):\n",
    "    n = catalog_name(catalog.catalog)\n",
    "    for i in catalog.archive:\n",
    "        for e in i._entities:\n",
    "            i[e]['CatalogName'] = n\n",
    "\n",
    "def add_if_absent(db, entity_list):\n",
    "    for e in entity_list:\n",
    "        if e._uuid not in db._entities:\n",
    "            db[e._uuid] = e\n",
    "\n",
    "\n",
    "def merge(db1, db2):\n",
    "    \"\"\"\n",
    "    merge contents of db2 into db1\n",
    "    \"\"\"\n",
    "    add_if_absent(db1, db2.quantities())\n",
    "    db1.check_counter('quantity')\n",
    "    add_if_absent(db1, db2.flows())\n",
    "    db1.check_counter('flow')\n",
    "    add_if_absent(db1, db2.processes())\n",
    "    db1.check_counter('process')\n",
    "    print('Before: DB1: %d exchanges' % len(db1.exchanges()))\n",
    "    print('Before: DB2: %d exchanges' % len(db2.exchanges()))\n",
    "    for x in db2.exchanges():\n",
    "        e = Exchange(process=db1[x.process._uuid], \n",
    "                    flow=db1[x.flow._uuid],\n",
    "                    direction=x.direction)\n",
    "        db1._add_exchange(e)\n",
    "    print('After:  DB1: %d exchanges' % len(db1.exchanges()))\n"
   ]
  },
  {
   "cell_type": "code",
   "execution_count": 4,
   "metadata": {
    "collapsed": true
   },
   "outputs": [],
   "source": [
    "files = gz_files('/home/b/Dropbox/py-gabi')"
   ]
  },
  {
   "cell_type": "code",
   "execution_count": 5,
   "metadata": {
    "collapsed": false
   },
   "outputs": [
    {
     "data": {
      "text/plain": [
       "['/home/b/Dropbox/py-gabi/gabi_2016_extension-database-ia-intermediates-organic.json.gz',\n",
       " '/home/b/Dropbox/py-gabi/gabi_2016_extension-database-ib-intermediates-inorganic.json.gz',\n",
       " '/home/b/Dropbox/py-gabi/gabi_2016_extension-database-ii-energy.json.gz',\n",
       " '/home/b/Dropbox/py-gabi/gabi_2016_extension-database-iii-steel.json.gz',\n",
       " '/home/b/Dropbox/py-gabi/gabi_2016_extension-database-iv-aluminium.json.gz',\n",
       " '/home/b/Dropbox/py-gabi/gabi_2016_extension-database-ix-end-of-life.json.gz',\n",
       " '/home/b/Dropbox/py-gabi/gabi_2016_extension-database-v-non-ferrous-metals.json.gz',\n",
       " '/home/b/Dropbox/py-gabi/gabi_2016_extension-database-vi-precious-metals.json.gz',\n",
       " '/home/b/Dropbox/py-gabi/gabi_2016_extension-database-vii-plastics.json.gz',\n",
       " '/home/b/Dropbox/py-gabi/gabi_2016_extension-database-viii-coatings.json.gz',\n",
       " '/home/b/Dropbox/py-gabi/gabi_2016_extension-database-xi-electronics.json.gz',\n",
       " '/home/b/Dropbox/py-gabi/gabi_2016_extension-database-xii-renewable-raw-materials.json.gz',\n",
       " '/home/b/Dropbox/py-gabi/gabi_2016_extension-database-xiii-ecoinvent-integrated.json.gz',\n",
       " '/home/b/Dropbox/py-gabi/gabi_2016_extension-database-xiv-construction-materials.json.gz',\n",
       " '/home/b/Dropbox/py-gabi/gabi_2016_extension-database-xix-bioplastics.json.gz',\n",
       " '/home/b/Dropbox/py-gabi/gabi_2016_extension-database-xv-textile-finishing.json.gz',\n",
       " '/home/b/Dropbox/py-gabi/gabi_2016_extension-database-xvi-seat-covers.json.gz',\n",
       " '/home/b/Dropbox/py-gabi/gabi_2016_extension-database-xvii-full-us.json.gz',\n",
       " '/home/b/Dropbox/py-gabi/gabi_2016_extension-database-xviii-nrel-uslci-integrated.json.gz',\n",
       " '/home/b/Dropbox/py-gabi/gabi_2016_extension-database-xx-food-feed.json.gz',\n",
       " '/home/b/Dropbox/py-gabi/gabi_2016_extension-database-xxi-india.json.gz',\n",
       " '/home/b/Dropbox/py-gabi/gabi_2016_extension-database-x-manufacturing.json.gz']"
      ]
     },
     "execution_count": 5,
     "metadata": {},
     "output_type": "execute_result"
    }
   ],
   "source": [
    "files"
   ]
  },
  {
   "cell_type": "code",
   "execution_count": 6,
   "metadata": {
    "collapsed": false
   },
   "outputs": [
    {
     "name": "stdout",
     "output_type": "stream",
     "text": [
      "Archive refers to a web address using protocol http\n",
      "Archive refers to a web address using protocol http\n",
      "Accessing remote url: http://gabi-documentation-2016.gabi-software.com/xml-data/unitgroups/93a60a57-a4c8-11da-a746-0800200c9a66.xml\n",
      "1 new quantity entities added (1 total)\n",
      "71 new flow entities added (71 total)\n",
      "152 new process entities added (152 total)\n"
     ]
    }
   ],
   "source": [
    "g = from_json(files[0])"
   ]
  },
  {
   "cell_type": "code",
   "execution_count": 9,
   "metadata": {
    "collapsed": false
   },
   "outputs": [],
   "source": [
    "add_catalog_name(g)"
   ]
  },
  {
   "cell_type": "code",
   "execution_count": 10,
   "metadata": {
    "collapsed": false
   },
   "outputs": [
    {
     "name": "stdout",
     "output_type": "stream",
     "text": [
      "Archive refers to a web address using protocol http\n",
      "Archive refers to a web address using protocol http\n",
      "Accessing remote url: http://gabi-documentation-2016.gabi-software.com/xml-data/unitgroups/93a60a57-a4c8-11da-a746-0800200c9a66.xml\n",
      "1 new quantity entities added (1 total)\n",
      "22 new flow entities added (22 total)\n",
      "77 new process entities added (77 total)\n",
      "0 new quantity entities added (1 total)\n",
      "22 new flow entities added (93 total)\n",
      "77 new process entities added (229 total)\n",
      "Before: DB1: 152 exchanges\n",
      "Before: DB2: 77 exchanges\n",
      "After:  DB1: 229 exchanges\n"
     ]
    }
   ],
   "source": [
    "g_in = from_json(files[1])\n",
    "add_catalog_name(g_in)\n",
    "merge(g.archive[0], g_in.archive[0])"
   ]
  },
  {
   "cell_type": "code",
   "execution_count": 13,
   "metadata": {
    "collapsed": false
   },
   "outputs": [
    {
     "data": {
      "text/plain": [
       "'extension-database-ib-intermediates-inorganic'"
      ]
     },
     "execution_count": 13,
     "metadata": {},
     "output_type": "execute_result"
    }
   ],
   "source": [
    "g.archive[0].processes()[227]['CatalogName']"
   ]
  },
  {
   "cell_type": "code",
   "execution_count": 16,
   "metadata": {
    "collapsed": false
   },
   "outputs": [
    {
     "name": "stdout",
     "output_type": "stream",
     "text": [
      "Merging http://www.gabi-software.com/support/gabi/gabi-database-2016-lci-documentation/extension-database-xiii-ecoinvent-integrated/...\n",
      "Archive refers to a web address using protocol http\n",
      "Archive refers to a web address using protocol http\n",
      "Accessing remote url: http://gabi-documentation-2016.gabi-software.com/xml-data/unitgroups/93a60a57-a3c8-11da-a746-0800200c9a66.xml\n",
      "Accessing remote url: http://gabi-documentation-2016.gabi-software.com/xml-data/unitgroups/3620148f-c5db-48ce-9065-a10092089aca.xml\n",
      "Accessing remote url: http://gabi-documentation-2016.gabi-software.com/xml-data/unitgroups/93a60a57-a3c8-18da-a746-0800200c9a66.xml\n",
      "Accessing remote url: http://gabi-documentation-2016.gabi-software.com/xml-data/unitgroups/838aaa22-0117-11db-92e3-0800200c9a66.xml\n",
      "Accessing remote url: http://gabi-documentation-2016.gabi-software.com/xml-data/unitgroups/93a60a57-a3c8-12da-a746-0800200c9a66.xml\n",
      "Accessing remote url: http://gabi-documentation-2016.gabi-software.com/xml-data/unitgroups/af638906-3ec7-4314-8de7-f76039f2dd01.xml\n",
      "Accessing remote url: http://gabi-documentation-2016.gabi-software.com/xml-data/unitgroups/5beb6eed-33a9-47b8-9ede-1dfe8f679159.xml\n",
      "Accessing remote url: http://gabi-documentation-2016.gabi-software.com/xml-data/unitgroups/93a60a57-a4c8-11da-a746-0800200c9a66.xml\n",
      "8 new quantity entities added (8 total)\n",
      "691 new flow entities added (691 total)\n",
      "3077 new process entities added (3077 total)\n",
      "Merging http://www.gabi-software.com/support/gabi/gabi-database-2016-lci-documentation/extension-database-xiv-construction-materials/...\n",
      "2 new quantity entities added (9 total)\n",
      "668 new flow entities added (1301 total)\n",
      "3072 new process entities added (5138 total)\n",
      "Before: DB1: 2045 exchanges\n",
      "Before: DB2: 3106 exchanges\n",
      "After:  DB1: 5146 exchanges\n",
      "Archive refers to a web address using protocol http\n",
      "Archive refers to a web address using protocol http\n",
      "Accessing remote url: http://gabi-documentation-2016.gabi-software.com/xml-data/unitgroups/93a60a57-a4c8-11da-a746-0800200c9a66.xml\n",
      "Accessing remote url: http://gabi-documentation-2016.gabi-software.com/xml-data/unitgroups/93a60a57-a3c8-11da-a746-0800200c9a66.xml\n",
      "2 new quantity entities added (2 total)\n",
      "16 new flow entities added (16 total)\n",
      "128 new process entities added (128 total)\n",
      "Merging http://www.gabi-software.com/support/gabi/gabi-database-2016-lci-documentation/extension-database-xix-bioplastics/...\n",
      "0 new quantity entities added (9 total)\n",
      "9 new flow entities added (1310 total)\n",
      "121 new process entities added (5259 total)\n",
      "Before: DB1: 5146 exchanges\n",
      "Before: DB2: 128 exchanges\n",
      "After:  DB1: 5267 exchanges\n",
      "Archive refers to a web address using protocol http\n",
      "Archive refers to a web address using protocol http\n",
      "Accessing remote url: http://gabi-documentation-2016.gabi-software.com/xml-data/unitgroups/93a60a57-a3c8-11da-a746-0800200c9a66.xml\n",
      "Accessing remote url: http://gabi-documentation-2016.gabi-software.com/xml-data/unitgroups/93a60a57-a4c8-11da-a746-0800200c9a66.xml\n",
      "2 new quantity entities added (2 total)\n",
      "63 new flow entities added (63 total)\n",
      "147 new process entities added (147 total)\n",
      "Merging http://www.gabi-software.com/support/gabi/gabi-database-2016-lci-documentation/extension-database-xv-textile-finishing/...\n",
      "0 new quantity entities added (9 total)\n",
      "50 new flow entities added (1360 total)\n",
      "136 new process entities added (5395 total)\n",
      "Before: DB1: 5267 exchanges\n",
      "Before: DB2: 147 exchanges\n",
      "After:  DB1: 5403 exchanges\n",
      "Archive refers to a web address using protocol http\n",
      "Archive refers to a web address using protocol http\n",
      "Accessing remote url: http://gabi-documentation-2016.gabi-software.com/xml-data/unitgroups/93a60a57-a3c8-11da-a746-0800200c9a66.xml\n",
      "Accessing remote url: http://gabi-documentation-2016.gabi-software.com/xml-data/unitgroups/93a60a57-a3c8-18da-a746-0800200c9a66.xml\n",
      "Accessing remote url: http://gabi-documentation-2016.gabi-software.com/xml-data/unitgroups/93a60a57-a3c8-12da-a746-0800200c9a66.xml\n",
      "Accessing remote url: http://gabi-documentation-2016.gabi-software.com/xml-data/unitgroups/93a60a57-a4c8-11da-a746-0800200c9a66.xml\n",
      "4 new quantity entities added (4 total)\n",
      "32 new flow entities added (32 total)\n",
      "47 new process entities added (47 total)\n",
      "Merging http://www.gabi-software.com/support/gabi/gabi-database-2016-lci-documentation/extension-database-xvi-seat-covers/...\n",
      "0 new quantity entities added (9 total)\n",
      "14 new flow entities added (1374 total)\n",
      "35 new process entities added (5430 total)\n",
      "Before: DB1: 5403 exchanges\n",
      "Before: DB2: 47 exchanges\n",
      "After:  DB1: 5438 exchanges\n",
      "Archive refers to a web address using protocol http\n",
      "Archive refers to a web address using protocol http\n",
      "Accessing remote url: http://gabi-documentation-2016.gabi-software.com/xml-data/unitgroups/93a60a57-a3c8-12da-a746-0800200c9a66.xml\n",
      "Accessing remote url: http://gabi-documentation-2016.gabi-software.com/xml-data/unitgroups/93a60a57-a3c8-11da-a746-0800200c9a66.xml\n",
      "Accessing remote url: http://gabi-documentation-2016.gabi-software.com/xml-data/unitgroups/46076063-39cb-4e0e-9b18-f6d04fee3f60.xml\n",
      "Accessing remote url: http://gabi-documentation-2016.gabi-software.com/xml-data/unitgroups/3620148f-c5db-48ce-9065-a10092089aca.xml\n",
      "Accessing remote url: http://gabi-documentation-2016.gabi-software.com/xml-data/unitgroups/93a60a57-a4c8-11da-a746-0800200c9a66.xml\n",
      "Accessing remote url: http://gabi-documentation-2016.gabi-software.com/xml-data/unitgroups/93a60a57-a3c8-11da-a746-0800200c9a66.xml\n",
      "Accessing remote url: http://gabi-documentation-2016.gabi-software.com/xml-data/unitgroups/af638906-3ec7-4314-8de7-f76039f2dd01.xml\n",
      "Accessing remote url: http://gabi-documentation-2016.gabi-software.com/xml-data/unitgroups/93a60a57-a3c8-18da-a746-0800200c9a66.xml\n",
      "Accessing remote url: http://gabi-documentation-2016.gabi-software.com/xml-data/unitgroups/838aaa22-0117-11db-92e3-0800200c9a66.xml\n",
      "Accessing remote url: http://gabi-documentation-2016.gabi-software.com/xml-data/unitgroups/5beb6eed-33a9-47b8-9ede-1dfe8f679159.xml\n",
      "Accessing remote url: http://gabi-documentation-2016.gabi-software.com/xml-data/unitgroups/8992910b-42c3-4cc5-96fa-66ac4ac3b6de.xml\n",
      "11 new quantity entities added (11 total)\n",
      "918 new flow entities added (918 total)\n",
      "1618 new process entities added (1618 total)\n",
      "Merging http://www.gabi-software.com/support/gabi/gabi-database-2016-lci-documentation/extension-database-xvii-full-us/...\n",
      "3 new quantity entities added (12 total)\n",
      "759 new flow entities added (2133 total)\n",
      "1459 new process entities added (6889 total)\n",
      "Before: DB1: 5438 exchanges\n",
      "Before: DB2: 1556 exchanges\n",
      "After:  DB1: 6833 exchanges\n",
      "Archive refers to a web address using protocol http\n",
      "Archive refers to a web address using protocol http\n",
      "Accessing remote url: http://gabi-documentation-2016.gabi-software.com/xml-data/unitgroups/46076063-39cb-4e0e-9b18-f6d04fee3f60.xml\n",
      "Accessing remote url: http://gabi-documentation-2016.gabi-software.com/xml-data/unitgroups/93a60a57-a3c8-11da-a746-0800200c9a66.xml\n",
      "Accessing remote url: http://gabi-documentation-2016.gabi-software.com/xml-data/unitgroups/93a60a57-a3c8-18da-a746-0800200c9a66.xml\n",
      "Accessing remote url: http://gabi-documentation-2016.gabi-software.com/xml-data/unitgroups/3620148f-c5db-48ce-9065-a10092089aca.xml\n",
      "Accessing remote url: http://gabi-documentation-2016.gabi-software.com/xml-data/unitgroups/93a60a57-a3c8-12da-a746-0800200c9a66.xml\n",
      "Accessing remote url: http://gabi-documentation-2016.gabi-software.com/xml-data/unitgroups/93a60a57-a3c8-11da-a746-0800200c9a66.xml\n",
      "Accessing remote url: http://gabi-documentation-2016.gabi-software.com/xml-data/unitgroups/af638906-3ec7-4314-8de7-f76039f2dd01.xml\n",
      "Accessing remote url: http://gabi-documentation-2016.gabi-software.com/xml-data/unitgroups/93a60a57-a4c8-11da-a746-0800200c9a66.xml\n",
      "Accessing remote url: http://gabi-documentation-2016.gabi-software.com/xml-data/unitgroups/5beb6eed-33a9-47b8-9ede-1dfe8f679159.xml\n",
      "Accessing remote url: http://gabi-documentation-2016.gabi-software.com/xml-data/unitgroups/8992910b-42c3-4cc5-96fa-66ac4ac3b6de.xml\n",
      "10 new quantity entities added (10 total)\n",
      "633 new flow entities added (633 total)\n",
      "767 new process entities added (767 total)\n",
      "Merging http://www.gabi-software.com/support/gabi/gabi-database-2016-lci-documentation/extension-database-xviii-nrel-uslci-integrated/...\n",
      "0 new quantity entities added (12 total)\n",
      "0 new flow entities added (2133 total)\n",
      "0 new process entities added (6889 total)\n",
      "Before: DB1: 6833 exchanges\n",
      "Before: DB2: 699 exchanges\n",
      "After:  DB1: 6833 exchanges\n",
      "Archive refers to a web address using protocol http\n",
      "Archive refers to a web address using protocol http\n",
      "Accessing remote url: http://gabi-documentation-2016.gabi-software.com/xml-data/unitgroups/93a60a57-a4c8-11da-a746-0800200c9a66.xml\n",
      "Accessing remote url: http://gabi-documentation-2016.gabi-software.com/xml-data/unitgroups/93a60a57-a3c8-11da-a746-0800200c9a66.xml\n",
      "2 new quantity entities added (2 total)\n",
      "158 new flow entities added (158 total)\n",
      "401 new process entities added (401 total)\n",
      "Merging http://www.gabi-software.com/support/gabi/gabi-database-2016-lci-documentation/extension-database-xx-food-feed/...\n",
      "0 new quantity entities added (12 total)\n",
      "136 new flow entities added (2269 total)\n",
      "372 new process entities added (7261 total)\n",
      "Before: DB1: 6833 exchanges\n",
      "Before: DB2: 411 exchanges\n",
      "After:  DB1: 7214 exchanges\n",
      "Archive refers to a web address using protocol http\n",
      "Archive refers to a web address using protocol http\n",
      "Accessing remote url: http://gabi-documentation-2016.gabi-software.com/xml-data/unitgroups/5beb6eed-33a9-47b8-9ede-1dfe8f679159.xml\n",
      "Accessing remote url: http://gabi-documentation-2016.gabi-software.com/xml-data/unitgroups/93a60a57-a4c8-11da-a746-0800200c9a66.xml\n",
      "Accessing remote url: http://gabi-documentation-2016.gabi-software.com/xml-data/unitgroups/93a60a57-a3c8-18da-a746-0800200c9a66.xml\n",
      "3 new quantity entities added (3 total)\n",
      "98 new flow entities added (98 total)\n",
      "133 new process entities added (133 total)\n",
      "Merging http://www.gabi-software.com/support/gabi/gabi-database-2016-lci-documentation/extension-database-xxi-india/...\n",
      "0 new quantity entities added (12 total)\n",
      "12 new flow entities added (2281 total)\n",
      "133 new process entities added (7394 total)\n",
      "Before: DB1: 7214 exchanges\n",
      "Before: DB2: 133 exchanges\n",
      "After:  DB1: 7347 exchanges\n",
      "Archive refers to a web address using protocol http\n",
      "Archive refers to a web address using protocol http\n",
      "Accessing remote url: http://gabi-documentation-2016.gabi-software.com/xml-data/unitgroups/838aaa22-0117-11db-92e3-0800200c9a66.xml\n",
      "Accessing remote url: http://gabi-documentation-2016.gabi-software.com/xml-data/unitgroups/93a60a57-a3c8-11da-a746-0800200c9a66.xml\n",
      "Accessing remote url: http://gabi-documentation-2016.gabi-software.com/xml-data/unitgroups/5beb6eed-33a9-47b8-9ede-1dfe8f679159.xml\n",
      "Accessing remote url: http://gabi-documentation-2016.gabi-software.com/xml-data/unitgroups/93a60a57-a4c8-11da-a746-0800200c9a66.xml\n",
      "4 new quantity entities added (4 total)\n",
      "35 new flow entities added (35 total)\n",
      "70 new process entities added (70 total)\n",
      "Merging http://www.gabi-software.com/support/gabi/gabi-database-2016-lci-documentation/extension-database-x-manufacturing/...\n",
      "0 new quantity entities added (12 total)\n",
      "23 new flow entities added (2304 total)\n",
      "63 new process entities added (7457 total)\n",
      "Before: DB1: 7347 exchanges\n",
      "Before: DB2: 71 exchanges\n",
      "After:  DB1: 7410 exchanges\n"
     ]
    }
   ],
   "source": [
    "for i in range(1, len(files)):\n",
    "    g_in = from_json(files[i])\n",
    "    add_catalog_name(g_in)\n",
    "    print('Merging %s...' % g_in.catalog)\n",
    "    for j in g_in.archive:\n",
    "        merge(g.archive[0], j)"
   ]
  },
  {
   "cell_type": "code",
   "execution_count": 18,
   "metadata": {
    "collapsed": false
   },
   "outputs": [],
   "source": [
    "with gzip.open('gabi-2016-all-extension-dbs.json.gz', 'wt') as fp:\n",
    "    json.dump(g.serialize(exchanges=True), fp, indent=2, sort_keys=True)"
   ]
  },
  {
   "cell_type": "code",
   "execution_count": null,
   "metadata": {
    "collapsed": true
   },
   "outputs": [],
   "source": []
  }
 ],
 "metadata": {
  "kernelspec": {
   "display_name": "Python 3",
   "language": "python",
   "name": "python3"
  },
  "language_info": {
   "codemirror_mode": {
    "name": "ipython",
    "version": 3
   },
   "file_extension": ".py",
   "mimetype": "text/x-python",
   "name": "python",
   "nbconvert_exporter": "python",
   "pygments_lexer": "ipython3",
   "version": "3.5.1"
  }
 },
 "nbformat": 4,
 "nbformat_minor": 0
}
