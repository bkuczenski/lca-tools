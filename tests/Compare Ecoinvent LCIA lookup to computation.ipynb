{
 "cells": [
  {
   "cell_type": "code",
   "execution_count": 1,
   "metadata": {
    "collapsed": false
   },
   "outputs": [],
   "source": [
    "import sys\n",
    "import os\n",
    "import re\n",
    "import json\n",
    "\n",
    "sys.path.append('../..')\n",
    "\n",
    "import lcatools\n",
    "from lcatools.foreground.manager import ForegroundManager"
   ]
  },
  {
   "cell_type": "code",
   "execution_count": 2,
   "metadata": {
    "collapsed": false
   },
   "outputs": [
    {
     "name": "stdout",
     "output_type": "stream",
     "text": [
      "ForegroundArchive archive added in position 0\n",
      "IlcdLcia archive added in position 1\n",
      "JSON archive added in position 2\n",
      "JSON archive added in position 3\n",
      "JSON archive added in position 4\n",
      "JSON archive added in position 5\n",
      "JSON archive added in position 6\n",
      "JSON archive added in position 7\n",
      "JSON archive added in position 8\n",
      "JSON archive added in position 9\n",
      "JSON archive added in position 10\n",
      "Setup Catalog and FlowDB... (0.81 s)\n",
      "Fragments loaded... (0.81 s)\n",
      "finished... (0.81 s)\n"
     ]
    }
   ],
   "source": [
    "F = ForegroundManager('foreground')"
   ]
  },
  {
   "cell_type": "code",
   "execution_count": 3,
   "metadata": {
    "collapsed": false
   },
   "outputs": [],
   "source": [
    "F.show_fragments(show_all=True)"
   ]
  },
  {
   "cell_type": "code",
   "execution_count": 4,
   "metadata": {
    "collapsed": false
   },
   "outputs": [
    {
     "name": "stdout",
     "output_type": "stream",
     "text": [
      "\n",
      "LCA Catalog with the following archives:\n",
      "X [ 0] FG     : ForegroundArchive with 24 entities at foreground\n",
      "  [ 1] ELCD   : /data/LCI/ELCD/ELCD3.2.zip\n",
      "  [ 2] LCIA   : /data/GitHub/lca-tools-datafiles/catalogs/elcd_lcia.json.gz\n",
      "  [ 3] EI-LCIA: /data/GitHub/lca-tools-datafiles/catalogs/ei_lcia.json.gz\n",
      "  [ 4] EI-U   : /data/GitHub/lca-tools-datafiles/catalogs/ecoinvent_3.2_undefined_xlsx.json.gz\n",
      "  [ 5] EI_A   : /data/GitHub/lca-tools-datafiles/catalogs/ecoinvent_3.2_apos_xlsx.json.gz\n",
      "  [ 6] EI_Q   : /data/GitHub/lca-tools-datafiles/catalogs/ecoinvent_3.2_consequential_xlsx.json.gz\n",
      "  [ 7] EI_C   : /data/GitHub/lca-tools-datafiles/catalogs/ecoinvent_3.2_cut-off_xlsx.json.gz\n",
      "  [ 8] USLCI  : /data/GitHub/lca-tools-datafiles/catalogs/uslci_ecospold.json.gz\n",
      "  [ 9] GaBi-P : /data/GitHub/lca-tools-datafiles/catalogs/gabi_2016_professional-database-2016.json.gz\n",
      "  [10] GaBi-X : /data/GitHub/lca-tools-datafiles/catalogs/gabi_2016_all-extensions.json.gz\n"
     ]
    }
   ],
   "source": [
    "F.show_all()"
   ]
  },
  {
   "cell_type": "code",
   "execution_count": 5,
   "metadata": {
    "collapsed": false
   },
   "outputs": [
    {
     "name": "stdout",
     "output_type": "stream",
     "text": [
      "Loading JSON data from /data/GitHub/lca-tools-datafiles/catalogs/ei_lcia.json.gz:\n",
      "**Upstream reference encountered: /data/LCI/Ecoinvent/3.2/undefined\n",
      "\n",
      "0 new process entities added (0 total)\n",
      "3255 new flow entities added (3255 total)\n",
      "710 new quantity entities added (710 total)\n",
      "92 unmatched flows found from source EI-LCIA... \n",
      "\n"
     ]
    }
   ],
   "source": [
    "F.load_lcia_cfs(3)"
   ]
  },
  {
   "cell_type": "code",
   "execution_count": 6,
   "metadata": {
    "collapsed": false
   },
   "outputs": [
    {
     "name": "stdout",
     "output_type": "stream",
     "text": [
      "json archive added in position 11\n"
     ]
    }
   ],
   "source": [
    "F.add_archive('/data/GitHub/lca-tools-datafiles/catalogs/elcd_lcia_all.json.gz', 'LCIA_ALL', 'json')"
   ]
  },
  {
   "cell_type": "code",
   "execution_count": 7,
   "metadata": {
    "collapsed": false
   },
   "outputs": [
    {
     "name": "stdout",
     "output_type": "stream",
     "text": [
      "Loading JSON data from /data/GitHub/lca-tools-datafiles/catalogs/elcd_lcia_all.json.gz:\n",
      "Found Extension: zip\n",
      "0 new process entities added (0 total)\n",
      "33902 new flow entities added (33902 total)\n",
      "55 new quantity entities added (55 total)\n",
      "0 unmatched flows found from source LCIA_ALL... \n",
      "\n"
     ]
    }
   ],
   "source": [
    "F.load_lcia_cfs(11)"
   ]
  },
  {
   "cell_type": "code",
   "execution_count": 8,
   "metadata": {
    "collapsed": false
   },
   "outputs": [
    {
     "name": "stdout",
     "output_type": "stream",
     "text": [
      "\n",
      "LCA Catalog with the following archives:\n",
      "X [ 0] FG      : ForegroundArchive with 24 entities at foreground\n",
      "  [ 1] ELCD    : /data/LCI/ELCD/ELCD3.2.zip\n",
      "  [ 2] LCIA    : /data/GitHub/lca-tools-datafiles/catalogs/elcd_lcia.json.gz\n",
      "X [ 3] EI-LCIA : EcoinventLcia with 3965 entities at /data/LCI/LCIA implementation v3.1 2014_08_13.xlsx\n",
      "  [ 4] EI-U    : /data/GitHub/lca-tools-datafiles/catalogs/ecoinvent_3.2_undefined_xlsx.json.gz\n",
      "  [ 5] EI_A    : /data/GitHub/lca-tools-datafiles/catalogs/ecoinvent_3.2_apos_xlsx.json.gz\n",
      "  [ 6] EI_Q    : /data/GitHub/lca-tools-datafiles/catalogs/ecoinvent_3.2_consequential_xlsx.json.gz\n",
      "  [ 7] EI_C    : /data/GitHub/lca-tools-datafiles/catalogs/ecoinvent_3.2_cut-off_xlsx.json.gz\n",
      "  [ 8] USLCI   : /data/GitHub/lca-tools-datafiles/catalogs/uslci_ecospold.json.gz\n",
      "  [ 9] GaBi-P  : /data/GitHub/lca-tools-datafiles/catalogs/gabi_2016_professional-database-2016.json.gz\n",
      "  [10] GaBi-X  : /data/GitHub/lca-tools-datafiles/catalogs/gabi_2016_all-extensions.json.gz\n",
      "X [11] LCIA_ALL: IlcdLcia with 33957 entities at /home/b/Dropbox/data/ELCD/ELCD3.2-a.zip\n"
     ]
    }
   ],
   "source": [
    "F.show_all()"
   ]
  },
  {
   "cell_type": "code",
   "execution_count": 9,
   "metadata": {
    "collapsed": false
   },
   "outputs": [
    {
     "name": "stdout",
     "output_type": "stream",
     "text": [
      "Loading JSON data from /data/GitHub/lca-tools-datafiles/catalogs/ecoinvent_3.2_apos_xlsx.json.gz:\n",
      "Loading FG from /data/LCI/Ecoinvent/3.2/current_Version_3.2_apos_ecoSpold02.zip\n",
      "Found Extension: zip\n",
      "Loading BG from /data/LCI/Ecoinvent/3.2/current_Version_3.2_apos_lcia_ecoSpold02.zip\n",
      "Found Extension: zip\n",
      "Loading LCI from /data/LCI/Ecoinvent/3.2/current_Version_3.2_apos_lci_ecoSpold02.7z\n",
      "Found Extension: 7z\n",
      "**Upstream reference encountered: /home/b/Dropbox/data/Ecoinvent/3.2/activity_overview_for_users_3.2_undefined.xlsx\n",
      "\n",
      "11420 new process entities added (11420 total)\n",
      "6767 new flow entities added (6767 total)\n",
      "718 new quantity entities added (718 total)\n"
     ]
    }
   ],
   "source": [
    "F.load('EI_A')"
   ]
  },
  {
   "cell_type": "code",
   "execution_count": 10,
   "metadata": {
    "collapsed": false
   },
   "outputs": [],
   "source": [
    "_ei_q = (F._catalog.ref(3, q) for q in F[3].lcia_methods())\n",
    "_el_q = (F._catalog.ref(11, q) for q in F[11].lcia_methods())"
   ]
  },
  {
   "cell_type": "code",
   "execution_count": 11,
   "metadata": {
    "collapsed": true
   },
   "outputs": [],
   "source": [
    "_eia_p = (F._catalog.ref('EI_A', p) for p in F['EI_A'].processes())"
   ]
  },
  {
   "cell_type": "code",
   "execution_count": 16,
   "metadata": {
    "collapsed": false
   },
   "outputs": [
    {
     "data": {
      "text/plain": [
       "'(EI_A) {p} electricity production, natural gas, conventional power plant [CN-SX]'"
      ]
     },
     "execution_count": 16,
     "metadata": {},
     "output_type": "execute_result"
    }
   ],
   "source": [
    "p = next(_eia_p)\n",
    "str(p)"
   ]
  },
  {
   "cell_type": "code",
   "execution_count": 17,
   "metadata": {
    "collapsed": false
   },
   "outputs": [
    {
     "name": "stdout",
     "output_type": "stream",
     "text": [
      "FG: electricity production, natural gas, conventional power plant [CN-SX]\n",
      "Elementary exchanges:\n",
      " Input:     [0.0709 [m3]] Water, cooling, unspecified natural origin (CAS 007732-18-5) [natural resource, in water]\n",
      "Output:     [1.17e-05 [kg]] Methane, fossil (CAS 000074-82-8) [air, non-urban air or from high stacks]\n",
      "Output:     [3.44e-09 [kg]] Chromium (CAS 007440-47-3) [air, non-urban air or from high stacks]\n",
      "Output:     [0.00024 [kg]] Carbon monoxide, fossil (CAS 000630-08-0) [air, non-urban air or from high stacks]\n",
      "Output:     [6.86e-06 [kg]] Sulfur dioxide (CAS 007446-09-5) [air, non-urban air or from high stacks]\n",
      "Output:     [3.88e-07 [kg]] Formaldehyde (CAS 000050-00-0) [air, non-urban air or from high stacks]\n",
      "Output:     [1.24e-09 [kg]] Lead (CAS 007439-92-1) [air, non-urban air or from high stacks]\n",
      "Output:     [0.00118 [m3]] Water (CAS 007732-18-5) [air, unspecified]\n",
      "Output:     [9.6e-09 [kg]] Acetaldehyde (CAS 000075-07-0) [air, non-urban air or from high stacks]\n",
      "Output:     [5.17e-09 [kg]] Nickel (CAS 007440-02-0) [air, non-urban air or from high stacks]\n",
      "Output:     [4.93e-10 [kg]] Arsenic (CAS 007440-38-2) [air, non-urban air or from high stacks]\n",
      "Output:     [9.37e-10 [kg]] Manganese (CAS 007439-96-5) [air, non-urban air or from high stacks]\n",
      "Output:     [1.92e-07 [kg]] Propionic acid (CAS 000079-09-4) [air, non-urban air or from high stacks]\n",
      "Output:     [5.89e-11 [kg]] Selenium (CAS 007782-49-2) [air, non-urban air or from high stacks]\n",
      "Output:     [1.64e-05 [kg]] Ethane (CAS 000074-84-0) [air, non-urban air or from high stacks]\n",
      "Output:     [8.46e-06 [kg]] Propane (CAS 000074-98-6) [air, non-urban air or from high stacks]\n",
      "Output:     [1.11e-05 [kg]] Butane (CAS 000106-97-8) [air, non-urban air or from high stacks]\n",
      "Output:     [0.00044 [kg]] Nitrogen oxides (CAS 011104-93-1) [air, non-urban air or from high stacks]\n",
      "Output:     [1.45e-06 [kg]] Acetic acid (CAS 000064-19-7) [air, non-urban air or from high stacks]\n",
      "Output:     [2.06e-10 [kg]] Cobalt (CAS 007440-48-4) [air, non-urban air or from high stacks]\n",
      "Output:     [1.17e-05 [kg]] Dinitrogen monoxide (CAS 010024-97-2) [air, non-urban air or from high stacks]\n",
      "Output:     [2.71e-09 [kg]] Cadmium (CAS 007440-43-9) [air, non-urban air or from high stacks]\n",
      "Output:     [8.26e-10 [kg]] Mercury (CAS 007439-97-6) [air, non-urban air or from high stacks]\n",
      "Output:     [1.08e-08 [kg]] Benzene (CAS 000071-43-2) [air, non-urban air or from high stacks]\n",
      "Output:     [0.641 [kg]] Carbon dioxide, fossil (CAS 000124-38-9) [air, non-urban air or from high stacks]\n",
      "Output:     [6.35e-12 [kg]] Benzo(a)pyrene (CAS 000050-32-8) [air, non-urban air or from high stacks]\n",
      "Output:     [2.96e-11 [kg]] Beryllium (CAS 007440-41-7) [air, non-urban air or from high stacks]\n",
      "Output:     [9.6e-08 [kg]] PAH, polycyclic aromatic hydrocarbons (CAS 130498-29-2) [air, non-urban air or from high stacks]\n",
      "Output:     [1.38e-05 [kg]] Pentane (CAS 000109-66-0) [air, non-urban air or from high stacks]\n",
      "Output:     [0.0722 [m3]] Water (CAS 007732-18-5) [water, unspecified]\n",
      "Output:     [5.89e-06 [kg]] Particulates, < 2.5 um [air, non-urban air or from high stacks]\n",
      "Output:     [9.52e-12 [kg]] Acenaphthene (CAS 000083-32-9) [air, non-urban air or from high stacks]\n",
      "Output:     [9.52e-06 [kg]] Hexane (CAS 000110-54-3) [air, non-urban air or from high stacks]\n",
      "Output:     [1.8e-08 [kg]] Toluene (CAS 000108-88-3) [air, non-urban air or from high stacks]\n"
     ]
    }
   ],
   "source": [
    "F.elementary(p)"
   ]
  },
  {
   "cell_type": "code",
   "execution_count": 28,
   "metadata": {
    "collapsed": false
   },
   "outputs": [
    {
     "data": {
      "text/plain": [
       "'(EI-LCIA) {q} IMPACT 2002+ (Endpoint), human health, respiratory effects (inorganics) [LCIA]'"
      ]
     },
     "execution_count": 28,
     "metadata": {},
     "output_type": "execute_result"
    }
   ],
   "source": [
    "q = next(_ei_q)\n",
    "str(q)"
   ]
  },
  {
   "cell_type": "code",
   "execution_count": 29,
   "metadata": {
    "collapsed": false
   },
   "outputs": [
    {
     "name": "stdout",
     "output_type": "stream",
     "text": [
      "Add to foreground: (EI-LCIA) {q} IMPACT 2002+ (Endpoint), human health, respiratory effects (inorganics) [LCIA]\n"
     ]
    }
   ],
   "source": [
    "F.add_to_foreground(q)"
   ]
  },
  {
   "cell_type": "code",
   "execution_count": 30,
   "metadata": {
    "collapsed": true
   },
   "outputs": [],
   "source": [
    "from lcatools.lcia_results import show_lcia"
   ]
  },
  {
   "cell_type": "code",
   "execution_count": 31,
   "metadata": {
    "collapsed": false
   },
   "outputs": [
    {
     "name": "stdout",
     "output_type": "stream",
     "text": [
      "FG: electricity production, natural gas, conventional power plant [CN-SX]\n",
      "All characterizations have the same value- picking first one\n",
      "LCIA Results\n",
      "------------------------------------------------------------\n",
      "0.00025349 ReCiPe Midpoint (H) w/o LT, terrestrial acidification w/o LT, TAP100 w/o LT [LCIA]\n",
      "0.00048217 ReCiPe Midpoint (H), photochemical oxidant formation, POFP [LCIA]\n",
      " 6.185e-06 IMPACT 2002+ (Endpoint), human health, respiratory effects (inorganics) [LCIA]\n"
     ]
    }
   ],
   "source": [
    "show_lcia(F.fg_lcia(p))"
   ]
  },
  {
   "cell_type": "code",
   "execution_count": 32,
   "metadata": {
    "collapsed": false
   },
   "outputs": [
    {
     "name": "stdout",
     "output_type": "stream",
     "text": [
      "Loading LCIA results from ab0e6c29-9543-4ea0-99b9-d7c05f204ad3_66c93e71-f32b-4591-901c-55395db5c132.spold\n",
      "LCIA Results\n",
      "------------------------------------------------------------\n",
      " 0.0019544 ReCiPe Midpoint (H) w/o LT, terrestrial acidification w/o LT, TAP100 w/o LT [LCIA]\n",
      " 0.0010246 ReCiPe Midpoint (H), photochemical oxidant formation, POFP [LCIA]\n",
      "2.2442e-05 IMPACT 2002+ (Endpoint), human health, respiratory effects (inorganics) [LCIA]\n"
     ]
    }
   ],
   "source": [
    "show_lcia(F.bg_lcia(p))"
   ]
  },
  {
   "cell_type": "code",
   "execution_count": 33,
   "metadata": {
    "collapsed": false
   },
   "outputs": [
    {
     "name": "stdout",
     "output_type": "stream",
     "text": [
      "Performing LCI lookup -- this is slow because of 7z\n",
      "retrieving ab0e6c29-9543-4ea0-99b9-d7c05f204ad3_66c93e71-f32b-4591-901c-55395db5c132.spold\n",
      "All characterizations have the same value- picking first one\n",
      "All characterizations have the same value- picking first one\n",
      "All characterizations have the same value- picking first one\n",
      "All characterizations have the same value- picking first one\n",
      "All characterizations have the same value- picking first one\n",
      "All characterizations have the same value- picking first one\n",
      "All characterizations have the same value- picking first one\n",
      "All characterizations have the same value- picking first one\n",
      "All characterizations have the same value- picking first one\n",
      "All characterizations have the same value- picking first one\n",
      "All characterizations have the same value- picking first one\n",
      "All characterizations have the same value- picking first one\n",
      "All characterizations have the same value- picking first one\n",
      "All characterizations have the same value- picking first one\n",
      "All characterizations have the same value- picking first one\n",
      "All characterizations have the same value- picking first one\n",
      "LCIA Results\n",
      "------------------------------------------------------------\n",
      " 0.0019544 ReCiPe Midpoint (H) w/o LT, terrestrial acidification w/o LT, TAP100 w/o LT [LCIA]\n",
      " 0.0010246 ReCiPe Midpoint (H), photochemical oxidant formation, POFP [LCIA]\n",
      "2.2442e-05 IMPACT 2002+ (Endpoint), human health, respiratory effects (inorganics) [LCIA]\n"
     ]
    }
   ],
   "source": [
    "show_lcia(F[p.index].lci_proxy(p.id).lcias([q for q in F[0].lcia_methods()], flowdb=F._flowdb))"
   ]
  }
 ],
 "metadata": {
  "kernelspec": {
   "display_name": "Python 3",
   "language": "python",
   "name": "python3"
  },
  "language_info": {
   "codemirror_mode": {
    "name": "ipython",
    "version": 3
   },
   "file_extension": ".py",
   "mimetype": "text/x-python",
   "name": "python",
   "nbconvert_exporter": "python",
   "pygments_lexer": "ipython3",
   "version": "3.5.1"
  }
 },
 "nbformat": 4,
 "nbformat_minor": 0
}
