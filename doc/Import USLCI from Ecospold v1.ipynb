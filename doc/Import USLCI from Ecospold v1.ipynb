{
 "cells": [
  {
   "cell_type": "code",
   "execution_count": 1,
   "metadata": {
    "collapsed": false
   },
   "outputs": [],
   "source": [
    "import sys\n",
    "sys.path.append('..')\n",
    "\n",
    "import lcatools\n",
    "import os"
   ]
  },
  {
   "cell_type": "code",
   "execution_count": 2,
   "metadata": {
    "collapsed": false
   },
   "outputs": [],
   "source": [
    "from lcatools.exchanges import Exchange, directions\n"
   ]
  },
  {
   "cell_type": "code",
   "execution_count": 3,
   "metadata": {
    "collapsed": false
   },
   "outputs": [],
   "source": [
    "USLCI_ZIP = os.path.join(os.path.expanduser('~'),'Dropbox', 'data', 'USLCI', 'USLCI_Processes_ecospold1.zip')\n",
    "catalog_dir = os.path.join(os.path.expanduser('~'), 'GitHub', 'lca-tools-datafiles', 'catalogs')"
   ]
  },
  {
   "cell_type": "code",
   "execution_count": 4,
   "metadata": {
    "collapsed": false
   },
   "outputs": [],
   "source": [
    "from lcatools.providers.ecospold import EcospoldV1Archive"
   ]
  },
  {
   "cell_type": "code",
   "execution_count": 5,
   "metadata": {
    "collapsed": false
   },
   "outputs": [
    {
     "name": "stdout",
     "output_type": "stream",
     "text": [
      "Found Extension: zip\n"
     ]
    }
   ],
   "source": [
    "uslci = EcospoldV1Archive(USLCI_ZIP, quiet=True, ns_uuid='a9d158e0-d48c-4427-8c55-42719e9e11cc')"
   ]
  },
  {
   "cell_type": "code",
   "execution_count": 6,
   "metadata": {
    "collapsed": false,
    "scrolled": true
   },
   "outputs": [
    {
     "name": "stdout",
     "output_type": "stream",
     "text": [
      "Loading /home/b/Dropbox/data/USLCI/USLCI_Processes_ecospold1.zip\n",
      "19 new quantity entities added (19 total)\n",
      "4176 new flow entities added (4176 total)\n",
      "701 new process entities added (701 total)\n",
      "CPU times: user 9.82 s, sys: 20 ms, total: 9.84 s\n",
      "Wall time: 9.85 s\n"
     ]
    }
   ],
   "source": [
    "%time uslci.load_all()"
   ]
  },
  {
   "cell_type": "code",
   "execution_count": 7,
   "metadata": {
    "collapsed": false
   },
   "outputs": [],
   "source": [
    "uslci.write_to_file(os.path.join(catalog_dir, 'uslci_ecospold.json.gz'), exchanges=True, gzip=True, values=True)"
   ]
  },
  {
   "cell_type": "code",
   "execution_count": 9,
   "metadata": {
    "collapsed": false
   },
   "outputs": [
    {
     "data": {
      "text/plain": [
       "13356"
      ]
     },
     "execution_count": 9,
     "metadata": {},
     "output_type": "execute_result"
    }
   ],
   "source": [
    "uslci['1de84f92-293b-3824-ab3d-1df143907299'].get_external_ref()"
   ]
  },
  {
   "cell_type": "code",
   "execution_count": 10,
   "metadata": {
    "collapsed": false
   },
   "outputs": [
    {
     "data": {
      "text/plain": [
       "UUID('1de84f92-293b-3824-ab3d-1df143907299')"
      ]
     },
     "execution_count": 10,
     "metadata": {},
     "output_type": "execute_result"
    }
   ],
   "source": [
    "uslci._key_to_id(13356)"
   ]
  },
  {
   "cell_type": "code",
   "execution_count": 11,
   "metadata": {
    "collapsed": false
   },
   "outputs": [
    {
     "data": {
      "text/plain": [
       "[{'CasNumber': '',\n",
       "  'Comment': '',\n",
       "  'Compartment': ['Chemical Manufacturing',\n",
       "   'All Other Basic Inorganic Chemical Manufacturing'],\n",
       "  'Name': 'Hydrogen, liquid, synthesis gas, at plant',\n",
       "  'characterizations': ([{'flow': 13356, 'quantity': 'kg'}],),\n",
       "  'entityId': 13356,\n",
       "  'entityType': 'flow',\n",
       "  'origin': '/home/b/Dropbox/data/USLCI/USLCI_Processes_ecospold1.zip',\n",
       "  'referenceQuantity': 'kg'}]"
      ]
     },
     "execution_count": 11,
     "metadata": {},
     "output_type": "execute_result"
    }
   ],
   "source": [
    "[f.serialize(characterizations=True) for f in uslci.flows() if f.get_external_ref() == 13356]"
   ]
  },
  {
   "cell_type": "code",
   "execution_count": 12,
   "metadata": {
    "collapsed": false
   },
   "outputs": [
    {
     "data": {
      "text/plain": [
       "{'Classifications': ['Chemical Manufacturing', 'Petrochemical Manufacturing'],\n",
       " 'Comment': 'Scrap is produced as a coproduct during this process. A mass basis was used to partition the credit for the scrap.  Complete inventory data and metadata are available in full in the final report and appendices, Cradle-to-Gate Life Cycle Inventory of Nine Plastic Resins and Four Polyurethane Precursors. This report has been extensively reviewed within Franklin Associates by Rebe Feraldi and Melissa Huff and has undergone partial critical review by ACC Plastics Division members and is available at: www.americanchemistry.com. Quantities may vary slightly between the reference to main source and this module due to rounding.  Important note: although most of the data in the US LCI database has undergone some sort of review, the database as a whole has not yet undergone a formal validation process.  Please email comments to lci@nrel.gov.',\n",
       " 'Name': 'Polyvinyl chloride, resin, at plant',\n",
       " 'SpatialScope': 'RNA',\n",
       " 'TemporalScope': 'interval(2003-01-01-07:00, 2004-01-01-07:00)',\n",
       " 'entityId': 'Polyvinyl chloride, resin, at plant',\n",
       " 'entityType': 'process',\n",
       " 'exchanges': [{'direction': 'Input', 'flow': 781},\n",
       "  {'direction': 'Input', 'flow': 783},\n",
       "  {'direction': 'Input', 'flow': 2186},\n",
       "  {'direction': 'Input', 'flow': 4834},\n",
       "  {'direction': 'Input', 'flow': 5086},\n",
       "  {'direction': 'Input', 'flow': 9194},\n",
       "  {'direction': 'Input', 'flow': 9204},\n",
       "  {'direction': 'Input', 'flow': 9206},\n",
       "  {'direction': 'Input', 'flow': 20098},\n",
       "  {'direction': 'Output', 'flow': 4717},\n",
       "  {'direction': 'Output', 'flow': 4868},\n",
       "  {'direction': 'Output', 'flow': 4874},\n",
       "  {'direction': 'Output', 'flow': 4876},\n",
       "  {'direction': 'Output', 'flow': 4886},\n",
       "  {'direction': 'Output', 'flow': 4888},\n",
       "  {'direction': 'Output', 'flow': 5727},\n",
       "  {'direction': 'Output', 'flow': 5729},\n",
       "  {'direction': 'Output', 'flow': 5851},\n",
       "  {'direction': 'Output', 'flow': 5857},\n",
       "  {'direction': 'Output', 'flow': 5859},\n",
       "  {'direction': 'Output', 'flow': 6435},\n",
       "  {'direction': 'Output', 'flow': 6801},\n",
       "  {'direction': 'Output', 'flow': 7307},\n",
       "  {'direction': 'Output', 'flow': 9210},\n",
       "  {'direction': 'Output', 'flow': 9212},\n",
       "  {'direction': 'Output', 'flow': 9214},\n",
       "  {'direction': 'Output', 'flow': 35995},\n",
       "  {'direction': 'Output', 'flow': 36233, 'isReference': True}],\n",
       " 'origin': '/home/b/Dropbox/data/USLCI/USLCI_Processes_ecospold1.zip',\n",
       " 'referenceExchange': 'Output: 36233'}"
      ]
     },
     "execution_count": 12,
     "metadata": {},
     "output_type": "execute_result"
    }
   ],
   "source": [
    "uslci.processes()[13].serialize(exchanges=True)"
   ]
  },
  {
   "cell_type": "code",
   "execution_count": 13,
   "metadata": {
    "collapsed": false
   },
   "outputs": [
    {
     "data": {
      "text/plain": [
       "'Polyvinyl chloride, resin, at plant [Chemical Manufacturing, Petrochemical Manufacturing]'"
      ]
     },
     "execution_count": 13,
     "metadata": {},
     "output_type": "execute_result"
    }
   ],
   "source": [
    "str(uslci[36233])"
   ]
  },
  {
   "cell_type": "code",
   "execution_count": 10,
   "metadata": {
    "collapsed": false
   },
   "outputs": [],
   "source": [
    "i = uslci._archive.listfiles()[0]"
   ]
  },
  {
   "cell_type": "code",
   "execution_count": 11,
   "metadata": {
    "collapsed": true
   },
   "outputs": [],
   "source": [
    "o = uslci._get_objectified_entity(i)"
   ]
  },
  {
   "cell_type": "code",
   "execution_count": 13,
   "metadata": {
    "collapsed": false
   },
   "outputs": [],
   "source": [
    "exch = o.dataset.flowData.getchildren()"
   ]
  },
  {
   "cell_type": "code",
   "execution_count": 19,
   "metadata": {
    "collapsed": false
   },
   "outputs": [
    {
     "data": {
      "text/plain": [
       "True"
      ]
     },
     "execution_count": 19,
     "metadata": {},
     "output_type": "execute_result"
    }
   ],
   "source": [
    "exch[1].get('meanVolue') is None"
   ]
  }
 ],
 "metadata": {
  "kernelspec": {
   "display_name": "Python 3",
   "language": "python",
   "name": "python3"
  },
  "language_info": {
   "codemirror_mode": {
    "name": "ipython",
    "version": 3
   },
   "file_extension": ".py",
   "mimetype": "text/x-python",
   "name": "python",
   "nbconvert_exporter": "python",
   "pygments_lexer": "ipython3",
   "version": "3.5.1"
  }
 },
 "nbformat": 4,
 "nbformat_minor": 0
}
