{
 "cells": [
  {
   "cell_type": "code",
   "execution_count": 1,
   "metadata": {
    "collapsed": false
   },
   "outputs": [],
   "source": [
    "import sys\n",
    "sys.path.append('..')\n",
    "\n",
    "import lcatools\n",
    "import os"
   ]
  },
  {
   "cell_type": "code",
   "execution_count": 2,
   "metadata": {
    "collapsed": false
   },
   "outputs": [],
   "source": [
    "from lcatools.exchanges import Exchange, directions\n"
   ]
  },
  {
   "cell_type": "code",
   "execution_count": 3,
   "metadata": {
    "collapsed": false
   },
   "outputs": [],
   "source": [
    "USLCI_ZIP = os.path.join(os.path.expanduser('~'),'Dropbox', 'data', 'USLCI', 'USLCI_Processes_ecospold1.zip')\n",
    "catalog_dir = os.path.join(os.path.expanduser('~'), 'GitHub', 'lca-tools-datafiles', 'catalogs')"
   ]
  },
  {
   "cell_type": "code",
   "execution_count": 4,
   "metadata": {
    "collapsed": false
   },
   "outputs": [],
   "source": [
    "from lcatools.providers.ecospold import EcospoldV1Archive"
   ]
  },
  {
   "cell_type": "code",
   "execution_count": 5,
   "metadata": {
    "collapsed": false
   },
   "outputs": [
    {
     "name": "stdout",
     "output_type": "stream",
     "text": [
      "Found Extension: zip\n"
     ]
    }
   ],
   "source": [
    "uslci = EcospoldV1Archive(USLCI_ZIP, quiet=True, ns_uuid='a9d158e0-d48c-4427-8c55-42719e9e11cc')"
   ]
  },
  {
   "cell_type": "code",
   "execution_count": 7,
   "metadata": {
    "collapsed": true
   },
   "outputs": [],
   "source": [
    "uslci._quiet = True"
   ]
  },
  {
   "cell_type": "code",
   "execution_count": 6,
   "metadata": {
    "collapsed": false,
    "scrolled": true
   },
   "outputs": [
    {
     "name": "stdout",
     "output_type": "stream",
     "text": [
      "Loading /home/b/Dropbox/data/USLCI/USLCI_Processes_ecospold1.zip\n",
      "19 new quantity entities added (19 total)\n",
      "4176 new flow entities added (4176 total)\n",
      "701 new process entities added (701 total)\n",
      "CPU times: user 10.6 s, sys: 30 ms, total: 10.6 s\n",
      "Wall time: 10.6 s\n"
     ]
    }
   ],
   "source": [
    "%time uslci.load_all()"
   ]
  },
  {
   "cell_type": "code",
   "execution_count": 7,
   "metadata": {
    "collapsed": false
   },
   "outputs": [],
   "source": [
    "p = uslci.processes()[13]"
   ]
  },
  {
   "cell_type": "code",
   "execution_count": 8,
   "metadata": {
    "collapsed": false
   },
   "outputs": [
    {
     "data": {
      "text/plain": [
       "[' Input: [0.281 [t*km]] Transport, train, diesel powered [Rail Transportation, Rail Transportation]',\n",
       " ' Input: [0.164 [kWh]] Electricity, at grid, US, 2008 [Utilities, Fossil Fuel Electric Power Generation]',\n",
       " ' Input: [0.00386 [t*km]] Transport, pipeline, unspecified petroleum products [Utilities, Fossil Fuel Electric Power Generation]',\n",
       " ' Input: [0.00101 [m3]] Water, process, unspecified natural origin/m3 [water, unspecified]',\n",
       " ' Input: [0.0911 [kWh]] Electricity, at cogen, for natural gas turbine [Utilities, Fossil Fuel Electric Power Generation]',\n",
       " ' Input: [0.0577 [m3]] Natural gas, combusted in industrial boiler [Utilities, Steam and Air-Conditioning Supply]',\n",
       " ' Input: [5.2e-07 [kg]] CUTOFF Disposal, solid waste, unspecified, to municipal incineration [CUTOFF Flows]',\n",
       " ' Input: [1 [kg]] Ethylene dichloride-vinyl chloride monomer, at plant [Chemical Manufacturing, Petrochemical Manufacturing]',\n",
       " ' Input: [0.00109 [kg]] CUTOFF Disposal, solid waste, unspecified, to sanitary landfill [CUTOFF Flows]',\n",
       " 'Output: [9.9e-08 [kg]] Phenol compounds, unspecified [water, unspecified]',\n",
       " 'Output: [3.9e-05 [kg]] Organic substances, unspecified [air, unspecified]',\n",
       " 'Output: [1e-06 [kg]] Ammonia [water, unspecified]',\n",
       " 'Output: [8.7e-05 [kg]] Particulates, unspecified [air, unspecified]',\n",
       " 'Output: [1e-07 [kg]] Zinc [water, unspecified]',\n",
       " 'Output: [3.15e-05 [kg]] Ethene, chloro- [air, unspecified]',\n",
       " 'Output: [8.67e-13 [kg]] Dioxins, measured as 2,3,7,8-tetrachlorodibenzo-p-dioxin [water, unspecified]',\n",
       " 'Output: [2.15e-13 [kg]] Dioxins, measured as 2,3,7,8-tetrachlorodibenzo-p-dioxin [air, unspecified]',\n",
       " 'Output: [1e-07 [kg]] Hydrogen Chloride [air, unspecified]',\n",
       " 'Output: [1e-05 [kg]] Nitrates [water, unspecified]',\n",
       " 'Output: [0.00016 [kg]] Suspended solids, unspecified [water, unspecified]',\n",
       " 'Output: [1e-06 [kg]] Methane, difluromonochloro-, HCFC-22 [air, unspecified]',\n",
       " 'Output: [1e-09 [kg]] Cyanide [water, unspecified]',\n",
       " 'Output: [1 [kg]] Polyvinyl chloride, resin, at plant [Chemical Manufacturing, Petrochemical Manufacturing]',\n",
       " 'Output: [1e-07 [kg]] Chromium, unspecified [water, unspecified]',\n",
       " 'Output: [6.8e-05 [kg]] COD, Chemical Oxygen Demand [water, unspecified]',\n",
       " 'Output: [1.2e-05 [kg]] BOD5, Biological Oxygen Demand [water, unspecified]',\n",
       " 'Output: [1e-06 [kg]] Oil and grease, unspecified [water, unspecified]',\n",
       " 'Output: [1e-05 [kg]] Chlorine [air, unspecified]']"
      ]
     },
     "execution_count": 8,
     "metadata": {},
     "output_type": "execute_result"
    }
   ],
   "source": [
    "[str(x) for x in p.exchanges()]"
   ]
  },
  {
   "cell_type": "code",
   "execution_count": 9,
   "metadata": {
    "collapsed": false
   },
   "outputs": [],
   "source": [
    "uslci.write_to_file(os.path.join(catalog_dir, 'uslci_ecospold.json.gz'), exchanges=True, gzip=True, values=True)"
   ]
  },
  {
   "cell_type": "code",
   "execution_count": 10,
   "metadata": {
    "collapsed": false
   },
   "outputs": [
    {
     "data": {
      "text/plain": [
       "13356"
      ]
     },
     "execution_count": 10,
     "metadata": {},
     "output_type": "execute_result"
    }
   ],
   "source": [
    "uslci['1de84f92-293b-3824-ab3d-1df143907299'].get_external_ref()"
   ]
  },
  {
   "cell_type": "code",
   "execution_count": 11,
   "metadata": {
    "collapsed": false
   },
   "outputs": [
    {
     "data": {
      "text/plain": [
       "UUID('1de84f92-293b-3824-ab3d-1df143907299')"
      ]
     },
     "execution_count": 11,
     "metadata": {},
     "output_type": "execute_result"
    }
   ],
   "source": [
    "uslci._key_to_id(13356)"
   ]
  },
  {
   "cell_type": "code",
   "execution_count": 12,
   "metadata": {
    "collapsed": false
   },
   "outputs": [
    {
     "data": {
      "text/plain": [
       "[{'CasNumber': '',\n",
       "  'Comment': '',\n",
       "  'Compartment': ['Chemical Manufacturing',\n",
       "   'All Other Basic Inorganic Chemical Manufacturing'],\n",
       "  'Name': 'Hydrogen, liquid, synthesis gas, at plant',\n",
       "  'characterizations': [{'isReference': True,\n",
       "    'quantity': 'bbe8f43d-c141-3e21-b8c2-3ba1ce556ad0'}],\n",
       "  'entityId': '1de84f92-293b-3824-ab3d-1df143907299',\n",
       "  'entityType': 'flow',\n",
       "  'externalId': 13356,\n",
       "  'origin': '/home/b/Dropbox/data/USLCI/USLCI_Processes_ecospold1.zip'}]"
      ]
     },
     "execution_count": 12,
     "metadata": {},
     "output_type": "execute_result"
    }
   ],
   "source": [
    "[f.serialize(characterizations=True) for f in uslci.flows() if f.get_external_ref() == 13356]"
   ]
  },
  {
   "cell_type": "code",
   "execution_count": 13,
   "metadata": {
    "collapsed": false
   },
   "outputs": [
    {
     "data": {
      "text/plain": [
       "{'Classifications': ['Chemical Manufacturing', 'Petrochemical Manufacturing'],\n",
       " 'Comment': 'Scrap is produced as a coproduct during this process. A mass basis was used to partition the credit for the scrap.  Complete inventory data and metadata are available in full in the final report and appendices, Cradle-to-Gate Life Cycle Inventory of Nine Plastic Resins and Four Polyurethane Precursors. This report has been extensively reviewed within Franklin Associates by Rebe Feraldi and Melissa Huff and has undergone partial critical review by ACC Plastics Division members and is available at: www.americanchemistry.com. Quantities may vary slightly between the reference to main source and this module due to rounding.  Important note: although most of the data in the US LCI database has undergone some sort of review, the database as a whole has not yet undergone a formal validation process.  Please email comments to lci@nrel.gov.',\n",
       " 'Name': 'Polyvinyl chloride, resin, at plant',\n",
       " 'SpatialScope': 'RNA',\n",
       " 'TemporalScope': {'begin': '2003-01-01-07:00', 'end': '2004-01-01-07:00'},\n",
       " 'entityId': 'dfa3c277-39b0-3a92-a891-ce75b7f0cbaf',\n",
       " 'entityType': 'process',\n",
       " 'exchanges': [{'direction': 'Input',\n",
       "   'flow': '0491cd8b-359d-3e46-a0d2-2d65f66b17c1',\n",
       "   'value': 1.001},\n",
       "  {'direction': 'Input',\n",
       "   'flow': '0d9db990-e9d5-3e59-b484-56f512816098',\n",
       "   'value': 0.16402},\n",
       "  {'direction': 'Input',\n",
       "   'flow': '25d3acbf-467a-3de6-b296-32b9f8dfe4de',\n",
       "   'value': 0.0038603},\n",
       "  {'direction': 'Input',\n",
       "   'flow': '284f5c89-bab3-30a9-ac70-ea9ac8485fee',\n",
       "   'value': 0.091116},\n",
       "  {'direction': 'Input',\n",
       "   'flow': '38d552b6-1f73-3da3-9c48-f0f1e3e4d4a1',\n",
       "   'value': 0.0010096},\n",
       "  {'direction': 'Input',\n",
       "   'flow': '98bf3c4a-6620-356a-ac49-c1020a130ea5',\n",
       "   'value': 0.00109},\n",
       "  {'direction': 'Input',\n",
       "   'flow': 'c6788794-9e74-32ad-aac0-e83d2585ffb6',\n",
       "   'value': 5.2e-07},\n",
       "  {'direction': 'Input',\n",
       "   'flow': 'cc17485c-0522-3a4c-9e0e-2c7e07c6d0e1',\n",
       "   'value': 0.057745},\n",
       "  {'direction': 'Input',\n",
       "   'flow': 'd52bbe64-4d4b-3d2a-883b-2015d4ebe138',\n",
       "   'value': 0.28059},\n",
       "  {'direction': 'Output',\n",
       "   'flow': '012aefdd-b450-3ab1-9ce2-e32d1a5ca213',\n",
       "   'value': 1e-05},\n",
       "  {'direction': 'Output',\n",
       "   'flow': '077d4f8e-b8f3-3374-90f5-2a56ecf9b9e4',\n",
       "   'value': 1e-07},\n",
       "  {'direction': 'Output',\n",
       "   'flow': '0e0c8f43-918e-314a-a682-cb128918c808',\n",
       "   'value': 2.15e-13},\n",
       "  {'direction': 'Output',\n",
       "   'flow': '12e8ce9a-47a4-3337-a74a-7cc8d2509aac',\n",
       "   'value': 1e-07},\n",
       "  {'direction': 'Output',\n",
       "   'flow': '2df88977-2e90-381e-870f-5e4ff7b2c0c9',\n",
       "   'value': 9.9e-08},\n",
       "  {'direction': 'Output',\n",
       "   'flow': '3423be2a-43be-3888-b7e0-1ca86c73b719',\n",
       "   'value': 1e-09},\n",
       "  {'direction': 'Output',\n",
       "   'flow': '3743620c-cd9b-388e-9454-3fec9b18b2f2',\n",
       "   'value': 1e-05},\n",
       "  {'direction': 'Output',\n",
       "   'flow': '4f928d4f-fb1c-3462-a708-5af43b92f061',\n",
       "   'value': 8.67e-13},\n",
       "  {'direction': 'Output',\n",
       "   'flow': '517c7fbf-63eb-307a-ab52-51f7175544af',\n",
       "   'value': 1e-06},\n",
       "  {'direction': 'Output',\n",
       "   'flow': '62570d25-838a-38d2-83c7-730fca58218e',\n",
       "   'value': 8.7e-05},\n",
       "  {'direction': 'Output',\n",
       "   'flow': '6c85ea27-e5a8-344c-ace1-b03be658546b',\n",
       "   'value': 1e-06},\n",
       "  {'direction': 'Output',\n",
       "   'flow': '90a1e332-4b17-39a8-a50a-54d83e8b7b30',\n",
       "   'isReference': True,\n",
       "   'value': 1.0},\n",
       "  {'direction': 'Output',\n",
       "   'flow': 'abd8d8e7-3392-3dea-834d-84f794db07a3',\n",
       "   'value': 1e-07},\n",
       "  {'direction': 'Output',\n",
       "   'flow': 'c171e977-f3c5-3825-b889-0ede818a2aff',\n",
       "   'value': 0.00016},\n",
       "  {'direction': 'Output',\n",
       "   'flow': 'ce5a679b-0099-34ce-bdeb-5709cab6b3ca',\n",
       "   'value': 3.9e-05},\n",
       "  {'direction': 'Output',\n",
       "   'flow': 'db1aa4bb-498f-3cb9-9cb6-e53e953d9a35',\n",
       "   'value': 1.2e-05},\n",
       "  {'direction': 'Output',\n",
       "   'flow': 'e48d1c77-0fac-3e07-97b0-9e0bfa6c19b1',\n",
       "   'value': 1e-06},\n",
       "  {'direction': 'Output',\n",
       "   'flow': 'e80832f9-60f7-3201-b66f-03976eec7bf8',\n",
       "   'value': 3.15e-05},\n",
       "  {'direction': 'Output',\n",
       "   'flow': 'f2ca9a2e-c16d-3a93-a414-c4ec0e623928',\n",
       "   'value': 6.8e-05}],\n",
       " 'externalId': 'Polyvinyl chloride, resin, at plant',\n",
       " 'origin': '/home/b/Dropbox/data/USLCI/USLCI_Processes_ecospold1.zip'}"
      ]
     },
     "execution_count": 13,
     "metadata": {},
     "output_type": "execute_result"
    }
   ],
   "source": [
    "uslci.processes()[13].serialize(exchanges=True, values=True)"
   ]
  },
  {
   "cell_type": "code",
   "execution_count": 14,
   "metadata": {
    "collapsed": false
   },
   "outputs": [
    {
     "data": {
      "text/plain": [
       "'Polyvinyl chloride, resin, at plant [Chemical Manufacturing, Petrochemical Manufacturing]'"
      ]
     },
     "execution_count": 14,
     "metadata": {},
     "output_type": "execute_result"
    }
   ],
   "source": [
    "str(uslci[36233])"
   ]
  }
 ],
 "metadata": {
  "kernelspec": {
   "display_name": "Python 3",
   "language": "python",
   "name": "python3"
  },
  "language_info": {
   "codemirror_mode": {
    "name": "ipython",
    "version": 3
   },
   "file_extension": ".py",
   "mimetype": "text/x-python",
   "name": "python",
   "nbconvert_exporter": "python",
   "pygments_lexer": "ipython3",
   "version": "3.5.1"
  }
 },
 "nbformat": 4,
 "nbformat_minor": 0
}
