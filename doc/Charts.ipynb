{
 "cells": [
  {
   "cell_type": "code",
   "execution_count": null,
   "metadata": {
    "collapsed": true
   },
   "outputs": [],
   "source": [
    "with open(\"somefile.py\") as f:\n",
    "    code = compile(f.read(), \"somefile.py\", 'exec')\n",
    "    exec(code, global_vars, local_vars)"
   ]
  },
  {
   "cell_type": "code",
   "execution_count": 13,
   "metadata": {
    "collapsed": false
   },
   "outputs": [],
   "source": [
    "from __future__ import division\n",
    "import colorsys\n",
    "import matplotlib.pyplot as plt\n",
    "%matplotlib inline"
   ]
  },
  {
   "cell_type": "code",
   "execution_count": 14,
   "metadata": {
    "collapsed": true
   },
   "outputs": [],
   "source": [
    "def linspace(a, b, num):\n",
    "    dif = float(b - a) / (num - 1)\n",
    "    for i in range(num - 1):\n",
    "        yield a\n",
    "        a += dif\n",
    "    yield b\n"
   ]
  },
  {
   "cell_type": "code",
   "execution_count": 168,
   "metadata": {
    "collapsed": true
   },
   "outputs": [],
   "source": [
    "\n",
    "def color_range(num, hue, sat=0.5):\n",
    "    \"\"\"\n",
    "    Generator for a series of num RGB tuples, derived from the color provided in hue.  \n",
    "    If hue is a 2-tuple, provides a gradation from [0] to [1]. Uses either hsv or hsl to rgb.\n",
    "    \"\"\"\n",
    "    if not isinstance(hue, tuple):\n",
    "        hue = (hue, hue)\n",
    "    h = linspace(hue[0], hue[1], num)\n",
    "    v = linspace(0.95, 0.45, num)\n",
    "    for i in range(num):\n",
    "        yield colorsys.hsv_to_rgb(next(h), sat, next(v))"
   ]
  },
  {
   "cell_type": "code",
   "execution_count": 170,
   "metadata": {
    "collapsed": false
   },
   "outputs": [],
   "source": [
    "def create_fig(num_bars):\n",
    "    fig = plt.figure(figsize=(15, (num_bars + 1) * 0.6))\n",
    "    ax = fig.add_subplot(111)\n",
    "    return ax\n",
    "\n",
    "def _label_bar(patch, label, format='%6.3g'):\n",
    "    bl = patch.get_xy()\n",
    "    x = 0.5 * patch.get_width() + bl[0]\n",
    "    y = 0.5 * patch.get_height() + bl[1]\n",
    "    patch.axes.text(x, y, format % label, ha='center')\n",
    "    \n",
    "\n",
    "def draw_bar(ax, data, hue, title='blurg', units='-'):\n",
    "    \n",
    "    patch_handles = []\n",
    "    left = 0.0\n",
    "    colors = color_range(len(data), hue)\n",
    "    ax.spines['top'].set_visible(False)\n",
    "    ax.spines['bottom'].set_visible(False)    \n",
    "    ax.spines['left'].set_visible(False)\n",
    "    ax.spines['right'].set_visible(False)\n",
    "    for d in data:\n",
    "        patch = ax.barh(1, d, color=next(colors), align='center', left=left, height=0.6)\n",
    "        patch_handles.append(patch)\n",
    "        _label_bar(patch[0], d)\n",
    "        left += d\n",
    "        \n",
    "    ax.set_yticks([1])\n",
    "    ax.set_xlabel(title)\n",
    "    ax.set_xlim(0, left * 1.08)\n",
    "    ax.text(left, 1, '%6.3g [%s]' % (left, units), ha='left', fontsize=16, fontweight='bold')\n",
    "    \n",
    "    ax.legend(['voo', 'bar','baz', 'q'], loc='upper left', bbox_to_anchor=(0, -0.2))\n",
    "    \n",
    "    return patch_handles"
   ]
  },
  {
   "cell_type": "code",
   "execution_count": 156,
   "metadata": {
    "collapsed": false
   },
   "outputs": [
    {
     "name": "stdout",
     "output_type": "stream",
     "text": [
      "Help on method legend in module matplotlib.axes._axes:\n",
      "\n",
      "legend(*args, **kwargs) method of matplotlib.axes._subplots.AxesSubplot instance\n",
      "    Places a legend on the axes.\n",
      "    \n",
      "    To make a legend for lines which already exist on the axes\n",
      "    (via plot for instance), simply call this function with an iterable\n",
      "    of strings, one for each legend item. For example::\n",
      "    \n",
      "        ax.plot([1, 2, 3])\n",
      "        ax.legend(['A simple line'])\n",
      "    \n",
      "    However, in order to keep the \"label\" and the legend element\n",
      "    instance together, it is preferable to specify the label either at\n",
      "    artist creation, or by calling the\n",
      "    :meth:`~matplotlib.artist.Artist.set_label` method on the artist::\n",
      "    \n",
      "        line, = ax.plot([1, 2, 3], label='Inline label')\n",
      "        # Overwrite the label by calling the method.\n",
      "        line.set_label('Label via method')\n",
      "        ax.legend()\n",
      "    \n",
      "    Specific lines can be excluded from the automatic legend element\n",
      "    selection by defining a label starting with an underscore.\n",
      "    This is default for all artists, so calling :meth:`legend` without\n",
      "    any arguments and without setting the labels manually will result in\n",
      "    no legend being drawn.\n",
      "    \n",
      "    For full control of which artists have a legend entry, it is possible\n",
      "    to pass an iterable of legend artists followed by an iterable of\n",
      "    legend labels respectively::\n",
      "    \n",
      "       legend((line1, line2, line3), ('label1', 'label2', 'label3'))\n",
      "    \n",
      "    Parameters\n",
      "    ----------\n",
      "    loc : int or string or pair of floats, default: 'upper right'\n",
      "        The location of the legend. Possible codes are:\n",
      "    \n",
      "            ===============   =============\n",
      "            Location String   Location Code\n",
      "            ===============   =============\n",
      "            'best'            0\n",
      "            'upper right'     1\n",
      "            'upper left'      2\n",
      "            'lower left'      3\n",
      "            'lower right'     4\n",
      "            'right'           5\n",
      "            'center left'     6\n",
      "            'center right'    7\n",
      "            'lower center'    8\n",
      "            'upper center'    9\n",
      "            'center'          10\n",
      "            ===============   =============\n",
      "    \n",
      "    \n",
      "        Alternatively can be a 2-tuple giving ``x, y`` of the lower-left\n",
      "        corner of the legend in axes coordinates (in which case\n",
      "        ``bbox_to_anchor`` will be ignored).\n",
      "    \n",
      "    bbox_to_anchor : :class:`matplotlib.transforms.BboxBase` instance                          or tuple of floats\n",
      "        Specify any arbitrary location for the legend in `bbox_transform`\n",
      "        coordinates (default Axes coordinates).\n",
      "    \n",
      "        For example, to put the legend's upper right hand corner in the\n",
      "        center of the axes the following keywords can be used::\n",
      "    \n",
      "           loc='upper right', bbox_to_anchor=(0.5, 0.5)\n",
      "    \n",
      "    ncol : integer\n",
      "        The number of columns that the legend has. Default is 1.\n",
      "    \n",
      "    prop : None or :class:`matplotlib.font_manager.FontProperties` or dict\n",
      "        The font properties of the legend. If None (default), the current\n",
      "        :data:`matplotlib.rcParams` will be used.\n",
      "    \n",
      "    fontsize : int or float or {'xx-small', 'x-small', 'small', 'medium',                   'large', 'x-large', 'xx-large'}\n",
      "        Controls the font size of the legend. If the value is numeric the\n",
      "        size will be the absolute font size in points. String values are\n",
      "        relative to the current default font size. This argument is only\n",
      "        used if `prop` is not specified.\n",
      "    \n",
      "    numpoints : None or int\n",
      "        The number of marker points in the legend when creating a legend\n",
      "        entry for a line/:class:`matplotlib.lines.Line2D`.\n",
      "        Default is ``None`` which will take the value from the\n",
      "        ``legend.numpoints`` :data:`rcParam<matplotlib.rcParams>`.\n",
      "    \n",
      "    scatterpoints : None or int\n",
      "        The number of marker points in the legend when creating a legend\n",
      "        entry for a scatter plot/\n",
      "        :class:`matplotlib.collections.PathCollection`.\n",
      "        Default is ``None`` which will take the value from the\n",
      "        ``legend.scatterpoints`` :data:`rcParam<matplotlib.rcParams>`.\n",
      "    \n",
      "    scatteryoffsets : iterable of floats\n",
      "        The vertical offset (relative to the font size) for the markers\n",
      "        created for a scatter plot legend entry. 0.0 is at the base the\n",
      "        legend text, and 1.0 is at the top. To draw all markers at the\n",
      "        same height, set to ``[0.5]``. Default ``[0.375, 0.5, 0.3125]``.\n",
      "    \n",
      "    markerscale : None or int or float\n",
      "        The relative size of legend markers compared with the originally\n",
      "        drawn ones. Default is ``None`` which will take the value from\n",
      "        the ``legend.markerscale`` :data:`rcParam <matplotlib.rcParams>`.\n",
      "    \n",
      "    *markerfirst*: [ *True* | *False* ]\n",
      "        if *True*, legend marker is placed to the left of the legend label\n",
      "        if *False*, legend marker is placed to the right of the legend\n",
      "        label\n",
      "    \n",
      "    frameon : None or bool\n",
      "        Control whether a frame should be drawn around the legend.\n",
      "        Default is ``None`` which will take the value from the\n",
      "        ``legend.frameon`` :data:`rcParam<matplotlib.rcParams>`.\n",
      "    \n",
      "    fancybox : None or bool\n",
      "        Control whether round edges should be enabled around\n",
      "        the :class:`~matplotlib.patches.FancyBboxPatch` which\n",
      "        makes up the legend's background.\n",
      "        Default is ``None`` which will take the value from the\n",
      "        ``legend.fancybox`` :data:`rcParam<matplotlib.rcParams>`.\n",
      "    \n",
      "    shadow : None or bool\n",
      "        Control whether to draw a shadow behind the legend.\n",
      "        Default is ``None`` which will take the value from the\n",
      "        ``legend.shadow`` :data:`rcParam<matplotlib.rcParams>`.\n",
      "    \n",
      "    framealpha : None or float\n",
      "        Control the alpha transparency of the legend's frame.\n",
      "        Default is ``None`` which will take the value from the\n",
      "        ``legend.framealpha`` :data:`rcParam<matplotlib.rcParams>`.\n",
      "    \n",
      "    mode : {\"expand\", None}\n",
      "        If `mode` is set to ``\"expand\"`` the legend will be horizontally\n",
      "        expanded to fill the axes area (or `bbox_to_anchor` if defines\n",
      "        the legend's size).\n",
      "    \n",
      "    bbox_transform : None or :class:`matplotlib.transforms.Transform`\n",
      "        The transform for the bounding box (`bbox_to_anchor`). For a value\n",
      "        of ``None`` (default) the Axes'\n",
      "        :data:`~matplotlib.axes.Axes.transAxes` transform will be used.\n",
      "    \n",
      "    title : str or None\n",
      "        The legend's title. Default is no title (``None``).\n",
      "    \n",
      "    borderpad : float or None\n",
      "        The fractional whitespace inside the legend border.\n",
      "        Measured in font-size units.\n",
      "        Default is ``None`` which will take the value from the\n",
      "        ``legend.borderpad`` :data:`rcParam<matplotlib.rcParams>`.\n",
      "    \n",
      "    labelspacing : float or None\n",
      "        The vertical space between the legend entries.\n",
      "        Measured in font-size units.\n",
      "        Default is ``None`` which will take the value from the\n",
      "        ``legend.labelspacing`` :data:`rcParam<matplotlib.rcParams>`.\n",
      "    \n",
      "    handlelength : float or None\n",
      "        The length of the legend handles.\n",
      "        Measured in font-size units.\n",
      "        Default is ``None`` which will take the value from the\n",
      "        ``legend.handlelength`` :data:`rcParam<matplotlib.rcParams>`.\n",
      "    \n",
      "    handletextpad : float or None\n",
      "        The pad between the legend handle and text.\n",
      "        Measured in font-size units.\n",
      "        Default is ``None`` which will take the value from the\n",
      "        ``legend.handletextpad`` :data:`rcParam<matplotlib.rcParams>`.\n",
      "    \n",
      "    borderaxespad : float or None\n",
      "        The pad between the axes and legend border.\n",
      "        Measured in font-size units.\n",
      "        Default is ``None`` which will take the value from the\n",
      "        ``legend.borderaxespad`` :data:`rcParam<matplotlib.rcParams>`.\n",
      "    \n",
      "    columnspacing : float or None\n",
      "        The spacing between columns.\n",
      "        Measured in font-size units.\n",
      "        Default is ``None`` which will take the value from the\n",
      "        ``legend.columnspacing`` :data:`rcParam<matplotlib.rcParams>`.\n",
      "    \n",
      "    handler_map : dict or None\n",
      "        The custom dictionary mapping instances or types to a legend\n",
      "        handler. This `handler_map` updates the default handler map\n",
      "        found at :func:`matplotlib.legend.Legend.get_legend_handler_map`.\n",
      "    \n",
      "    Notes\n",
      "    -----\n",
      "    \n",
      "    Not all kinds of artist are supported by the legend command.\n",
      "    See :ref:`plotting-guide-legend` for details.\n",
      "    \n",
      "    Examples\n",
      "    --------\n",
      "    \n",
      "    .. plot:: mpl_examples/api/legend_demo.py\n",
      "\n"
     ]
    }
   ],
   "source": [
    "help(f.legend)"
   ]
  },
  {
   "cell_type": "code",
   "execution_count": 172,
   "metadata": {
    "collapsed": false
   },
   "outputs": [
    {
     "data": {
      "image/png": "[encoded data removed]",
      "text/plain": [
       "<matplotlib.figure.Figure at 0x7fa1ad090f60>"
      ]
     },
     "metadata": {},
     "output_type": "display_data"
    },
    {
     "data": {
      "image/png": "[encoded data removed]",
      "text/plain": [
       "<matplotlib.figure.Figure at 0x7fa1ad090ac8>"
      ]
     },
     "metadata": {},
     "output_type": "display_data"
    }
   ],
   "source": [
    "\n",
    "f1 = create_fig(1)\n",
    "f2 = create_fig(1)\n",
    "draw_bar(f2, [4, 5, 6, 7], .2)\n",
    "ph = draw_bar(f1, [1, 2, 1.1, 3], (.2, .18), units='kg')\n",
    "plt.show()"
   ]
  },
  {
   "cell_type": "code",
   "execution_count": 130,
   "metadata": {
    "collapsed": false
   },
   "outputs": [
    {
     "data": {
      "text/plain": [
       "<matplotlib.axes._subplots.AxesSubplot at 0x7fa1ad578438>"
      ]
     },
     "execution_count": 130,
     "metadata": {},
     "output_type": "execute_result"
    }
   ],
   "source": [
    "ph[0].get_children()[0].axes"
   ]
  },
  {
   "cell_type": "code",
   "execution_count": 109,
   "metadata": {
    "collapsed": false
   },
   "outputs": [
    {
     "data": {
      "text/plain": [
       "[<matplotlib.patches.Rectangle at 0x7fa1acee03c8>,\n",
       " <matplotlib.patches.Rectangle at 0x7fa1acee0be0>,\n",
       " <matplotlib.patches.Rectangle at 0x7fa1aced74e0>,\n",
       " <matplotlib.patches.Rectangle at 0x7fa1aced7dd8>,\n",
       " <matplotlib.text.Text at 0x7fa1ad0b3978>,\n",
       " <matplotlib.spines.Spine at 0x7fa1acf73b00>,\n",
       " <matplotlib.spines.Spine at 0x7fa1ad49d978>,\n",
       " <matplotlib.spines.Spine at 0x7fa1ad23bf28>,\n",
       " <matplotlib.spines.Spine at 0x7fa1ad5041d0>,\n",
       " <matplotlib.axis.XAxis at 0x7fa1acf59828>,\n",
       " <matplotlib.axis.YAxis at 0x7fa1ad3dcb70>,\n",
       " <matplotlib.text.Text at 0x7fa1acee2630>,\n",
       " <matplotlib.text.Text at 0x7fa1acee26a0>,\n",
       " <matplotlib.text.Text at 0x7fa1acee2710>,\n",
       " <matplotlib.patches.Rectangle at 0x7fa1ad0ac7b8>]"
      ]
     },
     "execution_count": 109,
     "metadata": {},
     "output_type": "execute_result"
    }
   ],
   "source": [
    "f.get_children()"
   ]
  },
  {
   "cell_type": "code",
   "execution_count": 60,
   "metadata": {
    "collapsed": false
   },
   "outputs": [
    {
     "name": "stdout",
     "output_type": "stream",
     "text": [
      "Help on method text in module matplotlib.axes._axes:\n",
      "\n",
      "text(x, y, s, fontdict=None, withdash=False, **kwargs) method of matplotlib.axes._subplots.AxesSubplot instance\n",
      "    Add text to the axes.\n",
      "    \n",
      "    Add text in string `s` to axis at location `x`, `y`, data\n",
      "    coordinates.\n",
      "    \n",
      "    Parameters\n",
      "    ----------\n",
      "    x, y : scalars\n",
      "        data coordinates\n",
      "    \n",
      "    s : string\n",
      "        text\n",
      "    \n",
      "    fontdict : dictionary, optional, default: None\n",
      "        A dictionary to override the default text properties. If fontdict\n",
      "        is None, the defaults are determined by your rc parameters.\n",
      "    \n",
      "    withdash : boolean, optional, default: False\n",
      "        Creates a `~matplotlib.text.TextWithDash` instance instead of a\n",
      "        `~matplotlib.text.Text` instance.\n",
      "    \n",
      "    Other parameters\n",
      "    ----------------\n",
      "    kwargs : `~matplotlib.text.Text` properties.\n",
      "        Other miscellaneous text parameters.\n",
      "    \n",
      "    Examples\n",
      "    --------\n",
      "    Individual keyword arguments can be used to override any given\n",
      "    parameter::\n",
      "    \n",
      "        >>> text(x, y, s, fontsize=12)\n",
      "    \n",
      "    The default transform specifies that text is in data coords,\n",
      "    alternatively, you can specify text in axis coords (0,0 is\n",
      "    lower-left and 1,1 is upper-right).  The example below places\n",
      "    text in the center of the axes::\n",
      "    \n",
      "        >>> text(0.5, 0.5,'matplotlib', horizontalalignment='center',\n",
      "        ...      verticalalignment='center',\n",
      "        ...      transform=ax.transAxes)\n",
      "    \n",
      "    You can put a rectangular box around the text instance (e.g., to\n",
      "    set a background color) by using the keyword `bbox`.  `bbox` is\n",
      "    a dictionary of `~matplotlib.patches.Rectangle`\n",
      "    properties.  For example::\n",
      "    \n",
      "        >>> text(x, y, s, bbox=dict(facecolor='red', alpha=0.5))\n",
      "\n"
     ]
    }
   ],
   "source": [
    "help(ax.text)"
   ]
  },
  {
   "cell_type": "code",
   "execution_count": 79,
   "metadata": {
    "collapsed": false
   },
   "outputs": [
    {
     "data": {
      "text/plain": [
       "<matplotlib.text.Text at 0x7fa1ad3c5e48>"
      ]
     },
     "execution_count": 79,
     "metadata": {},
     "output_type": "execute_result"
    }
   ],
   "source": [
    "f.text(3, 1, 'fff')"
   ]
  },
  {
   "cell_type": "code",
   "execution_count": 80,
   "metadata": {
    "collapsed": true
   },
   "outputs": [],
   "source": [
    "plt.show()"
   ]
  },
  {
   "cell_type": "code",
   "execution_count": 47,
   "metadata": {
    "collapsed": false
   },
   "outputs": [
    {
     "data": {
      "text/plain": [
       "<Container object of 1 artists>"
      ]
     },
     "execution_count": 47,
     "metadata": {},
     "output_type": "execute_result"
    }
   ],
   "source": [
    "f.barh(0.5, 4)\n"
   ]
  },
  {
   "cell_type": "code",
   "execution_count": 50,
   "metadata": {
    "collapsed": true
   },
   "outputs": [],
   "source": [
    "plt.show()"
   ]
  },
  {
   "cell_type": "code",
   "execution_count": 41,
   "metadata": {
    "collapsed": false
   },
   "outputs": [
    {
     "ename": "UnboundLocalError",
     "evalue": "local variable 'y' referenced before assignment",
     "output_type": "error",
     "traceback": [
      "\u001b[1;31m---------------------------------------------------------------------------\u001b[0m",
      "\u001b[1;31mUnboundLocalError\u001b[0m                         Traceback (most recent call last)",
      "\u001b[1;32m<ipython-input-41-e7d682426219>\u001b[0m in \u001b[0;36m<module>\u001b[1;34m()\u001b[0m\n\u001b[1;32m----> 1\u001b[1;33m \u001b[0mdraw_bar\u001b[0m\u001b[1;33m(\u001b[0m\u001b[0mf\u001b[0m\u001b[1;33m,\u001b[0m \u001b[1;33m[\u001b[0m\u001b[1;36m1\u001b[0m\u001b[1;33m,\u001b[0m \u001b[1;36m2\u001b[0m\u001b[1;33m,\u001b[0m \u001b[1;36m1\u001b[0m\u001b[1;33m,\u001b[0m \u001b[1;36m3\u001b[0m\u001b[1;33m]\u001b[0m\u001b[1;33m,\u001b[0m \u001b[1;36m.4\u001b[0m\u001b[1;33m)\u001b[0m\u001b[1;33m\u001b[0m\u001b[0m\n\u001b[0m",
      "\u001b[1;32m<ipython-input-39-bad0d53fe7e9>\u001b[0m in \u001b[0;36mdraw_bar\u001b[1;34m(ax, data, hue, title, units)\u001b[0m\n\u001b[0;32m     21\u001b[0m     \u001b[0max\u001b[0m\u001b[1;33m.\u001b[0m\u001b[0mset_xlabel\u001b[0m\u001b[1;33m(\u001b[0m\u001b[0mtitle\u001b[0m\u001b[1;33m)\u001b[0m\u001b[1;33m\u001b[0m\u001b[0m\n\u001b[0;32m     22\u001b[0m     \u001b[0max\u001b[0m\u001b[1;33m.\u001b[0m\u001b[0mset_xlim\u001b[0m\u001b[1;33m(\u001b[0m\u001b[1;36m0\u001b[0m\u001b[1;33m,\u001b[0m \u001b[0mleft\u001b[0m\u001b[1;33m)\u001b[0m\u001b[1;33m\u001b[0m\u001b[0m\n\u001b[1;32m---> 23\u001b[1;33m     \u001b[0max\u001b[0m\u001b[1;33m.\u001b[0m\u001b[0mtext\u001b[0m\u001b[1;33m(\u001b[0m\u001b[0mleft\u001b[0m\u001b[1;33m,\u001b[0m \u001b[0my\u001b[0m\u001b[1;33m,\u001b[0m \u001b[1;34m'%6.3g'\u001b[0m \u001b[1;33m%\u001b[0m \u001b[0mleft\u001b[0m\u001b[1;33m,\u001b[0m \u001b[0mha\u001b[0m\u001b[1;33m=\u001b[0m\u001b[1;34m'left'\u001b[0m\u001b[1;33m)\u001b[0m\u001b[1;33m\u001b[0m\u001b[0m\n\u001b[0m\u001b[0;32m     24\u001b[0m     \u001b[1;32mreturn\u001b[0m \u001b[0mpatch_handles\u001b[0m\u001b[1;33m\u001b[0m\u001b[0m\n",
      "\u001b[1;31mUnboundLocalError\u001b[0m: local variable 'y' referenced before assignment"
     ]
    }
   ],
   "source": [
    "draw_bar(f, [1, 2, 1, 3], .4)"
   ]
  },
  {
   "cell_type": "code",
   "execution_count": 18,
   "metadata": {
    "collapsed": false
   },
   "outputs": [
    {
     "ename": "TypeError",
     "evalue": "'int' object is not an iterator",
     "output_type": "error",
     "traceback": [
      "\u001b[1;31m---------------------------------------------------------------------------\u001b[0m",
      "\u001b[1;31mTypeError\u001b[0m                                 Traceback (most recent call last)",
      "\u001b[1;32m<ipython-input-18-880a8b85b35b>\u001b[0m in \u001b[0;36m<module>\u001b[1;34m()\u001b[0m\n\u001b[1;32m----> 1\u001b[1;33m \u001b[0mnext\u001b[0m\u001b[1;33m(\u001b[0m\u001b[1;36m4\u001b[0m\u001b[1;33m)\u001b[0m\u001b[1;33m\u001b[0m\u001b[0m\n\u001b[0m",
      "\u001b[1;31mTypeError\u001b[0m: 'int' object is not an iterator"
     ]
    }
   ],
   "source": [
    "next(4)"
   ]
  },
  {
   "cell_type": "code",
   "execution_count": 3,
   "metadata": {
    "collapsed": true
   },
   "outputs": [],
   "source": [
    "%matplotlib inline"
   ]
  },
  {
   "cell_type": "code",
   "execution_count": 178,
   "metadata": {
    "collapsed": false
   },
   "outputs": [],
   "source": [
    "def col(hashable):\n",
    "    h = hash(hashable) / 1e6\n",
    "    return h - int(h)"
   ]
  },
  {
   "cell_type": "code",
   "execution_count": 182,
   "metadata": {
    "collapsed": false
   },
   "outputs": [
    {
     "data": {
      "text/plain": [
       "0.421875"
      ]
     },
     "execution_count": 182,
     "metadata": {},
     "output_type": "execute_result"
    }
   ],
   "source": [
    "col('Bbb')"
   ]
  },
  {
   "cell_type": "code",
   "execution_count": 174,
   "metadata": {
    "collapsed": false
   },
   "outputs": [
    {
     "data": {
      "text/plain": [
       "[-1, 0, nan, 1, 2]"
      ]
     },
     "execution_count": 174,
     "metadata": {},
     "output_type": "execute_result"
    }
   ],
   "source": [
    "sorted([0, -1, float('nan'), 1,  2])"
   ]
  },
  {
   "cell_type": "code",
   "execution_count": 11,
   "metadata": {
    "collapsed": false
   },
   "outputs": [
    {
     "data": {
      "image/png": "[encoded data removed]",
      "text/plain": [
       "<matplotlib.figure.Figure at 0x7fa1ad594c88>"
      ]
     },
     "metadata": {},
     "output_type": "display_data"
    }
   ],
   "source": [
    "  \n",
    "people = ('A','B','C','D','E','F','G','H')\n",
    "segments = 4\n",
    "\n",
    "# generate some multi-dimensional data & arbitrary labels\n",
    "data = 3 + 10* np.random.rand(segments, len(people))\n",
    "percentages = (np.random.randint(5,20, (len(people), segments)))\n",
    "y_pos = np.arange(len(people))\n",
    "\n",
    "fig = plt.figure(figsize=(10,8))\n",
    "ax = fig.add_subplot(111)\n",
    "\n",
    "colors =((1, 1, 0), (0, 1, 0), (0, 0, 1), (0.33, 0.43, 0.53))\n",
    "patch_handles = []\n",
    "left = np.zeros(len(people)) # left alignment of data starts at zero\n",
    "for i, d in enumerate(data):\n",
    "    patch_handles.append(ax.barh(y_pos, d, \n",
    "      color=colors[i % len(colors)], align='center', \n",
    "      left=left)) \n",
    "    # accumulate the left-hand offsets\n",
    "    left += d\n",
    "\n",
    "# go through all of the bar segments and annotate\n",
    "for j in range(len(patch_handles)):\n",
    "    for i, patch in enumerate(patch_handles[j].get_children()):\n",
    "        bl = patch.get_xy()\n",
    "        x = 0.5*patch.get_width() + bl[0]\n",
    "        y = 0.5*patch.get_height() + bl[1]\n",
    "        ax.text(x,y, \"%d%%\" % (percentages[i,j]), ha='center')\n",
    "\n",
    "ax.set_yticks(y_pos)\n",
    "ax.set_yticklabels(people)\n",
    "ax.set_xlabel('Distance')\n",
    "\n",
    "plt.show()"
   ]
  }
 ],
 "metadata": {
  "kernelspec": {
   "display_name": "Python 3",
   "language": "python",
   "name": "python3"
  },
  "language_info": {
   "codemirror_mode": {
    "name": "ipython",
    "version": 3
   },
   "file_extension": ".py",
   "mimetype": "text/x-python",
   "name": "python",
   "nbconvert_exporter": "python",
   "pygments_lexer": "ipython3",
   "version": "3.5.1"
  }
 },
 "nbformat": 4,
 "nbformat_minor": 0
}
