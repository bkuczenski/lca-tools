{
 "cells": [
  {
   "cell_type": "code",
   "execution_count": 1,
   "metadata": {
    "collapsed": true
   },
   "outputs": [],
   "source": [
    "import sys\n",
    "sys.path.append('..')\n",
    "\n",
    "import lcatools\n",
    "import os"
   ]
  },
  {
   "cell_type": "code",
   "execution_count": 2,
   "metadata": {
    "collapsed": false
   },
   "outputs": [],
   "source": [
    "elcd3_file = os.path.join(os.path.expanduser('~'),'Dropbox', 'data', 'ELCD', 'ELCD3.2.zip')\n",
    "catalog_dir = os.path.join(os.path.expanduser('~'), 'GitHub', 'lca-tools-datafiles', 'catalogs')"
   ]
  },
  {
   "cell_type": "code",
   "execution_count": 3,
   "metadata": {
    "collapsed": true
   },
   "outputs": [],
   "source": [
    "from lcatools.providers.ilcd import IlcdArchive"
   ]
  },
  {
   "cell_type": "code",
   "execution_count": 4,
   "metadata": {
    "collapsed": false
   },
   "outputs": [
    {
     "name": "stdout",
     "output_type": "stream",
     "text": [
      "Found Extension: zip\n"
     ]
    }
   ],
   "source": [
    "elcd32 = IlcdArchive(elcd3_file, quiet=True)"
   ]
  },
  {
   "cell_type": "code",
   "execution_count": 5,
   "metadata": {
    "collapsed": false
   },
   "outputs": [],
   "source": [
    "P = elcd32.list_objects('Process')[:10]"
   ]
  },
  {
   "cell_type": "code",
   "execution_count": 6,
   "metadata": {
    "collapsed": true
   },
   "outputs": [],
   "source": [
    "elcd32._quiet = True"
   ]
  },
  {
   "cell_type": "code",
   "execution_count": 3,
   "metadata": {
    "collapsed": true
   },
   "outputs": [],
   "source": [
    "from lcatools.tools import archive_from_json"
   ]
  },
  {
   "cell_type": "code",
   "execution_count": 4,
   "metadata": {
    "collapsed": false
   },
   "outputs": [
    {
     "name": "stdout",
     "output_type": "stream",
     "text": [
      "Loading JSON data from /home/b/GitHub/lca-tools-datafiles/catalogs/elcd_3.2.json.gz:\n",
      "Found Extension: zip\n",
      "94 new quantity entities added (94 total)\n",
      "2343 new flow entities added (2343 total)\n",
      "503 new process entities added (503 total)\n",
      "CPU times: user 7.71 s, sys: 50 ms, total: 7.76 s\n",
      "Wall time: 7.77 s\n"
     ]
    }
   ],
   "source": [
    "%time elcd32 = archive_from_json(os.path.join(catalog_dir, 'elcd_3.2.json.gz'))"
   ]
  },
  {
   "cell_type": "code",
   "execution_count": 7,
   "metadata": {
    "collapsed": false
   },
   "outputs": [
    {
     "data": {
      "text/plain": [
       "<lcatools.entities.LcProcess at 0x7fd4b3ff20b8>"
      ]
     },
     "execution_count": 7,
     "metadata": {},
     "output_type": "execute_result"
    }
   ],
   "source": [
    "elcd32.retrieve_or_fetch_entity(P[1])"
   ]
  },
  {
   "cell_type": "code",
   "execution_count": 8,
   "metadata": {
    "collapsed": true
   },
   "outputs": [],
   "source": [
    "p = _"
   ]
  },
  {
   "cell_type": "code",
   "execution_count": 9,
   "metadata": {
    "collapsed": false
   },
   "outputs": [
    {
     "data": {
      "text/plain": [
       "[' Input: [1e-09 [kg]] chromium (CAS 007440-47-3) [Resources, Resources from ground, Non-renewable element resources from ground]',\n",
       " ' Input: [5.68e-12 [kg]] raw pumice [Resources, Resources from ground, Non-renewable material resources from ground]',\n",
       " ' Input: [3.43e-17 [kg]] rhodium (CAS 007440-16-6) [Resources, Resources from ground, Non-renewable element resources from ground]',\n",
       " ' Input: [3.23e-05 [kg]] quartz sand (CAS 014808-60-7) [Resources, Resources from ground, Non-renewable material resources from ground]',\n",
       " ' Input: [3.16e-07 [kg]] zinc (CAS 007440-66-6) [Resources, Resources from ground, Non-renewable element resources from ground]',\n",
       " ' Input: [0.00668 [kg]] surface water (CAS 007732-18-5) [Resources, Resources from water, Renewable material resources from water]',\n",
       " ' Input: [0.000485 [kg]] ground water (CAS 007732-18-5) [Resources, Resources from water, Renewable material resources from water]',\n",
       " ' Input: [7.68e-05 [kg]] bentonite (CAS 001302-78-9) [Resources, Resources from ground, Non-renewable material resources from ground]',\n",
       " ' Input: [3.32e-08 [kg]] nickel (CAS 007440-02-0) [Resources, Resources from ground, Non-renewable element resources from ground]',\n",
       " ' Input: [4.56e-11 [kg]] colemanite (CAS 001318-33-8) [Resources, Resources from ground, Non-renewable material resources from ground]',\n",
       " ' Input: [0.000186 [kg]] baryte (CAS 007727-43-7) [Resources, Resources from ground, Non-renewable material resources from ground]',\n",
       " ' Input: [9.08e-05 [kg]] water (CAS 007732-18-5) [Resources, Resources from water, Renewable material resources from water]',\n",
       " ' Input: [0.463 [kg]] air [Resources, Resources from air, Renewable material resources from air]',\n",
       " ' Input: [2.8e-11 [kg]] talc (CAS 014807-96-6) [Resources, Resources from ground, Non-renewable material resources from ground]',\n",
       " ' Input: [1.03e-15 [kg]] palladium (CAS 007440-05-3) [Resources, Resources from ground, Non-renewable element resources from ground]',\n",
       " ' Input: [0.00582 [kg]] inert rock [Resources, Resources from ground, Non-renewable material resources from ground]',\n",
       " ' Input: [6.77e-11 [kg]] dolomite (CAS 069227-00-5) [Resources, Resources from ground, Non-renewable material resources from ground]',\n",
       " ' Input: [0.00744 [MJ]] crude oil; 42.3 MJ/kg [Resources, Resources from ground, Non-renewable energy resources from ground]',\n",
       " ' Input: [1.28e-10 [kg]] fluorspar (CAS 014542-23-5) [Resources, Resources from ground, Non-renewable material resources from ground]',\n",
       " ' Input: [2.65e-07 [kg]] manganese (CAS 007439-96-5) [Resources, Resources from ground, Non-renewable element resources from ground]',\n",
       " ' Input: [8.53e-08 [kg]] copper (CAS 007440-50-8) [Resources, Resources from ground, Non-renewable element resources from ground]',\n",
       " ' Input: [0.000159 [kg]] natural aggregate [Resources, Resources from ground, Non-renewable material resources from ground]',\n",
       " ' Input: [1.23e-14 [kg]] platinum (CAS 007440-06-4) [Resources, Resources from ground, Non-renewable element resources from ground]',\n",
       " ' Input: [7.9e-05 [MJ]] primary energy from solar energy [Resources, Resources from air, Renewable energy resources from air]',\n",
       " ' Input: [-3.94e-05 [kg]] sea water (CAS 007732-18-5) [Resources, Resources from water, Renewable material resources from water]',\n",
       " ' Input: [8.38e-07 [MJ]] peat;  8.4 MJ/kg [Resources, Resources from ground, Non-renewable energy resources from ground]',\n",
       " ' Input: [7.88e-19 [kg]] barium sulfate (CAS 007727-43-7) [Resources, Resources from ground, Non-renewable material resources from ground]',\n",
       " ' Input: [1.06e-13 [kg]] sodium sulfate (CAS 007757-82-6) [Resources, Resources from ground, Non-renewable material resources from ground]',\n",
       " ' Input: [1.33e-05 [MJ]] primary energy from wind power [Resources, Resources from air, Renewable energy resources from air]',\n",
       " ' Input: [3.1e-12 [kg]] dinitrogen (CAS 007727-37-9) [Resources, Resources from air, Renewable element resources from air]',\n",
       " ' Input: [7.11e-20 [kg]] slate [Resources, Resources from ground, Non-renewable material resources from ground]',\n",
       " ' Input: [1.96e-08 [kg]] sodium chloride (CAS 007647-14-5) [Resources, Resources from ground, Non-renewable material resources from ground]',\n",
       " ' Input: [-0.0045 [kg]] river water (CAS 007732-18-5) [Resources, Resources from water, Renewable material resources from water]',\n",
       " ' Input: [6.58e-11 [kg]] magnesite (CAS 000546-93-0) [Resources, Resources from ground, Non-renewable material resources from ground]',\n",
       " ' Input: [3.33e-06 [kg]] gypsum (CAS 007778-18-9) [Resources, Resources from ground, Non-renewable material resources from ground]',\n",
       " ' Input: [1.2e-07 [kg]] bauxite (CAS 001318-16-7) [Resources, Resources from ground, Non-renewable material resources from ground]',\n",
       " ' Input: [4.09e-05 [kg]] soil [Resources, Resources from ground, Non-renewable material resources from ground]',\n",
       " ' Input: [6.83e-23 [kg]] tin (CAS 007440-31-5) [Resources, Resources from ground, Non-renewable element resources from ground]',\n",
       " ' Input: [0.000159 [kg]] calcium carbonate (CAS 000471-34-1) [Resources, Resources from ground, Non-renewable material resources from ground]',\n",
       " ' Input: [7.45e-16 [kg]] molybdenum (CAS 007439-98-7) [Resources, Resources from ground, Non-renewable element resources from ground]',\n",
       " ' Input: [0.00151 [MJ]] primary energy from hydro power [Resources, Resources from water, Renewable energy resources from water]',\n",
       " ' Input: [3.15e-06 [kg]] magnesium chloride (CAS 007786-30-3) [Resources, Resources from ground, Non-renewable material resources from ground]',\n",
       " ' Input: [3.22e-11 [kg]] phosphorus (CAS 007723-14-0) [Resources, Resources from ground, Non-renewable element resources from ground]',\n",
       " ' Input: [4.23e-20 [kg]] olivine (CAS 019086-72-7) [Resources, Resources from ground, Non-renewable material resources from ground]',\n",
       " ' Input: [8.06e-17 [kg]] calcium chloride (CAS 010043-52-4) [Resources, Resources from ground, Non-renewable material resources from ground]',\n",
       " ' Input: [2.62e-05 [kg]] clay (CAS 070694-09-6) [Resources, Resources from ground, Non-renewable material resources from ground]',\n",
       " ' Input: [8.33e-06 [kg]] carbon dioxide (CAS 000124-38-9) [Resources, Resources from air, Renewable material resources from air]',\n",
       " ' Input: [3.33e-07 [MJ]] primary energy from geothermics [Resources, Resources from ground, Renewable energy resources from ground]',\n",
       " ' Input: [0.00374 [MJ]] hard coal;  26.3 MJ/kg [Resources, Resources from ground, Non-renewable energy resources from ground]',\n",
       " ' Input: [0.00165 [MJ]] brown coal;  11.9 MJ/kg [Resources, Resources from ground, Non-renewable energy resources from ground]',\n",
       " ' Input: [0.0142 [MJ]] uranium (CAS 007440-61-1) [Resources, Resources from ground, Non-renewable energy resources from ground]',\n",
       " ' Input: [3.92e-05 [kg]] iron (CAS 007439-89-6) [Resources, Resources from ground, Non-renewable element resources from ground]',\n",
       " ' Input: [6.93e-08 [kg]] titanium (CAS 007440-32-6) [Resources, Resources from ground, Non-renewable element resources from ground]',\n",
       " ' Input: [1.49e-06 [MJ]] wood;  14.7 MJ/kg [Resources, Resources from biosphere, Renewable energy resources from biosphere]',\n",
       " ' Input: [4.74e-08 [kg]] basalt [Resources, Resources from ground, Non-renewable material resources from ground]',\n",
       " ' Input: [3.51e-11 [kg]] potassium chloride (CAS 007447-40-7) [Resources, Resources from ground, Non-renewable material resources from ground]',\n",
       " ' Input: [3.85e-12 [kg]] sulfur (CAS 007704-34-9) [Resources, Resources from ground, Non-renewable element resources from ground]',\n",
       " ' Input: [1.27 [MJ]] natural gas;  44.1 MJ/kg [Resources, Resources from ground, Non-renewable energy resources from ground]',\n",
       " ' Input: [5.84e-11 [kg]] kaolin (CAS 001332-58-7) [Resources, Resources from ground, Non-renewable material resources from ground]',\n",
       " ' Input: [1.62e-06 [kg]] lead (CAS 007439-92-1) [Resources, Resources from ground, Non-renewable element resources from ground]',\n",
       " 'Output: [2.54e-13 [kg]] acenaphthene (CAS 000083-32-9) [Emissions, Emissions to water, Emissions to fresh water]',\n",
       " 'Output: [1.52e-06 [kg]] sulfate (CAS 014808-79-8) [Emissions, Emissions to water, Emissions to fresh water]',\n",
       " 'Output: [4.11e-10 [kg]] ethanol (CAS 000064-17-5) [Emissions, Emissions to air, Emissions to air, unspecified]',\n",
       " 'Output: [5.44e-13 [kg]] anthracene (CAS 000120-12-7) [Emissions, Emissions to water, Emissions to fresh water]',\n",
       " 'Output: [7.66e-09 [kg]] chemical oxygen demand [Emissions, Emissions to water, Emissions to sea water]',\n",
       " 'Output: [3.68e-10 [kg]] heptane (CAS 000142-82-5) [Emissions, Emissions to air, Emissions to air, unspecified]',\n",
       " 'Output: [0.000135 [kg]] spoil (unspecified) [Wastes, Mining waste]',\n",
       " 'Output: [2.22e-10 [kBq]] iodine-131 (CAS 010043-66-0) [Emissions, Emissions to water, Emissions to fresh water]',\n",
       " 'Output: [4.34e-15 [kg]] tin (CAS 007440-31-5) [Emissions, Emissions to water, Emissions to sea water]',\n",
       " 'Output: [6.27e-09 [kg]] acetone (CAS 000067-64-1) [Emissions, Emissions to air, Emissions to air, unspecified]',\n",
       " 'Output: [3.45e-13 [kg]] tellurium (CAS 013494-80-9) [Emissions, Emissions to air, Emissions to air, unspecified]',\n",
       " 'Output: [1.87e-11 [kg]] magnesium (CAS 007439-95-4) [Emissions, Emissions to water, Emissions to sea water]',\n",
       " 'Output: [2.54e-10 [kg]] barium (CAS 007440-39-3) [Emissions, Emissions to water, Emissions to fresh water]',\n",
       " 'Output: [4.85e-10 [kg]] molybdenum (CAS 007439-98-7) [Emissions, Emissions to water, Emissions to fresh water]',\n",
       " 'Output: [2.96e-13 [kg]] strontium (CAS 007440-24-6) [Emissions, Emissions to air, Emissions to air, unspecified]',\n",
       " 'Output: [4.57e-17 [kg]] hexamethylene diamine (CAS 000124-09-4) [Emissions, Emissions to air, Emissions to air, unspecified]',\n",
       " 'Output: [3.61e-13 [kg]] thallium (CAS 007440-28-0) [Emissions, Emissions to water, Emissions to fresh water]',\n",
       " 'Output: [0.000129 [kBq]] hydrogen-3 (CAS 010028-17-8) [Emissions, Emissions to air, Emissions to air, unspecified]',\n",
       " 'Output: [2.21e-10 [kg]] polycyclic aromatic hydrocarbons [Emissions, Emissions to water, Emissions to fresh water]',\n",
       " 'Output: [2.38e-12 [kg]] benzo[k]fluoranthene (CAS 000207-08-9) [Emissions, Emissions to air, Emissions to air, unspecified]',\n",
       " 'Output: [5.05e-11 [kg]] arsenic (CAS 007440-38-2) [Emissions, Emissions to air, Emissions to air, unspecified]',\n",
       " 'Output: [3.62e-15 [kg]] silver (CAS 007440-22-4) [Emissions, Emissions to water, Emissions to sea water]',\n",
       " 'Output: [3.9e-16 [kg]] hydrogen iodide (CAS 010034-85-2) [Emissions, Emissions to air, Emissions to air, unspecified]',\n",
       " 'Output: [9.58e-08 [kg]] acetic acid (CAS 000064-19-7) [Emissions, Emissions to air, Emissions to air, unspecified]',\n",
       " 'Output: [1.44e-08 [kg]] xylene (all isomers) (CAS 001330-20-7) [Emissions, Emissions to air, Emissions to air, unspecified]',\n",
       " 'Output: [4.63e-14 [kg]] sulfur hexafluoride (CAS 002551-62-4) [Emissions, Emissions to air, Emissions to air, unspecified]',\n",
       " 'Output: [3.07e-06 [kg]] phosphate (CAS 014265-44-2) [Emissions, Emissions to soil, Emissions to non-agricultural soil]',\n",
       " 'Output: [5.33e-08 [kg]] fluoride (CAS 016984-48-8) [Emissions, Emissions to soil, Emissions to non-agricultural soil]',\n",
       " 'Output: [1.01e-09 [kg]] methanol (CAS 000067-56-1) [Emissions, Emissions to water, Emissions to fresh water]',\n",
       " 'Output: [7.57e-15 [kg]] scandium (CAS 007440-20-2) [Emissions, Emissions to air, Emissions to air, unspecified]',\n",
       " 'Output: [0.0441 [kBq]] hydrogen-3 (CAS 010028-17-8) [Emissions, Emissions to water, Emissions to fresh water]',\n",
       " 'Output: [2.03e-10 [kg]] octane (CAS 000111-65-9) [Emissions, Emissions to air, Emissions to air, unspecified]',\n",
       " 'Output: [3.5e-09 [kg]] toluene (CAS 000108-88-3) [Emissions, Emissions to air, Emissions to air, unspecified]',\n",
       " 'Output: [7.32e-10 [kg]] calcium (CAS 007440-70-2) [Emissions, Emissions to soil, Emissions to non-agricultural soil]',\n",
       " 'Output: [4.14e-15 [kg]] cresol (CAS 001319-77-3) [Emissions, Emissions to water, Emissions to fresh water]',\n",
       " 'Output: [2.75e-10 [kg]] nickel (CAS 007440-02-0) [Emissions, Emissions to air, Emissions to air, unspecified]',\n",
       " 'Output: [2.59e-12 [kg]] chromium III (CAS 016065-83-1) [Emissions, Emissions to air, Emissions to air, unspecified]',\n",
       " 'Output: [4.1e-11 [kg]] chromium (CAS 007440-47-3) [Emissions, Emissions to water, Emissions to sea water]',\n",
       " 'Output: [6.11e-11 [kg]] sodium (CAS 007440-23-5) [Emissions, Emissions to soil, Emissions to non-agricultural soil]',\n",
       " 'Output: [1.65e-10 [kg]] vanadium (CAS 007440-62-2) [Emissions, Emissions to water, Emissions to fresh water]',\n",
       " 'Output: [1.87e-06 [kg]] chloride (CAS 016887-00-6) [Emissions, Emissions to soil, Emissions to non-agricultural soil]',\n",
       " 'Output: [1.17e-10 [kg]] nitrate (CAS 014797-55-8) [Emissions, Emissions to water, Emissions to sea water]',\n",
       " 'Output: [1.35e-06 [kg]] potassium (CAS 007440-09-7) [Emissions, Emissions to soil, Emissions to non-agricultural soil]',\n",
       " 'Output: [1.44e-06 [kBq]] strontium-90 (CAS 010098-97-2) [Emissions, Emissions to water, Emissions to fresh water]',\n",
       " 'Output: [4.61e-10 [kg]] acid (as H+) (CAS 012408-02-5) [Emissions, Emissions to water, Emissions to fresh water]',\n",
       " 'Output: [4.32e-06 [kBq]] iodine-129 (CAS 015046-84-1) [Emissions, Emissions to water, Emissions to fresh water]',\n",
       " 'Output: [0.000446 [kg]] methane (CAS 000074-82-8) [Emissions, Emissions to air, Emissions to air, unspecified]',\n",
       " 'Output: [5.43e-11 [kg]] copper (CAS 007440-50-8) [Emissions, Emissions to air, Emissions to air, unspecified]',\n",
       " 'Output: [8.21e-10 [kg]] fluoride (CAS 016984-48-8) [Emissions, Emissions to air, Emissions to air, unspecified]',\n",
       " 'Output: [3.12e-20 [kg]] dichloromethane (CAS 000075-09-2) [Emissions, Emissions to air, Emissions to air, unspecified]',\n",
       " 'Output: [3.93e-13 [kg]] fluoranthene (CAS 000206-44-0) [Emissions, Emissions to water, Emissions to sea water]',\n",
       " 'Output: [3.48e-10 [kg]] chloride (CAS 016887-00-6) [Emissions, Emissions to air, Emissions to air, unspecified]',\n",
       " 'Output: [6.2e-06 [kg]] oxygen (CAS 007782-44-7) [Emissions, Emissions to air, Emissions to air, unspecified]',\n",
       " 'Output: [1.53e-08 [kg]] iron (CAS 007439-89-6) [Emissions, Emissions to soil, Emissions to non-agricultural soil]',\n",
       " 'Output: [1.05e-11 [kBq]] antimony-124 (CAS 014683-10-4) [Emissions, Emissions to air, Emissions to air, unspecified]',\n",
       " 'Output: [2.82e-12 [kg]] lead (CAS 007439-92-1) [Emissions, Emissions to soil, Emissions to non-agricultural soil]',\n",
       " 'Output: [2.38e-12 [kg]] beryllium (CAS 007440-41-7) [Emissions, Emissions to air, Emissions to air, unspecified]',\n",
       " 'Output: [2.41e-11 [kg]] hydrogen fluoride (CAS 007664-39-3) [Emissions, Emissions to water, Emissions to fresh water]',\n",
       " 'Output: [1.35e-11 [kg]] cobalt (CAS 007440-48-4) [Emissions, Emissions to air, Emissions to air, unspecified]',\n",
       " 'Output: [1.01e-06 [kBq]] manganese-54 (CAS 013966-31-9) [Emissions, Emissions to water, Emissions to fresh water]',\n",
       " 'Output: [1.42e-10 [kg]] phenol (CAS 000108-95-2) [Emissions, Emissions to water, Emissions to fresh water]',\n",
       " 'Output: [1.43e-18 [kg]] chromium VI (CAS 018540-29-9) [Emissions, Emissions to water, Emissions to fresh water]',\n",
       " 'Output: [2.89e-10 [kg]] benzene (CAS 000071-43-2) [Emissions, Emissions to water, Emissions to sea water]',\n",
       " 'Output: [0.0702 [kg]] carbon dioxide (CAS 000124-38-9) [Emissions, Emissions to air, Emissions to air, unspecified]',\n",
       " 'Output: [5.96e-06 [kg]] n-butane (CAS 000106-97-8) [Emissions, Emissions to air, Emissions to air, unspecified]',\n",
       " 'Output: [1.32e-09 [kg]] bromine (CAS 007726-95-6) [Emissions, Emissions to air, Emissions to air, unspecified]',\n",
       " 'Output: [2.41e-16 [kg]] styrene (CAS 000100-42-5) [Emissions, Emissions to air, Emissions to air, unspecified]',\n",
       " 'Output: [2.9e-10 [kg]] methanol (CAS 000067-56-1) [Emissions, Emissions to air, Emissions to air, unspecified]',\n",
       " 'Output: [1.34e-12 [kg]] benzo[a]anthracene (CAS 000056-55-3) [Emissions, Emissions to air, Emissions to air, unspecified]',\n",
       " 'Output: [7.48e-26 [kg]] 2,3,7,8-tetrachlorodibenzo-p-dioxin (CAS 001746-01-6) [Emissions, Emissions to water, Emissions to fresh water]',\n",
       " 'Output: [2.03e-09 [kg]] slag (unspecified) [Wastes, Production residues]',\n",
       " 'Output: [0.373 [kg]] used air [Emissions, Emissions to air, Emissions to air, unspecified]',\n",
       " 'Output: [1.19e-12 [kg]] benzo[g,h,i]perylene (CAS 000191-24-2) [Emissions, Emissions to air, Emissions to air, unspecified]',\n",
       " 'Output: [2.18e-13 [kg]] cyclohexane (CAS 000110-82-7) [Emissions, Emissions to air, Emissions to air, unspecified]',\n",
       " 'Output: [4.54e-11 [kBq]] silver-110 (CAS 014391-76-5) [Emissions, Emissions to water, Emissions to fresh water]',\n",
       " 'Output: [3.38e-09 [kg]] lead (CAS 007439-92-1) [Emissions, Emissions to water, Emissions to fresh water]',\n",
       " 'Output: [1.04e-05 [kg]] propane (CAS 000074-98-6) [Emissions, Emissions to air, Emissions to air, unspecified]',\n",
       " 'Output: [1.44e-09 [kg]] sodium (CAS 007440-23-5) [Emissions, Emissions to water, Emissions to sea water]',\n",
       " 'Output: [2.15e-21 [kg]] rhodium (CAS 007440-16-6) [Emissions, Emissions to air, Emissions to air, unspecified]',\n",
       " 'Output: [2.55e-16 [kg]] 2,3,7,8-tetrachlorodibenzo-p-dioxin (CAS 001746-01-6) [Emissions, Emissions to air, Emissions to air, unspecified]',\n",
       " 'Output: [1.65e-11 [kg]] Plutonium as residual product [Deposited goods, Radioactive waste]',\n",
       " 'Output: [3.48e-16 [kg]] hexane (CAS 000110-54-3) [Emissions, Emissions to water, Emissions to sea water]',\n",
       " 'Output: [1.32e-13 [kg]] fluorine (CAS 007782-41-4) [Emissions, Emissions to air, Emissions to air, unspecified]',\n",
       " 'Output: [7.43e-13 [kg]] dibenz[a,h]anthracene (CAS 000053-70-3) [Emissions, Emissions to air, Emissions to air, unspecified]',\n",
       " 'Output: [1.12 [kBq]] krypton-85 (CAS 013983-27-2) [Emissions, Emissions to air, Emissions to air, unspecified]',\n",
       " 'Output: [7.81e-11 [kg]] acetic acid (CAS 000064-19-7) [Emissions, Emissions to water, Emissions to fresh water]',\n",
       " 'Output: [6.86e-13 [kg]] nitrogen monoxide (CAS 010102-43-9) [Emissions, Emissions to air, Emissions to air, unspecified]',\n",
       " 'Output: [2.62e-08 [kg]] strontium (CAS 007440-24-6) [Emissions, Emissions to water, Emissions to fresh water]',\n",
       " 'Output: [6.17e-05 [kg]] sulfur dioxide (CAS 007446-09-5) [Emissions, Emissions to air, Emissions to air, unspecified]',\n",
       " 'Output: [8.88e-14 [kg]] particles (PM10) [Emissions, Emissions to water, Emissions to fresh water]',\n",
       " 'Output: [7.14e-06 [kg]] chloride (CAS 016887-00-6) [Emissions, Emissions to water, Emissions to sea water]',\n",
       " 'Output: [1.7e-07 [kg]] sulfate (CAS 014808-79-8) [Emissions, Emissions to soil, Emissions to non-agricultural soil]',\n",
       " 'Output: [4.15e-09 [kg]] ethyl benzene (CAS 000100-41-4) [Emissions, Emissions to air, Emissions to air, unspecified]',\n",
       " 'Output: [1.5e-12 [kg]] acenaphthene (CAS 000083-32-9) [Emissions, Emissions to water, Emissions to sea water]',\n",
       " 'Output: [7.1e-12 [kg]] cyanide (CAS 000057-12-5) [Emissions, Emissions to air, Emissions to air, unspecified]',\n",
       " 'Output: [2.02e-14 [kg]] chlorine (CAS 007782-50-5) [Emissions, Emissions to air, Emissions to air, unspecified]',\n",
       " 'Output: [2.78e-06 [kg]] chemical oxygen demand [Emissions, Emissions to water, Emissions to fresh water]',\n",
       " 'Output: [5.93e-08 [kg]] adsorbable organic halogen compounds [Emissions, Emissions to water, Emissions to fresh water]',\n",
       " 'Output: [4.5e-07 [kg]] particles (PM2.5 - PM10) [Emissions, Emissions to air, Emissions to air, unspecified]',\n",
       " 'Output: [1.47e-10 [kg]] helium (CAS 007440-59-7) [Emissions, Emissions to air, Emissions to air, unspecified]',\n",
       " 'Output: [1.51e-06 [kBq]] carbon-14 (CAS 014762-75-5) [Emissions, Emissions to water, Emissions to fresh water]',\n",
       " 'Output: [1.16e-08 [kBq]] cobalt-58 (CAS 013981-38-9) [Emissions, Emissions to water, Emissions to fresh water]',\n",
       " 'Output: [1 [MJ]] process steam from natural gas, heat plant, consumption mix, at plant, MJ [Energy carriers and technologies, Heat and steam]',\n",
       " 'Output: [0.000187 [kg]] particles (> PM10) [Emissions, Emissions to water, Emissions to fresh water]',\n",
       " 'Output: [1.07e-10 [kg]] copper (CAS 007440-50-8) [Emissions, Emissions to soil, Emissions to non-agricultural soil]',\n",
       " 'Output: [5.12e-06 [kg]] sodium (CAS 007440-23-5) [Emissions, Emissions to water, Emissions to fresh water]',\n",
       " 'Output: [1.48e-12 [kg]] molybdenum (CAS 007439-98-7) [Emissions, Emissions to air, Emissions to air, unspecified]',\n",
       " 'Output: [2.56e-12 [kg]] thallium (CAS 007440-28-0) [Emissions, Emissions to air, Emissions to air, unspecified]',\n",
       " 'Output: [1.65e-13 [kg]] fluoranthene (CAS 000206-44-0) [Emissions, Emissions to water, Emissions to fresh water]',\n",
       " 'Output: [1.65e-08 [kg]] sulfide (CAS 018496-25-8) [Emissions, Emissions to water, Emissions to sea water]',\n",
       " 'Output: [2.56e-07 [kg]] benzene (CAS 000071-43-2) [Emissions, Emissions to air, Emissions to air, unspecified]',\n",
       " 'Output: [2.85e-10 [kg]] zinc (CAS 007440-66-6) [Emissions, Emissions to air, Emissions to air, unspecified]',\n",
       " 'Output: [5.11e-17 [kg]] 1,2-dibromoethane (CAS 000106-93-4) [Emissions, Emissions to water, Emissions to fresh water]',\n",
       " 'Output: [1.58e-10 [kg]] benzene (CAS 000071-43-2) [Emissions, Emissions to water, Emissions to fresh water]',\n",
       " 'Output: [4.42e-16 [kg]] titanium (CAS 007440-32-6) [Emissions, Emissions to water, Emissions to sea water]',\n",
       " 'Output: [1.38e-08 [kg]] carbonate (CAS 003812-32-6) [Emissions, Emissions to water, Emissions to fresh water]',\n",
       " 'Output: [1.4e-05 [kBq]] cesium-137 (CAS 010045-97-3) [Emissions, Emissions to water, Emissions to fresh water]',\n",
       " 'Output: [0.00262 [MJ]] waste heat [Emissions, Emissions to water, Emissions to fresh water]',\n",
       " 'Output: [3.52e-11 [kg]] ethyl benzene (CAS 000100-41-4) [Emissions, Emissions to water, Emissions to sea water]',\n",
       " 'Output: [6.78e-16 [kg]] lead dioxide (CAS 001309-60-0) [Emissions, Emissions to air, Emissions to air, unspecified]',\n",
       " 'Output: [2.97e-10 [kg]] xylene (all isomers) (CAS 001330-20-7) [Emissions, Emissions to water, Emissions to fresh water]',\n",
       " 'Output: [3.64e-11 [kg]] cobalt (CAS 007440-48-4) [Emissions, Emissions to water, Emissions to sea water]',\n",
       " 'Output: [6.49e-20 [kg]] silver (CAS 007440-22-4) [Emissions, Emissions to air, Emissions to air, unspecified]',\n",
       " 'Output: [5.95e-10 [kg]] hexane (CAS 000110-54-3) [Emissions, Emissions to air, Emissions to air, unspecified]',\n",
       " 'Output: [1e-05 [kg]] chloride (CAS 016887-00-6) [Emissions, Emissions to water, Emissions to fresh water]',\n",
       " 'Output: [7.09e-11 [kg]] hydroxide (CAS 014280-30-9) [Emissions, Emissions to water, Emissions to fresh water]',\n",
       " 'Output: [1.84e-08 [kg]] Slag (Uranium conversion) [Deposited goods, Radioactive waste]',\n",
       " 'Output: [2.61e-12 [kg]] hydrogen chloride (CAS 007647-01-0) [Emissions, Emissions to water, Emissions to fresh water]',\n",
       " 'Output: [1.17e-07 [kg]] hydrogen chloride (CAS 007647-01-0) [Emissions, Emissions to air, Emissions to air, unspecified]',\n",
       " 'Output: [2.7e-09 [kg]] zinc (CAS 007440-66-6) [Emissions, Emissions to water, Emissions to fresh water]',\n",
       " 'Output: [1.67e-08 [kg]] aluminium (CAS 007429-90-5) [Emissions, Emissions to water, Emissions to fresh water]',\n",
       " 'Output: [5.93e-09 [kg]] ammonia (CAS 007664-41-7) [Emissions, Emissions to air, Emissions to air, unspecified]',\n",
       " 'Output: [3.75e-13 [kg]] benzo[k]fluoranthene (CAS 000207-08-9) [Emissions, Emissions to water, Emissions to sea water]',\n",
       " 'Output: [1.59e-10 [kg]] toluene (CAS 000108-88-3) [Emissions, Emissions to water, Emissions to sea water]',\n",
       " 'Output: [1.42e-11 [kg]] sulfite (CAS 014265-45-3) [Emissions, Emissions to water, Emissions to fresh water]',\n",
       " 'Output: [3.33e-11 [kg]] iron (CAS 007439-89-6) [Emissions, Emissions to air, Emissions to air, unspecified]',\n",
       " 'Output: [2.31e-09 [kg]] dinitrogen (CAS 007727-37-9) [Emissions, Emissions to water, Emissions to fresh water]',\n",
       " 'Output: [0.0163 [kBq]] radon-222 (CAS 014859-67-7) [Emissions, Emissions to air, Emissions to air, unspecified]',\n",
       " 'Output: [6.14e-11 [kg]] titanium (CAS 007440-32-6) [Emissions, Emissions to water, Emissions to fresh water]',\n",
       " 'Output: [2.33e-14 [kg]] tin (CAS 007440-31-5) [Emissions, Emissions to water, Emissions to fresh water]',\n",
       " 'Output: [2.68e-15 [kg]] acryolonitrile (CAS 000107-13-1) [Emissions, Emissions to water, Emissions to fresh water]',\n",
       " 'Output: [3.98e-11 [kg]] chromium (CAS 007440-47-3) [Emissions, Emissions to air, Emissions to air, unspecified]',\n",
       " 'Output: [6.52e-13 [kg]] beryllium (CAS 007440-41-7) [Emissions, Emissions to water, Emissions to fresh water]',\n",
       " 'Output: [9.12e-07 [kBq]] xenon-131 (CAS 014683-11-5) [Emissions, Emissions to air, Emissions to air, unspecified]',\n",
       " 'Output: [6.6e-05 [kBq]] argon-41 (CAS 014163-25-8) [Emissions, Emissions to air, Emissions to air, unspecified]',\n",
       " 'Output: [2.59e-07 [kg]] hydrogen sulfide (CAS 007783-06-4) [Emissions, Emissions to air, Emissions to air, unspecified]',\n",
       " 'Output: [2.18e-14 [kg]] particles (> PM10) [Emissions, Emissions to air, Emissions to air, unspecified]',\n",
       " 'Output: [4.23e-14 [kg]] propionic acid (CAS 000079-09-4) [Emissions, Emissions to air, Emissions to air, unspecified]',\n",
       " 'Output: [9.12e-09 [kg]] decane (CAS 000124-18-5) [Emissions, Emissions to water, Emissions to fresh water]',\n",
       " 'Output: [1.6e-09 [kg]] bromide (CAS 024959-67-9) [Emissions, Emissions to soil, Emissions to non-agricultural soil]',\n",
       " 'Output: [1.19e-12 [kg]] FC-14 (CAS 000075-73-0) [Emissions, Emissions to air, Emissions to air, unspecified]',\n",
       " 'Output: [2.81e-07 [kg]] nitrous oxide (CAS 010024-97-2) [Emissions, Emissions to air, Emissions to air, unspecified]',\n",
       " 'Output: [4.57e-10 [kg]] decane (CAS 000124-18-5) [Emissions, Emissions to soil, Emissions to non-agricultural soil]',\n",
       " 'Output: [2.65e-12 [kg]] anthracene (CAS 000120-12-7) [Emissions, Emissions to air, Emissions to air, unspecified]',\n",
       " 'Output: [1.96e-10 [kg]] xylene (all isomers) (CAS 001330-20-7) [Emissions, Emissions to water, Emissions to sea water]',\n",
       " 'Output: [2.59e-07 [kg]] iron (CAS 007439-89-6) [Emissions, Emissions to water, Emissions to fresh water]',\n",
       " 'Output: [8.18e-08 [kg]] hydrogen (CAS 001333-74-0) [Emissions, Emissions to air, Emissions to air, unspecified]',\n",
       " 'Output: [1.78e-09 [kg]] vanadium (CAS 007440-62-2) [Emissions, Emissions to air, Emissions to air, unspecified]',\n",
       " 'Output: [4.7e-12 [kg]] acetic acid (CAS 000064-19-7) [Emissions, Emissions to water, Emissions to sea water]',\n",
       " 'Output: [0.146 [MJ]] waste heat [Emissions, Emissions to air, Emissions to air, unspecified]',\n",
       " 'Output: [4.51e-11 [kg]] boron (CAS 007440-42-8) [Emissions, Emissions to water, Emissions to fresh water]',\n",
       " 'Output: [2.99e-08 [kBq]] americium-241 (CAS 086954-36-1) [Emissions, Emissions to water, Emissions to fresh water]',\n",
       " 'Output: [7.27e-12 [kg]] cadmium (CAS 007440-43-9) [Emissions, Emissions to air, Emissions to air, unspecified]',\n",
       " 'Output: [1.16e-09 [kg]] zinc (CAS 007440-66-6) [Emissions, Emissions to soil, Emissions to non-agricultural soil]',\n",
       " 'Output: [5.48e-09 [kg]] nitrate (CAS 014797-55-8) [Emissions, Emissions to water, Emissions to fresh water]',\n",
       " 'Output: [1.56e-11 [kg]] strontium (CAS 007440-24-6) [Emissions, Emissions to water, Emissions to sea water]',\n",
       " 'Output: [5.91e-12 [kg]] antimony (CAS 007440-36-0) [Emissions, Emissions to air, Emissions to air, unspecified]',\n",
       " 'Output: [4.26e-08 [kg]] volatile organic compound [Emissions, Emissions to air, Emissions to air, unspecified]',\n",
       " 'Output: [2.49e-11 [kg]] vanadium (CAS 007440-62-2) [Emissions, Emissions to water, Emissions to sea water]',\n",
       " 'Output: [3.64e-08 [kg]] calcium (CAS 007440-70-2) [Emissions, Emissions to water, Emissions to fresh water]',\n",
       " 'Output: [7.77e-16 [kg]] butadiene (CAS 000106-99-0) [Emissions, Emissions to air, Emissions to air, unspecified]',\n",
       " 'Output: [5.75e-08 [kg]] particles (> PM10) [Emissions, Emissions to water, Emissions to sea water]',\n",
       " 'Output: [6.55e-17 [kg]] adsorbable organic halogen compounds [Emissions, Emissions to water, Emissions to sea water]',\n",
       " 'Output: [9.92e-11 [kg]] toluene (CAS 000108-88-3) [Emissions, Emissions to water, Emissions to fresh water]',\n",
       " 'Output: [2.93e-11 [kg]] nickel (CAS 007440-02-0) [Emissions, Emissions to water, Emissions to sea water]',\n",
       " 'Output: [4.08e-13 [kg]] hydrogen bromide (CAS 010035-10-6) [Emissions, Emissions to air, Emissions to air, unspecified]',\n",
       " 'Output: [8.76e-11 [kg]] phenanthrene (CAS 000085-01-8) [Emissions, Emissions to air, Emissions to air, unspecified]',\n",
       " 'Output: [1.96e-10 [kg]] manganese (CAS 007439-96-5) [Emissions, Emissions to air, Emissions to air, unspecified]',\n",
       " 'Output: [3.81e-08 [kg]] sulfate (CAS 014808-79-8) [Emissions, Emissions to water, Emissions to sea water]',\n",
       " 'Output: [3.93e-11 [kg]] CFC-12 (CAS 000075-71-8) [Emissions, Emissions to air, Emissions to air, unspecified]',\n",
       " 'Output: [2.73e-07 [kBq]] uranium-235 (CAS 015117-96-1) [Emissions, Emissions to air, Emissions to air, unspecified]',\n",
       " 'Output: [2.18e-09 [kg]] manganese (CAS 007439-96-5) [Emissions, Emissions to soil, Emissions to non-agricultural soil]',\n",
       " 'Output: [2.2e-10 [kg]] hydrocarbons (unspecified) [Emissions, Emissions to water, Emissions to fresh water]',\n",
       " 'Output: [2.36e-09 [kg]] volatile organic compound [Emissions, Emissions to water, Emissions to fresh water]',\n",
       " 'Output: [1.87e-10 [kg]] CFC-114 (CAS 000076-14-2) [Emissions, Emissions to air, Emissions to air, unspecified]',\n",
       " 'Output: [6.51e-06 [kBq]] cobalt-60 (CAS 010198-40-0) [Emissions, Emissions to water, Emissions to fresh water]',\n",
       " 'Output: [8.29e-09 [kg]] potassium (CAS 007440-09-7) [Emissions, Emissions to water, Emissions to fresh water]',\n",
       " 'Output: [2.57e-11 [kg]] arsenic (CAS 007440-38-2) [Emissions, Emissions to water, Emissions to sea water]',\n",
       " 'Output: [2.73e-13 [kg]] mercury (CAS 007439-97-6) [Emissions, Emissions to water, Emissions to sea water]',\n",
       " 'Output: [1.18e-16 [kg]] zinc oxide (CAS 001314-13-2) [Emissions, Emissions to air, Emissions to air, unspecified]',\n",
       " 'Output: [2.23e-08 [kg]] fluoride (CAS 016984-48-8) [Emissions, Emissions to water, Emissions to fresh water]',\n",
       " 'Output: [2.41e-08 [kg]] chlorine (CAS 007782-50-5) [Emissions, Emissions to water, Emissions to fresh water]',\n",
       " 'Output: [1.32e-09 [kBq]] cobalt-60 (CAS 010198-40-0) [Emissions, Emissions to air, Emissions to air, unspecified]',\n",
       " 'Output: [1.94e-09 [kg]] ethylene (CAS 000074-85-1) [Emissions, Emissions to air, Emissions to air, unspecified]',\n",
       " 'Output: [1.14e-10 [kg]] fluorine (CAS 007782-41-4) [Emissions, Emissions to water, Emissions to fresh water]',\n",
       " 'Output: [7.07e-08 [kBq]] uranium-234 (CAS 013966-29-5) [Emissions, Emissions to air, Emissions to air, unspecified]',\n",
       " 'Output: [2.46e-11 [kg]] mercury (CAS 007439-97-6) [Emissions, Emissions to air, Emissions to air, unspecified]',\n",
       " 'Output: [3.37e-13 [kg]] benzo[a]anthracene (CAS 000056-55-3) [Emissions, Emissions to water, Emissions to sea water]',\n",
       " 'Output: [1.2e-15 [kg]] benzo[k]fluoranthene (CAS 000207-08-9) [Emissions, Emissions to water, Emissions to fresh water]',\n",
       " 'Output: [4.8e-07 [kg]] total organic carbon [Emissions, Emissions to water, Emissions to fresh water]',\n",
       " 'Output: [1.67e-06 [kBq]] xenon-138 (CAS 015751-81-2) [Emissions, Emissions to air, Emissions to air, unspecified]',\n",
       " 'Output: [1.87e-11 [kg]] acrolein (CAS 000107-02-8) [Emissions, Emissions to air, Emissions to air, unspecified]',\n",
       " 'Output: [3.09e-12 [kg]] hydrocyanic acid (CAS 000074-90-8) [Emissions, Emissions to air, Emissions to air, unspecified]',\n",
       " 'Output: [9.86e-09 [kg]] Medium and low radioactive wastes [Deposited goods, Radioactive waste]',\n",
       " 'Output: [1.34e-11 [kg]] ethyl benzene (CAS 000100-41-4) [Emissions, Emissions to water, Emissions to fresh water]',\n",
       " 'Output: [1.23e-13 [kg]] sulfur (CAS 007704-34-9) [Emissions, Emissions to water, Emissions to sea water]',\n",
       " 'Output: [3.87e-13 [kg]] anthracene (CAS 000120-12-7) [Emissions, Emissions to water, Emissions to sea water]',\n",
       " 'Output: [1.17e-07 [kg]] barium (CAS 007440-39-3) [Emissions, Emissions to air, Emissions to air, unspecified]',\n",
       " 'Output: [7.22e-11 [kg]] total organic carbon [Emissions, Emissions to water, Emissions to sea water]',\n",
       " 'Output: [2.23e-12 [kg]] naphthalene (CAS 000091-20-3) [Emissions, Emissions to water, Emissions to fresh water]',\n",
       " 'Output: [9.04e-08 [kg]] carbonate (CAS 003812-32-6) [Emissions, Emissions to water, Emissions to sea water]',\n",
       " 'Output: [1.83e-10 [kg]] CFC-11 (CAS 000075-69-4) [Emissions, Emissions to air, Emissions to air, unspecified]',\n",
       " 'Output: [2.08e-12 [kg]] beryllium (CAS 007440-41-7) [Emissions, Emissions to water, Emissions to sea water]',\n",
       " 'Output: [0.000492 [kBq]] radium-226 (CAS 013982-63-3) [Emissions, Emissions to water, Emissions to fresh water]',\n",
       " 'Output: [4.47e-10 [kg]] iron (CAS 007439-89-6) [Emissions, Emissions to water, Emissions to sea water]',\n",
       " 'Output: [3.47e-06 [kg]] pentane (CAS 000109-66-0) [Emissions, Emissions to air, Emissions to air, unspecified]',\n",
       " 'Output: [7.18e-11 [kg]] tin (CAS 007440-31-5) [Emissions, Emissions to air, Emissions to air, unspecified]',\n",
       " 'Output: [4.82e-11 [kg]] chromium III (CAS 016065-83-1) [Emissions, Emissions to water, Emissions to fresh water]',\n",
       " 'Output: [1.55e-05 [kg]] dinitrogen (CAS 007727-37-9) [Emissions, Emissions to air, Emissions to air, unspecified]',\n",
       " 'Output: [6.6e-13 [kg]] silver (CAS 007440-22-4) [Emissions, Emissions to water, Emissions to fresh water]',\n",
       " 'Output: [7.22e-11 [kg]] biological oxygen demand [Emissions, Emissions to water, Emissions to sea water]',\n",
       " 'Output: [1.22e-15 [kg]] molybdenum (CAS 007439-98-7) [Emissions, Emissions to water, Emissions to sea water]',\n",
       " 'Output: [2.12e-13 [kg]] mercury (CAS 007439-97-6) [Emissions, Emissions to soil, Emissions to non-agricultural soil]',\n",
       " 'Output: [1.31e-08 [kg]] copper (CAS 007440-50-8) [Emissions, Emissions to water, Emissions to fresh water]',\n",
       " 'Output: [1.86e-14 [kg]] chrysene (CAS 000218-01-9) [Emissions, Emissions to water, Emissions to fresh water]',\n",
       " 'Output: [7.89e-12 [kg]] acid (as H+) (CAS 012408-02-5) [Emissions, Emissions to air, Emissions to air, unspecified]',\n",
       " 'Output: [8.29e-09 [kBq]] cesium-134 (CAS 013967-70-9) [Emissions, Emissions to air, Emissions to air, unspecified]',\n",
       " 'Output: [3.78e-05 [kg]] carbon monoxide (CAS 000630-08-0) [Emissions, Emissions to air, Emissions to air, unspecified]',\n",
       " 'Output: [1.94e-05 [kg]] ethane (CAS 000074-84-0) [Emissions, Emissions to air, Emissions to air, unspecified]',\n",
       " 'Output: [7.28e-10 [kg]] zinc (CAS 007440-66-6) [Emissions, Emissions to water, Emissions to sea water]',\n",
       " 'Output: [1.91e-08 [kg]] Uranium depleted [Deposited goods, Radioactive waste]',\n",
       " 'Output: [1.19e-07 [kBq]] plutonium (CAS 007440-07-5) [Emissions, Emissions to water, Emissions to fresh water]',\n",
       " 'Output: [1.35e-08 [kg]] hydrogen fluoride (CAS 007664-39-3) [Emissions, Emissions to air, Emissions to air, unspecified]',\n",
       " 'Output: [1.92e-11 [kg]] bromine (CAS 007726-95-6) [Emissions, Emissions to water, Emissions to fresh water]',\n",
       " 'Output: [2.23e-21 [kg]] palladium (CAS 007440-05-3) [Emissions, Emissions to air, Emissions to air, unspecified]',\n",
       " 'Output: [3.67e-20 [kg]] 1,2-dichloropropane (CAS 000078-87-5) [Emissions, Emissions to water, Emissions to fresh water]',\n",
       " 'Output: [4.93e-05 [kBq]] xenon-135 (CAS 014995-62-1) [Emissions, Emissions to air, Emissions to air, unspecified]',\n",
       " 'Output: [8.65e-12 [kg]] fluoranthene (CAS 000206-44-0) [Emissions, Emissions to air, Emissions to air, unspecified]',\n",
       " 'Output: [1.79e-10 [kg]] polycyclic aromatic hydrocarbons [Emissions, Emissions to air, Emissions to air, unspecified]',\n",
       " 'Output: [1.87e-10 [kg]] cobalt (CAS 007440-48-4) [Emissions, Emissions to soil, Emissions to non-agricultural soil]',\n",
       " 'Output: [5.98e-12 [kg]] R-40 (CAS 000074-87-3) [Emissions, Emissions to water, Emissions to fresh water]',\n",
       " 'Output: [2.78e-09 [kg]] CaF2 (low radioactice) [Deposited goods, Radioactive waste]',\n",
       " 'Output: [3.28e-12 [kg]] chrysene (CAS 000218-01-9) [Emissions, Emissions to air, Emissions to air, unspecified]',\n",
       " 'Output: [7.22e-13 [kg]] volatile organic compound [Emissions, Emissions to water, Emissions to sea water]',\n",
       " 'Output: [1.65e-08 [kg]] Waste radioactive [Deposited goods, Radioactive waste]',\n",
       " 'Output: [3.19e-15 [kg]] cresol (CAS 001319-77-3) [Emissions, Emissions to water, Emissions to sea water]',\n",
       " 'Output: [8.15e-13 [kg]] titanium (CAS 007440-32-6) [Emissions, Emissions to air, Emissions to air, unspecified]',\n",
       " 'Output: [4.95e-16 [kg]] hexane (CAS 000110-54-3) [Emissions, Emissions to water, Emissions to fresh water]',\n",
       " 'Output: [3.04e-12 [kBq]] plutonium (CAS 007440-07-5) [Emissions, Emissions to air, Emissions to air, unspecified]',\n",
       " 'Output: [6.02e-10 [kg]] lead (CAS 007439-92-1) [Emissions, Emissions to air, Emissions to air, unspecified]',\n",
       " 'Output: [1.52e-06 [kBq]] cesium-134 (CAS 013967-70-9) [Emissions, Emissions to water, Emissions to fresh water]',\n",
       " 'Output: [8.47e-11 [kg]] selenium (CAS 007782-49-2) [Emissions, Emissions to water, Emissions to fresh water]',\n",
       " 'Output: [1.18e-08 [kg]] aluminium (CAS 007429-90-5) [Emissions, Emissions to soil, Emissions to non-agricultural soil]',\n",
       " 'Output: [3.01e-09 [kg]] nickel (CAS 007440-02-0) [Emissions, Emissions to soil, Emissions to non-agricultural soil]',\n",
       " 'Output: [8.18e-12 [kg]] lead (CAS 007439-92-1) [Emissions, Emissions to water, Emissions to sea water]',\n",
       " 'Output: [3.96e-08 [kBq]] curium (CAS 007440-51-9) [Emissions, Emissions to water, Emissions to fresh water]',\n",
       " 'Output: [9.5e-16 [kg]] phosphine (CAS 007803-51-2) [Emissions, Emissions to air, Emissions to air, unspecified]',\n",
       " 'Output: [7.09e-11 [kg]] mercury (CAS 007439-97-6) [Emissions, Emissions to water, Emissions to fresh water]',\n",
       " 'Output: [2.36e-07 [kg]] biological oxygen demand [Emissions, Emissions to water, Emissions to fresh water]',\n",
       " 'Output: [4.68e-11 [kg]] manganese (CAS 007439-96-5) [Emissions, Emissions to water, Emissions to sea water]',\n",
       " 'Output: [1.28e-11 [kg]] sulfate (CAS 014808-79-8) [Emissions, Emissions to air, Emissions to air, unspecified]',\n",
       " 'Output: [4.3e-11 [kg]] HCFC-22 (CAS 000075-45-6) [Emissions, Emissions to air, Emissions to air, unspecified]',\n",
       " 'Output: [3.38e-06 [kg]] strontium (CAS 007440-24-6) [Emissions, Emissions to soil, Emissions to non-agricultural soil]',\n",
       " 'Output: [2.12e-10 [kBq]] antimony-125 (CAS 014234-35-6) [Emissions, Emissions to water, Emissions to fresh water]',\n",
       " 'Output: [1.18e-10 [kg]] magnesium (CAS 007439-95-4) [Emissions, Emissions to soil, Emissions to non-agricultural soil]',\n",
       " 'Output: [3.77e-11 [kg]] cadmium (CAS 007440-43-9) [Emissions, Emissions to soil, Emissions to non-agricultural soil]',\n",
       " 'Output: [1.42e-14 [kg]] aluminium (CAS 007429-90-5) [Emissions, Emissions to water, Emissions to sea water]',\n",
       " 'Output: [7.75e-09 [kg]] acetaldehyde (CAS 000075-07-0) [Emissions, Emissions to air, Emissions to air, unspecified]',\n",
       " 'Output: [5.2e-11 [kBq]] cobalt-58 (CAS 013981-38-9) [Emissions, Emissions to air, Emissions to air, unspecified]',\n",
       " 'Output: [8.87e-13 [kg]] indeno(1,2,3-cd)pyrene (CAS 000193-39-5) [Emissions, Emissions to air, Emissions to air, unspecified]',\n",
       " 'Output: [9.66e-08 [kg]] particles (PM10) [Emissions, Emissions to air, Emissions to air, unspecified]',\n",
       " 'Output: [2.75e-10 [kg]] propene (CAS 000115-07-1) [Emissions, Emissions to air, Emissions to air, unspecified]',\n",
       " 'Output: [1.66e-10 [kg]] selenium (CAS 007782-49-2) [Emissions, Emissions to air, Emissions to air, unspecified]',\n",
       " 'Output: [7.99e-20 [kg]] diethylamine (CAS 000109-89-7) [Emissions, Emissions to air, Emissions to air, unspecified]',\n",
       " 'Output: [0.000168 [kg]] nitrogen dioxide (CAS 010102-44-0) [Emissions, Emissions to air, Emissions to air, unspecified]',\n",
       " 'Output: [1.66e-06 [kg]] non-methane volatile organic compounds [Emissions, Emissions to air, Emissions to air, unspecified]',\n",
       " 'Output: [5.9e-17 [kg]] tin oxide (CAS 001332-29-2) [Emissions, Emissions to air, Emissions to air, unspecified]',\n",
       " 'Output: [5.91e-10 [kg]] vinyl chloride (CAS 000075-01-4) [Emissions, Emissions to air, Emissions to air, unspecified]',\n",
       " 'Output: [1.88e-12 [kg]] polychlorinated biphenyls (CAS 001336-36-3) [Emissions, Emissions to air, Emissions to air, unspecified]',\n",
       " 'Output: [4.17e-12 [kg]] arsenic (CAS 007440-38-2) [Emissions, Emissions to soil, Emissions to non-agricultural soil]',\n",
       " 'Output: [6.83e-14 [kg]] acenaphthylene (CAS 000208-96-8) [Emissions, Emissions to water, Emissions to fresh water]',\n",
       " 'Output: [5.37e-06 [kg]] ammonia (CAS 007664-41-7) [Emissions, Emissions to soil, Emissions to non-agricultural soil]',\n",
       " 'Output: [1.02e-06 [kg]] sulfide (CAS 018496-25-8) [Emissions, Emissions to soil, Emissions to non-agricultural soil]',\n",
       " 'Output: [7.95e-15 [kg]] benzo[a]anthracene (CAS 000056-55-3) [Emissions, Emissions to water, Emissions to fresh water]',\n",
       " 'Output: [5.75e-16 [kg]] 1,3,5-trimethylbenzene (CAS 000108-67-8) [Emissions, Emissions to air, Emissions to air, unspecified]',\n",
       " 'Output: [4.88e-06 [kg]] Radioactive tailings [Deposited goods, Radioactive waste]',\n",
       " 'Output: [2.43e-14 [kg]] chromium III (CAS 016065-83-1) [Emissions, Emissions to soil, Emissions to non-agricultural soil]',\n",
       " 'Output: [3.91e-10 [kg]] arsenic (CAS 007440-38-2) [Emissions, Emissions to water, Emissions to fresh water]',\n",
       " 'Output: [2.74e-11 [kg]] fluorene (CAS 000086-73-7) [Emissions, Emissions to air, Emissions to air, unspecified]',\n",
       " 'Output: [9.73e-09 [kBq]] iodine-131 (CAS 010043-66-0) [Emissions, Emissions to air, Emissions to air, unspecified]',\n",
       " 'Output: [1.6e-13 [kg]] sulfur (CAS 007704-34-9) [Emissions, Emissions to water, Emissions to fresh water]',\n",
       " 'Output: [1.9e-12 [kg]] chrysene (CAS 000218-01-9) [Emissions, Emissions to water, Emissions to sea water]',\n",
       " 'Output: [3.03e-05 [kBq]] carbon-14 (CAS 014762-75-5) [Emissions, Emissions to air, Emissions to air, unspecified]',\n",
       " 'Output: [2e-09 [kg]] manganese (CAS 007439-96-5) [Emissions, Emissions to water, Emissions to fresh water]',\n",
       " 'Output: [4.92e-11 [kg]] naphthalene (CAS 000091-20-3) [Emissions, Emissions to water, Emissions to sea water]',\n",
       " 'Output: [8.59e-06 [kBq]] uranium-238 (CAS 007440-61-1) [Emissions, Emissions to water, Emissions to fresh water]',\n",
       " 'Output: [2.49e-07 [kg]] ammonia (CAS 007664-41-7) [Emissions, Emissions to water, Emissions to fresh water]',\n",
       " 'Output: [6.48e-08 [kBq]] iodine-129 (CAS 015046-84-1) [Emissions, Emissions to air, Emissions to air, unspecified]',\n",
       " 'Output: [6.24e-11 [kg]] cadmium (CAS 007440-43-9) [Emissions, Emissions to water, Emissions to sea water]',\n",
       " 'Output: [0.000149 [kBq]] xenon-133 (CAS 014932-42-4) [Emissions, Emissions to air, Emissions to air, unspecified]',\n",
       " 'Output: [3.59e-09 [kg]] nickel (CAS 007440-02-0) [Emissions, Emissions to water, Emissions to fresh water]',\n",
       " 'Output: [2.51e-11 [kg]] calcium (CAS 007440-70-2) [Emissions, Emissions to water, Emissions to sea water]',\n",
       " 'Output: [2.99e-08 [kBq]] ruthenium-106 (CAS 013967-48-1) [Emissions, Emissions to water, Emissions to fresh water]',\n",
       " 'Output: [3.11e-10 [kBq]] antimony-124 (CAS 014683-10-4) [Emissions, Emissions to water, Emissions to fresh water]',\n",
       " 'Output: [8.31e-09 [kg]] Highly radioactive waste [Deposited goods, Radioactive waste]',\n",
       " 'Output: [1.12e-11 [kg]] cobalt (CAS 007440-48-4) [Emissions, Emissions to water, Emissions to fresh water]',\n",
       " 'Output: [8.3e-07 [kg]] particles (PM2.5) [Emissions, Emissions to air, Emissions to air, unspecified]',\n",
       " 'Output: [5.72e-13 [kg]] acenaphthylene (CAS 000208-96-8) [Emissions, Emissions to water, Emissions to sea water]',\n",
       " 'Output: [2.79e-10 [kg]] naphthalene (CAS 000091-20-3) [Emissions, Emissions to air, Emissions to air, unspecified]',\n",
       " 'Output: [3.28e-15 [kg]] phenol (CAS 000108-95-2) [Emissions, Emissions to air, Emissions to air, unspecified]',\n",
       " 'Output: [1.05e-08 [kg]] chromium (CAS 007440-47-3) [Emissions, Emissions to soil, Emissions to non-agricultural soil]',\n",
       " 'Output: [1.44e-09 [kg]] barium (CAS 007440-39-3) [Emissions, Emissions to water, Emissions to sea water]',\n",
       " 'Output: [8.57e-09 [kg]] sulfide (CAS 018496-25-8) [Emissions, Emissions to water, Emissions to fresh water]',\n",
       " 'Output: [1.29e-08 [kBq]] xenon-137 (CAS 014835-21-3) [Emissions, Emissions to air, Emissions to air, unspecified]',\n",
       " 'Output: [4.23e-13 [kg]] ammonia (CAS 007664-41-7) [Emissions, Emissions to water, Emissions to sea water]',\n",
       " 'Output: [2.3e-13 [kg]] boron (CAS 007440-42-8) [Emissions, Emissions to water, Emissions to sea water]',\n",
       " 'Output: [1.55e-16 [kg]] magnesium (CAS 007439-95-4) [Emissions, Emissions to water, Emissions to fresh water]',\n",
       " 'Output: [6.06e-15 [kg]] ammonium (CAS 014798-03-9) [Emissions, Emissions to air, Emissions to air, unspecified]',\n",
       " 'Output: [1.18e-11 [kg]] benzo[a]pyrene (CAS 000050-32-8) [Emissions, Emissions to air, Emissions to air, unspecified]',\n",
       " 'Output: [4.11e-11 [kg]] copper (CAS 007440-50-8) [Emissions, Emissions to water, Emissions to sea water]',\n",
       " 'Output: [3.53e-07 [kBq]] uranium-238 (CAS 007440-61-1) [Emissions, Emissions to air, Emissions to air, unspecified]',\n",
       " 'Output: [1.03e-14 [kg]] arsenic trioxide (CAS 001327-53-3) [Emissions, Emissions to air, Emissions to air, unspecified]',\n",
       " 'Output: [1.48e-07 [kg]] phosphate (CAS 014265-44-2) [Emissions, Emissions to water, Emissions to fresh water]',\n",
       " 'Output: [7.87e-10 [kg]] cadmium (CAS 007440-43-9) [Emissions, Emissions to water, Emissions to fresh water]',\n",
       " 'Output: [0.000133 [kg]] demolition waste (unspecified) [Wastes, Construction waste]',\n",
       " 'Output: [9.49e-15 [kg]] carbon disulfide (CAS 000075-15-0) [Emissions, Emissions to air, Emissions to air, unspecified]',\n",
       " 'Output: [2.19e-12 [kg]] cyanide (CAS 000057-12-5) [Emissions, Emissions to water, Emissions to fresh water]',\n",
       " 'Output: [2.73e-09 [kg]] decane (CAS 000124-18-5) [Emissions, Emissions to water, Emissions to sea water]',\n",
       " 'Output: [2.47e-11 [kg]] CFC-13 (CAS 000075-72-9) [Emissions, Emissions to air, Emissions to air, unspecified]',\n",
       " 'Output: [2.58e-09 [kg]] chromium (CAS 007440-47-3) [Emissions, Emissions to water, Emissions to fresh water]',\n",
       " 'Output: [2.84e-09 [kg]] boron (CAS 007440-42-8) [Emissions, Emissions to air, Emissions to air, unspecified]',\n",
       " 'Output: [6.34e-10 [kg]] phenol (CAS 000108-95-2) [Emissions, Emissions to water, Emissions to sea water]',\n",
       " 'Output: [0.0526 [kg]] water vapour (CAS 007732-18-5) [Emissions, Emissions to air, Emissions to air, unspecified]',\n",
       " 'Output: [1.12e-16 [kg]] antimony (CAS 007440-36-0) [Emissions, Emissions to water, Emissions to fresh water]',\n",
       " 'Output: [6.68e-07 [kg]] formaldehyde (CAS 000050-00-0) [Emissions, Emissions to air, Emissions to air, unspecified]',\n",
       " 'Output: [0.00514 [kg]] Overburden (deposited) [Deposited goods, Stockpile goods]',\n",
       " 'Output: [1.69e-08 [kBq]] cesium-137 (CAS 010045-97-3) [Emissions, Emissions to air, Emissions to air, unspecified]',\n",
       " 'Output: [8.54e-13 [kg]] hydrogen arsenide (CAS 007784-42-1) [Emissions, Emissions to air, Emissions to air, unspecified]']"
      ]
     },
     "execution_count": 9,
     "metadata": {},
     "output_type": "execute_result"
    }
   ],
   "source": [
    "[str(x) for x in p.exchanges()]"
   ]
  },
  {
   "cell_type": "code",
   "execution_count": 10,
   "metadata": {
    "collapsed": false,
    "scrolled": true
   },
   "outputs": [
    {
     "name": "stdout",
     "output_type": "stream",
     "text": [
      "Loading /home/b/Dropbox/data/ELCD/ELCD3.2.zip\n",
      "Duplicate Characterization in filename ILCD/flows/d1008171-2d06-4e14-b107-7e510875203f.xml\n",
      " LC quantity: Energy renewable and non renewable (net calorific value) = 14\n",
      "Duplicate Characterization in filename ILCD/flows/439de0df-6861-4bb9-8ac6-7e94bbe9f284.xml\n",
      " LC quantity: Energy renewable and non renewable (net calorific value) = 14.65\n",
      "In file ILCD/processes/1323a7e6-7841-47db-8da1-06355432a908.xml:\n",
      "Creating DUMMY flow (cd5c80bb-995b-456f-a12d-77b9b2ffad43) with name Hazardous waste (underground deposit)\n",
      "94 new quantity entities added (94 total)\n",
      "2343 new flow entities added (2343 total)\n",
      "503 new process entities added (503 total)\n",
      "CPU times: user 23.6 s, sys: 110 ms, total: 23.7 s\n",
      "Wall time: 23.7 s\n"
     ]
    }
   ],
   "source": [
    "%time elcd32.load_all()"
   ]
  },
  {
   "cell_type": "code",
   "execution_count": 11,
   "metadata": {
    "collapsed": false
   },
   "outputs": [
    {
     "data": {
      "text/plain": [
       "['Waste (unspecified) [Deposited goods, Consumer waste]: [0 [EUR]] LC quantity: Price',\n",
       " 'Waste (unspecified) [Deposited goods, Consumer waste]: [1 [kg]] LC quantity: EDIP 1997, Bulk waste',\n",
       " 'Waste (unspecified) [Deposited goods, Consumer waste]: [15 [MJ]] LC quantity: Net calorific value',\n",
       " 'Waste (unspecified) [Deposited goods, Consumer waste]: [1 [kg]] LC quantity: Mass',\n",
       " 'Waste (unspecified) [Deposited goods, Consumer waste]: [15.6 [MJ]] LC quantity: Gross calorific value',\n",
       " 'Waste (unspecified) [Deposited goods, Consumer waste]: [15 [MJ]] LC quantity: Energy renewable and non renewable (net calorific value)',\n",
       " 'Waste (unspecified) [Deposited goods, Consumer waste]: [15.6 [MJ]] LC quantity: Energy renewable and non renewable (gross calorific value)']"
      ]
     },
     "execution_count": 11,
     "metadata": {},
     "output_type": "execute_result"
    }
   ],
   "source": [
    "[str(x) for x in elcd32['71d1241f-fb2b-4774-9c17-18f19955c2db'].characterizations()]"
   ]
  },
  {
   "cell_type": "code",
   "execution_count": 12,
   "metadata": {
    "collapsed": true
   },
   "outputs": [],
   "source": [
    "q = elcd32.quantities()[0]"
   ]
  },
  {
   "cell_type": "code",
   "execution_count": 13,
   "metadata": {
    "collapsed": false
   },
   "outputs": [
    {
     "data": {
      "text/plain": [
       "{'Comment': 'Reference Flow Property Data Set of the International Reference Life Cycle Data System (ILCD).',\n",
       " 'Name': 'Net calorific value',\n",
       " 'UnitConversion': {'GJ': 0.001,\n",
       "  'J': 1000000.0,\n",
       "  'MJ': 1.0,\n",
       "  'MWh': 0.0002777777777777778,\n",
       "  'TCE': 3.412084237535657e-05,\n",
       "  'TOE': 2.3884589662749594e-05,\n",
       "  'btu': 947.8169879134379,\n",
       "  'kWh': 0.2777777777777778,\n",
       "  'kcal': 238.85160149998808},\n",
       " 'entityId': '93a60a56-a3c8-11da-a746-0800200c9a66',\n",
       " 'entityType': 'quantity',\n",
       " 'externalId': 'flowproperties/93a60a56-a3c8-11da-a746-0800200c9a66',\n",
       " 'origin': '/home/b/Dropbox/data/ELCD/ELCD3.2.zip',\n",
       " 'referenceUnit': 'unitgroups/93a60a57-a3c8-11da-a746-0800200c9a66'}"
      ]
     },
     "execution_count": 13,
     "metadata": {},
     "output_type": "execute_result"
    }
   ],
   "source": [
    "q.serialize()"
   ]
  },
  {
   "cell_type": "code",
   "execution_count": 14,
   "metadata": {
    "collapsed": false
   },
   "outputs": [
    {
     "data": {
      "text/plain": [
       "{'_external_ref': 'unitgroups/93a60a57-a3c8-11da-a746-0800200c9a66',\n",
       " '_unitstring': 'MJ',\n",
       " '_uuid': UUID('93a60a57-a3c8-11da-a746-0800200c9a66')}"
      ]
     },
     "execution_count": 14,
     "metadata": {},
     "output_type": "execute_result"
    }
   ],
   "source": [
    "q.reference_entity.__dict__"
   ]
  },
  {
   "cell_type": "code",
   "execution_count": 14,
   "metadata": {
    "collapsed": false
   },
   "outputs": [],
   "source": [
    "elcd32.write_to_file(os.path.join(catalog_dir, 'elcd_3.2.json.gz'), exchanges=True, gzip=True, values=True)"
   ]
  },
  {
   "cell_type": "code",
   "execution_count": 15,
   "metadata": {
    "collapsed": true
   },
   "outputs": [],
   "source": [
    "p = elcd32.processes()[21]"
   ]
  },
  {
   "cell_type": "code",
   "execution_count": 16,
   "metadata": {
    "collapsed": false
   },
   "outputs": [
    {
     "data": {
      "text/plain": [
       "[' Input: [0.0341 [kg]] carbon dioxide (CAS 000124-38-9) [Resources, Resources from air, Renewable material resources from air]',\n",
       " ' Input: [0.00814 [kg]] natural aggregate [Resources, Resources from ground, Non-renewable material resources from ground]',\n",
       " ' Input: [4.74e-05 [kg]] kaolin (CAS 001332-58-7) [Resources, Resources from ground, Non-renewable material resources from ground]',\n",
       " ' Input: [1.63 [kg]] inert rock [Resources, Resources from ground, Non-renewable material resources from ground]',\n",
       " ' Input: [3.92e-12 [kg]] dinitrogen (CAS 007727-37-9) [Resources, Resources from air, Renewable element resources from air]',\n",
       " ' Input: [3.05e-17 [kg]] slate [Resources, Resources from ground, Non-renewable material resources from ground]',\n",
       " ' Input: [5.99e-09 [kg]] silicon (CAS 007440-21-3) [Resources, Resources from ground, Non-renewable element resources from ground]',\n",
       " ' Input: [3.77e-07 [kg]] basalt [Resources, Resources from ground, Non-renewable material resources from ground]',\n",
       " ' Input: [0.175 [MJ]] primary energy from hydro power [Resources, Resources from water, Renewable energy resources from water]',\n",
       " ' Input: [1.59e-08 [kg]] tantalum (CAS 007440-25-7) [Resources, Resources from ground, Non-renewable element resources from ground]',\n",
       " ' Input: [0.000686 [kg]] quartz sand (CAS 014808-60-7) [Resources, Resources from ground, Non-renewable material resources from ground]',\n",
       " ' Input: [9.36e-11 [kg]] carbon (CAS 007782-42-5) [Resources, Resources from ground, Non-renewable material resources from ground]',\n",
       " ' Input: [1.38e-07 [kg]] molybdenum (CAS 007439-98-7) [Resources, Resources from ground, Non-renewable element resources from ground]',\n",
       " ' Input: [0.0672 [kg]] sodium chloride (CAS 007647-14-5) [Resources, Resources from ground, Non-renewable material resources from ground]',\n",
       " ' Input: [3.67 [kg]] air [Resources, Resources from air, Renewable material resources from air]',\n",
       " ' Input: [1.89e-13 [kg]] rhodium (CAS 007440-16-6) [Resources, Resources from ground, Non-renewable element resources from ground]',\n",
       " ' Input: [9.07e-05 [kg]] dolomite (CAS 069227-00-5) [Resources, Resources from ground, Non-renewable material resources from ground]',\n",
       " ' Input: [0.0117 [MJ]] primary energy from geothermics [Resources, Resources from ground, Renewable energy resources from ground]',\n",
       " ' Input: [1.89e-12 [kg]] platinum (CAS 007440-06-4) [Resources, Resources from ground, Non-renewable element resources from ground]',\n",
       " ' Input: [1.03e-14 [kg]] mercury (CAS 007439-97-6) [Resources, Resources from ground, Non-renewable element resources from ground]',\n",
       " ' Input: [0.0198 [kg]] Steel scrap [Production residues in life cycle, Waste for recovery]',\n",
       " ' Input: [5.83e-08 [kg]] gold (CAS 007440-57-5) [Resources, Resources from ground, Non-renewable element resources from ground]',\n",
       " ' Input: [6.94 [MJ]] natural gas;  44.1 MJ/kg [Resources, Resources from ground, Non-renewable energy resources from ground]',\n",
       " ' Input: [2.53e-05 [kg]] phosphorus (CAS 007723-14-0) [Resources, Resources from ground, Non-renewable element resources from ground]',\n",
       " ' Input: [2.83e-12 [kg]] calcium chloride (CAS 010043-52-4) [Resources, Resources from ground, Non-renewable material resources from ground]',\n",
       " ' Input: [0.000224 [kg]] antimony (CAS 007440-36-0) [Resources, Resources from ground, Non-renewable element resources from ground]',\n",
       " ' Input: [-0.0129 [kg]] iron (CAS 007439-89-6) [Resources, Resources from ground, Non-renewable element resources from ground]',\n",
       " ' Input: [-0.000477 [MJ]] peat;  8.4 MJ/kg [Resources, Resources from ground, Non-renewable energy resources from ground]',\n",
       " ' Input: [1.51e-06 [kg]] tin (CAS 007440-31-5) [Resources, Resources from ground, Non-renewable element resources from ground]',\n",
       " ' Input: [0.15 [MJ]] primary energy from wind power [Resources, Resources from air, Renewable energy resources from air]',\n",
       " ' Input: [0.00796 [kg]] soil [Resources, Resources from ground, Non-renewable material resources from ground]',\n",
       " ' Input: [1.21e-07 [kg]] baryte (CAS 007727-43-7) [Resources, Resources from ground, Non-renewable material resources from ground]',\n",
       " ' Input: [0.0366 [kg]] Iron scrap [Production residues in life cycle, Waste for recovery]',\n",
       " ' Input: [5.8e-13 [kg]] sand [Resources, Resources from ground, Non-renewable material resources from ground]',\n",
       " ' Input: [2.53 [MJ]] hard coal;  26.3 MJ/kg [Resources, Resources from ground, Non-renewable energy resources from ground]',\n",
       " ' Input: [1.12 [MJ]] uranium (CAS 007440-61-1) [Resources, Resources from ground, Non-renewable energy resources from ground]',\n",
       " ' Input: [27 [kg]] lake water (CAS 007732-18-5) [Resources, Resources from water, Renewable material resources from water]',\n",
       " ' Input: [3.4 [kg]] sea water (CAS 007732-18-5) [Resources, Resources from water, Renewable material resources from water]',\n",
       " ' Input: [1.54e-07 [kg]] titanium (CAS 007440-32-6) [Resources, Resources from ground, Non-renewable element resources from ground]',\n",
       " ' Input: [595 [kg]] river water (CAS 007732-18-5) [Resources, Resources from water, Renewable material resources from water]',\n",
       " ' Input: [0.284 [MJ]] primary energy from solar energy [Resources, Resources from air, Renewable energy resources from air]',\n",
       " ' Input: [6.8e-05 [kg]] gypsum (CAS 007778-18-9) [Resources, Resources from ground, Non-renewable material resources from ground]',\n",
       " ' Input: [5.42e-09 [kg]] magnesium (CAS 007439-95-4) [Resources, Resources from ground, Non-renewable element resources from ground]',\n",
       " ' Input: [0.000388 [kg]] bauxite (CAS 001318-16-7) [Resources, Resources from ground, Non-renewable material resources from ground]',\n",
       " ' Input: [0.00242 [kg]] stone [Resources, Resources from ground, Non-renewable material resources from ground]',\n",
       " ' Input: [1.3e-11 [MJ]] wood;  14.7 MJ/kg [Resources, Resources from biosphere, Renewable energy resources from biosphere]',\n",
       " ' Input: [4e-06 [kg]] magnesite (CAS 000546-93-0) [Resources, Resources from ground, Non-renewable material resources from ground]',\n",
       " ' Input: [6.31e-14 [kg]] iridium (CAS 007439-88-5) [Resources, Resources from ground, Non-renewable element resources from ground]',\n",
       " ' Input: [6.77e-09 [kg]] vanadium (CAS 007440-62-2) [Resources, Resources from ground, Non-renewable element resources from ground]',\n",
       " ' Input: [1.48e-21 [kg]] feldspar (CAS 012168-80-8) [Resources, Resources from ground, Non-renewable material resources from ground]',\n",
       " ' Input: [0.000201 [kg]] bentonite (CAS 001302-78-9) [Resources, Resources from ground, Non-renewable material resources from ground]',\n",
       " ' Input: [1.35 [MJ]] crude oil; 42.3 MJ/kg [Resources, Resources from ground, Non-renewable energy resources from ground]',\n",
       " ' Input: [2.96e-05 [kg]] colemanite (CAS 001318-33-8) [Resources, Resources from ground, Non-renewable material resources from ground]',\n",
       " ' Input: [0.495 [MJ]] brown coal;  11.9 MJ/kg [Resources, Resources from ground, Non-renewable energy resources from ground]',\n",
       " ' Input: [0.000627 [kg]] magnesium chloride (CAS 007786-30-3) [Resources, Resources from ground, Non-renewable material resources from ground]',\n",
       " ' Input: [0.000915 [kg]] oxygen (CAS 007782-44-7) [Resources, Resources from air, Renewable element resources from air]',\n",
       " ' Input: [4.94e-10 [MJ]] biomass;  14.7 MJ/kg [Resources, Resources from biosphere, Renewable energy resources from biosphere]',\n",
       " ' Input: [1.12e-12 [kg]] palladium (CAS 007440-05-3) [Resources, Resources from ground, Non-renewable element resources from ground]',\n",
       " ' Input: [1.33e-14 [kg]] zirconium (CAS 007440-67-7) [Resources, Resources from ground, Non-renewable element resources from ground]',\n",
       " ' Input: [1.98e-06 [kg]] chromium (CAS 007440-47-3) [Resources, Resources from ground, Non-renewable element resources from ground]',\n",
       " ' Input: [5.26e-06 [kg]] pyrite (CAS 001309-36-0) [Resources, Resources from ground, Non-renewable material resources from ground]',\n",
       " ' Input: [1.34e-11 [kg]] sulfur (CAS 007704-34-9) [Resources, Resources from ground, Non-renewable element resources from ground]',\n",
       " ' Input: [2.77e-14 [kg]] barium sulfate (CAS 007727-43-7) [Resources, Resources from ground, Non-renewable material resources from ground]',\n",
       " ' Input: [9.23e-12 [MJ]] primary energy from waves [Resources, Resources from water, Renewable energy resources from water]',\n",
       " ' Input: [3.74e-13 [kg]] ruthenium (CAS 007440-18-8) [Resources, Resources from ground, Non-renewable element resources from ground]',\n",
       " ' Input: [0.000303 [kg]] copper (CAS 007440-50-8) [Resources, Resources from ground, Non-renewable element resources from ground]',\n",
       " ' Input: [1.63e-05 [kg]] selenium (CAS 007782-49-2) [Resources, Resources from ground, Non-renewable element resources from ground]',\n",
       " ' Input: [7.59e-19 [kg]] granite [Resources, Resources from ground, Non-renewable material resources from ground]',\n",
       " ' Input: [7.7e-14 [kg]] osmium (CAS 007440-04-2) [Resources, Resources from ground, Non-renewable element resources from ground]',\n",
       " ' Input: [0.0466 [kg]] calcium carbonate (CAS 000471-34-1) [Resources, Resources from ground, Non-renewable material resources from ground]',\n",
       " ' Input: [1.4 [kg]] ground water (CAS 007732-18-5) [Resources, Resources from water, Renewable material resources from water]',\n",
       " ' Input: [1.95e-06 [kg]] lead (CAS 007439-92-1) [Resources, Resources from ground, Non-renewable element resources from ground]',\n",
       " ' Input: [0.000182 [kg]] potassium (CAS 007440-09-7) [Resources, Resources from ground, Non-renewable element resources from ground]',\n",
       " ' Input: [3.41e-11 [kg]] cobalt (CAS 007440-48-4) [Resources, Resources from ground, Non-renewable element resources from ground]',\n",
       " ' Input: [4.36e-06 [kg]] fluorspar (CAS 014542-23-5) [Resources, Resources from ground, Non-renewable material resources from ground]',\n",
       " ' Input: [8.05e-13 [kg]] sodium sulfate (CAS 007757-82-6) [Resources, Resources from ground, Non-renewable material resources from ground]',\n",
       " ' Input: [1.06e-06 [kg]] silver (CAS 007440-22-4) [Resources, Resources from ground, Non-renewable element resources from ground]',\n",
       " ' Input: [5.85e-15 [kg]] olivine (CAS 019086-72-7) [Resources, Resources from ground, Non-renewable material resources from ground]',\n",
       " ' Input: [-5.99e-05 [kg]] manganese (CAS 007439-96-5) [Resources, Resources from ground, Non-renewable element resources from ground]',\n",
       " ' Input: [-4.65e-07 [kg]] nickel (CAS 007440-02-0) [Resources, Resources from ground, Non-renewable element resources from ground]',\n",
       " ' Input: [0.00112 [kg]] clay (CAS 070694-09-6) [Resources, Resources from ground, Non-renewable material resources from ground]',\n",
       " ' Input: [6.51e-10 [kg]] talc (CAS 014807-96-6) [Resources, Resources from ground, Non-renewable material resources from ground]',\n",
       " ' Input: [2.87e-07 [kg]] raw pumice [Resources, Resources from ground, Non-renewable material resources from ground]',\n",
       " ' Input: [1.12e-13 [kg]] potassium chloride (CAS 007447-40-7) [Resources, Resources from ground, Non-renewable material resources from ground]',\n",
       " ' Input: [0.00028 [kg]] zinc (CAS 007440-66-6) [Resources, Resources from ground, Non-renewable element resources from ground]',\n",
       " ' Input: [1.13e-21 [kg]] sodium nitrate (CAS 007631-99-4) [Resources, Resources from ground, Non-renewable material resources from ground]']"
      ]
     },
     "execution_count": 16,
     "metadata": {},
     "output_type": "execute_result"
    }
   ],
   "source": [
    "[str(x) for x in p.exchanges() if x.direction == 'Input']"
   ]
  },
  {
   "cell_type": "code",
   "execution_count": 17,
   "metadata": {
    "collapsed": false
   },
   "outputs": [
    {
     "data": {
      "text/plain": [
       "503"
      ]
     },
     "execution_count": 17,
     "metadata": {},
     "output_type": "execute_result"
    }
   ],
   "source": [
    "len(elcd32.processes())"
   ]
  },
  {
   "cell_type": "code",
   "execution_count": 18,
   "metadata": {
    "collapsed": false
   },
   "outputs": [
    {
     "data": {
      "text/plain": [
       "<lcatools.entities.LcProcess at 0x7fd4b2e6d2e8>"
      ]
     },
     "execution_count": 18,
     "metadata": {},
     "output_type": "execute_result"
    }
   ],
   "source": [
    "p"
   ]
  },
  {
   "cell_type": "code",
   "execution_count": 19,
   "metadata": {
    "collapsed": false
   },
   "outputs": [
    {
     "data": {
      "text/plain": [
       "597"
      ]
     },
     "execution_count": 19,
     "metadata": {},
     "output_type": "execute_result"
    }
   ],
   "source": [
    "len([x for x in p.exchanges()])"
   ]
  },
  {
   "cell_type": "code",
   "execution_count": 20,
   "metadata": {
    "collapsed": true
   },
   "outputs": [],
   "source": [
    "import itertools"
   ]
  },
  {
   "cell_type": "code",
   "execution_count": 21,
   "metadata": {
    "collapsed": false
   },
   "outputs": [],
   "source": [
    "def group_exchanges(proc):\n",
    "    groups = []\n",
    "    keys = []\n",
    "    key = lambda x: x.flow['Compartment']\n",
    "    for i, j in itertools.groupby(sorted(proc.exchanges(), key=key), key):\n",
    "        groups.append(list(j))\n",
    "        keys.append(i)\n",
    "    return keys,groups"
   ]
  },
  {
   "cell_type": "code",
   "execution_count": 22,
   "metadata": {
    "collapsed": false
   },
   "outputs": [
    {
     "name": "stdout",
     "output_type": "stream",
     "text": [
      "CPU times: user 10 ms, sys: 0 ns, total: 10 ms\n",
      "Wall time: 5.34 ms\n"
     ]
    }
   ],
   "source": [
    "%time keys,groups=group_exchanges(p)"
   ]
  },
  {
   "cell_type": "code",
   "execution_count": 23,
   "metadata": {
    "collapsed": false
   },
   "outputs": [
    {
     "name": "stdout",
     "output_type": "stream",
     "text": [
      "CPU times: user 0 ns, sys: 0 ns, total: 0 ns\n",
      "Wall time: 1.2 ms\n"
     ]
    },
    {
     "data": {
      "text/plain": [
       "{'Deposited goods',\n",
       " 'Emissions',\n",
       " 'Emissions to air',\n",
       " 'Production residues in life cycle',\n",
       " 'Resources',\n",
       " 'Valuable substances',\n",
       " 'Wastes'}"
      ]
     },
     "execution_count": 23,
     "metadata": {},
     "output_type": "execute_result"
    }
   ],
   "source": [
    "%time set([x.flow['Compartment'][0] for x in p.exchanges()])"
   ]
  },
  {
   "cell_type": "code",
   "execution_count": 24,
   "metadata": {
    "collapsed": false
   },
   "outputs": [
    {
     "data": {
      "text/plain": [
       "['Output: [5.1e-08 [kg]] nickel (CAS 007440-02-0) [Emissions, Emissions to soil, Emissions to agricultural soil]',\n",
       " 'Output: [1.49e-07 [kg]] lead (CAS 007439-92-1) [Emissions, Emissions to soil, Emissions to agricultural soil]',\n",
       " 'Output: [1.03e-07 [kg]] chromium III (CAS 016065-83-1) [Emissions, Emissions to soil, Emissions to agricultural soil]',\n",
       " 'Output: [4.08e-07 [kg]] zinc (CAS 007440-66-6) [Emissions, Emissions to soil, Emissions to agricultural soil]',\n",
       " 'Output: [5.05e-09 [kg]] cadmium (CAS 007440-43-9) [Emissions, Emissions to soil, Emissions to agricultural soil]',\n",
       " 'Output: [1.03e-09 [kg]] mercury (CAS 007439-97-6) [Emissions, Emissions to soil, Emissions to agricultural soil]',\n",
       " 'Output: [9.65e-08 [kg]] copper (CAS 007440-50-8) [Emissions, Emissions to soil, Emissions to agricultural soil]',\n",
       " 'Output: [-1.26e-11 [kg]] chromium (CAS 007440-47-3) [Emissions, Emissions to soil, Emissions to agricultural soil]']"
      ]
     },
     "execution_count": 24,
     "metadata": {},
     "output_type": "execute_result"
    }
   ],
   "source": [
    "[str(x) for x in groups[3]]"
   ]
  },
  {
   "cell_type": "code",
   "execution_count": 25,
   "metadata": {
    "collapsed": false
   },
   "outputs": [
    {
     "data": {
      "text/plain": [
       "[['Deposited goods', 'Radioactive waste'],\n",
       " ['Deposited goods', 'Stockpile goods'],\n",
       " ['Emissions', 'Emissions to air', 'Emissions to air, unspecified'],\n",
       " ['Emissions', 'Emissions to soil', 'Emissions to agricultural soil'],\n",
       " ['Emissions', 'Emissions to soil', 'Emissions to non-agricultural soil'],\n",
       " ['Emissions', 'Emissions to water', 'Emissions to fresh water'],\n",
       " ['Emissions', 'Emissions to water', 'Emissions to sea water'],\n",
       " ['Emissions to air', 'Inorganic emissions to air'],\n",
       " ['Emissions to air', 'Other emissions to air'],\n",
       " ['Production residues in life cycle', 'Hazardous waste for recovery'],\n",
       " ['Production residues in life cycle', 'Waste for recovery'],\n",
       " ['Resources', 'Resources from air', 'Renewable element resources from air'],\n",
       " ['Resources', 'Resources from air', 'Renewable energy resources from air'],\n",
       " ['Resources', 'Resources from air', 'Renewable material resources from air'],\n",
       " ['Resources',\n",
       "  'Resources from biosphere',\n",
       "  'Renewable energy resources from biosphere'],\n",
       " ['Resources',\n",
       "  'Resources from ground',\n",
       "  'Non-renewable element resources from ground'],\n",
       " ['Resources',\n",
       "  'Resources from ground',\n",
       "  'Non-renewable energy resources from ground'],\n",
       " ['Resources',\n",
       "  'Resources from ground',\n",
       "  'Non-renewable material resources from ground'],\n",
       " ['Resources',\n",
       "  'Resources from ground',\n",
       "  'Renewable energy resources from ground'],\n",
       " ['Resources',\n",
       "  'Resources from water',\n",
       "  'Renewable energy resources from water'],\n",
       " ['Resources',\n",
       "  'Resources from water',\n",
       "  'Renewable material resources from water'],\n",
       " ['Valuable substances', 'Materials', 'Metals'],\n",
       " ['Wastes', 'Mining waste'],\n",
       " ['Wastes', 'Production residues']]"
      ]
     },
     "execution_count": 25,
     "metadata": {},
     "output_type": "execute_result"
    }
   ],
   "source": [
    "keys"
   ]
  },
  {
   "cell_type": "code",
   "execution_count": 26,
   "metadata": {
    "collapsed": true
   },
   "outputs": [],
   "source": [
    "from lcatools.providers.ilcd_lcia import IlcdLcia"
   ]
  },
  {
   "cell_type": "code",
   "execution_count": 27,
   "metadata": {
    "collapsed": false
   },
   "outputs": [
    {
     "name": "stdout",
     "output_type": "stream",
     "text": [
      "Found Extension: zip\n"
     ]
    }
   ],
   "source": [
    "elcd_lcia = IlcdLcia(elcd3_file, upstream=elcd32, quiet=True)"
   ]
  },
  {
   "cell_type": "code",
   "execution_count": 28,
   "metadata": {
    "collapsed": false
   },
   "outputs": [],
   "source": []
  },
  {
   "cell_type": "code",
   "execution_count": 29,
   "metadata": {
    "collapsed": false
   },
   "outputs": [],
   "source": [
    "l = elcd_lcia.retrieve_or_fetch_entity(L[0])"
   ]
  },
  {
   "cell_type": "code",
   "execution_count": 10,
   "metadata": {
    "collapsed": true
   },
   "outputs": [],
   "source": [
    "from lcatools.providers.ilcd import find_tag, find_common, find_ns"
   ]
  },
  {
   "cell_type": "code",
   "execution_count": 12,
   "metadata": {
    "collapsed": false
   },
   "outputs": [],
   "source": [
    "ns = find_ns(l.nsmap, 'LCIAMethod')"
   ]
  },
  {
   "cell_type": "code",
   "execution_count": 25,
   "metadata": {
    "collapsed": false
   },
   "outputs": [
    {
     "data": {
      "text/plain": [
       "['Comparative Toxic Unit for human (CTUh)expressing the estimated increase in morbidity in the total human population per unit mass of a chemical emitted (cases per kilogramme).']"
      ]
     },
     "execution_count": 25,
     "metadata": {},
     "output_type": "execute_result"
    }
   ],
   "source": [
    "find_tag(l, 'impactIndicator')"
   ]
  },
  {
   "cell_type": "code",
   "execution_count": 22,
   "metadata": {
    "collapsed": false
   },
   "outputs": [
    {
     "data": {
      "text/plain": [
       "'LCIAmethods/324d2515-5985-4563-87d8-f59053db774d.xml'"
      ]
     },
     "execution_count": 22,
     "metadata": {},
     "output_type": "execute_result"
    }
   ],
   "source": [
    "L[0]"
   ]
  },
  {
   "cell_type": "code",
   "execution_count": 30,
   "metadata": {
    "collapsed": false
   },
   "outputs": [
    {
     "data": {
      "text/plain": [
       "<Element {http://lca.jrc.it/ILCD/LCIAMethod}LCIAMethodDataSet at 0x7fd4b0774e08>"
      ]
     },
     "execution_count": 30,
     "metadata": {},
     "output_type": "execute_result"
    }
   ],
   "source": [
    "l"
   ]
  },
  {
   "cell_type": "code",
   "execution_count": 29,
   "metadata": {
    "collapsed": false
   },
   "outputs": [
    {
     "data": {
      "text/plain": [
       "<Element {http://lca.jrc.it/ILCD/LCIAMethod}characterisationFactors at 0x7f5273f96088>"
      ]
     },
     "execution_count": 29,
     "metadata": {},
     "output_type": "execute_result"
    }
   ],
   "source": [
    "l['characterisationFactors']"
   ]
  },
  {
   "cell_type": "code",
   "execution_count": 28,
   "metadata": {
    "collapsed": false
   },
   "outputs": [
    {
     "data": {
      "text/plain": [
       "[<Element {http://lca.jrc.it/ILCD/LCIAMethod}LCIAMethodInformation at 0x7f5273f94c48>,\n",
       " <Element {http://lca.jrc.it/ILCD/LCIAMethod}modellingAndValidation at 0x7f5273f94dc8>,\n",
       " <Element {http://lca.jrc.it/ILCD/LCIAMethod}administrativeInformation at 0x7f5273f94f48>,\n",
       " <Element {http://lca.jrc.it/ILCD/LCIAMethod}characterisationFactors at 0x7f5273f96088>]"
      ]
     },
     "execution_count": 28,
     "metadata": {},
     "output_type": "execute_result"
    }
   ],
   "source": [
    "l.getchildren()"
   ]
  },
  {
   "cell_type": "code",
   "execution_count": 34,
   "metadata": {
    "collapsed": false
   },
   "outputs": [
    {
     "name": "stdout",
     "output_type": "stream",
     "text": [
      "0 new process entities added (0 total)\n",
      "0 new flow entities added (1256 total)\n",
      "0 new quantity entities added (48 total)\n",
      "CPU times: user 100 ms, sys: 0 ns, total: 100 ms\n",
      "Wall time: 95.9 ms\n"
     ]
    }
   ],
   "source": [
    "%time elcd_lcia.load_lcia()"
   ]
  },
  {
   "cell_type": "code",
   "execution_count": 32,
   "metadata": {
    "collapsed": false
   },
   "outputs": [
    {
     "data": {
      "text/plain": [
       "4940"
      ]
     },
     "execution_count": 32,
     "metadata": {},
     "output_type": "execute_result"
    }
   ],
   "source": [
    "len([x for f in elcd_lcia.flows() for x in f._characterizations])"
   ]
  },
  {
   "cell_type": "code",
   "execution_count": 33,
   "metadata": {
    "collapsed": false
   },
   "outputs": [],
   "source": [
    "elcd_lcia.write_to_file(os.path.join(catalog_dir, 'elcd_lcia.json.gz'), characterizations=True,values=True,gzip=True)"
   ]
  },
  {
   "cell_type": "code",
   "execution_count": 25,
   "metadata": {
    "collapsed": false
   },
   "outputs": [],
   "source": [
    "P = elcd32.list_objects('Process')[:10]"
   ]
  },
  {
   "cell_type": "code",
   "execution_count": 11,
   "metadata": {
    "collapsed": false
   },
   "outputs": [],
   "source": [
    "o = elcd32._get_objectified_entity(os.path.join(elcd32._build_prefix(),  P[0]))"
   ]
  },
  {
   "cell_type": "code",
   "execution_count": 12,
   "metadata": {
    "collapsed": true
   },
   "outputs": [],
   "source": [
    "from lcatools.providers.ilcd import find_ns, find_tag, find_common"
   ]
  },
  {
   "cell_type": "code",
   "execution_count": 16,
   "metadata": {
    "collapsed": true
   },
   "outputs": [],
   "source": [
    "ns = find_ns(o.nsmap, 'Process')"
   ]
  },
  {
   "cell_type": "code",
   "execution_count": 14,
   "metadata": {
    "collapsed": true
   },
   "outputs": [],
   "source": [
    "from itertools import chain"
   ]
  },
  {
   "cell_type": "code",
   "execution_count": 21,
   "metadata": {
    "collapsed": false
   },
   "outputs": [
    {
     "data": {
      "text/plain": [
       "'Electricity Mix, , AC, consumption mix, at consumer, 230-240V, '"
      ]
     },
     "execution_count": 21,
     "metadata": {},
     "output_type": "execute_result"
    }
   ],
   "source": [
    "\n",
    "', '.join(chain([str(find_tag(o, k, ns=ns)[0]) for k in ('baseName', 'zorkmids', 'treatmentStandardsRoutes', 'mixAndLocationTypes', \n",
    "                                       'functionalUnitFlowProperties', 'foobars')]))"
   ]
  }
 ],
 "metadata": {
  "kernelspec": {
   "display_name": "Python 3",
   "language": "python",
   "name": "python3"
  },
  "language_info": {
   "codemirror_mode": {
    "name": "ipython",
    "version": 3
   },
   "file_extension": ".py",
   "mimetype": "text/x-python",
   "name": "python",
   "nbconvert_exporter": "python",
   "pygments_lexer": "ipython3",
   "version": "3.5.1"
  }
 },
 "nbformat": 4,
 "nbformat_minor": 0
}
