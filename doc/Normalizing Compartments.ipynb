{
 "cells": [
  {
   "cell_type": "code",
   "execution_count": 1,
   "metadata": {
    "collapsed": true
   },
   "outputs": [],
   "source": [
    "import sys\n",
    "sys.path.append('..')\n",
    "import os\n",
    "from os.path import expanduser\n",
    "\n",
    "import lcatools"
   ]
  },
  {
   "cell_type": "code",
   "execution_count": 2,
   "metadata": {
    "collapsed": true
   },
   "outputs": [],
   "source": [
    "from lcatools.tools import archive_from_json"
   ]
  },
  {
   "cell_type": "code",
   "execution_count": 3,
   "metadata": {
    "collapsed": true
   },
   "outputs": [],
   "source": [
    "import json"
   ]
  },
  {
   "cell_type": "code",
   "execution_count": 4,
   "metadata": {
    "collapsed": true
   },
   "outputs": [],
   "source": [
    "from lcatools.foreground.compartments import Compartment"
   ]
  },
  {
   "cell_type": "code",
   "execution_count": 5,
   "metadata": {
    "collapsed": false
   },
   "outputs": [],
   "source": [
    "with open(os.path.join('..', 'lcatools', 'foreground', 'compartments.json')) as fp:\n",
    "    C = Compartment.from_json(json.load(fp))"
   ]
  },
  {
   "cell_type": "code",
   "execution_count": 6,
   "metadata": {
    "collapsed": false
   },
   "outputs": [
    {
     "name": "stdout",
     "output_type": "stream",
     "text": [
      "root\n",
      "Elementary: False\n",
      "  sub: Intermediate Flows\n",
      "  sub: Elementary Flows\n"
     ]
    }
   ],
   "source": [
    "C.show()"
   ]
  },
  {
   "cell_type": "code",
   "execution_count": 7,
   "metadata": {
    "collapsed": false
   },
   "outputs": [],
   "source": [
    "CE = C['Elementary Flows']\n",
    "CI = C['Intermediate Flows']"
   ]
  },
  {
   "cell_type": "code",
   "execution_count": 6,
   "metadata": {
    "collapsed": false
   },
   "outputs": [
    {
     "data": {
      "text/plain": [
       "['root']"
      ]
     },
     "execution_count": 6,
     "metadata": {},
     "output_type": "execute_result"
    }
   ],
   "source": [
    "C._names()"
   ]
  },
  {
   "cell_type": "code",
   "execution_count": 7,
   "metadata": {
    "collapsed": true
   },
   "outputs": [],
   "source": [
    "C.add_subs('Intermediate Flows')"
   ]
  },
  {
   "cell_type": "code",
   "execution_count": 8,
   "metadata": {
    "collapsed": false
   },
   "outputs": [],
   "source": [
    "subs = [str(x) for x in C.subcompartments()]"
   ]
  },
  {
   "cell_type": "code",
   "execution_count": 9,
   "metadata": {
    "collapsed": false
   },
   "outputs": [],
   "source": [
    "for s in subs:\n",
    "    if s not in ('Elementary Flows', 'Intermediate Flows'):\n",
    "        try:\n",
    "            sc = C[s]\n",
    "        except KeyError:\n",
    "            print(s)\n",
    "            raise\n",
    "        \n",
    "        if sc.elementary:\n",
    "            C.merge(sc, C['Elementary Flows'])\n",
    "        else:\n",
    "            C.merge(sc, C['Intermediate Flows'])\n"
   ]
  },
  {
   "cell_type": "code",
   "execution_count": 10,
   "metadata": {
    "collapsed": false
   },
   "outputs": [
    {
     "name": "stdout",
     "output_type": "stream",
     "text": [
      "root\n",
      "Elementary: False\n",
      "  sub: Intermediate Flows\n",
      "  sub: Elementary Flows\n"
     ]
    }
   ],
   "source": [
    "C.show()"
   ]
  },
  {
   "cell_type": "code",
   "execution_count": 11,
   "metadata": {
    "collapsed": false
   },
   "outputs": [],
   "source": [
    "C['Intermediate Flows'].delete(C['Intermediate Flows'][''])"
   ]
  },
  {
   "cell_type": "code",
   "execution_count": 13,
   "metadata": {
    "collapsed": false
   },
   "outputs": [
    {
     "data": {
      "text/plain": [
       "{'air'}"
      ]
     },
     "execution_count": 13,
     "metadata": {},
     "output_type": "execute_result"
    }
   ],
   "source": [
    "CE['air'].synonyms"
   ]
  },
  {
   "cell_type": "code",
   "execution_count": 15,
   "metadata": {
    "collapsed": false
   },
   "outputs": [
    {
     "name": "stdout",
     "output_type": "stream",
     "text": [
      "Compartments are the same\n"
     ]
    }
   ],
   "source": [
    "CE.merge_subs('Emissions to industrial soil', 'soil')\n",
    "CE.merge_subs('Emissions to agricultural soil', 'soil')"
   ]
  },
  {
   "cell_type": "code",
   "execution_count": 16,
   "metadata": {
    "collapsed": true
   },
   "outputs": [],
   "source": [
    "CE.merge_subs('Emissions to fresh water', 'water')\n",
    "CE.merge_subs('Emissions to sea water', 'water')"
   ]
  },
  {
   "cell_type": "code",
   "execution_count": 17,
   "metadata": {
    "collapsed": true
   },
   "outputs": [],
   "source": [
    "CE.merge_subs('Emissions to air', 'air')"
   ]
  },
  {
   "cell_type": "code",
   "execution_count": 19,
   "metadata": {
    "collapsed": false
   },
   "outputs": [],
   "source": [
    "CE.add_syn('Other elementary flows')\n"
   ]
  },
  {
   "cell_type": "code",
   "execution_count": 20,
   "metadata": {
    "collapsed": false
   },
   "outputs": [
    {
     "data": {
      "text/plain": [
       "{'Elementary Flows', 'Other elementary flows'}"
      ]
     },
     "execution_count": 20,
     "metadata": {},
     "output_type": "execute_result"
    }
   ],
   "source": [
    "CE.synonyms"
   ]
  },
  {
   "cell_type": "code",
   "execution_count": 21,
   "metadata": {
    "collapsed": true
   },
   "outputs": [],
   "source": [
    "CE.delete(CE['Other elementary flows'])"
   ]
  },
  {
   "cell_type": "code",
   "execution_count": 28,
   "metadata": {
    "collapsed": false
   },
   "outputs": [
    {
     "name": "stdout",
     "output_type": "stream",
     "text": [
      "Elementary Flows\n",
      "Elementary: True\n",
      "  sub: soil\n",
      "  sub: air\n",
      "  sub: water\n",
      "  sub: Emissions\n",
      "  sub: Land use\n",
      "  sub: Resources\n"
     ]
    }
   ],
   "source": [
    "CE.show()"
   ]
  },
  {
   "cell_type": "code",
   "execution_count": 27,
   "metadata": {
    "collapsed": false
   },
   "outputs": [
    {
     "data": {
      "text/plain": [
       "{'Resources', 'natural resource', 'resource'}"
      ]
     },
     "execution_count": 27,
     "metadata": {},
     "output_type": "execute_result"
    }
   ],
   "source": [
    "CE['Resources'].synonyms"
   ]
  },
  {
   "cell_type": "code",
   "execution_count": 18,
   "metadata": {
    "collapsed": false
   },
   "outputs": [
    {
     "name": "stdout",
     "output_type": "stream",
     "text": [
      "Emissions to air\n",
      "Elementary: True\n",
      "  sub: Emissions to air, unspecified (long-term)\n",
      "  sub: Emissions to air, unspecified\n",
      "  sub: Emissions to urban air close to ground\n",
      "  sub: Emissions to non-urban air or from high stacks\n",
      "  sub: Emissions to lower stratosphere and upper troposphere\n"
     ]
    }
   ],
   "source": [
    "CE['Emissions']['Emissions to air'].show()"
   ]
  },
  {
   "cell_type": "code",
   "execution_count": 11,
   "metadata": {
    "collapsed": false
   },
   "outputs": [
    {
     "data": {
      "text/plain": [
       "{'Emissions to air', 'air'}"
      ]
     },
     "execution_count": 11,
     "metadata": {},
     "output_type": "execute_result"
    }
   ],
   "source": [
    "CE['air'].synonyms"
   ]
  },
  {
   "cell_type": "code",
   "execution_count": 24,
   "metadata": {
    "collapsed": false
   },
   "outputs": [],
   "source": [
    "CE.merge_subs('natural resource', 'Resources')"
   ]
  },
  {
   "cell_type": "code",
   "execution_count": 14,
   "metadata": {
    "collapsed": false
   },
   "outputs": [
    {
     "name": "stdout",
     "output_type": "stream",
     "text": [
      "Emissions to air\n",
      "Elementary: True\n",
      "  sub: Other emissions to air\n",
      "  sub: indoor\n",
      "  sub: low population density, long-term\n",
      "  sub: non-urban air or from high stacks\n",
      "  sub: Radioactive emissions to air\n",
      "  sub: high population density\n",
      "  sub: Inorganic emissions to air\n",
      "  sub: Emissions to non-urban air or from high stacks\n",
      "  sub: Emissions to lower stratosphere and upper troposphere\n",
      "  sub: Heavy metals to air\n",
      "  sub: Emissions to air, unspecified\n",
      "  sub: low. pop.\n",
      "  sub: Emissions to air, unspecified (long-term)\n",
      "  sub: Particles to air\n",
      "  sub: Emissions to urban air close to ground\n",
      "  sub: low population density\n",
      "  sub: lower stratosphere + upper troposphere\n",
      "  sub: fossil\n",
      "  sub: stratosphere\n",
      "  sub: urban air close to ground\n",
      "  sub: Organic emissions to air (group VOC)\n"
     ]
    }
   ],
   "source": [
    "CE['Emissions']['Emissions to air'].show()"
   ]
  },
  {
   "cell_type": "code",
   "execution_count": 29,
   "metadata": {
    "collapsed": true
   },
   "outputs": [],
   "source": [
    "CE.merge(CE['air'], CE['Emissions'])"
   ]
  },
  {
   "cell_type": "code",
   "execution_count": 30,
   "metadata": {
    "collapsed": true
   },
   "outputs": [],
   "source": [
    "CE.merge(CE['water'], CE['Emissions'])"
   ]
  },
  {
   "cell_type": "code",
   "execution_count": 31,
   "metadata": {
    "collapsed": true
   },
   "outputs": [],
   "source": [
    "CE.merge(CE['soil'], CE['Emissions'])"
   ]
  },
  {
   "cell_type": "code",
   "execution_count": 34,
   "metadata": {
    "collapsed": false
   },
   "outputs": [
    {
     "name": "stdout",
     "output_type": "stream",
     "text": [
      "Emissions\n",
      "Elementary: True\n",
      "  sub: Emissions to water\n",
      "  sub: Emissions to soil\n",
      "  sub: water\n",
      "  sub: Emissions to air\n",
      "  sub: soil\n"
     ]
    }
   ],
   "source": [
    "CE['Emissions'].show()"
   ]
  },
  {
   "cell_type": "code",
   "execution_count": 28,
   "metadata": {
    "collapsed": false
   },
   "outputs": [
    {
     "name": "stdout",
     "output_type": "stream",
     "text": [
      "Land use\n",
      "Elementary: True\n",
      "  sub: Land occupation\n",
      "  sub: Land transformation\n"
     ]
    }
   ],
   "source": [
    "CE['Land use'].show()"
   ]
  },
  {
   "cell_type": "code",
   "execution_count": 14,
   "metadata": {
    "collapsed": true
   },
   "outputs": [],
   "source": [
    "C.merge('Emissions to agricultural soil', C['soil'])"
   ]
  },
  {
   "cell_type": "code",
   "execution_count": 8,
   "metadata": {
    "collapsed": false
   },
   "outputs": [
    {
     "name": "stdout",
     "output_type": "stream",
     "text": [
      "root\n",
      "Elementary: False\n",
      "  sub: Intermediate Flows\n",
      "  sub: Elementary Flows\n"
     ]
    }
   ],
   "source": [
    "C.show()"
   ]
  },
  {
   "cell_type": "code",
   "execution_count": 37,
   "metadata": {
    "collapsed": true
   },
   "outputs": [],
   "source": [
    "CE['Emissions'].merge_subs('Emissions to water', 'water')\n",
    "CE['Emissions'].merge_subs('Emissions to soil', 'soil')"
   ]
  },
  {
   "cell_type": "code",
   "execution_count": 38,
   "metadata": {
    "collapsed": false
   },
   "outputs": [
    {
     "name": "stdout",
     "output_type": "stream",
     "text": [
      "Emissions\n",
      "Emissions -- water\n",
      "Emissions -- water -- Radioactive emissions to fresh water\n",
      "Emissions -- water -- Heavy metals to sea water\n",
      "Emissions -- water -- low population density, long-term\n",
      "Emissions -- water -- lake\n",
      "Emissions -- water -- Emissions to sea water\n",
      "Emissions -- water -- Other emissions to fresh water\n",
      "Emissions -- water -- Heavy metals to fresh water\n",
      "Emissions -- water -- Emissions to fresh water\n",
      "Emissions -- water -- Emissions to water, unspecified\n",
      "Emissions -- water -- ocean\n",
      "Emissions -- water -- surface water\n",
      "Emissions -- water -- Organic emissions to fresh water\n",
      "Emissions -- water -- Analytical measures to fresh water\n",
      "Emissions -- water -- Inorganic emissions to fresh water\n",
      "Emissions -- water -- ground-, long-term\n",
      "Emissions -- water -- ecoinvent long-term to fresh water\n",
      "Emissions -- water -- Other emissions to sea water\n",
      "Emissions -- water -- Emissions to water, unspecified (long-term)\n",
      "Emissions -- water -- river\n",
      "Emissions -- water -- ground-\n",
      "Emissions -- water -- Particles to fresh water\n",
      "Emissions -- Emissions to air\n",
      "Emissions -- Emissions to air -- low population density\n",
      "Emissions -- Emissions to air -- Organic emissions to air (group VOC)\n",
      "Emissions -- Emissions to air -- Organic emissions to air (group VOC) -- Group NMVOC to air\n",
      "Emissions -- Emissions to air -- Organic emissions to air (group VOC) -- Group NMVOC to air -- Halogenated organic emissions to air\n",
      "Emissions -- Emissions to air -- Heavy metals to air\n",
      "Emissions -- Emissions to air -- low population density, long-term\n",
      "Emissions -- Emissions to air -- Emissions to lower stratosphere and upper troposphere\n",
      "Emissions -- Emissions to air -- Emissions to urban air close to ground\n",
      "Emissions -- Emissions to air -- high population density\n",
      "Emissions -- Emissions to air -- Radioactive emissions to air\n",
      "Emissions -- Emissions to air -- Emissions to air, unspecified (long-term)\n",
      "Emissions -- Emissions to air -- Other emissions to air\n",
      "Emissions -- Emissions to air -- fossil\n",
      "Emissions -- Emissions to air -- Inorganic emissions to air\n",
      "Emissions -- Emissions to air -- stratosphere\n",
      "Emissions -- Emissions to air -- urban air close to ground\n",
      "Emissions -- Emissions to air -- non-urban air or from high stacks\n",
      "Emissions -- Emissions to air -- Emissions to air, unspecified\n",
      "Emissions -- Emissions to air -- lower stratosphere + upper troposphere\n",
      "Emissions -- Emissions to air -- low. pop.\n",
      "Emissions -- Emissions to air -- Emissions to non-urban air or from high stacks\n",
      "Emissions -- Emissions to air -- indoor\n",
      "Emissions -- Emissions to air -- Particles to air\n",
      "Emissions -- soil\n",
      "Emissions -- soil -- industrial\n",
      "Emissions -- soil -- Emissions to non-agricultural soil\n",
      "Emissions -- soil -- forestry\n",
      "Emissions -- soil -- Heavy metals to agricultural soil\n",
      "Emissions -- soil -- Other emissions to industrial soil\n",
      "Emissions -- soil -- Emissions to soil, unspecified\n",
      "Emissions -- soil -- Emissions to agricultural soil\n",
      "Emissions -- soil -- Other emissions to agricultural soil\n",
      "Emissions -- soil -- Other emissions to agricultural soil -- Pesticides to agricultural soil\n",
      "Emissions -- soil -- agricultural\n",
      "Emissions -- soil -- Heavy metals to industrial soil\n"
     ]
    },
    {
     "data": {
      "text/plain": [
       "['Emissions',\n",
       " 'water',\n",
       " 'Radioactive emissions to fresh water',\n",
       " 'Heavy metals to sea water',\n",
       " 'low population density, long-term',\n",
       " 'lake',\n",
       " 'Emissions to sea water',\n",
       " 'Other emissions to fresh water',\n",
       " 'Heavy metals to fresh water',\n",
       " 'Emissions to fresh water',\n",
       " 'Emissions to water, unspecified',\n",
       " 'ocean',\n",
       " 'surface water',\n",
       " 'Organic emissions to fresh water',\n",
       " 'Analytical measures to fresh water',\n",
       " 'Inorganic emissions to fresh water',\n",
       " 'ground-, long-term',\n",
       " 'ecoinvent long-term to fresh water',\n",
       " 'Other emissions to sea water',\n",
       " 'Emissions to water, unspecified (long-term)',\n",
       " 'river',\n",
       " 'ground-',\n",
       " 'Particles to fresh water',\n",
       " 'Emissions to air',\n",
       " 'low population density',\n",
       " 'Organic emissions to air (group VOC)',\n",
       " 'Group NMVOC to air',\n",
       " 'Halogenated organic emissions to air',\n",
       " 'Heavy metals to air',\n",
       " 'low population density, long-term',\n",
       " 'Emissions to lower stratosphere and upper troposphere',\n",
       " 'Emissions to urban air close to ground',\n",
       " 'high population density',\n",
       " 'Radioactive emissions to air',\n",
       " 'Emissions to air, unspecified (long-term)',\n",
       " 'Other emissions to air',\n",
       " 'fossil',\n",
       " 'Inorganic emissions to air',\n",
       " 'stratosphere',\n",
       " 'urban air close to ground',\n",
       " 'non-urban air or from high stacks',\n",
       " 'Emissions to air, unspecified',\n",
       " 'lower stratosphere + upper troposphere',\n",
       " 'low. pop.',\n",
       " 'Emissions to non-urban air or from high stacks',\n",
       " 'indoor',\n",
       " 'Particles to air',\n",
       " 'soil',\n",
       " 'industrial',\n",
       " 'Emissions to non-agricultural soil',\n",
       " 'forestry',\n",
       " 'Heavy metals to agricultural soil',\n",
       " 'Other emissions to industrial soil',\n",
       " 'Emissions to soil, unspecified',\n",
       " 'Emissions to agricultural soil',\n",
       " 'Other emissions to agricultural soil',\n",
       " 'Pesticides to agricultural soil',\n",
       " 'agricultural',\n",
       " 'Heavy metals to industrial soil']"
      ]
     },
     "execution_count": 38,
     "metadata": {},
     "output_type": "execute_result"
    }
   ],
   "source": [
    "CE['Emissions'].print_tree()"
   ]
  },
  {
   "cell_type": "code",
   "execution_count": 62,
   "metadata": {
    "collapsed": false
   },
   "outputs": [],
   "source": [
    "with open(os.path.join('..', 'lcatools', 'foreground', 'compartments.json'), 'w') as fp:\n",
    "    json.dump(C.serialize(), fp, indent=2, sort_keys=True)"
   ]
  },
  {
   "cell_type": "code",
   "execution_count": 10,
   "metadata": {
    "collapsed": false
   },
   "outputs": [],
   "source": [
    "Cw=CE['Emissions']['water']"
   ]
  },
  {
   "cell_type": "code",
   "execution_count": 11,
   "metadata": {
    "collapsed": false
   },
   "outputs": [
    {
     "name": "stdout",
     "output_type": "stream",
     "text": [
      "water; Emissions to water; Emissions to water, unspecified\n",
      "water -- low population density, long-term\n",
      "water -- ocean; Emissions to sea water; Other emissions to sea water\n",
      "water -- ocean -- Heavy metals to sea water\n",
      "water -- Emissions to water, unspecified (long-term)\n",
      "water -- Emissions to fresh water; Other emissions to fresh water\n",
      "water -- Emissions to fresh water -- surface water\n",
      "water -- Emissions to fresh water -- ground-\n",
      "water -- Emissions to fresh water -- Organic emissions to fresh water\n",
      "water -- Emissions to fresh water -- Analytical measures to fresh water\n",
      "water -- Emissions to fresh water -- Radioactive emissions to fresh water\n",
      "water -- Emissions to fresh water -- lake\n",
      "water -- Emissions to fresh water -- ground-, long-term\n",
      "water -- Emissions to fresh water -- river\n",
      "water -- Emissions to fresh water -- Particles to fresh water\n",
      "water -- Emissions to fresh water -- ecoinvent long-term to fresh water\n",
      "water -- Emissions to fresh water -- Inorganic emissions to fresh water\n",
      "water -- Emissions to fresh water -- Heavy metals to fresh water\n"
     ]
    }
   ],
   "source": [
    "_ = Cw.print_tree()"
   ]
  },
  {
   "cell_type": "code",
   "execution_count": 12,
   "metadata": {
    "collapsed": false
   },
   "outputs": [
    {
     "data": {
      "text/plain": [
       "['water',\n",
       " 'Emissions to water',\n",
       " 'Emissions to water, unspecified',\n",
       " 'low population density, long-term',\n",
       " 'ocean',\n",
       " 'Emissions to sea water',\n",
       " 'Other emissions to sea water',\n",
       " 'Heavy metals to sea water',\n",
       " 'Emissions to water, unspecified (long-term)',\n",
       " 'Emissions to fresh water',\n",
       " 'Other emissions to fresh water',\n",
       " 'surface water',\n",
       " 'ground-',\n",
       " 'Organic emissions to fresh water',\n",
       " 'Analytical measures to fresh water',\n",
       " 'Radioactive emissions to fresh water',\n",
       " 'lake',\n",
       " 'ground-, long-term',\n",
       " 'river',\n",
       " 'Particles to fresh water',\n",
       " 'ecoinvent long-term to fresh water',\n",
       " 'Inorganic emissions to fresh water',\n",
       " 'Heavy metals to fresh water']"
      ]
     },
     "execution_count": 12,
     "metadata": {},
     "output_type": "execute_result"
    }
   ],
   "source": [
    "_"
   ]
  },
  {
   "cell_type": "code",
   "execution_count": 45,
   "metadata": {
    "collapsed": false
   },
   "outputs": [],
   "source": [
    "Cw.merge_subs('Other emissions to sea water', 'ocean')"
   ]
  },
  {
   "cell_type": "code",
   "execution_count": 53,
   "metadata": {
    "collapsed": false
   },
   "outputs": [
    {
     "data": {
      "text/plain": [
       "{'Emissions to water', 'Emissions to water, unspecified', 'water'}"
      ]
     },
     "execution_count": 53,
     "metadata": {},
     "output_type": "execute_result"
    }
   ],
   "source": [
    "Cw.synonyms"
   ]
  },
  {
   "cell_type": "code",
   "execution_count": 55,
   "metadata": {
    "collapsed": false
   },
   "outputs": [
    {
     "data": {
      "text/plain": [
       "{'Emissions to sea water', 'Other emissions to sea water', 'ocean'}"
      ]
     },
     "execution_count": 55,
     "metadata": {},
     "output_type": "execute_result"
    }
   ],
   "source": [
    "Cw['Emissions to sea water'].synonyms"
   ]
  },
  {
   "cell_type": "code",
   "execution_count": 57,
   "metadata": {
    "collapsed": false
   },
   "outputs": [],
   "source": [
    "for s in ('Radioactive emissions to fresh water', 'lake', 'Heavy metals to fresh water', 'surface water', \n",
    "          'Organic emissions to fresh water', \n",
    "          'Analytical measures to fresh water', 'Inorganic emissions to fresh water', 'ground-, long-term', \n",
    "         'ecoinvent long-term to fresh water', 'river', 'ground-', 'Particles to fresh water'):\n",
    "    Cw.merge(Cw[s], Cw['Emissions to fresh water'])"
   ]
  },
  {
   "cell_type": "code",
   "execution_count": 59,
   "metadata": {
    "collapsed": true
   },
   "outputs": [],
   "source": [
    "Cw.merge_subs('Other emissions to fresh water', 'Emissions to fresh water')"
   ]
  },
  {
   "cell_type": "code",
   "execution_count": 49,
   "metadata": {
    "collapsed": true
   },
   "outputs": [],
   "source": [
    "Cw.delete('Emissions to water, unspecified')"
   ]
  },
  {
   "cell_type": "code",
   "execution_count": 63,
   "metadata": {
    "collapsed": true
   },
   "outputs": [],
   "source": [
    "with open(os.path.join('..', 'lcatools', 'foreground', 'compartments.json'), 'w') as fp:\n",
    "    json.dump(C.serialize(), fp, indent=2, sort_keys=True)"
   ]
  },
  {
   "cell_type": "code",
   "execution_count": 8,
   "metadata": {
    "collapsed": true
   },
   "outputs": [],
   "source": [
    "Ca = CE['Emissions']['air']"
   ]
  },
  {
   "cell_type": "code",
   "execution_count": 9,
   "metadata": {
    "collapsed": false
   },
   "outputs": [
    {
     "name": "stdout",
     "output_type": "stream",
     "text": [
      "Emissions to air; air; Emissions to air, unspecified; Other emissions to air\n",
      "Emissions to air -- Heavy metals to air\n",
      "Emissions to air -- urban air close to ground\n",
      "Emissions to air -- low. pop.\n",
      "Emissions to air -- Emissions to non-urban air or from high stacks\n",
      "Emissions to air -- fossil\n",
      "Emissions to air -- stratosphere\n",
      "Emissions to air -- low population density, long-term\n",
      "Emissions to air -- indoor\n",
      "Emissions to air -- non-urban air or from high stacks\n",
      "Emissions to air -- Radioactive emissions to air\n",
      "Emissions to air -- Emissions to air, unspecified (long-term)\n",
      "Emissions to air -- Organic emissions to air (group VOC)\n",
      "Emissions to air -- Organic emissions to air (group VOC) -- Group NMVOC to air\n",
      "Emissions to air -- Organic emissions to air (group VOC) -- Group NMVOC to air -- Halogenated organic emissions to air\n",
      "Emissions to air -- low population density\n",
      "Emissions to air -- high population density\n",
      "Emissions to air -- Emissions to lower stratosphere and upper troposphere\n",
      "Emissions to air -- Inorganic emissions to air\n",
      "Emissions to air -- Particles to air\n",
      "Emissions to air -- lower stratosphere + upper troposphere\n",
      "Emissions to air -- Emissions to urban air close to ground\n"
     ]
    }
   ],
   "source": [
    "_ = Ca.print_tree()"
   ]
  },
  {
   "cell_type": "code",
   "execution_count": 107,
   "metadata": {
    "collapsed": false
   },
   "outputs": [
    {
     "data": {
      "text/plain": [
       "{'Emissions to air',\n",
       " 'Emissions to air, unspecified',\n",
       " 'Other emissions to air',\n",
       " 'air'}"
      ]
     },
     "execution_count": 107,
     "metadata": {},
     "output_type": "execute_result"
    }
   ],
   "source": [
    "Ca.synonyms"
   ]
  },
  {
   "cell_type": "code",
   "execution_count": 68,
   "metadata": {
    "collapsed": false
   },
   "outputs": [
    {
     "name": "stdout",
     "output_type": "stream",
     "text": [
      "soil\n",
      "soil -- industrial\n",
      "soil -- Emissions to non-agricultural soil\n",
      "soil -- forestry\n",
      "soil -- Heavy metals to agricultural soil\n",
      "soil -- Other emissions to industrial soil\n",
      "soil -- Emissions to soil, unspecified\n",
      "soil -- Emissions to agricultural soil\n",
      "soil -- Other emissions to agricultural soil\n",
      "soil -- Other emissions to agricultural soil -- Pesticides to agricultural soil\n",
      "soil -- agricultural\n",
      "soil -- Heavy metals to industrial soil\n"
     ]
    },
    {
     "data": {
      "text/plain": [
       "['soil',\n",
       " 'industrial',\n",
       " 'Emissions to non-agricultural soil',\n",
       " 'forestry',\n",
       " 'Heavy metals to agricultural soil',\n",
       " 'Other emissions to industrial soil',\n",
       " 'Emissions to soil, unspecified',\n",
       " 'Emissions to agricultural soil',\n",
       " 'Other emissions to agricultural soil',\n",
       " 'Pesticides to agricultural soil',\n",
       " 'agricultural',\n",
       " 'Heavy metals to industrial soil']"
      ]
     },
     "execution_count": 68,
     "metadata": {},
     "output_type": "execute_result"
    }
   ],
   "source": [
    "CE['Emissions']['soil'].print_tree()"
   ]
  },
  {
   "cell_type": "code",
   "execution_count": 69,
   "metadata": {
    "collapsed": true
   },
   "outputs": [],
   "source": [
    "CE['Emissions']['soil'].merge_subs('Emissions to non-agricultural soil', 'industrial')\n",
    "CE['Emissions']['soil'].merge_subs('Other emissions to industrial soil', 'industrial')"
   ]
  },
  {
   "cell_type": "code",
   "execution_count": 70,
   "metadata": {
    "collapsed": true
   },
   "outputs": [],
   "source": [
    "CE['Emissions']['soil'].merge_subs('Other emissions to agricultural soil', 'agricultural')\n",
    "CE['Emissions']['soil'].merge_subs('Emissions to agricultural soil', 'agricultural')"
   ]
  },
  {
   "cell_type": "code",
   "execution_count": 71,
   "metadata": {
    "collapsed": true
   },
   "outputs": [],
   "source": [
    "Cs = CE['Emissions']['soil']"
   ]
  },
  {
   "cell_type": "code",
   "execution_count": 72,
   "metadata": {
    "collapsed": true
   },
   "outputs": [],
   "source": [
    "Cs.merge(Cs['Heavy metals to industrial soil'], Cs['industrial'])\n",
    "Cs.merge(Cs['Heavy metals to agricultural soil'], Cs['agricultural'])"
   ]
  },
  {
   "cell_type": "code",
   "execution_count": 75,
   "metadata": {
    "collapsed": true
   },
   "outputs": [],
   "source": [
    "Cs.add_syn('Emissions to soil, unspecified')"
   ]
  },
  {
   "cell_type": "code",
   "execution_count": 76,
   "metadata": {
    "collapsed": true
   },
   "outputs": [],
   "source": [
    "Cs.delete('Emissions to soil, unspecified')"
   ]
  },
  {
   "cell_type": "code",
   "execution_count": 77,
   "metadata": {
    "collapsed": false
   },
   "outputs": [
    {
     "name": "stdout",
     "output_type": "stream",
     "text": [
      "soil\n",
      "soil -- industrial\n",
      "soil -- industrial -- Heavy metals to industrial soil\n",
      "soil -- forestry\n",
      "soil -- agricultural\n",
      "soil -- agricultural -- Heavy metals to agricultural soil\n",
      "soil -- agricultural -- Pesticides to agricultural soil\n"
     ]
    },
    {
     "data": {
      "text/plain": [
       "['soil',\n",
       " 'industrial',\n",
       " 'Heavy metals to industrial soil',\n",
       " 'forestry',\n",
       " 'agricultural',\n",
       " 'Heavy metals to agricultural soil',\n",
       " 'Pesticides to agricultural soil']"
      ]
     },
     "execution_count": 77,
     "metadata": {},
     "output_type": "execute_result"
    }
   ],
   "source": [
    "Cs.print_tree()"
   ]
  },
  {
   "cell_type": "code",
   "execution_count": 83,
   "metadata": {
    "collapsed": false
   },
   "outputs": [
    {
     "data": {
      "text/plain": [
       "{'Emissions to soil', 'Emissions to soil, unspecified', 'soil'}"
      ]
     },
     "execution_count": 83,
     "metadata": {},
     "output_type": "execute_result"
    }
   ],
   "source": [
    "Cs.synonyms"
   ]
  },
  {
   "cell_type": "code",
   "execution_count": 108,
   "metadata": {
    "collapsed": false
   },
   "outputs": [
    {
     "name": "stdout",
     "output_type": "stream",
     "text": [
      "Emissions to air\n",
      "Emissions to air -- low population density\n",
      "Emissions to air -- indoor\n",
      "Emissions to air -- Organic emissions to air (group VOC)\n",
      "Emissions to air -- Organic emissions to air (group VOC) -- Group NMVOC to air\n",
      "Emissions to air -- Organic emissions to air (group VOC) -- Group NMVOC to air -- Halogenated organic emissions to air\n",
      "Emissions to air -- low population density, long-term\n",
      "Emissions to air -- Emissions to lower stratosphere and upper troposphere\n",
      "Emissions to air -- Emissions to urban air close to ground\n",
      "Emissions to air -- high population density\n",
      "Emissions to air -- Radioactive emissions to air\n",
      "Emissions to air -- Emissions to air, unspecified (long-term)\n",
      "Emissions to air -- fossil\n",
      "Emissions to air -- Inorganic emissions to air\n",
      "Emissions to air -- low. pop.\n",
      "Emissions to air -- urban air close to ground\n",
      "Emissions to air -- non-urban air or from high stacks\n",
      "Emissions to air -- lower stratosphere + upper troposphere\n",
      "Emissions to air -- Emissions to non-urban air or from high stacks\n",
      "Emissions to air -- Heavy metals to air\n",
      "Emissions to air -- stratosphere\n",
      "Emissions to air -- Particles to air\n"
     ]
    },
    {
     "data": {
      "text/plain": [
       "['Emissions to air',\n",
       " 'low population density',\n",
       " 'indoor',\n",
       " 'Organic emissions to air (group VOC)',\n",
       " 'Group NMVOC to air',\n",
       " 'Halogenated organic emissions to air',\n",
       " 'low population density, long-term',\n",
       " 'Emissions to lower stratosphere and upper troposphere',\n",
       " 'Emissions to urban air close to ground',\n",
       " 'high population density',\n",
       " 'Radioactive emissions to air',\n",
       " 'Emissions to air, unspecified (long-term)',\n",
       " 'fossil',\n",
       " 'Inorganic emissions to air',\n",
       " 'low. pop.',\n",
       " 'urban air close to ground',\n",
       " 'non-urban air or from high stacks',\n",
       " 'lower stratosphere + upper troposphere',\n",
       " 'Emissions to non-urban air or from high stacks',\n",
       " 'Heavy metals to air',\n",
       " 'stratosphere',\n",
       " 'Particles to air']"
      ]
     },
     "execution_count": 108,
     "metadata": {},
     "output_type": "execute_result"
    }
   ],
   "source": [
    "Ca.print_tree()"
   ]
  },
  {
   "cell_type": "code",
   "execution_count": 14,
   "metadata": {
    "collapsed": false
   },
   "outputs": [],
   "source": [
    "CE.merge('soil', CE['Emissions'])"
   ]
  },
  {
   "cell_type": "code",
   "execution_count": 86,
   "metadata": {
    "collapsed": false
   },
   "outputs": [
    {
     "name": "stdout",
     "output_type": "stream",
     "text": [
      "Land use\n",
      "Elementary: True\n",
      "  sub: Land transformation\n",
      "  sub: Land occupation\n"
     ]
    }
   ],
   "source": [
    "CE['Land use'].show()"
   ]
  },
  {
   "cell_type": "code",
   "execution_count": 89,
   "metadata": {
    "collapsed": false
   },
   "outputs": [
    {
     "data": {
      "text/plain": [
       "['Elementary Flows', 'Other elementary flows']"
      ]
     },
     "execution_count": 89,
     "metadata": {},
     "output_type": "execute_result"
    }
   ],
   "source": [
    "CE._names()"
   ]
  },
  {
   "cell_type": "code",
   "execution_count": 87,
   "metadata": {
    "collapsed": true
   },
   "outputs": [],
   "source": [
    "with open(os.path.join('..', 'lcatools', 'foreground', 'compartments.json'), 'w') as fp:\n",
    "    json.dump(C.serialize(), fp, indent=2, sort_keys=True)"
   ]
  },
  {
   "cell_type": "code",
   "execution_count": 24,
   "metadata": {
    "collapsed": false
   },
   "outputs": [
    {
     "ename": "RuntimeError",
     "evalue": "Set changed size during iteration",
     "output_type": "error",
     "traceback": [
      "\u001b[1;31m---------------------------------------------------------------------------\u001b[0m",
      "\u001b[1;31mRuntimeError\u001b[0m                              Traceback (most recent call last)",
      "\u001b[1;32m<ipython-input-24-9e35ff0f8ff5>\u001b[0m in \u001b[0;36m<module>\u001b[1;34m()\u001b[0m\n\u001b[1;32m----> 1\u001b[1;33m \u001b[1;32mfor\u001b[0m \u001b[0ms\u001b[0m \u001b[1;32min\u001b[0m \u001b[0mC\u001b[0m\u001b[1;33m.\u001b[0m\u001b[0msubcompartments\u001b[0m\u001b[1;33m(\u001b[0m\u001b[1;33m)\u001b[0m\u001b[1;33m:\u001b[0m\u001b[1;33m\u001b[0m\u001b[0m\n\u001b[0m\u001b[0;32m      2\u001b[0m     \u001b[1;32mif\u001b[0m \u001b[0ms\u001b[0m\u001b[1;33m.\u001b[0m\u001b[0melementary\u001b[0m\u001b[1;33m:\u001b[0m\u001b[1;33m\u001b[0m\u001b[0m\n\u001b[0;32m      3\u001b[0m         \u001b[0mC\u001b[0m\u001b[1;33m.\u001b[0m\u001b[0mmerge\u001b[0m\u001b[1;33m(\u001b[0m\u001b[0ms\u001b[0m\u001b[1;33m,\u001b[0m \u001b[0mC\u001b[0m\u001b[1;33m[\u001b[0m\u001b[1;34m'Elementary Flows'\u001b[0m\u001b[1;33m]\u001b[0m\u001b[1;33m)\u001b[0m\u001b[1;33m\u001b[0m\u001b[0m\n",
      "\u001b[1;32m/data/GitHub/lca-tools/lcatools/foreground/compartments.py\u001b[0m in \u001b[0;36msubcompartments\u001b[1;34m(self)\u001b[0m\n\u001b[0;32m     63\u001b[0m \u001b[1;33m\u001b[0m\u001b[0m\n\u001b[0;32m     64\u001b[0m     \u001b[1;32mdef\u001b[0m \u001b[0msubcompartments\u001b[0m\u001b[1;33m(\u001b[0m\u001b[0mself\u001b[0m\u001b[1;33m)\u001b[0m\u001b[1;33m:\u001b[0m\u001b[1;33m\u001b[0m\u001b[0m\n\u001b[1;32m---> 65\u001b[1;33m         \u001b[1;32mfor\u001b[0m \u001b[0mi\u001b[0m \u001b[1;32min\u001b[0m \u001b[0mself\u001b[0m\u001b[1;33m.\u001b[0m\u001b[0m_subcompartments\u001b[0m\u001b[1;33m:\u001b[0m\u001b[1;33m\u001b[0m\u001b[0m\n\u001b[0m\u001b[0;32m     66\u001b[0m             \u001b[1;32myield\u001b[0m \u001b[0mi\u001b[0m\u001b[1;33m\u001b[0m\u001b[0m\n\u001b[0;32m     67\u001b[0m \u001b[1;33m\u001b[0m\u001b[0m\n",
      "\u001b[1;31mRuntimeError\u001b[0m: Set changed size during iteration"
     ]
    }
   ],
   "source": [
    "for s in C.subcompartments():\n",
    "    if s.elementary:\n",
    "        C.merge(s, C['Elementary Flows'])"
   ]
  },
  {
   "cell_type": "code",
   "execution_count": 26,
   "metadata": {
    "collapsed": false
   },
   "outputs": [],
   "source": [
    "C._subcompartments.remove(C['Ecoinvent'])"
   ]
  },
  {
   "cell_type": "code",
   "execution_count": 28,
   "metadata": {
    "collapsed": false
   },
   "outputs": [
    {
     "data": {
      "text/plain": [
       "{'_elementary': False,\n",
       " '_subcompartments': {<lcatools.foreground.compartments.Compartment at 0x7f2913192b38>},\n",
       " 'name': 'Ecoinvent',\n",
       " 'synonyms': {'Ecoinvent'}}"
      ]
     },
     "execution_count": 28,
     "metadata": {},
     "output_type": "execute_result"
    }
   ],
   "source": [
    "C['Intermediate Flows']['Ecoinvent'].__dict__"
   ]
  },
  {
   "cell_type": "code",
   "execution_count": 23,
   "metadata": {
    "collapsed": false
   },
   "outputs": [
    {
     "data": {
      "text/plain": [
       "<lcatools.foreground.compartments.Compartment at 0x7f4c4c15ae48>"
      ]
     },
     "execution_count": 23,
     "metadata": {},
     "output_type": "execute_result"
    }
   ],
   "source": [
    "C.add_sub('Elementary Flows', elementary=False)"
   ]
  },
  {
   "cell_type": "code",
   "execution_count": 12,
   "metadata": {
    "collapsed": false
   },
   "outputs": [
    {
     "name": "stdout",
     "output_type": "stream",
     "text": [
      "Compartments are the same\n"
     ]
    }
   ],
   "source": [
    "C.merge_subs('Intermediate flow', 'Intermediate Flows')"
   ]
  },
  {
   "cell_type": "code",
   "execution_count": 36,
   "metadata": {
    "collapsed": false
   },
   "outputs": [
    {
     "name": "stdout",
     "output_type": "stream",
     "text": [
      "soil\n",
      "Elementary: True\n",
      "  sub: industrial\n",
      "  sub: agricultural\n",
      "  sub: forestry\n"
     ]
    }
   ],
   "source": [
    "C['soil'].show()"
   ]
  },
  {
   "cell_type": "code",
   "execution_count": 35,
   "metadata": {
    "collapsed": false
   },
   "outputs": [
    {
     "ename": "KeyError",
     "evalue": "'No subcompartment found'",
     "output_type": "error",
     "traceback": [
      "\u001b[1;31m---------------------------------------------------------------------------\u001b[0m",
      "\u001b[1;31mKeyError\u001b[0m                                  Traceback (most recent call last)",
      "\u001b[1;32m<ipython-input-35-937df5837548>\u001b[0m in \u001b[0;36m<module>\u001b[1;34m()\u001b[0m\n\u001b[1;32m----> 1\u001b[1;33m \u001b[0mC\u001b[0m\u001b[1;33m[\u001b[0m\u001b[1;34m'Intermediate flow'\u001b[0m\u001b[1;33m]\u001b[0m\u001b[1;33m.\u001b[0m\u001b[0mmerge_into\u001b[0m\u001b[1;33m(\u001b[0m\u001b[0mC\u001b[0m\u001b[1;33m[\u001b[0m\u001b[1;34m'others'\u001b[0m\u001b[1;33m]\u001b[0m\u001b[1;33m)\u001b[0m\u001b[1;33m\u001b[0m\u001b[0m\n\u001b[0m",
      "\u001b[1;32m/data/GitHub/lca-tools/lcatools/foreground/compartments.py\u001b[0m in \u001b[0;36m__getitem__\u001b[1;34m(self, item)\u001b[0m\n\u001b[0;32m    124\u001b[0m     \u001b[1;32mdef\u001b[0m \u001b[0mmerge_into\u001b[0m\u001b[1;33m(\u001b[0m\u001b[0mself\u001b[0m\u001b[1;33m,\u001b[0m \u001b[0mcomp\u001b[0m\u001b[1;33m)\u001b[0m\u001b[1;33m:\u001b[0m\u001b[1;33m\u001b[0m\u001b[0m\n\u001b[0;32m    125\u001b[0m         \"\"\"\n\u001b[1;32m--> 126\u001b[1;33m         \u001b[0mtake\u001b[0m \u001b[0man\u001b[0m \u001b[0mexisting\u001b[0m \u001b[0mcompartment\u001b[0m \u001b[1;32mand\u001b[0m \u001b[0mmake\u001b[0m \u001b[0mit\u001b[0m \u001b[0ma\u001b[0m \u001b[0msubcompartment\u001b[0m \u001b[0mof\u001b[0m \u001b[0mself\u001b[0m\u001b[1;33m\u001b[0m\u001b[0m\n\u001b[0m\u001b[0;32m    127\u001b[0m         \u001b[1;33m:\u001b[0m\u001b[0mparam\u001b[0m \u001b[0mcomp\u001b[0m\u001b[1;33m:\u001b[0m \u001b[0mexisting\u001b[0m \u001b[0mcompartment\u001b[0m\u001b[1;33m\u001b[0m\u001b[0m\n\u001b[0;32m    128\u001b[0m         \u001b[1;33m:\u001b[0m\u001b[1;32mreturn\u001b[0m\u001b[1;33m:\u001b[0m\u001b[1;33m\u001b[0m\u001b[0m\n",
      "\u001b[1;31mKeyError\u001b[0m: 'No subcompartment found'"
     ]
    }
   ],
   "source": [
    "C['Intermediate flow'].merge_into(C['others'])"
   ]
  },
  {
   "cell_type": "code",
   "execution_count": 34,
   "metadata": {
    "collapsed": false
   },
   "outputs": [
    {
     "ename": "KeyError",
     "evalue": "'No subcompartment found'",
     "output_type": "error",
     "traceback": [
      "\u001b[1;31m---------------------------------------------------------------------------\u001b[0m",
      "\u001b[1;31mKeyError\u001b[0m                                  Traceback (most recent call last)",
      "\u001b[1;32m<ipython-input-34-30464169b89e>\u001b[0m in \u001b[0;36m<module>\u001b[1;34m()\u001b[0m\n\u001b[1;32m----> 1\u001b[1;33m \u001b[0mC\u001b[0m\u001b[1;33m.\u001b[0m\u001b[0mdelete\u001b[0m\u001b[1;33m(\u001b[0m\u001b[1;34m'others'\u001b[0m\u001b[1;33m)\u001b[0m\u001b[1;33m\u001b[0m\u001b[0m\n\u001b[0m",
      "\u001b[1;32m/data/GitHub/lca-tools/lcatools/foreground/compartments.py\u001b[0m in \u001b[0;36mdelete\u001b[1;34m(self, item)\u001b[0m\n\u001b[0;32m     63\u001b[0m             \u001b[1;32mraise\u001b[0m \u001b[0mValueError\u001b[0m\u001b[1;33m(\u001b[0m\u001b[1;34m'Subcompartment not empty'\u001b[0m\u001b[1;33m)\u001b[0m\u001b[1;33m\u001b[0m\u001b[0m\n\u001b[0;32m     64\u001b[0m         \u001b[0mself\u001b[0m\u001b[1;33m.\u001b[0m\u001b[0m_subcompartments\u001b[0m\u001b[1;33m.\u001b[0m\u001b[0mremove\u001b[0m\u001b[1;33m(\u001b[0m\u001b[0ms1\u001b[0m\u001b[1;33m)\u001b[0m\u001b[1;33m\u001b[0m\u001b[0m\n\u001b[1;32m---> 65\u001b[1;33m \u001b[1;33m\u001b[0m\u001b[0m\n\u001b[0m\u001b[0;32m     66\u001b[0m     \u001b[1;32mdef\u001b[0m \u001b[0mmerge_subs\u001b[0m\u001b[1;33m(\u001b[0m\u001b[0mself\u001b[0m\u001b[1;33m,\u001b[0m \u001b[0mn1\u001b[0m\u001b[1;33m,\u001b[0m \u001b[0mn2\u001b[0m\u001b[1;33m)\u001b[0m\u001b[1;33m:\u001b[0m\u001b[1;33m\u001b[0m\u001b[0m\n\u001b[0;32m     67\u001b[0m         \"\"\"\n",
      "\u001b[1;32m/data/GitHub/lca-tools/lcatools/foreground/compartments.py\u001b[0m in \u001b[0;36m_ensure_comp\u001b[1;34m(self, item)\u001b[0m\n\u001b[0;32m     60\u001b[0m     \u001b[1;32mdef\u001b[0m \u001b[0mdelete\u001b[0m\u001b[1;33m(\u001b[0m\u001b[0mself\u001b[0m\u001b[1;33m,\u001b[0m \u001b[0mitem\u001b[0m\u001b[1;33m)\u001b[0m\u001b[1;33m:\u001b[0m\u001b[1;33m\u001b[0m\u001b[0m\n\u001b[0;32m     61\u001b[0m         \u001b[0ms1\u001b[0m \u001b[1;33m=\u001b[0m \u001b[0mself\u001b[0m\u001b[1;33m.\u001b[0m\u001b[0m_ensure_comp\u001b[0m\u001b[1;33m(\u001b[0m\u001b[0mitem\u001b[0m\u001b[1;33m)\u001b[0m\u001b[1;33m\u001b[0m\u001b[0m\n\u001b[1;32m---> 62\u001b[1;33m         \u001b[1;32mif\u001b[0m \u001b[0mlen\u001b[0m\u001b[1;33m(\u001b[0m\u001b[0ms1\u001b[0m\u001b[1;33m.\u001b[0m\u001b[0m_subcompartments\u001b[0m\u001b[1;33m)\u001b[0m \u001b[1;33m>\u001b[0m \u001b[1;36m0\u001b[0m\u001b[1;33m:\u001b[0m\u001b[1;33m\u001b[0m\u001b[0m\n\u001b[0m\u001b[0;32m     63\u001b[0m             \u001b[1;32mraise\u001b[0m \u001b[0mValueError\u001b[0m\u001b[1;33m(\u001b[0m\u001b[1;34m'Subcompartment not empty'\u001b[0m\u001b[1;33m)\u001b[0m\u001b[1;33m\u001b[0m\u001b[0m\n\u001b[0;32m     64\u001b[0m         \u001b[0mself\u001b[0m\u001b[1;33m.\u001b[0m\u001b[0m_subcompartments\u001b[0m\u001b[1;33m.\u001b[0m\u001b[0mremove\u001b[0m\u001b[1;33m(\u001b[0m\u001b[0ms1\u001b[0m\u001b[1;33m)\u001b[0m\u001b[1;33m\u001b[0m\u001b[0m\n",
      "\u001b[1;32m/data/GitHub/lca-tools/lcatools/foreground/compartments.py\u001b[0m in \u001b[0;36m__getitem__\u001b[1;34m(self, item)\u001b[0m\n\u001b[0;32m    124\u001b[0m     \u001b[1;32mdef\u001b[0m \u001b[0mmerge_into\u001b[0m\u001b[1;33m(\u001b[0m\u001b[0mself\u001b[0m\u001b[1;33m,\u001b[0m \u001b[0mcomp\u001b[0m\u001b[1;33m)\u001b[0m\u001b[1;33m:\u001b[0m\u001b[1;33m\u001b[0m\u001b[0m\n\u001b[0;32m    125\u001b[0m         \"\"\"\n\u001b[1;32m--> 126\u001b[1;33m         \u001b[0mtake\u001b[0m \u001b[0man\u001b[0m \u001b[0mexisting\u001b[0m \u001b[0mcompartment\u001b[0m \u001b[1;32mand\u001b[0m \u001b[0mmake\u001b[0m \u001b[0mit\u001b[0m \u001b[0ma\u001b[0m \u001b[0msubcompartment\u001b[0m \u001b[0mof\u001b[0m \u001b[0mself\u001b[0m\u001b[1;33m\u001b[0m\u001b[0m\n\u001b[0m\u001b[0;32m    127\u001b[0m         \u001b[1;33m:\u001b[0m\u001b[0mparam\u001b[0m \u001b[0mcomp\u001b[0m\u001b[1;33m:\u001b[0m \u001b[0mexisting\u001b[0m \u001b[0mcompartment\u001b[0m\u001b[1;33m\u001b[0m\u001b[0m\n\u001b[0;32m    128\u001b[0m         \u001b[1;33m:\u001b[0m\u001b[1;32mreturn\u001b[0m\u001b[1;33m:\u001b[0m\u001b[1;33m\u001b[0m\u001b[0m\n",
      "\u001b[1;31mKeyError\u001b[0m: 'No subcompartment found'"
     ]
    }
   ],
   "source": [
    "C.delete('others')"
   ]
  },
  {
   "cell_type": "code",
   "execution_count": 15,
   "metadata": {
    "collapsed": false
   },
   "outputs": [
    {
     "data": {
      "text/plain": [
       "['Plastics']"
      ]
     },
     "execution_count": 15,
     "metadata": {},
     "output_type": "execute_result"
    }
   ],
   "source": [
    "[str(x) for x in C['Intermediate flow'].subcompartments()]"
   ]
  },
  {
   "cell_type": "code",
   "execution_count": 15,
   "metadata": {
    "collapsed": false
   },
   "outputs": [],
   "source": [
    "C['Emissions'].merge_subcompartment(C['water'])"
   ]
  },
  {
   "cell_type": "code",
   "execution_count": 2,
   "metadata": {
    "collapsed": true
   },
   "outputs": [],
   "source": [
    "catalog_dir = os.path.join(os.path.expanduser('~'), 'GitHub', 'lca-tools-datafiles', 'catalogs')\n",
    "elcd_lcia = os.path.join(catalog_dir, 'elcd_lcia.json.gz')\n",
    "ecoinvent_lcia = os.path.join(catalog_dir, 'ei_lcia.json.gz')"
   ]
  },
  {
   "cell_type": "code",
   "execution_count": 4,
   "metadata": {
    "collapsed": false
   },
   "outputs": [
    {
     "name": "stdout",
     "output_type": "stream",
     "text": [
      "Loading JSON data from /home/b/GitHub/lca-tools-datafiles/catalogs/elcd_lcia.json.gz:\n",
      "Found Extension: zip\n",
      "54 new quantity entities added (54 total)\n",
      "1256 new flow entities added (1256 total)\n",
      "0 new process entities added (0 total)\n",
      "Loading JSON data from /home/b/GitHub/lca-tools-datafiles/catalogs/ei_lcia.json.gz:\n",
      "**Upstream reference encountered: /data/LCI/Ecoinvent/3.2/undefined\n",
      "\n",
      "710 new quantity entities added (710 total)\n",
      "3255 new flow entities added (3255 total)\n",
      "0 new process entities added (0 total)\n"
     ]
    }
   ],
   "source": [
    "C1 = archive_from_json(elcd_lcia)\n",
    "C2 = archive_from_json(ecoinvent_lcia)"
   ]
  },
  {
   "cell_type": "code",
   "execution_count": 10,
   "metadata": {
    "collapsed": true
   },
   "outputs": [],
   "source": [
    "res = C1.search(Name='carbon dioxide')"
   ]
  },
  {
   "cell_type": "code",
   "execution_count": 11,
   "metadata": {
    "collapsed": false
   },
   "outputs": [
    {
     "data": {
      "text/plain": [
       "['carbon dioxide (biogenic) (CAS 000124-38-9) [Emissions, Emissions to air, Emissions to urban air close to ground]',\n",
       " 'carbon dioxide (fossil) (CAS 000124-38-9) [Emissions, Emissions to air, Emissions to air, unspecified]',\n",
       " 'carbon dioxide (fossil) (CAS 000124-38-9) [Emissions, Emissions to air, Emissions to urban air close to ground]',\n",
       " 'carbon dioxide (biogenic) (CAS 000124-38-9) [Emissions, Emissions to air, Emissions to air, unspecified]',\n",
       " 'carbon dioxide (fossil) (CAS 000124-38-9) [Emissions, Emissions to air, Emissions to lower stratosphere and upper troposphere]',\n",
       " 'carbon dioxide (CAS 000124-38-9) [Emissions, Emissions to air, Emissions to air, unspecified]',\n",
       " 'carbon dioxide (CAS 000124-38-9) [Resources, Resources from air, Renewable material resources from air]',\n",
       " 'carbon dioxide (biogenic) (CAS 000124-38-9) [Emissions, Emissions to air, Emissions to non-urban air or from high stacks]',\n",
       " 'carbon dioxide (CAS 000124-38-9) [Emissions, Emissions to air, Emissions to non-urban air or from high stacks]',\n",
       " 'carbon dioxide (fossil) (CAS 000124-38-9) [Emissions, Emissions to air, Emissions to non-urban air or from high stacks]']"
      ]
     },
     "execution_count": 11,
     "metadata": {},
     "output_type": "execute_result"
    }
   ],
   "source": [
    "[str(x) for x in res]"
   ]
  },
  {
   "cell_type": "code",
   "execution_count": 17,
   "metadata": {
    "collapsed": false
   },
   "outputs": [
    {
     "data": {
      "text/plain": [
       "dict_keys(['Compartment', 'CasNumber', 'Name', 'Comment'])"
      ]
     },
     "execution_count": 17,
     "metadata": {},
     "output_type": "execute_result"
    }
   ],
   "source": [
    "res[2].keys()"
   ]
  },
  {
   "cell_type": "code",
   "execution_count": 25,
   "metadata": {
    "collapsed": false
   },
   "outputs": [],
   "source": [
    "q = C1.quantities()[0]"
   ]
  },
  {
   "cell_type": "code",
   "execution_count": 28,
   "metadata": {
    "collapsed": true
   },
   "outputs": [],
   "source": [
    "def count_cfs(db):\n",
    "    c = dict()\n",
    "    for q in db.quantities():\n",
    "        c[q.get_uuid()] = [f for f in db.flows() if f.cf(q) != 0]\n",
    "    return c"
   ]
  },
  {
   "cell_type": "code",
   "execution_count": 29,
   "metadata": {
    "collapsed": false
   },
   "outputs": [
    {
     "name": "stdout",
     "output_type": "stream",
     "text": [
      "CPU times: user 380 ms, sys: 0 ns, total: 380 ms\n",
      "Wall time: 385 ms\n"
     ]
    }
   ],
   "source": [
    "%time c_C1 = count_cfs(C1)"
   ]
  },
  {
   "cell_type": "code",
   "execution_count": 30,
   "metadata": {
    "collapsed": false
   },
   "outputs": [
    {
     "name": "stdout",
     "output_type": "stream",
     "text": [
      "   6: LC quantity: ILCD2011; Eutrophication freshwater; endpoint; PDF; ReCiPe\n",
      "   0: LC quantity: Marginal increase of costs\n",
      "   0: LC quantity: Comparative Toxic Unit for human (CTUh)\n",
      "   0: LC quantity: Comparative Toxic Unit for ecosystems (CTUe) * volume * time\n",
      "  42: LC quantity: Area\n",
      "   6: LC quantity: Net calorific value\n",
      "  20: LC quantity: Area*time\n",
      "   0: LC quantity: Potentially Disappeared Number of freshwater species * time\n",
      "   0: LC quantity: Moles H+-equivalents\n",
      "   0: LC quantity: Mass U235-equivalents\n",
      "   0: LC quantity: Potentially Not Occuring Number of plant species in terrestrial ecosystems * time\n",
      " 163: LC quantity: ILCD2011; Photochemical ozone formation; midpoint - human health; POCP; Van Zelm et al. (2008)\n",
      "  51: LC quantity: ILCD2011; Resource depletion- mineral, fossils and renewables; midpoint;abiotic resource depletion; Van Oers et al. 2002\n",
      "   0: LC quantity: Moles N-equivalents\n",
      "  36: LC quantity: ILCD2011; Ionising radiation; midpoint - ecosystem; CTUe; Garnier-Laplace et al. 2008\n",
      " 284: LC quantity: ILCD2011; Cancer human health effects; midpoint; CTUh; USEtox\n",
      "  13: LC quantity: ILCD2011; Acidification terrestrial and freshwater; midpoint; Accumulated Exceedance; Seppälä et al. 2006, Posch et al. 2008\n",
      "  85: LC quantity: ILCD2011; Ionising radiation; midpoint - human health; ionising radiation potential; Frischknecht et al. 2000\n",
      "   0: LC quantity: Disability Adjusted Life Years (DALY)\n",
      "  85: LC quantity: ILCD2011; Ionising radiation; endpoint - human health; DALY; Frischknecht et al. 2000\n",
      "  31: LC quantity: ILCD2011; Eutrophication marine; midpoint; N equivalents; ReCiPe\n",
      " 163: LC quantity: ILCD2011; Photochemical ozone formation; endpoint - human health; DALY; Van Zelm et al. (2008)\n",
      " 284: LC quantity: ILCD2011; Cancer human health effects; endpoint; DALY; USEtox\n",
      "   4: LC quantity: ILCD2011; Respiratory inorganics; endpoint; DALY; Humbert 2009\n",
      "  83: LC quantity: ILCD2011; Climate change; endpoint - human health; DALY; ReCiPe2008\n",
      "  98: LC quantity: Radioactivity\n",
      "   0: LC quantity: Scarcity adjusted mass of water used\n",
      "  61: LC quantity: ILCD2011; Land use; midpoint; SOM loss; Mila i Canals et al. (2007)\n",
      " 566: LC quantity: ILCD2011; Non-cancer human health effects; midpoint; CTUh; USEtox\n",
      "   0: LC quantity: Mass P-equivalents\n",
      "   0: LC quantity: Mass deficit of Soil Organic Carbon\n",
      "  11: LC quantity: ILCD2011; Eutrophication terrestrial; midpoint; Accumulated Exceedance; Seppala et al 2006, Posch et al 2008\n",
      "  19: LC quantity: ILCD2011; Respiratory inorganics; midpoint; PM2.5eq; Rabl and Spadaro 2004-Greco et al 2007\n",
      "   1: LC quantity: Volume\n",
      "   0: LC quantity: Mass N-equivalents\n",
      "   0: LC quantity: Potentially Disappeared Number of terrestrial species * time\n",
      "  83: LC quantity: ILCD2011; Climate change; midpoint; GWP100; IPCC2007\n",
      "   0: LC quantity: Mass Sb-equivalents\n",
      "   0: LC quantity: Potentially Disappeared Number of plant species in terrestrial ecosystems * time\n",
      "   0: LC quantity: Mass C2H4-equivalents\n",
      "1089: LC quantity: Mass\n",
      "   0: LC quantity: Mass CO2-equivalents\n",
      "  17: LC quantity: ILCD2011; Acidification terrestrial; endpoint; PNOF; Van Zelm et al 2007\n",
      "  24: LC quantity: ILCD2011; Ozone depletion; midpoint; ODP; WMO1999\n",
      "   0: LC quantity: Mass PM2.5-equivalents\n",
      " 863: LC quantity: ILCD2011; Ecotoxicity freshwater; midpoint; CTUe; USEtox\n",
      "  83: LC quantity: ILCD2011; Climate change terrestrial; endpoint - ecosystems; PDF; ReCiPe2008\n",
      "   0: LC quantity: Mass CFC11-equivalents\n",
      "   6: LC quantity: ILCD2011; Eutrophication freshwater; midpoint; P equivalents; ReCiPe\n",
      " 566: LC quantity: ILCD2011; Non-cancer human health effects; endpoint; DALY; USEtox\n",
      "   4: LC quantity: ILCD2011; Resource depletion - water; midpoint; freshwater scarcity; Swiss Ecoscarcity2006\n",
      "  29: LC quantity: ILCD2011; Land use; endpoint; PDF; ReCiPe\n",
      "  21: LC quantity: ILCD2011; Ozone depletion; endpoint - human health; DALY; ReCiPe2008\n",
      "  24: LC quantity: ILCD2011; Resource depletion - mineral, fossils and renewables; endpoint; surplus cost; ReCiPe\n"
     ]
    }
   ],
   "source": [
    "for k, v in c_C1.items():\n",
    "    print('%4d: %s' % (len(v), C1[k]))"
   ]
  },
  {
   "cell_type": "code",
   "execution_count": 32,
   "metadata": {
    "collapsed": false
   },
   "outputs": [],
   "source": [
    "Q = C1.search(Name=['climate change', 'midpoint'])"
   ]
  },
  {
   "cell_type": "code",
   "execution_count": 37,
   "metadata": {
    "collapsed": false
   },
   "outputs": [
    {
     "data": {
      "text/plain": [
       "{'_d': {'Category': 'Climate change',\n",
       "  'Comment': 'Factors issued from the baseline model of the IPCC (2007)',\n",
       "  'Duration': '100 years',\n",
       "  'Indicator': 'Global Warming Potential calculating the radiative forcing over a time horizon of 100 years.',\n",
       "  'Method': 'ILCD2011; ReCiPe2008',\n",
       "  'Name': 'ILCD2011; Climate change; midpoint; GWP100; IPCC2007',\n",
       "  'ReferenceYear': 'no time reference'},\n",
       " '_external_ref': 'LCIAmethods/370960f4-0a3a-415d-bf3e-e5ce63160bb9',\n",
       " '_origin': 'http://eplca.jrc.ec.europa.eu/ELCD3/resource/',\n",
       " '_uuid': UUID('370960f4-0a3a-415d-bf3e-e5ce63160bb9'),\n",
       " 'entity_type': 'quantity',\n",
       " 'reference_entity': <lcatools.entities.LcUnit at 0x7f030ca4b470>}"
      ]
     },
     "execution_count": 37,
     "metadata": {},
     "output_type": "execute_result"
    }
   ],
   "source": [
    "Q[0].__dict__"
   ]
  },
  {
   "cell_type": "code",
   "execution_count": 39,
   "metadata": {
    "collapsed": false
   },
   "outputs": [],
   "source": [
    "s = set()\n",
    "for f in C1.flows():\n",
    "    s.add('; '.join(f['Compartment']))"
   ]
  },
  {
   "cell_type": "code",
   "execution_count": 42,
   "metadata": {
    "collapsed": true
   },
   "outputs": [],
   "source": [
    "g = set()\n",
    "for f in C2.flows():\n",
    "    g.add('; '.join(f['Compartment']))"
   ]
  },
  {
   "cell_type": "code",
   "execution_count": 40,
   "metadata": {
    "collapsed": false
   },
   "outputs": [
    {
     "data": {
      "text/plain": [
       "20"
      ]
     },
     "execution_count": 40,
     "metadata": {},
     "output_type": "execute_result"
    }
   ],
   "source": [
    "len(s)"
   ]
  },
  {
   "cell_type": "code",
   "execution_count": 41,
   "metadata": {
    "collapsed": false
   },
   "outputs": [
    {
     "data": {
      "text/plain": [
       "{'Emissions; Emissions to air; Emissions to air, unspecified',\n",
       " 'Emissions; Emissions to air; Emissions to air, unspecified (long-term)',\n",
       " 'Emissions; Emissions to air; Emissions to lower stratosphere and upper troposphere',\n",
       " 'Emissions; Emissions to air; Emissions to non-urban air or from high stacks',\n",
       " 'Emissions; Emissions to air; Emissions to urban air close to ground',\n",
       " 'Emissions; Emissions to soil; Emissions to agricultural soil',\n",
       " 'Emissions; Emissions to soil; Emissions to non-agricultural soil',\n",
       " 'Emissions; Emissions to soil; Emissions to soil, unspecified',\n",
       " 'Emissions; Emissions to water; Emissions to fresh water',\n",
       " 'Emissions; Emissions to water; Emissions to sea water',\n",
       " 'Emissions; Emissions to water; Emissions to water, unspecified',\n",
       " 'Emissions; Emissions to water; Emissions to water, unspecified (long-term)',\n",
       " 'Land use; Land occupation',\n",
       " 'Land use; Land transformation',\n",
       " 'Resources; Resources from air; Renewable material resources from air',\n",
       " 'Resources; Resources from ground; Non-renewable element resources from ground',\n",
       " 'Resources; Resources from ground; Non-renewable energy resources from ground',\n",
       " 'Resources; Resources from ground; Non-renewable material resources from ground',\n",
       " 'Resources; Resources from water; Non-renewable element resources from water',\n",
       " 'Resources; Resources from water; Renewable material resources from water'}"
      ]
     },
     "execution_count": 41,
     "metadata": {},
     "output_type": "execute_result"
    }
   ],
   "source": [
    "s"
   ]
  },
  {
   "cell_type": "code",
   "execution_count": 43,
   "metadata": {
    "collapsed": false
   },
   "outputs": [
    {
     "data": {
      "text/plain": [
       "{'air; indoor',\n",
       " 'air; low population density, long-term',\n",
       " 'air; lower stratosphere + upper troposphere',\n",
       " 'air; non-urban air or from high stacks',\n",
       " 'air; unspecified',\n",
       " 'air; urban air close to ground',\n",
       " 'natural resource; biotic',\n",
       " 'natural resource; in air',\n",
       " 'natural resource; in ground',\n",
       " 'natural resource; in water',\n",
       " 'natural resource; land',\n",
       " 'soil; agricultural',\n",
       " 'soil; forestry',\n",
       " 'soil; industrial',\n",
       " 'soil; unspecified',\n",
       " 'water; ground-',\n",
       " 'water; ground-, long-term',\n",
       " 'water; ocean',\n",
       " 'water; surface water',\n",
       " 'water; unspecified'}"
      ]
     },
     "execution_count": 43,
     "metadata": {},
     "output_type": "execute_result"
    }
   ],
   "source": [
    "g"
   ]
  },
  {
   "cell_type": "code",
   "execution_count": 52,
   "metadata": {
    "collapsed": false
   },
   "outputs": [
    {
     "data": {
      "text/plain": [
       "['',\n",
       " 'Others',\n",
       " 'ISIC rev.4 ecoinvent: 012:Growing of perennial crops',\n",
       " 'Production residues in life cycle',\n",
       " 'Primary Metal Manufacturing',\n",
       " 'Waste Management and Remediation Services',\n",
       " 'Elec. Equip., Appliance, and Comp. Manufacturing',\n",
       " 'Utilities',\n",
       " 'End-of-life treatment',\n",
       " 'Ecoinvent',\n",
       " 'Emissions to air',\n",
       " 'Mining (except Oil and Gas)',\n",
       " 'Plastics and Rubber Products Manufacturing',\n",
       " 'CPC: 37510: Non-refractory mortars and concretes',\n",
       " 'economic',\n",
       " 'soil',\n",
       " 'Resources',\n",
       " 'Chemical Manufacturing',\n",
       " 'By-product classification: allocatable product',\n",
       " 'Forestry and Logging',\n",
       " 'resource',\n",
       " 'Water Transportation',\n",
       " 'others',\n",
       " 'Nonmetallic Mineral Product Manufacturing',\n",
       " 'Truck Transportation',\n",
       " 'Biofuels Manufacturing',\n",
       " 'Air Transportation',\n",
       " 'By-product classification: Recyclable',\n",
       " 'Wastes',\n",
       " 'CUTOFF Flows',\n",
       " 'Materials production',\n",
       " 'Paper Manufacturing',\n",
       " 'Crop Production',\n",
       " 'Petroleum and Coal Products Manufacturing',\n",
       " 'non-material',\n",
       " 'Oil and Gas Extraction',\n",
       " 'Transit and Ground Passenger Transportation',\n",
       " 'Wood Product Manufacturing',\n",
       " 'Deposited goods',\n",
       " 'Emissions to agricultural soil',\n",
       " 'Land use',\n",
       " 'Intermediate flow',\n",
       " 'By-product classification: Waste',\n",
       " 'water',\n",
       " 'Emissions to fresh water',\n",
       " 'natural resource',\n",
       " 'Emissions to industrial soil',\n",
       " 'final-waste-flow',\n",
       " 'Emissions',\n",
       " 'air',\n",
       " 'Transportation Equipment Manufacturing',\n",
       " 'Emissions to sea water',\n",
       " 'Systems',\n",
       " 'Elementary Flows',\n",
       " 'Energy carriers and technologies',\n",
       " 'Rail Transportation',\n",
       " 'US LCI Database',\n",
       " 'Other elementary flows',\n",
       " 'CPC: 17100: Electrical energy',\n",
       " 'Fabricated Metal Product Manufacturing',\n",
       " 'Valuable substances',\n",
       " 'Transport services']"
      ]
     },
     "execution_count": 52,
     "metadata": {},
     "output_type": "execute_result"
    }
   ],
   "source": [
    "[x.name for x in C.subcompartments()]"
   ]
  },
  {
   "cell_type": "code",
   "execution_count": 6,
   "metadata": {
    "collapsed": false
   },
   "outputs": [
    {
     "name": "stdout",
     "output_type": "stream",
     "text": [
      "Elementary Flows\n",
      "Elementary Flows -- Emissions\n",
      "Elementary Flows -- Emissions -- Emissions to soil\n",
      "Elementary Flows -- Emissions -- Emissions to soil -- Emissions to non-agricultural soil\n",
      "Elementary Flows -- Emissions -- Emissions to soil -- Emissions to soil, unspecified\n",
      "Elementary Flows -- Emissions -- Emissions to soil -- Emissions to agricultural soil\n",
      "Elementary Flows -- Emissions -- Emissions to air\n",
      "Elementary Flows -- Emissions -- Emissions to air -- Emissions to non-urban air or from high stacks\n",
      "Elementary Flows -- Emissions -- Emissions to air -- Emissions to urban air close to ground\n",
      "Elementary Flows -- Emissions -- Emissions to air -- Emissions to air, unspecified (long-term)\n",
      "Elementary Flows -- Emissions -- Emissions to air -- Emissions to air, unspecified\n",
      "Elementary Flows -- Emissions -- Emissions to air -- Emissions to lower stratosphere and upper troposphere\n",
      "Elementary Flows -- Emissions -- Emissions to water\n",
      "Elementary Flows -- Emissions -- Emissions to water -- Emissions to sea water\n",
      "Elementary Flows -- Emissions -- Emissions to water -- Emissions to water, unspecified\n",
      "Elementary Flows -- Emissions -- Emissions to water -- Emissions to fresh water\n",
      "Elementary Flows -- Emissions -- Emissions to water -- Emissions to water, unspecified (long-term)\n",
      "Elementary Flows -- Resources\n",
      "Elementary Flows -- Resources -- in water\n",
      "Elementary Flows -- Resources -- Resources from ground\n",
      "Elementary Flows -- Resources -- Resources from ground -- Non-renewable element resources from ground\n",
      "Elementary Flows -- Resources -- Resources from ground -- Renewable material resources from ground\n",
      "Elementary Flows -- Resources -- Resources from ground -- Non-renewable material resources from ground\n",
      "Elementary Flows -- Resources -- Resources from ground -- Non-renewable energy resources from ground\n",
      "Elementary Flows -- Resources -- Resources from ground -- Renewable energy resources from ground\n",
      "Elementary Flows -- Resources -- Energy resources\n",
      "Elementary Flows -- Resources -- Energy resources -- Non renewable energy resources\n",
      "Elementary Flows -- Resources -- Energy resources -- Non renewable energy resources -- Crude oil (resource)\n",
      "Elementary Flows -- Resources -- Energy resources -- Non renewable energy resources -- Natural gas (resource)\n",
      "Elementary Flows -- Resources -- Resources from biosphere\n",
      "Elementary Flows -- Resources -- Resources from biosphere -- Renewable energy resources from biosphere\n",
      "Elementary Flows -- Resources -- Resources from air\n",
      "Elementary Flows -- Resources -- Resources from air -- Renewable material resources from air\n",
      "Elementary Flows -- Resources -- Resources from air -- Renewable energy resources from air\n",
      "Elementary Flows -- Resources -- Resources from air -- Renewable element resources from air\n",
      "Elementary Flows -- Resources -- biotic\n",
      "Elementary Flows -- Resources -- Material resources\n",
      "Elementary Flows -- Resources -- Material resources -- Renewable resources\n",
      "Elementary Flows -- Resources -- Material resources -- Renewable resources -- Water\n",
      "Elementary Flows -- Resources -- in air\n",
      "Elementary Flows -- Resources -- in ground\n",
      "Elementary Flows -- Resources -- Resources from water\n",
      "Elementary Flows -- Resources -- Resources from water -- Renewable material resources from water\n",
      "Elementary Flows -- Resources -- Resources from water -- Non-renewable element resources from water\n",
      "Elementary Flows -- Resources -- Resources from water -- Renewable energy resources from water\n",
      "Elementary Flows -- Resources -- Land use\n",
      "Elementary Flows -- Resources -- Land use -- Occupation\n",
      "Elementary Flows -- Resources -- Land use -- Transformation\n",
      "Elementary Flows -- Resources -- Land use -- Hemeroby\n",
      "Elementary Flows -- Resources -- land\n",
      "Elementary Flows -- resource\n",
      "Elementary Flows -- resource -- in water\n",
      "Elementary Flows -- resource -- biotic\n",
      "Elementary Flows -- resource -- renewable\n",
      "Elementary Flows -- resource -- ground-\n",
      "Elementary Flows -- resource -- fossil-\n",
      "Elementary Flows -- resource -- in air\n",
      "Elementary Flows -- resource -- in ground\n",
      "Elementary Flows -- resource -- land\n",
      "Elementary Flows -- soil\n",
      "Elementary Flows -- soil -- Emissions to industrial soil\n",
      "Elementary Flows -- soil -- Emissions to industrial soil -- Heavy metals to industrial soil\n",
      "Elementary Flows -- soil -- Emissions to industrial soil -- Other emissions to industrial soil\n",
      "Elementary Flows -- soil -- agricultural\n",
      "Elementary Flows -- soil -- Emissions to agricultural soil\n",
      "Elementary Flows -- soil -- Emissions to agricultural soil -- Heavy metals to agricultural soil\n",
      "Elementary Flows -- soil -- Emissions to agricultural soil -- Other emissions to agricultural soil\n",
      "Elementary Flows -- soil -- Emissions to agricultural soil -- Other emissions to agricultural soil -- Pesticides to agricultural soil\n",
      "Elementary Flows -- soil -- forestry\n",
      "Elementary Flows -- soil -- industrial\n",
      "Elementary Flows -- air\n",
      "Elementary Flows -- air -- high population density\n",
      "Elementary Flows -- air -- urban air close to ground\n",
      "Elementary Flows -- air -- low population density\n",
      "Elementary Flows -- air -- non-urban air or from high stacks\n",
      "Elementary Flows -- air -- lower stratosphere + upper troposphere\n",
      "Elementary Flows -- air -- stratosphere\n",
      "Elementary Flows -- air -- low. pop.\n",
      "Elementary Flows -- air -- low population density, long-term\n",
      "Elementary Flows -- air -- fossil\n",
      "Elementary Flows -- air -- indoor\n",
      "Elementary Flows -- Land use\n",
      "Elementary Flows -- Land use -- Land transformation\n",
      "Elementary Flows -- Land use -- Land occupation\n",
      "Elementary Flows -- Emissions to air\n",
      "Elementary Flows -- Emissions to air -- Particles to air\n",
      "Elementary Flows -- Emissions to air -- Inorganic emissions to air\n",
      "Elementary Flows -- Emissions to air -- Organic emissions to air (group VOC)\n",
      "Elementary Flows -- Emissions to air -- Organic emissions to air (group VOC) -- Group NMVOC to air\n",
      "Elementary Flows -- Emissions to air -- Organic emissions to air (group VOC) -- Group NMVOC to air -- Halogenated organic emissions to air\n",
      "Elementary Flows -- Emissions to air -- Heavy metals to air\n",
      "Elementary Flows -- Emissions to air -- Other emissions to air\n",
      "Elementary Flows -- Emissions to air -- Radioactive emissions to air\n",
      "Elementary Flows -- water\n",
      "Elementary Flows -- water -- Emissions to fresh water\n",
      "Elementary Flows -- water -- Emissions to fresh water -- ecoinvent long-term to fresh water\n",
      "Elementary Flows -- water -- Emissions to fresh water -- Particles to fresh water\n",
      "Elementary Flows -- water -- Emissions to fresh water -- Inorganic emissions to fresh water\n",
      "Elementary Flows -- water -- Emissions to fresh water -- Heavy metals to fresh water\n",
      "Elementary Flows -- water -- Emissions to fresh water -- Analytical measures to fresh water\n",
      "Elementary Flows -- water -- Emissions to fresh water -- Other emissions to fresh water\n",
      "Elementary Flows -- water -- Emissions to fresh water -- Radioactive emissions to fresh water\n",
      "Elementary Flows -- water -- Emissions to fresh water -- Organic emissions to fresh water\n",
      "Elementary Flows -- water -- ground-, long-term\n",
      "Elementary Flows -- water -- lake\n",
      "Elementary Flows -- water -- surface water\n",
      "Elementary Flows -- water -- ground-\n",
      "Elementary Flows -- water -- ocean\n",
      "Elementary Flows -- water -- low population density, long-term\n",
      "Elementary Flows -- water -- Emissions to sea water\n",
      "Elementary Flows -- water -- Emissions to sea water -- Other emissions to sea water\n",
      "Elementary Flows -- water -- Emissions to sea water -- Heavy metals to sea water\n",
      "Elementary Flows -- water -- river\n"
     ]
    },
    {
     "data": {
      "text/plain": [
       "['Elementary Flows',\n",
       " 'Emissions',\n",
       " 'Emissions to soil',\n",
       " 'Emissions to non-agricultural soil',\n",
       " 'Emissions to soil, unspecified',\n",
       " 'Emissions to agricultural soil',\n",
       " 'Emissions to air',\n",
       " 'Emissions to non-urban air or from high stacks',\n",
       " 'Emissions to urban air close to ground',\n",
       " 'Emissions to air, unspecified (long-term)',\n",
       " 'Emissions to air, unspecified',\n",
       " 'Emissions to lower stratosphere and upper troposphere',\n",
       " 'Emissions to water',\n",
       " 'Emissions to sea water',\n",
       " 'Emissions to water, unspecified',\n",
       " 'Emissions to fresh water',\n",
       " 'Emissions to water, unspecified (long-term)',\n",
       " 'Resources',\n",
       " 'in water',\n",
       " 'Resources from ground',\n",
       " 'Non-renewable element resources from ground',\n",
       " 'Renewable material resources from ground',\n",
       " 'Non-renewable material resources from ground',\n",
       " 'Non-renewable energy resources from ground',\n",
       " 'Renewable energy resources from ground',\n",
       " 'Energy resources',\n",
       " 'Non renewable energy resources',\n",
       " 'Crude oil (resource)',\n",
       " 'Natural gas (resource)',\n",
       " 'Resources from biosphere',\n",
       " 'Renewable energy resources from biosphere',\n",
       " 'Resources from air',\n",
       " 'Renewable material resources from air',\n",
       " 'Renewable energy resources from air',\n",
       " 'Renewable element resources from air',\n",
       " 'biotic',\n",
       " 'Material resources',\n",
       " 'Renewable resources',\n",
       " 'Water',\n",
       " 'in air',\n",
       " 'in ground',\n",
       " 'Resources from water',\n",
       " 'Renewable material resources from water',\n",
       " 'Non-renewable element resources from water',\n",
       " 'Renewable energy resources from water',\n",
       " 'Land use',\n",
       " 'Occupation',\n",
       " 'Transformation',\n",
       " 'Hemeroby',\n",
       " 'land',\n",
       " 'resource',\n",
       " 'in water',\n",
       " 'biotic',\n",
       " 'renewable',\n",
       " 'ground-',\n",
       " 'fossil-',\n",
       " 'in air',\n",
       " 'in ground',\n",
       " 'land',\n",
       " 'soil',\n",
       " 'Emissions to industrial soil',\n",
       " 'Heavy metals to industrial soil',\n",
       " 'Other emissions to industrial soil',\n",
       " 'agricultural',\n",
       " 'Emissions to agricultural soil',\n",
       " 'Heavy metals to agricultural soil',\n",
       " 'Other emissions to agricultural soil',\n",
       " 'Pesticides to agricultural soil',\n",
       " 'forestry',\n",
       " 'industrial',\n",
       " 'air',\n",
       " 'high population density',\n",
       " 'urban air close to ground',\n",
       " 'low population density',\n",
       " 'non-urban air or from high stacks',\n",
       " 'lower stratosphere + upper troposphere',\n",
       " 'stratosphere',\n",
       " 'low. pop.',\n",
       " 'low population density, long-term',\n",
       " 'fossil',\n",
       " 'indoor',\n",
       " 'Land use',\n",
       " 'Land transformation',\n",
       " 'Land occupation',\n",
       " 'Emissions to air',\n",
       " 'Particles to air',\n",
       " 'Inorganic emissions to air',\n",
       " 'Organic emissions to air (group VOC)',\n",
       " 'Group NMVOC to air',\n",
       " 'Halogenated organic emissions to air',\n",
       " 'Heavy metals to air',\n",
       " 'Other emissions to air',\n",
       " 'Radioactive emissions to air',\n",
       " 'water',\n",
       " 'Emissions to fresh water',\n",
       " 'ecoinvent long-term to fresh water',\n",
       " 'Particles to fresh water',\n",
       " 'Inorganic emissions to fresh water',\n",
       " 'Heavy metals to fresh water',\n",
       " 'Analytical measures to fresh water',\n",
       " 'Other emissions to fresh water',\n",
       " 'Radioactive emissions to fresh water',\n",
       " 'Organic emissions to fresh water',\n",
       " 'ground-, long-term',\n",
       " 'lake',\n",
       " 'surface water',\n",
       " 'ground-',\n",
       " 'ocean',\n",
       " 'low population density, long-term',\n",
       " 'Emissions to sea water',\n",
       " 'Other emissions to sea water',\n",
       " 'Heavy metals to sea water',\n",
       " 'river']"
      ]
     },
     "execution_count": 6,
     "metadata": {},
     "output_type": "execute_result"
    }
   ],
   "source": [
    "C['Elementary Flows'].print_tree()"
   ]
  },
  {
   "cell_type": "code",
   "execution_count": 7,
   "metadata": {
    "collapsed": false
   },
   "outputs": [
    {
     "data": {
      "text/plain": [
       "113"
      ]
     },
     "execution_count": 7,
     "metadata": {},
     "output_type": "execute_result"
    }
   ],
   "source": [
    "len(_)"
   ]
  },
  {
   "cell_type": "code",
   "execution_count": 65,
   "metadata": {
    "collapsed": false
   },
   "outputs": [
    {
     "data": {
      "text/plain": [
       "340"
      ]
     },
     "execution_count": 65,
     "metadata": {},
     "output_type": "execute_result"
    }
   ],
   "source": [
    "len(set(s))"
   ]
  },
  {
   "cell_type": "code",
   "execution_count": 66,
   "metadata": {
    "collapsed": true
   },
   "outputs": [],
   "source": [
    "from itertools import groupby"
   ]
  },
  {
   "cell_type": "code",
   "execution_count": 75,
   "metadata": {
    "collapsed": false
   },
   "outputs": [],
   "source": [
    "keys = []\n",
    "groups = []\n",
    "for i, j in groupby(sorted(s)):\n",
    "    l = list(j)\n",
    "    if len(l) > 1:\n",
    "        keys.append(i)\n",
    "        groups.append(len(l))"
   ]
  },
  {
   "cell_type": "code",
   "execution_count": 77,
   "metadata": {
    "collapsed": false
   },
   "outputs": [
    {
     "data": {
      "text/plain": [
       "[3,\n",
       " 2,\n",
       " 2,\n",
       " 2,\n",
       " 2,\n",
       " 2,\n",
       " 2,\n",
       " 2,\n",
       " 2,\n",
       " 2,\n",
       " 2,\n",
       " 3,\n",
       " 2,\n",
       " 2,\n",
       " 2,\n",
       " 2,\n",
       " 3,\n",
       " 2,\n",
       " 2,\n",
       " 2,\n",
       " 2,\n",
       " 2,\n",
       " 2,\n",
       " 2,\n",
       " 2,\n",
       " 2,\n",
       " 7]"
      ]
     },
     "execution_count": 77,
     "metadata": {},
     "output_type": "execute_result"
    }
   ],
   "source": [
    "groups"
   ]
  },
  {
   "cell_type": "code",
   "execution_count": 78,
   "metadata": {
    "collapsed": false
   },
   "outputs": [
    {
     "data": {
      "text/plain": [
       "'unspecified'"
      ]
     },
     "execution_count": 78,
     "metadata": {},
     "output_type": "execute_result"
    }
   ],
   "source": [
    "keys[-1]"
   ]
  },
  {
   "cell_type": "code",
   "execution_count": 81,
   "metadata": {
    "collapsed": false
   },
   "outputs": [],
   "source": [
    "g = [4]"
   ]
  },
  {
   "cell_type": "code",
   "execution_count": 83,
   "metadata": {
    "collapsed": false
   },
   "outputs": [],
   "source": [
    "for i in g[1:]:\n",
    "    print(i)"
   ]
  },
  {
   "cell_type": "code",
   "execution_count": 87,
   "metadata": {
    "collapsed": true
   },
   "outputs": [],
   "source": [
    "s = {1, 2, 3}; t = {4, 5}"
   ]
  },
  {
   "cell_type": "code",
   "execution_count": 88,
   "metadata": {
    "collapsed": false
   },
   "outputs": [
    {
     "name": "stdout",
     "output_type": "stream",
     "text": [
      "no\n"
     ]
    }
   ],
   "source": [
    "if s.intersection(t):\n",
    "    print('yes')\n",
    "else:\n",
    "    print('no')"
   ]
  },
  {
   "cell_type": "code",
   "execution_count": 20,
   "metadata": {
    "collapsed": true
   },
   "outputs": [],
   "source": [
    "g = [4]"
   ]
  },
  {
   "cell_type": "code",
   "execution_count": 24,
   "metadata": {
    "collapsed": true
   },
   "outputs": [],
   "source": [
    "g.extend([])"
   ]
  },
  {
   "cell_type": "code",
   "execution_count": 25,
   "metadata": {
    "collapsed": false
   },
   "outputs": [
    {
     "data": {
      "text/plain": [
       "[4]"
      ]
     },
     "execution_count": 25,
     "metadata": {},
     "output_type": "execute_result"
    }
   ],
   "source": [
    "g"
   ]
  }
 ],
 "metadata": {
  "kernelspec": {
   "display_name": "Python 3",
   "language": "python",
   "name": "python3"
  },
  "language_info": {
   "codemirror_mode": {
    "name": "ipython",
    "version": 3
   },
   "file_extension": ".py",
   "mimetype": "text/x-python",
   "name": "python",
   "nbconvert_exporter": "python",
   "pygments_lexer": "ipython3",
   "version": "3.5.1"
  }
 },
 "nbformat": 4,
 "nbformat_minor": 0
}
