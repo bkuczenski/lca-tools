{
 "cells": [
  {
   "cell_type": "code",
   "execution_count": 2,
   "metadata": {
    "collapsed": false
   },
   "outputs": [],
   "source": [
    "import sys\n",
    "import os\n",
    "import re\n",
    "import json\n",
    "\n",
    "sys.path.append('..')\n",
    "\n",
    "import lcatools\n",
    "\n",
    "\n",
    "##\n",
    "def show(res):\n",
    "    for i, k in enumerate(res):\n",
    "        print('[%2d] %s ' % (i, k))\n",
    "\n",
    "from lcatools.interact import *\n",
    "\n"
   ]
  },
  {
   "cell_type": "code",
   "execution_count": 3,
   "metadata": {
    "collapsed": false
   },
   "outputs": [
    {
     "name": "stdout",
     "output_type": "stream",
     "text": [
      "ForegroundArchive archive added in position 0\n",
      "IlcdLcia archive added in position 1\n",
      "JSON archive added in position 2\n",
      "JSON archive added in position 3\n",
      "JSON archive added in position 4\n",
      "JSON archive added in position 5\n",
      "JSON archive added in position 6\n",
      "JSON archive added in position 7\n",
      "JSON archive added in position 8\n",
      "JSON archive added in position 9\n",
      "JSON archive added in position 10\n",
      "Generating flow-quantity database...\n",
      "finished... (0.78 s)\n"
     ]
    }
   ],
   "source": [
    "from lcatools.foreground.manager import ForegroundManager\n",
    "F = ForegroundManager('fragments', cfs=None)\n",
    "#from lcatools.foreground.interface import ForegroundInterface\n",
    "#F = ForegroundInterface('fragments')\n"
   ]
  },
  {
   "cell_type": "code",
   "execution_count": 4,
   "metadata": {
    "collapsed": false
   },
   "outputs": [
    {
     "name": "stdout",
     "output_type": "stream",
     "text": [
      "\n",
      "LCA Catalog with the following archives:\n",
      "X [ 0] FG     : ForegroundArchive with 24 entities at fragments\n",
      "  [ 1] ELCD   : /data/LCI/ELCD/ELCD3.2.zip\n",
      "  [ 2] LCIA   : /data/GitHub/lca-tools-datafiles/catalogs/elcd_lcia.json.gz\n",
      "  [ 3] EI-LCIA: /data/GitHub/lca-tools-datafiles/catalogs/ei_lcia.json.gz\n",
      "  [ 4] EI-U   : /data/GitHub/lca-tools-datafiles/catalogs/ecoinvent_3.2_undefined_xlsx.json.gz\n",
      "  [ 5] EI_A   : /data/GitHub/lca-tools-datafiles/catalogs/ecoinvent_3.2_apos_xlsx.json.gz\n",
      "  [ 6] EI_Q   : /data/GitHub/lca-tools-datafiles/catalogs/ecoinvent_3.2_consequential_xlsx.json.gz\n",
      "  [ 7] EI_C   : /data/GitHub/lca-tools-datafiles/catalogs/ecoinvent_3.2_cut-off_xlsx.json.gz\n",
      "  [ 8] USLCI  : /data/GitHub/lca-tools-datafiles/catalogs/uslci_ecospold.json.gz\n",
      "  [ 9] GaBi-P : /data/GitHub/lca-tools-datafiles/catalogs/gabi_2016_professional-database-2016.json.gz\n",
      "  [10] GaBi-X : /data/GitHub/lca-tools-datafiles/catalogs/gabi_2016_all-extensions.json.gz\n"
     ]
    }
   ],
   "source": [
    "F.show(loaded=False)"
   ]
  },
  {
   "cell_type": "markdown",
   "metadata": {},
   "source": [
    "## select quantities"
   ]
  },
  {
   "cell_type": "code",
   "execution_count": 5,
   "metadata": {
    "collapsed": false
   },
   "outputs": [
    {
     "name": "stdout",
     "output_type": "stream",
     "text": [
      "Loading JSON data from /data/GitHub/lca-tools-datafiles/catalogs/elcd_lcia.json.gz:\n",
      "Found Extension: zip\n",
      "54 new quantity entities added (54 total)\n",
      "1256 new flow entities added (1256 total)\n",
      "0 new process entities added (0 total)\n",
      "[ 0] (LCIA) {q} ILCD2011; Non-cancer human health effects; endpoint; DALY; USEtox [LCIA] \n",
      "[ 1] (LCIA) {q} ILCD2011; Ecotoxicity freshwater; midpoint; CTUe; USEtox [LCIA] \n",
      "[ 2] (LCIA) {q} ILCD2011; Non-cancer human health effects; midpoint; CTUh; USEtox [LCIA] \n",
      "[ 3] (LCIA) {q} ILCD2011; Cancer human health effects; endpoint; DALY; USEtox [LCIA] \n",
      "[ 4] (LCIA) {q} ILCD2011; Cancer human health effects; midpoint; CTUh; USEtox [LCIA] \n"
     ]
    }
   ],
   "source": [
    "F.selected = set(F.search(2, 'quantity', Name='usetox', show=True))"
   ]
  },
  {
   "cell_type": "code",
   "execution_count": 7,
   "metadata": {
    "collapsed": false
   },
   "outputs": [
    {
     "name": "stdout",
     "output_type": "stream",
     "text": [
      "Add to foreground: (LCIA) {q} ILCD2011; Non-cancer human health effects; midpoint; CTUh; USEtox [LCIA]\n",
      "Add to foreground: (LCIA) {q} ILCD2011; Non-cancer human health effects; endpoint; DALY; USEtox [LCIA]\n",
      "Add to foreground: (LCIA) {q} ILCD2011; Cancer human health effects; endpoint; DALY; USEtox [LCIA]\n",
      "Add to foreground: (LCIA) {q} ILCD2011; Cancer human health effects; midpoint; CTUh; USEtox [LCIA]\n",
      "Add to foreground: (LCIA) {q} ILCD2011; Ecotoxicity freshwater; midpoint; CTUe; USEtox [LCIA]\n"
     ]
    }
   ],
   "source": [
    "for f in F.selected: \n",
    "    F.add_to_foreground(f)"
   ]
  },
  {
   "cell_type": "markdown",
   "metadata": {},
   "source": [
    "## build a fragment"
   ]
  },
  {
   "cell_type": "code",
   "execution_count": 9,
   "metadata": {
    "collapsed": false
   },
   "outputs": [
    {
     "name": "stdout",
     "output_type": "stream",
     "text": [
      "Loading JSON data from /data/GitHub/lca-tools-datafiles/catalogs/uslci_ecospold.json.gz:\n",
      "Found Extension: zip\n",
      "19 new quantity entities added (19 total)\n",
      "4176 new flow entities added (4176 total)\n",
      "701 new process entities added (701 total)\n"
     ]
    }
   ],
   "source": [
    "F.load('USLCI')"
   ]
  },
  {
   "cell_type": "code",
   "execution_count": 10,
   "metadata": {
    "collapsed": false
   },
   "outputs": [
    {
     "name": "stdout",
     "output_type": "stream",
     "text": [
      "[ 0] (USLCI) {f} Polyethylene terephthalate, resin, at plant, CTR [Chemical Manufacturing, All Other Basic Organic Chemical Manufacturing] \n",
      "[ 1] (USLCI) {f} Recovered energy, for Polyethylene terephthalate, resin, at plant, CTR [Chemical Manufacturing, All Other Basic Organic Chemical Manufacturing] \n",
      "[ 2] (USLCI) {f} Polyethylene terephthalate, resin, at plant [Chemical Manufacturing, Petrochemical Manufacturing] \n",
      "[ 3] (USLCI) {f} CUTOFF Polyethylene terephthalate, granulate, amorphous, at plant [CUTOFF Flows] \n"
     ]
    }
   ],
   "source": [
    "selected = F.search('USLCI', 'flow', Name='poly.*terephth')\n",
    "\n",
    "show(selected)\n"
   ]
  },
  {
   "cell_type": "code",
   "execution_count": 11,
   "metadata": {
    "collapsed": false
   },
   "outputs": [
    {
     "name": "stdout",
     "output_type": "stream",
     "text": [
      "Add to foreground: (USLCI) {f} Polyethylene terephthalate, resin, at plant, CTR [Chemical Manufacturing, All Other Basic Organic Chemical Manufacturing]\n",
      "Add to foreground: (USLCI) {f} Polyethylene terephthalate, resin, at plant [Chemical Manufacturing, Petrochemical Manufacturing]\n"
     ]
    }
   ],
   "source": [
    "F.add_to_foreground(selected[0])\n",
    "F.add_to_foreground(selected[2])"
   ]
  },
  {
   "cell_type": "code",
   "execution_count": 12,
   "metadata": {
    "collapsed": false
   },
   "outputs": [
    {
     "data": {
      "text/plain": [
       "'Polyethylene terephthalate, resin, at plant'"
      ]
     },
     "execution_count": 12,
     "metadata": {},
     "output_type": "execute_result"
    }
   ],
   "source": [
    "F[0].flows()[1]['Name']"
   ]
  },
  {
   "cell_type": "code",
   "execution_count": 13,
   "metadata": {
    "collapsed": false
   },
   "outputs": [
    {
     "name": "stdout",
     "output_type": "stream",
     "text": [
      "LcFragment - Name: PET from USLCI:\n"
     ]
    },
    {
     "data": {
      "text/plain": [
       "<lcatools.foreground.fragment_flows.LcFragment at 0x7f57a076c9e8>"
      ]
     },
     "execution_count": 13,
     "metadata": {},
     "output_type": "execute_result"
    }
   ],
   "source": [
    "F[0].create_fragment(F[0].flows()[1], 'Input', 'PET from USLCI')"
   ]
  },
  {
   "cell_type": "code",
   "execution_count": 14,
   "metadata": {
    "collapsed": false
   },
   "outputs": [
    {
     "data": {
      "text/plain": [
       "['( ** ref) <--  be8c7cc <--  --: : Polyethylene terephthalate, resin, at plant']"
      ]
     },
     "execution_count": 14,
     "metadata": {},
     "output_type": "execute_result"
    }
   ],
   "source": [
    "[str(f) for f in F[0].fragments(show_all=True)]"
   ]
  },
  {
   "cell_type": "code",
   "execution_count": 15,
   "metadata": {
    "collapsed": true
   },
   "outputs": [],
   "source": [
    "frag = next(f for f in F[0].fragments())"
   ]
  },
  {
   "cell_type": "code",
   "execution_count": 16,
   "metadata": {
    "collapsed": false
   },
   "outputs": [],
   "source": [
    "F.auto_terminate('USLCI', frag)"
   ]
  },
  {
   "cell_type": "code",
   "execution_count": 17,
   "metadata": {
    "collapsed": false
   },
   "outputs": [
    {
     "data": {
      "text/plain": [
       "['( ** ref) <--  be8c7cc <--  #   : Polyethylene terephthalate, resin, at plant']"
      ]
     },
     "execution_count": 17,
     "metadata": {},
     "output_type": "execute_result"
    }
   ],
   "source": [
    "[str(f) for f in F[0].fragments(show_all=True)]"
   ]
  },
  {
   "cell_type": "code",
   "execution_count": 18,
   "metadata": {
    "collapsed": false
   },
   "outputs": [
    {
     "name": "stdout",
     "output_type": "stream",
     "text": [
      "Saving foreground\n"
     ]
    }
   ],
   "source": [
    "F.save()"
   ]
  },
  {
   "cell_type": "code",
   "execution_count": 19,
   "metadata": {
    "collapsed": false
   },
   "outputs": [
    {
     "name": "stdout",
     "output_type": "stream",
     "text": [
      "    P0    LCIA Method\n",
      "-------------------------------\n",
      "         0  ILCD2011; Non-cancer human health effects; midpoint; CTUh; USEtox [LCIA]\n",
      "         0  ILCD2011; Cancer human health effects; endpoint; DALY; USEtox [LCIA]\n",
      "         0  ILCD2011; Cancer human health effects; midpoint; CTUh; USEtox [LCIA]\n",
      "         0  ILCD2011; Non-cancer human health effects; endpoint; DALY; USEtox [LCIA]\n",
      "         0  ILCD2011; Ecotoxicity freshwater; midpoint; CTUe; USEtox [LCIA]\n",
      "\n",
      "P0: (USLCI) {p} Polyethylene terephthalate, resin, at plant [RNA]\n"
     ]
    }
   ],
   "source": [
    "F.lcia(frag.termination(None).term_node)"
   ]
  },
  {
   "cell_type": "code",
   "execution_count": 20,
   "metadata": {
    "collapsed": false
   },
   "outputs": [
    {
     "name": "stdout",
     "output_type": "stream",
     "text": [
      "0 unmatched flows found from source LCIA... \n",
      "\n"
     ]
    }
   ],
   "source": [
    "F.load_lcia_cfs(2)"
   ]
  },
  {
   "cell_type": "code",
   "execution_count": 21,
   "metadata": {
    "collapsed": false
   },
   "outputs": [
    {
     "name": "stdout",
     "output_type": "stream",
     "text": [
      "    P0    LCIA Method\n",
      "-------------------------------\n",
      "  7.04e-09  ILCD2011; Non-cancer human health effects; midpoint; CTUh; USEtox [LCIA]\n",
      "  2.24e-12  ILCD2011; Cancer human health effects; endpoint; DALY; USEtox [LCIA]\n",
      "  1.95e-13  ILCD2011; Cancer human health effects; midpoint; CTUh; USEtox [LCIA]\n",
      "   1.9e-08  ILCD2011; Non-cancer human health effects; endpoint; DALY; USEtox [LCIA]\n",
      "     0.213  ILCD2011; Ecotoxicity freshwater; midpoint; CTUe; USEtox [LCIA]\n",
      "\n",
      "P0: (USLCI) {p} Polyethylene terephthalate, resin, at plant [RNA]\n"
     ]
    }
   ],
   "source": [
    "F.lcia(frag.termination(None).term_node)"
   ]
  },
  {
   "cell_type": "code",
   "execution_count": 22,
   "metadata": {
    "collapsed": false
   },
   "outputs": [
    {
     "name": "stdout",
     "output_type": "stream",
     "text": [
      "child fragment - no termination found: CUTOFF Disposal, solid waste, unspecified, to waste-to-energy\n",
      "child fragment - no termination found: CUTOFF Disposal, solid waste, unspecified, to municipal incineration\n",
      "child fragment - no termination found: CUTOFF Disposal, solid waste, unspecified, to sanitary landfill\n",
      "child fragment - no termination found: CUTOFF Ethylene glycol, at plant\n",
      "child fragment - no termination found: Recovered energy\n"
     ]
    }
   ],
   "source": [
    "F.build_child_flows(frag)"
   ]
  },
  {
   "cell_type": "code",
   "execution_count": 23,
   "metadata": {
    "collapsed": false
   },
   "outputs": [
    {
     "data": {
      "text/plain": [
       "[<lcatools.entities.LcFlow at 0x7f57a11cc6a0>,\n",
       " <lcatools.entities.LcFlow at 0x7f57a10bcd68>,\n",
       " <lcatools.entities.LcFlow at 0x7f57a1149438>,\n",
       " <lcatools.entities.LcFlow at 0x7f57a1145e10>,\n",
       " <lcatools.entities.LcFlow at 0x7f57a110f828>,\n",
       " <lcatools.entities.LcFlow at 0x7f57a1180c18>,\n",
       " <lcatools.entities.LcFlow at 0x7f57a11a9550>,\n",
       " <lcatools.entities.LcFlow at 0x7f57a1126d68>,\n",
       " <lcatools.entities.LcFlow at 0x7f57a107bac8>,\n",
       " <lcatools.entities.LcFlow at 0x7f57a10b9cc0>,\n",
       " <lcatools.entities.LcFlow at 0x7f57a12b6208>,\n",
       " <lcatools.entities.LcFlow at 0x7f57a1292550>,\n",
       " <lcatools.entities.LcFlow at 0x7f57a128bbe0>,\n",
       " <lcatools.entities.LcFlow at 0x7f57a10a5eb8>,\n",
       " <lcatools.entities.LcFlow at 0x7f57a111a2e8>,\n",
       " <lcatools.entities.LcFlow at 0x7f57a10f4e10>,\n",
       " <lcatools.entities.LcFlow at 0x7f57a110f630>,\n",
       " <lcatools.entities.LcFlow at 0x7f57a12b6748>,\n",
       " <lcatools.entities.LcFlow at 0x7f57a12c6d30>,\n",
       " <lcatools.entities.LcFlow at 0x7f57a12225c0>]"
      ]
     },
     "execution_count": 23,
     "metadata": {},
     "output_type": "execute_result"
    }
   ],
   "source": [
    "F[0].flows()"
   ]
  },
  {
   "cell_type": "code",
   "execution_count": 24,
   "metadata": {
    "collapsed": true
   },
   "outputs": [],
   "source": [
    "term = frag.termination(None)"
   ]
  },
  {
   "cell_type": "code",
   "execution_count": 25,
   "metadata": {
    "collapsed": false
   },
   "outputs": [],
   "source": [
    "int_exch = [x for x in F._filter_exch(term.term_node, elem=False)\n",
    "            if not (x.flow == term.term_flow and x.direction == term.direction)]\n"
   ]
  },
  {
   "cell_type": "code",
   "execution_count": 26,
   "metadata": {
    "collapsed": false
   },
   "outputs": [
    {
     "data": {
      "text/plain": [
       "[' Input:     [0.0128 [l]] Diesel, combusted in industrial equipment [Utilities, Steam and Air-Conditioning Supply]',\n",
       " ' Input:     [0.000655 [t*km]] Transport, barge, diesel powered [Water Transportation, Inland Water Freight Transportation]',\n",
       " ' Input:     [0.0372 [kg]] Acetic acid, at plant [Chemical Manufacturing, All Other Basic Organic Chemical Manufacturing]',\n",
       " ' Input:     [8.76e-05 [t*km]] Transport, pipeline, natural gas [Utilities, Fossil Fuel Electric Power Generation]',\n",
       " ' Input:     [0.0981 [m3]] Natural gas, combusted in industrial boiler [Utilities, Steam and Air-Conditioning Supply]',\n",
       " ' Input:     [0.521 [kg]] Paraxylene, at plant [Chemical Manufacturing, Petrochemical Manufacturing]',\n",
       " ' Input:     [0.00059 [kg]] CUTOFF Disposal, solid waste, unspecified, to waste-to-energy [CUTOFF Flows]',\n",
       " ' Input:     [1.61 [t*km]] Transport, train, diesel powered [Rail Transportation, Rail Transportation]',\n",
       " ' Input:     [0.00031 [kg]] CUTOFF Disposal, solid waste, unspecified, to municipal incineration [CUTOFF Flows]',\n",
       " ' Input:     [0.0511 [kWh]] Electricity, at cogen, for natural gas turbine [Utilities, Fossil Fuel Electric Power Generation]',\n",
       " ' Input:     [0.00218 [t*km]] Transport, barge, residual fuel oil powered [Water Transportation, Inland Water Freight Transportation]',\n",
       " ' Input:     [0.0189 [kg]] Bituminous coal, combusted in industrial boiler [Utilities, Steam and Air-Conditioning Supply]',\n",
       " ' Input:     [0.00419 [kg]] CUTOFF Disposal, solid waste, unspecified, to sanitary landfill [CUTOFF Flows]',\n",
       " ' Input:     [0.322 [kg]] CUTOFF Ethylene glycol, at plant [CUTOFF Flows]',\n",
       " ' Input:     [0.0352 [kg]] Methanol, at plant [Chemical Manufacturing, All Other Basic Organic Chemical Manufacturing]',\n",
       " ' Input:     [0.0268 [l]] Residual fuel oil, combusted in industrial boiler [Utilities, Steam and Air-Conditioning Supply]',\n",
       " ' Input:     [0.558 [kWh]] Electricity, at grid, US, 2008 [Utilities, Fossil Fuel Electric Power Generation]',\n",
       " 'Output:     [0.142 [MJ]] Recovered energy [Chemical Manufacturing, Petrochemical Manufacturing]']"
      ]
     },
     "execution_count": 26,
     "metadata": {},
     "output_type": "execute_result"
    }
   ],
   "source": [
    "[str(x) for x in int_exch]"
   ]
  },
  {
   "cell_type": "code",
   "execution_count": 27,
   "metadata": {
    "collapsed": false
   },
   "outputs": [
    {
     "data": {
      "text/plain": [
       "['(be8c7cc) <--  4da1902 <--  #   : Bituminous coal, combusted in industrial boiler',\n",
       " '(be8c7cc) <--  0927188 <--  --: : CUTOFF Disposal, solid waste, unspecified, to waste-to-energy',\n",
       " '(be8c7cc) <--  4e717b4 <--  #   : Transport, barge, diesel powered',\n",
       " '(be8c7cc) <--  0fa4a16 <--  #   : Paraxylene, at plant',\n",
       " '(be8c7cc) <--  033e693 <--  #   : Acetic acid, at plant',\n",
       " '(be8c7cc)  ==> 2f26767  ==> --: : Recovered energy',\n",
       " '(be8c7cc) <--  026552f <--  #   : Transport, train, diesel powered',\n",
       " '(be8c7cc) <--  a0c84a5 <--  #   : Electricity, at cogen, for natural gas turbine',\n",
       " '(be8c7cc) <--  fed71a5 <--  #   : Electricity, at grid, US, 2008',\n",
       " '( ** ref) <--  be8c7cc <--  #   : Polyethylene terephthalate, resin, at plant',\n",
       " '(be8c7cc) <--  c3ae97d <--  --: : CUTOFF Disposal, solid waste, unspecified, to municipal incineration',\n",
       " '(be8c7cc) <--  14b3a7b <--  --: : CUTOFF Disposal, solid waste, unspecified, to sanitary landfill',\n",
       " '(be8c7cc) <--  d392c5c <--  #   : Transport, barge, residual fuel oil powered',\n",
       " '(be8c7cc) <--  89c6284 <--  --: : CUTOFF Ethylene glycol, at plant',\n",
       " '(be8c7cc) <--  8dc3f2b <--  #   : Methanol, at plant',\n",
       " '(be8c7cc) <--  1dd4da1 <--  #   : Natural gas, combusted in industrial boiler',\n",
       " '(be8c7cc) <--  6df2058 <--  #   : Transport, pipeline, natural gas',\n",
       " '(be8c7cc) <--  8a30013 <--  #   : Diesel, combusted in industrial equipment',\n",
       " '(be8c7cc) <--  da9e8ac <--  #   : Residual fuel oil, combusted in industrial boiler']"
      ]
     },
     "execution_count": 27,
     "metadata": {},
     "output_type": "execute_result"
    }
   ],
   "source": [
    "[str(f) for f in F[0].fragments(background=False, show_all=True)]"
   ]
  },
  {
   "cell_type": "code",
   "execution_count": 28,
   "metadata": {
    "collapsed": false
   },
   "outputs": [
    {
     "name": "stdout",
     "output_type": "stream",
     "text": [
      "Saving foreground\n"
     ]
    }
   ],
   "source": [
    "F.save()"
   ]
  },
  {
   "cell_type": "code",
   "execution_count": 29,
   "metadata": {
    "collapsed": false
   },
   "outputs": [
    {
     "name": "stdout",
     "output_type": "stream",
     "text": [
      "[ 0] (FG) {f} (be8c7cc) <--  4da1902 <--  #   : Bituminous coal, combusted in industrial boiler \n",
      "[ 1] (FG) {f} (be8c7cc) <--  0927188 <--  --: : CUTOFF Disposal, solid waste, unspecified, to waste-to-energy \n",
      "[ 2] (FG) {f} (be8c7cc) <--  4e717b4 <--  #   : Transport, barge, diesel powered \n",
      "[ 3] (FG) {f} (be8c7cc) <--  0fa4a16 <--  #   : Paraxylene, at plant \n",
      "[ 4] (FG) {f} (be8c7cc) <--  033e693 <--  #   : Acetic acid, at plant \n",
      "[ 5] (FG) {f} (be8c7cc)  ==> 2f26767  ==> --: : Recovered energy \n",
      "[ 6] (FG) {f} (be8c7cc) <--  026552f <--  #   : Transport, train, diesel powered \n",
      "[ 7] (FG) {f} (be8c7cc) <--  a0c84a5 <--  #   : Electricity, at cogen, for natural gas turbine \n",
      "[ 8] (FG) {f} (be8c7cc) <--  fed71a5 <--  #   : Electricity, at grid, US, 2008 \n",
      "[ 9] (FG) {f} ( ** ref) <--  be8c7cc <--  #   : Polyethylene terephthalate, resin, at plant \n",
      "[10] (FG) {f} (be8c7cc) <--  c3ae97d <--  --: : CUTOFF Disposal, solid waste, unspecified, to municipal incineration \n",
      "[11] (FG) {f} (be8c7cc) <--  14b3a7b <--  --: : CUTOFF Disposal, solid waste, unspecified, to sanitary landfill \n",
      "[12] (FG) {f} (be8c7cc) <--  d392c5c <--  #   : Transport, barge, residual fuel oil powered \n",
      "[13] (FG) {f} (be8c7cc) <--  89c6284 <--  --: : CUTOFF Ethylene glycol, at plant \n",
      "[14] (FG) {f} (be8c7cc) <--  8dc3f2b <--  #   : Methanol, at plant \n",
      "[15] (FG) {f} (be8c7cc) <--  1dd4da1 <--  #   : Natural gas, combusted in industrial boiler \n",
      "[16] (FG) {f} (be8c7cc) <--  6df2058 <--  #   : Transport, pipeline, natural gas \n",
      "[17] (FG) {f} (be8c7cc) <--  8a30013 <--  #   : Diesel, combusted in industrial equipment \n",
      "[18] (FG) {f} (be8c7cc) <--  da9e8ac <--  #   : Residual fuel oil, combusted in industrial boiler \n"
     ]
    },
    {
     "data": {
      "text/plain": [
       "[<lcatools.catalog.CatalogRef at 0x7f57a0fcd320>,\n",
       " <lcatools.catalog.CatalogRef at 0x7f57a0fcd390>,\n",
       " <lcatools.catalog.CatalogRef at 0x7f57a0fcd6d8>,\n",
       " <lcatools.catalog.CatalogRef at 0x7f57a0fcd3c8>,\n",
       " <lcatools.catalog.CatalogRef at 0x7f57a0fcd518>,\n",
       " <lcatools.catalog.CatalogRef at 0x7f57a0fcd278>,\n",
       " <lcatools.catalog.CatalogRef at 0x7f57a0fcd470>,\n",
       " <lcatools.catalog.CatalogRef at 0x7f57a0fcd630>,\n",
       " <lcatools.catalog.CatalogRef at 0x7f57a0fcd240>,\n",
       " <lcatools.catalog.CatalogRef at 0x7f57a0fcd588>,\n",
       " <lcatools.catalog.CatalogRef at 0x7f57a0fcd6a0>,\n",
       " <lcatools.catalog.CatalogRef at 0x7f57a0fcd8d0>,\n",
       " <lcatools.catalog.CatalogRef at 0x7f57a08ed898>,\n",
       " <lcatools.catalog.CatalogRef at 0x7f57a08edcf8>,\n",
       " <lcatools.catalog.CatalogRef at 0x7f57a08ed6a0>,\n",
       " <lcatools.catalog.CatalogRef at 0x7f57a0fcd668>,\n",
       " <lcatools.catalog.CatalogRef at 0x7f57a0fcd9b0>,\n",
       " <lcatools.catalog.CatalogRef at 0x7f57a0fcd908>,\n",
       " <lcatools.catalog.CatalogRef at 0x7f57a0fcd780>]"
      ]
     },
     "execution_count": 29,
     "metadata": {},
     "output_type": "execute_result"
    }
   ],
   "source": [
    "F.search(0,'fragment', show=True)"
   ]
  },
  {
   "cell_type": "code",
   "execution_count": 13,
   "metadata": {
    "collapsed": false
   },
   "outputs": [
    {
     "name": "stdout",
     "output_type": "stream",
     "text": [
      "[ 0] (USLCI) {f} Nitrogen oxides [air, low population density] \n",
      "[ 1] (USLCI) {f} Nitrogen oxides [air, low. pop.] \n",
      "[ 2] (USLCI) {f} Nitrogen oxides  [air, unspecified] \n",
      "[ 3] (USLCI) {f} Nitrogen oxides [air, high population density] \n",
      "[ 4] (USLCI) {f} Nitrogen oxides [water, unspecified] \n",
      "[ 5] (USLCI) {f} Nitrogen oxides [air, stratosphere] \n",
      "[ 6] (USLCI) {f} Nitrogen oxides [air, low population density, long-term] \n"
     ]
    },
    {
     "data": {
      "text/plain": [
       "[<lcatools.catalog.CatalogRef at 0x7f3dda892358>,\n",
       " <lcatools.catalog.CatalogRef at 0x7f3dda892470>,\n",
       " <lcatools.catalog.CatalogRef at 0x7f3dda8924a8>,\n",
       " <lcatools.catalog.CatalogRef at 0x7f3dda8924e0>,\n",
       " <lcatools.catalog.CatalogRef at 0x7f3dda892518>,\n",
       " <lcatools.catalog.CatalogRef at 0x7f3dda892550>,\n",
       " <lcatools.catalog.CatalogRef at 0x7f3dda892588>]"
      ]
     },
     "execution_count": 13,
     "metadata": {},
     "output_type": "execute_result"
    }
   ],
   "source": [
    "F.search(8, 'flow', Name='nitrogen oxides', show=True)"
   ]
  },
  {
   "cell_type": "code",
   "execution_count": 16,
   "metadata": {
    "collapsed": false
   },
   "outputs": [
    {
     "name": "stdout",
     "output_type": "stream",
     "text": [
      "Elementary exchanges:\n",
      "Output:     [4.1e-05 [kg]] Xylene [air, unspecified]\n",
      "Output:     [9.7e-10 [kg]] Antimony [water, unspecified]\n",
      "Output:     [5.5e-06 [kg]] Zinc [water, unspecified]\n",
      "Output:     [4.4e-05 [kg]] TOC, Total Organic Carbon [water, unspecified]\n",
      "Output:     [0.00568 [kg]] Carbon monoxide [air, unspecified]\n",
      "Output:     [9.7e-10 [kg]] Aluminum [water, unspecified]\n",
      "Output:     [0.00094 [kg]] Organic substances, unspecified [air, unspecified]\n",
      "Output:     [5.2e-05 [kg]] Nitrogen oxides  [air, unspecified]\n",
      "Output:     [0.00015 [kg]] Particulates, unspecified [air, unspecified]\n",
      "Output:     [9.4e-05 [kg]] Aldehydes [Elementary Flows]\n",
      "Output:     [0.0003 [kg]] BOD5, Biological Oxygen Demand [water, unspecified]\n",
      "Output:     [4.5e-09 [kg]] Metallic ions, unspecified [water, unspecified]\n",
      "Output:     [5.4e-05 [kg]] Suspended solids, unspecified [water, unspecified]\n",
      "Output:     [0.00016 [kg]] Methane  [air, unspecified]\n",
      "Output:     [9.7e-10 [kg]] Iron [water, unspecified]\n",
      "Output:     [0.0724 [kg]] Carbon dioxide, fossil  [air, unspecified]\n",
      "Output:     [5.1e-05 [kg]] Acetic acid [air, unspecified]\n",
      "Output:     [1.3e-06 [kg]] Ammonium ion [water, unspecified]\n",
      "Output:     [3e-05 [kg]] Dissolved solids [water, unspecified]\n",
      "Output:     [4e-05 [kg]] Methyl acetate [air, unspecified]\n",
      "Output:     [5.1e-07 [kg]] Phosphates [water, unspecified]\n",
      "Output:     [0.00076 [kg]] COD, Chemical Oxygen Demand [water, unspecified]\n",
      "Output:     [0.00011 [kg]] Ammonia [water, unspecified]\n",
      "Output:     [3.6e-09 [kg]] Phenol compounds, unspecified [water, unspecified]\n"
     ]
    }
   ],
   "source": [
    "F.elementary(frag.termination(None).term_node)"
   ]
  },
  {
   "cell_type": "code",
   "execution_count": 11,
   "metadata": {
    "collapsed": false
   },
   "outputs": [
    {
     "ename": "KeyError",
     "evalue": "None",
     "output_type": "error",
     "traceback": [
      "\u001b[1;31m---------------------------------------------------------------------------\u001b[0m",
      "\u001b[1;31mKeyError\u001b[0m                                  Traceback (most recent call last)",
      "\u001b[1;32m<ipython-input-11-608296a0e387>\u001b[0m in \u001b[0;36m<module>\u001b[1;34m()\u001b[0m\n\u001b[1;32m----> 1\u001b[1;33m \u001b[0mfrag\u001b[0m\u001b[1;33m.\u001b[0m\u001b[0mtraverse\u001b[0m\u001b[1;33m(\u001b[0m\u001b[1;32mlambda\u001b[0m \u001b[0mx\u001b[0m\u001b[1;33m:\u001b[0m \u001b[0mF\u001b[0m\u001b[1;33m.\u001b[0m\u001b[0mchild_flows\u001b[0m\u001b[1;33m(\u001b[0m\u001b[0mx\u001b[0m\u001b[1;33m)\u001b[0m\u001b[1;33m,\u001b[0m \u001b[1;36m1\u001b[0m\u001b[1;33m,\u001b[0m \u001b[1;32mNone\u001b[0m\u001b[1;33m)\u001b[0m\u001b[1;33m\u001b[0m\u001b[0m\n\u001b[0m",
      "\u001b[1;32m/data/GitHub/lca-tools/lcatools/foreground/fragment_flows.py\u001b[0m in \u001b[0;36mtraverse\u001b[1;34m(self, childflows, upstream_nw, scenario, observed, frags_seen, conserved_qty, _balance)\u001b[0m\n\u001b[0;32m    435\u001b[0m             \u001b[1;32mtry\u001b[0m\u001b[1;33m:\u001b[0m\u001b[1;33m\u001b[0m\u001b[0m\n\u001b[0;32m    436\u001b[0m                 child_ff, cons = f.traverse(childflows, node_weight, scenario, observed=observed,\n\u001b[1;32m--> 437\u001b[1;33m                                             frags_seen=frags_seen, conserved_qty=self._conserved_quantity)\n\u001b[0m\u001b[0;32m    438\u001b[0m                 \u001b[1;32mif\u001b[0m \u001b[0mcons\u001b[0m \u001b[1;32mis\u001b[0m \u001b[1;32mnot\u001b[0m \u001b[1;32mNone\u001b[0m\u001b[1;33m:\u001b[0m\u001b[1;33m\u001b[0m\u001b[0m\n\u001b[0;32m    439\u001b[0m                     \u001b[0mstock\u001b[0m \u001b[1;33m+=\u001b[0m \u001b[0mcons\u001b[0m\u001b[1;33m\u001b[0m\u001b[0m\n",
      "\u001b[1;32m/data/GitHub/lca-tools/lcatools/foreground/fragment_flows.py\u001b[0m in \u001b[0;36mtraverse\u001b[1;34m(self, childflows, upstream_nw, scenario, observed, frags_seen, conserved_qty, _balance)\u001b[0m\n\u001b[0;32m    411\u001b[0m                 \u001b[0mconserved_val\u001b[0m \u001b[1;33m*=\u001b[0m \u001b[1;33m-\u001b[0m\u001b[1;36m1\u001b[0m\u001b[1;33m\u001b[0m\u001b[0m\n\u001b[0;32m    412\u001b[0m \u001b[1;33m\u001b[0m\u001b[0m\n\u001b[1;32m--> 413\u001b[1;33m         \u001b[0mnode_weight\u001b[0m \u001b[1;33m=\u001b[0m \u001b[0mself\u001b[0m\u001b[1;33m.\u001b[0m\u001b[0mnode_weight\u001b[0m\u001b[1;33m(\u001b[0m\u001b[0mmagnitude\u001b[0m\u001b[1;33m,\u001b[0m \u001b[0mscenario\u001b[0m\u001b[1;33m)\u001b[0m\u001b[1;33m\u001b[0m\u001b[0m\n\u001b[0m\u001b[0;32m    414\u001b[0m         \u001b[0mff\u001b[0m \u001b[1;33m=\u001b[0m \u001b[1;33m[\u001b[0m\u001b[0mFragmentFlow\u001b[0m\u001b[1;33m(\u001b[0m\u001b[0mself\u001b[0m\u001b[1;33m,\u001b[0m \u001b[0mmagnitude\u001b[0m\u001b[1;33m,\u001b[0m \u001b[0mnode_weight\u001b[0m\u001b[1;33m,\u001b[0m \u001b[0mself\u001b[0m\u001b[1;33m.\u001b[0m\u001b[0mtermination\u001b[0m\u001b[1;33m(\u001b[0m\u001b[0mscenario\u001b[0m\u001b[1;33m)\u001b[0m\u001b[1;33m.\u001b[0m\u001b[0mterm_node\u001b[0m\u001b[1;33m,\u001b[0m \u001b[0mconserved\u001b[0m\u001b[1;33m)\u001b[0m\u001b[1;33m]\u001b[0m\u001b[1;33m\u001b[0m\u001b[0m\n\u001b[0;32m    415\u001b[0m         \u001b[1;32mif\u001b[0m \u001b[0mself\u001b[0m\u001b[1;33m.\u001b[0m\u001b[0m_background\u001b[0m\u001b[1;33m:\u001b[0m\u001b[1;33m\u001b[0m\u001b[0m\n",
      "\u001b[1;32m/data/GitHub/lca-tools/lcatools/foreground/fragment_flows.py\u001b[0m in \u001b[0;36mnode_weight\u001b[1;34m(self, magnitude, scenario)\u001b[0m\n\u001b[0;32m    375\u001b[0m \u001b[1;33m\u001b[0m\u001b[0m\n\u001b[0;32m    376\u001b[0m     \u001b[1;32mdef\u001b[0m \u001b[0mnode_weight\u001b[0m\u001b[1;33m(\u001b[0m\u001b[0mself\u001b[0m\u001b[1;33m,\u001b[0m \u001b[0mmagnitude\u001b[0m\u001b[1;33m,\u001b[0m \u001b[0mscenario\u001b[0m\u001b[1;33m)\u001b[0m\u001b[1;33m:\u001b[0m\u001b[1;33m\u001b[0m\u001b[0m\n\u001b[1;32m--> 377\u001b[1;33m         \u001b[0mterm\u001b[0m \u001b[1;33m=\u001b[0m \u001b[0mself\u001b[0m\u001b[1;33m.\u001b[0m\u001b[0mtermination\u001b[0m\u001b[1;33m(\u001b[0m\u001b[0mscenario\u001b[0m\u001b[1;33m)\u001b[0m\u001b[1;33m\u001b[0m\u001b[0m\n\u001b[0m\u001b[0;32m    378\u001b[0m         \u001b[1;32mreturn\u001b[0m \u001b[0mmagnitude\u001b[0m \u001b[1;33m*\u001b[0m \u001b[0mterm\u001b[0m\u001b[1;33m.\u001b[0m\u001b[0mnode_weight_multiplier\u001b[0m\u001b[1;33m\u001b[0m\u001b[0m\n\u001b[0;32m    379\u001b[0m \u001b[1;33m\u001b[0m\u001b[0m\n",
      "\u001b[1;32m/data/GitHub/lca-tools/lcatools/foreground/fragment_flows.py\u001b[0m in \u001b[0;36mtermination\u001b[1;34m(self, scenario)\u001b[0m\n\u001b[0;32m    372\u001b[0m         \u001b[1;32mif\u001b[0m \u001b[0mscenario\u001b[0m \u001b[1;32min\u001b[0m \u001b[0mself\u001b[0m\u001b[1;33m.\u001b[0m\u001b[0m_terminations\u001b[0m\u001b[1;33m.\u001b[0m\u001b[0mkeys\u001b[0m\u001b[1;33m(\u001b[0m\u001b[1;33m)\u001b[0m\u001b[1;33m:\u001b[0m\u001b[1;33m\u001b[0m\u001b[0m\n\u001b[0;32m    373\u001b[0m             \u001b[1;32mreturn\u001b[0m \u001b[0mself\u001b[0m\u001b[1;33m.\u001b[0m\u001b[0m_terminations\u001b[0m\u001b[1;33m[\u001b[0m\u001b[0mscenario\u001b[0m\u001b[1;33m]\u001b[0m\u001b[1;33m\u001b[0m\u001b[0m\n\u001b[1;32m--> 374\u001b[1;33m         \u001b[1;32mreturn\u001b[0m \u001b[0mself\u001b[0m\u001b[1;33m.\u001b[0m\u001b[0m_terminations\u001b[0m\u001b[1;33m[\u001b[0m\u001b[1;32mNone\u001b[0m\u001b[1;33m]\u001b[0m\u001b[1;33m\u001b[0m\u001b[0m\n\u001b[0m\u001b[0;32m    375\u001b[0m \u001b[1;33m\u001b[0m\u001b[0m\n\u001b[0;32m    376\u001b[0m     \u001b[1;32mdef\u001b[0m \u001b[0mnode_weight\u001b[0m\u001b[1;33m(\u001b[0m\u001b[0mself\u001b[0m\u001b[1;33m,\u001b[0m \u001b[0mmagnitude\u001b[0m\u001b[1;33m,\u001b[0m \u001b[0mscenario\u001b[0m\u001b[1;33m)\u001b[0m\u001b[1;33m:\u001b[0m\u001b[1;33m\u001b[0m\u001b[0m\n",
      "\u001b[1;31mKeyError\u001b[0m: None"
     ]
    }
   ],
   "source": [
    "frag.traverse(lambda x: F.child_flows(x), 1, None)"
   ]
  },
  {
   "cell_type": "code",
   "execution_count": 11,
   "metadata": {
    "collapsed": false
   },
   "outputs": [],
   "source": [
    "q = F[0].lcia_methods(Name='Non-Cancer.*mid')[0]"
   ]
  },
  {
   "cell_type": "code",
   "execution_count": 12,
   "metadata": {
    "collapsed": false
   },
   "outputs": [
    {
     "data": {
      "text/plain": [
       "<lcatools.entities.LcQuantity at 0x7f19433b3128>"
      ]
     },
     "execution_count": 12,
     "metadata": {},
     "output_type": "execute_result"
    }
   ],
   "source": [
    "q"
   ]
  },
  {
   "cell_type": "code",
   "execution_count": 7,
   "metadata": {
    "collapsed": false
   },
   "outputs": [],
   "source": [
    "term = F._catalog.terminate_fragment('USLCI', frag)[0]"
   ]
  },
  {
   "cell_type": "code",
   "execution_count": 13,
   "metadata": {
    "collapsed": false
   },
   "outputs": [
    {
     "name": "stdout",
     "output_type": "stream",
     "text": [
      "ILCD2011; Non-cancer human health effects; midpoint; CTUh; USEtox [LCIA] Item(s)\n",
      "------------------------------------------------------------\n",
      "   0.00011 x       ---- =          0 Ammonia [water, unspecified]\n",
      "   9.7e-10 x       ---- =          0 Aluminum [water, unspecified]\n",
      "   0.00076 x       ---- =          0 COD, Chemical Oxygen Demand [water, unspecified]\n",
      "     3e-05 x       ---- =          0 Dissolved solids [water, unspecified]\n",
      "   5.1e-05 x       ---- =          0 Acetic acid [air, unspecified]\n",
      "   0.00568 x       ---- =          0 Carbon monoxide [air, unspecified]\n",
      "   0.00028 x       ---- =          0 NMVOC, non-methane volatile organic compounds, unspecified  [Elementary Flows]\n",
      "     4e-05 x       ---- =          0 Methyl acetate [air, unspecified]\n",
      "   3.6e-09 x       ---- =          0 Phenol compounds, unspecified [water, unspecified]\n",
      "   5.2e-05 x       ---- =          0 Nitrogen oxides  [air, unspecified]\n",
      "   9.7e-10 x       ---- =          0 Iron [water, unspecified]\n",
      "   0.00016 x       ---- =          0 Methane  [air, unspecified]\n",
      "    0.0003 x       ---- =          0 BOD5, Biological Oxygen Demand [water, unspecified]\n",
      "   0.00015 x       ---- =          0 Particulates, unspecified [air, unspecified]\n",
      "   5.4e-05 x       ---- =          0 Suspended solids, unspecified [water, unspecified]\n",
      "   4.5e-09 x       ---- =          0 Metallic ions, unspecified [water, unspecified]\n",
      "   1.3e-06 x       ---- =          0 Ammonium ion [water, unspecified]\n",
      "   0.00094 x       ---- =          0 Organic substances, unspecified [air, unspecified]\n",
      "    0.0724 x       ---- =          0 Carbon dioxide, fossil  [air, unspecified]\n",
      "   5.1e-07 x       ---- =          0 Phosphates [water, unspecified]\n",
      "   4.4e-05 x       ---- =          0 TOC, Total Organic Carbon [water, unspecified]\n",
      "   9.7e-10 x   0.000364 =   3.53e-13 Antimony [water, unspecified]\n",
      "   4.1e-05 x    1.1e-07 =   4.51e-12 Xylene [air, unspecified]\n",
      "   5.5e-06 x    0.00128 =   7.04e-09 Zinc [water, unspecified]\n",
      "============================================================\n",
      "             Total score: 7.04486e-09 \n"
     ]
    }
   ],
   "source": [
    "F.show_detailed_lcia(frag.termination(None).term_node, q, show_all=True)"
   ]
  },
  {
   "cell_type": "code",
   "execution_count": 13,
   "metadata": {
    "collapsed": false
   },
   "outputs": [
    {
     "data": {
      "text/plain": [
       "{133}"
      ]
     },
     "execution_count": 13,
     "metadata": {},
     "output_type": "execute_result"
    }
   ],
   "source": [
    "F.find_flowable('^Methyl acetate$')"
   ]
  },
  {
   "cell_type": "code",
   "execution_count": 14,
   "metadata": {
    "collapsed": false
   },
   "outputs": [
    {
     "data": {
      "text/plain": [
       "['2.11e+04 [GLO] [m3*a] ILCD2011; Ecotoxicity freshwater; midpoint; CTUe; USEtox [LCIA]',\n",
       " '3.86e+04 [GLO] [m3*a] ILCD2011; Ecotoxicity freshwater; midpoint; CTUe; USEtox [LCIA]',\n",
       " '2.11e+04 [GLO] [m3*a] ILCD2011; Ecotoxicity freshwater; midpoint; CTUe; USEtox [LCIA]',\n",
       " '1.68e+04 [GLO] [m3*a] ILCD2011; Ecotoxicity freshwater; midpoint; CTUe; USEtox [LCIA]',\n",
       " '3.27e-15 [GLO] [m3*a] ILCD2011; Ecotoxicity freshwater; midpoint; CTUe; USEtox [LCIA]',\n",
       " '1.67e+04 [GLO] [m3*a] ILCD2011; Ecotoxicity freshwater; midpoint; CTUe; USEtox [LCIA]',\n",
       " '2.11e+04 [GLO] [m3*a] ILCD2011; Ecotoxicity freshwater; midpoint; CTUe; USEtox [LCIA]',\n",
       " '3.86e+04 [GLO] [m3*a] ILCD2011; Ecotoxicity freshwater; midpoint; CTUe; USEtox [LCIA]',\n",
       " '1.68e+04 [GLO] [m3*a] ILCD2011; Ecotoxicity freshwater; midpoint; CTUe; USEtox [LCIA]',\n",
       " '1.69e+04 [GLO] [m3*a] ILCD2011; Ecotoxicity freshwater; midpoint; CTUe; USEtox [LCIA]',\n",
       " '1.69e+04 [GLO] [m3*a] ILCD2011; Ecotoxicity freshwater; midpoint; CTUe; USEtox [LCIA]',\n",
       " '3.86e+04 [GLO] [m3*a] ILCD2011; Ecotoxicity freshwater; midpoint; CTUe; USEtox [LCIA]',\n",
       " '0.161 [GLO] [EUR] ILCD2011; Resource depletion - mineral, fossils and renewables; endpoint; surplus cost; ReCiPe [LCIA]',\n",
       " '0.00365 [GLO] [kg] ILCD2011; Resource depletion- mineral, fossils and renewables; midpoint;abiotic resource depletion; Van Oers et al. 2002 [LCIA]',\n",
       " '1 [GLO] [kg] Mass',\n",
       " '1 [GLO] [kg] Mass',\n",
       " '1 [GLO] [kg] Mass',\n",
       " '1 [GLO] [kg] Mass',\n",
       " '1 [GLO] [kg] Mass',\n",
       " '1 [GLO] [kg] Mass',\n",
       " '1 [GLO] [kg] Mass',\n",
       " '1 [GLO] [kg] Mass',\n",
       " '1 [GLO] [kg] Mass',\n",
       " '1 [GLO] [kg] Mass',\n",
       " '1 [GLO] [kg] Mass',\n",
       " '1 [GLO] [kg] Mass',\n",
       " '1 [GLO] [kg] Mass',\n",
       " '0.000702 [GLO] [Item(s)] ILCD2011; Non-cancer human health effects; midpoint; CTUh; USEtox [LCIA]',\n",
       " '0.00128 [GLO] [Item(s)] ILCD2011; Non-cancer human health effects; midpoint; CTUh; USEtox [LCIA]',\n",
       " '0.0435 [GLO] [Item(s)] ILCD2011; Non-cancer human health effects; midpoint; CTUh; USEtox [LCIA]',\n",
       " '0.0156 [GLO] [Item(s)] ILCD2011; Non-cancer human health effects; midpoint; CTUh; USEtox [LCIA]',\n",
       " '0.000302 [GLO] [Item(s)] ILCD2011; Non-cancer human health effects; midpoint; CTUh; USEtox [LCIA]',\n",
       " '0.0152 [GLO] [Item(s)] ILCD2011; Non-cancer human health effects; midpoint; CTUh; USEtox [LCIA]',\n",
       " '0.000702 [GLO] [Item(s)] ILCD2011; Non-cancer human health effects; midpoint; CTUh; USEtox [LCIA]',\n",
       " '0.00128 [GLO] [Item(s)] ILCD2011; Non-cancer human health effects; midpoint; CTUh; USEtox [LCIA]',\n",
       " '0.0156 [GLO] [Item(s)] ILCD2011; Non-cancer human health effects; midpoint; CTUh; USEtox [LCIA]',\n",
       " '0.016 [GLO] [Item(s)] ILCD2011; Non-cancer human health effects; midpoint; CTUh; USEtox [LCIA]',\n",
       " '0.016 [GLO] [Item(s)] ILCD2011; Non-cancer human health effects; midpoint; CTUh; USEtox [LCIA]',\n",
       " '0.00128 [GLO] [Item(s)] ILCD2011; Non-cancer human health effects; midpoint; CTUh; USEtox [LCIA]',\n",
       " '0.0019 [GLO] [a] ILCD2011; Non-cancer human health effects; endpoint; DALY; USEtox [LCIA]',\n",
       " '0.00346 [GLO] [a] ILCD2011; Non-cancer human health effects; endpoint; DALY; USEtox [LCIA]',\n",
       " '0.118 [GLO] [a] ILCD2011; Non-cancer human health effects; endpoint; DALY; USEtox [LCIA]',\n",
       " '0.0421 [GLO] [a] ILCD2011; Non-cancer human health effects; endpoint; DALY; USEtox [LCIA]',\n",
       " '0.000816 [GLO] [a] ILCD2011; Non-cancer human health effects; endpoint; DALY; USEtox [LCIA]',\n",
       " '0.0411 [GLO] [a] ILCD2011; Non-cancer human health effects; endpoint; DALY; USEtox [LCIA]',\n",
       " '0.0019 [GLO] [a] ILCD2011; Non-cancer human health effects; endpoint; DALY; USEtox [LCIA]',\n",
       " '0.00346 [GLO] [a] ILCD2011; Non-cancer human health effects; endpoint; DALY; USEtox [LCIA]',\n",
       " '0.0421 [GLO] [a] ILCD2011; Non-cancer human health effects; endpoint; DALY; USEtox [LCIA]',\n",
       " '0.0431 [GLO] [a] ILCD2011; Non-cancer human health effects; endpoint; DALY; USEtox [LCIA]',\n",
       " '0.0431 [GLO] [a] ILCD2011; Non-cancer human health effects; endpoint; DALY; USEtox [LCIA]',\n",
       " '0.00346 [GLO] [a] ILCD2011; Non-cancer human health effects; endpoint; DALY; USEtox [LCIA]']"
      ]
     },
     "execution_count": 14,
     "metadata": {},
     "output_type": "execute_result"
    }
   ],
   "source": [
    "[str(f.characterization) for f in F._flowdb.all_cfs(F._flowdb.flowables.search('^zinc$').pop())]"
   ]
  },
  {
   "cell_type": "code",
   "execution_count": 8,
   "metadata": {
    "collapsed": false
   },
   "outputs": [
    {
     "name": "stdout",
     "output_type": "stream",
     "text": [
      "Water [007732-18-5]\n",
      "Characterization Factors\n",
      " \n",
      "Locations  |   C0   |   C1   |   C2    Compartment\n",
      "--------------------------------------------------\n",
      "      GLO         1   --       --      []\n",
      "      GLO         1   --       --      ['Resources', 'Resources from water', 'Renewable material resources from water']\n",
      "      GLO         1   --       --      ['Resources', 'Resources from water', 'Renewable material resources from water']\n",
      "      GLO    --            1   --      ['Resources', 'Resources from water', 'Renewable material resources from water']\n"
     ]
    },
    {
     "ename": "TypeError",
     "evalue": "float() argument must be a string or a number, not 'dict'",
     "output_type": "error",
     "traceback": [
      "\u001b[1;31m---------------------------------------------------------------------------\u001b[0m",
      "\u001b[1;31mTypeError\u001b[0m                                 Traceback (most recent call last)",
      "\u001b[1;32m<ipython-input-8-929468df1935>\u001b[0m in \u001b[0;36m<module>\u001b[1;34m()\u001b[0m\n\u001b[1;32m----> 1\u001b[1;33m \u001b[0mF\u001b[0m\u001b[1;33m.\u001b[0m\u001b[0mcfs_for_flowable_grid\u001b[0m\u001b[1;33m(\u001b[0m\u001b[1;34m'^water$'\u001b[0m\u001b[1;33m)\u001b[0m\u001b[1;33m\u001b[0m\u001b[0m\n\u001b[0m",
      "\u001b[1;32m/data/GitHub/lca-tools/lcatools/foreground/manager.py\u001b[0m in \u001b[0;36mcfs_for_flowable_grid\u001b[1;34m(self, string, **kwargs)\u001b[0m\n\u001b[0;32m    155\u001b[0m         \u001b[1;32melif\u001b[0m \u001b[0mlen\u001b[0m\u001b[1;33m(\u001b[0m\u001b[0mflowables\u001b[0m\u001b[1;33m)\u001b[0m \u001b[1;33m==\u001b[0m \u001b[1;36m1\u001b[0m\u001b[1;33m:\u001b[0m\u001b[1;33m\u001b[0m\u001b[0m\n\u001b[0;32m    156\u001b[0m             \u001b[0mf\u001b[0m \u001b[1;33m=\u001b[0m \u001b[0mflowables\u001b[0m\u001b[1;33m.\u001b[0m\u001b[0mpop\u001b[0m\u001b[1;33m(\u001b[0m\u001b[1;33m)\u001b[0m\u001b[1;33m\u001b[0m\u001b[0m\n\u001b[1;32m--> 157\u001b[1;33m             \u001b[0mself\u001b[0m\u001b[1;33m.\u001b[0m\u001b[0m_flowdb\u001b[0m\u001b[1;33m.\u001b[0m\u001b[0mcfs_for_flowable\u001b[0m\u001b[1;33m(\u001b[0m\u001b[0mf\u001b[0m\u001b[1;33m,\u001b[0m \u001b[1;33m**\u001b[0m\u001b[0mkwargs\u001b[0m\u001b[1;33m)\u001b[0m\u001b[1;33m\u001b[0m\u001b[0m\n\u001b[0m\u001b[0;32m    158\u001b[0m \u001b[1;33m\u001b[0m\u001b[0m\n\u001b[0;32m    159\u001b[0m     \u001b[1;31m# inspection methods\u001b[0m\u001b[1;33m\u001b[0m\u001b[1;33m\u001b[0m\u001b[0m\n",
      "\u001b[1;32m/data/GitHub/lca-tools/lcatools/flowdb/flowdb.py\u001b[0m in \u001b[0;36mcfs_for_flowable\u001b[1;34m(self, flowable, **kwargs)\u001b[0m\n\u001b[0;32m    241\u001b[0m         dynamic_grid(cols, rows, lambda x, y: x if y == x.quantity else None,\n\u001b[0;32m    242\u001b[0m                      \u001b[1;33m(\u001b[0m\u001b[1;34m'Locations'\u001b[0m\u001b[1;33m,\u001b[0m \u001b[1;32mlambda\u001b[0m \u001b[0mx\u001b[0m\u001b[1;33m:\u001b[0m \u001b[0mx\u001b[0m\u001b[1;33m.\u001b[0m\u001b[0mlist_locations\u001b[0m\u001b[1;33m(\u001b[0m\u001b[1;33m)\u001b[0m\u001b[1;33m)\u001b[0m\u001b[1;33m,\u001b[0m\u001b[1;33m\u001b[0m\u001b[0m\n\u001b[1;32m--> 243\u001b[1;33m                      ('Compartment', lambda x: x.flow['Compartment']))\n\u001b[0m\u001b[0;32m    244\u001b[0m \u001b[1;33m\u001b[0m\u001b[0m\n\u001b[0;32m    245\u001b[0m     \u001b[1;32mdef\u001b[0m \u001b[0mall_cfs\u001b[0m\u001b[1;33m(\u001b[0m\u001b[0mself\u001b[0m\u001b[1;33m,\u001b[0m \u001b[0mflowable\u001b[0m\u001b[1;33m,\u001b[0m \u001b[0mcategory\u001b[0m\u001b[1;33m=\u001b[0m\u001b[1;32mNone\u001b[0m\u001b[1;33m)\u001b[0m\u001b[1;33m:\u001b[0m\u001b[1;33m\u001b[0m\u001b[0m\n",
      "\u001b[1;32m/data/GitHub/lca-tools/lcatools/foreground/dynamic_grid.py\u001b[0m in \u001b[0;36mdynamic_grid\u001b[1;34m(comparands, comparators, func, near_label, far_label, returns_sets, width)\u001b[0m\n\u001b[0;32m     68\u001b[0m         \u001b[1;32mfor\u001b[0m \u001b[0mcol\u001b[0m \u001b[1;32min\u001b[0m \u001b[0mrange\u001b[0m\u001b[1;33m(\u001b[0m\u001b[0mn\u001b[0m\u001b[1;33m)\u001b[0m\u001b[1;33m:\u001b[0m\u001b[1;33m\u001b[0m\u001b[0m\n\u001b[0;32m     69\u001b[0m             \u001b[1;32mif\u001b[0m \u001b[0mlen\u001b[0m\u001b[1;33m(\u001b[0m\u001b[0mdata_sets\u001b[0m\u001b[1;33m[\u001b[0m\u001b[0mcol\u001b[0m\u001b[1;33m]\u001b[0m\u001b[1;33m)\u001b[0m \u001b[1;33m>\u001b[0m \u001b[1;36m0\u001b[0m\u001b[1;33m:\u001b[0m\u001b[1;33m\u001b[0m\u001b[0m\n\u001b[1;32m---> 70\u001b[1;33m                 \u001b[0mf_str\u001b[0m \u001b[1;33m+=\u001b[0m \u001b[0m_result_to_str\u001b[0m\u001b[1;33m(\u001b[0m\u001b[0mdata_sets\u001b[0m\u001b[1;33m[\u001b[0m\u001b[0mcol\u001b[0m\u001b[1;33m]\u001b[0m\u001b[1;33m.\u001b[0m\u001b[0mpop\u001b[0m\u001b[1;33m(\u001b[0m\u001b[1;33m)\u001b[0m\u001b[1;33m,\u001b[0m \u001b[0mwidth\u001b[0m\u001b[1;33m=\u001b[0m\u001b[0mwidth\u001b[0m\u001b[1;33m)\u001b[0m\u001b[1;33m\u001b[0m\u001b[0m\n\u001b[0m\u001b[0;32m     71\u001b[0m             \u001b[1;32melse\u001b[0m\u001b[1;33m:\u001b[0m\u001b[1;33m\u001b[0m\u001b[0m\n\u001b[0;32m     72\u001b[0m                 \u001b[0mf_str\u001b[0m \u001b[1;33m+=\u001b[0m \u001b[0m_result_to_str\u001b[0m\u001b[1;33m(\u001b[0m\u001b[1;32mNone\u001b[0m\u001b[1;33m,\u001b[0m \u001b[0mwidth\u001b[0m\u001b[1;33m=\u001b[0m\u001b[0mwidth\u001b[0m\u001b[1;33m)\u001b[0m\u001b[1;33m\u001b[0m\u001b[0m\n",
      "\u001b[1;32m/data/GitHub/lca-tools/lcatools/foreground/dynamic_grid.py\u001b[0m in \u001b[0;36m_result_to_str\u001b[1;34m(result, width)\u001b[0m\n\u001b[0;32m     19\u001b[0m     \u001b[1;32melse\u001b[0m\u001b[1;33m:\u001b[0m\u001b[1;33m\u001b[0m\u001b[0m\n\u001b[0;32m     20\u001b[0m         \u001b[1;32mreturn\u001b[0m \u001b[1;34m'%s '\u001b[0m \u001b[1;33m%\u001b[0m \u001b[1;33m(\u001b[0m\u001b[1;34m'!'\u001b[0m \u001b[1;33m*\u001b[0m \u001b[0mwidth\u001b[0m\u001b[1;33m)\u001b[0m\u001b[1;33m\u001b[0m\u001b[0m\n\u001b[1;32m---> 21\u001b[1;33m     \u001b[1;32mreturn\u001b[0m \u001b[1;34m'%*.3g '\u001b[0m \u001b[1;33m%\u001b[0m \u001b[1;33m(\u001b[0m\u001b[0mwidth\u001b[0m\u001b[1;33m,\u001b[0m \u001b[0mfloat\u001b[0m\u001b[1;33m(\u001b[0m\u001b[0mres\u001b[0m\u001b[1;33m)\u001b[0m\u001b[1;33m)\u001b[0m\u001b[1;33m\u001b[0m\u001b[0m\n\u001b[0m\u001b[0;32m     22\u001b[0m \u001b[1;33m\u001b[0m\u001b[0m\n\u001b[0;32m     23\u001b[0m \u001b[1;33m\u001b[0m\u001b[0m\n",
      "\u001b[1;31mTypeError\u001b[0m: float() argument must be a string or a number, not 'dict'"
     ]
    }
   ],
   "source": [
    "F.cfs_for_flowable_grid('^water$')"
   ]
  },
  {
   "cell_type": "code",
   "execution_count": 8,
   "metadata": {
    "collapsed": false
   },
   "outputs": [
    {
     "data": {
      "text/plain": [
       "ExchangeRef(catalog=<lcatools.catalog.CatalogInterface object at 0x7f40950604e0>, index='USLCI', exchange=<lcatools.exchanges.ExchangeValue object at 0x7f40928dad68>)"
      ]
     },
     "execution_count": 8,
     "metadata": {},
     "output_type": "execute_result"
    }
   ],
   "source": [
    "term"
   ]
  },
  {
   "cell_type": "code",
   "execution_count": 9,
   "metadata": {
    "collapsed": false
   },
   "outputs": [],
   "source": [
    "frag.term_from_exch(term)"
   ]
  },
  {
   "cell_type": "code",
   "execution_count": 12,
   "metadata": {
    "collapsed": false
   },
   "outputs": [
    {
     "data": {
      "text/plain": [
       "{'Comment': '',\n",
       " 'Direction': 'Input',\n",
       " 'Flow': 'Polyethylene terephthalate, resin, at plant',\n",
       " 'Name': 'USLCI - PET',\n",
       " 'StageName': '',\n",
       " 'direction': 'Input',\n",
       " 'entityId': '572813aa-b8a3-4034-bff1-ff7e469d8726',\n",
       " 'entityType': 'fragment',\n",
       " 'exchangeValues': {0: None, 1: 1.0},\n",
       " 'externalId': '572813aa-b8a3-4034-bff1-ff7e469d8726',\n",
       " 'flow': '2a6b644c-519c-32e9-a7d8-521c3011df09',\n",
       " 'isBackground': False,\n",
       " 'isBalanceFlow': False,\n",
       " 'isPrivate': False,\n",
       " 'origin': 'fragments',\n",
       " 'parent': 'None',\n",
       " 'tags': {'Comment': '',\n",
       "  'Direction': 'Input',\n",
       "  'Flow': 'Polyethylene terephthalate, resin, at plant',\n",
       "  'Name': 'USLCI - PET',\n",
       "  'StageName': ''},\n",
       " 'terminations': {None: {'entityId': '42550686-82c9-3e19-b47d-fadc0037f6a8',\n",
       "   'source': '/data/GitHub/lca-tools-datafiles/catalogs/uslci_ecospold.json.gz'}}}"
      ]
     },
     "execution_count": 12,
     "metadata": {},
     "output_type": "execute_result"
    }
   ],
   "source": [
    "frag.serialize()"
   ]
  },
  {
   "cell_type": "code",
   "execution_count": 5,
   "metadata": {
    "collapsed": false
   },
   "outputs": [
    {
     "name": "stdout",
     "output_type": "stream",
     "text": [
      "Loading JSON data from /data/GitHub/lca-tools-datafiles/catalogs/elcd_lcia.json.gz:\n",
      "Found Extension: zip\n",
      "54 new quantity entities added (54 total)\n",
      "1256 new flow entities added (1256 total)\n",
      "0 new process entities added (0 total)\n"
     ]
    }
   ],
   "source": [
    "F.load(2)"
   ]
  },
  {
   "cell_type": "code",
   "execution_count": 17,
   "metadata": {
    "collapsed": false
   },
   "outputs": [
    {
     "data": {
      "text/plain": [
       "[]"
      ]
     },
     "execution_count": 17,
     "metadata": {},
     "output_type": "execute_result"
    }
   ],
   "source": [
    "F._flowdb.import_cfs(2)"
   ]
  },
  {
   "cell_type": "code",
   "execution_count": 18,
   "metadata": {
    "collapsed": false
   },
   "outputs": [],
   "source": [
    "F.unmatched_flows[2] = F._flowdb.import_cfs(2)"
   ]
  },
  {
   "cell_type": "code",
   "execution_count": 7,
   "metadata": {
    "collapsed": false
   },
   "outputs": [
    {
     "name": "stdout",
     "output_type": "stream",
     "text": [
      "Add to foreground: (LCIA) {q} ILCD2011; Non-cancer human health effects; endpoint; DALY; USEtox [LCIA]\n",
      "Add to foreground: (LCIA) {q} ILCD2011; Cancer human health effects; endpoint; DALY; USEtox [LCIA]\n",
      "Add to foreground: (LCIA) {q} ILCD2011; Ecotoxicity freshwater; midpoint; CTUe; USEtox [LCIA]\n",
      "Add to foreground: (LCIA) {q} ILCD2011; Non-cancer human health effects; midpoint; CTUh; USEtox [LCIA]\n",
      "Add to foreground: (LCIA) {q} ILCD2011; Cancer human health effects; midpoint; CTUh; USEtox [LCIA]\n"
     ]
    }
   ],
   "source": [
    "for f in F.selected:\n",
    "    F.add_to_foreground(f)\n"
   ]
  },
  {
   "cell_type": "code",
   "execution_count": 91,
   "metadata": {
    "collapsed": false
   },
   "outputs": [
    {
     "ename": "IndexError",
     "evalue": "pop from empty list",
     "output_type": "error",
     "traceback": [
      "\u001b[1;31m---------------------------------------------------------------------------\u001b[0m",
      "\u001b[1;31mIndexError\u001b[0m                                Traceback (most recent call last)",
      "\u001b[1;32m<ipython-input-91-87835752ddc8>\u001b[0m in \u001b[0;36m<module>\u001b[1;34m()\u001b[0m\n\u001b[1;32m----> 1\u001b[1;33m \u001b[0mF\u001b[0m\u001b[1;33m.\u001b[0m\u001b[0madd_selection\u001b[0m\u001b[1;33m(\u001b[0m\u001b[1;33m)\u001b[0m\u001b[1;33m\u001b[0m\u001b[0m\n\u001b[0m",
      "\u001b[1;32m/data/GitHub/lca-tools/lcatools/foreground/interface.py\u001b[0m in \u001b[0;36madd_selection\u001b[1;34m(self)\u001b[0m\n\u001b[0;32m    240\u001b[0m \u001b[1;33m\u001b[0m\u001b[0m\n\u001b[0;32m    241\u001b[0m     \u001b[1;32mdef\u001b[0m \u001b[0madd_selection\u001b[0m\u001b[1;33m(\u001b[0m\u001b[0mself\u001b[0m\u001b[1;33m)\u001b[0m\u001b[1;33m:\u001b[0m\u001b[1;33m\u001b[0m\u001b[0m\n\u001b[1;32m--> 242\u001b[1;33m         \u001b[0mself\u001b[0m\u001b[1;33m.\u001b[0m\u001b[0m_menu_position\u001b[0m\u001b[1;33m.\u001b[0m\u001b[0mpop\u001b[0m\u001b[1;33m(\u001b[0m\u001b[1;33m)\u001b[0m\u001b[1;33m\u001b[0m\u001b[0m\n\u001b[0m\u001b[0;32m    243\u001b[0m \u001b[1;33m\u001b[0m\u001b[0m\n\u001b[0;32m    244\u001b[0m         \u001b[1;32mif\u001b[0m \u001b[1;32mnot\u001b[0m \u001b[0mself\u001b[0m\u001b[1;33m.\u001b[0m\u001b[0m_catalog\u001b[0m\u001b[1;33m.\u001b[0m\u001b[0mis_loaded\u001b[0m\u001b[1;33m(\u001b[0m\u001b[1;36m0\u001b[0m\u001b[1;33m)\u001b[0m\u001b[1;33m:\u001b[0m\u001b[1;33m\u001b[0m\u001b[0m\n",
      "\u001b[1;31mIndexError\u001b[0m: pop from empty list"
     ]
    }
   ],
   "source": [
    "F.add_selection()"
   ]
  },
  {
   "cell_type": "code",
   "execution_count": 23,
   "metadata": {
    "collapsed": false
   },
   "outputs": [
    {
     "ename": "NameError",
     "evalue": "name 'q' is not defined",
     "output_type": "error",
     "traceback": [
      "\u001b[1;31m---------------------------------------------------------------------------\u001b[0m",
      "\u001b[1;31mNameError\u001b[0m                                 Traceback (most recent call last)",
      "\u001b[1;32m<ipython-input-23-f05cdcc934ee>\u001b[0m in \u001b[0;36m<module>\u001b[1;34m()\u001b[0m\n\u001b[1;32m----> 1\u001b[1;33m \u001b[1;33m[\u001b[0m\u001b[0mstr\u001b[0m\u001b[1;33m(\u001b[0m\u001b[0mf\u001b[0m\u001b[1;33m)\u001b[0m \u001b[1;32mfor\u001b[0m \u001b[0mf\u001b[0m \u001b[1;32min\u001b[0m \u001b[0mF\u001b[0m\u001b[1;33m[\u001b[0m\u001b[1;36m2\u001b[0m\u001b[1;33m]\u001b[0m\u001b[1;33m.\u001b[0m\u001b[0mflows\u001b[0m\u001b[1;33m(\u001b[0m\u001b[1;33m)\u001b[0m \u001b[1;32mif\u001b[0m \u001b[0mq\u001b[0m \u001b[1;32min\u001b[0m \u001b[0mf\u001b[0m\u001b[1;33m.\u001b[0m\u001b[0m_characterizations\u001b[0m\u001b[1;33m.\u001b[0m\u001b[0mkeys\u001b[0m\u001b[1;33m(\u001b[0m\u001b[1;33m)\u001b[0m\u001b[1;33m]\u001b[0m\u001b[1;33m\u001b[0m\u001b[0m\n\u001b[0m",
      "\u001b[1;32m<ipython-input-23-f05cdcc934ee>\u001b[0m in \u001b[0;36m<listcomp>\u001b[1;34m(.0)\u001b[0m\n\u001b[1;32m----> 1\u001b[1;33m \u001b[1;33m[\u001b[0m\u001b[0mstr\u001b[0m\u001b[1;33m(\u001b[0m\u001b[0mf\u001b[0m\u001b[1;33m)\u001b[0m \u001b[1;32mfor\u001b[0m \u001b[0mf\u001b[0m \u001b[1;32min\u001b[0m \u001b[0mF\u001b[0m\u001b[1;33m[\u001b[0m\u001b[1;36m2\u001b[0m\u001b[1;33m]\u001b[0m\u001b[1;33m.\u001b[0m\u001b[0mflows\u001b[0m\u001b[1;33m(\u001b[0m\u001b[1;33m)\u001b[0m \u001b[1;32mif\u001b[0m \u001b[0mq\u001b[0m \u001b[1;32min\u001b[0m \u001b[0mf\u001b[0m\u001b[1;33m.\u001b[0m\u001b[0m_characterizations\u001b[0m\u001b[1;33m.\u001b[0m\u001b[0mkeys\u001b[0m\u001b[1;33m(\u001b[0m\u001b[1;33m)\u001b[0m\u001b[1;33m]\u001b[0m\u001b[1;33m\u001b[0m\u001b[0m\n\u001b[0m",
      "\u001b[1;31mNameError\u001b[0m: name 'q' is not defined"
     ]
    }
   ],
   "source": [
    "[str(f) for f in F[2].flows() if q in f._characterizations.keys()]"
   ]
  },
  {
   "cell_type": "code",
   "execution_count": 25,
   "metadata": {
    "collapsed": false
   },
   "outputs": [
    {
     "name": "stdout",
     "output_type": "stream",
     "text": [
      "ILCD2011; Non-cancer human health effects; endpoint; DALY; USEtox [LCIA]\n",
      "Characterization Factors\n",
      " \n",
      "CAS Number   |   C0   |   C1   |   C2   |   C3   |   C4   |   C5   |   C6   |   C7   |   C8   |   C9   |   C10  |   C11  |   C12   Flowable\n",
      "-------------------------------------------------------------------------------------------------------------------------------------------\n",
      "       None    --       --       --       --       --       --      2.3e-06   --       --       --       --       --       --      (2,4-dichlorophenoxy)acetic acid\n",
      "       None    --       --       --       --     6.25e-06   --       --       --       --       --       --       --       --      (2,4-dichlorophenoxy)acetic acid\n",
      "000079-00-5    --       --       --       --       --       --       --       --       --     7.97e-06   --       --       --      1,1,2-trichloroethane\n",
      "000106-93-4    --     3.43e-07   --       --       --       --       --       --       --       --     2.85e-07   --       --      1,2-dibromoethane\n",
      "       None    --     1.07e-07   --       --       --       --       --       --       --       --       --       --       --      1,2-dichlorobenzene\n",
      "       None    --       --       --       --       --     1.55e-07   --       --       --       --       --       --       --      1,2-dichlorobenzene\n",
      "       None    --       --       --       --       --       --       --       --       --       --     1.94e-07   --       --      1,2-dichlorobenzene\n",
      "       None    --       --       --       --       --       --       --       --       --     1.94e-07   --       --       --      1,2-dichlorobenzene\n",
      "000078-87-5    --       --       --       --       --       --       --       --       --       --     6.28e-05   --       --      1,2-dichloropropane\n",
      "000094-75-7    --       --       --       --     6.25e-06   --      2.3e-06    6e-06   --       --       --       --       --      2,4-D\n",
      "000105-67-9    --       --       --       --       --       --       --       --       --       --     9.87e-07   --       --      2,4-dimethylphenol\n",
      "000121-14-2    --     3.18e-05   --       --       --       --       --       --       --       --       --       --       --      2,4-dinitrotoluene\n",
      "       None    --     3.18e-05   --       --       --       --       --       --       --       --       --       --       --      2,4-dinitrotoluene\n",
      "000078-83-1    --     3.22e-08   --       --       --     5.78e-08   --       --       --       --      5.5e-08   --       --      2-Methyl-1-propanol\n",
      "000532-27-4    --      0.00193   --       --       --       --       --       --       --       --       --       --       --      2-chloro-1-phenylethanone\n",
      "000108-10-1    --       --       --       --       --       --       --       --       --      5.2e-09  5.2e-09   --       --      4-Methyl-2-pentanone\n",
      "002764-72-9    --       --       --       --       --       --       --     4.42e-07   --       --       --       --       --      6,7-dihydrodipyrido[1,2-a:2',1'-c]pyrazinediylium\n",
      "000083-32-9    --     7.56e-08   --       --     5.64e-09 1.46e-07   --       --       --     6.98e-07 6.98e-07   --     7.77e-08  Acenaphthene\n",
      "030560-19-1    --       --       --       --     0.000993   --       --     0.000947   --       --       --       --       --      Acephate\n",
      "000075-07-0    --     1.32e-06   --       --     1.27e-07 2.51e-06   --       --       --     1.22e-06 1.22e-06   --       --      Acetaldehyde\n",
      "000067-64-1    --     1.69e-08   --       --     7.64e-09 2.61e-08   --       --       --     1.58e-08 1.58e-08   --       --      Acetone\n",
      "000075-05-8    --     1.71e-07   --       --        8e-08   --       --       --       --       --     1.54e-07   --       --      Acetonitrile\n",
      "000107-02-8    --      0.00198   --       --      0.00015   0.0038   --       --       --       --       --       --       --      Acrolein\n",
      "000079-10-7    --     0.000138   --       --       --     0.000262   --       --       --     3.97e-07   --       --       --      Acrylic acid\n",
      "000116-06-3    --       --       --       --       --       --       --      0.00012   --       --       --       --       --      Aldicarb\n",
      "000309-00-2    --       --       --       --       --       --     8.67e-05 0.000238   --       --       --       --       --      Aldrin\n",
      "000107-05-1    --       --       --       --       --       --       --       --       --     2.28e-06   --       --       --      Allyl chloride\n",
      "000062-53-3    --     2.41e-06   --       --       --     4.71e-06   --       --       --       --     9.21e-06   --       --      Aniline\n",
      "007440-36-0    --      0.00046  0.00046   --     0.000417 0.000504 0.000495 0.000566 0.000495 0.000983 0.000983 0.000983   --      Antimony\n",
      "007440-38-2    --       0.0454   0.0454   --       0.0446   0.0461    0.039   0.0784    0.039   0.0738   0.0738   0.0738  0.00605  Arsenic\n",
      "007784-42-1    --       0.0454   0.0454   --       0.0446   0.0461    0.039   0.0784    0.039   0.0738   0.0738   0.0738  0.00605  Arsine\n",
      "003337-71-1    --       --       --       --       --       --       --     6.79e-07   --       --       --       --       --      Asulam\n",
      "001912-24-9    --     3.77e-06   --       --     2.83e-06   --     1.52e-06 3.22e-06   --       --     1.17e-05   --       --      Atrazine\n",
      "007440-39-3    --     0.000113 0.000113   --     0.000104 0.000122 0.000133 0.000133 0.000133 0.000265 0.000265 0.000265 8.17e-06  Barium\n",
      "017804-35-2    --     8.74e-08   --       --       --       --      5.8e-09 1.53e-08   --       --     3.89e-07   --       --      Benomyl\n",
      "025057-89-0    --       --       --       --     4.71e-07   --     8.28e-07 1.67e-06   --       --       --       --       --      Bentazone\n",
      "000100-52-7    --     6.33e-08   --       --       --     1.19e-07   --       --       --       --       --       --       --      Benzaldehyde\n",
      "000071-43-2    --     2.03e-07   --     8.19e-08 8.19e-08 3.24e-07   --       --       --     1.66e-07 1.66e-07   --      1.7e-08  Benzene\n",
      "000108-90-7  2.36e-07 2.94e-07   --       --       --       --       --       --       --     2.36e-07 2.36e-07 2.36e-07   --      Benzene, chloro-\n",
      "000095-50-1    --     1.07e-07   --       --       --     1.55e-07   --       --       --     1.94e-07 1.94e-07   --       --      Benzene, dichloro\n",
      "000100-41-4    --     1.48e-08   --       --     2.55e-09 2.71e-08   --       --       --     1.01e-07 1.01e-07   --     3.72e-09  Benzene, ethyl-\n",
      "000118-74-1    --     6.63e-05   --       --       --     6.96e-05   --       --       --     0.000752   --       --     0.000226  Benzene, hexachloro-\n",
      "000608-93-5    --     6.25e-05   --       --       --     6.65e-05   --       --       --     0.000285   --       --     8.88e-05  Benzene, pentachloro-\n",
      "007440-41-7    --        0.127    0.127   --       0.0231    0.231 6.59e-06   --     6.59e-06  1.2e-05  1.2e-05  1.2e-05 5.59e-07  Beryllium\n",
      "082657-04-3    --       --       --       --       --       --       --     9.58e-07   --       --       --       --       --      Bifenthrin\n",
      "055179-31-2    --       --       --       --       --       --       --     1.11e-06   --       --       --       --       --      Bitertanol\n",
      "001689-84-5    --       --       --       --       --       --       --     1.63e-06   --       --       --       --       --      Bromoxynil\n",
      "000106-99-0  6.72e-08 2.31e-06   --     6.72e-08 6.72e-08 4.55e-06   --       --       --       --       --       --       --      Butadiene\n",
      "000071-36-3    --     7.79e-08   --       --       --       --       --       --       --     1.01e-07 1.01e-07   --       --      Butanol\n",
      "007440-43-9    --        0.123    0.123    0.126    0.126     0.12 0.000585    0.349 0.000585  0.00115  0.00115  0.00115 0.000428  Cadmium\n",
      "000063-25-2    --       --       --       --     3.24e-06   --       --     2.04e-06   --       --       --       --       --      Carbaryl\n",
      "010605-21-7    --       --       --       --       --       --       --     5.58e-07   --       --       --       --       --      Carbendazim\n",
      "001563-66-2    --     3.77e-05   --       --       --       --     1.94e-05 4.06e-05   --       --     0.000101   --       --      Carbofuran\n",
      "000075-15-0    --     0.000135   --       --     0.000126 0.000143   --       --       --       --     0.000101   --       --      Carbon disulfide\n",
      "010599-90-3    --     1.43e-06   --       --       --     1.83e-06   --       --       --       --     1.41e-06   --       --      Chloramine\n",
      "007003-89-6    --       --       --       --       --       --       --     2.63e-07   --       --       --       --       --      Chlormequat\n",
      "000067-66-3    --     3.56e-06   --       --      2.5e-06 4.63e-06   --       --       --     3.17e-06 3.17e-06   --       --      Chloroform\n",
      "001897-45-6    --       --       --       --       --       --     9.41e-07 1.24e-06   --       --       --       --       --      Chlorothalonil\n",
      "002921-88-2    --       --       --       --     1.49e-05   --       --     8.67e-05   --       --       --       --       --      Chlorpyrifos\n",
      "064902-72-3    --       --       --       --       --       --       --     2.09e-06   --       --       --       --       --      Chlorsulfuron\n",
      "007440-47-3    --     0.000561   --     0.000112 0.000112  0.00101 1.62e-05 1.65e-05 1.62e-05 3.23e-05 3.23e-05   --     1.91e-06  Chromium\n",
      "018540-29-9    --      0.00112  0.00112   --     0.000224  0.00202 3.25e-05   --     3.25e-05 6.47e-05 6.47e-05 6.47e-05 3.81e-06  Chromium VI\n",
      "016065-83-1    --     6.96e-09   --       --       --       --      4.1e-09 4.81e-09  4.1e-09 8.17e-09 8.17e-09   --     3.94e-09  Chromium, ion\n",
      "007440-50-8    --     3.63e-05 3.63e-05 3.69e-05 3.69e-05 3.57e-05 1.23e-06 0.000101 1.23e-06 2.33e-06 2.33e-06 2.33e-06 5.99e-07  Copper\n",
      "000098-82-8    --        3e-08   --       --     5.44e-09 5.46e-08   --       --       --     7.47e-08 7.47e-08   --       --      Cumene\n",
      "000110-82-7    --     3.14e-08   --       --       --     5.77e-08   --       --       --       --       --       --       --      Cyclohexane\n",
      "068359-37-5    --       --       --       --     1.49e-05   --       --     1.06e-06   --       --       --       --       --      Cyfluthrin\n",
      "052918-63-5    --     6.57e-06   --       --       --       --       --     3.81e-07   --       --     1.61e-05   --       --      Deltamethrin\n",
      "001918-00-9    --     4.95e-06   --       --     4.25e-06   --       --     3.02e-06   --       --     5.67e-06   --       --      Dicamba\n",
      "000141-66-2  2.52e-05   --       --       --       --       --       --     2.52e-05   --       --       --       --       --      Dicrotophos\n",
      "000060-29-7    --       --       --       --       --     3.37e-08   --       --       --       --       --       --       --      Diethyl ether\n",
      "035367-38-5    --       --       --       --     3.89e-06   --       --     9.44e-07   --       --       --       --       --      Diflubenzuron\n",
      "000060-51-5    --       --       --       --       --       --       --      4.3e-06   --       --       --       --       --      Dimethoate\n",
      "003347-22-6    --       --       --       --       --       --       --      2.9e-07   --       --       --       --       --      Dithianon\n",
      "000330-54-1    --       --       --       --       --       --       --     2.89e-06   --       --       --       --       --      Diuron\n",
      "000115-29-7    --       --       --       --       --       --       --      3.7e-06   --       --       --       --       --      Endosulfan\n",
      "000145-73-3    --       --       --       --       --       --       --     2.11e-07   --       --       --       --       --      Endothall\n",
      "000811-97-2    --     1.24e-08   --       --     1.19e-08 1.29e-08   --       --       --       --       --       --       --      Ethane, 1,1,1,2-tetrafluoro-, HFC-134a\n",
      "000071-55-6    --     4.79e-08   --       --     4.43e-08   --       --       --       --     4.38e-08 4.38e-08   --       --      Ethane, 1,1,1-trichloro-, HCFC-140\n",
      "000076-13-1    --     1.11e-06   --       --       --     1.11e-06   --       --       --       --       --       --       --      Ethane, 1,1,2-trichloro-1,2,2-trifluoro-, CFC-113\n",
      "000075-01-4    --     2.57e-06   --       --       --     4.71e-06   --       --       --     1.74e-05 1.74e-05   --       --      Ethene, chloro-\n",
      "000127-18-4    --     3.32e-06   --       --     2.27e-06 4.38e-06   --       --       --     3.45e-06 3.45e-06   --     6.49e-07  Ethene, tetrachloro-\n",
      "016672-87-0    --       --       --       --       --       --       --     7.63e-06   --       --       --       --       --      Ethephon\n",
      "000141-78-6    --     1.41e-08   --       --       --     2.33e-08   --       --       --     1.16e-08 1.16e-08   --       --      Ethyl acetate\n",
      "114369-43-6    --       --       --       --       --       --       --     2.21e-08   --       --       --       --       --      Fenbuconazole\n",
      "120068-37-3    --     5.16e-05   --       --       --       --       --     3.81e-05   --       --     0.000884   --       --      Fipronil\n",
      "   206-44-0    --     4.23e-07   --       --       --       --       --       --       --       --     1.06e-05   --     8.27e-07  Fluoranthene\n",
      "    86-73-7    --     1.71e-07   --       --       --       --       --       --       --       --       --       --       --      Fluorene\n",
      "000050-00-0    --     4.62e-07   --     2.04e-07 2.04e-07  7.2e-07   --       --       --     8.74e-07 8.74e-07   --       --      Formaldehyde\n",
      "000110-00-9    --     9.66e-06   --       --     4.17e-07   --       --       --       --       --       --       --       --      Furan\n",
      "001071-83-6    --     1.56e-07   --       --     5.98e-08   --      1.4e-07 2.06e-07  1.4e-07   --     4.33e-07   --       --      Glyphosate\n",
      "000110-54-3    --     3.65e-07   --       --     7.08e-08 6.59e-07   --       --       --       --      7.1e-07   --     3.54e-08  Hexane\n",
      "081335-77-5    --       --       --       --     4.44e-07   --       --     9.45e-08   --       --       --       --       --      Imazethapyr\n",
      "138261-41-3    --       --       --       --       --       --       --     3.07e-07   --       --       --       --       --      Imidacloprid\n",
      "036734-19-7    --       --       --       --       --       --       --     9.42e-06   --       --       --       --       --      Iprodion\n",
      "143390-89-0    --       --       --       --       --       --       --     2.85e-09   --       --       --       --       --      Kresoxim-methyl\n",
      "091465-08-6    --     1.46e-05   --       --       --       --       --       --       --       --       --       --       --      Lambda-cyhalothrin\n",
      "007439-92-1    --       0.0255   0.0255   0.0258   0.0258   0.0252 0.000191   0.0716 0.000191 0.000324 0.000324 0.000324 0.000294  Lead\n",
      "000330-55-2    --       --       --       --       --       --     5.69e-06 1.63e-05   --       --       --       --       --      Linuron\n",
      "000094-74-6    --       --       --       --       --       --       --     2.39e-05   --       --       --       --       --      MCPA\n",
      "       None    --       --       --       --       --       --       --     1.26e-06   --       --       --       --       --      MCPB\n",
      "000094-81-5    --       --       --       --       --       --       --     1.26e-06   --       --       --       --       --      MCPB\n",
      "000121-75-5    --       --       --       --       --       --       --     4.91e-08   --       --       --       --       --      Malathion\n",
      "008018-01-7    --     7.85e-07   --       --       --       --     1.97e-07 3.07e-07   --       --      5.9e-06   --       --      Mancozeb\n",
      "024307-26-4    --       --       --       --       --       --       --      4.4e-12   --       --       --       --       --      Mepiquat chloride\n",
      "007439-97-6    --         2.25     2.25     2.31     2.31      2.2   0.0271     6.39   0.0271   0.0384   0.0384   0.0384   0.0306  Mercury\n",
      "057837-19-1    --       --       --       --       --       --       --     7.22e-07   --       --       --       --       --      Metalaxil\n",
      "000074-83-9    --     0.000258   --       --       --       --       --       --       --       --       --       --       --      Methane, bromo-, Halon 1001\n",
      "000075-45-6    --     2.48e-08   --       --     2.38e-08 2.58e-08   --       --       --       --       --       --       --      Methane, chlorodifluoro-, HCFC-22\n",
      "000075-09-2    --     2.11e-06   --       --     1.39e-06 2.82e-06   --       --       --     1.89e-06 1.89e-06   --       --      Methane, dichloro-, HCC-30\n",
      "000075-71-8    --     6.23e-05   --       --      6.2e-05 6.25e-05   --       --       --       --       --       --       --      Methane, dichlorodifluoro-, CFC-12\n",
      "000074-87-3    --     1.48e-06   --       --     1.19e-06 1.77e-06   --       --       --       --     1.15e-06   --       --      Methane, monochloro-, R-40\n",
      "000056-23-5    --     0.000418   --       --       --      0.00043   --       --       --     0.000382   --       --       --      Methane, tetrachloro-, R-10\n",
      "000075-69-4    --     4.83e-06   --       --       --     4.88e-06   --       --       --       --       --       --       --      Methane, trichlorofluoro-, CFC-11\n",
      "000067-56-1    --     2.76e-08   --       --     1.11e-08 4.41e-08   --       --       --     2.84e-08 2.84e-08   --        8e-11  Methanol\n",
      "016752-77-5  3.29e-05 2.81e-05   --       --       --       --       --       --       --       --     3.29e-05   --       --      Methomyl\n",
      "000078-93-3    --     2.44e-09   --       --       --     3.42e-09   --       --       --       --       --       --       --      Methyl ethyl ketone\n",
      "000298-00-0    --       --       --       --     1.27e-05   --       --      7.6e-06   --       --       --       --       --      Methyl parathion\n",
      "051218-45-2    --       --       --       --     3.83e-07   --     3.05e-07 7.52e-07   --       --       --       --       --      Metolachlor\n",
      "021087-64-9    --       --       --       --     1.47e-06   --     8.44e-07  1.6e-06   --       --       --       --       --      Metribuzin\n",
      "074223-64-6    --       --       --       --       --       --       --     9.19e-07   --       --       --       --       --      Metsulfuron-methyl\n",
      "007439-98-7    --      0.00449  0.00449   --      0.00457  0.00441 0.000104   0.0126   --     0.000207 0.000207 0.000207 7.93e-06  Molybdenum\n",
      "006923-22-4    --       --       --       --       --       --       --     0.000169   --       --       --       --       --      Monocrotophos\n",
      "015299-99-7    --       --       --       --       --       --     6.56e-08 1.74e-07   --       --       --       --       --      Napropamide\n",
      "007440-02-0     3e-06 7.86e-06 7.86e-06 7.19e-06 7.19e-06 8.54e-06    3e-06 1.61e-05    3e-06 5.82e-06 5.82e-06 5.82e-06 5.98e-07  Nickel\n",
      "          .     3e-06                                                                                                              \n",
      "000098-95-3    --      1.4e-05   --       --       --     2.12e-05   --       --       --       --     1.52e-05   --       --      Nitrobenzene\n",
      "004685-14-7    --     6.59e-06   --       --     4.41e-06   --       --      2.3e-08   --       --     1.38e-05   --       --      Paraquat\n",
      "000056-38-2    --       --       --       --       --       --       --      7.9e-06   --       --       --       --       --      Parathion\n",
      "040487-42-1    --       --       --       --     2.73e-07   --       --     2.88e-07   --       --       --       --       --      Pendimethalin\n",
      "052645-53-1    --       --       --       --     1.37e-06   --       --     1.09e-07   --       --       --       --       --      Permethrin\n",
      "013684-63-4    --       --       --       --       --       --       --     4.15e-08   --       --       --       --       --      Phenmedipham\n",
      "000108-95-2    --     1.31e-07   --       --     3.57e-08 2.27e-07   --       --       --      3.9e-07  3.9e-07   --     1.16e-09  Phenol\n",
      "000120-83-2    --     5.99e-05   --       --       --     7.35e-05   --       --       --       --       --       --       --      Phenol, 2,4-dichloro\n",
      "000087-86-5    --     2.36e-05   --       --     2.18e-05 2.53e-05   --       --       --       --     0.000122   --       --      Phenol, pentachloro-\n",
      "001918-02-1    --       --       --       --       --       --       --     1.31e-06   --       --       --       --       --      Picloram\n",
      "023103-98-2    --       --       --       --       --       --     1.48e-06 2.67e-06   --       --       --       --       --      Pirimicarb\n",
      "067747-09-5    --       --       --       --       --       --       --     5.72e-05   --       --       --       --       --      Prochloraz\n",
      "032809-16-8    --       --       --       --       --       --       --     4.28e-07   --       --       --       --       --      Procymidone\n",
      "041198-08-7    --       --       --       --       --       --       --     3.12e-05   --       --       --       --       --      Profenofos\n",
      "007287-19-6    --       --       --       --       --       --       --     7.28e-07   --       --       --       --       --      Prometryn\n",
      " 60207-90-1    --       --       --       --     2.92e-06   --       --     1.15e-06   --       --       --       --       --      Propiconazole\n",
      "000075-56-9    --     1.32e-05   --       --       --     2.08e-05   --       --       --     1.11e-05 1.11e-05   --       --      Propylene oxide\n",
      "076578-14-8    --       --       --       --     9.36e-06   --       --     2.37e-06   --       --       --       --       --      Quizalofop-ethyl\n",
      "074051-80-2    --       --       --       --     7.74e-08   --       --     1.18e-07   --       --       --       --       --      Sethoxydim\n",
      "007440-22-4    0.0698   0.0698   0.0698   --       0.0712   0.0684 0.000499    0.198   --     0.000958 0.000958 0.000958 0.000235  Silver\n",
      "000122-34-9    --       --       --       --       --       --       --     2.37e-05   --       --       --       --       --      Simazine\n",
      "000100-42-5    --     2.76e-07   --       --     8.96e-09 5.44e-07   --       --       --       --       --       --       --      Styrene\n",
      "107534-96-3    --       --       --       --       --       --       --     8.58e-07   --       --       --       --       --      Tebuconazole\n",
      "080443-41-0    --       --       --       --       --       --       --     8.58e-07   --       --       --       --       --      Tebuconazole\n",
      "083121-18-0    --       --       --       --       --       --     2.55e-05 0.000134   --       --       --       --       --      Teflubenzuron\n",
      "013071-79-9    --     0.000166   --       --       --       --       --      0.00111   --       --      0.00444   --       --      Terbufos\n",
      "007440-28-0    --      0.00191   --       --      0.00187  0.00194   --       --       --      0.00482  0.00482  0.00482 0.000283  Thallium\n",
      "079277-27-3    --     2.83e-05   --       --       --       --       --     1.77e-05   --       --       --       --       --      Thifensulfuron-methyl\n",
      "059669-26-0    --       --       --       --     5.91e-07   --       --     6.55e-07   --       --       --       --       --      Thiodicarb\n",
      "000137-26-8    --       --       --       --       --       --     3.25e-07 5.09e-07   --       --       --       --       --      Thiram\n",
      "000108-88-3    --     1.43e-07   --       --     2.67e-08  2.6e-07   --       --       --     4.82e-08 4.82e-08   --     2.66e-09  Toluene\n",
      "000095-49-8    --     6.39e-07   --       --       --     1.05e-06   --       --       --       --     7.42e-07   --       --      Toluene, 2-chloro\n",
      "002303-17-5    --       --       --       --       --       --       --     6.59e-06   --       --       --       --       --      Tri-allate\n",
      "055219-65-3    --       --       --       --       --       --       --     1.52e-06   --       --       --       --       --      Triadimenol\n",
      "082097-50-5    --       --       --       --       --       --       --     5.69e-05   --       --       --       --       --      Triasulfuron\n",
      "101200-48-0    --       --       --       --       --       --       --     9.77e-06   --       --       --       --       --      Tribenuron-methyl\n",
      "000078-48-8    --       --       --       --       --       --       --     1.81e-05   --     0.000296   --       --       --      Tribufos\n",
      "001582-09-8    --     6.26e-06   --       --     4.58e-06   --       --     4.85e-06   --       --     7.29e-05   --       --      Trifluralin\n",
      "007440-62-2  0.000525 0.000255 0.000255   --     0.000249 0.000262 0.000271 0.000377   --     0.000525 0.000525 0.000525 3.25e-05  Vanadium\n",
      "          .  3.25e-05                                                                                                              \n",
      "050471-44-8    --       --       --       --       --       --       --     5.84e-06   --       --       --       --       --      Vinclozolin\n",
      "001330-20-7    --     2.98e-07   --       --     3.07e-08 5.66e-07   --       --       --     4.23e-08 4.23e-08   --     2.94e-09  Xylene\n",
      "052315-07-8    --       --       --       --     6.61e-06   --     2.68e-08 7.01e-07   --       --       --       --       --      Zeta-cypermethrin\n",
      "007440-66-6    --       0.0421   0.0421   0.0431   0.0431   0.0411   0.0019    0.118   0.0019  0.00346  0.00346  0.00346 0.000816  Zinc\n",
      "000098-86-2    --     2.86e-08   --       --       --       --       --       --       --       --       --       --       --      acetophenone\n",
      "000107-13-1    --     1.48e-05   --       --       --       --       --       --       --       --     1.16e-05   --       --      acryolonitrile\n",
      "       None    --       --       --       --       --       --       --      0.00012   --       --       --       --       --      aldicarb\n",
      "       None    --       --       --       --       --       --       --       --       --       --     9.21e-06   --       --      aniline\n",
      "       None    --     2.41e-06   --       --       --       --       --       --       --       --       --       --       --      aniline\n",
      "       None    --       --       --       --       --     4.71e-06   --       --       --       --       --       --       --      aniline\n",
      "000142-04-1    --     2.41e-06   --       --       --     4.71e-06   --       --       --       --     9.21e-06   --       --      aniline chloride\n",
      "000120-12-7    --     2.04e-08   --       --       --       --       --       --       --       --        4e-07   --     4.86e-08  anthracene\n",
      "       None    --       0.0454   --       --       --       --       --       --       --       --       --       --       --      arsenic\n",
      "       None    --       --       --       --       0.0446   --       --       --       --       --       --       --       --      arsenic\n",
      "       None    --       --       --       --       --       --       --       --       --       --       0.0738   --       --      arsenic\n",
      "       None    --       --       0.0454   --       --       --       --       --       --       --       --       --       --      arsenic\n",
      "       None    --       --       --       --       --       0.0461   --       --       --       --       --       --       --      arsenic\n",
      "       None    --       --       --       --       --       --       --       --       --       --       --       0.0738   --      arsenic\n",
      "       None    --       --       --       --       --       --       --       --       --       0.0738   --       --       --      arsenic\n",
      "       None    --       --       --       --       --       --       --       --       --       --       --       --      0.00605  arsenic\n",
      "       None    --       --       --       --       --       --       --       0.0784   --       --       --       --       --      arsenic\n",
      "       None    --       --       --       --       --       --       --       --        0.039   --       --       --       --      arsenic\n",
      "061805-96-7    --       0.0454   --       --       --       --       --       0.0784    0.039   --       0.0738   --      0.00605  arsenic V\n",
      "000092-51-3    --      2.2e-07   --       --       --       --       --       --       --       --     7.28e-07   --       --      bicyclohexyl\n",
      "000092-52-4    --      2.2e-07   --       --       --       --       --       --       --       --     7.28e-07   --       --      biphenyl\n",
      "       None    --      2.2e-07   --       --       --       --       --       --       --       --       --       --       --      biphenyl\n",
      "       None    --       --       --       --       --       --       --       --       --       --     7.28e-07   --       --      biphenyl\n",
      "000075-25-2    --     1.23e-06   --       --       --       --       --       --       --       --       --       --       --      bromoform\n",
      "000105-60-2    --     1.66e-07   --       --       --       --       --       --       --       --       --       --       --      caprolactam\n",
      "000075-00-3    --     3.05e-09   --       --       --       --       --       --       --       --       --       --       --      chloroethane\n",
      "       None    --       --       --       --     1.49e-05   --       --       --       --       --       --       --       --      cyfluthrin\n",
      "       None    --       --       --       --       --       --       --     1.06e-06   --       --       --       --       --      cyfluthrin\n",
      "068085-85-8    --     1.46e-05   --       --       --       --       --       --       --       --       --       --       --      cyhalothrin\n",
      "       None    --     1.46e-05   --       --       --       --       --       --       --       --       --       --       --      cyhalothrin\n",
      "000117-81-7    --       --       --       --       --       --       --       --       --      3.3e-06   --       --       --      di-sec-octyl phthalate\n",
      "025321-22-6    --     1.07e-07   --       --       --     1.55e-07   --       --       --     1.94e-07 1.94e-07   --       --      dichlorobenzene\n",
      "000120-61-6    --       --       --       --       --       --       --       --       --     2.16e-07   --       --       --      dimethyl terephthalate\n",
      "025321-14-6    --     3.18e-05   --       --       --       --       --       --       --       --       --       --       --      dinitrotoluene\n",
      "000088-85-7    --       --       --       --       --       --     4.31e-06   --       --       --       --       --       --      dinoseb\n",
      "       None    --       --       --       --       --       --       --      3.7e-06   --       --       --       --       --      endosulfan\n",
      "077182-82-2    --       --       --       --       --       --     1.98e-07   --       --       --       --       --       --      glufosinate ammonium salt\n",
      "       None    --       --       --       --       --       --       --     2.06e-07   --       --       --       --       --      glyphosate\n",
      "       None    --       --       --       --       --       --      1.4e-07   --       --       --       --       --       --      glyphosate\n",
      "       None    --     1.56e-07   --       --       --       --       --       --       --       --       --       --       --      glyphosate\n",
      "       None    --       --       --       --     5.98e-08   --       --       --       --       --       --       --       --      glyphosate\n",
      "       None    --       --       --       --       --       --       --       --      1.4e-07   --       --       --       --      glyphosate\n",
      "       None    --       --       --       --       --       --       --       --       --       --     4.33e-07   --       --      glyphosate\n",
      "000067-72-1    --       --       --       --       --       --       --       --       --     0.000119   --       --       --      hexachloroethane\n",
      "000078-59-1    --     1.62e-08   --       --       --       --       --       --       --       --       --       --       --      isophorone\n",
      "000108-38-3    --     2.98e-07   --       --     3.07e-08 5.66e-07   --       --       --     4.23e-08 4.23e-08   --     2.94e-09  m-Xylene\n",
      "000108-39-4  1.53e-07 1.53e-07   --       --       --       --       --       --       --       --       --       --       --      m-cresol\n",
      "       None    --     7.85e-07   --       --       --       --       --       --       --       --       --       --       --      mancozeb\n",
      "       None    --       --       --       --       --       --     1.97e-07   --       --       --       --       --       --      mancozeb\n",
      "012427-38-2    --       --       --       --       --       --       --     3.07e-07   --       --       --       --       --      mancozeb\n",
      "       None    --       --       --       --       --       --       --       --       --       --      5.9e-06   --       --      mancozeb\n",
      "000080-62-6    --      2.6e-06   --       --       --       --       --       --       --       --       --       --       --      methyl methacrylate\n",
      "000091-20-3    --     2.36e-06   --       --       --       --       --       --       --       --     8.15e-07   --     7.01e-08  naphthalene\n",
      "000095-48-7    --     1.66e-07   --       --       --       --       --       --       --       --       --       --       --      o-cresol\n",
      "       None    --       --       --       --       --       --       --     1.09e-07   --       --       --       --       --      permethrin\n",
      "       None    --       --       --       --     1.37e-06   --       --       --       --       --       --       --       --      permethrin\n",
      "003757-76-4    --     5.99e-05   --       --       --     7.35e-05   --       --       --       --       --       --       --      sodium 2,4-dichlorophenolate\n",
      "002702-72-9    --       --       --       --     6.25e-06   --      2.3e-06    6e-06   --       --       --       --       --      sodium 2,4-dichlorophenoxyacetate\n",
      "001634-04-4    --      2.9e-08   --       --       --     4.99e-08   --       --       --     2.15e-08 2.15e-08   --     7.24e-10  t-Butyl methyl ether\n",
      "       None    --       --       --       --       --       --       --     8.58e-07   --       --       --       --       --      tebuconazole\n",
      "000056-35-9    --       --       --       --       --       --       --       --       --     2.82e-07   --       --     5.25e-08  tributyltin oxide\n",
      "000108-05-4    --     1.07e-06   --       --       --       --       --       --       --       --       --       --       --      vinyl acetate\n",
      "       None    --     2.98e-07   --       --       --       --       --       --       --       --       --       --       --      xylene (all isomers)\n",
      "       None    --       --       --       --       --     5.66e-07   --       --       --       --       --       --       --      xylene (all isomers)\n",
      "       None    --       --       --       --     3.07e-08   --       --       --       --       --       --       --       --      xylene (all isomers)\n",
      "       None    --       --       --       --       --       --       --       --       --       --     4.23e-08   --       --      xylene (all isomers)\n",
      "       None    --       --       --       --       --       --       --       --       --     4.23e-08   --       --       --      xylene (all isomers)\n",
      "       None    --       --       --       --       --       --       --       --       --       --       --       --     2.94e-09  xylene (all isomers)\n",
      "CAS Number   |   C0   |   C1   |   C2   |   C3   |   C4   |   C5   |   C6   |   C7   |   C8   |   C9   |   C10  |   C11  |   C12   Flowable\n",
      "\n",
      "Columns:\n",
      "C0: root\n",
      "C1: Emissions to air\n",
      "C2: Emissions to air, unspecified (long-term)\n",
      "C3: Emissions to lower stratosphere and upper troposphere\n",
      "C4: Emissions to non-urban air or from high stacks\n",
      "C5: Emissions to urban air close to ground\n",
      "C6: soil\n",
      "C7: agricultural\n",
      "C8: industrial\n",
      "C9: water\n",
      "C10: Emissions to fresh water\n",
      "C11: Emissions to water, unspecified (long-term)\n",
      "C12: ocean\n"
     ]
    }
   ],
   "source": [
    "F._flowdb.factors_for_quantity(F[0].lcia_methods()[3])"
   ]
  },
  {
   "cell_type": "code",
   "execution_count": null,
   "metadata": {
    "collapsed": true
   },
   "outputs": [],
   "source": []
  },
  {
   "cell_type": "code",
   "execution_count": 36,
   "metadata": {
    "collapsed": false
   },
   "outputs": [],
   "source": [
    "q = F[0].lcia_methods()[3]"
   ]
  },
  {
   "cell_type": "code",
   "execution_count": 30,
   "metadata": {
    "collapsed": false
   },
   "outputs": [
    {
     "data": {
      "text/plain": [
       "{4,\n",
       " 15,\n",
       " 23,\n",
       " 24,\n",
       " 26,\n",
       " 27,\n",
       " 32,\n",
       " 33,\n",
       " 37,\n",
       " 41,\n",
       " 47,\n",
       " 51,\n",
       " 52,\n",
       " 53,\n",
       " 54,\n",
       " 58,\n",
       " 59,\n",
       " 60,\n",
       " 61,\n",
       " 62,\n",
       " 66,\n",
       " 67,\n",
       " 69,\n",
       " 71,\n",
       " 72,\n",
       " 75,\n",
       " 77,\n",
       " 78,\n",
       " 79,\n",
       " 82,\n",
       " 92,\n",
       " 93,\n",
       " 94,\n",
       " 102,\n",
       " 110,\n",
       " 118,\n",
       " 119,\n",
       " 120,\n",
       " 121,\n",
       " 123,\n",
       " 128,\n",
       " 129,\n",
       " 130,\n",
       " 132,\n",
       " 134,\n",
       " 135,\n",
       " 140,\n",
       " 141,\n",
       " 148,\n",
       " 151,\n",
       " 152,\n",
       " 155,\n",
       " 158,\n",
       " 163,\n",
       " 164,\n",
       " 166,\n",
       " 174,\n",
       " 192,\n",
       " 196,\n",
       " 197,\n",
       " 198,\n",
       " 199,\n",
       " 201,\n",
       " 202,\n",
       " 204,\n",
       " 248,\n",
       " 249,\n",
       " 254,\n",
       " 255,\n",
       " 257,\n",
       " 258,\n",
       " 259,\n",
       " 261,\n",
       " 262,\n",
       " 264,\n",
       " 266,\n",
       " 271,\n",
       " 277,\n",
       " 278,\n",
       " 280,\n",
       " 283,\n",
       " 286,\n",
       " 288,\n",
       " 293,\n",
       " 294,\n",
       " 295,\n",
       " 300,\n",
       " 304,\n",
       " 309,\n",
       " 313,\n",
       " 314,\n",
       " 315,\n",
       " 317,\n",
       " 319,\n",
       " 320,\n",
       " 323,\n",
       " 341,\n",
       " 342,\n",
       " 343,\n",
       " 344,\n",
       " 345,\n",
       " 529,\n",
       " 531,\n",
       " 532,\n",
       " 541,\n",
       " 546,\n",
       " 548,\n",
       " 552,\n",
       " 555,\n",
       " 563,\n",
       " 564,\n",
       " 567,\n",
       " 569,\n",
       " 570,\n",
       " 571,\n",
       " 572,\n",
       " 573,\n",
       " 574,\n",
       " 575,\n",
       " 577,\n",
       " 579,\n",
       " 581,\n",
       " 590,\n",
       " 599,\n",
       " 600,\n",
       " 603,\n",
       " 604,\n",
       " 605,\n",
       " 608,\n",
       " 609,\n",
       " 611,\n",
       " 613,\n",
       " 615,\n",
       " 616,\n",
       " 620,\n",
       " 624,\n",
       " 625,\n",
       " 631,\n",
       " 632,\n",
       " 634,\n",
       " 637,\n",
       " 651,\n",
       " 652,\n",
       " 654,\n",
       " 655,\n",
       " 656,\n",
       " 661,\n",
       " 662,\n",
       " 664,\n",
       " 665,\n",
       " 666,\n",
       " 686,\n",
       " 703,\n",
       " 742,\n",
       " 745,\n",
       " 755,\n",
       " 997,\n",
       " 1097,\n",
       " 1197,\n",
       " 1506,\n",
       " 1536,\n",
       " 1603,\n",
       " 1607,\n",
       " 1612,\n",
       " 1613,\n",
       " 1614,\n",
       " 1615,\n",
       " 1616,\n",
       " 1617,\n",
       " 1618,\n",
       " 1619,\n",
       " 1620,\n",
       " 1621,\n",
       " 1624,\n",
       " 1668,\n",
       " 1670,\n",
       " 1678,\n",
       " 1710,\n",
       " 1756,\n",
       " 1798,\n",
       " 1799,\n",
       " 1800,\n",
       " 1825,\n",
       " 1845,\n",
       " 1852,\n",
       " 1879,\n",
       " 1918,\n",
       " 1935,\n",
       " 1937,\n",
       " 2011,\n",
       " 2160,\n",
       " 2243,\n",
       " 2280,\n",
       " 2294,\n",
       " 2431,\n",
       " 3342,\n",
       " 3951,\n",
       " 4497,\n",
       " 4504,\n",
       " 4552,\n",
       " 4554,\n",
       " 4615,\n",
       " 4717,\n",
       " 4734,\n",
       " 4768,\n",
       " 4819,\n",
       " 4871,\n",
       " 4889,\n",
       " 4891,\n",
       " 4893,\n",
       " 4895,\n",
       " 4899,\n",
       " 4903,\n",
       " 6276,\n",
       " 6398,\n",
       " 6416,\n",
       " 6420,\n",
       " 6430,\n",
       " 6760,\n",
       " 6780,\n",
       " 6785,\n",
       " 6943,\n",
       " 6944,\n",
       " 6945,\n",
       " 6948,\n",
       " 6949,\n",
       " 6952,\n",
       " 6956,\n",
       " 7017,\n",
       " 7021,\n",
       " 7118,\n",
       " 7120,\n",
       " 7121,\n",
       " 7123,\n",
       " 7125,\n",
       " 7127}"
      ]
     },
     "execution_count": 30,
     "metadata": {},
     "output_type": "execute_result"
    }
   ],
   "source": [
    "F._flowdb._q_dict[q.get_uuid()]"
   ]
  },
  {
   "cell_type": "code",
   "execution_count": 31,
   "metadata": {
    "collapsed": false
   },
   "outputs": [
    {
     "ename": "NameError",
     "evalue": "name 'fb' is not defined",
     "output_type": "error",
     "traceback": [
      "\u001b[1;31m---------------------------------------------------------------------------\u001b[0m",
      "\u001b[1;31mNameError\u001b[0m                                 Traceback (most recent call last)",
      "\u001b[1;32m<ipython-input-31-e94c8c2f5f8a>\u001b[0m in \u001b[0;36m<module>\u001b[1;34m()\u001b[0m\n\u001b[1;32m----> 1\u001b[1;33m \u001b[0mF\u001b[0m\u001b[1;33m.\u001b[0m\u001b[0m_flowdb\u001b[0m\u001b[1;33m.\u001b[0m\u001b[0m_f_dict\u001b[0m\u001b[1;33m[\u001b[0m\u001b[1;33m(\u001b[0m\u001b[0mfb\u001b[0m\u001b[1;33m,\u001b[0m \u001b[0mq\u001b[0m\u001b[1;33m)\u001b[0m\u001b[1;33m]\u001b[0m\u001b[1;33m\u001b[0m\u001b[0m\n\u001b[0m",
      "\u001b[1;31mNameError\u001b[0m: name 'fb' is not defined"
     ]
    }
   ],
   "source": [
    "F._flowdb._f_dict[(fb, q)]"
   ]
  },
  {
   "cell_type": "code",
   "execution_count": 32,
   "metadata": {
    "collapsed": false
   },
   "outputs": [],
   "source": [
    "q = F[0].lcia_methods()[0].get_uuid()\n",
    "cls_0 = [F._flowdb._f_dict[(fb, q)] for fb in F._flowdb._q_dict[q]]"
   ]
  },
  {
   "cell_type": "code",
   "execution_count": 33,
   "metadata": {
    "collapsed": false
   },
   "outputs": [
    {
     "data": {
      "text/plain": [
       "[dict_keys(['GLO']),\n",
       " dict_keys(['GLO']),\n",
       " dict_keys(['GLO']),\n",
       " dict_keys(['GLO']),\n",
       " dict_keys(['GLO']),\n",
       " dict_keys(['GLO']),\n",
       " dict_keys(['GLO']),\n",
       " dict_keys(['GLO']),\n",
       " dict_keys(['GLO']),\n",
       " dict_keys(['GLO']),\n",
       " dict_keys(['GLO']),\n",
       " dict_keys(['GLO']),\n",
       " dict_keys(['GLO']),\n",
       " dict_keys(['GLO']),\n",
       " dict_keys(['GLO']),\n",
       " dict_keys(['GLO']),\n",
       " dict_keys(['GLO']),\n",
       " dict_keys(['GLO']),\n",
       " dict_keys(['GLO']),\n",
       " dict_keys(['GLO']),\n",
       " dict_keys(['GLO']),\n",
       " dict_keys(['GLO']),\n",
       " dict_keys(['GLO']),\n",
       " dict_keys(['GLO']),\n",
       " dict_keys(['GLO']),\n",
       " dict_keys(['GLO']),\n",
       " dict_keys(['GLO']),\n",
       " dict_keys(['GLO']),\n",
       " dict_keys(['GLO']),\n",
       " dict_keys(['GLO']),\n",
       " dict_keys(['GLO']),\n",
       " dict_keys(['GLO']),\n",
       " dict_keys(['GLO']),\n",
       " dict_keys(['GLO']),\n",
       " dict_keys(['GLO']),\n",
       " dict_keys(['GLO']),\n",
       " dict_keys(['GLO']),\n",
       " dict_keys(['GLO']),\n",
       " dict_keys(['GLO']),\n",
       " dict_keys(['GLO']),\n",
       " dict_keys(['GLO']),\n",
       " dict_keys(['GLO']),\n",
       " dict_keys(['GLO']),\n",
       " dict_keys(['GLO']),\n",
       " dict_keys(['GLO']),\n",
       " dict_keys(['GLO']),\n",
       " dict_keys(['GLO']),\n",
       " dict_keys(['GLO']),\n",
       " dict_keys(['GLO']),\n",
       " dict_keys(['GLO']),\n",
       " dict_keys(['GLO']),\n",
       " dict_keys(['GLO']),\n",
       " dict_keys(['GLO']),\n",
       " dict_keys(['GLO']),\n",
       " dict_keys(['GLO']),\n",
       " dict_keys(['GLO']),\n",
       " dict_keys(['GLO']),\n",
       " dict_keys(['GLO']),\n",
       " dict_keys(['GLO']),\n",
       " dict_keys(['GLO']),\n",
       " dict_keys(['GLO']),\n",
       " dict_keys(['GLO']),\n",
       " dict_keys(['GLO']),\n",
       " dict_keys(['GLO']),\n",
       " dict_keys(['GLO']),\n",
       " dict_keys(['GLO']),\n",
       " dict_keys(['GLO']),\n",
       " dict_keys(['GLO']),\n",
       " dict_keys(['GLO']),\n",
       " dict_keys(['GLO']),\n",
       " dict_keys(['GLO']),\n",
       " dict_keys(['GLO']),\n",
       " dict_keys(['GLO']),\n",
       " dict_keys(['GLO']),\n",
       " dict_keys(['GLO']),\n",
       " dict_keys(['GLO']),\n",
       " dict_keys(['GLO']),\n",
       " dict_keys(['GLO']),\n",
       " dict_keys(['GLO']),\n",
       " dict_keys(['GLO']),\n",
       " dict_keys(['GLO']),\n",
       " dict_keys(['GLO']),\n",
       " dict_keys(['GLO']),\n",
       " dict_keys(['GLO']),\n",
       " dict_keys(['GLO']),\n",
       " dict_keys(['GLO']),\n",
       " dict_keys(['GLO']),\n",
       " dict_keys(['GLO']),\n",
       " dict_keys(['GLO']),\n",
       " dict_keys(['GLO']),\n",
       " dict_keys(['GLO']),\n",
       " dict_keys(['GLO']),\n",
       " dict_keys(['GLO']),\n",
       " dict_keys(['GLO']),\n",
       " dict_keys(['GLO']),\n",
       " dict_keys(['GLO']),\n",
       " dict_keys(['GLO']),\n",
       " dict_keys(['GLO']),\n",
       " dict_keys(['GLO']),\n",
       " dict_keys(['GLO']),\n",
       " dict_keys(['GLO']),\n",
       " dict_keys(['GLO']),\n",
       " dict_keys(['GLO']),\n",
       " dict_keys(['GLO']),\n",
       " dict_keys(['GLO']),\n",
       " dict_keys(['GLO']),\n",
       " dict_keys(['GLO']),\n",
       " dict_keys(['GLO']),\n",
       " dict_keys(['GLO']),\n",
       " dict_keys(['GLO']),\n",
       " dict_keys(['GLO']),\n",
       " dict_keys(['GLO']),\n",
       " dict_keys(['GLO']),\n",
       " dict_keys(['GLO']),\n",
       " dict_keys(['GLO']),\n",
       " dict_keys(['GLO']),\n",
       " dict_keys(['GLO']),\n",
       " dict_keys(['GLO']),\n",
       " dict_keys(['GLO']),\n",
       " dict_keys(['GLO']),\n",
       " dict_keys(['GLO']),\n",
       " dict_keys(['GLO']),\n",
       " dict_keys(['GLO']),\n",
       " dict_keys(['GLO']),\n",
       " dict_keys(['GLO']),\n",
       " dict_keys(['GLO']),\n",
       " dict_keys(['GLO']),\n",
       " dict_keys(['GLO']),\n",
       " dict_keys(['GLO']),\n",
       " dict_keys(['GLO']),\n",
       " dict_keys(['GLO']),\n",
       " dict_keys(['GLO']),\n",
       " dict_keys(['GLO']),\n",
       " dict_keys(['GLO']),\n",
       " dict_keys(['GLO']),\n",
       " dict_keys(['GLO']),\n",
       " dict_keys(['GLO']),\n",
       " dict_keys(['GLO']),\n",
       " dict_keys(['GLO']),\n",
       " dict_keys(['GLO']),\n",
       " dict_keys(['GLO']),\n",
       " dict_keys(['GLO']),\n",
       " dict_keys(['GLO']),\n",
       " dict_keys(['GLO']),\n",
       " dict_keys(['GLO']),\n",
       " dict_keys(['GLO']),\n",
       " dict_keys(['GLO']),\n",
       " dict_keys(['GLO']),\n",
       " dict_keys(['GLO']),\n",
       " dict_keys(['GLO']),\n",
       " dict_keys(['GLO']),\n",
       " dict_keys(['GLO']),\n",
       " dict_keys(['GLO']),\n",
       " dict_keys(['GLO']),\n",
       " dict_keys(['GLO']),\n",
       " dict_keys(['GLO']),\n",
       " dict_keys(['GLO']),\n",
       " dict_keys(['GLO']),\n",
       " dict_keys(['GLO']),\n",
       " dict_keys(['GLO']),\n",
       " dict_keys(['GLO']),\n",
       " dict_keys(['GLO']),\n",
       " dict_keys(['GLO']),\n",
       " dict_keys(['GLO']),\n",
       " dict_keys(['GLO']),\n",
       " dict_keys(['GLO']),\n",
       " dict_keys(['GLO']),\n",
       " dict_keys(['GLO']),\n",
       " dict_keys(['GLO']),\n",
       " dict_keys(['GLO']),\n",
       " dict_keys(['GLO']),\n",
       " dict_keys(['GLO']),\n",
       " dict_keys(['GLO']),\n",
       " dict_keys(['GLO']),\n",
       " dict_keys(['GLO']),\n",
       " dict_keys(['GLO']),\n",
       " dict_keys(['GLO']),\n",
       " dict_keys(['GLO']),\n",
       " dict_keys(['GLO']),\n",
       " dict_keys(['GLO']),\n",
       " dict_keys(['GLO']),\n",
       " dict_keys(['GLO']),\n",
       " dict_keys(['GLO']),\n",
       " dict_keys(['GLO']),\n",
       " dict_keys(['GLO']),\n",
       " dict_keys(['GLO']),\n",
       " dict_keys(['GLO']),\n",
       " dict_keys(['GLO']),\n",
       " dict_keys(['GLO']),\n",
       " dict_keys(['GLO']),\n",
       " dict_keys(['GLO']),\n",
       " dict_keys(['GLO']),\n",
       " dict_keys(['GLO']),\n",
       " dict_keys(['GLO']),\n",
       " dict_keys(['GLO']),\n",
       " dict_keys(['GLO']),\n",
       " dict_keys(['GLO']),\n",
       " dict_keys(['GLO']),\n",
       " dict_keys(['GLO']),\n",
       " dict_keys(['GLO']),\n",
       " dict_keys(['GLO']),\n",
       " dict_keys(['GLO']),\n",
       " dict_keys(['GLO']),\n",
       " dict_keys(['GLO']),\n",
       " dict_keys(['GLO']),\n",
       " dict_keys(['GLO']),\n",
       " dict_keys(['GLO']),\n",
       " dict_keys(['GLO']),\n",
       " dict_keys(['GLO']),\n",
       " dict_keys(['GLO']),\n",
       " dict_keys(['GLO']),\n",
       " dict_keys(['GLO']),\n",
       " dict_keys(['GLO']),\n",
       " dict_keys(['GLO']),\n",
       " dict_keys(['GLO']),\n",
       " dict_keys(['GLO']),\n",
       " dict_keys(['GLO']),\n",
       " dict_keys(['GLO']),\n",
       " dict_keys(['GLO']),\n",
       " dict_keys(['GLO']),\n",
       " dict_keys(['GLO']),\n",
       " dict_keys(['GLO']),\n",
       " dict_keys(['GLO']),\n",
       " dict_keys(['GLO']),\n",
       " dict_keys(['GLO']),\n",
       " dict_keys(['GLO']),\n",
       " dict_keys(['GLO']),\n",
       " dict_keys(['GLO']),\n",
       " dict_keys(['GLO']),\n",
       " dict_keys(['GLO']),\n",
       " dict_keys(['GLO']),\n",
       " dict_keys(['GLO']),\n",
       " dict_keys(['GLO']),\n",
       " dict_keys(['GLO']),\n",
       " dict_keys(['GLO']),\n",
       " dict_keys(['GLO']),\n",
       " dict_keys(['GLO']),\n",
       " dict_keys(['GLO']),\n",
       " dict_keys(['GLO']),\n",
       " dict_keys(['GLO']),\n",
       " dict_keys(['GLO']),\n",
       " dict_keys(['GLO']),\n",
       " dict_keys(['GLO']),\n",
       " dict_keys(['GLO']),\n",
       " dict_keys(['GLO']),\n",
       " dict_keys(['GLO']),\n",
       " dict_keys(['GLO']),\n",
       " dict_keys(['GLO']),\n",
       " dict_keys(['GLO']),\n",
       " dict_keys(['GLO']),\n",
       " dict_keys(['GLO']),\n",
       " dict_keys(['GLO']),\n",
       " dict_keys(['GLO']),\n",
       " dict_keys(['GLO']),\n",
       " dict_keys(['GLO']),\n",
       " dict_keys(['GLO']),\n",
       " dict_keys(['GLO']),\n",
       " dict_keys(['GLO']),\n",
       " dict_keys(['GLO']),\n",
       " dict_keys(['GLO']),\n",
       " dict_keys(['GLO']),\n",
       " dict_keys(['GLO']),\n",
       " dict_keys(['GLO']),\n",
       " dict_keys(['GLO']),\n",
       " dict_keys(['GLO']),\n",
       " dict_keys(['GLO']),\n",
       " dict_keys(['GLO']),\n",
       " dict_keys(['GLO']),\n",
       " dict_keys(['GLO']),\n",
       " dict_keys(['GLO']),\n",
       " dict_keys(['GLO']),\n",
       " dict_keys(['GLO']),\n",
       " dict_keys(['GLO']),\n",
       " dict_keys(['GLO']),\n",
       " dict_keys(['GLO']),\n",
       " dict_keys(['GLO']),\n",
       " dict_keys(['GLO']),\n",
       " dict_keys(['GLO']),\n",
       " dict_keys(['GLO']),\n",
       " dict_keys(['GLO']),\n",
       " dict_keys(['GLO']),\n",
       " dict_keys(['GLO']),\n",
       " dict_keys(['GLO']),\n",
       " dict_keys(['GLO']),\n",
       " dict_keys(['GLO']),\n",
       " dict_keys(['GLO']),\n",
       " dict_keys(['GLO']),\n",
       " dict_keys(['GLO']),\n",
       " dict_keys(['GLO']),\n",
       " dict_keys(['GLO']),\n",
       " dict_keys(['GLO']),\n",
       " dict_keys(['GLO']),\n",
       " dict_keys(['GLO']),\n",
       " dict_keys(['GLO']),\n",
       " dict_keys(['GLO']),\n",
       " dict_keys(['GLO']),\n",
       " dict_keys(['GLO']),\n",
       " dict_keys(['GLO']),\n",
       " dict_keys(['GLO']),\n",
       " dict_keys(['GLO']),\n",
       " dict_keys(['GLO']),\n",
       " dict_keys(['GLO']),\n",
       " dict_keys(['GLO']),\n",
       " dict_keys(['GLO']),\n",
       " dict_keys(['GLO']),\n",
       " dict_keys(['GLO']),\n",
       " dict_keys(['GLO']),\n",
       " dict_keys(['GLO']),\n",
       " dict_keys(['GLO']),\n",
       " dict_keys(['GLO']),\n",
       " dict_keys(['GLO']),\n",
       " dict_keys(['GLO']),\n",
       " dict_keys(['GLO']),\n",
       " dict_keys(['GLO']),\n",
       " dict_keys(['GLO']),\n",
       " dict_keys(['GLO']),\n",
       " dict_keys(['GLO']),\n",
       " dict_keys(['GLO']),\n",
       " dict_keys(['GLO']),\n",
       " dict_keys(['GLO']),\n",
       " dict_keys(['GLO']),\n",
       " dict_keys(['GLO']),\n",
       " dict_keys(['GLO']),\n",
       " dict_keys(['GLO']),\n",
       " dict_keys(['GLO']),\n",
       " dict_keys(['GLO']),\n",
       " dict_keys(['GLO']),\n",
       " dict_keys(['GLO']),\n",
       " dict_keys(['GLO']),\n",
       " dict_keys(['GLO']),\n",
       " dict_keys(['GLO']),\n",
       " dict_keys(['GLO']),\n",
       " dict_keys(['GLO']),\n",
       " dict_keys(['GLO']),\n",
       " dict_keys(['GLO']),\n",
       " dict_keys(['GLO']),\n",
       " dict_keys(['GLO']),\n",
       " dict_keys(['GLO']),\n",
       " dict_keys(['GLO']),\n",
       " dict_keys(['GLO']),\n",
       " dict_keys(['GLO']),\n",
       " dict_keys(['GLO']),\n",
       " dict_keys(['GLO']),\n",
       " dict_keys(['GLO']),\n",
       " dict_keys(['GLO']),\n",
       " dict_keys(['GLO']),\n",
       " dict_keys(['GLO']),\n",
       " dict_keys(['GLO']),\n",
       " dict_keys(['GLO']),\n",
       " dict_keys(['GLO']),\n",
       " dict_keys(['GLO']),\n",
       " dict_keys(['GLO']),\n",
       " dict_keys(['GLO']),\n",
       " dict_keys(['GLO']),\n",
       " dict_keys(['GLO']),\n",
       " dict_keys(['GLO']),\n",
       " dict_keys(['GLO']),\n",
       " dict_keys(['GLO']),\n",
       " dict_keys(['GLO']),\n",
       " dict_keys(['GLO']),\n",
       " dict_keys(['GLO']),\n",
       " dict_keys(['GLO']),\n",
       " dict_keys(['GLO']),\n",
       " dict_keys(['GLO']),\n",
       " dict_keys(['GLO']),\n",
       " dict_keys(['GLO']),\n",
       " dict_keys(['GLO']),\n",
       " dict_keys(['GLO']),\n",
       " dict_keys(['GLO']),\n",
       " dict_keys(['GLO']),\n",
       " dict_keys(['GLO']),\n",
       " dict_keys(['GLO']),\n",
       " dict_keys(['GLO']),\n",
       " dict_keys(['GLO']),\n",
       " dict_keys(['GLO']),\n",
       " dict_keys(['GLO']),\n",
       " dict_keys(['GLO']),\n",
       " dict_keys(['GLO']),\n",
       " dict_keys(['GLO']),\n",
       " dict_keys(['GLO']),\n",
       " dict_keys(['GLO']),\n",
       " dict_keys(['GLO']),\n",
       " dict_keys(['GLO']),\n",
       " dict_keys(['GLO']),\n",
       " dict_keys(['GLO']),\n",
       " dict_keys(['GLO']),\n",
       " dict_keys(['GLO']),\n",
       " dict_keys(['GLO']),\n",
       " dict_keys(['GLO']),\n",
       " dict_keys(['GLO']),\n",
       " dict_keys(['GLO']),\n",
       " dict_keys(['GLO']),\n",
       " dict_keys(['GLO']),\n",
       " dict_keys(['GLO']),\n",
       " dict_keys(['GLO']),\n",
       " dict_keys(['GLO']),\n",
       " dict_keys(['GLO']),\n",
       " dict_keys(['GLO']),\n",
       " dict_keys(['GLO']),\n",
       " dict_keys(['GLO']),\n",
       " dict_keys(['GLO']),\n",
       " dict_keys(['GLO']),\n",
       " dict_keys(['GLO']),\n",
       " dict_keys(['GLO']),\n",
       " dict_keys(['GLO']),\n",
       " dict_keys(['GLO']),\n",
       " dict_keys(['GLO']),\n",
       " dict_keys(['GLO']),\n",
       " dict_keys(['GLO']),\n",
       " dict_keys(['GLO']),\n",
       " dict_keys(['GLO']),\n",
       " dict_keys(['GLO']),\n",
       " dict_keys(['GLO']),\n",
       " dict_keys(['GLO']),\n",
       " dict_keys(['GLO']),\n",
       " dict_keys(['GLO']),\n",
       " dict_keys(['GLO']),\n",
       " dict_keys(['GLO']),\n",
       " dict_keys(['GLO']),\n",
       " dict_keys(['GLO']),\n",
       " dict_keys(['GLO']),\n",
       " dict_keys(['GLO']),\n",
       " dict_keys(['GLO']),\n",
       " dict_keys(['GLO']),\n",
       " dict_keys(['GLO']),\n",
       " dict_keys(['GLO']),\n",
       " dict_keys(['GLO']),\n",
       " dict_keys(['GLO']),\n",
       " dict_keys(['GLO']),\n",
       " dict_keys(['GLO']),\n",
       " dict_keys(['GLO']),\n",
       " dict_keys(['GLO']),\n",
       " dict_keys(['GLO']),\n",
       " dict_keys(['GLO']),\n",
       " dict_keys(['GLO']),\n",
       " dict_keys(['GLO']),\n",
       " dict_keys(['GLO']),\n",
       " dict_keys(['GLO']),\n",
       " dict_keys(['GLO']),\n",
       " dict_keys(['GLO']),\n",
       " dict_keys(['GLO']),\n",
       " dict_keys(['GLO']),\n",
       " dict_keys(['GLO']),\n",
       " dict_keys(['GLO']),\n",
       " dict_keys(['GLO']),\n",
       " dict_keys(['GLO']),\n",
       " dict_keys(['GLO']),\n",
       " dict_keys(['GLO']),\n",
       " dict_keys(['GLO']),\n",
       " dict_keys(['GLO']),\n",
       " dict_keys(['GLO']),\n",
       " dict_keys(['GLO']),\n",
       " dict_keys(['GLO']),\n",
       " dict_keys(['GLO']),\n",
       " dict_keys(['GLO']),\n",
       " dict_keys(['GLO']),\n",
       " dict_keys(['GLO']),\n",
       " dict_keys(['GLO']),\n",
       " dict_keys(['GLO']),\n",
       " dict_keys(['GLO']),\n",
       " dict_keys(['GLO']),\n",
       " dict_keys(['GLO']),\n",
       " dict_keys(['GLO']),\n",
       " dict_keys(['GLO']),\n",
       " dict_keys(['GLO']),\n",
       " dict_keys(['GLO']),\n",
       " dict_keys(['GLO']),\n",
       " dict_keys(['GLO']),\n",
       " dict_keys(['GLO']),\n",
       " dict_keys(['GLO']),\n",
       " dict_keys(['GLO']),\n",
       " dict_keys(['GLO']),\n",
       " dict_keys(['GLO']),\n",
       " dict_keys(['GLO']),\n",
       " dict_keys(['GLO']),\n",
       " dict_keys(['GLO']),\n",
       " dict_keys(['GLO']),\n",
       " dict_keys(['GLO']),\n",
       " dict_keys(['GLO']),\n",
       " dict_keys(['GLO']),\n",
       " dict_keys(['GLO']),\n",
       " dict_keys(['GLO']),\n",
       " dict_keys(['GLO']),\n",
       " dict_keys(['GLO']),\n",
       " dict_keys(['GLO']),\n",
       " dict_keys(['GLO']),\n",
       " dict_keys(['GLO']),\n",
       " dict_keys(['GLO']),\n",
       " dict_keys(['GLO']),\n",
       " dict_keys(['GLO']),\n",
       " dict_keys(['GLO']),\n",
       " dict_keys(['GLO']),\n",
       " dict_keys(['GLO']),\n",
       " dict_keys(['GLO']),\n",
       " dict_keys(['GLO']),\n",
       " dict_keys(['GLO']),\n",
       " dict_keys(['GLO']),\n",
       " dict_keys(['GLO']),\n",
       " dict_keys(['GLO']),\n",
       " dict_keys(['GLO']),\n",
       " dict_keys(['GLO']),\n",
       " dict_keys(['GLO']),\n",
       " dict_keys(['GLO']),\n",
       " dict_keys(['GLO']),\n",
       " dict_keys(['GLO']),\n",
       " dict_keys(['GLO']),\n",
       " dict_keys(['GLO']),\n",
       " dict_keys(['GLO']),\n",
       " dict_keys(['GLO']),\n",
       " dict_keys(['GLO']),\n",
       " dict_keys(['GLO']),\n",
       " dict_keys(['GLO']),\n",
       " dict_keys(['GLO']),\n",
       " dict_keys(['GLO']),\n",
       " dict_keys(['GLO']),\n",
       " dict_keys(['GLO']),\n",
       " dict_keys(['GLO']),\n",
       " dict_keys(['GLO']),\n",
       " dict_keys(['GLO']),\n",
       " dict_keys(['GLO']),\n",
       " dict_keys(['GLO']),\n",
       " dict_keys(['GLO']),\n",
       " dict_keys(['GLO']),\n",
       " dict_keys(['GLO']),\n",
       " dict_keys(['GLO']),\n",
       " dict_keys(['GLO']),\n",
       " dict_keys(['GLO']),\n",
       " dict_keys(['GLO']),\n",
       " dict_keys(['GLO']),\n",
       " dict_keys(['GLO']),\n",
       " dict_keys(['GLO']),\n",
       " dict_keys(['GLO']),\n",
       " dict_keys(['GLO']),\n",
       " dict_keys(['GLO']),\n",
       " dict_keys(['GLO']),\n",
       " dict_keys(['GLO']),\n",
       " dict_keys(['GLO']),\n",
       " dict_keys(['GLO']),\n",
       " dict_keys(['GLO']),\n",
       " dict_keys(['GLO']),\n",
       " dict_keys(['GLO']),\n",
       " dict_keys(['GLO']),\n",
       " dict_keys(['GLO']),\n",
       " dict_keys(['GLO']),\n",
       " dict_keys(['GLO']),\n",
       " dict_keys(['GLO']),\n",
       " dict_keys(['GLO']),\n",
       " dict_keys(['GLO']),\n",
       " dict_keys(['GLO']),\n",
       " dict_keys(['GLO']),\n",
       " dict_keys(['GLO']),\n",
       " dict_keys(['GLO']),\n",
       " dict_keys(['GLO']),\n",
       " dict_keys(['GLO']),\n",
       " dict_keys(['GLO']),\n",
       " dict_keys(['GLO']),\n",
       " dict_keys(['GLO']),\n",
       " dict_keys(['GLO']),\n",
       " dict_keys(['GLO']),\n",
       " dict_keys(['GLO']),\n",
       " dict_keys(['GLO']),\n",
       " dict_keys(['GLO']),\n",
       " dict_keys(['GLO']),\n",
       " dict_keys(['GLO']),\n",
       " dict_keys(['GLO']),\n",
       " dict_keys(['GLO']),\n",
       " dict_keys(['GLO']),\n",
       " dict_keys(['GLO']),\n",
       " dict_keys(['GLO']),\n",
       " dict_keys(['GLO']),\n",
       " dict_keys(['GLO']),\n",
       " dict_keys(['GLO']),\n",
       " dict_keys(['GLO']),\n",
       " dict_keys(['GLO']),\n",
       " dict_keys(['GLO']),\n",
       " dict_keys(['GLO']),\n",
       " dict_keys(['GLO']),\n",
       " dict_keys(['GLO']),\n",
       " dict_keys(['GLO']),\n",
       " dict_keys(['GLO']),\n",
       " dict_keys(['GLO']),\n",
       " dict_keys(['GLO']),\n",
       " dict_keys(['GLO']),\n",
       " dict_keys(['GLO']),\n",
       " dict_keys(['GLO']),\n",
       " dict_keys(['GLO']),\n",
       " dict_keys(['GLO']),\n",
       " dict_keys(['GLO']),\n",
       " dict_keys(['GLO']),\n",
       " dict_keys(['GLO']),\n",
       " dict_keys(['GLO']),\n",
       " dict_keys(['GLO']),\n",
       " dict_keys(['GLO']),\n",
       " dict_keys(['GLO']),\n",
       " dict_keys(['GLO']),\n",
       " dict_keys(['GLO']),\n",
       " dict_keys(['GLO']),\n",
       " dict_keys(['GLO']),\n",
       " dict_keys(['GLO']),\n",
       " dict_keys(['GLO']),\n",
       " dict_keys(['GLO']),\n",
       " dict_keys(['GLO']),\n",
       " dict_keys(['GLO']),\n",
       " dict_keys(['GLO']),\n",
       " dict_keys(['GLO']),\n",
       " dict_keys(['GLO']),\n",
       " dict_keys(['GLO']),\n",
       " dict_keys(['GLO']),\n",
       " dict_keys(['GLO']),\n",
       " dict_keys(['GLO']),\n",
       " dict_keys(['GLO']),\n",
       " dict_keys(['GLO']),\n",
       " dict_keys(['GLO']),\n",
       " dict_keys(['GLO']),\n",
       " dict_keys(['GLO']),\n",
       " dict_keys(['GLO']),\n",
       " dict_keys(['GLO']),\n",
       " dict_keys(['GLO']),\n",
       " dict_keys(['GLO']),\n",
       " dict_keys(['GLO']),\n",
       " dict_keys(['GLO']),\n",
       " dict_keys(['GLO']),\n",
       " dict_keys(['GLO']),\n",
       " dict_keys(['GLO']),\n",
       " dict_keys(['GLO']),\n",
       " dict_keys(['GLO']),\n",
       " dict_keys(['GLO']),\n",
       " dict_keys(['GLO']),\n",
       " dict_keys(['GLO']),\n",
       " dict_keys(['GLO']),\n",
       " dict_keys(['GLO']),\n",
       " dict_keys(['GLO']),\n",
       " dict_keys(['GLO']),\n",
       " dict_keys(['GLO']),\n",
       " dict_keys(['GLO']),\n",
       " dict_keys(['GLO']),\n",
       " dict_keys(['GLO']),\n",
       " dict_keys(['GLO']),\n",
       " dict_keys(['GLO']),\n",
       " dict_keys(['GLO']),\n",
       " dict_keys(['GLO']),\n",
       " dict_keys(['GLO']),\n",
       " dict_keys(['GLO']),\n",
       " dict_keys(['GLO']),\n",
       " dict_keys(['GLO']),\n",
       " dict_keys(['GLO']),\n",
       " dict_keys(['GLO']),\n",
       " dict_keys(['GLO']),\n",
       " dict_keys(['GLO']),\n",
       " dict_keys(['GLO']),\n",
       " dict_keys(['GLO']),\n",
       " dict_keys(['GLO']),\n",
       " dict_keys(['GLO']),\n",
       " dict_keys(['GLO']),\n",
       " dict_keys(['GLO']),\n",
       " dict_keys(['GLO']),\n",
       " dict_keys(['GLO']),\n",
       " dict_keys(['GLO']),\n",
       " dict_keys(['GLO']),\n",
       " dict_keys(['GLO']),\n",
       " dict_keys(['GLO']),\n",
       " dict_keys(['GLO']),\n",
       " dict_keys(['GLO']),\n",
       " dict_keys(['GLO']),\n",
       " dict_keys(['GLO']),\n",
       " dict_keys(['GLO']),\n",
       " dict_keys(['GLO']),\n",
       " dict_keys(['GLO']),\n",
       " dict_keys(['GLO']),\n",
       " dict_keys(['GLO']),\n",
       " dict_keys(['GLO']),\n",
       " dict_keys(['GLO']),\n",
       " dict_keys(['GLO']),\n",
       " dict_keys(['GLO']),\n",
       " dict_keys(['GLO']),\n",
       " dict_keys(['GLO']),\n",
       " dict_keys(['GLO']),\n",
       " dict_keys(['GLO']),\n",
       " dict_keys(['GLO']),\n",
       " dict_keys(['GLO']),\n",
       " dict_keys(['GLO']),\n",
       " dict_keys(['GLO']),\n",
       " dict_keys(['GLO']),\n",
       " dict_keys(['GLO']),\n",
       " dict_keys(['GLO']),\n",
       " dict_keys(['GLO']),\n",
       " dict_keys(['GLO']),\n",
       " dict_keys(['GLO']),\n",
       " dict_keys(['GLO']),\n",
       " dict_keys(['GLO']),\n",
       " dict_keys(['GLO']),\n",
       " dict_keys(['GLO']),\n",
       " dict_keys(['GLO']),\n",
       " dict_keys(['GLO']),\n",
       " dict_keys(['GLO']),\n",
       " dict_keys(['GLO']),\n",
       " dict_keys(['GLO']),\n",
       " dict_keys(['GLO']),\n",
       " dict_keys(['GLO']),\n",
       " dict_keys(['GLO']),\n",
       " dict_keys(['GLO']),\n",
       " dict_keys(['GLO']),\n",
       " dict_keys(['GLO']),\n",
       " dict_keys(['GLO']),\n",
       " dict_keys(['GLO']),\n",
       " dict_keys(['GLO']),\n",
       " dict_keys(['GLO']),\n",
       " dict_keys(['GLO']),\n",
       " dict_keys(['GLO']),\n",
       " dict_keys(['GLO']),\n",
       " dict_keys(['GLO']),\n",
       " dict_keys(['GLO']),\n",
       " dict_keys(['GLO']),\n",
       " dict_keys(['GLO']),\n",
       " dict_keys(['GLO']),\n",
       " dict_keys(['GLO']),\n",
       " dict_keys(['GLO']),\n",
       " dict_keys(['GLO']),\n",
       " dict_keys(['GLO']),\n",
       " dict_keys(['GLO']),\n",
       " dict_keys(['GLO']),\n",
       " dict_keys(['GLO']),\n",
       " dict_keys(['GLO']),\n",
       " dict_keys(['GLO']),\n",
       " dict_keys(['GLO']),\n",
       " dict_keys(['GLO']),\n",
       " dict_keys(['GLO']),\n",
       " dict_keys(['GLO']),\n",
       " dict_keys(['GLO']),\n",
       " dict_keys(['GLO']),\n",
       " dict_keys(['GLO']),\n",
       " dict_keys(['GLO']),\n",
       " dict_keys(['GLO']),\n",
       " dict_keys(['GLO']),\n",
       " dict_keys(['GLO']),\n",
       " dict_keys(['GLO']),\n",
       " dict_keys(['GLO']),\n",
       " dict_keys(['GLO']),\n",
       " dict_keys(['GLO']),\n",
       " dict_keys(['GLO']),\n",
       " dict_keys(['GLO']),\n",
       " dict_keys(['GLO']),\n",
       " dict_keys(['GLO']),\n",
       " dict_keys(['GLO']),\n",
       " dict_keys(['GLO']),\n",
       " dict_keys(['GLO']),\n",
       " dict_keys(['GLO']),\n",
       " dict_keys(['GLO']),\n",
       " dict_keys(['GLO']),\n",
       " dict_keys(['GLO']),\n",
       " dict_keys(['GLO']),\n",
       " dict_keys(['GLO']),\n",
       " dict_keys(['GLO']),\n",
       " dict_keys(['GLO']),\n",
       " dict_keys(['GLO']),\n",
       " dict_keys(['GLO']),\n",
       " dict_keys(['GLO']),\n",
       " dict_keys(['GLO']),\n",
       " dict_keys(['GLO']),\n",
       " dict_keys(['GLO']),\n",
       " dict_keys(['GLO']),\n",
       " dict_keys(['GLO']),\n",
       " dict_keys(['GLO']),\n",
       " dict_keys(['GLO']),\n",
       " dict_keys(['GLO']),\n",
       " dict_keys(['GLO']),\n",
       " dict_keys(['GLO']),\n",
       " dict_keys(['GLO']),\n",
       " dict_keys(['GLO']),\n",
       " dict_keys(['GLO']),\n",
       " dict_keys(['GLO']),\n",
       " dict_keys(['GLO']),\n",
       " dict_keys(['GLO']),\n",
       " dict_keys(['GLO']),\n",
       " dict_keys(['GLO']),\n",
       " dict_keys(['GLO']),\n",
       " dict_keys(['GLO']),\n",
       " dict_keys(['GLO']),\n",
       " dict_keys(['GLO']),\n",
       " dict_keys(['GLO']),\n",
       " dict_keys(['GLO']),\n",
       " dict_keys(['GLO']),\n",
       " dict_keys(['GLO']),\n",
       " dict_keys(['GLO']),\n",
       " dict_keys(['GLO']),\n",
       " dict_keys(['GLO']),\n",
       " dict_keys(['GLO']),\n",
       " dict_keys(['GLO']),\n",
       " dict_keys(['GLO']),\n",
       " dict_keys(['GLO']),\n",
       " dict_keys(['GLO']),\n",
       " dict_keys(['GLO']),\n",
       " dict_keys(['GLO']),\n",
       " dict_keys(['GLO']),\n",
       " dict_keys(['GLO']),\n",
       " dict_keys(['GLO']),\n",
       " dict_keys(['GLO']),\n",
       " dict_keys(['GLO']),\n",
       " dict_keys(['GLO']),\n",
       " dict_keys(['GLO']),\n",
       " dict_keys(['GLO']),\n",
       " dict_keys(['GLO']),\n",
       " dict_keys(['GLO']),\n",
       " dict_keys(['GLO']),\n",
       " dict_keys(['GLO']),\n",
       " dict_keys(['GLO']),\n",
       " dict_keys(['GLO']),\n",
       " dict_keys(['GLO']),\n",
       " dict_keys(['GLO']),\n",
       " dict_keys(['GLO']),\n",
       " dict_keys(['GLO']),\n",
       " dict_keys(['GLO']),\n",
       " dict_keys(['GLO']),\n",
       " dict_keys(['GLO']),\n",
       " dict_keys(['GLO']),\n",
       " dict_keys(['GLO']),\n",
       " dict_keys(['GLO']),\n",
       " dict_keys(['GLO']),\n",
       " dict_keys(['GLO']),\n",
       " dict_keys(['GLO']),\n",
       " dict_keys(['GLO']),\n",
       " dict_keys(['GLO']),\n",
       " dict_keys(['GLO']),\n",
       " dict_keys(['GLO']),\n",
       " dict_keys(['GLO']),\n",
       " dict_keys(['GLO']),\n",
       " dict_keys(['GLO']),\n",
       " dict_keys(['GLO']),\n",
       " dict_keys(['GLO']),\n",
       " dict_keys(['GLO']),\n",
       " dict_keys(['GLO']),\n",
       " dict_keys(['GLO']),\n",
       " dict_keys(['GLO']),\n",
       " dict_keys(['GLO']),\n",
       " dict_keys(['GLO']),\n",
       " dict_keys(['GLO']),\n",
       " dict_keys(['GLO']),\n",
       " dict_keys(['GLO']),\n",
       " dict_keys(['GLO']),\n",
       " dict_keys(['GLO']),\n",
       " dict_keys(['GLO']),\n",
       " dict_keys(['GLO']),\n",
       " dict_keys(['GLO']),\n",
       " dict_keys(['GLO']),\n",
       " dict_keys(['GLO']),\n",
       " dict_keys(['GLO']),\n",
       " dict_keys(['GLO']),\n",
       " dict_keys(['GLO']),\n",
       " dict_keys(['GLO']),\n",
       " dict_keys(['GLO']),\n",
       " dict_keys(['GLO']),\n",
       " dict_keys(['GLO']),\n",
       " dict_keys(['GLO']),\n",
       " dict_keys(['GLO']),\n",
       " dict_keys(['GLO']),\n",
       " dict_keys(['GLO']),\n",
       " dict_keys(['GLO']),\n",
       " dict_keys(['GLO']),\n",
       " dict_keys(['GLO']),\n",
       " dict_keys(['GLO']),\n",
       " dict_keys(['GLO']),\n",
       " dict_keys(['GLO']),\n",
       " dict_keys(['GLO']),\n",
       " dict_keys(['GLO']),\n",
       " dict_keys(['GLO']),\n",
       " dict_keys(['GLO']),\n",
       " dict_keys(['GLO']),\n",
       " dict_keys(['GLO']),\n",
       " dict_keys(['GLO']),\n",
       " dict_keys(['GLO']),\n",
       " dict_keys(['GLO']),\n",
       " dict_keys(['GLO']),\n",
       " dict_keys(['GLO']),\n",
       " dict_keys(['GLO']),\n",
       " dict_keys(['GLO']),\n",
       " dict_keys(['GLO']),\n",
       " dict_keys(['GLO']),\n",
       " dict_keys(['GLO']),\n",
       " dict_keys(['GLO']),\n",
       " dict_keys(['GLO']),\n",
       " dict_keys(['GLO']),\n",
       " dict_keys(['GLO']),\n",
       " dict_keys(['GLO']),\n",
       " dict_keys(['GLO']),\n",
       " dict_keys(['GLO']),\n",
       " dict_keys(['GLO']),\n",
       " dict_keys(['GLO']),\n",
       " dict_keys(['GLO']),\n",
       " dict_keys(['GLO']),\n",
       " dict_keys(['GLO']),\n",
       " dict_keys(['GLO']),\n",
       " dict_keys(['GLO']),\n",
       " dict_keys(['GLO']),\n",
       " dict_keys(['GLO']),\n",
       " dict_keys(['GLO']),\n",
       " dict_keys(['GLO']),\n",
       " dict_keys(['GLO']),\n",
       " dict_keys(['GLO']),\n",
       " dict_keys(['GLO']),\n",
       " dict_keys(['GLO']),\n",
       " dict_keys(['GLO']),\n",
       " dict_keys(['GLO']),\n",
       " dict_keys(['GLO']),\n",
       " dict_keys(['GLO']),\n",
       " dict_keys(['GLO']),\n",
       " dict_keys(['GLO']),\n",
       " dict_keys(['GLO']),\n",
       " dict_keys(['GLO']),\n",
       " dict_keys(['GLO']),\n",
       " dict_keys(['GLO']),\n",
       " dict_keys(['GLO']),\n",
       " dict_keys(['GLO']),\n",
       " dict_keys(['GLO']),\n",
       " dict_keys(['GLO']),\n",
       " dict_keys(['GLO']),\n",
       " dict_keys(['GLO']),\n",
       " dict_keys(['GLO']),\n",
       " dict_keys(['GLO']),\n",
       " dict_keys(['GLO']),\n",
       " dict_keys(['GLO']),\n",
       " dict_keys(['GLO']),\n",
       " dict_keys(['GLO']),\n",
       " dict_keys(['GLO']),\n",
       " dict_keys(['GLO']),\n",
       " dict_keys(['GLO']),\n",
       " dict_keys(['GLO']),\n",
       " dict_keys(['GLO']),\n",
       " dict_keys(['GLO']),\n",
       " dict_keys(['GLO']),\n",
       " dict_keys(['GLO']),\n",
       " dict_keys(['GLO']),\n",
       " dict_keys(['GLO']),\n",
       " dict_keys(['GLO']),\n",
       " dict_keys(['GLO']),\n",
       " dict_keys(['GLO']),\n",
       " dict_keys(['GLO']),\n",
       " dict_keys(['GLO']),\n",
       " dict_keys(['GLO']),\n",
       " dict_keys(['GLO']),\n",
       " dict_keys(['GLO']),\n",
       " dict_keys(['GLO']),\n",
       " dict_keys(['GLO']),\n",
       " dict_keys(['GLO']),\n",
       " dict_keys(['GLO']),\n",
       " dict_keys(['GLO']),\n",
       " dict_keys(['GLO']),\n",
       " dict_keys(['GLO']),\n",
       " dict_keys(['GLO']),\n",
       " dict_keys(['GLO']),\n",
       " dict_keys(['GLO']),\n",
       " dict_keys(['GLO']),\n",
       " dict_keys(['GLO']),\n",
       " dict_keys(['GLO']),\n",
       " dict_keys(['GLO']),\n",
       " dict_keys(['GLO']),\n",
       " dict_keys(['GLO']),\n",
       " dict_keys(['GLO']),\n",
       " dict_keys(['GLO']),\n",
       " dict_keys(['GLO']),\n",
       " dict_keys(['GLO']),\n",
       " dict_keys(['GLO']),\n",
       " dict_keys(['GLO']),\n",
       " dict_keys(['GLO']),\n",
       " dict_keys(['GLO']),\n",
       " dict_keys(['GLO']),\n",
       " dict_keys(['GLO']),\n",
       " dict_keys(['GLO']),\n",
       " dict_keys(['GLO']),\n",
       " dict_keys(['GLO']),\n",
       " dict_keys(['GLO']),\n",
       " dict_keys(['GLO']),\n",
       " dict_keys(['GLO']),\n",
       " dict_keys(['GLO']),\n",
       " dict_keys(['GLO']),\n",
       " dict_keys(['GLO']),\n",
       " dict_keys(['GLO']),\n",
       " dict_keys(['GLO']),\n",
       " dict_keys(['GLO']),\n",
       " dict_keys(['GLO']),\n",
       " dict_keys(['GLO']),\n",
       " dict_keys(['GLO']),\n",
       " dict_keys(['GLO']),\n",
       " dict_keys(['GLO']),\n",
       " dict_keys(['GLO'])]"
      ]
     },
     "execution_count": 33,
     "metadata": {},
     "output_type": "execute_result"
    }
   ],
   "source": [
    "[cf.characterization.locations() for i in cls_0 for k, v in i._dict.items() for cf in v]"
   ]
  },
  {
   "cell_type": "code",
   "execution_count": 37,
   "metadata": {
    "collapsed": false
   },
   "outputs": [],
   "source": [
    "res = F.fg_lcia(frag.termination(None)._process_ref, q)[q.get_uuid()]"
   ]
  },
  {
   "cell_type": "code",
   "execution_count": 38,
   "metadata": {
    "collapsed": false
   },
   "outputs": [
    {
     "data": {
      "text/plain": [
       "['Particulates, unspecified [air, unspecified] has ILCD2011; Non-cancer human health effects; endpoint; DALY; USEtox [LCIA] [a]',\n",
       " 'COD, Chemical Oxygen Demand [water, unspecified] has ILCD2011; Non-cancer human health effects; endpoint; DALY; USEtox [LCIA] [a]',\n",
       " 'Aluminum [water, unspecified] has ILCD2011; Non-cancer human health effects; endpoint; DALY; USEtox [LCIA] [a]',\n",
       " 'Ammonia [water, unspecified] has ILCD2011; Non-cancer human health effects; endpoint; DALY; USEtox [LCIA] [a]',\n",
       " 'Carbon dioxide, fossil  [air, unspecified] has ILCD2011; Non-cancer human health effects; endpoint; DALY; USEtox [LCIA] [a]',\n",
       " 'Methane  [air, unspecified] has ILCD2011; Non-cancer human health effects; endpoint; DALY; USEtox [LCIA] [a]',\n",
       " '[2.98e-07 [a]] ILCD2011; Non-cancer human health effects; endpoint; DALY; USEtox [LCIA]',\n",
       " 'Suspended solids, unspecified [water, unspecified] has ILCD2011; Non-cancer human health effects; endpoint; DALY; USEtox [LCIA] [a]',\n",
       " 'Phosphates [water, unspecified] has ILCD2011; Non-cancer human health effects; endpoint; DALY; USEtox [LCIA] [a]',\n",
       " 'Phenol compounds, unspecified [water, unspecified] has ILCD2011; Non-cancer human health effects; endpoint; DALY; USEtox [LCIA] [a]',\n",
       " 'Carbon monoxide [air, unspecified] has ILCD2011; Non-cancer human health effects; endpoint; DALY; USEtox [LCIA] [a]',\n",
       " 'Organic substances, unspecified [air, unspecified] has ILCD2011; Non-cancer human health effects; endpoint; DALY; USEtox [LCIA] [a]',\n",
       " 'Ammonium ion [water, unspecified] has ILCD2011; Non-cancer human health effects; endpoint; DALY; USEtox [LCIA] [a]',\n",
       " 'TOC, Total Organic Carbon [water, unspecified] has ILCD2011; Non-cancer human health effects; endpoint; DALY; USEtox [LCIA] [a]',\n",
       " 'Aldehydes [Elementary Flows] has ILCD2011; Non-cancer human health effects; endpoint; DALY; USEtox [LCIA] [a]',\n",
       " 'Bromine [air, unspecified] has ILCD2011; Non-cancer human health effects; endpoint; DALY; USEtox [LCIA] [a]',\n",
       " '[0.00346 [a]] ILCD2011; Non-cancer human health effects; endpoint; DALY; USEtox [LCIA]',\n",
       " 'Metallic ions, unspecified [water, unspecified] has ILCD2011; Non-cancer human health effects; endpoint; DALY; USEtox [LCIA] [a]',\n",
       " '[0.000983 [a]] ILCD2011; Non-cancer human health effects; endpoint; DALY; USEtox [LCIA]',\n",
       " 'Iron [water, unspecified] has ILCD2011; Non-cancer human health effects; endpoint; DALY; USEtox [LCIA] [a]',\n",
       " 'Methyl acetate [air, unspecified] has ILCD2011; Non-cancer human health effects; endpoint; DALY; USEtox [LCIA] [a]',\n",
       " 'Nitrogen oxides  [air, unspecified] has ILCD2011; Non-cancer human health effects; endpoint; DALY; USEtox [LCIA] [a]',\n",
       " 'Dissolved solids [water, unspecified] has ILCD2011; Non-cancer human health effects; endpoint; DALY; USEtox [LCIA] [a]',\n",
       " 'BOD5, Biological Oxygen Demand [water, unspecified] has ILCD2011; Non-cancer human health effects; endpoint; DALY; USEtox [LCIA] [a]']"
      ]
     },
     "execution_count": 38,
     "metadata": {},
     "output_type": "execute_result"
    }
   ],
   "source": [
    "[str(k.factor) for k in res.LciaScores['42550686-82c9-3e19-b47d-fadc0037f6a8'].LciaDetails]"
   ]
  },
  {
   "cell_type": "code",
   "execution_count": 39,
   "metadata": {
    "collapsed": false
   },
   "outputs": [
    {
     "data": {
      "text/plain": [
       "1.904317151e-08"
      ]
     },
     "execution_count": 39,
     "metadata": {},
     "output_type": "execute_result"
    }
   ],
   "source": [
    "res.total()"
   ]
  },
  {
   "cell_type": "code",
   "execution_count": 128,
   "metadata": {
    "collapsed": false
   },
   "outputs": [
    {
     "data": {
      "text/plain": [
       "[False,\n",
       " False,\n",
       " False,\n",
       " False,\n",
       " False,\n",
       " False,\n",
       " False,\n",
       " False,\n",
       " False,\n",
       " False,\n",
       " False,\n",
       " False,\n",
       " False,\n",
       " False,\n",
       " False,\n",
       " False,\n",
       " False,\n",
       " False,\n",
       " False,\n",
       " False,\n",
       " False,\n",
       " False,\n",
       " False,\n",
       " False]"
      ]
     },
     "execution_count": 128,
     "metadata": {},
     "output_type": "execute_result"
    }
   ],
   "source": [
    "[k.factor.locations() for k in next(i for i in res.LciaScores.values()).LciaDetails]"
   ]
  },
  {
   "cell_type": "code",
   "execution_count": 77,
   "metadata": {
    "collapsed": false
   },
   "outputs": [],
   "source": [
    "r1 = [k for k in res.LciaScores['42550686-82c9-3e19-b47d-fadc0037f6a8'].LciaDetails if k.exchange.flow['Name'] == 'Nitrogen oxides ']"
   ]
  },
  {
   "cell_type": "code",
   "execution_count": 78,
   "metadata": {
    "collapsed": false
   },
   "outputs": [
    {
     "data": {
      "text/plain": [
       "'Output:     [5.2e-05 [kg]] Nitrogen oxides  [air, unspecified]'"
      ]
     },
     "execution_count": 78,
     "metadata": {},
     "output_type": "execute_result"
    }
   ],
   "source": [
    "str(r1[0].exchange)"
   ]
  },
  {
   "cell_type": "code",
   "execution_count": 86,
   "metadata": {
    "collapsed": false
   },
   "outputs": [
    {
     "name": "stdout",
     "output_type": "stream",
     "text": [
      "Nitrogen oxides  [air, unspecified]\n",
      "[1 [kg]] EcoSpold Quantity kg\n",
      "Nitrogen oxides  [air, unspecified] has ILCD2011; Acidification terrestrial; endpoint; PNOF; Van Zelm et al 2007 [LCIA] [Items*a]\n"
     ]
    }
   ],
   "source": [
    "r1[0].exchange.flow.profile()"
   ]
  },
  {
   "cell_type": "code",
   "execution_count": 80,
   "metadata": {
    "collapsed": false
   },
   "outputs": [
    {
     "data": {
      "text/plain": [
       "{16}"
      ]
     },
     "execution_count": 80,
     "metadata": {},
     "output_type": "execute_result"
    }
   ],
   "source": [
    "F._flowdb._parse_flow(r1[0].exchange.flow)[0]"
   ]
  },
  {
   "cell_type": "code",
   "execution_count": 83,
   "metadata": {
    "collapsed": false
   },
   "outputs": [
    {
     "data": {
      "text/plain": [
       "{'011104-93-1',\n",
       " '191b44d4-90c9-465a-8802-93a651b4fd52',\n",
       " '2f89fbbd-e428-4de1-8c33-9dd66e53310c',\n",
       " 'Nitrogen oxides',\n",
       " 'b48a94a6-1707-4e6b-8efd-3e4084921ca5',\n",
       " 'e575ebc3-0a3b-4c38-9a2a-13e42c72553b',\n",
       " 'f79d0f8f-2b0e-49cb-bed0-b1ea0fbd8625',\n",
       " 'nitrogen oxides'}"
      ]
     },
     "execution_count": 83,
     "metadata": {},
     "output_type": "execute_result"
    }
   ],
   "source": [
    "F._flowdb.flowables[16]"
   ]
  },
  {
   "cell_type": "code",
   "execution_count": 81,
   "metadata": {
    "collapsed": false
   },
   "outputs": [
    {
     "data": {
      "text/plain": [
       "False"
      ]
     },
     "execution_count": 81,
     "metadata": {},
     "output_type": "execute_result"
    }
   ],
   "source": [
    "16 in F._flowdb._q_dict[q]"
   ]
  },
  {
   "cell_type": "code",
   "execution_count": null,
   "metadata": {
    "collapsed": true
   },
   "outputs": [],
   "source": [
    "F._flowdb._f_dict[(1)]"
   ]
  },
  {
   "cell_type": "code",
   "execution_count": 57,
   "metadata": {
    "collapsed": false
   },
   "outputs": [
    {
     "name": "stdout",
     "output_type": "stream",
     "text": [
      "ILCD2011; Ecotoxicity freshwater; midpoint; CTUe; USEtox [LCIA]\n",
      "------------------------------------------------------------\n"
     ]
    },
    {
     "ename": "TypeError",
     "evalue": "a float is required",
     "output_type": "error",
     "traceback": [
      "\u001b[1;31m---------------------------------------------------------------------------\u001b[0m",
      "\u001b[1;31mTypeError\u001b[0m                                 Traceback (most recent call last)",
      "\u001b[1;32m<ipython-input-57-1e32ce3e0e81>\u001b[0m in \u001b[0;36m<module>\u001b[1;34m()\u001b[0m\n\u001b[1;32m----> 1\u001b[1;33m \u001b[0mF\u001b[0m\u001b[1;33m.\u001b[0m\u001b[0mshow_detailed_lcia\u001b[0m\u001b[1;33m(\u001b[0m\u001b[0mfrag\u001b[0m\u001b[1;33m.\u001b[0m\u001b[0mtermination\u001b[0m\u001b[1;33m(\u001b[0m\u001b[1;32mNone\u001b[0m\u001b[1;33m)\u001b[0m\u001b[1;33m.\u001b[0m\u001b[0m_process_ref\u001b[0m\u001b[1;33m,\u001b[0m \u001b[0mnext\u001b[0m\u001b[1;33m(\u001b[0m\u001b[0ml\u001b[0m \u001b[1;32mfor\u001b[0m \u001b[0ml\u001b[0m \u001b[1;32min\u001b[0m \u001b[0mF\u001b[0m\u001b[1;33m[\u001b[0m\u001b[1;36m0\u001b[0m\u001b[1;33m]\u001b[0m\u001b[1;33m.\u001b[0m\u001b[0mlcia_methods\u001b[0m\u001b[1;33m(\u001b[0m\u001b[1;33m)\u001b[0m\u001b[1;33m)\u001b[0m\u001b[1;33m,\u001b[0m \u001b[0mshow_all\u001b[0m\u001b[1;33m=\u001b[0m\u001b[1;32mTrue\u001b[0m\u001b[1;33m)\u001b[0m\u001b[1;33m\u001b[0m\u001b[0m\n\u001b[0m",
      "\u001b[1;32m/data/GitHub/lca-tools/lcatools/foreground/manager.py\u001b[0m in \u001b[0;36mshow_detailed_lcia\u001b[1;34m(self, p_ref, quantity, show_all)\u001b[0m\n\u001b[0;32m    223\u001b[0m         \u001b[1;32mfor\u001b[0m \u001b[0mx\u001b[0m \u001b[1;32min\u001b[0m \u001b[0msorted\u001b[0m\u001b[1;33m(\u001b[0m\u001b[0magg_lcia\u001b[0m\u001b[1;33m.\u001b[0m\u001b[0mLciaDetails\u001b[0m\u001b[1;33m,\u001b[0m \u001b[0mkey\u001b[0m\u001b[1;33m=\u001b[0m\u001b[1;32mlambda\u001b[0m \u001b[0mt\u001b[0m\u001b[1;33m:\u001b[0m \u001b[0mt\u001b[0m\u001b[1;33m.\u001b[0m\u001b[0mresult\u001b[0m\u001b[1;33m)\u001b[0m\u001b[1;33m:\u001b[0m\u001b[1;33m\u001b[0m\u001b[0m\n\u001b[0;32m    224\u001b[0m             \u001b[1;32mif\u001b[0m \u001b[0mx\u001b[0m\u001b[1;33m.\u001b[0m\u001b[0mresult\u001b[0m \u001b[1;33m!=\u001b[0m \u001b[1;36m0\u001b[0m \u001b[1;32mor\u001b[0m \u001b[0mshow_all\u001b[0m\u001b[1;33m:\u001b[0m\u001b[1;33m\u001b[0m\u001b[0m\n\u001b[1;32m--> 225\u001b[1;33m                 \u001b[0mprint\u001b[0m\u001b[1;33m(\u001b[0m\u001b[1;34m'%10.3g x %-10.3g = %-10.3g %s'\u001b[0m \u001b[1;33m%\u001b[0m \u001b[1;33m(\u001b[0m\u001b[0mx\u001b[0m\u001b[1;33m.\u001b[0m\u001b[0mexchange\u001b[0m\u001b[1;33m.\u001b[0m\u001b[0mvalue\u001b[0m\u001b[1;33m,\u001b[0m \u001b[0mx\u001b[0m\u001b[1;33m.\u001b[0m\u001b[0mfactor\u001b[0m\u001b[1;33m.\u001b[0m\u001b[0mvalue\u001b[0m\u001b[1;33m,\u001b[0m \u001b[0mx\u001b[0m\u001b[1;33m.\u001b[0m\u001b[0mresult\u001b[0m\u001b[1;33m,\u001b[0m \u001b[0mx\u001b[0m\u001b[1;33m.\u001b[0m\u001b[0mfactor\u001b[0m\u001b[1;33m.\u001b[0m\u001b[0mflow\u001b[0m\u001b[1;33m)\u001b[0m\u001b[1;33m)\u001b[0m\u001b[1;33m\u001b[0m\u001b[0m\n\u001b[0m\u001b[0;32m    226\u001b[0m         \u001b[0mprint\u001b[0m\u001b[1;33m(\u001b[0m\u001b[1;34m'='\u001b[0m \u001b[1;33m*\u001b[0m \u001b[1;36m60\u001b[0m\u001b[1;33m)\u001b[0m\u001b[1;33m\u001b[0m\u001b[0m\n\u001b[0;32m    227\u001b[0m         print('             Total score: %g [%s]' % (agg_lcia.cumulative_result,\n",
      "\u001b[1;31mTypeError\u001b[0m: a float is required"
     ]
    }
   ],
   "source": [
    "F.show_detailed_lcia(frag.termination(None)._process_ref, next(l for l in F[0].lcia_methods()), show_all=True)"
   ]
  },
  {
   "cell_type": "code",
   "execution_count": null,
   "metadata": {
    "collapsed": true
   },
   "outputs": [],
   "source": []
  },
  {
   "cell_type": "code",
   "execution_count": 62,
   "metadata": {
    "collapsed": false
   },
   "outputs": [
    {
     "name": "stdout",
     "output_type": "stream",
     "text": [
      "<lcatools.lcia_results.LciaResult object at 0x7f408fe478d0>\n",
      "<lcatools.lcia_results.LciaResult object at 0x7f408fe50c50>\n",
      "<lcatools.lcia_results.LciaResult object at 0x7f408fe54b38>\n",
      "<lcatools.lcia_results.LciaResult object at 0x7f408fe54470>\n",
      "<lcatools.lcia_results.LciaResult object at 0x7f408fe47fd0>\n"
     ]
    }
   ],
   "source": [
    "for v in F.fg_lcia(frag.termination(None)._process_ref).values():\n",
    "    print('%s' % v)"
   ]
  },
  {
   "cell_type": "code",
   "execution_count": 7,
   "metadata": {
    "collapsed": false
   },
   "outputs": [
    {
     "ename": "CatalogError",
     "evalue": "0 sources found for 8!",
     "output_type": "error",
     "traceback": [
      "\u001b[1;31m---------------------------------------------------------------------------\u001b[0m",
      "\u001b[1;31mCatalogError\u001b[0m                              Traceback (most recent call last)",
      "\u001b[1;32m<ipython-input-7-df99a8ee2bf7>\u001b[0m in \u001b[0;36m<module>\u001b[1;34m()\u001b[0m\n\u001b[1;32m----> 1\u001b[1;33m \u001b[0mF\u001b[0m\u001b[1;33m.\u001b[0m\u001b[0mterminate_fragment\u001b[0m\u001b[1;33m(\u001b[0m\u001b[1;36m8\u001b[0m\u001b[1;33m,\u001b[0m \u001b[0mfrag\u001b[0m\u001b[1;33m)\u001b[0m\u001b[1;33m\u001b[0m\u001b[0m\n\u001b[0m",
      "\u001b[1;32m/data/GitHub/lca-tools/lcatools/foreground/manager.py\u001b[0m in \u001b[0;36mterminate_fragment\u001b[1;34m(self, index, frag)\u001b[0m\n\u001b[0;32m    228\u001b[0m \u001b[1;33m\u001b[0m\u001b[0m\n\u001b[0;32m    229\u001b[0m     \u001b[1;32mdef\u001b[0m \u001b[0mterminate_fragment\u001b[0m\u001b[1;33m(\u001b[0m\u001b[0mself\u001b[0m\u001b[1;33m,\u001b[0m \u001b[0mindex\u001b[0m\u001b[1;33m,\u001b[0m \u001b[0mfrag\u001b[0m\u001b[1;33m)\u001b[0m\u001b[1;33m:\u001b[0m\u001b[1;33m\u001b[0m\u001b[0m\n\u001b[1;32m--> 230\u001b[1;33m         \u001b[0mexch_ref\u001b[0m \u001b[1;33m=\u001b[0m \u001b[0mself\u001b[0m\u001b[1;33m.\u001b[0m\u001b[0m_catalog\u001b[0m\u001b[1;33m.\u001b[0m\u001b[0mexch_ref\u001b[0m\u001b[1;33m(\u001b[0m\u001b[0mindex\u001b[0m\u001b[1;33m,\u001b[0m \u001b[0mfrag\u001b[0m\u001b[1;33m.\u001b[0m\u001b[0mreference_entity\u001b[0m\u001b[1;33m,\u001b[0m \u001b[0mfrag\u001b[0m\u001b[1;33m.\u001b[0m\u001b[0mflow\u001b[0m\u001b[1;33m,\u001b[0m \u001b[0mfrag\u001b[0m\u001b[1;33m.\u001b[0m\u001b[0mdirection\u001b[0m\u001b[1;33m)\u001b[0m\u001b[1;33m\u001b[0m\u001b[0m\n\u001b[0m\u001b[0;32m    231\u001b[0m         \u001b[1;32mreturn\u001b[0m \u001b[0mself\u001b[0m\u001b[1;33m[\u001b[0m\u001b[1;36m0\u001b[0m\u001b[1;33m]\u001b[0m\u001b[1;33m.\u001b[0m\u001b[0mterminate\u001b[0m\u001b[1;33m(\u001b[0m\u001b[0mexch_ref\u001b[0m\u001b[1;33m)\u001b[0m\u001b[1;33m\u001b[0m\u001b[0m\n\u001b[0;32m    232\u001b[0m \u001b[1;33m\u001b[0m\u001b[0m\n",
      "\u001b[1;32m/data/GitHub/lca-tools/lcatools/catalog.py\u001b[0m in \u001b[0;36mexch_ref\u001b[1;34m(self, source, process, flow, direction)\u001b[0m\n\u001b[0;32m    236\u001b[0m \u001b[1;33m\u001b[0m\u001b[0m\n\u001b[0;32m    237\u001b[0m     \u001b[1;32mdef\u001b[0m \u001b[0mexch_ref\u001b[0m\u001b[1;33m(\u001b[0m\u001b[0mself\u001b[0m\u001b[1;33m,\u001b[0m \u001b[0msource\u001b[0m\u001b[1;33m,\u001b[0m \u001b[0mprocess\u001b[0m\u001b[1;33m,\u001b[0m \u001b[0mflow\u001b[0m\u001b[1;33m,\u001b[0m \u001b[0mdirection\u001b[0m\u001b[1;33m)\u001b[0m\u001b[1;33m:\u001b[0m\u001b[1;33m\u001b[0m\u001b[0m\n\u001b[1;32m--> 238\u001b[1;33m         \u001b[0mindex\u001b[0m \u001b[1;33m=\u001b[0m \u001b[0mself\u001b[0m\u001b[1;33m.\u001b[0m\u001b[0mindex_for_source\u001b[0m\u001b[1;33m(\u001b[0m\u001b[0msource\u001b[0m\u001b[1;33m)\u001b[0m\u001b[1;33m\u001b[0m\u001b[0m\n\u001b[0m\u001b[0;32m    239\u001b[0m         \u001b[1;32mif\u001b[0m \u001b[1;32mnot\u001b[0m \u001b[0mself\u001b[0m\u001b[1;33m.\u001b[0m\u001b[0m_loaded\u001b[0m\u001b[1;33m[\u001b[0m\u001b[0mindex\u001b[0m\u001b[1;33m]\u001b[0m\u001b[1;33m:\u001b[0m\u001b[1;33m\u001b[0m\u001b[0m\n\u001b[0;32m    240\u001b[0m             \u001b[0mself\u001b[0m\u001b[1;33m.\u001b[0m\u001b[0mload\u001b[0m\u001b[1;33m(\u001b[0m\u001b[0mindex\u001b[0m\u001b[1;33m)\u001b[0m\u001b[1;33m\u001b[0m\u001b[0m\n",
      "\u001b[1;32m/data/GitHub/lca-tools/lcatools/catalog.py\u001b[0m in \u001b[0;36mindex_for_source\u001b[1;34m(self, source)\u001b[0m\n\u001b[0;32m    360\u001b[0m         \u001b[0mindex\u001b[0m \u001b[1;33m=\u001b[0m \u001b[1;33m[\u001b[0m\u001b[0mi\u001b[0m \u001b[1;32mfor\u001b[0m \u001b[0mk\u001b[0m\u001b[1;33m,\u001b[0m \u001b[0mi\u001b[0m \u001b[1;32min\u001b[0m \u001b[0mself\u001b[0m\u001b[1;33m.\u001b[0m\u001b[0m_sources\u001b[0m\u001b[1;33m.\u001b[0m\u001b[0mitems\u001b[0m\u001b[1;33m(\u001b[0m\u001b[1;33m)\u001b[0m \u001b[1;32mif\u001b[0m \u001b[0mk\u001b[0m \u001b[1;33m==\u001b[0m \u001b[0msource\u001b[0m\u001b[1;33m]\u001b[0m\u001b[1;33m\u001b[0m\u001b[0m\n\u001b[0;32m    361\u001b[0m         \u001b[1;32mif\u001b[0m \u001b[0mlen\u001b[0m\u001b[1;33m(\u001b[0m\u001b[0mindex\u001b[0m\u001b[1;33m)\u001b[0m \u001b[1;33m!=\u001b[0m \u001b[1;36m1\u001b[0m\u001b[1;33m:\u001b[0m\u001b[1;33m\u001b[0m\u001b[0m\n\u001b[1;32m--> 362\u001b[1;33m             \u001b[1;32mraise\u001b[0m \u001b[0mCatalogError\u001b[0m\u001b[1;33m(\u001b[0m\u001b[1;34m'%d sources found for %s!'\u001b[0m \u001b[1;33m%\u001b[0m \u001b[1;33m(\u001b[0m\u001b[0mlen\u001b[0m\u001b[1;33m(\u001b[0m\u001b[0mindex\u001b[0m\u001b[1;33m)\u001b[0m\u001b[1;33m,\u001b[0m \u001b[0msource\u001b[0m\u001b[1;33m)\u001b[0m\u001b[1;33m)\u001b[0m\u001b[1;33m\u001b[0m\u001b[0m\n\u001b[0m\u001b[0;32m    363\u001b[0m         \u001b[1;32mreturn\u001b[0m \u001b[0mindex\u001b[0m\u001b[1;33m[\u001b[0m\u001b[1;36m0\u001b[0m\u001b[1;33m]\u001b[0m\u001b[1;33m\u001b[0m\u001b[0m\n\u001b[0;32m    364\u001b[0m \u001b[1;33m\u001b[0m\u001b[0m\n",
      "\u001b[1;31mCatalogError\u001b[0m: 0 sources found for 8!"
     ]
    }
   ],
   "source": [
    "F.terminate_fragment(8, frag)"
   ]
  },
  {
   "cell_type": "code",
   "execution_count": 60,
   "metadata": {
    "collapsed": false
   },
   "outputs": [
    {
     "data": {
      "text/plain": [
       "{'Comment': '',\n",
       " 'Direction': 'Input',\n",
       " 'Flow': 'Polyethylene terephthalate, resin, at plant',\n",
       " 'Name': 'USLCI - PET',\n",
       " 'StageName': '',\n",
       " 'direction': 'Input',\n",
       " 'entityId': '572813aa-b8a3-4034-bff1-ff7e469d8726',\n",
       " 'entityType': 'fragment',\n",
       " 'exchangeValues': {0: None, 1: 1.0},\n",
       " 'externalId': '572813aa-b8a3-4034-bff1-ff7e469d8726',\n",
       " 'flow': '2a6b644c-519c-32e9-a7d8-521c3011df09',\n",
       " 'isBackground': False,\n",
       " 'isBalanceFlow': False,\n",
       " 'isPrivate': False,\n",
       " 'origin': 'fragments',\n",
       " 'parent': 'None',\n",
       " 'tags': {'Comment': '',\n",
       "  'Direction': 'Input',\n",
       "  'Flow': 'Polyethylene terephthalate, resin, at plant',\n",
       "  'Name': 'USLCI - PET',\n",
       "  'StageName': ''},\n",
       " 'terminations': {None: {'entityId': '42550686-82c9-3e19-b47d-fadc0037f6a8',\n",
       "   'source': '/data/GitHub/lca-tools-datafiles/catalogs/uslci_ecospold.json.gz'}}}"
      ]
     },
     "execution_count": 60,
     "metadata": {},
     "output_type": "execute_result"
    }
   ],
   "source": [
    "frag.serialize()"
   ]
  },
  {
   "cell_type": "code",
   "execution_count": 9,
   "metadata": {
    "collapsed": false
   },
   "outputs": [
    {
     "name": "stdout",
     "output_type": "stream",
     "text": [
      "Loading JSON data from /data/GitHub/lca-tools-datafiles/catalogs/uslci_ecospold.json.gz:\n",
      "Found Extension: zip\n",
      "19 new quantity entities added (19 total)\n",
      "4176 new flow entities added (4176 total)\n",
      "701 new process entities added (701 total)\n"
     ]
    }
   ],
   "source": [
    "F.load('USLCI')"
   ]
  },
  {
   "cell_type": "code",
   "execution_count": 25,
   "metadata": {
    "collapsed": false
   },
   "outputs": [
    {
     "data": {
      "text/plain": [
       "['Chemical Manufacturing', 'All Other Basic Organic Chemical Manufacturing']"
      ]
     },
     "execution_count": 25,
     "metadata": {},
     "output_type": "execute_result"
    }
   ],
   "source": [
    "F[0].flows()[0]['Compartment']"
   ]
  },
  {
   "cell_type": "code",
   "execution_count": 22,
   "metadata": {
    "collapsed": false
   },
   "outputs": [],
   "source": [
    "frag = [f for f in F[0].fragments()][0]"
   ]
  },
  {
   "cell_type": "code",
   "execution_count": 23,
   "metadata": {
    "collapsed": false
   },
   "outputs": [
    {
     "data": {
      "text/plain": [
       "['Chemical Manufacturing', 'Petrochemical Manufacturing']"
      ]
     },
     "execution_count": 23,
     "metadata": {},
     "output_type": "execute_result"
    }
   ],
   "source": [
    "frag.flow['Compartment']"
   ]
  },
  {
   "cell_type": "code",
   "execution_count": 26,
   "metadata": {
    "collapsed": false
   },
   "outputs": [
    {
     "name": "stdout",
     "output_type": "stream",
     "text": [
      "Saving foreground\n"
     ]
    }
   ],
   "source": [
    "F.save()"
   ]
  },
  {
   "cell_type": "code",
   "execution_count": 3,
   "metadata": {
    "collapsed": false
   },
   "outputs": [
    {
     "name": "stdout",
     "output_type": "stream",
     "text": [
      "(selecting only choice)\n"
     ]
    },
    {
     "data": {
      "text/plain": [
       "'flow'"
      ]
     },
     "execution_count": 3,
     "metadata": {},
     "output_type": "execute_result"
    }
   ],
   "source": [
    "pick_one(F[0].flows()).entity_type"
   ]
  },
  {
   "cell_type": "code",
   "execution_count": 3,
   "metadata": {
    "collapsed": false
   },
   "outputs": [
    {
     "name": "stdout",
     "output_type": "stream",
     "text": [
      "Create fragment.\n",
      "Name: USLCI - PET\n",
      "Reference flow: Use (F)oreground flow or (S)earch for flow? [FS] [F]: \n",
      "Select Reference flow:\n",
      "(selecting only choice)\n",
      "Direction w.r.t. upstream:\n",
      "\n",
      "Choice Item\n",
      "====== ======================================================================\n",
      "  (I)  Input\n",
      "  (O)  Output\n",
      "------ ----------------------------------------------------------------------\n",
      "Enter choice (or \"None\"): I\n",
      "interface\n",
      "name: USLCI - PET\n",
      "flow: Polyethylene terephthalate, resin, at plant [Chemical Manufacturing, Petrochemical Manufacturing]\n",
      "dirn: Input\n",
      "LcFragment\n",
      "Name: USLCI - PET\n",
      "args:\n",
      "<class 'lcatools.entities.LcFlow'> | Polyethylene terephthalate, resin, at plant [Chemical Manufacturing, Petrochemical Manufacturing]\n",
      "<class 'str'> | Input\n",
      "Polyethylene terephthalate, resin, at plant [Chemical Manufacturing, Petrochemical Manufacturing]\n",
      "<class 'lcatools.entities.LcFlow'>\n"
     ]
    }
   ],
   "source": [
    "F.create_fragment()"
   ]
  },
  {
   "cell_type": "code",
   "execution_count": 19,
   "metadata": {
    "collapsed": false
   },
   "outputs": [],
   "source": [
    "frag = next(fr for fr in F[0]._entities_by_type('fragment'))"
   ]
  },
  {
   "cell_type": "code",
   "execution_count": 20,
   "metadata": {
    "collapsed": false
   },
   "outputs": [
    {
     "data": {
      "text/plain": [
       "{'Comment': '',\n",
       " 'Direction': 'Input',\n",
       " 'Flow': 'Polyethylene terephthalate, resin, at plant',\n",
       " 'Name': 'USLCI - PET',\n",
       " 'StageName': '',\n",
       " 'direction': 'Input',\n",
       " 'entityId': '572813aa-b8a3-4034-bff1-ff7e469d8726',\n",
       " 'entityType': 'fragment',\n",
       " 'exchangeValues': {0: None, 1: 1.0},\n",
       " 'externalId': '572813aa-b8a3-4034-bff1-ff7e469d8726',\n",
       " 'flow': '2a6b644c-519c-32e9-a7d8-521c3011df09',\n",
       " 'isBackground': False,\n",
       " 'isBalanceFlow': False,\n",
       " 'isPrivate': False,\n",
       " 'origin': 'fragments',\n",
       " 'parent': 'None',\n",
       " 'tags': {'Comment': '',\n",
       "  'Direction': 'Input',\n",
       "  'Flow': 'Polyethylene terephthalate, resin, at plant',\n",
       "  'Name': 'USLCI - PET',\n",
       "  'StageName': ''},\n",
       " 'terminations': {}}"
      ]
     },
     "execution_count": 20,
     "metadata": {},
     "output_type": "execute_result"
    }
   ],
   "source": [
    "frag.serialize()"
   ]
  },
  {
   "cell_type": "code",
   "execution_count": 21,
   "metadata": {
    "collapsed": false
   },
   "outputs": [
    {
     "name": "stdout",
     "output_type": "stream",
     "text": [
      "Saving foreground\n"
     ]
    }
   ],
   "source": [
    "F.save()"
   ]
  },
  {
   "cell_type": "code",
   "execution_count": 18,
   "metadata": {
    "collapsed": false
   },
   "outputs": [
    {
     "name": "stdout",
     "output_type": "stream",
     "text": [
      "Loading JSON data from /data/GitHub/lca-tools-datafiles/catalogs/uslci_ecospold.json.gz:\n",
      "Found Extension: zip\n",
      "19 new quantity entities added (19 total)\n",
      "4176 new flow entities added (4176 total)\n",
      "701 new process entities added (701 total)\n"
     ]
    }
   ],
   "source": [
    "F.load('USLCI')"
   ]
  },
  {
   "cell_type": "code",
   "execution_count": null,
   "metadata": {
    "collapsed": true
   },
   "outputs": [],
   "source": []
  },
  {
   "cell_type": "code",
   "execution_count": null,
   "metadata": {
    "collapsed": true
   },
   "outputs": [],
   "source": [
    "F.terminate('USLCI', )"
   ]
  },
  {
   "cell_type": "code",
   "execution_count": 12,
   "metadata": {
    "collapsed": true
   },
   "outputs": [],
   "source": [
    "from lcatools.foreground.fragment_flows import LcFragment"
   ]
  },
  {
   "cell_type": "code",
   "execution_count": 13,
   "metadata": {
    "collapsed": true
   },
   "outputs": [],
   "source": [
    "selected = selected[3]"
   ]
  },
  {
   "cell_type": "code",
   "execution_count": 18,
   "metadata": {
    "collapsed": false
   },
   "outputs": [
    {
     "name": "stdout",
     "output_type": "stream",
     "text": [
      "[ 0] (USLCI) {f} CUTOFF Polyethylene terephthalate, granulate, amorphous, at plant [CUTOFF Flows] \n"
     ]
    }
   ],
   "source": [
    "show([selected])"
   ]
  },
  {
   "cell_type": "code",
   "execution_count": 20,
   "metadata": {
    "collapsed": false
   },
   "outputs": [],
   "source": [
    "frag = LcFragment.new('PETfrom USLCI', selected.entity(), 'Input')"
   ]
  },
  {
   "cell_type": "code",
   "execution_count": 22,
   "metadata": {
    "collapsed": false
   },
   "outputs": [
    {
     "data": {
      "text/plain": [
       "{'_background': False,\n",
       " '_balance_flow': False,\n",
       " '_cached_unit_scores': {},\n",
       " '_conserved_quantity': None,\n",
       " '_d': {'Comment': '',\n",
       "  'Direction': 'Input',\n",
       "  'Flow': 'CUTOFF Polyethylene terephthalate, granulate, amorphous, at plant',\n",
       "  'Name': 'PETfrom USLCI',\n",
       "  'StageName': ''},\n",
       " '_exchange_values': {0: None, 1: 1.0},\n",
       " '_external_ref': None,\n",
       " '_origin': None,\n",
       " '_private': False,\n",
       " '_scenarios': {},\n",
       " '_terminations': {},\n",
       " '_uuid': UUID('e0d04a0e-7307-424b-8bcb-fbaddea01382'),\n",
       " 'direction': 'Input',\n",
       " 'entity_type': 'fragment',\n",
       " 'flow': <lcatools.entities.LcFlow at 0x7f4fe1d07710>,\n",
       " 'observed_magnitude': 1.0,\n",
       " 'reference_entity': None}"
      ]
     },
     "execution_count": 22,
     "metadata": {},
     "output_type": "execute_result"
    }
   ],
   "source": [
    "frag.__dict__"
   ]
  },
  {
   "cell_type": "code",
   "execution_count": 24,
   "metadata": {
    "collapsed": false
   },
   "outputs": [
    {
     "data": {
      "text/plain": [
       "'CUTOFF Polyethylene terephthalate, granulate, amorphous, at plant [CUTOFF Flows]'"
      ]
     },
     "execution_count": 24,
     "metadata": {},
     "output_type": "execute_result"
    }
   ],
   "source": [
    "'%s' % frag.flow"
   ]
  },
  {
   "cell_type": "code",
   "execution_count": 27,
   "metadata": {
    "collapsed": false
   },
   "outputs": [],
   "source": [
    "frag._parent"
   ]
  },
  {
   "cell_type": "code",
   "execution_count": 25,
   "metadata": {
    "collapsed": false
   },
   "outputs": [
    {
     "ename": "AttributeError",
     "evalue": "'NoneType' object has no attribute 'get_uuid'",
     "output_type": "error",
     "traceback": [
      "\u001b[1;31m---------------------------------------------------------------------------\u001b[0m",
      "\u001b[1;31mAttributeError\u001b[0m                            Traceback (most recent call last)",
      "\u001b[1;32m<ipython-input-25-709186b66f0d>\u001b[0m in \u001b[0;36m<module>\u001b[1;34m()\u001b[0m\n\u001b[1;32m----> 1\u001b[1;33m \u001b[0mfrag\u001b[0m\u001b[1;33m.\u001b[0m\u001b[0mserialize\u001b[0m\u001b[1;33m(\u001b[0m\u001b[1;33m)\u001b[0m\u001b[1;33m\u001b[0m\u001b[0m\n\u001b[0m",
      "\u001b[1;32m/data/GitHub/lca-tools/lcatools/foreground/fragment_flows.py\u001b[0m in \u001b[0;36mserialize\u001b[1;34m(self)\u001b[0m\n\u001b[0;32m    232\u001b[0m         j.update({\n\u001b[0;32m    233\u001b[0m             \u001b[1;34m'eXtityId'\u001b[0m\u001b[1;33m:\u001b[0m \u001b[0mself\u001b[0m\u001b[1;33m.\u001b[0m\u001b[0mget_uuid\u001b[0m\u001b[1;33m(\u001b[0m\u001b[1;33m)\u001b[0m\u001b[1;33m,\u001b[0m\u001b[1;33m\u001b[0m\u001b[0m\n\u001b[1;32m--> 234\u001b[1;33m             \u001b[1;34m'pXrent'\u001b[0m\u001b[1;33m:\u001b[0m \u001b[0mself\u001b[0m\u001b[1;33m.\u001b[0m\u001b[0m_parent\u001b[0m\u001b[1;33m.\u001b[0m\u001b[0mget_uuid\u001b[0m\u001b[1;33m(\u001b[0m\u001b[1;33m)\u001b[0m\u001b[1;33m,\u001b[0m\u001b[1;33m\u001b[0m\u001b[0m\n\u001b[0m\u001b[0;32m    235\u001b[0m             \u001b[1;34m'flow'\u001b[0m\u001b[1;33m:\u001b[0m \u001b[0mself\u001b[0m\u001b[1;33m.\u001b[0m\u001b[0mflow\u001b[0m\u001b[1;33m.\u001b[0m\u001b[0mget_uuid\u001b[0m\u001b[1;33m(\u001b[0m\u001b[1;33m)\u001b[0m\u001b[1;33m,\u001b[0m\u001b[1;33m\u001b[0m\u001b[0m\n\u001b[0;32m    236\u001b[0m             \u001b[1;34m'direction'\u001b[0m\u001b[1;33m:\u001b[0m \u001b[0mself\u001b[0m\u001b[1;33m.\u001b[0m\u001b[0mdirection\u001b[0m\u001b[1;33m,\u001b[0m\u001b[1;33m\u001b[0m\u001b[0m\n",
      "\u001b[1;31mAttributeError\u001b[0m: 'NoneType' object has no attribute 'get_uuid'"
     ]
    }
   ],
   "source": [
    "frag.serialize()"
   ]
  }
 ],
 "metadata": {
  "kernelspec": {
   "display_name": "Python 3",
   "language": "python",
   "name": "python3"
  },
  "language_info": {
   "codemirror_mode": {
    "name": "ipython",
    "version": 3
   },
   "file_extension": ".py",
   "mimetype": "text/x-python",
   "name": "python",
   "nbconvert_exporter": "python",
   "pygments_lexer": "ipython3",
   "version": "3.5.1"
  }
 },
 "nbformat": 4,
 "nbformat_minor": 0
}
