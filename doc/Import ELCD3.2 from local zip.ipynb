{
 "cells": [
  {
   "cell_type": "code",
   "execution_count": 1,
   "metadata": {
    "collapsed": true
   },
   "outputs": [],
   "source": [
    "import sys\n",
    "sys.path.append('..')\n",
    "\n",
    "import lcatools\n",
    "import os"
   ]
  },
  {
   "cell_type": "code",
   "execution_count": 2,
   "metadata": {
    "collapsed": false
   },
   "outputs": [],
   "source": [
    "elcd3_file = os.path.join(os.path.expanduser('~'),'Dropbox', 'data', 'ELCD', 'ELCD3.2.zip')\n",
    "catalog_dir = os.path.join(os.path.expanduser('~'), 'GitHub', 'lca-tools-datafiles', 'catalogs')"
   ]
  },
  {
   "cell_type": "code",
   "execution_count": 3,
   "metadata": {
    "collapsed": true
   },
   "outputs": [],
   "source": [
    "from lcatools.providers.ilcd import IlcdArchive"
   ]
  },
  {
   "cell_type": "code",
   "execution_count": 4,
   "metadata": {
    "collapsed": false
   },
   "outputs": [
    {
     "name": "stdout",
     "output_type": "stream",
     "text": [
      "Found Extension: zip\n"
     ]
    }
   ],
   "source": [
    "elcd32 = IlcdArchive(elcd3_file, quiet=True)"
   ]
  },
  {
   "cell_type": "code",
   "execution_count": 5,
   "metadata": {
    "collapsed": false
   },
   "outputs": [
    {
     "data": {
      "text/plain": [
       "['processes/00043bd2-4563-4d73-8df8-b84b5d8902fc.xml',\n",
       " 'processes/00174864-910e-4952-8f02-6ea3a2efa77b.xml',\n",
       " 'processes/001b3cb7-b868-4061-8a91-3e6d7bcc90c6.xml',\n",
       " 'processes/00f9cd63-cba5-4c94-ade3-a4248a9b9dc2.xml',\n",
       " 'processes/028b2915-00a5-4967-b356-34bce19960c3.xml',\n",
       " 'processes/041ec348-4b41-4caa-afe6-8e322e1faa81.xml',\n",
       " 'processes/05169f84-22bb-48aa-a054-6cb5317b7a97.xml',\n",
       " 'processes/053bdcf5-bb2b-4ddd-8662-cbfd8c38ee97.xml',\n",
       " 'processes/05c86203-18c2-4f05-9ff2-a36dd58eed76.xml',\n",
       " 'processes/06b7cba4-aa16-43ab-8031-0719079550be.xml']"
      ]
     },
     "execution_count": 5,
     "metadata": {},
     "output_type": "execute_result"
    }
   ],
   "source": [
    "elcd32.list_objects('Process')[:10]"
   ]
  },
  {
   "cell_type": "code",
   "execution_count": 7,
   "metadata": {
    "collapsed": true
   },
   "outputs": [],
   "source": [
    "elcd32._quiet = True"
   ]
  },
  {
   "cell_type": "code",
   "execution_count": 6,
   "metadata": {
    "collapsed": false,
    "scrolled": true
   },
   "outputs": [
    {
     "name": "stdout",
     "output_type": "stream",
     "text": [
      "Loading /home/b/Dropbox/data/ELCD/ELCD3.2.zip\n",
      "Creating DUMMY flow with name Hazardous waste (underground deposit)\n",
      "18 new quantity entities added (18 total)\n",
      "2343 new flow entities added (2343 total)\n",
      "503 new process entities added (503 total)\n",
      "CPU times: user 23.7 s, sys: 50 ms, total: 23.7 s\n",
      "Wall time: 23.7 s\n"
     ]
    }
   ],
   "source": [
    "%time elcd32.load_all()"
   ]
  },
  {
   "cell_type": "code",
   "execution_count": 7,
   "metadata": {
    "collapsed": false
   },
   "outputs": [],
   "source": [
    "elcd32.write_to_file(os.path.join(catalog_dir, 'elcd_3.2.json.gz'), exchanges=True, gzip=True, values=True)"
   ]
  },
  {
   "cell_type": "code",
   "execution_count": 14,
   "metadata": {
    "collapsed": false
   },
   "outputs": [],
   "source": [
    "# len([elcd32.exchanges())  # need to upgrade to ProcessFlowInterface to do this"
   ]
  },
  {
   "cell_type": "code",
   "execution_count": 10,
   "metadata": {
    "collapsed": true
   },
   "outputs": [],
   "source": [
    "p = elcd32.processes()[21]"
   ]
  },
  {
   "cell_type": "code",
   "execution_count": 15,
   "metadata": {
    "collapsed": false
   },
   "outputs": [
    {
     "data": {
      "text/plain": [
       "[' Input: [5.85e-15 [kg]] olivine (CAS 019086-72-7) [Resources, Resources from ground, Non-renewable material resources from ground]',\n",
       " ' Input: [0.000224 [kg]] antimony (CAS 007440-36-0) [Resources, Resources from ground, Non-renewable element resources from ground]',\n",
       " ' Input: [3.92e-12 [kg]] dinitrogen (CAS 007727-37-9) [Resources, Resources from air, Renewable element resources from air]',\n",
       " ' Input: [0.284 [MJ]] primary energy from solar energy [Resources, Resources from air, Renewable energy resources from air]',\n",
       " ' Input: [0.0672 [kg]] sodium chloride (CAS 007647-14-5) [Resources, Resources from ground, Non-renewable material resources from ground]',\n",
       " ' Input: [1.89e-13 [kg]] rhodium (CAS 007440-16-6) [Resources, Resources from ground, Non-renewable element resources from ground]',\n",
       " ' Input: [1.59e-08 [kg]] tantalum (CAS 007440-25-7) [Resources, Resources from ground, Non-renewable element resources from ground]',\n",
       " ' Input: [9.36e-11 [kg]] carbon (CAS 007782-42-5) [Resources, Resources from ground, Non-renewable material resources from ground]',\n",
       " ' Input: [1.12 [MJ]] uranium (CAS 007440-61-1) [Resources, Resources from ground, Non-renewable energy resources from ground]',\n",
       " ' Input: [9.07e-05 [kg]] dolomite (CAS 069227-00-5) [Resources, Resources from ground, Non-renewable material resources from ground]',\n",
       " ' Input: [3.67 [kg]] air [Resources, Resources from air, Renewable material resources from air]',\n",
       " ' Input: [1.98e-06 [kg]] chromium (CAS 007440-47-3) [Resources, Resources from ground, Non-renewable element resources from ground]',\n",
       " ' Input: [5.8e-13 [kg]] sand [Resources, Resources from ground, Non-renewable material resources from ground]',\n",
       " ' Input: [1.95e-06 [kg]] lead (CAS 007439-92-1) [Resources, Resources from ground, Non-renewable element resources from ground]',\n",
       " ' Input: [-4.65e-07 [kg]] nickel (CAS 007440-02-0) [Resources, Resources from ground, Non-renewable element resources from ground]',\n",
       " ' Input: [0.00242 [kg]] stone [Resources, Resources from ground, Non-renewable material resources from ground]',\n",
       " ' Input: [4e-06 [kg]] magnesite (CAS 000546-93-0) [Resources, Resources from ground, Non-renewable material resources from ground]',\n",
       " ' Input: [3.41e-11 [kg]] cobalt (CAS 007440-48-4) [Resources, Resources from ground, Non-renewable element resources from ground]',\n",
       " ' Input: [2.77e-14 [kg]] barium sulfate (CAS 007727-43-7) [Resources, Resources from ground, Non-renewable material resources from ground]',\n",
       " ' Input: [595 [kg]] river water (CAS 007732-18-5) [Resources, Resources from water, Renewable material resources from water]',\n",
       " ' Input: [-0.000477 [MJ]] peat;  8.4 MJ/kg [Resources, Resources from ground, Non-renewable energy resources from ground]',\n",
       " ' Input: [2.53e-05 [kg]] phosphorus (CAS 007723-14-0) [Resources, Resources from ground, Non-renewable element resources from ground]',\n",
       " ' Input: [3.74e-13 [kg]] ruthenium (CAS 007440-18-8) [Resources, Resources from ground, Non-renewable element resources from ground]',\n",
       " ' Input: [1.06e-06 [kg]] silver (CAS 007440-22-4) [Resources, Resources from ground, Non-renewable element resources from ground]',\n",
       " ' Input: [0.000201 [kg]] bentonite (CAS 001302-78-9) [Resources, Resources from ground, Non-renewable material resources from ground]',\n",
       " ' Input: [5.83e-08 [kg]] gold (CAS 007440-57-5) [Resources, Resources from ground, Non-renewable element resources from ground]',\n",
       " ' Input: [8.05e-13 [kg]] sodium sulfate (CAS 007757-82-6) [Resources, Resources from ground, Non-renewable material resources from ground]',\n",
       " ' Input: [4.94e-10 [MJ]] biomass;  14.7 MJ/kg [Resources, Resources from biosphere, Renewable energy resources from biosphere]',\n",
       " ' Input: [4.74e-05 [kg]] kaolin (CAS 001332-58-7) [Resources, Resources from ground, Non-renewable material resources from ground]',\n",
       " ' Input: [2.96e-05 [kg]] colemanite (CAS 001318-33-8) [Resources, Resources from ground, Non-renewable material resources from ground]',\n",
       " ' Input: [7.7e-14 [kg]] osmium (CAS 007440-04-2) [Resources, Resources from ground, Non-renewable element resources from ground]',\n",
       " ' Input: [0.00112 [kg]] clay (CAS 070694-09-6) [Resources, Resources from ground, Non-renewable material resources from ground]',\n",
       " ' Input: [0.000627 [kg]] magnesium chloride (CAS 007786-30-3) [Resources, Resources from ground, Non-renewable material resources from ground]',\n",
       " ' Input: [6.51e-10 [kg]] talc (CAS 014807-96-6) [Resources, Resources from ground, Non-renewable material resources from ground]',\n",
       " ' Input: [0.495 [MJ]] brown coal;  11.9 MJ/kg [Resources, Resources from ground, Non-renewable energy resources from ground]',\n",
       " ' Input: [1.35 [MJ]] crude oil; 42.3 MJ/kg [Resources, Resources from ground, Non-renewable energy resources from ground]',\n",
       " ' Input: [7.59e-19 [kg]] granite [Resources, Resources from ground, Non-renewable material resources from ground]',\n",
       " ' Input: [1.13e-21 [kg]] sodium nitrate (CAS 007631-99-4) [Resources, Resources from ground, Non-renewable material resources from ground]',\n",
       " ' Input: [2.53 [MJ]] hard coal;  26.3 MJ/kg [Resources, Resources from ground, Non-renewable energy resources from ground]',\n",
       " ' Input: [0.15 [MJ]] primary energy from wind power [Resources, Resources from air, Renewable energy resources from air]',\n",
       " ' Input: [1.63e-05 [kg]] selenium (CAS 007782-49-2) [Resources, Resources from ground, Non-renewable element resources from ground]',\n",
       " ' Input: [3.77e-07 [kg]] basalt [Resources, Resources from ground, Non-renewable material resources from ground]',\n",
       " ' Input: [1.63 [kg]] inert rock [Resources, Resources from ground, Non-renewable material resources from ground]',\n",
       " ' Input: [1.03e-14 [kg]] mercury (CAS 007439-97-6) [Resources, Resources from ground, Non-renewable element resources from ground]',\n",
       " ' Input: [6.8e-05 [kg]] gypsum (CAS 007778-18-9) [Resources, Resources from ground, Non-renewable material resources from ground]',\n",
       " ' Input: [0.0198 [kg]] Steel scrap [Production residues in life cycle, Waste for recovery]',\n",
       " ' Input: [1.3e-11 [MJ]] wood;  14.7 MJ/kg [Resources, Resources from biosphere, Renewable energy resources from biosphere]',\n",
       " ' Input: [9.23e-12 [MJ]] primary energy from waves [Resources, Resources from water, Renewable energy resources from water]',\n",
       " ' Input: [5.99e-09 [kg]] silicon (CAS 007440-21-3) [Resources, Resources from ground, Non-renewable element resources from ground]',\n",
       " ' Input: [0.00796 [kg]] soil [Resources, Resources from ground, Non-renewable material resources from ground]',\n",
       " ' Input: [1.12e-13 [kg]] potassium chloride (CAS 007447-40-7) [Resources, Resources from ground, Non-renewable material resources from ground]',\n",
       " ' Input: [0.000686 [kg]] quartz sand (CAS 014808-60-7) [Resources, Resources from ground, Non-renewable material resources from ground]',\n",
       " ' Input: [5.26e-06 [kg]] pyrite (CAS 001309-36-0) [Resources, Resources from ground, Non-renewable material resources from ground]',\n",
       " ' Input: [0.000182 [kg]] potassium (CAS 007440-09-7) [Resources, Resources from ground, Non-renewable element resources from ground]',\n",
       " ' Input: [-0.0129 [kg]] iron (CAS 007439-89-6) [Resources, Resources from ground, Non-renewable element resources from ground]',\n",
       " ' Input: [-5.99e-05 [kg]] manganese (CAS 007439-96-5) [Resources, Resources from ground, Non-renewable element resources from ground]',\n",
       " ' Input: [2.87e-07 [kg]] raw pumice [Resources, Resources from ground, Non-renewable material resources from ground]',\n",
       " ' Input: [1.89e-12 [kg]] platinum (CAS 007440-06-4) [Resources, Resources from ground, Non-renewable element resources from ground]',\n",
       " ' Input: [0.000303 [kg]] copper (CAS 007440-50-8) [Resources, Resources from ground, Non-renewable element resources from ground]',\n",
       " ' Input: [1.48e-21 [kg]] feldspar (CAS 012168-80-8) [Resources, Resources from ground, Non-renewable material resources from ground]',\n",
       " ' Input: [1.21e-07 [kg]] baryte (CAS 007727-43-7) [Resources, Resources from ground, Non-renewable material resources from ground]',\n",
       " ' Input: [1.33e-14 [kg]] zirconium (CAS 007440-67-7) [Resources, Resources from ground, Non-renewable element resources from ground]',\n",
       " ' Input: [1.4 [kg]] ground water (CAS 007732-18-5) [Resources, Resources from water, Renewable material resources from water]',\n",
       " ' Input: [6.31e-14 [kg]] iridium (CAS 007439-88-5) [Resources, Resources from ground, Non-renewable element resources from ground]',\n",
       " ' Input: [6.77e-09 [kg]] vanadium (CAS 007440-62-2) [Resources, Resources from ground, Non-renewable element resources from ground]',\n",
       " ' Input: [0.0366 [kg]] Iron scrap [Production residues in life cycle, Waste for recovery]',\n",
       " ' Input: [1.54e-07 [kg]] titanium (CAS 007440-32-6) [Resources, Resources from ground, Non-renewable element resources from ground]',\n",
       " ' Input: [0.000388 [kg]] bauxite (CAS 001318-16-7) [Resources, Resources from ground, Non-renewable material resources from ground]',\n",
       " ' Input: [0.0117 [MJ]] primary energy from geothermics [Resources, Resources from ground, Renewable energy resources from ground]',\n",
       " ' Input: [5.42e-09 [kg]] magnesium (CAS 007439-95-4) [Resources, Resources from ground, Non-renewable element resources from ground]',\n",
       " ' Input: [1.51e-06 [kg]] tin (CAS 007440-31-5) [Resources, Resources from ground, Non-renewable element resources from ground]',\n",
       " ' Input: [1.12e-12 [kg]] palladium (CAS 007440-05-3) [Resources, Resources from ground, Non-renewable element resources from ground]',\n",
       " ' Input: [0.00028 [kg]] zinc (CAS 007440-66-6) [Resources, Resources from ground, Non-renewable element resources from ground]',\n",
       " ' Input: [2.83e-12 [kg]] calcium chloride (CAS 010043-52-4) [Resources, Resources from ground, Non-renewable material resources from ground]',\n",
       " ' Input: [1.34e-11 [kg]] sulfur (CAS 007704-34-9) [Resources, Resources from ground, Non-renewable element resources from ground]',\n",
       " ' Input: [4.36e-06 [kg]] fluorspar (CAS 014542-23-5) [Resources, Resources from ground, Non-renewable material resources from ground]',\n",
       " ' Input: [0.00814 [kg]] natural aggregate [Resources, Resources from ground, Non-renewable material resources from ground]',\n",
       " ' Input: [0.175 [MJ]] primary energy from hydro power [Resources, Resources from water, Renewable energy resources from water]',\n",
       " ' Input: [3.4 [kg]] sea water (CAS 007732-18-5) [Resources, Resources from water, Renewable material resources from water]',\n",
       " ' Input: [0.0466 [kg]] calcium carbonate (CAS 000471-34-1) [Resources, Resources from ground, Non-renewable material resources from ground]',\n",
       " ' Input: [3.05e-17 [kg]] slate [Resources, Resources from ground, Non-renewable material resources from ground]',\n",
       " ' Input: [1.38e-07 [kg]] molybdenum (CAS 007439-98-7) [Resources, Resources from ground, Non-renewable element resources from ground]',\n",
       " ' Input: [27 [kg]] lake water (CAS 007732-18-5) [Resources, Resources from water, Renewable material resources from water]',\n",
       " ' Input: [0.0341 [kg]] carbon dioxide (CAS 000124-38-9) [Resources, Resources from air, Renewable material resources from air]',\n",
       " ' Input: [0.000915 [kg]] oxygen (CAS 007782-44-7) [Resources, Resources from air, Renewable element resources from air]',\n",
       " ' Input: [6.94 [MJ]] natural gas;  44.1 MJ/kg [Resources, Resources from ground, Non-renewable energy resources from ground]']"
      ]
     },
     "execution_count": 15,
     "metadata": {},
     "output_type": "execute_result"
    }
   ],
   "source": [
    "[str(x) for x in p.exchanges() if x.direction == 'Input']"
   ]
  }
 ],
 "metadata": {
  "kernelspec": {
   "display_name": "Python 3",
   "language": "python",
   "name": "python3"
  },
  "language_info": {
   "codemirror_mode": {
    "name": "ipython",
    "version": 3
   },
   "file_extension": ".py",
   "mimetype": "text/x-python",
   "name": "python",
   "nbconvert_exporter": "python",
   "pygments_lexer": "ipython3",
   "version": "3.5.1"
  }
 },
 "nbformat": 4,
 "nbformat_minor": 0
}
