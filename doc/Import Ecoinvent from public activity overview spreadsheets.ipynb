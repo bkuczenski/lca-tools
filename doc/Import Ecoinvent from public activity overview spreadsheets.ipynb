{
 "cells": [
  {
   "cell_type": "code",
   "execution_count": 1,
   "metadata": {
    "collapsed": false
   },
   "outputs": [],
   "source": [
    "import sys\n",
    "sys.path.append('..')\n",
    "import os\n",
    "from os.path import expanduser\n",
    "\n",
    "import lcatools"
   ]
  },
  {
   "cell_type": "code",
   "execution_count": 2,
   "metadata": {
    "collapsed": true
   },
   "outputs": [],
   "source": [
    "from lcatools.providers.ecoinvent_spreadsheet import EcoinventSpreadsheet"
   ]
  },
  {
   "cell_type": "code",
   "execution_count": 3,
   "metadata": {
    "collapsed": false
   },
   "outputs": [],
   "source": [
    "ECOINVENT_VERSION = '3.2'\n",
    "\n",
    "SYSTEM_MODELS = ['undefined', 'apos', 'consequential', 'cut-off']\n",
    "\n",
    "datapath = os.path.join(expanduser('~'), 'Dropbox', 'data', 'Ecoinvent', ECOINVENT_VERSION)\n",
    "catalog_dir = os.path.join(os.path.expanduser('~'), 'GitHub', 'lca-tools-datafiles', 'catalogs')"
   ]
  },
  {
   "cell_type": "code",
   "execution_count": 4,
   "metadata": {
    "collapsed": true
   },
   "outputs": [],
   "source": [
    "ei = dict()"
   ]
  },
  {
   "cell_type": "code",
   "execution_count": 5,
   "metadata": {
    "collapsed": true
   },
   "outputs": [],
   "source": [
    "from lcatools.tools import archive_from_json"
   ]
  },
  {
   "cell_type": "code",
   "execution_count": 6,
   "metadata": {
    "collapsed": false
   },
   "outputs": [
    {
     "name": "stdout",
     "output_type": "stream",
     "text": [
      "Loading JSON data from /home/b/GitHub/lca-tools-datafiles/catalogs/ei_lcia.json.gz:\n",
      "**Upstream reference encountered: /data/LCI/Ecoinvent/3.2/undefined\n",
      "\n",
      "710 new quantity entities added (710 total)\n",
      "3255 new flow entities added (3255 total)\n",
      "0 new process entities added (0 total)\n",
      "CPU times: user 3.32 s, sys: 80 ms, total: 3.4 s\n",
      "Wall time: 3.39 s\n"
     ]
    }
   ],
   "source": [
    "%time ei_lcia = archive_from_json(os.path.join(catalog_dir, 'ei_lcia.json.gz'))"
   ]
  },
  {
   "cell_type": "code",
   "execution_count": 7,
   "metadata": {
    "collapsed": false,
    "scrolled": true
   },
   "outputs": [
    {
     "name": "stdout",
     "output_type": "stream",
     "text": [
      "Loading /home/b/Dropbox/data/Ecoinvent/3.2/activity_overview_for_users_3.2_undefined.xlsx\n",
      "Reading elementary exchanges ...\n",
      "Reading intermediate exchanges ...\n",
      "20 new quantity entities added (20 total)\n",
      "Handling elementary exchanges [public spreadsheet]\n",
      "4013 new flow entities added (4013 total)\n",
      "Handling intermediate exchanges [public spreadsheet]\n",
      "2754 new flow entities added (6767 total)\n",
      "Handling activities...\n",
      "Reading activity overview ...\n",
      "13307 new process entities added (13307 total)\n",
      "CPU times: user 57.3 s, sys: 120 ms, total: 57.4 s\n",
      "Wall time: 57.7 s\n"
     ]
    }
   ],
   "source": [
    "model = 'undefined'\n",
    "pub_file = os.path.join(datapath, 'activity_overview_for_users_' + ECOINVENT_VERSION + '_' + model + '.xlsx')\n",
    "ei[model] = EcoinventSpreadsheet(pub_file, internal=False, version=ECOINVENT_VERSION, \n",
    "                                 ns_uuid='544efee9-6651-4c77-813f-b0134f561eb9',\n",
    "                                 upstream=ei_lcia,\n",
    "                                 quiet=True)\n",
    "%time ei[model].load_all()"
   ]
  },
  {
   "cell_type": "code",
   "execution_count": 8,
   "metadata": {
    "collapsed": false
   },
   "outputs": [
    {
     "data": {
      "text/plain": [
       "0"
      ]
     },
     "execution_count": 8,
     "metadata": {},
     "output_type": "execute_result"
    }
   ],
   "source": [
    "F = [f for f in ei_lcia.flows() if f.reference_entity is None]\n",
    "len(F)"
   ]
  },
  {
   "cell_type": "code",
   "execution_count": 9,
   "metadata": {
    "collapsed": false
   },
   "outputs": [
    {
     "name": "stdout",
     "output_type": "stream",
     "text": [
      "20792 entities validated out of 20792\n"
     ]
    },
    {
     "data": {
      "text/plain": [
       "20792"
      ]
     },
     "execution_count": 9,
     "metadata": {},
     "output_type": "execute_result"
    }
   ],
   "source": [
    "ei[model].validate_entity_list()"
   ]
  },
  {
   "cell_type": "code",
   "execution_count": null,
   "metadata": {
    "collapsed": true
   },
   "outputs": [],
   "source": []
  },
  {
   "cell_type": "code",
   "execution_count": 10,
   "metadata": {
    "collapsed": true
   },
   "outputs": [],
   "source": [
    "import itertools"
   ]
  },
  {
   "cell_type": "code",
   "execution_count": 11,
   "metadata": {
    "collapsed": false
   },
   "outputs": [],
   "source": [
    "def group_by(result, group_key):\n",
    "    keys = []\n",
    "    groups = []\n",
    "    for i, j in itertools.groupby(sorted(result, key=group_key),\n",
    "                                  group_key):\n",
    "        keys.append(i)\n",
    "        groups.append(list(j))\n",
    "\n",
    "    return keys, groups\n",
    "\n"
   ]
  },
  {
   "cell_type": "code",
   "execution_count": 12,
   "metadata": {
    "collapsed": false
   },
   "outputs": [],
   "source": [
    "origin, flows_by_origin = group_by(ei[model]._entities_by_type('flow'), lambda x: x.origin)"
   ]
  },
  {
   "cell_type": "code",
   "execution_count": 13,
   "metadata": {
    "collapsed": false
   },
   "outputs": [
    {
     "data": {
      "text/plain": [
       "['/data/LCI/Ecoinvent/3.2/undefined',\n",
       " '/data/LCI/LCIA implementation v3.1 2014_08_13.xlsx',\n",
       " '/home/b/Dropbox/data/Ecoinvent/3.2/activity_overview_for_users_3.2_undefined.xlsx']"
      ]
     },
     "execution_count": 13,
     "metadata": {},
     "output_type": "execute_result"
    }
   ],
   "source": [
    "origin"
   ]
  },
  {
   "cell_type": "code",
   "execution_count": 14,
   "metadata": {
    "collapsed": false
   },
   "outputs": [
    {
     "data": {
      "text/plain": [
       "[1555, 1700, 3512]"
      ]
     },
     "execution_count": 14,
     "metadata": {},
     "output_type": "execute_result"
    }
   ],
   "source": [
    "[len(g) for g in flows_by_origin]"
   ]
  },
  {
   "cell_type": "markdown",
   "metadata": {},
   "source": [
    "from spold -- elementary flows for which characterizations were found"
   ]
  },
  {
   "cell_type": "code",
   "execution_count": 15,
   "metadata": {
    "collapsed": false
   },
   "outputs": [
    {
     "data": {
      "text/plain": [
       "['Sethoxydim [air, non-urban air or from high stacks]',\n",
       " 'Occupation, lake, artificial [natural resource, land]',\n",
       " 'Strontium (CAS 007440-24-6) [soil, agricultural]',\n",
       " 'Pumice, in ground [natural resource, in ground]',\n",
       " 'Basalt, in ground [natural resource, in ground]',\n",
       " 'Cesium-134 [water, surface water]',\n",
       " 'Aerosols, radioactive, unspecified [air, non-urban air or from high stacks]',\n",
       " 'Zinc, ion (CAS 023713-49-7) [water, unspecified]',\n",
       " 'Transformation, to river, artificial [natural resource, land]',\n",
       " 'Antimony (CAS 007440-36-0) [water, ground-]']"
      ]
     },
     "execution_count": 15,
     "metadata": {},
     "output_type": "execute_result"
    }
   ],
   "source": [
    "[str(f) for f in flows_by_origin[0][:10]]"
   ]
  },
  {
   "cell_type": "markdown",
   "metadata": {},
   "source": [
    "from LCIA spreadsheet -- characterized elementary flows not found in the DB"
   ]
  },
  {
   "cell_type": "code",
   "execution_count": 16,
   "metadata": {
    "collapsed": false
   },
   "outputs": [
    {
     "data": {
      "text/plain": [
       "['Hydrocarbons, aliphatic, alkanes, cyclic [air, lower stratosphere + upper troposphere]',\n",
       " 'Ethene, tetrachloro- (CAS 000127-18-4) [water, ground-]',\n",
       " 'Iodine-135 [air, non-urban air or from high stacks]',\n",
       " 'Neptunium-237 [water, surface water]',\n",
       " 'Methane, bromotrifluoro-, Halon 1301 (CAS 000075-63-8) [air, unspecified]',\n",
       " 'Butyrolactone (CAS 000096-48-0) [air, unspecified]',\n",
       " 'Protactinium-234 (CAS 015100-28-4) [water, ground-]',\n",
       " 'Chromium-51 (CAS 014392-02-0) [air, unspecified]',\n",
       " 'Heat, waste [water, ocean]',\n",
       " 'Antimony-125 (CAS 014234-35-6) [water, ground-, long-term]']"
      ]
     },
     "execution_count": 16,
     "metadata": {},
     "output_type": "execute_result"
    }
   ],
   "source": [
    "[str(f) for f in flows_by_origin[1][:10]]"
   ]
  },
  {
   "cell_type": "markdown",
   "metadata": {},
   "source": [
    "from xls spreadsheet- probably mostly intermediate flows"
   ]
  },
  {
   "cell_type": "code",
   "execution_count": 17,
   "metadata": {
    "collapsed": false
   },
   "outputs": [
    {
     "data": {
      "text/plain": [
       "['sodium silicate, solid (CAS 1344-09-8) [Intermediate flow]',\n",
       " 'photovoltaic panel, single-Si wafer [Intermediate flow]',\n",
       " 'AOX, Adsorbable Organic Halogen as Cl [water, ground-]',\n",
       " 'cement, blast furnace slag 81-95%, non-US [Intermediate flow]',\n",
       " 'Lanthanum (CAS 007439-91-0) [air, non-urban air or from high stacks]',\n",
       " 'outside air intake, stainless steel, DN 370 [Intermediate flow]',\n",
       " 'glued laminated timber, for outdoor use [Intermediate flow]',\n",
       " 'Acidity, unspecified (CAS 012408-02-5) [water, ground-, long-term]',\n",
       " 'heptane (CAS 000142-82-5) [Intermediate flow]',\n",
       " 'waste packaging glass, unsorted [Intermediate flow]']"
      ]
     },
     "execution_count": 17,
     "metadata": {},
     "output_type": "execute_result"
    }
   ],
   "source": [
    "[str(f) for f in flows_by_origin[2][:10]]"
   ]
  },
  {
   "cell_type": "markdown",
   "metadata": {},
   "source": [
    "... but not strictly.\n",
    "\n",
    "Let's see those grouped by compartment"
   ]
  },
  {
   "cell_type": "code",
   "execution_count": 18,
   "metadata": {
    "collapsed": false
   },
   "outputs": [],
   "source": [
    "my_origin = 2\n",
    "comp, flows_by_comp = group_by(flows_by_origin[my_origin], lambda x: x['Compartment'][0])"
   ]
  },
  {
   "cell_type": "code",
   "execution_count": 19,
   "metadata": {
    "collapsed": true
   },
   "outputs": [],
   "source": [
    "def table(rows, entries):\n",
    "    for i, r in enumerate(rows):\n",
    "\n",
    "        print('%12d  %s' % (len(entries[i]), r))"
   ]
  },
  {
   "cell_type": "code",
   "execution_count": 24,
   "metadata": {
    "collapsed": false
   },
   "outputs": [
    {
     "name": "stdout",
     "output_type": "stream",
     "text": [
      "        2754  Intermediate flow\n",
      "         226  air\n",
      "           5  economic\n",
      "          41  natural resource\n",
      "          66  soil\n",
      "         420  water\n"
     ]
    }
   ],
   "source": [
    "table(comp, flows_by_comp)"
   ]
  },
  {
   "cell_type": "code",
   "execution_count": 26,
   "metadata": {
    "collapsed": false
   },
   "outputs": [
    {
     "name": "stdout",
     "output_type": "stream",
     "text": [
      "           5  Ecoinvent Spreadsheet Quantity MJ\n",
      "         216  Ecoinvent Spreadsheet Quantity kg\n",
      "           5  Ecoinvent Spreadsheet Quantity m3\n"
     ]
    }
   ],
   "source": [
    "table(*group_by(flows_by_comp[1], lambda x: str(x.reference_entity)))"
   ]
  },
  {
   "cell_type": "code",
   "execution_count": 27,
   "metadata": {
    "collapsed": false
   },
   "outputs": [
    {
     "data": {
      "text/plain": [
       "{'_external_ref': None, '_unitstring': 'kg', '_uuid': None}"
      ]
     },
     "execution_count": 27,
     "metadata": {},
     "output_type": "execute_result"
    }
   ],
   "source": [
    "ei[model]['2a75d3cb-eb9c-3b44-aad4-0bbaa51005d3'].reference_entity.__dict__"
   ]
  },
  {
   "cell_type": "code",
   "execution_count": 28,
   "metadata": {
    "collapsed": false
   },
   "outputs": [
    {
     "data": {
      "text/plain": [
       "['cumulative exergy demand, biomass, renewable energy resources, biomass [LCIA]',\n",
       " 'cumulative energy demand, biomass, renewable energy resources, biomass [LCIA]']"
      ]
     },
     "execution_count": 28,
     "metadata": {},
     "output_type": "execute_result"
    }
   ],
   "source": [
    "[str(x) for x in ei[model].search(entity_type='quantity', Name='mass')]"
   ]
  },
  {
   "cell_type": "code",
   "execution_count": null,
   "metadata": {
    "collapsed": true
   },
   "outputs": [],
   "source": []
  },
  {
   "cell_type": "code",
   "execution_count": null,
   "metadata": {
    "collapsed": true
   },
   "outputs": [],
   "source": []
  },
  {
   "cell_type": "code",
   "execution_count": 29,
   "metadata": {
    "collapsed": false
   },
   "outputs": [
    {
     "data": {
      "text/plain": [
       "{'_characterizations': {'5de72bbd-5a4c-3ab8-b63e-f707f95ceeeb': <lcatools.characterizations.Characterization at 0x7f735c6e75f8>},\n",
       " '_d': {'CasNumber': '',\n",
       "  'Comment': '',\n",
       "  'Compartment': ['Intermediate flow'],\n",
       "  'Name': 'outside air intake, stainless steel, DN 370',\n",
       "  'Synonyms': ''},\n",
       " '_external_ref': 'outside air intake, stainless steel, DN 370',\n",
       " '_origin': '/home/b/Dropbox/data/Ecoinvent/3.2/activity_overview_for_users_3.2_undefined.xlsx',\n",
       " '_ref_quantity_factor': 1.0,\n",
       " '_scenarios': {},\n",
       " '_uuid': UUID('79e8c1a4-fec9-359c-9dd0-91cf86d5201d'),\n",
       " 'entity_type': 'flow',\n",
       " 'reference_entity': <lcatools.entities.LcQuantity at 0x7f735d3a4ef0>}"
      ]
     },
     "execution_count": 29,
     "metadata": {},
     "output_type": "execute_result"
    }
   ],
   "source": [
    "flows_by_comp[0][3].__dict__"
   ]
  },
  {
   "cell_type": "code",
   "execution_count": null,
   "metadata": {
    "collapsed": true
   },
   "outputs": [],
   "source": []
  },
  {
   "cell_type": "code",
   "execution_count": 30,
   "metadata": {
    "collapsed": false
   },
   "outputs": [
    {
     "data": {
      "text/plain": [
       "{'CasNumber': '010028-17-8',\n",
       " 'Comment': '',\n",
       " 'Compartment': ['water', 'unspecified'],\n",
       " 'Formula': '',\n",
       " 'Name': 'Hydrogen-3, Tritium',\n",
       " 'Synonyms': '',\n",
       " 'characterizations': [{'entityType': 'characterization',\n",
       "   'quantity': '0148760a-5482-344b-95fc-e2e7327228ba',\n",
       "   'value': 6.7024e-09},\n",
       "  {'entityType': 'characterization',\n",
       "   'quantity': '01ec7c12-cefc-3c28-abbe-904c026752e9',\n",
       "   'value': 1.1688e-08},\n",
       "  {'entityType': 'characterization',\n",
       "   'quantity': '0755d155-caab-3ecf-9eaf-46d1d595cf8d',\n",
       "   'value': 1.1688e-08},\n",
       "  {'entityType': 'characterization',\n",
       "   'quantity': '0b07f0a8-f0bf-3780-a222-fd50e7ae61a6',\n",
       "   'value': 8.7097e-09},\n",
       "  {'entityType': 'characterization',\n",
       "   'quantity': '0c924ffe-72dc-3e70-a6e5-edcb64d5327a',\n",
       "   'value': 6.338e-11},\n",
       "  {'entityType': 'characterization',\n",
       "   'quantity': '0e8c57b2-c05b-3c01-843c-742398e18016',\n",
       "   'value': 3.4229e-09},\n",
       "  {'entityType': 'characterization',\n",
       "   'quantity': '209c3fc2-99ff-3015-b420-f9ba59015ea3',\n",
       "   'value': 1.0},\n",
       "  {'entityType': 'characterization',\n",
       "   'quantity': '2176194c-73ad-3edd-8027-616fb157165b',\n",
       "   'value': 2.14285714286e-05},\n",
       "  {'entityType': 'characterization',\n",
       "   'quantity': '22d43bc9-c0f9-31a8-a8e5-42576ac9575a',\n",
       "   'value': 2.5333e-08},\n",
       "  {'entityType': 'characterization',\n",
       "   'quantity': '37cd36bc-3613-3249-9542-4444ef53cae2',\n",
       "   'value': 8.7097e-09},\n",
       "  {'entityType': 'characterization',\n",
       "   'quantity': '3bc260a8-c1ff-3daf-91ac-5312315d4f1f',\n",
       "   'value': 3.4229e-09},\n",
       "  {'entityType': 'characterization',\n",
       "   'quantity': '3cfa3fc5-0496-324d-b7b8-84590991be96',\n",
       "   'value': 6.338e-11},\n",
       "  {'entityType': 'characterization',\n",
       "   'isReference': True,\n",
       "   'quantity': '487df68b-4994-4027-8fdc-a4dc298257b7',\n",
       "   'value': 1.0},\n",
       "  {'entityType': 'characterization',\n",
       "   'quantity': '4debc512-b711-3558-ac95-003811c2388e',\n",
       "   'value': 1.1688e-08},\n",
       "  {'entityType': 'characterization',\n",
       "   'quantity': '505100a9-26dd-32ff-b984-4132e8050100',\n",
       "   'value': 6.7024e-09},\n",
       "  {'entityType': 'characterization',\n",
       "   'quantity': '5c8b20ca-3d0d-3e40-9414-19a20542fbf7',\n",
       "   'value': 2.1429e-05},\n",
       "  {'entityType': 'characterization',\n",
       "   'quantity': '5dec3766-b351-3a58-9a34-80a95155d6c6',\n",
       "   'value': 6.9723e-09},\n",
       "  {'entityType': 'characterization',\n",
       "   'quantity': '5f856993-96e0-3f5d-9f39-4978688aa62c',\n",
       "   'value': 1.1688e-08},\n",
       "  {'entityType': 'characterization',\n",
       "   'quantity': '649c3a86-2029-351e-9302-4133f5527d6d',\n",
       "   'value': 8.7097e-09},\n",
       "  {'entityType': 'characterization',\n",
       "   'quantity': '66f7d746-ff32-3df9-bc73-cf5520cf0c7c',\n",
       "   'value': 6.7024e-09},\n",
       "  {'entityType': 'characterization',\n",
       "   'quantity': '7333792b-7c10-3524-be9f-271846f8b36e',\n",
       "   'value': 1.1688e-08},\n",
       "  {'entityType': 'characterization',\n",
       "   'quantity': '839b632f-3f3a-3964-8522-88f0bf49c206',\n",
       "   'value': 8.7097e-09},\n",
       "  {'entityType': 'characterization',\n",
       "   'quantity': '8475ac67-42d6-30e1-b105-34979a1ed842',\n",
       "   'value': 4.2e-05},\n",
       "  {'entityType': 'characterization',\n",
       "   'quantity': '89ffe28f-5875-3a76-96cf-4cca08259b7f',\n",
       "   'value': 2.14285714286e-05},\n",
       "  {'entityType': 'characterization',\n",
       "   'quantity': '8fc62490-0975-3a4f-8bdb-05a81e5651a4',\n",
       "   'value': 6.9723e-09},\n",
       "  {'entityType': 'characterization',\n",
       "   'quantity': '91973885-e5ff-3d08-85a9-db5bcba1521d',\n",
       "   'value': 4.2e-05},\n",
       "  {'entityType': 'characterization',\n",
       "   'quantity': '92a57842-db21-37fc-8dd2-c21bd8fdbf6d',\n",
       "   'value': 2.1429e-05},\n",
       "  {'entityType': 'characterization',\n",
       "   'quantity': '9b7eaffa-f0b5-36b1-8452-d5ab9d789e49',\n",
       "   'value': 3.4229e-09},\n",
       "  {'entityType': 'characterization',\n",
       "   'quantity': '9ed871ef-bd89-32b9-aeae-b7fc37d35180',\n",
       "   'value': 4.5e-13},\n",
       "  {'entityType': 'characterization',\n",
       "   'quantity': 'a2c95284-c32c-3b59-8e85-911b2ad575de',\n",
       "   'value': 8.7097e-09},\n",
       "  {'entityType': 'characterization',\n",
       "   'quantity': 'aa18caeb-12ef-3550-b652-a84781bc804d',\n",
       "   'value': 3.4229e-09},\n",
       "  {'entityType': 'characterization',\n",
       "   'quantity': 'b2a61239-661b-35dd-a2ca-8bb5faf9d4b5',\n",
       "   'value': 3.4229e-09},\n",
       "  {'entityType': 'characterization',\n",
       "   'quantity': 'b4487459-5bd6-3b5d-8107-6091a5b0f357',\n",
       "   'value': 4.5e-13},\n",
       "  {'entityType': 'characterization',\n",
       "   'quantity': 'bb0270a4-f444-31d5-8b87-74a67600874a',\n",
       "   'value': 1.1688e-08},\n",
       "  {'entityType': 'characterization',\n",
       "   'quantity': 'bb5087b8-cc9d-3252-b58d-88b3ee34c7f5',\n",
       "   'value': 2.5333e-08},\n",
       "  {'entityType': 'characterization',\n",
       "   'quantity': 'c99a4158-df02-3b27-a117-dba1a80817ce',\n",
       "   'value': 2.5333e-08},\n",
       "  {'entityType': 'characterization',\n",
       "   'quantity': 'd09d5ff6-1196-3cf8-856a-5f623f8e281f',\n",
       "   'value': 3.4229e-09},\n",
       "  {'entityType': 'characterization',\n",
       "   'quantity': 'd143e87c-7880-3f4a-b979-a53fce59fa46',\n",
       "   'value': 6.9723e-09},\n",
       "  {'entityType': 'characterization',\n",
       "   'quantity': 'd243f6fd-c7ec-3ca1-8b40-9674ecff68d6',\n",
       "   'value': 6.9723e-09},\n",
       "  {'entityType': 'characterization',\n",
       "   'quantity': 'dc0a2cb2-69ce-3644-8634-5d404b21ccb9',\n",
       "   'value': 6.9723e-09},\n",
       "  {'entityType': 'characterization',\n",
       "   'quantity': 'ef6b954f-fd88-3b1e-898b-788e7830046f',\n",
       "   'value': 6.9723e-09},\n",
       "  {'entityType': 'characterization',\n",
       "   'quantity': 'f38771f6-8491-3c83-95e5-36353aa7499a',\n",
       "   'value': 2.1429e-05},\n",
       "  {'entityType': 'characterization',\n",
       "   'quantity': 'fc767880-e1aa-37ee-b417-d27d52f54823',\n",
       "   'value': 8.7097e-09}],\n",
       " 'entityId': '5f4f97a7-8ea1-300d-8634-da6af1178040',\n",
       " 'entityType': 'flow',\n",
       " 'externalId': 'Hydrogen-3, Tritium, water, unspecified',\n",
       " 'origin': '/data/LCI/LCIA implementation v3.1 2014_08_13.xlsx'}"
      ]
     },
     "execution_count": 30,
     "metadata": {},
     "output_type": "execute_result"
    }
   ],
   "source": [
    "ei[model].flows()[47].serialize(characterizations=True, values=True)"
   ]
  },
  {
   "cell_type": "code",
   "execution_count": 31,
   "metadata": {
    "collapsed": false
   },
   "outputs": [
    {
     "name": "stdout",
     "output_type": "stream",
     "text": [
      "Loading /home/b/Dropbox/data/Ecoinvent/3.2/activity_overview_for_users_3.2_apos.xlsx\n",
      "Reading elementary exchanges ...\n",
      "Reading intermediate exchanges ...\n",
      "20 new quantity entities added (20 total)\n",
      "Handling elementary exchanges [public spreadsheet]\n",
      "4013 new flow entities added (4013 total)\n",
      "Handling intermediate exchanges [public spreadsheet]\n",
      "2754 new flow entities added (6767 total)\n",
      "Handling activities...\n",
      "Reading activity overview ...\n",
      "11420 new process entities added (11420 total)\n",
      "Loading /home/b/Dropbox/data/Ecoinvent/3.2/activity_overview_for_users_3.2_consequential.xlsx\n",
      "Reading elementary exchanges ...\n",
      "Reading intermediate exchanges ...\n",
      "20 new quantity entities added (20 total)\n",
      "Handling elementary exchanges [public spreadsheet]\n",
      "4013 new flow entities added (4013 total)\n",
      "Handling intermediate exchanges [public spreadsheet]\n",
      "2754 new flow entities added (6767 total)\n",
      "Handling activities...\n",
      "Reading activity overview ...\n",
      "11468 new process entities added (11468 total)\n",
      "Loading /home/b/Dropbox/data/Ecoinvent/3.2/activity_overview_for_users_3.2_cut-off.xlsx\n",
      "Reading elementary exchanges ...\n",
      "Reading intermediate exchanges ...\n",
      "20 new quantity entities added (20 total)\n",
      "Handling elementary exchanges [public spreadsheet]\n",
      "4013 new flow entities added (4013 total)\n",
      "Handling intermediate exchanges [public spreadsheet]\n",
      "2754 new flow entities added (6767 total)\n",
      "Handling activities...\n",
      "Reading activity overview ...\n",
      "11578 new process entities added (11578 total)\n"
     ]
    }
   ],
   "source": [
    "for model in SYSTEM_MODELS[1:]:\n",
    "    pub_file = os.path.join(datapath, 'activity_overview_for_users_' + ECOINVENT_VERSION + '_' + model + '.xlsx')\n",
    "    ei[model] = EcoinventSpreadsheet(pub_file, internal=False, upstream=ei['undefined'], version=ECOINVENT_VERSION, ns_uuid='544efee9-6651-4c77-813f-b0134f561eb9', quiet=True)\n",
    "    ei[model].load_all()\n",
    "    "
   ]
  },
  {
   "cell_type": "code",
   "execution_count": 32,
   "metadata": {
    "collapsed": false
   },
   "outputs": [
    {
     "name": "stdout",
     "output_type": "stream",
     "text": [
      "        1555  /data/LCI/Ecoinvent/3.2/undefined\n",
      "        1700  /data/LCI/LCIA implementation v3.1 2014_08_13.xlsx\n",
      "        3512  /home/b/Dropbox/data/Ecoinvent/3.2/activity_overview_for_users_3.2_undefined.xlsx\n"
     ]
    }
   ],
   "source": [
    "table(*group_by(ei[model]._entities_by_type('flow'), lambda x: x.origin))"
   ]
  },
  {
   "cell_type": "code",
   "execution_count": 33,
   "metadata": {
    "collapsed": false
   },
   "outputs": [
    {
     "data": {
      "text/plain": [
       "['/data/LCI/Ecoinvent/3.2/undefined',\n",
       " '/data/LCI/LCIA implementation v3.1 2014_08_13.xlsx',\n",
       " '/home/b/Dropbox/data/Ecoinvent/3.2/activity_overview_for_users_3.2_undefined.xlsx']"
      ]
     },
     "execution_count": 33,
     "metadata": {},
     "output_type": "execute_result"
    }
   ],
   "source": [
    "origin, flows_by_origin = group_by(ei[model]._entities_by_type('flow'), lambda x: x.origin)\n",
    "origin"
   ]
  },
  {
   "cell_type": "markdown",
   "metadata": {},
   "source": [
    "note: no flows from later spreadsheets"
   ]
  },
  {
   "cell_type": "code",
   "execution_count": 34,
   "metadata": {
    "collapsed": false
   },
   "outputs": [
    {
     "name": "stdout",
     "output_type": "stream",
     "text": [
      "        9491  /home/b/Dropbox/data/Ecoinvent/3.2/activity_overview_for_users_3.2_apos.xlsx\n",
      "        1929  /home/b/Dropbox/data/Ecoinvent/3.2/activity_overview_for_users_3.2_undefined.xlsx\n"
     ]
    }
   ],
   "source": [
    "table(*group_by(ei['apos']._entities_by_type('process'), lambda x: x.origin))\n"
   ]
  },
  {
   "cell_type": "code",
   "execution_count": 35,
   "metadata": {
    "collapsed": false
   },
   "outputs": [],
   "source": [
    "for k, v in ei.items():\n",
    "    fname = 'ecoinvent_%s_%s_xlsx.json.gz' % (ECOINVENT_VERSION, k)\n",
    "    #if k == 'undefined':\n",
    "    #    v.write_to_file(os.path.join(catalog_dir, fname), exchanges=True, gzip=True, characterizations=True, values=True)\n",
    "    #else:\n",
    "    v.write_to_file(os.path.join(catalog_dir, fname), exchanges=True, gzip=True, characterizations=False, values=False)"
   ]
  },
  {
   "cell_type": "code",
   "execution_count": 36,
   "metadata": {
    "collapsed": false
   },
   "outputs": [
    {
     "data": {
      "text/plain": [
       "{'apos': <lcatools.providers.ecoinvent_spreadsheet.EcoinventSpreadsheet at 0x7f735b4e9128>,\n",
       " 'consequential': <lcatools.providers.ecoinvent_spreadsheet.EcoinventSpreadsheet at 0x7f735ca21b70>,\n",
       " 'cut-off': <lcatools.providers.ecoinvent_spreadsheet.EcoinventSpreadsheet at 0x7f735a0239e8>,\n",
       " 'undefined': <lcatools.providers.ecoinvent_spreadsheet.EcoinventSpreadsheet at 0x7f735b4e9240>}"
      ]
     },
     "execution_count": 36,
     "metadata": {},
     "output_type": "execute_result"
    }
   ],
   "source": [
    "ei"
   ]
  },
  {
   "cell_type": "code",
   "execution_count": 37,
   "metadata": {
    "collapsed": true
   },
   "outputs": [],
   "source": [
    "def process_set(arch):\n",
    "    p = set()\n",
    "    for j in arch.processes():\n",
    "        p.add(j.get_external_ref())\n",
    "    return p\n",
    "        \n",
    "def compare(a1, a2):\n",
    "    s1 = process_set(a1)\n",
    "    s2 = process_set(a2)\n",
    "    return s1.intersection(s2)\n"
   ]
  },
  {
   "cell_type": "code",
   "execution_count": 38,
   "metadata": {
    "collapsed": false
   },
   "outputs": [
    {
     "data": {
      "text/plain": [
       "1929"
      ]
     },
     "execution_count": 38,
     "metadata": {},
     "output_type": "execute_result"
    }
   ],
   "source": [
    "len(compare(ei['apos'], ei['undefined']))"
   ]
  },
  {
   "cell_type": "code",
   "execution_count": 39,
   "metadata": {
    "collapsed": false
   },
   "outputs": [
    {
     "data": {
      "text/plain": [
       "11420"
      ]
     },
     "execution_count": 39,
     "metadata": {},
     "output_type": "execute_result"
    }
   ],
   "source": [
    "len(set([p.get_uuid() for p in ei['apos'].processes()]))"
   ]
  },
  {
   "cell_type": "code",
   "execution_count": 21,
   "metadata": {
    "collapsed": false
   },
   "outputs": [],
   "source": [
    "p = ei['apos'].search('00420798')[0]"
   ]
  },
  {
   "cell_type": "code",
   "execution_count": 22,
   "metadata": {
    "collapsed": false
   },
   "outputs": [
    {
     "data": {
      "text/plain": [
       "{'Comment': 'industrial gas power//fossil fuels',\n",
       " 'IsicClass': 'Electric power generation, transmission and distribution',\n",
       " 'IsicNumber': '3510',\n",
       " 'Name': 'treatment of blast furnace gas, in power plant',\n",
       " 'SpatialScope': 'BR',\n",
       " 'TechnologyLevel': 'Current',\n",
       " 'TemporalScope': {'begin': '1980-01-01', 'end': '2015-12-31'},\n",
       " 'entityId': '00420798-e9d1-4de9-8745-09bd85f31db8',\n",
       " 'entityType': 'process',\n",
       " 'exchanges': [{'direction': 'Output',\n",
       "   'flow': '58271de9-51c4-3b86-ae82-98c2b46280ec',\n",
       "   'isReference': True},\n",
       "  {'direction': 'Output',\n",
       "   'flow': 'c9655b4d-25ab-3e72-93ab-beb16f577e47',\n",
       "   'isReference': True},\n",
       "  {'direction': 'Output',\n",
       "   'flow': 'd804f912-5b47-31b5-a0bb-aaa4c5e378c4',\n",
       "   'isReference': True}],\n",
       " 'externalId': '00420798-e9d1-4de9-8745-09bd85f31db8',\n",
       " 'origin': '/home/b/Dropbox/data/Ecoinvent/3.2/activity_overview_for_users_3.2_undefined.xlsx'}"
      ]
     },
     "execution_count": 22,
     "metadata": {},
     "output_type": "execute_result"
    }
   ],
   "source": [
    "p.serialize(exchanges=True)"
   ]
  },
  {
   "cell_type": "code",
   "execution_count": 26,
   "metadata": {
    "collapsed": false
   },
   "outputs": [],
   "source": [
    "model = 'apos'\n",
    "zip_dir = os.path.join(os.path.expanduser('~'), 'Dropbox', 'data', 'Ecoinvent', ECOINVENT_VERSION)\n",
    "catalog_dir = os.path.join(os.path.expanduser('~'), 'GitHub', 'lca-tools-datafiles', 'catalogs')\n",
    "\n",
    "spold = 'current_Version_' + ECOINVENT_VERSION + '_' + model + '_ecoSpold02.7z'"
   ]
  },
  {
   "cell_type": "code",
   "execution_count": 27,
   "metadata": {
    "collapsed": true
   },
   "outputs": [],
   "source": [
    "ei_spold = dict()"
   ]
  },
  {
   "cell_type": "code",
   "execution_count": 28,
   "metadata": {
    "collapsed": true
   },
   "outputs": [],
   "source": [
    "from lcatools.providers.ecospold2 import EcospoldV2Archive"
   ]
  },
  {
   "cell_type": "code",
   "execution_count": 29,
   "metadata": {
    "collapsed": false
   },
   "outputs": [
    {
     "name": "stdout",
     "output_type": "stream",
     "text": [
      "Found Extension: 7z\n"
     ]
    }
   ],
   "source": [
    "ei_spold[model] = EcospoldV2Archive(os.path.join(zip_dir,spold), prefix='datasets', upstream=ei[model])"
   ]
  },
  {
   "cell_type": "code",
   "execution_count": 31,
   "metadata": {
    "collapsed": false
   },
   "outputs": [],
   "source": [
    "for k in ei_spold[model].list_datasets('00420798'):\n",
    "    ei_spold[model].retrieve_or_fetch_entity(k)"
   ]
  }
 ],
 "metadata": {
  "kernelspec": {
   "display_name": "Python 3",
   "language": "python",
   "name": "python3"
  },
  "language_info": {
   "codemirror_mode": {
    "name": "ipython",
    "version": 3
   },
   "file_extension": ".py",
   "mimetype": "text/x-python",
   "name": "python",
   "nbconvert_exporter": "python",
   "pygments_lexer": "ipython3",
   "version": "3.5.1"
  }
 },
 "nbformat": 4,
 "nbformat_minor": 0
}
