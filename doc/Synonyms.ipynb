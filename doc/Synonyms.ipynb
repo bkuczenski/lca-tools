{
 "cells": [
  {
   "cell_type": "code",
   "execution_count": 1,
   "metadata": {
    "collapsed": true
   },
   "outputs": [],
   "source": [
    "import sys\n",
    "import os\n",
    "import json\n",
    "import gzip\n",
    "import re\n",
    "sys.path.append('..')\n",
    "\n",
    "import lcatools"
   ]
  },
  {
   "cell_type": "code",
   "execution_count": 2,
   "metadata": {
    "collapsed": false
   },
   "outputs": [],
   "source": [
    "from lcatools.flowdb.synlist import Flowables, find_cas, cas_regex"
   ]
  },
  {
   "cell_type": "code",
   "execution_count": 2,
   "metadata": {
    "collapsed": true
   },
   "outputs": [],
   "source": [
    "from lcatools.flowdb.create_synonyms import create_new_synonym_list, ilcd_flow_generator, synonyms_from_ilcd_flow"
   ]
  },
  {
   "cell_type": "code",
   "execution_count": 4,
   "metadata": {
    "collapsed": false
   },
   "outputs": [],
   "source": [
    "g = ilcd_flow_generator()"
   ]
  },
  {
   "cell_type": "code",
   "execution_count": 5,
   "metadata": {
    "collapsed": false
   },
   "outputs": [
    {
     "name": "stdout",
     "output_type": "stream",
     "text": [
      "Found Extension: zip\n"
     ]
    }
   ],
   "source": [
    "f = next(g)"
   ]
  },
  {
   "cell_type": "code",
   "execution_count": 6,
   "metadata": {
    "collapsed": false
   },
   "outputs": [],
   "source": [
    "s = synonyms_from_ilcd_flow(f)"
   ]
  },
  {
   "cell_type": "code",
   "execution_count": 7,
   "metadata": {
    "collapsed": false
   },
   "outputs": [
    {
     "data": {
      "text/plain": [
       "'000142-83-6'"
      ]
     },
     "execution_count": 7,
     "metadata": {},
     "output_type": "execute_result"
    }
   ],
   "source": [
    "find_cas(s)"
   ]
  },
  {
   "cell_type": "code",
   "execution_count": 23,
   "metadata": {
    "collapsed": true
   },
   "outputs": [],
   "source": [
    "local_cas_regex = re.compile('[0-9]{,6}-?[0-9]{2}-?[0-9]')\n"
   ]
  },
  {
   "cell_type": "code",
   "execution_count": 24,
   "metadata": {
    "collapsed": true
   },
   "outputs": [],
   "source": [
    "def l_find_cas(syns):\n",
    "    found = set()\n",
    "    for i in syns:\n",
    "        if bool(local_cas_regex.match(i)):\n",
    "            found.add(i)\n",
    "    if len(found) > 1:\n",
    "        raise DuplicateCasError('Multiple CAS numbers found: %s' % found)\n",
    "    if len(found) == 0:\n",
    "        return None\n",
    "    return found.pop()"
   ]
  },
  {
   "cell_type": "code",
   "execution_count": null,
   "metadata": {
    "collapsed": true
   },
   "outputs": [],
   "source": [
    "cas_regex.match"
   ]
  },
  {
   "cell_type": "code",
   "execution_count": 25,
   "metadata": {
    "collapsed": false
   },
   "outputs": [
    {
     "data": {
      "text/plain": [
       "'000142-83-6'"
      ]
     },
     "execution_count": 25,
     "metadata": {},
     "output_type": "execute_result"
    }
   ],
   "source": [
    "l_find_cas(s)"
   ]
  },
  {
   "cell_type": "code",
   "execution_count": 3,
   "metadata": {
    "collapsed": false,
    "scrolled": true
   },
   "outputs": [
    {
     "name": "stdout",
     "output_type": "stream",
     "text": [
      "Found Extension: 7z\n",
      "Merging\n",
      "## {'007440-29-1', 'Thorium'} \n",
      "into synonym set containing\n",
      "## {'Thorium-232'}\n",
      "Merging\n",
      "## {'Uranium', '007440-61-1'} \n",
      "into synonym set containing\n",
      "## {'Uranium-238'}\n",
      "Conflicting CAS: incoming 60207-90-1; existing [060207-90-1] = 121\n",
      "Merging\n",
      "## {'175013-18-0', 'Pyraclostrobin (prop)', 'methyl N-{2-[1-(4-chlorophenyl)pyrazol-3-yloxymethyl]phenyl}(N-methoxy)carbamate'} \n",
      "into synonym set containing\n",
      "## {'Pyraclostrobin'}\n",
      "Conflicting CAS: incoming 107534-96-3; existing [080443-41-0] = 347\n",
      "Found Extension: zip\n",
      "Conflicting CAS: incoming 003653-48-3; existing [000094-74-6] = 119\n",
      "Conflicting CAS: incoming 065381-09-1; existing [070693-30-0] = 813\n",
      "Merging\n",
      "## {'Uranium alpha'} \n",
      "into synonym set containing\n",
      "## {'Uranium', 'Uranium, in ground', '007440-61-1', 'Uranium-238'}\n",
      "Conflicting CAS: incoming 000133-90-4; existing [001076-46-6] = 937\n",
      "Conflicting CAS: incoming 000149-30-4; existing [002492-26-4] = 821\n",
      "Conflicting CAS: incoming 000156-60-5; existing [000156-59-2] = 1126\n",
      "Conflicting CAS: incoming 000319-84-6; existing [000319-86-8] = 802\n",
      "Conflicting CAS: incoming 000319-85-7; existing [000319-86-8] = 802\n",
      "Conflicting CAS: incoming 000065-30-5; existing [000156-51-4] = 1125\n",
      "Conflicting CAS: incoming 025321-22-6; existing [000095-50-1] = 15\n",
      "Conflicting CAS: incoming 000054-11-5; existing [000065-30-5] = 1197\n",
      "Conflicting CAS: incoming 067564-91-4; existing [067306-03-0] = 554\n",
      "1000 data sets completed\n",
      "Conflicting CAS: incoming 000091-22-5; existing [000116-06-3] = 625\n",
      "Conflicting CAS: incoming 079127-80-3; existing [072490-01-8] = 1236\n",
      "Conflicting CAS: incoming 061949-77-7; existing [061949-76-6] = 1014\n",
      "Conflicting CAS: incoming 002163-79-3; existing [018530-56-8] = 993\n",
      "Conflicting CAS: incoming 000076-03-9; existing [000650-51-1] = 1199\n",
      "Conflicting CAS: incoming 081412-43-3; existing [024602-86-6] = 965\n",
      "Conflicting CAS: incoming 021436-97-5; existing [000137-17-7] = 1091\n",
      "Conflicting CAS: incoming 013463-41-7; existing [015922-78-8] = 1240\n",
      "Conflicting CAS: incoming 008003-34-7; existing [000121-29-9] = 1222\n",
      "Conflicting CAS: incoming 000100-44-7; existing [025168-05-2] = 1524\n",
      "2000 data sets completed\n",
      "Conflicting CAS: incoming 000105-76-0; existing [000105-75-9] = 1026\n",
      "Conflicting CAS: incoming 000107-15-3; existing [000117-15-3] = 181\n",
      "Merging\n",
      "## {'052315-07-8', 'Cypermethrin'} \n",
      "into synonym set containing\n",
      "## {'Zeta-cypermethrin'}\n",
      "Conflicting CAS: incoming 007688-21-3; existing [025264-93-1] = 1373\n",
      "Merging\n",
      "## {'ARS', 'Gray arsenic', 'Arsenic compounds', 'Arsenic, inorganic', 'Arsenous hydride', 'Arsenic hydride (AsH3)', 'Arsenic, organic compounds', 'Metallic arsenic', '33As', 'AC1NSE3M', 'Arsenicals', 'arsenico', 'Arseniuretted hydrogen', 'arsenic', 'Colloidal arsenic', 'Arsenic, water-soluble compounds, n.o.s', '08a91e70-3ddc-11dd-91d6-0050c2490048', 'Arsenic, water-soluble compounds, n.o.s.', 'arsenicum', 'Arsenic and arsenic compounds', 'LTBB003188', 'Grey arsenic', 'Arsenowodor', 'Hydrogen arsenide', 'Arsenic, elemental', 'Arsenic hydride', 'Arsen', 'Arsenic-75', 'Agent SA', 'Arsen [German,Polish]', 'Arsenic and certain arsenic compounds', 'Arsenic Black'} \n",
      "into synonym set containing\n",
      "## {'007784-42-1', 'hydrogen arsenide', 'Arsane', 'Monoarsan', 'Arsenwasserstoff', 'Arsine'}\n",
      "Conflicting CAS: incoming 000056-81-5; existing [065381-09-1] = 978\n",
      "Conflicting CAS: incoming 000110-16-7; existing [000059-33-6] = 1585\n",
      "3000 data sets completed\n",
      "Conflicting CAS: incoming 001327-53-3; existing [022541-54-4] = 1234\n",
      "Conflicting CAS: incoming 001302-76-7; existing [007440-23-5] = 1739\n",
      "Conflicting CAS: incoming 026523-64-8; existing [000076-13-1] = 282\n",
      "Conflicting CAS: incoming 000532-32-1; existing [000065-85-0] = 1420\n",
      "Conflicting CAS: incoming 000540-59-0; existing [000156-59-2] = 1126\n",
      "Conflicting CAS: incoming 000121-14-2; existing [025321-14-6] = 1525\n",
      "Conflicting CAS: incoming 026471-62-5; existing [000584-84-9] = 1490\n",
      "Conflicting CAS: incoming 005742-19-8; existing [000094-75-7] = 296\n",
      "Conflicting CAS: incoming 005742-17-6; existing [038641-94-0] = 1710\n",
      "Conflicting CAS: incoming 039156-41-7; existing [000156-51-4] = 1125\n",
      "Conflicting CAS: incoming 075104-43-7; existing [000556-22-9] = 1237\n",
      "Conflicting CAS: incoming 072254-58-1; existing [000556-22-9] = 1237\n",
      "4000 data sets completed\n",
      "Conflicting CAS: incoming 000584-79-2; existing [028434-00-6] = 914\n",
      "Conflicting CAS: incoming 000999-81-5; existing [007003-89-6] = 571\n",
      "Conflicting CAS: incoming 000636-21-5; existing [000095-53-4] = 1002\n",
      "Conflicting CAS: incoming 020265-96-7; existing [000106-47-8] = 1651\n",
      "Conflicting CAS: incoming 000488-41-5; existing [010318-26-0] = 2237\n",
      "5000 data sets completed\n",
      "Conflicting CAS: incoming 000112-65-2; existing [000556-22-9] = 1237\n",
      "Conflicting CAS: incoming 060789-82-4; existing [004080-31-3] = 870\n",
      "Conflicting CAS: incoming 002164-07-0; existing [000145-73-3] = 624\n",
      "Conflicting CAS: incoming 000107-83-5; existing [000096-14-0] = 40\n",
      "Conflicting CAS: incoming 000677-56-5; existing [138495-42-8] = 944\n",
      "Conflicting CAS: incoming 068085-85-8; existing [091465-08-6] = 349\n",
      "Conflicting CAS: incoming 000051-21-8; existing [000320-67-2] = 1154\n",
      "Conflicting CAS: incoming 010034-93-2; existing [000302-01-2] = 1143\n",
      "Conflicting CAS: incoming 001868-53-7; existing [001511-62-2] = 1566\n",
      "6000 data sets completed\n",
      "Conflicting CAS: incoming 000051-75-2; existing [000126-85-2] = 1069\n",
      "Conflicting CAS: incoming 000106-49-0; existing [000540-23-8] = 1527\n",
      "Conflicting CAS: incoming 000101-77-9; existing [013552-44-8] = 1570\n",
      "Conflicting CAS: incoming 000534-13-4; existing [061805-96-7] = 1008\n",
      "Conflicting CAS: incoming 005103-71-9; existing [012789-03-6] = 1663\n",
      "Conflicting CAS: incoming 015263-53-3; existing [015263-52-2] = 849\n",
      "Conflicting CAS: incoming 001984-06-1; existing [070693-30-0] = 813\n",
      "Conflicting CAS: incoming 000086-40-8; existing [008048-52-0] = 1209\n",
      "Conflicting CAS: incoming 022042-96-2; existing [015827-60-8] = 938\n",
      "Conflicting CAS: incoming 005103-74-2; existing [012789-03-6] = 1663\n",
      "Conflicting CAS: incoming 014808-60-7; existing [068855-54-9] = 1926\n",
      "7000 data sets completed\n",
      "Conflicting CAS: incoming 007440-14-4; existing [013982-63-3] = 191\n",
      "Conflicting CAS: incoming 000589-34-4; existing [000589-38-8] = 1768\n",
      "Conflicting CAS: incoming 000626-93-7; existing [000108-11-2] = 695\n",
      "Conflicting CAS: incoming 000104-40-5; existing [025154-52-3] = 1474\n",
      "Conflicting CAS: incoming 000156-54-7; existing [000107-92-6] = 1868\n",
      "Conflicting CAS: incoming 002074-50-2; existing [004685-14-7] = 302\n",
      "Conflicting CAS: incoming 053469-21-9; existing [002437-79-8] = 1409\n",
      "Conflicting CAS: incoming 000090-04-0; existing [000134-29-2] = 1085\n",
      "Conflicting CAS: incoming 001402-68-2; existing [001162-65-8] = 2081\n",
      "Conflicting CAS: incoming 000919-86-8; existing [008022-00-2] = 2776\n",
      "Conflicting CAS: incoming 006062-26-6; existing [000094-81-5] = 273\n",
      "Conflicting CAS: incoming 022537-51-5; existing [007440-36-0] = 72\n",
      "Conflicting CAS: incoming 026002-80-2; existing [061949-76-6] = 1014\n",
      "Conflicting CAS: incoming 001420-04-8; existing [000050-65-7] = 2459\n",
      "Conflicting CAS: incoming 000075-39-8; existing [000135-20-6] = 1086\n",
      "Conflicting CAS: incoming 000583-57-3; existing [002207-01-4] = 1493\n",
      "Conflicting CAS: incoming 028434-01-7; existing [026002-80-2] = 2918\n",
      "Conflicting CAS: incoming 000128-44-9; existing [000081-07-2] = 2472\n",
      "Conflicting CAS: incoming 007773-06-0; existing [005329-14-6] = 1974\n",
      "Conflicting CAS: incoming 000064-02-8; existing [000060-00-4] = 1728\n",
      "Conflicting CAS: incoming 000057-74-9; existing [012789-03-6] = 1663\n",
      "Conflicting CAS: incoming 009006-42-2; existing [012122-67-7] = 1788\n",
      "Conflicting CAS: incoming 000090-12-0; existing [001321-94-4] = 2903\n",
      "8000 data sets completed\n",
      "Conflicting CAS: incoming 000608-73-1; existing [000319-86-8] = 802\n",
      "Conflicting CAS: incoming 000638-03-9; existing [000108-44-1] = 1044\n",
      "Conflicting CAS: incoming 000646-04-8; existing [000627-20-3] = 1633\n",
      "Conflicting CAS: incoming 000671-16-9; existing [000366-70-1] = 1180\n",
      "Conflicting CAS: incoming 025167-81-1; existing [000576-24-9] = 2508\n",
      "Conflicting CAS: incoming 002439-00-1; existing [000085-34-7] = 3025\n",
      "Conflicting CAS: incoming 000137-40-6; existing [004075-81-4] = 1247\n",
      "Conflicting CAS: incoming 002216-51-5; existing [000469-61-4] = 2460\n",
      "Conflicting CAS: incoming 027176-87-0; existing [025155-30-0] = 1833\n",
      "Conflicting CAS: incoming 003323-53-3; existing [000124-04-9] = 3298\n",
      "Conflicting CAS: incoming 002702-72-9; existing [000094-75-7] = 296\n",
      "Conflicting CAS: incoming 068526-86-3; existing [027458-92-0] = 1307\n",
      "Conflicting CAS: incoming 000119-93-7; existing [000612-82-8] = 2185\n",
      "Conflicting CAS: incoming 001593-77-7; existing [000556-22-9] = 1237\n",
      "Conflicting CAS: incoming 000100-63-0; existing [000059-88-1] = 1707\n",
      "9000 data sets completed\n",
      "Conflicting CAS: incoming 000095-54-5; existing [000615-28-1] = 3167\n",
      "Conflicting CAS: incoming 001928-45-6; existing [001320-18-9] = 2021\n",
      "Conflicting CAS: incoming 005989-27-5; existing [000138-86-3] = 1095\n",
      "Conflicting CAS: incoming 068515-43-5; existing [000117-84-0] = 1806\n",
      "Conflicting CAS: incoming 000131-52-2; existing [000087-86-5] = 123\n",
      "Conflicting CAS: incoming 000764-41-0; existing [000110-57-6] = 1580\n",
      "Conflicting CAS: incoming 000140-01-2; existing [000067-43-6] = 3274\n",
      "Conflicting CAS: incoming 007085-19-0; existing [001929-86-8] = 1308\n",
      "10000 data sets completed\n",
      "Conflicting CAS: incoming 000079-33-4; existing [000050-21-5] = 31\n",
      "Conflicting CAS: incoming 002235-54-3; existing [000151-21-3] = 1120\n",
      "Conflicting CAS: incoming 000687-47-8; existing [000097-64-3] = 3640\n",
      "Conflicting CAS: incoming 025606-41-1; existing [024579-73-5] = 1934\n",
      "Conflicting CAS: incoming 000100-79-8; existing [000646-06-0] = 932\n",
      "Conflicting CAS: incoming 004170-30-3; existing [000123-73-9] = 1055\n",
      "Conflicting CAS: incoming 007785-26-4; existing [000080-56-8] = 1000\n",
      "Conflicting CAS: incoming 008001-35-2; existing [012789-03-6] = 1663\n",
      "Conflicting CAS: incoming 008006-64-2; existing [000067-64-1] = 41\n",
      "Conflicting CAS: incoming 010024-97-3; existing [010024-97-2] = 80\n",
      "Conflicting CAS: incoming 010034-85-2; existing [014834-67-4] = 1824\n",
      "Conflicting CAS: incoming 012002-48-1; existing [000087-61-6] = 1780\n",
      "11000 data sets completed\n",
      "Conflicting CAS: incoming 006485-55-8; existing [000141-91-3] = 1392\n",
      "Conflicting CAS: incoming 002051-60-7; existing [002051-61-8] = 893\n",
      "Conflicting CAS: incoming 003757-76-4; existing [000120-83-2] = 135\n",
      "Conflicting CAS: incoming 003926-62-3; existing [000079-11-8] = 6\n",
      "12000 data sets completed\n",
      "Conflicting CAS: incoming 014919-01-8; existing [025377-83-7] = 3359\n",
      "Conflicting CAS: incoming 015046-84-1; existing [014834-67-4] = 1824\n",
      "Conflicting CAS: incoming 000541-85-5; existing [000106-68-3] = 2886\n",
      "Conflicting CAS: incoming 000463-56-9; existing [000302-04-5] = 2995\n",
      "Conflicting CAS: incoming 004901-51-3; existing [025167-83-3] = 2836\n",
      "Conflicting CAS: incoming 000060-54-8; existing [000064-75-5] = 4016\n",
      "13000 data sets completed\n",
      "Conflicting CAS: incoming 021436-96-4; existing [000095-68-1] = 2590\n",
      "Conflicting CAS: incoming 022248-79-9; existing [000961-11-5] = 2165\n",
      "Conflicting CAS: incoming 025168-26-7; existing [001928-43-4] = 967\n",
      "Conflicting CAS: incoming 039515-41-8; existing [064257-84-7] = 3668\n",
      "Merging\n",
      "## {'2-Nitro-5-(2-chloro-4-(trifluoromethyl)phenoxy)benzoic acid', 'Benzoic acid, 5-[2-chloro-4-(trifluoromethyl)phenoxy]-2-nitro-', 'PPG-847', '5-{[2-chloro-4-(trifluoromethyl)phenyl]oxy}-2-nitrobenzoic acid', 'SMR000471865', '5-[2-Chloro-4-(trifluoromethyl)phenoxy]-2-nitrobenzoic acid', 'Benzoic acid, 5-(2-chloro-4-(trifluoromethyl)phenoxy)-2-nitro-', 'Acifluorfen [BSI:ISO]', 'ST51054183', '5-(2-Chloro-4-(trifluoromethyl)phenoxy)-2-nitrobenzoic acid', 'AC1L2B36', 'acifluorfen', 'Acifluorfene [ISO-French]', '5-(2-Chloro-alapha,alpha,alpha-trifluoro-p-tolyloxy)-2-nitrobenzoic acid', '5-(2-Chloro-4-trifluoromethylphenoxy)-2-nitrobenzoic acid', '050594-66-6', 'Acifluorfene', '5-(2-chloro-4-(trifluoromethyl)phenoxy)-2-nitrobenzoate', 'ACJ', '3e4d5085-6556-11dd-ad8b-0800200c9a66', 'RH-6201'} \n",
      "into synonym set containing\n",
      "## {'Acifluorfen'}\n",
      "Conflicting CAS: incoming 067375-30-8; existing [052315-07-8] = 321\n",
      "Conflicting CAS: incoming 025551-13-7; existing [000526-73-8] = 1781\n",
      "Conflicting CAS: incoming 000465-73-6; existing [000309-00-2] = 644\n",
      "Conflicting CAS: incoming 025339-56-4; existing [000592-76-7] = 1616\n",
      "Conflicting CAS: incoming 016485-47-5; existing [007440-23-5] = 1739\n",
      "14000 data sets completed\n",
      "Conflicting CAS: incoming 068515-49-1; existing [026761-40-0] = 4243\n",
      "15000 data sets completed\n",
      "Conflicting CAS: incoming 000075-99-0; existing [000127-20-8] = 1071\n",
      "Conflicting CAS: incoming 000062-74-8; existing [000144-49-0] = 3251\n",
      "Conflicting CAS: incoming 000106-44-5; existing [001319-77-3] = 3482\n",
      "16000 data sets completed\n",
      "17000 data sets completed\n",
      "Conflicting CAS: incoming 000050-06-6; existing [000057-30-7] = 2774\n",
      "Conflicting CAS: incoming 000111-87-5; existing [068603-15-6] = 3621\n",
      "Conflicting CAS: incoming 000058-89-9; existing [000319-86-8] = 802\n",
      "Conflicting CAS: incoming 000090-43-7; existing [000132-27-4] = 1081\n",
      "Conflicting CAS: incoming 000088-99-3; existing [070693-30-0] = 813\n",
      "18000 data sets completed\n",
      "Conflicting CAS: incoming 000106-98-9; existing [025167-67-3] = 42\n",
      "Conflicting CAS: incoming 000072-20-8; existing [000060-57-1] = 2420\n",
      "19000 data sets completed\n",
      "Conflicting CAS: incoming 000095-80-7; existing [000636-23-7] = 2046\n",
      "20000 data sets completed\n",
      "Merging\n",
      "## {'5b09d945-0c39-40f1-823e-1064f27fbb46', 'Curium alpha'} \n",
      "into synonym set containing\n",
      "## {'KST-1A1755', '(247cm)curium', '(244cm)curium', '29059f32-6556-11dd-ad8b-0800200c9a66', '(249cm)curium', 'KST-1A1815', '(240cm)curium', 'CM', '(246cm)curium', '4d9a8790-3ddd-11dd-9892-0050c2490048', '29059f31-6556-11dd-ad8b-0800200c9a66', '4d9a8790-3ddd-11dd-9891-0050c2490048', '(241cm)curium', 'curium', '96Cm', 'KST-1A1778', '(248cm)curium', '(250cm)curium', 'KST-1A1820', 'KST-1A1804', '(245cm)curium', '29059f2d-6556-11dd-ad8b-0800200c9a66', '29059f33-6556-11dd-ad8b-0800200c9a66', 'KST-1A1735', '4d9a8790-3ddd-11dd-9893-0050c2490048', 'KST-1A1814', 'KST-1A1796', '4d9a8790-3ddd-11dd-9890-0050c2490048', 'KST-1A1337', 'KST-1A1734', '(238cm)curium', '(243cm)curium', 'KST-1A1821', 'KST-1A3799', '29059f2f-6556-11dd-ad8b-0800200c9a66', '29059f34-6556-11dd-ad8b-0800200c9a66', '(242cm)curium', '007440-51-9', 'AC1L2N4J', '29059f30-6556-11dd-ad8b-0800200c9a66', '29059f2e-6556-11dd-ad8b-0800200c9a66', 'curio'}\n",
      "21000 data sets completed\n",
      "Conflicting CAS: incoming 163702-06-5; existing [163702-05-4] = 2765\n",
      "Conflicting CAS: incoming 002961-62-8; existing [001689-83-4] = 556\n",
      "22000 data sets completed\n",
      "Merging\n",
      "## {'BENZOIC ACID, p-OCTYL-', 'p-Octylbenzoic acid', 'SBB008601', 'O0137', 'AC1L2DJI', '012447-40-4', '4-Octylbenzoic acid', 'borax', 'SR-01000631680-1', 'AKOS004908305', '4-n-Octylbenzoic acid', '08a91e70-3ddc-11dd-97eb-0050c2490048', 'Para-octylbenzoic acid', 'Benzoic acid, 4-octyl-', 'Maybridge1_001984', 'p-n-Octyl benzoic acid'} \n",
      "into synonym set containing\n",
      "## {'borate ion', 'Borate', '6a9f7977-f73f-485d-adff-f078b859860c'}\n",
      "23000 data sets completed\n",
      "24000 data sets completed\n",
      "25000 data sets completed\n",
      "26000 data sets completed\n",
      "flows/ILCDLocations.xml\n",
      "No results.\n",
      "27000 data sets completed\n",
      "28000 data sets completed\n",
      "29000 data sets completed\n",
      "30000 data sets completed\n",
      "31000 data sets completed\n",
      "Merging\n",
      "## {'439de0df-6861-4bb9-8ac6-7e94bbe9f284', 'Wood'} \n",
      "into synonym set containing\n",
      "## {'Methanol', '000067-56-1'}\n",
      "Merging\n",
      "## {'Metylowy alkohol', 'Metanolo', 'wood;  14.7 MJ/kg', 'Metanol', 'Alcool methylique', 'Methylalkohol', '3e4d9eab-6556-11dd-ad8b-0800200c9a66', 'Alcool metilico'} \n",
      "into synonym set containing\n",
      "## {'Methanol', '000067-56-1', '439de0df-6861-4bb9-8ac6-7e94bbe9f284', 'Wood'}\n",
      "32000 data sets completed\n",
      "Conflicting CAS: incoming 034205-21-5; existing [077501-90-7] = 5521\n",
      "33000 data sets completed\n",
      "34000 data sets completed\n",
      "Conflicting CAS: incoming 000106-46-7; existing [000092-87-5] = 2184\n",
      "Conflicting CAS: incoming 000108-93-0; existing [000108-95-2] = 37\n",
      "35000 data sets completed\n",
      "Merging\n",
      "## {'sodium formate', '08b81d7d-3139-42c0-b148-dd9c5e019899'} \n",
      "into synonym set containing\n",
      "## {'000141-53-7', 'Sodium formate'}\n",
      "36000 data sets completed\n",
      "37000 data sets completed\n",
      "38000 data sets completed\n",
      "Conflicting CAS: incoming 062476-59-9; existing [050594-66-6] = 303\n",
      "39000 data sets completed\n",
      "40000 data sets completed\n",
      "41000 data sets completed\n"
     ]
    }
   ],
   "source": [
    "syns = create_new_synonym_list()"
   ]
  },
  {
   "cell_type": "code",
   "execution_count": 4,
   "metadata": {
    "collapsed": true
   },
   "outputs": [],
   "source": [
    "cas_regex = re.compile('[0-9]{6}-[0-9]{2}-[0-9]')"
   ]
  },
  {
   "cell_type": "code",
   "execution_count": 5,
   "metadata": {
    "collapsed": false
   },
   "outputs": [],
   "source": [
    "finds = set()\n",
    "for i, s in enumerate(syns._list):\n",
    "    count = 0\n",
    "    for k in s or '':\n",
    "        if bool(cas_regex.match(k)):\n",
    "            count += 1\n",
    "    if count > 1:\n",
    "        finds.add(i)"
   ]
  },
  {
   "cell_type": "code",
   "execution_count": 6,
   "metadata": {
    "collapsed": false
   },
   "outputs": [],
   "source": [
    "finds=list(finds)"
   ]
  },
  {
   "cell_type": "code",
   "execution_count": 7,
   "metadata": {
    "collapsed": false
   },
   "outputs": [
    {
     "data": {
      "text/plain": [
       "6757"
      ]
     },
     "execution_count": 7,
     "metadata": {},
     "output_type": "execute_result"
    }
   ],
   "source": [
    "len(syns._list)"
   ]
  },
  {
   "cell_type": "code",
   "execution_count": 12,
   "metadata": {
    "collapsed": true
   },
   "outputs": [],
   "source": [
    "import json"
   ]
  },
  {
   "cell_type": "code",
   "execution_count": 13,
   "metadata": {
    "collapsed": true
   },
   "outputs": [],
   "source": [
    "from lcatools.flowdb.synlist import SynList\n",
    "from lcatools.flowdb.create_synonyms import SYNONYMS"
   ]
  },
  {
   "cell_type": "code",
   "execution_count": 14,
   "metadata": {
    "collapsed": false
   },
   "outputs": [
    {
     "name": "stdout",
     "output_type": "stream",
     "text": [
      "CPU times: user 140 ms, sys: 10 ms, total: 150 ms\n",
      "Wall time: 154 ms\n"
     ]
    }
   ],
   "source": [
    "with open(SYNONYMS) as fp:\n",
    "    %time synlist = SynList.from_json(json.load(fp))"
   ]
  },
  {
   "cell_type": "code",
   "execution_count": 34,
   "metadata": {
    "collapsed": false
   },
   "outputs": [
    {
     "data": {
      "text/plain": [
       "{'( )-Nicotine',\n",
       " '(+-) NICOTINE',\n",
       " '(+-)-3-(1-Methyl-2-pyrrolidinyl)pyridine',\n",
       " '(+-)-Nicotine',\n",
       " '(+/-)-Nicotine',\n",
       " '(-)-3-(1-Methyl-2-pyrrolidyl)pyridine',\n",
       " '(-)-Nicotine',\n",
       " '(-)-Nicotine-[methyl-3H',\n",
       " '(2-phenylethyl)hydrazine sulfate',\n",
       " '(Mg,Fe)Sio3',\n",
       " '(R,S)-Nicotine',\n",
       " '(RS)-Nicotine',\n",
       " '(S)-3-(1-Methyl-2-pyrrolidinyl)pyridine',\n",
       " '(S)-3-(1-Methyl-2-pyrrolidinyl)pyridine sulfate (2:1)',\n",
       " '.beta.-Phenylethylhydrazine dihydrogen sulfate',\n",
       " '.beta.-Phenylethylhydrazine sulfate',\n",
       " '.beta.-Pyridyl-.alpha.-N-methylpyrrolidine',\n",
       " '000054-11-5',\n",
       " '000065-30-5',\n",
       " '000095-70-5',\n",
       " '000156-51-4',\n",
       " '001302-76-7',\n",
       " '001327-53-3',\n",
       " '007439-89-6',\n",
       " '007439-95-4',\n",
       " '007440-09-7',\n",
       " '007440-23-5',\n",
       " '007720-78-7',\n",
       " '012168-80-8',\n",
       " '016485-47-5',\n",
       " '019086-72-7',\n",
       " '022541-54-4',\n",
       " '025376-45-8',\n",
       " '039156-41-7',\n",
       " '1,3-Benzenediamine, 4-methoxy, sulfate',\n",
       " '1,3-Benzenediamine, 4-methoxy-, sulfate',\n",
       " '1,3-Benzenediamine, 4-methoxy-, sulfate (1:1)',\n",
       " '1,3-Benzenediamine, 4-methoxy-, sulfate (1:?)',\n",
       " '1,3-Diamino-4-methoxybenzene sulphate',\n",
       " '1,4-Benzenediamine, 2-methyl-',\n",
       " '1,4-Benzenediamine, 2-methyl-, sulfate (1:?)',\n",
       " '1-Hydrazino-2-phenylethane hydrogen sulphate',\n",
       " '1-Methyl-2-(3-pyridyl)pyrrolidine',\n",
       " '1-methyl-2-(3-pyridal)-pyrrolidene',\n",
       " '11Na',\n",
       " '12Mg',\n",
       " '19K',\n",
       " '2,4-DAA sulfate',\n",
       " '2,4-Diamino-1-methoxybenzene sulphate',\n",
       " '2,4-Diamino-anisol sulphate',\n",
       " '2,4-Diaminoanisile sulfate',\n",
       " '2,4-Diaminoanisole sulfate trihydrate',\n",
       " '2,4-Diaminoanisole sulphate',\n",
       " '2,4-Diaminosole sulphate',\n",
       " '2,4-diaminoanisole sulfate',\n",
       " '2,5-DIAMINOANISOLE SULFATE, TECH',\n",
       " '2,5-Diamino-toluene',\n",
       " '2,5-Diaminotoluene',\n",
       " '2,5-Diaminotoluene sulfate',\n",
       " '2,5-TDS',\n",
       " '2,5-Toluenediamine',\n",
       " '2,5-Toluenediamine sulfate',\n",
       " '2-METHYL-1,4-BENZENEDIAMINE',\n",
       " '2-Methyl-1,4-benzenediamine sulfate',\n",
       " '2-Methyl-p-phenylenediamine',\n",
       " '2-Methyl-p-phenylenediamine sulfate salt',\n",
       " '2-Methyl-para-phenylenediamine',\n",
       " '2-Methyl-para-phenylenediamine sulphate',\n",
       " '2-Phenylethylhydrazine dihydrogen sulfate',\n",
       " '2-Phenylethylhydrazine dihydrogen sulphate',\n",
       " '2-Phenylethylhydrazine hydrogen sulphate',\n",
       " '2-Phenylethylhydrazine sulphate',\n",
       " '2-[2-[bis(2-oxido-2-oxoethyl)amino]ethyl-(2-hydroxyethyl)amino]acetate',\n",
       " '2-methyl-p-phenylenediamine',\n",
       " '2-methylbenzene-1,4-diamine',\n",
       " '2-methylbenzene-1,4-diamine sulfate',\n",
       " '2-methylbenzene-1,4-diaminium sulfate',\n",
       " '26Fe',\n",
       " '3-(1-Methyl-2-pyrrolidinyl)pyridine',\n",
       " '3-(1-methylpyrrolidin-2-yl)pyridine',\n",
       " '3-(1-methylpyrrolidin-2-yl)pyridine sulfate',\n",
       " '3-(1-methylpyrrolidin-2-yl)pyridine sulfate(2:1)',\n",
       " '3-(N-Methylpyrollidino)pyridine',\n",
       " '3-(N-Methylpyrrolidino)pyridine',\n",
       " '3-(tetrahydro-1-methyl pyrrol-2-yl)Pyridine',\n",
       " '3-1-methylpyrrolidin-2-yl]pyridine sulfate',\n",
       " '3ZhP',\n",
       " '4-(methyloxy)benzene-1,3-diamine sulfate',\n",
       " '4-Amino-2-methylaniline',\n",
       " '4-Methoxy-1,3-benzenediamine sulfate',\n",
       " '4-Methoxy-1,3-benzenediamine sulfate (1:1)',\n",
       " '4-Methoxy-1,3-benzenediamine sulphate',\n",
       " '4-Methoxy-1,3-phenylenediamine Sulfate',\n",
       " '4-Methoxy-m-phenylenediamine sulfate',\n",
       " '4-Methoxy-m-phenylenediamine sulphate',\n",
       " '4-Methoxy-m-phenylenediammonium sulphate',\n",
       " '4-Methoxybenzene-1,3-diamine sulphate',\n",
       " '4-methoxybenzene-1,3-diamine',\n",
       " '4-methoxybenzene-1,3-diaminium sulfate',\n",
       " 'A 100',\n",
       " 'A 100 (Pharmaceutical)',\n",
       " 'AB1002296',\n",
       " 'AB1003981',\n",
       " 'AC-11639',\n",
       " 'AC-11774',\n",
       " 'AC-12224',\n",
       " 'AC1L1ADH',\n",
       " 'AC1L1LY3',\n",
       " 'AC1L1OCM',\n",
       " 'AC1L1UIX',\n",
       " 'AC1L1ZC2',\n",
       " 'AC1L24QX',\n",
       " 'AC1L2L7O',\n",
       " 'AC1L2N38',\n",
       " 'AC1L2XEB',\n",
       " 'AC1L2XZQ',\n",
       " 'AC1L39HL',\n",
       " 'AC1LAX7G',\n",
       " 'AC1MIVHR',\n",
       " 'AC1NSENP',\n",
       " 'AC1NUW84',\n",
       " 'AC1NUW87',\n",
       " 'AC1O3SNC',\n",
       " 'AC1O3SSL',\n",
       " 'AC1O3TC3',\n",
       " 'AC1Q1W6R',\n",
       " 'AC1Q4WMQ',\n",
       " 'AC1Q6XDX',\n",
       " 'AQUANAL(R)-plus magnesium (Mg) 100-1500 mg/L',\n",
       " 'AQUANAL-plus magnesium (Mg) 100-1500 mg/L',\n",
       " 'Acide arsenieux',\n",
       " 'Alacine',\n",
       " 'Alazin',\n",
       " 'Alazine',\n",
       " 'Aluminate(1-), octaoxotrisilicate-, potassium',\n",
       " 'Aluminosilicic acid, potassium salt',\n",
       " 'American Regent Brand of Iron-Dextran Complex',\n",
       " 'Anhydride arsenieux',\n",
       " 'Anisole, 2,4-diamino-, hydrogen sulfate',\n",
       " 'Anisole, 2,4-diamino-, sulfate',\n",
       " 'Armco iron',\n",
       " 'Arseni trioxydum',\n",
       " 'Arsenic blanc',\n",
       " 'Arsenic ion (3+)',\n",
       " 'Arsenic oxide (As2O3)',\n",
       " 'Arsenic trioxide (JP15/USAN)',\n",
       " 'Arsenic(+3)',\n",
       " 'Arsenic(3+) ion',\n",
       " 'Arsenic(3+)ions',\n",
       " 'Arsenic(III) trioxide',\n",
       " 'Arsenic, ion (As3+)',\n",
       " 'Arsenic, ion(As3 )',\n",
       " 'Arsenigen saure',\n",
       " 'Arsenious Acid Anhydride',\n",
       " 'Arsenious trioxide',\n",
       " 'Arsenox',\n",
       " 'Arsentrioxide',\n",
       " 'As(3+)',\n",
       " 'Atomiron 44MR',\n",
       " 'Atomiron 5M',\n",
       " 'Atomiron AFP 25',\n",
       " 'Atomiron AFP 5',\n",
       " 'Aventurine',\n",
       " 'B 75',\n",
       " 'BASF Ursol SLA',\n",
       " 'Benzenediamine, ar-methyl-',\n",
       " 'Black Leaf 40',\n",
       " 'Black leaf',\n",
       " 'Black leaf 40 garden spray',\n",
       " 'C.I. 76042',\n",
       " 'C.I. 76043',\n",
       " 'C.I. 76051',\n",
       " 'C.I. Oxidation Base 12A',\n",
       " 'C.I. Oxidation Base 4',\n",
       " 'CI 76042',\n",
       " 'CI 76043',\n",
       " 'CI 76051',\n",
       " 'CI Oxidation Base 12A',\n",
       " 'CI Oxidation Base 4',\n",
       " 'CPD000058500',\n",
       " \"Campbell's nico-soap\",\n",
       " 'Carbonyl iron',\n",
       " 'Chinofer',\n",
       " 'Commit',\n",
       " 'Copy Powder CS 105-175',\n",
       " 'DL-tetrahydronicotyrine',\n",
       " 'Destruxol orchid spray',\n",
       " 'Dexferrum',\n",
       " 'Dextran iron complex',\n",
       " 'Dextran-Iron Complex',\n",
       " 'Dextrofer',\n",
       " 'Dextrofer 75',\n",
       " 'Disthene',\n",
       " 'Durafur Brown MN',\n",
       " 'EF 1000',\n",
       " 'EF 250',\n",
       " 'ENT 2,435',\n",
       " 'ENT 3,424',\n",
       " 'EP-411',\n",
       " 'EU-0100971',\n",
       " 'Ed-In-Sol',\n",
       " 'Eisen',\n",
       " 'Eisendextran',\n",
       " 'Emo-nik',\n",
       " 'Estinerval',\n",
       " 'F 60 (metal)',\n",
       " 'FE',\n",
       " 'FS000846',\n",
       " 'FT 3 (element)',\n",
       " 'Fe-40',\n",
       " 'Fe-Dextran',\n",
       " 'Fe1+',\n",
       " 'Felazine',\n",
       " 'Feldspar-group minerals',\n",
       " 'Fenate',\n",
       " 'Ferdex 100',\n",
       " 'Fero Gradumet',\n",
       " 'Feronate',\n",
       " \"Ferrate(1-), ((N-(carboxymethyl)-N'-(2-hydroxyethyl)-N,N'-ethylenediglycinato)(3-))-, sodium\",\n",
       " 'Ferrate(1-), (N-(2-(bis((carboxy-kappaO)methyl)amino-kappaN)ethyl)-N-(2-(hydroxy-kappaO)ethyl)glycinato(3-)-kappaN,kappaO)-, sodium',\n",
       " 'Ferrate(1-), (N-(2-(bis((carboxy-kappaO)methyl)amino-kappaN)ethyl)-N-(2-(hydroxy-kappaO)ethyl)glycinato(3-)-kappaN,kappaO)-, sodium (1:1)',\n",
       " 'Ferrate(1-), (N-(2-(bis(carboxymethyl)amino)ethyl)-N-(2-hydroxyethyl)glycinato(3-))-, sodium',\n",
       " 'Ferrate(1-), [N-[2-[bis[(carboxy-.kappa.O)methyl]amino-.kappa.N]ethyl]-N-[2-(hydroxy-.kappa.O)ethyl]glycinato(3-)-.kappa.N,.kappa.O]-, sodium',\n",
       " 'Ferretts',\n",
       " 'Ferric dextran',\n",
       " 'Ferridextran',\n",
       " 'Ferro-Caps',\n",
       " 'Ferro-Time',\n",
       " 'Ferrodextran',\n",
       " 'Ferroglucin',\n",
       " 'Ferroglukin 75',\n",
       " 'Ferrous sodium HEDTA',\n",
       " 'Ferrousal',\n",
       " 'Ferrovac E',\n",
       " 'Ferrum',\n",
       " 'Flux MAAG',\n",
       " 'Flux Maay',\n",
       " 'Fouramine BA',\n",
       " 'Fouramine STD',\n",
       " 'Fourrine 76',\n",
       " 'Fourrine SLA',\n",
       " 'Fumetobac',\n",
       " 'Furro SLA',\n",
       " 'GlaxoSmithKline Brand of Iron-Dextran Complex',\n",
       " 'Goldline Brand of Iron-Dextran Complex',\n",
       " 'HF 2 (element)',\n",
       " 'HL (iron)',\n",
       " 'HQ (metal)',\n",
       " 'HS (iron)',\n",
       " 'HS 4849',\n",
       " 'Habitrol',\n",
       " 'Hauck Brand of Iron-Dextran Complex',\n",
       " 'Hawthron Brand of Iron-Dextran Complex',\n",
       " 'Hematran',\n",
       " 'Hemocyte',\n",
       " 'High temperature flux',\n",
       " 'Hoeganaes ATW 230',\n",
       " 'Hoeganaes EH',\n",
       " 'Hydrazine, (2-phenylethyl)-, sulfate (1:1)',\n",
       " 'Hydrazine, phenethyl-, sulfate (1:1)',\n",
       " 'I09-0489',\n",
       " 'I09-0493',\n",
       " 'IRON DEXTRAN',\n",
       " 'Icar',\n",
       " 'Imfergen',\n",
       " 'Imferon',\n",
       " 'Imperon',\n",
       " 'Imposil',\n",
       " 'Infed',\n",
       " 'Ion Level, Potassium',\n",
       " 'Ion Level, Sodium',\n",
       " 'Iro-Jex',\n",
       " 'Iron',\n",
       " 'Iron (Fe)',\n",
       " 'Iron (Fe1+)',\n",
       " 'Iron dextran complex',\n",
       " 'Iron dextran injection',\n",
       " 'Iron hydrogenated dextran',\n",
       " 'Iron ion (Fe+)',\n",
       " 'Iron ion(1+)',\n",
       " 'Iron monocation',\n",
       " 'Iron(1+)',\n",
       " 'Iron(1+) ion',\n",
       " 'Iron, 46% in ore, 25% in crude ore, in ground',\n",
       " 'Iron, elemental',\n",
       " 'Iron, ion (Fe1+)',\n",
       " 'Iron, ion (Fe1+) (8CI,9CI)',\n",
       " 'Iron-dextran complex',\n",
       " 'Ironorm injection',\n",
       " 'Jsp006805',\n",
       " 'KST-1A7751',\n",
       " 'Kalgan',\n",
       " 'Kalium',\n",
       " 'Kaopolite',\n",
       " 'Kyanite',\n",
       " 'Kyanite (Al2O(SiO4))',\n",
       " 'L -1-Methyl-2-[3-pyridyl]pyrrolidine',\n",
       " 'L-3-(1-Methyl-2-pyrrolidyl)pyridine',\n",
       " 'L-Nicotine',\n",
       " 'LOHA',\n",
       " 'LTBB002624',\n",
       " 'LTBB002852',\n",
       " 'Level, Potassium Ion',\n",
       " 'Level, Sodium Ion',\n",
       " 'MAGNESIUM NITRATE, ACS',\n",
       " 'MAGNESIUM, ATOMIZED POWDER,18 MICRON',\n",
       " 'Mach-Nic',\n",
       " 'Magnesio',\n",
       " 'Magnesium',\n",
       " 'Magnesium Matrix Modifier',\n",
       " 'Magnesium iron silicate',\n",
       " 'Magnesium modifier',\n",
       " 'Magnesium powdered',\n",
       " 'Magnesium preparation',\n",
       " 'Magnesium sheet',\n",
       " 'Mao-Rem',\n",
       " 'Micotine',\n",
       " 'Myofer 100',\n",
       " 'N-1544a',\n",
       " 'N0079',\n",
       " 'NAH 80',\n",
       " 'NC 100',\n",
       " 'NCI-C01832',\n",
       " 'NCI-C01989',\n",
       " 'NICOTINE AND SALTS',\n",
       " 'Nako TSA',\n",
       " 'Nardelzine',\n",
       " 'Nardil (TN)',\n",
       " 'Natrium',\n",
       " 'Natural Beta Interferon',\n",
       " 'Natural Murine Laminin Fragments',\n",
       " 'Nepheline (Na(alsio4))',\n",
       " 'Nephelite',\n",
       " 'Niagara P.A. dust',\n",
       " 'Nic-Sal',\n",
       " 'Nico-Fume',\n",
       " 'Nico-dust',\n",
       " 'Nicocide',\n",
       " 'Nicoderm',\n",
       " 'Nicoderm Cq',\n",
       " 'Nicorette',\n",
       " 'Nicorette Plus',\n",
       " 'Nicotin',\n",
       " 'Nicotina',\n",
       " 'Nicotine [BSI:ISO]',\n",
       " 'Nicotine alkaloid',\n",
       " 'Nicotine polacrilex',\n",
       " 'Nicotine, (+-)-',\n",
       " 'Nicotine, liquid',\n",
       " 'Nicotine, sulfate (2:1)',\n",
       " 'Nicotrol',\n",
       " 'Nicotrol Inhaler',\n",
       " 'Nicotrol NS',\n",
       " 'Nikotin',\n",
       " 'Nikotinsulfat',\n",
       " 'Nikotyna',\n",
       " 'Norferan',\n",
       " 'OR16413',\n",
       " 'Oil-dri',\n",
       " 'Olivine-group minerals',\n",
       " 'Ortho N-4',\n",
       " 'Ortho N-4 and N-5 dusts',\n",
       " 'Ortho N-4 dust',\n",
       " 'Ortho N-5',\n",
       " 'Ortho N-5 dust',\n",
       " 'Orthoclase',\n",
       " 'Orthoclase (K(AlSi3O8))',\n",
       " 'Oxidation Base 12A',\n",
       " 'Oxyde Arsenieux',\n",
       " 'Oxyde Arsenieux [ISO-French]',\n",
       " 'P 1531',\n",
       " 'P 6777',\n",
       " 'P-TOLUENEDIAMINE SULFATE',\n",
       " 'PHENELZINE SULFATE SALT',\n",
       " 'Pelagol BA',\n",
       " 'Pelagol Grey',\n",
       " 'Pelagol Grey SLA',\n",
       " 'Pelagol SLA',\n",
       " 'Peridot',\n",
       " 'Phelazin',\n",
       " 'Phenalzine dihydrogen sulfate',\n",
       " 'Phenelzin',\n",
       " 'Phenelzine acid sulfate',\n",
       " 'Phenelzine bisulfate',\n",
       " 'Phenelzine bisulphate',\n",
       " 'Phenelzine dihydrogen sulfate',\n",
       " 'Phenelzine hydrogen sulfate',\n",
       " 'Phenelzine hydrogen sulphate',\n",
       " 'Phenelzine sulfate',\n",
       " 'Phenelzine sulphate',\n",
       " 'Phenethylhydrazin',\n",
       " 'Phenethylhydrazine sulfate',\n",
       " 'Phenethylhydrazine sulfate (1:1)',\n",
       " 'Phenethylhydrazine sulphate',\n",
       " 'Phenline',\n",
       " 'Phenylaethyl-Hydrazin',\n",
       " 'Phenylethylhydrazine dihydrogen sulphate',\n",
       " 'Phenylethylhydrazine sulphate',\n",
       " 'Polyfer',\n",
       " 'Potassium',\n",
       " 'Potassium Ion Level',\n",
       " 'Potassium feldspar',\n",
       " 'Potassium, (liquid alloy)',\n",
       " 'Potassium, metal',\n",
       " 'Proferdex',\n",
       " 'Prolongal',\n",
       " 'Prostep',\n",
       " 'Pyridine, 3-((2S)-1-methyl-2-pyrrolidinyl)-',\n",
       " 'Pyridine, 3-((2S)-1-methyl-2-pyrrolidinyl)-, sulfate (2:1)',\n",
       " 'Pyridine, 3-(1-methyl-2-pyrrolidinyl)-',\n",
       " 'Pyridine, 3-(1-methyl-2-pyrrolidinyl)- (9CI)',\n",
       " 'Pyridine, 3-(1-methyl-2-pyrrolidinyl)-, (S)-',\n",
       " 'Pyridine, 3-(1-methyl-2-pyrrolidinyl)-, (S)- (9CI)',\n",
       " 'Pyridine, 3-(1-methyl-2-pyrrolidinyl)-, (S)-, sulfate (2:1)',\n",
       " 'Pyridine, 3-(tetrahydro-1-methylpyrrol-2-yl)',\n",
       " 'Pyrrolidine, 1-methyl-2-(3-pyridal)-',\n",
       " 'Pyrrolidine, 1-methyl-2-(3-pyridyl)-, sulfate',\n",
       " 'Rcra waste number P012',\n",
       " 'Remko',\n",
       " 'Renal SLA',\n",
       " \"Rieke's active magnesium\",\n",
       " 'S 1544',\n",
       " 'S-(-)-Nicotine',\n",
       " 'SAM001247037',\n",
       " 'SBB058779',\n",
       " 'SBB061625',\n",
       " 'SBB069792',\n",
       " 'SMR000058500',\n",
       " 'SMR000471862',\n",
       " 'Safe-N-Dri',\n",
       " 'Sanofi Brand of Iron-Dextran Complex',\n",
       " 'Siderol',\n",
       " 'Silicic acid (H4SiO4), iron(2+) magnesium salt (2:1:3)',\n",
       " 'Sodio',\n",
       " 'Sodium (N-(2-(bis(carboxymethyl)amino)ethyl)-N-(2-hydroxyethyl)glycinato(3-))ferrate(1-)',\n",
       " 'Sodium (liquid alloy)',\n",
       " 'Sodium Ion Level',\n",
       " 'Sodium hydride (NaH)',\n",
       " 'Sodium metal',\n",
       " 'Sodium monohydride',\n",
       " 'Sodium-23',\n",
       " 'Sulfate de nicotine',\n",
       " 'Sulfuric acid iron salt (1:1)',\n",
       " 'Sulfuric acid iron(2+) salt (1:1)',\n",
       " 'Sulfuric acid, iron salt',\n",
       " 'Sulfuric acid, iron salt (1:?)',\n",
       " 'Sulphuric acid, iron salt',\n",
       " 'Tendust',\n",
       " 'Tetrahydronicotyrine, DL-',\n",
       " 'Toluene-2,5-diamine',\n",
       " 'Toluene-2,5-diamine sulfate',\n",
       " 'Toluene-2,5-diamine, sulfate',\n",
       " 'Toluylene-2,5-diamine',\n",
       " 'Tolylene-2,5-diamine Sulfate',\n",
       " 'Trisenox',\n",
       " 'Trisenox (TN)',\n",
       " 'Trixenox',\n",
       " 'Ursoferran',\n",
       " 'Ursol SLA',\n",
       " 'Valfor',\n",
       " 'Vitedyn-Slo',\n",
       " 'Vortech Brand of Iron-Dextran Complex',\n",
       " 'WL 7',\n",
       " 'Watson Brand of Iron-Dextran Complex',\n",
       " 'XL All Insecti-cide, Emo-Nib',\n",
       " 'XL All Insecticide',\n",
       " 'Yieronia',\n",
       " 'Zoba SLE',\n",
       " 'aluminum',\n",
       " 'arsenic III',\n",
       " 'arsenic trioxide',\n",
       " 'arsenic(+3) cation',\n",
       " 'arsenic(3+)',\n",
       " 'arsenic(III) cation',\n",
       " 'beta-Phenylethylhydrazine dihydrogen sulfate',\n",
       " 'beta-Phenylethylhydrazine hydrogen sulphate',\n",
       " 'beta-Phenylethylhydrazine sulfate',\n",
       " 'beta-Pyridyl-alpha-N-methylpyrrolidine',\n",
       " 'cyanite',\n",
       " 'destruxol',\n",
       " 'diaminotoluene',\n",
       " 'feldspar',\n",
       " 'ferrous iron',\n",
       " 'fumeto bac',\n",
       " 'hierro',\n",
       " 'hydrate',\n",
       " 'iron',\n",
       " 'iron sulphate',\n",
       " 'iron(2+)',\n",
       " 'iron(2+) sodium [{2-[bis(carboxylatomethyl)amino]ethyl}(2-hydroxyethyl)amino]acetate',\n",
       " 'iron(2+) sodium[{2-[bis(carboxylatomethyl)amino]ethyl}(2-hydroxyethyl)amino]acetate',\n",
       " 'l-1-Methyl-2-(3-pyridyl)-pyrrolidine sulfate',\n",
       " 'l-3-(1-Methyl-2-pyrrolidyl)pyridine sulfate',\n",
       " 'm-Phenylenediamine, 4-methoxy-, sulfate',\n",
       " 'magnesio',\n",
       " 'magnesium',\n",
       " 'methyl-2-pyrrolidinyl)pyridine',\n",
       " 'naonobin',\n",
       " 'nepheline',\n",
       " 'niagara p.a.',\n",
       " 'nicotine',\n",
       " 'nicotine sulphate',\n",
       " 'olivine',\n",
       " 'ox idation base 14',\n",
       " 'oxidation base 14',\n",
       " 'oxygen(2-)',\n",
       " 'p,m-Tolylenediamine',\n",
       " 'p-Methoxy-m-phenylenediamine sulphate',\n",
       " 'p-Toluenediamine',\n",
       " 'p-Toluylendiamine',\n",
       " 'para, meta-tolylenediamine sulfate',\n",
       " 'para-Toluenediamine',\n",
       " 'para-Toluenediamine sulfate',\n",
       " 'para-Toluenediamine sulphate',\n",
       " 'para-Toluylenediamine',\n",
       " 'para-Toluylenediamine sulphate',\n",
       " 'para-Tolylenediamine',\n",
       " 'phenethylhydrazine',\n",
       " 'phenylethylhydrazine sulfate',\n",
       " 'potasio',\n",
       " 'potassium',\n",
       " 'silicic acid',\n",
       " 'silicon(4+)',\n",
       " 'sodium',\n",
       " 'sodium [N-[2-[bis(carboxymethyl)amino]ethyl]-N-(2-hydroxyethyl)glycinato(3-)]ferrate(1-)',\n",
       " 'sulfuric acid'}"
      ]
     },
     "execution_count": 34,
     "metadata": {},
     "output_type": "execute_result"
    }
   ],
   "source": [
    "synlist.synonyms_for('potassium')"
   ]
  },
  {
   "cell_type": "code",
   "execution_count": 4,
   "metadata": {
    "collapsed": false
   },
   "outputs": [],
   "source": [
    "from lcatools.providers.ecospold2 import EcospoldV2Archive\n",
    "from lcatools.providers.ilcd_lcia import IlcdLcia"
   ]
  },
  {
   "cell_type": "code",
   "execution_count": 5,
   "metadata": {
    "collapsed": false
   },
   "outputs": [],
   "source": [
    "ecospold_source = os.path.join(os.path.expanduser('~'), 'Dropbox', 'data', 'Ecoinvent', '3.2', \n",
    "                                 'current_Version_3.2_cutoff_lci_ecoSpold02.7z')\n",
    "ilcd_source = os.path.join(os.path.expanduser('~'), 'Dropbox', 'data', 'ELCD', 'ELCD3.2.zip')"
   ]
  },
  {
   "cell_type": "code",
   "execution_count": 6,
   "metadata": {
    "collapsed": false
   },
   "outputs": [
    {
     "name": "stdout",
     "output_type": "stream",
     "text": [
      "Found Extension: zip\n"
     ]
    }
   ],
   "source": [
    "I = IlcdLcia(ilcd_source)"
   ]
  },
  {
   "cell_type": "code",
   "execution_count": 7,
   "metadata": {
    "collapsed": false
   },
   "outputs": [
    {
     "name": "stdout",
     "output_type": "stream",
     "text": [
      "Duplicate Characterization in entity 439de0df-6861-4bb9-8ac6-7e94bbe9f284\n",
      " LC quantity: Energy renewable and non renewable (net calorific value) = 14.65\n",
      "flows/ILCDLocations.xml\n",
      "No results.\n",
      "Duplicate Characterization in entity d1008171-2d06-4e14-b107-7e510875203f\n",
      " LC quantity: Energy renewable and non renewable (net calorific value) = 14\n",
      "Found duplicate entity 6055785e-2434-4fea-8c9e-dad3b2132c79\n",
      "KeyError on term flows/eb585e4d-9745-4ad7-a5fd-fc2c11b761f6.xml dtype Flow version None\n"
     ]
    }
   ],
   "source": [
    "for f in I.list_objects('Flow'):\n",
    "    I.retrieve_or_fetch_entity(f)"
   ]
  },
  {
   "cell_type": "code",
   "execution_count": 8,
   "metadata": {
    "collapsed": false
   },
   "outputs": [
    {
     "data": {
      "text/plain": [
       "41156"
      ]
     },
     "execution_count": 8,
     "metadata": {},
     "output_type": "execute_result"
    }
   ],
   "source": [
    "len(I.flows())"
   ]
  },
  {
   "cell_type": "code",
   "execution_count": 10,
   "metadata": {
    "collapsed": false
   },
   "outputs": [
    {
     "data": {
      "text/plain": [
       "['2-mercaptobenzothiazole (CAS 000149-30-4) [Emissions, Emissions to air, Emissions to lower stratosphere and upper troposphere]',\n",
       " '2-mercaptobenzothiazole (CAS 000149-30-4) [Emissions, Emissions to soil, Emissions to agricultural soil]',\n",
       " '2-mercaptobenzothiazole (CAS 000149-30-4) [Emissions, Emissions to water, Emissions to sea water]',\n",
       " '2-mercaptobenzothiazole (CAS 000149-30-4) [Emissions, Emissions to water, Emissions to water, unspecified (long-term)]',\n",
       " '2-mercaptobenzothiazole (CAS 000149-30-4) [Emissions, Emissions to soil, Emissions to soil, unspecified]',\n",
       " '2-mercaptobenzothiazole (CAS 000149-30-4) [Emissions, Emissions to water, Emissions to water, unspecified]',\n",
       " '2-mercaptobenzothiazole (CAS 000149-30-4) [Emissions, Emissions to soil, Emissions to non-agricultural soil]',\n",
       " '2-mercaptobenzothiazole (CAS 000149-30-4) [Emissions, Emissions to water, Emissions to fresh water]',\n",
       " '2-mercaptobenzothiazole (CAS 000149-30-4) [Emissions, Emissions to air, Emissions to urban air close to ground]',\n",
       " '2-mercaptobenzothiazole (CAS 000149-30-4) [Emissions, Emissions to air, Emissions to air, unspecified (long-term)]',\n",
       " '2-mercaptobenzothiazole (CAS 000149-30-4) [Emissions, Emissions to air, Emissions to air, unspecified]',\n",
       " '2-mercaptobenzothiazole (CAS 000149-30-4) [Emissions, Emissions to air, Emissions to non-urban air or from high stacks]']"
      ]
     },
     "execution_count": 10,
     "metadata": {},
     "output_type": "execute_result"
    }
   ],
   "source": [
    "[str(i) for i in I.search(CasNumber='000149-30-4')]"
   ]
  },
  {
   "cell_type": "code",
   "execution_count": 11,
   "metadata": {
    "collapsed": false
   },
   "outputs": [
    {
     "data": {
      "text/plain": [
       "['sodium benzothiazol-2-yl sulphide (CAS 002492-26-4) [Emissions, Emissions to air, Emissions to air, unspecified (long-term)]',\n",
       " 'sodium benzothiazol-2-yl sulphide (CAS 002492-26-4) [Emissions, Emissions to soil, Emissions to soil, unspecified]',\n",
       " 'sodium benzothiazol-2-yl sulphide (CAS 002492-26-4) [Emissions, Emissions to air, Emissions to air, unspecified]',\n",
       " 'sodium benzothiazol-2-yl sulphide (CAS 002492-26-4) [Emissions, Emissions to air, Emissions to urban air close to ground]',\n",
       " 'sodium benzothiazol-2-yl sulphide (CAS 002492-26-4) [Emissions, Emissions to soil, Emissions to agricultural soil]',\n",
       " 'sodium benzothiazol-2-yl sulphide (CAS 002492-26-4) [Emissions, Emissions to soil, Emissions to non-agricultural soil]',\n",
       " 'sodium benzothiazol-2-yl sulphide (CAS 002492-26-4) [Emissions, Emissions to water, Emissions to water, unspecified]',\n",
       " 'sodium benzothiazol-2-yl sulphide (CAS 002492-26-4) [Emissions, Emissions to water, Emissions to fresh water]',\n",
       " 'sodium benzothiazol-2-yl sulphide (CAS 002492-26-4) [Emissions, Emissions to water, Emissions to sea water]',\n",
       " 'sodium benzothiazol-2-yl sulphide (CAS 002492-26-4) [Emissions, Emissions to water, Emissions to water, unspecified (long-term)]',\n",
       " 'sodium benzothiazol-2-yl sulphide (CAS 002492-26-4) [Emissions, Emissions to air, Emissions to non-urban air or from high stacks]']"
      ]
     },
     "execution_count": 11,
     "metadata": {},
     "output_type": "execute_result"
    }
   ],
   "source": [
    "[str(i) for i in I.search(CasNumber='002492-26-4')]"
   ]
  },
  {
   "cell_type": "code",
   "execution_count": 24,
   "metadata": {
    "collapsed": true
   },
   "outputs": [],
   "source": [
    "cas = set()\n",
    "fname = set()\n",
    "for f in I.flows():\n",
    "    cas.add(f['CasNumber'])\n",
    "    fname.add(f['Name'])"
   ]
  },
  {
   "cell_type": "code",
   "execution_count": 25,
   "metadata": {
    "collapsed": false
   },
   "outputs": [
    {
     "data": {
      "text/plain": [
       "3548"
      ]
     },
     "execution_count": 25,
     "metadata": {},
     "output_type": "execute_result"
    }
   ],
   "source": [
    "len(cas)"
   ]
  },
  {
   "cell_type": "code",
   "execution_count": 26,
   "metadata": {
    "collapsed": false
   },
   "outputs": [
    {
     "data": {
      "text/plain": [
       "4533"
      ]
     },
     "execution_count": 26,
     "metadata": {},
     "output_type": "execute_result"
    }
   ],
   "source": [
    "len(fname)"
   ]
  },
  {
   "cell_type": "code",
   "execution_count": 37,
   "metadata": {
    "collapsed": false
   },
   "outputs": [],
   "source": [
    "f = I.search(entity_type='flow', Name='Iron')"
   ]
  },
  {
   "cell_type": "code",
   "execution_count": 38,
   "metadata": {
    "collapsed": false
   },
   "outputs": [
    {
     "data": {
      "text/plain": [
       "45"
      ]
     },
     "execution_count": 38,
     "metadata": {},
     "output_type": "execute_result"
    }
   ],
   "source": [
    "len(f)"
   ]
  },
  {
   "cell_type": "code",
   "execution_count": 28,
   "metadata": {
    "collapsed": false
   },
   "outputs": [],
   "source": [
    "o = I._get_objectified_entity(I._path_from_parts('Flow', f.get_uuid()))"
   ]
  },
  {
   "cell_type": "code",
   "execution_count": 29,
   "metadata": {
    "collapsed": false
   },
   "outputs": [
    {
     "data": {
      "text/plain": [
       "['fe0acd60-3ddc-11dd-a6f8-0050c2490048',\n",
       " <Element {http://lca.jrc.it/ILCD/Flow}name at 0x7fbaf7c82dc8>,\n",
       " <Element {http://lca.jrc.it/ILCD/Flow}classificationInformation at 0x7fbaf7c826c8>,\n",
       " 'synonyms were erroneous; removed Reference elementary flow of the International Reference Life Cycle Data System (ILCD).']"
      ]
     },
     "execution_count": 29,
     "metadata": {},
     "output_type": "execute_result"
    }
   ],
   "source": [
    "o['flowInformation']['dataSetInformation'].getchildren()"
   ]
  },
  {
   "cell_type": "code",
   "execution_count": 30,
   "metadata": {
    "collapsed": false
   },
   "outputs": [
    {
     "data": {
      "text/plain": [
       "{'(14c)methanedione',\n",
       " '000124-38-9',\n",
       " 'AC1L18VV',\n",
       " 'AC1Q28J8',\n",
       " 'AER Fixus',\n",
       " 'After-damp',\n",
       " 'Anhydride carbonique',\n",
       " 'Anhydride, Carbonic',\n",
       " 'CARBON-DIOXIDE',\n",
       " 'CO(2)',\n",
       " 'CO2',\n",
       " 'COO-',\n",
       " 'Carbon dioxide (JP15/USP)',\n",
       " 'Carbon dioxide (TN)',\n",
       " 'Carbon dioxide ion',\n",
       " 'Carbon dioxide, fossil',\n",
       " 'Carbon dioxide, from soil or biomass stock',\n",
       " 'Carbon dioxide, in air',\n",
       " 'Carbon dioxide, ion(1-)',\n",
       " 'Carbon dioxide, non-fossil',\n",
       " 'Carbon oxide (CO2)',\n",
       " 'Carbon oxide, di-',\n",
       " 'Carbonic acid anhydride',\n",
       " 'Carbonica',\n",
       " 'Correction flow for delayed emission of biogenic carbon dioxide (within first 100 years)',\n",
       " 'Correction flow for delayed emission of fossil carbon dioxide (within first 100 years)',\n",
       " 'Dioxide, Carbon',\n",
       " 'Dioxido de carbono',\n",
       " 'Dioxomethane',\n",
       " 'Dioxyde de carbone',\n",
       " 'Dry ice',\n",
       " 'KST-1A5406',\n",
       " 'Khladon 744',\n",
       " 'Kohlendioxyd',\n",
       " 'Kohlensaure',\n",
       " 'Makr carbon dioxide',\n",
       " 'R 744',\n",
       " '[CO2]',\n",
       " 'carbon dioxide',\n",
       " 'carbon dioxide (biogenic)',\n",
       " 'carbon dioxide (fossil)',\n",
       " 'carbonic acid gas',\n",
       " 'carbonic anhydride',\n",
       " 'dioxidocarbon',\n",
       " 'methane, dioxo-'}"
      ]
     },
     "execution_count": 30,
     "metadata": {},
     "output_type": "execute_result"
    }
   ],
   "source": [
    "synlist.synonyms_for('carbon dioxide')"
   ]
  },
  {
   "cell_type": "code",
   "execution_count": 4,
   "metadata": {
    "collapsed": false
   },
   "outputs": [
    {
     "name": "stdout",
     "output_type": "stream",
     "text": [
      "Found Extension: 7z\n"
     ]
    }
   ],
   "source": [
    "E = EcospoldV2Archive(ecospold_source, prefix='datasets')"
   ]
  }
 ],
 "metadata": {
  "kernelspec": {
   "display_name": "Python 3",
   "language": "python",
   "name": "python3"
  },
  "language_info": {
   "codemirror_mode": {
    "name": "ipython",
    "version": 3
   },
   "file_extension": ".py",
   "mimetype": "text/x-python",
   "name": "python",
   "nbconvert_exporter": "python",
   "pygments_lexer": "ipython3",
   "version": "3.5.1"
  }
 },
 "nbformat": 4,
 "nbformat_minor": 0
}
