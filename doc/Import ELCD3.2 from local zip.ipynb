{
 "cells": [
  {
   "cell_type": "code",
   "execution_count": 10,
   "metadata": {
    "collapsed": true
   },
   "outputs": [],
   "source": [
    "import sys\n",
    "sys.path.append('..')\n",
    "\n",
    "import lcatools\n",
    "import os"
   ]
  },
  {
   "cell_type": "code",
   "execution_count": 11,
   "metadata": {
    "collapsed": false
   },
   "outputs": [],
   "source": [
    "elcd3_file = os.path.join(os.path.expanduser('~'),'Dropbox', 'data', 'ELCD', 'ELCD3.2.zip')\n",
    "catalog_dir = os.path.join(os.path.expanduser('~'), 'GitHub', 'lca-tools-datafiles', 'catalogs')"
   ]
  },
  {
   "cell_type": "code",
   "execution_count": 3,
   "metadata": {
    "collapsed": true
   },
   "outputs": [],
   "source": [
    "from lcatools.providers.ilcd import IlcdArchive"
   ]
  },
  {
   "cell_type": "code",
   "execution_count": 4,
   "metadata": {
    "collapsed": false
   },
   "outputs": [
    {
     "name": "stdout",
     "output_type": "stream",
     "text": [
      "Found Extension: zip\n"
     ]
    }
   ],
   "source": [
    "elcd32 = IlcdArchive(elcd3_file, quiet=True)"
   ]
  },
  {
   "cell_type": "code",
   "execution_count": 5,
   "metadata": {
    "collapsed": false
   },
   "outputs": [
    {
     "data": {
      "text/plain": [
       "['processes/00043bd2-4563-4d73-8df8-b84b5d8902fc.xml',\n",
       " 'processes/00174864-910e-4952-8f02-6ea3a2efa77b.xml',\n",
       " 'processes/001b3cb7-b868-4061-8a91-3e6d7bcc90c6.xml',\n",
       " 'processes/00f9cd63-cba5-4c94-ade3-a4248a9b9dc2.xml',\n",
       " 'processes/028b2915-00a5-4967-b356-34bce19960c3.xml',\n",
       " 'processes/041ec348-4b41-4caa-afe6-8e322e1faa81.xml',\n",
       " 'processes/05169f84-22bb-48aa-a054-6cb5317b7a97.xml',\n",
       " 'processes/053bdcf5-bb2b-4ddd-8662-cbfd8c38ee97.xml',\n",
       " 'processes/05c86203-18c2-4f05-9ff2-a36dd58eed76.xml',\n",
       " 'processes/06b7cba4-aa16-43ab-8031-0719079550be.xml']"
      ]
     },
     "execution_count": 5,
     "metadata": {},
     "output_type": "execute_result"
    }
   ],
   "source": [
    "elcd32.list_objects('Process')[:10]"
   ]
  },
  {
   "cell_type": "code",
   "execution_count": 8,
   "metadata": {
    "collapsed": false,
    "scrolled": true
   },
   "outputs": [
    {
     "name": "stdout",
     "output_type": "stream",
     "text": [
      "Loading /data/Dropbox/data/ELCD/ELCD3.2.zip\n",
      "Creating DUMMY flow with name Hazardous waste (underground deposit)\n",
      "18 new quantity entities added (18 total)\n",
      "2343 new flow entities added (2343 total)\n",
      "503 new process entities added (503 total)\n",
      "CPU times: user 15.7 s, sys: 90 ms, total: 15.8 s\n",
      "Wall time: 16.1 s\n"
     ]
    }
   ],
   "source": [
    "%time elcd32.load_all()"
   ]
  },
  {
   "cell_type": "code",
   "execution_count": 7,
   "metadata": {
    "collapsed": false
   },
   "outputs": [
    {
     "data": {
      "text/plain": [
       "<lcatools.entities.LcProcess at 0x7efe42ad5240>"
      ]
     },
     "execution_count": 7,
     "metadata": {},
     "output_type": "execute_result"
    }
   ],
   "source": [
    "elcd32.retrieve_or_fetch_entity(i)"
   ]
  },
  {
   "cell_type": "code",
   "execution_count": 6,
   "metadata": {
    "collapsed": true
   },
   "outputs": [],
   "source": [
    "i = 'processes/00043bd2-4563-4d73-8df8-b84b5d8902fc.xml'"
   ]
  },
  {
   "cell_type": "code",
   "execution_count": 13,
   "metadata": {
    "collapsed": false
   },
   "outputs": [],
   "source": [
    "elcd32.write_to_file(os.path.join(catalog_dir, 'elcd_3.2.json.gz'), exchanges=True, gzip=True)"
   ]
  },
  {
   "cell_type": "code",
   "execution_count": 14,
   "metadata": {
    "collapsed": false
   },
   "outputs": [],
   "source": [
    "# len([elcd32.exchanges())  # need to upgrade to ProcessFlowInterface to do this"
   ]
  }
 ],
 "metadata": {
  "kernelspec": {
   "display_name": "Python 3",
   "language": "python",
   "name": "python3"
  },
  "language_info": {
   "codemirror_mode": {
    "name": "ipython",
    "version": 3
   },
   "file_extension": ".py",
   "mimetype": "text/x-python",
   "name": "python",
   "nbconvert_exporter": "python",
   "pygments_lexer": "ipython3",
   "version": "3.5.1"
  }
 },
 "nbformat": 4,
 "nbformat_minor": 0
}
