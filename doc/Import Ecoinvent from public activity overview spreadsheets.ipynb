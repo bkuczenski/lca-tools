{
 "cells": [
  {
   "cell_type": "code",
   "execution_count": 1,
   "metadata": {
    "collapsed": false
   },
   "outputs": [],
   "source": [
    "import sys\n",
    "sys.path.append('..')\n",
    "import os\n",
    "from os.path import expanduser\n",
    "\n",
    "import lcatools"
   ]
  },
  {
   "cell_type": "code",
   "execution_count": 2,
   "metadata": {
    "collapsed": true
   },
   "outputs": [],
   "source": [
    "from lcatools.providers.ecoinvent_spreadsheet import EcoinventSpreadsheet"
   ]
  },
  {
   "cell_type": "code",
   "execution_count": 3,
   "metadata": {
    "collapsed": false
   },
   "outputs": [],
   "source": [
    "ECOINVENT_VERSION = '3.2'\n",
    "\n",
    "SYSTEM_MODELS = ['undefined', 'apos', 'consequential', 'cut-off']\n",
    "\n",
    "datapath = os.path.join(expanduser('~'), 'Dropbox', 'data', 'Ecoinvent', ECOINVENT_VERSION)\n"
   ]
  },
  {
   "cell_type": "code",
   "execution_count": 4,
   "metadata": {
    "collapsed": true
   },
   "outputs": [],
   "source": [
    "ei = dict()\n",
    "for model in SYSTEM_MODELS:\n",
    "    pub_file = os.path.join(datapath, 'activity_overview_for_users_' + ECOINVENT_VERSION + '_' + model + '.xlsx')\n",
    "    ei[model] = EcoinventSpreadsheet(pub_file, internal=False, version=ECOINVENT_VERSION)\n",
    "    "
   ]
  },
  {
   "cell_type": "code",
   "execution_count": 6,
   "metadata": {
    "collapsed": false,
    "scrolled": true
   },
   "outputs": [
    {
     "name": "stdout",
     "output_type": "stream",
     "text": [
      "Reading elementary exchanges ...\n",
      "Reading intermediate exchanges ...\n",
      "0 new quantity entities added (20 total)\n",
      "Handling elementary exchanges [public spreadsheet]\n",
      "0 new flow entities added (6767 total)\n",
      "Handling intermediate exchanges [public spreadsheet]\n",
      "0 new flow entities added (6767 total)\n",
      "Handling activities...\n",
      "Reading activity overview ...\n",
      "0 new process entities added (13307 total)\n",
      "Reading elementary exchanges ...\n",
      "Reading intermediate exchanges ...\n",
      "0 new quantity entities added (20 total)\n",
      "Handling elementary exchanges [public spreadsheet]\n",
      "0 new flow entities added (6767 total)\n",
      "Handling intermediate exchanges [public spreadsheet]\n",
      "0 new flow entities added (6767 total)\n",
      "Handling activities...\n",
      "Reading activity overview ...\n",
      "0 new process entities added (11420 total)\n",
      "Reading elementary exchanges ...\n",
      "Reading intermediate exchanges ...\n",
      "0 new quantity entities added (20 total)\n",
      "Handling elementary exchanges [public spreadsheet]\n",
      "0 new flow entities added (6767 total)\n",
      "Handling intermediate exchanges [public spreadsheet]\n",
      "0 new flow entities added (6767 total)\n",
      "Handling activities...\n",
      "Reading activity overview ...\n",
      "0 new process entities added (11468 total)\n",
      "Reading elementary exchanges ...\n",
      "Reading intermediate exchanges ...\n",
      "0 new quantity entities added (20 total)\n",
      "Handling elementary exchanges [public spreadsheet]\n",
      "0 new flow entities added (6767 total)\n",
      "Handling intermediate exchanges [public spreadsheet]\n",
      "0 new flow entities added (6767 total)\n",
      "Handling activities...\n",
      "Reading activity overview ...\n",
      "0 new process entities added (11578 total)\n"
     ]
    }
   ],
   "source": [
    "for model in SYSTEM_MODELS:\n",
    "    ei[model].load_all()"
   ]
  },
  {
   "cell_type": "code",
   "execution_count": 18,
   "metadata": {
    "collapsed": false
   },
   "outputs": [],
   "source": [
    "for k, v in ei.items():\n",
    "    fname = 'ecoinvent_%s_%s_xlsx.json' % (ECOINVENT_VERSION, k)\n",
    "    v.write_to_file(fname, exchanges=True)"
   ]
  },
  {
   "cell_type": "code",
   "execution_count": 7,
   "metadata": {
    "collapsed": false
   },
   "outputs": [
    {
     "data": {
      "text/plain": [
       "{'apos': <lcatools.providers.ecoinvent_spreadsheet.EcoinventSpreadsheet at 0x7f420d073a20>,\n",
       " 'consequential': <lcatools.providers.ecoinvent_spreadsheet.EcoinventSpreadsheet at 0x7f420d073a90>,\n",
       " 'cut-off': <lcatools.providers.ecoinvent_spreadsheet.EcoinventSpreadsheet at 0x7f420d073b00>,\n",
       " 'undefined': <lcatools.providers.ecoinvent_spreadsheet.EcoinventSpreadsheet at 0x7f420d0739e8>}"
      ]
     },
     "execution_count": 7,
     "metadata": {},
     "output_type": "execute_result"
    }
   ],
   "source": [
    "ei"
   ]
  }
 ],
 "metadata": {
  "kernelspec": {
   "display_name": "Python 3",
   "language": "python",
   "name": "python3"
  },
  "language_info": {
   "codemirror_mode": {
    "name": "ipython",
    "version": 3
   },
   "file_extension": ".py",
   "mimetype": "text/x-python",
   "name": "python",
   "nbconvert_exporter": "python",
   "pygments_lexer": "ipython3",
   "version": "3.5.1"
  }
 },
 "nbformat": 4,
 "nbformat_minor": 0
}
