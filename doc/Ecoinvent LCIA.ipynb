{
 "cells": [
  {
   "cell_type": "code",
   "execution_count": 1,
   "metadata": {
    "collapsed": true
   },
   "outputs": [],
   "source": [
    "import sys\n",
    "sys.path.append('..')\n",
    "\n",
    "import lcatools\n",
    "import os"
   ]
  },
  {
   "cell_type": "code",
   "execution_count": 2,
   "metadata": {
    "collapsed": false
   },
   "outputs": [],
   "source": [
    "lcia_file = '/data/LCI/LCIA implementation v3.1 2014_08_13.xlsx'\n",
    "spold_archive = '/data/LCI/Ecoinvent/3.2/cutoff/datasets'\n",
    "\n",
    "catalog_dir = os.path.join(os.path.expanduser('~'), 'GitHub', 'lca-tools-datafiles', 'catalogs')\n",
    "spold_catfile = 'ei3.2_cutoff_spold.gz'"
   ]
  },
  {
   "cell_type": "markdown",
   "metadata": {
    "collapsed": false
   },
   "source": [
    "## benchmark xlrd operation\n",
    "\n",
    "%time X = xlrd.open_workbook(lcia_file)"
   ]
  },
  {
   "cell_type": "code",
   "execution_count": 2,
   "metadata": {
    "collapsed": true
   },
   "outputs": [],
   "source": [
    "import xlrd\n",
    "import re"
   ]
  },
  {
   "cell_type": "code",
   "execution_count": 3,
   "metadata": {
    "collapsed": true
   },
   "outputs": [],
   "source": [
    "from collections import defaultdict"
   ]
  },
  {
   "cell_type": "code",
   "execution_count": 10,
   "metadata": {
    "collapsed": false
   },
   "outputs": [],
   "source": [
    "s = X.sheet_by_index(1)"
   ]
  },
  {
   "cell_type": "code",
   "execution_count": 11,
   "metadata": {
    "collapsed": false
   },
   "outputs": [
    {
     "data": {
      "text/plain": [
       "'impact methods'"
      ]
     },
     "execution_count": 11,
     "metadata": {},
     "output_type": "execute_result"
    }
   ],
   "source": [
    "s.name"
   ]
  },
  {
   "cell_type": "code",
   "execution_count": 12,
   "metadata": {
    "collapsed": false
   },
   "outputs": [],
   "source": [
    "b = X.sheet_by_name('impact methods')"
   ]
  },
  {
   "cell_type": "code",
   "execution_count": 62,
   "metadata": {
    "collapsed": false
   },
   "outputs": [
    {
     "data": {
      "text/plain": [
       "['method',\n",
       " 'category',\n",
       " 'indicator',\n",
       " 'name',\n",
       " 'compartment',\n",
       " 'subcompartment',\n",
       " 'CF 3.01',\n",
       " 'CF 3.1',\n",
       " 'Change?',\n",
       " 'note',\n",
       " 'Known issue']"
      ]
     },
     "execution_count": 62,
     "metadata": {},
     "output_type": "execute_result"
    }
   ],
   "source": [
    "headings"
   ]
  },
  {
   "cell_type": "code",
   "execution_count": 54,
   "metadata": {
    "collapsed": true
   },
   "outputs": [],
   "source": [
    "cfs = []\n",
    "for row in g:\n",
    "    d = dict()\n",
    "    for i,h in enumerate(headings):\n",
    "        d[h] = row[i]\n",
    "    cfs.append(d)"
   ]
  },
  {
   "cell_type": "code",
   "execution_count": 55,
   "metadata": {
    "collapsed": false
   },
   "outputs": [
    {
     "data": {
      "text/plain": [
       "170915"
      ]
     },
     "execution_count": 55,
     "metadata": {},
     "output_type": "execute_result"
    }
   ],
   "source": [
    "len(cfs)"
   ]
  },
  {
   "cell_type": "code",
   "execution_count": 56,
   "metadata": {
    "collapsed": false
   },
   "outputs": [
    {
     "data": {
      "text/plain": [
       "{'CF 3.01': number:1.6,\n",
       " 'CF 3.1': number:1.6,\n",
       " 'Change?': text:'FALSE',\n",
       " 'Known issue': empty:'',\n",
       " 'category': text:'acidification potential',\n",
       " 'compartment': text:'air',\n",
       " 'indicator': text:'average European',\n",
       " 'method': text:'CML 2001',\n",
       " 'name': text:'Ammonia',\n",
       " 'note': text:'',\n",
       " 'subcompartment': text:'low population density, long-term'}"
      ]
     },
     "execution_count": 56,
     "metadata": {},
     "output_type": "execute_result"
    }
   ],
   "source": [
    "cfs[0]"
   ]
  },
  {
   "cell_type": "markdown",
   "metadata": {},
   "source": [
    "## generate ei_lcia"
   ]
  },
  {
   "cell_type": "code",
   "execution_count": 3,
   "metadata": {
    "collapsed": false
   },
   "outputs": [],
   "source": [
    "from lcatools.providers.ecoinvent_lcia import EcoinventLcia\n",
    "from lcatools.db_catalog import from_json\n",
    "from lcatools.providers.ecospold2 import EcospoldV2Archive"
   ]
  },
  {
   "cell_type": "code",
   "execution_count": 4,
   "metadata": {
    "collapsed": false
   },
   "outputs": [
    {
     "data": {
      "text/plain": [
       "'/data/LCI/LCIA implementation v3.1 2014_08_13.xlsx'"
      ]
     },
     "execution_count": 4,
     "metadata": {},
     "output_type": "execute_result"
    }
   ],
   "source": [
    "lcia_file"
   ]
  },
  {
   "cell_type": "markdown",
   "metadata": {},
   "source": [
    "es_upstream = EcospoldV2Archive('/data/LCI/Ecoinvent/3.2/cutoff/datasets', quiet=True)"
   ]
  },
  {
   "cell_type": "code",
   "execution_count": 5,
   "metadata": {
    "collapsed": false
   },
   "outputs": [
    {
     "name": "stdout",
     "output_type": "stream",
     "text": [
      "19 new quantity entities added (19 total)\n",
      "4681 new flow entities added (4681 total)\n",
      "11578 new process entities added (11578 total)\n"
     ]
    }
   ],
   "source": [
    "es_upstream = from_json(os.path.join(catalog_dir, spold_catfile))"
   ]
  },
  {
   "cell_type": "code",
   "execution_count": 6,
   "metadata": {
    "collapsed": false
   },
   "outputs": [
    {
     "data": {
      "text/plain": [
       "{'Classifications': ['ISIC rev.4 ecoinvent 3510:Electric power generation, transmission and distribution'],\n",
       " 'Comment': '[This dataset is meant to replace the following datasets:]',\n",
       " 'Name': 'electricity production, wind, 1-3MW turbine, onshore',\n",
       " 'SpatialScope': 'LT',\n",
       " 'TemporalScope': 'interval(2005-01-01, 2015-12-31)',\n",
       " 'entityId': '64c029f1-4871-4a9f-8ed2-6a9f4ba4ac8a',\n",
       " 'entityType': 'process',\n",
       " 'exchanges': [],\n",
       " 'externalId': '64c029f1-4871-4a9f-8ed2-6a9f4ba4ac8a',\n",
       " 'origin': '/data/LCI/Ecoinvent/3.2/cutoff/datasets'}"
      ]
     },
     "execution_count": 6,
     "metadata": {},
     "output_type": "execute_result"
    }
   ],
   "source": [
    "es_upstream.processes()[135].serialize()"
   ]
  },
  {
   "cell_type": "code",
   "execution_count": 7,
   "metadata": {
    "collapsed": false
   },
   "outputs": [
    {
     "data": {
      "text/plain": [
       "['person*km',\n",
       " 'm*year',\n",
       " 'm3',\n",
       " 'unit',\n",
       " 'ha',\n",
       " 'kWh',\n",
       " 'metric ton*km',\n",
       " 'km*year',\n",
       " 'm2*year',\n",
       " 'm3*year',\n",
       " 'kBq',\n",
       " 'm',\n",
       " 'hour',\n",
       " 'km',\n",
       " 'l',\n",
       " 'kg',\n",
       " 'm2',\n",
       " 'MJ',\n",
       " 'kg*day']"
      ]
     },
     "execution_count": 7,
     "metadata": {},
     "output_type": "execute_result"
    }
   ],
   "source": [
    "[k['referenceUnit'].unitstring() for k in es_upstream.quantities()]"
   ]
  },
  {
   "cell_type": "code",
   "execution_count": 8,
   "metadata": {
    "collapsed": false
   },
   "outputs": [],
   "source": [
    "EL = EcoinventLcia(lcia_file, upstream=es_upstream, mass_quantity=es_upstream.quantity_with_unit('kg'), \n",
    "                   ns_uuid='46802ca5-8b25-398c-af10-2376adaa4623')"
   ]
  },
  {
   "cell_type": "code",
   "execution_count": 9,
   "metadata": {
    "collapsed": false
   },
   "outputs": [
    {
     "name": "stdout",
     "output_type": "stream",
     "text": [
      "CPU times: user 20.5 s, sys: 70 ms, total: 20.6 s\n",
      "Wall time: 20.6 s\n"
     ]
    }
   ],
   "source": [
    "%time EL._load_xl_rows()"
   ]
  },
  {
   "cell_type": "code",
   "execution_count": 10,
   "metadata": {
    "collapsed": false
   },
   "outputs": [
    {
     "data": {
      "text/plain": [
       "170915"
      ]
     },
     "execution_count": 10,
     "metadata": {},
     "output_type": "execute_result"
    }
   ],
   "source": [
    "len(EL._xl_rows)"
   ]
  },
  {
   "cell_type": "code",
   "execution_count": null,
   "metadata": {
    "collapsed": true
   },
   "outputs": [],
   "source": []
  },
  {
   "cell_type": "code",
   "execution_count": 11,
   "metadata": {
    "collapsed": false
   },
   "outputs": [],
   "source": [
    "for row in EL._xl_rows:\n",
    "    EL._create_flow(row)"
   ]
  },
  {
   "cell_type": "code",
   "execution_count": 12,
   "metadata": {
    "collapsed": false
   },
   "outputs": [],
   "source": [
    "qs = set()\n",
    "for f in EL.flows():\n",
    "    qs.add(f['referenceQuantity'].get_uuid())"
   ]
  },
  {
   "cell_type": "code",
   "execution_count": 13,
   "metadata": {
    "collapsed": false
   },
   "outputs": [
    {
     "data": {
      "text/plain": [
       "['1017f68a-f818-4f9d-a34d-a31e7386f628 LC quantity: EcoSpold Quantity m2',\n",
       " 'eb955b7c-7bed-401f-9c76-5db716ca3640 LC quantity: EcoSpold Quantity m2*year',\n",
       " '487df68b-4994-4027-8fdc-a4dc298257b7 LC quantity: EcoSpold Quantity kg',\n",
       " '980b811e-3905-4797-82a5-173f5568bc7e LC quantity: EcoSpold Quantity MJ',\n",
       " 'de5b3c87-0e35-4fb0-9765-4f3ba34c99e5 LC quantity: EcoSpold Quantity m3',\n",
       " '4923348e-591b-4772-b224-d19df86f04c9 LC quantity: EcoSpold Quantity kBq']"
      ]
     },
     "execution_count": 13,
     "metadata": {},
     "output_type": "execute_result"
    }
   ],
   "source": [
    "['%s %s' % (k, EL[k]) for k in qs]"
   ]
  },
  {
   "cell_type": "code",
   "execution_count": 14,
   "metadata": {
    "collapsed": false
   },
   "outputs": [
    {
     "name": "stdout",
     "output_type": "stream",
     "text": [
      "0 new process entities added (0 total)\n",
      "3255 new flow entities added (3255 total)\n",
      "6 new quantity entities added (6 total)\n"
     ]
    }
   ],
   "source": [
    "EL.check_counter()"
   ]
  },
  {
   "cell_type": "code",
   "execution_count": 15,
   "metadata": {
    "collapsed": false
   },
   "outputs": [],
   "source": [
    "f = EL.search('30f6b7f3-65b0-3705-b096-a2ef311315c2')[0]"
   ]
  },
  {
   "cell_type": "code",
   "execution_count": 16,
   "metadata": {
    "collapsed": false
   },
   "outputs": [
    {
     "data": {
      "text/plain": [
       "'Ammonia [air, lower stratosphere + upper troposphere]'"
      ]
     },
     "execution_count": 16,
     "metadata": {},
     "output_type": "execute_result"
    }
   ],
   "source": [
    "str(f)"
   ]
  },
  {
   "cell_type": "code",
   "execution_count": 17,
   "metadata": {
    "collapsed": false
   },
   "outputs": [
    {
     "data": {
      "text/plain": [
       "[]"
      ]
     },
     "execution_count": 17,
     "metadata": {},
     "output_type": "execute_result"
    }
   ],
   "source": [
    "es_upstream.search(entity_type='flow', Name='Ammonia', Compartment='tropo')"
   ]
  },
  {
   "cell_type": "code",
   "execution_count": 18,
   "metadata": {
    "collapsed": false
   },
   "outputs": [
    {
     "data": {
      "text/plain": [
       "[<lcatools.entities.LcFlow at 0x7fb2bc4670f0>]"
      ]
     },
     "execution_count": 18,
     "metadata": {},
     "output_type": "execute_result"
    }
   ],
   "source": [
    "EL.search(entity_type='flow', Name='Ammonia', Compartment='tropo')"
   ]
  },
  {
   "cell_type": "code",
   "execution_count": 19,
   "metadata": {
    "collapsed": false
   },
   "outputs": [
    {
     "data": {
      "text/plain": [
       "{'_characterizations': set(),\n",
       " '_d': {'CasNumber': '007447-40-7',\n",
       "  'Comment': 'EcoSpold02 Flow',\n",
       "  'Compartment': ['natural resource', 'in ground'],\n",
       "  'Name': 'Sylvite, 25 % in sylvinite, in ground',\n",
       "  'origin': '/data/LCI/Ecoinvent/3.2/cutoff/datasets'},\n",
       " '_external_ref': 'Sylvite, 25 % in sylvinite, in ground, natural resource, in ground',\n",
       " '_ref_quantity_factor': 1.0,\n",
       " '_uuid': UUID('d80610f2-df83-4e2a-9dc3-f74fced6577f'),\n",
       " 'entity_type': 'flow',\n",
       " 'reference_entity': <lcatools.entities.LcQuantity at 0x7fb2ba830518>}"
      ]
     },
     "execution_count": 19,
     "metadata": {},
     "output_type": "execute_result"
    }
   ],
   "source": [
    "EL.flows()[0].__dict__"
   ]
  },
  {
   "cell_type": "code",
   "execution_count": 20,
   "metadata": {
    "collapsed": false
   },
   "outputs": [
    {
     "data": {
      "text/plain": [
       "{'CasNumber': '007447-40-7',\n",
       " 'Comment': 'EcoSpold02 Flow',\n",
       " 'Compartment': ['natural resource', 'in ground'],\n",
       " 'EntityType': 'flow',\n",
       " 'Name': 'Sylvite, 25 % in sylvinite, in ground',\n",
       " 'referenceQuantity': <lcatools.entities.LcQuantity at 0x7fb2ba830518>}"
      ]
     },
     "execution_count": 20,
     "metadata": {},
     "output_type": "execute_result"
    }
   ],
   "source": [
    "EL.flows()[0].get_signature()"
   ]
  },
  {
   "cell_type": "code",
   "execution_count": 21,
   "metadata": {
    "collapsed": false
   },
   "outputs": [
    {
     "name": "stdout",
     "output_type": "stream",
     "text": [
      "0 new process entities added (0 total)\n",
      "0 new flow entities added (3255 total)\n",
      "701 new quantity entities added (707 total)\n",
      "CPU times: user 10.2 s, sys: 60 ms, total: 10.2 s\n",
      "Wall time: 10.2 s\n"
     ]
    }
   ],
   "source": [
    "%time EL.load_all()"
   ]
  },
  {
   "cell_type": "code",
   "execution_count": null,
   "metadata": {
    "collapsed": true
   },
   "outputs": [],
   "source": []
  },
  {
   "cell_type": "code",
   "execution_count": 23,
   "metadata": {
    "collapsed": false
   },
   "outputs": [
    {
     "data": {
      "text/plain": [
       "[' 3.325e-02 [] LC quantity: eco-indicator 99, (H,A), human health, respiratory effects',\n",
       " ' 2.477e-02 [] LC quantity: eco-indicator 99, (E,E), total, total',\n",
       " ' 2.477e-02 [] LC quantity: eco-indicator 99, (E,E), human health, total',\n",
       " ' 2.000e-01 [] LC quantity: EDIP, environmental impact, photochemical ozone formation, low NOx POCP',\n",
       " ' 1.000e+00 [] LC quantity: selected LCI results, air, NMVOC',\n",
       " ' 8.353e-01 [] LC quantity: USEtox, ecotoxicity, total',\n",
       " ' 1.400e+04 [] LC quantity: ecological scarcity 2013, total, total',\n",
       " ' 6.400e+04 [] LC quantity: ecological scarcity 1997, total, total',\n",
       " ' 3.325e-02 [] LC quantity: eco-indicator 99, (H,A), human health, total',\n",
       " ' 2.477e-02 [] LC quantity: eco-indicator 99, (E,E), human health, respiratory effects',\n",
       " ' 3.000e-01 [] LC quantity: EDIP, environmental impact, photochemical ozone formation, high NOx POCP',\n",
       " ' 1.800e+04 [] LC quantity: ecological scarcity 2006, total, total',\n",
       " ' 2.000e+00 [] LC quantity: EDIP, environmental impact, global warming, GWP 20a',\n",
       " ' 2.000e+00 [] LC quantity: EDIP, environmental impact, global warming, GWP 100a',\n",
       " ' 3.200e+04 [] LC quantity: ecological scarcity 1997, total, emission into air',\n",
       " ' 1.800e+04 [] LC quantity: ecological scarcity 2006, total, emission into air',\n",
       " ' 3.325e-02 [] LC quantity: eco-indicator 99, (H,A), total, total',\n",
       " ' 3.894e-02 [] LC quantity: EDIP2003, photochemical ozone formation, impacts on human health',\n",
       " ' 1.400e+04 [] LC quantity: ecological scarcity 2013, total, Main air pollutants and PM',\n",
       " ' 4.818e+02 [] LC quantity: EDIP2003, photochemical ozone formation, impacts on vegetation',\n",
       " ' 2.000e+00 [] LC quantity: EDIP, environmental impact, global warming, GWP 500a']"
      ]
     },
     "execution_count": 23,
     "metadata": {},
     "output_type": "execute_result"
    }
   ],
   "source": [
    "[ '%10.3e [] %s' % (x.value, x.quantity) \n",
    " for x in EL['9d07940b-de52-3114-a800-9c3b26530734']._characterizations \n",
    " if x.value is not None]"
   ]
  },
  {
   "cell_type": "code",
   "execution_count": 27,
   "metadata": {
    "collapsed": false
   },
   "outputs": [
    {
     "data": {
      "text/plain": [
       "'/data/LCI/LCIA implementation v3.1 2014_08_13.xlsx'"
      ]
     },
     "execution_count": 27,
     "metadata": {},
     "output_type": "execute_result"
    }
   ],
   "source": [
    "EL['9d07940b-de52-3114-a800-9c3b26530734']['origin']"
   ]
  },
  {
   "cell_type": "code",
   "execution_count": 25,
   "metadata": {
    "collapsed": false
   },
   "outputs": [],
   "source": [
    "EL.write_to_file(os.path.join(catalog_dir, 'ei_lcia.json.gz'), gzip=True, characterizations=True, values=True)"
   ]
  },
  {
   "cell_type": "code",
   "execution_count": 28,
   "metadata": {
    "collapsed": false
   },
   "outputs": [
    {
     "data": {
      "text/plain": [
       "{'CasNumber': '',\n",
       " 'Comment': '',\n",
       " 'Compartment': ['water', 'ocean'],\n",
       " 'EntityType': 'flow',\n",
       " 'Name': 'Cobalt-60',\n",
       " 'referenceQuantity': <lcatools.entities.LcQuantity at 0x7fb2ba830518>}"
      ]
     },
     "execution_count": 28,
     "metadata": {},
     "output_type": "execute_result"
    }
   ],
   "source": [
    "EL.flows()[100].get_signature()"
   ]
  },
  {
   "cell_type": "code",
   "execution_count": 29,
   "metadata": {
    "collapsed": true
   },
   "outputs": [],
   "source": [
    "\"\"\"\n",
    "entity generator-- I need a flow\n",
    "\"\"\"\n",
    "\n",
    "def en_gen(archive):\n",
    "    for k in archive._entities.keys():\n",
    "        v = archive._get_entity(k)\n",
    "        if v.entity_type == 'flow':\n",
    "            yield v\n",
    "u = en_gen(es_upstream)"
   ]
  },
  {
   "cell_type": "code",
   "execution_count": 30,
   "metadata": {
    "collapsed": false
   },
   "outputs": [],
   "source": [
    "e = next(u)"
   ]
  },
  {
   "cell_type": "code",
   "execution_count": 31,
   "metadata": {
    "collapsed": false
   },
   "outputs": [
    {
     "data": {
      "text/plain": [
       "['natural resource', 'land']"
      ]
     },
     "execution_count": 31,
     "metadata": {},
     "output_type": "execute_result"
    }
   ],
   "source": [
    "next(u)['Compartment']"
   ]
  },
  {
   "cell_type": "code",
   "execution_count": 32,
   "metadata": {
    "collapsed": false
   },
   "outputs": [
    {
     "data": {
      "text/plain": [
       "['Strontium', 'soil', 'agricultural']"
      ]
     },
     "execution_count": 32,
     "metadata": {},
     "output_type": "execute_result"
    }
   ],
   "source": [
    "e = next(u)\n",
    "[e['Name']] + e['Compartment']"
   ]
  },
  {
   "cell_type": "code",
   "execution_count": 33,
   "metadata": {
    "collapsed": false
   },
   "outputs": [
    {
     "data": {
      "text/plain": [
       "<lcatools.entities.LcFlow at 0x7fb2bb67cf60>"
      ]
     },
     "execution_count": 33,
     "metadata": {},
     "output_type": "execute_result"
    }
   ],
   "source": [
    "e"
   ]
  },
  {
   "cell_type": "code",
   "execution_count": 37,
   "metadata": {
    "collapsed": true
   },
   "outputs": [],
   "source": [
    "unique_names = set([f['Name'] for f in EL.flows()])"
   ]
  },
  {
   "cell_type": "code",
   "execution_count": 38,
   "metadata": {
    "collapsed": false
   },
   "outputs": [
    {
     "data": {
      "text/plain": [
       "984"
      ]
     },
     "execution_count": 38,
     "metadata": {},
     "output_type": "execute_result"
    }
   ],
   "source": [
    "len(unique_names)"
   ]
  },
  {
   "cell_type": "code",
   "execution_count": 39,
   "metadata": {
    "collapsed": false
   },
   "outputs": [
    {
     "data": {
      "text/plain": [
       "['Metamorphous rock, graphite containing, in ground',\n",
       " 'Barium-140',\n",
       " 'Pirimicarb',\n",
       " 'Zinc-65',\n",
       " 'Sylvite, 25 % in sylvinite, in ground',\n",
       " 'Phosphoric acid',\n",
       " 'Methyl lactate',\n",
       " 'Polychlorinated biphenyls',\n",
       " 'Copper, 2.19% in sulfide, Cu 1.83% and Mo 8.2E-3% in crude ore, in ground',\n",
       " 'Iodine']"
      ]
     },
     "execution_count": 39,
     "metadata": {},
     "output_type": "execute_result"
    }
   ],
   "source": [
    "list(unique_names)[:10]"
   ]
  }
 ],
 "metadata": {
  "kernelspec": {
   "display_name": "Python 3",
   "language": "python",
   "name": "python3"
  },
  "language_info": {
   "codemirror_mode": {
    "name": "ipython",
    "version": 3
   },
   "file_extension": ".py",
   "mimetype": "text/x-python",
   "name": "python",
   "nbconvert_exporter": "python",
   "pygments_lexer": "ipython3",
   "version": "3.5.1"
  }
 },
 "nbformat": 4,
 "nbformat_minor": 0
}
