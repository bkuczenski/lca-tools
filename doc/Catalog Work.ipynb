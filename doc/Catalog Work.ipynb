{
 "cells": [
  {
   "cell_type": "code",
   "execution_count": 1,
   "metadata": {
    "collapsed": false
   },
   "outputs": [],
   "source": [
    "import sys\n",
    "sys.path.append('..')\n",
    "\n",
    "#from lcatools.db_catalog import *\n",
    "from lcatools.tools import gz_files, split_nick\n",
    "from lcatools.lca_catalog import LcaCatalog\n",
    "\n",
    "import re\n",
    "import os"
   ]
  },
  {
   "cell_type": "code",
   "execution_count": 2,
   "metadata": {
    "collapsed": false
   },
   "outputs": [],
   "source": [
    "#catalog_dir = os.path.abspath(os.path.join(os.path.expanduser('~'), 'Documents', 'GitHub', 'lca-tools-datafiles', 'catalogs'))\n",
    "catalog_dir = os.path.abspath(os.path.join('/data', 'GitHub', 'lca-tools-datafiles', 'catalogs'))"
   ]
  },
  {
   "cell_type": "code",
   "execution_count": 3,
   "metadata": {
    "collapsed": false
   },
   "outputs": [],
   "source": [
    "files = gz_files(catalog_dir)\n",
    "names = [split_nick(f) for f in files]"
   ]
  },
  {
   "cell_type": "code",
   "execution_count": 4,
   "metadata": {
    "collapsed": false
   },
   "outputs": [
    {
     "data": {
      "text/plain": [
       "['/data/GitHub/lca-tools-datafiles/catalogs/ecoinvent_3.2_apos_xlsx.json.gz',\n",
       " '/data/GitHub/lca-tools-datafiles/catalogs/ecoinvent_3.2_consequential_xlsx.json.gz',\n",
       " '/data/GitHub/lca-tools-datafiles/catalogs/ecoinvent_3.2_cut-off_xlsx.json.gz',\n",
       " '/data/GitHub/lca-tools-datafiles/catalogs/ecoinvent_3.2_undefined_xlsx.json.gz',\n",
       " '/data/GitHub/lca-tools-datafiles/catalogs/ei_lcia.json.gz',\n",
       " '/data/GitHub/lca-tools-datafiles/catalogs/elcd_3.2.json.gz',\n",
       " '/data/GitHub/lca-tools-datafiles/catalogs/gabi_2016_all-extensions.json.gz',\n",
       " '/data/GitHub/lca-tools-datafiles/catalogs/gabi_2016_professional-database-2016.json.gz',\n",
       " '/data/GitHub/lca-tools-datafiles/catalogs/uslci_ecospold.json.gz']"
      ]
     },
     "execution_count": 4,
     "metadata": {},
     "output_type": "execute_result"
    }
   ],
   "source": [
    "files"
   ]
  },
  {
   "cell_type": "code",
   "execution_count": 5,
   "metadata": {
    "collapsed": false
   },
   "outputs": [],
   "source": [
    "C = LcaCatalog()"
   ]
  },
  {
   "cell_type": "code",
   "execution_count": 6,
   "metadata": {
    "collapsed": false
   },
   "outputs": [
    {
     "name": "stdout",
     "output_type": "stream",
     "text": [
      "Loading JSON data from /data/GitHub/lca-tools-datafiles/catalogs/ecoinvent_3.2_apos_xlsx.json.gz:\n",
      "20 new quantity entities added (20 total)\n",
      "6767 new flow entities added (6767 total)\n",
      "11420 new process entities added (11420 total)\n"
     ]
    }
   ],
   "source": [
    "C.load_json_archive(files[0], nick=names[0])"
   ]
  },
  {
   "cell_type": "code",
   "execution_count": 7,
   "metadata": {
    "collapsed": false
   },
   "outputs": [
    {
     "name": "stdout",
     "output_type": "stream",
     "text": [
      "[ 0] (       ecoinvent_3.2_apos_xlsx) {f} sugar refinery [Intermediate flow] \n",
      "[ 1] (       ecoinvent_3.2_apos_xlsx) {f} vinasse, from fermentation of sugarcane [Intermediate flow] \n",
      "[ 2] (       ecoinvent_3.2_apos_xlsx) {f} vinasse, from fermentation of sugar beet [Intermediate flow] \n",
      "[ 3] (       ecoinvent_3.2_apos_xlsx) {f} sugar beet seed, for sowing [Intermediate flow] \n",
      "[ 4] (       ecoinvent_3.2_apos_xlsx) {f} sugar beet pulp [Intermediate flow] \n",
      "[ 5] (       ecoinvent_3.2_apos_xlsx) {f} ash, from combustion of bagasse from sugar cane [Intermediate flow] \n",
      "[ 6] (       ecoinvent_3.2_apos_xlsx) {f} bagasse, from sugarcane [Intermediate flow] \n",
      "[ 7] (       ecoinvent_3.2_apos_xlsx) {f} sugar, from sugar beet [Intermediate flow] \n",
      "[ 8] (       ecoinvent_3.2_apos_xlsx) {f} molasses, from sugar beet [Intermediate flow] \n",
      "[ 9] (       ecoinvent_3.2_apos_xlsx) {f} vinasse, from fermentation of sugarcane molasses [Intermediate flow] \n",
      "[10] (       ecoinvent_3.2_apos_xlsx) {f} sugarcane [Intermediate flow] \n",
      "[11] (       ecoinvent_3.2_apos_xlsx) {f} vinasse, from fermentation of sugar beet molasses [Intermediate flow] \n",
      "[12] (       ecoinvent_3.2_apos_xlsx) {f} sugar beet [Intermediate flow] \n",
      "[13] (       ecoinvent_3.2_apos_xlsx) {f} sugar, from sugarcane [Intermediate flow] \n"
     ]
    }
   ],
   "source": [
    "r = C.search(entity_type='flow', Name='sugar', show=True)"
   ]
  },
  {
   "cell_type": "code",
   "execution_count": 8,
   "metadata": {
    "collapsed": false
   },
   "outputs": [
    {
     "data": {
      "text/plain": [
       "'(       ecoinvent_3.2_apos_xlsx) {f} vinasse, from fermentation of sugarcane [Intermediate flow]'"
      ]
     },
     "execution_count": 8,
     "metadata": {},
     "output_type": "execute_result"
    }
   ],
   "source": [
    "str(r[1])"
   ]
  },
  {
   "cell_type": "code",
   "execution_count": 9,
   "metadata": {
    "collapsed": false
   },
   "outputs": [
    {
     "data": {
      "text/plain": [
       "{'catalog': <lcatools.lca_catalog.LcaCatalog at 0x7f91e37a2da0>,\n",
       " 'id': '7a88cece-65d6-34f4-84f5-5c30f6656782',\n",
       " 'index': 0}"
      ]
     },
     "execution_count": 9,
     "metadata": {},
     "output_type": "execute_result"
    }
   ],
   "source": [
    "r[1].__dict__"
   ]
  },
  {
   "cell_type": "code",
   "execution_count": 10,
   "metadata": {
    "collapsed": false
   },
   "outputs": [
    {
     "data": {
      "text/plain": [
       "<generator object LogicalFlow.exchanges at 0x7f91e172b0a0>"
      ]
     },
     "execution_count": 10,
     "metadata": {},
     "output_type": "execute_result"
    }
   ],
   "source": [
    "C.exchanges(r[1])"
   ]
  },
  {
   "cell_type": "code",
   "execution_count": 11,
   "metadata": {
    "collapsed": false
   },
   "outputs": [
    {
     "data": {
      "text/plain": [
       "lcatools.catalog.CatalogRef"
      ]
     },
     "execution_count": 11,
     "metadata": {},
     "output_type": "execute_result"
    }
   ],
   "source": [
    "type(r[1])"
   ]
  },
  {
   "cell_type": "code",
   "execution_count": 12,
   "metadata": {
    "collapsed": true
   },
   "outputs": [],
   "source": [
    "keys = [k for k in C._pf._flows.keys() if k.index == 0]"
   ]
  },
  {
   "cell_type": "code",
   "execution_count": 13,
   "metadata": {
    "collapsed": false
   },
   "outputs": [
    {
     "data": {
      "text/plain": [
       "2696"
      ]
     },
     "execution_count": 13,
     "metadata": {},
     "output_type": "execute_result"
    }
   ],
   "source": [
    "len(keys)"
   ]
  },
  {
   "cell_type": "code",
   "execution_count": 14,
   "metadata": {
    "collapsed": false
   },
   "outputs": [
    {
     "data": {
      "text/plain": [
       "lcatools.catalog.CatalogRef"
      ]
     },
     "execution_count": 14,
     "metadata": {},
     "output_type": "execute_result"
    }
   ],
   "source": [
    "type(keys[0])"
   ]
  },
  {
   "cell_type": "code",
   "execution_count": 15,
   "metadata": {
    "collapsed": false
   },
   "outputs": [
    {
     "data": {
      "text/plain": [
       "True"
      ]
     },
     "execution_count": 15,
     "metadata": {},
     "output_type": "execute_result"
    }
   ],
   "source": [
    "r[1] in keys"
   ]
  },
  {
   "cell_type": "code",
   "execution_count": 16,
   "metadata": {
    "collapsed": false
   },
   "outputs": [],
   "source": [
    "key = [ k for k in keys if k.id == r[1].id]"
   ]
  },
  {
   "cell_type": "code",
   "execution_count": 17,
   "metadata": {
    "collapsed": false
   },
   "outputs": [
    {
     "data": {
      "text/plain": [
       "['(       ecoinvent_3.2_apos_xlsx) {f} vinasse, from fermentation of sugarcane [Intermediate flow]']"
      ]
     },
     "execution_count": 17,
     "metadata": {},
     "output_type": "execute_result"
    }
   ],
   "source": [
    "[str(k) for k in key]"
   ]
  },
  {
   "cell_type": "code",
   "execution_count": 18,
   "metadata": {
    "collapsed": false
   },
   "outputs": [
    {
     "data": {
      "text/plain": [
       "{'catalog': <lcatools.lca_catalog.LcaCatalog at 0x7f91e37a2da0>,\n",
       " 'id': '7a88cece-65d6-34f4-84f5-5c30f6656782',\n",
       " 'index': 0}"
      ]
     },
     "execution_count": 18,
     "metadata": {},
     "output_type": "execute_result"
    }
   ],
   "source": [
    "key[0].__dict__"
   ]
  },
  {
   "cell_type": "code",
   "execution_count": 19,
   "metadata": {
    "collapsed": false
   },
   "outputs": [
    {
     "data": {
      "text/plain": [
       "<lcatools.catalog.CatalogRef at 0x7f91e13b7f98>"
      ]
     },
     "execution_count": 19,
     "metadata": {},
     "output_type": "execute_result"
    }
   ],
   "source": [
    "r[1]"
   ]
  },
  {
   "cell_type": "code",
   "execution_count": 20,
   "metadata": {
    "collapsed": false
   },
   "outputs": [
    {
     "data": {
      "text/plain": [
       "True"
      ]
     },
     "execution_count": 20,
     "metadata": {},
     "output_type": "execute_result"
    }
   ],
   "source": [
    "r[1] == key[0]"
   ]
  },
  {
   "cell_type": "code",
   "execution_count": 21,
   "metadata": {
    "collapsed": false
   },
   "outputs": [
    {
     "data": {
      "text/plain": [
       "False"
      ]
     },
     "execution_count": 21,
     "metadata": {},
     "output_type": "execute_result"
    }
   ],
   "source": [
    "r[1] is key[0]"
   ]
  },
  {
   "cell_type": "code",
   "execution_count": 22,
   "metadata": {
    "collapsed": false
   },
   "outputs": [
    {
     "data": {
      "text/plain": [
       "['[ecoinvent_3.2_apos_xlsx] field application of vinasse, from fermentation of sugarcane [GLO]',\n",
       " '[ecoinvent_3.2_apos_xlsx] market for vinasse, from fermentation of sugarcane [GLO]']"
      ]
     },
     "execution_count": 22,
     "metadata": {},
     "output_type": "execute_result"
    }
   ],
   "source": [
    "['[%s] %s' % (C.name(i[0]), i[1].process) for i in C.exchanges(r[1])]"
   ]
  },
  {
   "cell_type": "code",
   "execution_count": 23,
   "metadata": {
    "collapsed": false
   },
   "outputs": [
    {
     "name": "stdout",
     "output_type": "stream",
     "text": [
      "source /data/GitHub/lca-tools-datafiles/catalogs/ecoinvent_3.2_apos_xlsx.json.gz already loaded\n",
      "overwrite=True to overwrite\n",
      "Loading JSON data from /data/GitHub/lca-tools-datafiles/catalogs/ecoinvent_3.2_consequential_xlsx.json.gz:\n",
      "20 new quantity entities added (20 total)\n",
      "6767 new flow entities added (6767 total)\n",
      "11468 new process entities added (11468 total)\n",
      "Loading JSON data from /data/GitHub/lca-tools-datafiles/catalogs/ecoinvent_3.2_cut-off_xlsx.json.gz:\n",
      "20 new quantity entities added (20 total)\n",
      "6767 new flow entities added (6767 total)\n",
      "11578 new process entities added (11578 total)\n",
      "Loading JSON data from /data/GitHub/lca-tools-datafiles/catalogs/ecoinvent_3.2_undefined_xlsx.json.gz:\n",
      "20 new quantity entities added (20 total)\n",
      "6767 new flow entities added (6767 total)\n",
      "13307 new process entities added (13307 total)\n",
      "Loading JSON data from /data/GitHub/lca-tools-datafiles/catalogs/ei_lcia.json.gz:\n",
      "**Upstream reference encountered: /data/LCI/Ecoinvent/3.2/cutoff/datasets\n",
      "\n",
      "708 new quantity entities added (708 total)\n",
      "3255 new flow entities added (3255 total)\n",
      "0 new process entities added (0 total)\n",
      "Upstream ref /data/LCI/Ecoinvent/3.2/cutoff/datasets not found in catalog!\n",
      "Loading JSON data from /data/GitHub/lca-tools-datafiles/catalogs/elcd_3.2.json.gz:\n",
      "Found Extension: zip\n",
      "18 new quantity entities added (18 total)\n",
      "2343 new flow entities added (2343 total)\n",
      "503 new process entities added (503 total)\n",
      "Loading JSON data from /data/GitHub/lca-tools-datafiles/catalogs/gabi_2016_all-extensions.json.gz:\n",
      "Archive refers to a web address using protocol http\n",
      " caching files locally in /data/GitHub/lca-tools/lcatools/providers/web_cache/gabi-documentation-2016.gabi-software.com/xml-data/\n",
      "Found file in cache: unitgroups/5beb6eed-33a9-47b8-9ede-1dfe8f679159.xml\n",
      "Found file in cache: unitgroups/3620148f-c5db-48ce-9065-a10092089aca.xml\n",
      "Found file in cache: unitgroups/838aaa22-0117-11db-92e3-0800200c9a66.xml\n",
      "Found file in cache: unitgroups/8992910b-42c3-4cc5-96fa-66ac4ac3b6de.xml\n",
      "Found file in cache: unitgroups/93a60a57-a4c8-11da-a746-0800200c9a66.xml\n",
      "Found file in cache: unitgroups/93a60a57-a3c8-11da-a746-0800200c9a66.xml\n",
      "Found file in cache: unitgroups/93a60a57-a3c8-12da-a746-0800200c9a66.xml\n",
      "Found file in cache: unitgroups/93a60a57-a3c8-11da-a746-0800200c9a66.xml\n",
      "Found file in cache: unitgroups/93a60a57-a3c8-18da-a746-0800200c9a66.xml\n",
      "Found file in cache: unitgroups/93a60a57-a3c8-12da-a746-0800200c9a66.xml\n",
      "Found file in cache: unitgroups/46076063-39cb-4e0e-9b18-f6d04fee3f60.xml\n",
      "Found file in cache: unitgroups/af638906-3ec7-4314-8de7-f76039f2dd01.xml\n",
      "12 new quantity entities added (12 total)\n",
      "2304 new flow entities added (2304 total)\n",
      "7457 new process entities added (7457 total)\n",
      "Loading JSON data from /data/GitHub/lca-tools-datafiles/catalogs/gabi_2016_professional-database-2016.json.gz:\n",
      "Archive refers to a web address using protocol http\n",
      " caching files locally in /data/GitHub/lca-tools/lcatools/providers/web_cache/gabi-documentation-2016.gabi-software.com/xml-data/\n",
      "Found file in cache: unitgroups/5beb6eed-33a9-47b8-9ede-1dfe8f679159.xml\n",
      "Found file in cache: unitgroups/3620148f-c5db-48ce-9065-a10092089aca.xml\n",
      "Found file in cache: unitgroups/838aaa22-0117-11db-92e3-0800200c9a66.xml\n",
      "Found file in cache: unitgroups/93a60a57-a4c8-11da-a746-0800200c9a66.xml\n",
      "Found file in cache: unitgroups/93a60a57-a3c8-11da-a746-0800200c9a66.xml\n",
      "Found file in cache: unitgroups/93a60a57-a3c8-12da-a746-0800200c9a66.xml\n",
      "Found file in cache: unitgroups/93a60a57-a3c8-18da-a746-0800200c9a66.xml\n",
      "Found file in cache: unitgroups/93a60a57-a3c8-12da-a746-0800200c9a66.xml\n",
      "Found file in cache: unitgroups/af638906-3ec7-4314-8de7-f76039f2dd01.xml\n",
      "Found file in cache: unitgroups/b3a220db-0613-42ab-84bc-b153d339cb0d.xml\n",
      "10 new quantity entities added (10 total)\n",
      "762 new flow entities added (762 total)\n",
      "3319 new process entities added (3319 total)\n",
      "Loading JSON data from /data/GitHub/lca-tools-datafiles/catalogs/uslci_ecospold.json.gz:\n",
      "Found Extension: zip\n",
      "19 new quantity entities added (19 total)\n",
      "4176 new flow entities added (4176 total)\n",
      "701 new process entities added (701 total)\n"
     ]
    }
   ],
   "source": [
    "C._install_catalogs_from_dir(catalog_dir)"
   ]
  },
  {
   "cell_type": "code",
   "execution_count": 24,
   "metadata": {
    "collapsed": false
   },
   "outputs": [
    {
     "data": {
      "text/plain": [
       "{'/data/GitHub/lca-tools-datafiles/catalogs/ecoinvent_3.2_apos_xlsx.json.gz': 0,\n",
       " '/data/GitHub/lca-tools-datafiles/catalogs/ecoinvent_3.2_consequential_xlsx.json.gz': 1,\n",
       " '/data/GitHub/lca-tools-datafiles/catalogs/ecoinvent_3.2_cut-off_xlsx.json.gz': 2,\n",
       " '/data/GitHub/lca-tools-datafiles/catalogs/ecoinvent_3.2_undefined_xlsx.json.gz': 3,\n",
       " '/data/GitHub/lca-tools-datafiles/catalogs/ei_lcia.json.gz': 4,\n",
       " '/data/GitHub/lca-tools-datafiles/catalogs/elcd_3.2.json.gz': 5,\n",
       " '/data/GitHub/lca-tools-datafiles/catalogs/gabi_2016_all-extensions.json.gz': 6,\n",
       " '/data/GitHub/lca-tools-datafiles/catalogs/gabi_2016_professional-database-2016.json.gz': 7,\n",
       " '/data/GitHub/lca-tools-datafiles/catalogs/uslci_ecospold.json.gz': 8}"
      ]
     },
     "execution_count": 24,
     "metadata": {},
     "output_type": "execute_result"
    }
   ],
   "source": [
    "C._sources_loaded"
   ]
  },
  {
   "cell_type": "code",
   "execution_count": 25,
   "metadata": {
    "collapsed": false
   },
   "outputs": [],
   "source": [
    "s = C.retrieve(None,'Acetic acid, at plant')"
   ]
  },
  {
   "cell_type": "code",
   "execution_count": 26,
   "metadata": {
    "collapsed": false
   },
   "outputs": [
    {
     "data": {
      "text/plain": [
       "lcatools.catalog.CatalogRef"
      ]
     },
     "execution_count": 26,
     "metadata": {},
     "output_type": "execute_result"
    }
   ],
   "source": [
    "type(s)"
   ]
  },
  {
   "cell_type": "code",
   "execution_count": 27,
   "metadata": {
    "collapsed": false
   },
   "outputs": [
    {
     "data": {
      "text/plain": [
       "'(                uslci_ecospold) {p} Acetic acid, at plant [RNA]'"
      ]
     },
     "execution_count": 27,
     "metadata": {},
     "output_type": "execute_result"
    }
   ],
   "source": [
    "str(s)"
   ]
  },
  {
   "cell_type": "code",
   "execution_count": 28,
   "metadata": {
    "collapsed": false
   },
   "outputs": [
    {
     "data": {
      "text/plain": [
       "<generator object ProcessFlowInterface.exchanges.<locals>.<genexpr> at 0x7f91da3903b8>"
      ]
     },
     "execution_count": 28,
     "metadata": {},
     "output_type": "execute_result"
    }
   ],
   "source": [
    "C.exchanges(s)"
   ]
  },
  {
   "cell_type": "code",
   "execution_count": 29,
   "metadata": {
    "collapsed": false
   },
   "outputs": [
    {
     "data": {
      "text/plain": [
       "[' Input: [0.00492 [t*km]] Transport, train, diesel powered [Rail Transportation, Rail Transportation]',\n",
       " ' Input: [0.0218 [kWh]] Electricity, at grid, US, 2000 [Utilities, Electric Power Distribution]',\n",
       " ' Input: [0.539 [kg]] Methanol, at plant [Chemical Manufacturing, All Other Basic Organic Chemical Manufacturing]',\n",
       " ' Input: [0.000867 [t*km]] Transport, pipeline, unspecified petroleum products [Utilities, Fossil Fuel Electric Power Generation]',\n",
       " ' Input: [0.00205 [kWh]] Electricity, at cogen, for natural gas turbine [Utilities, Fossil Fuel Electric Power Generation]',\n",
       " ' Input: [0.00056 [kg]] CUTOFF Disposal, solid waste, unspecified, to sanitary landfill [CUTOFF Flows]',\n",
       " ' Input: [0.441 [m3]] Natural gas, processed, at plant [Chemical Manufacturing, Petrochemical Manufacturing]',\n",
       " ' Input: [0.224 [m3]] Natural gas, combusted in industrial boiler [Utilities, Steam and Air-Conditioning Supply]',\n",
       " ' Input: [0.00954 [t*km]] Transport, barge, diesel powered [Water Transportation, Inland Water Freight Transportation]',\n",
       " ' Input: [0.0338 [t*km]] Transport, barge, residual fuel oil powered [Water Transportation, Inland Water Freight Transportation]',\n",
       " ' Input: [0.492 [t*km]] Transport, pipeline, natural gas [Utilities, Fossil Fuel Electric Power Generation]',\n",
       " ' Input: [0.00492 [t*km]] Transport, combination truck, diesel powered [Truck Transportation, General Freight Trucking]',\n",
       " 'Output: [0.00397 [kg]] Carbon monoxide [air, unspecified]',\n",
       " 'Output: [0.00176 [kg]] carbon dioxide [air, unspecified]',\n",
       " 'Output: [0.00057 [kg]] Ammonia  [air, unspecified]',\n",
       " 'Output: [0.188 [MJ]] Recovered energy, at acetic acid production [Chemical Manufacturing, All Other Basic Organic Chemical Manufacturing]',\n",
       " 'Output: [1 [kg]] Acetic acid, at plant [Chemical Manufacturing, All Other Basic Organic Chemical Manufacturing]',\n",
       " 'Output: [4e-05 [kg]] Methanol [air, unspecified]',\n",
       " 'Output: [0.00217 [kg]] TOC, Total Organic Carbon [air, unspecified]',\n",
       " 'Output: [5.2e-05 [kg]] Ammonia [water, unspecified]',\n",
       " 'Output: [0.00096 [kg]] Acids, unspecified [water, unspecified]']"
      ]
     },
     "execution_count": 29,
     "metadata": {},
     "output_type": "execute_result"
    }
   ],
   "source": [
    "[str(x.exchange) for x in C.exchanges(s)]"
   ]
  },
  {
   "cell_type": "code",
   "execution_count": 30,
   "metadata": {
    "collapsed": false
   },
   "outputs": [
    {
     "data": {
      "text/plain": [
       "[<lcatools.exchanges.ExchangeValue at 0x7f91d0a48438>,\n",
       " <lcatools.exchanges.ExchangeValue at 0x7f91d0a484e0>,\n",
       " <lcatools.exchanges.ExchangeValue at 0x7f91d0a48518>,\n",
       " <lcatools.exchanges.ExchangeValue at 0x7f91d0a48550>,\n",
       " <lcatools.exchanges.ExchangeValue at 0x7f91d0a48588>,\n",
       " <lcatools.exchanges.ExchangeValue at 0x7f91d0a485c0>,\n",
       " <lcatools.exchanges.ExchangeValue at 0x7f91d0a485f8>,\n",
       " <lcatools.exchanges.ExchangeValue at 0x7f91d0a484a8>,\n",
       " <lcatools.exchanges.ExchangeValue at 0x7f91d0a48470>]"
      ]
     },
     "execution_count": 30,
     "metadata": {},
     "output_type": "execute_result"
    }
   ],
   "source": [
    "[x.exchange for x in C.exchanges(s, direction='Output')]"
   ]
  },
  {
   "cell_type": "code",
   "execution_count": 31,
   "metadata": {
    "collapsed": false
   },
   "outputs": [
    {
     "data": {
      "text/plain": [
       "'c6da72cf-89e7-3051-908c-44cbb3a00b27'"
      ]
     },
     "execution_count": 31,
     "metadata": {},
     "output_type": "execute_result"
    }
   ],
   "source": [
    "p = C.archives[-1].processes()[37]\n",
    "p.get_uuid()"
   ]
  },
  {
   "cell_type": "code",
   "execution_count": 32,
   "metadata": {
    "collapsed": false
   },
   "outputs": [
    {
     "data": {
      "text/plain": [
       "{'_d': {'Classifications': ['Transit and Ground Passenger Transportation',\n",
       "   'Urban Transit Systems'],\n",
       "  'Comment': \"This dataset represents the Hawaii average airborne emissions for operating a diesel powered transit bus. The inventory includes all vehicle operation processes, including off-network and refueling activities.\\nThe refinery-to-pump transportation and distribution data are calculated from Argonne National Laboratory's GREET 1.8d.1 model.\\nThe vehicle operation data are calculated from EPA's MOVES2010a model, using the assumptions described in the corresponding detailed spreadsheet.  Emissions factors in MOVES2010a are largely based on EPA's Mobile Source Observation Database, which in turn includes data from a variety of vehicle studies (References 6-8).\\nMOVES2010a acknowledges sources of uncertainty in the model structure, the population and acitivty data, and other model parameters. As of July 2011, the uncertainty calculation function of the model has not been activated.\",\n",
       "  'Name': 'Transport, transit bus, diesel powered, Hawaii',\n",
       "  'SpatialScope': 'RNA',\n",
       "  'TemporalScope': {'begin': '2010-01-01-07:00', 'end': '2010-01-01-07:00'},\n",
       "  'externalId': 'Transport, transit bus, diesel powered, Hawaii',\n",
       "  'origin': '/home/b/Dropbox/data/USLCI/USLCI_Processes_ecospold1.zip'},\n",
       " '_exchanges': {<lcatools.exchanges.ExchangeValue at 0x7f91d0bb7ba8>,\n",
       "  <lcatools.exchanges.ExchangeValue at 0x7f91d0bb77b8>,\n",
       "  <lcatools.exchanges.ExchangeValue at 0x7f91d0bb7908>,\n",
       "  <lcatools.exchanges.ExchangeValue at 0x7f91d0bb7940>,\n",
       "  <lcatools.exchanges.ExchangeValue at 0x7f91d0bb7898>,\n",
       "  <lcatools.exchanges.ExchangeValue at 0x7f91d0bb7b70>,\n",
       "  <lcatools.exchanges.ExchangeValue at 0x7f91d0bb79e8>,\n",
       "  <lcatools.exchanges.ExchangeValue at 0x7f91d0bb7be0>,\n",
       "  <lcatools.exchanges.ExchangeValue at 0x7f91d0bb7b00>,\n",
       "  <lcatools.exchanges.ExchangeValue at 0x7f91d0bb7978>,\n",
       "  <lcatools.exchanges.ExchangeValue at 0x7f91d0bb7a58>,\n",
       "  <lcatools.exchanges.ExchangeValue at 0x7f91d0bb7ac8>,\n",
       "  <lcatools.exchanges.ExchangeValue at 0x7f91d0bb7a90>,\n",
       "  <lcatools.exchanges.ExchangeValue at 0x7f91d0bb79b0>,\n",
       "  <lcatools.exchanges.ExchangeValue at 0x7f91d0bb77f0>,\n",
       "  <lcatools.exchanges.ExchangeValue at 0x7f91d0bb7828>,\n",
       "  <lcatools.exchanges.ExchangeValue at 0x7f91d0bb7b38>,\n",
       "  <lcatools.exchanges.ExchangeValue at 0x7f91d0bb7a20>,\n",
       "  <lcatools.exchanges.ExchangeValue at 0x7f91d0bb7860>,\n",
       "  <lcatools.exchanges.ExchangeValue at 0x7f91d0bb78d0>},\n",
       " '_external_ref': 'c6da72cf-89e7-3051-908c-44cbb3a00b27',\n",
       " '_uuid': UUID('c6da72cf-89e7-3051-908c-44cbb3a00b27'),\n",
       " 'entity_type': 'process',\n",
       " 'reference_entity': <lcatools.exchanges.ExchangeValue at 0x7f91d0bb7a90>}"
      ]
     },
     "execution_count": 32,
     "metadata": {},
     "output_type": "execute_result"
    }
   ],
   "source": [
    "p.__dict__"
   ]
  },
  {
   "cell_type": "code",
   "execution_count": 33,
   "metadata": {
    "collapsed": false
   },
   "outputs": [],
   "source": [
    "def exchanges(pppp):\n",
    "    for i in pppp.exchanges():\n",
    "        yield i\n",
    "px = exchanges(p)"
   ]
  },
  {
   "cell_type": "code",
   "execution_count": 34,
   "metadata": {
    "collapsed": false
   },
   "outputs": [
    {
     "name": "stdout",
     "output_type": "stream",
     "text": [
      " Input: [0.111 [t*km]] Transport, pipeline, unspecified petroleum products [Utilities, Fossil Fuel Electric Power Generation]\n",
      " Input: [0.0206 [t*km]] Transport, train, diesel powered [Rail Transportation, Rail Transportation]\n",
      " Input: [0.0753 [t*km]] CUTOFF Transport, ocean tanker, average fuel mix [CUTOFF Flows]\n",
      " Input: [0.011 [t*km]] Transport, combination truck, average fuel mix [Truck Transportation, General Freight Trucking]\n",
      " Input: [0.0107 [t*km]] Transport, barge, average fuel mix [Water Transportation, Inland Water Freight Transportation]\n",
      " Input: [0.0342 [l]] Diesel, at refinery [Petroleum and Coal Products Manufacturing, Petroleum Refineries]\n",
      "Output: [1.02e-06 [kg]] Methane  [air, unspecified]\n",
      "Output: [0.00033 [kg]] Carbon monoxide, fossil  [air, unspecified]\n",
      "Output: [2.12e-07 [kg]] Nitrous oxide [air, unspecified]\n",
      "Output: [5.04e-05 [kg]] VOC, volatile organic compounds [air, unspecified]\n",
      "Output: [1.88e-07 [kg]] Particulates, < 2.5 um  [air, unspecified]\n",
      "Output: [4.89e-05 [kg]] Hydrocarbons (other than methane) [air, unspecified]\n",
      "Output: [4.35e-05 [kg]] Particulates, < 10 um  [air, unspecified]\n",
      "Output: [6.24e-05 [kg]] Nitrogen dioxide [air, unspecified]\n",
      "Output: [0.0897 [kg]] Carbon dioxide, fossil  [air, unspecified]\n",
      "Output: [1.5e-06 [kg]] Sulfur dioxide  [air, unspecified]\n",
      "Output: [1 [p*km]] Transport, transit bus, diesel powered, Hawaii [Transit and Ground Passenger Transportation, Urban Transit Systems]\n",
      "Output: [0.000782 [kg]] Nitrogen oxides  [air, unspecified]\n",
      "Output: [1.33e-06 [kg]] Ammonia  [air, unspecified]\n",
      "Output: [0.00072 [kg]] Nitrogen oxide  [air, unspecified]\n"
     ]
    }
   ],
   "source": [
    "for i in px:\n",
    "    print('%s' % i)"
   ]
  },
  {
   "cell_type": "code",
   "execution_count": 35,
   "metadata": {
    "collapsed": false
   },
   "outputs": [
    {
     "name": "stdout",
     "output_type": "stream",
     "text": [
      "[ 0] (      gabi_2016_all-extensions) {p} Transport, transit bus, diesel powered, Hawaii [RNA] \n",
      "[ 1] (      gabi_2016_all-extensions) {f} RNA: Transport, transit bus, diesel powered, Hawaii [US LCI Database, Products and Intermediates] \n",
      "[ 2] (                uslci_ecospold) {f} Transport, transit bus, diesel powered, Hawaii [Transit and Ground Passenger Transportation, Urban Transit Systems] \n",
      "[ 3] (                uslci_ecospold) {p} Transport, transit bus, diesel powered, Hawaii [RNA] \n"
     ]
    },
    {
     "data": {
      "text/plain": [
       "[<lcatools.catalog.CatalogRef at 0x7f91d0170a20>,\n",
       " <lcatools.catalog.CatalogRef at 0x7f91d0170b00>,\n",
       " <lcatools.catalog.CatalogRef at 0x7f91d0170ac8>,\n",
       " <lcatools.catalog.CatalogRef at 0x7f91d0170b70>]"
      ]
     },
     "execution_count": 35,
     "metadata": {},
     "output_type": "execute_result"
    }
   ],
   "source": [
    "C.search(Name=['transit', 'hawaii'], show=True)"
   ]
  },
  {
   "cell_type": "code",
   "execution_count": 36,
   "metadata": {
    "collapsed": false
   },
   "outputs": [
    {
     "name": "stdout",
     "output_type": "stream",
     "text": [
      "[ 0] (      gabi_2016_all-extensions) {p} Aluminium silicate (zeolite type A) [US] \n",
      "[ 1] (      gabi_2016_all-extensions) {f} Kaolin (aluminium silicate) (CAS 001332-58-7) [Valuable substances, Materials, Minerals] \n",
      "[ 2] (      gabi_2016_all-extensions) {f} Aluminium silicate [Valuable substances, Materials, Intermediate products, Inorganic intermediate products] \n",
      "[ 3] (gabi_2016_professional-databas) {f} Kaolin (aluminium silicate) (CAS 001332-58-7) [Valuable substances, Materials, Minerals] \n"
     ]
    },
    {
     "data": {
      "text/plain": [
       "[<lcatools.catalog.CatalogRef at 0x7f91d0170da0>,\n",
       " <lcatools.catalog.CatalogRef at 0x7f91d0170e48>,\n",
       " <lcatools.catalog.CatalogRef at 0x7f91d0170e80>,\n",
       " <lcatools.catalog.CatalogRef at 0x7f91d0170eb8>]"
      ]
     },
     "execution_count": 36,
     "metadata": {},
     "output_type": "execute_result"
    }
   ],
   "source": [
    "C.search(Name=['alumin','silic'], show=True)"
   ]
  },
  {
   "cell_type": "code",
   "execution_count": 37,
   "metadata": {
    "collapsed": false
   },
   "outputs": [
    {
     "name": "stdout",
     "output_type": "stream",
     "text": [
      "[ 0] (       ecoinvent_3.2_apos_xlsx) {p} kaolin production [RoW] \n",
      "[ 1] (       ecoinvent_3.2_apos_xlsx) {f} kaolin (CAS 1332-58-7) [Intermediate flow] \n",
      "[ 2] (       ecoinvent_3.2_apos_xlsx) {f} Kaolinite, 24% in crude ore, in ground [natural resource, in ground] \n",
      "[ 3] (       ecoinvent_3.2_apos_xlsx) {p} kaolin production [RER] \n",
      "[ 4] (       ecoinvent_3.2_apos_xlsx) {p} market for kaolin [GLO] \n",
      "[ 5] (ecoinvent_3.2_consequential_xl) {f} kaolin (CAS 1332-58-7) [Intermediate flow] \n",
      "[ 6] (ecoinvent_3.2_consequential_xl) {p} market for kaolin [GLO] \n",
      "[ 7] (ecoinvent_3.2_consequential_xl) {f} Kaolinite, 24% in crude ore, in ground [natural resource, in ground] \n",
      "[ 8] (ecoinvent_3.2_consequential_xl) {p} kaolin production [RER] \n",
      "[ 9] (ecoinvent_3.2_consequential_xl) {p} kaolin production [RoW] \n",
      "[10] (    ecoinvent_3.2_cut-off_xlsx) {f} Kaolinite, 24% in crude ore, in ground [natural resource, in ground] \n",
      "[11] (    ecoinvent_3.2_cut-off_xlsx) {p} market for kaolin [GLO] \n",
      "[12] (    ecoinvent_3.2_cut-off_xlsx) {p} kaolin production [RER] \n",
      "[13] (    ecoinvent_3.2_cut-off_xlsx) {f} kaolin (CAS 1332-58-7) [Intermediate flow] \n",
      "[14] (    ecoinvent_3.2_cut-off_xlsx) {p} kaolin production [RoW] \n",
      "[15] (  ecoinvent_3.2_undefined_xlsx) {f} kaolin (CAS 1332-58-7) [Intermediate flow] \n",
      "[16] (  ecoinvent_3.2_undefined_xlsx) {p} kaolin production [GLO] \n",
      "[17] (  ecoinvent_3.2_undefined_xlsx) {f} Kaolinite, 24% in crude ore, in ground [natural resource, in ground] \n",
      "[18] (  ecoinvent_3.2_undefined_xlsx) {p} kaolin production [RER] \n",
      "[19] (  ecoinvent_3.2_undefined_xlsx) {p} market for kaolin [GLO] \n",
      "[20] (                       ei_lcia) {f} Kaolinite, 24% in crude ore, in ground [natural resource, in ground] \n",
      "[21] (                      elcd_3.2) {p} Kaolin coarse filler  [EU-27] \n",
      "[22] (                      elcd_3.2) {f} kaolinite (CAS 066649-37-4) [Resources, Resources from ground, Non-renewable material resources from ground] \n",
      "[23] (                      elcd_3.2) {f} Kaolin coarse filler  [Materials production, Other mineralic materials] \n",
      "[24] (                      elcd_3.2) {f} kaolin (CAS 001332-58-7) [Resources, Resources from ground, Non-renewable material resources from ground] \n",
      "[25] (      gabi_2016_all-extensions) {f} Kaolin (aluminium silicate) (CAS 001332-58-7) [Valuable substances, Materials, Minerals] \n",
      "[26] (      gabi_2016_all-extensions) {p} Kaolin  [IN] \n",
      "[27] (      gabi_2016_all-extensions) {p} Kaolin [DE] \n",
      "[28] (      gabi_2016_all-extensions) {p} Kaolin (mining and processing) [US] \n",
      "[29] (gabi_2016_professional-databas) {p} Kaolin coarse filler  [EU-27] \n",
      "[30] (gabi_2016_professional-databas) {f} Kaolin coarse filler  [Valuable substances, Materials, Minerals] \n",
      "[31] (gabi_2016_professional-databas) {f} Kaolin (aluminium silicate) (CAS 001332-58-7) [Valuable substances, Materials, Minerals] \n",
      "[32] (gabi_2016_professional-databas) {p} Kaolin [DE] \n",
      "[33] (                uslci_ecospold) {f} Kaolinite, 24% in crude ore, in ground [resource, in ground] \n",
      "[34] (                uslci_ecospold) {f} Kaolin ore, in ground [resource, in ground] \n"
     ]
    },
    {
     "data": {
      "text/plain": [
       "[<lcatools.catalog.CatalogRef at 0x7f91d01750b8>,\n",
       " <lcatools.catalog.CatalogRef at 0x7f91d01751d0>,\n",
       " <lcatools.catalog.CatalogRef at 0x7f91d0175048>,\n",
       " <lcatools.catalog.CatalogRef at 0x7f91d01750f0>,\n",
       " <lcatools.catalog.CatalogRef at 0x7f91d0175160>,\n",
       " <lcatools.catalog.CatalogRef at 0x7f91d0175128>,\n",
       " <lcatools.catalog.CatalogRef at 0x7f91d0175240>,\n",
       " <lcatools.catalog.CatalogRef at 0x7f91d0175208>,\n",
       " <lcatools.catalog.CatalogRef at 0x7f91d0175198>,\n",
       " <lcatools.catalog.CatalogRef at 0x7f91d0175278>,\n",
       " <lcatools.catalog.CatalogRef at 0x7f91d01752e8>,\n",
       " <lcatools.catalog.CatalogRef at 0x7f91d0175320>,\n",
       " <lcatools.catalog.CatalogRef at 0x7f91d0175358>,\n",
       " <lcatools.catalog.CatalogRef at 0x7f91d0175390>,\n",
       " <lcatools.catalog.CatalogRef at 0x7f91d01753c8>,\n",
       " <lcatools.catalog.CatalogRef at 0x7f91d0175400>,\n",
       " <lcatools.catalog.CatalogRef at 0x7f91d0175438>,\n",
       " <lcatools.catalog.CatalogRef at 0x7f91d0175470>,\n",
       " <lcatools.catalog.CatalogRef at 0x7f91d01754a8>,\n",
       " <lcatools.catalog.CatalogRef at 0x7f91d01754e0>,\n",
       " <lcatools.catalog.CatalogRef at 0x7f91d0175518>,\n",
       " <lcatools.catalog.CatalogRef at 0x7f91d0175588>,\n",
       " <lcatools.catalog.CatalogRef at 0x7f91d01755f8>,\n",
       " <lcatools.catalog.CatalogRef at 0x7f91d0175630>,\n",
       " <lcatools.catalog.CatalogRef at 0x7f91d0175668>,\n",
       " <lcatools.catalog.CatalogRef at 0x7f91d01756a0>,\n",
       " <lcatools.catalog.CatalogRef at 0x7f91d0175710>,\n",
       " <lcatools.catalog.CatalogRef at 0x7f91d0175748>,\n",
       " <lcatools.catalog.CatalogRef at 0x7f91d0175780>,\n",
       " <lcatools.catalog.CatalogRef at 0x7f91d01757b8>,\n",
       " <lcatools.catalog.CatalogRef at 0x7f91d0175828>,\n",
       " <lcatools.catalog.CatalogRef at 0x7f91d0175860>,\n",
       " <lcatools.catalog.CatalogRef at 0x7f91d0175898>,\n",
       " <lcatools.catalog.CatalogRef at 0x7f91d01758d0>,\n",
       " <lcatools.catalog.CatalogRef at 0x7f91d0175940>]"
      ]
     },
     "execution_count": 37,
     "metadata": {},
     "output_type": "execute_result"
    }
   ],
   "source": [
    "C.search(Name='Kaolin', show=True)"
   ]
  },
  {
   "cell_type": "code",
   "execution_count": 38,
   "metadata": {
    "collapsed": false
   },
   "outputs": [
    {
     "name": "stdout",
     "output_type": "stream",
     "text": [
      "[ 0] (       ecoinvent_3.2_apos_xlsx) {f} Dinitrogen monoxide (CAS 010024-97-2) [air, urban air close to ground] \n",
      "[ 1] (       ecoinvent_3.2_apos_xlsx) {f} Dinitrogen monoxide (CAS 010024-97-2) [air, unspecified] \n",
      "[ 2] (       ecoinvent_3.2_apos_xlsx) {f} Dinitrogen monoxide (CAS 010024-97-2) [air, lower stratosphere + upper troposphere] \n",
      "[ 3] (       ecoinvent_3.2_apos_xlsx) {f} Dinitrogen monoxide (CAS 010024-97-2) [air, low population density, long-term] \n",
      "[ 4] (       ecoinvent_3.2_apos_xlsx) {f} Dinitrogen monoxide (CAS 010024-97-2) [air, non-urban air or from high stacks] \n",
      "[ 5] (ecoinvent_3.2_consequential_xl) {f} Dinitrogen monoxide (CAS 010024-97-2) [air, lower stratosphere + upper troposphere] \n",
      "[ 6] (ecoinvent_3.2_consequential_xl) {f} Dinitrogen monoxide (CAS 010024-97-2) [air, unspecified] \n",
      "[ 7] (ecoinvent_3.2_consequential_xl) {f} Dinitrogen monoxide (CAS 010024-97-2) [air, non-urban air or from high stacks] \n",
      "[ 8] (ecoinvent_3.2_consequential_xl) {f} Dinitrogen monoxide (CAS 010024-97-2) [air, low population density, long-term] \n",
      "[ 9] (ecoinvent_3.2_consequential_xl) {f} Dinitrogen monoxide (CAS 010024-97-2) [air, urban air close to ground] \n",
      "[10] (    ecoinvent_3.2_cut-off_xlsx) {f} Dinitrogen monoxide (CAS 010024-97-2) [air, unspecified] \n",
      "[11] (    ecoinvent_3.2_cut-off_xlsx) {f} Dinitrogen monoxide (CAS 010024-97-2) [air, lower stratosphere + upper troposphere] \n",
      "[12] (    ecoinvent_3.2_cut-off_xlsx) {f} Dinitrogen monoxide (CAS 010024-97-2) [air, urban air close to ground] \n",
      "[13] (    ecoinvent_3.2_cut-off_xlsx) {f} Dinitrogen monoxide (CAS 010024-97-2) [air, non-urban air or from high stacks] \n",
      "[14] (    ecoinvent_3.2_cut-off_xlsx) {f} Dinitrogen monoxide (CAS 010024-97-2) [air, low population density, long-term] \n",
      "[15] (  ecoinvent_3.2_undefined_xlsx) {f} Dinitrogen monoxide (CAS 010024-97-2) [air, unspecified] \n",
      "[16] (  ecoinvent_3.2_undefined_xlsx) {f} Dinitrogen monoxide (CAS 010024-97-2) [air, urban air close to ground] \n",
      "[17] (  ecoinvent_3.2_undefined_xlsx) {f} Dinitrogen monoxide (CAS 010024-97-2) [air, lower stratosphere + upper troposphere] \n",
      "[18] (  ecoinvent_3.2_undefined_xlsx) {f} Dinitrogen monoxide (CAS 010024-97-2) [air, non-urban air or from high stacks] \n",
      "[19] (  ecoinvent_3.2_undefined_xlsx) {f} Dinitrogen monoxide (CAS 010024-97-2) [air, low population density, long-term] \n",
      "[20] (                       ei_lcia) {f} Dinitrogen monoxide (CAS 010024-97-2) [air, unspecified] \n",
      "[21] (                       ei_lcia) {f} Dinitrogen monoxide (CAS 010024-97-2) [air, low population density, long-term] \n",
      "[22] (                       ei_lcia) {f} Dinitrogen monoxide (CAS 010024-97-2) [air, non-urban air or from high stacks] \n",
      "[23] (                       ei_lcia) {f} Dinitrogen monoxide (CAS 010024-97-2) [air, lower stratosphere + upper troposphere] \n",
      "[24] (                       ei_lcia) {f} Dinitrogen monoxide (CAS 010024-97-2) [air, urban air close to ground] \n",
      "[25] (                      elcd_3.2) {f} dinitrogen (CAS 007727-37-9) [Resources, Resources from air, Renewable element resources from air] \n",
      "[26] (                      elcd_3.2) {f} dinitrogen (CAS 007727-37-9) [Emissions, Emissions to air, Emissions to air, unspecified] \n",
      "[27] (                      elcd_3.2) {f} dinitrogen (CAS 007727-37-9) [Emissions, Emissions to water, Emissions to sea water] \n",
      "[28] (                      elcd_3.2) {f} dinitrogen (CAS 007727-37-9) [Emissions, Emissions to soil, Emissions to non-agricultural soil] \n",
      "[29] (                      elcd_3.2) {f} dinitrogen (CAS 007727-37-9) [Emissions, Emissions to soil, Emissions to soil, unspecified] \n",
      "[30] (                      elcd_3.2) {f} dinitrogen (CAS 007727-37-9) [Emissions, Emissions to water, Emissions to fresh water] \n",
      "[31] (                      elcd_3.2) {f} dinitrogen (CAS 007727-37-9) [Emissions, Emissions to water, Emissions to water, unspecified] \n",
      "[32] (                uslci_ecospold) {f} Dinitrogen monoxide [air, stratosphere] \n",
      "[33] (                uslci_ecospold) {f} Dinitrogen monoxide [air, low population density] \n",
      "[34] (                uslci_ecospold) {f} Dinitrogen monoxide [air, low population density, long-term] \n",
      "[35] (                uslci_ecospold) {f} Dinitrogen monoxide [air, unspecified] \n",
      "[36] (                uslci_ecospold) {f} Dinitrogen monoxide [air, high population density] \n"
     ]
    },
    {
     "data": {
      "text/plain": [
       "[<lcatools.catalog.CatalogRef at 0x7f91d0175a90>,\n",
       " <lcatools.catalog.CatalogRef at 0x7f91d0175b38>,\n",
       " <lcatools.catalog.CatalogRef at 0x7f91d0175ba8>,\n",
       " <lcatools.catalog.CatalogRef at 0x7f91d0175a20>,\n",
       " <lcatools.catalog.CatalogRef at 0x7f91d0175b00>,\n",
       " <lcatools.catalog.CatalogRef at 0x7f91d0175c18>,\n",
       " <lcatools.catalog.CatalogRef at 0x7f91d0175be0>,\n",
       " <lcatools.catalog.CatalogRef at 0x7f91d0175b70>,\n",
       " <lcatools.catalog.CatalogRef at 0x7f91d0175c50>,\n",
       " <lcatools.catalog.CatalogRef at 0x7f91d0175c88>,\n",
       " <lcatools.catalog.CatalogRef at 0x7f91d0175cc0>,\n",
       " <lcatools.catalog.CatalogRef at 0x7f91d0175cf8>,\n",
       " <lcatools.catalog.CatalogRef at 0x7f91d0175d30>,\n",
       " <lcatools.catalog.CatalogRef at 0x7f91d0175d68>,\n",
       " <lcatools.catalog.CatalogRef at 0x7f91d0175da0>,\n",
       " <lcatools.catalog.CatalogRef at 0x7f91d0175dd8>,\n",
       " <lcatools.catalog.CatalogRef at 0x7f91d0175e48>,\n",
       " <lcatools.catalog.CatalogRef at 0x7f91d0175e80>,\n",
       " <lcatools.catalog.CatalogRef at 0x7f91d0175eb8>,\n",
       " <lcatools.catalog.CatalogRef at 0x7f91d0175ef0>,\n",
       " <lcatools.catalog.CatalogRef at 0x7f91d0175f28>,\n",
       " <lcatools.catalog.CatalogRef at 0x7f91d0175f98>,\n",
       " <lcatools.catalog.CatalogRef at 0x7f91d0175fd0>,\n",
       " <lcatools.catalog.CatalogRef at 0x7f91d017a048>,\n",
       " <lcatools.catalog.CatalogRef at 0x7f91d017a080>,\n",
       " <lcatools.catalog.CatalogRef at 0x7f91d017a0b8>,\n",
       " <lcatools.catalog.CatalogRef at 0x7f91d017a128>,\n",
       " <lcatools.catalog.CatalogRef at 0x7f91d017a160>,\n",
       " <lcatools.catalog.CatalogRef at 0x7f91d017a198>,\n",
       " <lcatools.catalog.CatalogRef at 0x7f91d017a1d0>,\n",
       " <lcatools.catalog.CatalogRef at 0x7f91d017a208>,\n",
       " <lcatools.catalog.CatalogRef at 0x7f91d017a240>,\n",
       " <lcatools.catalog.CatalogRef at 0x7f91d017a278>,\n",
       " <lcatools.catalog.CatalogRef at 0x7f91d017a358>,\n",
       " <lcatools.catalog.CatalogRef at 0x7f91d017a390>,\n",
       " <lcatools.catalog.CatalogRef at 0x7f91d017a3c8>,\n",
       " <lcatools.catalog.CatalogRef at 0x7f920c2978d0>]"
      ]
     },
     "execution_count": 38,
     "metadata": {},
     "output_type": "execute_result"
    }
   ],
   "source": [
    "C.search(Name='dinitrogen', show=True)"
   ]
  },
  {
   "cell_type": "code",
   "execution_count": 39,
   "metadata": {
    "collapsed": true
   },
   "outputs": [],
   "source": [
    "result = _[20]"
   ]
  },
  {
   "cell_type": "code",
   "execution_count": 40,
   "metadata": {
    "collapsed": true
   },
   "outputs": [],
   "source": [
    "C.characterizations(result)"
   ]
  },
  {
   "cell_type": "code",
   "execution_count": 44,
   "metadata": {
    "collapsed": false
   },
   "outputs": [
    {
     "data": {
      "text/plain": [
       "'flow'"
      ]
     },
     "execution_count": 44,
     "metadata": {},
     "output_type": "execute_result"
    }
   ],
   "source": [
    "result.entity_type()"
   ]
  },
  {
   "cell_type": "code",
   "execution_count": 41,
   "metadata": {
    "collapsed": false
   },
   "outputs": [
    {
     "data": {
      "text/plain": [
       "<generator object LcFlow.characterizations at 0x7f91da38e8e0>"
      ]
     },
     "execution_count": 41,
     "metadata": {},
     "output_type": "execute_result"
    }
   ],
   "source": [
    "result.entity().characterizations()"
   ]
  },
  {
   "cell_type": "code",
   "execution_count": 42,
   "metadata": {
    "collapsed": false
   },
   "outputs": [
    {
     "data": {
      "text/plain": [
       "['Dinitrogen monoxide (CAS 010024-97-2) [air, unspecified]: [2e+06 [m3 air]] LC quantity: EDIP2003, human toxicity, via air',\n",
       " 'Dinitrogen monoxide (CAS 010024-97-2) [air, unspecified]: [0.64 [kg N]] LC quantity: EDIP2003 w/o LT, eutrophication w/o LT, separate N potential w/o LT',\n",
       " 'Dinitrogen monoxide (CAS 010024-97-2) [air, unspecified]: [4.47 [points]] LC quantity: eco-indicator 99, (I,I), total, total',\n",
       " 'Dinitrogen monoxide (CAS 010024-97-2) [air, unspecified]: [300 [kg CO2-Eq]] LC quantity: TRACI, environmental impact, global warming',\n",
       " 'Dinitrogen monoxide (CAS 010024-97-2) [air, unspecified]: [156 [kg CO2-Eq]] LC quantity: EDIP2003, global warming, GWP 500a',\n",
       " 'Dinitrogen monoxide (CAS 010024-97-2) [air, unspecified]: [0.0157 [points]] LC quantity: IMPACT 2002+ (Endpoint), climate change, total',\n",
       " 'Dinitrogen monoxide (CAS 010024-97-2) [air, unspecified]: [4.47 [points]] LC quantity: eco-indicator 99, (I,I), human health, total',\n",
       " 'Dinitrogen monoxide (CAS 010024-97-2) [air, unspecified]: [1.4e+05 [UBP]] LC quantity: ecological scarcity 2013, total, Global warming',\n",
       " 'Dinitrogen monoxide (CAS 010024-97-2) [air, unspecified]: [296 [kg CO2-Eq]] LC quantity: CML 2001, climate change, upper limit of net GWP',\n",
       " 'Dinitrogen monoxide (CAS 010024-97-2) [air, unspecified]: [296 [kg CO2-Eq]] LC quantity: IPCC 2001, climate change, GWP 100a',\n",
       " 'Dinitrogen monoxide (CAS 010024-97-2) [air, unspecified]: [1.79 [points]] LC quantity: eco-indicator 99, (H,A), human health, climate change',\n",
       " 'Dinitrogen monoxide (CAS 010024-97-2) [air, unspecified]: [1.34 [points]] LC quantity: eco-indicator 99, (E,E) w/o LT, human health w/o LT, total w/o LT',\n",
       " 'Dinitrogen monoxide (CAS 010024-97-2) [air, unspecified]: [153 [kg CO2-Eq]] LC quantity: ReCiPe Midpoint (E), climate change, GWP500',\n",
       " 'Dinitrogen monoxide (CAS 010024-97-2) [air, unspecified]: [1.4e+05 [UBP]] LC quantity: ecological scarcity 2013, total, total',\n",
       " 'Dinitrogen monoxide (CAS 010024-97-2) [air, unspecified]: [5.22 [points]] LC quantity: ReCiPe Endpoint (H,A) w/o LT, ecosystem quality w/o LT, climate change, ecosystems w/o LT',\n",
       " 'Dinitrogen monoxide (CAS 010024-97-2) [air, unspecified]: [5.22 [points]] LC quantity: ReCiPe Endpoint (H,A), ecosystem quality, climate change, ecosystems',\n",
       " 'Dinitrogen monoxide (CAS 010024-97-2) [air, unspecified]: [4.16 [points]] LC quantity: ReCiPe Endpoint (E,A), ecosystem quality, total',\n",
       " 'Dinitrogen monoxide (CAS 010024-97-2) [air, unspecified]: [5.24 [points]] LC quantity: ReCiPe Endpoint (E,A), human health, climate change, human health',\n",
       " 'Dinitrogen monoxide (CAS 010024-97-2) [air, unspecified]: [8.26 [points]] LC quantity: ReCiPe Endpoint (H,A) w/o LT, human health w/o LT, total w/o LT',\n",
       " 'Dinitrogen monoxide (CAS 010024-97-2) [air, unspecified]: [11.5 [points]] LC quantity: ReCiPe Endpoint (I,A), total, total',\n",
       " 'Dinitrogen monoxide (CAS 010024-97-2) [air, unspecified]: [13.5 [points]] LC quantity: ReCiPe Endpoint (H,A), total, total',\n",
       " 'Dinitrogen monoxide (CAS 010024-97-2) [air, unspecified]: [5.24 [points]] LC quantity: ReCiPe Endpoint (E,A) w/o LT, human health w/o LT, total w/o LT',\n",
       " 'Dinitrogen monoxide (CAS 010024-97-2) [air, unspecified]: [1.34 [points]] LC quantity: eco-indicator 99, (E,E), human health, climate change',\n",
       " 'Dinitrogen monoxide (CAS 010024-97-2) [air, unspecified]: [298 [kg CO2-Eq]] LC quantity: IPCC 2013, climate change, GWP 100a',\n",
       " 'Dinitrogen monoxide (CAS 010024-97-2) [air, unspecified]: [4.47 [points]] LC quantity: eco-indicator 99, (I,I), human health, climate change',\n",
       " 'Dinitrogen monoxide (CAS 010024-97-2) [air, unspecified]: [289 [kg CO2-Eq]] LC quantity: ReCiPe Midpoint (I), climate change, GWP20',\n",
       " 'Dinitrogen monoxide (CAS 010024-97-2) [air, unspecified]: [8.26 [points]] LC quantity: ReCiPe Endpoint (H,A), human health, climate change, human health',\n",
       " 'Dinitrogen monoxide (CAS 010024-97-2) [air, unspecified]: [296 [kg CO2-Eq]] LC quantity: CML 2001 w/o LT, climate change w/o LT, lower limit of net GWP w/o LT',\n",
       " 'Dinitrogen monoxide (CAS 010024-97-2) [air, unspecified]: [156 [kg CO2-Eq]] LC quantity: IPCC 2001, climate change, GWP 500a',\n",
       " 'Dinitrogen monoxide (CAS 010024-97-2) [air, unspecified]: [296 [kg CO2-Eq]] LC quantity: CML 2001, climate change, lower limit of net GWP',\n",
       " 'Dinitrogen monoxide (CAS 010024-97-2) [air, unspecified]: [38.3 [ELU]] LC quantity: EPS 2000, total, emissions into air',\n",
       " 'Dinitrogen monoxide (CAS 010024-97-2) [air, unspecified]: [2.82 [kg NO3-]] LC quantity: EDIP2003, eutrophication, combined potential',\n",
       " 'Dinitrogen monoxide (CAS 010024-97-2) [air, unspecified]: [289 [kg CO2-Eq]] LC quantity: CML 2001 w/o LT, climate change w/o LT, GWP 20a w/o LT',\n",
       " 'Dinitrogen monoxide (CAS 010024-97-2) [air, unspecified]: [0.0157 [points]] LC quantity: IMPACT 2002+ (Endpoint), climate change, climate change',\n",
       " 'Dinitrogen monoxide (CAS 010024-97-2) [air, unspecified]: [0.64 [kg N]] LC quantity: EDIP2003, eutrophication, separate N potential',\n",
       " 'Dinitrogen monoxide (CAS 010024-97-2) [air, unspecified]: [153 [kg CO2-Eq]] LC quantity: CML 2001 w/o LT, climate change w/o LT, GWP 500a w/o LT',\n",
       " 'Dinitrogen monoxide (CAS 010024-97-2) [air, unspecified]: [2.82 [kg NO3-]] LC quantity: EDIP, environmental impact, nutrient enrichment, combined potential',\n",
       " 'Dinitrogen monoxide (CAS 010024-97-2) [air, unspecified]: [296 [kg CO2-Eq]] LC quantity: EDIP, environmental impact, global warming, GWP 100a',\n",
       " 'Dinitrogen monoxide (CAS 010024-97-2) [air, unspecified]: [1.34 [points]] LC quantity: eco-indicator 99, (E,E) w/o LT, total w/o LT, total w/o LT',\n",
       " 'Dinitrogen monoxide (CAS 010024-97-2) [air, unspecified]: [153 [kg CO2-Eq]] LC quantity: CML 2001, climate change, GWP 500a',\n",
       " 'Dinitrogen monoxide (CAS 010024-97-2) [air, unspecified]: [76.6 [ELU]] LC quantity: EPS 2000, total, total',\n",
       " 'Dinitrogen monoxide (CAS 010024-97-2) [air, unspecified]: [13.5 [points]] LC quantity: ReCiPe Endpoint (H,A) w/o LT, total w/o LT, total w/o LT',\n",
       " 'Dinitrogen monoxide (CAS 010024-97-2) [air, unspecified]: [296 [kg CO2-Eq]] LC quantity: EDIP2003, global warming, GWP 100a',\n",
       " 'Dinitrogen monoxide (CAS 010024-97-2) [air, unspecified]: [0.64 [kg N]] LC quantity: EDIP w/o LT, environmental impact w/o LT, nutrient enrichment, separate N potential w/o LT',\n",
       " 'Dinitrogen monoxide (CAS 010024-97-2) [air, unspecified]: [156 [kg CO2-Eq]] LC quantity: EDIP, environmental impact, global warming, GWP 500a',\n",
       " 'Dinitrogen monoxide (CAS 010024-97-2) [air, unspecified]: [6.2e+04 [UBP]] LC quantity: ecological scarcity 1997, total, emission into air',\n",
       " 'Dinitrogen monoxide (CAS 010024-97-2) [air, unspecified]: [298 [kg CO2-Eq]] LC quantity: ReCiPe Midpoint (H) w/o LT, climate change w/o LT, GWP100 w/o LT',\n",
       " 'Dinitrogen monoxide (CAS 010024-97-2) [air, unspecified]: [1.24e+05 [UBP]] LC quantity: ecological scarcity 1997, total, total',\n",
       " 'Dinitrogen monoxide (CAS 010024-97-2) [air, unspecified]: [296 [kg CO2-Eq]] LC quantity: CML 2001 w/o LT, climate change w/o LT, upper limit of net GWP w/o LT',\n",
       " 'Dinitrogen monoxide (CAS 010024-97-2) [air, unspecified]: [2.82 [kg NO3-]] LC quantity: EDIP w/o LT, environmental impact w/o LT, nutrient enrichment, combined potential w/o LT',\n",
       " 'Dinitrogen monoxide (CAS 010024-97-2) [air, unspecified]: [296 [kg CO2-Eq]] LC quantity: EDIP2003 w/o LT, global warming w/o LT, GWP 100a w/o LT',\n",
       " 'Dinitrogen monoxide (CAS 010024-97-2) [air, unspecified]: [1.79 [points]] LC quantity: eco-indicator 99, (H,A) w/o LT, human health w/o LT, climate change w/o LT',\n",
       " 'Dinitrogen monoxide (CAS 010024-97-2) [air, unspecified]: [153 [kg CO2-Eq]] LC quantity: IPCC 2007, climate change, GWP 500a',\n",
       " 'Dinitrogen monoxide (CAS 010024-97-2) [air, unspecified]: [296 [kg CO2-Eq]] LC quantity: EDIP w/o LT, environmental impact w/o LT, global warming, GWP 100a w/o LT',\n",
       " 'Dinitrogen monoxide (CAS 010024-97-2) [air, unspecified]: [8.26 [points]] LC quantity: ReCiPe Endpoint (H,A), human health, total',\n",
       " 'Dinitrogen monoxide (CAS 010024-97-2) [air, unspecified]: [2e+06 [m3 air]] LC quantity: EDIP2003 w/o LT, human toxicity w/o LT, via air w/o LT',\n",
       " 'Dinitrogen monoxide (CAS 010024-97-2) [air, unspecified]: [4.16 [points]] LC quantity: ReCiPe Endpoint (E,A) w/o LT, ecosystem quality w/o LT, total w/o LT',\n",
       " 'Dinitrogen monoxide (CAS 010024-97-2) [air, unspecified]: [9.4 [points]] LC quantity: ReCiPe Endpoint (E,A) w/o LT, total w/o LT, total w/o LT',\n",
       " 'Dinitrogen monoxide (CAS 010024-97-2) [air, unspecified]: [1.34 [points]] LC quantity: eco-indicator 99, (E,E) w/o LT, human health w/o LT, climate change w/o LT',\n",
       " 'Dinitrogen monoxide (CAS 010024-97-2) [air, unspecified]: [1.79 [points]] LC quantity: eco-indicator 99, (H,A), total, total',\n",
       " 'Dinitrogen monoxide (CAS 010024-97-2) [air, unspecified]: [4.93 [points]] LC quantity: ReCiPe Endpoint (I,A), ecosystem quality, climate change, ecosystems',\n",
       " 'Dinitrogen monoxide (CAS 010024-97-2) [air, unspecified]: [1.79 [points]] LC quantity: eco-indicator 99, (H,A) w/o LT, total w/o LT, total w/o LT',\n",
       " 'Dinitrogen monoxide (CAS 010024-97-2) [air, unspecified]: [4.16 [points]] LC quantity: ReCiPe Endpoint (E,A), ecosystem quality, climate change, ecosystems',\n",
       " 'Dinitrogen monoxide (CAS 010024-97-2) [air, unspecified]: [268 [kg CO2-Eq]] LC quantity: IPCC 2013, climate change, GWP 20a',\n",
       " 'Dinitrogen monoxide (CAS 010024-97-2) [air, unspecified]: [298 [kg CO2-Eq]] LC quantity: CML 2001, climate change, GWP 100a',\n",
       " 'Dinitrogen monoxide (CAS 010024-97-2) [air, unspecified]: [9.2e+04 [UBP]] LC quantity: ecological scarcity 2006, total, total',\n",
       " 'Dinitrogen monoxide (CAS 010024-97-2) [air, unspecified]: [0.27 [kg PO4-Eq]] LC quantity: CML 2001 w/o LT, eutrophication potential w/o LT, generic w/o LT',\n",
       " 'Dinitrogen monoxide (CAS 010024-97-2) [air, unspecified]: [5.24 [points]] LC quantity: ReCiPe Endpoint (E,A) w/o LT, human health w/o LT, climate change, human health w/o LT',\n",
       " 'Dinitrogen monoxide (CAS 010024-97-2) [air, unspecified]: [5.22 [points]] LC quantity: ReCiPe Endpoint (H,A), ecosystem quality, total',\n",
       " 'Dinitrogen monoxide (CAS 010024-97-2) [air, unspecified]: [4.16 [points]] LC quantity: ReCiPe Endpoint (E,A) w/o LT, ecosystem quality w/o LT, climate change, ecosystems w/o LT',\n",
       " 'Dinitrogen monoxide (CAS 010024-97-2) [air, unspecified]: [5.22 [points]] LC quantity: ReCiPe Endpoint (H,A) w/o LT, ecosystem quality w/o LT, total w/o LT',\n",
       " 'Dinitrogen monoxide (CAS 010024-97-2) [air, unspecified]: [9.2e+04 [UBP]] LC quantity: ecological scarcity 2006, total, emission into air',\n",
       " 'Dinitrogen monoxide (CAS 010024-97-2) [air, unspecified]: [4.93 [points]] LC quantity: ReCiPe Endpoint (I,A), ecosystem quality, total',\n",
       " 'Dinitrogen monoxide (CAS 010024-97-2) [air, unspecified]: [2e+06 [m3 air]] LC quantity: EDIP, environmental impact, human toxicity, via air',\n",
       " 'Dinitrogen monoxide (CAS 010024-97-2) [air, unspecified]: [275 [kg CO2-Eq]] LC quantity: EDIP, environmental impact, global warming, GWP 20a',\n",
       " 'Dinitrogen monoxide (CAS 010024-97-2) [air, unspecified]: [156 [kg CO2-Eq]] LC quantity: EDIP2003 w/o LT, global warming w/o LT, GWP 500a w/o LT',\n",
       " 'Dinitrogen monoxide (CAS 010024-97-2) [air, unspecified]: [1.34 [points]] LC quantity: eco-indicator 99, (E,E), human health, total',\n",
       " 'Dinitrogen monoxide (CAS 010024-97-2) [air, unspecified]: [275 [kg CO2-Eq]] LC quantity: EDIP w/o LT, environmental impact w/o LT, global warming, GWP 20a w/o LT',\n",
       " 'Dinitrogen monoxide (CAS 010024-97-2) [air, unspecified]: [0.27 [kg PO4-Eq]] LC quantity: CML 2001, eutrophication potential, generic',\n",
       " 'Dinitrogen monoxide (CAS 010024-97-2) [air, unspecified]: [6.55 [points]] LC quantity: ReCiPe Endpoint (I,A), human health, climate change, human health',\n",
       " 'Dinitrogen monoxide (CAS 010024-97-2) [air, unspecified]: [9.4 [points]] LC quantity: ReCiPe Endpoint (E,A), total, total',\n",
       " 'Dinitrogen monoxide (CAS 010024-97-2) [air, unspecified]: [0.64 [kg N]] LC quantity: EDIP, environmental impact, nutrient enrichment, separate N potential',\n",
       " 'Dinitrogen monoxide (CAS 010024-97-2) [air, unspecified]: [289 [kg CO2-Eq]] LC quantity: CML 2001, climate change, GWP 20a',\n",
       " 'Dinitrogen monoxide (CAS 010024-97-2) [air, unspecified]: [2.82 [kg NO3-]] LC quantity: EDIP2003 w/o LT, eutrophication w/o LT, combined potential w/o LT',\n",
       " 'Dinitrogen monoxide (CAS 010024-97-2) [air, unspecified]: [1.79 [points]] LC quantity: eco-indicator 99, (H,A), human health, total',\n",
       " 'Dinitrogen monoxide (CAS 010024-97-2) [air, unspecified]: [153 [kg CO2-Eq]] LC quantity: ReCiPe Midpoint (E) w/o LT, climate change w/o LT, GWP500 w/o LT',\n",
       " 'Dinitrogen monoxide (CAS 010024-97-2) [air, unspecified]: [289 [kg CO2-Eq]] LC quantity: IPCC 2007, climate change, GWP 20a',\n",
       " 'Dinitrogen monoxide (CAS 010024-97-2) [air, unspecified]: [275 [kg CO2-Eq]] LC quantity: IPCC 2001, climate change, GWP 20a',\n",
       " 'Dinitrogen monoxide (CAS 010024-97-2) [air, unspecified]: [2e+06 [m3 air]] LC quantity: EDIP w/o LT, environmental impact w/o LT, human toxicity, via air w/o LT',\n",
       " 'Dinitrogen monoxide (CAS 010024-97-2) [air, unspecified]: [1 [kg]] LC quantity: selected LCI results, additional, air, N20',\n",
       " 'Dinitrogen monoxide (CAS 010024-97-2) [air, unspecified]: [156 [kg CO2-Eq]] LC quantity: EDIP w/o LT, environmental impact w/o LT, global warming, GWP 500a w/o LT',\n",
       " 'Dinitrogen monoxide (CAS 010024-97-2) [air, unspecified]: [6.55 [points]] LC quantity: ReCiPe Endpoint (I,A), human health, total',\n",
       " 'Dinitrogen monoxide (CAS 010024-97-2) [air, unspecified]: [5.24 [points]] LC quantity: ReCiPe Endpoint (E,A), human health, total',\n",
       " 'Dinitrogen monoxide (CAS 010024-97-2) [air, unspecified]: [1.34 [points]] LC quantity: eco-indicator 99, (E,E), total, total',\n",
       " 'Dinitrogen monoxide (CAS 010024-97-2) [air, unspecified]: [8.26 [points]] LC quantity: ReCiPe Endpoint (H,A) w/o LT, human health w/o LT, climate change, human health w/o LT',\n",
       " 'Dinitrogen monoxide (CAS 010024-97-2) [air, unspecified]: [298 [kg CO2-Eq]] LC quantity: CML 2001 w/o LT, climate change w/o LT, GWP 100a w/o LT',\n",
       " 'Dinitrogen monoxide (CAS 010024-97-2) [air, unspecified]: [275 [kg CO2-Eq]] LC quantity: EDIP2003 w/o LT, global warming w/o LT, GWP 20a w/o LT',\n",
       " 'Dinitrogen monoxide (CAS 010024-97-2) [air, unspecified]: [275 [kg CO2-Eq]] LC quantity: EDIP2003, global warming, GWP 20a',\n",
       " 'Dinitrogen monoxide (CAS 010024-97-2) [air, unspecified]: [1.79 [points]] LC quantity: eco-indicator 99, (H,A) w/o LT, human health w/o LT, total w/o LT',\n",
       " 'Dinitrogen monoxide (CAS 010024-97-2) [air, unspecified]: [298 [kg CO2-Eq]] LC quantity: IPCC 2007, climate change, GWP 100a',\n",
       " 'Dinitrogen monoxide (CAS 010024-97-2) [air, unspecified]: [298 [kg CO2-Eq]] LC quantity: ReCiPe Midpoint (H), climate change, GWP100']"
      ]
     },
     "execution_count": 42,
     "metadata": {},
     "output_type": "execute_result"
    }
   ],
   "source": [
    "[str(x) for x in _]"
   ]
  },
  {
   "cell_type": "code",
   "execution_count": 49,
   "metadata": {
    "collapsed": true
   },
   "outputs": [],
   "source": [
    "def convert_interval(interval):\n",
    "    ts_match = re.match('interval\\(\\s*(\\S*)\\s*,\\s*(\\S*)\\s*\\)', interval)\n",
    "    try:\n",
    "        ts = ts_match.groups()\n",
    "    except AttributeError:\n",
    "        print(interval)\n",
    "        raise\n",
    "    return { 'begin': ts[0], 'end': ts[1]}\n",
    "\n",
    "def upgrade_tscope(archive):\n",
    "    for process in archive.processes():\n",
    "        TS = process['TemporalScope']\n",
    "        if isinstance(TS, str):\n",
    "            if bool(re.match('interval\\(.+,.+\\)', TS)):\n",
    "                process['TemporalScope'] = convert_interval(TS)\n",
    "            "
   ]
  },
  {
   "cell_type": "code",
   "execution_count": 57,
   "metadata": {
    "collapsed": false
   },
   "outputs": [],
   "source": [
    "upgrade_tscope(G)"
   ]
  },
  {
   "cell_type": "code",
   "execution_count": 58,
   "metadata": {
    "collapsed": true
   },
   "outputs": [],
   "source": [
    "G.catalog_names.update(gabi_cat_names)"
   ]
  },
  {
   "cell_type": "code",
   "execution_count": 20,
   "metadata": {
    "collapsed": false
   },
   "outputs": [],
   "source": [
    "G.write_to_file(file, gzip=True, exchanges=True, values=True)"
   ]
  },
  {
   "cell_type": "code",
   "execution_count": 48,
   "metadata": {
    "collapsed": false
   },
   "outputs": [],
   "source": [
    "ei32_a = C['ecoinvent_3.2_apos_xlsx']\n",
    "ei32_q = C['ecoinvent_3.2_consequential_xlsx']\n",
    "ei32_c = C['ecoinvent_3.2_cut-off_xlsx']\n",
    "ei32_u = C['ecoinvent_3.2_undefined_xlsx']\n",
    "uslci  = C['uslci_ecospold']\n",
    "gabi_p = C['gabi_2016_professional-database-2016'].archive[0]\n",
    "gabi_x = C['gabi_2016_all-extensions'].archive[0]\n",
    "elcd   = C['elcd_3.2']\n",
    "\n",
    "cats = [ ei32_a, ei32_q, ei32_c, ei32_u, uslci, gabi_p, gabi_x, elcd]\n",
    "cnames = [ names[i] for i in (0, 1, 2, 3, 8, 7, 6, 5)]"
   ]
  },
  {
   "cell_type": "code",
   "execution_count": 44,
   "metadata": {
    "collapsed": false
   },
   "outputs": [
    {
     "data": {
      "text/plain": [
       "<lcatools.providers.ilcd.IlcdArchive at 0x7fb045994ba8>"
      ]
     },
     "execution_count": 44,
     "metadata": {},
     "output_type": "execute_result"
    }
   ],
   "source": [
    "gabi_p.archive[0]"
   ]
  },
  {
   "cell_type": "code",
   "execution_count": 13,
   "metadata": {
    "collapsed": false
   },
   "outputs": [
    {
     "data": {
      "text/plain": [
       "{'extension-database-ia-intermediates-organic',\n",
       " 'extension-database-ib-intermediates-inorganic',\n",
       " 'extension-database-ii-energy',\n",
       " 'extension-database-iii-steel',\n",
       " 'extension-database-iv-aluminium',\n",
       " 'extension-database-ix-end-of-life',\n",
       " 'extension-database-v-non-ferrous-metals',\n",
       " 'extension-database-vi-precious-metals',\n",
       " 'extension-database-vii-plastics',\n",
       " 'extension-database-viii-coatings',\n",
       " 'extension-database-x-manufacturing',\n",
       " 'extension-database-xi-electronics',\n",
       " 'extension-database-xii-renewable-raw-materials',\n",
       " 'extension-database-xiv-construction-materials',\n",
       " 'extension-database-xix-bioplastics',\n",
       " 'extension-database-xv-textile-finishing',\n",
       " 'extension-database-xvi-seat-covers',\n",
       " 'extension-database-xvii-full-us',\n",
       " 'extension-database-xx-food-feed',\n",
       " 'extension-database-xxi-india'}"
      ]
     },
     "execution_count": 13,
     "metadata": {},
     "output_type": "execute_result"
    }
   ],
   "source": [
    "set([k['CatalogName'] for k in cats[-1].processes()])"
   ]
  },
  {
   "cell_type": "code",
   "execution_count": 122,
   "metadata": {
    "collapsed": true
   },
   "outputs": [],
   "source": [
    "def search_catalogs(etype, **kwargs):\n",
    "    \"\"\"\n",
    "    search all the catalogs for a search term. \n",
    "    \"\"\"\n",
    "    results = []\n",
    "    for i, k in enumerate(cats):\n",
    "        for j in k.search(entity_type=etype, **kwargs):\n",
    "            results.append((i, j))\n",
    "    return results"
   ]
  },
  {
   "cell_type": "code",
   "execution_count": 194,
   "metadata": {
    "collapsed": true
   },
   "outputs": [],
   "source": [
    "def processes_with_flow(result):\n",
    "    \"\"\"\n",
    "    takes an element from a list of flow search results: which are a catalog reference and a flow entity\n",
    "    returns a list of processes that exchange it\n",
    "    \"\"\"\n",
    "    return [(result[0], x.process) for x in cats[result[0]].exchanges() if x.flow is result[1]]"
   ]
  },
  {
   "cell_type": "code",
   "execution_count": 188,
   "metadata": {
    "collapsed": true
   },
   "outputs": [],
   "source": [
    "search_term = 'alum.*silicate'"
   ]
  },
  {
   "cell_type": "code",
   "execution_count": 189,
   "metadata": {
    "collapsed": false
   },
   "outputs": [],
   "source": [
    "l = []\n",
    "for n in ('flow', 'process'):\n",
    "    l.extend(search_catalogs(n, Name=search_term))"
   ]
  },
  {
   "cell_type": "code",
   "execution_count": 190,
   "metadata": {
    "collapsed": false
   },
   "outputs": [
    {
     "data": {
      "text/plain": [
       "[(5, <lcatools.entities.LcFlow at 0x7efcc69eaf28>),\n",
       " (6, <lcatools.entities.LcFlow at 0x7efcc704ceb8>),\n",
       " (6, <lcatools.entities.LcFlow at 0x7efcc6f55588>),\n",
       " (6, <lcatools.entities.LcProcess at 0x7efcc40bc940>)]"
      ]
     },
     "execution_count": 190,
     "metadata": {},
     "output_type": "execute_result"
    }
   ],
   "source": [
    "l"
   ]
  },
  {
   "cell_type": "code",
   "execution_count": 191,
   "metadata": {
    "collapsed": false
   },
   "outputs": [
    {
     "name": "stdout",
     "output_type": "stream",
     "text": [
      "(5) Kaolin (aluminium silicate) (CAS 001332-58-7) [Valuable substances, Materials, Minerals]\n",
      "(6) Kaolin (aluminium silicate) (CAS 001332-58-7) [Valuable substances, Materials, Minerals]\n",
      "(6) Aluminium silicate [Valuable substances, Materials, Intermediate products, Inorganic intermediate products]\n",
      "(6) Aluminium silicate (zeolite type A) [US]\n"
     ]
    }
   ],
   "source": [
    "for i in l:\n",
    "    print('(%d) %s' % i)"
   ]
  },
  {
   "cell_type": "code",
   "execution_count": 200,
   "metadata": {
    "collapsed": false
   },
   "outputs": [],
   "source": [
    "def show_processes(res):\n",
    "    \"\"\"\n",
    "    res is a 2-tuple: (index into cats, flow entity)\n",
    "    \"\"\"\n",
    "    for i in res:\n",
    "        print('%s:' % cnames[i[0]])\n",
    "        for j,p in processes_with_flow(i):\n",
    "            if 'CatalogName' in p.properties():\n",
    "                print(' * (%s) %s' % (p['CatalogName'], p))\n",
    "            else:\n",
    "                print(' * %s' % p)\n",
    "            print('   %s%s.xml' % (p['origin'], p.get_external_ref()))\n",
    "    "
   ]
  },
  {
   "cell_type": "code",
   "execution_count": 201,
   "metadata": {
    "collapsed": false
   },
   "outputs": [],
   "source": [
    "def search_for_processes(flowname, **kwargs):\n",
    "    show_processes(search_catalogs('flow', Name=flowname, **kwargs))\n",
    "    \n",
    "    "
   ]
  },
  {
   "cell_type": "code",
   "execution_count": 202,
   "metadata": {
    "collapsed": false,
    "scrolled": true
   },
   "outputs": [
    {
     "name": "stdout",
     "output_type": "stream",
     "text": [
      "gabi_2016_professional-database-2016:\n",
      " * Kaolin [DE]\n",
      "   http://gabi-documentation-2016.gabi-software.com/xml-data/processes/d4b785c0-d395-4a25-8309-b3017b0dea6b.xml\n",
      "gabi_2016_all-extensions:\n",
      " * (extension-database-xiv-construction-materials) Kaolin [DE]\n",
      "   http://gabi-documentation-2016.gabi-software.com/xml-data/processes/d4b785c0-d395-4a25-8309-b3017b0dea6b.xml\n",
      " * (extension-database-xvii-full-us) Kaolin (mining and processing) [US]\n",
      "   http://gabi-documentation-2016.gabi-software.com/xml-data/processes/09327fc4-6fac-4b45-aa8e-a02a339ba20a.xml\n",
      " * (extension-database-xxi-india) Kaolin  [IN]\n",
      "   http://gabi-documentation-2016.gabi-software.com/xml-data/processes/18a54e01-ebda-47cb-a787-d1797a91efe9.xml\n",
      "gabi_2016_all-extensions:\n",
      " * (extension-database-xvii-full-us) Aluminium silicate (zeolite type A) [US]\n",
      "   http://gabi-documentation-2016.gabi-software.com/xml-data/processes/ec8be76c-6908-4c1c-aa48-6fdfe57c653d.xml\n"
     ]
    }
   ],
   "source": [
    "search_for_processes('alum.*silic')"
   ]
  },
  {
   "cell_type": "code",
   "execution_count": 165,
   "metadata": {
    "collapsed": false,
    "scrolled": true
   },
   "outputs": [
    {
     "name": "stdout",
     "output_type": "stream",
     "text": [
      "gabi_2016_all-extensions:\n",
      " * (extension-database-xxi-india) Aluminium chloride (estimation) [IN]\n",
      "   http://gabi-documentation-2016.gabi-software.com/xml-data/processes/db1f6b2c-a900-43c8-a87c-1795543edcbf.xml\n",
      "gabi_2016_all-extensions:\n",
      " * (extension-database-xxi-india) Polyaluminium chloride (estimation) [IN]\n",
      "   http://gabi-documentation-2016.gabi-software.com/xml-data/processes/62d7b764-c83f-4b2e-873b-ca585329eaf9.xml\n"
     ]
    }
   ],
   "source": [
    "search_for_processes('alum.*chlor')"
   ]
  },
  {
   "cell_type": "code",
   "execution_count": 166,
   "metadata": {
    "collapsed": false,
    "scrolled": false
   },
   "outputs": [
    {
     "name": "stdout",
     "output_type": "stream",
     "text": [
      "ecoinvent_3.2_apos_xlsx:\n",
      "ecoinvent_3.2_apos_xlsx:\n",
      "ecoinvent_3.2_apos_xlsx:\n",
      "ecoinvent_3.2_apos_xlsx:\n",
      "ecoinvent_3.2_apos_xlsx:\n",
      "ecoinvent_3.2_consequential_xlsx:\n",
      "ecoinvent_3.2_consequential_xlsx:\n",
      "ecoinvent_3.2_consequential_xlsx:\n",
      "ecoinvent_3.2_consequential_xlsx:\n",
      "ecoinvent_3.2_consequential_xlsx:\n",
      "ecoinvent_3.2_cut-off_xlsx:\n",
      "ecoinvent_3.2_cut-off_xlsx:\n",
      "ecoinvent_3.2_cut-off_xlsx:\n",
      "ecoinvent_3.2_cut-off_xlsx:\n",
      "ecoinvent_3.2_cut-off_xlsx:\n",
      "ecoinvent_3.2_undefined_xlsx:\n",
      "ecoinvent_3.2_undefined_xlsx:\n",
      "ecoinvent_3.2_undefined_xlsx:\n",
      "ecoinvent_3.2_undefined_xlsx:\n",
      "ecoinvent_3.2_undefined_xlsx:\n",
      "gabi_2016_all-extensions:\n",
      " * (extension-database-ia-intermediates-organic) Methyl bromide [DE]\n",
      "   http://gabi-documentation-2016.gabi-software.com/xml-data/processes/4584335a-e81a-4244-a6a9-97e0fc267683.xml\n",
      "elcd_3.2:\n",
      " * corrugated Board ELCD dataset 2009 S [EU-27]\n",
      "   C:\\Users\\Brandon\\Dropbox\\data\\ELCD\\ELCD3.2.zipprocesses/7311da1a-673f-96b5-66ef-00004409928e.xml\n",
      " * Copper tube; technology mix; market mix, at plant; diameter 15 mm, 1 mm thickness [EU-25]\n",
      "   C:\\Users\\Brandon\\Dropbox\\data\\ELCD\\ELCD3.2.zipprocesses/5098e9f2-e2f1-44e9-ac4e-62a8864ae2b6.xml\n",
      " * Bentonite granular, sodium activated [RER]\n",
      "   C:\\Users\\Brandon\\Dropbox\\data\\ELCD\\ELCD3.2.zipprocesses/2b78d6f1-2d78-4781-9701-3d34e00f2762.xml\n",
      " * Continuous filament glass fibre (dry chopped strands) [RER]\n",
      "   C:\\Users\\Brandon\\Dropbox\\data\\ELCD\\ELCD3.2.zipprocesses/b1661cc6-b2f5-46ae-8ce0-f1d33ac7e1af.xml\n",
      " * Continuous filament glass fibre (direct rovings) [RER]\n",
      "   C:\\Users\\Brandon\\Dropbox\\data\\ELCD\\ELCD3.2.zipprocesses/6756d1f6-8661-452f-badf-bd386a8b947a.xml\n",
      " * Steel tinplate without EoL recycling  (collection year 2012/2013) [RER]\n",
      "   C:\\Users\\Brandon\\Dropbox\\data\\ELCD\\ELCD3.2.zipprocesses/a83ee9ac-e392-4ef8-b046-8d88c23a4187.xml\n",
      " * Continuous filament glass fibre (wet chopped strands) [RER]\n",
      "   C:\\Users\\Brandon\\Dropbox\\data\\ELCD\\ELCD3.2.zipprocesses/d176c895-2f1a-4596-804a-0db4d363f8ab.xml\n",
      " * Copper wire; technology mix; market mix, at plant; cross section 1 mm [EU-25]\n",
      "   C:\\Users\\Brandon\\Dropbox\\data\\ELCD\\ELCD3.2.zipprocesses/819e60d3-2652-47de-9f0b-d3bf8a4e0ea9.xml\n",
      " * PCC slurry [RER]\n",
      "   C:\\Users\\Brandon\\Dropbox\\data\\ELCD\\ELCD3.2.zipprocesses/deb8f616-d451-4904-b241-d7295713accf.xml\n",
      " * Bentonite powder, sodium activated [RER]\n",
      "   C:\\Users\\Brandon\\Dropbox\\data\\ELCD\\ELCD3.2.zipprocesses/a2eaa86a-57cd-4f78-9e5a-9bc44458f6b0.xml\n",
      " * GCC slurry [RER]\n",
      "   C:\\Users\\Brandon\\Dropbox\\data\\ELCD\\ELCD3.2.zipprocesses/c220ef06-50b6-4037-b6b2-7562d01ea9e3.xml\n",
      " * titanium Dioxide; Chloride and sulphate processes; production mix, at plant; > 80% TiO2 [GLO]\n",
      "   C:\\Users\\Brandon\\Dropbox\\data\\ELCD\\ELCD3.2.zipprocesses/07927a54-b4f1-5e6e-94ca-00006717e913.xml\n",
      " * Porocalce plaster production [IT]\n",
      "   C:\\Users\\Brandon\\Dropbox\\data\\ELCD\\ELCD3.2.zipprocesses/da78eea3-ead1-4379-80af-14a991a2a746.xml\n",
      " * Copper sheet; technology mix; market mix, at plant; 0,6 mm thickness [EU-25]\n",
      "   C:\\Users\\Brandon\\Dropbox\\data\\ELCD\\ELCD3.2.zipprocesses/1323a7e6-7841-47db-8da1-06355432a908.xml\n",
      " * procarton 2009 ELCD FUall Alu wood - process waste System -agr land [EU-27]\n",
      "   C:\\Users\\Brandon\\Dropbox\\data\\ELCD\\ELCD3.2.zipprocesses/54025657-ca8e-1cd4-3330-0000339bcc6d.xml\n",
      " * PCC dry [RER]\n",
      "   C:\\Users\\Brandon\\Dropbox\\data\\ELCD\\ELCD3.2.zipprocesses/0d703908-42f0-4669-87b5-69061d426797.xml\n",
      " * Continuous filament glass fibre (assembled rovings) [RER]\n",
      "   C:\\Users\\Brandon\\Dropbox\\data\\ELCD\\ELCD3.2.zipprocesses/d1befc51-af18-4725-b356-3c79be66b249.xml\n",
      " * Lead primary and secondary mix  [EU-27]\n",
      "   C:\\Users\\Brandon\\Dropbox\\data\\ELCD\\ELCD3.2.zipprocesses/137f2286-e426-4231-b65d-e65503fa6e5c.xml\n",
      " * Lead sheet mix [EU-27]\n",
      "   C:\\Users\\Brandon\\Dropbox\\data\\ELCD\\ELCD3.2.zipprocesses/11f67def-dc2a-4e74-bb4f-885610a9ae9c.xml\n",
      " *  Graphic Paper [EU-25]\n",
      "   C:\\Users\\Brandon\\Dropbox\\data\\ELCD\\ELCD3.2.zipprocesses/50e97735-1e19-4788-8525-e39de50cd804.xml\n",
      " * GCC dry [RER]\n",
      "   C:\\Users\\Brandon\\Dropbox\\data\\ELCD\\ELCD3.2.zipprocesses/14db2998-ff19-45e6-9951-f5bd9ae8c149.xml\n"
     ]
    }
   ],
   "source": [
    "search_for_processes('.', CasNumber='74-83-9')"
   ]
  },
  {
   "cell_type": "code",
   "execution_count": 192,
   "metadata": {
    "collapsed": false
   },
   "outputs": [
    {
     "name": "stdout",
     "output_type": "stream",
     "text": [
      "gabi_2016_all-extensions:\n",
      " * (extension-database-xvii-full-us) Sodium bicarbonate [US]\n",
      "   http://gabi-documentation-2016.gabi-software.com/xml-data/processes/37d10e61-2410-4669-9340-d5dbbfdd1794.xml\n"
     ]
    }
   ],
   "source": [
    "search_for_processes('sodium.*bic')"
   ]
  },
  {
   "cell_type": "code",
   "execution_count": 208,
   "metadata": {
    "collapsed": false
   },
   "outputs": [],
   "source": [
    "def list_exchanges_for_process(result):\n",
    "    cat = cats[result[0]]\n",
    "    exch = [x for x in cat.exchanges() if x.process is result[1]]\n",
    "    for i in exch:\n",
    "        print('%s' %i)\n",
    "    return exch"
   ]
  },
  {
   "cell_type": "code",
   "execution_count": 203,
   "metadata": {
    "collapsed": false
   },
   "outputs": [
    {
     "data": {
      "text/plain": [
       "[(5, <lcatools.entities.LcFlow at 0x7efcc69eaf28>),\n",
       " (6, <lcatools.entities.LcFlow at 0x7efcc704ceb8>),\n",
       " (6, <lcatools.entities.LcFlow at 0x7efcc6f55588>),\n",
       " (6, <lcatools.entities.LcProcess at 0x7efcc40bc940>)]"
      ]
     },
     "execution_count": 203,
     "metadata": {},
     "output_type": "execute_result"
    }
   ],
   "source": [
    "l"
   ]
  },
  {
   "cell_type": "code",
   "execution_count": null,
   "metadata": {
    "collapsed": true
   },
   "outputs": [],
   "source": []
  },
  {
   "cell_type": "code",
   "execution_count": 204,
   "metadata": {
    "collapsed": false
   },
   "outputs": [],
   "source": [
    "pp = processes_with_flow(l[1])"
   ]
  },
  {
   "cell_type": "code",
   "execution_count": 205,
   "metadata": {
    "collapsed": false
   },
   "outputs": [
    {
     "data": {
      "text/plain": [
       "(6, <lcatools.entities.LcProcess at 0x7efcc402d208>)"
      ]
     },
     "execution_count": 205,
     "metadata": {},
     "output_type": "execute_result"
    }
   ],
   "source": [
    "pp[0]"
   ]
  },
  {
   "cell_type": "code",
   "execution_count": 213,
   "metadata": {
    "collapsed": false
   },
   "outputs": [
    {
     "name": "stdout",
     "output_type": "stream",
     "text": [
      "Kaolin  [IN] has Output: Kaolin (aluminium silicate) (CAS 001332-58-7) [Valuable substances, Materials, Minerals] [kg]\n"
     ]
    },
    {
     "data": {
      "text/plain": [
       "[<lcatools.exchanges.Exchange at 0x7efcc3ebca58>]"
      ]
     },
     "execution_count": 213,
     "metadata": {},
     "output_type": "execute_result"
    }
   ],
   "source": [
    "list_exchanges_for_process(pp[2])"
   ]
  },
  {
   "cell_type": "code",
   "execution_count": 185,
   "metadata": {
    "collapsed": false
   },
   "outputs": [
    {
     "data": {
      "text/plain": [
       "[]"
      ]
     },
     "execution_count": 185,
     "metadata": {},
     "output_type": "execute_result"
    }
   ],
   "source": [
    "[x for x in cats[5].exchanges() if x.process==pp[0]]"
   ]
  },
  {
   "cell_type": "code",
   "execution_count": 171,
   "metadata": {
    "collapsed": false
   },
   "outputs": [
    {
     "data": {
      "text/plain": [
       "['http://gabi-documentation-2016.gabi-software.com/xml-data/processes/d4b785c0-d395-4a25-8309-b3017b0dea6b.xml',\n",
       " 'http://gabi-documentation-2016.gabi-software.com/xml-data/processes/09327fc4-6fac-4b45-aa8e-a02a339ba20a.xml',\n",
       " 'http://gabi-documentation-2016.gabi-software.com/xml-data/processes/18a54e01-ebda-47cb-a787-d1797a91efe9.xml']"
      ]
     },
     "execution_count": 171,
     "metadata": {},
     "output_type": "execute_result"
    }
   ],
   "source": [
    "[_p['origin'] + _p.get_external_ref() + '.xml' for _p in pp ]"
   ]
  },
  {
   "cell_type": "code",
   "execution_count": 172,
   "metadata": {
    "collapsed": false
   },
   "outputs": [],
   "source": [
    "q = C['gabi_2016_all-extensions']"
   ]
  },
  {
   "cell_type": "code",
   "execution_count": 97,
   "metadata": {
    "collapsed": false
   },
   "outputs": [
    {
     "data": {
      "text/plain": [
       "'http://www.gabi-software.com/support/gabi/gabi-database-2016-lci-documentation/extension-database-ia-intermediates-organic/'"
      ]
     },
     "execution_count": 97,
     "metadata": {},
     "output_type": "execute_result"
    }
   ],
   "source": [
    "q.catalog"
   ]
  },
  {
   "cell_type": "code",
   "execution_count": 63,
   "metadata": {
    "collapsed": true
   },
   "outputs": [],
   "source": [
    "def _res_gen(r):\n",
    "    for k in r:\n",
    "        yield k\n",
    "_g = _res_gen(r)"
   ]
  },
  {
   "cell_type": "code",
   "execution_count": 70,
   "metadata": {
    "collapsed": true
   },
   "outputs": [],
   "source": []
  },
  {
   "cell_type": "code",
   "execution_count": 71,
   "metadata": {
    "collapsed": false
   },
   "outputs": [
    {
     "name": "stdout",
     "output_type": "stream",
     "text": [
      "Methane, bromo-, Halon 1001 (CAS 000074-83-9) [air, lower stratosphere + upper troposphere]\n",
      "Methane, bromo-, Halon 1001 (CAS 000074-83-9) [air, low population density, long-term]\n",
      "Methane, bromo-, Halon 1001 (CAS 000074-83-9) [air, non-urban air or from high stacks]\n",
      "Methane, bromotrifluoro-, Halon 1301 (CAS 000075-63-8) [air, low population density, long-term]\n",
      "Methane, bromochlorodifluoro-, Halon 1211 (CAS 000353-59-3) [air, urban air close to ground]\n",
      "Methane, bromotrifluoro-, Halon 1301 (CAS 000075-63-8) [air, lower stratosphere + upper troposphere]\n",
      "Methane, bromo-, Halon 1001 (CAS 000074-83-9) [air, unspecified]\n",
      "Methane, bromochlorodifluoro-, Halon 1211 (CAS 000353-59-3) [air, unspecified]\n",
      "Methane, bromotrifluoro-, Halon 1301 (CAS 000075-63-8) [air, non-urban air or from high stacks]\n",
      "Methane, bromotrifluoro-, Halon 1301 (CAS 000075-63-8) [air, unspecified]\n",
      "Methane, bromo-, Halon 1001 (CAS 000074-83-9) [air, urban air close to ground]\n",
      "Methane, bromochlorodifluoro-, Halon 1211 (CAS 000353-59-3) [air, non-urban air or from high stacks]\n",
      "Methane, bromochlorodifluoro-, Halon 1211 (CAS 000353-59-3) [air, lower stratosphere + upper troposphere]\n",
      "Methane, bromotrifluoro-, Halon 1301 (CAS 000075-63-8) [air, urban air close to ground]\n",
      "Methane, bromochlorodifluoro-, Halon 1211 (CAS 000353-59-3) [air, low population density, long-term]\n",
      "Methane, bromotrifluoro-, Halon 1301 (CAS 000075-63-8) [air, low population density, long-term]\n",
      "Methane, bromotrifluoro-, Halon 1301 (CAS 000075-63-8) [air, non-urban air or from high stacks]\n",
      "Methane, bromo-, Halon 1001 (CAS 000074-83-9) [air, urban air close to ground]\n",
      "Methane, bromo-, Halon 1001 (CAS 000074-83-9) [air, lower stratosphere + upper troposphere]\n",
      "Methane, bromotrifluoro-, Halon 1301 (CAS 000075-63-8) [air, urban air close to ground]\n",
      "Methane, bromochlorodifluoro-, Halon 1211 (CAS 000353-59-3) [air, unspecified]\n",
      "Methane, bromochlorodifluoro-, Halon 1211 (CAS 000353-59-3) [air, low population density, long-term]\n",
      "Methane, bromo-, Halon 1001 (CAS 000074-83-9) [air, low population density, long-term]\n",
      "Methane, bromo-, Halon 1001 (CAS 000074-83-9) [air, unspecified]\n",
      "Methane, bromochlorodifluoro-, Halon 1211 (CAS 000353-59-3) [air, urban air close to ground]\n",
      "Methane, bromochlorodifluoro-, Halon 1211 (CAS 000353-59-3) [air, non-urban air or from high stacks]\n",
      "Methane, bromotrifluoro-, Halon 1301 (CAS 000075-63-8) [air, lower stratosphere + upper troposphere]\n",
      "Methane, bromotrifluoro-, Halon 1301 (CAS 000075-63-8) [air, unspecified]\n",
      "Methane, bromochlorodifluoro-, Halon 1211 (CAS 000353-59-3) [air, lower stratosphere + upper troposphere]\n",
      "Methane, bromo-, Halon 1001 (CAS 000074-83-9) [air, non-urban air or from high stacks]\n",
      "Methane, bromo-, Halon 1001 (CAS 000074-83-9) [air, unspecified]\n",
      "Methane, bromo-, Halon 1001 (CAS 000074-83-9) [air, urban air close to ground]\n",
      "Methane, bromochlorodifluoro-, Halon 1211 (CAS 000353-59-3) [air, non-urban air or from high stacks]\n",
      "Methane, bromochlorodifluoro-, Halon 1211 (CAS 000353-59-3) [air, urban air close to ground]\n",
      "Methane, bromotrifluoro-, Halon 1301 (CAS 000075-63-8) [air, lower stratosphere + upper troposphere]\n",
      "Methane, bromotrifluoro-, Halon 1301 (CAS 000075-63-8) [air, urban air close to ground]\n",
      "Methane, bromochlorodifluoro-, Halon 1211 (CAS 000353-59-3) [air, lower stratosphere + upper troposphere]\n",
      "Methane, bromo-, Halon 1001 (CAS 000074-83-9) [air, non-urban air or from high stacks]\n",
      "Methane, bromotrifluoro-, Halon 1301 (CAS 000075-63-8) [air, low population density, long-term]\n",
      "Methane, bromo-, Halon 1001 (CAS 000074-83-9) [air, low population density, long-term]\n",
      "Methane, bromo-, Halon 1001 (CAS 000074-83-9) [air, lower stratosphere + upper troposphere]\n",
      "Methane, bromotrifluoro-, Halon 1301 (CAS 000075-63-8) [air, unspecified]\n",
      "Methane, bromochlorodifluoro-, Halon 1211 (CAS 000353-59-3) [air, unspecified]\n",
      "Methane, bromochlorodifluoro-, Halon 1211 (CAS 000353-59-3) [air, low population density, long-term]\n",
      "Methane, bromotrifluoro-, Halon 1301 (CAS 000075-63-8) [air, non-urban air or from high stacks]\n",
      "Methane, bromo-, Halon 1001 (CAS 000074-83-9) [air, unspecified]\n",
      "Methane, bromotrifluoro-, Halon 1301 (CAS 000075-63-8) [air, non-urban air or from high stacks]\n",
      "Methane, bromochlorodifluoro-, Halon 1211 (CAS 000353-59-3) [air, low population density, long-term]\n",
      "Methane, bromochlorodifluoro-, Halon 1211 (CAS 000353-59-3) [air, urban air close to ground]\n",
      "Methane, bromotrifluoro-, Halon 1301 (CAS 000075-63-8) [air, unspecified]\n",
      "Methane, bromochlorodifluoro-, Halon 1211 (CAS 000353-59-3) [air, unspecified]\n",
      "Methane, bromo-, Halon 1001 (CAS 000074-83-9) [air, non-urban air or from high stacks]\n",
      "Methane, bromotrifluoro-, Halon 1301 (CAS 000075-63-8) [air, lower stratosphere + upper troposphere]\n",
      "Methane, bromo-, Halon 1001 (CAS 000074-83-9) [air, urban air close to ground]\n",
      "Methane, bromo-, Halon 1001 (CAS 000074-83-9) [air, lower stratosphere + upper troposphere]\n",
      "Methane, bromochlorodifluoro-, Halon 1211 (CAS 000353-59-3) [air, non-urban air or from high stacks]\n",
      "Methane, bromo-, Halon 1001 (CAS 000074-83-9) [air, low population density, long-term]\n",
      "Methane, bromochlorodifluoro-, Halon 1211 (CAS 000353-59-3) [air, lower stratosphere + upper troposphere]\n",
      "Methane, bromotrifluoro-, Halon 1301 (CAS 000075-63-8) [air, low population density, long-term]\n",
      "Methane, bromotrifluoro-, Halon 1301 (CAS 000075-63-8) [air, urban air close to ground]\n",
      "Methane, bromotrifluoro-, Halon 1301 [air, unspecified]\n",
      "Methane, dibromo- [water, unspecified]\n",
      "Methane, bromochlorodifluoro-, Halon 1211 [air, unspecified]\n",
      "Methane, bromotrifluoro-, Halon 1301 [air, high population density]\n",
      "Methane, bromochlorodifluoro-, Halon 1211 [air, low population density]\n",
      "Methane, bromotrifluoro-, Halon 1301 [air, low population density]\n",
      "Methane, bromo-, Halon 1001 [air, unspecified]\n",
      "Methyl bromide (CAS 000074-83-9) [Valuable substances, Materials, Intermediate products, Organic intermediate products]\n"
     ]
    }
   ],
   "source": [
    "for i in _g:\n",
    "    print(str(i[1]))"
   ]
  }
 ],
 "metadata": {
  "kernelspec": {
   "display_name": "Python 3",
   "language": "python",
   "name": "python3"
  },
  "language_info": {
   "codemirror_mode": {
    "name": "ipython",
    "version": 3
   },
   "file_extension": ".py",
   "mimetype": "text/x-python",
   "name": "python",
   "nbconvert_exporter": "python",
   "pygments_lexer": "ipython3",
   "version": "3.5.1"
  }
 },
 "nbformat": 4,
 "nbformat_minor": 0
}
