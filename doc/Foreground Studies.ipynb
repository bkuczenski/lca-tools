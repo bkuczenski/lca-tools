{
 "cells": [
  {
   "cell_type": "code",
   "execution_count": 1,
   "metadata": {
    "collapsed": true
   },
   "outputs": [],
   "source": [
    "import sys\n",
    "import os\n",
    "import json\n",
    "import re\n",
    "\n",
    "sys.path.append('..')\n",
    "\n",
    "import lcatools\n",
    "from lcatools.interact import *"
   ]
  },
  {
   "cell_type": "code",
   "execution_count": 2,
   "metadata": {
    "collapsed": false
   },
   "outputs": [],
   "source": [
    "from lcatools.foreground.manager import ForegroundManager"
   ]
  },
  {
   "cell_type": "code",
   "execution_count": 3,
   "metadata": {
    "collapsed": false
   },
   "outputs": [
    {
     "name": "stdout",
     "output_type": "stream",
     "text": [
      "ForegroundArchive archive added in position 0\n",
      "IlcdLcia archive added in position 1\n",
      "JSON archive added in position 2\n",
      "JSON archive added in position 3\n",
      "JSON archive added in position 4\n",
      "JSON archive added in position 5\n",
      "JSON archive added in position 6\n",
      "JSON archive added in position 7\n",
      "JSON archive added in position 8\n",
      "JSON archive added in position 9\n",
      "JSON archive added in position 10\n",
      "Generating flow-quantity database...\n",
      "Loading LCIA data... (0.82 s)\n",
      "Loading JSON data from /data/GitHub/lca-tools-datafiles/catalogs/elcd_lcia.json.gz:\n",
      "Found Extension: zip\n",
      "54 new quantity entities added (54 total)\n",
      "1256 new flow entities added (1256 total)\n",
      "0 new process entities added (0 total)\n",
      "0 unmatched flows found from source LCIA... \n",
      "\n",
      "finished LCIA... (1.69 s)\n",
      "Loading JSON data from /data/GitHub/lca-tools-datafiles/catalogs/ei_lcia.json.gz:\n",
      "**Upstream reference encountered: /data/LCI/Ecoinvent/3.2/undefined\n",
      "\n",
      "710 new quantity entities added (710 total)\n",
      "3255 new flow entities added (3255 total)\n",
      "0 new process entities added (0 total)\n",
      "92 unmatched flows found from source EI-LCIA... \n",
      "\n",
      "finished EI-LCIA... (8.00 s)\n",
      "finished... (8.00 s)\n"
     ]
    }
   ],
   "source": [
    "F = ForegroundManager('/data/LCI/work')"
   ]
  },
  {
   "cell_type": "code",
   "execution_count": 4,
   "metadata": {
    "collapsed": false
   },
   "outputs": [
    {
     "name": "stdout",
     "output_type": "stream",
     "text": [
      "\n",
      "LCA Catalog with the following archives:\n",
      "X [ 0] FG     : ForegroundArchive with 24 entities at /data/LCI/work\n",
      "  [ 1] ELCD   : /data/LCI/ELCD/ELCD3.2.zip\n",
      "X [ 2] LCIA   : IlcdLcia with 1310 entities at /home/b/Dropbox/data/ELCD/ELCD3.2.zip\n",
      "X [ 3] EI-LCIA: EcoinventLcia with 3965 entities at /data/LCI/LCIA implementation v3.1 2014_08_13.xlsx\n",
      "  [ 4] EI-U   : /data/GitHub/lca-tools-datafiles/catalogs/ecoinvent_3.2_undefined_xlsx.json.gz\n",
      "  [ 5] EI_A   : /data/GitHub/lca-tools-datafiles/catalogs/ecoinvent_3.2_apos_xlsx.json.gz\n",
      "  [ 6] EI_Q   : /data/GitHub/lca-tools-datafiles/catalogs/ecoinvent_3.2_consequential_xlsx.json.gz\n",
      "  [ 7] EI_C   : /data/GitHub/lca-tools-datafiles/catalogs/ecoinvent_3.2_cut-off_xlsx.json.gz\n",
      "  [ 8] USLCI  : /data/GitHub/lca-tools-datafiles/catalogs/uslci_ecospold.json.gz\n",
      "  [ 9] GaBi-P : /data/GitHub/lca-tools-datafiles/catalogs/gabi_2016_professional-database-2016.json.gz\n",
      "  [10] GaBi-X : /data/GitHub/lca-tools-datafiles/catalogs/gabi_2016_all-extensions.json.gz\n"
     ]
    }
   ],
   "source": [
    "F.show_all()"
   ]
  },
  {
   "cell_type": "code",
   "execution_count": 5,
   "metadata": {
    "collapsed": false
   },
   "outputs": [
    {
     "name": "stdout",
     "output_type": "stream",
     "text": [
      "Loading JSON data from /data/GitHub/lca-tools-datafiles/catalogs/ecoinvent_3.2_apos_xlsx.json.gz:\n",
      "Loading FG from /data/LCI/Ecoinvent/3.2/current_Version_3.2_apos_ecoSpold02.zip\n",
      "Found Extension: zip\n",
      "Loading BG from /data/LCI/Ecoinvent/3.2/current_Version_3.2_apos_lcia_ecoSpold02.zip\n",
      "Found Extension: zip\n",
      "**Upstream reference encountered: /home/b/Dropbox/data/Ecoinvent/3.2/activity_overview_for_users_3.2_undefined.xlsx\n",
      "\n",
      "718 new quantity entities added (718 total)\n",
      "6767 new flow entities added (6767 total)\n",
      "11420 new process entities added (11420 total)\n"
     ]
    }
   ],
   "source": [
    "F.load('EI_A')"
   ]
  },
  {
   "cell_type": "code",
   "execution_count": 6,
   "metadata": {
    "collapsed": false
   },
   "outputs": [
    {
     "name": "stdout",
     "output_type": "stream",
     "text": [
      "[ 0] (EI_A) {f} potassium fertiliser, as K2O [Intermediate flow] \n",
      "[ 1] (EI_A) {f} nitrogen fertiliser, as N [Intermediate flow] \n",
      "[ 2] (EI_A) {f} phosphoric acid, fertiliser grade, without water, in 70% solution state (CAS 007664-38-2) [Intermediate flow] \n",
      "[ 3] (EI_A) {f} phosphoric acid factory, fertiliser grade [Intermediate flow] \n",
      "[ 4] (EI_A) {f} phosphate fertiliser, as P2O5 [Intermediate flow] \n",
      "[ 5] (EI_A) {f} fertilising, by broadcaster [Intermediate flow] \n"
     ]
    }
   ],
   "source": [
    "flow = F.search('EI_A', 'flow', Name='fertil', show=True)[2]"
   ]
  },
  {
   "cell_type": "code",
   "execution_count": 7,
   "metadata": {
    "collapsed": false
   },
   "outputs": [
    {
     "name": "stdout",
     "output_type": "stream",
     "text": [
      "[ 0] (EI_A) phosphoric acid, fertiliser grade, without water, in 70% solution state (CAS 007664-38-2) [Intermediate flow] <- phosphoric acid production, dihydrate process [RoW] \n",
      "[ 1] (EI_A) phosphoric acid, fertiliser grade, without water, in 70% solution state (CAS 007664-38-2) [Intermediate flow] <- phosphoric acid production, dihydrate process [MA] \n",
      "[ 2] (EI_A) phosphoric acid, industrial grade, without water, in 85% solution state (CAS 007664-38-2) [Intermediate flow] <- purification of wet-process phosphoric acid to industrial grade, product in 85% solution state [RoW] \n",
      "[ 3] (EI_A) phosphoric acid, fertiliser grade, without water, in 70% solution state (CAS 007664-38-2) [Intermediate flow] <- phosphoric acid production, dihydrate process [US] \n",
      "[ 4] (EI_A) phosphoric acid, fertiliser grade, without water, in 70% solution state (CAS 007664-38-2) [Intermediate flow] <- market for phosphoric acid, fertiliser grade, without water, in 70% solution state [GLO] \n",
      "[ 5] (EI_A) phosphoric acid, industrial grade, without water, in 85% solution state (CAS 007664-38-2) [Intermediate flow] <- market for phosphoric acid, industrial grade, without water, in 85% solution state [GLO] \n",
      "[ 6] (EI_A) phosphoric acid, industrial grade, without water, in 85% solution state (CAS 007664-38-2) [Intermediate flow] <- purification of wet-process phosphoric acid to industrial grade, product in 85% solution state [RER] \n"
     ]
    }
   ],
   "source": [
    "procs = [x.process_ref for x in F._catalog.terminate_flow(flow, 'Output', show=True)]"
   ]
  },
  {
   "cell_type": "code",
   "execution_count": 8,
   "metadata": {
    "collapsed": false
   },
   "outputs": [
    {
     "data": {
      "text/plain": [
       "[<lcatools.catalog.CatalogRef at 0x7f4fa302d5c0>,\n",
       " <lcatools.catalog.CatalogRef at 0x7f4fa302d748>,\n",
       " <lcatools.catalog.CatalogRef at 0x7f4fa302d710>,\n",
       " <lcatools.catalog.CatalogRef at 0x7f4fa302d780>,\n",
       " <lcatools.catalog.CatalogRef at 0x7f4fa302d7b8>,\n",
       " <lcatools.catalog.CatalogRef at 0x7f4fa302d7f0>,\n",
       " <lcatools.catalog.CatalogRef at 0x7f4fa302d828>]"
      ]
     },
     "execution_count": 8,
     "metadata": {},
     "output_type": "execute_result"
    }
   ],
   "source": [
    "procs"
   ]
  },
  {
   "cell_type": "code",
   "execution_count": 9,
   "metadata": {
    "collapsed": false
   },
   "outputs": [
    {
     "data": {
      "text/plain": [
       "'Ecoinvent Spreadsheet Quantity kg'"
      ]
     },
     "execution_count": 9,
     "metadata": {},
     "output_type": "execute_result"
    }
   ],
   "source": [
    "str(flow.entity().reference_entity)"
   ]
  },
  {
   "cell_type": "code",
   "execution_count": 8,
   "metadata": {
    "collapsed": false
   },
   "outputs": [],
   "source": [
    "q = F.search(3, 'quantity', Method='traci')"
   ]
  },
  {
   "cell_type": "code",
   "execution_count": 9,
   "metadata": {
    "collapsed": false
   },
   "outputs": [
    {
     "name": "stdout",
     "output_type": "stream",
     "text": [
      "Add to foreground: (EI-LCIA) {q} TRACI, human health, respiratory effects, average [LCIA]\n",
      "Add to foreground: (EI-LCIA) {q} TRACI, environmental impact, acidification [LCIA]\n",
      "Add to foreground: (EI-LCIA) {q} TRACI, environmental impact, ecotoxicity [LCIA]\n",
      "Add to foreground: (EI-LCIA) {q} TRACI, human health, carcinogenics [LCIA]\n",
      "Add to foreground: (EI-LCIA) {q} TRACI, environmental impact, global warming [LCIA]\n",
      "Add to foreground: (EI-LCIA) {q} TRACI, human health, non-carcinogenics [LCIA]\n",
      "Add to foreground: (EI-LCIA) {q} TRACI, environmental impact, ozone depletion [LCIA]\n",
      "Add to foreground: (EI-LCIA) {q} TRACI, environmental impact, eutrophication [LCIA]\n",
      "Add to foreground: (EI-LCIA) {q} TRACI, environmental impact, photochemical oxidation [LCIA]\n"
     ]
    }
   ],
   "source": [
    "for i in q:\n",
    "    F.add_to_foreground(i)"
   ]
  },
  {
   "cell_type": "code",
   "execution_count": 20,
   "metadata": {
    "collapsed": true
   },
   "outputs": [],
   "source": [
    "from lcatools.foreground.dynamic_grid import dynamic_grid"
   ]
  },
  {
   "cell_type": "code",
   "execution_count": 11,
   "metadata": {
    "collapsed": true
   },
   "outputs": [],
   "source": [
    "p_refs = procs[:5]"
   ]
  },
  {
   "cell_type": "code",
   "execution_count": 15,
   "metadata": {
    "collapsed": false
   },
   "outputs": [
    {
     "data": {
      "text/plain": [
       "['212da04d-a664-3353-8f54-ac00adcff13f',\n",
       " '47c8d971-aeac-37af-a69f-ba75ed9cf4ef']"
      ]
     },
     "execution_count": 15,
     "metadata": {},
     "output_type": "execute_result"
    }
   ],
   "source": [
    "[x.flow.get_uuid() for x in procs[0].entity().reference_entity]"
   ]
  },
  {
   "cell_type": "code",
   "execution_count": 10,
   "metadata": {
    "collapsed": false
   },
   "outputs": [
    {
     "name": "stdout",
     "output_type": "stream",
     "text": [
      "Ref Units  |   C0   |   C1   |   C2   |   C3   |   C4   |   C5    LCIA Method\n",
      "-----------------------------------------------------------------------------\n",
      "[kg benze         0        0        0        0        0        0  TRACI, human health, carcinogenics\n",
      "[kg NOx-E         0        0        0        0        0        0  TRACI, environmental impact, photochemical oxidation\n",
      "[kg PM2.5  0.000114 0.000114        0 0.000114        0        0  TRACI, human health, respiratory effects, average\n",
      "[moles of   0.00406  0.00386        0  0.00408        0        0  TRACI, environmental impact, acidification\n",
      "[kg CFC-1         0        0        0        0        0        0  TRACI, environmental impact, ozone depletion\n",
      "[kg 2,4-D         0        0        0        0        0        0  TRACI, environmental impact, ecotoxicity\n",
      "[kg tolue         0        0        0        0        0        0  TRACI, human health, non-carcinogenics\n",
      "   [kg N]         0        0        0        0        0        0  TRACI, environmental impact, eutrophication\n",
      "[kg CO2-E    0.0106    0.119        0        0        0        0  TRACI, environmental impact, global warming\n",
      "Ref Units  |   C0   |   C1   |   C2   |   C3   |   C4   |   C5    LCIA Method\n",
      "\n",
      "Columns:\n",
      "C0: (EI_A) {p} phosphoric acid production, dihydrate process [RoW]\n",
      "C1: (EI_A) {p} phosphoric acid production, dihydrate process [MA]\n",
      "C2: (EI_A) {p} purification of wet-process phosphoric acid to industrial grade, product in 85% solution state [RoW]\n",
      "C3: (EI_A) {p} phosphoric acid production, dihydrate process [US]\n",
      "C4: (EI_A) {p} market for phosphoric acid, fertiliser grade, without water, in 70% solution state [GLO]\n",
      "C5: (EI_A) {p} market for phosphoric acid, industrial grade, without water, in 85% solution state [GLO]\n"
     ]
    }
   ],
   "source": [
    "F.compare_lcia_results(procs[:6], ref_flow=flow)"
   ]
  },
  {
   "cell_type": "code",
   "execution_count": 11,
   "metadata": {
    "collapsed": false
   },
   "outputs": [
    {
     "name": "stdout",
     "output_type": "stream",
     "text": [
      "Direction  |   C0   |   C1   |   C2   |   C3   |   C4   |   C5    Flow\n",
      "----------------------------------------------------------------------\n",
      "    Input    --       --       -0.352   --       --       --      H3PO4 purification residue [By-product classification: Waste]\n",
      "    Input      2.91     2.91    0.372     2.91   --       --      heat, district or industrial, natural gas [By-product classification: allocatable product]\n",
      "    Input    0.0637    0.715   --       --       --       --      phosphate rock, as P2O5, beneficiated, dry (CAS 065996-94-3) [By-product classification: allocatable product]\n",
      "    Input    --       --      4.7e-10   --       --       --      chemical factory, organics [By-product classification: allocatable product]\n",
      "    Input    --       --       -0.007   --       --       --      spent solvent mixture [By-product classification: Waste]\n",
      "    Input    --       --       --       --        0.841    0.599  transport, freight, sea, transoceanic ship [By-product classification: allocatable product]\n",
      "    Input    --       --        0.026   --       --       --      sodium hydroxide, without water, in 50% solution state (CAS 1310-73-2) [By-product classification: allocatable product]\n",
      "    Input    --       --         1.09   --       --       --      water, deionised, from tap water, at user (CAS 007732-18-5) [By-product classification: allocatable product]\n",
      "    Input     0.494    0.494    0.372    0.494   --       --      heat, district or industrial, other than natural gas [By-product classification: allocatable product]\n",
      "    Input    --       --       --       --        0.276    0.309  transport, freight train [By-product classification: allocatable product]\n",
      "    Input     0.665   --       --         0.73   --       --      phosphate rock, as P2O5, beneficiated, wet (CAS 065996-94-3) [By-product classification: allocatable product]\n",
      "    Input    --       --       --       --       --        0.331  phosphoric acid, industrial grade, without water, in 85% solution state (CAS 007664-38-2) [By-product classification: allocatable product]\n",
      "        .                                                  0.669  \n",
      "    Input    --       --       --       --        0.148    0.209  transport, freight, lorry, unspecified [By-product classification: allocatable product]\n",
      "    Input    --       --         1.02   --        0.031   --      phosphoric acid, fertiliser grade, without water, in 70% solution state (CAS 007664-38-2) [By-product classification: allocatable product]\n",
      "        .                                         0.651           \n",
      "        .                                         0.318           \n",
      "    Input     0.131    0.131   --        0.131   --       --      electricity, medium voltage [By-product classification: allocatable product]\n",
      "    Input      2.08     1.75    0.129     2.11   --       --      sulfuric acid [By-product classification: allocatable product]\n",
      "    Input  2.95e-10 2.95e-10   --     2.95e-10   --       --      phosphoric acid factory, fertiliser grade [By-product classification: allocatable product]\n",
      "    Input    --       --        0.007   --       --       --      isopropanol (CAS 67-63-0) [By-product classification: allocatable product]\n",
      "    Input    --       --       --       --       0.0466   0.0246  transport, freight, inland waterways, barge [By-product classification: allocatable product]\n",
      "    Input    0.0785   0.0785    0.108   0.0785   --       --      quicklime, milled, loose [By-product classification: allocatable product]\n",
      "   Output         0        0   --            0   --       --      fluosilicic acid, without water, in 22% solution state (CAS 16961-83-4) [By-product classification: allocatable product]\n",
      "   Output         1        1   --            1        1   --      phosphoric acid, fertiliser grade, without water, in 70% solution state (CAS 007664-38-2) [By-product classification: allocatable product]\n",
      "   Output    --       --            1   --       --            1  phosphoric acid, industrial grade, without water, in 85% solution state (CAS 007664-38-2) [By-product classification: allocatable product]\n",
      "Direction  |   C0   |   C1   |   C2   |   C3   |   C4   |   C5    Flow\n",
      "----------------------------------------------------------------------\n",
      "    Input     0.431   --       --        0.473   --       --      Occupation, construction site [natural resource, land]\n",
      "    Input  0.000398   --       --     0.000437   --       --      Transformation, from industrial area [natural resource, land]\n",
      "    Input  0.000312   --       --     0.000342   --       --      Transformation, to unspecified [natural resource, land]\n",
      "    Input  3.12e-06   --       --     3.42e-06   --       --      Transformation, from unspecified [natural resource, land]\n",
      "    Input     0.121    0.121    0.123    0.121   --       --      Water, cooling, unspecified natural origin (CAS 007732-18-5) [natural resource, in water]\n",
      "    Input  3.12e-06   --       --     3.42e-06   --       --      Transformation, to pasture, man made [natural resource, land]\n",
      "    Input  0.000441   --       --     0.000485   --       --      Transformation, to industrial area [natural resource, land]\n",
      "    Input  0.000251   --       --     0.000276   --       --      Transformation, from pasture, man made [natural resource, land]\n",
      "    Input   0.00513  0.00513  0.00431  0.00513   --       --      Water, well, in ground (CAS 007732-18-5) [natural resource, in water]\n",
      "    Input  4.58e-05   --       --     5.03e-05   --       --      Occupation, industrial area [natural resource, land]\n",
      "   Output  3.15e-09   --       --     3.46e-09   --       --      Copper, ion (CAS 017493-86-6) [water, ground-]\n",
      "   Output  6.69e-06 6.69e-06   --     6.69e-06   --       --      Thorium-228 [air, non-urban air or from high stacks]\n",
      "   Output     0.297     3.33   --       --       --       --      Polonium-210 (CAS 013981-52-7) [water, ocean]\n",
      "   Output  4.07e-05   --       --     4.47e-05   --       --      Calcium, ion (CAS 014127-61-8) [water, ground-]\n",
      "   Output  5.24e-07 5.89e-06   --       --       --       --      Copper, ion (CAS 017493-86-6) [water, ocean]\n",
      "   Output   0.00012   --       --     0.000132   --       --      Potassium-40 (CAS 013966-00-2) [water, ground-]\n",
      "   Output   0.00151   --       --      0.00166   --       --      Polonium-210 (CAS 013981-52-7) [water, ground-]\n",
      "   Output    0.0746    0.839   --       --       --       --      Calcium, ion (CAS 014127-61-8) [water, ocean]\n",
      "   Output  4.24e-06 4.77e-05   --       --       --       --      Arsenic, ion (CAS 017428-41-0) [water, ocean]\n",
      "   Output    0.0106    0.119   --       --       --       --      Carbon dioxide, fossil (CAS 000124-38-9) [air, non-urban air or from high stacks]\n",
      "   Output  0.000511   --       --     0.000561   --       --      Uranium-238 (CAS 007440-61-1) [water, ground-]\n",
      "   Output   1.3e-10   --       --     1.43e-10   --       --      Lead (CAS 007439-92-1) [water, ground-]\n",
      "   Output    0.0488   0.0487   0.0494   0.0487   --       --      Water (CAS 007732-18-5) [air, unspecified]\n",
      "   Output  1.82e-07   --       --        2e-07   --       --      Fluoride (CAS 016984-48-8) [water, ground-]\n",
      "   Output    0.0778   0.0777   0.0787   0.0777   --       --      Water (CAS 007732-18-5) [water, unspecified]\n",
      "   Output     0.148     1.66   --       --       --       --      Sulfate (CAS 014808-79-8) [water, ocean]\n",
      "   Output  1.61e-06 1.81e-05   --       --       --       --      Cadmium, ion (CAS 022537-48-0) [water, ocean]\n",
      "   Output   0.00238   0.0268   --       --       --       --      Thorium-228 (CAS 014274-82-9) [water, ocean]\n",
      "   Output  5.28e-10   --       --      5.8e-10   --       --      Nickel, ion (CAS 014701-22-5) [water, ground-]\n",
      "   Output   2.2e-07 2.47e-06   --       --       --       --      Lead (CAS 007439-92-1) [water, ocean]\n",
      "   Output  0.000268 0.000268   --     0.000268   --       --      Lead-210 [air, non-urban air or from high stacks]\n",
      "   Output     0.194     2.19   --       --       --       --      Lead-210 (CAS 014255-04-0) [water, ocean]\n",
      "   Output    --       --       0.0014   --       --       --      Fluoride (CAS 016984-48-8) [water, unspecified]\n",
      "   Output  2.34e-05 2.34e-05   --     2.34e-05   --       --      Uranium-238 [air, non-urban air or from high stacks]\n",
      "   Output  0.000114 0.000114   --     0.000114   --       --      Particulates, < 2.5 um [air, non-urban air or from high stacks]\n",
      "   Output  6.41e-10   --       --     7.03e-10   --       --      Arsenic, ion (CAS 017428-41-0) [water, ground-]\n",
      "   Output  0.000769  0.00865   --       --       --       --      Fluoride (CAS 016984-48-8) [water, ocean]\n",
      "   Output     5e-05 4.75e-05   --     5.03e-05   --       --      Hydrogen fluoride (CAS 007664-39-3) [air, non-urban air or from high stacks]\n",
      "   Output   0.00112   --       --      0.00123   --       --      Radium-226 (CAS 013982-63-3) [water, ground-]\n",
      "   Output  4.73e-07 5.32e-06   --       --       --       --      Chromium, ion (CAS 016065-83-1) [water, ocean]\n",
      "   Output  3.12e-06   --       --     3.42e-06   --       --      Silicon tetrafluoride (CAS 007783-61-1) [air, non-urban air or from high stacks]\n",
      "   Output      2.75     2.75   --         2.75   --       --      Radon-222 [air, non-urban air or from high stacks]\n",
      "   Output  3.43e-09   --       --     3.76e-09   --       --      Zinc, ion (CAS 023713-49-7) [water, ground-]\n",
      "   Output  0.000468 0.000468   --     0.000468   --       --      Polonium-210 [air, non-urban air or from high stacks]\n",
      "   Output  2.87e-06 3.23e-05   --       --       --       --      Nickel, ion (CAS 014701-22-5) [water, ocean]\n",
      "   Output    0.0235    0.264   --       --       --       --      Potassium-40 (CAS 013966-00-2) [water, ocean]\n",
      "   Output   0.00328   0.0369   --       --       --       --      Phosphate (CAS 014265-44-2) [water, ocean]\n",
      "   Output  0.000995   --       --      0.00109   --       --      Lead-210 (CAS 014255-04-0) [water, ground-]\n",
      "   Output  1.33e-09   --       --     1.46e-09   --       --      Cadmium, ion (CAS 022537-48-0) [water, ground-]\n",
      "   Output  2.71e-06 3.05e-05   --       --       --       --      Manganese (CAS 007439-96-5) [water, ocean]\n",
      "   Output  4.41e-06 4.96e-05   --       --       --       --      Zinc, ion (CAS 023713-49-7) [water, ocean]\n",
      "   Output  1.22e-05   --       --     1.34e-05   --       --      Thorium-228 (CAS 014274-82-9) [water, ground-]\n",
      "   Output  0.000162 0.000162   --     0.000162   --       --      Particulates, > 2.5 um, and < 10um [air, non-urban air or from high stacks]\n",
      "   Output  2.52e-06   --       --     2.76e-06   --       --      Phosphate (CAS 014265-44-2) [water, ground-]\n",
      "   Output    --       --       0.0017   --       --       --      Sodium, ion (CAS 017341-25-2) [water, unspecified]\n",
      "   Output  8.22e-11   --       --     9.03e-11   --       --      Chromium, ion (CAS 016065-83-1) [water, ground-]\n",
      "   Output  0.000143 0.000143   --     0.000143   --       --      Particulates, > 10 um [air, non-urban air or from high stacks]\n",
      "   Output     0.219     2.46   --       --       --       --      Radium-226 (CAS 013982-63-3) [water, ocean]\n",
      "   Output  9.18e-05   --       --     0.000101   --       --      Sulfate (CAS 014808-79-8) [water, ground-]\n",
      "   Output  2.68e-05 2.68e-05   --     2.68e-05   --       --      Potassium-40 [air, non-urban air or from high stacks]\n",
      "   Output    0.0997     1.12   --       --       --       --      Uranium-238 (CAS 007440-61-1) [water, ocean]\n",
      "   Output  0.000301 0.000301   --     0.000301   --       --      Radium-226 [air, non-urban air or from high stacks]\n",
      "   Output  1.13e-09   --       --     1.24e-09   --       --      Manganese (CAS 007439-96-5) [water, ground-]\n",
      "Direction  |   C0   |   C1   |   C2   |   C3   |   C4   |   C5    Flow\n",
      "\n",
      "Columns:\n",
      "C0: (EI_A) {p} phosphoric acid production, dihydrate process [RoW]\n",
      "C1: (EI_A) {p} phosphoric acid production, dihydrate process [MA]\n",
      "C2: (EI_A) {p} purification of wet-process phosphoric acid to industrial grade, product in 85% solution state [RoW]\n",
      "C3: (EI_A) {p} phosphoric acid production, dihydrate process [US]\n",
      "C4: (EI_A) {p} market for phosphoric acid, fertiliser grade, without water, in 70% solution state [GLO]\n",
      "C5: (EI_A) {p} market for phosphoric acid, industrial grade, without water, in 85% solution state [GLO]\n"
     ]
    }
   ],
   "source": [
    "F.compare_inventory(procs[:6], ref_flow=flow)"
   ]
  },
  {
   "cell_type": "code",
   "execution_count": 12,
   "metadata": {
    "collapsed": false
   },
   "outputs": [
    {
     "name": "stdout",
     "output_type": "stream",
     "text": [
      "This process has multiple allocations. Select reference flow:\n",
      "\n",
      "Choice Item\n",
      "====== ======================================================================\n",
      " [0]   fluosilicic acid, without water, in 22% solution state\n",
      " [1]   phosphoric acid, fertiliser grade, without water, in 70% solution state\n",
      "------ ----------------------------------------------------------------------\n",
      "Enter choice (or \"None\"): 1\n"
     ]
    }
   ],
   "source": [
    "z = F[5].bg_lookup(procs[0], quantities=[x.entity() for x in q])"
   ]
  },
  {
   "cell_type": "code",
   "execution_count": 13,
   "metadata": {
    "collapsed": false
   },
   "outputs": [
    {
     "data": {
      "text/plain": [
       "['   0.00486 TRACI, human health, respiratory effects, average [LCIA]',\n",
       " '      16.8 TRACI, human health, non-carcinogenics [LCIA]',\n",
       " '      0.93 TRACI, environmental impact, global warming [LCIA]',\n",
       " '   0.00455 TRACI, human health, carcinogenics [LCIA]',\n",
       " '   0.00393 TRACI, environmental impact, photochemical oxidation [LCIA]',\n",
       " '     0.885 TRACI, environmental impact, acidification [LCIA]',\n",
       " '  0.000975 TRACI, environmental impact, eutrophication [LCIA]',\n",
       " '     0.853 TRACI, environmental impact, ecotoxicity [LCIA]',\n",
       " '  1.77e-07 TRACI, environmental impact, ozone depletion [LCIA]']"
      ]
     },
     "execution_count": 13,
     "metadata": {},
     "output_type": "execute_result"
    }
   ],
   "source": [
    "['%s' % s for s in z.values()]"
   ]
  },
  {
   "cell_type": "code",
   "execution_count": null,
   "metadata": {
    "collapsed": true
   },
   "outputs": [],
   "source": []
  },
  {
   "cell_type": "code",
   "execution_count": 14,
   "metadata": {
    "collapsed": false
   },
   "outputs": [],
   "source": [
    "z0 = z[q[0].get_uuid()]"
   ]
  },
  {
   "cell_type": "code",
   "execution_count": 15,
   "metadata": {
    "collapsed": false
   },
   "outputs": [
    {
     "name": "stdout",
     "output_type": "stream",
     "text": [
      "TRACI, human health, respiratory effects, average [LCIA] kg PM2.5-Eq\n",
      "------------------------------------------------------------\n",
      "         1 x    0.00486 [RoW] =    0.00486 phosphoric acid, fertiliser grade, without water, in 70% solution state (CAS 007664-38-2) [By-product classification: allocatable product]\n",
      "============================================================\n",
      "             Total score: 0.00486485 \n",
      "   0.00486 TRACI, human health, respiratory effects, average [LCIA]\n"
     ]
    }
   ],
   "source": [
    "z0.show_details()"
   ]
  },
  {
   "cell_type": "code",
   "execution_count": 17,
   "metadata": {
    "collapsed": false
   },
   "outputs": [],
   "source": [
    "from lcatools.lcia_results import LciaResult"
   ]
  },
  {
   "cell_type": "code",
   "execution_count": 18,
   "metadata": {
    "collapsed": true
   },
   "outputs": [],
   "source": [
    "r = LciaResult(q[0])"
   ]
  },
  {
   "cell_type": "code",
   "execution_count": 19,
   "metadata": {
    "collapsed": false
   },
   "outputs": [
    {
     "data": {
      "text/plain": [
       "0"
      ]
     },
     "execution_count": 19,
     "metadata": {},
     "output_type": "execute_result"
    }
   ],
   "source": [
    "r.total()"
   ]
  },
  {
   "cell_type": "code",
   "execution_count": 27,
   "metadata": {
    "collapsed": false
   },
   "outputs": [],
   "source": [
    "v = [f for f in z0._LciaScores.values()][0]"
   ]
  },
  {
   "cell_type": "code",
   "execution_count": 34,
   "metadata": {
    "collapsed": false
   },
   "outputs": [
    {
     "data": {
      "text/plain": [
       "{'_locations': {'RoW': 0.014192502},\n",
       " 'flow': <lcatools.entities.LcFlow at 0x7f4fa2fd8588>,\n",
       " 'quantity': <lcatools.entities.LcQuantity at 0x7f4fac38e2b0>}"
      ]
     },
     "execution_count": 34,
     "metadata": {},
     "output_type": "execute_result"
    }
   ],
   "source": [
    "[f for f in v.LciaDetails][0].factor.__dict__"
   ]
  },
  {
   "cell_type": "code",
   "execution_count": 24,
   "metadata": {
    "collapsed": false
   },
   "outputs": [
    {
     "name": "stdout",
     "output_type": "stream",
     "text": [
      "TRACI, human health, respiratory effects, average [LCIA] kg PM2.5-Eq\n",
      "------------------------------------------------------------\n",
      "         1 x       ---- =     0.0142 fluosilicic acid, without water, in 22% solution state (CAS 16961-83-4) [By-product classification: allocatable product]\n",
      "============================================================\n",
      "             Total score: 0.0141925 \n"
     ]
    }
   ],
   "source": [
    "z0.show_details(z0.components()[0])"
   ]
  },
  {
   "cell_type": "code",
   "execution_count": 23,
   "metadata": {
    "collapsed": true
   },
   "outputs": [],
   "source": [
    "cfs = (cf for cf in z._characterizations.values())"
   ]
  },
  {
   "cell_type": "code",
   "execution_count": 24,
   "metadata": {
    "collapsed": true
   },
   "outputs": [],
   "source": [
    "cf= next(cfs)"
   ]
  },
  {
   "cell_type": "code",
   "execution_count": 27,
   "metadata": {
    "collapsed": false
   },
   "outputs": [
    {
     "data": {
      "text/plain": [
       "'(EI-LCIA) {q} TRACI, environmental impact, ecotoxicity [LCIA]'"
      ]
     },
     "execution_count": 27,
     "metadata": {},
     "output_type": "execute_result"
    }
   ],
   "source": [
    "str(cf.quantity)"
   ]
  },
  {
   "cell_type": "code",
   "execution_count": 22,
   "metadata": {
    "collapsed": false
   },
   "outputs": [
    {
     "name": "stdout",
     "output_type": "stream",
     "text": [
      "fluosilicic acid, without water, in 22% solution state (CAS 16961-83-4) [By-product classification: allocatable product]\n"
     ]
    },
    {
     "ename": "AttributeError",
     "evalue": "'CatalogRef' object has no attribute 'reference_entity'",
     "output_type": "error",
     "traceback": [
      "\u001b[1;31m---------------------------------------------------------------------------\u001b[0m",
      "\u001b[1;31mAttributeError\u001b[0m                            Traceback (most recent call last)",
      "\u001b[1;32m<ipython-input-22-6479adb14f16>\u001b[0m in \u001b[0;36m<module>\u001b[1;34m()\u001b[0m\n\u001b[1;32m----> 1\u001b[1;33m \u001b[0mz\u001b[0m\u001b[1;33m.\u001b[0m\u001b[0mprofile\u001b[0m\u001b[1;33m(\u001b[0m\u001b[1;33m)\u001b[0m\u001b[1;33m\u001b[0m\u001b[0m\n\u001b[0m",
      "\u001b[1;32m/data/GitHub/lca-tools/lcatools/entities.py\u001b[0m in \u001b[0;36mprofile\u001b[1;34m(self)\u001b[0m\n\u001b[0;32m    572\u001b[0m         \u001b[0mprint\u001b[0m\u001b[1;33m(\u001b[0m\u001b[1;34m'%s'\u001b[0m \u001b[1;33m%\u001b[0m \u001b[0mself\u001b[0m\u001b[1;33m)\u001b[0m\u001b[1;33m\u001b[0m\u001b[0m\n\u001b[0;32m    573\u001b[0m         \u001b[1;32mfor\u001b[0m \u001b[0mcf\u001b[0m \u001b[1;32min\u001b[0m \u001b[0mself\u001b[0m\u001b[1;33m.\u001b[0m\u001b[0m_characterizations\u001b[0m\u001b[1;33m.\u001b[0m\u001b[0mvalues\u001b[0m\u001b[1;33m(\u001b[0m\u001b[1;33m)\u001b[0m\u001b[1;33m:\u001b[0m\u001b[1;33m\u001b[0m\u001b[0m\n\u001b[1;32m--> 574\u001b[1;33m             \u001b[0mprint\u001b[0m\u001b[1;33m(\u001b[0m\u001b[1;34m'%s'\u001b[0m \u001b[1;33m%\u001b[0m \u001b[0mcf\u001b[0m\u001b[1;33m)\u001b[0m\u001b[1;33m\u001b[0m\u001b[0m\n\u001b[0m\u001b[0;32m    575\u001b[0m \u001b[1;33m\u001b[0m\u001b[0m\n\u001b[0;32m    576\u001b[0m     \u001b[1;32mdef\u001b[0m \u001b[0madd_characterization\u001b[0m\u001b[1;33m(\u001b[0m\u001b[0mself\u001b[0m\u001b[1;33m,\u001b[0m \u001b[0mquantity\u001b[0m\u001b[1;33m,\u001b[0m \u001b[0mreference\u001b[0m\u001b[1;33m=\u001b[0m\u001b[1;32mFalse\u001b[0m\u001b[1;33m,\u001b[0m \u001b[0mvalue\u001b[0m\u001b[1;33m=\u001b[0m\u001b[1;32mNone\u001b[0m\u001b[1;33m,\u001b[0m \u001b[1;33m**\u001b[0m\u001b[0mkwargs\u001b[0m\u001b[1;33m)\u001b[0m\u001b[1;33m:\u001b[0m\u001b[1;33m\u001b[0m\u001b[0m\n",
      "\u001b[1;32m/data/GitHub/lca-tools/lcatools/characterizations.py\u001b[0m in \u001b[0;36m__str__\u001b[1;34m(self)\u001b[0m\n\u001b[0;32m     84\u001b[0m             \u001b[1;32mreturn\u001b[0m \u001b[1;34m'%s has %s %s'\u001b[0m \u001b[1;33m%\u001b[0m \u001b[1;33m(\u001b[0m\u001b[0mself\u001b[0m\u001b[1;33m.\u001b[0m\u001b[0mflow\u001b[0m\u001b[1;33m,\u001b[0m \u001b[0mself\u001b[0m\u001b[1;33m.\u001b[0m\u001b[0mquantity\u001b[0m\u001b[1;33m,\u001b[0m \u001b[0mself\u001b[0m\u001b[1;33m.\u001b[0m\u001b[0mquantity\u001b[0m\u001b[1;33m.\u001b[0m\u001b[0mreference_entity\u001b[0m\u001b[1;33m)\u001b[0m\u001b[1;33m\u001b[0m\u001b[0m\n\u001b[0;32m     85\u001b[0m         return '%s %s %s' % ('\\n'.join(['%.3g [%s]' % (v, k) for k,v in self._locations.items()]),\n\u001b[1;32m---> 86\u001b[1;33m                              self.quantity.reference_entity, self.quantity)\n\u001b[0m\u001b[0;32m     87\u001b[0m \u001b[1;33m\u001b[0m\u001b[0m\n\u001b[0;32m     88\u001b[0m     \u001b[1;32mdef\u001b[0m \u001b[0mq_view\u001b[0m\u001b[1;33m(\u001b[0m\u001b[0mself\u001b[0m\u001b[1;33m)\u001b[0m\u001b[1;33m:\u001b[0m\u001b[1;33m\u001b[0m\u001b[0m\n",
      "\u001b[1;31mAttributeError\u001b[0m: 'CatalogRef' object has no attribute 'reference_entity'"
     ]
    }
   ],
   "source": [
    "z.profile()"
   ]
  },
  {
   "cell_type": "code",
   "execution_count": 13,
   "metadata": {
    "collapsed": false
   },
   "outputs": [
    {
     "name": "stdout",
     "output_type": "stream",
     "text": [
      "Direction  |   C0   |   C1    Flow\n",
      "----------------------------------\n",
      "    Input      2.91     8.48  heat, district or industrial, natural gas [By-product classification: allocatable product]\n",
      "    Input      1.75      5.1  sulfuric acid [By-product classification: allocatable product]\n",
      "    Input     0.494     1.44  heat, district or industrial, other than natural gas [By-product classification: allocatable product]\n",
      "    Input     0.131    0.383  electricity, medium voltage [By-product classification: allocatable product]\n",
      "    Input     0.715     2.09  phosphate rock, as P2O5, beneficiated, dry (CAS 065996-94-3) [By-product classification: allocatable product]\n",
      "    Input    0.0785    0.229  quicklime, milled, loose [By-product classification: allocatable product]\n",
      "    Input  2.95e-10 8.62e-10  phosphoric acid factory, fertiliser grade [By-product classification: allocatable product]\n",
      "   Output         1        0  phosphoric acid, fertiliser grade, without water, in 70% solution state (CAS 007664-38-2) [By-product classification: allocatable product]\n",
      "   Output         0        1  fluosilicic acid, without water, in 22% solution state (CAS 16961-83-4) [By-product classification: allocatable product]\n",
      "Direction  |   C0   |   C1    Flow\n",
      "----------------------------------\n",
      "    Input   0.00513    0.015  Water, well, in ground (CAS 007732-18-5) [natural resource, in water]\n",
      "    Input     0.121    0.354  Water, cooling, unspecified natural origin (CAS 007732-18-5) [natural resource, in water]\n",
      "   Output  0.000162 0.000471  Particulates, > 2.5 um, and < 10um [air, non-urban air or from high stacks]\n",
      "   Output  2.47e-06 7.21e-06  Lead (CAS 007439-92-1) [water, ocean]\n",
      "   Output      3.33     9.73  Polonium-210 (CAS 013981-52-7) [water, ocean]\n",
      "   Output    0.0268   0.0782  Thorium-228 (CAS 014274-82-9) [water, ocean]\n",
      "   Output  1.81e-05 5.27e-05  Cadmium, ion (CAS 022537-48-0) [water, ocean]\n",
      "   Output  6.69e-06 1.95e-05  Thorium-228 [air, non-urban air or from high stacks]\n",
      "   Output  3.23e-05 9.42e-05  Nickel, ion (CAS 014701-22-5) [water, ocean]\n",
      "   Output    0.0487    0.142  Water (CAS 007732-18-5) [air, unspecified]\n",
      "   Output   0.00865   0.0252  Fluoride (CAS 016984-48-8) [water, ocean]\n",
      "   Output  5.89e-06 1.72e-05  Copper, ion (CAS 017493-86-6) [water, ocean]\n",
      "   Output    0.0369    0.108  Phosphate (CAS 014265-44-2) [water, ocean]\n",
      "   Output     0.119    0.346  Carbon dioxide, fossil (CAS 000124-38-9) [air, non-urban air or from high stacks]\n",
      "   Output     0.839     2.45  Calcium, ion (CAS 014127-61-8) [water, ocean]\n",
      "   Output  0.000114 0.000333  Particulates, < 2.5 um [air, non-urban air or from high stacks]\n",
      "   Output  2.68e-05 7.82e-05  Potassium-40 [air, non-urban air or from high stacks]\n",
      "   Output    0.0777    0.227  Water (CAS 007732-18-5) [water, unspecified]\n",
      "   Output  0.000143 0.000416  Particulates, > 10 um [air, non-urban air or from high stacks]\n",
      "   Output  4.75e-05 0.000139  Hydrogen fluoride (CAS 007664-39-3) [air, non-urban air or from high stacks]\n",
      "   Output      2.46     7.18  Radium-226 (CAS 013982-63-3) [water, ocean]\n",
      "   Output  3.05e-05  8.9e-05  Manganese (CAS 007439-96-5) [water, ocean]\n",
      "   Output      2.19     6.38  Lead-210 (CAS 014255-04-0) [water, ocean]\n",
      "   Output  0.000468  0.00137  Polonium-210 [air, non-urban air or from high stacks]\n",
      "   Output      2.75     8.01  Radon-222 [air, non-urban air or from high stacks]\n",
      "   Output     0.264    0.771  Potassium-40 (CAS 013966-00-2) [water, ocean]\n",
      "   Output      1.66     4.85  Sulfate (CAS 014808-79-8) [water, ocean]\n",
      "   Output      1.12     3.27  Uranium-238 (CAS 007440-61-1) [water, ocean]\n",
      "   Output  4.96e-05 0.000145  Zinc, ion (CAS 023713-49-7) [water, ocean]\n",
      "   Output  0.000268 0.000782  Lead-210 [air, non-urban air or from high stacks]\n",
      "   Output  4.77e-05 0.000139  Arsenic, ion (CAS 017428-41-0) [water, ocean]\n",
      "   Output  5.32e-06 1.55e-05  Chromium, ion (CAS 016065-83-1) [water, ocean]\n",
      "   Output  2.34e-05 6.82e-05  Uranium-238 [air, non-urban air or from high stacks]\n",
      "   Output  0.000301 0.000879  Radium-226 [air, non-urban air or from high stacks]\n",
      "Direction  |   C0   |   C1    Flow\n",
      "\n",
      "Columns:\n",
      "C0: phosphoric acid production, dihydrate process [MA] has Output: phosphoric acid, fertiliser grade, without water, in 70% solution state (CAS 007664-38-2) [Intermediate flow] [kg]\n",
      "C1: phosphoric acid production, dihydrate process [MA] has Output: fluosilicic acid, without water, in 22% solution state (CAS 16961-83-4) [Intermediate flow] [kg]\n"
     ]
    }
   ],
   "source": [
    "F.compare_allocation(procs[1])"
   ]
  },
  {
   "cell_type": "code",
   "execution_count": 14,
   "metadata": {
    "collapsed": false
   },
   "outputs": [
    {
     "name": "stdout",
     "output_type": "stream",
     "text": [
      "Elementary exchanges:\n",
      "Output:     [4.2e-06 [kg]] Mercury (CAS 007439-97-6) [water, surface water]\n",
      "Output:     [0.000542 [kg]] Particulates, > 10 um [air, urban air close to ground]\n",
      "Output:     [4.4e-06 [kg]] Cadmium, ion (CAS 022537-48-0) [water, surface water]\n",
      "Output:     [0.000105 [kg]] Hydrogen fluoride (CAS 007664-39-3) [air, urban air close to ground]\n",
      "Output:     [2.2e-05 [kg]] Chromium, ion (CAS 016065-83-1) [water, surface water]\n",
      "Output:     [0.00442 [kg]] Phosphate (CAS 014265-44-2) [water, surface water]\n",
      "Output:     [0.000542 [kg]] Particulates, > 2.5 um, and < 10um [air, urban air close to ground]\n",
      "Output:     [0.000271 [kg]] Particulates, < 2.5 um [air, urban air close to ground]\n",
      "Output:     [4.4e-06 [kg]] Arsenic, ion (CAS 017428-41-0) [water, surface water]\n",
      "Output:     [1.7e-05 [kg]] Nickel, ion (CAS 014701-22-5) [water, surface water]\n",
      "Output:     [2.6e-05 [kg]] Zinc, ion (CAS 023713-49-7) [water, surface water]\n",
      "Output:     [2.2e-05 [kg]] Copper, ion (CAS 017493-86-6) [water, surface water]\n",
      "Output:     [1.9e-05 [kg]] Lead (CAS 007439-92-1) [water, surface water]\n"
     ]
    }
   ],
   "source": [
    "F.elementary(procs[1])"
   ]
  },
  {
   "cell_type": "code",
   "execution_count": 15,
   "metadata": {
    "collapsed": false
   },
   "outputs": [
    {
     "name": "stdout",
     "output_type": "stream",
     "text": [
      "Elementary exchanges:\n",
      "Output:     [4.4e-06 [kg]] Arsenic, ion (CAS 017428-41-0) [water, surface water]\n",
      "Output:     [0.000619 [kg]] Particulates, < 2.5 um [air, urban air close to ground]\n",
      "Output:     [1.7e-05 [kg]] Nickel, ion (CAS 014701-22-5) [water, surface water]\n",
      "Output:     [2.6e-05 [kg]] Zinc, ion (CAS 023713-49-7) [water, surface water]\n",
      "Output:     [2.2e-05 [kg]] Copper, ion (CAS 017493-86-6) [water, surface water]\n",
      "Output:     [1.9e-05 [kg]] Lead (CAS 007439-92-1) [water, surface water]\n",
      "Output:     [4.2e-06 [kg]] Mercury (CAS 007439-97-6) [water, surface water]\n",
      "Output:     [0.00124 [kg]] Particulates, > 10 um [air, urban air close to ground]\n",
      "Output:     [0.00124 [kg]] Particulates, > 2.5 um, and < 10um [air, urban air close to ground]\n",
      "Output:     [4.4e-06 [kg]] Cadmium, ion (CAS 022537-48-0) [water, surface water]\n",
      "Output:     [2.2e-05 [kg]] Chromium, ion (CAS 016065-83-1) [water, surface water]\n",
      "Output:     [0.00442 [kg]] Phosphate (CAS 014265-44-2) [water, surface water]\n",
      "Output:     [0.000105 [kg]] Hydrogen fluoride (CAS 007664-39-3) [air, urban air close to ground]\n"
     ]
    }
   ],
   "source": [
    "F.elementary(procs[2])"
   ]
  },
  {
   "cell_type": "code",
   "execution_count": 13,
   "metadata": {
    "collapsed": false
   },
   "outputs": [
    {
     "data": {
      "text/plain": [
       "0.47365269461077847"
      ]
     },
     "execution_count": 13,
     "metadata": {},
     "output_type": "execute_result"
    }
   ],
   "source": [
    "7.91/16.7"
   ]
  },
  {
   "cell_type": "code",
   "execution_count": 14,
   "metadata": {
    "collapsed": false
   },
   "outputs": [
    {
     "data": {
      "text/plain": [
       "0.4718614718614718"
      ]
     },
     "execution_count": 14,
     "metadata": {},
     "output_type": "execute_result"
    }
   ],
   "source": [
    ".109/.231"
   ]
  },
  {
   "cell_type": "code",
   "execution_count": 15,
   "metadata": {
    "collapsed": false
   },
   "outputs": [
    {
     "data": {
      "text/plain": [
       "0.472193074501574"
      ]
     },
     "execution_count": 15,
     "metadata": {},
     "output_type": "execute_result"
    }
   ],
   "source": [
    "4.5/9.53"
   ]
  },
  {
   "cell_type": "code",
   "execution_count": 16,
   "metadata": {
    "collapsed": false
   },
   "outputs": [
    {
     "data": {
      "text/plain": [
       "0.4709480122324159"
      ]
     },
     "execution_count": 16,
     "metadata": {},
     "output_type": "execute_result"
    }
   ],
   "source": [
    ".0154/.0327"
   ]
  },
  {
   "cell_type": "code",
   "execution_count": 15,
   "metadata": {
    "collapsed": false
   },
   "outputs": [
    {
     "ename": "TypeError",
     "evalue": "exceptions must derive from BaseException",
     "output_type": "error",
     "traceback": [
      "\u001b[1;31m---------------------------------------------------------------------------\u001b[0m",
      "\u001b[1;31mTypeError\u001b[0m                                 Traceback (most recent call last)",
      "\u001b[1;32m<ipython-input-15-02686fe3235f>\u001b[0m in \u001b[0;36m<module>\u001b[1;34m()\u001b[0m\n\u001b[1;32m----> 1\u001b[1;33m \u001b[0mF\u001b[0m\u001b[1;33m[\u001b[0m\u001b[1;36m6\u001b[0m\u001b[1;33m]\u001b[0m\u001b[1;33m.\u001b[0m\u001b[0mretrieve_or_fetch_entity\u001b[0m\u001b[1;33m(\u001b[0m\u001b[1;32mNone\u001b[0m\u001b[1;33m)\u001b[0m\u001b[1;33m\u001b[0m\u001b[0m\n\u001b[0m",
      "\u001b[1;32m/data/GitHub/lca-tools/lcatools/interfaces.py\u001b[0m in \u001b[0;36mretrieve_or_fetch_entity\u001b[1;34m(self, *args, **kwargs)\u001b[0m\n\u001b[0;32m    268\u001b[0m \u001b[1;33m\u001b[0m\u001b[0m\n\u001b[0;32m    269\u001b[0m         \u001b[1;31m# fetch\u001b[0m\u001b[1;33m\u001b[0m\u001b[1;33m\u001b[0m\u001b[0m\n\u001b[1;32m--> 270\u001b[1;33m         \u001b[1;32mreturn\u001b[0m \u001b[0mself\u001b[0m\u001b[1;33m.\u001b[0m\u001b[0m_fetch\u001b[0m\u001b[1;33m(\u001b[0m\u001b[0muid\u001b[0m\u001b[1;33m,\u001b[0m \u001b[1;33m**\u001b[0m\u001b[0mkwargs\u001b[0m\u001b[1;33m)\u001b[0m\u001b[1;33m\u001b[0m\u001b[0m\n\u001b[0m\u001b[0;32m    271\u001b[0m \u001b[1;33m\u001b[0m\u001b[0m\n\u001b[0;32m    272\u001b[0m     \u001b[1;32mdef\u001b[0m \u001b[0mvalidate_entity_list\u001b[0m\u001b[1;33m(\u001b[0m\u001b[0mself\u001b[0m\u001b[1;33m)\u001b[0m\u001b[1;33m:\u001b[0m\u001b[1;33m\u001b[0m\u001b[0m\n",
      "\u001b[1;32m/data/GitHub/lca-tools/lcatools/interfaces.py\u001b[0m in \u001b[0;36m_fetch\u001b[1;34m(self, entity, **kwargs)\u001b[0m\n\u001b[0;32m    236\u001b[0m         \u001b[1;33m:\u001b[0m\u001b[1;32mreturn\u001b[0m\u001b[1;33m:\u001b[0m\u001b[1;33m\u001b[0m\u001b[0m\n\u001b[0;32m    237\u001b[0m         \"\"\"\n\u001b[1;32m--> 238\u001b[1;33m         \u001b[1;32mraise\u001b[0m \u001b[0mNotImplemented\u001b[0m\u001b[1;33m\u001b[0m\u001b[0m\n\u001b[0m\u001b[0;32m    239\u001b[0m \u001b[1;33m\u001b[0m\u001b[0m\n\u001b[0;32m    240\u001b[0m     \u001b[1;32mdef\u001b[0m \u001b[0mretrieve_or_fetch_entity\u001b[0m\u001b[1;33m(\u001b[0m\u001b[0mself\u001b[0m\u001b[1;33m,\u001b[0m \u001b[1;33m*\u001b[0m\u001b[0margs\u001b[0m\u001b[1;33m,\u001b[0m \u001b[1;33m**\u001b[0m\u001b[0mkwargs\u001b[0m\u001b[1;33m)\u001b[0m\u001b[1;33m:\u001b[0m\u001b[1;33m\u001b[0m\u001b[0m\n",
      "\u001b[1;31mTypeError\u001b[0m: exceptions must derive from BaseException"
     ]
    }
   ],
   "source": [
    "F[6].retrieve_or_fetch_entity(None)"
   ]
  },
  {
   "cell_type": "code",
   "execution_count": 5,
   "metadata": {
    "collapsed": false
   },
   "outputs": [
    {
     "name": "stdout",
     "output_type": "stream",
     "text": [
      "[ 0] (EI_C) {f} vinasse, from fermentation of sugarcane [Intermediate flow] \n",
      "[ 1] (EI_C) {f} vinasse, from fermentation of sugarcane molasses [Intermediate flow] \n",
      "[ 2] (EI_C) {f} sugarcane [Intermediate flow] \n",
      "[ 3] (EI_C) {f} sugar refinery [Intermediate flow] \n",
      "[ 4] (EI_C) {f} sugar, from sugar beet [Intermediate flow] \n",
      "[ 5] (EI_C) {f} ash, from combustion of bagasse from sugar cane [Intermediate flow] \n",
      "[ 6] (EI_C) {f} bagasse, from sugarcane [Intermediate flow] \n",
      "[ 7] (EI_C) {f} sugar, from sugarcane [Intermediate flow] \n"
     ]
    }
   ],
   "source": [
    "res = F.search(4, Name='sugar.[^b]', show=True, entity_type='flow')"
   ]
  },
  {
   "cell_type": "code",
   "execution_count": 6,
   "metadata": {
    "collapsed": false
   },
   "outputs": [
    {
     "data": {
      "text/plain": [
       "'/home/b/Dropbox/data/Ecoinvent/3.2/activity_overview_for_users_3.2_undefined.xlsx'"
      ]
     },
     "execution_count": 6,
     "metadata": {},
     "output_type": "execute_result"
    }
   ],
   "source": [
    "res[4].entity().origin"
   ]
  },
  {
   "cell_type": "code",
   "execution_count": 7,
   "metadata": {
    "collapsed": true
   },
   "outputs": [],
   "source": [
    "result = res[4]"
   ]
  },
  {
   "cell_type": "code",
   "execution_count": 8,
   "metadata": {
    "collapsed": false
   },
   "outputs": [
    {
     "name": "stdout",
     "output_type": "stream",
     "text": [
      "[ 0] (EI_C) {p} beet sugar production [CH] \n",
      "[ 1] (EI_C) {p} market for sugar, from sugar beet [GLO] \n",
      "[ 2] (EI_C) {p} beet sugar production [RoW] \n"
     ]
    }
   ],
   "source": [
    "res = F.terminate(4, result, show=True)"
   ]
  },
  {
   "cell_type": "code",
   "execution_count": 9,
   "metadata": {
    "collapsed": false
   },
   "outputs": [
    {
     "data": {
      "text/plain": [
       "['beet sugar production [RoW] has Output: molasses, from sugar beet [Intermediate flow] [kg]',\n",
       " 'beet sugar production [RoW] has Output: sugar beet pulp [Intermediate flow] [kg]',\n",
       " 'beet sugar production [RoW] has Output: sugar, from sugar beet [Intermediate flow] [kg]']"
      ]
     },
     "execution_count": 9,
     "metadata": {},
     "output_type": "execute_result"
    }
   ],
   "source": [
    "[str(x) for x in res[2].entity().exchanges()]"
   ]
  },
  {
   "cell_type": "code",
   "execution_count": 10,
   "metadata": {
    "collapsed": false
   },
   "outputs": [],
   "source": [
    "spold = F[4].fg_lookup(res[2].entity())"
   ]
  },
  {
   "cell_type": "code",
   "execution_count": 41,
   "metadata": {
    "collapsed": false
   },
   "outputs": [
    {
     "data": {
      "text/plain": [
       "['c9a0fa1f-2aac-4f70-98d5-bd19e9d9365f_26448127-c1ac-4f48-818a-5e8fd9cb1645.spold',\n",
       " 'c9a0fa1f-2aac-4f70-98d5-bd19e9d9365f_8e583c86-9411-4087-a357-490a05d6b928.spold',\n",
       " 'c9a0fa1f-2aac-4f70-98d5-bd19e9d9365f_e98c4987-0c27-4ad8-aa06-568bea573460.spold']"
      ]
     },
     "execution_count": 41,
     "metadata": {},
     "output_type": "execute_result"
    }
   ],
   "source": [
    "spold"
   ]
  },
  {
   "cell_type": "code",
   "execution_count": 11,
   "metadata": {
    "collapsed": false
   },
   "outputs": [
    {
     "name": "stdout",
     "output_type": "stream",
     "text": [
      "c9a0fa1f-2aac-4f70-98d5-bd19e9d9365f_26448127-c1ac-4f48-818a-5e8fd9cb1645.spold\n",
      "c9a0fa1f-2aac-4f70-98d5-bd19e9d9365f_8e583c86-9411-4087-a357-490a05d6b928.spold\n",
      "c9a0fa1f-2aac-4f70-98d5-bd19e9d9365f_e98c4987-0c27-4ad8-aa06-568bea573460.spold\n"
     ]
    }
   ],
   "source": [
    "\n",
    "for s in spold:\n",
    "    print(s)\n",
    "    p = F[4].fg_lookup(s)"
   ]
  },
  {
   "cell_type": "code",
   "execution_count": 19,
   "metadata": {
    "collapsed": false
   },
   "outputs": [
    {
     "name": "stdout",
     "output_type": "stream",
     "text": [
      " Input: [-0.164 [kg]] limestone residue [By-product classification: Waste] (#)\n",
      " Input: [0.149 [kWh]] electricity, medium voltage [By-product classification: allocatable product] (#)\n",
      " Input: [0.000598 [kg]] chemical, inorganic [By-product classification: allocatable product] (#)\n",
      " Input: [0.000416 [kg]] chemical, organic [By-product classification: allocatable product] (#)\n",
      " Input: [0.13 [kg]] lime [By-product classification: allocatable product] (#)\n",
      " Input: [7.02e-11 [unit]] sugar refinery [By-product classification: allocatable product] (#)\n",
      " Input: [1.33 [MJ]] heat, district or industrial, natural gas [By-product classification: allocatable product] (#)\n",
      " Input: [4.47 [kg]] sugar beet [By-product classification: allocatable product] (#)\n",
      " Input: [0.0112 [MJ]] coke [By-product classification: allocatable product] (#)\n",
      " Input: [4.92 [kg]] tap water (CAS 7732-18-5) [By-product classification: allocatable product] (#)\n",
      " Input: [0.00155 [kg]] soda ash, light, crystalline, heptahydrate (CAS 497-19-8) [By-product classification: allocatable product] (#)\n",
      " Input: [0.292 [kg]] Carbon dioxide, in air (CAS 000124-38-9) [natural resource, in air]\n",
      " Input: [0.0447 [metric ton*km]] transport, tractor and trailer, agricultural [By-product classification: allocatable product] (#)\n",
      " Input: [0.000283 [kg]] sulfuric acid [By-product classification: allocatable product] (#)\n",
      " Input: [-0.00779 [m3]] wastewater, from residence [By-product classification: Waste] (#)\n",
      "Output: [0 [kg]] sugar beet pulp [By-product classification: allocatable product]\n",
      "Output: [1 [kg]] sugar, from sugar beet [By-product classification: allocatable product]\n",
      "Output: [0.00167 [m3]] Water (CAS 007732-18-5) [air, unspecified]\n",
      "Output: [0.295 [kg]] Carbon dioxide, non-fossil (CAS 000124-38-9) [air, urban air close to ground]\n",
      "Output: [0 [kg]] molasses, from sugar beet [By-product classification: allocatable product]\n"
     ]
    }
   ],
   "source": [
    "p.inventory('sugar, from sugar beet')"
   ]
  },
  {
   "cell_type": "code",
   "execution_count": 71,
   "metadata": {
    "collapsed": false
   },
   "outputs": [],
   "source": [
    "F[4].fg._entities=dict()"
   ]
  },
  {
   "cell_type": "code",
   "execution_count": 73,
   "metadata": {
    "collapsed": false
   },
   "outputs": [],
   "source": [
    "F[4].fg._quiet = False"
   ]
  },
  {
   "cell_type": "code",
   "execution_count": 85,
   "metadata": {
    "collapsed": false
   },
   "outputs": [
    {
     "data": {
      "text/plain": [
       "<lcatools.exchanges.AllocatedExchange at 0x7f30cd451048>"
      ]
     },
     "execution_count": 85,
     "metadata": {},
     "output_type": "execute_result"
    }
   ],
   "source": [
    "a = next(Xg)"
   ]
  },
  {
   "cell_type": "code",
   "execution_count": 91,
   "metadata": {
    "collapsed": false
   },
   "outputs": [
    {
     "data": {
      "text/plain": [
       "['26448127-c1ac-4f48-818a-5e8fd9cb1645',\n",
       " 'e98c4987-0c27-4ad8-aa06-568bea573460',\n",
       " '8e583c86-9411-4087-a357-490a05d6b928']"
      ]
     },
     "execution_count": 91,
     "metadata": {},
     "output_type": "execute_result"
    }
   ],
   "source": [
    "[f.flow.get_uuid() for f in a.process.reference_entity]"
   ]
  },
  {
   "cell_type": "code",
   "execution_count": 95,
   "metadata": {
    "collapsed": false
   },
   "outputs": [
    {
     "data": {
      "text/plain": [
       "[<lcatools.entities.LcProcess at 0x7f30cd504358>,\n",
       " <lcatools.entities.LcProcess at 0x7f30cd504358>,\n",
       " <lcatools.entities.LcProcess at 0x7f30cd504358>]"
      ]
     },
     "execution_count": 95,
     "metadata": {},
     "output_type": "execute_result"
    }
   ],
   "source": [
    "p"
   ]
  },
  {
   "cell_type": "code",
   "execution_count": 100,
   "metadata": {
    "collapsed": false
   },
   "outputs": [
    {
     "data": {
      "text/plain": [
       "False"
      ]
     },
     "execution_count": 100,
     "metadata": {},
     "output_type": "execute_result"
    }
   ],
   "source": [
    "'12345' in (x.flow.get_uuid() for x in p[0].reference_entity)"
   ]
  },
  {
   "cell_type": "code",
   "execution_count": 101,
   "metadata": {
    "collapsed": true
   },
   "outputs": [],
   "source": [
    "p = p[0]"
   ]
  },
  {
   "cell_type": "code",
   "execution_count": null,
   "metadata": {
    "collapsed": true
   },
   "outputs": [],
   "source": [
    "p.allocated_exchanges()"
   ]
  },
  {
   "cell_type": "code",
   "execution_count": 126,
   "metadata": {
    "collapsed": false
   },
   "outputs": [],
   "source": [
    "hits = [None, 7, None]"
   ]
  },
  {
   "cell_type": "code",
   "execution_count": 127,
   "metadata": {
    "collapsed": false
   },
   "outputs": [
    {
     "data": {
      "text/plain": [
       "[7]"
      ]
     },
     "execution_count": 127,
     "metadata": {},
     "output_type": "execute_result"
    }
   ],
   "source": [
    "list(filter(None, hits))"
   ]
  },
  {
   "cell_type": "code",
   "execution_count": 118,
   "metadata": {
    "collapsed": false
   },
   "outputs": [
    {
     "name": "stdout",
     "output_type": "stream",
     "text": [
      "0: beet sugar production [RoW] has Output: molasses, from sugar beet [By-product classification: allocatable product] [kg]\n",
      "1: beet sugar production [RoW] has Output: sugar beet pulp [By-product classification: allocatable product] [kg]\n",
      "2: beet sugar production [RoW] has Output: sugar, from sugar beet [By-product classification: allocatable product] [kg]\n"
     ]
    }
   ],
   "source": [
    "for i, k in enumerate(p.reference_entity):\n",
    "    print('%d: %s' % (i, k))"
   ]
  },
  {
   "cell_type": "code",
   "execution_count": 20,
   "metadata": {
    "collapsed": true
   },
   "outputs": [],
   "source": [
    "from lcatools.interfaces import uuid_regex"
   ]
  },
  {
   "cell_type": "code",
   "execution_count": 31,
   "metadata": {
    "collapsed": false
   },
   "outputs": [],
   "source": [
    "f = uuid_regex.findall(spold[0])[1][0]"
   ]
  },
  {
   "cell_type": "code",
   "execution_count": 35,
   "metadata": {
    "collapsed": false
   },
   "outputs": [],
   "source": [
    "es = F[4]"
   ]
  },
  {
   "cell_type": "code",
   "execution_count": 40,
   "metadata": {
    "collapsed": false
   },
   "outputs": [
    {
     "data": {
      "text/plain": [
       "'6de26242-7017-3b28-bb52-ec37e35f5812'"
      ]
     },
     "execution_count": 40,
     "metadata": {},
     "output_type": "execute_result"
    }
   ],
   "source": [
    "es.search(entity_type='flow', Name='molasses, from sugar')[0].get_uuid()"
   ]
  },
  {
   "cell_type": "code",
   "execution_count": 40,
   "metadata": {
    "collapsed": false
   },
   "outputs": [],
   "source": [
    "p = F[4].fg_lookup(spold)"
   ]
  },
  {
   "cell_type": "code",
   "execution_count": 49,
   "metadata": {
    "collapsed": false
   },
   "outputs": [
    {
     "name": "stdout",
     "output_type": "stream",
     "text": [
      " Input:     [0.000332 [m3]] liquid manure spreading, by vacuum tanker [By-product classification: allocatable product] (#)\n",
      " Input:     [1.66e-05 [kg]] potassium fertiliser, as K2O [By-product classification: allocatable product] (#)\n",
      " Input:     [0.000133 [kg]] ammonium sulfate, as N [By-product classification: allocatable product] (#)\n",
      " Input:     [1.2e-06 [ha]] fertilising, by broadcaster [By-product classification: allocatable product] (#)\n",
      " Input:     [4.89e-05 [kg]] pesticide, unspecified [By-product classification: allocatable product] (#)\n",
      " Input:     [1.27e-07 [ha]] planting [By-product classification: allocatable product] (#)\n",
      " Input:     [3.32e-06 [kg]] glyphosate [By-product classification: allocatable product] (#)\n",
      " Input:     [4.95 [MJ]] Energy, gross calorific value, in biomass [natural resource, biotic]\n",
      " Input:     [0.000257 [kg]] nitrogen fertiliser, as N [By-product classification: allocatable product] (#)\n",
      " Input:     [0.00517 [metric ton*km]] transport, tractor and trailer, agricultural [By-product classification: allocatable product] (#)\n",
      " Input:     [0.151 [m2]] Transformation, from annual crop, non-irrigated [natural resource, land]\n",
      " Input:     [2.31e-06 [kg]] phenoxy-compound [By-product classification: allocatable product] (#)\n",
      " Input:     [1.66e-05 [kg]] potassium sulfate, as K2O [By-product classification: allocatable product] (#)\n",
      " Input:     [9.35e-06 [kg]] triazine-compound, unspecified [By-product classification: allocatable product] (#)\n",
      " Input:     [0.151 [m2]] Transformation, to annual crop, non-irrigated, intensive [natural resource, land]\n",
      " Input:     [3.71e-07 [ha]] harvesting, by complete harvester, beets [By-product classification: allocatable product] (#)\n",
      " Input:     [0.000398 [kg]] urea, as N [By-product classification: allocatable product] (#)\n",
      " Input:     [3.85e-05 [kg]] phosphate rock, as P2O5, beneficiated, dry (CAS 065996-94-3) [By-product classification: allocatable product] (#)\n",
      " Input:     [0.00148 [kg]] potassium fertiliser, as K2O [By-product classification: allocatable product] (#)\n",
      " Input:     [0.00163 [kg]] potassium chloride, as K2O [By-product classification: allocatable product] (#)\n",
      " Input:     [0.136 [m2*year]] Occupation, annual crop, non-irrigated, intensive [natural resource, land]\n",
      " Input:     [9.61e-06 [ha]] tillage, harrowing, by spring tine harrow [By-product classification: allocatable product] (#)\n",
      " Input:     [2.47e-06 [m3]] fodder loading, by self-loading trailer [By-product classification: allocatable product] (#)\n",
      " Input:     [0.0001 [kg]] potassium fertiliser, as K2O [By-product classification: allocatable product] (#)\n",
      " Input:     [0.0052 [kg]] lime [By-product classification: allocatable product] (#)\n",
      " Input:     [0.000395 [kg]] nitrogen fertiliser, as N [By-product classification: allocatable product] (#)\n",
      " Input:     [7.79e-06 [kg]] [sulfonyl]urea-compound [By-product classification: allocatable product] (#)\n",
      " Input:     [0.000692 [kg]] phosphate fertiliser, as P2O5 [By-product classification: allocatable product] (#)\n",
      " Input:     [0.000186 [kg]] phosphate fertiliser, as P2O5 [By-product classification: allocatable product] (#)\n",
      " Input:     [5.22e-05 [kg]] phosphate fertiliser, as P2O5 [By-product classification: allocatable product] (#)\n",
      " Input:     [2.63e-06 [ha]] application of plant protection product, by field sprayer [By-product classification: allocatable product] (#)\n",
      " Input:     [0.0426 [m3]] irrigation [By-product classification: allocatable product] (#)\n",
      " Input:     [3.05e-07 [ha]] tillage, ploughing [By-product classification: allocatable product] (#)\n",
      " Input:     [0.44 [kg]] Carbon dioxide, in air (CAS 000124-38-9) [natural resource, in air]\n",
      "Output:     [0.00485 [m3]] Water (CAS 007732-18-5) [water, surface water]\n",
      "Output: {*} [1 [kg]] sugarcane [By-product classification: allocatable product]\n",
      "Output:     [7.79e-06 [kg]] Linuron (CAS 000330-55-2) [soil, agricultural]\n",
      "Output:     [0.0194 [m3]] Water (CAS 007732-18-5) [water, ground-]\n",
      "Output:     [9.35e-06 [kg]] Atrazine (CAS 001912-24-9) [soil, agricultural]\n",
      "Output:     [1.06e-06 [kg]] Phosphorus (CAS 007723-14-0) [water, ground-]\n",
      "Output:     [0.0184 [m3]] Water (CAS 007732-18-5) [air, unspecified]\n",
      "Output:     [1.3e-07 [kg]] Copper (CAS 007440-50-8) [soil, agricultural]\n",
      "Output:     [3.01e-06 [kg]] Phosphorus (CAS 007723-14-0) [water, surface water]\n",
      "Output:     [0.00175 [kg]] Nitrate (CAS 014797-55-8) [water, ground-]\n",
      "Output:     [1.05e-07 [kg]] Nickel (CAS 007440-02-0) [soil, agricultural]\n",
      "Output:     [0.000249 [kg]] Ammonia (CAS 007664-41-7) [air, non-urban air or from high stacks]\n",
      "Output:     [2.1e-07 [kg]] Chromium (CAS 007440-47-3) [soil, agricultural]\n",
      "Output:     [2.16e-06 [kg]] Zinc (CAS 007440-66-6) [soil, agricultural]\n",
      "Output:     [2.54e-06 [kg]] Arsenic (CAS 007440-38-2) [soil, agricultural]\n",
      "Output:     [0.03 [kg]] Carbon monoxide, non-fossil (CAS 000630-08-0) [air, urban air close to ground]\n",
      "Output:     [2.81e-08 [kg]] Cadmium (CAS 007440-43-9) [soil, agricultural]\n",
      "Output:     [3.56e-05 [kg]] Aldrin (CAS 000309-00-2) [soil, agricultural]\n",
      "Output:     [4.42e-06 [kg]] Nitrogen oxides (CAS 011104-93-1) [air, non-urban air or from high stacks]\n",
      "Output:     [3.32e-06 [kg]] Glyphosate (CAS 001071-83-6) [soil, agricultural]\n",
      "Output:     [2.15e-07 [kg]] Lead (CAS 007439-92-1) [soil, agricultural]\n",
      "Output:     [2.11e-05 [kg]] Dinitrogen monoxide (CAS 010024-97-2) [air, non-urban air or from high stacks]\n",
      "Output:     [2.31e-06 [kg]] 2,4-D (CAS 000094-75-7) [soil, agricultural]\n",
      "Output:     [0.000286 [kg]] Methane, non-fossil (CAS 000074-82-8) [air, urban air close to ground]\n",
      "Output:     [0.003 [kg]] Particulates, > 10 um [air, urban air close to ground]\n"
     ]
    }
   ],
   "source": [
    "p.inventory()"
   ]
  },
  {
   "cell_type": "code",
   "execution_count": 50,
   "metadata": {
    "collapsed": false
   },
   "outputs": [],
   "source": [
    "x = next(p.exchanges())"
   ]
  },
  {
   "cell_type": "code",
   "execution_count": 51,
   "metadata": {
    "collapsed": false
   },
   "outputs": [
    {
     "data": {
      "text/plain": [
       "' Input:     [0.000332 [m3]] liquid manure spreading, by vacuum tanker [By-product classification: allocatable product] (#)'"
      ]
     },
     "execution_count": 51,
     "metadata": {},
     "output_type": "execute_result"
    }
   ],
   "source": [
    "str(x)"
   ]
  },
  {
   "cell_type": "code",
   "execution_count": 53,
   "metadata": {
    "collapsed": false
   },
   "outputs": [
    {
     "data": {
      "text/plain": [
       "{'_ref_flow': 'a2193d6a-1c79-42de-aa16-355543601b4e',\n",
       " '_value': 0.00033183,\n",
       " '_value_dict': {'e31efe33-e07e-4f56-ab66-08b13bd19d37': 0.00033183},\n",
       " 'direction': 'Input',\n",
       " 'flow': <lcatools.entities.LcFlow at 0x7fab0f16bac8>,\n",
       " 'process': <lcatools.entities.LcProcess at 0x7fab0f172208>,\n",
       " 'termination': '58fa618f-073d-4436-bccb-eda7745385ec',\n",
       " 'unit': <lcatools.entities.LcUnit at 0x7fab0f172ba8>}"
      ]
     },
     "execution_count": 53,
     "metadata": {},
     "output_type": "execute_result"
    }
   ],
   "source": [
    "x.__dict__"
   ]
  },
  {
   "cell_type": "code",
   "execution_count": 54,
   "metadata": {
    "collapsed": false
   },
   "outputs": [
    {
     "data": {
      "text/plain": [
       "'58fa618f-073d-4436-bccb-eda7745385ec'"
      ]
     },
     "execution_count": 54,
     "metadata": {},
     "output_type": "execute_result"
    }
   ],
   "source": [
    "x.termination"
   ]
  },
  {
   "cell_type": "code",
   "execution_count": 56,
   "metadata": {
    "collapsed": false
   },
   "outputs": [],
   "source": [
    "lms = F[4].fg_lookup(x.termination + '_' + x.flow.get_uuid() + '.spold')"
   ]
  },
  {
   "cell_type": "code",
   "execution_count": 60,
   "metadata": {
    "collapsed": false
   },
   "outputs": [
    {
     "data": {
      "text/plain": [
       "'sugarcane production [BR]'"
      ]
     },
     "execution_count": 60,
     "metadata": {},
     "output_type": "execute_result"
    }
   ],
   "source": [
    "str(p)"
   ]
  },
  {
   "cell_type": "code",
   "execution_count": 61,
   "metadata": {
    "collapsed": false
   },
   "outputs": [
    {
     "name": "stdout",
     "output_type": "stream",
     "text": [
      "[0.995 liquid manure spreading, by vacuum tanker [RoW]\n",
      "[0.000927 liquid manure spreading, by vacuum tanker [CA-QC]\n",
      "[0.00379 liquid manure spreading, by vacuum tanker [CH]\n"
     ]
    }
   ],
   "source": [
    "for x in lms.exchanges():\n",
    "    if x.direction == 'Input':\n",
    "        print('[%.3g %s' % (x.value, F[4].fg_lookup(x.termination + '_' + x.flow.get_uuid() + '.spold')))"
   ]
  },
  {
   "cell_type": "code",
   "execution_count": 63,
   "metadata": {
    "collapsed": false
   },
   "outputs": [
    {
     "data": {
      "text/plain": [
       "'EcoinventSpreadsheet with 20792 entities at /home/b/Dropbox/data/Ecoinvent/3.2/activity_overview_for_users_3.2_undefined.xlsx'"
      ]
     },
     "execution_count": 63,
     "metadata": {},
     "output_type": "execute_result"
    }
   ],
   "source": [
    "str(F[1])"
   ]
  },
  {
   "cell_type": "code",
   "execution_count": 14,
   "metadata": {
    "collapsed": false
   },
   "outputs": [
    {
     "name": "stdout",
     "output_type": "stream",
     "text": [
      "[ 0] (EI_C) {q} LC quantity: CML 2001 w/o LT, acidification potential w/o LT, generic w/o LT \n",
      "[ 1] (EI_C) {q} LC quantity: CML 2001, acidification potential, average European \n",
      "[ 2] (EI_C) {q} LC quantity: CML 2001 w/o LT, acidification potential w/o LT, average European w/o LT \n",
      "[ 3] (EI_C) {q} LC quantity: CML 2001, acidification potential, generic \n",
      "[ 4] (EI_C) {q} LC quantity: CML 2001 w/o LT, acidification potential w/o LT, generic w/o LT \n",
      "[ 5] (EI_C) {q} LC quantity: CML 2001, acidification potential, average European \n",
      "[ 6] (EI_C) {q} LC quantity: CML 2001 w/o LT, acidification potential w/o LT, average European w/o LT \n",
      "[ 7] (EI_C) {q} LC quantity: CML 2001, acidification potential, generic \n"
     ]
    }
   ],
   "source": [
    "qs = F.search(4, 'quantity', Method='CML', Category='acid', show=True)"
   ]
  },
  {
   "cell_type": "code",
   "execution_count": 15,
   "metadata": {
    "collapsed": false
   },
   "outputs": [
    {
     "name": "stdout",
     "output_type": "stream",
     "text": [
      "Adding quantity entity with 6b3cf02e-2506-30c7-980a-d4bc8ec06997: CML 2001 w/o LT, acidification potential w/o LT, generic w/o LT\n",
      "Adding quantity entity with 171fde90-1f5e-303e-a6cf-af70498f460c: CML 2001, acidification potential, average European\n",
      "Adding quantity entity with 6a204b8a-4f32-360f-a74b-0d4c7c3ea708: CML 2001 w/o LT, acidification potential w/o LT, average European w/o LT\n",
      "Adding quantity entity with 5e704f9c-215f-3360-a3c2-5ffdb5d45097: CML 2001, acidification potential, generic\n",
      "Duplicate entry- specify merge to append\n"
     ]
    },
    {
     "ename": "DuplicateEntityError",
     "evalue": "6b3cf02e-2506-30c7-980a-d4bc8ec06997",
     "output_type": "error",
     "traceback": [
      "\u001b[1;31m---------------------------------------------------------------------------\u001b[0m",
      "\u001b[1;31mDuplicateEntityError\u001b[0m                      Traceback (most recent call last)",
      "\u001b[1;32m<ipython-input-15-5e30907009cd>\u001b[0m in \u001b[0;36m<module>\u001b[1;34m()\u001b[0m\n\u001b[0;32m      1\u001b[0m \u001b[1;32mfor\u001b[0m \u001b[0mq\u001b[0m \u001b[1;32min\u001b[0m \u001b[0mqs\u001b[0m\u001b[1;33m:\u001b[0m\u001b[1;33m\u001b[0m\u001b[0m\n\u001b[1;32m----> 2\u001b[1;33m     \u001b[0mF\u001b[0m\u001b[1;33m.\u001b[0m\u001b[0mforeground_quantity\u001b[0m\u001b[1;33m(\u001b[0m\u001b[0mq\u001b[0m\u001b[1;33m)\u001b[0m\u001b[1;33m\u001b[0m\u001b[0m\n\u001b[0m",
      "\u001b[1;32m/data/GitHub/lca-tools/lcatools/foreground/manager.py\u001b[0m in \u001b[0;36mforeground_quantity\u001b[1;34m(self, cat_ref)\u001b[0m\n\u001b[0;32m    161\u001b[0m         \u001b[1;32mif\u001b[0m \u001b[0mcat_ref\u001b[0m\u001b[1;33m.\u001b[0m\u001b[0mentity_type\u001b[0m \u001b[1;33m==\u001b[0m \u001b[1;34m'quantity'\u001b[0m\u001b[1;33m:\u001b[0m\u001b[1;33m\u001b[0m\u001b[0m\n\u001b[0;32m    162\u001b[0m             \u001b[0mnew_ref\u001b[0m \u001b[1;33m=\u001b[0m \u001b[0mself\u001b[0m\u001b[1;33m.\u001b[0m\u001b[0m_add_entity\u001b[0m\u001b[1;33m(\u001b[0m\u001b[1;36m0\u001b[0m\u001b[1;33m,\u001b[0m \u001b[0mcat_ref\u001b[0m\u001b[1;33m.\u001b[0m\u001b[0mentity\u001b[0m\u001b[1;33m(\u001b[0m\u001b[1;33m)\u001b[0m\u001b[1;33m)\u001b[0m\u001b[1;33m\u001b[0m\u001b[0m\n\u001b[1;32m--> 163\u001b[1;33m             \u001b[0mself\u001b[0m\u001b[1;33m.\u001b[0m\u001b[0m_flowdb\u001b[0m\u001b[1;33m.\u001b[0m\u001b[0madd_quantity\u001b[0m\u001b[1;33m(\u001b[0m\u001b[0mcat_ref\u001b[0m\u001b[1;33m)\u001b[0m\u001b[1;33m\u001b[0m\u001b[0m\n\u001b[0m\u001b[0;32m    164\u001b[0m             \u001b[0mself\u001b[0m\u001b[1;33m.\u001b[0m\u001b[0m_flowdb\u001b[0m\u001b[1;33m.\u001b[0m\u001b[0madd_ref\u001b[0m\u001b[1;33m(\u001b[0m\u001b[0mcat_ref\u001b[0m\u001b[1;33m,\u001b[0m \u001b[0mnew_ref\u001b[0m\u001b[1;33m)\u001b[0m\u001b[1;33m\u001b[0m\u001b[0m\n",
      "\u001b[1;32m/data/GitHub/lca-tools/lcatools/foreground/flow_database.py\u001b[0m in \u001b[0;36madd_quantity\u001b[1;34m(self, cat_ref)\u001b[0m\n\u001b[0;32m     98\u001b[0m \u001b[1;33m\u001b[0m\u001b[0m\n\u001b[0;32m     99\u001b[0m     \u001b[1;32mdef\u001b[0m \u001b[0madd_quantity\u001b[0m\u001b[1;33m(\u001b[0m\u001b[0mself\u001b[0m\u001b[1;33m,\u001b[0m \u001b[0mcat_ref\u001b[0m\u001b[1;33m)\u001b[0m\u001b[1;33m:\u001b[0m\u001b[1;33m\u001b[0m\u001b[0m\n\u001b[1;32m--> 100\u001b[1;33m         \u001b[0mself\u001b[0m\u001b[1;33m.\u001b[0m\u001b[0m_quantities\u001b[0m\u001b[1;33m.\u001b[0m\u001b[0madd\u001b[0m\u001b[1;33m(\u001b[0m\u001b[0mLogicalQuantity\u001b[0m\u001b[1;33m.\u001b[0m\u001b[0mcreate\u001b[0m\u001b[1;33m(\u001b[0m\u001b[0mcat_ref\u001b[0m\u001b[1;33m)\u001b[0m\u001b[1;33m)\u001b[0m\u001b[1;33m\u001b[0m\u001b[0m\n\u001b[0m\u001b[0;32m    101\u001b[0m \u001b[1;33m\u001b[0m\u001b[0m\n\u001b[0;32m    102\u001b[0m     \u001b[1;32mdef\u001b[0m \u001b[0madd_exchange\u001b[0m\u001b[1;33m(\u001b[0m\u001b[0mself\u001b[0m\u001b[1;33m,\u001b[0m \u001b[0mflow_ref\u001b[0m\u001b[1;33m,\u001b[0m \u001b[0mexchange\u001b[0m\u001b[1;33m)\u001b[0m\u001b[1;33m:\u001b[0m\u001b[1;33m\u001b[0m\u001b[0m\n",
      "\u001b[1;32m/data/GitHub/lca-tools/lcatools/logical_flows.py\u001b[0m in \u001b[0;36madd\u001b[1;34m(self, item)\u001b[0m\n\u001b[0;32m     57\u001b[0m             \u001b[1;32mif\u001b[0m \u001b[0mn\u001b[0m \u001b[1;32min\u001b[0m \u001b[0mself\u001b[0m\u001b[1;33m.\u001b[0m\u001b[0m_mapping\u001b[0m\u001b[1;33m:\u001b[0m\u001b[1;33m\u001b[0m\u001b[0m\n\u001b[0;32m     58\u001b[0m                 \u001b[0mprint\u001b[0m\u001b[1;33m(\u001b[0m\u001b[1;34m'Duplicate entry- specify merge to append'\u001b[0m\u001b[1;33m)\u001b[0m\u001b[1;33m\u001b[0m\u001b[0m\n\u001b[1;32m---> 59\u001b[1;33m                 \u001b[1;32mraise\u001b[0m \u001b[0mDuplicateEntityError\u001b[0m\u001b[1;33m(\u001b[0m\u001b[1;34m'%s'\u001b[0m \u001b[1;33m%\u001b[0m \u001b[0mn\u001b[0m\u001b[1;33m)\u001b[0m\u001b[1;33m\u001b[0m\u001b[0m\n\u001b[0m\u001b[0;32m     60\u001b[0m         \u001b[1;32mif\u001b[0m \u001b[0mitem\u001b[0m \u001b[1;32min\u001b[0m \u001b[0mself\u001b[0m\u001b[1;33m.\u001b[0m\u001b[0m_set\u001b[0m\u001b[1;33m:\u001b[0m\u001b[1;33m\u001b[0m\u001b[0m\n\u001b[0;32m     61\u001b[0m             \u001b[1;32mraise\u001b[0m \u001b[0mDuplicateEntityError\u001b[0m\u001b[1;33m(\u001b[0m\u001b[1;34m'itself??? %s'\u001b[0m \u001b[1;33m%\u001b[0m \u001b[0mitem\u001b[0m\u001b[1;33m)\u001b[0m\u001b[1;33m\u001b[0m\u001b[0m\n",
      "\u001b[1;31mDuplicateEntityError\u001b[0m: 6b3cf02e-2506-30c7-980a-d4bc8ec06997"
     ]
    }
   ],
   "source": [
    "for q in qs:\n",
    "    F.foreground_quantity(q)"
   ]
  },
  {
   "cell_type": "code",
   "execution_count": 31,
   "metadata": {
    "collapsed": false
   },
   "outputs": [
    {
     "data": {
      "text/plain": [
       "[<lcatools.entities.LcQuantity at 0x7fab164c5208>,\n",
       " <lcatools.entities.LcQuantity at 0x7fab164c5208>,\n",
       " <lcatools.entities.LcQuantity at 0x7fab16521828>,\n",
       " <lcatools.entities.LcQuantity at 0x7fab16521828>,\n",
       " <lcatools.entities.LcQuantity at 0x7fab164c5048>,\n",
       " <lcatools.entities.LcQuantity at 0x7fab164c5048>,\n",
       " <lcatools.entities.LcQuantity at 0x7fab164bdf28>,\n",
       " <lcatools.entities.LcQuantity at 0x7fab164bdf28>]"
      ]
     },
     "execution_count": 31,
     "metadata": {},
     "output_type": "execute_result"
    }
   ],
   "source": [
    "[x.entity() for q in F._flowdb.lcia_methods() for x in q]"
   ]
  },
  {
   "cell_type": "code",
   "execution_count": 36,
   "metadata": {
    "collapsed": false
   },
   "outputs": [],
   "source": [
    "l = F[4].bg.retrieve_lcia_scores(spold, quantities=[x.entity() for q in F._flowdb.lcia_methods() for x in q][0::2])"
   ]
  },
  {
   "cell_type": "code",
   "execution_count": 37,
   "metadata": {
    "collapsed": false
   },
   "outputs": [
    {
     "data": {
      "text/plain": [
       "['sugarcane [By-product classification: allocatable product]: [0.000596 [kg SO2-Eq]] LC quantity: CML 2001 w/o LT, acidification potential w/o LT, generic w/o LT',\n",
       " 'sugarcane [By-product classification: allocatable product]: [1 [kg]] LC quantity: EcoSpold Quantity kg',\n",
       " 'sugarcane [By-product classification: allocatable product]: [0.000523 [kg SO2-Eq]] LC quantity: CML 2001, acidification potential, average European',\n",
       " 'sugarcane [By-product classification: allocatable product]: [0.000596 [kg SO2-Eq]] LC quantity: CML 2001, acidification potential, generic',\n",
       " 'sugarcane [By-product classification: allocatable product]: [0.000523 [kg SO2-Eq]] LC quantity: CML 2001 w/o LT, acidification potential w/o LT, average European w/o LT']"
      ]
     },
     "execution_count": 37,
     "metadata": {},
     "output_type": "execute_result"
    }
   ],
   "source": [
    "[str(x) for x in l.characterizations()]"
   ]
  },
  {
   "cell_type": "code",
   "execution_count": 25,
   "metadata": {
    "collapsed": false
   },
   "outputs": [
    {
     "name": "stdout",
     "output_type": "stream",
     "text": [
      "/home/b/Dropbox/data/Ecoinvent/3.2/activity_overview_for_users_3.2_undefined.xlsx\n",
      "/home/b/Dropbox/data/Ecoinvent/3.2/activity_overview_for_users_3.2_undefined.xlsx\n",
      "/home/b/Dropbox/data/Ecoinvent/3.2/activity_overview_for_users_3.2_undefined.xlsx\n",
      "/home/b/Dropbox/data/Ecoinvent/3.2/activity_overview_for_users_3.2_cut-off.xlsx\n",
      "/home/b/Dropbox/data/Ecoinvent/3.2/activity_overview_for_users_3.2_cut-off.xlsx\n",
      "/home/b/Dropbox/data/Ecoinvent/3.2/activity_overview_for_users_3.2_undefined.xlsx\n",
      "/home/b/Dropbox/data/Ecoinvent/3.2/activity_overview_for_users_3.2_undefined.xlsx\n",
      "/home/b/Dropbox/data/Ecoinvent/3.2/activity_overview_for_users_3.2_cut-off.xlsx\n",
      "/home/b/Dropbox/data/Ecoinvent/3.2/activity_overview_for_users_3.2_cut-off.xlsx\n",
      "/home/b/Dropbox/data/Ecoinvent/3.2/activity_overview_for_users_3.2_cut-off.xlsx\n",
      "/home/b/Dropbox/data/Ecoinvent/3.2/activity_overview_for_users_3.2_undefined.xlsx\n",
      "/home/b/Dropbox/data/Ecoinvent/3.2/activity_overview_for_users_3.2_undefined.xlsx\n",
      "/home/b/Dropbox/data/Ecoinvent/3.2/activity_overview_for_users_3.2_undefined.xlsx\n",
      "/home/b/Dropbox/data/Ecoinvent/3.2/activity_overview_for_users_3.2_undefined.xlsx\n",
      "/home/b/Dropbox/data/Ecoinvent/3.2/activity_overview_for_users_3.2_undefined.xlsx\n"
     ]
    }
   ],
   "source": [
    "for r in res:\n",
    "    print('%s' % r.entity().origin)"
   ]
  },
  {
   "cell_type": "code",
   "execution_count": 18,
   "metadata": {
    "collapsed": false
   },
   "outputs": [
    {
     "data": {
      "text/plain": [
       "[]"
      ]
     },
     "execution_count": 18,
     "metadata": {},
     "output_type": "execute_result"
    }
   ],
   "source": [
    "F[res[445].index].fg_lookup(res[445].entity())"
   ]
  },
  {
   "cell_type": "code",
   "execution_count": 9,
   "metadata": {
    "collapsed": false
   },
   "outputs": [
    {
     "data": {
      "text/plain": [
       "{'_characterizations': {'a6f890e7-2633-39da-8e99-e39791096af6': <lcatools.characterizations.Characterization at 0x7fbf8d3ee550>},\n",
       " '_d': {'CasNumber': '',\n",
       "  'Comment': '',\n",
       "  'Compartment': ['Intermediate flow'],\n",
       "  'Name': 'sugar, from sugar beet',\n",
       "  'Synonyms': ''},\n",
       " '_external_ref': 'sugar, from sugar beet',\n",
       " '_origin': '/home/b/Dropbox/data/Ecoinvent/3.2/activity_overview_for_users_3.2_undefined.xlsx',\n",
       " '_ref_quantity_factor': 1.0,\n",
       " '_uuid': UUID('6d1aa2be-376e-35e3-b418-d5fdb267e5b4'),\n",
       " 'entity_type': 'flow',\n",
       " 'reference_entity': <lcatools.entities.LcQuantity at 0x7fbf8d5afb00>}"
      ]
     },
     "execution_count": 9,
     "metadata": {},
     "output_type": "execute_result"
    }
   ],
   "source": [
    "flow.entity().__dict__"
   ]
  },
  {
   "cell_type": "code",
   "execution_count": 11,
   "metadata": {
    "collapsed": false
   },
   "outputs": [
    {
     "name": "stdout",
     "output_type": "stream",
     "text": [
      "[ 0] beet sugar production [CH] \n",
      "[ 1] market for sugar, from sugar beet [GLO] \n",
      "[ 2] beet sugar production [GLO] \n"
     ]
    }
   ],
   "source": [
    "proc = F.terminate(1, flow, show=True)"
   ]
  },
  {
   "cell_type": "code",
   "execution_count": 14,
   "metadata": {
    "collapsed": false
   },
   "outputs": [
    {
     "data": {
      "text/plain": [
       "{'_counter': defaultdict(int, {'flow': 0, 'process': 0, 'quantity': 0}),\n",
       " '_entities': {UUID('88f99b72-03aa-4ed5-a3b7-33791ef70932'): <lcatools.entities.LcFlow at 0x7fbf8d359ba8>,\n",
       "  UUID('69dfa439-8e4e-4cae-bb0c-85a8aa8b9a73'): <lcatools.entities.LcFlow at 0x7fbf8d3e07b8>,\n",
       "  UUID('7f0873fe-731e-4b99-a384-17f0ad36a318'): <lcatools.entities.LcFlow at 0x7fbf8d3b3860>,\n",
       "  UUID('ca68ff46-5aa8-426e-a5f9-93933263af14'): <lcatools.entities.LcProcess at 0x7fbf8c801fd0>,\n",
       "  UUID('b34005eb-7d8a-4cca-b3dd-2a84ce631984'): <lcatools.entities.LcProcess at 0x7fbf8c8e8208>,\n",
       "  UUID('c0515c1f-66f5-46ee-910a-e0fdf349fbbd'): <lcatools.entities.LcProcess at 0x7fbf8c808978>,\n",
       "  UUID('cbba3081-a52a-4ace-80b5-ea83bbe8a963'): <lcatools.entities.LcProcess at 0x7fbf8c7976d8>,\n",
       "  UUID('ff6dccc1-5ebd-42c3-9fd9-3d73db7a3dd2'): <lcatools.entities.LcFlow at 0x7fbf8d1a5400>,\n",
       "  UUID('1b9918fc-e993-3a59-9010-e650efdf2d39'): <lcatools.entities.LcFlow at 0x7fbf8d53c7b8>,\n",
       "  UUID('ab0e6c29-9543-4ea0-99b9-d7c05f204ad3'): <lcatools.entities.LcProcess at 0x7fbf8c90a438>,\n",
       "  UUID('3368cd48-8b17-31f2-b4da-0c586bd8706c'): <lcatools.entities.LcFlow at 0x7fbf8d1d1c88>,\n",
       "  UUID('92d6a83c-36dd-33eb-a3cf-13d4ae30608e'): <lcatools.entities.LcFlow at 0x7fbf8d489cf8>,\n",
       "  UUID('e6da2baa-e41c-4a8c-a824-3039c6512b73'): <lcatools.entities.LcProcess at 0x7fbf8bc1db38>,\n",
       "  UUID('ac3a8914-35f0-4c34-a956-f26b3a053e4a'): <lcatools.entities.LcFlow at 0x7fbf8d2e26a0>,\n",
       "  UUID('1c3ab340-5663-477b-a0c9-c5b30255441f'): <lcatools.entities.LcProcess at 0x7fbf8d007c18>,\n",
       "  UUID('79c5ca0a-62c5-4f17-bd8f-16fab14b5aec'): <lcatools.entities.LcProcess at 0x7fbf8cba74a8>,\n",
       "  UUID('5db1c5b7-bfa1-42cc-8bf6-38aa790cd433'): <lcatools.entities.LcProcess at 0x7fbf8cd33fd0>,\n",
       "  UUID('e65fdb4f-e25d-3891-8fa0-5849a0b4bb50'): <lcatools.entities.LcFlow at 0x7fbf8d23f0b8>,\n",
       "  UUID('5e9117a2-7f17-4360-9ad1-1d534287e4fe'): <lcatools.entities.LcProcess at 0x7fbf8cd40ba8>,\n",
       "  UUID('486ff2da-9111-33fe-9419-20d193b8caa9'): <lcatools.entities.LcFlow at 0x7fbf8d463908>,\n",
       "  UUID('a9cd9473-e359-4459-97a4-01d7e5255d25'): <lcatools.entities.LcProcess at 0x7fbf8c97a7b8>,\n",
       "  UUID('4877145d-5039-48be-b661-10ea1c124f53'): <lcatools.entities.LcProcess at 0x7fbf8ce2cac8>,\n",
       "  UUID('0ba85a68-c65a-40e3-b8b8-927bd90078fe'): <lcatools.entities.LcProcess at 0x7fbf8d13a908>,\n",
       "  UUID('b7fe4b40-c6e5-4c85-8097-918d8e3074aa'): <lcatools.entities.LcProcess at 0x7fbf8c89fb38>,\n",
       "  UUID('4bb3d35f-0b50-4477-a93f-7d547ad706e0'): <lcatools.entities.LcProcess at 0x7fbf8cdd62e8>,\n",
       "  UUID('b572fc9a-950a-42e2-959a-7bd0c40f7e19'): <lcatools.entities.LcProcess at 0x7fbf8c9015f8>,\n",
       "  UUID('3f4682b4-ae9e-3592-b611-6dff2bb1537f'): <lcatools.entities.LcQuantity at 0x7fbf8bc7bcc0>,\n",
       "  UUID('f785c61f-eb4e-3b6c-b586-8d5d4b9e2482'): <lcatools.entities.LcFlow at 0x7fbf8d206400>,\n",
       "  UUID('16cca969-b7e5-4245-b446-7aa44cffd87e'): <lcatools.entities.LcProcess at 0x7fbf8d0c05f8>,\n",
       "  UUID('6ca37eed-24a1-354b-a860-52f4266dd5b1'): <lcatools.entities.LcFlow at 0x7fbf8d41bb00>,\n",
       "  UUID('f3bc9304-bb01-4581-9a3b-5d8a0ff6b15b'): <lcatools.entities.LcProcess at 0x7fbf8bb41438>,\n",
       "  UUID('957ca467-94cb-3616-a8d1-7adb1d814f53'): <lcatools.entities.LcFlow at 0x7fbf8d307e10>,\n",
       "  UUID('3cc2c598-9543-3aaa-9701-2dc3fe372acb'): <lcatools.entities.LcFlow at 0x7fbf8d4b5c50>,\n",
       "  UUID('da1ac90d-8d1b-3dde-9b46-79bfec331104'): <lcatools.entities.LcQuantity at 0x7fbf8d5c4f60>,\n",
       "  UUID('fe9552bd-49c9-4e37-8c13-eeee4ddb8e34'): <lcatools.entities.LcFlow at 0x7fbf8d19efd0>,\n",
       "  UUID('4f1b95d1-9fd2-49f1-af8b-fbcac54d3090'): <lcatools.entities.LcProcess at 0x7fbf8ce00128>,\n",
       "  UUID('bebcfff9-6c89-3de7-a87c-de25a04e90c6'): <lcatools.entities.LcFlow at 0x7fbf8d2a05f8>,\n",
       "  UUID('e1193575-6f8d-4a9f-9be9-64d4440e8ed4'): <lcatools.entities.LcProcess at 0x7fbf8c6a14a8>,\n",
       "  UUID('a2b35899-1d2f-3fb8-a31b-3b6c68d7d771'): <lcatools.entities.LcFlow at 0x7fbf8d33bb38>,\n",
       "  UUID('a78647e0-779f-4b60-ac4a-9d32bc85a507'): <lcatools.entities.LcProcess at 0x7fbf8c95d6d8>,\n",
       "  UUID('84f56798-8c2e-4149-ab90-fb20aa6775c9'): <lcatools.entities.LcProcess at 0x7fbf8cb38128>,\n",
       "  UUID('6ed9fece-10ef-428e-b41c-63dfe88c6ba7'): <lcatools.entities.LcProcess at 0x7fbf8cc1a908>,\n",
       "  UUID('4da5a34e-00cf-3cb8-8ef1-ff5ee17b9a62'): <lcatools.entities.LcFlow at 0x7fbf8d478320>,\n",
       "  UUID('2b39cf70-3e31-3899-87e7-c27c43c95088'): <lcatools.entities.LcQuantity at 0x7fbf8bc69e10>,\n",
       "  UUID('47bcf81a-5160-3f9a-81e4-3d066bff0357'): <lcatools.entities.LcFlow at 0x7fbf8d45fcf8>,\n",
       "  UUID('c90fff61-d259-4749-b505-3ac7b5f0f578'): <lcatools.entities.LcProcess at 0x7fbf8c7f4358>,\n",
       "  UUID('ede904c0-aced-410c-a2c3-132493006d95'): <lcatools.entities.LcProcess at 0x7fbf8bbf9c18>,\n",
       "  UUID('ba6bf0a3-b57a-3bd6-9514-bddc9c96a15d'): <lcatools.entities.LcFlow at 0x7fbf8d292e80>,\n",
       "  UUID('cd040111-fc5b-3650-b984-e0bcaf7bcd88'): <lcatools.entities.LcFlow at 0x7fbf8d304b38>,\n",
       "  UUID('5ecbb739-0b54-4349-86c5-65adacc765a8'): <lcatools.entities.LcProcess at 0x7fbf8cd44978>,\n",
       "  UUID('72958cbe-6609-46c2-bbfa-ee4ab826ca12'): <lcatools.entities.LcFlow at 0x7fbf8d403da0>,\n",
       "  UUID('f6199473-92b0-4eea-bc73-e40ab9137323'): <lcatools.entities.LcProcess at 0x7fbf8bb5f128>,\n",
       "  UUID('20821bac-745a-4071-a7c7-e9791e0b7cb2'): <lcatools.entities.LcProcess at 0x7fbf8d03d5f8>,\n",
       "  UUID('9c4899f6-10df-4c3e-bd14-a4502d871e2c'): <lcatools.entities.LcProcess at 0x7fbf8c9d0588>,\n",
       "  UUID('5f2bb491-e22d-44f4-a020-95a1f9cc568b'): <lcatools.entities.LcProcess at 0x7fbf8ccc96d8>,\n",
       "  UUID('3f70c8da-ae46-4db7-a514-54131211927f'): <lcatools.entities.LcProcess at 0x7fbf8ceb8668>,\n",
       "  UUID('9f1f46bb-5629-4fd5-bed0-06f58800017a'): <lcatools.entities.LcFlow at 0x7fbf8d331358>,\n",
       "  UUID('591b0a62-8064-4697-86ed-47bfa1f8b5e6'): <lcatools.entities.LcFlow at 0x7fbf8d4219b0>,\n",
       "  UUID('76ec72be-8436-4587-abb4-54b063afacc3'): <lcatools.entities.LcProcess at 0x7fbf8cc04588>,\n",
       "  UUID('b054beb4-e583-4bdc-bb16-c7ebb2197652'): <lcatools.entities.LcProcess at 0x7fbf8c941dd8>,\n",
       "  UUID('63ca27ee-4eba-388d-8441-eeea8c543bd1'): <lcatools.entities.LcFlow at 0x7fbf8d34fcf8>,\n",
       "  UUID('090e9aa9-a9a9-4878-9634-3ad0ba7fbc91'): <lcatools.entities.LcFlow at 0x7fbf8d573518>,\n",
       "  UUID('8533a024-e19e-3049-a9b7-0a4dd65e7dea'): <lcatools.entities.LcQuantity at 0x7fbf8d54e080>,\n",
       "  UUID('1f9c9ad4-4b48-401a-a305-4edfa3f57f7e'): <lcatools.entities.LcProcess at 0x7fbf8d035198>,\n",
       "  UUID('4402f445-984c-4728-be22-6f9aea1146b9'): <lcatools.entities.LcFlow at 0x7fbf8d452a58>,\n",
       "  UUID('5df5cb9f-812c-4ce8-ab1c-df6ab4d31900'): <lcatools.entities.LcFlow at 0x7fbf8d433908>,\n",
       "  UUID('47a858fb-1600-4e9b-a280-ddaff5a10b6f'): <lcatools.entities.LcProcess at 0x7fbf8ce23128>,\n",
       "  UUID('dfbd1f40-2b73-3891-bd1b-7fce91b33b99'): <lcatools.entities.LcFlow at 0x7fbf8d4a8710>,\n",
       "  UUID('707b02e7-f9c9-4bed-bb0d-5598c0daf5dc'): <lcatools.entities.LcProcess at 0x7fbf8cc2fa58>,\n",
       "  UUID('ec106940-125b-4bf9-ba70-ff27a1c32058'): <lcatools.entities.LcProcess at 0x7fbf8bbe0d68>,\n",
       "  UUID('ccb169c3-8aae-4727-89bb-a7dd122946f3'): <lcatools.entities.LcFlow at 0x7fbf8d25efd0>,\n",
       "  UUID('2c56b8aa-2864-4a4a-93dc-48724e66985c'): <lcatools.entities.LcProcess at 0x7fbf8cf47668>,\n",
       "  UUID('ee018b5e-c9c3-486b-aeb4-ef045a4e3ccd'): <lcatools.entities.LcFlow at 0x7fbf8d1df550>,\n",
       "  UUID('1307c8ee-eabc-3688-b885-6388f0ad4c1c'): <lcatools.entities.LcFlow at 0x7fbf8d51a1d0>,\n",
       "  UUID('3d0983dc-2e6e-48a0-ba59-dca2d631bb52'): <lcatools.entities.LcProcess at 0x7fbf8ce9a518>,\n",
       "  UUID('1a2b2b9a-ae3c-4249-b604-b7d9c2ba6e14'): <lcatools.entities.LcProcess at 0x7fbf8d06e6d8>,\n",
       "  UUID('5d5e7f9d-1500-3544-98db-3f31fd0a4080'): <lcatools.entities.LcFlow at 0x7fbf8d520c50>,\n",
       "  UUID('a6ad1e78-3539-4a0f-9346-3d71a6920e33'): <lcatools.entities.LcProcess at 0x7fbf8c950978>,\n",
       "  UUID('c53602af-cd6e-4f15-b20e-4582b2704aad'): <lcatools.entities.LcProcess at 0x7fbf8c8424a8>,\n",
       "  UUID('8517aa86-c377-3ac6-9c32-50283ca12a17'): <lcatools.entities.LcFlow at 0x7fbf8d34b3c8>,\n",
       "  UUID('1603aa09-02f4-45a6-9137-9e4a7e405335'): <lcatools.entities.LcProcess at 0x7fbf8d0b56d8>,\n",
       "  UUID('1eaa6022-3adb-4688-8fa9-7c63c3aecc24'): <lcatools.entities.LcProcess at 0x7fbf8d0285f8>,\n",
       "  UUID('80d695ba-e89d-4665-b9bc-77c56d665da0'): <lcatools.entities.LcProcess at 0x7fbf8cb82898>,\n",
       "  UUID('ac9fab8c-02a7-43d8-b862-215866c8e123'): <lcatools.entities.LcProcess at 0x7fbf8c917ba8>,\n",
       "  UUID('d2d4b344-3c58-4b0c-868a-ac0bdb2027dc'): <lcatools.entities.LcFlow at 0x7fbf8d276be0>,\n",
       "  UUID('e577661d-a85c-4414-8729-289482bfd452'): <lcatools.entities.LcProcess at 0x7fbf8bc0c668>,\n",
       "  UUID('06cb46b9-8e2a-4e6f-b8dc-11631f7f8cf8'): <lcatools.entities.LcProcess at 0x7fbf8d17d0b8>,\n",
       "  UUID('07107db8-d871-3cb2-8f1d-49b89f601ae2'): <lcatools.entities.LcFlow at 0x7fbf8d4c0080>,\n",
       "  UUID('7e095830-33d3-4b01-a022-5b7830f127e8'): <lcatools.entities.LcProcess at 0x7fbf8cb5db38>,\n",
       "  UUID('ff80bf6d-50ef-4a20-873b-f3b6963eaf36'): <lcatools.entities.LcProcess at 0x7fbf8bacf9e8>,\n",
       "  UUID('5a5382da-be52-4a46-9d82-7ab2b2ef1874'): <lcatools.entities.LcProcess at 0x7fbf8cd0aac8>,\n",
       "  UUID('706b8152-a503-3a2e-9a5e-5b86c463aeec'): <lcatools.entities.LcFlow at 0x7fbf8d227a90>,\n",
       "  UUID('eeb86e4b-a642-4936-9bc9-5c2e7ce9b68e'): <lcatools.entities.LcProcess at 0x7fbf8bb85438>,\n",
       "  UUID('f6848008-3846-39de-acba-57b96cf2b14d'): <lcatools.entities.LcFlow at 0x7fbf8d202208>,\n",
       "  UUID('9c835f89-2987-49ae-8f83-39f379c85d25'): <lcatools.entities.LcProcess at 0x7fbf8c9d0f28>,\n",
       "  UUID('c54a513f-3be0-34a9-909b-057f31a45b05'): <lcatools.entities.LcFlow at 0x7fbf8d2e24a8>,\n",
       "  UUID('d734d8e7-bce2-404d-9d82-d060e1583cd3'): <lcatools.entities.LcProcess at 0x7fbf8c728278>,\n",
       "  UUID('efd3798a-ff6b-46ef-b408-0e74d80548cc'): <lcatools.entities.LcFlow at 0x7fbf8d1e5a90>,\n",
       "  UUID('58e3a0bd-976c-3fb1-b6a7-f5cd314402e3'): <lcatools.entities.LcQuantity at 0x7fbf8d590e80>,\n",
       "  UUID('468e41dc-e92e-47bf-9542-a325f7262cb3'): <lcatools.entities.LcProcess at 0x7fbf8ce13e48>,\n",
       "  UUID('2511957f-fe10-419a-bafe-b18ae28073a9'): <lcatools.entities.LcProcess at 0x7fbf8cfefa58>,\n",
       "  UUID('5c079ec7-c3d6-474a-8ab8-dc45e0a6461e'): <lcatools.entities.LcProcess at 0x7fbf8cd1e6d8>,\n",
       "  UUID('24f91159-4131-3a6e-ad2f-0a796bfb2d0c'): <lcatools.entities.LcFlow at 0x7fbf8d4dce48>,\n",
       "  UUID('fe46a69e-9e8f-455d-a912-6b9b3ec5555f'): <lcatools.entities.LcProcess at 0x7fbf8bac0a58>,\n",
       "  UUID('bbb85b3f-28fa-47e1-9469-1ebbc6466d5a'): <lcatools.entities.LcProcess at 0x7fbf8c84d518>,\n",
       "  UUID('bc6b73f1-7bd7-3372-9c99-c3b00ac58f25'): <lcatools.entities.LcQuantity at 0x7fbf8bc74630>,\n",
       "  UUID('72d89233-b2e3-3a00-9635-ef93b496454c'): <lcatools.entities.LcFlow at 0x7fbf8d3871d0>,\n",
       "  UUID('7cb911bb-455e-4756-9664-9522418dc5be'): <lcatools.entities.LcProcess at 0x7fbf8cb4b898>,\n",
       "  UUID('68e7df77-96e9-4759-a2d2-018832292216'): <lcatools.entities.LcProcess at 0x7fbf8ccc3fd0>,\n",
       "  UUID('66b667a9-fb24-4da2-ae69-c437db399365'): <lcatools.entities.LcProcess at 0x7fbf8cca9748>,\n",
       "  UUID('17e73b9e-54e4-4177-9620-2f0fe45ff4d3'): <lcatools.entities.LcProcess at 0x7fbf8d051f98>,\n",
       "  UUID('e65fcaf3-de09-40ba-a7e6-5131f3697a88'): <lcatools.entities.LcProcess at 0x7fbf8bc18208>,\n",
       "  UUID('02dd7309-b7c2-47bb-82c8-09345be9c2bb'): <lcatools.entities.LcFlow at 0x7fbf8d55ae80>,\n",
       "  UUID('3f7ff5f7-b816-42cf-aacc-1318a46c6a0b'): <lcatools.entities.LcProcess at 0x7fbf8ceb8828>,\n",
       "  UUID('3a45de1e-6c20-4223-acbf-83647a945999'): <lcatools.entities.LcProcess at 0x7fbf8cef12e8>,\n",
       "  UUID('4b420f19-0421-461e-a0b6-7efbf580089b'): <lcatools.entities.LcFlow at 0x7fbf8d46e908>,\n",
       "  UUID('b46299d6-1a08-4c79-9c32-407fdb1c3176'): <lcatools.entities.LcProcess at 0x7fbf8c8f43c8>,\n",
       "  UUID('86975171-e957-4be9-98c5-5a9795a4a12e'): <lcatools.entities.LcProcess at 0x7fbf8cacd3c8>,\n",
       "  UUID('01e3955d-09c1-340d-8e33-6e3d06a9e031'): <lcatools.entities.LcFlow at 0x7fbf8d55a198>,\n",
       "  UUID('4b311827-198c-4844-906b-faace0d3be67'): <lcatools.entities.LcProcess at 0x7fbf8cdceba8>,\n",
       "  UUID('b2bfc566-71be-470e-895f-84a8afe9c800'): <lcatools.entities.LcProcess at 0x7fbf8c8dfc88>,\n",
       "  UUID('04101859-07f9-39da-bbbd-04b2a4f631cb'): <lcatools.entities.LcFlow at 0x7fbf8d3c1630>,\n",
       "  UUID('3fc51d40-16d0-31a6-87bf-c4a767c71f60'): <lcatools.entities.LcFlow at 0x7fbf8d4c43c8>,\n",
       "  UUID('0ed74358-da28-448b-be30-40c7bbaf5c43'): <lcatools.entities.LcProcess at 0x7fbf8d0dcba8>,\n",
       "  UUID('667a5472-cbd6-455c-9993-62ef2690bfc8'): <lcatools.entities.LcProcess at 0x7fbf8cca5ac8>,\n",
       "  UUID('79bfbaa0-c761-4de2-b200-c0809a72919f'): <lcatools.entities.LcProcess at 0x7fbf8cba72e8>,\n",
       "  UUID('962ae60c-c387-4c5a-a5ff-69db71839daf'): <lcatools.entities.LcProcess at 0x7fbf8ca84908>,\n",
       "  UUID('552a2818-91df-312a-ad18-437392e37740'): <lcatools.entities.LcQuantity at 0x7fbf8bc63b70>,\n",
       "  UUID('4ff7aaf9-199a-3008-bf85-0ca8a7420053'): <lcatools.entities.LcFlow at 0x7fbf8d47e518>,\n",
       "  UUID('e54bf54f-e9e8-4490-9632-73b441e3cce5'): <lcatools.entities.LcProcess at 0x7fbf8bc08dd8>,\n",
       "  UUID('9cb9957e-ef65-42c3-b98d-abfa11ddea6a'): <lcatools.entities.LcProcess at 0x7fbf8c9d4c88>,\n",
       "  UUID('efa76ad5-ef26-4f06-b4b9-d43b1970883f'): <lcatools.entities.LcProcess at 0x7fbf8bb92278>,\n",
       "  UUID('dccec09d-c12e-482a-9d50-792bf481bf25'): <lcatools.entities.LcProcess at 0x7fbf8c6eb898>,\n",
       "  UUID('eeba8aed-aac9-360b-be1d-087c3a535019'): <lcatools.entities.LcQuantity at 0x7fbf8d5b2a20>,\n",
       "  UUID('98a09ef4-1ffb-4af9-8627-d6b9c17228c1'): <lcatools.entities.LcProcess at 0x7fbf8ca26438>,\n",
       "  UUID('f9d62d71-7dd2-3e0d-bfee-8d5ebe2b1009'): <lcatools.entities.LcQuantity at 0x7fbf8d5bcf60>,\n",
       "  UUID('400b8f47-9b71-3a0d-a7b0-06dd8aadb03b'): <lcatools.entities.LcFlow at 0x7fbf8d2ad5f8>,\n",
       "  UUID('d919e4be-9df6-4c5a-aedc-309b4ebff269'): <lcatools.entities.LcProcess at 0x7fbf8c73d588>,\n",
       "  UUID('68672667-4007-3043-9bad-230dbf46fe84'): <lcatools.entities.LcFlow at 0x7fbf8d274dd8>,\n",
       "  UUID('9e0486e0-8c87-4e1c-b795-1e9446cfcf12'): <lcatools.entities.LcProcess at 0x7fbf8c9e8588>,\n",
       "  UUID('ec76fb5c-b402-416b-825c-53e074fe7525'): <lcatools.entities.LcFlow at 0x7fbf8d1d8400>,\n",
       "  UUID('e5a0b391-816c-479d-95ec-3bb56a4f9bcd'): <lcatools.entities.LcProcess at 0x7fbf8bc102e8>,\n",
       "  UUID('aaa7a82f-7d09-48ed-8f08-8eb3c7eeb928'): <lcatools.entities.LcFlow at 0x7fbf8d2dbbe0>,\n",
       "  UUID('ef793e6d-9496-4528-889f-d80ebf385740'): <lcatools.entities.LcProcess at 0x7fbf8bb8ea58>,\n",
       "  UUID('7d3f7498-3596-478a-9fa1-72201ef94082'): <lcatools.entities.LcFlow at 0x7fbf8d3adb70>,\n",
       "  UUID('7c42f782-0d4f-4236-8284-57d9dd92eeef'): <lcatools.entities.LcProcess at 0x7fbf8cb474a8>,\n",
       "  UUID('f3cae4b9-4ff2-4332-b16f-9f724dbf10f9'): <lcatools.entities.LcProcess at 0x7fbf8bb415f8>,\n",
       "  UUID('958a23bf-9ab5-4c97-aaee-5dc02cda1be3'): <lcatools.entities.LcProcess at 0x7fbf8ca7c358>,\n",
       "  UUID('3996a06d-2cfc-4e86-b6fc-4106da378c82'): <lcatools.entities.LcProcess at 0x7fbf8cee8128>,\n",
       "  UUID('3b6c4fe4-ca28-3d01-8557-5745f5ae18ac'): <lcatools.entities.LcFlow at 0x7fbf8d4b25c0>,\n",
       "  UUID('13d86e4c-c5bf-4f28-a2c5-9847d9df077e'): <lcatools.entities.LcProcess at 0x7fbf8d0973c8>,\n",
       "  UUID('3824b653-d14a-374d-a578-a43528b8464f'): <lcatools.entities.LcFlow at 0x7fbf8d437470>,\n",
       "  UUID('9b18ceaf-c56c-4ac3-806d-1c093def8259'): <lcatools.entities.LcProcess at 0x7fbf8ca3f518>,\n",
       "  UUID('da62ab78-89c1-371f-adb3-8f47edcdf199'): <lcatools.entities.LcFlow at 0x7fbf8d243550>,\n",
       "  UUID('10507b66-45a2-4f20-ae9c-609e8b4d07c8'): <lcatools.entities.LcFlow at 0x7fbf8d50f7b8>,\n",
       "  UUID('a1891db2-db98-45fc-ae0e-b3d3c17850c5'): <lcatools.entities.LcFlow at 0x7fbf8d338be0>,\n",
       "  UUID('fb4d6802-b8bc-387d-8c0d-2dedb5f23ca8'): <lcatools.entities.LcFlow at 0x7fbf8d18ff98>,\n",
       "  UUID('3c2054e2-7607-4c63-8cfe-927ac0791daa'): <lcatools.entities.LcProcess at 0x7fbf8ce8a438>,\n",
       "  UUID('31d6a1cc-a071-439f-b32c-b999b1d1e3cc'): <lcatools.entities.LcProcess at 0x7fbf8cf0c908>,\n",
       "  UUID('33b43f31-4394-3cd9-9ab0-1eb78ad66ea0'): <lcatools.entities.LcFlow at 0x7fbf8d493f60>,\n",
       "  UUID('61d30404-35e6-41d4-b191-833441d4721a'): <lcatools.entities.LcProcess at 0x7fbf8ccea9e8>,\n",
       "  UUID('314c5dcd-6fd0-41ae-8f80-ee0b0959b2a4'): <lcatools.entities.LcProcess at 0x7fbf8cf083c8>,\n",
       "  UUID('0ec92f76-932f-4407-bd4f-eb9aa426e099'): <lcatools.entities.LcFlow at 0x7fbf8d50b3c8>,\n",
       "  UUID('961a37e3-1a10-3fe4-ab7e-984c9b7fab85'): <lcatools.entities.LcFlow at 0x7fbf8d30a588>,\n",
       "  UUID('526924b2-e86c-3158-967b-4d187e547603'): <lcatools.entities.LcFlow at 0x7fbf8d2add30>,\n",
       "  UUID('b905c2e0-a0db-4e66-80d2-8bdfc93c6218'): <lcatools.entities.LcFlow at 0x7fbf8d28e7f0>,\n",
       "  UUID('53363f59-16fc-4279-b9a7-4f65421fecfc'): <lcatools.entities.LcProcess at 0x7fbf8cdb19e8>,\n",
       "  UUID('30891055-e966-496d-a505-7fc39c32b4ac'): <lcatools.entities.LcProcess at 0x7fbf8cf7f668>,\n",
       "  UUID('36ebe383-0b4c-4788-854d-6867e082ae7f'): <lcatools.entities.LcProcess at 0x7fbf8cec76d8>,\n",
       "  UUID('b3d310f6-9720-4e4c-bd2f-16455f9f8e50'): <lcatools.entities.LcProcess at 0x7fbf8c8ec9e8>,\n",
       "  UUID('e3bc76ed-f211-4efa-ac6b-198de2755917'): <lcatools.entities.LcProcess at 0x7fbf8c6bf9e8>,\n",
       "  UUID('407bbe16-20a2-4c59-933a-3c1230929e0a'): <lcatools.entities.LcProcess at 0x7fbf8ce480b8>,\n",
       "  UUID('f9e713af-8974-446e-a0f6-3ef24069c71e'): <lcatools.entities.LcProcess at 0x7fbf8bb0da58>,\n",
       "  UUID('1af6a4a9-4e6b-3416-8e84-0ebabf791e91'): <lcatools.entities.LcQuantity at 0x7fbf8bc67470>,\n",
       "  UUID('41673187-d88a-3a45-884e-ba423c5b8340'): <lcatools.entities.LcFlow at 0x7fbf8d447f60>,\n",
       "  UUID('9230798a-e154-4259-bc92-8a784089e15d'): <lcatools.entities.LcProcess at 0x7fbf8ca57898>,\n",
       "  UUID('c8af5eae-bb75-44b1-9cef-71221ecf5a68'): <lcatools.entities.LcProcess at 0x7fbf8c7ecd68>,\n",
       "  UUID('7e0529d5-8c7e-47a2-8e7c-8cf1b02343b9'): <lcatools.entities.LcProcess at 0x7fbf8cb5da58>,\n",
       "  UUID('e19604ee-c673-4d35-8589-0264dc50970a'): <lcatools.entities.LcProcess at 0x7fbf8c6a5dd8>,\n",
       "  UUID('d893b712-e5ea-4f85-afe5-5ca345ee82f0'): <lcatools.entities.LcProcess at 0x7fbf8c734f28>,\n",
       "  UUID('453cf23c-1a93-4431-b0f2-0173c9264935'): <lcatools.entities.LcProcess at 0x7fbf8ce070b8>,\n",
       "  UUID('b30f1ff3-61f6-38e9-96cf-9907cca5397b'): <lcatools.entities.LcQuantity at 0x7fbf8d59a4e0>,\n",
       "  UUID('e3d89787-5ca1-4921-8397-0fe5067e4c39'): <lcatools.entities.LcProcess at 0x7fbf8c6bfd68>,\n",
       "  UUID('906da5c3-66af-40cd-a34f-46dd2a7afa65'): <lcatools.entities.LcProcess at 0x7fbf8cac6668>,\n",
       "  UUID('05b43cd8-cd92-4e78-9186-57859edd8c64'): <lcatools.entities.LcProcess at 0x7fbf8d16cd68>,\n",
       "  UUID('2b92a7d3-35ef-3c02-b914-0a77ddbfa0da'): <lcatools.entities.LcFlow at 0x7fbf8d27d400>,\n",
       "  UUID('48e16ea8-128c-4d96-a4f4-668f12249434'): <lcatools.entities.LcFlow at 0x7fbf8d466320>,\n",
       "  UUID('60c519a2-d681-3421-9f3a-11399748dfd7'): <lcatools.entities.LcFlow at 0x7fbf8d43e710>,\n",
       "  UUID('74fbdb76-1edb-4713-8b8d-51da8c068771'): <lcatools.entities.LcProcess at 0x7fbf8cbe7908>,\n",
       "  UUID('d755bf63-e19d-45c4-abf9-bd5a7b9e1999'): <lcatools.entities.LcProcess at 0x7fbf8c7287b8>,\n",
       "  UUID('5d960d27-e7bd-4643-af57-638212f8b375'): <lcatools.entities.LcProcess at 0x7fbf8cd33908>,\n",
       "  UUID('cb20fb37-43e0-3559-88c5-9083ba89d603'): <lcatools.entities.LcQuantity at 0x7fbf8d5b9a20>,\n",
       "  UUID('a38da241-f6c2-3926-b3dd-52d80b2bb7a5'): <lcatools.entities.LcFlow at 0x7fbf8d33fc88>,\n",
       "  UUID('0f31f50c-1930-4ece-aa03-aa84d1720a8b'): <lcatools.entities.LcProcess at 0x7fbf8d0e1588>,\n",
       "  UUID('3e856cf8-bf76-464e-8638-69d4a03c4e82'): <lcatools.entities.LcProcess at 0x7fbf8ceac978>,\n",
       "  UUID('b7bc51ae-c4b6-45d6-b470-53fa5ded5223'): <lcatools.entities.LcProcess at 0x7fbf8c89bcf8>,\n",
       "  UUID('c1da0437-7a19-34f8-b68f-c92ec8c05911'): <lcatools.entities.LcFlow at 0x7fbf8d49aa58>,\n",
       "  UUID('2f8952b0-c90c-4e3d-b546-52b862fc8f11'): <lcatools.entities.LcFlow at 0x7fbf8d505470>,\n",
       "  UUID('3a6521a4-30f0-44e9-8f35-a828668c59b0'): <lcatools.entities.LcProcess at 0x7fbf8cef1b38>,\n",
       "  UUID('f0da6115-f56b-374c-ab37-72ca743cc66c'): <lcatools.entities.LcQuantity at 0x7fbf8d5986a0>,\n",
       "  UUID('b6d8b8fb-a74a-4d2e-9f37-7c0b0973c576'): <lcatools.entities.LcProcess at 0x7fbf8c8922e8>,\n",
       "  UUID('d18c4258-de90-4c4b-8a63-7c92335716ae'): <lcatools.entities.LcFlow at 0x7fbf8d2742b0>,\n",
       "  UUID('849a748a-34f7-3d50-93f2-798e9c951670'): <lcatools.entities.LcFlow at 0x7fbf8d3495c0>,\n",
       "  UUID('353a5dad-d2eb-3075-9f48-51f608abfd5d'): <lcatools.entities.LcFlow at 0x7fbf8d49ab00>,\n",
       "  UUID('b1ed2aa7-f137-492f-9cf3-9effad823770'): <lcatools.entities.LcProcess at 0x7fbf8c8d1f98>,\n",
       "  UUID('018f06ed-899e-4ddf-9efe-74acfc81921d'): <lcatools.entities.LcProcess at 0x7fbf8d1b99e8>,\n",
       "  UUID('1b2ebaf2-fe00-463c-b80d-b5b9336ace43'): <lcatools.entities.LcProcess at 0x7fbf8d07bdd8>,\n",
       "  UUID('9cf30157-924e-3509-a36b-5776c3f858a8'): <lcatools.entities.LcFlow at 0x7fbf8d326748>,\n",
       "  UUID('01aea06d-5557-33de-a2af-24e127fc622b'): <lcatools.entities.LcFlow at 0x7fbf8d557cc0>,\n",
       "  UUID('65d8e3cc-1f55-46b1-945d-79162bbb4a8a'): <lcatools.entities.LcProcess at 0x7fbf8cc9cdd8>,\n",
       "  UUID('131a4c9c-4534-4845-90a2-c87fdecdbef1'): <lcatools.entities.LcProcess at 0x7fbf8d08e668>,\n",
       "  UUID('dcd51eed-6e0d-41b8-9391-bb0dbfbcf32a'): <lcatools.entities.LcProcess at 0x7fbf8c6eba58>,\n",
       "  UUID('291bb8d0-e00b-41dc-86c0-24307dfa7239'): <lcatools.entities.LcProcess at 0x7fbf8cfa20b8>,\n",
       "  UUID('ffecf477-00bf-49e7-b4e7-b21d5515923b'): <lcatools.entities.LcProcess at 0x7fbf8bad4908>,\n",
       "  UUID('1815718f-9246-4ff1-8660-6dea41938197'): <lcatools.entities.LcProcess at 0x7fbf8d055978>,\n",
       "  UUID('636b7ed8-c214-3a6c-a8f8-7c26e7df2dae'): <lcatools.entities.LcFlow at 0x7fbf8d3c7470>,\n",
       "  UUID('245a5cc1-88aa-3f55-98b2-ed3a42700679'): <lcatools.entities.LcFlow at 0x7fbf8d4dc518>,\n",
       "  UUID('4c2ddb0f-da58-30b3-844c-3b45169cfb81'): <lcatools.entities.LcFlow at 0x7fbf8d471cf8>,\n",
       "  UUID('66bfb434-78ab-4183-b1a7-7f87d08974fa'): <lcatools.entities.LcFlow at 0x7fbf8d3d2b00>,\n",
       "  UUID('1cc616d8-aad4-4980-997e-0ac51de83528'): <lcatools.entities.LcProcess at 0x7fbf8d0105f8>,\n",
       "  UUID('c31827bb-582e-45b0-9839-34bccbb43910'): <lcatools.entities.LcProcess at 0x7fbf8c829208>,\n",
       "  UUID('c75d4357-c814-3954-a16a-b8b70492365f'): <lcatools.entities.LcQuantity at 0x7fbf8d588f60>,\n",
       "  UUID('90dd4d75-8ef6-3985-86ed-9bdd87738939'): <lcatools.entities.LcFlow at 0x7fbf8d4f05c0>,\n",
       "  UUID('d2a5c615-d166-4891-9a58-4138676aa283'): <lcatools.entities.LcProcess at 0x7fbf8c7694a8>,\n",
       "  UUID('fd9286d7-a995-4558-85cc-df2389bd5531'): <lcatools.entities.LcProcess at 0x7fbf8bb389e8>,\n",
       "  UUID('855e8a33-ce25-48f1-b587-1c3dabc3b98b'): <lcatools.entities.LcProcess at 0x7fbf8cb3b4a8>,\n",
       "  UUID('a85ad320-94da-457d-b8f5-c718102cd525'): <lcatools.entities.LcProcess at 0x7fbf8c965e48>,\n",
       "  UUID('94f50f6a-fba2-4e83-8c82-aa60ec9b10b7'): <lcatools.entities.LcProcess at 0x7fbf8ca75898>,\n",
       "  UUID('24378d8e-4a17-4ffb-80f6-31b0663f0159'): <lcatools.entities.LcProcess at 0x7fbf8cfe7898>,\n",
       "  UUID('09b44eaf-68ac-468f-90b4-d6bdcdadccc3'): <lcatools.entities.LcProcess at 0x7fbf8d11ecf8>,\n",
       "  UUID('43885c26-e551-4c60-8d04-cf7cdd279e2f'): <lcatools.entities.LcProcess at 0x7fbf8ce6afd0>,\n",
       "  UUID('aa89f327-caa3-4cd5-b0c5-440e1d52995e'): <lcatools.entities.LcProcess at 0x7fbf8c982c18>,\n",
       "  UUID('8625d65c-00e9-4847-bece-dde8680ae882'): <lcatools.entities.LcProcess at 0x7fbf8cb44828>,\n",
       "  UUID('ad367b3e-3ea9-4f85-a1bf-96f9f5715934'): <lcatools.entities.LcProcess at 0x7fbf8c91f668>,\n",
       "  UUID('cff267d5-8e43-414b-bb63-7d19e700f6ba'): <lcatools.entities.LcProcess at 0x7fbf8c749ac8>,\n",
       "  UUID('b6fe0186-0ecb-344f-8b9f-25e5b632dea2'): <lcatools.entities.LcFlow at 0x7fbf8d288a90>,\n",
       "  UUID('4113c2bf-138a-4a3c-b552-4296df142f59'): <lcatools.entities.LcProcess at 0x7fbf8ce516d8>,\n",
       "  UUID('0515c2e4-9a49-45d0-83c5-745c8c3352ca'): <lcatools.entities.LcProcess at 0x7fbf8d1637b8>,\n",
       "  UUID('cfb21e35-1415-4fed-a517-771821c381b1'): <lcatools.entities.LcProcess at 0x7fbf8c7c49e8>,\n",
       "  UUID('ed63c1a6-8c54-4803-a146-f6a6534540fb'): <lcatools.entities.LcProcess at 0x7fbf8bbf49e8>,\n",
       "  UUID('14fb045d-4c1f-4edd-a111-8f9e0e318a62'): <lcatools.entities.LcProcess at 0x7fbf8d0a3c88>,\n",
       "  UUID('0d9f52b2-f2d5-46a3-90a3-e22ef252cc37'): <lcatools.entities.LcFlow at 0x7fbf8d584d68>,\n",
       "  UUID('15aaf614-d8d0-4a6c-bb15-8edd74326cce'): <lcatools.entities.LcProcess at 0x7fbf8d0accf8>,\n",
       "  UUID('e16c6b9c-1317-389f-be2a-2fcbd343bc25'): <lcatools.entities.LcFlow at 0x7fbf8d546278>,\n",
       "  UUID('fd497cae-6a7f-444a-925a-590a22e8dec9'): <lcatools.entities.LcProcess at 0x7fbf8bb34cf8>,\n",
       "  UUID('ae0c816f-cf0e-3581-b5e4-783d98ed5524'): <lcatools.entities.LcFlow at 0x7fbf8d2e8400>,\n",
       "  UUID('ca218bdc-c105-46bd-9246-74a406cd34c6'): <lcatools.entities.LcProcess at 0x7fbf8c801828>,\n",
       "  UUID('8add779f-db25-4a27-b3ec-d82472cd3001'): <lcatools.entities.LcProcess at 0x7fbf8cb037b8>,\n",
       "  UUID('994f8e1c-77ff-4bea-afe5-86cf2257a1e7'): <lcatools.entities.LcProcess at 0x7fbf8ca2e198>,\n",
       "  UUID('b7113ef4-c43c-4f80-8eac-0ffd11b00531'): <lcatools.entities.LcProcess at 0x7fbf8c892ba8>,\n",
       "  UUID('c966a940-1c77-4a23-9287-39b0e0c85998'): <lcatools.entities.LcProcess at 0x7fbf8c7f96d8>,\n",
       "  UUID('595a1485-ca85-4f4e-aadd-2a8a4a1406db'): <lcatools.entities.LcProcess at 0x7fbf8cd812e8>,\n",
       "  UUID('2a24da78-b5db-4fe8-a398-35faf4910218'): <lcatools.entities.LcProcess at 0x7fbf8cfa9dd8>,\n",
       "  UUID('a2a1f8b8-c0cb-4cfe-8142-6eba7cee194e'): <lcatools.entities.LcProcess at 0x7fbf8c9a22e8>,\n",
       "  UUID('ad1ed615-e2cf-49e3-bd34-4589b4583222'): <lcatools.entities.LcFlow at 0x7fbf8d2e42b0>,\n",
       "  UUID('eadea134-34d3-4581-9b0b-a59533dfd526'): <lcatools.entities.LcFlow at 0x7fbf8d1d1898>,\n",
       "  UUID('a57183bc-58a1-3df8-9082-387625091182'): <lcatools.entities.LcFlow at 0x7fbf8d345e80>,\n",
       "  UUID('c455f9d5-ce60-403f-9c22-f1368fbea2e3'): <lcatools.entities.LcProcess at 0x7fbf8c83a128>,\n",
       "  UUID('29c1bd71-fa18-4bb2-9d38-f0369ac60d49'): <lcatools.entities.LcProcess at 0x7fbf8cfa7978>,\n",
       "  UUID('ccbf678c-9c39-3212-8d4c-0ed3ec94f0ab'): <lcatools.entities.LcQuantity at 0x7fbf8d5bebe0>,\n",
       "  UUID('1f5800b5-23af-4ffd-afcd-69e2b94b817f'): <lcatools.entities.LcProcess at 0x7fbf8d030978>,\n",
       "  UUID('88fec3ab-9af7-471b-a290-4ba9a5d2aa04'): <lcatools.entities.LcProcess at 0x7fbf8caea3c8>,\n",
       "  UUID('51d038a6-ba2c-4ed5-8bef-cac802a00ab9'): <lcatools.entities.LcProcess at 0x7fbf8cda0c18>,\n",
       "  UUID('f854da48-fb1a-352f-a8f5-21a4edfb57c1'): <lcatools.entities.LcFlow at 0x7fbf8d3040b8>,\n",
       "  UUID('c13edacc-108b-47e9-a32e-e12ec58f6b6d'): <lcatools.entities.LcProcess at 0x7fbf8c80ff98>,\n",
       "  UUID('e2b08f72-2277-4c37-8998-aac97e18cec6'): <lcatools.entities.LcProcess at 0x7fbf8c6b2ac8>,\n",
       "  UUID('daacb260-a117-4c6a-84df-e55baa525cb6'): <lcatools.entities.LcProcess at 0x7fbf8c6d1438>,\n",
       "  UUID('c28c59c0-3930-40bd-9f7c-50bab15efb65'): <lcatools.entities.LcProcess at 0x7fbf8c821f28>,\n",
       "  UUID('d65a94b4-0479-42cc-8274-2db66e1e6aeb'): <lcatools.entities.LcFlow at 0x7fbf8d284748>,\n",
       "  UUID('b878ca93-d699-421e-a4b6-f694dc627062'): <lcatools.entities.LcFlow at 0x7fbf8d28bd30>,\n",
       "  UUID('dcfe0815-6fa3-4e1d-a55e-155b29904f1d'): <lcatools.entities.LcFlow at 0x7fbf8d21add8>,\n",
       "  UUID('31a3e44c-4098-461e-aba2-f79540e05087'): <lcatools.entities.LcFlow at 0x7fbf8d48d278>,\n",
       "  UUID('5a42c06d-6ea4-4b50-b7f6-d1d60b3d2593'): <lcatools.entities.LcProcess at 0x7fbf8cd0a6d8>,\n",
       "  UUID('0726038d-4535-4cc9-9ded-ebd608d79b3d'): <lcatools.entities.LcProcess at 0x7fbf8d17da58>,\n",
       "  UUID('79240a49-80cf-4be4-b5c2-bfdd3f4aa249'): <lcatools.entities.LcFlow at 0x7fbf8d39bda0>,\n",
       "  UUID('f94fc7aa-1185-3ad4-b96a-09f44ca62aab'): <lcatools.entities.LcFlow at 0x7fbf8d2e4ef0>,\n",
       "  UUID('ad8d4d50-35f4-3a82-8144-7ba9ca5a2d51'): <lcatools.entities.LcFlow at 0x7fbf8d2e4a90>,\n",
       "  UUID('6b853aa4-1179-4a1f-812a-adbe51e4940c'): <lcatools.entities.LcProcess at 0x7fbf8cc68588>,\n",
       "  UUID('fc26bb21-2f37-3b28-b186-0be1367ca80e'): <lcatools.entities.LcQuantity at 0x7fbf8d549f60>,\n",
       "  UUID('2011b4cf-2267-4a62-aabb-e3cf01b12e78'): <lcatools.entities.LcProcess at 0x7fbf8d039198>,\n",
       "  UUID('ac429732-7d98-43a1-9377-d52b0b7d645f'): <lcatools.entities.LcProcess at 0x7fbf8c9139e8>,\n",
       "  UUID('af25bf9d-e9be-46df-9364-e5775b224a6f'): <lcatools.entities.LcProcess at 0x7fbf8c935898>,\n",
       "  UUID('f1647da8-979d-4be0-9ea2-cfea0f6a0e8d'): <lcatools.entities.LcProcess at 0x7fbf8bba8668>,\n",
       "  UUID('f230cc17-8b58-3f57-8a25-9a9a72ed854c'): <lcatools.entities.LcFlow at 0x7fbf8d1f09e8>,\n",
       "  UUID('cd862afe-1b25-4469-8013-b12a10b11109'): <lcatools.entities.LcProcess at 0x7fbf8c7ab588>,\n",
       "  UUID('931217b6-a110-3950-b821-b47ebe80b6f3'): <lcatools.entities.LcFlow at 0x7fbf8d3801d0>,\n",
       "  UUID('d8290e9c-0786-3b3e-ad81-cc4edbfe94b4'): <lcatools.entities.LcFlow at 0x7fbf8d20c358>,\n",
       "  UUID('64c029f1-4871-4a9f-8ed2-6a9f4ba4ac8a'): <lcatools.entities.LcProcess at 0x7fbf8cc900b8>,\n",
       "  UUID('b1ceba16-c1fb-4df0-82a6-9b6579594f5e'): <lcatools.entities.LcProcess at 0x7fbf8c8d1898>,\n",
       "  UUID('172080f0-32af-414a-9f93-4286b4e97749'): <lcatools.entities.LcProcess at 0x7fbf8d0c5b38>,\n",
       "  UUID('e3e98830-fe1d-3580-bef8-ba81d1c65566'): <lcatools.entities.LcFlow at 0x7fbf8d2d7b38>,\n",
       "  UUID('80e1397e-320e-4fd8-b03f-745daaaf51be'): <lcatools.entities.LcProcess at 0x7fbf8cb82978>,\n",
       "  UUID('648f50e2-fe48-45ed-9bec-3825fead5225'): <lcatools.entities.LcProcess at 0x7fbf8cc8c588>,\n",
       "  UUID('554be2fb-9bb9-46c6-a4df-46df0d53cb65'): <lcatools.entities.LcFlow at 0x7fbf8d414470>,\n",
       "  UUID('eafa3566-0ff7-4197-b015-60caea8b0b54'): <lcatools.entities.LcProcess at 0x7fbf8bbd3d68>,\n",
       "  UUID('66befb98-4c87-4aad-a6ac-11111d76ac2d'): <lcatools.entities.LcProcess at 0x7fbf8cca9908>,\n",
       "  UUID('de37d8c7-55ca-3f60-82ae-b6e671c18024'): <lcatools.entities.LcFlow at 0x7fbf8d220550>,\n",
       "  UUID('4a52b072-94a0-49a4-90b4-464f9026b47f'): <lcatools.entities.LcProcess at 0x7fbf8ce45908>,\n",
       "  UUID('33796ee3-2727-4215-9b9b-f9682a5670ff'): <lcatools.entities.LcProcess at 0x7fbf8cf1cc18>,\n",
       "  UUID('08d39b8f-fc6a-451e-872a-b63ffeea58c5'): <lcatools.entities.LcProcess at 0x7fbf8d115198>,\n",
       "  UUID('8eaed6f0-fac1-3773-9add-f6bfacc9c5fd'): <lcatools.entities.LcFlow at 0x7fbf8d36fa58>,\n",
       "  UUID('10b69d7a-018d-44c6-9a5e-e67fc9475b86'): <lcatools.entities.LcFlow at 0x7fbf8d50fba8>,\n",
       "  UUID('62d372fa-3493-4daa-8ada-782340e39454'): <lcatools.entities.LcProcess at 0x7fbf8ccf6908>,\n",
       "  UUID('ea5112d1-64ba-3c4b-936f-b418a2e11f2b'): <lcatools.entities.LcFlow at 0x7fbf8d471ba8>,\n",
       "  UUID('73c5424d-b7ca-4fff-90b9-6ef5aa6101aa'): <lcatools.entities.LcProcess at 0x7fbf8cbd7b38>,\n",
       "  UUID('efdcef71-a69c-4d68-9f83-7e7a3a7b485f'): <lcatools.entities.LcProcess at 0x7fbf8bb92898>,\n",
       "  UUID('90f216cf-6fb1-3832-af1d-d812db1ed3e8'): <lcatools.entities.LcFlow at 0x7fbf8d37a470>,\n",
       "  UUID('883687d2-0030-452d-9044-d37d27a6d83a'): <lcatools.entities.LcProcess at 0x7fbf8cae20b8>,\n",
       "  UUID('b3ebdcc3-c588-4997-95d2-9785b26b34e1'): <lcatools.entities.LcFlow at 0x7fbf8d2fd9e8>,\n",
       "  UUID('d5a9fd90-9786-3f4a-8a5b-e340e4ff8742'): <lcatools.entities.LcFlow at 0x7fbf8d299550>,\n",
       "  UUID('69344150-d99d-3709-8037-ed2451f54967'): <lcatools.entities.LcFlow at 0x7fbf8d31ffd0>,\n",
       "  UUID('e526d31c-d4c5-4ba9-b544-426a83e9e74a'): <lcatools.entities.LcProcess at 0x7fbf8bc08978>,\n",
       "  UUID('fcef9c29-498c-3efe-ab1a-ebacba62099c'): <lcatools.entities.LcFlow at 0x7fbf8d196c88>,\n",
       "  UUID('102dfd9a-1382-484f-8ffd-6caa5ca42878'): <lcatools.entities.LcProcess at 0x7fbf8d0e8c18>,\n",
       "  UUID('9e2e1633-6932-3688-8ed0-b4fc9949cd66'): <lcatools.entities.LcFlow at 0x7fbf8d3ddcf8>,\n",
       "  UUID('b44d4249-1bb5-3001-9a1c-6dcc59ba019a'): <lcatools.entities.LcFlow at 0x7fbf8d2fde80>,\n",
       "  UUID('f1c0cd31-8d5e-4bc9-91f6-79e76329234e'): <lcatools.entities.LcFlow at 0x7fbf8d1f00b8>,\n",
       "  UUID('b7cd268b-1b52-45f1-91fe-cd51bf59d21d'): <lcatools.entities.LcFlow at 0x7fbf8d28b400>,\n",
       "  UUID('c843891c-11ef-4dd1-bd73-56a8846b931a'): <lcatools.entities.LcProcess at 0x7fbf8c7e8978>,\n",
       "  UUID('ce348e0d-a679-3771-8934-2f244af3c61d'): <lcatools.entities.LcFlow at 0x7fbf8d2654a8>,\n",
       "  UUID('a0d63240-1e30-4d99-b3f6-f537390894e9'): <lcatools.entities.LcProcess at 0x7fbf8c98b128>,\n",
       "  UUID('6744b13d-2908-4725-88a3-1afd6696c899'): <lcatools.entities.LcFlow at 0x7fbf8d3d6128>,\n",
       "  UUID('b89f775d-d547-4850-9027-b1a45b06c9e3'): <lcatools.entities.LcProcess at 0x7fbf8c8a75f8>,\n",
       "  UUID('804d81bf-61fb-3dfc-88f0-a7b11e2291df'): <lcatools.entities.LcFlow at 0x7fbf8d3fc1d0>,\n",
       "  UUID('1f42dbc0-b043-45fc-a167-08b9fdcad1f8'): <lcatools.entities.LcProcess at 0x7fbf8d030198>,\n",
       "  UUID('6ca44102-ff03-4cc2-a0b5-2b72b1b89bb7'): <lcatools.entities.LcProcess at 0x7fbf8cc78668>,\n",
       "  UUID('1c84cc95-2ebd-4ff6-8841-b0cba6c7022d'): <lcatools.entities.LcProcess at 0x7fbf8d00b668>,\n",
       "  UUID('f5b4b95f-9596-3a0c-b5e8-ac6c1ca03146'): <lcatools.entities.LcFlow at 0x7fbf8d1fe2b0>,\n",
       "  UUID('37f7b72d-1624-4c50-a805-760e44481f57'): <lcatools.entities.LcProcess at 0x7fbf8ced3358>,\n",
       "  UUID('e5e961fb-e4bb-4a11-b9f1-be8230f8b125'): <lcatools.entities.LcProcess at 0x7fbf8bc10d68>,\n",
       "  UUID('c2b6d04a-4cf0-3831-b97a-9a04dd364031'): <lcatools.entities.LcFlow at 0x7fbf8d44e9b0>,\n",
       "  UUID('54ebff06-bada-4c87-8fcd-abfa11b09da1'): <lcatools.entities.LcProcess at 0x7fbf8cd494a8>,\n",
       "  UUID('07d64e72-448b-464c-979b-ee67bc0dcf8d'): <lcatools.entities.LcProcess at 0x7fbf8d184cf8>,\n",
       "  UUID('43c761fc-e179-4204-b037-a8dbb55726ff'): <lcatools.entities.LcProcess at 0x7fbf8ce6eba8>,\n",
       "  UUID('f4926d7a-510d-4243-9cc4-d591e9849479'): <lcatools.entities.LcProcess at 0x7fbf8bb4a588>,\n",
       "  UUID('0a146ba9-0b08-3e23-ac3b-d7496e3990d8'): <lcatools.entities.LcFlow at 0x7fbf8d520668>,\n",
       "  UUID('ac80c6de-4738-4a6b-a710-268fa8e82e70'): <lcatools.entities.LcProcess at 0x7fbf8c9174a8>,\n",
       "  UUID('8e90851a-8c30-42e6-9ab9-9f26f1e7a8fc'): <lcatools.entities.LcProcess at 0x7fbf8cab2ba8>,\n",
       "  UUID('be4835bf-5252-48c1-be48-14f59d533bbd'): <lcatools.entities.LcFlow at 0x7fbf8d2a0fd0>,\n",
       "  UUID('4ca2c86f-c410-4407-9968-8162f85ee1ac'): <lcatools.entities.LcProcess at 0x7fbf8cddfdd8>,\n",
       "  UUID('4d88b385-3115-3f1b-9884-87833eed090c'): <lcatools.entities.LcFlow at 0x7fbf8d478128>,\n",
       "  UUID('c1019bb2-e1ad-3f72-b3ae-aaede9658638'): <lcatools.entities.LcFlow at 0x7fbf8d2cc2b0>,\n",
       "  UUID('b3299910-d797-336e-a44f-bbaabdb8e65d'): <lcatools.entities.LcFlow at 0x7fbf8d2fadd8>,\n",
       "  UUID('49c23685-ef19-495b-9a6b-4a91a7ceb710'): <lcatools.entities.LcFlow at 0x7fbf8d46a128>,\n",
       "  UUID('70c69126-5718-41d4-a9e2-f0fdf21bf33f'): <lcatools.entities.LcProcess at 0x7fbf8cc33ba8>,\n",
       "  UUID('3b160801-6269-4098-b977-f70d41db7d2d'): <lcatools.entities.LcProcess at 0x7fbf8cefc0b8>,\n",
       "  UUID('b1cf253c-be23-3f8d-8170-d0f5ef5e056a'): <lcatools.entities.LcFlow at 0x7fbf8d2659e8>,\n",
       "  UUID('cd5898ca-96ad-4038-b7ac-edf544d2800a'): <lcatools.entities.LcFlow at 0x7fbf8d262748>,\n",
       "  UUID('03886667-17b2-3468-a2ab-5bbb1670dec0'): <lcatools.entities.LcFlow at 0x7fbf8d398470>,\n",
       "  UUID('94425c75-222f-48f3-9066-6e827e73ba45'): <lcatools.entities.LcProcess at 0x7fbf8ca6cf98>,\n",
       "  UUID('28a00727-4d7e-4923-9a7d-be8d164038e2'): <lcatools.entities.LcProcess at 0x7fbf8cf9a5f8>,\n",
       "  UUID('e398559f-e056-3d79-8f54-c61489801606'): <lcatools.entities.LcQuantity at 0x7fbf8bc7eb00>,\n",
       "  UUID('f8d07119-eb8b-4c1d-8e6c-1cc39104a0e3'): <lcatools.entities.LcProcess at 0x7fbf8bb00c88>,\n",
       "  UUID('76c4c9ae-7eda-4c83-a5d2-dbba181c9dd4'): <lcatools.entities.LcProcess at 0x7fbf8cc01b38>,\n",
       "  UUID('067f3fad-adfb-44e9-bafa-b5e4be0e5ac0'): <lcatools.entities.LcProcess at 0x7fbf8d1786d8>,\n",
       "  UUID('f40675e2-b2c5-3186-b9ac-432cbff2759e'): <lcatools.entities.LcFlow at 0x7fbf8d1f7898>,\n",
       "  UUID('c35dc7f5-41c6-4a1d-b0c4-1f4403b7ef3a'): <lcatools.entities.LcProcess at 0x7fbf8c82d208>,\n",
       "  UUID('5830c4dd-7084-49e2-8d9c-7b5af7975bd9'): <lcatools.entities.LcProcess at 0x7fbf8cd70c88>,\n",
       "  UUID('adb504ea-4b44-4660-9e34-a37ee4f04ee4'): <lcatools.entities.LcProcess at 0x7fbf8c924d68>,\n",
       "  UUID('053c3f83-300b-43b7-b6c3-edfef0df6457'): <lcatools.entities.LcProcess at 0x7fbf8d163eb8>,\n",
       "  UUID('87a6b54f-d3b0-4652-9054-6766bb6ccf61'): <lcatools.entities.LcProcess at 0x7fbf8cad97b8>,\n",
       "  UUID('fb19b9bf-d67c-4549-99f9-f798a1e6578e'): <lcatools.entities.LcProcess at 0x7fbf8bb1e198>,\n",
       "  UUID('d4291dd5-dae8-47fa-bf06-466fcecbc210'): <lcatools.entities.LcFlow at 0x7fbf8d27d550>,\n",
       "  UUID('c8f18160-6937-4bb9-ad0c-dffa942ca41e'): <lcatools.entities.LcFlow at 0x7fbf8d251400>,\n",
       "  UUID('bcd53996-db27-46c3-8343-bf2e2d1ccbd3'): <lcatools.entities.LcProcess at 0x7fbf8c859668>,\n",
       "  UUID('ffcc5995-e33d-365f-91e0-51a42c394ee4'): <lcatools.entities.LcFlow at 0x7fbf8d1a59e8>,\n",
       "  UUID('9e1dfb19-f428-4e4a-a905-8e247620a334'): <lcatools.entities.LcProcess at 0x7fbf8c9e8ac8>,\n",
       "  UUID('899ef275-1f01-4b37-96cb-0ab9141c2843'): <lcatools.entities.LcProcess at 0x7fbf8caf22e8>,\n",
       "  UUID('01c12fca-ad8b-4902-8b48-2d5afe3d3a0f'): <lcatools.entities.LcFlow at 0x7fbf8d557f60>,\n",
       "  UUID('a4739f56-748d-43ef-b5f0-4d97edbed2c2'): <lcatools.entities.LcProcess at 0x7fbf8c9b7278>,\n",
       "  UUID('460162d4-874b-4dc9-9e9d-abfa11d713c8'): <lcatools.entities.LcProcess at 0x7fbf8ce0f358>,\n",
       "  UUID('15cfc784-a719-4230-ad2e-f4104d56c427'): <lcatools.entities.LcFlow at 0x7fbf8d5239b0>,\n",
       "  UUID('2307cc99-73e5-4941-a145-77021d4f3813'): <lcatools.entities.LcProcess at 0x7fbf8cfd6dd8>,\n",
       "  UUID('2968457f-2a7e-3680-a620-8829f967ce1a'): <lcatools.entities.LcFlow at 0x7fbf8d4ec908>,\n",
       "  UUID('c44a6588-cdfe-4fb2-831a-03bc1733ad42'): <lcatools.entities.LcProcess at 0x7fbf8c836c88>,\n",
       "  UUID('051aaf7a-6c1a-4e86-999f-85d5f0830df6'): <lcatools.entities.LcFlow at 0x7fbf8d565208>,\n",
       "  UUID('c05f9f89-aa8b-4eba-a6cb-170739f7dfad'): <lcatools.entities.LcProcess at 0x7fbf8c808cf8>,\n",
       "  UUID('835e6ef3-1908-46b1-a0d3-c04d9e96cc82'): <lcatools.entities.LcProcess at 0x7fbf8cb22a58>,\n",
       "  UUID('4783246f-d1a9-3054-bc1c-2d8a7e7a7f7b'): <lcatools.entities.LcFlow at 0x7fbf8d45f860>,\n",
       "  UUID('01b75293-fe94-40b2-85e9-6e02e6bcfca0'): <lcatools.entities.LcProcess at 0x7fbf8d1bd3c8>,\n",
       "  UUID('7d27bee5-356a-4cff-b969-a31351109841'): <lcatools.entities.LcProcess at 0x7fbf8cb540b8>,\n",
       "  UUID('d41e9ace-2757-31ee-ae15-7820c138f28c'): <lcatools.entities.LcFlow at 0x7fbf8d570710>,\n",
       "  UUID('1b08f217-f5ff-345e-bf76-999dbd3c4a71'): <lcatools.entities.LcFlow at 0x7fbf8d539a58>,\n",
       "  UUID('44230d0d-f11f-473e-8b43-75656dcac834'): <lcatools.entities.LcFlow at 0x7fbf8d452f98>,\n",
       "  UUID('ba77f536-0596-4ecd-9c2d-87a9f9778f33'): <lcatools.entities.LcProcess at 0x7fbf8c8bbc18>,\n",
       "  UUID('f1f9e515-d2d3-4816-bc6b-695496943f6d'): <lcatools.entities.LcProcess at 0x7fbf8bbac908>,\n",
       "  UUID('1d96d1b7-3e2d-41e8-8276-8c5a4446010d'): <lcatools.entities.LcProcess at 0x7fbf8d017f28>,\n",
       "  UUID('c215556b-c842-45f0-9aca-9174b126d289'): <lcatools.entities.LcProcess at 0x7fbf8c821208>,\n",
       "  UUID('56ac0140-36d5-4a90-ba70-91ad6d80ada4'): <lcatools.entities.LcProcess at 0x7fbf8cd5f6d8>,\n",
       "  UUID('929243ef-48b6-4762-ba4a-5ef3043de535'): <lcatools.entities.LcProcess at 0x7fbf8ca5b5f8>,\n",
       "  UUID('e6551223-73b6-4289-b841-c5cdeb25abd9'): <lcatools.entities.LcFlow at 0x7fbf8d23ddd8>,\n",
       "  UUID('6746f04f-4820-4b44-b264-e74f366890cc'): <lcatools.entities.LcProcess at 0x7fbf8ccb1208>,\n",
       "  UUID('44928ef3-0a7e-31b3-be58-ffce7ddbf496'): <lcatools.entities.LcFlow at 0x7fbf8d456668>,\n",
       "  UUID('61a3fed5-dfc9-4212-bb95-c1e4d5e0afb3'): <lcatools.entities.LcProcess at 0x7fbf8cce6f28>,\n",
       "  UUID('bb9825d4-f36b-41ea-8168-1aa4f2227180'): <lcatools.entities.LcProcess at 0x7fbf8c84d198>,\n",
       "  UUID('39867023-ece6-4067-8b4f-0e587b19d26d'): <lcatools.entities.LcProcess at 0x7fbf8cee4e48>,\n",
       "  UUID('f88b6925-fe26-4abd-a7ec-47712a59260a'): <lcatools.entities.LcProcess at 0x7fbf8bb00208>,\n",
       "  UUID('33456751-d78b-465d-8635-52d71e77cf54'): <lcatools.entities.LcFlow at 0x7fbf8d4933c8>,\n",
       "  UUID('0bcc143f-8abe-45f8-ae50-db2c6ec2d287'): <lcatools.entities.LcProcess at 0x7fbf8d13af28>,\n",
       "  UUID('4035d90e-c938-3fb7-abe3-626cc82b0483'): <lcatools.entities.LcFlow at 0x7fbf8d544c50>,\n",
       "  UUID('afe3bd15-c7cf-3c7f-a672-7802516c1e28'): <lcatools.entities.LcFlow at 0x7fbf8d4b2860>,\n",
       "  UUID('6b6bda00-0616-4299-9247-31de3ca6f77c'): <lcatools.entities.LcProcess at 0x7fbf8cc683c8>,\n",
       "  UUID('8088d8b7-e429-32a0-9da2-eb3573438094'): <lcatools.entities.LcFlow at 0x7fbf8d4e9518>,\n",
       "  UUID('33feab2a-3bdf-3d2b-bdd8-93a89c4f18ee'): <lcatools.entities.LcFlow at 0x7fbf8d496668>,\n",
       "  UUID('f33077c9-bd22-3bdb-a081-c724535aa343'): <lcatools.entities.LcFlow at 0x7fbf8d1f4be0>,\n",
       "  UUID('8566e4a9-67d3-3a7a-a9de-72579d0bae67'): <lcatools.entities.LcFlow at 0x7fbf8d34bba8>,\n",
       "  UUID('fd9a2884-409a-4000-bcce-f475bb1d5dcf'): <lcatools.entities.LcProcess at 0x7fbf8bb38d68>,\n",
       "  UUID('3b54a639-ccee-4bd5-9a24-eebfbbb1a3a4'): <lcatools.entities.LcProcess at 0x7fbf8cefcb38>,\n",
       "  UUID('f5613910-92ec-4bf3-9585-926749432289'): <lcatools.entities.LcFlow at 0x7fbf8d1fba90>,\n",
       "  UUID('4b763f33-6730-45d2-a520-6f8d9e7753bc'): <lcatools.entities.LcProcess at 0x7fbf8cdd2908>,\n",
       "  UUID('f049a5ce-7449-308b-86df-ab8c9b14bbce'): <lcatools.entities.LcFlow at 0x7fbf8d1e9400>,\n",
       "  UUID('d85923c3-f391-4875-9b33-abfa11763e85'): <lcatools.entities.LcProcess at 0x7fbf8c7344a8>,\n",
       "  UUID('c795b748-e283-315b-a00a-122867450aae'): <lcatools.entities.LcFlow at 0x7fbf8d4751d0>,\n",
       "  UUID('53c4e542-a7fd-4fe2-9616-19a454b9c13e'): <lcatools.entities.LcProcess at 0x7fbf8cdba208>,\n",
       "  UUID('3faef344-9e52-47a3-a317-e17b824cc540'): <lcatools.entities.LcFlow at 0x7fbf8d4c4278>,\n",
       "  UUID('bb01f685-7d5b-34bb-acb9-ed6e8c0a3f65'): <lcatools.entities.LcQuantity at 0x7fbf8d58ba20>,\n",
       "  UUID('caf0ab41-bb9b-3313-8bb9-c3f442322799'): <lcatools.entities.LcFlow at 0x7fbf8d25b4a8>,\n",
       "  UUID('d24aba84-3438-41c9-9091-244c54fc12a8'): <lcatools.entities.LcProcess at 0x7fbf8c7659e8>,\n",
       "  UUID('ead11db3-b697-438b-90d0-89b540554ea6'): <lcatools.entities.LcProcess at 0x7fbf8bbd32e8>,\n",
       "  UUID('cb70ac9a-0498-3506-8a29-4f523b235a0e'): <lcatools.entities.LcFlow at 0x7fbf8d25be80>,\n",
       "  UUID('6362e7d7-4698-3471-ba2e-13b6065e5ed0'): <lcatools.entities.LcFlow at 0x7fbf8d32db38>,\n",
       "  UUID('b48c7889-b48d-4ca9-b3b5-c9af0fdc9cfd'): <lcatools.entities.LcProcess at 0x7fbf8c8f4c18>,\n",
       "  UUID('67b7d8a8-f49e-4e80-a092-4ff21d1461a1'): <lcatools.entities.LcProcess at 0x7fbf8ccb6748>,\n",
       "  UUID('8a240701-66e4-4753-b5f3-80c83471c7bc'): <lcatools.entities.LcProcess at 0x7fbf8cafb198>,\n",
       "  UUID('72ea6a0d-f00b-44bb-9ed5-c61ed964c51c'): <lcatools.entities.LcProcess at 0x7fbf8cbcc978>,\n",
       "  UUID('a76808a8-7210-4a25-aa3d-8a529cf9ae32'): <lcatools.entities.LcProcess at 0x7fbf8c95d208>,\n",
       "  UUID('96679e7c-1cd1-4a22-988a-8458666cc486'): <lcatools.entities.LcProcess at 0x7fbf8ca09978>,\n",
       "  UUID('384378f4-5850-321b-8789-79eef5887199'): <lcatools.entities.LcFlow at 0x7fbf8d428470>,\n",
       "  UUID('0de8b5b3-0541-4588-afc1-391627f8d63c'): <lcatools.entities.LcProcess at 0x7fbf8d0d3d68>,\n",
       "  UUID('09c1350d-24cb-4e00-a3cd-8eb88c2a3b0f'): <lcatools.entities.LcProcess at 0x7fbf8d1220b8>,\n",
       "  UUID('eb5109ef-de05-3f57-9333-6ae081af078f'): <lcatools.entities.LcFlow at 0x7fbf8d425080>,\n",
       "  UUID('c556ee19-a143-437c-9920-39c5af71e0cd'): <lcatools.entities.LcProcess at 0x7fbf8c842b38>,\n",
       "  UUID('93f04fcb-c93f-4ce3-850e-c04cac691b4a'): <lcatools.entities.LcProcess at 0x7fbf8ca6c128>,\n",
       "  UUID('3eead1ee-14e7-4549-a3c3-90772582d830'): <lcatools.entities.LcProcess at 0x7fbf8ceb4128>,\n",
       "  UUID('35606113-9a36-3884-9dc8-4827fe94be5b'): <lcatools.entities.LcFlow at 0x7fbf8d49aef0>,\n",
       "  UUID('bdee7fe9-c44d-42c6-a85c-91b7a988ec2a'): <lcatools.entities.LcProcess at 0x7fbf8c8665f8>,\n",
       "  UUID('cdf1f9b8-391c-4b42-918a-beeb055da847'): <lcatools.entities.LcProcess at 0x7fbf8c7af748>,\n",
       "  UUID('c3956826-7c72-4c21-9b55-542529b189db'): <lcatools.entities.LcProcess at 0x7fbf8c82da58>,\n",
       "  UUID('7a59e8d5-cd11-4ee7-b1ca-30979d2b0b3a'): <lcatools.entities.LcFlow at 0x7fbf8d3a2470>,\n",
       "  UUID('7a12a9a4-b65e-42ef-bfaf-22c40aa1eafd'): <lcatools.entities.LcProcess at 0x7fbf8cbab128>,\n",
       "  UUID('597847df-518f-4bd6-ae50-1de01f2761a4'): <lcatools.entities.LcFlow at 0x7fbf8d421cf8>,\n",
       "  UUID('ac809486-31ee-459e-a4ce-190cd5e0d57c'): <lcatools.entities.LcProcess at 0x7fbf8c9173c8>,\n",
       "  UUID('e8ea270b-19e1-4b69-b70e-8364d12b2718'): <lcatools.entities.LcProcess at 0x7fbf8bc3ad68>,\n",
       "  UUID('674cded0-b767-41a9-b2d3-08c1f92a7539'): <lcatools.entities.LcProcess at 0x7fbf8ccb13c8>,\n",
       "  UUID('87f95df9-f417-4e5e-bea5-1cc858844d59'): <lcatools.entities.LcProcess at 0x7fbf8cade7b8>,\n",
       "  UUID('de34f1a2-be91-3a46-a0e8-38687e56b036'): <lcatools.entities.LcFlow at 0x7fbf8d220400>,\n",
       "  UUID('9ed8463c-08c7-47ed-8db8-fe90e41c2eec'): <lcatools.entities.LcProcess at 0x7fbf8c9f5128>,\n",
       "  UUID('45008802-7c83-4396-bf28-bb80b0f2f8ff'): <lcatools.entities.LcProcess at 0x7fbf8ce83358>,\n",
       "  UUID('63ebde82-80f7-3484-a2d0-137557d3de68'): <lcatools.entities.LcFlow at 0x7fbf8d30ea90>,\n",
       "  UUID('751f4f78-afc3-42e0-8d36-86f38753eb86'): <lcatools.entities.LcProcess at 0x7fbf8cbe7fd0>,\n",
       "  UUID('55508f8d-c77f-322b-a280-f639bbbafa3b'): <lcatools.entities.LcFlow at 0x7fbf8d2a0a90>,\n",
       "  UUID('6ba693c2-454b-4ab7-9765-67f4ddec2cd5'): <lcatools.entities.LcProcess at 0x7fbf8cc68ba8>,\n",
       "  UUID('54b555f0-7add-4e89-8dbc-fd4821f58e4e'): <lcatools.entities.LcProcess at 0x7fbf8cdc6358>,\n",
       "  UUID('cc9d77ea-555d-49cc-8b61-1ad87dceb419'): <lcatools.entities.LcProcess at 0x7fbf8c7a2128>,\n",
       "  UUID('6b6cf313-9177-41cf-b0fc-1977e4e0c730'): <lcatools.entities.LcProcess at 0x7fbf8cc684a8>,\n",
       "  UUID('e65e365b-49ea-4433-9790-5a20e4a11e9d'): <lcatools.entities.LcProcess at 0x7fbf8bc18128>,\n",
       "  UUID('46917288-cbee-4fb4-81a0-b213c41b04ff'): <lcatools.entities.LcProcess at 0x7fbf8ce13fd0>,\n",
       "  UUID('3c948699-d4f3-43d7-be5e-2fa9c27f63ea'): <lcatools.entities.LcProcess at 0x7fbf8ce923c8>,\n",
       "  UUID('3fab6763-1fd5-4f97-a245-59ae120b03a8'): <lcatools.entities.LcProcess at 0x7fbf8ceb8d68>,\n",
       "  UUID('e6dc9306-8846-3a36-9385-2b1a57c0b0cc'): <lcatools.entities.LcFlow at 0x7fbf8d23fd30>,\n",
       "  UUID('4096362f-0cde-470e-bdae-210c9c3b4a35'): <lcatools.entities.LcProcess at 0x7fbf8ce48898>,\n",
       "  UUID('a72e7983-329f-4fb7-9b05-77efe97717e4'): <lcatools.entities.LcFlow at 0x7fbf8d2ccdd8>,\n",
       "  UUID('265dfba8-068f-4534-bdb9-c3c18138d911'): <lcatools.entities.LcProcess at 0x7fbf8cffcd68>,\n",
       "  UUID('c7d9baf3-637e-315d-8fd7-3d95ec682597'): <lcatools.entities.LcFlow at 0x7fbf8d24a7f0>,\n",
       "  UUID('40de659b-6023-4755-92aa-f0555bfd4807'): <lcatools.entities.LcProcess at 0x7fbf8ce4ca58>,\n",
       "  UUID('c5b4869c-f131-4a8c-911f-f252cafb2e30'): <lcatools.entities.LcFlow at 0x7fbf8d2bf748>,\n",
       "  UUID('9a269899-50f0-45df-a39f-adbe4a63a4bc'): <lcatools.entities.LcProcess at 0x7fbf8ca32ac8>,\n",
       "  UUID('fef9b288-a6d8-3429-8dfd-6d356d7ae13b'): <lcatools.entities.LcFlow at 0x7fbf8d1a19e8>,\n",
       "  UUID('26f1283d-24a5-46ee-9908-cdd41f60cb4a'): <lcatools.entities.LcProcess at 0x7fbf8d005978>,\n",
       "  UUID('b99d0467-98dd-4f84-b4d2-73601e145ac0'): <lcatools.entities.LcProcess at 0x7fbf8c8b3128>,\n",
       "  UUID('d0e8476a-6d9b-37f1-9cc5-6923fdc1430a'): <lcatools.entities.LcFlow at 0x7fbf8d270208>,\n",
       "  UUID('d2b7905e-76e0-4b03-8a92-282c0b9daa7c'): <lcatools.entities.LcProcess at 0x7fbf8c769908>,\n",
       "  UUID('bfd9572a-7bcd-3827-bb6e-7b9fb6b64161'): <lcatools.entities.LcFlow at 0x7fbf8d2a7898>,\n",
       "  UUID('60cb3842-4b3f-3a4c-9eb1-e6d3854b3055'): <lcatools.entities.LcFlow at 0x7fbf8d3e8e48>,\n",
       "  UUID('f4f4c5df-d8f0-437e-92b0-40f61567cef2'): <lcatools.entities.LcProcess at 0x7fbf8bb4dac8>,\n",
       "  UUID('25169c57-b06b-46da-a879-b73c5edb4bf6'): <lcatools.entities.LcProcess at 0x7fbf8cfefb38>,\n",
       "  UUID('46128ed3-dce4-4932-808c-bcbda8dca589'): <lcatools.entities.LcProcess at 0x7fbf8ce0f978>,\n",
       "  UUID('d5a8e4cf-626a-4764-81d6-8305f3c1477d'): <lcatools.entities.LcProcess at 0x7fbf8c713a58>,\n",
       "  UUID('53709a0d-cee6-35dc-9a2e-41782ee03c2b'): <lcatools.entities.LcFlow at 0x7fbf8d3ee320>,\n",
       "  UUID('b06aa1fe-216e-395e-b544-06ff237a37b9'): <lcatools.entities.LcFlow at 0x7fbf8d2eff98>,\n",
       "  UUID('c9ab45a4-4ff3-3be7-89c3-5b4b8e9b236d'): <lcatools.entities.LcFlow at 0x7fbf8d2547f0>,\n",
       "  UUID('907189bc-3bc5-4fd7-aec4-1f95818183fb'): <lcatools.entities.LcProcess at 0x7fbf8cac6828>,\n",
       "  UUID('c834e7fc-a844-47d0-8950-1c704521916f'): <lcatools.entities.LcProcess at 0x7fbf8c7e8438>,\n",
       "  UUID('8c5f8f92-5167-4618-9540-7ee64d9dd1f8'): <lcatools.entities.LcProcess at 0x7fbf8ca990b8>,\n",
       "  UUID('77f17646-cede-4a49-99dd-55950098b077'): <lcatools.entities.LcFlow at 0x7fbf8d3987b8>,\n",
       "  UUID('dcac227b-8092-4717-8a99-1849353b4c13'): <lcatools.entities.LcProcess at 0x7fbf8c6eb358>,\n",
       "  UUID('c31d5a4a-fd8c-3728-8ee7-d80df469c972'): <lcatools.entities.LcFlow at 0x7fbf8d2b49e8>,\n",
       "  UUID('e97f7d44-3a26-47d9-b97e-1ec2fe31c3e0'): <lcatools.entities.LcProcess at 0x7fbf8bbc2ba8>,\n",
       "  UUID('91c0257c-4fba-4a53-9ab1-01d5922bb028'): <lcatools.entities.LcProcess at 0x7fbf8ca52c18>,\n",
       "  UUID('1d8bf528-6c55-43ea-85bf-1d54f077638f'): <lcatools.entities.LcProcess at 0x7fbf8d017d68>,\n",
       "  UUID('c0b023d3-51f1-4948-b5d1-d5b68325e0b2'): <lcatools.entities.LcProcess at 0x7fbf8c80ca58>,\n",
       "  UUID('20616222-849e-47ea-8397-90e5a9db4390'): <lcatools.entities.LcProcess at 0x7fbf8d03d198>,\n",
       "  UUID('2546d0dd-1df2-4812-91b2-b9682d574252'): <lcatools.entities.LcProcess at 0x7fbf8cff4898>,\n",
       "  UUID('37214ec3-3153-44ab-a2ba-76497db15d86'): <lcatools.entities.LcProcess at 0x7fbf8ceca278>,\n",
       "  UUID('f652465e-a2cb-4991-ab59-a5beffa034c6'): <lcatools.entities.LcProcess at 0x7fbf8bb5f748>,\n",
       "  UUID('c82e9bcf-c4f4-4c19-8031-05581eafcd75'): <lcatools.entities.LcProcess at 0x7fbf8c7e8358>,\n",
       "  UUID('53fc7ec9-1b3f-4d89-ade6-8ca2934c1695'): <lcatools.entities.LcFlow at 0x7fbf8d40dcf8>,\n",
       "  UUID('267b1c9d-e87c-4c0f-9e60-8b65ab022272'): <lcatools.entities.LcProcess at 0x7fbf8d0002e8>,\n",
       "  UUID('faf4d720-12a6-4e6c-8c36-009f8921498a'): <lcatools.entities.LcProcess at 0x7fbf8bb1a978>,\n",
       "  UUID('8ee3a13a-88dc-449f-8fda-16ce03abddda'): <lcatools.entities.LcProcess at 0x7fbf8cab5908>,\n",
       "  UUID('99aae4ff-8af6-4f08-bfd4-0f984a800a95'): <lcatools.entities.LcProcess at 0x7fbf8ca2e9e8>,\n",
       "  UUID('433b7f0b-719f-4625-bd45-45e35d32d1c4'): <lcatools.entities.LcProcess at 0x7fbf8ce66c18>,\n",
       "  UUID('c2fadad4-54e7-368c-a429-c77da398ce6e'): <lcatools.entities.LcFlow at 0x7fbf8d2b45f8>,\n",
       "  UUID('fafb5833-9786-4ed8-98ff-0f47bbc78c01'): <lcatools.entities.LcProcess at 0x7fbf8bb1ac18>,\n",
       "  UUID('94bd83b7-230d-32ea-8584-ce8fb505eb8c'): <lcatools.entities.LcFlow at 0x7fbf8d4b5e10>,\n",
       "  UUID('8b5fc8c5-b3d7-41bc-8aa8-a848aacbb27a'): <lcatools.entities.LcProcess at 0x7fbf8ca87e48>,\n",
       "  UUID('efd1f1ad-75d4-4543-8a95-0d7d487480d4'): <lcatools.entities.LcProcess at 0x7fbf8bb92518>,\n",
       "  UUID('9b39fc8b-0345-398c-87e6-c2c6c8a4367f'): <lcatools.entities.LcFlow at 0x7fbf8d441ef0>,\n",
       "  UUID('27ce46e1-c07c-4642-811e-27da038450ee'): <lcatools.entities.LcProcess at 0x7fbf8cf8deb8>,\n",
       "  UUID('59125647-3408-33e2-8e64-46a3786be3e2'): <lcatools.entities.LcFlow at 0x7fbf8d421860>,\n",
       "  UUID('fa89a015-27ba-40f5-b847-066f85037b22'): <lcatools.entities.LcProcess at 0x7fbf8bb169e8>,\n",
       "  UUID('9add4d7a-42be-3136-bb66-92218bd5f936'): <lcatools.entities.LcQuantity at 0x7fbf8bc76400>,\n",
       "  UUID('8fe0d2dc-6032-3f67-8883-2127044cbc89'): <lcatools.entities.LcQuantity at 0x7fbf8d54bf60>,\n",
       "  UUID('1b8d5681-043d-35c8-811b-af0dce06d4ca'): <lcatools.entities.LcQuantity at 0x7fbf8bc74940>,\n",
       "  UUID('a633f4a4-9d8f-406b-b35b-5571aa705252'): <lcatools.entities.LcProcess at 0x7fbf8c948ac8>,\n",
       "  UUID('31c8762c-81c2-47be-8408-29fbcb79c518'): <lcatools.entities.LcProcess at 0x7fbf8cf0c588>,\n",
       "  UUID('08769e20-fc44-34f6-922a-3d3a6950db65'): <lcatools.entities.LcFlow at 0x7fbf8d570cf8>,\n",
       "  UUID('2ccdc3fd-73eb-4e5b-8055-66d2a7d99035'): <lcatools.entities.LcProcess at 0x7fbf8cf4c9e8>,\n",
       "  UUID('e9ba96f7-a40f-4d43-8f14-0abeaa420096'): <lcatools.entities.LcProcess at 0x7fbf8bbc6668>,\n",
       "  UUID('a3af0dbe-cd44-4223-8bff-e4fa8cfd3a68'): <lcatools.entities.LcProcess at 0x7fbf8c9ae198>,\n",
       "  UUID('440a5cfa-3079-3cb0-9bd0-fbc17ce19d8c'): <lcatools.entities.LcFlow at 0x7fbf8d3e0f98>,\n",
       "  UUID('67bd37f1-79c4-3551-8962-531818f2afe9'): <lcatools.entities.LcFlow at 0x7fbf8d3d6c50>,\n",
       "  UUID('a1167d10-bfee-4495-8c3e-e6680d720092'): <lcatools.entities.LcProcess at 0x7fbf8c98bba8>,\n",
       "  UUID('862e8a37-3ae1-4401-973c-d9c4388fe2f9'): <lcatools.entities.LcProcess at 0x7fbf8cb44c88>,\n",
       "  UUID('90fd7a49-8e9b-4168-9447-e5319626f7c0'): <lcatools.entities.LcProcess at 0x7fbf8ca4f5f8>,\n",
       "  UUID('8d31bf74-42a5-38b7-9399-fc708632bd4a'): <lcatools.entities.LcFlow at 0x7fbf8d36b470>,\n",
       "  UUID('ff3ad1ee-face-4784-8fac-9b3e734246c6'): <lcatools.entities.LcProcess at 0x7fbf8baccc88>,\n",
       "  UUID('496e1a62-1e23-4a0c-b95f-914f29b7b2b3'): <lcatools.entities.LcProcess at 0x7fbf8ce38278>,\n",
       "  UUID('42aa8df7-4afc-3b66-8bdc-c15fc571a7e7'): <lcatools.entities.LcFlow at 0x7fbf8d44e320>,\n",
       "  UUID('398ff31a-d870-4542-8ce0-9fea0e7d8110'): <lcatools.entities.LcFlow at 0x7fbf8d4ace48>,\n",
       "  UUID('788abc1b-64cb-42b1-861c-328b689d6d84'): <lcatools.entities.LcProcess at 0x7fbf8cb997b8>,\n",
       "  UUID('f0161cdb-501f-4711-b999-056432c09d14'): <lcatools.entities.LcProcess at 0x7fbf8bb96278>,\n",
       "  UUID('3dc11046-cef9-4d10-a586-abfa111c97f4'): <lcatools.entities.LcProcess at 0x7fbf8cea34a8>,\n",
       "  UUID('6e34195f-0d51-4c32-8196-c6f4fb202183'): <lcatools.entities.LcProcess at 0x7fbf8cc0cd68>,\n",
       "  UUID('0b3c97a2-5379-4d50-842a-8b5039b998ad'): <lcatools.entities.LcProcess at 0x7fbf8d135198>,\n",
       "  UUID('b224c47a-c5b9-443c-9ccc-ba05f84be123'): <lcatools.entities.LcProcess at 0x7fbf8c8d6908>,\n",
       "  UUID('7d4b2bb8-b499-4537-a5b0-abfa1111595b'): <lcatools.entities.LcProcess at 0x7fbf8cb54898>,\n",
       "  UUID('b9fafb9d-baa9-46c9-82b3-6e157daccc07'): <lcatools.entities.LcProcess at 0x7fbf8c8b7208>,\n",
       "  UUID('8bd30246-74ef-45f1-bb64-d2ce1ae0d389'): <lcatools.entities.LcProcess at 0x7fbf8ca8bf98>,\n",
       "  UUID('ed586435-5ab3-4610-a044-7cd4457c527a'): <lcatools.entities.LcProcess at 0x7fbf8bbf4748>,\n",
       "  UUID('b81ef78e-257b-4e36-93aa-639fade69159'): <lcatools.entities.LcProcess at 0x7fbf8c89feb8>,\n",
       "  UUID('de924c8d-34bd-48d8-aabb-fc2e4746bc40'): <lcatools.entities.LcProcess at 0x7fbf8c700eb8>,\n",
       "  UUID('ac2dd94a-c633-354c-b7d9-d1df330858ad'): <lcatools.entities.LcFlow at 0x7fbf8d35d860>,\n",
       "  UUID('d7e0d680-7edc-48e1-9935-515fde043bfc'): <lcatools.entities.LcProcess at 0x7fbf8c7302e8>,\n",
       "  UUID('239c5acf-e07b-4f43-9a6c-8f2aec6b891a'): <lcatools.entities.LcProcess at 0x7fbf8cfdeb38>,\n",
       "  UUID('07a6b274-be8e-331e-a87c-4289e8336a49'): <lcatools.entities.LcFlow at 0x7fbf8d56cf98>,\n",
       "  UUID('1f59be74-e301-4ab6-830a-b90529d02d86'): <lcatools.entities.LcProcess at 0x7fbf8d030a58>,\n",
       "  UUID('ed831982-0960-4faa-b29e-d824474914cb'): <lcatools.entities.LcProcess at 0x7fbf8bbf9128>,\n",
       "  UUID('4611422f-a545-4f4b-a724-f995c86308d7'): <lcatools.entities.LcProcess at 0x7fbf8ce0f7b8>,\n",
       "  UUID('7d12e7ec-7d14-31d7-a326-62c6fca4746a'): <lcatools.entities.LcFlow at 0x7fbf8d3ad828>,\n",
       "  UUID('52754e58-57d7-4e48-9385-88dabd00b212'): <lcatools.entities.LcProcess at 0x7fbf8cda9438>,\n",
       "  UUID('302fe86c-32ec-3d1f-b194-c051a37b9a41'): <lcatools.entities.LcFlow at 0x7fbf8d505ef0>,\n",
       "  UUID('b09b8b48-c431-3100-a303-71da34fd7b1b'): <lcatools.entities.LcFlow at 0x7fbf8d2f37f0>,\n",
       "  UUID('60cc9578-966f-4e9a-94a3-91661f1760f6'): <lcatools.entities.LcProcess at 0x7fbf8ccdef98>,\n",
       "  UUID('6d458886-3314-46a3-9c9e-0f8b1cce4e16'): <lcatools.entities.LcProcess at 0x7fbf8cc809e8>,\n",
       "  UUID('6ca8ae3d-3d5a-4d0e-9926-062d85be1ac2'): <lcatools.entities.LcProcess at 0x7fbf8cc78908>,\n",
       "  UUID('cb5d479f-9276-4f63-b881-5a287351990b'): <lcatools.entities.LcProcess at 0x7fbf8c792668>,\n",
       "  UUID('899692cf-4f7f-3119-a3c9-a0a6bc097a65'): <lcatools.entities.LcFlow at 0x7fbf8d35dba8>,\n",
       "  UUID('4c0a6227-af22-45cb-b75b-b276ce0e4d47'): <lcatools.entities.LcFlow at 0x7fbf8d471c50>,\n",
       "  UUID('0bfd030c-d491-4db6-b04c-11dcf87c159f'): <lcatools.entities.LcProcess at 0x7fbf8d13e2e8>,\n",
       "  UUID('e6a72202-9d07-45fc-921b-e5d91a3db179'): <lcatools.entities.LcProcess at 0x7fbf8bc18f28>,\n",
       "  UUID('8c22bea6-c86a-4d60-8857-5a13439b1832'): <lcatools.entities.LcProcess at 0x7fbf8ca94358>,\n",
       "  UUID('b47d5398-46c8-4296-b66c-23584e51f6f3'): <lcatools.entities.LcProcess at 0x7fbf8c8f49e8>,\n",
       "  UUID('51d9c622-b8b5-435b-bca0-ebc6de67479c'): <lcatools.entities.LcProcess at 0x7fbf8cda0dd8>,\n",
       "  UUID('8c6412f6-e293-499a-897a-e33e3774b665'): <lcatools.entities.LcFlow at 0x7fbf8d368710>,\n",
       "  UUID('98b0b2a5-8c73-4cf0-be04-a6a4e8889bb1'): <lcatools.entities.LcFlow at 0x7fbf8d312b38>,\n",
       "  UUID('a175c7c0-00f6-45c2-b843-bf0286ffd522'): <lcatools.entities.LcProcess at 0x7fbf8c9913c8>,\n",
       "  UUID('10505edc-7a4e-45f6-bfad-77325ff890d6'): <lcatools.entities.LcProcess at 0x7fbf8d0ec0b8>,\n",
       "  UUID('9b618fa8-a119-379d-a937-596878c3c650'): <lcatools.entities.LcQuantity at 0x7fbf8bc638d0>,\n",
       "  UUID('f396776b-1ce8-46da-9bba-db261e30cc55'): <lcatools.entities.LcProcess at 0x7fbf8bb41198>,\n",
       "  UUID('f5e1bc32-7aae-43ad-98b9-5637f4d22da4'): <lcatools.entities.LcProcess at 0x7fbf8bb5b978>,\n",
       "  UUID('a9c1bbea-8e44-4e8a-a72c-f11105a08ee9'): <lcatools.entities.LcProcess at 0x7fbf8c97a518>,\n",
       "  UUID('33708815-0cd6-47e0-bc3f-60e6b348c457'): <lcatools.entities.LcProcess at 0x7fbf8cf1c6d8>,\n",
       "  UUID('ee713352-44d3-4f2a-a170-9a4fb2835c76'): <lcatools.entities.LcProcess at 0x7fbf8bb81898>,\n",
       "  UUID('bc82ecf1-1ee5-31f6-92e9-2e0a10bc7388'): <lcatools.entities.LcFlow at 0x7fbf8d29c358>,\n",
       "  UUID('0f907765-2a94-48a8-8978-55a2757d3e24'): <lcatools.entities.LcFlow at 0x7fbf8d50bba8>,\n",
       "  UUID('556577b0-7628-4a89-9dd6-8324ceb12f0b'): <lcatools.entities.LcProcess at 0x7fbf8cd4eac8>,\n",
       "  UUID('7ec99d5c-3b11-3f81-996b-bf4566e60743'): <lcatools.entities.LcFlow at 0x7fbf8d3b10f0>,\n",
       "  UUID('d2b6a9e8-c003-3e14-b8fe-b78e6bb89296'): <lcatools.entities.LcFlow at 0x7fbf8d276940>,\n",
       "  UUID('ac16017f-c4cb-4b0b-835b-12bf9fa9a80c'): <lcatools.entities.LcProcess at 0x7fbf8c913518>,\n",
       "  UUID('6839cf65-f7be-36a2-a145-d57a42bdce45'): <lcatools.entities.LcFlow at 0x7fbf8d3d9710>,\n",
       "  UUID('160dc0a7-b77c-4d39-815e-56eaf1cc99a4'): <lcatools.entities.LcProcess at 0x7fbf8d0b5898>,\n",
       "  UUID('0d3be121-ccac-4832-9cbd-9df111b1c1de'): <lcatools.entities.LcProcess at 0x7fbf8d0cb978>,\n",
       "  UUID('9e1e23cf-72b6-32e3-b29e-64291abfec35'): <lcatools.entities.LcQuantity at 0x7fbf8d5af4e0>,\n",
       "  UUID('3613983a-957e-3046-b2f0-2db9c73d013a'): <lcatools.entities.LcFlow at 0x7fbf8d4fbef0>,\n",
       "  UUID('ec2667e9-2e1d-4d8c-827c-a280223a3ceb'): <lcatools.entities.LcProcess at 0x7fbf8bbe0fd0>,\n",
       "  UUID('15057e97-7b47-405e-8222-6ed5cf4e0087'): <lcatools.entities.LcFlow at 0x7fbf8d5207b8>,\n",
       "  UUID('8695ce58-8318-4ef6-ac78-9ac339e08baa'): <lcatools.entities.LcProcess at 0x7fbf8cacd2e8>,\n",
       "  UUID('3c54adda-7149-44c1-a109-26ecb21ddd68'): <lcatools.entities.LcProcess at 0x7fbf8ce8e3c8>,\n",
       "  UUID('a3fdab09-749b-4a30-b830-799f9bd3b1d7'): <lcatools.entities.LcProcess at 0x7fbf8c9aecf8>,\n",
       "  UUID('eaf0f01e-9abe-4630-8377-dddb5fc63983'): <lcatools.entities.LcProcess at 0x7fbf8bbd3c88>,\n",
       "  UUID('8485e0d8-3a0c-4f4c-a151-263646ea5b66'): <lcatools.entities.LcProcess at 0x7fbf8cb2fdd8>,\n",
       "  UUID('877f50e6-f3a2-412c-be7c-b2cda27da1bb'): <lcatools.entities.LcProcess at 0x7fbf8cad9438>,\n",
       "  UUID('cd8743da-fee8-3289-ba39-259fe6c66f0e'): <lcatools.entities.LcFlow at 0x7fbf8d262940>,\n",
       "  UUID('1e80e6ce-7e02-35cf-85a9-0dc9728a550d'): <lcatools.entities.LcFlow at 0x7fbf8d4a1b00>,\n",
       "  UUID('9577f6bb-40e3-47bf-afae-4d5430574572'): <lcatools.entities.LcProcess at 0x7fbf8ca79dd8>,\n",
       "  UUID('87ad80b7-0f62-42cb-9017-14a00e117f70'): <lcatools.entities.LcProcess at 0x7fbf8cad9a58>,\n",
       "  UUID('e145611b-bcce-4fdb-87b0-fa59d4fa8482'): <lcatools.entities.LcProcess at 0x7fbf8c6a1e48>,\n",
       "  UUID('b1258b9a-5d59-42a5-a3dd-a6886f93ee3e'): <lcatools.entities.LcProcess at 0x7fbf8c8ce278>,\n",
       "  UUID('8f748994-0424-4a23-9b1d-cb0c67223965'): <lcatools.entities.LcProcess at 0x7fbf8cab9e48>,\n",
       "  UUID('affaa6bf-0d9f-3007-b5b9-2d7d2dc30332'): <lcatools.entities.LcFlow at 0x7fbf8d2ef898>,\n",
       "  UUID('a2b5b5e3-66e4-4e0f-a174-5746050a92f9'): <lcatools.entities.LcProcess at 0x7fbf8c9a2748>,\n",
       "  UUID('f1a637d9-f78f-4165-bb74-f33872131fdb'): <lcatools.entities.LcProcess at 0x7fbf8bba8d68>,\n",
       "  UUID('91b5f2b2-ad13-4c39-87a5-599c80cca1b3'): <lcatools.entities.LcProcess at 0x7fbf8ca52a58>,\n",
       "  UUID('5c626a2c-a3fe-3f59-991e-68f8c52c08c2'): <lcatools.entities.LcQuantity at 0x7fbf8d5be940>,\n",
       "  UUID('c526423e-3de7-482d-9f75-387c2f653ea3'): <lcatools.entities.LcProcess at 0x7fbf8c842208>,\n",
       "  UUID('95b35e8c-a077-40ef-9735-86041d757c05'): <lcatools.entities.LcProcess at 0x7fbf8ca7cc18>,\n",
       "  UUID('158fda44-ad44-459b-ae92-a55ac466d6c6'): <lcatools.entities.LcProcess at 0x7fbf8d0ac5f8>,\n",
       "  UUID('bc552ddf-3f8e-3a70-8771-9116d65faff6'): <lcatools.entities.LcFlow at 0x7fbf8d299f28>,\n",
       "  UUID('b586f24c-fff6-45c0-8e62-21e30d8a2ecc'): <lcatools.entities.LcProcess at 0x7fbf8c901a58>,\n",
       "  UUID('a9fde026-9fff-4fe6-b6c0-6f2e0688cfec'): <lcatools.entities.LcProcess at 0x7fbf8c97af98>,\n",
       "  UUID('1728d4c2-0420-4198-a525-8408564d76e3'): <lcatools.entities.LcProcess at 0x7fbf8d0c5f98>,\n",
       "  UUID('8110be93-7e42-3841-b2c9-f04bd82ffe70'): <lcatools.entities.LcFlow at 0x7fbf8d502518>,\n",
       "  UUID('4d554982-b10b-4fee-8b99-35b1df33842b'): <lcatools.entities.LcProcess at 0x7fbf8cde6f28>,\n",
       "  UUID('5312a83b-5ec4-4e4d-9c19-49688c301132'): <lcatools.entities.LcProcess at 0x7fbf8cdb12e8>,\n",
       "  UUID('1c89c293-01dc-42df-928b-6a888ffd6cb3'): <lcatools.entities.LcProcess at 0x7fbf8d00b748>,\n",
       "  UUID('33e20170-ba8e-3141-b49a-f720f5c1799d'): <lcatools.entities.LcFlow at 0x7fbf8d496320>,\n",
       "  UUID('8ae75ee2-437e-4725-bf2f-eb6b635584bf'): <lcatools.entities.LcProcess at 0x7fbf8cb03b38>,\n",
       "  UUID('35b1d8d3-16c5-425f-8b96-6ecb960270b1'): <lcatools.entities.LcProcess at 0x7fbf8cf35668>,\n",
       "  UUID('1c2db32e-0175-4ca3-b6f8-19d73341f14b'): <lcatools.entities.LcProcess at 0x7fbf8d007b38>,\n",
       "  UUID('16fa193d-5918-4027-a5c1-277a1a45027a'): <lcatools.entities.LcProcess at 0x7fbf8d0c50b8>,\n",
       "  UUID('4bcb47ea-8b87-3a2b-bd98-82962859e3f7'): <lcatools.entities.LcFlow at 0x7fbf8d52ea58>,\n",
       "  UUID('2e1f2c63-382c-4633-ab51-4ab11c08a44d'): <lcatools.entities.LcProcess at 0x7fbf8cf612e8>,\n",
       "  UUID('efd9d8d6-f54a-3f90-ae1d-b93467e806ff'): <lcatools.entities.LcFlow at 0x7fbf8d1e5b38>,\n",
       "  UUID('5f157600-b231-4bf0-84f7-dfa9bbea815a'): <lcatools.entities.LcProcess at 0x7fbf8ccc90b8>,\n",
       "  UUID('45c6ddb0-bccb-342c-86f5-3518c28b6250'): <lcatools.entities.LcFlow at 0x7fbf8d458f98>,\n",
       "  UUID('3c8e32bd-a798-4d1e-a69d-a38352051ac2'): <lcatools.entities.LcProcess at 0x7fbf8ce8efd0>,\n",
       "  UUID('40dab063-d9bb-4e76-85c7-e98b22961003'): <lcatools.entities.LcProcess at 0x7fbf8ce4c828>,\n",
       "  UUID('2246d50c-7107-4aa7-b21b-25de3a9f2e84'): <lcatools.entities.LcProcess at 0x7fbf8cfcdc88>,\n",
       "  UUID('fb82e7a4-2dfb-4a1f-95e0-1d9be01344bc'): <lcatools.entities.LcProcess at 0x7fbf8bb229e8>,\n",
       "  UUID('645025b3-bcb2-37c8-814a-1cbadd39c570'): <lcatools.entities.LcFlow at 0x7fbf8d2e4898>,\n",
       "  UUID('71040edc-f25f-3c43-8f2c-0812c1ae2197'): <lcatools.entities.LcFlow at 0x7fbf8d400668>,\n",
       "  UUID('937b773e-d066-4c4c-bc45-b0a221262147'): <lcatools.entities.LcProcess at 0x7fbf8ca64e48>,\n",
       "  UUID('7b40c168-2ced-325b-9189-d6f0bdf6f0d8'): <lcatools.entities.LcFlow at 0x7fbf8d3a6978>,\n",
       "  UUID('2131bf29-ae86-4df5-b74b-36031a29bb98'): <lcatools.entities.LcProcess at 0x7fbf8d0453c8>,\n",
       "  UUID('736f52e8-9703-4076-8909-7ae80a7f8005'): <lcatools.entities.LcFlow at 0x7fbf8d387908>,\n",
       "  UUID('400d704f-8a30-300e-aad5-a8e855038352'): <lcatools.entities.LcQuantity at 0x7fbf8bc76240>,\n",
       "  UUID('c5890abc-4b51-4ae2-98b3-5b18bacd695e'): <lcatools.entities.LcProcess at 0x7fbf8c7c7ba8>,\n",
       "  UUID('b1bf3bc3-f395-32b3-97ec-24c4cf606e11'): <lcatools.entities.LcFlow at 0x7fbf8d3ea9b0>,\n",
       "  UUID('2e2ffa9a-49e7-4373-8684-a8f68179e835'): <lcatools.entities.LcProcess at 0x7fbf8cf614a8>,\n",
       "  UUID('70607be7-25d1-4419-953c-abfa110b5fbd'): <lcatools.entities.LcProcess at 0x7fbf8cc2f518>,\n",
       "  UUID('548eef20-a304-4bc6-8f6b-04300a102597'): <lcatools.entities.LcProcess at 0x7fbf8cdc1b38>,\n",
       "  UUID('a1ed11ff-27b7-41b1-890a-6af0b8559d9c'): <lcatools.entities.LcProcess at 0x7fbf8c99a358>,\n",
       "  UUID('1cf3e001-005f-4f4e-8ee7-57fde7055b80'): <lcatools.entities.LcProcess at 0x7fbf8d010c88>,\n",
       "  UUID('5702baab-f2f8-36c0-9a8d-f426fb26cdcc'): <lcatools.entities.LcFlow at 0x7fbf8d338a90>,\n",
       "  UUID('08e75d45-94f3-482b-aee7-9795c5864288'): <lcatools.entities.LcProcess at 0x7fbf8d115438>,\n",
       "  UUID('2933d304-f208-40d9-a511-5b706e54fd13'): <lcatools.entities.LcProcess at 0x7fbf8cfa2278>,\n",
       "  UUID('995c3826-ec56-41a2-bd68-f48974e723a5'): <lcatools.entities.LcProcess at 0x7fbf8ca2e278>,\n",
       "  UUID('f0ce3084-14b1-355e-8722-68cd189dd8bf'): <lcatools.entities.LcFlow at 0x7fbf8d1e9d30>,\n",
       "  UUID('e00024de-af68-36df-9f6c-119fc1ddccbd'): <lcatools.entities.LcFlow at 0x7fbf8d4d8ef0>,\n",
       "  UUID('e8726228-9652-3561-97d4-65225efad8af'): <lcatools.entities.LcFlow at 0x7fbf8d246d30>,\n",
       "  UUID('e7f30686-ac74-35af-b9cf-065dc4d65640'): <lcatools.entities.LcFlow at 0x7fbf8d37a668>,\n",
       "  UUID('29a60fb4-c26b-4201-b9d0-d0e24587f3e3'): <lcatools.entities.LcProcess at 0x7fbf8cfa7208>,\n",
       "  UUID('b28480e4-639c-49b0-883e-d02aa7c3364c'): <lcatools.entities.LcProcess at 0x7fbf8c8dafd0>,\n",
       "  UUID('31c4d160-b21e-41b3-b9c1-3d7a72377653'): <lcatools.entities.LcFlow at 0x7fbf8d48d7b8>,\n",
       "  UUID('92fd7a02-03a5-449a-ba63-3cbd929f5f04'): <lcatools.entities.LcProcess at 0x7fbf8ca60908>,\n",
       "  UUID('127408f0-8849-39b3-a49a-bd589910b660'): <lcatools.entities.LcFlow at 0x7fbf8d5167b8>,\n",
       "  UUID('10455028-a250-4ee6-9c91-c3c6ae630ccb'): <lcatools.entities.LcProcess at 0x7fbf8d0e8eb8>,\n",
       "  UUID('680b48c1-79f1-4d06-ac60-2a8316201bb5'): <lcatools.entities.LcProcess at 0x7fbf8ccbaf28>,\n",
       "  UUID('7d9c37ca-d1d8-3e6c-8fe9-6c0bd48d1082'): <lcatools.entities.LcFlow at 0x7fbf8d3b1198>,\n",
       "  UUID('b39cfa44-0b96-35b8-b80c-8a12b99fd615'): <lcatools.entities.LcFlow at 0x7fbf8d2b8208>,\n",
       "  UUID('a0777e28-3e19-4ea9-b0f7-04fe8e128e93'): <lcatools.entities.LcProcess at 0x7fbf8ca02eb8>,\n",
       "  UUID('e59bcc70-3771-403c-98f9-ca34e5b9edd0'): <lcatools.entities.LcProcess at 0x7fbf8bc10208>,\n",
       "  UUID('12ca1bae-dc00-4971-8e81-5decb3e1387a'): <lcatools.entities.LcProcess at 0x7fbf8d08a908>,\n",
       "  UUID('73e4f2bd-4abe-43f3-8ca3-8288644f6456'): <lcatools.entities.LcProcess at 0x7fbf8cbdb588>,\n",
       "  UUID('5e62ca82-5a6a-4f57-904c-984573f43084'): <lcatools.entities.LcProcess at 0x7fbf8cd403c8>,\n",
       "  UUID('fe5261c4-6396-46df-b769-01997b5e7f2f'): <lcatools.entities.LcProcess at 0x7fbf8bac0f98>,\n",
       "  UUID('7dcf13a1-e7d0-3b65-8b84-fa353adaa8c9'): <lcatools.entities.LcFlow at 0x7fbf8d4ecef0>,\n",
       "  UUID('2e3abebe-447d-43d6-92ae-3426359fe555'): <lcatools.entities.LcProcess at 0x7fbf8cf61ac8>,\n",
       "  UUID('fce82d15-03c6-4279-8c79-bbaa1ad18d42'): <lcatools.entities.LcProcess at 0x7fbf8bb34128>,\n",
       "  UUID('409e0d16-8489-4f51-8434-7affb402897c'): <lcatools.entities.LcProcess at 0x7fbf8ce48b38>,\n",
       "  UUID('8604743d-2007-4f5e-843b-56bfde648552'): <lcatools.entities.LcProcess at 0x7fbf8cb444a8>,\n",
       "  UUID('d159d70c-3b64-47f1-9a08-ef8dca43f2ee'): <lcatools.entities.LcProcess at 0x7fbf8c759828>,\n",
       "  UUID('dd191939-5e10-3d7f-a069-acb78a0317eb'): <lcatools.entities.LcFlow at 0x7fbf8d21af28>,\n",
       "  UUID('eb641ab9-22fc-4eec-9dc4-0cc7a9f88596'): <lcatools.entities.LcProcess at 0x7fbf8bbd8d68>,\n",
       "  UUID('2df4ca87-3aa6-4c7d-8cf5-66e0d0b9202f'): <lcatools.entities.LcProcess at 0x7fbf8cf5c828>,\n",
       "  UUID('6be35881-92d1-4966-9522-e492c15507a4'): <lcatools.entities.LcProcess at 0x7fbf8cc6c908>,\n",
       "  UUID('a6adec5a-2a57-4016-b8be-8a2149e80349'): <lcatools.entities.LcProcess at 0x7fbf8c950b38>,\n",
       "  UUID('82682001-65bf-4dea-9b2a-2eba5d8914b5'): <lcatools.entities.LcProcess at 0x7fbf8cb16978>,\n",
       "  UUID('de4f4ffd-9a98-4bee-990d-f619b2c2de4f'): <lcatools.entities.LcProcess at 0x7fbf8c7006d8>,\n",
       "  UUID('31509863-6b3d-3e04-98b2-ad15927e13fb'): <lcatools.entities.LcFlow at 0x7fbf8d208d30>,\n",
       "  UUID('a0c933e1-c42e-4267-90bd-d1ddbaf4ed4e'): <lcatools.entities.LcProcess at 0x7fbf8ca06fd0>,\n",
       "  UUID('3ce3b6b7-f658-4b81-ab8c-2622be1aa812'): <lcatools.entities.LcProcess at 0x7fbf8ce967b8>,\n",
       "  UUID('0fe89470-4815-4ad4-9ebf-c772d4ca2d89'): <lcatools.entities.LcProcess at 0x7fbf8d0e8198>,\n",
       "  UUID('decc1c03-8cf7-4086-a024-cf448c4effc8'): <lcatools.entities.LcProcess at 0x7fbf8c704b38>,\n",
       "  UUID('a3ddfd0a-4da1-4fe2-bfcf-0d21eb132c20'): <lcatools.entities.LcProcess at 0x7fbf8c9ae6d8>,\n",
       "  UUID('03ecb329-cdf8-3a36-ab9e-d44ecb94b281'): <lcatools.entities.LcFlow at 0x7fbf8d508668>,\n",
       "  UUID('c9664931-84ac-351c-94e8-3a071fb2db21'): <lcatools.entities.LcQuantity at 0x7fbf8d5a24e0>,\n",
       "  UUID('d05c440b-be62-418d-bdff-20f0140a6da3'): <lcatools.entities.LcProcess at 0x7fbf8c74de48>,\n",
       "  UUID('84c6a369-1606-4be5-8f84-07e7f1ff24ed'): <lcatools.entities.LcProcess at 0x7fbf8cb33668>,\n",
       "  UUID('566f9f53-e549-42cf-9847-2ebc000713ed'): <lcatools.entities.LcProcess at 0x7fbf8cd5b908>,\n",
       "  UUID('a4ac5e66-90b9-4db3-be28-76f739c12843'): <lcatools.entities.LcProcess at 0x7fbf8c9b7a58>,\n",
       "  UUID('49b93047-44b3-4951-989b-08db55bb399f'): <lcatools.entities.LcProcess at 0x7fbf8ce3c668>,\n",
       "  UUID('93462c72-0d03-4841-8ad1-a02792c6420e'): <lcatools.entities.LcProcess at 0x7fbf8ca642e8>,\n",
       "  UUID('5eb83a2e-9404-40b1-8b70-f386fa207e9c'): <lcatools.entities.LcProcess at 0x7fbf8cd445f8>,\n",
       "  UUID('11a95de9-7dc1-3bd0-bc47-46639570a5bb'): <lcatools.entities.LcFlow at 0x7fbf8d513ba8>,\n",
       "  UUID('7152648b-17e1-3b9a-ab82-caa6d21ca755'): <lcatools.entities.LcFlow at 0x7fbf8d44b3c8>,\n",
       "  UUID('d160e326-42c6-485e-9227-bf23896d411f'): <lcatools.entities.LcProcess at 0x7fbf8c759ac8>,\n",
       "  UUID('bc86067c-20e8-46e7-8419-de1eee73ccdd'): <lcatools.entities.LcFlow at 0x7fbf8d29c400>,\n",
       "  UUID('8c3c9394-4e15-482c-8323-575b48a47f30'): <lcatools.entities.LcProcess at 0x7fbf8ca947b8>,\n",
       "  UUID('0b1c711f-15e6-4fa9-9b11-aef31d2886ff'): <lcatools.entities.LcProcess at 0x7fbf8d132a58>,\n",
       "  UUID('7d801511-e5ab-405e-a869-c74326d0d2f9'): <lcatools.entities.LcProcess at 0x7fbf8cb58518>,\n",
       "  UUID('9b1991e4-f4b3-380e-ba0c-55f7a61e43b4'): <lcatools.entities.LcFlow at 0x7fbf8d19e400>,\n",
       "  UUID('7ca180e4-6782-3e18-81c5-4b0cea591d60'): <lcatools.entities.LcFlow at 0x7fbf8d41f128>,\n",
       "  UUID('7ed3398d-19cd-3a6a-8aaf-5d7f1b7730df'): <lcatools.entities.LcFlow at 0x7fbf8d3b3470>,\n",
       "  UUID('7567e592-ecfa-467b-9f11-19f11786505b'): <lcatools.entities.LcFlow at 0x7fbf8d38da58>,\n",
       "  UUID('eb7ec3a4-ae29-4698-a1ce-6ffb6e5acf57'): <lcatools.entities.LcProcess at 0x7fbf8bbdc668>,\n",
       "  UUID('e69f2c14-b787-4cd7-a9bc-a07b6ba259c3'): <lcatools.entities.LcProcess at 0x7fbf8bc18c88>,\n",
       "  UUID('8da74d3f-1a3e-3b8d-96e0-dbcbb5cfa7ca'): <lcatools.entities.LcQuantity at 0x7fbf8d5b9f60>,\n",
       "  UUID('62bbe80e-264d-34fd-a05c-35471f645c58'): <lcatools.entities.LcFlow at 0x7fbf8d3d2320>,\n",
       "  UUID('a0c8976d-b301-4940-a809-0b70ddd13a31'): <lcatools.entities.LcProcess at 0x7fbf8ca06f28>,\n",
       "  UUID('a7d4925e-3fc9-4324-b06e-ab340d136b13'): <lcatools.entities.LcProcess at 0x7fbf8c961828>,\n",
       "  UUID('dd5a3fd7-4794-3dbf-8786-76b5f8269631'): <lcatools.entities.LcFlow at 0x7fbf8d21c6a0>,\n",
       "  UUID('a230c8f3-ea35-3cfd-a85e-fad845c51c50'): <lcatools.entities.LcFlow at 0x7fbf8d33b5f8>,\n",
       "  UUID('bd4612ca-97f7-345b-bcec-642ec876154b'): <lcatools.entities.LcFlow at 0x7fbf8d3c1f60>,\n",
       "  UUID('d93305c8-e0fb-4a2a-8acf-59384bdbb2e0'): <lcatools.entities.LcProcess at 0x7fbf8c73dba8>,\n",
       "  UUID('945a993c-89fb-4298-a0ae-4875beaaef81'): <lcatools.entities.LcProcess at 0x7fbf8ca706d8>,\n",
       "  UUID('f0fb5b72-294e-4d86-b433-883e5f6e97fd'): <lcatools.entities.LcFlow at 0x7fbf8d1e9fd0>,\n",
       "  UUID('b9ad020a-f15f-445b-b36e-ddaa029c6163'): <lcatools.entities.LcProcess at 0x7fbf8c8b33c8>,\n",
       "  UUID('05d4f5d4-d110-30f3-b2b6-a34e3ac17cd1'): <lcatools.entities.LcFlow at 0x7fbf8d565ba8>,\n",
       "  UUID('63ff5f60-831e-435a-9d42-ad2faf5a6985'): <lcatools.entities.LcProcess at 0x7fbf8cd03748>,\n",
       "  UUID('dc4e6601-17e2-363d-8735-3de573305250'): <lcatools.entities.LcFlow at 0x7fbf8d216e80>,\n",
       "  UUID('00a2e6ca-439e-490d-ade3-1ca6d493bc07'): <lcatools.entities.LcProcess at 0x7fbf8d1b02e8>,\n",
       "  UUID('f9e92fd4-20c8-483a-b8e9-255f8d854262'): <lcatools.entities.LcProcess at 0x7fbf8bb0db38>,\n",
       "  UUID('2aa578a4-ca1d-42b9-9893-5bcc01fa6ea0'): <lcatools.entities.LcProcess at 0x7fbf8cfb25f8>,\n",
       "  UUID('a0fec60d-3f74-48bf-a2d2-58c30fc13e53'): <lcatools.entities.LcFlow at 0x7fbf8d334cf8>,\n",
       "  UUID('86b84a86-2320-4a9e-9332-ce55ea1a40fe'): <lcatools.entities.LcProcess at 0x7fbf8cacd828>,\n",
       "  UUID('21eba3e6-0c60-4feb-b588-f51f2ad48514'): <lcatools.entities.LcProcess at 0x7fbf8cfc9ba8>,\n",
       "  UUID('2ffe8179-123b-49ac-b3e8-c12455af370a'): <lcatools.entities.LcProcess at 0x7fbf8cf77fd0>,\n",
       "  UUID('3960a9e9-081a-4c84-8ff6-613012b4204a'): <lcatools.entities.LcProcess at 0x7fbf8cee4208>,\n",
       "  UUID('392b4f2a-66d2-483a-aca9-600dd567c29b'): <lcatools.entities.LcProcess at 0x7fbf8cee04a8>,\n",
       "  UUID('95ac6fd9-7ff4-4645-b9e5-abfa1171522c'): <lcatools.entities.LcProcess at 0x7fbf8ca7cb38>,\n",
       "  UUID('37179122-c1c7-4bcb-ae9d-a1f3a1b9a616'): <lcatools.entities.LcProcess at 0x7fbf8ceca198>,\n",
       "  UUID('da1f5520-1c40-4868-8113-285f5e313b1a'): <lcatools.entities.LcProcess at 0x7fbf8c6c95f8>,\n",
       "  UUID('1da0ea05-94a4-3173-ab3b-50956918af01'): <lcatools.entities.LcQuantity at 0x7fbf8d5c0080>,\n",
       "  UUID('50daa48f-3d8b-4774-b257-c1ffeb4248d1'): <lcatools.entities.LcProcess at 0x7fbf8cd94358>,\n",
       "  UUID('21c257b2-57ce-4a6e-b4bd-40f0f75f310f'): <lcatools.entities.LcFlow at 0x7fbf8d4d1908>,\n",
       "  UUID('954a79b4-70a0-4c90-a1a7-9e587bd19fe5'): <lcatools.entities.LcProcess at 0x7fbf8ca79898>,\n",
       "  UUID('4fe456b5-f9c4-4684-a9ee-2eef70a6d059'): <lcatools.entities.LcProcess at 0x7fbf8cd88278>,\n",
       "  UUID('783a766d-a7a2-334e-ad62-95a93ec3ea00'): <lcatools.entities.LcFlow at 0x7fbf8d3e0518>,\n",
       "  UUID('8c609e54-e8fb-430f-8cd0-29b4590ed2cf'): <lcatools.entities.LcProcess at 0x7fbf8ca99198>,\n",
       "  UUID('96a56e40-6587-3574-bc5f-40424e9758cb'): <lcatools.entities.LcFlow at 0x7fbf8d30ac88>,\n",
       "  UUID('f15bb8c8-5705-48da-bf9a-f7c62d7dfd43'): <lcatools.entities.LcProcess at 0x7fbf8bba8128>,\n",
       "  UUID('e47b7172-afdd-38de-a98f-5cb1a50fbd6d'): <lcatools.entities.LcFlow at 0x7fbf8d3f1128>,\n",
       "  UUID('4abd3028-eff2-3f61-a522-dab8c6e2097d'): <lcatools.entities.LcFlow at 0x7fbf8d5526d8>,\n",
       "  UUID('8b440c5b-0773-4318-be75-39d452c3ebb5'): <lcatools.entities.LcProcess at 0x7fbf8ca87ac8>,\n",
       "  UUID('f6e5f381-3568-43c1-b653-107cf2c06654'): <lcatools.entities.LcProcess at 0x7fbf8bb66ac8>,\n",
       "  UUID('b12f97f5-5a96-3f68-9691-d1f43e46b155'): <lcatools.entities.LcFlow at 0x7fbf8d2f3fd0>,\n",
       "  UUID('65d36f83-d84b-4253-b033-05a4221758ba'): <lcatools.entities.LcProcess at 0x7fbf8cc9cb38>,\n",
       "  UUID('515730df-08cc-4417-8be8-f071d170354b'): <lcatools.entities.LcProcess at 0x7fbf8cd9c588>,\n",
       "  UUID('f6b3ab6b-1d63-3c78-ae0f-9f57b004a0a1'): <lcatools.entities.LcFlow at 0x7fbf8d202400>,\n",
       "  UUID('f3dd75ab-75c3-3271-9941-552f9a79f0dc'): <lcatools.entities.LcFlow at 0x7fbf8d22eb38>,\n",
       "  UUID('c936b516-36af-355a-b1fd-951fd674d99f'): <lcatools.entities.LcFlow at 0x7fbf8d24d400>,\n",
       "  UUID('987fad4e-56c0-426f-ba84-ab8291f5cc8d'): <lcatools.entities.LcProcess at 0x7fbf8ca21eb8>,\n",
       "  UUID('b38851a8-683f-3b66-b2eb-d7bee2212948'): <lcatools.entities.LcFlow at 0x7fbf8d368ef0>,\n",
       "  UUID('75260298-2727-4ed0-a2e0-7377bedaca25'): <lcatools.entities.LcProcess at 0x7fbf8cbec208>,\n",
       "  UUID('7839b275-0e53-4798-8733-0cc5a376c7cb'): <lcatools.entities.LcProcess at 0x7fbf8cb96358>,\n",
       "  UUID('95f7320b-752e-3ed0-ab1c-84fad3380e04'): <lcatools.entities.LcFlow at 0x7fbf8d30a390>,\n",
       "  UUID('35b4d818-1019-413b-b99d-d351d8a67ac4'): <lcatools.entities.LcFlow at 0x7fbf8d49d518>,\n",
       "  UUID('2f4c451f-0974-3f96-b586-9bd1791d07f0'): <lcatools.entities.LcFlow at 0x7fbf8d5695c0>,\n",
       "  UUID('4b1769f1-7909-484e-a47a-3a40b17417ab'): <lcatools.entities.LcProcess at 0x7fbf8cdce668>,\n",
       "  UUID('3a73efda-48f5-35e7-ae6d-e6629f90d568'): <lcatools.entities.LcFlow at 0x7fbf8d4afcf8>,\n",
       "  UUID('53385f1f-83c1-4b24-b123-f516f71566ff'): <lcatools.entities.LcProcess at 0x7fbf8cdb1ac8>,\n",
       "  UUID('eca7deef-7ad7-40cd-ab4e-8b1faace4c9d'): <lcatools.entities.LcProcess at 0x7fbf8bbe7e48>,\n",
       "  UUID('6f478f7b-1817-4316-8dd8-c65fdc1c6be7'): <lcatools.entities.LcFlow at 0x7fbf8d3f8320>,\n",
       "  UUID('a46c927f-250e-4735-a4ea-55e6b891719e'): <lcatools.entities.LcProcess at 0x7fbf8c9b70b8>,\n",
       "  UUID('c4f90f3f-b1c3-44a4-9327-eada520eedbd'): <lcatools.entities.LcProcess at 0x7fbf8c83eac8>,\n",
       "  UUID('c15f6c4d-bf7a-4a7c-91c6-53aad6a630a8'): <lcatools.entities.LcFlow at 0x7fbf8d2ad748>,\n",
       "  UUID('735440c1-fb53-46e2-aa82-d5e013359e57'): <lcatools.entities.LcProcess at 0x7fbf8cbd4278>,\n",
       "  UUID('5484ba91-a0fb-333e-8e77-3c7dd1ed6ab8'): <lcatools.entities.LcFlow at 0x7fbf8d475470>,\n",
       "  UUID('c23ab3b7-03b8-4cb5-8ea1-834f8e9abd31'): <lcatools.entities.LcProcess at 0x7fbf8c821748>,\n",
       "  UUID('489beea7-09a3-4392-b877-6204eb472424'): <lcatools.entities.LcProcess at 0x7fbf8ce30128>,\n",
       "  UUID('0e90d015-201e-3e6d-9a19-5f4e1f717237'): <lcatools.entities.LcFlow at 0x7fbf8d508da0>,\n",
       "  UUID('6b47c164-9dc0-37f0-ae43-1045bc544528'): <lcatools.entities.LcFlow at 0x7fbf8d3e8860>,\n",
       "  UUID('776603ee-8bae-3baf-be42-c037a618a72e'): <lcatools.entities.LcFlow at 0x7fbf8d394860>,\n",
       "  UUID('8dd23727-bc00-4970-a81e-a3dabfb13922'): <lcatools.entities.LcProcess at 0x7fbf8caa5ba8>,\n",
       "  UUID('f8f1ba14-9934-4678-8a78-e2cf1fce7775'): <lcatools.entities.LcFlow at 0x7fbf8d1887f0>,\n",
       "  UUID('b344db82-d30e-421f-b23a-2db0442373a2'): <lcatools.entities.LcProcess at 0x7fbf8c8e82e8>,\n",
       "  UUID('3cc28220-5657-3821-a27f-876994f043b1'): <lcatools.entities.LcFlow at 0x7fbf8d4b5ba8>,\n",
       "  UUID('d43f7827-b47b-4652-8366-f370995fd206'): <lcatools.entities.LcFlow at 0x7fbf8d27d7f0>,\n",
       "  UUID('56b18681-8773-4710-a77d-76b66c14b2de'): <lcatools.entities.LcProcess at 0x7fbf8cd5f898>,\n",
       "  UUID('f6316a55-22af-337e-81a9-0a76020ee8a1'): <lcatools.entities.LcFlow at 0x7fbf8d28b208>,\n",
       "  UUID('313db477-6e9c-43ce-874f-a573ff46f7a3'): <lcatools.entities.LcProcess at 0x7fbf8cf83fd0>,\n",
       "  UUID('7e5ebeaa-171c-4a8f-bcff-1ae7f6c53037'): <lcatools.entities.LcProcess at 0x7fbf8cb652e8>,\n",
       "  UUID('2f32d29e-6dbd-38c0-9e21-ee79bd42bec5'): <lcatools.entities.LcFlow at 0x7fbf8d502c50>,\n",
       "  UUID('83f4b4e0-9903-35db-874c-7806402455d9'): <lcatools.entities.LcFlow at 0x7fbf8d43acf8>,\n",
       "  UUID('7a62b453-1026-4e89-80db-57622386906d'): <lcatools.entities.LcProcess at 0x7fbf8cbaf828>,\n",
       "  UUID('40b9a9fb-5d81-47a7-ae2a-6d6ebde0c78b'): <lcatools.entities.LcProcess at 0x7fbf8ce4c0b8>,\n",
       "  UUID('3cdd3271-9649-35b9-8212-7f9430d0d6fe'): <lcatools.entities.LcFlow at 0x7fbf8d4b5f98>,\n",
       "  UUID('2fe0b6bc-cef7-4ff5-9b0f-b0865fba8522'): <lcatools.entities.LcProcess at 0x7fbf8cf77828>,\n",
       "  UUID('d33cd6b1-81e1-3979-892a-6b98e963b8da'): <lcatools.entities.LcFlow at 0x7fbf8d276fd0>,\n",
       "  UUID('7689f3c8-d846-4f44-bd20-1451c771f137'): <lcatools.entities.LcProcess at 0x7fbf8cbfdf28>,\n",
       "  UUID('52cfdcee-514c-4366-a7e8-b2a23212e995'): <lcatools.entities.LcProcess at 0x7fbf8cdad908>,\n",
       "  UUID('876b9d0d-6086-453c-9d1e-e38bf5d9d2f1'): <lcatools.entities.LcProcess at 0x7fbf8cad6dd8>,\n",
       "  UUID('645476a4-08de-4542-8e57-ba2a75c5dab3'): <lcatools.entities.LcProcess at 0x7fbf8cc87908>,\n",
       "  UUID('54b9b7af-58f4-49fa-87ad-66958a829a45'): <lcatools.entities.LcProcess at 0x7fbf8cdc6518>,\n",
       "  UUID('24cf82f8-c517-4fef-8f93-17519adb855e'): <lcatools.entities.LcFlow at 0x7fbf8d4dcba8>,\n",
       "  UUID('c592476f-fa81-35e3-958b-31459488d596'): <lcatools.entities.LcFlow at 0x7fbf8d2b8940>,\n",
       "  UUID('1a67b8a7-a12f-47e0-9203-f583c9b0640e'): <lcatools.entities.LcProcess at 0x7fbf8d072438>,\n",
       "  UUID('a22495e1-3d47-3158-8450-ac022777f9fb'): <lcatools.entities.LcFlow at 0x7fbf8d33b358>,\n",
       "  UUID('059c1658-3d8d-3176-b439-16ef7922f934'): <lcatools.entities.LcFlow at 0x7fbf8d565860>,\n",
       "  UUID('7366771f-4b53-4dff-9e68-4e10a844d695'): <lcatools.entities.LcProcess at 0x7fbf8cbd4a58>,\n",
       "  UUID('b48af670-ee93-3919-a904-5cc17ac7bbf4'): <lcatools.entities.LcFlow at 0x7fbf8d3015f8>,\n",
       "  UUID('40ce1d50-6aa8-3479-8db4-d3933d11e115'): <lcatools.entities.LcQuantity at 0x7fbf8d5b4e80>,\n",
       "  UUID('1b70a873-e471-309a-a1f6-388ce2c10017'): <lcatools.entities.LcQuantity at 0x7fbf8d59ae80>,\n",
       "  UUID('74da5187-2607-4b7e-b9a6-2534bc8da8e0'): <lcatools.entities.LcProcess at 0x7fbf8cbe3e48>,\n",
       "  UUID('d2254866-c720-3e91-b2e7-2aa4e9491032'): <lcatools.entities.LcFlow at 0x7fbf8d46a278>,\n",
       "  UUID('615689c8-7d76-482f-a924-0736602169e9'): <lcatools.entities.LcProcess at 0x7fbf8cce6358>,\n",
       "  UUID('4200c62f-1b6a-311e-b66c-457d16987bf0'): <lcatools.entities.LcFlow at 0x7fbf8d44b710>,\n",
       "  UUID('a5175e29-4bba-4563-a9ba-43a8ffa359b1'): <lcatools.entities.LcProcess at 0x7fbf8c9ba908>,\n",
       "  UUID('7d05d438-b66f-45bf-8854-e1e093dfd6dd'): <lcatools.entities.LcProcess at 0x7fbf8cb50b38>,\n",
       "  UUID('7a8f745c-a509-4d77-98fd-a31d4102995f'): <lcatools.entities.LcProcess at 0x7fbf8cbb32e8>,\n",
       "  UUID('0ca7bb4d-856e-4981-bba8-62ce704c38eb'): <lcatools.entities.LcProcess at 0x7fbf8d0c7358>,\n",
       "  UUID('8e39e6f9-40f1-40db-b20f-611afda77dfc'): <lcatools.entities.LcProcess at 0x7fbf8caae438>,\n",
       "  UUID('e02e907e-e6a8-4d3c-8d5e-86a40277f7fb'): <lcatools.entities.LcProcess at 0x7fbf8c698198>,\n",
       "  UUID('f4fc7dfc-6603-337f-9313-04421bdc68c6'): <lcatools.entities.LcFlow at 0x7fbf8d1fb4a8>,\n",
       "  UUID('338ea7e4-b273-4bef-9aba-9afcc2c7a577'): <lcatools.entities.LcProcess at 0x7fbf8cf20198>,\n",
       "  UUID('67e06c02-ff38-48fd-b8d9-9def301b16b5'): <lcatools.entities.LcProcess at 0x7fbf8ccba198>,\n",
       "  UUID('0c8cfe9c-0a0f-33af-a57b-d1039aece784'): <lcatools.entities.LcFlow at 0x7fbf8d581c50>,\n",
       "  UUID('9a1003e7-742d-405b-896c-b022536d0204'): <lcatools.entities.LcProcess at 0x7fbf8ca32748>,\n",
       "  UUID('c660edd8-f3b4-3b03-b776-6e9f1ea6acb8'): <lcatools.entities.LcFlow at 0x7fbf8d5659b0>,\n",
       "  UUID('f1bdd22b-e18a-4b8e-a763-42e5012454e4'): <lcatools.entities.LcProcess at 0x7fbf8bbac128>,\n",
       "  UUID('963ae209-6549-48c0-b9f3-c193804bbedf'): <lcatools.entities.LcProcess at 0x7fbf8ca84eb8>,\n",
       "  UUID('977bac03-96e0-443f-bf06-f410da0d62e8'): <lcatools.entities.LcProcess at 0x7fbf8ca185f8>,\n",
       "  UUID('825c0930-1490-4e89-a20f-69bf941c07e1'): <lcatools.entities.LcProcess at 0x7fbf8cb165f8>,\n",
       "  UUID('62f7728c-57bd-4752-a217-4717d9e9ca61'): <lcatools.entities.LcProcess at 0x7fbf8ccfb3c8>,\n",
       "  UUID('eff5bfa8-19ba-3546-80d7-679a2b4ddaa0'): <lcatools.entities.LcFlow at 0x7fbf8d1e5e80>,\n",
       "  UUID('22779682-ede0-4bb9-9616-dcc61138a73c'): <lcatools.entities.LcProcess at 0x7fbf8cfd24a8>,\n",
       "  UUID('c5c25aa6-d630-40bd-bed7-4e718c877ef4'): <lcatools.entities.LcFlow at 0x7fbf8d2bf940>,\n",
       "  UUID('ab84b9d7-8632-49ac-b587-2070ea0206c9'): <lcatools.entities.LcProcess at 0x7fbf8c90af98>,\n",
       "  UUID('908ab63b-52dc-4360-bff0-397b04c965af'): <lcatools.entities.LcProcess at 0x7fbf8cac6ba8>,\n",
       "  UUID('55acfe2a-b7e8-41bd-abf7-602f7ce6f716'): <lcatools.entities.LcProcess at 0x7fbf8cd52dd8>,\n",
       "  UUID('115bc7ae-1d36-4b5b-b2dc-6b03f7302a3a'): <lcatools.entities.LcProcess at 0x7fbf8d0f9ba8>,\n",
       "  UUID('f2ba4a28-af5d-43dd-82b1-f649e7a8e5f4'): <lcatools.entities.LcProcess at 0x7fbf8bbb4b38>,\n",
       "  UUID('a4df1dde-13e1-49b2-b79a-b04f12027f7f'): <lcatools.entities.LcProcess at 0x7fbf8c9ba278>,\n",
       "  UUID('71a8b852-3e57-48fc-8eec-31bd4c2fbd1e'): <lcatools.entities.LcProcess at 0x7fbf8cc3e358>,\n",
       "  UUID('1328daa2-ca9b-31a6-aa08-f56322849e4b'): <lcatools.entities.LcFlow at 0x7fbf8d51a470>,\n",
       "  UUID('6008086f-5522-493a-8bfe-60e6d0d53b34'): <lcatools.entities.LcFlow at 0x7fbf8d43aba8>,\n",
       "  UUID('67d6eb70-4016-4f77-bb10-86c6767ada59'): <lcatools.entities.LcProcess at 0x7fbf8ccb6f98>,\n",
       "  UUID('39183b18-d7b2-3c63-a9c4-4aa6fcc321f7'): <lcatools.entities.LcFlow at 0x7fbf8d4ac470>,\n",
       "  UUID('5738df08-f84b-4dc8-891d-09fb22af9281'): <lcatools.entities.LcProcess at 0x7fbf8cd672e8>,\n",
       "  UUID('1d178259-2864-3c8e-8a49-b7efa1cb20a9'): <lcatools.entities.LcFlow at 0x7fbf8d357da0>,\n",
       "  UUID('38db9e90-d2eb-4421-a8a3-63ee43af0a6b'): <lcatools.entities.LcProcess at 0x7fbf8cedc668>,\n",
       "  UUID('c1243e47-7a58-3d02-b58c-d96d84fe1ce1'): <lcatools.entities.LcFlow at 0x7fbf8d49d908>,\n",
       "  UUID('bd0a4b5c-cb50-4fb9-b808-0d5b3d98872a'): <lcatools.entities.LcProcess at 0x7fbf8c859e48>,\n",
       "  UUID('46a620f1-8513-4faa-83ff-8cd1b24087c3'): <lcatools.entities.LcProcess at 0x7fbf8ce18588>,\n",
       "  UUID('ea11597b-f630-4cde-a9c5-ce04f0599dfb'): <lcatools.entities.LcProcess at 0x7fbf8bbca908>,\n",
       "  UUID('636d5aea-8d6c-4f1f-985c-1123dda11d1d'): <lcatools.entities.LcProcess at 0x7fbf8ccfe588>,\n",
       "  UUID('6474025f-41c3-4710-a35c-da71e9a4883f'): <lcatools.entities.LcProcess at 0x7fbf8cc87fd0>,\n",
       "  UUID('4807ae26-7ece-4c85-8897-cd47f79a20f2'): <lcatools.entities.LcProcess at 0x7fbf8ce274a8>,\n",
       "  UUID('efe73fb7-83e8-3694-a70d-7e91d2c0d052'): <lcatools.entities.LcFlow at 0x7fbf8d1e5be0>,\n",
       "  UUID('b60171b5-b811-4b76-9b77-5bcdb4e92952'): <lcatools.entities.LcProcess at 0x7fbf8c905f98>,\n",
       "  UUID('3c8f948a-e838-30d3-b97f-bb62edb57e89'): <lcatools.entities.LcFlow at 0x7fbf8d403b00>,\n",
       "  UUID('08a1c995-62d5-4ec6-9f6a-06970c290eff'): <lcatools.entities.LcProcess at 0x7fbf8d1115f8>,\n",
       "  UUID('621d974d-0e31-4a4b-920e-4200e618d914'): <lcatools.entities.LcProcess at 0x7fbf8ccef898>,\n",
       "  UUID('2bc746a1-4334-412e-a64e-9c9302a07bb9'): <lcatools.entities.LcProcess at 0x7fbf8cfbfeb8>,\n",
       "  UUID('2c7c20cf-f05c-3804-9a84-7ea42db0450b'): <lcatools.entities.LcFlow at 0x7fbf8d4f7710>,\n",
       "  UUID('5083985f-50e4-40bd-9efb-b1e29c0a7f3b'): <lcatools.entities.LcProcess at 0x7fbf8cd8f7b8>,\n",
       "  UUID('d7cadc9a-f42c-4711-a8e2-0b626c0a4c7a'): <lcatools.entities.LcFlow at 0x7fbf8d208f28>,\n",
       "  UUID('08b681c9-b5fc-46c8-beb5-5ee8bf31cef9'): <lcatools.entities.LcFlow at 0x7fbf8d570f98>,\n",
       "  UUID('40551da2-2340-4b49-b745-5020d672aae6'): <lcatools.entities.LcProcess at 0x7fbf8cec45f8>,\n",
       "  UUID('f3709aec-e8d6-41f5-a4db-047682dc70a9'): <lcatools.entities.LcProcess at 0x7fbf8bbbd978>,\n",
       "  UUID('0556efdd-1ca5-491f-8019-cd1369cc3c48'): <lcatools.entities.LcProcess at 0x7fbf8d168a58>,\n",
       "  UUID('8a6d23b6-4128-499e-9de9-2ec91378fce0'): <lcatools.entities.LcProcess at 0x7fbf8caff0b8>,\n",
       "  UUID('125a9f30-fdbf-32fd-bcea-006834b5ed56'): <lcatools.entities.LcFlow at 0x7fbf8d5165c0>,\n",
       "  UUID('2e2f18a1-ec58-3ddb-b19b-39cdb2301661'): <lcatools.entities.LcQuantity at 0x7fbf8d593160>,\n",
       "  UUID('0ecc1e6a-be25-4809-9880-5dfdb1bdc4fb'): <lcatools.entities.LcProcess at 0x7fbf8d0dcac8>,\n",
       "  UUID('194429b5-2549-4b53-ac05-d3b1b5eaaaa9'): <lcatools.entities.LcProcess at 0x7fbf8d065518>,\n",
       "  UUID('d547712d-b4bf-494c-96fb-566916526121'): <lcatools.entities.LcProcess at 0x7fbf8c70e6d8>,\n",
       "  UUID('31a31513-3a14-34e4-8210-309180fe5e1f'): <lcatools.entities.LcFlow at 0x7fbf8d50f518>,\n",
       "  UUID('612cfb44-0efe-421a-b59e-9e2532974219'): <lcatools.entities.LcProcess at 0x7fbf8cce1c18>,\n",
       "  UUID('69fd4f2c-82f6-4d33-acab-ca3097127a3c'): <lcatools.entities.LcProcess at 0x7fbf8cc543c8>,\n",
       "  UUID('ceb8e491-faf4-427e-88aa-92276461712e'): <lcatools.entities.LcProcess at 0x7fbf8c7b7b38>,\n",
       "  UUID('0895ab7d-16a3-41f4-ad4f-49e0733cf5af'): <lcatools.entities.LcProcess at 0x7fbf8d111358>,\n",
       "  UUID('e506bf35-99cd-4efa-aef0-346a09048d4a'): <lcatools.entities.LcProcess at 0x7fbf8bc08518>,\n",
       "  UUID('b7783a37-db6d-3733-a56f-c102bd73cb8e'): <lcatools.entities.LcQuantity at 0x7fbf8d54b780>,\n",
       "  UUID('d05e2bdc-5262-3878-97c8-0aef6b5e4165'): <lcatools.entities.LcFlow at 0x7fbf8d26c9e8>,\n",
       "  UUID('3867f287-63c1-4e6e-a1ee-6f218a6f91db'): <lcatools.entities.LcProcess at 0x7fbf8ced84a8>,\n",
       "  UUID('4bdd89e1-36d1-31da-b9f8-7c7446127679'): <lcatools.entities.LcQuantity at 0x7fbf8bc6c9b0>,\n",
       "  UUID('c37b750b-fb37-4034-a45a-45bd1c3f4075'): <lcatools.entities.LcProcess at 0x7fbf8c82d7b8>,\n",
       "  UUID('feca9fa5-6876-4ccb-abb3-2882f5fcb1b1'): <lcatools.entities.LcProcess at 0x7fbf8bac9518>,\n",
       "  UUID('ec437f1f-5c89-322f-90c8-67e1407573ad'): <lcatools.entities.LcQuantity at 0x7fbf8d595da0>,\n",
       "  UUID('7e8f638f-d304-4191-9e60-5e5545d978b9'): <lcatools.entities.LcProcess at 0x7fbf8cb65c88>,\n",
       "  UUID('7e83d27a-a3df-45fa-a56b-38163b425573'): <lcatools.entities.LcProcess at 0x7fbf8cb659e8>,\n",
       "  UUID('09888cbc-88c4-4868-a709-e65f80a8d2f5'): <lcatools.entities.LcProcess at 0x7fbf8d11e278>,\n",
       "  UUID('324d6e70-fed4-3423-ae92-47de55db6441'): <lcatools.entities.LcFlow at 0x7fbf8d48de48>,\n",
       "  UUID('a01ddada-c13a-3649-980f-cccd270f52fa'): <lcatools.entities.LcFlow at 0x7fbf8d513da0>,\n",
       "  UUID('349f5477-031a-4dbe-a94c-701daa5c176e'): <lcatools.entities.LcProcess at 0x7fbf8cf29eb8>,\n",
       "  UUID('1d5aea66-bec8-3699-af44-b604d73f509f'): <lcatools.entities.LcQuantity at 0x7fbf8d5ace80>,\n",
       "  UUID('f67039f7-8403-40af-b417-94278bed7fb9'): <lcatools.entities.LcProcess at 0x7fbf8bb5ffd0>,\n",
       "  UUID('d9119406-1915-3552-8737-99dff779daab'): <lcatools.entities.LcFlow at 0x7fbf8d4c4a58>,\n",
       "  UUID('66fb8cd3-d2b3-4bb5-931b-26d96d37a7b0'): <lcatools.entities.LcProcess at 0x7fbf8ccae4a8>,\n",
       "  UUID('6348bd61-c0bd-4f0b-804a-cb9f2c2c0875'): <lcatools.entities.LcProcess at 0x7fbf8ccfbfd0>,\n",
       "  UUID('f9fdadad-9ab0-4e43-b3fc-703abb1af55c'): <lcatools.entities.LcProcess at 0x7fbf8bb110b8>,\n",
       "  UUID('6312ec69-ca01-30d7-9baf-518a75bc7ea5'): <lcatools.entities.LcQuantity at 0x7fbf8bc63470>,\n",
       "  UUID('b1b03f60-d271-3e00-a938-337978bf154a'): <lcatools.entities.LcFlow at 0x7fbf8d2f6898>,\n",
       "  UUID('5e35503d-1036-45b8-bc0a-39427320d7a0'): <lcatools.entities.LcProcess at 0x7fbf8cd3c9e8>,\n",
       "  UUID('c56bfbb7-245f-4f1b-b291-56f97f271c0a'): <lcatools.entities.LcProcess at 0x7fbf8c7c7358>,\n",
       "  UUID('5f91e5a3-2a6d-427f-afb8-67fd1841f16a'): <lcatools.entities.LcProcess at 0x7fbf8ccccfd0>,\n",
       "  UUID('18e191f5-aba4-3dac-baae-997873969815'): <lcatools.entities.LcFlow at 0x7fbf8d5321d0>,\n",
       "  UUID('7f37377c-e0f8-46fd-8143-1a0e8e3108e0'): <lcatools.entities.LcProcess at 0x7fbf8cb70198>,\n",
       "  UUID('02d028d2-6531-3385-bb77-394360bd6957'): <lcatools.entities.LcFlow at 0x7fbf8d4e9128>,\n",
       "  UUID('717425f3-d790-4d3d-b7a5-2397aaf39b7d'): <lcatools.entities.LcProcess at 0x7fbf8cc3b908>,\n",
       "  UUID('d2c72701-cc8d-4366-9b87-be3bae445ca6'): <lcatools.entities.LcProcess at 0x7fbf8c769c18>,\n",
       "  UUID('17bc89ff-d1d3-4b46-9258-dc7d789aab4f'): <lcatools.entities.LcProcess at 0x7fbf8d0514a8>,\n",
       "  UUID('fa48acef-76f6-4a74-ae1c-fea55c99443c'): <lcatools.entities.LcProcess at 0x7fbf8bb11e48>,\n",
       "  UUID('59c485f7-daae-43e4-8ffe-a1ece5fba1b3'): <lcatools.entities.LcProcess at 0x7fbf8cd85358>,\n",
       "  UUID('97afe0e8-be32-431e-94ea-a1fa5d156c76'): <lcatools.entities.LcFlow at 0x7fbf8d30ec88>,\n",
       "  UUID('5c238e5f-97c8-4837-8d67-48899ddd43be'): <lcatools.entities.LcFlow at 0x7fbf8d42c860>,\n",
       "  UUID('90c1df52-5f3d-429e-900d-d510ab75253e'): <lcatools.entities.LcProcess at 0x7fbf8ca4a898>,\n",
       "  UUID('0088eeed-e866-3fea-b808-8d70ffbb863e'): <lcatools.entities.LcFlow at 0x7fbf8d552780>,\n",
       "  UUID('adb4b590-7fb2-47b6-84e7-d4746a94c7b5'): <lcatools.entities.LcFlow at 0x7fbf8d2e4e80>,\n",
       "  UUID('460c8f9c-f302-47dd-a2cd-e3183e904697'): <lcatools.entities.LcProcess at 0x7fbf8ce0f6d8>,\n",
       "  UUID('26e4df7b-b178-306d-8347-e708b2ce8221'): <lcatools.entities.LcFlow at 0x7fbf8d4e3668>,\n",
       "  UUID('57718894-0e7d-433d-9962-0478b3e2d197'): <lcatools.entities.LcProcess at 0x7fbf8cd67fd0>,\n",
       "  UUID('a1465c52-c97f-41d3-ae95-40a71f469309'): <lcatools.entities.LcProcess at 0x7fbf8c98fb38>,\n",
       "  UUID('e6d1be77-dc69-43c3-95a6-bc498d156744'): <lcatools.entities.LcProcess at 0x7fbf8bc1d6d8>,\n",
       "  UUID('b937476c-093e-4787-94a3-b7f303833142'): <lcatools.entities.LcProcess at 0x7fbf8c8abcf8>,\n",
       "  UUID('98abdbd0-167a-43ce-aa60-1c57526f1476'): <lcatools.entities.LcProcess at 0x7fbf8ca26518>,\n",
       "  UUID('d8375063-422f-49a7-8780-c20f3ba25235'): <lcatools.entities.LcProcess at 0x7fbf8c730ba8>,\n",
       "  UUID('e8d43b15-49bd-331a-bc9f-cbb6fe156c8f'): <lcatools.entities.LcFlow at 0x7fbf8d3c1b70>,\n",
       "  UUID('43b86905-3992-39ac-8b7a-295202a3b82b'): <lcatools.entities.LcFlow at 0x7fbf8d452518>,\n",
       "  UUID('b700cb75-eeff-444c-aabc-ea4dbd7a630e'): <lcatools.entities.LcFlow at 0x7fbf8d288b38>,\n",
       "  UUID('84dc695a-e279-439a-9752-35248802e8ae'): <lcatools.entities.LcProcess at 0x7fbf8cb33ba8>,\n",
       "  UUID('44e11702-e03b-343b-8087-704ed731e3b7'): <lcatools.entities.LcFlow at 0x7fbf8d4755c0>,\n",
       "  UUID('3e8f6cdf-3e24-4633-9594-722f1ef4e49a'): <lcatools.entities.LcProcess at 0x7fbf8ceacdd8>,\n",
       "  UUID('08eb7380-026d-3d9c-814f-bfc9aa9298c1'): <lcatools.entities.LcQuantity at 0x7fbf8bc6cd30>,\n",
       "  UUID('f162b6c7-f9b9-477b-8972-6035f7aaef84'): <lcatools.entities.LcProcess at 0x7fbf8bba8588>,\n",
       "  UUID('58575b07-72b0-393f-93af-69d905ccbb98'): <lcatools.entities.LcFlow at 0x7fbf8d312a90>,\n",
       "  UUID('1d6e6484-3828-49c6-91ef-9405913cb770'): <lcatools.entities.LcProcess at 0x7fbf8d017828>,\n",
       "  UUID('ef45e346-6c3b-4fce-9a0d-02563af9c6af'): <lcatools.entities.LcProcess at 0x7fbf8bb8e198>,\n",
       "  UUID('84aa799e-9d98-4d34-85e0-516d28ab1be9'): <lcatools.entities.LcFlow at 0x7fbf8d349860>,\n",
       "  UUID('793f8194-88c0-4315-b59e-58de48ba6ce4'): <lcatools.entities.LcFlow at 0x7fbf8d39be48>,\n",
       "  UUID('7eb9fb7c-bf67-493c-88bd-1baa41a0bbad'): <lcatools.entities.LcProcess at 0x7fbf8cb69748>,\n",
       "  UUID('e84117f6-22a5-43a2-b498-66328690e862'): <lcatools.entities.LcProcess at 0x7fbf8bc31d68>,\n",
       "  UUID('94d8c4d6-c85f-3504-b21f-21e22ef4dd68'): <lcatools.entities.LcFlow at 0x7fbf8d383d68>,\n",
       "  UUID('29b50b96-3625-4ff5-a602-68430fe405fd'): <lcatools.entities.LcProcess at 0x7fbf8cfa7668>,\n",
       "  UUID('9f39fb5e-62e7-3476-9c33-e0e3c19ee1da'): <lcatools.entities.LcFlow at 0x7fbf8d331550>,\n",
       "  UUID('20834550-2d87-47d0-9d3c-fd65c108c72b'): <lcatools.entities.LcFlow at 0x7fbf8d4cd518>,\n",
       "  UUID('84fd721c-bd51-4d75-a664-5b74bc35a41c'): <lcatools.entities.LcProcess at 0x7fbf8cb382e8>,\n",
       "  UUID('aceb6fdf-7376-414b-aeb0-19b317d97b33'): <lcatools.entities.LcProcess at 0x7fbf8c91c588>,\n",
       "  UUID('590c9f4d-3cff-353e-a07c-6b526c3fdbb1'): <lcatools.entities.LcFlow at 0x7fbf8d3643c8>,\n",
       "  UUID('16a36252-322a-4ac0-ad45-6350d69aafb2'): <lcatools.entities.LcProcess at 0x7fbf8d0bcb38>,\n",
       "  UUID('cbbae444-5269-4a8a-8e63-3ce54526b137'): <lcatools.entities.LcProcess at 0x7fbf8c7977b8>,\n",
       "  UUID('ced9d52f-dc11-4c6a-a588-f21b63b35d6d'): <lcatools.entities.LcProcess at 0x7fbf8c7bb278>,\n",
       "  UUID('81b17704-8b46-441d-8734-43128ced1999'): <lcatools.entities.LcProcess at 0x7fbf8cb0e198>,\n",
       "  UUID('a1e45ec0-d51c-4d2a-a5cb-c1433ce59c49'): <lcatools.entities.LcProcess at 0x7fbf8c996f98>,\n",
       "  UUID('4dd03bc9-249e-41a5-94d2-b5ebfa19963d'): <lcatools.entities.LcProcess at 0x7fbf8cdee748>,\n",
       "  UUID('5f16e88d-8b11-34f4-8480-95c43ea8de0e'): <lcatools.entities.LcFlow at 0x7fbf8d437a58>,\n",
       "  UUID('234ea5cc-15f4-4b28-b773-40c71b2f8cc8'): <lcatools.entities.LcProcess at 0x7fbf8cfdaeb8>,\n",
       "  UUID('e24f3666-c1d3-392f-9c91-971b941b3c16'): <lcatools.entities.LcFlow at 0x7fbf8d22edd8>,\n",
       "  UUID('a7c93a32-e370-3e55-a903-ffd5002992f6'): <lcatools.entities.LcFlow at 0x7fbf8d2d0b38>,\n",
       "  UUID('9730970c-c24a-40f2-a1e6-f15b2a5afe14'): <lcatools.entities.LcProcess at 0x7fbf8ca14438>,\n",
       "  UUID('8f829e17-c996-4eae-8bc4-c0816ec39037'): <lcatools.entities.LcProcess at 0x7fbf8cabd2e8>,\n",
       "  UUID('1b35070a-eb57-4f0f-a27f-5ba181ff0d4d'): <lcatools.entities.LcFlow at 0x7fbf8d539f98>,\n",
       "  UUID('17b11fd3-ee8e-48d6-a687-530a6eee3f16'): <lcatools.entities.LcProcess at 0x7fbf8d0510b8>,\n",
       "  UUID('d68e4b9b-790a-4722-9895-4be7ad09f259'): <lcatools.entities.LcProcess at 0x7fbf8c71f5f8>,\n",
       "  UUID('187f7ab6-9bff-34c4-9ebf-b28bdd44dfa9'): <lcatools.entities.LcFlow at 0x7fbf8d380f60>,\n",
       "  UUID('8ef4c74a-e568-3fc3-85bd-491be5230796'): <lcatools.entities.LcFlow at 0x7fbf8d36fda0>,\n",
       "  UUID('522390d7-bc2d-3490-b028-4652b82be13e'): <lcatools.entities.LcFlow at 0x7fbf8d486cf8>,\n",
       "  UUID('286e4068-b41a-40f9-8e99-c6de032c7e03'): <lcatools.entities.LcProcess at 0x7fbf8cf95cf8>,\n",
       "  UUID('61393586-7ed2-480a-93f6-c4e7538bde24'): <lcatools.entities.LcProcess at 0x7fbf8cce1dd8>,\n",
       "  UUID('8ffe81c8-8898-33f1-9626-fe5582bfe62b'): <lcatools.entities.LcFlow at 0x7fbf8d372cf8>,\n",
       "  UUID('83019b86-6df8-4904-9be9-27458f7b3d97'): <lcatools.entities.LcProcess at 0x7fbf8cb1e518>,\n",
       "  UUID('262702f4-5f62-4615-847d-b6162d705045'): <lcatools.entities.LcProcess at 0x7fbf8cffc588>,\n",
       "  UUID('92477c37-ef55-4400-946d-267f462a1ee7'): <lcatools.entities.LcProcess at 0x7fbf8ca57b38>,\n",
       "  UUID('37b4f775-2cd7-3f94-8cbc-93d3446c092f'): <lcatools.entities.LcFlow at 0x7fbf8d4a5710>,\n",
       "  UUID('faa85aed-237f-3e58-87e7-164f87ee12e0'): <lcatools.entities.LcQuantity at 0x7fbf8d5b4860>,\n",
       "  UUID('45dd1836-6ed0-4b42-8db1-0c66f4fbfbd4'): <lcatools.entities.LcProcess at 0x7fbf8ce0bba8>,\n",
       "  UUID('65c1538b-75c6-431d-a2f6-81e0fa8a70a1'): <lcatools.entities.LcProcess at 0x7fbf8cc9c7b8>,\n",
       "  UUID('c1263916-af68-39e1-9e63-2cdc9f7fb6ab'): <lcatools.entities.LcFlow at 0x7fbf8d2ad208>,\n",
       "  UUID('fb44c735-ae61-4922-ba28-6689f7cebc97'): <lcatools.entities.LcProcess at 0x7fbf8bb1ef28>,\n",
       "  UUID('633c2b80-cc97-3034-90b9-ec7b517bbf40'): <lcatools.entities.LcFlow at 0x7fbf8d3c71d0>,\n",
       "  UUID('5698f7a7-35e8-4248-be21-c3c4965683f8'): <lcatools.entities.LcProcess at 0x7fbf8cd5f198>,\n",
       "  UUID('e7b0ec6b-0704-3d03-b4b2-5cca5a761d9d'): <lcatools.entities.LcFlow at 0x7fbf8d243d30>,\n",
       "  UUID('5dc12311-438a-3a97-848b-9d1684843122'): <lcatools.entities.LcQuantity at 0x7fbf8d5b26a0>,\n",
       "  UUID('d61418f3-c1a4-4b95-807c-06b7e1fa2915'): <lcatools.entities.LcFlow at 0x7fbf8d284358>,\n",
       "  UUID('9512216c-8a16-404b-976b-427b1c1a0376'): <lcatools.entities.LcProcess at 0x7fbf8ca75cf8>,\n",
       "  UUID('c28eef69-a6e5-3941-955f-93f22c18bbbb'): <lcatools.entities.LcFlow at 0x7fbf8d2b4160>,\n",
       "  UUID('ae6f178d-b52a-4974-90a9-d044892aca84'): <lcatools.entities.LcProcess at 0x7fbf8c92da58>,\n",
       "  UUID('6c317715-c8ff-3741-8051-7abcd644cbd4'): <lcatools.entities.LcFlow at 0x7fbf8d3ea908>,\n",
       "  UUID('831bd531-0068-3842-a4d8-e48a159843c7'): <lcatools.entities.LcQuantity at 0x7fbf8bc79860>,\n",
       "  UUID('4b20c2f5-109a-4c61-ae4c-39c122b922dd'): <lcatools.entities.LcProcess at 0x7fbf8cdce828>,\n",
       "  UUID('50fe11f7-491c-346d-844c-65cc7cac627e'): <lcatools.entities.LcQuantity at 0x7fbf8d5be320>,\n",
       "  UUID('7ce8c56e-125b-47c9-bdec-19f6a2c4d7e8'): <lcatools.entities.LcProcess at 0x7fbf8cb50358>,\n",
       "  UUID('942009e1-8b87-4b93-a2b3-ea20e200293e'): <lcatools.entities.LcProcess at 0x7fbf8ca6c978>,\n",
       "  UUID('f563b90e-a300-4403-b278-d2fdcd73e5a7'): <lcatools.entities.LcFlow at 0x7fbf8d1fbb38>,\n",
       "  UUID('8e451315-96e1-4258-8730-795b75a398c4'): <lcatools.entities.LcProcess at 0x7fbf8caae6d8>,\n",
       "  UUID('cb2b96b5-13f6-33ba-8ed4-33af592be7fe'): <lcatools.entities.LcFlow at 0x7fbf8d25b940>,\n",
       "  UUID('028f0691-9c53-4539-9e87-a8e744e781df'): <lcatools.entities.LcProcess at 0x7fbf8d1c5438>,\n",
       "  UUID('77cbe3a3-8495-4c7f-9a3e-86939b33b23d'): <lcatools.entities.LcProcess at 0x7fbf8cb91358>,\n",
       "  UUID('e7d1072e-68ab-4fb4-b141-feb865e3082d'): <lcatools.entities.LcFlow at 0x7fbf8d243fd0>,\n",
       "  UUID('3b84c57f-1c51-4643-b845-abfa113bced6'): <lcatools.entities.LcProcess at 0x7fbf8cf015f8>,\n",
       "  UUID('f78bbafa-84a0-3b6b-8c65-ad9536f6aa74'): <lcatools.entities.LcQuantity at 0x7fbf8bc69b70>,\n",
       "  UUID('2c7f38cb-6114-3f19-a6f7-e8edc1c18d37'): <lcatools.entities.LcFlow at 0x7fbf8d4f7860>,\n",
       "  UUID('6065568e-d110-31fc-b309-32cae6b3f614'): <lcatools.entities.LcFlow at 0x7fbf8d43a128>,\n",
       "  UUID('dd798b21-9ad8-4feb-8d41-480435c3d446'): <lcatools.entities.LcProcess at 0x7fbf8c6f4a58>,\n",
       "  UUID('54705d19-9a84-4004-8995-e213da24d5c5'): <lcatools.entities.LcProcess at 0x7fbf8cdc1438>,\n",
       "  UUID('18f5428e-620c-467c-9bf6-00581852522a'): <lcatools.entities.LcProcess at 0x7fbf8d062518>,\n",
       "  UUID('8540d578-8eaf-4969-af22-83bb4d633aa8'): <lcatools.entities.LcProcess at 0x7fbf8cb38ba8>,\n",
       "  ...},\n",
       " '_ns_uuid': UUID('544efee9-6651-4c77-813f-b0134f561eb9'),\n",
       " '_quiet': True,\n",
       " '_serialize_dict': {'nsUuid': '544efee9-6651-4c77-813f-b0134f561eb9'},\n",
       " '_upstream': None,\n",
       " '_upstream_hash': {},\n",
       " 'catalog_names': {},\n",
       " 'internal': False,\n",
       " 'ref': '/home/b/Dropbox/data/Ecoinvent/3.2/activity_overview_for_users_3.2_undefined.xlsx',\n",
       " 'version': '3.2'}"
      ]
     },
     "execution_count": 14,
     "metadata": {},
     "output_type": "execute_result"
    }
   ],
   "source": [
    "F.cat(1).__dict__"
   ]
  },
  {
   "cell_type": "code",
   "execution_count": 13,
   "metadata": {
    "collapsed": false
   },
   "outputs": [
    {
     "data": {
      "text/plain": [
       "[]"
      ]
     },
     "execution_count": 13,
     "metadata": {},
     "output_type": "execute_result"
    }
   ],
   "source": [
    "F.cat(2).list_datasets(proc[0].get_uuid())"
   ]
  },
  {
   "cell_type": "code",
   "execution_count": 56,
   "metadata": {
    "collapsed": false
   },
   "outputs": [
    {
     "data": {
      "text/plain": [
       "{'_archive': <lcatools.providers.archive.Archive at 0x7f68959cb390>,\n",
       " '_counter': defaultdict(int, {}),\n",
       " '_entities': {},\n",
       " '_quiet': True,\n",
       " '_serialize_dict': {},\n",
       " '_upstream': None,\n",
       " '_upstream_hash': {},\n",
       " 'catalog_names': {},\n",
       " 'internal_prefix': None,\n",
       " 'ref': '/data/LCI/Ecoinvent/3.2/current_Version_3.2_apos_ecoSpold02.zip'}"
      ]
     },
     "execution_count": 56,
     "metadata": {},
     "output_type": "execute_result"
    }
   ],
   "source": [
    "F._catalog[2].__dict__"
   ]
  },
  {
   "cell_type": "code",
   "execution_count": 32,
   "metadata": {
    "collapsed": false
   },
   "outputs": [
    {
     "data": {
      "text/plain": [
       "{'catalog': <lcatools.catalog.CatalogInterface at 0x7f6895c3aeb8>,\n",
       " 'id': '6d1aa2be-376e-35e3-b418-d5fdb267e5b4',\n",
       " 'index': 1}"
      ]
     },
     "execution_count": 32,
     "metadata": {},
     "output_type": "execute_result"
    }
   ],
   "source": [
    "flow.__dict__"
   ]
  },
  {
   "cell_type": "code",
   "execution_count": 33,
   "metadata": {
    "collapsed": false
   },
   "outputs": [
    {
     "data": {
      "text/plain": [
       "'6d1aa2be-376e-35e3-b418-d5fdb267e5b4'"
      ]
     },
     "execution_count": 33,
     "metadata": {},
     "output_type": "execute_result"
    }
   ],
   "source": [
    "flow.id"
   ]
  },
  {
   "cell_type": "code",
   "execution_count": 28,
   "metadata": {
    "collapsed": false
   },
   "outputs": [
    {
     "name": "stdout",
     "output_type": "stream",
     "text": [
      "got one: 19a6cf49-7787-4a6f-b04e-4604fcd65bec\n",
      "got one: 897f2d08-936b-4aed-928b-a50dfdfdd802\n",
      "got one: df3186af-bf58-4a1e-b27f-854ede231863\n"
     ]
    }
   ],
   "source": [
    "for p in F._catalog[1].processes():\n",
    "    if any([x.flow.get_uuid() == flow.id for x in p.exchanges()]):\n",
    "        print('got one: %s' % p.get_uuid())"
   ]
  },
  {
   "cell_type": "code",
   "execution_count": 27,
   "metadata": {
    "collapsed": false
   },
   "outputs": [
    {
     "data": {
      "text/plain": [
       "[<lcatools.entities.LcProcess at 0x7f68945600b8>,\n",
       " <lcatools.entities.LcProcess at 0x7f6893fe4ba8>,\n",
       " <lcatools.entities.LcProcess at 0x7f6893b7ec88>]"
      ]
     },
     "execution_count": 27,
     "metadata": {},
     "output_type": "execute_result"
    }
   ],
   "source": [
    "p"
   ]
  },
  {
   "cell_type": "code",
   "execution_count": 26,
   "metadata": {
    "collapsed": false
   },
   "outputs": [
    {
     "ename": "TypeError",
     "evalue": "'str' object is not callable",
     "output_type": "error",
     "traceback": [
      "\u001b[1;31m---------------------------------------------------------------------------\u001b[0m",
      "\u001b[1;31mTypeError\u001b[0m                                 Traceback (most recent call last)",
      "\u001b[1;32m<ipython-input-26-8ec15b4db77b>\u001b[0m in \u001b[0;36m<module>\u001b[1;34m()\u001b[0m\n\u001b[1;32m----> 1\u001b[1;33m \u001b[0mterminate\u001b[0m\u001b[1;33m(\u001b[0m\u001b[1;36m1\u001b[0m\u001b[1;33m,\u001b[0m \u001b[0mflow\u001b[0m\u001b[1;33m)\u001b[0m\u001b[1;33m\u001b[0m\u001b[0m\n\u001b[0m",
      "\u001b[1;32m<ipython-input-25-6b70b37ae9fb>\u001b[0m in \u001b[0;36mterminate\u001b[1;34m(index, flow_ref)\u001b[0m\n\u001b[0;32m      1\u001b[0m \u001b[1;32mdef\u001b[0m \u001b[0mterminate\u001b[0m\u001b[1;33m(\u001b[0m\u001b[0mindex\u001b[0m\u001b[1;33m,\u001b[0m \u001b[0mflow_ref\u001b[0m\u001b[1;33m)\u001b[0m\u001b[1;33m:\u001b[0m\u001b[1;33m\u001b[0m\u001b[0m\n\u001b[1;32m----> 2\u001b[1;33m     return [F._catalog[index].ref(index, p) for p in F._catalog[index].processes()\n\u001b[0m\u001b[0;32m      3\u001b[0m             if any([x.flow.get_uuid() == flow_ref.id for x in p.exchanges()])]\n",
      "\u001b[1;32m<ipython-input-25-6b70b37ae9fb>\u001b[0m in \u001b[0;36m<listcomp>\u001b[1;34m(.0)\u001b[0m\n\u001b[0;32m      1\u001b[0m \u001b[1;32mdef\u001b[0m \u001b[0mterminate\u001b[0m\u001b[1;33m(\u001b[0m\u001b[0mindex\u001b[0m\u001b[1;33m,\u001b[0m \u001b[0mflow_ref\u001b[0m\u001b[1;33m)\u001b[0m\u001b[1;33m:\u001b[0m\u001b[1;33m\u001b[0m\u001b[0m\n\u001b[0;32m      2\u001b[0m     return [F._catalog[index].ref(index, p) for p in F._catalog[index].processes()\n\u001b[1;32m----> 3\u001b[1;33m             if any([x.flow.get_uuid() == flow_ref.id for x in p.exchanges()])]\n\u001b[0m",
      "\u001b[1;31mTypeError\u001b[0m: 'str' object is not callable"
     ]
    }
   ],
   "source": [
    "terminate(1, flow)"
   ]
  }
 ],
 "metadata": {
  "kernelspec": {
   "display_name": "Python 3",
   "language": "python",
   "name": "python3"
  },
  "language_info": {
   "codemirror_mode": {
    "name": "ipython",
    "version": 3
   },
   "file_extension": ".py",
   "mimetype": "text/x-python",
   "name": "python",
   "nbconvert_exporter": "python",
   "pygments_lexer": "ipython3",
   "version": "3.5.1"
  }
 },
 "nbformat": 4,
 "nbformat_minor": 0
}
