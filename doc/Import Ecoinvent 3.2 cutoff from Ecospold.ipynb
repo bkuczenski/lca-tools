{
 "cells": [
  {
   "cell_type": "code",
   "execution_count": 1,
   "metadata": {
    "collapsed": true
   },
   "outputs": [],
   "source": [
    "import sys\n",
    "sys.path.append('..')\n",
    "import os\n",
    "import re\n",
    "\n",
    "import lcatools\n"
   ]
  },
  {
   "cell_type": "code",
   "execution_count": 2,
   "metadata": {
    "collapsed": true
   },
   "outputs": [],
   "source": [
    "EI_version = '3.2'\n",
    "model = 'undefined'\n",
    "\n",
    "data_dir = os.path.join('/data','LCI','Ecoinvent', EI_version, model)\n",
    "zip_dir = os.path.join(os.path.expanduser('~'), 'Dropbox', 'data', 'Ecoinvent', EI_version)\n",
    "catalog_dir = os.path.join(os.path.expanduser('~'), 'GitHub', 'lca-tools-datafiles', 'catalogs')\n",
    "\n",
    "spold = 'current_Version_' + EI_version + '_' + model + '_ecoSpold02.7z'"
   ]
  },
  {
   "cell_type": "code",
   "execution_count": 3,
   "metadata": {
    "collapsed": true
   },
   "outputs": [],
   "source": [
    "from lcatools.providers.archive import Archive"
   ]
  },
  {
   "cell_type": "code",
   "execution_count": 6,
   "metadata": {
    "collapsed": false
   },
   "outputs": [
    {
     "name": "stdout",
     "output_type": "stream",
     "text": [
      "Found Extension: 7z\n"
     ]
    }
   ],
   "source": [
    "A = Archive(os.path.join(zip_dir, spold))"
   ]
  },
  {
   "cell_type": "code",
   "execution_count": 7,
   "metadata": {
    "collapsed": true
   },
   "outputs": [],
   "source": [
    "l = A.listfiles('datasets')[:10]"
   ]
  },
  {
   "cell_type": "code",
   "execution_count": 8,
   "metadata": {
    "collapsed": false
   },
   "outputs": [
    {
     "data": {
      "text/plain": [
       "['datasets/00009573-c174-463a-8ebf-183ec587ba0d_7cb72345-4338-4f2d-830f-65bba3530fdb.spold',\n",
       " 'datasets/00137c74-429d-4cd4-b9be-c70e88f0d3a7_6f13ac10-76f1-42c1-a46e-7dabda411274.spold',\n",
       " 'datasets/00137c74-429d-4cd4-b9be-c70e88f0d3a7_aabed306-e9a0-4441-86ac-5936fe671ed2.spold',\n",
       " 'datasets/001b1457-2b18-48de-913a-dee0f3064bb3_cb388ab7-cbc9-412f-ab11-811c808a8004.spold',\n",
       " 'datasets/0023ecb0-cb93-446b-a181-e307571b203c_db14b1bf-6c5e-4db1-833e-6bf331874714.spold',\n",
       " 'datasets/0036e50d-8e5b-438c-b94c-4ee40350362b_66c93e71-f32b-4591-901c-55395db5c132.spold',\n",
       " 'datasets/003b13f0-18f4-467d-91a6-4201072dadaa_759b89bd-3aa6-42ad-b767-5bb9ef5d331d.spold',\n",
       " 'datasets/003f9a31-c540-4351-a434-3b1b1c791b99_66c93e71-f32b-4591-901c-55395db5c132.spold',\n",
       " 'datasets/00420798-e9d1-4de9-8745-09bd85f31db8_66c93e71-f32b-4591-901c-55395db5c132.spold',\n",
       " 'datasets/00420798-e9d1-4de9-8745-09bd85f31db8_71e2f1db-a2c5-44d0-8337-dfff15be974d.spold']"
      ]
     },
     "execution_count": 8,
     "metadata": {},
     "output_type": "execute_result"
    }
   ],
   "source": [
    "l"
   ]
  },
  {
   "cell_type": "code",
   "execution_count": 9,
   "metadata": {
    "collapsed": true
   },
   "outputs": [],
   "source": [
    "uuid_regex = re.compile('([0-9a-f]{8}.?([0-9a-f]{4}.?){3}[0-9a-f]{12})')"
   ]
  },
  {
   "cell_type": "code",
   "execution_count": 10,
   "metadata": {
    "collapsed": false
   },
   "outputs": [
    {
     "data": {
      "text/plain": [
       "[('00009573-c174-463a-8ebf-183ec587ba0d', '8ebf-'),\n",
       " ('7cb72345-4338-4f2d-830f-65bba3530fdb', '830f-')]"
      ]
     },
     "execution_count": 10,
     "metadata": {},
     "output_type": "execute_result"
    }
   ],
   "source": [
    "uuid_regex.findall(l[0])"
   ]
  },
  {
   "cell_type": "code",
   "execution_count": 3,
   "metadata": {
    "collapsed": true
   },
   "outputs": [],
   "source": [
    "from lcatools.providers.ecospold2 import EcospoldV2Archive"
   ]
  },
  {
   "cell_type": "code",
   "execution_count": 4,
   "metadata": {
    "collapsed": false
   },
   "outputs": [
    {
     "name": "stdout",
     "output_type": "stream",
     "text": [
      "Found Extension: 7z\n"
     ]
    }
   ],
   "source": [
    "EU = EcospoldV2Archive(os.path.join(zip_dir,spold), prefix='datasets - public')"
   ]
  },
  {
   "cell_type": "code",
   "execution_count": 5,
   "metadata": {
    "collapsed": false
   },
   "outputs": [
    {
     "data": {
      "text/plain": [
       "['00093951-0c71-4a74-96d8-ece56003838a_b335722e-f52e-44cd-b335-a6686c7fe3ab.spold',\n",
       " '000b493f-5e76-4fe0-93ca-73b49263c1fc_29fbcb1d-79ca-45df-8eec-3e51bb95979d.spold',\n",
       " '001a7c31-a39b-4606-9877-d6cfc36e5fd8_47e8f15f-6a0b-4ec5-be7d-8965ce014081.spold',\n",
       " '001b83bb-d07c-4c91-90c1-5a9437badf06_089f5c04-e340-42c4-bf9c-e8ec6174443a.spold',\n",
       " '001fa547-fbbd-4172-9492-0f58076c4553_7f56554d-e090-4df5-b538-3a235b534353.spold',\n",
       " '002da2f2-595b-427e-ae3a-3f7dcd769715_6eb408db-980a-4b9e-82a8-b6dca183ec35.spold',\n",
       " '002f9105-f892-4241-9c45-b3b7d68a9c72_99e47244-0ecd-4d45-8d79-f4e3cb384d05.spold',\n",
       " '00352317-8629-4778-96a7-abfa11c1face_dcb70fd5-e305-4920-b68b-40697cc6a206.spold',\n",
       " '0036e50d-8e5b-438c-b94c-4ee40350362b_66c93e71-f32b-4591-901c-55395db5c132.spold',\n",
       " '003ad59e-1069-4a8f-ada1-6785cf19e74b_77c1da70-f6b7-47eb-a986-4d70a4bf31a1.spold']"
      ]
     },
     "execution_count": 5,
     "metadata": {},
     "output_type": "execute_result"
    }
   ],
   "source": [
    "EU.list_datasets()[:10]"
   ]
  },
  {
   "cell_type": "code",
   "execution_count": 6,
   "metadata": {
    "collapsed": false
   },
   "outputs": [],
   "source": [
    "l = EU.list_datasets()[:10]"
   ]
  },
  {
   "cell_type": "code",
   "execution_count": 7,
   "metadata": {
    "collapsed": false
   },
   "outputs": [],
   "source": [
    "EU._quiet = False"
   ]
  },
  {
   "cell_type": "code",
   "execution_count": 8,
   "metadata": {
    "collapsed": false
   },
   "outputs": [
    {
     "name": "stdout",
     "output_type": "stream",
     "text": [
      "Adding process entity with 000b493f-5e76-4fe0-93ca-73b49263c1fc: chlorine dioxide production\n",
      "Adding quantity entity with 487df68b-4994-4027-8fdc-a4dc298257b7: EcoSpold Quantity kg\n",
      "Adding flow entity with 29fbcb1d-79ca-45df-8eec-3e51bb95979d: chlorine dioxide\n",
      "Identified reference exchange\n",
      " chlorine dioxide production [GLO] has Output: chlorine dioxide (CAS 10049-04-4) [By-product classification: allocatable product] [kg]\n",
      "Adding flow entity with edcfa83a-363a-4b2d-8d6a-612e32dfcdfc: sodium chloride, powder\n",
      "Adding quantity entity with 77ae64fa-7e74-4252-9c3b-889c1cd20bfc: EcoSpold Quantity kWh\n",
      "Adding flow entity with 759b89bd-3aa6-42ad-b767-5bb9ef5d331d: electricity, medium voltage\n",
      "Adding quantity entity with 5b972631-34e3-4db7-a615-f6931770a0cb: EcoSpold Quantity unit\n",
      "Adding flow entity with 3d0fe4e0-eac9-4704-b3fd-09b8594d0fbe: chemical factory, organics\n",
      "Adding flow entity with 6c9cf309-10ae-4fde-8f55-d2debd3103c2: sodium chlorate, powder\n",
      "Adding flow entity with 9d63da75-8289-4b96-a900-67ec3bd40a16: sulfuric acid\n",
      "Adding quantity entity with 980b811e-3905-4797-82a5-173f5568bc7e: EcoSpold Quantity MJ\n",
      "Adding flow entity with 1125e767-7b5d-442e-81d6-9b0d3e1919ac: heat, district or industrial, natural gas\n",
      "Adding quantity entity with de5b3c87-0e35-4fb0-9765-4f3ba34c99e5: EcoSpold Quantity m3\n",
      "Adding flow entity with 075e433b-4be4-448e-9510-9a5029c1ce94: Water\n",
      "Adding flow entity with 2404b41a-2eed-4e9d-8ab6-783946fdf5d6: Water\n",
      "Adding flow entity with 1fc409bc-b8e7-48b2-92d5-2ced4aa7bae2: Sodium, ion\n",
      "Adding flow entity with 37d35fd0-7f07-4b9b-92eb-de3c27050172: Sulfate\n",
      "Adding flow entity with 826677aa-8347-4494-85da-a26fe3e1e824: Sulfate\n",
      "Adding flow entity with fc1c42ce-a759-49fa-b987-f1ec5e503db1: Water, cooling, unspecified natural origin\n",
      "Adding flow entity with 831f249e-53f2-49cf-a93c-7cee105f048e: Water, unspecified natural origin\n",
      "Adding flow entity with f9749677-9c9f-4678-ab55-c607dfdc2cb9: Carbon dioxide, fossil\n",
      "Adding flow entity with 21b46c65-491e-40a9-ac74-5877af997d7c: Sodium chlorate\n",
      "Adding flow entity with 25131632-4b24-4625-8940-60d00385dad5: Chlorate\n",
      "Adding flow entity with c9e29113-8f61-41bb-8bc1-b49c6f152fd9: Cyanide\n",
      "Adding flow entity with 5e050fab-1837-4c42-b597-ed2f376f768f: Chloride\n",
      "Exch chlorine dioxide (CAS 10049-04-4) [By-product classification: allocatable product] [Output] (1)\n",
      "Exch sodium chloride, powder (CAS 7647-14-5) [By-product classification: allocatable product] [Input] (0.912)\n",
      "Exch electricity, medium voltage [By-product classification: allocatable product] [Input] (0.333)\n",
      "Exch chemical factory, organics [By-product classification: allocatable product] [Input] (4e-10)\n",
      "Exch sodium chlorate, powder (CAS 7775-09-9) [By-product classification: allocatable product] [Input] (1.66)\n",
      "Exch sulfuric acid [By-product classification: allocatable product] [Input] (1.53)\n",
      "Exch heat, district or industrial, natural gas [By-product classification: allocatable product] [Input] (2)\n",
      "Exch Water (CAS 007732-18-5) [air, unspecified] [Output] (0.01176)\n",
      "Exch Water (CAS 007732-18-5) [water, unspecified] [Output] (0.02424)\n",
      "Exch Sodium, ion (CAS 017341-25-2) [water, surface water] [Output] (0.0352)\n",
      "Exch Sulfate (CAS 014808-79-8) [water, surface water] [Output] (0.072)\n",
      "Exch Sulfate (CAS 014808-79-8) [air, urban air close to ground] [Output] (0.003)\n",
      "Exch Water, cooling, unspecified natural origin (CAS 007732-18-5) [natural resource, in water] [Input] (0.024)\n",
      "Exch Water, unspecified natural origin (CAS 007732-18-5) [natural resource, in water] [Input] (0.012)\n",
      "Exch Carbon dioxide, fossil (CAS 000124-38-9) [air, urban air close to ground] [Output] (0.0402)\n",
      "Exch Sodium chlorate (CAS 007775-09-9) [air, urban air close to ground] [Output] (0.00332)\n",
      "Exch Chlorate (CAS 007790-93-4) [water, surface water] [Output] (0.0625)\n",
      "Exch Cyanide (CAS 000057-12-5) [water, surface water] [Output] (0.00274)\n",
      "Exch Chloride (CAS 016887-00-6) [water, surface water] [Output] (0.0277)\n"
     ]
    },
    {
     "data": {
      "text/plain": [
       "<lcatools.entities.LcProcess at 0x7ff102d074a8>"
      ]
     },
     "execution_count": 8,
     "metadata": {},
     "output_type": "execute_result"
    }
   ],
   "source": [
    "EU.retrieve_or_fetch_entity(l[1])"
   ]
  },
  {
   "cell_type": "code",
   "execution_count": 9,
   "metadata": {
    "collapsed": false
   },
   "outputs": [
    {
     "data": {
      "text/plain": [
       "[' Input:     [0.024 [m3]] Water, cooling, unspecified natural origin (CAS 007732-18-5) [natural resource, in water]',\n",
       " ' Input:     [0.912 [kg]] sodium chloride, powder (CAS 7647-14-5) [By-product classification: allocatable product]',\n",
       " ' Input:     [0.333 [kWh]] electricity, medium voltage [By-product classification: allocatable product]',\n",
       " ' Input:     [4e-10 [unit]] chemical factory, organics [By-product classification: allocatable product]',\n",
       " ' Input:     [1.66 [kg]] sodium chlorate, powder (CAS 7775-09-9) [By-product classification: allocatable product]',\n",
       " ' Input:     [0.012 [m3]] Water, unspecified natural origin (CAS 007732-18-5) [natural resource, in water]',\n",
       " ' Input:     [2 [MJ]] heat, district or industrial, natural gas [By-product classification: allocatable product]',\n",
       " ' Input:     [1.53 [kg]] sulfuric acid [By-product classification: allocatable product]',\n",
       " 'Output:     [0.0277 [kg]] Chloride (CAS 016887-00-6) [water, surface water]',\n",
       " 'Output:     [0.0242 [m3]] Water (CAS 007732-18-5) [water, unspecified]',\n",
       " 'Output:     [0.0352 [kg]] Sodium, ion (CAS 017341-25-2) [water, surface water]',\n",
       " 'Output:     [0.00332 [kg]] Sodium chlorate (CAS 007775-09-9) [air, urban air close to ground]',\n",
       " 'Output:     [0.072 [kg]] Sulfate (CAS 014808-79-8) [water, surface water]',\n",
       " 'Output: {*} [1 [kg]] chlorine dioxide (CAS 10049-04-4) [By-product classification: allocatable product]',\n",
       " 'Output:     [0.003 [kg]] Sulfate (CAS 014808-79-8) [air, urban air close to ground]',\n",
       " 'Output:     [0.00274 [kg]] Cyanide (CAS 000057-12-5) [water, surface water]',\n",
       " 'Output:     [0.0118 [m3]] Water (CAS 007732-18-5) [air, unspecified]',\n",
       " 'Output:     [0.0402 [kg]] Carbon dioxide, fossil (CAS 000124-38-9) [air, urban air close to ground]',\n",
       " 'Output:     [0.0625 [kg]] Chlorate (CAS 007790-93-4) [water, surface water]']"
      ]
     },
     "execution_count": 9,
     "metadata": {},
     "output_type": "execute_result"
    }
   ],
   "source": [
    "[str(x) for x in EU.processes()[0].exchanges()]"
   ]
  },
  {
   "cell_type": "code",
   "execution_count": 10,
   "metadata": {
    "collapsed": true
   },
   "outputs": [],
   "source": [
    "p = EU.processes()[0]"
   ]
  },
  {
   "cell_type": "code",
   "execution_count": 11,
   "metadata": {
    "collapsed": false
   },
   "outputs": [],
   "source": [
    "px = [x for x in p.exchanges()]"
   ]
  },
  {
   "cell_type": "code",
   "execution_count": 12,
   "metadata": {
    "collapsed": false
   },
   "outputs": [
    {
     "data": {
      "text/plain": [
       "'Output:     [0.0242 [m3]] Water (CAS 007732-18-5) [water, unspecified]'"
      ]
     },
     "execution_count": 12,
     "metadata": {},
     "output_type": "execute_result"
    }
   ],
   "source": [
    "str(px[-1])"
   ]
  },
  {
   "cell_type": "code",
   "execution_count": 13,
   "metadata": {
    "collapsed": false
   },
   "outputs": [
    {
     "data": {
      "text/plain": [
       "{'_ref_flow': '2404b41a-2eed-4e9d-8ab6-783946fdf5d6',\n",
       " '_value': 0.02424,\n",
       " '_value_dict': {'29fbcb1d-79ca-45df-8eec-3e51bb95979d': 0.02424},\n",
       " 'direction': 'Output',\n",
       " 'flow': <lcatools.entities.LcFlow at 0x7fa300c60278>,\n",
       " 'process': <lcatools.entities.LcProcess at 0x7fa300c533c8>,\n",
       " 'termination': None,\n",
       " 'unit': <lcatools.entities.LcUnit at 0x7fa300c53fd0>}"
      ]
     },
     "execution_count": 13,
     "metadata": {},
     "output_type": "execute_result"
    }
   ],
   "source": [
    "px[-1].__dict__"
   ]
  },
  {
   "cell_type": "code",
   "execution_count": 16,
   "metadata": {
    "collapsed": false
   },
   "outputs": [
    {
     "data": {
      "text/plain": [
       "['00093951-0c71-4a74-96d8-ece56003838a_b335722e-f52e-44cd-b335-a6686c7fe3ab.spold']"
      ]
     },
     "execution_count": 16,
     "metadata": {},
     "output_type": "execute_result"
    }
   ],
   "source": [
    "EU.list_datasets(EU.processes()[0].get_uuid())"
   ]
  },
  {
   "cell_type": "code",
   "execution_count": 19,
   "metadata": {
    "collapsed": false
   },
   "outputs": [
    {
     "ename": "NameError",
     "evalue": "name 'EA' is not defined",
     "output_type": "error",
     "traceback": [
      "\u001b[1;31m---------------------------------------------------------------------------\u001b[0m",
      "\u001b[1;31mNameError\u001b[0m                                 Traceback (most recent call last)",
      "\u001b[1;32m<ipython-input-19-2e2fb0da58bb>\u001b[0m in \u001b[0;36m<module>\u001b[1;34m()\u001b[0m\n\u001b[1;32m----> 1\u001b[1;33m \u001b[1;32mfor\u001b[0m \u001b[0mf\u001b[0m \u001b[1;32min\u001b[0m \u001b[0mEA\u001b[0m\u001b[1;33m.\u001b[0m\u001b[0mlist_datasets\u001b[0m\u001b[1;33m(\u001b[0m\u001b[1;34m'0ac9332f'\u001b[0m\u001b[1;33m)\u001b[0m\u001b[1;33m:\u001b[0m\u001b[1;33m\u001b[0m\u001b[0m\n\u001b[0m\u001b[0;32m      2\u001b[0m     \u001b[0mEA\u001b[0m\u001b[1;33m.\u001b[0m\u001b[0m_fetch\u001b[0m\u001b[1;33m(\u001b[0m\u001b[0mf\u001b[0m\u001b[1;33m)\u001b[0m\u001b[1;33m\u001b[0m\u001b[0m\n",
      "\u001b[1;31mNameError\u001b[0m: name 'EA' is not defined"
     ]
    }
   ],
   "source": [
    "for f in EA.list_datasets('0ac9332f'):\n",
    "    EA._fetch(f)"
   ]
  },
  {
   "cell_type": "code",
   "execution_count": 23,
   "metadata": {
    "collapsed": false
   },
   "outputs": [],
   "source": [
    "g = (EA.processes()[0].exchanges())"
   ]
  },
  {
   "cell_type": "code",
   "execution_count": 29,
   "metadata": {
    "collapsed": false
   },
   "outputs": [
    {
     "data": {
      "text/plain": [
       "{'_ref_flow': '6ab2abde-801d-45a3-8ea3-455d0f01c3f4',\n",
       " '_value': None,\n",
       " '_value_dict': {'45fbbc41-7ae9-46cc-bb31-abfa11e69de0': '0'},\n",
       " 'direction': 'Input',\n",
       " 'flow': <lcatools.entities.LcFlow at 0x7fc0d6c0f5f8>,\n",
       " 'process': <lcatools.entities.LcProcess at 0x7fc0d6c00588>,\n",
       " 'quantity': <lcatools.entities.LcQuantity at 0x7fc0d6c00b38>}"
      ]
     },
     "execution_count": 29,
     "metadata": {},
     "output_type": "execute_result"
    }
   ],
   "source": [
    "next(g).__dict__"
   ]
  },
  {
   "cell_type": "code",
   "execution_count": 20,
   "metadata": {
    "collapsed": false
   },
   "outputs": [],
   "source": [
    "def qprint(*args):\n",
    "    print(*args)"
   ]
  },
  {
   "cell_type": "code",
   "execution_count": 22,
   "metadata": {
    "collapsed": true
   },
   "outputs": [],
   "source": [
    "stuff='foo'"
   ]
  },
  {
   "cell_type": "code",
   "execution_count": 23,
   "metadata": {
    "collapsed": false
   },
   "outputs": [
    {
     "name": "stdout",
     "output_type": "stream",
     "text": [
      "this is the foo\n"
     ]
    }
   ],
   "source": [
    "qprint('this is the %s' % stuff)"
   ]
  },
  {
   "cell_type": "code",
   "execution_count": 13,
   "metadata": {
    "collapsed": false
   },
   "outputs": [],
   "source": [
    "b = set([a])"
   ]
  },
  {
   "cell_type": "code",
   "execution_count": 10,
   "metadata": {
    "collapsed": true
   },
   "outputs": [],
   "source": [
    "EU._quiet = True\n"
   ]
  },
  {
   "cell_type": "code",
   "execution_count": 11,
   "metadata": {
    "collapsed": false
   },
   "outputs": [
    {
     "name": "stdout",
     "output_type": "stream",
     "text": [
      "Loading /home/b/Dropbox/data/Ecoinvent/3.2/current_Version_3.2_undefined_ecoSpold02.7z\n",
      " Loaded 100 processes (t=16.10 s)\n",
      " Loaded 200 processes (t=17.66 s)\n",
      " Loaded 300 processes (t=19.07 s)\n",
      " Loaded 400 processes (t=40.12 s)\n"
     ]
    },
    {
     "ename": "KeyboardInterrupt",
     "evalue": "",
     "output_type": "error",
     "traceback": [
      "\u001b[1;31m---------------------------------------------------------------------------\u001b[0m",
      "\u001b[1;31mKeyboardInterrupt\u001b[0m                         Traceback (most recent call last)",
      "\u001b[1;32m<ipython-input-11-f41408789ed1>\u001b[0m in \u001b[0;36m<module>\u001b[1;34m()\u001b[0m\n\u001b[1;32m----> 1\u001b[1;33m \u001b[0mEU\u001b[0m\u001b[1;33m.\u001b[0m\u001b[0mload_all\u001b[0m\u001b[1;33m(\u001b[0m\u001b[1;33m)\u001b[0m\u001b[1;33m\u001b[0m\u001b[0m\n\u001b[0m",
      "\u001b[1;32m/data/GitHub/lca-tools/lcatools/interfaces.py\u001b[0m in \u001b[0;36mload_all\u001b[1;34m(self, **kwargs)\u001b[0m\n\u001b[0;32m    398\u001b[0m     \u001b[1;32mdef\u001b[0m \u001b[0mload_all\u001b[0m\u001b[1;33m(\u001b[0m\u001b[0mself\u001b[0m\u001b[1;33m,\u001b[0m \u001b[1;33m**\u001b[0m\u001b[0mkwargs\u001b[0m\u001b[1;33m)\u001b[0m\u001b[1;33m:\u001b[0m\u001b[1;33m\u001b[0m\u001b[0m\n\u001b[0;32m    399\u001b[0m         \u001b[0mprint\u001b[0m\u001b[1;33m(\u001b[0m\u001b[1;34m'Loading %s'\u001b[0m \u001b[1;33m%\u001b[0m \u001b[0mself\u001b[0m\u001b[1;33m.\u001b[0m\u001b[0mref\u001b[0m\u001b[1;33m)\u001b[0m\u001b[1;33m\u001b[0m\u001b[0m\n\u001b[1;32m--> 400\u001b[1;33m         \u001b[0mself\u001b[0m\u001b[1;33m.\u001b[0m\u001b[0m_load_all\u001b[0m\u001b[1;33m(\u001b[0m\u001b[1;33m**\u001b[0m\u001b[0mkwargs\u001b[0m\u001b[1;33m)\u001b[0m\u001b[1;33m\u001b[0m\u001b[0m\n\u001b[0m\u001b[0;32m    401\u001b[0m \u001b[1;33m\u001b[0m\u001b[0m\n\u001b[0;32m    402\u001b[0m     \u001b[1;32mdef\u001b[0m \u001b[0m_entities_by_type\u001b[0m\u001b[1;33m(\u001b[0m\u001b[0mself\u001b[0m\u001b[1;33m,\u001b[0m \u001b[0mentity_type\u001b[0m\u001b[1;33m,\u001b[0m \u001b[1;33m**\u001b[0m\u001b[0mkwargs\u001b[0m\u001b[1;33m)\u001b[0m\u001b[1;33m:\u001b[0m\u001b[1;33m\u001b[0m\u001b[0m\n",
      "\u001b[1;32m/data/GitHub/lca-tools/lcatools/providers/ecospold2.py\u001b[0m in \u001b[0;36m_load_all\u001b[1;34m(self, exchanges)\u001b[0m\n\u001b[0;32m    303\u001b[0m         \u001b[0mcount\u001b[0m \u001b[1;33m=\u001b[0m \u001b[1;36m0\u001b[0m\u001b[1;33m\u001b[0m\u001b[0m\n\u001b[0;32m    304\u001b[0m         \u001b[1;32mfor\u001b[0m \u001b[0mk\u001b[0m \u001b[1;32min\u001b[0m \u001b[0mself\u001b[0m\u001b[1;33m.\u001b[0m\u001b[0mlist_datasets\u001b[0m\u001b[1;33m(\u001b[0m\u001b[1;33m)\u001b[0m\u001b[1;33m:\u001b[0m\u001b[1;33m\u001b[0m\u001b[0m\n\u001b[1;32m--> 305\u001b[1;33m             \u001b[0mself\u001b[0m\u001b[1;33m.\u001b[0m\u001b[0mretrieve_or_fetch_entity\u001b[0m\u001b[1;33m(\u001b[0m\u001b[0mk\u001b[0m\u001b[1;33m,\u001b[0m \u001b[0mexchanges\u001b[0m\u001b[1;33m=\u001b[0m\u001b[0mexchanges\u001b[0m\u001b[1;33m)\u001b[0m\u001b[1;33m\u001b[0m\u001b[0m\n\u001b[0m\u001b[0;32m    306\u001b[0m             \u001b[0mcount\u001b[0m \u001b[1;33m+=\u001b[0m \u001b[1;36m1\u001b[0m\u001b[1;33m\u001b[0m\u001b[0m\n\u001b[0;32m    307\u001b[0m             \u001b[1;32mif\u001b[0m \u001b[0mcount\u001b[0m \u001b[1;33m%\u001b[0m \u001b[1;36m100\u001b[0m \u001b[1;33m==\u001b[0m \u001b[1;36m0\u001b[0m\u001b[1;33m:\u001b[0m\u001b[1;33m\u001b[0m\u001b[0m\n",
      "\u001b[1;32m/data/GitHub/lca-tools/lcatools/providers/ecospold2.py\u001b[0m in \u001b[0;36mretrieve_or_fetch_entity\u001b[1;34m(self, filename, **kwargs)\u001b[0m\n\u001b[0;32m    297\u001b[0m             \u001b[1;32mif\u001b[0m \u001b[0mspold_reference_flow\u001b[0m\u001b[1;33m(\u001b[0m\u001b[0mfilename\u001b[0m\u001b[1;33m)\u001b[0m \u001b[1;32min\u001b[0m \u001b[1;33m[\u001b[0m\u001b[0mx\u001b[0m\u001b[1;33m.\u001b[0m\u001b[0mflow\u001b[0m\u001b[1;33m.\u001b[0m\u001b[0mget_uuid\u001b[0m\u001b[1;33m(\u001b[0m\u001b[1;33m)\u001b[0m \u001b[1;32mfor\u001b[0m \u001b[0mx\u001b[0m \u001b[1;32min\u001b[0m \u001b[0mentity\u001b[0m\u001b[1;33m.\u001b[0m\u001b[0mreference_entity\u001b[0m\u001b[1;33m]\u001b[0m\u001b[1;33m:\u001b[0m\u001b[1;33m\u001b[0m\u001b[0m\n\u001b[0;32m    298\u001b[0m                 \u001b[1;32mreturn\u001b[0m \u001b[0mentity\u001b[0m\u001b[1;33m\u001b[0m\u001b[0m\n\u001b[1;32m--> 299\u001b[1;33m         \u001b[1;32mreturn\u001b[0m \u001b[0mself\u001b[0m\u001b[1;33m.\u001b[0m\u001b[0m_create_process\u001b[0m\u001b[1;33m(\u001b[0m\u001b[0mfilename\u001b[0m\u001b[1;33m,\u001b[0m \u001b[1;33m**\u001b[0m\u001b[0mkwargs\u001b[0m\u001b[1;33m)\u001b[0m\u001b[1;33m\u001b[0m\u001b[0m\n\u001b[0m\u001b[0;32m    300\u001b[0m \u001b[1;33m\u001b[0m\u001b[0m\n\u001b[0;32m    301\u001b[0m     \u001b[1;32mdef\u001b[0m \u001b[0m_load_all\u001b[0m\u001b[1;33m(\u001b[0m\u001b[0mself\u001b[0m\u001b[1;33m,\u001b[0m \u001b[0mexchanges\u001b[0m\u001b[1;33m=\u001b[0m\u001b[1;32mTrue\u001b[0m\u001b[1;33m)\u001b[0m\u001b[1;33m:\u001b[0m\u001b[1;33m\u001b[0m\u001b[0m\n",
      "\u001b[1;32m/data/GitHub/lca-tools/lcatools/providers/ecospold2.py\u001b[0m in \u001b[0;36m_create_process\u001b[1;34m(self, filename, exchanges)\u001b[0m\n\u001b[0;32m    254\u001b[0m         \"\"\"\n\u001b[0;32m    255\u001b[0m         \u001b[1;32mtry\u001b[0m\u001b[1;33m:\u001b[0m\u001b[1;33m\u001b[0m\u001b[0m\n\u001b[1;32m--> 256\u001b[1;33m             \u001b[0mo\u001b[0m \u001b[1;33m=\u001b[0m \u001b[0mself\u001b[0m\u001b[1;33m.\u001b[0m\u001b[0m_get_objectified_entity\u001b[0m\u001b[1;33m(\u001b[0m\u001b[0mfilename\u001b[0m\u001b[1;33m)\u001b[0m\u001b[1;33m\u001b[0m\u001b[0m\n\u001b[0m\u001b[0;32m    257\u001b[0m         \u001b[1;32mexcept\u001b[0m \u001b[0mXMLSyntaxError\u001b[0m\u001b[1;33m:\u001b[0m\u001b[1;33m\u001b[0m\u001b[0m\n\u001b[0;32m    258\u001b[0m             \u001b[1;32mtry\u001b[0m\u001b[1;33m:\u001b[0m\u001b[1;33m\u001b[0m\u001b[0m\n",
      "\u001b[1;32m/data/GitHub/lca-tools/lcatools/providers/ecospold2.py\u001b[0m in \u001b[0;36m_get_objectified_entity\u001b[1;34m(self, filename)\u001b[0m\n\u001b[0;32m     93\u001b[0m     \u001b[1;32mdef\u001b[0m \u001b[0m_get_objectified_entity\u001b[0m\u001b[1;33m(\u001b[0m\u001b[0mself\u001b[0m\u001b[1;33m,\u001b[0m \u001b[0mfilename\u001b[0m\u001b[1;33m)\u001b[0m\u001b[1;33m:\u001b[0m\u001b[1;33m\u001b[0m\u001b[0m\n\u001b[0;32m     94\u001b[0m         \u001b[1;32mtry\u001b[0m\u001b[1;33m:\u001b[0m\u001b[1;33m\u001b[0m\u001b[0m\n\u001b[1;32m---> 95\u001b[1;33m             \u001b[0mo\u001b[0m \u001b[1;33m=\u001b[0m \u001b[0mobjectify\u001b[0m\u001b[1;33m.\u001b[0m\u001b[0mfromstring\u001b[0m\u001b[1;33m(\u001b[0m\u001b[0mself\u001b[0m\u001b[1;33m.\u001b[0m\u001b[0m_fetch_filename\u001b[0m\u001b[1;33m(\u001b[0m\u001b[0mfilename\u001b[0m\u001b[1;33m)\u001b[0m\u001b[1;33m)\u001b[0m\u001b[1;33m\u001b[0m\u001b[0m\n\u001b[0m\u001b[0;32m     96\u001b[0m         \u001b[1;32mexcept\u001b[0m \u001b[0mValueError\u001b[0m\u001b[1;33m:\u001b[0m\u001b[1;33m\u001b[0m\u001b[0m\n\u001b[0;32m     97\u001b[0m             \u001b[0mprint\u001b[0m\u001b[1;33m(\u001b[0m\u001b[1;34m'failed on :%s:'\u001b[0m \u001b[1;33m%\u001b[0m \u001b[0mfilename\u001b[0m\u001b[1;33m)\u001b[0m\u001b[1;33m\u001b[0m\u001b[0m\n",
      "\u001b[1;32m/data/GitHub/lca-tools/lcatools/providers/ecospold2.py\u001b[0m in \u001b[0;36m_fetch_filename\u001b[1;34m(self, filename)\u001b[0m\n\u001b[0;32m     85\u001b[0m \u001b[1;33m\u001b[0m\u001b[0m\n\u001b[0;32m     86\u001b[0m     \u001b[1;32mdef\u001b[0m \u001b[0m_fetch_filename\u001b[0m\u001b[1;33m(\u001b[0m\u001b[0mself\u001b[0m\u001b[1;33m,\u001b[0m \u001b[0mfilename\u001b[0m\u001b[1;33m)\u001b[0m\u001b[1;33m:\u001b[0m\u001b[1;33m\u001b[0m\u001b[0m\n\u001b[1;32m---> 87\u001b[1;33m         \u001b[1;32mreturn\u001b[0m \u001b[0mself\u001b[0m\u001b[1;33m.\u001b[0m\u001b[0m_archive\u001b[0m\u001b[1;33m.\u001b[0m\u001b[0mreadfile\u001b[0m\u001b[1;33m(\u001b[0m\u001b[0mself\u001b[0m\u001b[1;33m.\u001b[0m\u001b[0m_prefix\u001b[0m\u001b[1;33m(\u001b[0m\u001b[0mfilename\u001b[0m\u001b[1;33m)\u001b[0m\u001b[1;33m)\u001b[0m\u001b[1;33m\u001b[0m\u001b[0m\n\u001b[0m\u001b[0;32m     88\u001b[0m \u001b[1;33m\u001b[0m\u001b[0m\n\u001b[0;32m     89\u001b[0m     \u001b[1;32mdef\u001b[0m \u001b[0mlist_datasets\u001b[0m\u001b[1;33m(\u001b[0m\u001b[0mself\u001b[0m\u001b[1;33m,\u001b[0m \u001b[0mstartswith\u001b[0m\u001b[1;33m=\u001b[0m\u001b[1;32mNone\u001b[0m\u001b[1;33m)\u001b[0m\u001b[1;33m:\u001b[0m\u001b[1;33m\u001b[0m\u001b[0m\n",
      "\u001b[1;32m/data/GitHub/lca-tools/lcatools/providers/archive.py\u001b[0m in \u001b[0;36mreadfile\u001b[1;34m(self, fname, force_download)\u001b[0m\n\u001b[0;32m    230\u001b[0m                 \u001b[1;32mreturn\u001b[0m \u001b[0mfile\u001b[0m\u001b[1;33m\u001b[0m\u001b[0m\n\u001b[0;32m    231\u001b[0m             \u001b[1;32melse\u001b[0m\u001b[1;33m:\u001b[0m\u001b[1;33m\u001b[0m\u001b[0m\n\u001b[1;32m--> 232\u001b[1;33m                 \u001b[1;32mreturn\u001b[0m \u001b[0mfile\u001b[0m\u001b[1;33m.\u001b[0m\u001b[0mread\u001b[0m\u001b[1;33m(\u001b[0m\u001b[1;33m)\u001b[0m\u001b[1;33m\u001b[0m\u001b[0m\n\u001b[0m\u001b[0;32m    233\u001b[0m \u001b[1;33m\u001b[0m\u001b[0m\n\u001b[0;32m    234\u001b[0m         \u001b[1;32melse\u001b[0m\u001b[1;33m:\u001b[0m\u001b[1;33m\u001b[0m\u001b[0m\n",
      "\u001b[1;32m/home/b/.virtualenvs/lca-tools/lib/python3.5/site-packages/py7zlib.py\u001b[0m in \u001b[0;36mread\u001b[1;34m(self)\u001b[0m\n\u001b[0;32m    606\u001b[0m                 \u001b[1;32mraise\u001b[0m \u001b[0mUnsupportedCompressionMethodError\u001b[0m\u001b[1;33m(\u001b[0m\u001b[0mrepr\u001b[0m\u001b[1;33m(\u001b[0m\u001b[0mcoder\u001b[0m\u001b[1;33m[\u001b[0m\u001b[1;34m'method'\u001b[0m\u001b[1;33m]\u001b[0m\u001b[1;33m)\u001b[0m\u001b[1;33m)\u001b[0m\u001b[1;33m\u001b[0m\u001b[0m\n\u001b[0;32m    607\u001b[0m \u001b[1;33m\u001b[0m\u001b[0m\n\u001b[1;32m--> 608\u001b[1;33m             \u001b[0mdata\u001b[0m \u001b[1;33m=\u001b[0m \u001b[0mgetattr\u001b[0m\u001b[1;33m(\u001b[0m\u001b[0mself\u001b[0m\u001b[1;33m,\u001b[0m \u001b[0mdecoder\u001b[0m\u001b[1;33m)\u001b[0m\u001b[1;33m(\u001b[0m\u001b[0mcoder\u001b[0m\u001b[1;33m,\u001b[0m \u001b[0mdata\u001b[0m\u001b[1;33m,\u001b[0m \u001b[0mlevel\u001b[0m\u001b[1;33m)\u001b[0m\u001b[1;33m\u001b[0m\u001b[0m\n\u001b[0m\u001b[0;32m    609\u001b[0m             \u001b[0mlevel\u001b[0m \u001b[1;33m+=\u001b[0m \u001b[1;36m1\u001b[0m\u001b[1;33m\u001b[0m\u001b[0m\n\u001b[0;32m    610\u001b[0m \u001b[1;33m\u001b[0m\u001b[0m\n",
      "\u001b[1;32m/home/b/.virtualenvs/lca-tools/lib/python3.5/site-packages/py7zlib.py\u001b[0m in \u001b[0;36m_read_lzma\u001b[1;34m(self, coder, input, level)\u001b[0m\n\u001b[0;32m    669\u001b[0m         \u001b[0mdec\u001b[0m \u001b[1;33m=\u001b[0m \u001b[0mpylzma\u001b[0m\u001b[1;33m.\u001b[0m\u001b[0mdecompressobj\u001b[0m\u001b[1;33m(\u001b[0m\u001b[0mmaxlength\u001b[0m\u001b[1;33m=\u001b[0m\u001b[0mself\u001b[0m\u001b[1;33m.\u001b[0m\u001b[0m_start\u001b[0m\u001b[1;33m+\u001b[0m\u001b[0msize\u001b[0m\u001b[1;33m)\u001b[0m\u001b[1;33m\u001b[0m\u001b[0m\n\u001b[0;32m    670\u001b[0m         \u001b[1;32mtry\u001b[0m\u001b[1;33m:\u001b[0m\u001b[1;33m\u001b[0m\u001b[0m\n\u001b[1;32m--> 671\u001b[1;33m             \u001b[1;32mreturn\u001b[0m \u001b[0mself\u001b[0m\u001b[1;33m.\u001b[0m\u001b[0m_read_from_decompressor\u001b[0m\u001b[1;33m(\u001b[0m\u001b[0mcoder\u001b[0m\u001b[1;33m,\u001b[0m \u001b[0mdec\u001b[0m\u001b[1;33m,\u001b[0m \u001b[0minput\u001b[0m\u001b[1;33m,\u001b[0m \u001b[0mlevel\u001b[0m\u001b[1;33m,\u001b[0m \u001b[0mcheckremaining\u001b[0m\u001b[1;33m=\u001b[0m\u001b[1;32mTrue\u001b[0m\u001b[1;33m,\u001b[0m \u001b[0mwith_cache\u001b[0m\u001b[1;33m=\u001b[0m\u001b[1;32mTrue\u001b[0m\u001b[1;33m)\u001b[0m\u001b[1;33m\u001b[0m\u001b[0m\n\u001b[0m\u001b[0;32m    672\u001b[0m         \u001b[1;32mexcept\u001b[0m \u001b[0mValueError\u001b[0m\u001b[1;33m:\u001b[0m\u001b[1;33m\u001b[0m\u001b[0m\n\u001b[0;32m    673\u001b[0m             \u001b[1;32mif\u001b[0m \u001b[0mself\u001b[0m\u001b[1;33m.\u001b[0m\u001b[0m_is_encrypted\u001b[0m\u001b[1;33m(\u001b[0m\u001b[1;33m)\u001b[0m\u001b[1;33m:\u001b[0m\u001b[1;33m\u001b[0m\u001b[0m\n",
      "\u001b[1;32m/home/b/.virtualenvs/lca-tools/lib/python3.5/site-packages/py7zlib.py\u001b[0m in \u001b[0;36m_read_from_decompressor\u001b[1;34m(self, coder, decompressor, input, level, checkremaining, with_cache)\u001b[0m\n\u001b[0;32m    633\u001b[0m             \u001b[1;32mif\u001b[0m \u001b[0mcache\u001b[0m \u001b[1;32mis\u001b[0m \u001b[1;32mnot\u001b[0m \u001b[1;32mNone\u001b[0m\u001b[1;33m:\u001b[0m\u001b[1;33m\u001b[0m\u001b[0m\n\u001b[0;32m    634\u001b[0m                 \u001b[0mdata\u001b[0m\u001b[1;33m,\u001b[0m \u001b[0mpos\u001b[0m\u001b[1;33m,\u001b[0m \u001b[0mdecompressor\u001b[0m \u001b[1;33m=\u001b[0m \u001b[0mcache\u001b[0m\u001b[1;33m\u001b[0m\u001b[0m\n\u001b[1;32m--> 635\u001b[1;33m                 \u001b[0mout\u001b[0m\u001b[1;33m.\u001b[0m\u001b[0mwrite\u001b[0m\u001b[1;33m(\u001b[0m\u001b[0mdata\u001b[0m\u001b[1;33m)\u001b[0m\u001b[1;33m\u001b[0m\u001b[0m\n\u001b[0m\u001b[0;32m    636\u001b[0m                 \u001b[0mremaining\u001b[0m \u001b[1;33m-=\u001b[0m \u001b[0mlen\u001b[0m\u001b[1;33m(\u001b[0m\u001b[0mdata\u001b[0m\u001b[1;33m)\u001b[0m\u001b[1;33m\u001b[0m\u001b[0m\n\u001b[0;32m    637\u001b[0m                 \u001b[0mself\u001b[0m\u001b[1;33m.\u001b[0m\u001b[0m_file\u001b[0m\u001b[1;33m.\u001b[0m\u001b[0mseek\u001b[0m\u001b[1;33m(\u001b[0m\u001b[0mpos\u001b[0m\u001b[1;33m)\u001b[0m\u001b[1;33m\u001b[0m\u001b[0m\n",
      "\u001b[1;31mKeyboardInterrupt\u001b[0m: "
     ]
    }
   ],
   "source": [
    "EU.load_all()"
   ]
  },
  {
   "cell_type": "code",
   "execution_count": 15,
   "metadata": {
    "collapsed": false
   },
   "outputs": [
    {
     "data": {
      "text/plain": [
       "16"
      ]
     },
     "execution_count": 15,
     "metadata": {},
     "output_type": "execute_result"
    }
   ],
   "source": [
    "len(EU.processes())"
   ]
  },
  {
   "cell_type": "code",
   "execution_count": 17,
   "metadata": {
    "collapsed": false
   },
   "outputs": [
    {
     "data": {
      "text/plain": [
       "[' Input:     [0.000682 [kg]] lubricating oil [By-product classification: allocatable product]',\n",
       " ' Input:     [1.14e-07 [unit]] heat and power co-generation unit, 160kW electrical, components for heat only [By-product classification: allocatable product]',\n",
       " ' Input:     [1.14e-07 [unit]] heat and power co-generation unit, 160kW electrical, components for electricity only [By-product classification: allocatable product]',\n",
       " ' Input:     [1.14e-07 [unit]] heat and power co-generation unit, 160kW electrical, common components for heat+electricity [By-product classification: allocatable product]',\n",
       " 'Output:     [0.00109 [kg]] Carbon monoxide, non-fossil (CAS 000630-08-0) [air, non-urban air or from high stacks]',\n",
       " 'Output:     [1.59e-10 [kg]] Platinum (CAS 007440-06-4) [air, non-urban air or from high stacks]',\n",
       " 'Output:     [0.000682 [kg]] waste mineral oil [By-product classification: Waste]',\n",
       " 'Output: {*} [-1 [m3]] biogas [By-product classification: allocatable product]',\n",
       " 'Output:     [12.5 [MJ]] heat, central or small-scale, other than natural gas [By-product classification: allocatable product]',\n",
       " 'Output:     [5.68e-05 [kg]] Dinitrogen monoxide (CAS 010024-97-2) [air, non-urban air or from high stacks]',\n",
       " 'Output:     [0.000341 [kg]] Nitrogen oxides (CAS 011104-93-1) [air, non-urban air or from high stacks]',\n",
       " 'Output:     [1.9 [kg]] Carbon dioxide, non-fossil (CAS 000124-38-9) [air, non-urban air or from high stacks]',\n",
       " 'Output:     [2.02 [kWh]] electricity, high voltage [By-product classification: allocatable product]',\n",
       " 'Output:     [0.000568 [kg]] Sulfur dioxide (CAS 007446-09-5) [air, non-urban air or from high stacks]',\n",
       " 'Output:     [4.55e-05 [kg]] NMVOC, non-methane volatile organic compounds, unspecified origin [air, non-urban air or from high stacks]',\n",
       " 'Output:     [0.000523 [kg]] Methane, non-fossil (CAS 000074-82-8) [air, non-urban air or from high stacks]']"
      ]
     },
     "execution_count": 17,
     "metadata": {},
     "output_type": "execute_result"
    }
   ],
   "source": [
    "[str(x) for x in EU['00463986-6243-48f9-9af3-c2b98d95a832'].exchanges()]"
   ]
  },
  {
   "cell_type": "code",
   "execution_count": 61,
   "metadata": {
    "collapsed": false
   },
   "outputs": [
    {
     "data": {
      "text/plain": [
       "1040"
      ]
     },
     "execution_count": 61,
     "metadata": {},
     "output_type": "execute_result"
    }
   ],
   "source": [
    "len({x.get_uuid() for x in EU.processes()})"
   ]
  },
  {
   "cell_type": "code",
   "execution_count": 66,
   "metadata": {
    "collapsed": false
   },
   "outputs": [],
   "source": [
    "z = [x for x in EU.processes()[0]._exchanges]"
   ]
  },
  {
   "cell_type": "code",
   "execution_count": 71,
   "metadata": {
    "collapsed": false
   },
   "outputs": [
    {
     "name": "stdout",
     "output_type": "stream",
     "text": [
      "dict_items([('6d7a9035-752d-4b84-ad72-bde1a987a585', 0.00115)])\n",
      "dict_items([('6d7a9035-752d-4b84-ad72-bde1a987a585', 0.018)])\n",
      "dict_items([('6d7a9035-752d-4b84-ad72-bde1a987a585', 1.0)])\n",
      "dict_items([('6d7a9035-752d-4b84-ad72-bde1a987a585', 2.8e-05)])\n",
      "dict_items([('6d7a9035-752d-4b84-ad72-bde1a987a585', 0.000779)])\n",
      "dict_items([('6d7a9035-752d-4b84-ad72-bde1a987a585', 2.5e-07)])\n",
      "dict_items([('6d7a9035-752d-4b84-ad72-bde1a987a585', 0.01269)])\n",
      "dict_items([('6d7a9035-752d-4b84-ad72-bde1a987a585', 0.267)])\n",
      "dict_items([('6d7a9035-752d-4b84-ad72-bde1a987a585', 2.41)])\n",
      "dict_items([('6d7a9035-752d-4b84-ad72-bde1a987a585', 0.000508)])\n",
      "dict_items([('6d7a9035-752d-4b84-ad72-bde1a987a585', 0.2356)])\n",
      "dict_items([('6d7a9035-752d-4b84-ad72-bde1a987a585', 0.00196)])\n",
      "dict_items([('6d7a9035-752d-4b84-ad72-bde1a987a585', 0.000252)])\n",
      "dict_items([('6d7a9035-752d-4b84-ad72-bde1a987a585', 0.0008875)])\n",
      "dict_items([('6d7a9035-752d-4b84-ad72-bde1a987a585', 0.111)])\n",
      "dict_items([('6d7a9035-752d-4b84-ad72-bde1a987a585', 1.0)])\n",
      "dict_items([('6d7a9035-752d-4b84-ad72-bde1a987a585', 0.018)])\n",
      "dict_items([('6d7a9035-752d-4b84-ad72-bde1a987a585', 0.724)])\n",
      "dict_items([('6d7a9035-752d-4b84-ad72-bde1a987a585', 1.1e-05)])\n",
      "dict_items([('6d7a9035-752d-4b84-ad72-bde1a987a585', 0.0052)])\n",
      "dict_items([('6d7a9035-752d-4b84-ad72-bde1a987a585', 0.000779)])\n",
      "dict_items([('6d7a9035-752d-4b84-ad72-bde1a987a585', -0.000828)])\n",
      "dict_items([('6d7a9035-752d-4b84-ad72-bde1a987a585', 4.44e-10)])\n",
      "dict_items([('6d7a9035-752d-4b84-ad72-bde1a987a585', 0.0003615)])\n"
     ]
    }
   ],
   "source": [
    "for k in z:\n",
    "    print(k.values())"
   ]
  },
  {
   "cell_type": "code",
   "execution_count": 10,
   "metadata": {
    "collapsed": true
   },
   "outputs": [],
   "source": [
    "from lcatools.interfaces import uuid_regex"
   ]
  },
  {
   "cell_type": "code",
   "execution_count": 23,
   "metadata": {
    "collapsed": false
   },
   "outputs": [],
   "source": [
    "uuids = [x[0] for y in EU.list_datasets() for x in uuid_regex.findall(y) ]"
   ]
  },
  {
   "cell_type": "code",
   "execution_count": 35,
   "metadata": {
    "collapsed": false
   },
   "outputs": [],
   "source": [
    "process_uuids = uuids[0::2]\n",
    "flow_uuids = uuids[1::2]"
   ]
  },
  {
   "cell_type": "code",
   "execution_count": 41,
   "metadata": {
    "collapsed": false
   },
   "outputs": [
    {
     "data": {
      "text/plain": [
       "2737"
      ]
     },
     "execution_count": 41,
     "metadata": {},
     "output_type": "execute_result"
    }
   ],
   "source": [
    "len(set(flow_uuids))"
   ]
  },
  {
   "cell_type": "code",
   "execution_count": 46,
   "metadata": {
    "collapsed": false
   },
   "outputs": [],
   "source": [
    "import matplotlib.pyplot as plt\n",
    "import plotly.plotly as py"
   ]
  },
  {
   "cell_type": "code",
   "execution_count": 53,
   "metadata": {
    "collapsed": true
   },
   "outputs": [],
   "source": [
    "%matplotlib inline"
   ]
  },
  {
   "cell_type": "code",
   "execution_count": 58,
   "metadata": {
    "collapsed": false
   },
   "outputs": [
    {
     "data": {
      "text/plain": [
       "<matplotlib.text.Text at 0x7f111720f9e8>"
      ]
     },
     "execution_count": 58,
     "metadata": {},
     "output_type": "execute_result"
    },
    {
     "data": {
      "image/png": "[encoded data removed]",
      "text/plain": [
       "<matplotlib.figure.Figure at 0x7f1117199c50>"
      ]
     },
     "metadata": {},
     "output_type": "display_data"
    }
   ],
   "source": [
    "plt.hist([len(x._exchanges) for x in EU.processes() if len(x._exchanges) > 1000])\n",
    "plt.title('foo')\n",
    "plt.xlabel('bar')\n",
    "plt.ylabel('baz')\n"
   ]
  },
  {
   "cell_type": "code",
   "execution_count": 54,
   "metadata": {
    "collapsed": false
   },
   "outputs": [
    {
     "data": {
      "image/png": "[encoded data removed]",
      "text/plain": [
       "<matplotlib.figure.Figure at 0x7f11194b1f98>"
      ]
     },
     "metadata": {},
     "output_type": "display_data"
    }
   ],
   "source": [
    "import matplotlib.pyplot as plt\n",
    "from numpy.random import normal\n",
    "gaussian_numbers = normal(size=1000)\n",
    "plt.hist(gaussian_numbers)\n",
    "plt.title(\"Gaussian Histogram\")\n",
    "plt.xlabel(\"Value\")\n",
    "plt.ylabel(\"Frequency\")\n",
    "plt.show()\n"
   ]
  },
  {
   "cell_type": "code",
   "execution_count": 7,
   "metadata": {
    "collapsed": true
   },
   "outputs": [],
   "source": [
    "f = EU._fetch_filename(fname)"
   ]
  },
  {
   "cell_type": "code",
   "execution_count": 14,
   "metadata": {
    "collapsed": false
   },
   "outputs": [
    {
     "data": {
      "text/plain": [
       "1066974"
      ]
     },
     "execution_count": 14,
     "metadata": {},
     "output_type": "execute_result"
    }
   ],
   "source": [
    "len(f.decode())"
   ]
  },
  {
   "cell_type": "code",
   "execution_count": 11,
   "metadata": {
    "collapsed": false
   },
   "outputs": [
    {
     "data": {
      "text/plain": [
       "'b\\'\\\\xef\\\\xbb\\\\xbf<?xml version=\"1.0\" encoding=\"utf-8\"?>\\\\n<ecoSpold xmlns=\"http://www.EcoInvent.org/EcoSpold02\">\\\\n  <activityDataset>\\\\n    <activityDescription>\\\\n      <activity id=\"023459eb-219f-4d85-bc6f-6031652b51ee\" activityNameId=\"3acee32c-27cd-4aa4-baf0-f003ba9f53b0\" inheritanceDepth=\"0\" type=\"1\" specialActivityType=\"0\" energyValues=\"0\">\\\\n        <activityName xml:lang=\"en\">layered sodium silicate production, SKS-6, powder</activityName>\\\\n        <includedActivitiesStart xml:lang=\"en\" />\\\\n        <includedActivitiesEnd xml:lang=\"en\">This module contains material and energy input, production of waste and emissions for the production of SKS-6 sodium silicate powder. Transport and infrastructure have been estimated. The input of compressed air is not reported in the data according to the methodology of the study.</includedActivitiesEnd>\\\\n        <generalComment>\\\\n          <text xml:lang=\"en\" index=\"1\">data based on information from the major European producer</text>\\\\n          <text xm'"
      ]
     },
     "execution_count": 11,
     "metadata": {},
     "output_type": "execute_result"
    }
   ],
   "source": [
    "str(f)[:1000]"
   ]
  },
  {
   "cell_type": "code",
   "execution_count": 6,
   "metadata": {
    "collapsed": false
   },
   "outputs": [
    {
     "data": {
      "text/plain": [
       "452"
      ]
     },
     "execution_count": 6,
     "metadata": {},
     "output_type": "execute_result"
    }
   ],
   "source": [
    "len(EA.processes())"
   ]
  },
  {
   "cell_type": "code",
   "execution_count": 7,
   "metadata": {
    "collapsed": true
   },
   "outputs": [],
   "source": [
    "g = set()\n",
    "g.add('a')\n",
    "g.add('B')\n",
    "g.add(42)"
   ]
  },
  {
   "cell_type": "code",
   "execution_count": 8,
   "metadata": {
    "collapsed": false
   },
   "outputs": [
    {
     "data": {
      "text/plain": [
       "{'B', 42, 'a'}"
      ]
     },
     "execution_count": 8,
     "metadata": {},
     "output_type": "execute_result"
    }
   ],
   "source": [
    "g"
   ]
  },
  {
   "cell_type": "code",
   "execution_count": 14,
   "metadata": {
    "collapsed": false
   },
   "outputs": [
    {
     "ename": "KeyError",
     "evalue": "'pop from an empty set'",
     "output_type": "error",
     "traceback": [
      "\u001b[1;31m---------------------------------------------------------------------------\u001b[0m",
      "\u001b[1;31mKeyError\u001b[0m                                  Traceback (most recent call last)",
      "\u001b[1;32m<ipython-input-14-1820ea8e4143>\u001b[0m in \u001b[0;36m<module>\u001b[1;34m()\u001b[0m\n\u001b[1;32m----> 1\u001b[1;33m \u001b[0mg\u001b[0m\u001b[1;33m.\u001b[0m\u001b[0mpop\u001b[0m\u001b[1;33m(\u001b[0m\u001b[1;33m)\u001b[0m\u001b[1;33m\u001b[0m\u001b[0m\n\u001b[0m",
      "\u001b[1;31mKeyError\u001b[0m: 'pop from an empty set'"
     ]
    }
   ],
   "source": [
    "g.pop()"
   ]
  },
  {
   "cell_type": "code",
   "execution_count": 16,
   "metadata": {
    "collapsed": false
   },
   "outputs": [
    {
     "name": "stdout",
     "output_type": "stream",
     "text": [
      "Help on built-in function remove:\n",
      "\n",
      "remove(...) method of builtins.set instance\n",
      "    Remove an element from a set; it must be a member.\n",
      "    \n",
      "    If the element is not a member, raise a KeyError.\n",
      "\n"
     ]
    }
   ],
   "source": [
    "help(g.remove)"
   ]
  },
  {
   "cell_type": "code",
   "execution_count": 17,
   "metadata": {
    "collapsed": true
   },
   "outputs": [],
   "source": [
    "d = { 'foo':'bar', 'baz':42}"
   ]
  },
  {
   "cell_type": "code",
   "execution_count": 19,
   "metadata": {
    "collapsed": false
   },
   "outputs": [
    {
     "ename": "TypeError",
     "evalue": "'NoneType' object is not iterable",
     "output_type": "error",
     "traceback": [
      "\u001b[1;31m---------------------------------------------------------------------------\u001b[0m",
      "\u001b[1;31mTypeError\u001b[0m                                 Traceback (most recent call last)",
      "\u001b[1;32m<ipython-input-19-975884811cfd>\u001b[0m in \u001b[0;36m<module>\u001b[1;34m()\u001b[0m\n\u001b[1;32m----> 1\u001b[1;33m \u001b[0md\u001b[0m\u001b[1;33m.\u001b[0m\u001b[0mupdate\u001b[0m\u001b[1;33m(\u001b[0m\u001b[1;32mNone\u001b[0m\u001b[1;33m)\u001b[0m\u001b[1;33m\u001b[0m\u001b[0m\n\u001b[0m",
      "\u001b[1;31mTypeError\u001b[0m: 'NoneType' object is not iterable"
     ]
    }
   ],
   "source": [
    "d.update(None)"
   ]
  },
  {
   "cell_type": "code",
   "execution_count": 21,
   "metadata": {
    "collapsed": false
   },
   "outputs": [],
   "source": [
    "from lcatools.literate_float import LiterateFloat"
   ]
  },
  {
   "cell_type": "code",
   "execution_count": 22,
   "metadata": {
    "collapsed": true
   },
   "outputs": [],
   "source": [
    "l = LiterateFloat(47.2)"
   ]
  },
  {
   "cell_type": "code",
   "execution_count": 26,
   "metadata": {
    "collapsed": false
   },
   "outputs": [
    {
     "data": {
      "text/plain": [
       "False"
      ]
     },
     "execution_count": 26,
     "metadata": {},
     "output_type": "execute_result"
    }
   ],
   "source": [
    "isinstance(l, int)"
   ]
  }
 ],
 "metadata": {
  "kernelspec": {
   "display_name": "Python 3",
   "language": "python",
   "name": "python3"
  },
  "language_info": {
   "codemirror_mode": {
    "name": "ipython",
    "version": 3
   },
   "file_extension": ".py",
   "mimetype": "text/x-python",
   "name": "python",
   "nbconvert_exporter": "python",
   "pygments_lexer": "ipython3",
   "version": "3.5.1"
  }
 },
 "nbformat": 4,
 "nbformat_minor": 0
}
