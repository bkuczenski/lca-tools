{
 "cells": [
  {
   "cell_type": "code",
   "execution_count": 1,
   "metadata": {
    "collapsed": true
   },
   "outputs": [],
   "source": [
    "import sys\n",
    "sys.path.append('..')\n",
    "\n",
    "import lcatools\n",
    "import os"
   ]
  },
  {
   "cell_type": "code",
   "execution_count": 3,
   "metadata": {
    "collapsed": false
   },
   "outputs": [],
   "source": [
    "lcia_file = '/data/LCI/LCIA implementation v3.1 2014_08_13.xlsx'\n",
    "#spold_archive = '/data/LCI/Ecoinvent/3.2/cutoff/datasets'\n",
    "\n",
    "catalog_dir = os.path.join(os.path.expanduser('~'), 'GitHub', 'lca-tools-datafiles', 'catalogs')\n",
    "spold_catfile = 'ei3.2_undefined_spold.json.gz'"
   ]
  },
  {
   "cell_type": "markdown",
   "metadata": {
    "collapsed": false
   },
   "source": [
    "## benchmark xlrd operation\n",
    "\n",
    "%time X = xlrd.open_workbook(lcia_file)"
   ]
  },
  {
   "cell_type": "code",
   "execution_count": 2,
   "metadata": {
    "collapsed": true
   },
   "outputs": [],
   "source": [
    "import xlrd\n",
    "import re"
   ]
  },
  {
   "cell_type": "code",
   "execution_count": 3,
   "metadata": {
    "collapsed": true
   },
   "outputs": [],
   "source": [
    "from collections import defaultdict"
   ]
  },
  {
   "cell_type": "code",
   "execution_count": 10,
   "metadata": {
    "collapsed": false
   },
   "outputs": [],
   "source": [
    "s = X.sheet_by_index(1)"
   ]
  },
  {
   "cell_type": "code",
   "execution_count": 11,
   "metadata": {
    "collapsed": false
   },
   "outputs": [
    {
     "data": {
      "text/plain": [
       "'impact methods'"
      ]
     },
     "execution_count": 11,
     "metadata": {},
     "output_type": "execute_result"
    }
   ],
   "source": [
    "s.name"
   ]
  },
  {
   "cell_type": "code",
   "execution_count": 12,
   "metadata": {
    "collapsed": false
   },
   "outputs": [],
   "source": [
    "b = X.sheet_by_name('impact methods')"
   ]
  },
  {
   "cell_type": "code",
   "execution_count": 62,
   "metadata": {
    "collapsed": false
   },
   "outputs": [
    {
     "data": {
      "text/plain": [
       "['method',\n",
       " 'category',\n",
       " 'indicator',\n",
       " 'name',\n",
       " 'compartment',\n",
       " 'subcompartment',\n",
       " 'CF 3.01',\n",
       " 'CF 3.1',\n",
       " 'Change?',\n",
       " 'note',\n",
       " 'Known issue']"
      ]
     },
     "execution_count": 62,
     "metadata": {},
     "output_type": "execute_result"
    }
   ],
   "source": [
    "headings"
   ]
  },
  {
   "cell_type": "code",
   "execution_count": 54,
   "metadata": {
    "collapsed": true
   },
   "outputs": [],
   "source": [
    "cfs = []\n",
    "for row in g:\n",
    "    d = dict()\n",
    "    for i,h in enumerate(headings):\n",
    "        d[h] = row[i]\n",
    "    cfs.append(d)"
   ]
  },
  {
   "cell_type": "code",
   "execution_count": 55,
   "metadata": {
    "collapsed": false
   },
   "outputs": [
    {
     "data": {
      "text/plain": [
       "170915"
      ]
     },
     "execution_count": 55,
     "metadata": {},
     "output_type": "execute_result"
    }
   ],
   "source": [
    "len(cfs)"
   ]
  },
  {
   "cell_type": "code",
   "execution_count": 56,
   "metadata": {
    "collapsed": false
   },
   "outputs": [
    {
     "data": {
      "text/plain": [
       "{'CF 3.01': number:1.6,\n",
       " 'CF 3.1': number:1.6,\n",
       " 'Change?': text:'FALSE',\n",
       " 'Known issue': empty:'',\n",
       " 'category': text:'acidification potential',\n",
       " 'compartment': text:'air',\n",
       " 'indicator': text:'average European',\n",
       " 'method': text:'CML 2001',\n",
       " 'name': text:'Ammonia',\n",
       " 'note': text:'',\n",
       " 'subcompartment': text:'low population density, long-term'}"
      ]
     },
     "execution_count": 56,
     "metadata": {},
     "output_type": "execute_result"
    }
   ],
   "source": [
    "cfs[0]"
   ]
  },
  {
   "cell_type": "markdown",
   "metadata": {},
   "source": [
    "## generate ei_lcia"
   ]
  },
  {
   "cell_type": "code",
   "execution_count": 4,
   "metadata": {
    "collapsed": false
   },
   "outputs": [],
   "source": [
    "from lcatools.providers.ecoinvent_lcia import EcoinventLcia\n",
    "from lcatools.db_catalog import from_json\n",
    "from lcatools.providers.ecospold2 import EcospoldV2Archive"
   ]
  },
  {
   "cell_type": "code",
   "execution_count": 5,
   "metadata": {
    "collapsed": false
   },
   "outputs": [
    {
     "data": {
      "text/plain": [
       "'/data/LCI/LCIA implementation v3.1 2014_08_13.xlsx'"
      ]
     },
     "execution_count": 5,
     "metadata": {},
     "output_type": "execute_result"
    }
   ],
   "source": [
    "lcia_file"
   ]
  },
  {
   "cell_type": "markdown",
   "metadata": {},
   "source": [
    "es_upstream = EcospoldV2Archive('/data/LCI/Ecoinvent/3.2/cutoff/datasets', quiet=True)"
   ]
  },
  {
   "cell_type": "code",
   "execution_count": 6,
   "metadata": {
    "collapsed": false
   },
   "outputs": [
    {
     "name": "stdout",
     "output_type": "stream",
     "text": [
      "19 new quantity entities added (19 total)\n",
      "4680 new flow entities added (4680 total)\n",
      "11552 new process entities added (11552 total)\n"
     ]
    }
   ],
   "source": [
    "es_upstream = from_json(os.path.join(catalog_dir, spold_catfile))"
   ]
  },
  {
   "cell_type": "code",
   "execution_count": 7,
   "metadata": {
    "collapsed": false
   },
   "outputs": [
    {
     "data": {
      "text/plain": [
       "[<lcatools.characterizations.Characterization at 0x7f751efdb908>]"
      ]
     },
     "execution_count": 7,
     "metadata": {},
     "output_type": "execute_result"
    }
   ],
   "source": [
    "[c for c in es_upstream.flows()[0].characterizations()]"
   ]
  },
  {
   "cell_type": "code",
   "execution_count": 8,
   "metadata": {
    "collapsed": false
   },
   "outputs": [
    {
     "data": {
      "text/plain": [
       "{'Classifications': ['ISIC rev.4 ecoinvent: 3821:Treatment and disposal of non-hazardous waste'],\n",
       " 'Comment': 'This dataset represents the activity of waste disposal of residue from mechanical treatment, laser printer in a municipal solid waste incinerator (MSWI)  //  Recommended use of this dataset: Only for incineration of shredder residues generated in the recycling (mechanical treatment) of laser printers  //  Inventoried waste contains 1.92% rubber; 47.1% Plastics from electronic consumer goods; 47.1% Plastics from electronic industrial goods; 1.42% MSWI iron scrap; 0.151% Alu in MSW; 2.25% wiring copper; .  //  Waste composition (wet, in ppm): upper heating value 34.74 MJ/kg; lower heating value 33.3 MJ/kg; H2O 8644.9; O 50262; H 71805; C 784170; S 411.86; N 12537; P 482.64; B n.a.; Cl 6388.1; Br 5184.3; F 235.65; I n.a.; Ag n.a.; As 7.0695; Ba 166.84; Cd 142.06; Co 27.785; Cr 66.493; Cu 25690; Hg 0.80123; Mn 40.518; Mo 2.8278; Ni 487.12; Pb 144.39; Sb 4523; Se 1.8471; Sn 200.84; V 4.2501; Zn 725.91; Be 0.43978; Sc n.a.; Sr 77.842; Ti 4220; Tl 0.35183; W n.a.; Si 3233.4; Fe 13043; Ca 2933.4; Al 3901.8; K 110.28; Mg n.a.; Na 131.49;   //  Share of carbon in waste that is biogenic 0%.  //  Share of metals in waste not oxidised and bulk-recyclable (exclude very small or thin parts) Iron: 88.6%; Alu: 38.39%; Copper: 87.53%.  //  Recovery of metal scrap from bottom ash to recycling: 6.6787g iron scrap, 0.41595g aluminium scrap, 6.8803g copper scrap. From this waste, the FLUWA process in the technology mix recovers 0.000882kg (DM) of a hydroxide sludge to be recycled in zinc furnaces.  //  Ultimately one kg of this waste produces 0.08557 kg of bottom ash (can include some washed ash) and 0.0115 kg of residues, which are landfilled (technology mix). Additional solidification of residues with 0.0046 kg of cement.Net energy production: 4.28MJ/kg electric energy and 8.29MJ/kg thermal energy.   //  ',\n",
       " 'Name': 'treatment of residue from mechanical treatment, laser printer, municipal incineration with fly ash extraction',\n",
       " 'SpatialScope': 'GLO',\n",
       " 'TemporalScope': {'begin': '2006-01-01', 'end': '2012-12-31'},\n",
       " 'entityId': '02b52c2c-6e4c-41bc-8741-abfa11db73ab',\n",
       " 'entityType': 'process',\n",
       " 'exchanges': [{'direction': 'Output',\n",
       "   'flow': 'fa5ae82b-e530-44cb-8fc7-5d24f0d85355',\n",
       "   'isReference': True}],\n",
       " 'externalId': '02b52c2c-6e4c-41bc-8741-abfa11db73ab',\n",
       " 'origin': '/data/LCI/Ecoinvent/3.2/undefined'}"
      ]
     },
     "execution_count": 8,
     "metadata": {},
     "output_type": "execute_result"
    }
   ],
   "source": [
    "es_upstream.processes()[135].serialize()"
   ]
  },
  {
   "cell_type": "code",
   "execution_count": 9,
   "metadata": {
    "collapsed": false
   },
   "outputs": [
    {
     "data": {
      "text/plain": [
       "['person*km',\n",
       " 'm*year',\n",
       " 'unit',\n",
       " 'm3',\n",
       " 'ha',\n",
       " 'kWh',\n",
       " 'km*year',\n",
       " 'm2*year',\n",
       " 'm3*year',\n",
       " 'kBq',\n",
       " 'm',\n",
       " 'hour',\n",
       " 'km',\n",
       " 'l',\n",
       " 'metric ton*km',\n",
       " 'kg',\n",
       " 'm2',\n",
       " 'MJ',\n",
       " 'kg*day']"
      ]
     },
     "execution_count": 9,
     "metadata": {},
     "output_type": "execute_result"
    }
   ],
   "source": [
    "[k['referenceUnit'].unitstring() for k in es_upstream.quantities()]"
   ]
  },
  {
   "cell_type": "code",
   "execution_count": 10,
   "metadata": {
    "collapsed": false
   },
   "outputs": [],
   "source": [
    "EL = EcoinventLcia(lcia_file, upstream=es_upstream, mass_quantity=es_upstream.quantity_with_unit('kg'), \n",
    "                   ns_uuid='46802ca5-8b25-398c-af10-2376adaa4623')"
   ]
  },
  {
   "cell_type": "code",
   "execution_count": 11,
   "metadata": {
    "collapsed": false
   },
   "outputs": [
    {
     "name": "stdout",
     "output_type": "stream",
     "text": [
      "CPU times: user 21.1 s, sys: 40 ms, total: 21.2 s\n",
      "Wall time: 21.2 s\n"
     ]
    }
   ],
   "source": [
    "%time EL._load_xl_rows()"
   ]
  },
  {
   "cell_type": "code",
   "execution_count": 12,
   "metadata": {
    "collapsed": false
   },
   "outputs": [
    {
     "data": {
      "text/plain": [
       "170915"
      ]
     },
     "execution_count": 12,
     "metadata": {},
     "output_type": "execute_result"
    }
   ],
   "source": [
    "len(EL._xl_rows)"
   ]
  },
  {
   "cell_type": "code",
   "execution_count": null,
   "metadata": {
    "collapsed": true
   },
   "outputs": [],
   "source": []
  },
  {
   "cell_type": "code",
   "execution_count": 13,
   "metadata": {
    "collapsed": false
   },
   "outputs": [],
   "source": [
    "for row in EL._xl_rows:\n",
    "    EL._create_flow(row)"
   ]
  },
  {
   "cell_type": "code",
   "execution_count": 14,
   "metadata": {
    "collapsed": true
   },
   "outputs": [],
   "source": [
    "import itertools\n",
    "\n",
    "def group_by(result, group_key):\n",
    "    keys = []\n",
    "    groups = []\n",
    "    for i, j in itertools.groupby(sorted(result, key=group_key),\n",
    "                                  group_key):\n",
    "        keys.append(i)\n",
    "        groups.append(list(j))\n",
    "\n",
    "    return keys, groups"
   ]
  },
  {
   "cell_type": "code",
   "execution_count": 15,
   "metadata": {
    "collapsed": true
   },
   "outputs": [],
   "source": [
    "org, flws = group_by(EL.flows(), lambda x: x['origin'])"
   ]
  },
  {
   "cell_type": "code",
   "execution_count": 16,
   "metadata": {
    "collapsed": false
   },
   "outputs": [
    {
     "data": {
      "text/plain": [
       "['/data/LCI/Ecoinvent/3.2/undefined',\n",
       " '/data/LCI/LCIA implementation v3.1 2014_08_13.xlsx']"
      ]
     },
     "execution_count": 16,
     "metadata": {},
     "output_type": "execute_result"
    }
   ],
   "source": [
    "org"
   ]
  },
  {
   "cell_type": "code",
   "execution_count": 17,
   "metadata": {
    "collapsed": false
   },
   "outputs": [
    {
     "data": {
      "text/plain": [
       "{'_characterizations': {<lcatools.characterizations.Characterization at 0x7f751ee585c0>},\n",
       " '_d': {'CasNumber': None,\n",
       "  'Comment': 'EcoSpold02 Flow',\n",
       "  'Compartment': ['water', 'surface water'],\n",
       "  'Name': 'Dipropylamine',\n",
       "  'externalId': 'f87e0478-9ba4-4d6b-a1ca-5667d07f3465',\n",
       "  'origin': '/data/LCI/Ecoinvent/3.2/undefined'},\n",
       " '_external_ref': 'f87e0478-9ba4-4d6b-a1ca-5667d07f3465',\n",
       " '_ref_quantity_factor': 1.0,\n",
       " '_uuid': UUID('f87e0478-9ba4-4d6b-a1ca-5667d07f3465'),\n",
       " 'entity_type': 'flow',\n",
       " 'reference_entity': <lcatools.entities.LcQuantity at 0x7f751dd38dd8>}"
      ]
     },
     "execution_count": 17,
     "metadata": {},
     "output_type": "execute_result"
    }
   ],
   "source": [
    "flws[0][1].__dict__"
   ]
  },
  {
   "cell_type": "code",
   "execution_count": 12,
   "metadata": {
    "collapsed": false
   },
   "outputs": [
    {
     "data": {
      "text/plain": [
       "{'CF 3.01': 1.88,\n",
       " 'CF 3.1': 1.88,\n",
       " 'Known issue': '',\n",
       " 'category': 'acidification potential',\n",
       " 'compartment': 'air',\n",
       " 'indicator': 'generic',\n",
       " 'method': 'CML 2001',\n",
       " 'name': 'Ammonia',\n",
       " 'note': '',\n",
       " 'subcompartment': 'low population density, long-term'}"
      ]
     },
     "execution_count": 12,
     "metadata": {},
     "output_type": "execute_result"
    }
   ],
   "source": [
    "EL._xl_rows[15]"
   ]
  },
  {
   "cell_type": "code",
   "execution_count": 18,
   "metadata": {
    "collapsed": false
   },
   "outputs": [
    {
     "data": {
      "text/plain": [
       "<lcatools.entities.LcFlow at 0x7f751f1266d8>"
      ]
     },
     "execution_count": 18,
     "metadata": {},
     "output_type": "execute_result"
    }
   ],
   "source": [
    "EL[EL._upstream_hash[EL._flow_key(EL._xl_rows[15])].get_uuid()]"
   ]
  },
  {
   "cell_type": "code",
   "execution_count": 19,
   "metadata": {
    "collapsed": false
   },
   "outputs": [
    {
     "data": {
      "text/plain": [
       "{'_characterizations': {<lcatools.characterizations.Characterization at 0x7f751f126710>},\n",
       " '_d': {'CasNumber': None,\n",
       "  'Comment': 'EcoSpold02 Flow',\n",
       "  'Compartment': ['air', 'low population density, long-term'],\n",
       "  'Name': 'Ammonia',\n",
       "  'externalId': '2b50f643-216a-412b-a0e5-5946867aa2ed',\n",
       "  'origin': '/data/LCI/Ecoinvent/3.2/undefined'},\n",
       " '_external_ref': '2b50f643-216a-412b-a0e5-5946867aa2ed',\n",
       " '_ref_quantity_factor': 1.0,\n",
       " '_uuid': UUID('2b50f643-216a-412b-a0e5-5946867aa2ed'),\n",
       " 'entity_type': 'flow',\n",
       " 'reference_entity': <lcatools.entities.LcQuantity at 0x7f751dd38dd8>}"
      ]
     },
     "execution_count": 19,
     "metadata": {},
     "output_type": "execute_result"
    }
   ],
   "source": [
    "EL['2b50f643-216a-412b-a0e5-5946867aa2ed'].__dict__"
   ]
  },
  {
   "cell_type": "code",
   "execution_count": 20,
   "metadata": {
    "collapsed": false
   },
   "outputs": [],
   "source": [
    "qs = set()\n",
    "for f in EL.flows():\n",
    "    qs.add(f['referenceQuantity'].get_uuid())"
   ]
  },
  {
   "cell_type": "code",
   "execution_count": 21,
   "metadata": {
    "collapsed": false
   },
   "outputs": [
    {
     "data": {
      "text/plain": [
       "['1017f68a-f818-4f9d-a34d-a31e7386f628 LC quantity: EcoSpold Quantity m2',\n",
       " '980b811e-3905-4797-82a5-173f5568bc7e LC quantity: EcoSpold Quantity MJ',\n",
       " 'eb955b7c-7bed-401f-9c76-5db716ca3640 LC quantity: EcoSpold Quantity m2*year',\n",
       " '4923348e-591b-4772-b224-d19df86f04c9 LC quantity: EcoSpold Quantity kBq',\n",
       " '487df68b-4994-4027-8fdc-a4dc298257b7 LC quantity: EcoSpold Quantity kg',\n",
       " 'de5b3c87-0e35-4fb0-9765-4f3ba34c99e5 LC quantity: EcoSpold Quantity m3']"
      ]
     },
     "execution_count": 21,
     "metadata": {},
     "output_type": "execute_result"
    }
   ],
   "source": [
    "['%s %s' % (k, EL[k]) for k in qs]"
   ]
  },
  {
   "cell_type": "code",
   "execution_count": 22,
   "metadata": {
    "collapsed": false
   },
   "outputs": [
    {
     "name": "stdout",
     "output_type": "stream",
     "text": [
      "0 new process entities added (0 total)\n",
      "3255 new flow entities added (3255 total)\n",
      "6 new quantity entities added (6 total)\n"
     ]
    }
   ],
   "source": [
    "EL.check_counter()"
   ]
  },
  {
   "cell_type": "code",
   "execution_count": 23,
   "metadata": {
    "collapsed": false
   },
   "outputs": [],
   "source": [
    "f = EL.search('30f6b7f3-65b0-3705-b096-a2ef311315c2')[0]"
   ]
  },
  {
   "cell_type": "code",
   "execution_count": 24,
   "metadata": {
    "collapsed": false
   },
   "outputs": [
    {
     "data": {
      "text/plain": [
       "'Ammonia [air, lower stratosphere + upper troposphere]'"
      ]
     },
     "execution_count": 24,
     "metadata": {},
     "output_type": "execute_result"
    }
   ],
   "source": [
    "str(f)"
   ]
  },
  {
   "cell_type": "code",
   "execution_count": 25,
   "metadata": {
    "collapsed": false
   },
   "outputs": [
    {
     "data": {
      "text/plain": [
       "[]"
      ]
     },
     "execution_count": 25,
     "metadata": {},
     "output_type": "execute_result"
    }
   ],
   "source": [
    "es_upstream.search(entity_type='flow', Name='Ammonia', Compartment='tropo')"
   ]
  },
  {
   "cell_type": "code",
   "execution_count": 26,
   "metadata": {
    "collapsed": false
   },
   "outputs": [
    {
     "data": {
      "text/plain": [
       "[<lcatools.entities.LcFlow at 0x7f751dcfec50>]"
      ]
     },
     "execution_count": 26,
     "metadata": {},
     "output_type": "execute_result"
    }
   ],
   "source": [
    "EL.search(entity_type='flow', Name='Ammonia', Compartment='tropo')"
   ]
  },
  {
   "cell_type": "code",
   "execution_count": 27,
   "metadata": {
    "collapsed": false
   },
   "outputs": [
    {
     "data": {
      "text/plain": [
       "{'_characterizations': {<lcatools.characterizations.Characterization at 0x7f751f0b81d0>},\n",
       " '_d': {'CasNumber': None,\n",
       "  'Comment': 'EcoSpold02 Flow',\n",
       "  'Compartment': ['air', 'non-urban air or from high stacks'],\n",
       "  'Name': 'Krypton-88',\n",
       "  'externalId': '56ce80e5-9a77-4a80-ad65-6208db560be5',\n",
       "  'origin': '/data/LCI/Ecoinvent/3.2/undefined'},\n",
       " '_external_ref': '56ce80e5-9a77-4a80-ad65-6208db560be5',\n",
       " '_ref_quantity_factor': 1.0,\n",
       " '_uuid': UUID('56ce80e5-9a77-4a80-ad65-6208db560be5'),\n",
       " 'entity_type': 'flow',\n",
       " 'reference_entity': <lcatools.entities.LcQuantity at 0x7f751dd38eb8>}"
      ]
     },
     "execution_count": 27,
     "metadata": {},
     "output_type": "execute_result"
    }
   ],
   "source": [
    "EL.flows()[0].__dict__"
   ]
  },
  {
   "cell_type": "code",
   "execution_count": 28,
   "metadata": {
    "collapsed": false
   },
   "outputs": [
    {
     "data": {
      "text/plain": [
       "{'CasNumber': None,\n",
       " 'Comment': 'EcoSpold02 Flow',\n",
       " 'Compartment': ['air', 'non-urban air or from high stacks'],\n",
       " 'EntityType': 'flow',\n",
       " 'Name': 'Krypton-88',\n",
       " 'referenceQuantity': <lcatools.entities.LcQuantity at 0x7f751dd38eb8>}"
      ]
     },
     "execution_count": 28,
     "metadata": {},
     "output_type": "execute_result"
    }
   ],
   "source": [
    "EL.flows()[0].get_signature()"
   ]
  },
  {
   "cell_type": "code",
   "execution_count": 29,
   "metadata": {
    "collapsed": false
   },
   "outputs": [
    {
     "name": "stdout",
     "output_type": "stream",
     "text": [
      "0 new process entities added (0 total)\n",
      "0 new flow entities added (3255 total)\n",
      "701 new quantity entities added (707 total)\n",
      "CPU times: user 1min 13s, sys: 200 ms, total: 1min 13s\n",
      "Wall time: 1min 13s\n"
     ]
    }
   ],
   "source": [
    "%time EL.load_all()"
   ]
  },
  {
   "cell_type": "code",
   "execution_count": null,
   "metadata": {
    "collapsed": true
   },
   "outputs": [],
   "source": []
  },
  {
   "cell_type": "code",
   "execution_count": 30,
   "metadata": {
    "collapsed": false
   },
   "outputs": [
    {
     "data": {
      "text/plain": [
       "[' 3.000e-01 [] LC quantity: EDIP, environmental impact, photochemical ozone formation, high NOx POCP',\n",
       " ' 1.400e+04 [] LC quantity: ecological scarcity 2013, total, total',\n",
       " ' 2.000e+00 [] LC quantity: EDIP, environmental impact, global warming, GWP 20a',\n",
       " ' 1.800e+04 [] LC quantity: ecological scarcity 2006, total, total',\n",
       " ' 3.325e-02 [] LC quantity: eco-indicator 99, (H,A), total, total',\n",
       " ' 2.000e-01 [] LC quantity: EDIP, environmental impact, photochemical ozone formation, low NOx POCP',\n",
       " ' 2.477e-02 [] LC quantity: eco-indicator 99, (E,E), human health, respiratory effects',\n",
       " ' 2.477e-02 [] LC quantity: eco-indicator 99, (E,E), total, total',\n",
       " ' 3.325e-02 [] LC quantity: eco-indicator 99, (H,A), human health, total',\n",
       " ' 3.200e+04 [] LC quantity: ecological scarcity 1997, total, emission into air',\n",
       " ' 1.400e+04 [] LC quantity: ecological scarcity 2013, total, Main air pollutants and PM',\n",
       " ' 3.894e-02 [] LC quantity: EDIP2003, photochemical ozone formation, impacts on human health',\n",
       " ' 1.000e+00 [] LC quantity: EcoSpold Quantity kg',\n",
       " ' 2.000e+00 [] LC quantity: EDIP, environmental impact, global warming, GWP 100a',\n",
       " ' 4.818e+02 [] LC quantity: EDIP2003, photochemical ozone formation, impacts on vegetation',\n",
       " ' 3.325e-02 [] LC quantity: eco-indicator 99, (H,A), human health, respiratory effects',\n",
       " ' 8.353e-01 [] LC quantity: USEtox, ecotoxicity, total',\n",
       " ' 6.400e+04 [] LC quantity: ecological scarcity 1997, total, total',\n",
       " ' 2.000e+00 [] LC quantity: EDIP, environmental impact, global warming, GWP 500a',\n",
       " ' 1.000e+00 [] LC quantity: selected LCI results, air, NMVOC',\n",
       " ' 1.800e+04 [] LC quantity: ecological scarcity 2006, total, emission into air',\n",
       " ' 2.477e-02 [] LC quantity: eco-indicator 99, (E,E), human health, total']"
      ]
     },
     "execution_count": 30,
     "metadata": {},
     "output_type": "execute_result"
    }
   ],
   "source": [
    "[ '%10.3e [] %s' % (x.value, x.quantity) \n",
    " for x in EL['9d07940b-de52-3114-a800-9c3b26530734']._characterizations \n",
    " if x.value is not None]"
   ]
  },
  {
   "cell_type": "code",
   "execution_count": 31,
   "metadata": {
    "collapsed": false
   },
   "outputs": [
    {
     "data": {
      "text/plain": [
       "'/data/LCI/LCIA implementation v3.1 2014_08_13.xlsx'"
      ]
     },
     "execution_count": 31,
     "metadata": {},
     "output_type": "execute_result"
    }
   ],
   "source": [
    "EL['9d07940b-de52-3114-a800-9c3b26530734']['origin']"
   ]
  },
  {
   "cell_type": "code",
   "execution_count": 32,
   "metadata": {
    "collapsed": false
   },
   "outputs": [],
   "source": [
    "EL.write_to_file(os.path.join(catalog_dir, 'ei_lcia.json.gz'), gzip=True, characterizations=True, values=True)"
   ]
  },
  {
   "cell_type": "code",
   "execution_count": 53,
   "metadata": {
    "collapsed": false
   },
   "outputs": [
    {
     "data": {
      "text/plain": [
       "['EcoSpold Quantity kBq',\n",
       " 'selected LCI results, additional, air, radioactive, noble gas']"
      ]
     },
     "execution_count": 53,
     "metadata": {},
     "output_type": "execute_result"
    }
   ],
   "source": [
    "[str(c.quantity['Name']) for c in EL.search('56ce8')[0]._characterizations]"
   ]
  },
  {
   "cell_type": "code",
   "execution_count": 42,
   "metadata": {
    "collapsed": false
   },
   "outputs": [
    {
     "data": {
      "text/plain": [
       "'/data/LCI/Ecoinvent/3.2/undefined'"
      ]
     },
     "execution_count": 42,
     "metadata": {},
     "output_type": "execute_result"
    }
   ],
   "source": [
    "EL.search('56ce8')[0]['origin']"
   ]
  },
  {
   "cell_type": "code",
   "execution_count": 34,
   "metadata": {
    "collapsed": false
   },
   "outputs": [
    {
     "data": {
      "text/plain": [
       "'487df68b-4994-4027-8fdc-a4dc298257b7'"
      ]
     },
     "execution_count": 34,
     "metadata": {},
     "output_type": "execute_result"
    }
   ],
   "source": [
    "EL._mass.get_uuid()"
   ]
  },
  {
   "cell_type": "code",
   "execution_count": 54,
   "metadata": {
    "collapsed": false
   },
   "outputs": [
    {
     "data": {
      "text/plain": [
       "True"
      ]
     },
     "execution_count": 54,
     "metadata": {},
     "output_type": "execute_result"
    }
   ],
   "source": [
    "list(EL.search('56ce8')[0]._characterizations)[0].quantity is EL.search('56ce8')[0].reference_entity"
   ]
  },
  {
   "cell_type": "code",
   "execution_count": 56,
   "metadata": {
    "collapsed": false
   },
   "outputs": [
    {
     "data": {
      "text/plain": [
       "{'CasNumber': None,\n",
       " 'Comment': 'EcoSpold02 Flow',\n",
       " 'Compartment': ['soil', 'agricultural'],\n",
       " 'EntityType': 'flow',\n",
       " 'Name': 'Spiroxamine',\n",
       " 'referenceQuantity': <lcatools.entities.LcQuantity at 0x7f751dd38dd8>}"
      ]
     },
     "execution_count": 56,
     "metadata": {},
     "output_type": "execute_result"
    }
   ],
   "source": [
    "EL.flows()[100].get_signature()"
   ]
  },
  {
   "cell_type": "code",
   "execution_count": 29,
   "metadata": {
    "collapsed": true
   },
   "outputs": [],
   "source": [
    "\"\"\"\n",
    "entity generator-- I need a flow\n",
    "\"\"\"\n",
    "\n",
    "def en_gen(archive):\n",
    "    for k in archive._entities.keys():\n",
    "        v = archive._get_entity(k)\n",
    "        if v.entity_type == 'flow':\n",
    "            yield v\n",
    "u = en_gen(es_upstream)"
   ]
  },
  {
   "cell_type": "code",
   "execution_count": 30,
   "metadata": {
    "collapsed": false
   },
   "outputs": [],
   "source": [
    "e = next(u)"
   ]
  },
  {
   "cell_type": "code",
   "execution_count": 31,
   "metadata": {
    "collapsed": false
   },
   "outputs": [
    {
     "data": {
      "text/plain": [
       "['natural resource', 'land']"
      ]
     },
     "execution_count": 31,
     "metadata": {},
     "output_type": "execute_result"
    }
   ],
   "source": [
    "next(u)['Compartment']"
   ]
  },
  {
   "cell_type": "code",
   "execution_count": 32,
   "metadata": {
    "collapsed": false
   },
   "outputs": [
    {
     "data": {
      "text/plain": [
       "['Strontium', 'soil', 'agricultural']"
      ]
     },
     "execution_count": 32,
     "metadata": {},
     "output_type": "execute_result"
    }
   ],
   "source": [
    "e = next(u)\n",
    "[e['Name']] + e['Compartment']"
   ]
  },
  {
   "cell_type": "code",
   "execution_count": 33,
   "metadata": {
    "collapsed": false
   },
   "outputs": [
    {
     "data": {
      "text/plain": [
       "<lcatools.entities.LcFlow at 0x7fb2bb67cf60>"
      ]
     },
     "execution_count": 33,
     "metadata": {},
     "output_type": "execute_result"
    }
   ],
   "source": [
    "e"
   ]
  },
  {
   "cell_type": "code",
   "execution_count": 37,
   "metadata": {
    "collapsed": true
   },
   "outputs": [],
   "source": [
    "unique_names = set([f['Name'] for f in EL.flows()])"
   ]
  },
  {
   "cell_type": "code",
   "execution_count": 38,
   "metadata": {
    "collapsed": false
   },
   "outputs": [
    {
     "data": {
      "text/plain": [
       "984"
      ]
     },
     "execution_count": 38,
     "metadata": {},
     "output_type": "execute_result"
    }
   ],
   "source": [
    "len(unique_names)"
   ]
  },
  {
   "cell_type": "code",
   "execution_count": 39,
   "metadata": {
    "collapsed": false
   },
   "outputs": [
    {
     "data": {
      "text/plain": [
       "['Metamorphous rock, graphite containing, in ground',\n",
       " 'Barium-140',\n",
       " 'Pirimicarb',\n",
       " 'Zinc-65',\n",
       " 'Sylvite, 25 % in sylvinite, in ground',\n",
       " 'Phosphoric acid',\n",
       " 'Methyl lactate',\n",
       " 'Polychlorinated biphenyls',\n",
       " 'Copper, 2.19% in sulfide, Cu 1.83% and Mo 8.2E-3% in crude ore, in ground',\n",
       " 'Iodine']"
      ]
     },
     "execution_count": 39,
     "metadata": {},
     "output_type": "execute_result"
    }
   ],
   "source": [
    "list(unique_names)[:10]"
   ]
  },
  {
   "cell_type": "code",
   "execution_count": 43,
   "metadata": {
    "collapsed": false
   },
   "outputs": [
    {
     "data": {
      "text/plain": [
       "[]"
      ]
     },
     "execution_count": 43,
     "metadata": {},
     "output_type": "execute_result"
    }
   ],
   "source": [
    "[f for f in EL.flows() if f.reference_entity is None]"
   ]
  },
  {
   "cell_type": "code",
   "execution_count": 44,
   "metadata": {
    "collapsed": true
   },
   "outputs": [],
   "source": [
    "from lcatools.tools import archive_from_json"
   ]
  },
  {
   "cell_type": "code",
   "execution_count": 47,
   "metadata": {
    "collapsed": false
   },
   "outputs": [
    {
     "name": "stdout",
     "output_type": "stream",
     "text": [
      "Loading JSON data from /home/b/GitHub/lca-tools-datafiles/catalogs/ei_lcia.json.gz:\n",
      "**Upstream reference encountered: /data/LCI/Ecoinvent/3.2/cutoff/datasets\n",
      "\n",
      "708 new quantity entities added (708 total)\n",
      "3255 new flow entities added (3255 total)\n",
      "0 new process entities added (0 total)\n"
     ]
    }
   ],
   "source": [
    "g = archive_from_json(os.path.join(catalog_dir, 'ei_lcia.json.gz'))"
   ]
  },
  {
   "cell_type": "code",
   "execution_count": 50,
   "metadata": {
    "collapsed": false
   },
   "outputs": [
    {
     "data": {
      "text/plain": [
       "[]"
      ]
     },
     "execution_count": 50,
     "metadata": {},
     "output_type": "execute_result"
    }
   ],
   "source": [
    "[f for f in EL.flows() if f.reference_entity is None]"
   ]
  }
 ],
 "metadata": {
  "kernelspec": {
   "display_name": "Python 3",
   "language": "python",
   "name": "python3"
  },
  "language_info": {
   "codemirror_mode": {
    "name": "ipython",
    "version": 3
   },
   "file_extension": ".py",
   "mimetype": "text/x-python",
   "name": "python",
   "nbconvert_exporter": "python",
   "pygments_lexer": "ipython3",
   "version": "3.5.1"
  }
 },
 "nbformat": 4,
 "nbformat_minor": 0
}
