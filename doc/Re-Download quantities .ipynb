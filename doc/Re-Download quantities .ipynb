{
 "cells": [
  {
   "cell_type": "code",
   "execution_count": 1,
   "metadata": {
    "collapsed": true
   },
   "outputs": [],
   "source": [
    "import sys\n",
    "sys.path.append('..')\n",
    "import lcatools"
   ]
  },
  {
   "cell_type": "code",
   "execution_count": 2,
   "metadata": {
    "collapsed": true
   },
   "outputs": [],
   "source": [
    "from lcatools.providers.ilcd import IlcdArchivecdArchive"
   ]
  },
  {
   "cell_type": "code",
   "execution_count": 3,
   "metadata": {
    "collapsed": true
   },
   "outputs": [],
   "source": [
    "import os"
   ]
  },
  {
   "cell_type": "code",
   "execution_count": 4,
   "metadata": {
    "collapsed": true
   },
   "outputs": [],
   "source": [
    "elcd = os.path.join(os.path.expanduser('~'), 'Dropbox', 'data', 'ELCD', 'elcd3.2.zip')"
   ]
  },
  {
   "cell_type": "code",
   "execution_count": 5,
   "metadata": {
    "collapsed": false
   },
   "outputs": [
    {
     "name": "stdout",
     "output_type": "stream",
     "text": [
      "Found Extension: zip\n"
     ]
    }
   ],
   "source": [
    "E = IlcdArchive(elcd)"
   ]
  },
  {
   "cell_type": "code",
   "execution_count": 6,
   "metadata": {
    "collapsed": false
   },
   "outputs": [
    {
     "data": {
      "text/plain": [
       "['ILCD/flowproperties/014853f4-1e82-4de3-8f99-f71ae9a50280.xml',\n",
       " 'ILCD/flowproperties/01846770-4cfe-4a25-8ad9-919d8d378345.xml',\n",
       " 'ILCD/flowproperties/01846770-4cfe-4a25-8ad9-919d8d378345_02.00.000.xml',\n",
       " 'ILCD/flowproperties/02f11c31-4bb8-41de-81fb-fb479f361eb9.xml',\n",
       " 'ILCD/flowproperties/037f9009-8b06-470d-a190-21448f7921c7.xml',\n",
       " 'ILCD/flowproperties/04aa3c51-1ca8-48f3-9d27-ae12869bbf21.xml',\n",
       " 'ILCD/flowproperties/05e42ba1-dbcd-4dc2-b735-a2f17dd211ae.xml',\n",
       " 'ILCD/flowproperties/0629bf8d-c46d-49f7-bde3-d05c8c653460.xml',\n",
       " 'ILCD/flowproperties/078ecf46-26d6-47e3-8128-fcced884d1cd.xml',\n",
       " 'ILCD/flowproperties/085af809-5dc6-4920-aaa1-4ac493ae4af8.xml',\n",
       " 'ILCD/flowproperties/0860521c-2ad8-46bc-b81e-18996bb50198.xml',\n",
       " 'ILCD/flowproperties/0a59b049-6c3a-4b0f-957b-fd683fa6ddda.xml',\n",
       " 'ILCD/flowproperties/0ab79a5f-7fd7-4d5d-be55-559292c958d3.xml',\n",
       " 'ILCD/flowproperties/0ac18236-1ef4-4d67-95c0-4aebfec7f470.xml',\n",
       " 'ILCD/flowproperties/0b12d18f-0c7c-44da-8c52-dc3278f917c7.xml',\n",
       " 'ILCD/flowproperties/0b39b0c3-36a4-4694-be8e-3283825da756.xml',\n",
       " 'ILCD/flowproperties/0bb4f3ac-2944-4263-8587-ea6eac2d24ac.xml',\n",
       " 'ILCD/flowproperties/11be520c-e34e-4130-9b6b-7477cea7191f.xml',\n",
       " 'ILCD/flowproperties/11f31f00-f6fa-4ef0-a9e3-5bd37199dd20.xml',\n",
       " 'ILCD/flowproperties/1463254d-f58a-45d9-b3fe-6db305425685.xml',\n",
       " 'ILCD/flowproperties/152357c8-bd86-4cd1-b16a-ec468995264b.xml',\n",
       " 'ILCD/flowproperties/16be4f65-1df1-4233-ad47-838fa7fb1955.xml',\n",
       " 'ILCD/flowproperties/184c9c12-32fb-4252-a484-9952928b8473.xml',\n",
       " 'ILCD/flowproperties/1c00f37c-58ec-4911-985d-82ce3573a98f.xml',\n",
       " 'ILCD/flowproperties/1cc347a0-3bd1-46db-a308-2707c68d2351.xml',\n",
       " 'ILCD/flowproperties/1cc347a0-3bd1-46db-a308-2707c68d2351_02.00.000.xml',\n",
       " 'ILCD/flowproperties/1d85ab50-ed1e-4421-b3b8-c5197d858a0d.xml',\n",
       " 'ILCD/flowproperties/1e1e2700-dae3-42e2-a2ab-f61fdd789b37.xml',\n",
       " 'ILCD/flowproperties/1e6e8252-dae9-4b4a-866c-c6c3a5e810a1.xml',\n",
       " 'ILCD/flowproperties/1ecab406-e228-4c90-b85c-81cac996877a.xml',\n",
       " 'ILCD/flowproperties/20d094df-6e36-4a01-805f-e16afbbb2bef.xml',\n",
       " 'ILCD/flowproperties/2131c36f-5bac-4644-8de7-b008528556ca.xml',\n",
       " 'ILCD/flowproperties/23911c86-d4d2-4e3e-a45e-8e392af1dc4e.xml',\n",
       " 'ILCD/flowproperties/23cb51a2-fc53-4359-95f7-d36ece76ddc9.xml',\n",
       " 'ILCD/flowproperties/243c783c-1842-43f5-969e-445efa90b06a.xml',\n",
       " 'ILCD/flowproperties/24a07e87-aa12-4f9c-8c40-580e9bf7a2f2.xml',\n",
       " 'ILCD/flowproperties/2560be96-7d6b-4f9f-ac7c-094888dc4070.xml',\n",
       " 'ILCD/flowproperties/25c2946d-2b1f-4245-b2aa-80c037912665.xml',\n",
       " 'ILCD/flowproperties/2651cd57-1c24-4b8e-856b-ddb63a3b267e.xml',\n",
       " 'ILCD/flowproperties/27f62f94-3fe1-4df5-9693-9112b832decb.xml',\n",
       " 'ILCD/flowproperties/282882cf-a5e5-4170-82dd-8e84da2724d2.xml',\n",
       " 'ILCD/flowproperties/29b03f81-3388-48ac-ad3c-a290bd47c512.xml',\n",
       " 'ILCD/flowproperties/29e690b7-91ee-466e-a6b5-364cae4fb066.xml',\n",
       " 'ILCD/flowproperties/2d9d802c-002d-4018-a702-d2d46e78625a.xml',\n",
       " 'ILCD/flowproperties/2e4695ff-d6a5-42c2-9816-6dbd6c859707.xml',\n",
       " 'ILCD/flowproperties/2ea4d465-87e3-4f85-81a0-2bd661639f4e.xml',\n",
       " 'ILCD/flowproperties/2ec1afc4-0fc6-4723-b302-3639a8f34e95.xml',\n",
       " 'ILCD/flowproperties/2f32425e-30f8-4e04-9909-49b220f4424b.xml',\n",
       " 'ILCD/flowproperties/2f60ead1-4452-442d-b5c2-ce7518d5d62f.xml',\n",
       " 'ILCD/flowproperties/337ade5f-76a7-4dd4-a720-c376f9b297af.xml',\n",
       " 'ILCD/flowproperties/33cf4d9a-bcbf-4fe4-926b-38f2c3e36278.xml',\n",
       " 'ILCD/flowproperties/3583a4a3-70a7-4b61-9b3d-6c37edcab998.xml',\n",
       " 'ILCD/flowproperties/3595d504-6e0b-4f7c-b5f3-aeb351f8442c.xml',\n",
       " 'ILCD/flowproperties/36077bb7-d83c-4e81-b71b-5d5b537558b9.xml',\n",
       " 'ILCD/flowproperties/37ea4331-3a64-4286-84d3-a7be6f4f66b1.xml',\n",
       " 'ILCD/flowproperties/37fa5316-8083-49c9-880c-7fefff2f60b9.xml',\n",
       " 'ILCD/flowproperties/3c72ec66-a311-4e2b-9451-125df462c4f0.xml',\n",
       " 'ILCD/flowproperties/3da87ad0-733e-4ca9-b234-75ef52ca2a2d.xml',\n",
       " 'ILCD/flowproperties/3df28f4a-f964-4736-b33a-481f16c2fd9c.xml',\n",
       " 'ILCD/flowproperties/417b44eb-e350-4ea4-96eb-8cbac7d939e7.xml',\n",
       " 'ILCD/flowproperties/42d61e3c-cd69-4ff1-a4f8-b20ef91aa8c5.xml',\n",
       " 'ILCD/flowproperties/435e1d0e-e36e-4d4a-9cd1-7fd2c135da61.xml',\n",
       " 'ILCD/flowproperties/441238a3-ba09-46ec-b35b-c30cfba746d1.xml',\n",
       " 'ILCD/flowproperties/441238a3-ba09-46ec-b35b-c30cfba746d1_02.00.000.xml',\n",
       " 'ILCD/flowproperties/45915a2c-6ee8-45bd-8a46-070a7261558e.xml',\n",
       " 'ILCD/flowproperties/45d0e5ed-9937-4482-b269-66255e8915cb.xml',\n",
       " 'ILCD/flowproperties/476dbccb-c1e5-4cdb-aa14-f4ef627c45ec.xml',\n",
       " 'ILCD/flowproperties/47aa66d8-02ad-40a1-a1e2-b250226897e5.xml',\n",
       " 'ILCD/flowproperties/4872c95a-5f78-4572-883b-e076187ad87c.xml',\n",
       " 'ILCD/flowproperties/4872c95a-5f78-4572-883b-e076187ad87c_02.00.000.xml',\n",
       " 'ILCD/flowproperties/48b863a6-8c12-4959-8595-4e9d6eb71321.xml',\n",
       " 'ILCD/flowproperties/4ab85e75-8dc9-4a97-aded-cd2d93cc7d8e.xml',\n",
       " 'ILCD/flowproperties/4b110377-1dd7-4467-9568-b39e06edf9a1.xml',\n",
       " 'ILCD/flowproperties/4be94be8-7294-4a96-b821-518c3b71c1f8.xml',\n",
       " 'ILCD/flowproperties/4d93ba85-fcae-4672-ae5c-5d63565a3bd1.xml',\n",
       " 'ILCD/flowproperties/4e67bb98-bba5-46fc-8b29-4b071b7280c7.xml',\n",
       " 'ILCD/flowproperties/4eb667d4-0d61-4993-913b-527046b92443.xml',\n",
       " 'ILCD/flowproperties/4f1ca3c2-0e21-400b-835b-a7f6c239d30b.xml',\n",
       " 'ILCD/flowproperties/4fffb60f-ee80-42f2-88b6-50b0580fcb32.xml',\n",
       " 'ILCD/flowproperties/509344ce-df52-4e70-8066-3fe0d58dc56c.xml',\n",
       " 'ILCD/flowproperties/52dcf2ff-c0f6-417f-a957-788688d67b86.xml',\n",
       " 'ILCD/flowproperties/52df30be-afb3-4e75-a3d8-35f97aba925b.xml',\n",
       " 'ILCD/flowproperties/58df93c6-7545-4f58-85a7-36d385f330a5.xml',\n",
       " 'ILCD/flowproperties/58ea2de8-1f31-4248-9b03-18ec5d8db13b.xml',\n",
       " 'ILCD/flowproperties/59012d14-df11-4e91-92ab-b418fefba116.xml',\n",
       " 'ILCD/flowproperties/5a2556bf-a9ec-4720-9253-d40f1de3c2b8.xml',\n",
       " 'ILCD/flowproperties/5c39e9a9-4bb5-42cd-b519-0db3a940a575.xml',\n",
       " 'ILCD/flowproperties/5db5be2d-8df6-432b-ab3d-ffde49d3fe7f.xml',\n",
       " 'ILCD/flowproperties/607a33e0-28ed-42f8-ac8c-66f0c9700e56.xml',\n",
       " 'ILCD/flowproperties/61ec59a5-3816-4e5a-88c7-acf8a8b33d41.xml',\n",
       " 'ILCD/flowproperties/62e503ce-544a-4599-b2ad-bcea15a7bf20.xml',\n",
       " 'ILCD/flowproperties/643a45fb-fa16-4735-8c0f-3b82133ab48d.xml',\n",
       " 'ILCD/flowproperties/6452b79d-1a90-4dc9-ae47-671601594091.xml',\n",
       " 'ILCD/flowproperties/64b8e725-b0ba-4837-abb9-62dc0e7b9f6f.xml',\n",
       " 'ILCD/flowproperties/651f0a05-9e42-4bb2-b174-cea7b0b5150a.xml',\n",
       " 'ILCD/flowproperties/67b63204-ef91-44b2-a927-2f4ead1fae17.xml',\n",
       " 'ILCD/flowproperties/6827435e-8ad9-44c1-b0b4-b26f321957b1.xml',\n",
       " 'ILCD/flowproperties/697fbcb6-b516-4c2f-a78e-5ec2ffaec4b3.xml',\n",
       " 'ILCD/flowproperties/699b6a73-e8d5-4755-8d1d-b70de4b9efdd.xml',\n",
       " 'ILCD/flowproperties/6b2d044b-73e8-49e9-a6b9-3c0e1a950f2f.xml',\n",
       " 'ILCD/flowproperties/6ded7e36-d909-48da-b854-ffd77a7f2468.xml',\n",
       " 'ILCD/flowproperties/6f77d800-a85f-49b2-a7f8-97e60d97ec97.xml',\n",
       " 'ILCD/flowproperties/7004737b-ba5d-4621-aede-9e5d25c0dc64.xml',\n",
       " 'ILCD/flowproperties/71720a6a-9802-4ef6-9c50-9336493ff777.xml',\n",
       " 'ILCD/flowproperties/71fc82ec-9eb9-424a-bc45-053a844c8af9.xml',\n",
       " 'ILCD/flowproperties/72717692-d8ed-4fc8-aa3d-3bab078846bd.xml',\n",
       " 'ILCD/flowproperties/72a72642-9e98-414f-bea7-5652850d0b8c.xml',\n",
       " 'ILCD/flowproperties/74f8559d-44a4-409f-9316-a185882a496c.xml',\n",
       " 'ILCD/flowproperties/757ca15b-8403-46bb-a52d-65b861889787.xml',\n",
       " 'ILCD/flowproperties/76d611d0-a0a5-43d5-b391-a4e7ec463052.xml',\n",
       " 'ILCD/flowproperties/77f40806-2c54-4050-97d3-d1b61eb4b0c9.xml',\n",
       " 'ILCD/flowproperties/781c62d0-e144-4ef9-891e-42042ad3c2a4.xml',\n",
       " 'ILCD/flowproperties/7875b92b-25e2-44b3-96b5-a917287d09d9.xml',\n",
       " 'ILCD/flowproperties/78b712c9-7f07-467f-b085-efee6067871b.xml',\n",
       " 'ILCD/flowproperties/79920f3d-77b3-4f12-8a8f-47accf832eca.xml',\n",
       " 'ILCD/flowproperties/7b3be4d7-edbb-4711-a80f-e95f2ba63183.xml',\n",
       " 'ILCD/flowproperties/7c367337-54f2-4fe9-8ee3-3f42681b0792.xml',\n",
       " 'ILCD/flowproperties/7cc6f031-f747-49e0-9600-ce2a2fe5657e.xml',\n",
       " 'ILCD/flowproperties/7d177694-1886-4dd1-9280-d4e00dac9e49.xml',\n",
       " 'ILCD/flowproperties/7d6444b0-2f0f-4aab-918e-be3ced577fc1.xml',\n",
       " 'ILCD/flowproperties/7d8b1692-adf2-4444-b00b-1b4bf13ac7a9.xml',\n",
       " 'ILCD/flowproperties/7df6d2b6-09c4-4531-ada8-f7c9b7c6bc82.xml',\n",
       " 'ILCD/flowproperties/7eb51190-01f0-40a0-801d-b5c588272314.xml',\n",
       " 'ILCD/flowproperties/7eb6e3cb-0c12-4216-99b5-2032906d42ca.xml',\n",
       " 'ILCD/flowproperties/7ec8d70e-4ffc-4024-86b7-6141cc0a2bf5.xml',\n",
       " 'ILCD/flowproperties/825ef2f3-f706-4c47-8f8d-ee9ddbab3b43.xml',\n",
       " 'ILCD/flowproperties/827934c0-561e-402c-82f2-f04765d180e5.xml',\n",
       " 'ILCD/flowproperties/83040211-0076-4862-b172-79ce62b71187.xml',\n",
       " 'ILCD/flowproperties/83219155-caeb-4e32-bc0e-f530d742f4f4.xml',\n",
       " 'ILCD/flowproperties/83344b0a-18ed-4adf-9317-cbee290ff941.xml',\n",
       " 'ILCD/flowproperties/838aaa20-0117-11db-92e3-0800200c9a66.xml',\n",
       " 'ILCD/flowproperties/838aaa20-0117-11db-92e3-0800200c9a66_02.00.000.xml',\n",
       " 'ILCD/flowproperties/838aaa23-0117-11db-92e3-0800200c9a66.xml',\n",
       " 'ILCD/flowproperties/838aaa23-0117-11db-92e3-0800200c9a66_02.00.000.xml',\n",
       " 'ILCD/flowproperties/83c2eede-677e-43ec-98c8-1d801c7f1774.xml',\n",
       " 'ILCD/flowproperties/8566dd09-9e1d-4b4b-836d-1f7dee6bb156.xml',\n",
       " 'ILCD/flowproperties/857b5058-63bd-43d8-96c9-53da36e871d4.xml',\n",
       " 'ILCD/flowproperties/85aa9476-64fb-4c86-bc01-0c656b479cb8.xml',\n",
       " 'ILCD/flowproperties/86597264-2d7c-454a-abb6-f5c5106ae888.xml',\n",
       " 'ILCD/flowproperties/8695e049-7a18-4b83-b3bd-035747039652.xml',\n",
       " 'ILCD/flowproperties/87d26717-c21d-4bbd-b0f1-a2853d6a2745.xml',\n",
       " 'ILCD/flowproperties/88de7063-fd9e-47d2-b182-1960dbaec530.xml',\n",
       " 'ILCD/flowproperties/897e7c69-cfc8-49cc-a7d6-ffc3dd8d2708.xml',\n",
       " 'ILCD/flowproperties/8993daa2-a866-4e7d-ad44-7e057cc6f8a8.xml',\n",
       " 'ILCD/flowproperties/8a9107c2-62a2-4997-95b0-6944c80b774e.xml',\n",
       " 'ILCD/flowproperties/91daa899-4561-4311-b9eb-2ffc5ac074f7.xml',\n",
       " 'ILCD/flowproperties/92f2d417-544a-4fd1-bde7-25967ef93586.xml',\n",
       " 'ILCD/flowproperties/935e0cbe-3369-4537-8019-4157cf929304.xml',\n",
       " 'ILCD/flowproperties/93a60a56-a3c8-11da-a746-0800200b9a66.xml',\n",
       " 'ILCD/flowproperties/93a60a56-a3c8-11da-a746-0800200b9a66_02.00.000.xml',\n",
       " 'ILCD/flowproperties/93a60a56-a3c8-11da-a746-0800200c9a66.xml',\n",
       " 'ILCD/flowproperties/93a60a56-a3c8-11da-a746-0800200c9a66_02.00.000.xml',\n",
       " 'ILCD/flowproperties/93a60a56-a3c8-13da-a746-0800200c9a66.xml',\n",
       " 'ILCD/flowproperties/93a60a56-a3c8-13da-a746-0800200c9a66_02.00.000.xml',\n",
       " 'ILCD/flowproperties/93a60a56-a3c8-14da-a746-0800200c9a66.xml',\n",
       " 'ILCD/flowproperties/93a60a56-a3c8-14da-a746-0800200c9a66_02.00.000.xml',\n",
       " 'ILCD/flowproperties/93a60a56-a3c8-17da-a746-0800200c9a66.xml',\n",
       " 'ILCD/flowproperties/93a60a56-a3c8-17da-a746-0800200c9a66_02.00.000.xml',\n",
       " 'ILCD/flowproperties/93a60a56-a3c8-19da-a746-0800200c9a66.xml',\n",
       " 'ILCD/flowproperties/93a60a56-a3c8-19da-a746-0800200c9a66_02.00.000.xml',\n",
       " 'ILCD/flowproperties/93a60a56-a3c8-21da-a746-0800200c9a66.xml',\n",
       " 'ILCD/flowproperties/93a60a56-a3c8-21da-a746-0800200c9a66_02.00.000.xml',\n",
       " 'ILCD/flowproperties/93a60a56-a3c8-22da-a746-0800200c9a66.xml',\n",
       " 'ILCD/flowproperties/93a60a56-a3c8-22da-a746-0800200c9a66_02.00.000.xml',\n",
       " 'ILCD/flowproperties/9643f3bf-731d-4bef-9a71-b8390472171a.xml',\n",
       " 'ILCD/flowproperties/984505b9-8536-4e31-a312-0d1a3788f009.xml',\n",
       " 'ILCD/flowproperties/98eec5a0-44db-411a-a502-95139090bc61.xml',\n",
       " 'ILCD/flowproperties/9a1478e4-e535-48f1-92e9-4e2b3e71bfaa.xml',\n",
       " 'ILCD/flowproperties/9b784a67-fbb1-4ad2-8774-30c39643b844.xml',\n",
       " 'ILCD/flowproperties/9b784a67-fbb1-4ad2-8774-30c39643b844_02.00.000.xml',\n",
       " 'ILCD/flowproperties/9b7cb96f-e51c-4329-aed1-28ffd39af521.xml',\n",
       " 'ILCD/flowproperties/9bb58775-7ba8-41a7-8818-f75af4f5fe39.xml',\n",
       " 'ILCD/flowproperties/9c6e6ae1-c403-407c-9598-cd5464425dac.xml',\n",
       " 'ILCD/flowproperties/9c8d4944-d4c4-4560-9ba3-c6157d9fb818.xml',\n",
       " 'ILCD/flowproperties/9eec6dc9-269d-4ed9-bff1-0170e3985383.xml',\n",
       " 'ILCD/flowproperties/9eed58e7-450e-4db1-8934-e0596b8c4e8b.xml',\n",
       " 'ILCD/flowproperties/a0f29f45-108a-4aef-8a66-aef07ed34913.xml',\n",
       " 'ILCD/flowproperties/a182c00f-c0e5-4b7a-b2a1-a735fbee7f9a.xml',\n",
       " 'ILCD/flowproperties/a449790c-aeb5-4e13-a0c3-6cac71725cf5.xml',\n",
       " 'ILCD/flowproperties/a515a876-49fd-4d21-9627-6d8c127245fc.xml',\n",
       " 'ILCD/flowproperties/a5278d68-2936-477b-b9de-7ad2d66422ec.xml',\n",
       " 'ILCD/flowproperties/a7fb1268-6aa9-4b1c-88f0-7ba5aabc27ea.xml',\n",
       " 'ILCD/flowproperties/a819760a-7651-4579-a786-842f7575df60.xml',\n",
       " 'ILCD/flowproperties/aaa95528-e05d-4eb4-85ff-a5445b580dcc.xml',\n",
       " 'ILCD/flowproperties/ab4928d4-ee85-42d8-adc1-c8b7b07d78b7.xml',\n",
       " 'ILCD/flowproperties/ab654e01-766b-411b-8902-cd6a9c40e55e.xml',\n",
       " 'ILCD/flowproperties/ac557972-7563-49fb-8461-29a4fe8600b7.xml',\n",
       " 'ILCD/flowproperties/ac95ed26-5038-4862-8b82-94f1412875cd.xml',\n",
       " 'ILCD/flowproperties/adbac86b-fb87-4c65-a0bc-3d73e88a498d.xml',\n",
       " 'ILCD/flowproperties/b05ba777-249f-4d8e-95b6-6d7db268986a.xml',\n",
       " 'ILCD/flowproperties/b1192e5a-4a70-4fd7-89a2-6b798c7ed3a7.xml',\n",
       " 'ILCD/flowproperties/b1dd578a-f16a-4eaa-ae08-442aa2a1a2de.xml',\n",
       " 'ILCD/flowproperties/b305017e-da55-4a11-be5c-d235d4baf102.xml',\n",
       " 'ILCD/flowproperties/b3f0f892-c5a3-4c66-a432-c09e3d1e9bd6.xml',\n",
       " 'ILCD/flowproperties/b4b5b365-60c9-4bcb-9ef6-e93e1de3b509.xml',\n",
       " 'ILCD/flowproperties/b539c404-ce19-43fb-ba14-6a1bdd46d8be.xml',\n",
       " 'ILCD/flowproperties/b5f03a60-cd8d-4dcd-83ca-258aa474caf6.xml',\n",
       " 'ILCD/flowproperties/b6acd765-b702-418c-86f6-d180e1b9d73d.xml',\n",
       " 'ILCD/flowproperties/b7be6dba-97f0-42f6-b173-e2c6b042fbe7.xml',\n",
       " 'ILCD/flowproperties/b8a29b5f-1e7e-4f15-881f-e802e42551eb.xml',\n",
       " 'ILCD/flowproperties/b8ef5a2b-ed75-4497-a061-1ecbbd79a380.xml',\n",
       " 'ILCD/flowproperties/b935ade0-f4a7-49e6-a4d5-182716a0b829.xml',\n",
       " 'ILCD/flowproperties/b94c1958-a019-48fe-91fe-969327201c96.xml',\n",
       " 'ILCD/flowproperties/b96b08c6-ee15-4d06-8824-3e77d75da473.xml',\n",
       " 'ILCD/flowproperties/bccf3a2c-75f5-47a3-8b67-df3e96a16645.xml',\n",
       " 'ILCD/flowproperties/bcf81c0a-9fe9-4b88-a25b-99e0dd64ddaa.xml',\n",
       " 'ILCD/flowproperties/bd9b36ca-8240-464a-bba0-01c5210a5b66.xml',\n",
       " 'ILCD/flowproperties/c0447923-0e60-4b3c-97c2-a86dddd9eea5.xml',\n",
       " 'ILCD/flowproperties/c0447923-0e60-4b3c-97c2-a86dddd9eea5_02.00.000.xml',\n",
       " 'ILCD/flowproperties/c2a5d679-93be-44a1-b82f-da986e622ab9.xml',\n",
       " 'ILCD/flowproperties/c4ee14f2-4c8d-4543-8567-86dfd9b36a3d.xml',\n",
       " 'ILCD/flowproperties/c5b2427c-379e-46e9-b506-c028a2ed83c8.xml',\n",
       " 'ILCD/flowproperties/c7304f1b-696f-40e1-ade6-cd797a5bb511.xml',\n",
       " 'ILCD/flowproperties/c79145ca-cc90-49b1-905a-51aaedc0e36b.xml',\n",
       " 'ILCD/flowproperties/c7e2351e-7f9c-4642-bd5d-e0b62d2953d0.xml',\n",
       " 'ILCD/flowproperties/c9ca6f60-2f78-4deb-a712-cc3b5e62baba.xml',\n",
       " 'ILCD/flowproperties/ccb07055-c185-4eb5-889b-5c4d57d7aebf.xml',\n",
       " 'ILCD/flowproperties/cdd69246-7d90-4ff4-9dd5-fd0773d6f34d.xml',\n",
       " 'ILCD/flowproperties/cefa9508-86b9-4fad-824e-bbf9d6fdd6f9.xml',\n",
       " 'ILCD/flowproperties/cfd90ebc-aae7-45c6-8bb5-1430217fa4fe.xml',\n",
       " 'ILCD/flowproperties/cff66326-d997-4a36-8b2f-254f5f6213d3.xml',\n",
       " 'ILCD/flowproperties/d007b895-1f80-4b55-8e3b-565879f82458.xml',\n",
       " 'ILCD/flowproperties/d07d61ac-df46-4e74-bd49-3260c7b5fb89.xml',\n",
       " 'ILCD/flowproperties/d2881f47-95a3-4d13-8b2c-da2385e35235.xml',\n",
       " 'ILCD/flowproperties/d4f76a48-d1c9-4c49-a46e-b61feb974ac4.xml',\n",
       " 'ILCD/flowproperties/d55035e1-5a9a-44c5-88ce-d20086ab7148.xml',\n",
       " 'ILCD/flowproperties/d58f03c0-feab-4e47-aef6-4394aecc72dd.xml',\n",
       " 'ILCD/flowproperties/d5b5d5b5-374e-43c9-ac6c-facbb294f78d.xml',\n",
       " 'ILCD/flowproperties/d6b6a36c-58b3-48c7-b723-392a6df4754f.xml',\n",
       " 'ILCD/flowproperties/d703ed04-22ca-4151-85ae-da1fcf54df68.xml',\n",
       " 'ILCD/flowproperties/d7882bb5-cb4e-4ef6-84d8-1e1b75de022c.xml',\n",
       " 'ILCD/flowproperties/dabdc21c-f81c-49ca-90ba-782db9edd2c2.xml',\n",
       " 'ILCD/flowproperties/dccec68c-c1c9-42e4-9fa9-42dbb943082d.xml',\n",
       " 'ILCD/flowproperties/dd77d131-c2ee-4d5a-b5d3-f7aa981ae305.xml',\n",
       " 'ILCD/flowproperties/e02ff80b-c3f1-4d9d-b33a-f8c3001c70b8.xml',\n",
       " 'ILCD/flowproperties/e07b4169-bd86-4337-8fa6-1f76916475bf.xml',\n",
       " 'ILCD/flowproperties/e07b4169-bd86-4337-8fa6-1f76916475bf_02.00.000.xml',\n",
       " 'ILCD/flowproperties/e08bcebd-b02f-49b6-a411-ce3817d975b0.xml',\n",
       " 'ILCD/flowproperties/e0d963f9-d6a4-42a5-90e9-fff8452aa2af.xml',\n",
       " 'ILCD/flowproperties/e11498e9-d5f0-4f6c-a9ed-a4fe5ea111d2.xml',\n",
       " 'ILCD/flowproperties/e19e99a6-f79d-46f7-bea0-ea6a4d2a8b0b.xml',\n",
       " 'ILCD/flowproperties/e1b01126-0456-41b5-a29a-d6bd5095b64b.xml',\n",
       " 'ILCD/flowproperties/e37ac184-9b5b-484c-b23d-ccc17ade3bf1.xml',\n",
       " 'ILCD/flowproperties/e3a844f0-7dff-4322-9e3c-15052706ca8e.xml',\n",
       " 'ILCD/flowproperties/e4225227-7855-41ce-ba57-a5314fdcdcf1.xml',\n",
       " 'ILCD/flowproperties/e4baa1ee-2b9d-472d-b344-41731fa35818.xml',\n",
       " 'ILCD/flowproperties/e57088b8-0313-45c4-b791-6fdfbb59a142.xml',\n",
       " 'ILCD/flowproperties/e7e62a64-0aba-4616-a0d2-a30163b9c3a3.xml',\n",
       " 'ILCD/flowproperties/e8b9419c-c36e-445f-a3a9-ace79156ac30.xml',\n",
       " 'ILCD/flowproperties/e8ddd74b-a22c-478a-aaf2-944c58163bd8.xml',\n",
       " 'ILCD/flowproperties/f138e814-c15d-42b0-8cd2-bdef72e6ac59.xml',\n",
       " 'ILCD/flowproperties/f1640c6e-0f2b-4981-bc81-c47b5a0ae158.xml',\n",
       " 'ILCD/flowproperties/f18a0b1c-59ec-4c76-ae20-bc6c522547b3.xml',\n",
       " 'ILCD/flowproperties/f2149ae0-b105-4299-b1f1-cf1fd1577867.xml',\n",
       " 'ILCD/flowproperties/f33b22c4-e0e7-4fa6-ae2b-246ecb0a16eb.xml',\n",
       " 'ILCD/flowproperties/f3e1017d-1aa3-4763-b563-9494858e1ec7.xml',\n",
       " 'ILCD/flowproperties/f54a11f1-0f59-4a16-9c7e-6b947d88a9a2.xml',\n",
       " 'ILCD/flowproperties/f65d356a-d702-4d79-850e-dd68b47bbcd9.xml',\n",
       " 'ILCD/flowproperties/f7176a36-1039-4d5d-8f08-a8f6bd1f06b6.xml',\n",
       " 'ILCD/flowproperties/fa420e22-aacd-4fa9-a74d-1a076d97299e.xml',\n",
       " 'ILCD/flowproperties/fa48378a-140a-4a0a-bf23-2bd64eac7c7c.xml',\n",
       " 'ILCD/flowproperties/fa94ba11-2720-441d-b432-a2774f3ab1ad.xml',\n",
       " 'ILCD/flowproperties/fb98fe90-6a06-436a-8328-82c05f27a095.xml',\n",
       " 'ILCD/flowproperties/fc0bbe37-85c6-4aea-8319-6dc1a13322a8.xml',\n",
       " 'ILCD/flowproperties/fc0ccc00-30b3-4458-acbe-b8efc49e1acc.xml',\n",
       " 'ILCD/flowproperties/fc5e9b2c-230c-4950-a998-dc933dbbc344.xml',\n",
       " 'ILCD/flowproperties/fd4bd419-229d-47e6-9c65-9224d4f6d7d4.xml',\n",
       " 'ILCD/flowproperties/fd9a098b-253e-4f1e-986d-76a775c51722.xml',\n",
       " 'ILCD/flowproperties/fdfecf14-ff8a-4e17-b2b2-f938c4b5cc27.xml',\n",
       " 'ILCD/flowproperties/fdfecf14-ff8a-4e17-b2b2-f938c4b5cc27_02.00.000.xml',\n",
       " 'ILCD/flowproperties/fec15e58-109a-4775-bc6f-72ca0b9b3cee.xml',\n",
       " 'ILCD/flowproperties/feebd083-25b0-43d6-965e-543777e711f0.xml',\n",
       " 'ILCD/flowproperties/ffa9500b-0e95-493e-a997-dab3ad0ff188.xml']"
      ]
     },
     "execution_count": 6,
     "metadata": {},
     "output_type": "execute_result"
    }
   ],
   "source": [
    "E.list_objects('FlowProperty')"
   ]
  },
  {
   "cell_type": "code",
   "execution_count": 14,
   "metadata": {
    "collapsed": false
   },
   "outputs": [],
   "source": [
    "from lcatools.tools import gz_files, load_json"
   ]
  },
  {
   "cell_type": "code",
   "execution_count": 52,
   "metadata": {
    "collapsed": true
   },
   "outputs": [],
   "source": [
    "f = gz_files('../../lca-tools-datafiles/catalogs')"
   ]
  },
  {
   "cell_type": "code",
   "execution_count": 53,
   "metadata": {
    "collapsed": false
   },
   "outputs": [
    {
     "data": {
      "text/plain": [
       "['../../lca-tools-datafiles/catalogs\\\\ecoinvent_3.2_apos_xlsx.json.gz',\n",
       " '../../lca-tools-datafiles/catalogs\\\\ecoinvent_3.2_consequential_xlsx.json.gz',\n",
       " '../../lca-tools-datafiles/catalogs\\\\ecoinvent_3.2_cut-off_xlsx.json.gz',\n",
       " '../../lca-tools-datafiles/catalogs\\\\ecoinvent_3.2_undefined_xlsx.json.gz',\n",
       " '../../lca-tools-datafiles/catalogs\\\\elcd_3.2.json.gz',\n",
       " '../../lca-tools-datafiles/catalogs\\\\gabi_2016_all-extensions.json.gz',\n",
       " '../../lca-tools-datafiles/catalogs\\\\gabi_2016_professional-database-2016.json.gz',\n",
       " '../../lca-tools-datafiles/catalogs\\\\uslci_ecospold.json.gz']"
      ]
     },
     "execution_count": 53,
     "metadata": {},
     "output_type": "execute_result"
    }
   ],
   "source": [
    "f"
   ]
  },
  {
   "cell_type": "code",
   "execution_count": 17,
   "metadata": {
    "collapsed": true
   },
   "outputs": [],
   "source": [
    "import gzip\n",
    "import json"
   ]
  },
  {
   "cell_type": "code",
   "execution_count": 54,
   "metadata": {
    "collapsed": false
   },
   "outputs": [],
   "source": [
    "with gzip.open(f[5], 'r') as fp:\n",
    "    GO = json.load(fp)"
   ]
  },
  {
   "cell_type": "code",
   "execution_count": 55,
   "metadata": {
    "collapsed": false
   },
   "outputs": [],
   "source": [
    "u = [k['entityId'] for k in GO['archives'][0]['quantities']]"
   ]
  },
  {
   "cell_type": "code",
   "execution_count": 56,
   "metadata": {
    "collapsed": false
   },
   "outputs": [
    {
     "data": {
      "text/plain": [
       "[u'flowproperties/93a60a56-a3c8-14da-a746-0800200c9a66',\n",
       " u'flowproperties/118f2a40-50ec-457c-aa60-9bc6b6af9931',\n",
       " u'flowproperties/c0447923-0e60-4b3c-97c2-a86dddd9eea5',\n",
       " u'flowproperties/01846770-4cfe-4a25-8ad9-919d8d378345',\n",
       " u'flowproperties/9248c348-cadf-47de-afd0-35161d041cb3',\n",
       " u'flowproperties/93a60a56-a3c8-22da-a746-0800200c9a66',\n",
       " u'flowproperties/93a60a56-a3c8-11da-a746-0800200c9a66',\n",
       " u'flowproperties/b04c0757-47f1-43f5-b910-5f475e11bd9b',\n",
       " u'flowproperties/93a60a56-a3c8-19da-a746-0800200c9a66',\n",
       " u'flowproperties/838aaa23-0117-11db-92e3-0800200c9a66',\n",
       " u'flowproperties/93a60a56-a3c8-13da-a746-0800200c9a66',\n",
       " u'flowproperties/93a60a56-a3c8-11da-a746-0800200b9a66']"
      ]
     },
     "execution_count": 56,
     "metadata": {},
     "output_type": "execute_result"
    }
   ],
   "source": [
    "u"
   ]
  },
  {
   "cell_type": "code",
   "execution_count": 61,
   "metadata": {
    "collapsed": false
   },
   "outputs": [
    {
     "name": "stdout",
     "output_type": "stream",
     "text": [
      "Accessing remote url: http://gabi-documentation-2016.gabi-software.com/xml-data/flowproperties/93a60a56-a3c8-14da-a746-0800200c9a66.xml\n",
      "Accessing remote url: http://gabi-documentation-2016.gabi-software.com/xml-data/unitgroups/93a60a57-a3c8-11da-a746-0800200c9a66.xml\n",
      "Accessing remote url: http://gabi-documentation-2016.gabi-software.com/xml-data/flowproperties/118f2a40-50ec-457c-aa60-9bc6b6af9931.xml\n",
      "Accessing remote url: http://gabi-documentation-2016.gabi-software.com/xml-data/unitgroups/3620148f-c5db-48ce-9065-a10092089aca.xml\n",
      "Accessing remote url: http://gabi-documentation-2016.gabi-software.com/xml-data/flowproperties/c0447923-0e60-4b3c-97c2-a86dddd9eea5.xml\n",
      "Accessing remote url: http://gabi-documentation-2016.gabi-software.com/xml-data/unitgroups/af638906-3ec7-4314-8de7-f76039f2dd01.xml\n",
      "Accessing remote url: http://gabi-documentation-2016.gabi-software.com/xml-data/flowproperties/01846770-4cfe-4a25-8ad9-919d8d378345.xml\n",
      "Accessing remote url: http://gabi-documentation-2016.gabi-software.com/xml-data/unitgroups/5beb6eed-33a9-47b8-9ede-1dfe8f679159.xml\n",
      "Accessing remote url: http://gabi-documentation-2016.gabi-software.com/xml-data/flowproperties/9248c348-cadf-47de-afd0-35161d041cb3.xml\n",
      "Accessing remote url: http://gabi-documentation-2016.gabi-software.com/xml-data/unitgroups/8992910b-42c3-4cc5-96fa-66ac4ac3b6de.xml\n",
      "Accessing remote url: http://gabi-documentation-2016.gabi-software.com/xml-data/flowproperties/93a60a56-a3c8-22da-a746-0800200c9a66.xml\n",
      "Accessing remote url: http://gabi-documentation-2016.gabi-software.com/xml-data/unitgroups/93a60a57-a3c8-12da-a746-0800200c9a66.xml\n",
      "Accessing remote url: http://gabi-documentation-2016.gabi-software.com/xml-data/flowproperties/93a60a56-a3c8-11da-a746-0800200c9a66.xml\n",
      "Accessing remote url: http://gabi-documentation-2016.gabi-software.com/xml-data/unitgroups/93a60a57-a3c8-11da-a746-0800200c9a66.xml\n",
      "Accessing remote url: http://gabi-documentation-2016.gabi-software.com/xml-data/flowproperties/b04c0757-47f1-43f5-b910-5f475e11bd9b.xml\n",
      "Accessing remote url: http://gabi-documentation-2016.gabi-software.com/xml-data/unitgroups/46076063-39cb-4e0e-9b18-f6d04fee3f60.xml\n",
      "Accessing remote url: http://gabi-documentation-2016.gabi-software.com/xml-data/flowproperties/93a60a56-a3c8-19da-a746-0800200c9a66.xml\n",
      "Accessing remote url: http://gabi-documentation-2016.gabi-software.com/xml-data/unitgroups/93a60a57-a3c8-18da-a746-0800200c9a66.xml\n",
      "Accessing remote url: http://gabi-documentation-2016.gabi-software.com/xml-data/flowproperties/838aaa23-0117-11db-92e3-0800200c9a66.xml\n",
      "Accessing remote url: http://gabi-documentation-2016.gabi-software.com/xml-data/unitgroups/838aaa22-0117-11db-92e3-0800200c9a66.xml\n",
      "Accessing remote url: http://gabi-documentation-2016.gabi-software.com/xml-data/flowproperties/93a60a56-a3c8-13da-a746-0800200c9a66.xml\n",
      "Accessing remote url: http://gabi-documentation-2016.gabi-software.com/xml-data/unitgroups/93a60a57-a3c8-12da-a746-0800200c9a66.xml\n",
      "Accessing remote url: http://gabi-documentation-2016.gabi-software.com/xml-data/flowproperties/93a60a56-a3c8-11da-a746-0800200b9a66.xml\n",
      "Accessing remote url: http://gabi-documentation-2016.gabi-software.com/xml-data/unitgroups/93a60a57-a4c8-11da-a746-0800200c9a66.xml\n"
     ]
    }
   ],
   "source": [
    "for q in u:\n",
    "    G.retrieve_or_fetch_entity(q)"
   ]
  },
  {
   "cell_type": "code",
   "execution_count": 49,
   "metadata": {
    "collapsed": false
   },
   "outputs": [
    {
     "name": "stdout",
     "output_type": "stream",
     "text": [
      "Accessing remote url: http://gabi-documentation-2016.gabi-software.com/xml-data/flowproperties/93a60a56-a3c8-14da-a746-0800200c9a66.xml\n",
      "Accessing remote url: http://gabi-documentation-2016.gabi-software.com/xml-data/unitgroups/93a60a57-a3c8-11da-a746-0800200c9a66.xml\n"
     ]
    },
    {
     "data": {
      "text/plain": [
       "<lcatools.entities.LcQuantity at 0xbe83bd0>"
      ]
     },
     "execution_count": 49,
     "metadata": {},
     "output_type": "execute_result"
    }
   ],
   "source": [
    "G.retrieve_or_fetch_entity('flowproperties/93a60a56-a3c8-14da-a746-0800200c9a66')"
   ]
  },
  {
   "cell_type": "code",
   "execution_count": 50,
   "metadata": {
    "collapsed": false
   },
   "outputs": [
    {
     "name": "stdout",
     "output_type": "stream",
     "text": [
      "Accessing remote url: http://gabi-documentation-2016.gabi-software.com/xml-data/flowproperties/9248c348-cadf-47de-afd0-35161d041cb3.xml\n",
      "Accessing remote url: http://gabi-documentation-2016.gabi-software.com/xml-data/unitgroups/8992910b-42c3-4cc5-96fa-66ac4ac3b6de.xml\n"
     ]
    },
    {
     "data": {
      "text/plain": [
       "<lcatools.entities.LcQuantity at 0xbe83ed0>"
      ]
     },
     "execution_count": 50,
     "metadata": {},
     "output_type": "execute_result"
    }
   ],
   "source": [
    "G.retrieve_or_fetch_entity('flowproperties/9248c348-cadf-47de-afd0-35161d041cb3')"
   ]
  },
  {
   "cell_type": "code",
   "execution_count": 62,
   "metadata": {
    "collapsed": true
   },
   "outputs": [],
   "source": [
    "G.write_to_file('GaBi_corrected_quantities.json')"
   ]
  },
  {
   "cell_type": "code",
   "execution_count": 31,
   "metadata": {
    "collapsed": false
   },
   "outputs": [],
   "source": [
    "mass = E.quantities(Name='mass$')[0]"
   ]
  },
  {
   "cell_type": "code",
   "execution_count": 38,
   "metadata": {
    "collapsed": false
   },
   "outputs": [
    {
     "data": {
      "text/plain": [
       "3.11034768e-05"
      ]
     },
     "execution_count": 38,
     "metadata": {},
     "output_type": "execute_result"
    }
   ],
   "source": [
    "1 * mass.convert('oz t', to='t')"
   ]
  },
  {
   "cell_type": "code",
   "execution_count": 60,
   "metadata": {
    "collapsed": false
   },
   "outputs": [
    {
     "name": "stdout",
     "output_type": "stream",
     "text": [
      "Archive refers to a web address using protocol http\n"
     ]
    }
   ],
   "source": [
    "G = IlcdArchive('http://gabi-documentation-2016.gabi-software.com/xml-data/')"
   ]
  },
  {
   "cell_type": "code",
   "execution_count": 48,
   "metadata": {
    "collapsed": false
   },
   "outputs": [
    {
     "name": "stdout",
     "output_type": "stream",
     "text": [
      "Help on method convert in module lcatools.entities:\n",
      "\n",
      "convert(self, from_unit, to=None) method of lcatools.entities.LcQuantity instance\n",
      "    Perform unit conversion within a quantity, using a 'UnitConversion' table stored in the object properties.\n",
      "    For instance, if the quantity name was 'mass' and the reference unit was 'kg', then\n",
      "    quantity.convert('lb') would[should] return 0.4536...\n",
      "    quantity.convert('lb', to='ton') should return 0.0005\n",
      "    \n",
      "    This function requires that the quantity have a 'UnitConversion' property that works as a dict, with\n",
      "    the unit names being keys. The requirement is that the values for every key all correspond to the same\n",
      "    quantity.  For instance, if the quantity was mass, then the following would be equivalent:\n",
      "    \n",
      "    quantity['UnitConversion'] = { 'kg': 1, 'lb': 2.204622, 'ton': 0.0011023, 't': 0.001 }\n",
      "    quantity['UnitConversion'] = { 'kg': 907.2, 'lb': 2000.0, 'ton': 1, 't': 0.9072 }\n",
      "    \n",
      "    If the quantity's reference unit is missing from the dict, it is assumed to be 1 implicitly.\n",
      "    \n",
      "    :param from_unit:\n",
      "    :param to: unit to convert to (default is the reference unit)\n",
      "    :return: a float indicating how many to_units there are in one from_unit\n",
      "\n"
     ]
    }
   ],
   "source": [
    "help(mass.convert)"
   ]
  },
  {
   "cell_type": "code",
   "execution_count": 58,
   "metadata": {
    "collapsed": false
   },
   "outputs": [
    {
     "data": {
      "text/plain": [
       "[u'flowproperties/93a60a56-a3c8-14da-a746-0800200c9a66',\n",
       " u'flowproperties/118f2a40-50ec-457c-aa60-9bc6b6af9931',\n",
       " u'flowproperties/c0447923-0e60-4b3c-97c2-a86dddd9eea5',\n",
       " u'flowproperties/01846770-4cfe-4a25-8ad9-919d8d378345',\n",
       " u'flowproperties/9248c348-cadf-47de-afd0-35161d041cb3',\n",
       " u'flowproperties/93a60a56-a3c8-22da-a746-0800200c9a66',\n",
       " u'flowproperties/93a60a56-a3c8-11da-a746-0800200c9a66',\n",
       " u'flowproperties/b04c0757-47f1-43f5-b910-5f475e11bd9b',\n",
       " u'flowproperties/93a60a56-a3c8-19da-a746-0800200c9a66',\n",
       " u'flowproperties/838aaa23-0117-11db-92e3-0800200c9a66',\n",
       " u'flowproperties/93a60a56-a3c8-13da-a746-0800200c9a66',\n",
       " u'flowproperties/93a60a56-a3c8-11da-a746-0800200b9a66']"
      ]
     },
     "execution_count": 58,
     "metadata": {},
     "output_type": "execute_result"
    }
   ],
   "source": [
    "u"
   ]
  },
  {
   "cell_type": "code",
   "execution_count": 59,
   "metadata": {
    "collapsed": true
   },
   "outputs": [],
   "source": [
    "del G"
   ]
  },
  {
   "cell_type": "code",
   "execution_count": null,
   "metadata": {
    "collapsed": true
   },
   "outputs": [],
   "source": []
  }
 ],
 "metadata": {
  "kernelspec": {
   "display_name": "Python 2",
   "language": "python",
   "name": "python2"
  },
  "language_info": {
   "codemirror_mode": {
    "name": "ipython",
    "version": 2
   },
   "file_extension": ".py",
   "mimetype": "text/x-python",
   "name": "python",
   "nbconvert_exporter": "python",
   "pygments_lexer": "ipython2",
   "version": "2.7.10"
  }
 },
 "nbformat": 4,
 "nbformat_minor": 0
}
