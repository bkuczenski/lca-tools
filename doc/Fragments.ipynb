{
 "cells": [
  {
   "cell_type": "code",
   "execution_count": 1,
   "metadata": {
    "collapsed": true
   },
   "outputs": [],
   "source": [
    "import sys\n",
    "import os\n",
    "import re\n",
    "import json\n",
    "\n",
    "sys.path.append('..')\n",
    "\n",
    "import lcatools\n",
    "\n",
    "\n",
    "##\n",
    "def show(res):\n",
    "    for i, k in enumerate(res):\n",
    "        print('[%2d] %s ' % (i, k))\n",
    "\n",
    "from lcatools.interact import *\n",
    "\n"
   ]
  },
  {
   "cell_type": "code",
   "execution_count": 2,
   "metadata": {
    "collapsed": false
   },
   "outputs": [
    {
     "name": "stdout",
     "output_type": "stream",
     "text": [
      "ForegroundArchive archive added in position 0\n",
      "IlcdLcia archive added in position 1\n",
      "JSON archive added in position 2\n",
      "JSON archive added in position 3\n",
      "JSON archive added in position 4\n",
      "JSON archive added in position 5\n",
      "JSON archive added in position 6\n",
      "JSON archive added in position 7\n",
      "JSON archive added in position 8\n",
      "JSON archive added in position 9\n",
      "JSON archive added in position 10\n",
      "Generating flow-quantity database...\n",
      "finished... (0.78 s)\n"
     ]
    }
   ],
   "source": [
    "#from lcatools.foreground.manager import ForegroundManager\n",
    "from lcatools.foreground.interface import ForegroundInterface\n",
    "#F = ForegroundInterface('fragments')\n",
    "F = ForegroundInterface('fragments', cfs=None)"
   ]
  },
  {
   "cell_type": "code",
   "execution_count": 3,
   "metadata": {
    "collapsed": false
   },
   "outputs": [
    {
     "name": "stdout",
     "output_type": "stream",
     "text": [
      "\n",
      "LCA Catalog with the following archives:\n",
      "X [ 0] FG     : ForegroundArchive with 26 entities at fragments\n",
      "  [ 1] ELCD   : /data/LCI/ELCD/ELCD3.2.zip\n",
      "  [ 2] LCIA   : /data/GitHub/lca-tools-datafiles/catalogs/elcd_lcia.json.gz\n",
      "  [ 3] EI-LCIA: /data/GitHub/lca-tools-datafiles/catalogs/ei_lcia.json.gz\n",
      "  [ 4] EI-U   : /data/GitHub/lca-tools-datafiles/catalogs/ecoinvent_3.2_undefined_xlsx.json.gz\n",
      "  [ 5] EI_A   : /data/GitHub/lca-tools-datafiles/catalogs/ecoinvent_3.2_apos_xlsx.json.gz\n",
      "  [ 6] EI_Q   : /data/GitHub/lca-tools-datafiles/catalogs/ecoinvent_3.2_consequential_xlsx.json.gz\n",
      "  [ 7] EI_C   : /data/GitHub/lca-tools-datafiles/catalogs/ecoinvent_3.2_cut-off_xlsx.json.gz\n",
      "  [ 8] USLCI  : /data/GitHub/lca-tools-datafiles/catalogs/uslci_ecospold.json.gz\n",
      "  [ 9] GaBi-P : /data/GitHub/lca-tools-datafiles/catalogs/gabi_2016_professional-database-2016.json.gz\n",
      "  [10] GaBi-X : /data/GitHub/lca-tools-datafiles/catalogs/gabi_2016_all-extensions.json.gz\n"
     ]
    }
   ],
   "source": [
    "F.show(loaded=False)"
   ]
  },
  {
   "cell_type": "code",
   "execution_count": 4,
   "metadata": {
    "collapsed": false
   },
   "outputs": [
    {
     "data": {
      "text/plain": [
       "['Polyethylene terephthalate, resin, at plant [Chemical Manufacturing, Petrochemical Manufacturing]']"
      ]
     },
     "execution_count": 4,
     "metadata": {},
     "output_type": "execute_result"
    }
   ],
   "source": [
    "[str(f) for f in F[0].flows()]"
   ]
  },
  {
   "cell_type": "code",
   "execution_count": 5,
   "metadata": {
    "collapsed": false
   },
   "outputs": [
    {
     "name": "stdout",
     "output_type": "stream",
     "text": [
      "Loading JSON data from /data/GitHub/lca-tools-datafiles/catalogs/uslci_ecospold.json.gz:\n",
      "Found Extension: zip\n",
      "19 new quantity entities added (19 total)\n",
      "4176 new flow entities added (4176 total)\n",
      "701 new process entities added (701 total)\n",
      "[ 0] (USLCI) {f} Polyethylene terephthalate, resin, at plant, CTR [Chemical Manufacturing, All Other Basic Organic Chemical Manufacturing] \n",
      "[ 1] (USLCI) {f} Recovered energy, for Polyethylene terephthalate, resin, at plant, CTR [Chemical Manufacturing, All Other Basic Organic Chemical Manufacturing] \n",
      "[ 2] (USLCI) {f} Polyethylene terephthalate, resin, at plant [Chemical Manufacturing, Petrochemical Manufacturing] \n",
      "[ 3] (USLCI) {f} CUTOFF Polyethylene terephthalate, granulate, amorphous, at plant [CUTOFF Flows] \n"
     ]
    }
   ],
   "source": [
    "F.load('USLCI')\n",
    "selected = F.search('USLCI', 'flow', Name='poly.*terephth')\n",
    "\n",
    "show(selected)"
   ]
  },
  {
   "cell_type": "code",
   "execution_count": 6,
   "metadata": {
    "collapsed": false
   },
   "outputs": [
    {
     "name": "stdout",
     "output_type": "stream",
     "text": [
      "Add to selection? y/n [y]: \n",
      "Add to foreground: (USLCI) {f} Polyethylene terephthalate, resin, at plant [Chemical Manufacturing, Petrochemical Manufacturing]\n"
     ]
    },
    {
     "data": {
      "text/plain": [
       "True"
      ]
     },
     "execution_count": 6,
     "metadata": {},
     "output_type": "execute_result"
    }
   ],
   "source": [
    "F._prompt_add(selected[2])\n",
    "F.add_selection()"
   ]
  },
  {
   "cell_type": "code",
   "execution_count": 9,
   "metadata": {
    "collapsed": false
   },
   "outputs": [
    {
     "data": {
      "text/plain": [
       "[<lcatools.entities.LcFlow at 0x7f5777850668>]"
      ]
     },
     "execution_count": 9,
     "metadata": {},
     "output_type": "execute_result"
    }
   ],
   "source": [
    "F[0].flows()"
   ]
  },
  {
   "cell_type": "code",
   "execution_count": 10,
   "metadata": {
    "collapsed": false
   },
   "outputs": [
    {
     "name": "stdout",
     "output_type": "stream",
     "text": [
      "Saving foreground\n"
     ]
    },
    {
     "ename": "AttributeError",
     "evalue": "'ForegroundArchive' object has no attribute 'save_background'",
     "output_type": "error",
     "traceback": [
      "\u001b[1;31m---------------------------------------------------------------------------\u001b[0m",
      "\u001b[1;31mAttributeError\u001b[0m                            Traceback (most recent call last)",
      "\u001b[1;32m<ipython-input-10-737149246526>\u001b[0m in \u001b[0;36m<module>\u001b[1;34m()\u001b[0m\n\u001b[1;32m----> 1\u001b[1;33m \u001b[0mF\u001b[0m\u001b[1;33m.\u001b[0m\u001b[0msave\u001b[0m\u001b[1;33m(\u001b[0m\u001b[1;33m)\u001b[0m\u001b[1;33m\u001b[0m\u001b[0m\n\u001b[0m",
      "\u001b[1;32m/data/GitHub/lca-tools/lcatools/foreground/manager.py\u001b[0m in \u001b[0;36msave\u001b[1;34m(self)\u001b[0m\n\u001b[0;32m     79\u001b[0m             \u001b[0mprint\u001b[0m\u001b[1;33m(\u001b[0m\u001b[1;34m'Saving foreground'\u001b[0m\u001b[1;33m)\u001b[0m\u001b[1;33m\u001b[0m\u001b[0m\n\u001b[0;32m     80\u001b[0m             \u001b[0mself\u001b[0m\u001b[1;33m.\u001b[0m\u001b[0m_catalog\u001b[0m\u001b[1;33m[\u001b[0m\u001b[1;36m0\u001b[0m\u001b[1;33m]\u001b[0m\u001b[1;33m.\u001b[0m\u001b[0msave\u001b[0m\u001b[1;33m(\u001b[0m\u001b[1;33m)\u001b[0m  \u001b[1;31m# nothing else to save\u001b[0m\u001b[1;33m\u001b[0m\u001b[0m\n\u001b[1;32m---> 81\u001b[1;33m             \u001b[0mself\u001b[0m\u001b[1;33m.\u001b[0m\u001b[0m_catalog\u001b[0m\u001b[1;33m[\u001b[0m\u001b[1;36m0\u001b[0m\u001b[1;33m]\u001b[0m\u001b[1;33m.\u001b[0m\u001b[0msave_background\u001b[0m\u001b[1;33m(\u001b[0m\u001b[0mself\u001b[0m\u001b[1;33m.\u001b[0m\u001b[0mserialize_background\u001b[0m\u001b[1;33m(\u001b[0m\u001b[1;33m)\u001b[0m\u001b[1;33m)\u001b[0m\u001b[1;33m\u001b[0m\u001b[0m\n\u001b[0m\u001b[0;32m     82\u001b[0m \u001b[1;33m\u001b[0m\u001b[0m\n\u001b[0;32m     83\u001b[0m     \u001b[1;32mdef\u001b[0m \u001b[0m__getitem__\u001b[0m\u001b[1;33m(\u001b[0m\u001b[0mself\u001b[0m\u001b[1;33m,\u001b[0m \u001b[0mitem\u001b[0m\u001b[1;33m)\u001b[0m\u001b[1;33m:\u001b[0m\u001b[1;33m\u001b[0m\u001b[0m\n",
      "\u001b[1;31mAttributeError\u001b[0m: 'ForegroundArchive' object has no attribute 'save_background'"
     ]
    }
   ],
   "source": [
    "F.save()"
   ]
  },
  {
   "cell_type": "code",
   "execution_count": 3,
   "metadata": {
    "collapsed": false
   },
   "outputs": [
    {
     "name": "stdout",
     "output_type": "stream",
     "text": [
      "(selecting only choice)\n"
     ]
    },
    {
     "data": {
      "text/plain": [
       "'flow'"
      ]
     },
     "execution_count": 3,
     "metadata": {},
     "output_type": "execute_result"
    }
   ],
   "source": [
    "pick_one(F[0].flows()).entity_type"
   ]
  },
  {
   "cell_type": "code",
   "execution_count": 3,
   "metadata": {
    "collapsed": false
   },
   "outputs": [
    {
     "name": "stdout",
     "output_type": "stream",
     "text": [
      "Create fragment.\n",
      "Name: USLCI - PET\n",
      "Reference flow: Use (F)oreground flow or (S)earch for flow? [FS] [F]: \n",
      "Select Reference flow:\n",
      "(selecting only choice)\n",
      "Direction w.r.t. upstream:\n",
      "\n",
      "Choice Item\n",
      "====== ======================================================================\n",
      "  (I)  Input\n",
      "  (O)  Output\n",
      "------ ----------------------------------------------------------------------\n",
      "Enter choice (or \"None\"): I\n",
      "interface\n",
      "name: USLCI - PET\n",
      "flow: Polyethylene terephthalate, resin, at plant [Chemical Manufacturing, Petrochemical Manufacturing]\n",
      "dirn: Input\n",
      "LcFragment\n",
      "Name: USLCI - PET\n",
      "args:\n",
      "<class 'lcatools.entities.LcFlow'> | Polyethylene terephthalate, resin, at plant [Chemical Manufacturing, Petrochemical Manufacturing]\n",
      "<class 'str'> | Input\n",
      "Polyethylene terephthalate, resin, at plant [Chemical Manufacturing, Petrochemical Manufacturing]\n",
      "<class 'lcatools.entities.LcFlow'>\n"
     ]
    }
   ],
   "source": [
    "F.create_fragment()"
   ]
  },
  {
   "cell_type": "code",
   "execution_count": 19,
   "metadata": {
    "collapsed": false
   },
   "outputs": [],
   "source": [
    "frag = next(fr for fr in F[0]._entities_by_type('fragment'))"
   ]
  },
  {
   "cell_type": "code",
   "execution_count": 20,
   "metadata": {
    "collapsed": false
   },
   "outputs": [
    {
     "data": {
      "text/plain": [
       "{'Comment': '',\n",
       " 'Direction': 'Input',\n",
       " 'Flow': 'Polyethylene terephthalate, resin, at plant',\n",
       " 'Name': 'USLCI - PET',\n",
       " 'StageName': '',\n",
       " 'direction': 'Input',\n",
       " 'entityId': '572813aa-b8a3-4034-bff1-ff7e469d8726',\n",
       " 'entityType': 'fragment',\n",
       " 'exchangeValues': {0: None, 1: 1.0},\n",
       " 'externalId': '572813aa-b8a3-4034-bff1-ff7e469d8726',\n",
       " 'flow': '2a6b644c-519c-32e9-a7d8-521c3011df09',\n",
       " 'isBackground': False,\n",
       " 'isBalanceFlow': False,\n",
       " 'isPrivate': False,\n",
       " 'origin': 'fragments',\n",
       " 'parent': 'None',\n",
       " 'tags': {'Comment': '',\n",
       "  'Direction': 'Input',\n",
       "  'Flow': 'Polyethylene terephthalate, resin, at plant',\n",
       "  'Name': 'USLCI - PET',\n",
       "  'StageName': ''},\n",
       " 'terminations': {}}"
      ]
     },
     "execution_count": 20,
     "metadata": {},
     "output_type": "execute_result"
    }
   ],
   "source": [
    "frag.serialize()"
   ]
  },
  {
   "cell_type": "code",
   "execution_count": 21,
   "metadata": {
    "collapsed": false
   },
   "outputs": [
    {
     "name": "stdout",
     "output_type": "stream",
     "text": [
      "Saving foreground\n"
     ]
    }
   ],
   "source": [
    "F.save()"
   ]
  },
  {
   "cell_type": "code",
   "execution_count": 18,
   "metadata": {
    "collapsed": false
   },
   "outputs": [
    {
     "name": "stdout",
     "output_type": "stream",
     "text": [
      "Loading JSON data from /data/GitHub/lca-tools-datafiles/catalogs/uslci_ecospold.json.gz:\n",
      "Found Extension: zip\n",
      "19 new quantity entities added (19 total)\n",
      "4176 new flow entities added (4176 total)\n",
      "701 new process entities added (701 total)\n"
     ]
    }
   ],
   "source": [
    "F.load('USLCI')"
   ]
  },
  {
   "cell_type": "code",
   "execution_count": null,
   "metadata": {
    "collapsed": true
   },
   "outputs": [],
   "source": []
  },
  {
   "cell_type": "code",
   "execution_count": null,
   "metadata": {
    "collapsed": true
   },
   "outputs": [],
   "source": [
    "F.terminate('USLCI', )"
   ]
  },
  {
   "cell_type": "code",
   "execution_count": 12,
   "metadata": {
    "collapsed": true
   },
   "outputs": [],
   "source": [
    "from lcatools.foreground.fragment_flows import LcFragment"
   ]
  },
  {
   "cell_type": "code",
   "execution_count": 13,
   "metadata": {
    "collapsed": true
   },
   "outputs": [],
   "source": [
    "selected = selected[3]"
   ]
  },
  {
   "cell_type": "code",
   "execution_count": 18,
   "metadata": {
    "collapsed": false
   },
   "outputs": [
    {
     "name": "stdout",
     "output_type": "stream",
     "text": [
      "[ 0] (USLCI) {f} CUTOFF Polyethylene terephthalate, granulate, amorphous, at plant [CUTOFF Flows] \n"
     ]
    }
   ],
   "source": [
    "show([selected])"
   ]
  },
  {
   "cell_type": "code",
   "execution_count": 20,
   "metadata": {
    "collapsed": false
   },
   "outputs": [],
   "source": [
    "frag = LcFragment.new('PETfrom USLCI', selected.entity(), 'Input')"
   ]
  },
  {
   "cell_type": "code",
   "execution_count": 22,
   "metadata": {
    "collapsed": false
   },
   "outputs": [
    {
     "data": {
      "text/plain": [
       "{'_background': False,\n",
       " '_balance_flow': False,\n",
       " '_cached_unit_scores': {},\n",
       " '_conserved_quantity': None,\n",
       " '_d': {'Comment': '',\n",
       "  'Direction': 'Input',\n",
       "  'Flow': 'CUTOFF Polyethylene terephthalate, granulate, amorphous, at plant',\n",
       "  'Name': 'PETfrom USLCI',\n",
       "  'StageName': ''},\n",
       " '_exchange_values': {0: None, 1: 1.0},\n",
       " '_external_ref': None,\n",
       " '_origin': None,\n",
       " '_private': False,\n",
       " '_scenarios': {},\n",
       " '_terminations': {},\n",
       " '_uuid': UUID('e0d04a0e-7307-424b-8bcb-fbaddea01382'),\n",
       " 'direction': 'Input',\n",
       " 'entity_type': 'fragment',\n",
       " 'flow': <lcatools.entities.LcFlow at 0x7f4fe1d07710>,\n",
       " 'observed_magnitude': 1.0,\n",
       " 'reference_entity': None}"
      ]
     },
     "execution_count": 22,
     "metadata": {},
     "output_type": "execute_result"
    }
   ],
   "source": [
    "frag.__dict__"
   ]
  },
  {
   "cell_type": "code",
   "execution_count": 24,
   "metadata": {
    "collapsed": false
   },
   "outputs": [
    {
     "data": {
      "text/plain": [
       "'CUTOFF Polyethylene terephthalate, granulate, amorphous, at plant [CUTOFF Flows]'"
      ]
     },
     "execution_count": 24,
     "metadata": {},
     "output_type": "execute_result"
    }
   ],
   "source": [
    "'%s' % frag.flow"
   ]
  },
  {
   "cell_type": "code",
   "execution_count": 27,
   "metadata": {
    "collapsed": false
   },
   "outputs": [],
   "source": [
    "frag._parent"
   ]
  },
  {
   "cell_type": "code",
   "execution_count": 25,
   "metadata": {
    "collapsed": false
   },
   "outputs": [
    {
     "ename": "AttributeError",
     "evalue": "'NoneType' object has no attribute 'get_uuid'",
     "output_type": "error",
     "traceback": [
      "\u001b[1;31m---------------------------------------------------------------------------\u001b[0m",
      "\u001b[1;31mAttributeError\u001b[0m                            Traceback (most recent call last)",
      "\u001b[1;32m<ipython-input-25-709186b66f0d>\u001b[0m in \u001b[0;36m<module>\u001b[1;34m()\u001b[0m\n\u001b[1;32m----> 1\u001b[1;33m \u001b[0mfrag\u001b[0m\u001b[1;33m.\u001b[0m\u001b[0mserialize\u001b[0m\u001b[1;33m(\u001b[0m\u001b[1;33m)\u001b[0m\u001b[1;33m\u001b[0m\u001b[0m\n\u001b[0m",
      "\u001b[1;32m/data/GitHub/lca-tools/lcatools/foreground/fragment_flows.py\u001b[0m in \u001b[0;36mserialize\u001b[1;34m(self)\u001b[0m\n\u001b[0;32m    232\u001b[0m         j.update({\n\u001b[0;32m    233\u001b[0m             \u001b[1;34m'eXtityId'\u001b[0m\u001b[1;33m:\u001b[0m \u001b[0mself\u001b[0m\u001b[1;33m.\u001b[0m\u001b[0mget_uuid\u001b[0m\u001b[1;33m(\u001b[0m\u001b[1;33m)\u001b[0m\u001b[1;33m,\u001b[0m\u001b[1;33m\u001b[0m\u001b[0m\n\u001b[1;32m--> 234\u001b[1;33m             \u001b[1;34m'pXrent'\u001b[0m\u001b[1;33m:\u001b[0m \u001b[0mself\u001b[0m\u001b[1;33m.\u001b[0m\u001b[0m_parent\u001b[0m\u001b[1;33m.\u001b[0m\u001b[0mget_uuid\u001b[0m\u001b[1;33m(\u001b[0m\u001b[1;33m)\u001b[0m\u001b[1;33m,\u001b[0m\u001b[1;33m\u001b[0m\u001b[0m\n\u001b[0m\u001b[0;32m    235\u001b[0m             \u001b[1;34m'flow'\u001b[0m\u001b[1;33m:\u001b[0m \u001b[0mself\u001b[0m\u001b[1;33m.\u001b[0m\u001b[0mflow\u001b[0m\u001b[1;33m.\u001b[0m\u001b[0mget_uuid\u001b[0m\u001b[1;33m(\u001b[0m\u001b[1;33m)\u001b[0m\u001b[1;33m,\u001b[0m\u001b[1;33m\u001b[0m\u001b[0m\n\u001b[0;32m    236\u001b[0m             \u001b[1;34m'direction'\u001b[0m\u001b[1;33m:\u001b[0m \u001b[0mself\u001b[0m\u001b[1;33m.\u001b[0m\u001b[0mdirection\u001b[0m\u001b[1;33m,\u001b[0m\u001b[1;33m\u001b[0m\u001b[0m\n",
      "\u001b[1;31mAttributeError\u001b[0m: 'NoneType' object has no attribute 'get_uuid'"
     ]
    }
   ],
   "source": [
    "frag.serialize()"
   ]
  }
 ],
 "metadata": {
  "kernelspec": {
   "display_name": "Python 3",
   "language": "python",
   "name": "python3"
  },
  "language_info": {
   "codemirror_mode": {
    "name": "ipython",
    "version": 3
   },
   "file_extension": ".py",
   "mimetype": "text/x-python",
   "name": "python",
   "nbconvert_exporter": "python",
   "pygments_lexer": "ipython3",
   "version": "3.5.1"
  }
 },
 "nbformat": 4,
 "nbformat_minor": 0
}
