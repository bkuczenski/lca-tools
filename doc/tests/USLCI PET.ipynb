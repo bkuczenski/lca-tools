{
 "cells": [
  {
   "cell_type": "markdown",
   "metadata": {},
   "source": [
    "## PET from US LCI (foreground)\n",
    " * Build fragment from US LCI foreground\n",
    " * encapsulate in an enclosing fragment\n",
    " * terminate IO flows to ecoinvent background (since we don't have matrix inversion yet)\n",
    " \n",
    "The purpose of this exercise is to develop the model-building software, so everything should be done \n",
    "with interactive scripts."
   ]
  },
  {
   "cell_type": "code",
   "execution_count": 1,
   "metadata": {
    "collapsed": true
   },
   "outputs": [],
   "source": [
    "import re\n",
    "import os\n",
    "import sys\n",
    "import json\n",
    "\n",
    "sys.path.append('../..')\n",
    "\n",
    "import lcatools"
   ]
  },
  {
   "cell_type": "code",
   "execution_count": 204,
   "metadata": {
    "collapsed": true
   },
   "outputs": [],
   "source": [
    "from lcatools.foreground.fragment_flows import LcFragment\n",
    "from lcatools.entities import LcFlow, LcQuantity\n",
    "from lcatools.exchanges import Exchange, comp_dir\n",
    "from lcatools.catalog import ExchangeRef"
   ]
  },
  {
   "cell_type": "code",
   "execution_count": 3,
   "metadata": {
    "collapsed": false
   },
   "outputs": [
    {
     "name": "stdout",
     "output_type": "stream",
     "text": [
      "ForegroundArchive archive added in position 0\n",
      "IlcdLcia archive added in position 1\n",
      "JSON archive added in position 2\n",
      "JSON archive added in position 3\n",
      "JSON archive added in position 4\n",
      "JSON archive added in position 5\n",
      "JSON archive added in position 6\n",
      "JSON archive added in position 7\n",
      "JSON archive added in position 8\n",
      "JSON archive added in position 9\n",
      "JSON archive added in position 10\n",
      "Setup Catalog and FlowDB... (0.84 s)\n",
      "Loading JSON data from /data/GitHub/lca-tools-datafiles/catalogs/uslci_ecospold.json.gz:\n",
      "Found Extension: zip\n",
      "19 new quantity entities added (19 total)\n",
      "4176 new flow entities added (4176 total)\n",
      "701 new process entities added (701 total)\n",
      "Fragments loaded... (2.55 s)\n",
      "finished... (2.55 s)\n"
     ]
    }
   ],
   "source": [
    "F = lcatools.ForegroundManager('pet')"
   ]
  },
  {
   "cell_type": "code",
   "execution_count": 4,
   "metadata": {
    "collapsed": false
   },
   "outputs": [
    {
     "name": "stdout",
     "output_type": "stream",
     "text": [
      "\n",
      "LCA Catalog with the following archives:\n",
      "X [ 0] FG     : ForegroundArchive with 167 entities at pet\n",
      "  [ 1] ELCD   : /data/LCI/ELCD/ELCD3.2.zip\n",
      "  [ 2] LCIA   : /data/GitHub/lca-tools-datafiles/catalogs/elcd_lcia_all.json.gz\n",
      "  [ 3] EI-LCIA: /data/GitHub/lca-tools-datafiles/catalogs/ei_lcia.json.gz\n",
      "  [ 4] EI-U   : /data/GitHub/lca-tools-datafiles/catalogs/ecoinvent_3.2_undefined_xlsx.json.gz\n",
      "  [ 5] EI_A   : /data/GitHub/lca-tools-datafiles/catalogs/ecoinvent_3.2_apos_xlsx.json.gz\n",
      "  [ 6] EI_Q   : /data/GitHub/lca-tools-datafiles/catalogs/ecoinvent_3.2_consequential_xlsx.json.gz\n",
      "  [ 7] EI_C   : /data/GitHub/lca-tools-datafiles/catalogs/ecoinvent_3.2_cut-off_xlsx.json.gz\n",
      "X [ 8] USLCI  : EcospoldV1Archive with 4896 entities at /home/b/Dropbox/data/USLCI/USLCI_Processes_ecospold1.zip\n",
      "  [ 9] GaBi-P : /data/GitHub/lca-tools-datafiles/catalogs/gabi_2016_professional-database-2016.json.gz\n",
      "  [10] GaBi-X : /data/GitHub/lca-tools-datafiles/catalogs/gabi_2016_all-extensions.json.gz\n"
     ]
    }
   ],
   "source": [
    "F.show_all()"
   ]
  },
  {
   "cell_type": "code",
   "execution_count": 5,
   "metadata": {
    "collapsed": false
   },
   "outputs": [
    {
     "data": {
      "text/plain": [
       "['ILCD2011; Eutrophication freshwater; midpoint; P equivalents; ReCiPe [LCIA]',\n",
       " 'ILCD2011; Eutrophication marine; midpoint; N equivalents; ReCiPe [LCIA]',\n",
       " 'ILCD2011; Eutrophication terrestrial; midpoint; Accumulated Exceedance; Seppala et al 2006, Posch et al 2008 [LCIA]',\n",
       " 'ILCD2011; Respiratory inorganics; midpoint; PM2.5eq; Rabl and Spadaro 2004-Greco et al 2007 [LCIA]',\n",
       " 'ILCD2011; Photochemical ozone formation; midpoint - human health; POCP; Van Zelm et al. (2008) [LCIA]',\n",
       " 'ILCD2011; Climate change; midpoint; GWP100; IPCC2007 [LCIA]',\n",
       " 'ILCD2011; Acidification terrestrial and freshwater; midpoint; Accumulated Exceedance; Seppälä et al. 2006, Posch et al. 2008 [LCIA]',\n",
       " 'ILCD2011; Land use; midpoint; SOM loss; Mila i Canals et al. (2007) [LCIA]']"
      ]
     },
     "execution_count": 5,
     "metadata": {},
     "output_type": "execute_result"
    }
   ],
   "source": [
    "[str(q) for q in F[0].lcia_methods()]"
   ]
  },
  {
   "cell_type": "code",
   "execution_count": 6,
   "metadata": {
    "collapsed": false
   },
   "outputs": [
    {
     "name": "stdout",
     "output_type": "stream",
     "text": [
      "Loading JSON data from /data/GitHub/lca-tools-datafiles/catalogs/elcd_lcia_all.json.gz:\n",
      "Found Extension: zip\n",
      "55 new quantity entities added (55 total)\n",
      "33902 new flow entities added (33902 total)\n",
      "0 new process entities added (0 total)\n",
      "0 unmatched flows found from source LCIA... \n",
      "\n"
     ]
    }
   ],
   "source": [
    "F.load_lcia_cfs('LCIA')"
   ]
  },
  {
   "cell_type": "code",
   "execution_count": 7,
   "metadata": {
    "collapsed": false
   },
   "outputs": [
    {
     "data": {
      "text/plain": [
       "['40054970-5936-477c-9bec-29fa23b1cb77 ILCD2011; Eutrophication terrestrial; midpoint; Accumulated Exceedance',\n",
       " '8b723200-3d8f-4eec-9e10-444edb029476 ILCD2011; Ozone depletion; midpoint; ODP; WMO1999 [LCIA]              ',\n",
       " '370960f4-0a3a-415d-bf3e-e5ce63160bb9 ILCD2011; Climate change; midpoint; GWP100; IPCC2007 [LCIA]           ',\n",
       " '5296e2be-060b-4e50-b033-d45f85f6ac92 ILCD2011; Eutrophication marine; midpoint; N equivalents; ReCiPe [LCIA',\n",
       " 'a6f4cbc8-5388-44d6-9a67-53d05684f93e ILCD2011; Ionising radiation; midpoint - human health; ionising radiat',\n",
       " 'f4602cba-f746-4351-b4da-e91181853e33 ILCD2011; Land use; midpoint; SOM loss; Mila i Canals et al. (2007) [L',\n",
       " 'f6cbd466-253f-4145-a4bb-8dae7d266e89 ILCD2011; Acidification terrestrial and freshwater; midpoint; Accumula',\n",
       " 'b7d61a6f-cb2f-4a46-b511-39c3e4cc31d3 ILCD2011; Resource depletion- mineral, fossils and renewables; midpoin',\n",
       " 'b49c662d-4662-4944-a80a-093dd03d3f4f ILCD2011; Ecotoxicity freshwater; midpoint; CTUe; USEtox [LCIA]       ',\n",
       " '4120d283-c81a-495e-bb02-9b5a041f3f98 ILCD2011; Ionising radiation; midpoint - ecosystem; CTUe; Garnier-Lapl',\n",
       " 'bac8c45b-e778-479e-838c-7c2f54b45610 ILCD2011; Cancer human health effects; midpoint; CTUh; USEtox [LCIA]  ',\n",
       " '324d2515-5985-4563-87d8-f59053db774d ILCD2011; Non-cancer human health effects; midpoint; CTUh; USEtox [LCI',\n",
       " 'a4630d5b-df2f-48ae-b3f2-5e5257606d68 ILCD2011; Eutrophication freshwater; midpoint; P equivalents; ReCiPe [',\n",
       " 'ec7836be-83eb-41da-bcda-1a6a3fe2d149 ILCD2011; Photochemical ozone formation; midpoint - human health; POCP',\n",
       " '9e456c6b-2cb3-45cd-91ec-40681ab2b2e9 ILCD2011; Resource depletion - water; midpoint; freshwater scarcity; S',\n",
       " '72ce3013-f678-4c6a-935b-f4752ff8901b ILCD2011; Respiratory inorganics; midpoint; PM2.5eq; Rabl and Spadaro ']"
      ]
     },
     "execution_count": 7,
     "metadata": {},
     "output_type": "execute_result"
    }
   ],
   "source": [
    "['%s %-70.70s' % (x.get_uuid(), x) for x in F['LCIA'].lcia_methods() if re.search('midpoint', x['Name'])]"
   ]
  },
  {
   "cell_type": "code",
   "execution_count": 82,
   "metadata": {
    "collapsed": true
   },
   "outputs": [],
   "source": [
    "ilcd_qs = ('ec7836be-83eb-41da-bcda-1a6a3fe2d149', 'f6cbd466-253f-4145-a4bb-8dae7d266e89', \n",
    "           'f4602cba-f746-4351-b4da-e91181853e33', 'a4630d5b-df2f-48ae-b3f2-5e5257606d68',\n",
    "           '72ce3013-f678-4c6a-935b-f4752ff8901b', '370960f4-0a3a-415d-bf3e-e5ce63160bb9',\n",
    "           '5296e2be-060b-4e50-b033-d45f85f6ac92', '40054970-5936-477c-9bec-29fa23b1cb77'\n",
    "          )"
   ]
  },
  {
   "cell_type": "code",
   "execution_count": 83,
   "metadata": {
    "collapsed": false
   },
   "outputs": [
    {
     "name": "stdout",
     "output_type": "stream",
     "text": [
      "Add to foreground: ILCD2011; Photochemical ozone formation; midpoint - human health; POCP; Van Zelm et al. (2008) [LCIA]\n",
      "Add to foreground: ILCD2011; Acidification terrestrial and freshwater; midpoint; Accumulated Exceedance; Seppälä et al. 2006, Posch et al. 2008 [LCIA]\n",
      "Add to foreground: ILCD2011; Land use; midpoint; SOM loss; Mila i Canals et al. (2007) [LCIA]\n",
      "Add to foreground: ILCD2011; Eutrophication freshwater; midpoint; P equivalents; ReCiPe [LCIA]\n",
      "Add to foreground: ILCD2011; Respiratory inorganics; midpoint; PM2.5eq; Rabl and Spadaro 2004-Greco et al 2007 [LCIA]\n",
      "Add to foreground: ILCD2011; Climate change; midpoint; GWP100; IPCC2007 [LCIA]\n",
      "Add to foreground: ILCD2011; Eutrophication marine; midpoint; N equivalents; ReCiPe [LCIA]\n",
      "Add to foreground: ILCD2011; Eutrophication terrestrial; midpoint; Accumulated Exceedance; Seppala et al 2006, Posch et al 2008 [LCIA]\n"
     ]
    }
   ],
   "source": [
    "for q in ilcd_qs:\n",
    "    F.add_to_foreground(F['LCIA'][q])"
   ]
  },
  {
   "cell_type": "code",
   "execution_count": 6,
   "metadata": {
    "collapsed": false
   },
   "outputs": [
    {
     "name": "stdout",
     "output_type": "stream",
     "text": [
      "Loading JSON data from /data/GitHub/lca-tools-datafiles/catalogs/ei_lcia.json.gz:\n",
      "**Upstream reference encountered: /data/LCI/Ecoinvent/3.2/undefined\n",
      "\n",
      "710 new quantity entities added (710 total)\n",
      "3255 new flow entities added (3255 total)\n",
      "0 new process entities added (0 total)\n",
      "92 unmatched flows found from source EI-LCIA... \n",
      "\n"
     ]
    }
   ],
   "source": [
    "F.load_lcia_cfs('EI-LCIA')"
   ]
  },
  {
   "cell_type": "code",
   "execution_count": 7,
   "metadata": {
    "collapsed": false
   },
   "outputs": [
    {
     "name": "stdout",
     "output_type": "stream",
     "text": [
      "f6cbd466-253f-4145-a4bb-8dae7d266e89\n",
      "Characterization Factors\n",
      " \n",
      "CAS Number   |   C0   |   C1   |   C2   |   C3    Flowable\n",
      "----------------------------------------------------------\n",
      "007664-41-7      3.02   --         3.02     3.02  Ammonia\n",
      "007446-09-5      1.31   {{==}}    1.31     1.31  Sulfur dioxide\n",
      "          .      1.31              1.31     1.31  \n",
      "007446-11-9      1.05   --         1.05     1.05  Sulfur trioxide\n",
      "       None      3.02   --       --       --      ammonia\n",
      "       None    --       --       --         3.02  ammonia\n",
      "       None    --       --         3.02   --      ammonia\n",
      "010102-44-0      0.74   {{==}}    0.74     0.74  nitrogen dioxide\n",
      "010102-43-9      1.13   --         1.13     1.13  nitrogen monoxide\n",
      "CAS Number   |   C0   |   C1   |   C2   |   C3    Flowable\n",
      "\n",
      "Columns:\n",
      "C0: Emissions to air\n",
      "C1: Emissions to air, unspecified (long-term)\n",
      "C2: Emissions to non-urban air or from high stacks\n",
      "C3: Emissions to urban air close to ground\n"
     ]
    }
   ],
   "source": [
    "F.db.factors_for_quantity('f6cbd466-253f-4145-a4bb-8dae7d266e89')"
   ]
  },
  {
   "cell_type": "code",
   "execution_count": 8,
   "metadata": {
    "collapsed": false
   },
   "outputs": [
    {
     "name": "stdout",
     "output_type": "stream",
     "text": [
      "Archive already loaded; specify reload=True to rewrite\n"
     ]
    }
   ],
   "source": [
    "F.load(8)"
   ]
  },
  {
   "cell_type": "code",
   "execution_count": 9,
   "metadata": {
    "collapsed": true
   },
   "outputs": [],
   "source": [
    "from lcatools.interact import pick_one, cyoa, ifinput, pick_list, _pick_list"
   ]
  },
  {
   "cell_type": "code",
   "execution_count": 10,
   "metadata": {
    "collapsed": true
   },
   "outputs": [],
   "source": [
    "def find_flow(name, index=None, elementary=False):\n",
    "    if name is None:\n",
    "        name = input('Enter flow name search string: ')\n",
    "    res = F.search(index, 'flow', Name=name)\n",
    "    if elementary is not None:\n",
    "        res = list(filter(lambda x: F.db.is_elementary(x.entity()) == elementary, res))\n",
    "    pick = pick_one(res)\n",
    "    print('Picked: %s' % pick)\n",
    "    return pick\n",
    "    "
   ]
  },
  {
   "cell_type": "code",
   "execution_count": 203,
   "metadata": {
    "collapsed": true
   },
   "outputs": [],
   "source": [
    "current_archive = None\n",
    "\n",
    "def select_archive():\n",
    "    F.show_all()\n",
    "    ch1 = input('Search which catalog? or blank to search all loaded catalogs')\n",
    "    if len(ch1) == 0:\n",
    "        index = None\n",
    "    else:\n",
    "        try:\n",
    "            index = int(ch1)\n",
    "        except ValueError:\n",
    "            index = F._catalog.get_index(ch1)\n",
    "    current_archive = index\n",
    "    return index\n",
    "\n",
    "def create_fragment(parent=None):\n",
    "    ch = cyoa('(N)ew flow or (S)earch for flow? ', 'ns')\n",
    "    if ch == 'n':\n",
    "        flow = F.new_flow()\n",
    "    elif ch == 's':\n",
    "        index = current_archive or select_archive()\n",
    "        elem = {'i': False,\n",
    "               'e': True, \n",
    "               'a': None}[cyoa('(I)ntermediate, (E)lementary, or (A)ll flows? ', 'aei', 'I').lower()]\n",
    "        flow = find_flow(None, index=index, elementary=elem)\n",
    "        if flow is None:\n",
    "            return None\n",
    "    else:\n",
    "        raise ValueError\n",
    "    direction = { 'i': 'Input', 'o': 'Output'}[cyoa('flow is (I)nput or (O)utput?', 'IO').lower()]\n",
    "    comment = ifinput('Enter comment: ', '')\n",
    "    if parent is None:\n",
    "        # direction reversed for UX! user inputs direction w.r.t. fragment, not w.r.t. parent\n",
    "        frag = F.new_fragment(flow, comp_dir(direction), Comment=comment)\n",
    "    else:\n",
    "        frag = F[0].add_child_fragment_flow(parent, flow.entity(), direction, Comment=comment)\n",
    "    return frag\n",
    "    "
   ]
  },
  {
   "cell_type": "code",
   "execution_count": 11,
   "metadata": {
    "collapsed": false
   },
   "outputs": [
    {
     "name": "stdout",
     "output_type": "stream",
     "text": [
      "\n",
      "LCA Catalog with the following archives:\n",
      "X [ 0] FG     : ForegroundArchive with 167 entities at pet\n",
      "  [ 1] ELCD   : /data/LCI/ELCD/ELCD3.2.zip\n",
      "X [ 2] LCIA   : IlcdLcia with 1310 entities at /home/b/Dropbox/data/ELCD/ELCD3.2.zip\n",
      "  [ 3] EI-LCIA: /data/GitHub/lca-tools-datafiles/catalogs/ei_lcia.json.gz\n",
      "  [ 4] EI-U   : /data/GitHub/lca-tools-datafiles/catalogs/ecoinvent_3.2_undefined_xlsx.json.gz\n",
      "  [ 5] EI_A   : /data/GitHub/lca-tools-datafiles/catalogs/ecoinvent_3.2_apos_xlsx.json.gz\n",
      "  [ 6] EI_Q   : /data/GitHub/lca-tools-datafiles/catalogs/ecoinvent_3.2_consequential_xlsx.json.gz\n",
      "  [ 7] EI_C   : /data/GitHub/lca-tools-datafiles/catalogs/ecoinvent_3.2_cut-off_xlsx.json.gz\n",
      "X [ 8] USLCI  : EcospoldV1Archive with 4896 entities at /home/b/Dropbox/data/USLCI/USLCI_Processes_ecospold1.zip\n",
      "  [ 9] GaBi-P : /data/GitHub/lca-tools-datafiles/catalogs/gabi_2016_professional-database-2016.json.gz\n",
      "  [10] GaBi-X : /data/GitHub/lca-tools-datafiles/catalogs/gabi_2016_all-extensions.json.gz\n",
      "Search which catalog? or blank to search all loaded catalogs8\n"
     ]
    }
   ],
   "source": [
    "current_archive = select_archive()"
   ]
  },
  {
   "cell_type": "code",
   "execution_count": 12,
   "metadata": {
    "collapsed": false
   },
   "outputs": [
    {
     "ename": "KeyboardInterrupt",
     "evalue": "",
     "output_type": "error",
     "traceback": [
      "\u001b[1;31m---------------------------------------------------------------------------\u001b[0m",
      "\u001b[1;31mKeyboardInterrupt\u001b[0m                         Traceback (most recent call last)",
      "\u001b[1;32m/home/b/.virtualenvs/lca-tools/lib/python3.5/site-packages/ipykernel/kernelbase.py\u001b[0m in \u001b[0;36m_input_request\u001b[1;34m(self, prompt, ident, parent, password)\u001b[0m\n\u001b[0;32m    713\u001b[0m             \u001b[1;32mtry\u001b[0m\u001b[1;33m:\u001b[0m\u001b[1;33m\u001b[0m\u001b[0m\n\u001b[1;32m--> 714\u001b[1;33m                 \u001b[0mident\u001b[0m\u001b[1;33m,\u001b[0m \u001b[0mreply\u001b[0m \u001b[1;33m=\u001b[0m \u001b[0mself\u001b[0m\u001b[1;33m.\u001b[0m\u001b[0msession\u001b[0m\u001b[1;33m.\u001b[0m\u001b[0mrecv\u001b[0m\u001b[1;33m(\u001b[0m\u001b[0mself\u001b[0m\u001b[1;33m.\u001b[0m\u001b[0mstdin_socket\u001b[0m\u001b[1;33m,\u001b[0m \u001b[1;36m0\u001b[0m\u001b[1;33m)\u001b[0m\u001b[1;33m\u001b[0m\u001b[0m\n\u001b[0m\u001b[0;32m    715\u001b[0m             \u001b[1;32mexcept\u001b[0m \u001b[0mException\u001b[0m\u001b[1;33m:\u001b[0m\u001b[1;33m\u001b[0m\u001b[0m\n",
      "\u001b[1;32m/home/b/.virtualenvs/lca-tools/lib/python3.5/site-packages/jupyter_client/session.py\u001b[0m in \u001b[0;36mrecv\u001b[1;34m(self, socket, mode, content, copy)\u001b[0m\n\u001b[0;32m    738\u001b[0m         \u001b[1;32mtry\u001b[0m\u001b[1;33m:\u001b[0m\u001b[1;33m\u001b[0m\u001b[0m\n\u001b[1;32m--> 739\u001b[1;33m             \u001b[0mmsg_list\u001b[0m \u001b[1;33m=\u001b[0m \u001b[0msocket\u001b[0m\u001b[1;33m.\u001b[0m\u001b[0mrecv_multipart\u001b[0m\u001b[1;33m(\u001b[0m\u001b[0mmode\u001b[0m\u001b[1;33m,\u001b[0m \u001b[0mcopy\u001b[0m\u001b[1;33m=\u001b[0m\u001b[0mcopy\u001b[0m\u001b[1;33m)\u001b[0m\u001b[1;33m\u001b[0m\u001b[0m\n\u001b[0m\u001b[0;32m    740\u001b[0m         \u001b[1;32mexcept\u001b[0m \u001b[0mzmq\u001b[0m\u001b[1;33m.\u001b[0m\u001b[0mZMQError\u001b[0m \u001b[1;32mas\u001b[0m \u001b[0me\u001b[0m\u001b[1;33m:\u001b[0m\u001b[1;33m\u001b[0m\u001b[0m\n",
      "\u001b[1;32m/home/b/.virtualenvs/lca-tools/lib/python3.5/site-packages/zmq/sugar/socket.py\u001b[0m in \u001b[0;36mrecv_multipart\u001b[1;34m(self, flags, copy, track)\u001b[0m\n\u001b[0;32m    357\u001b[0m         \"\"\"\n\u001b[1;32m--> 358\u001b[1;33m         \u001b[0mparts\u001b[0m \u001b[1;33m=\u001b[0m \u001b[1;33m[\u001b[0m\u001b[0mself\u001b[0m\u001b[1;33m.\u001b[0m\u001b[0mrecv\u001b[0m\u001b[1;33m(\u001b[0m\u001b[0mflags\u001b[0m\u001b[1;33m,\u001b[0m \u001b[0mcopy\u001b[0m\u001b[1;33m=\u001b[0m\u001b[0mcopy\u001b[0m\u001b[1;33m,\u001b[0m \u001b[0mtrack\u001b[0m\u001b[1;33m=\u001b[0m\u001b[0mtrack\u001b[0m\u001b[1;33m)\u001b[0m\u001b[1;33m]\u001b[0m\u001b[1;33m\u001b[0m\u001b[0m\n\u001b[0m\u001b[0;32m    359\u001b[0m         \u001b[1;31m# have first part already, only loop while more to receive\u001b[0m\u001b[1;33m\u001b[0m\u001b[1;33m\u001b[0m\u001b[0m\n",
      "\u001b[1;32mzmq/backend/cython/socket.pyx\u001b[0m in \u001b[0;36mzmq.backend.cython.socket.Socket.recv (zmq/backend/cython/socket.c:6971)\u001b[1;34m()\u001b[0m\n",
      "\u001b[1;32mzmq/backend/cython/socket.pyx\u001b[0m in \u001b[0;36mzmq.backend.cython.socket.Socket.recv (zmq/backend/cython/socket.c:6763)\u001b[1;34m()\u001b[0m\n",
      "\u001b[1;32mzmq/backend/cython/socket.pyx\u001b[0m in \u001b[0;36mzmq.backend.cython.socket._recv_copy (zmq/backend/cython/socket.c:1931)\u001b[1;34m()\u001b[0m\n",
      "\u001b[1;32m/home/b/.virtualenvs/lca-tools/lib/python3.5/site-packages/zmq/backend/cython/checkrc.pxd\u001b[0m in \u001b[0;36mzmq.backend.cython.checkrc._check_rc (zmq/backend/cython/socket.c:7222)\u001b[1;34m()\u001b[0m\n",
      "\u001b[1;31mKeyboardInterrupt\u001b[0m: ",
      "\nDuring handling of the above exception, another exception occurred:\n",
      "\u001b[1;31mKeyboardInterrupt\u001b[0m                         Traceback (most recent call last)",
      "\u001b[1;32m<ipython-input-12-b7c7b7273f1a>\u001b[0m in \u001b[0;36m<module>\u001b[1;34m()\u001b[0m\n\u001b[1;32m----> 1\u001b[1;33m \u001b[0mfrag\u001b[0m \u001b[1;33m=\u001b[0m \u001b[0mcreate_fragment\u001b[0m\u001b[1;33m(\u001b[0m\u001b[1;33m)\u001b[0m\u001b[1;33m\u001b[0m\u001b[0m\n\u001b[0m",
      "\u001b[1;32m<ipython-input-10-f18ed428c804>\u001b[0m in \u001b[0;36mcreate_fragment\u001b[1;34m(parent)\u001b[0m\n\u001b[0;32m     15\u001b[0m \u001b[1;33m\u001b[0m\u001b[0m\n\u001b[0;32m     16\u001b[0m \u001b[1;32mdef\u001b[0m \u001b[0mcreate_fragment\u001b[0m\u001b[1;33m(\u001b[0m\u001b[0mparent\u001b[0m\u001b[1;33m=\u001b[0m\u001b[1;32mNone\u001b[0m\u001b[1;33m)\u001b[0m\u001b[1;33m:\u001b[0m\u001b[1;33m\u001b[0m\u001b[0m\n\u001b[1;32m---> 17\u001b[1;33m     \u001b[0mch\u001b[0m \u001b[1;33m=\u001b[0m \u001b[0mcyoa\u001b[0m\u001b[1;33m(\u001b[0m\u001b[1;34m'(N)ew flow or (S)earch for flow? '\u001b[0m\u001b[1;33m,\u001b[0m \u001b[1;34m'ns'\u001b[0m\u001b[1;33m)\u001b[0m\u001b[1;33m\u001b[0m\u001b[0m\n\u001b[0m\u001b[0;32m     18\u001b[0m     \u001b[1;32mif\u001b[0m \u001b[0mch\u001b[0m \u001b[1;33m==\u001b[0m \u001b[1;34m'n'\u001b[0m\u001b[1;33m:\u001b[0m\u001b[1;33m\u001b[0m\u001b[0m\n\u001b[0;32m     19\u001b[0m         \u001b[0mflow\u001b[0m \u001b[1;33m=\u001b[0m \u001b[0mF\u001b[0m\u001b[1;33m.\u001b[0m\u001b[0mnew_flow\u001b[0m\u001b[1;33m(\u001b[0m\u001b[1;33m)\u001b[0m\u001b[1;33m\u001b[0m\u001b[0m\n",
      "\u001b[1;32m/data/GitHub/lca-tools/lcatools/interact.py\u001b[0m in \u001b[0;36mcyoa\u001b[1;34m(prompt, valid, default)\u001b[0m\n\u001b[0;32m     41\u001b[0m             \u001b[0mi\u001b[0m \u001b[1;33m=\u001b[0m \u001b[0mifinput\u001b[0m\u001b[1;33m(\u001b[0m\u001b[1;34m'%s [%s]'\u001b[0m \u001b[1;33m%\u001b[0m \u001b[1;33m(\u001b[0m\u001b[0mprompt\u001b[0m\u001b[1;33m,\u001b[0m \u001b[0mvalid\u001b[0m\u001b[1;33m)\u001b[0m\u001b[1;33m,\u001b[0m \u001b[0mdefault\u001b[0m\u001b[1;33m)\u001b[0m\u001b[1;33m\u001b[0m\u001b[0m\n\u001b[0;32m     42\u001b[0m         \u001b[1;32melse\u001b[0m\u001b[1;33m:\u001b[0m\u001b[1;33m\u001b[0m\u001b[0m\n\u001b[1;32m---> 43\u001b[1;33m             \u001b[0mi\u001b[0m \u001b[1;33m=\u001b[0m \u001b[0minput\u001b[0m\u001b[1;33m(\u001b[0m\u001b[0mprompt\u001b[0m\u001b[1;33m)\u001b[0m\u001b[1;33m\u001b[0m\u001b[0m\n\u001b[0m\u001b[0;32m     44\u001b[0m         \u001b[1;32mif\u001b[0m \u001b[0mi\u001b[0m\u001b[1;33m.\u001b[0m\u001b[0mlower\u001b[0m\u001b[1;33m(\u001b[0m\u001b[1;33m)\u001b[0m \u001b[1;32min\u001b[0m \u001b[0mvalid\u001b[0m\u001b[1;33m.\u001b[0m\u001b[0mlower\u001b[0m\u001b[1;33m(\u001b[0m\u001b[1;33m)\u001b[0m\u001b[1;33m:\u001b[0m\u001b[1;33m\u001b[0m\u001b[0m\n\u001b[0;32m     45\u001b[0m             \u001b[1;32mbreak\u001b[0m\u001b[1;33m\u001b[0m\u001b[0m\n",
      "\u001b[1;32m/home/b/.virtualenvs/lca-tools/lib/python3.5/site-packages/ipykernel/kernelbase.py\u001b[0m in \u001b[0;36mraw_input\u001b[1;34m(self, prompt)\u001b[0m\n\u001b[0;32m    687\u001b[0m             \u001b[0mself\u001b[0m\u001b[1;33m.\u001b[0m\u001b[0m_parent_ident\u001b[0m\u001b[1;33m,\u001b[0m\u001b[1;33m\u001b[0m\u001b[0m\n\u001b[0;32m    688\u001b[0m             \u001b[0mself\u001b[0m\u001b[1;33m.\u001b[0m\u001b[0m_parent_header\u001b[0m\u001b[1;33m,\u001b[0m\u001b[1;33m\u001b[0m\u001b[0m\n\u001b[1;32m--> 689\u001b[1;33m             \u001b[0mpassword\u001b[0m\u001b[1;33m=\u001b[0m\u001b[1;32mFalse\u001b[0m\u001b[1;33m,\u001b[0m\u001b[1;33m\u001b[0m\u001b[0m\n\u001b[0m\u001b[0;32m    690\u001b[0m         )\n\u001b[0;32m    691\u001b[0m \u001b[1;33m\u001b[0m\u001b[0m\n",
      "\u001b[1;32m/home/b/.virtualenvs/lca-tools/lib/python3.5/site-packages/ipykernel/kernelbase.py\u001b[0m in \u001b[0;36m_input_request\u001b[1;34m(self, prompt, ident, parent, password)\u001b[0m\n\u001b[0;32m    717\u001b[0m             \u001b[1;32mexcept\u001b[0m \u001b[0mKeyboardInterrupt\u001b[0m\u001b[1;33m:\u001b[0m\u001b[1;33m\u001b[0m\u001b[0m\n\u001b[0;32m    718\u001b[0m                 \u001b[1;31m# re-raise KeyboardInterrupt, to truncate traceback\u001b[0m\u001b[1;33m\u001b[0m\u001b[1;33m\u001b[0m\u001b[0m\n\u001b[1;32m--> 719\u001b[1;33m                 \u001b[1;32mraise\u001b[0m \u001b[0mKeyboardInterrupt\u001b[0m\u001b[1;33m\u001b[0m\u001b[0m\n\u001b[0m\u001b[0;32m    720\u001b[0m             \u001b[1;32melse\u001b[0m\u001b[1;33m:\u001b[0m\u001b[1;33m\u001b[0m\u001b[0m\n\u001b[0;32m    721\u001b[0m                 \u001b[1;32mbreak\u001b[0m\u001b[1;33m\u001b[0m\u001b[0m\n",
      "\u001b[1;31mKeyboardInterrupt\u001b[0m: "
     ]
    }
   ],
   "source": [
    "frag = create_fragment()"
   ]
  },
  {
   "cell_type": "code",
   "execution_count": 13,
   "metadata": {
    "collapsed": true
   },
   "outputs": [],
   "source": [
    "def find_termination(ref, index=None, direction=None):\n",
    "    if isinstance(ref, LcFragment):\n",
    "        if index is None:\n",
    "            index = current_archive or select_archive()\n",
    "        terms = F._catalog.terminate_fragment(index, ref)\n",
    "    else:\n",
    "        if direction is None:\n",
    "            direction = { 'i': 'Input', 'o': 'Output'}[cyoa('(I)nput or (O)utput?', 'IO').lower()]\n",
    "        terms = F._catalog.terminate_flow(flow_ref, direction)\n",
    "    pick = pick_one(terms)\n",
    "    print('Picked: %s' % pick)\n",
    "    return pick\n",
    "    "
   ]
  },
  {
   "cell_type": "code",
   "execution_count": 14,
   "metadata": {
    "collapsed": true
   },
   "outputs": [],
   "source": [
    "def add_termination(frag, term, scenario=None):\n",
    "    if isinstance(term, ExchangeRef):\n",
    "        frag.term_from_exch(term, scenario=scenario)\n",
    "    else:\n",
    "        frag.terminate(term, scenario=scenario)\n",
    "    F.build_child_flows(frag, background_children=True)\n"
   ]
  },
  {
   "cell_type": "code",
   "execution_count": 15,
   "metadata": {
    "collapsed": false
   },
   "outputs": [],
   "source": [
    "def auto_terminate(frag, index=None):\n",
    "    ex = find_termination(frag, index=index)\n",
    "    add_termination(frag, ex)"
   ]
  },
  {
   "cell_type": "code",
   "execution_count": 16,
   "metadata": {
    "collapsed": true
   },
   "outputs": [],
   "source": [
    "def foreground(frag, index=None):\n",
    "    F.fragment_to_foreground(frag)\n",
    "    auto_terminate(frag)"
   ]
  },
  {
   "cell_type": "code",
   "execution_count": 15,
   "metadata": {
    "collapsed": false
   },
   "outputs": [
    {
     "name": "stdout",
     "output_type": "stream",
     "text": [
      "(selecting only choice)\n",
      "Picked: (USLCI) Polyethylene terephthalate, resin, at plant [Chemical Manufacturing, Petrochemical Manufacturing] <- Polyethylene terephthalate, resin, at plant [RNA]\n",
      "LcFragment - Name: Acetic acid, at plant:\n",
      "BG: ((B) ref) -<- d002717 -<- ---:  Acetic acid, at plant\n",
      "created null termination in background\n",
      "LcFragment - Name: CUTOFF Disposal, solid waste, unspecified, to municipal incineration:\n",
      "BG: ((B) ref) -<- a628321 -<- ---:  CUTOFF Disposal, solid waste, unspecified, to municipal incineration\n",
      "created null termination in background\n",
      "LcFragment - Name: Methanol, at plant:\n",
      "BG: ((B) ref) -<- f892bf8 -<- ---:  Methanol, at plant\n",
      "created null termination in background\n",
      "LcFragment - Name: Transport, pipeline, natural gas:\n",
      "BG: ((B) ref) -<- 1b76dbd -<- ---:  Transport, pipeline, natural gas\n",
      "created null termination in background\n",
      "LcFragment - Name: CUTOFF Ethylene glycol, at plant:\n",
      "BG: ((B) ref) -<- f83a957 -<- ---:  CUTOFF Ethylene glycol, at plant\n",
      "created null termination in background\n",
      "LcFragment - Name: Bituminous coal, combusted in industrial boiler:\n",
      "BG: ((B) ref) -<- 1a565cd -<- ---:  Bituminous coal, combusted in industrial boiler\n",
      "created null termination in background\n",
      "LcFragment - Name: Diesel, combusted in industrial equipment:\n",
      "BG: ((B) ref) -<- 0b263db -<- ---:  Diesel, combusted in industrial equipment\n",
      "created null termination in background\n",
      "LcFragment - Name: Transport, barge, diesel powered:\n",
      "BG: ((B) ref) -<- cd48c3a -<- ---:  Transport, barge, diesel powered\n",
      "created null termination in background\n",
      "LcFragment - Name: Paraxylene, at plant:\n",
      "BG: ((B) ref) -<- 01540c2 -<- ---:  Paraxylene, at plant\n",
      "created null termination in background\n",
      "LcFragment - Name: Residual fuel oil, combusted in industrial boiler:\n",
      "BG: ((B) ref) -<- 733b5c4 -<- ---:  Residual fuel oil, combusted in industrial boiler\n",
      "created null termination in background\n",
      "LcFragment - Name: Electricity, at cogen, for natural gas turbine:\n",
      "BG: ((B) ref) -<- 0435524 -<- ---:  Electricity, at cogen, for natural gas turbine\n",
      "created null termination in background\n",
      "LcFragment - Name: Transport, barge, residual fuel oil powered:\n",
      "BG: ((B) ref) -<- 0a4588e -<- ---:  Transport, barge, residual fuel oil powered\n",
      "created null termination in background\n",
      "LcFragment - Name: Natural gas, combusted in industrial boiler:\n",
      "BG: ((B) ref) -<- 4c9f8c6 -<- ---:  Natural gas, combusted in industrial boiler\n",
      "created null termination in background\n",
      "LcFragment - Name: CUTOFF Disposal, solid waste, unspecified, to sanitary landfill:\n",
      "BG: ((B) ref) -<- 3976649 -<- ---:  CUTOFF Disposal, solid waste, unspecified, to sanitary landfill\n",
      "created null termination in background\n",
      "LcFragment - Name: CUTOFF Disposal, solid waste, unspecified, to waste-to-energy:\n",
      "BG: ((B) ref) -<- 6f3a5da -<- ---:  CUTOFF Disposal, solid waste, unspecified, to waste-to-energy\n",
      "created null termination in background\n",
      "LcFragment - Name: Transport, train, diesel powered:\n",
      "BG: ((B) ref) -<- e7ace8c -<- ---:  Transport, train, diesel powered\n",
      "created null termination in background\n",
      "LcFragment - Name: Electricity, at grid, US, 2008:\n",
      "BG: ((B) ref) -<- 8430bad -<- ---:  Electricity, at grid, US, 2008\n",
      "created null termination in background\n",
      "LcFragment - Name: Recovered energy:\n",
      "BG: ((B) ref) =>= 4241562 =>= ---:  Recovered energy\n",
      "created null termination in background\n"
     ]
    }
   ],
   "source": [
    "auto_terminate(frag)"
   ]
  },
  {
   "cell_type": "code",
   "execution_count": 208,
   "metadata": {
    "collapsed": true
   },
   "outputs": [],
   "source": [
    "def del_orphans(self, for_real=False):\n",
    "    \"\"\"\n",
    "    self is a foreground archive\n",
    "    \"\"\"\n",
    "    for f in self.fragments(show_all=True):\n",
    "        if f.reference_entity is not None:\n",
    "            continue\n",
    "        try:\n",
    "            next(_find_links(self, f))\n",
    "            print('Found a link for %s' % f)\n",
    "        except StopIteration:\n",
    "            print('Deleting %s' % f)\n",
    "            if for_real:\n",
    "                del self._entities[f._uuid]\n",
    "\n",
    "\n",
    "def _find_links(self, frag):\n",
    "    for i in self.fragments(show_all=True):\n",
    "        if i.reference_entity is frag:\n",
    "            yield i\n",
    "        else:\n",
    "            for v in i._terminations.values():\n",
    "                if v.term_node is frag:\n",
    "                    yield i\n",
    "    "
   ]
  },
  {
   "cell_type": "code",
   "execution_count": 211,
   "metadata": {
    "collapsed": false
   },
   "outputs": [
    {
     "name": "stdout",
     "output_type": "stream",
     "text": [
      "Found a link for ( ** ref) -<- d002717 -<- -*    Acetic acid, at plant\n",
      "Found a link for ( ** ref) -<- 410a96e -<- -O    something that requires gas transport\n",
      "Found a link for ( ** ref) -<- cd48c3a -<- -*    Transport, barge, diesel powered\n",
      "Found a link for ( ** ref) -<- e7ace8c -<- -*    Transport, train, diesel powered\n",
      "Found a link for ( ** ref) -<- 2c8ba87 -<- -*    Transport, barge, average fuel mix\n",
      "Found a link for ( ** ref) -<- 114c1d5 -<- -*    Transport, combination truck, diesel powered\n",
      "Found a link for ( ** ref) -<- 0a4588e -<- -*    Transport, barge, residual fuel oil powered\n",
      "Found a link for ( ** ref) -<- 1b76dbd -<- -*    Transport, pipeline, natural gas\n",
      "Found a link for ( ** ref) -<- 68d264d -<- -*    Transport, combination truck, average fuel mix\n",
      "Found a link for ( ** ref) -<- f2118f0 -<- -*    Transport, pipeline, unspecified petroleum products\n",
      "Found a link for ( ** ref) -<- 0c44dc5 -<- -*    Polyethylene terephthalate, resin, at plant\n",
      "Found a link for ((B) ref) -<- 5dfdb2f -<- ---:  Bituminous coal, at mine\n",
      "Found a link for ((B) ref) -<- 0f4d896 -<- ---:  CUTOFF Transport, pipeline, coal slurry\n",
      "Found a link for ((B) ref) -<- a8a990e -<- ---:  CUTOFF Disposal, solid waste, unspecified, to unspecified treatment\n",
      "Found a link for ((B) ref) -<- 6f3a5da -<- ---:  CUTOFF Disposal, solid waste, unspecified, to waste-to-energy\n",
      "Found a link for ((B) ref) -<- 0435524 -<- ---:  Electricity, at cogen, for natural gas turbine\n",
      "Found a link for ((B) ref) =>= 5d4787c =>= ---:  Recovered energy, at acetic acid production\n",
      "Found a link for ((B) ref) =>= 4241562 =>= ---:  Recovered energy\n",
      "Found a link for ((B) ref) -<- 3976649 -<- ---:  CUTOFF Disposal, solid waste, unspecified, to sanitary landfill\n",
      "Found a link for ((B) ref) -<- e436896 -<- ---:  Diesel, at refinery\n",
      "Found a link for ((B) ref) -<- 86c34c7 -<- ---:  Electricity, at grid, US, 2000\n",
      "Found a link for ((B) ref) -<- 4d264ea -<- ---:  Residual fuel oil, at refinery\n",
      "Found a link for ((B) ref) -<- f892bf8 -<- ---:  Methanol, at plant\n",
      "Found a link for ((B) ref) -<- 8430bad -<- ---:  Electricity, at grid, US, 2008\n",
      "Found a link for ((B) ref) -<- 7b2c550 -<- ---:  CUTOFF Disposal, ash and flue gas desulfurization sludge, to unspecified reuse\n",
      "Found a link for ((B) ref) -<- a628321 -<- ---:  CUTOFF Disposal, solid waste, unspecified, to municipal incineration\n",
      "Found a link for ((B) ref) -<- 278d2e1 -<- ---:  Natural gas, processed, at plant\n"
     ]
    }
   ],
   "source": [
    "del_orphans(F[0])"
   ]
  },
  {
   "cell_type": "code",
   "execution_count": 12,
   "metadata": {
    "collapsed": false
   },
   "outputs": [
    {
     "name": "stdout",
     "output_type": "stream",
     "text": [
      "-<--*   1b76dbd (      1) Transport, pipeline, natural gas\n",
      "    | -<--*   b78ac6f (  0.012) Natural gas, combusted in industrial equipment\n",
      "    |     | -<----: 9ca8b7d (    1.2) Transport, pipeline, natural gas\n",
      "    |     | -<--#   78a3212 (    0.2) Transport, combination truck, average fuel mix\n",
      "    |     | -<--#   dc450e8 (  0.012) Transport, train, diesel powered\n",
      "    |     | -<---C  e038531 (      1) Natural gas, processed, at plant\n",
      "    |     x \n",
      "    x \n"
     ]
    }
   ],
   "source": [
    "F.draw_fragment(F.frag('1b7'))"
   ]
  },
  {
   "cell_type": "code",
   "execution_count": 54,
   "metadata": {
    "collapsed": true
   },
   "outputs": [],
   "source": [
    "F.frag('b14').terminate(None)"
   ]
  },
  {
   "cell_type": "code",
   "execution_count": 30,
   "metadata": {
    "collapsed": false
   },
   "outputs": [
    {
     "data": {
      "text/plain": [
       "['(0c44dc5) -<- 4f772f2 -<- -*    Residual fuel oil, combusted in industrial boiler',\n",
       " '(0c44dc5) -<- 1a7d38d -<- -*    Natural gas, combusted in industrial boiler',\n",
       " '(0c44dc5) -<- a95908c -<- -*    Bituminous coal, combusted in industrial boiler',\n",
       " '(1b76dbd) -<- b78ac6f -<- -*    Natural gas, combusted in industrial equipment',\n",
       " '(0c44dc5) -<- 4083ab8 -<- -*    Diesel, combusted in industrial equipment']"
      ]
     },
     "execution_count": 30,
     "metadata": {},
     "output_type": "execute_result"
    }
   ],
   "source": [
    "[str(x) for x in F[0].fragments(show_all=True, background=False, match='combust')]"
   ]
  },
  {
   "cell_type": "code",
   "execution_count": 18,
   "metadata": {
    "collapsed": false
   },
   "outputs": [
    {
     "name": "stdout",
     "output_type": "stream",
     "text": [
      "( ** ref) -<- d002717 -<- -*    Acetic acid, at plant\n",
      "( ** ref) -<- cd48c3a -<- -*    Transport, barge, diesel powered\n",
      "( ** ref) -<- e7ace8c -<- -*    Transport, train, diesel powered\n",
      "( ** ref) -<- 2c8ba87 -<- -*    Transport, barge, average fuel mix\n",
      "( ** ref) -<- 114c1d5 -<- -*    Transport, combination truck, diesel powered\n",
      "( ** ref) -<- 0a4588e -<- -*    Transport, barge, residual fuel oil powered\n",
      "( ** ref) -<- 1b76dbd -<- -*    Transport, pipeline, natural gas\n",
      "( ** ref) -<- 68d264d -<- -*    Transport, combination truck, average fuel mix\n",
      "( ** ref) -<- f2118f0 -<- -*    Transport, pipeline, unspecified petroleum products\n",
      "( ** ref) -<- 0c44dc5 -<- -*    Polyethylene terephthalate, resin, at plant\n"
     ]
    }
   ],
   "source": [
    "F.show_fragments(show_all=False, background=False)"
   ]
  },
  {
   "cell_type": "code",
   "execution_count": 13,
   "metadata": {
    "collapsed": false
   },
   "outputs": [],
   "source": [
    "F.compute_unit_scores()"
   ]
  },
  {
   "cell_type": "code",
   "execution_count": 14,
   "metadata": {
    "collapsed": false
   },
   "outputs": [
    {
     "name": "stdout",
     "output_type": "stream",
     "text": [
      "\n",
      "LCA Catalog with the following archives:\n",
      "X [ 0] FG     : ForegroundArchive with 167 entities at pet\n",
      "  [ 1] ELCD   : /data/LCI/ELCD/ELCD3.2.zip\n",
      "X [ 2] LCIA   : IlcdLcia with 33957 entities at /home/b/Dropbox/data/ELCD/ELCD3.2-a.zip\n",
      "  [ 3] EI-LCIA: /data/GitHub/lca-tools-datafiles/catalogs/ei_lcia.json.gz\n",
      "  [ 4] EI-U   : /data/GitHub/lca-tools-datafiles/catalogs/ecoinvent_3.2_undefined_xlsx.json.gz\n",
      "  [ 5] EI_A   : /data/GitHub/lca-tools-datafiles/catalogs/ecoinvent_3.2_apos_xlsx.json.gz\n",
      "  [ 6] EI_Q   : /data/GitHub/lca-tools-datafiles/catalogs/ecoinvent_3.2_consequential_xlsx.json.gz\n",
      "  [ 7] EI_C   : /data/GitHub/lca-tools-datafiles/catalogs/ecoinvent_3.2_cut-off_xlsx.json.gz\n",
      "X [ 8] USLCI  : EcospoldV1Archive with 4896 entities at /home/b/Dropbox/data/USLCI/USLCI_Processes_ecospold1.zip\n",
      "  [ 9] GaBi-P : /data/GitHub/lca-tools-datafiles/catalogs/gabi_2016_professional-database-2016.json.gz\n",
      "  [10] GaBi-X : /data/GitHub/lca-tools-datafiles/catalogs/gabi_2016_all-extensions.json.gz\n"
     ]
    }
   ],
   "source": [
    "F.show_all()"
   ]
  },
  {
   "cell_type": "code",
   "execution_count": 15,
   "metadata": {
    "collapsed": false
   },
   "outputs": [],
   "source": [
    "frag = F.frag('0c4')"
   ]
  },
  {
   "cell_type": "code",
   "execution_count": 224,
   "metadata": {
    "collapsed": true
   },
   "outputs": [],
   "source": [
    "_qs = (x for x in F[0].lcia_methods())"
   ]
  },
  {
   "cell_type": "code",
   "execution_count": 223,
   "metadata": {
    "collapsed": true
   },
   "outputs": [],
   "source": [
    "results = F.fg_lcia(frag.term.term_node)"
   ]
  },
  {
   "cell_type": "code",
   "execution_count": 225,
   "metadata": {
    "collapsed": false
   },
   "outputs": [
    {
     "data": {
      "text/plain": [
       "'ILCD2011; Climate change; midpoint; GWP100; IPCC2007 [LCIA]'"
      ]
     },
     "execution_count": 225,
     "metadata": {},
     "output_type": "execute_result"
    }
   ],
   "source": [
    "q = next(_qs)\n",
    "str(q)"
   ]
  },
  {
   "cell_type": "code",
   "execution_count": 242,
   "metadata": {
    "collapsed": false
   },
   "outputs": [
    {
     "data": {
      "text/plain": [
       "{'010102-44-0',\n",
       " '08a91e70-3ddc-11dd-96e5-0050c2490048',\n",
       " '08a91e70-3ddc-11dd-96e6-0050c2490048',\n",
       " '08a91e70-3ddc-11dd-96e7-0050c2490048',\n",
       " '08a91e70-3ddc-11dd-96e8-0050c2490048',\n",
       " '08a91e70-3ddc-11dd-96e9-0050c2490048',\n",
       " '08a91e70-3ddc-11dd-96ea-0050c2490048',\n",
       " '08a91e70-3ddc-11dd-96eb-0050c2490048',\n",
       " '08a91e70-3ddc-11dd-96ec-0050c2490048',\n",
       " '08a91e70-3ddc-11dd-96ed-0050c2490048',\n",
       " '29063b80-6556-11dd-ad8b-0800200c9a66',\n",
       " '29063b81-6556-11dd-ad8b-0800200c9a66',\n",
       " '29063b82-6556-11dd-ad8b-0800200c9a66',\n",
       " '2fb4ca68-6eb1-3f0b-b907-70cdc6f050f2',\n",
       " 'AC1MHUB8',\n",
       " 'Dinitrogen tetroxide',\n",
       " 'NITROGEN TETROXIDE',\n",
       " 'ac1mhub8',\n",
       " 'dinitrogen tetroxide',\n",
       " 'nitrogen dioxide',\n",
       " 'nitrogen tetroxide'}"
      ]
     },
     "execution_count": 242,
     "metadata": {},
     "output_type": "execute_result"
    }
   ],
   "source": [
    "F.db.flowables.synonyms_for('010102-44-0')"
   ]
  },
  {
   "cell_type": "code",
   "execution_count": 69,
   "metadata": {
    "collapsed": false
   },
   "outputs": [
    {
     "data": {
      "text/plain": [
       "['2fb4ca68-6eb1-3f0b-b907-70cdc6f050f2']"
      ]
     },
     "execution_count": 69,
     "metadata": {},
     "output_type": "execute_result"
    }
   ],
   "source": [
    "[x.flow.get_uuid() for x in frag.term.term_node.entity().exchanges() if x.flow['Name'] == 'Nitrogen oxides ']"
   ]
  },
  {
   "cell_type": "code",
   "execution_count": 240,
   "metadata": {
    "collapsed": false
   },
   "outputs": [
    {
     "data": {
      "text/plain": [
       "1839"
      ]
     },
     "execution_count": 240,
     "metadata": {},
     "output_type": "execute_result"
    }
   ],
   "source": [
    "F.db.flowables.add_synonym('010102-44-0', '2fb4ca68-6eb1-3f0b-b907-70cdc6f050f2')"
   ]
  },
  {
   "cell_type": "code",
   "execution_count": 226,
   "metadata": {
    "collapsed": false
   },
   "outputs": [
    {
     "name": "stdout",
     "output_type": "stream",
     "text": [
      "ILCD2011; Climate change; midpoint; GWP100; IPCC2007 [LCIA] kg\n",
      "------------------------------------------------------------\n",
      "    0.0724 x          1 =     0.0724 [GLO] Carbon dioxide, fossil  [air, unspecified]\n",
      "   0.00016 x         25 =      0.004 [GLO] Methane  [air, unspecified]\n",
      "   9.7e-10 x       ---- =          0 [GLO] Aluminum [water, unspecified]\n",
      "   0.00011 x       ---- =          0 [GLO] Ammonia [water, unspecified]\n",
      "   5.1e-05 x       ---- =          0 [GLO] Acetic acid [air, unspecified]\n",
      "   4.4e-05 x       ---- =          0 [GLO] TOC, Total Organic Carbon [water, unspecified]\n",
      "   0.00568 x       ---- =          0 [GLO] Carbon monoxide [air, unspecified]\n",
      "     4e-05 x       ---- =          0 [GLO] Methyl acetate [air, unspecified]\n",
      "    0.0003 x       ---- =          0 [GLO] BOD5, Biological Oxygen Demand [water, unspecified]\n",
      "   7.9e-05 x       ---- =          0 [GLO] Bromine [air, unspecified]\n",
      "   9.7e-10 x       ---- =          0 [GLO] Iron [water, unspecified]\n",
      "   0.00015 x       ---- =          0 [GLO] Particulates, unspecified [air, unspecified]\n",
      "   5.5e-06 x       ---- =          0 [GLO] Zinc [water, unspecified]\n",
      "   0.00028 x       ---- =          0 [GLO] NMVOC, non-methane volatile organic compounds, unspecified  [Elementary Flows]\n",
      "   1.3e-06 x       ---- =          0 [GLO] Ammonium ion [water, unspecified]\n",
      "   0.00076 x       ---- =          0 [GLO] COD, Chemical Oxygen Demand [water, unspecified]\n",
      "  0.000244 x       ---- =          0 [GLO] Water, process, unspecified natural origin/m3 [water, unspecified]\n",
      "   0.00094 x       ---- =          0 [GLO] Organic substances, unspecified [air, unspecified]\n",
      "     3e-05 x       ---- =          0 [GLO] Dissolved solids [water, unspecified]\n",
      "   9.7e-10 x       ---- =          0 [GLO] Antimony [water, unspecified]\n",
      "   4.5e-09 x       ---- =          0 [GLO] Metallic ions, unspecified [water, unspecified]\n",
      "   9.4e-05 x       ---- =          0 [GLO] Aldehydes [Elementary Flows]\n",
      "   4.1e-05 x       ---- =          0 [GLO] Xylene [air, unspecified]\n",
      "   5.2e-05 x       ---- =          0 [GLO] Nitrogen oxides  [air, unspecified]\n",
      "   5.4e-05 x       ---- =          0 [GLO] Suspended solids, unspecified [water, unspecified]\n",
      "   3.6e-09 x       ---- =          0 [GLO] Phenol compounds, unspecified [water, unspecified]\n",
      "   5.1e-07 x       ---- =          0 [GLO] Phosphates [water, unspecified]\n",
      "============================================================\n",
      "             Total score: 0.0764 \n",
      "    0.0764 ILCD2011; Climate change; midpoint; GWP100; IPCC2007 [LCIA]\n"
     ]
    }
   ],
   "source": [
    "results[q.get_uuid()].show_details(show_all=True)"
   ]
  },
  {
   "cell_type": "code",
   "execution_count": 227,
   "metadata": {
    "collapsed": false
   },
   "outputs": [
    {
     "name": "stdout",
     "output_type": "stream",
     "text": [
      "ILCD2011; Climate change; midpoint; GWP100; IPCC2007 [LCIA]\n",
      "Characterization Factors\n",
      " \n",
      "CAS Number   |   C0   |   C1   |   C2   |   C3   |   C4   |   C5   |   C6   |   C7   |   C8   |   C9    Flowable\n",
      "----------------------------------------------------------------------------------------------------------------\n",
      "000431-89-0  3.22e+03 3.22e+03   --     3.22e+03 3.22e+03   --       --       --       --       --      1,1,1,2,3,3,3-heptafluoropropane\n",
      "000431-63-0  1.37e+03 1.37e+03   --     1.37e+03 1.37e+03   --       --       --       --       --      1,1,1,2,3,3-hexafluoropropane\n",
      "000378-16-5        11       11   --           11       11   --       --       --       --       --      2,2,3,3,3-Pentafluoropropyl methyl ether\n",
      "000076-15-3  7.37e+03 7.37e+03 7.37e+03 7.37e+03 7.37e+03   --       --       --       --       --      CFC-115\n",
      "000075-72-9  1.44e+04 1.44e+04 1.44e+04 1.44e+04 1.44e+04   --       --       --       --       --      CFC-13\n",
      "000420-46-2  4.47e+03 4.47e+03   --     4.47e+03 4.47e+03   --       --       --       --       --      CFC-143a\n",
      "000124-38-9     -0.01        1        1        1        1   --       --       --       --           -1  Carbon dioxide, fossil\n",
      "          .         1        1        1        1        1                                               \n",
      "          .         1        1        1        1        1                                               \n",
      "          .     -0.01                                                                                   \n",
      "          .         1                                                                                   \n",
      "000067-66-3        31       31       31       31       31   --       --       --       --       --      Chloroform\n",
      "010024-97-2       298      298      298      298      298   --       --       --       --       --      Dinitrogen monoxide\n",
      "          .     -2.98                                                                                   \n",
      "000811-97-2  1.43e+03 1.43e+03 1.43e+03 1.43e+03 1.43e+03   --       --       --       --       --      Ethane, 1,1,1,2-tetrafluoro-, HFC-134a\n",
      "000071-55-6       146      146      146      146      146   --       --       --       --       --      Ethane, 1,1,1-trichloro-, HCFC-140\n",
      "000076-13-1  6.13e+03 6.13e+03   --     6.13e+03 6.13e+03   --       --       --       --       --      Ethane, 1,1,2-trichloro-1,2,2-trifluoro-, CFC-113\n",
      "000075-37-6       124      124      124      124      124   --       --       --       --       --      Ethane, 1,1-difluoro-, HFC-152a\n",
      "000076-14-2     1e+04    1e+04    1e+04    1e+04    1e+04   --       --       --       --       --      Ethane, 1,2-dichloro-1,1,2,2-tetrafluoro-, CFC-114\n",
      "002837-89-0       609      609      609      609      609   --       --       --       --       --      Ethane, 2-chloro-1,1,1,2-tetrafluoro-, HCFC-124\n",
      "000076-16-4  1.22e+04 1.22e+04 1.22e+04 1.22e+04 1.22e+04   --       --       --       --       --      Ethane, hexafluoro-, HFC-116\n",
      "000115-25-3  1.03e+04 1.03e+04 1.03e+04 1.03e+04 1.03e+04   --       --       --       --       --      FC-318\n",
      "000306-83-2        77       77       77       77       77   --       --       --       --       --      HCFC-123\n",
      "001717-00-6       725      725      725      725      725   --       --       --       --       --      HCFC-141b\n",
      "000075-68-3  2.31e+03 2.31e+03   --     2.31e+03 2.31e+03   --       --       --       --       --      HCFC-142\n",
      "000422-56-0       122      122      122      122      122   --       --       --       --       --      HCFC-225ca\n",
      "000507-55-1       595      595      595      595      595   --       --       --       --       --      HCFC-225cb\n",
      "026675-46-7       350      350      350      350      350   --       --       --       --       --      HCFE-235da2\n",
      "000354-33-6   3.5e+03  3.5e+03  3.5e+03  3.5e+03  3.5e+03   --       --       --       --       --      HFC-125\n",
      "000359-35-3   1.1e+03  1.1e+03  1.1e+03  1.1e+03  1.1e+03   --       --       --       --       --      HFC-134\n",
      "000430-66-0       353      353      353      353      353   --       --       --       --       --      HFC-143\n",
      "000624-72-6        53       53       53       53       53   --       --       --       --       --      HFC-152\n",
      "000353-36-6        12       12       12       12       12   --       --       --       --       --      HFC-161\n",
      "       None    --       --       --       --     1.34e+03   --       --       --       --       --      HFC-236cb\n",
      "       None    --       --       --     1.34e+03   --       --       --       --       --       --      HFC-236cb\n",
      "000677-56-5  1.34e+03 1.34e+03 1.34e+03 1.34e+03 1.34e+03   --       --       --       --       --      HFC-236cb\n",
      "       None    --     1.34e+03   --       --       --       --       --       --       --       --      HFC-236cb\n",
      "       None    --       --     1.34e+03   --       --       --       --       --       --       --      HFC-236cb\n",
      "000690-39-1  9.81e+03 9.81e+03 9.81e+03 9.81e+03 9.81e+03   --       --       --       --       --      HFC-236fa\n",
      "000679-86-7       693      693      693      693      693   --       --       --       --       --      HFC-245ca\n",
      "000460-73-1  1.03e+03 1.03e+03 1.03e+03 1.03e+03 1.03e+03   --       --       --       --       --      HFC-245fa\n",
      "000075-10-5       675      675      675      675      675   --       --       --       --       --      HFC-32\n",
      "000406-58-6       794      794      794      794      794   --       --       --       --       --      HFC-365mfc\n",
      "000593-53-3        92       92       92       92       92   --       --       --       --       --      HFC-41\n",
      "138495-42-8  1.64e+03 1.64e+03   --     1.64e+03 1.64e+03   --       --       --       --       --      HFC-4310mee\n",
      "003822-68-2  1.49e+04 1.49e+04 1.49e+04 1.49e+04 1.49e+04   --       --       --       --       --      HFE-125\n",
      "001691-17-4  6.32e+03 6.32e+03 6.32e+03 6.32e+03 6.32e+03   --       --       --       --       --      HFE-134\n",
      "       None  1.54e+03 1.54e+03   --     1.54e+03 1.54e+03   --       --       --       --       --      HFE-227EA\n",
      "       None   2.8e+03  2.8e+03   --      2.8e+03  2.8e+03   --       --       --       --       --      HFE-236ca12 (HG-10)\n",
      "084011-06-3       989      989   --          989      487   --       --       --       --       --      HFE-236ea2\n",
      "          .       487      487               487      989                                               \n",
      "001885-48-9       286      286      659      286      708   --       --       --       --       --      HFE-245fa1\n",
      "          .       708      659      708      659      286                                               \n",
      "          .       659      708               708      659                                               \n",
      "000425-88-7       359      359      359      359      359   --       --       --       --       --      HFE-254cb2\n",
      "       None        11       11   --           11       11   --       --       --       --       --      HFE-263fb2\n",
      "       None       919      919   --          919      919   --       --       --       --       --      HFE-329mcc2\n",
      "       None       552      552   --          552      552   --       --       --       --       --      HFE-338mcf2\n",
      "       None   1.5e+03  1.5e+03   --      1.5e+03  1.5e+03   --       --       --       --       --      HFE-338pcc13 (HG-01)\n",
      "000406-78-0       575      374      575      374      374   --       --       --       --       --      HFE-347mcf2\n",
      "          .       374      575               575      575                                               \n",
      "       None       580      580   --          580      580   --       --       --       --       --      HFE-347pcf2\n",
      "000382-34-3       502      265      502      110      110   --       --       --       --       --      HFE-356pcf2\n",
      "          .       101      101               265      265                                               \n",
      "          .       265      110               101      101                                               \n",
      "          .       110      502               502      502                                               \n",
      "000512-51-6       557      557      557      557      557   --       --       --       --       --      HFE-374pc2\n",
      "       None  1.87e+03 1.87e+03   --     1.87e+03 1.87e+03   --       --       --       --       --      HFE-43-10pccc124 (H-Galden1040x)\n",
      "163702-05-4        59       59   --           59       59   --       --       --       --       --      HFE-569sf2\n",
      "014117-17-0       297      297      297      297      297   --       --       --       --       --      HFE-7100\n",
      "001511-62-2       404      404      404      404      404   --       --       --       --       --      Halon-1201\n",
      "000124-73-2  1.64e+03 1.64e+03 1.64e+03 1.64e+03 1.64e+03   --       --       --       --       --      Halon-2402\n",
      "       None        25       25       25       25       25   --       --       --       --       --      Methane\n",
      "000074-83-9         5        5        5        5        5   --       --       --       --       --      Methane, bromo-, Halon 1001\n",
      "000353-59-3  1.89e+03 1.89e+03 1.89e+03 1.89e+03 1.89e+03   --       --       --       --       --      Methane, bromochlorodifluoro-, Halon 1211\n",
      "000075-63-8  7.14e+03 7.14e+03 7.14e+03 7.14e+03 7.14e+03   --       --       --       --       --      Methane, bromotrifluoro-, Halon 1301\n",
      "000075-45-6  1.81e+03 1.81e+03 1.81e+03 1.81e+03 1.81e+03   --       --       --       --       --      Methane, chlorodifluoro-, HCFC-22\n",
      "000075-09-2       8.7      8.7      8.7      8.7      8.7      8.7      8.7      8.7      8.7   --      Methane, dichloro-, HCC-30\n",
      "000075-71-8  1.09e+04 1.09e+04 1.09e+04 1.09e+04 1.09e+04   --       --       --       --       --      Methane, dichlorodifluoro-, CFC-12\n",
      "000075-43-4       151      151      151      151      151   --       --       --       --       --      Methane, dichlorofluoro-, HCFC-21\n",
      "000074-82-8        25       25       25       25       25   --       --       --       --       --      Methane, fossil\n",
      "          .     -0.25       25       25       25       25                                               \n",
      "          .        25       25       25       25       25                                               \n",
      "          .        25                                                                                   \n",
      "          .     -0.25                                                                                   \n",
      "000074-87-3        13       13       13       13       13   --       --       --       --       --      Methane, monochloro-, R-40\n",
      "000056-23-5   1.4e+03  1.4e+03  1.4e+03  1.4e+03  1.4e+03  1.4e+03  1.4e+03  1.4e+03  1.4e+03   --      Methane, tetrachloro-, R-10\n",
      "000075-73-0  7.39e+03 7.39e+03 7.39e+03 7.39e+03 7.39e+03   --       --       --       --       --      Methane, tetrafluoro-, R-14\n",
      "000075-69-4  4.75e+03 4.75e+03 4.75e+03 4.75e+03 4.75e+03   --       --       --       --       --      Methane, trichlorofluoro-, CFC-11\n",
      "000075-46-7  1.48e+04 1.48e+04 1.48e+04 1.48e+04 1.48e+04   --       --       --       --       --      Methane, trifluoro-, HFC-23\n",
      "000421-14-7       756      756   --          756      756   --       --       --       --       --      Methyl trifluoromethyl ether\n",
      "007783-54-2  1.72e+04 1.72e+04   --     1.72e+04 1.72e+04   --       --       --       --       --      Nitrogen fluoride\n",
      "       None   7.5e+03  7.5e+03   --      7.5e+03  7.5e+03   --       --       --       --       --      PFC-9-1-18\n",
      "       None  1.03e+04 1.03e+04   --     1.03e+04 1.03e+04   --       --       --       --       --      PFPMIE\n",
      "002551-62-4  2.28e+04 2.28e+04 2.28e+04 2.28e+04 2.28e+04   --       --       --       --       --      Sulfur hexafluoride\n",
      "          .      -228                                                                                   \n",
      "000074-95-3      1.54     1.54     1.54     1.54     1.54   --       --       --       --       --      dibromomethane\n",
      "000678-26-2  9.16e+03 9.16e+03 9.16e+03 9.16e+03 9.16e+03   --       --       --       --       --      dodecafluoropentane\n",
      "002314-97-8       0.4      0.4      0.4      0.4      0.4   --       --       --       --       --      iodotrifluoromethane\n",
      "       None        25   --       --       --       --       --       --       --       --       --      methane\n",
      "       None    --           25   --       --       --       --       --       --       --       --      methane\n",
      "       None    --       --       --       --           25   --       --       --       --       --      methane\n",
      "       None    --       --       --           25   --       --       --       --       --       --      methane\n",
      "       None    --       --           25   --       --       --       --       --       --       --      methane\n",
      "       None        25       25       25       25       25   --       --       --       --       --      methane (biogenic)\n",
      "       None        25   --       --       --       --       --       --       --       --       --      methane (biogenic)\n",
      "       None    --           25   --       --       --       --       --       --       --       --      methane (biogenic)\n",
      "       None    --       --       --       --           25   --       --       --       --       --      methane (biogenic)\n",
      "       None    --       --       --           25   --       --       --       --       --       --      methane (biogenic)\n",
      "       None    --       --           25   --       --       --       --       --       --       --      methane (biogenic)\n",
      "       None        25       25       25       25       25   --       --       --       --       --      methane (fossil)\n",
      "       None    --           25   --       --       --       --       --       --       --       --      methane (fossil)\n",
      "       None    --       --       --       --           25   --       --       --       --       --      methane (fossil)\n",
      "       None    --       --       --           25   --       --       --       --       --       --      methane (fossil)\n",
      "       None    --       --           25   --       --       --       --       --       --       --      methane (fossil)\n",
      "000115-10-6         1        1        1        1        1   --       --       --       --       --      methyl ether\n",
      "010024-97-3    --       --          298   --       --       --       --       --       --       --      nitrous oxide\n",
      "000355-25-9  8.86e+03 8.86e+03 8.86e+03 8.86e+03 8.86e+03   --       --       --       --       --      perfluorobutane\n",
      "000355-42-0   9.3e+03  9.3e+03  9.3e+03  9.3e+03  9.3e+03   --       --       --       --       --      perfluorohexane\n",
      "000076-19-7  8.83e+03 8.83e+03 8.83e+03 8.83e+03 8.83e+03   --       --       --       --       --      perfluoropropane\n",
      "000373-80-8  1.77e+04 1.77e+04   --     1.77e+04 1.77e+04   --       --       --       --       --      sulphur, trifluoromethyl pentafluoride\n",
      "CAS Number   |   C0   |   C1   |   C2   |   C3   |   C4   |   C5   |   C6   |   C7   |   C8   |   C9    Flowable\n",
      "\n",
      "Columns:\n",
      "C0: Emissions to air\n",
      "C1: Emissions to air, unspecified (long-term)\n",
      "C2: Emissions to lower stratosphere and upper troposphere\n",
      "C3: Emissions to non-urban air or from high stacks\n",
      "C4: Emissions to urban air close to ground\n",
      "C5: water\n",
      "C6: Emissions to fresh water\n",
      "C7: Emissions to water, unspecified (long-term)\n",
      "C8: ocean\n",
      "C9: Resources from air\n"
     ]
    }
   ],
   "source": [
    "F.db.factors_for_quantity(q)"
   ]
  },
  {
   "cell_type": "code",
   "execution_count": 233,
   "metadata": {
    "collapsed": false
   },
   "outputs": [
    {
     "name": "stdout",
     "output_type": "stream",
     "text": [
      "{'016065-83-1', 'cr+3', 'cr3+', 'CR+3', '08a91e70-3ddc-11dd-9f79-0050c2490048', 'chromium, ion (cr3+)', 'chromium (iii) ion', 'Cr3+', 'Chromic ion', 'chromium(3+)ion', 'Chromium(III) compounds, n.o.s', 'chromium(iii), chromium(iii) insoluble salts, chromic ion, chromium ion, trivalent chromium', 'chromium iii', 'Chromium, ion (Cr 3+)', 'chromium ion(cr3+)', 'Chromium (III), insoluble salts', 'chromium(3+)', 'Cr(3+)', 'Chromium, ion(Cr3+)', 'chromium(3+) ions', '4d9a8790-3ddd-11dd-8fd2-0050c2490048', '4d9a8790-3ddd-11dd-8fd1-0050c2490048', 'Chromium (III) ion', 'chromium, ion(cr3+)', '08a91e70-3ddc-11dd-9f7c-0050c2490048', 'Chromium (3+)', 'Chromium(III), Chromium(III) insoluble salts, Chromic ion, Chromium ion, trivalent Chromium', 'chromium (iii), insoluble salts', 'Chromium(III) compounds, n.o.s.', 'ac1l1dpd', '4d9a8790-3ddd-11dd-8fd0-0050c2490048', 'Chromium ion (3+)', '4d9a8790-3ddd-11dd-8fd4-0050c2490048', 'CHROMIUM (III)', 'Chromium ion(Cr3+)', '3e4c8d2d-6556-11dd-ad8b-0800200c9a66', 'cr(3+)', 'chromium, ion', '08a91e70-3ddc-11dd-9f7b-0050c2490048', '08a91e70-3ddc-11dd-9f7a-0050c2490048', 'chromium III', 'chromium(iii) compounds, n.o.s.', '4d9a8790-3ddd-11dd-8fcf-0050c2490048', 'chromium(iii) cation', '4d9a8790-3ddd-11dd-8fce-0050c2490048', 'cr(iii)', 'chromium ion (3+)', 'Chromium(3+)ion', 'chromium (iii)', 'Chromium(3+) ions', 'Cr(III)', 'chromium (3+)', 'chromium(iii) compounds, n.o.s', 'chromium(iii)', 'Chromium(III) cation', 'Chromium(III)', '4d9a8790-3ddd-11dd-8fd3-0050c2490048', 'chromic ion', 'AC1L1DPD', 'Chromium, ion', 'chromium, ion (cr 3+)', 'Chromium, ion (cr3+)'}\n"
     ]
    }
   ],
   "source": [
    "for fb in F.db.flowables.search('chromium III'):\n",
    "    print(F.db.flowables.synonym_set(fb))"
   ]
  },
  {
   "cell_type": "code",
   "execution_count": 234,
   "metadata": {
    "collapsed": false
   },
   "outputs": [
    {
     "name": "stdout",
     "output_type": "stream",
     "text": [
      "{'Chromium(VI) compounds', 'chromium (hexavalent compounds)', 'chromium VI', 'chromium compounds, hexavalent', 'Chromium(VI) compounds, n.o.s', 'fe0acd60-3ddc-11dd-a70d-0050c2490048', '018540-29-9', 'CR+6', '08a91e70-3ddc-11dd-950b-0050c2490048', 'Chromium(6+)', 'chromium(6+)ion', 'Chromium, hexavalent', 'Chromium VI', '4d9a8790-3ddd-11dd-8fd7-0050c2490048', '4d9a8790-3ddd-11dd-8fd5-0050c2490048', '3e4c8d50-6556-11dd-ad8b-0800200c9a66', 'chromium(VI) cation', 'fe0acd60-3ddc-11dd-a70c-0050c2490048', 'cr(6+)', 'Chromium, ion (Cr6+)', 'Chromium, ion (Cr 6+)', 'Chromium(6+)ion', 'chromium, ion(cr6+)', 'chromium(vi)', '4d9a8790-3ddd-11dd-9c1f-0050c2490048', 'Chromium(6+)ions', 'hexavalent chromium', 'chromium (cr(sup 6+))', 'Cr6+', 'ac1l1gta', 'Chromium (hexavalent compounds)', 'chromium(vi) ions', 'NCI-C04273', 'Chromium compounds, hexavalent', 'AC1L1GTA', '(51cr)chromium(6+)', '4d9a8790-3ddd-11dd-8fd6-0050c2490048', '4d9a8790-3ddd-11dd-8fd8-0050c2490048', 'fe0acd60-3ddc-11dd-a70b-0050c2490048', 'Chromium hexavalent ion', 'Chromium, hexavalent (Cr(VI))', 'chromium(vi) compounds, n.o.s', 'Chromium (cr(sup 6+))', 'Chromium(6+) ion', 'chromium(vi) cation', 'chromium hexavalent ion', 'chromium(6+)ions', 'chromium, hexavalent (cr(vi))', '4d9a8790-3ddd-11dd-9c1d-0050c2490048', 'chromium, ion (cr 6+)', 'chromium(vi) compounds', 'Cr(VI)', 'chromium(6+) ions', 'chromium, ion (cr6+)', 'Chromium, ion(Cr6+)', 'kst-1a4572', '4d9a8790-3ddd-11dd-9c1e-0050c2490048', 'cr+6', 'Chromium(VI) compounds, n.o.s.', 'chromium, hexavalent', 'chromium(vi) compounds, n.o.s.', 'cr(vi)', 'chromium(6+) ion', 'Hexavalent chromium', 'nci-c04273', 'Cr(6+)', 'chromium(6+)', 'Chromium(VI) ions', 'chromium vi', 'Chromium(6+) ions', 'KST-1A4572', 'Chromium(VI)', 'cr6+'}\n"
     ]
    }
   ],
   "source": [
    "for fb in F.db.flowables.search('chromium VI'):\n",
    "    print(F.db.flowables.synonym_set(fb))"
   ]
  },
  {
   "cell_type": "code",
   "execution_count": 111,
   "metadata": {
    "collapsed": false
   },
   "outputs": [
    {
     "name": "stdout",
     "output_type": "stream",
     "text": [
      "( ** ref) -<- d002717 -<- -*    Acetic acid, at plant\n",
      "( ** ref) -<- cd48c3a -<- -*    Transport, barge, diesel powered\n",
      "( ** ref) -<- e7ace8c -<- -*    Transport, train, diesel powered\n",
      "( ** ref) -<- 2c8ba87 -<- -*    Transport, barge, average fuel mix\n",
      "( ** ref) -<- 114c1d5 -<- -*    Transport, combination truck, diesel powered\n",
      "( ** ref) -<- 0a4588e -<- -*    Transport, barge, residual fuel oil powered\n",
      "( ** ref) -<- 1b76dbd -<- -*    Transport, pipeline, natural gas\n",
      "( ** ref) -<- 68d264d -<- -*    Transport, combination truck, average fuel mix\n",
      "( ** ref) -<- f2118f0 -<- -*    Transport, pipeline, unspecified petroleum products\n",
      "( ** ref) -<- 0c44dc5 -<- -*    Polyethylene terephthalate, resin, at plant\n",
      "((B) ref) -<- 5dfdb2f -<- ---:  Bituminous coal, at mine\n",
      "((B) ref) -<- 0f4d896 -<- ---:  CUTOFF Transport, pipeline, coal slurry\n",
      "((B) ref) -<- a8a990e -<- ---:  CUTOFF Disposal, solid waste, unspecified, to unspecified treatment\n",
      "((B) ref) -<- 6f3a5da -<- ---:  CUTOFF Disposal, solid waste, unspecified, to waste-to-energy\n",
      "((B) ref) -<- 0435524 -<- ---:  Electricity, at cogen, for natural gas turbine\n",
      "((B) ref) =>= 5d4787c =>= ---:  Recovered energy, at acetic acid production\n",
      "((B) ref) =>= 4241562 =>= ---:  Recovered energy\n",
      "((B) ref) -<- 3976649 -<- ---:  CUTOFF Disposal, solid waste, unspecified, to sanitary landfill\n",
      "((B) ref) -<- e436896 -<- ---:  Diesel, at refinery\n",
      "((B) ref) -<- 86c34c7 -<- ---:  Electricity, at grid, US, 2000\n",
      "((B) ref) -<- 4d264ea -<- ---:  Residual fuel oil, at refinery\n",
      "((B) ref) -<- f892bf8 -<- ---:  Methanol, at plant\n",
      "((B) ref) -<- 8430bad -<- ---:  Electricity, at grid, US, 2008\n",
      "((B) ref) -<- 7b2c550 -<- ---:  CUTOFF Disposal, ash and flue gas desulfurization sludge, to unspecified reuse\n",
      "((B) ref) -<- a628321 -<- ---:  CUTOFF Disposal, solid waste, unspecified, to municipal incineration\n",
      "((B) ref) -<- 278d2e1 -<- ---:  Natural gas, processed, at plant\n"
     ]
    }
   ],
   "source": [
    "F.show_fragments()"
   ]
  },
  {
   "cell_type": "code",
   "execution_count": 95,
   "metadata": {
    "collapsed": false
   },
   "outputs": [
    {
     "data": {
      "text/plain": [
       "'Input'"
      ]
     },
     "execution_count": 95,
     "metadata": {},
     "output_type": "execute_result"
    }
   ],
   "source": [
    "F.frag('1b7').direction"
   ]
  },
  {
   "cell_type": "code",
   "execution_count": 80,
   "metadata": {
    "collapsed": false
   },
   "outputs": [
    {
     "name": "stdout",
     "output_type": "stream",
     "text": [
      "descending\n",
      "descending\n",
      "descending\n"
     ]
    }
   ],
   "source": [
    "ios = F.get_fragment_inventory(F.frag('1b7'))"
   ]
  },
  {
   "cell_type": "code",
   "execution_count": 144,
   "metadata": {
    "collapsed": false
   },
   "outputs": [
    {
     "name": "stdout",
     "output_type": "stream",
     "text": [
      "descending\n",
      "descending\n",
      "descending\n"
     ]
    }
   ],
   "source": [
    "ffs, _ = F.frag('1b7').traverse(lambda x: F.child_flows(x), 1.0, None)"
   ]
  },
  {
   "cell_type": "code",
   "execution_count": 145,
   "metadata": {
    "collapsed": false
   },
   "outputs": [
    {
     "data": {
      "text/plain": [
       "[<lcatools.foreground.fragment_flows.FragmentFlow at 0x7fbfc9e3fcc0>,\n",
       " <lcatools.foreground.fragment_flows.FragmentFlow at 0x7fbfc9e3f550>,\n",
       " <lcatools.foreground.fragment_flows.FragmentFlow at 0x7fbfc9e3f5f8>,\n",
       " <lcatools.foreground.fragment_flows.FragmentFlow at 0x7fbfc9e3f668>,\n",
       " <lcatools.foreground.fragment_flows.FragmentFlow at 0x7fbfc9e3f780>,\n",
       " <lcatools.foreground.fragment_flows.FragmentFlow at 0x7fbfc9e3f7f0>,\n",
       " <lcatools.foreground.fragment_flows.FragmentFlow at 0x7fbfc9e3f898>,\n",
       " <lcatools.foreground.fragment_flows.FragmentFlow at 0x7fbfc9e3f908>,\n",
       " <lcatools.foreground.fragment_flows.FragmentFlow at 0x7fbfc9e3f828>,\n",
       " <lcatools.foreground.fragment_flows.FragmentFlow at 0x7fbfc9e3f860>,\n",
       " <lcatools.foreground.fragment_flows.FragmentFlow at 0x7fbfc9e3f080>,\n",
       " <lcatools.foreground.fragment_flows.FragmentFlow at 0x7fbfc9e3f358>]"
      ]
     },
     "execution_count": 145,
     "metadata": {},
     "output_type": "execute_result"
    }
   ],
   "source": [
    "ffs"
   ]
  },
  {
   "cell_type": "code",
   "execution_count": 151,
   "metadata": {
    "collapsed": false,
    "scrolled": true
   },
   "outputs": [
    {
     "name": "stdout",
     "output_type": "stream",
     "text": [
      "-<--*   1b76dbd (      1) Transport, pipeline, natural gas\n",
      "    | -<--*   b78ac6f (  0.012) Natural gas, combusted in industrial equipment\n",
      "    |     | -<----: 9ca8b7d (    1.2) Transport, pipeline, natural gas\n",
      "    |     | -<--#   78a3212 (    0.2) Transport, combination truck, average fuel mix\n",
      "    |     | -<--#   dc450e8 (  0.012) Transport, train, diesel powered\n",
      "    |     | -<---C  e038531 (      1) Natural gas, processed, at plant\n",
      "    |     x \n",
      "    x \n"
     ]
    }
   ],
   "source": [
    "F.draw_fragment(F.frag('1b7'))"
   ]
  },
  {
   "cell_type": "code",
   "execution_count": 158,
   "metadata": {
    "collapsed": false
   },
   "outputs": [
    {
     "name": "stdout",
     "output_type": "stream",
     "text": [
      "-<--*   68d264d (      1) Transport, combination truck, average fuel mix\n",
      "    | -<--#   cf3ed88 (      1) Transport, combination truck, diesel powered\n",
      "    x \n"
     ]
    }
   ],
   "source": [
    "F.draw_fragment(F.frag('78a').term.term_node)"
   ]
  },
  {
   "cell_type": "code",
   "execution_count": 159,
   "metadata": {
    "collapsed": false
   },
   "outputs": [
    {
     "name": "stdout",
     "output_type": "stream",
     "text": [
      "-<--*   114c1d5 (      1) Transport, combination truck, diesel powered\n",
      "    | -<---C  4b85d4b (  0.027) Diesel, at refinery\n",
      "    x \n"
     ]
    }
   ],
   "source": [
    "F.draw_fragment(F.frag('cf3').term.term_node)"
   ]
  },
  {
   "cell_type": "code",
   "execution_count": 174,
   "metadata": {
    "collapsed": false
   },
   "outputs": [
    {
     "name": "stdout",
     "output_type": "stream",
     "text": [
      "0          0          1b76dbd          1 [ Input] -#  Transport, pipeline, natural gas\n",
      "1.51e-05   0.00125    b78ac6f     0.0121 [ Input] -#  Natural gas, combusted in industrial equipment\n",
      "           --         78a3212    0.00241 [ Input] -#  Transport, combination truck, average fuel mix\n",
      "0          0          68d264d    0.00241 [ Input] -#  Transport, combination truck, average fuel mix\n",
      "           --         cf3ed88    0.00241 [ Input] -#  Transport, combination truck, diesel powered\n",
      "1e-06      0.000417   114c1d5    0.00241 [ Input] -#  Transport, combination truck, diesel powered\n",
      "           --         4b85d4b   6.56e-05 [ Input] --: Diesel, at refinery\n",
      "           --         9ca8b7d     0.0144 [ Input] --: Transport, pipeline, natural gas\n",
      "           --         e038531     0.0121 [ Input] --: Natural gas, processed, at plant\n",
      "           --         dc450e8   0.000144 [ Input] -#  Transport, train, diesel powered\n",
      "5.39e-08   0.000374   e7ace8c   0.000144 [ Input] -#  Transport, train, diesel powered\n",
      "           --         0183c1a   9.33e-07 [ Input] --: Diesel, at refinery\n",
      "1.62e-05   Total\n"
     ]
    }
   ],
   "source": [
    "tot = 0.0\n",
    "for f in ffs:\n",
    "    if f.term.score_cache(q) is None:\n",
    "        score = '--'\n",
    "        total = ' '\n",
    "    else:\n",
    "        scr = f.term.score_cache(q).total()\n",
    "        score = '%-10.3g' % scr\n",
    "        total = '%-10.3g' % (scr * f.node_weight)\n",
    "        tot += (scr * f.node_weight)\n",
    "    print('%-10.10s %-10.10s %s' % (total, score, f))\n",
    "print('%-10.3g Total' % tot)\n",
    "            "
   ]
  },
  {
   "cell_type": "code",
   "execution_count": 183,
   "metadata": {
    "collapsed": false
   },
   "outputs": [
    {
     "data": {
      "text/plain": [
       "['    0.1985 Transport, combination truck, average fuel mix [Truck Transportation, General Freight Trucking]',\n",
       " '         1 Natural gas, processed, at plant [Chemical Manufacturing, Petrochemical Manufacturing]',\n",
       " '  0.011858 Transport, train, diesel powered [Rail Transportation, Rail Transportation]',\n",
       " '     1.186 Transport, pipeline, natural gas [Utilities, Fossil Fuel Electric Power Generation]',\n",
       " '         1 Natural gas, combusted in industrial equipment [Utilities, Steam and Air-Conditioning Supply]']"
      ]
     },
     "execution_count": 183,
     "metadata": {},
     "output_type": "execute_result"
    }
   ],
   "source": [
    "['%10.6g %s' % (x.value, x.flow) for x in F.db.filter_exch(F.frag('b78').term.term_node, elem=False)]"
   ]
  },
  {
   "cell_type": "code",
   "execution_count": 184,
   "metadata": {
    "collapsed": false
   },
   "outputs": [
    {
     "data": {
      "text/plain": [
       "[' 0.0121378 Natural gas, combusted in industrial equipment [Utilities, Steam and Air-Conditioning Supply]',\n",
       " '         1 Transport, pipeline, natural gas [Utilities, Fossil Fuel Electric Power Generation]']"
      ]
     },
     "execution_count": 184,
     "metadata": {},
     "output_type": "execute_result"
    }
   ],
   "source": [
    "['%10.6g %s' % (x.value, x.flow) for x in F.db.filter_exch(F.frag('1b7').term.term_node, elem=False)]"
   ]
  },
  {
   "cell_type": "code",
   "execution_count": 220,
   "metadata": {
    "collapsed": false
   },
   "outputs": [
    {
     "data": {
      "text/plain": [
       "0.012315137987012987"
      ]
     },
     "execution_count": 220,
     "metadata": {},
     "output_type": "execute_result"
    }
   ],
   "source": [
    "(.0121378 )/ (1.0 - .0144)"
   ]
  },
  {
   "cell_type": "code",
   "execution_count": 191,
   "metadata": {
    "collapsed": false
   },
   "outputs": [
    {
     "data": {
      "text/plain": [
       "'/home/b/Dropbox/data/USLCI/USLCI_Processes_ecospold1.zip'"
      ]
     },
     "execution_count": 191,
     "metadata": {},
     "output_type": "execute_result"
    }
   ],
   "source": [
    "F.frag('1b7').term.term_flow.origin"
   ]
  },
  {
   "cell_type": "code",
   "execution_count": 157,
   "metadata": {
    "collapsed": false
   },
   "outputs": [
    {
     "data": {
      "text/plain": [
       "{'fragment': <lcatools.foreground.fragment_flows.LcFragment at 0x7fbfcc92b860>,\n",
       " 'is_conserved': False,\n",
       " 'magnitude': 0.0121378329004437,\n",
       " 'node_weight': 0.0121378329004437,\n",
       " 'term': <lcatools.foreground.fragment_flows.FlowTermination at 0x7fbfc9cdfa90>}"
      ]
     },
     "execution_count": 157,
     "metadata": {},
     "output_type": "execute_result"
    }
   ],
   "source": [
    "ffs[1].__dict__"
   ]
  },
  {
   "cell_type": "code",
   "execution_count": 156,
   "metadata": {
    "collapsed": false
   },
   "outputs": [
    {
     "name": "stdout",
     "output_type": "stream",
     "text": [
      "Elementary exchanges:\n",
      "Output:     [0.000138 [kg]] Carbon dioxide, fossil  [air, unspecified]\n",
      "Output:     [0.00457 [kg]] Methane, fossil [air, unspecified]\n"
     ]
    }
   ],
   "source": [
    "F.elementary(ffs[0].term.term_node)"
   ]
  },
  {
   "cell_type": "code",
   "execution_count": 192,
   "metadata": {
    "collapsed": false
   },
   "outputs": [
    {
     "name": "stdout",
     "output_type": "stream",
     "text": [
      "(N)ew flow or (S)earch for flow? N\n",
      "Enter flow name: something that requires gas transport\n",
      "Enter CAS number (or none):  []: \n",
      "Choose reference quantity: \n",
      "\n",
      "Choice Item\n",
      "====== ======================================================================\n",
      " [0]   (30) (none)\n",
      " [1]   (4) ILCD2011\n",
      " [2]   (4) ILCD2011; ReCiPe2008\n",
      "  (D)  done (keep all)\n",
      "------ ----------------------------------------------------------------------\n",
      "Grouped by Method\n",
      "Enter choice (or \"None\"): 0\n",
      "(0, None)\n",
      "(selecting only choice (none))\n",
      "\n",
      "Select item: \n",
      "\n",
      "Choice Item\n",
      "====== ======================================================================\n",
      " [ 0]  Area\n",
      " [ 1]  Area*time\n",
      " [ 2]  Carbon content (biogenic)\n",
      " [ 3]  Carbon content (fossil)\n",
      " [ 4]  Duration\n",
      " [ 5]  EcoSpold Quantity MJ\n",
      " [ 6]  EcoSpold Quantity kWh\n",
      " [ 7]  EcoSpold Quantity kg\n",
      " [ 8]  EcoSpold Quantity l\n",
      " [ 9]  EcoSpold Quantity m3\n",
      " [10]  EcoSpold Quantity t*km\n",
      " [11]  Energy from renewable raw materials (net cal. value)\n",
      " [12]  Energy renewable and non renewable (gross calorific value)\n",
      " [13]  Energy renewable and non renewable (net calorific value)\n",
      " [14]  Exergy\n",
      " [15]  Goods transport (mass*distance)\n",
      " [16]  Gross calorific value\n",
      " [17]  Hydrogen content (mass)\n",
      " [18]  Length\n",
      " [19]  Market value US 2000, bulk prices\n",
      " [20]  Mass\n",
      " [21]  Net calorific value\n",
      " [22]  Normal Volume\n",
      " [23]  Number of items\n",
      " [24]  Person transport\n",
      " [25]  Price\n",
      " [26]  Recycled content (mass)\n",
      " [27]  Vehicle transport\n",
      " [28]  Volume\n",
      " [29]  Water content (mass)\n",
      "------ ----------------------------------------------------------------------\n",
      "Enter choice (or \"None\"): 23\n",
      "Choose compartment:\n",
      "Enter comment: dummy test flow\n",
      "\n",
      "Choice Item\n",
      "====== ======================================================================\n",
      " [0]   Elementary Flows\n",
      " [1]   Intermediate Flows\n",
      "  (C)  Cancel\n",
      "------ ----------------------------------------------------------------------\n",
      "Enter choice (or \"None\"): 1\n",
      "subcompartments of Intermediate Flows:\n",
      "\n",
      "Choice Item\n",
      "====== ======================================================================\n",
      " [ 0]  Air Transportation\n",
      " [ 1]  Biofuels Manufacturing\n",
      " [ 2]  By-product classification: Recyclable\n",
      " [ 3]  By-product classification: Waste\n",
      " [ 4]  By-product classification: allocatable product\n",
      " [ 5]  CPC: 17100: Electrical energy\n",
      " [ 6]  CPC: 37510: Non-refractory mortars and concretes\n",
      " [ 7]  CUTOFF Flows\n",
      " [ 8]  Chemical Manufacturing\n",
      " [ 9]  Crop Production\n",
      " [10]  Deposited goods\n",
      " [11]  Ecoinvent\n",
      " [12]  Elec. Equip., Appliance, and Comp. Manufacturing\n",
      " [13]  End-of-life treatment\n",
      " [14]  Energy carriers and technologies\n",
      " [15]  Fabricated Metal Product Manufacturing\n",
      " [16]  Forestry and Logging\n",
      " [17]  ISIC rev.4 ecoinvent: 012:Growing of perennial crops\n",
      " [18]  Intermediate flow\n",
      " [19]  Materials production\n",
      " [20]  Mining (except Oil and Gas)\n",
      " [21]  Nonmetallic Mineral Product Manufacturing\n",
      " [22]  Oil and Gas Extraction\n",
      " [23]  Others\n",
      " [24]  Paper Manufacturing\n",
      " [25]  Petroleum and Coal Products Manufacturing\n",
      " [26]  Plastics and Rubber Products Manufacturing\n",
      " [27]  Primary Metal Manufacturing\n",
      " [28]  Production residues in life cycle\n",
      " [29]  Rail Transportation\n",
      " [30]  Systems\n",
      " [31]  Transit and Ground Passenger Transportation\n",
      " [32]  Transport services\n",
      " [33]  Transportation Equipment Manufacturing\n",
      " [34]  Truck Transportation\n",
      " [35]  US LCI Database\n",
      " [36]  Utilities\n",
      " [37]  Valuable substances\n",
      " [38]  Waste Management and Remediation Services\n",
      " [39]  Wastes\n",
      " [40]  Water Transportation\n",
      " [41]  Wood Product Manufacturing\n",
      " [42]  economic\n",
      " [43]  final-waste-flow\n",
      " [44]  non-material\n",
      " [45]  others\n",
      "  (K)  Keep \"Intermediate Flows\"\n",
      "------ ----------------------------------------------------------------------\n",
      "Enter choice (or \"None\"): K\n",
      "flow is (I)nput or (O)utput?O\n",
      "Enter comment:  []: fragment comment\n",
      "LcFragment - Name: something that requires gas transport:\n"
     ]
    }
   ],
   "source": [
    "fnew = create_fragment()"
   ]
  },
  {
   "cell_type": "code",
   "execution_count": 198,
   "metadata": {
    "collapsed": false
   },
   "outputs": [],
   "source": [
    "F.terminate_to_foreground(fnew)"
   ]
  },
  {
   "cell_type": "code",
   "execution_count": 212,
   "metadata": {
    "collapsed": false
   },
   "outputs": [
    {
     "name": "stdout",
     "output_type": "stream",
     "text": [
      "(N)ew flow or (S)earch for flow? s\n",
      "\n",
      "LCA Catalog with the following archives:\n",
      "X [ 0] FG     : ForegroundArchive with 169 entities at pet\n",
      "  [ 1] ELCD   : /data/LCI/ELCD/ELCD3.2.zip\n",
      "X [ 2] LCIA   : IlcdLcia with 33957 entities at /home/b/Dropbox/data/ELCD/ELCD3.2-a.zip\n",
      "  [ 3] EI-LCIA: /data/GitHub/lca-tools-datafiles/catalogs/ei_lcia.json.gz\n",
      "  [ 4] EI-U   : /data/GitHub/lca-tools-datafiles/catalogs/ecoinvent_3.2_undefined_xlsx.json.gz\n",
      "  [ 5] EI_A   : /data/GitHub/lca-tools-datafiles/catalogs/ecoinvent_3.2_apos_xlsx.json.gz\n",
      "  [ 6] EI_Q   : /data/GitHub/lca-tools-datafiles/catalogs/ecoinvent_3.2_consequential_xlsx.json.gz\n",
      "  [ 7] EI_C   : /data/GitHub/lca-tools-datafiles/catalogs/ecoinvent_3.2_cut-off_xlsx.json.gz\n",
      "X [ 8] USLCI  : EcospoldV1Archive with 4896 entities at /home/b/Dropbox/data/USLCI/USLCI_Processes_ecospold1.zip\n",
      "  [ 9] GaBi-P : /data/GitHub/lca-tools-datafiles/catalogs/gabi_2016_professional-database-2016.json.gz\n",
      "  [10] GaBi-X : /data/GitHub/lca-tools-datafiles/catalogs/gabi_2016_all-extensions.json.gz\n",
      "Search which catalog? or blank to search all loaded catalogs0\n",
      "(I)ntermediate, (E)lementary, or (A)ll flows?  [aei] [I]: \n",
      "Enter flow name search string: transport\n",
      "10 results; choose by compartment:\n",
      "\n",
      "Choice Item\n",
      "====== ======================================================================\n",
      " [0]   (3) Water Transportation\n",
      " [1]   (2) Truck Transportation\n",
      " [2]   (2) Utilities\n",
      " [3]   (1) (none)\n",
      " [4]   (1) CUTOFF Flows\n",
      " [5]   (1) Rail Transportation\n",
      "  (D)  done (keep all)\n",
      "------ ----------------------------------------------------------------------\n",
      "Enter choice (or \"None\"): 2\n",
      "(2, None)\n",
      "(selecting only choice Fossil Fuel Electric Power Generation)\n",
      "\n",
      "Select item: \n",
      "\n",
      "Choice Item\n",
      "====== ======================================================================\n",
      " [0]   (FG) {f} Transport, pipeline, natural gas [Utilities, Fossil Fuel Electric Power Generation]\n",
      " [1]   (FG) {f} Transport, pipeline, unspecified petroleum products [Utilities, Fossil Fuel Electric Power Generation]\n",
      "------ ----------------------------------------------------------------------\n",
      "Enter choice (or \"None\"): 0\n",
      "Picked: (FG) {f} Transport, pipeline, natural gas [Utilities, Fossil Fuel Electric Power Generation]\n",
      "flow is (I)nput or (O)utput?I\n",
      "Enter comment:  []: node weight should get scaled\n",
      "LcFragment - Name: Transport, pipeline, natural gas:\n"
     ]
    }
   ],
   "source": [
    "fnew2 = create_fragment(fnew)"
   ]
  },
  {
   "cell_type": "code",
   "execution_count": 216,
   "metadata": {
    "collapsed": false
   },
   "outputs": [
    {
     "name": "stdout",
     "output_type": "stream",
     "text": [
      "-<--O   410a96e (      1) something that requires gas transport\n",
      "    | -<--#   6c6ec01 (      1) Transport, pipeline, natural gas\n",
      "    |     | -<---C  b984568 (  0.012) Natural gas, processed, at plant\n",
      "    |     | -<---C  8b9f144 (6.7e-05) Diesel, at refinery\n",
      "    |     x \n",
      "    x \n"
     ]
    }
   ],
   "source": [
    "F.draw_fragment(fnew)"
   ]
  },
  {
   "cell_type": "code",
   "execution_count": 219,
   "metadata": {
    "collapsed": false
   },
   "outputs": [
    {
     "data": {
      "text/plain": [
       "0.01231511476334841"
      ]
     },
     "execution_count": 219,
     "metadata": {},
     "output_type": "execute_result"
    }
   ],
   "source": [
    "F.frag('b98').exchange_value(0)"
   ]
  },
  {
   "cell_type": "code",
   "execution_count": 214,
   "metadata": {
    "collapsed": true
   },
   "outputs": [],
   "source": [
    "F.frag('6c6e').terminate(F.frag('1b7'))"
   ]
  },
  {
   "cell_type": "code",
   "execution_count": 215,
   "metadata": {
    "collapsed": false
   },
   "outputs": [
    {
     "name": "stdout",
     "output_type": "stream",
     "text": [
      "descending\n",
      "descending\n",
      "descending\n",
      "LcFragment - Name: Natural gas, processed, at plant:\n",
      "LcFragment - Name: Diesel, at refinery:\n"
     ]
    },
    {
     "data": {
      "text/plain": [
       "[<lcatools.foreground.fragment_flows.LcFragment at 0x7fbfc15d7400>,\n",
       " <lcatools.foreground.fragment_flows.LcFragment at 0x7fbfc14fb550>]"
      ]
     },
     "execution_count": 215,
     "metadata": {},
     "output_type": "execute_result"
    }
   ],
   "source": [
    "F.build_child_flows(F.frag('6c6e'))"
   ]
  },
  {
   "cell_type": "code",
   "execution_count": 146,
   "metadata": {
    "collapsed": true
   },
   "outputs": [],
   "source": [
    "R = traversal_to_lcia(ffs)"
   ]
  },
  {
   "cell_type": "code",
   "execution_count": 147,
   "metadata": {
    "collapsed": false
   },
   "outputs": [
    {
     "name": "stdout",
     "output_type": "stream",
     "text": [
      "LCIA Results\n",
      "------------------------------------------------------------\n",
      "9.1944e-05 ILCD2011; Eutrophication terrestrial; midpoint; Accumulated Exceedance; Seppala et al 2006, Posch et al 2008 [LCIA]\n",
      "6.8058e-05 ILCD2011; Photochemical ozone formation; midpoint - human health; POCP; Van Zelm et al. (2008) [LCIA]\n",
      "8.3958e-06 ILCD2011; Eutrophication marine; midpoint; N equivalents; ReCiPe [LCIA]\n",
      "   0.13836 ILCD2011; Climate change; midpoint; GWP100; IPCC2007 [LCIA]\n",
      " 1.612e-07 ILCD2011; Respiratory inorganics; midpoint; PM2.5eq; Rabl and Spadaro 2004-Greco et al 2007 [LCIA]\n",
      "         0 ILCD2011; Land use; midpoint; SOM loss; Mila i Canals et al. (2007) [LCIA]\n",
      "1.6189e-05 ILCD2011; Acidification terrestrial and freshwater; midpoint; Accumulated Exceedance; Seppälä et al. 2006, Posch et al. 2008 [LCIA]\n",
      "         0 ILCD2011; Eutrophication freshwater; midpoint; P equivalents; ReCiPe [LCIA]\n"
     ]
    }
   ],
   "source": [
    "lcatools.show_lcia(R)"
   ]
  },
  {
   "cell_type": "code",
   "execution_count": 148,
   "metadata": {
    "collapsed": false
   },
   "outputs": [
    {
     "name": "stdout",
     "output_type": "stream",
     "text": [
      "ILCD2011; Acidification terrestrial and freshwater; midpoint; Accumulated Exceedance; Seppälä et al. 2006, Posch et al. 2008 [LCIA] mol\n",
      "------------------------------------------------------------\n",
      "============================================================\n",
      "             Total score: 0 \n",
      "  0.000144 x   0.000374 =   5.39e-08 [RNA] Transport, train, diesel powered [Rail Transportation, Rail Transportation]\n",
      "============================================================\n",
      "             Total score: 5.38937e-08 \n",
      "    0.0121 x    0.00125 =   1.51e-05 [RNA] Natural gas, combusted in industrial equipment [Utilities, Steam and Air-Conditioning Supply]\n",
      "============================================================\n",
      "             Total score: 1.51304e-05 \n",
      "   0.00241 x   0.000417 =      1e-06 [RNA] Transport, combination truck, diesel powered [Truck Transportation, General Freight Trucking]\n",
      "============================================================\n",
      "             Total score: 1.00453e-06 \n",
      "============================================================\n",
      "             Total score: 0 \n",
      "  1.62e-05 ILCD2011; Acidification terrestrial and freshwater; midpoint; Accumulated Exceedance; Seppälä et al. 2006, Posch et al. 2008 [LCIA]\n"
     ]
    }
   ],
   "source": [
    "R[q.get_uuid()].show_details()"
   ]
  },
  {
   "cell_type": "code",
   "execution_count": 149,
   "metadata": {
    "collapsed": false
   },
   "outputs": [
    {
     "name": "stdout",
     "output_type": "stream",
     "text": [
      "ILCD2011; Acidification terrestrial and freshwater; midpoint; Accumulated Exceedance; Seppälä et al. 2006, Posch et al. 2008 [LCIA] mol\n",
      "------------------------------------------------------------\n",
      "  1.51e-05 (1b76dbd) -<- b78ac6f -<- -*    Natural gas, combusted in industrial equipment\n",
      "     1e-06 ( ** ref) -<- 114c1d5 -<- -*    Transport, combination truck, diesel powered\n",
      "  5.39e-08 ( ** ref) -<- e7ace8c -<- -*    Transport, train, diesel powered\n",
      "         0 ( ** ref) -<- 68d264d -<- -*    Transport, combination truck, average fuel mix\n",
      "         0 ( ** ref) -<- 1b76dbd -<- -*    Transport, pipeline, natural gas\n",
      "==========\n",
      "  1.62e-05 ILCD2011; Acidification terrestrial and freshwater; midpoint; Accumulated Exceedance; Seppälä et al. 2006, Posch et al. 2008 [LCIA]\n"
     ]
    }
   ],
   "source": [
    "R[q.get_uuid()].show_components()"
   ]
  },
  {
   "cell_type": "code",
   "execution_count": 116,
   "metadata": {
    "collapsed": false
   },
   "outputs": [
    {
     "data": {
      "text/plain": [
       "'ILCD2011; Acidification terrestrial and freshwater; midpoint; Accumulated Exceedance; Seppälä et al. 2006, Posch et al. 2008 [LCIA]'"
      ]
     },
     "execution_count": 116,
     "metadata": {},
     "output_type": "execute_result"
    }
   ],
   "source": [
    "str(q)"
   ]
  },
  {
   "cell_type": "code",
   "execution_count": 119,
   "metadata": {
    "collapsed": false
   },
   "outputs": [
    {
     "name": "stdout",
     "output_type": "stream",
     "text": [
      "-<--*   1b76dbd (      1) Transport, pipeline, natural gas\n",
      "    | -<--*   b78ac6f (  0.012) Natural gas, combusted in industrial equipment\n",
      "    |     | -<----: 9ca8b7d (    1.2) Transport, pipeline, natural gas\n",
      "    |     | -<--#   78a3212 (    0.2) Transport, combination truck, average fuel mix\n",
      "    |     | -<--#   dc450e8 (  0.012) Transport, train, diesel powered\n",
      "    |     | -<---C  e038531 (      1) Natural gas, processed, at plant\n",
      "    |     x \n",
      "    x \n"
     ]
    }
   ],
   "source": [
    "F.draw_fragment(F.frag('1b7'))"
   ]
  },
  {
   "cell_type": "code",
   "execution_count": 140,
   "metadata": {
    "collapsed": false
   },
   "outputs": [
    {
     "name": "stdout",
     "output_type": "stream",
     "text": [
      "ILCD2011; Acidification terrestrial and freshwater; midpoint; Accumulated Exceedance; Seppälä et al. 2006, Posch et al. 2008 [LCIA] mol\n",
      "------------------------------------------------------------\n",
      "  1.51e-05 (1b76dbd) -<- b78ac6f -<- -*    Natural gas, combusted in industrial equipment\n",
      "     1e-06 ( ** ref) -<- 114c1d5 -<- -*    Transport, combination truck, diesel powered\n",
      "  5.39e-08 ( ** ref) -<- e7ace8c -<- -*    Transport, train, diesel powered\n",
      "         0 ( ** ref) -<- 68d264d -<- -*    Transport, combination truck, average fuel mix\n",
      "         0 ( ** ref) -<- 1b76dbd -<- -*    Transport, pipeline, natural gas\n",
      "==========\n",
      "  1.62e-05 ILCD2011; Acidification terrestrial and freshwater; midpoint; Accumulated Exceedance; Seppälä et al. 2006, Posch et al. 2008 [LCIA]\n"
     ]
    }
   ],
   "source": [
    "R[q.get_uuid()].show_components()"
   ]
  },
  {
   "cell_type": "code",
   "execution_count": 120,
   "metadata": {
    "collapsed": false
   },
   "outputs": [
    {
     "name": "stdout",
     "output_type": "stream",
     "text": [
      "-<--*   68d264d (      1) Transport, combination truck, average fuel mix\n",
      "    | -<--#   cf3ed88 (      1) Transport, combination truck, diesel powered\n",
      "    x \n"
     ]
    }
   ],
   "source": [
    "F.draw_fragment(F.frag('68d'))"
   ]
  },
  {
   "cell_type": "code",
   "execution_count": 136,
   "metadata": {
    "collapsed": false
   },
   "outputs": [],
   "source": [
    "R = F.fg_lcia(F.frag('114').term.term_node)"
   ]
  },
  {
   "cell_type": "code",
   "execution_count": 137,
   "metadata": {
    "collapsed": false
   },
   "outputs": [
    {
     "name": "stdout",
     "output_type": "stream",
     "text": [
      "ILCD2011; Acidification terrestrial and freshwater; midpoint; Accumulated Exceedance; Seppälä et al. 2006, Posch et al. 2008 [LCIA] mol\n",
      "------------------------------------------------------------\n",
      "  0.000532 x       0.74 =   0.000394 [GLO] Nitrogen oxides  [air, unspecified]\n",
      "  1.76e-05 x       1.31 =    2.3e-05 [GLO] Sulfur oxides [air, unspecified]\n",
      "============================================================\n",
      "             Total score: 0.00041693 \n",
      "  0.000417 ILCD2011; Acidification terrestrial and freshwater; midpoint; Accumulated Exceedance; Seppälä et al. 2006, Posch et al. 2008 [LCIA]\n"
     ]
    }
   ],
   "source": [
    "R[q.get_uuid()].show_details()"
   ]
  },
  {
   "cell_type": "code",
   "execution_count": 132,
   "metadata": {
    "collapsed": false
   },
   "outputs": [],
   "source": [
    "for f in F[0].fragments(show_all=True):\n",
    "    f.term.clear_score_cache()"
   ]
  },
  {
   "cell_type": "code",
   "execution_count": 133,
   "metadata": {
    "collapsed": false
   },
   "outputs": [
    {
     "name": "stdout",
     "output_type": "stream",
     "text": [
      "All characterizations have the same value- picking first one\n",
      "All characterizations have the same value- picking first one\n",
      "All characterizations have the same value- picking first one\n",
      "CPU times: user 200 ms, sys: 0 ns, total: 200 ms\n",
      "Wall time: 200 ms\n"
     ]
    }
   ],
   "source": [
    "%time F.compute_unit_scores()"
   ]
  },
  {
   "cell_type": "code",
   "execution_count": 134,
   "metadata": {
    "collapsed": false
   },
   "outputs": [
    {
     "name": "stdout",
     "output_type": "stream",
     "text": [
      "ILCD2011; Acidification terrestrial and freshwater; midpoint; Accumulated Exceedance; Seppälä et al. 2006, Posch et al. 2008 [LCIA] mol\n",
      "------------------------------------------------------------\n",
      "         1 x   0.000417 =   0.000417 [RNA] Transport, combination truck, diesel powered [Truck Transportation, General Freight Trucking]\n",
      "============================================================\n",
      "             Total score: 0.00041693 \n",
      "  0.000417 ILCD2011; Acidification terrestrial and freshwater; midpoint; Accumulated Exceedance; Seppälä et al. 2006, Posch et al. 2008 [LCIA]\n"
     ]
    }
   ],
   "source": [
    "F.fragment_lcia(F.frag('114'))[q.get_uuid()].show_details()"
   ]
  },
  {
   "cell_type": "code",
   "execution_count": 124,
   "metadata": {
    "collapsed": true
   },
   "outputs": [],
   "source": [
    "from lcatools.foreground.fragment_flows import traversal_to_lcia"
   ]
  },
  {
   "cell_type": "code",
   "execution_count": 125,
   "metadata": {
    "collapsed": false
   },
   "outputs": [
    {
     "name": "stdout",
     "output_type": "stream",
     "text": [
      "( ** ref) -<- d002717 -<- -*    Acetic acid, at plant\n",
      "( ** ref) -<- cd48c3a -<- -*    Transport, barge, diesel powered\n",
      "( ** ref) -<- e7ace8c -<- -*    Transport, train, diesel powered\n",
      "( ** ref) -<- 2c8ba87 -<- -*    Transport, barge, average fuel mix\n",
      "( ** ref) -<- 114c1d5 -<- -*    Transport, combination truck, diesel powered\n",
      "( ** ref) -<- 0a4588e -<- -*    Transport, barge, residual fuel oil powered\n",
      "( ** ref) -<- 1b76dbd -<- -*    Transport, pipeline, natural gas\n",
      "( ** ref) -<- 68d264d -<- -*    Transport, combination truck, average fuel mix\n",
      "( ** ref) -<- f2118f0 -<- -*    Transport, pipeline, unspecified petroleum products\n",
      "( ** ref) -<- 0c44dc5 -<- -*    Polyethylene terephthalate, resin, at plant\n",
      "((B) ref) -<- 5dfdb2f -<- ---:  Bituminous coal, at mine\n",
      "((B) ref) -<- 0f4d896 -<- ---:  CUTOFF Transport, pipeline, coal slurry\n",
      "((B) ref) -<- a8a990e -<- ---:  CUTOFF Disposal, solid waste, unspecified, to unspecified treatment\n",
      "((B) ref) -<- 6f3a5da -<- ---:  CUTOFF Disposal, solid waste, unspecified, to waste-to-energy\n",
      "((B) ref) -<- 0435524 -<- ---:  Electricity, at cogen, for natural gas turbine\n",
      "((B) ref) =>= 5d4787c =>= ---:  Recovered energy, at acetic acid production\n",
      "((B) ref) =>= 4241562 =>= ---:  Recovered energy\n",
      "((B) ref) -<- 3976649 -<- ---:  CUTOFF Disposal, solid waste, unspecified, to sanitary landfill\n",
      "((B) ref) -<- e436896 -<- ---:  Diesel, at refinery\n",
      "((B) ref) -<- 86c34c7 -<- ---:  Electricity, at grid, US, 2000\n",
      "((B) ref) -<- 4d264ea -<- ---:  Residual fuel oil, at refinery\n",
      "((B) ref) -<- f892bf8 -<- ---:  Methanol, at plant\n",
      "((B) ref) -<- 8430bad -<- ---:  Electricity, at grid, US, 2008\n",
      "((B) ref) -<- 7b2c550 -<- ---:  CUTOFF Disposal, ash and flue gas desulfurization sludge, to unspecified reuse\n",
      "((B) ref) -<- a628321 -<- ---:  CUTOFF Disposal, solid waste, unspecified, to municipal incineration\n",
      "((B) ref) -<- 278d2e1 -<- ---:  Natural gas, processed, at plant\n"
     ]
    }
   ],
   "source": [
    "F.show_fragments()"
   ]
  },
  {
   "cell_type": "code",
   "execution_count": 94,
   "metadata": {
    "collapsed": false
   },
   "outputs": [
    {
     "data": {
      "text/plain": [
       "['4b85d4b   6.56e-05 [ Input] --: Diesel, at refinery',\n",
       " '9ca8b7d     0.0144 [ Input] --: Transport, pipeline, natural gas',\n",
       " 'e038531     0.0121 [ Input] --: Natural gas, processed, at plant',\n",
       " '0183c1a   9.33e-07 [ Input] --: Diesel, at refinery']"
      ]
     },
     "execution_count": 94,
     "metadata": {},
     "output_type": "execute_result"
    }
   ],
   "source": [
    "[str(x) for x in ffs]"
   ]
  },
  {
   "cell_type": "code",
   "execution_count": 109,
   "metadata": {
    "collapsed": false
   },
   "outputs": [
    {
     "data": {
      "text/plain": [
       "['0.0123 Input Natural gas, processed, at plant [Chemical Manufacturing, Petrochemical Manufacturing]',\n",
       " '6.75e-05 Input Diesel, at refinery [Petroleum and Coal Products Manufacturing, Petroleum Refineries]']"
      ]
     },
     "execution_count": 109,
     "metadata": {},
     "output_type": "execute_result"
    }
   ],
   "source": [
    "['%6.3g %s %s' % (z.value, z.direction, z.flow) for z in ios]"
   ]
  },
  {
   "cell_type": "code",
   "execution_count": 217,
   "metadata": {
    "collapsed": false
   },
   "outputs": [
    {
     "data": {
      "text/plain": [
       "6.6533e-05"
      ]
     },
     "execution_count": 217,
     "metadata": {},
     "output_type": "execute_result"
    }
   ],
   "source": [
    "(6.56e-5 + 9.33e-7) / (1 - 0)"
   ]
  },
  {
   "cell_type": "code",
   "execution_count": 105,
   "metadata": {
    "collapsed": false
   },
   "outputs": [
    {
     "data": {
      "text/plain": [
       "6.749702035026239e-05"
      ]
     },
     "execution_count": 105,
     "metadata": {},
     "output_type": "execute_result"
    }
   ],
   "source": [
    "ios[1].value"
   ]
  },
  {
   "cell_type": "code",
   "execution_count": null,
   "metadata": {
    "collapsed": true
   },
   "outputs": [],
   "source": [
    "f."
   ]
  },
  {
   "cell_type": "code",
   "execution_count": 53,
   "metadata": {
    "collapsed": false
   },
   "outputs": [
    {
     "data": {
      "text/plain": [
       "{16}"
      ]
     },
     "execution_count": 53,
     "metadata": {},
     "output_type": "execute_result"
    }
   ],
   "source": [
    "F.find_flowable('Nitrogen oxides     '.strip())"
   ]
  },
  {
   "cell_type": "code",
   "execution_count": 47,
   "metadata": {
    "collapsed": false
   },
   "outputs": [
    {
     "data": {
      "text/plain": [
       "set()"
      ]
     },
     "execution_count": 47,
     "metadata": {},
     "output_type": "execute_result"
    }
   ],
   "source": [
    "fb"
   ]
  },
  {
   "cell_type": "code",
   "execution_count": 41,
   "metadata": {
    "collapsed": false
   },
   "outputs": [],
   "source": [
    "cm = F.db.find_matching_compartment(['Emissions to air'])"
   ]
  },
  {
   "cell_type": "code",
   "execution_count": 22,
   "metadata": {
    "collapsed": false
   },
   "outputs": [
    {
     "name": "stdout",
     "output_type": "stream",
     "text": [
      "-<--*   0c44dc5 (      1) Polyethylene terephthalate, resin, at plant\n",
      "    | -<----: db326b6 (   0.32) CUTOFF Ethylene glycol, at plant\n",
      "    | -<----: 123d445 (   0.52) Paraxylene, at plant\n",
      "    | -<--#   7771ba3 (    1.6) Transport, train, diesel powered\n",
      "    | -<--*   a95908c (  0.019) Bituminous coal, combusted in industrial boiler\n",
      "    |     | -<--#   c1f3eea (      1) Transport, train, diesel powered\n",
      "    |     | -<--#   7dde672 ( 0.0068) Transport, combination truck, diesel powered\n",
      "    |     | -<--#   f578071 (   0.13) Transport, barge, average fuel mix\n",
      "    |     | -<---C  630f118 (      1) Bituminous coal, at mine\n",
      "    |     | -<---C  2728068 (  0.079) CUTOFF Disposal, ash and flue gas desulfurization sludge, to unspecified reuse\n",
      "    |     | -<---C  a4252ab (  0.005) CUTOFF Transport, pipeline, coal slurry\n",
      "    |     | -<---C  c4b018b (  0.062) CUTOFF Disposal, solid waste, unspecified, to unspecified treatment\n",
      "    |     x \n",
      "    | -<--*   4f772f2 (  0.027) Residual fuel oil, combusted in industrial boiler\n",
      "    |     | -<--#   d4536a2 (  0.028) Transport, barge, average fuel mix\n",
      "    |     | -<--#   c832f48 ( 0.0052) Transport, combination truck, average fuel mix\n",
      "    |     | -<--#   1873c01 ( 0.0034) Transport, train, diesel powered\n",
      "    |     | -<---C  86eb696 (      1) Residual fuel oil, at refinery\n",
      "    |     | -<---C  81a875c ( 0.0013) CUTOFF Disposal, solid waste, unspecified, to unspecified treatment\n",
      "    |     x \n",
      "    | -<--#   36b17af ( 0.0022) Transport, barge, residual fuel oil powered\n",
      "    | -<--#   50beed1 (8.8e-05) Transport, pipeline, natural gas\n",
      "    | -<--*   1a7d38d (  0.098) Natural gas, combusted in industrial boiler\n",
      "    |     | -<--#   1d85d49 (  0.012) Transport, train, diesel powered\n",
      "    |     | -<--#   27b9787 (    0.2) Transport, combination truck, average fuel mix\n",
      "    |     | -<--#   5bda1ea (    1.2) Transport, pipeline, natural gas\n",
      "    |     | -<---C  407ec33 (      1) Natural gas, processed, at plant\n",
      "    |     x \n",
      "    | -<--#   86f05aa (  0.037) Acetic acid, at plant\n",
      "    | -<--#   53861ab (0.00065) Transport, barge, diesel powered\n",
      "    | -<--*   4083ab8 (  0.013) Diesel, combusted in industrial equipment\n",
      "    |     | -<--#   ddf78b9 (  0.041) Transport, pipeline, unspecified petroleum products\n",
      "    |     | -<--#   1ae7eb5 (  0.028) Transport, barge, average fuel mix\n",
      "    |     | -<--#   56123b5 ( 0.0034) Transport, train, diesel powered\n",
      "    |     | -<--#   e3c3da0 ( 0.0052) Transport, combination truck, average fuel mix\n",
      "    |     | -<---C  3f09d7c (      1) Diesel, at refinery\n",
      "    |     x \n",
      "    | -<---C  89562e6 ( 0.0042) CUTOFF Disposal, solid waste, unspecified, to sanitary landfill\n",
      "    | -<---C  f934eef (   0.56) Electricity, at grid, US, 2008\n",
      "    | -<---C  5905f9f (0.00059) CUTOFF Disposal, solid waste, unspecified, to waste-to-energy\n",
      "    | -<---C  01777cb (0.00031) CUTOFF Disposal, solid waste, unspecified, to municipal incineration\n",
      "    | -<---C  edabcb8 (  0.051) Electricity, at cogen, for natural gas turbine\n",
      "    | -<---C  8ae77e8 (  0.035) Methanol, at plant\n",
      "    | =>=--C  ab205ec (   0.14) Recovered energy\n",
      "    x \n"
     ]
    }
   ],
   "source": [
    "F.draw_fragment(F.frag('0c4'))"
   ]
  },
  {
   "cell_type": "code",
   "execution_count": 21,
   "metadata": {
    "collapsed": false
   },
   "outputs": [
    {
     "name": "stdout",
     "output_type": "stream",
     "text": [
      "LCIA Results\n",
      "------------------------------------------------------------\n",
      "         0 ILCD2011; Eutrophication freshwater; midpoint; P equivalents; ReCiPe [LCIA]\n",
      "         0 ILCD2011; Climate change; midpoint; GWP100; IPCC2007 [LCIA]\n",
      "         0 ILCD2011; Respiratory inorganics; midpoint; PM2.5eq; Rabl and Spadaro 2004-Greco et al 2007 [LCIA]\n",
      "         0 ILCD2011; Eutrophication marine; midpoint; N equivalents; ReCiPe [LCIA]\n",
      "         0 ILCD2011; Eutrophication terrestrial; midpoint; Accumulated Exceedance; Seppala et al 2006, Posch et al 2008 [LCIA]\n",
      "         0 ILCD2011; Acidification terrestrial and freshwater; midpoint; Accumulated Exceedance; Seppälä et al. 2006, Posch et al. 2008 [LCIA]\n",
      "         0 ILCD2011; Land use; midpoint; SOM loss; Mila i Canals et al. (2007) [LCIA]\n",
      "         0 ILCD2011; Photochemical ozone formation; midpoint - human health; POCP; Van Zelm et al. (2008) [LCIA]\n"
     ]
    }
   ],
   "source": [
    "lcatools.show_lcia(F.frag('0c4').term._score_cache)"
   ]
  },
  {
   "cell_type": "code",
   "execution_count": 55,
   "metadata": {
    "collapsed": false
   },
   "outputs": [
    {
     "name": "stdout",
     "output_type": "stream",
     "text": [
      "(selecting only choice)\n",
      "Picked: (USLCI) Acetic acid, at plant [Chemical Manufacturing, All Other Basic Organic Chemical Manufacturing] <- Acetic acid, at plant [RNA]\n",
      "found termination in foreground\n",
      "LcFragment - Name: Methanol, at plant:\n",
      "found termination in foreground\n",
      "LcFragment - Name: Electricity, at cogen, for natural gas turbine:\n",
      "LcFragment - Name: Electricity, at grid, US, 2000:\n",
      "BG: ((B) ref) -<- 86c34c7 -<- ---:  Electricity, at grid, US, 2000\n",
      "created null termination in background\n",
      "found termination in foreground\n",
      "found termination in foreground\n",
      "found termination in foreground\n",
      "LcFragment - Name: Natural gas, combusted in industrial boiler:\n",
      "BG: ((B) ref) -<- 0ac9934 -<- ---:  Natural gas, combusted in industrial boiler\n",
      "created null termination in background\n",
      "found termination in foreground\n",
      "LcFragment - Name: Natural gas, processed, at plant:\n",
      "LcFragment - Name: CUTOFF Disposal, solid waste, unspecified, to sanitary landfill:\n",
      "LcFragment - Name: Recovered energy, at acetic acid production:\n",
      "BG: ((B) ref) =>= 5d4787c =>= ---:  Recovered energy, at acetic acid production\n",
      "created null termination in background\n"
     ]
    }
   ],
   "source": [
    "foreground(F.frag('d00'))"
   ]
  },
  {
   "cell_type": "code",
   "execution_count": 51,
   "metadata": {
    "collapsed": true
   },
   "outputs": [],
   "source": [
    "F.frag('db3').terminate(None)"
   ]
  },
  {
   "cell_type": "code",
   "execution_count": 92,
   "metadata": {
    "collapsed": false
   },
   "outputs": [
    {
     "name": "stdout",
     "output_type": "stream",
     "text": [
      "Saving foreground\n",
      "Catalog file with 11 archives saved to foreground\n"
     ]
    }
   ],
   "source": [
    "F.save()"
   ]
  },
  {
   "cell_type": "code",
   "execution_count": 61,
   "metadata": {
    "collapsed": false
   },
   "outputs": [
    {
     "name": "stdout",
     "output_type": "stream",
     "text": [
      "(selecting only choice)\n",
      "Picked: (USLCI) Natural gas, combusted in industrial boiler [Utilities, Steam and Air-Conditioning Supply] <- Natural gas, combusted in industrial boiler [RNA]\n",
      "found termination in foreground\n",
      "found termination in foreground\n",
      "found termination in foreground\n",
      "LcFragment - Name: Natural gas, processed, at plant:\n"
     ]
    }
   ],
   "source": [
    "for f in F[0].fragments(background=False, show_all=True, match='combus'):\n",
    "     if not f.term.is_null:\n",
    "        if f.term.is_bg:\n",
    "            foreground(f)\n",
    "            # print('%s' % f)\n"
   ]
  },
  {
   "cell_type": "code",
   "execution_count": 73,
   "metadata": {
    "collapsed": false
   },
   "outputs": [
    {
     "name": "stdout",
     "output_type": "stream",
     "text": [
      "Deleting (1f65198) -<- 02514d8 -<- --C   Transport, pipeline, unspecified petroleum products\n",
      "Deleting (1f65198) -<- 3962b4b -<- --C   Natural gas, processed, at plant\n",
      "Deleting (47fe10f) =>= 39b326b =>= --C   Recovered energy\n",
      "Deleting (1f65198) -<- 268cdea -<- -#    Transport, barge, diesel powered\n",
      "Deleting (96aa479) -<- d90abba -<- ---:  Transport, pipeline, natural gas\n",
      "Deleting (a38e842) -<- eb7848f -<- -#    Transport, combination truck, diesel powered\n",
      "Deleting (ba3ce83) -<- 32dd01c -<- --C   Diesel, at refinery\n",
      "Deleting (96aa479) -<- e6b0be5 -<- -#    Transport, combination truck, average fuel mix\n",
      "Deleting (47fe10f) -<- 19250a5 -<- --C   Methanol, at plant\n",
      "Deleting (47fe10f) -<- 4bdce66 -<- --C   CUTOFF Disposal, solid waste, unspecified, to sanitary landfill\n",
      "Deleting (47fe10f) -<- 8bb6f1e -<- --C   Electricity, at cogen, for natural gas turbine\n",
      "Deleting (8ce3823) -<- 459b063 -<- --C   Diesel, at refinery\n",
      "Deleting (47fe10f) -<- ee32fac -<- --C   Natural gas, combusted in industrial boiler\n",
      "Deleting (47fe10f) -<- e3c292d -<- -#    Transport, barge, residual fuel oil powered\n",
      "Deleting (1f65198) -<- ae8f69c -<- --C   Transport, pipeline, natural gas\n",
      "Deleting (1f65198) =>= d292889 =>= --C   Recovered energy, at acetic acid production\n",
      "Deleting (47fe10f) -<- 78bc20d -<- --C   Bituminous coal, combusted in industrial boiler\n",
      "Deleting (1f65198) -<- 85ff3b9 -<- --C   Electricity, at cogen, for natural gas turbine\n",
      "Deleting (47fe10f) -<- 3071e14 -<- --C   Residual fuel oil, combusted in industrial boiler\n",
      "Deleting (96aa479) -<- 0c5ebc8 -<- --C   Natural gas, processed, at plant\n",
      "Deleting (96aa479) -<- 68f3a39 -<- -#    Transport, train, diesel powered\n",
      "Deleting (1f65198) -<- 0e0d80a -<- --C   Methanol, at plant\n",
      "Deleting (1f65198) -<- 952477b -<- --C   Natural gas, combusted in industrial boiler\n",
      "Deleting (47fe10f) -<- f91e8e2 -<- -#    Acetic acid, at plant\n",
      "Deleting (c2305c1) -<- f349f94 -<- --C   Residual fuel oil, at refinery\n",
      "Deleting (47fe10f) -<- 75075de -<- --C   CUTOFF Ethylene glycol, at plant\n",
      "Deleting (1f65198) -<- e16b345 -<- --C   Electricity, at grid, US, 2000\n",
      "Deleting (1f65198) -<- 40cad67 -<- --C   Transport, train, diesel powered\n",
      "Deleting (1f65198) -<- a6cba1f -<- --C   CUTOFF Disposal, solid waste, unspecified, to sanitary landfill\n",
      "Deleting (47fe10f) -<- 5dfa407 -<- -#    Transport, pipeline, natural gas\n",
      "Deleting ( ** ref) -<- c2305c1 -<- -*    Transport, barge, residual fuel oil powered\n",
      "Deleting (1f65198) -<- d5f5f68 -<- --C   Transport, barge, residual fuel oil powered\n",
      "Deleting (47fe10f) -<- 4b63cee -<- --C   Electricity, at grid, US, 2008\n",
      "Deleting (47fe10f) -<- e836d5d -<- --C   CUTOFF Disposal, solid waste, unspecified, to waste-to-energy\n",
      "Deleting (47fe10f) -<- 51fbf81 -<- -#    Transport, train, diesel powered\n",
      "Deleting (47fe10f) -<- 6c85cf1 -<- --C   Diesel, combusted in industrial equipment\n",
      "Deleting (47fe10f) -<- 4c6646b -<- --C   Paraxylene, at plant\n",
      "Deleting (613d6f8) -<- 11449f8 -<- --C   Diesel, at refinery\n",
      "Deleting (47fe10f) -<- 9ed9989 -<- --C   CUTOFF Disposal, solid waste, unspecified, to municipal incineration\n",
      "Deleting (1f65198) -<- c8451a5 -<- -#    Transport, combination truck, diesel powered\n",
      "Deleting (47fe10f) -<- c37f647 -<- -#    Transport, barge, diesel powered\n",
      "Deleting ( ** ref) -<- ba3ce83 -<- -*    Transport, train, diesel powered\n",
      "Deleting (cff89df) -<- 96aa479 -<- -*    Natural gas, combusted in industrial equipment\n",
      "Deleting ((B) ref) -<- c323bcb -<- ---:  CUTOFF Ethylene glycol, at plant\n",
      "Deleting ((B) ref) -<- ad9ac81 -<- ---:  Diesel, combusted in industrial equipment\n",
      "Deleting ((B) ref) -<- 63c2660 -<- ---:  Natural gas, combusted in industrial boiler\n",
      "Deleting ((B) ref) -<- 5be0f02 -<- ---:  Transport, barge, residual fuel oil powered\n",
      "Deleting ((B) ref) -<- 1b967e7 -<- ---:  Electricity, at cogen, for natural gas turbine\n",
      "Deleting ((B) ref) -<- 3e0cdd6 -<- ---:  Bituminous coal, combusted in industrial boiler\n",
      "Deleting ((B) ref) -<- 45b3e8f -<- ---:  Natural gas, combusted in industrial equipment\n",
      "Deleting ((B) ref) -<- 5655b0d -<- ---:  Residual fuel oil, combusted in industrial boiler\n",
      "Deleting ((B) ref) -<- fcf437d -<- ---:  Transport, pipeline, unspecified petroleum products\n",
      "Deleting ((B) ref) -<- 0fb2f9c -<- ---:  Transport, train, diesel powered\n",
      "Deleting ((B) ref) -<- e617086 -<- ---:  Transport, pipeline, natural gas\n",
      "Deleting ((B) ref) -<- f0e9d0c -<- ---:  Diesel, at refinery\n",
      "Deleting ((B) ref) -<- c8d012a -<- ---:  Electricity, at grid, US, 2000\n",
      "Deleting ((B) ref) -<- eced367 -<- ---:  Electricity, at grid, US, 2008\n",
      "Deleting ((B) ref) -<- a5673db -<- ---:  Paraxylene, at plant\n",
      "Deleting ((B) ref) =>= 8989998 =>= ---:  Recovered energy\n",
      "Deleting ((B) ref) -<- 3ee5876 -<- ---:  CUTOFF Disposal, solid waste, unspecified, to municipal incineration\n",
      "Deleting ((B) ref) -<- 53ed502 -<- ---:  CUTOFF Disposal, solid waste, unspecified, to sanitary landfill\n",
      "Deleting ((B) ref) -<- 507da31 -<- ---:  Methanol, at plant\n",
      "Deleting ((B) ref) -<- 91475e3 -<- ---:  CUTOFF Disposal, solid waste, unspecified, to waste-to-energy\n",
      "Deleting ((B) ref) =>= 2bb59c5 =>= ---:  Recovered energy, at acetic acid production\n",
      "Deleting ((B) ref) -<- 33b62cb -<- ---:  Natural gas, processed, at plant\n",
      "Deleting ((B) ref) -<- 60aa2f1 -<- ---:  Residual fuel oil, at refinery\n"
     ]
    }
   ],
   "source": [
    "del_orphans(F[0])"
   ]
  },
  {
   "cell_type": "code",
   "execution_count": 69,
   "metadata": {
    "collapsed": false
   },
   "outputs": [],
   "source": [
    "del F[0]._entities[F.frag('4ec')._uuid]"
   ]
  },
  {
   "cell_type": "code",
   "execution_count": 67,
   "metadata": {
    "collapsed": false
   },
   "outputs": [
    {
     "ename": "AttributeError",
     "evalue": "'dict' object has no attribute 'remove'",
     "output_type": "error",
     "traceback": [
      "\u001b[1;31m---------------------------------------------------------------------------\u001b[0m",
      "\u001b[1;31mAttributeError\u001b[0m                            Traceback (most recent call last)",
      "\u001b[1;32m<ipython-input-67-94e5974e578f>\u001b[0m in \u001b[0;36m<module>\u001b[1;34m()\u001b[0m\n\u001b[1;32m----> 1\u001b[1;33m \u001b[0mF\u001b[0m\u001b[1;33m[\u001b[0m\u001b[1;36m0\u001b[0m\u001b[1;33m]\u001b[0m\u001b[1;33m.\u001b[0m\u001b[0m_entities\u001b[0m\u001b[1;33m.\u001b[0m\u001b[0mremove\u001b[0m\u001b[1;33m(\u001b[0m\u001b[0mF\u001b[0m\u001b[1;33m.\u001b[0m\u001b[0mfrag\u001b[0m\u001b[1;33m(\u001b[0m\u001b[1;34m'4ec'\u001b[0m\u001b[1;33m)\u001b[0m\u001b[1;33m)\u001b[0m\u001b[1;33m\u001b[0m\u001b[0m\n\u001b[0m",
      "\u001b[1;31mAttributeError\u001b[0m: 'dict' object has no attribute 'remove'"
     ]
    }
   ],
   "source": [
    "F[0]._entities.remove(F.frag('4ec'))"
   ]
  },
  {
   "cell_type": "code",
   "execution_count": 70,
   "metadata": {
    "collapsed": false
   },
   "outputs": [
    {
     "name": "stdout",
     "output_type": "stream",
     "text": [
      "((B) ref) -<- 5be0f02 -<- ---:  Transport, barge, residual fuel oil powered\n",
      "((B) ref) -<- fcf437d -<- ---:  Transport, pipeline, unspecified petroleum products\n",
      "((B) ref) -<- 0fb2f9c -<- ---:  Transport, train, diesel powered\n",
      "((B) ref) -<- e617086 -<- ---:  Transport, pipeline, natural gas\n"
     ]
    }
   ],
   "source": [
    "F.show_fragments(show_all=True, background=True, match='transport')"
   ]
  },
  {
   "cell_type": "code",
   "execution_count": 49,
   "metadata": {
    "collapsed": false
   },
   "outputs": [],
   "source": [
    "F.frag('68f').terminate(F.frag('ba3'))"
   ]
  },
  {
   "cell_type": "code",
   "execution_count": 40,
   "metadata": {
    "collapsed": false
   },
   "outputs": [
    {
     "data": {
      "text/plain": [
       "['561ef05   0.000183 [ Input] --: Transport, combination truck, diesel powered',\n",
       " 'e756aee     0.0201 [ Input] --: Methanol, at plant',\n",
       " '214d2bc   9.86e-05 [ Input] --: Transport, train, diesel powered',\n",
       " 'ac6c85d    0.00165 [ Input] --: Transport, combination truck, average fuel mix',\n",
       " '5174ff7    0.00832 [ Input] --: Natural gas, processed, at plant',\n",
       " '071b31a    0.00986 [ Input] --: Transport, pipeline, natural gas',\n",
       " '44366ab   2.08e-05 [ Input] --: CUTOFF Disposal, solid waste, unspecified, to sanitary landfill',\n",
       " '89983cf    0.00701 [Output] --: Recovered energy, at acetic acid production',\n",
       " '62a5292     0.0164 [ Input] --: Natural gas, processed, at plant',\n",
       " '84623ff   3.23e-05 [ Input] --: Transport, pipeline, unspecified petroleum products',\n",
       " '2e320f5   0.000355 [ Input] --: Transport, barge, diesel powered',\n",
       " 'a54e80a   0.000812 [ Input] --: Electricity, at grid, US, 2000',\n",
       " '3a3d3d4    0.00126 [ Input] --: Transport, barge, residual fuel oil powered',\n",
       " '05c3d96   0.000183 [ Input] --: Transport, train, diesel powered',\n",
       " '24fb181   7.63e-05 [ Input] --: Electricity, at cogen, for natural gas turbine',\n",
       " '245efd6     0.0183 [ Input] --: Transport, pipeline, natural gas',\n",
       " '2680bb5   0.000527 [ Input] --: Transport, pipeline, unspecified petroleum products',\n",
       " 'c39a404     0.0128 [ Input] --: Diesel, at refinery',\n",
       " 'b0d2cf0   0.000363 [ Input] --: Transport, barge, average fuel mix',\n",
       " '07baaaf    6.7e-05 [ Input] --: Transport, combination truck, average fuel mix',\n",
       " '1c40abc   4.28e-05 [ Input] --: Transport, train, diesel powered',\n",
       " '0400e42     0.0268 [ Input] --: Residual fuel oil, at refinery',\n",
       " '3bb2b4e    3.4e-05 [ Input] --: CUTOFF Disposal, solid waste, unspecified, to unspecified treatment',\n",
       " '6a2e47d   8.99e-05 [ Input] --: Transport, train, diesel powered',\n",
       " 'a3d53d7    0.00014 [ Input] --: Transport, combination truck, average fuel mix',\n",
       " '854b011   0.000761 [ Input] --: Transport, barge, average fuel mix',\n",
       " '781b494   0.000128 [ Input] --: Transport, combination truck, diesel powered',\n",
       " 'cfa5a46     0.0197 [ Input] --: Transport, train, diesel powered',\n",
       " '680a0b3    0.00149 [ Input] --: CUTOFF Disposal, ash and flue gas desulfurization sludge, to unspecified reuse',\n",
       " '9bacac2     0.0189 [ Input] --: Bituminous coal, at mine',\n",
       " '3fa7c95    0.00239 [ Input] --: Transport, barge, average fuel mix',\n",
       " '304d973    0.00117 [ Input] --: CUTOFF Disposal, solid waste, unspecified, to unspecified treatment',\n",
       " 'b57271c   9.49e-05 [ Input] --: CUTOFF Transport, pipeline, coal slurry',\n",
       " 'c0e582f     0.0352 [ Input] --: Methanol, at plant',\n",
       " '85abb79      0.558 [ Input] --: Electricity, at grid, US, 2008',\n",
       " '32d419c    0.00059 [ Input] --: CUTOFF Disposal, solid waste, unspecified, to waste-to-energy',\n",
       " '788aa97       1.61 [ Input] --: Transport, train, diesel powered',\n",
       " 'c565de8      0.142 [Output] --: Recovered energy',\n",
       " '14e21f5     0.0981 [ Input] --: Natural gas, processed, at plant',\n",
       " '4386a40      0.116 [ Input] --: Transport, pipeline, natural gas',\n",
       " 'cad2101     0.0195 [ Input] --: Transport, combination truck, average fuel mix',\n",
       " 'b06ea0c    0.00116 [ Input] --: Transport, train, diesel powered',\n",
       " '5114e1d      0.521 [ Input] --: Paraxylene, at plant',\n",
       " '5c81a82   8.76e-05 [ Input] --: Transport, pipeline, natural gas',\n",
       " '0583417      0.322 [ Input] --: CUTOFF Ethylene glycol, at plant',\n",
       " '435cfd4   0.000655 [ Input] --: Transport, barge, diesel powered',\n",
       " 'a568f2f    0.00419 [ Input] --: CUTOFF Disposal, solid waste, unspecified, to sanitary landfill',\n",
       " '40b7a6b     0.0511 [ Input] --: Electricity, at cogen, for natural gas turbine',\n",
       " 'ab154b4    0.00031 [ Input] --: CUTOFF Disposal, solid waste, unspecified, to municipal incineration']"
      ]
     },
     "execution_count": 40,
     "metadata": {},
     "output_type": "execute_result"
    }
   ],
   "source": [
    "[str(x) for x in frag.io_flows(lambda x: F.child_flows(x), None)]"
   ]
  },
  {
   "cell_type": "code",
   "execution_count": 36,
   "metadata": {
    "collapsed": false
   },
   "outputs": [],
   "source": [
    "F.frag('b8e').reference_entity = None"
   ]
  },
  {
   "cell_type": "code",
   "execution_count": 28,
   "metadata": {
    "collapsed": false
   },
   "outputs": [
    {
     "name": "stdout",
     "output_type": "stream",
     "text": [
      "LcFragment - Name: Transport, barge, residual fuel oil powered:\n",
      "BG: ((B) ref) -<- 77a4145 -<- -*    Transport, barge, residual fuel oil powered [RNA]\n"
     ]
    },
    {
     "data": {
      "text/plain": [
       "<lcatools.foreground.fragment_flows.LcFragment at 0x7f53ffa49e48>"
      ]
     },
     "execution_count": 28,
     "metadata": {},
     "output_type": "execute_result"
    }
   ],
   "source": [
    "F.fragment_to_background(F.frag('094'))"
   ]
  },
  {
   "cell_type": "code",
   "execution_count": null,
   "metadata": {
    "collapsed": true
   },
   "outputs": [],
   "source": [
    "for f in ('')"
   ]
  },
  {
   "cell_type": "code",
   "execution_count": 33,
   "metadata": {
    "collapsed": true
   },
   "outputs": [],
   "source": [
    "F.frag('ba3c')._background=False"
   ]
  },
  {
   "cell_type": "code",
   "execution_count": 36,
   "metadata": {
    "collapsed": false
   },
   "outputs": [
    {
     "name": "stdout",
     "output_type": "stream",
     "text": [
      "LcFragment - Name: Diesel, at refinery:\n"
     ]
    },
    {
     "data": {
      "text/plain": [
       "[<lcatools.foreground.fragment_flows.LcFragment at 0x7f5390f01358>]"
      ]
     },
     "execution_count": 36,
     "metadata": {},
     "output_type": "execute_result"
    }
   ],
   "source": [
    "F.build_child_flows(F.frag('ba3'), background_children=True)"
   ]
  },
  {
   "cell_type": "code",
   "execution_count": 31,
   "metadata": {
    "collapsed": false
   },
   "outputs": [
    {
     "name": "stdout",
     "output_type": "stream",
     "text": [
      "(selecting only choice)\n",
      "Picked: (USLCI) Transport, combination truck, diesel powered [Truck Transportation, General Freight Trucking] <- Transport, combination truck, diesel powered [RNA]\n"
     ]
    }
   ],
   "source": [
    "auto_terminate(F.frag('ba3c'))"
   ]
  },
  {
   "cell_type": "code",
   "execution_count": 25,
   "metadata": {
    "collapsed": true
   },
   "outputs": [],
   "source": [
    "F.frag('15f1').terminate(None)"
   ]
  },
  {
   "cell_type": "code",
   "execution_count": 29,
   "metadata": {
    "collapsed": false
   },
   "outputs": [
    {
     "name": "stdout",
     "output_type": "stream",
     "text": [
      "(selecting only choice)\n",
      "Picked: (USLCI) Acetic acid, at plant [Chemical Manufacturing, All Other Basic Organic Chemical Manufacturing] <- Acetic acid, at plant [RNA]\n",
      "LcFragment - Name: Transport, combination truck, diesel powered:\n",
      "BG: ((B) ref) -<- ba3c424 -<- ---:  Transport, combination truck, diesel powered\n",
      "LcFragment - Name: CUTOFF Disposal, solid waste, unspecified, to sanitary landfill:\n",
      "LcFragment - Name: Transport, train, diesel powered:\n",
      "LcFragment - Name: Natural gas, processed, at plant:\n",
      "LcFragment - Name: Transport, barge, diesel powered:\n",
      "LcFragment - Name: Electricity, at grid, US, 2000:\n",
      "BG: ((B) ref) -<- 756d536 -<- ---:  Electricity, at grid, US, 2000\n",
      "LcFragment - Name: Electricity, at cogen, for natural gas turbine:\n",
      "LcFragment - Name: Transport, pipeline, unspecified petroleum products:\n",
      "LcFragment - Name: Methanol, at plant:\n",
      "LcFragment - Name: Natural gas, combusted in industrial boiler:\n",
      "LcFragment - Name: Transport, pipeline, natural gas:\n",
      "LcFragment - Name: Transport, barge, residual fuel oil powered:\n",
      "LcFragment - Name: Recovered energy, at acetic acid production:\n",
      "BG: ((B) ref) =>= 3df587e =>= ---:  Recovered energy, at acetic acid production\n"
     ]
    }
   ],
   "source": [
    "foreground(F.frag('28b5'))"
   ]
  },
  {
   "cell_type": "code",
   "execution_count": 19,
   "metadata": {
    "collapsed": false
   },
   "outputs": [
    {
     "name": "stdout",
     "output_type": "stream",
     "text": [
      "(selecting only choice)\n",
      "Picked: (USLCI) Natural gas, combusted in industrial boiler [Utilities, Steam and Air-Conditioning Supply] <- Natural gas, combusted in industrial boiler [RNA]\n",
      "LcFragment - Name: Transport, combination truck, average fuel mix:\n",
      "BG: ((B) ref) -<- 949b684 -<- ---:  Transport, combination truck, average fuel mix\n",
      "LcFragment - Name: Transport, pipeline, natural gas:\n",
      "LcFragment - Name: Transport, train, diesel powered:\n",
      "LcFragment - Name: Natural gas, processed, at plant:\n",
      "BG: ((B) ref) -<- 583eea1 -<- ---:  Natural gas, processed, at plant\n"
     ]
    }
   ],
   "source": [
    "auto_terminate(F.frag('491'))"
   ]
  },
  {
   "cell_type": "code",
   "execution_count": 9,
   "metadata": {
    "collapsed": true
   },
   "outputs": [],
   "source": [
    "def create_quantity(self):\n",
    "    name = input('Enter quantity name: ')\n",
    "    unit = ifinput('Enter reference unit: ', 'kg')\n",
    "    comment = ifinput('Enter comment: ', '')\n",
    "    q = LcQuantity.new(name, unit, Comment=comment)\n",
    "    self[0].add(q)\n",
    "    return q\n"
   ]
  },
  {
   "cell_type": "code",
   "execution_count": 10,
   "metadata": {
    "collapsed": true
   },
   "outputs": [],
   "source": [
    "def edit_flow(self):\n",
    "    flow = pick_one(self._catalog[0].flows())\n",
    "    ch = cyoa('Edit (P)roperties or (C)haracterizations? ', 'pc').lower()\n",
    "    if ch == 'p':\n",
    "        _edit_entity(flow)\n",
    "    elif ch == 'c':\n",
    "        edit_characterizations(flow)\n",
    "\n",
    "\n",
    "def _edit_entity(entity):\n",
    "    print('Select field to edit:')\n",
    "    field = menu_list(*entity.keys())\n",
    "    if field == -1 or field is None:\n",
    "        return True\n",
    "    new = ifinput('Enter new value for %s: ' % field, flow[field])\n",
    "    if len(new) > 0:\n",
    "        entity[field] = new\n",
    "    else:\n",
    "        print('Not updating.')\n",
    "\n",
    "def edit_characterizations(flow):\n",
    "    char = pick_one(cf for cf in flow.characterizations())\n",
    "    val = float(ifinput('enter new characterization value: ', char.value ))\n",
    "    char.value = val"
   ]
  },
  {
   "cell_type": "code",
   "execution_count": 13,
   "metadata": {
    "collapsed": false
   },
   "outputs": [],
   "source": [
    "def pick_fragment(background=False):\n",
    "    \"\"\"\n",
    "    self is a foreground manager\n",
    "    \"\"\"\n",
    "    frag = pick_list([f for f in F[0].fragments(background=background)])\n",
    "    print('%s' % frag)\n",
    "    return frag\n",
    "    \n",
    "    "
   ]
  },
  {
   "cell_type": "code",
   "execution_count": 14,
   "metadata": {
    "collapsed": false
   },
   "outputs": [],
   "source": [
    "def show_info(frag):\n",
    "    frag.show()\n",
    "    print('Exchange Values:')\n",
    "    evs = list(frag._exchange_values.keys())\n",
    "    evs.remove(0)\n",
    "    evs.remove(1)\n",
    "    print('%20.20s: %g' % ('Cached', frag.cached_ev))\n",
    "    print('%20.20s: %g' % ('Observed', frag.observed_ev))\n",
    "    for k in evs:\n",
    "        print('%20.20s: %g' % (k, frag.exchange_value(k)))\n",
    "    if frag._balance_flow:\n",
    "        print('\\nBalance flow: True (%s)' % frag.flow.reference_entity)\n",
    "    else:\n",
    "        print('\\nBalance flow: False')    \n",
    "\n",
    "def show_terminations(frag):\n",
    "    print('Terminations: ')\n",
    "    print('%20s: %s' % ('Scenario', 'Termination'))\n",
    "    for k, v in frag._terminations.items():\n",
    "        if v.descend:\n",
    "            desc = '(agg)'\n",
    "        else:\n",
    "            desc = '     '\n",
    "        print('%20.20s: %s %s %s' % (k, v, desc, v.term_node))"
   ]
  },
  {
   "cell_type": "code",
   "execution_count": 28,
   "metadata": {
    "collapsed": false
   },
   "outputs": [],
   "source": [
    "def _pick_scenario(scs):\n",
    "    sc = _pick_list(scs, 'New scenario', 'Cancel')\n",
    "    if sc == (None, None):\n",
    "        return None\n",
    "    if sc == (None, 1):\n",
    "        scen = input('Enter scenario Name: ')\n",
    "    elif sc == (None, 2):\n",
    "        return None\n",
    "    else:\n",
    "        scen = scs[sc[0]]\n",
    "    if scen == '0':\n",
    "        scen = 0\n",
    "    return scen\n",
    "\n",
    "def _f_add_child(frag):\n",
    "    return create_fragment(frag)\n",
    "\n",
    "def _f_info(frag):\n",
    "    _edit_entity(frag)\n",
    "    \n",
    "def _f_exch(frag):\n",
    "    action = cyoa('Set (O)bserved exchange value, (S)cenario exchange value, (B)alance? ', 'osb')\n",
    "    if action == 'o':\n",
    "        frag.observed_ev = float(ifinput('Enter observed exchange value: ', frag.observed_ev))\n",
    "    elif action == 's':\n",
    "        scs = list(frag._exchange_values.keys())\n",
    "        if frag.cached_ev != 1.0:\n",
    "            scs.remove(0)\n",
    "        scs.remove(1)\n",
    "        sc = _pick_scenario(scs)\n",
    "        if sc == None:\n",
    "            return\n",
    "        elif sc == 0:\n",
    "            cev = frag.cached_ev\n",
    "        elif sc in frag._exchange_values.keys():\n",
    "            cev = frag.exchange_value(sc)\n",
    "        else:\n",
    "            cev = 1.0\n",
    "        ev = float(ifinput('Enter exchange value: ', cev))\n",
    "        frag.set_exchange_value(sc, ev)\n",
    "    elif action == 'b':\n",
    "        if frag._balance_flow:\n",
    "            frag.unset_balance_flow()\n",
    "        else:\n",
    "            frag.set_balance_flow()\n",
    "\n",
    "def _f_terms(frag):\n",
    "    scs = list(frag.terminations())\n",
    "    sc = _pick_scenario(scs)\n",
    "    term = find_termination(frag)\n",
    "    if term is None:\n",
    "        ch = cyoa('No terminations found. Search for termination by (P)rocess or by (F)low? ', 'pf')\n",
    "        \n",
    "    else:\n",
    "        add_termination(frag, term, scenario=sc)\n",
    "\n",
    "def _f_select_child(frag):\n",
    "    ch = pick_list([f for f in F.child_flows(frag)])\n",
    "    edit_fragment(ch)\n",
    "        \n",
    "def edit_fragment(frag):\n",
    "    print('%s' % frag)\n",
    "    F._show_frag_children(frag)\n",
    "    show_info(frag)\n",
    "    show_terminations(frag)\n",
    "    action = {'a': _f_add_child, 'i': _f_info, 'e': _f_exch, 't': _f_terms, 's': _f_select_child, 'q': None\n",
    "             }[cyoa('Choices: (A)dd child, (I)nfo, (E)xchange values, (T)erminations; (S)elect child, (Q)uit: ', 'aeitsq', 'i')]\n",
    "    if action is None:\n",
    "        return\n",
    "    action(frag)\n",
    "    "
   ]
  },
  {
   "cell_type": "code",
   "execution_count": 21,
   "metadata": {
    "collapsed": false
   },
   "outputs": [
    {
     "name": "stdout",
     "output_type": "stream",
     "text": [
      "( ** ref) -<- de6bbb6 -<- ---:  Polyethylene terephthalate, resin, at plant\n"
     ]
    }
   ],
   "source": [
    "F.show_fragments(background=None)"
   ]
  },
  {
   "cell_type": "code",
   "execution_count": 29,
   "metadata": {
    "collapsed": false
   },
   "outputs": [
    {
     "name": "stdout",
     "output_type": "stream",
     "text": [
      "( ** ref) -<- de6bbb6 -<- -*    Polyethylene terephthalate, resin, at plant\n",
      " (de6bbb6) -<- ebfc8dd -<- ---:  Bituminous coal, combusted in industrial boiler\n",
      " (de6bbb6) -<- a138003 -<- ---:  Diesel, combusted in industrial equipment\n",
      " (de6bbb6) -<- 2f5d5a7 -<- ---:  Paraxylene, at plant\n",
      " (de6bbb6) -<- b0adf5b -<- ---:  Residual fuel oil, combusted in industrial boiler\n",
      " (de6bbb6) -<- 06bd393 -<- ---:  Electricity, at grid, US, 2008\n",
      " (de6bbb6) -<- e91a6c4 -<- ---:  CUTOFF Ethylene glycol, at plant\n",
      " (de6bbb6) -<- 1cd07b2 -<- ---:  CUTOFF Disposal, solid waste, unspecified, to sanitary landfill\n",
      " (de6bbb6) -<- 314ca25 -<- ---:  Transport, barge, residual fuel oil powered\n",
      " (de6bbb6) -<- e599048 -<- ---:  Methanol, at plant\n",
      " (de6bbb6) -<- 34e3cff -<- ---:  Transport, train, diesel powered\n",
      " (de6bbb6) -<- bf4b217 -<- ---:  Acetic acid, at plant\n",
      " (de6bbb6) -<- cf302f7 -<- ---:  Transport, barge, diesel powered\n",
      " (de6bbb6) -<- 038c03f -<- ---:  Electricity, at cogen, for natural gas turbine\n",
      " (de6bbb6) =>= 9cad754 =>= ---:  Recovered energy\n",
      " (de6bbb6) -<- c6405b9 -<- ---:  CUTOFF Disposal, solid waste, unspecified, to municipal incineration\n",
      " (de6bbb6) -<- 98a4235 -<- ---:  CUTOFF Disposal, solid waste, unspecified, to waste-to-energy\n",
      " (de6bbb6) -<- 85c992f -<- ---:  Transport, pipeline, natural gas\n",
      " (de6bbb6) -<- cd5bdc2 -<- ---:  Natural gas, combusted in industrial boiler\n",
      "Fragment Entity\n",
      "     Name: Polyethylene terephthalate, resin, at plant\n",
      "  Comment: pet uslci\n",
      "StageName: \n",
      "Exchange Values:\n",
      "              Cached: 1\n",
      "            Observed: 0\n",
      "\n",
      "Balance flow: False\n",
      "Terminations: \n",
      "            Scenario: Termination\n",
      "                None: -*   (agg) (USLCI) {p} Polyethylene terephthalate, resin, at plant [RNA]\n",
      "Choices: (A)dd child, (I)nfo, (E)xchange values, (T)erminations; (S)elect child, (Q)uit:  [aeitsq] [i]: s\n",
      "\n",
      "Select item: \n",
      "\n",
      "Choice Item\n",
      "====== ======================================================================\n",
      " [ 0]  (de6bbb6) -<- 038c03f -<- ---:  Electricity, at cogen, for natural gas turbine\n",
      " [ 1]  (de6bbb6) -<- 06bd393 -<- ---:  Electricity, at grid, US, 2008\n",
      " [ 2]  (de6bbb6) -<- 1cd07b2 -<- ---:  CUTOFF Disposal, solid waste, unspecified, to sanitary landfill\n",
      " [ 3]  (de6bbb6) -<- 2f5d5a7 -<- ---:  Paraxylene, at plant\n",
      " [ 4]  (de6bbb6) -<- 314ca25 -<- ---:  Transport, barge, residual fuel oil powered\n",
      " [ 5]  (de6bbb6) -<- 34e3cff -<- ---:  Transport, train, diesel powered\n",
      " [ 6]  (de6bbb6) -<- 85c992f -<- ---:  Transport, pipeline, natural gas\n",
      " [ 7]  (de6bbb6) -<- 98a4235 -<- ---:  CUTOFF Disposal, solid waste, unspecified, to waste-to-energy\n",
      " [ 8]  (de6bbb6) -<- a138003 -<- ---:  Diesel, combusted in industrial equipment\n",
      " [ 9]  (de6bbb6) -<- b0adf5b -<- ---:  Residual fuel oil, combusted in industrial boiler\n",
      " [10]  (de6bbb6) -<- bf4b217 -<- ---:  Acetic acid, at plant\n",
      " [11]  (de6bbb6) -<- c6405b9 -<- ---:  CUTOFF Disposal, solid waste, unspecified, to municipal incineration\n",
      " [12]  (de6bbb6) -<- cd5bdc2 -<- ---:  Natural gas, combusted in industrial boiler\n",
      " [13]  (de6bbb6) -<- cf302f7 -<- ---:  Transport, barge, diesel powered\n",
      " [14]  (de6bbb6) -<- e599048 -<- ---:  Methanol, at plant\n",
      " [15]  (de6bbb6) -<- e91a6c4 -<- ---:  CUTOFF Ethylene glycol, at plant\n",
      " [16]  (de6bbb6) -<- ebfc8dd -<- ---:  Bituminous coal, combusted in industrial boiler\n",
      " [17]  (de6bbb6) =>= 9cad754 =>= ---:  Recovered energy\n",
      "------ ----------------------------------------------------------------------\n",
      "Enter choice (or \"None\"): 15\n",
      "(de6bbb6) -<- e91a6c4 -<- ---:  CUTOFF Ethylene glycol, at plant\n",
      "Fragment Entity\n",
      "     Name: CUTOFF Ethylene glycol, at plant\n",
      "  Comment: \n",
      "StageName: \n",
      "Exchange Values:\n",
      "              Cached: 0.322\n",
      "            Observed: 0\n",
      "\n",
      "Balance flow: False\n",
      "Terminations: \n",
      "            Scenario: Termination\n",
      "                None: ---: (agg) None\n",
      "Choices: (A)dd child, (I)nfo, (E)xchange values, (T)erminations; (S)elect child, (Q)uit:  [aeitsq] [i]: T\n",
      "\n",
      "Choice Item\n",
      "====== ======================================================================\n",
      " [0]    None\n",
      "  (N)  New scenario\n",
      "  (C)  Cancel\n",
      "------ ----------------------------------------------------------------------\n",
      "Enter choice (or \"None\"): 0\n",
      "\n",
      "LCA Catalog with the following archives:\n",
      "X [ 0] FG     : ForegroundArchive with 68 entities at pet\n",
      "  [ 1] ELCD   : /data/LCI/ELCD/ELCD3.2.zip\n",
      "X [ 2] LCIA   : IlcdLcia with 1310 entities at /home/b/Dropbox/data/ELCD/ELCD3.2.zip\n",
      "  [ 3] EI-LCIA: /data/GitHub/lca-tools-datafiles/catalogs/ei_lcia.json.gz\n",
      "  [ 4] EI-U   : /data/GitHub/lca-tools-datafiles/catalogs/ecoinvent_3.2_undefined_xlsx.json.gz\n",
      "  [ 5] EI_A   : /data/GitHub/lca-tools-datafiles/catalogs/ecoinvent_3.2_apos_xlsx.json.gz\n",
      "  [ 6] EI_Q   : /data/GitHub/lca-tools-datafiles/catalogs/ecoinvent_3.2_consequential_xlsx.json.gz\n",
      "  [ 7] EI_C   : /data/GitHub/lca-tools-datafiles/catalogs/ecoinvent_3.2_cut-off_xlsx.json.gz\n",
      "X [ 8] USLCI  : EcospoldV1Archive with 4896 entities at /home/b/Dropbox/data/USLCI/USLCI_Processes_ecospold1.zip\n",
      "  [ 9] GaBi-P : /data/GitHub/lca-tools-datafiles/catalogs/gabi_2016_professional-database-2016.json.gz\n",
      "  [10] GaBi-X : /data/GitHub/lca-tools-datafiles/catalogs/gabi_2016_all-extensions.json.gz\n",
      "Search which catalog? or blank to search all loaded catalogs8\n",
      "No entities.\n",
      "Picked: None\n"
     ]
    }
   ],
   "source": [
    "edit_fragment(frag)"
   ]
  },
  {
   "cell_type": "code",
   "execution_count": 72,
   "metadata": {
    "collapsed": false
   },
   "outputs": [
    {
     "data": {
      "text/plain": [
       "{'_cached_ev': 1.0,\n",
       " '_descend': True,\n",
       " '_parent': <lcatools.foreground.fragment_flows.LcFragment at 0x7feb09e84588>,\n",
       " '_process_ref': None,\n",
       " '_score_cache': {},\n",
       " 'direction': 'Output',\n",
       " 'term_flow': None}"
      ]
     },
     "execution_count": 72,
     "metadata": {},
     "output_type": "execute_result"
    }
   ],
   "source": [
    "frag.term.__dict__"
   ]
  },
  {
   "cell_type": "code",
   "execution_count": 64,
   "metadata": {
    "collapsed": false
   },
   "outputs": [],
   "source": [
    "frbc = F.frag('ebfc')"
   ]
  },
  {
   "cell_type": "code",
   "execution_count": 66,
   "metadata": {
    "collapsed": false
   },
   "outputs": [
    {
     "ename": "SyntaxError",
     "evalue": "invalid syntax (<ipython-input-66-0bb27ba05bc1>, line 1)",
     "output_type": "error",
     "traceback": [
      "\u001b[1;36m  File \u001b[1;32m\"<ipython-input-66-0bb27ba05bc1>\"\u001b[1;36m, line \u001b[1;32m1\u001b[0m\n\u001b[1;33m    help(del)\u001b[0m\n\u001b[1;37m           ^\u001b[0m\n\u001b[1;31mSyntaxError\u001b[0m\u001b[1;31m:\u001b[0m invalid syntax\n"
     ]
    }
   ],
   "source": [
    "help(del)"
   ]
  },
  {
   "cell_type": "code",
   "execution_count": 63,
   "metadata": {
    "collapsed": false
   },
   "outputs": [
    {
     "name": "stdout",
     "output_type": "stream",
     "text": [
      "-<--*   de6bbb6 (      1) Polyethylene terephthalate, resin, at plant\n",
      "    | -<----: b0adf5b (  0.027) Residual fuel oil, combusted in industrial boiler\n",
      "    | -<----: 06bd393 (   0.56) Electricity, at grid, US, 2008\n",
      "    | -<----: e91a6c4 (   0.32) CUTOFF Ethylene glycol, at plant\n",
      "    | -<----: 1cd07b2 ( 0.0042) CUTOFF Disposal, solid waste, unspecified, to sanitary landfill\n",
      "    | -<----: 314ca25 ( 0.0022) Transport, barge, residual fuel oil powered\n",
      "    | -<----: 34e3cff (    1.6) Transport, train, diesel powered\n",
      "    | -<----: cf302f7 (0.00065) Transport, barge, diesel powered\n",
      "    | -<----: 98a4235 (0.00059) CUTOFF Disposal, solid waste, unspecified, to waste-to-energy\n",
      "    | -<----: bf4b217 (  0.037) Acetic acid, at plant\n",
      "    | -<----: 85c992f (8.8e-05) Transport, pipeline, natural gas\n",
      "    | -<----: 038c03f (  0.051) Electricity, at cogen, for natural gas turbine\n",
      "    | =>=---: 9cad754 (   0.14) Recovered energy\n",
      "    | -<----: c6405b9 (0.00031) CUTOFF Disposal, solid waste, unspecified, to municipal incineration\n",
      "    | -<--*   ebfc8dd (  0.019) Bituminous coal, combusted in industrial boiler\n",
      "    |     | -<----: ef8d254 (  0.005) CUTOFF Transport, pipeline, coal slurry\n",
      "    |     | -<----: d6cc8fe (  0.062) CUTOFF Disposal, solid waste, unspecified, to unspecified treatment\n",
      "    |     | -<----: 9eca840 (      1) Bituminous coal, at mine\n",
      "    |     | -<----: 48f353c (  0.079) CUTOFF Disposal, ash and flue gas desulfurization sludge, to unspecified reuse\n",
      "    |     | -<--*   219c395 ( 0.0068) Transport, combination truck, diesel powered\n",
      "    |     |     | -<----: 89d095a (  0.027) Diesel, at refinery\n",
      "    |     |     x \n",
      "    |     | -<--*   17b733a (      1) Transport, train, diesel powered\n",
      "    |     |     | -<----: 8758f08 ( 0.0065) Diesel, at refinery\n",
      "    |     |     x \n",
      "    |     | -<--*   0789399 (   0.13) Transport, barge, average fuel mix\n",
      "    |     |     | -<--*   3a0f450 (   0.78) Transport, barge, residual fuel oil powered\n",
      "    |     |     |     | -<----: a7e9f36 ( 0.0088) Residual fuel oil, at refinery\n",
      "    |     |     |     x \n",
      "    |     |     | -<--*   daa5679 (   0.22) Transport, barge, diesel powered\n",
      "    |     |     |     | -<----: 773bc27 ( 0.0096) Diesel, at refinery\n",
      "    |     |     |     x \n",
      "    |     |     x \n",
      "    |     x \n",
      "    | -<--*   a138003 (  0.013) Diesel, combusted in industrial equipment\n",
      "    |     | -<----: 2f09b50 (  0.028) Transport, barge, average fuel mix\n",
      "    |     | -<----: ac857de (  0.041) Transport, pipeline, unspecified petroleum products\n",
      "    |     | -<----: 33ba7ea (      1) Diesel, at refinery\n",
      "    |     | -<----: 4c60692 ( 0.0034) Transport, train, diesel powered\n",
      "    |     | -<----: bb4d169 ( 0.0052) Transport, combination truck, average fuel mix\n",
      "    |     x \n",
      "    | -<--*   2f5d5a7 (   0.52) Paraxylene, at plant\n",
      "    |     | -<----: 334a292 (   0.13) Electricity, at grid, US, 2000\n",
      "    |     | -<----: b3afd31 (  0.026) Bituminous coal, combusted in industrial boiler\n",
      "    |     | -<----: e23cad3 (   0.15) Natural gas, combusted in industrial boiler\n",
      "    |     | -<----: 6511778 (      1) Xylenes, mixed, at plant\n",
      "    |     | -<----: 111c50b ( 0.0076) Liquefied petroleum gas, combusted in industrial boiler\n",
      "    |     x \n",
      "    | -<--*   e599048 (  0.035) Methanol, at plant\n",
      "    |     | -<----: 4eafaca (   0.01) Transport, train, diesel powered\n",
      "    |     | -<----: 682ed53 (  0.008) Electricity, at grid, US, 2008\n",
      "    |     | -<----: d6e0e2f (   0.01) Transport, combination truck, diesel powered\n",
      "    |     | -<----: 0c0fbd5 (   0.62) Natural gas, processed, for olefins production, at plant\n",
      "    |     | -<----: f1b900e (      1) Transport, pipeline, natural gas\n",
      "    |     | -<----: ae6706e ( 0.0005) CUTOFF Disposal, solid waste, unspecified, to sanitary landfill\n",
      "    |     | -<----: 99ca398 (   0.13) Natural gas, combusted in industrial boiler\n",
      "    |     x \n",
      "    | -<--*   cd5bdc2 (  0.098) Natural gas, combusted in industrial boiler\n",
      "    |     | -<----: 6cf8470 (  0.012) Transport, train, diesel powered\n",
      "    |     | -<----: d363f9d (    1.2) Transport, pipeline, natural gas\n",
      "    |     | -<--*   cec9fc4 (    0.2) Transport, combination truck, average fuel mix\n",
      "    |     |     | -<----: 0270a6a (      1) Transport, combination truck, diesel powered\n",
      "    |     |     x \n",
      "    |     | -<--*   9d8e3a4 (      1) Natural gas, processed, at plant\n",
      "    |     |     | -<----: 4de21a0 (   0.74) Natural gas, extracted\n",
      "    |     |     | -<----: 4b180c5 (  0.025) Natural gas, combusted in industrial boiler\n",
      "    |     |     | -<----: 1688a4b (3.7e-05) Residual fuel oil, combusted in industrial boiler\n",
      "    |     |     | -<----: 2e87523 (  0.016) Electricity, at grid, US, 2008\n",
      "    |     |     | -<----: e39eb94 (3.5e-05) Gasoline, combusted in equipment\n",
      "    |     |     | -<----: 895fcfd (3.7e-05) Diesel, combusted in industrial equipment\n",
      "    |     |     x \n",
      "    |     x \n",
      "    x \n"
     ]
    }
   ],
   "source": [
    "F.draw_fragment(frag)"
   ]
  },
  {
   "cell_type": "code",
   "execution_count": 58,
   "metadata": {
    "collapsed": false
   },
   "outputs": [
    {
     "name": "stdout",
     "output_type": "stream",
     "text": [
      "(selecting only choice)\n",
      "Picked: (USLCI) Paraxylene, at plant [Chemical Manufacturing, Petrochemical Manufacturing] <- Paraxylene, at plant [RNA]\n"
     ]
    }
   ],
   "source": [
    "auto_terminate(F.frag('2f5d'), index=8)"
   ]
  },
  {
   "cell_type": "code",
   "execution_count": null,
   "metadata": {
    "collapsed": true
   },
   "outputs": [],
   "source": []
  },
  {
   "cell_type": "code",
   "execution_count": null,
   "metadata": {
    "collapsed": true
   },
   "outputs": [],
   "source": []
  },
  {
   "cell_type": "code",
   "execution_count": null,
   "metadata": {
    "collapsed": true
   },
   "outputs": [],
   "source": []
  },
  {
   "cell_type": "code",
   "execution_count": null,
   "metadata": {
    "collapsed": true
   },
   "outputs": [],
   "source": []
  },
  {
   "cell_type": "code",
   "execution_count": null,
   "metadata": {
    "collapsed": true
   },
   "outputs": [],
   "source": []
  },
  {
   "cell_type": "code",
   "execution_count": null,
   "metadata": {
    "collapsed": true
   },
   "outputs": [],
   "source": []
  },
  {
   "cell_type": "code",
   "execution_count": null,
   "metadata": {
    "collapsed": true
   },
   "outputs": [],
   "source": []
  },
  {
   "cell_type": "code",
   "execution_count": null,
   "metadata": {
    "collapsed": true
   },
   "outputs": [],
   "source": []
  },
  {
   "cell_type": "code",
   "execution_count": 48,
   "metadata": {
    "collapsed": false
   },
   "outputs": [
    {
     "data": {
      "text/plain": [
       "'(USLCI) {f} Ethylene glycol, at plant  [Chemical Manufacturing, Petrochemical Manufacturing]'"
      ]
     },
     "execution_count": 48,
     "metadata": {},
     "output_type": "execute_result"
    }
   ],
   "source": [
    "str(flow_ref)"
   ]
  },
  {
   "cell_type": "code",
   "execution_count": 51,
   "metadata": {
    "collapsed": false
   },
   "outputs": [
    {
     "name": "stdout",
     "output_type": "stream",
     "text": [
      "(selecting only choice)\n",
      "Picked: (USLCI) Ethylene glycol, at plant  [Chemical Manufacturing, Petrochemical Manufacturing] <- Ethylene glycol, at plant  [RNA]\n"
     ]
    }
   ],
   "source": [
    "x = find_termination(flow_ref, direction)"
   ]
  },
  {
   "cell_type": "code",
   "execution_count": 40,
   "metadata": {
    "collapsed": false
   },
   "outputs": [
    {
     "data": {
      "text/plain": [
       "'Output: {*} [1 [kg]] Polyethylene terephthalate, resin, at plant [Chemical Manufacturing, Petrochemical Manufacturing]'"
      ]
     },
     "execution_count": 40,
     "metadata": {},
     "output_type": "execute_result"
    }
   ],
   "source": [
    "str(x.exchange)"
   ]
  }
 ],
 "metadata": {
  "kernelspec": {
   "display_name": "Python 3",
   "language": "python",
   "name": "python3"
  },
  "language_info": {
   "codemirror_mode": {
    "name": "ipython",
    "version": 3
   },
   "file_extension": ".py",
   "mimetype": "text/x-python",
   "name": "python",
   "nbconvert_exporter": "python",
   "pygments_lexer": "ipython3",
   "version": "3.5.1"
  }
 },
 "nbformat": 4,
 "nbformat_minor": 0
}
