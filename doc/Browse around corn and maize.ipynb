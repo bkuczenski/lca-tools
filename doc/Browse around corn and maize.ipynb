{
 "cells": [
  {
   "cell_type": "code",
   "execution_count": 1,
   "metadata": {
    "collapsed": false
   },
   "outputs": [],
   "source": [
    "import sys\n",
    "sys.path.append('..')\n",
    "\n",
    "import lcatools\n",
    "import os\n",
    "\n"
   ]
  },
  {
   "cell_type": "code",
   "execution_count": 2,
   "metadata": {
    "collapsed": false
   },
   "outputs": [],
   "source": [
    "from lcatools.providers.ecospold2 import EcospoldV2Archive"
   ]
  },
  {
   "cell_type": "code",
   "execution_count": 3,
   "metadata": {
    "collapsed": true
   },
   "outputs": [],
   "source": [
    "data_dir = '/data/LCI/Ecoinvent/3.2/cutoff/datasets'"
   ]
  },
  {
   "cell_type": "code",
   "execution_count": 4,
   "metadata": {
    "collapsed": false
   },
   "outputs": [
    {
     "name": "stdout",
     "output_type": "stream",
     "text": [
      "Path points to a directory. Assuming expanded archive\n"
     ]
    }
   ],
   "source": [
    "ei = EcospoldV2Archive(data_dir, quiet=True)"
   ]
  },
  {
   "cell_type": "code",
   "execution_count": 5,
   "metadata": {
    "collapsed": false
   },
   "outputs": [
    {
     "name": "stdout",
     "output_type": "stream",
     "text": [
      "Loading /data/LCI/Ecoinvent/3.2/cutoff/datasets\n",
      " Loaded 100 processes (t=0.62 s)\n",
      " Loaded 200 processes (t=1.06 s)\n",
      " Loaded 300 processes (t=1.63 s)\n",
      " Loaded 400 processes (t=2.04 s)\n",
      " Loaded 500 processes (t=2.52 s)\n",
      " Loaded 600 processes (t=2.91 s)\n",
      " Loaded 700 processes (t=3.41 s)\n",
      " Loaded 800 processes (t=4.01 s)\n",
      " Loaded 900 processes (t=4.45 s)\n",
      " Loaded 1000 processes (t=4.84 s)\n",
      " Loaded 1100 processes (t=5.27 s)\n",
      " Loaded 1200 processes (t=5.65 s)\n",
      " Loaded 1300 processes (t=6.06 s)\n",
      " Loaded 1400 processes (t=6.56 s)\n",
      " Loaded 1500 processes (t=6.97 s)\n",
      " Loaded 1600 processes (t=7.31 s)\n",
      " Loaded 1700 processes (t=7.77 s)\n",
      " Loaded 1800 processes (t=8.18 s)\n",
      " Loaded 1900 processes (t=8.61 s)\n",
      " Loaded 2000 processes (t=9.02 s)\n",
      " Loaded 2100 processes (t=9.70 s)\n",
      " Loaded 2200 processes (t=10.18 s)\n",
      " Loaded 2300 processes (t=10.67 s)\n",
      " Loaded 2400 processes (t=11.19 s)\n",
      " Loaded 2500 processes (t=11.55 s)\n",
      " Loaded 2600 processes (t=11.86 s)\n",
      " Loaded 2700 processes (t=12.27 s)\n",
      " Loaded 2800 processes (t=12.55 s)\n",
      " Loaded 2900 processes (t=13.36 s)\n",
      " Loaded 3000 processes (t=13.74 s)\n",
      " Loaded 3100 processes (t=14.08 s)\n",
      " Loaded 3200 processes (t=14.41 s)\n",
      " Loaded 3300 processes (t=14.81 s)\n",
      " Loaded 3400 processes (t=15.46 s)\n",
      " Loaded 3500 processes (t=15.92 s)\n",
      " Loaded 3600 processes (t=16.30 s)\n",
      "495edce0-2bef-460c-86aa-566a14e6e006_f9f6da0b-f5ee-454e-8d30-fdd9881fdfae.spold: no comment\n",
      " Loaded 3700 processes (t=16.70 s)\n",
      " Loaded 3800 processes (t=17.11 s)\n",
      " Loaded 3900 processes (t=17.48 s)\n",
      " Loaded 4000 processes (t=17.83 s)\n",
      " Loaded 4100 processes (t=18.29 s)\n",
      " Loaded 4200 processes (t=18.75 s)\n",
      " Loaded 4300 processes (t=19.25 s)\n",
      " Loaded 4400 processes (t=19.77 s)\n",
      " Loaded 4500 processes (t=20.27 s)\n",
      " Loaded 4600 processes (t=20.66 s)\n",
      " Loaded 4700 processes (t=21.03 s)\n",
      " Loaded 4800 processes (t=21.52 s)\n",
      " Loaded 4900 processes (t=21.87 s)\n",
      " Loaded 5000 processes (t=22.26 s)\n",
      " Loaded 5100 processes (t=22.73 s)\n",
      " Loaded 5200 processes (t=23.22 s)\n",
      " Loaded 5300 processes (t=23.56 s)\n",
      " Loaded 5400 processes (t=23.92 s)\n",
      " Loaded 5500 processes (t=24.51 s)\n",
      " Loaded 5600 processes (t=24.92 s)\n",
      " Loaded 5700 processes (t=25.27 s)\n",
      " Loaded 5800 processes (t=25.81 s)\n",
      " Loaded 5900 processes (t=26.35 s)\n",
      " Loaded 6000 processes (t=26.93 s)\n",
      " Loaded 6100 processes (t=27.37 s)\n",
      " Loaded 6200 processes (t=27.83 s)\n",
      " Loaded 6300 processes (t=28.18 s)\n",
      " Loaded 6400 processes (t=28.62 s)\n",
      " Loaded 6500 processes (t=28.96 s)\n",
      " Loaded 6600 processes (t=29.33 s)\n",
      " Loaded 6700 processes (t=30.06 s)\n",
      " Loaded 6800 processes (t=30.34 s)\n",
      " Loaded 6900 processes (t=30.86 s)\n",
      " Loaded 7000 processes (t=31.38 s)\n",
      " Loaded 7100 processes (t=31.94 s)\n",
      " Loaded 7200 processes (t=32.39 s)\n",
      " Loaded 7300 processes (t=32.96 s)\n",
      " Loaded 7400 processes (t=33.35 s)\n",
      " Loaded 7500 processes (t=33.99 s)\n",
      " Loaded 7600 processes (t=34.48 s)\n",
      " Loaded 7700 processes (t=34.98 s)\n",
      " Loaded 7800 processes (t=35.47 s)\n",
      " Loaded 7900 processes (t=35.85 s)\n",
      " Loaded 8000 processes (t=36.36 s)\n",
      " Loaded 8100 processes (t=36.81 s)\n",
      " Loaded 8200 processes (t=37.31 s)\n",
      " Loaded 8300 processes (t=37.62 s)\n",
      " Loaded 8400 processes (t=38.02 s)\n",
      " Loaded 8500 processes (t=38.43 s)\n",
      " Loaded 8600 processes (t=38.75 s)\n",
      " Loaded 8700 processes (t=39.21 s)\n",
      " Loaded 8800 processes (t=39.70 s)\n",
      " Loaded 8900 processes (t=40.16 s)\n",
      " Loaded 9000 processes (t=40.61 s)\n",
      " Loaded 9100 processes (t=41.04 s)\n",
      " Loaded 9200 processes (t=41.75 s)\n",
      " Loaded 9300 processes (t=42.46 s)\n",
      " Loaded 9400 processes (t=42.95 s)\n",
      " Loaded 9500 processes (t=43.46 s)\n",
      " Loaded 9600 processes (t=43.88 s)\n",
      " Loaded 9700 processes (t=44.28 s)\n",
      " Loaded 9800 processes (t=44.65 s)\n",
      " Loaded 9900 processes (t=45.08 s)\n",
      " Loaded 10000 processes (t=45.56 s)\n",
      " Loaded 10100 processes (t=46.02 s)\n",
      " Loaded 10200 processes (t=46.47 s)\n",
      " Loaded 10300 processes (t=46.77 s)\n",
      " Loaded 10400 processes (t=47.30 s)\n",
      " Loaded 10500 processes (t=47.75 s)\n",
      " Loaded 10600 processes (t=48.11 s)\n",
      " Loaded 10700 processes (t=48.54 s)\n",
      " Loaded 10800 processes (t=49.01 s)\n",
      " Loaded 10900 processes (t=49.44 s)\n",
      " Loaded 11000 processes (t=49.92 s)\n",
      " Loaded 11100 processes (t=50.50 s)\n",
      " Loaded 11200 processes (t=50.83 s)\n",
      " Loaded 11300 processes (t=51.28 s)\n",
      " Loaded 11400 processes (t=51.73 s)\n",
      " Loaded 11500 processes (t=52.15 s)\n",
      " Loaded 11600 processes (t=52.67 s)\n",
      " Loaded 11700 processes (t=53.10 s)\n",
      " Loaded 11800 processes (t=53.54 s)\n",
      " Loaded 11900 processes (t=53.93 s)\n",
      " Loaded 12000 processes (t=54.32 s)\n",
      " Loaded 12100 processes (t=54.72 s)\n",
      " Loaded 12200 processes (t=55.18 s)\n",
      " Loaded 12300 processes (t=55.59 s)\n",
      " Loaded 12400 processes (t=56.29 s)\n",
      " Loaded 12500 processes (t=56.63 s)\n",
      " Loaded 12600 processes (t=57.07 s)\n",
      " Loaded 12700 processes (t=57.56 s)\n",
      " Loaded 12800 processes (t=57.88 s)\n",
      " Loaded 12900 processes (t=58.20 s)\n",
      " Loaded 12916 processes (t=58.25 s)\n",
      "19 new quantity entities added (19 total)\n",
      "4681 new flow entities added (4681 total)\n",
      "11578 new process entities added (11578 total)\n"
     ]
    }
   ],
   "source": [
    "ei.load_all()"
   ]
  },
  {
   "cell_type": "code",
   "execution_count": 6,
   "metadata": {
    "collapsed": true
   },
   "outputs": [],
   "source": [
    "maize = [i.get_external_ref() for i in ei.search(entity_type='flow', Name='maize')]\n",
    "corn = [i.get_external_ref() for i in ei.search(entity_type='flow', Name='corn')]"
   ]
  },
  {
   "cell_type": "code",
   "execution_count": 7,
   "metadata": {
    "collapsed": false
   },
   "outputs": [
    {
     "data": {
      "text/plain": [
       "0"
      ]
     },
     "execution_count": 7,
     "metadata": {},
     "output_type": "execute_result"
    }
   ],
   "source": [
    "len(corn)"
   ]
  },
  {
   "cell_type": "code",
   "execution_count": 8,
   "metadata": {
    "collapsed": false
   },
   "outputs": [
    {
     "data": {
      "text/plain": [
       "20"
      ]
     },
     "execution_count": 8,
     "metadata": {},
     "output_type": "execute_result"
    }
   ],
   "source": [
    "len(maize)"
   ]
  },
  {
   "cell_type": "code",
   "execution_count": 9,
   "metadata": {
    "collapsed": false
   },
   "outputs": [
    {
     "name": "stdout",
     "output_type": "stream",
     "text": [
      "0: maize silage, organic [By-product classification: allocatable product]\n",
      "1: chopping, maize [By-product classification: allocatable product]\n",
      "2: maize silage [By-product classification: allocatable product]\n",
      "3: drying of maize straw and whole-plant [By-product classification: allocatable product]\n",
      "4: maize starch [By-product classification: allocatable product]\n",
      "5: maize grain, feed [By-product classification: allocatable product]\n",
      "6: maize seed, at farm [By-product classification: allocatable product]\n",
      "7: maize silage, Swiss integrated production [By-product classification: allocatable product]\n",
      "8: maize grain, feed, organic [By-product classification: allocatable product]\n",
      "9: drying of maize grain [By-product classification: allocatable product]\n",
      "10: maize seed, organic, for sowing [By-product classification: allocatable product]\n",
      "11: maize seed, for sowing [By-product classification: allocatable product]\n",
      "12: maize seed, Swiss integrated production, for sowing [By-product classification: allocatable product]\n",
      "13: maize grain [By-product classification: allocatable product]\n",
      "14: wastewater from maize starch production [By-product classification: Waste]\n",
      "15: maize grain, feed, Swiss integrated production [By-product classification: allocatable product]\n",
      "16: maize seed, Swiss integrated production, at farm [By-product classification: allocatable product]\n",
      "17: maize seed, organic, at farm [By-product classification: allocatable product]\n",
      "18: maize grain, organic [By-product classification: allocatable product]\n",
      "19: maize grain, Swiss integrated production [By-product classification: allocatable product]\n"
     ]
    }
   ],
   "source": [
    "for k, m in enumerate(maize):\n",
    "    print('%d: %s' % (k, ei[m]))"
   ]
  },
  {
   "cell_type": "code",
   "execution_count": 10,
   "metadata": {
    "collapsed": false
   },
   "outputs": [],
   "source": [
    "exc = [x for x in ei.exchanges() if x.flow.get_external_ref() == maize[19]]"
   ]
  },
  {
   "cell_type": "code",
   "execution_count": 11,
   "metadata": {
    "collapsed": false
   },
   "outputs": [
    {
     "data": {
      "text/plain": [
       "6"
      ]
     },
     "execution_count": 11,
     "metadata": {},
     "output_type": "execute_result"
    }
   ],
   "source": [
    "len(exc)"
   ]
  },
  {
   "cell_type": "code",
   "execution_count": 12,
   "metadata": {
    "collapsed": false
   },
   "outputs": [
    {
     "name": "stdout",
     "output_type": "stream",
     "text": [
      "maize grain, feed production, Swiss integrated production [CH] has Input: maize grain, Swiss integrated production [By-product classification: allocatable product] [kg]\n",
      "maize grain production, Swiss integrated production [CH] has Output: maize grain, Swiss integrated production [By-product classification: allocatable product] [kg]\n",
      "market for maize grain, Swiss integrated production [GLO] has Input: maize grain, Swiss integrated production [By-product classification: allocatable product] [kg]\n",
      "market for maize grain, Swiss integrated production [GLO] has Output: maize grain, Swiss integrated production [By-product classification: allocatable product] [kg]\n",
      "maize starch production [RoW] has Input: maize grain, Swiss integrated production [By-product classification: allocatable product] [kg]\n",
      "maize starch production [DE] has Input: maize grain, Swiss integrated production [By-product classification: allocatable product] [kg]\n"
     ]
    },
    {
     "data": {
      "text/plain": [
       "[None, None, None, None, None, None]"
      ]
     },
     "execution_count": 12,
     "metadata": {},
     "output_type": "execute_result"
    }
   ],
   "source": [
    "[print(x) for x in exc]"
   ]
  },
  {
   "cell_type": "code",
   "execution_count": 13,
   "metadata": {
    "collapsed": true
   },
   "outputs": [],
   "source": [
    "p = exc[1].process"
   ]
  },
  {
   "cell_type": "code",
   "execution_count": 14,
   "metadata": {
    "collapsed": false
   },
   "outputs": [
    {
     "data": {
      "text/plain": [
       "{'_d': {'Classifications': ['ISIC rev.4 ecoinvent: 0111:Growing of cereals (except rice), leguminous crops and oil seeds'],\n",
       "  'Comment': 'This dataset represents the production of 1 kg of maize grain (fresh matter). The yield is 9279 kg/ha at a moisture content at storage of 14%.\\n',\n",
       "  'Name': 'maize grain production, Swiss integrated production',\n",
       "  'SpatialScope': 'CH',\n",
       "  'TemporalScope': 'interval(1996-01-01, 2015-12-31)',\n",
       "  'origin': '/data/LCI/Ecoinvent/3.2/cutoff/datasets'},\n",
       " '_external_ref': None,\n",
       " '_uuid': UUID('c574eaeb-a47d-401b-b8ec-47e08ea3bf19'),\n",
       " 'entity_type': 'process',\n",
       " 'reference_entity': <lcatools.exchanges.Exchange at 0x7f9deb12d2e8>}"
      ]
     },
     "execution_count": 14,
     "metadata": {},
     "output_type": "execute_result"
    }
   ],
   "source": [
    "p.__dict__"
   ]
  },
  {
   "cell_type": "code",
   "execution_count": 15,
   "metadata": {
    "collapsed": true
   },
   "outputs": [],
   "source": [
    "exc_1 = [x for x in ei.exchanges() if x.process is p]"
   ]
  },
  {
   "cell_type": "code",
   "execution_count": 16,
   "metadata": {
    "collapsed": false
   },
   "outputs": [
    {
     "name": "stdout",
     "output_type": "stream",
     "text": [
      "[Input] ammonium nitrate, as N [By-product classification: allocatable product]\n",
      "[Input] ammonium sulfate, as N [By-product classification: allocatable product]\n",
      "[Input] application of plant protection product, by field sprayer [By-product classification: allocatable product]\n",
      "[Input] atrazine [By-product classification: allocatable product]\n",
      "[Input] Carbon dioxide, in air (CAS 000124-38-9) [natural resource, in air]\n",
      "[Input] combine harvesting [By-product classification: allocatable product]\n",
      "[Input] drying of maize straw and whole-plant [By-product classification: allocatable product]\n",
      "[Input] electricity, low voltage [By-product classification: allocatable product]\n",
      "[Input] Energy, gross calorific value, in biomass [natural resource, biotic]\n",
      "[Input] fertilising, by broadcaster [By-product classification: allocatable product]\n",
      "[Input] glyphosate [By-product classification: allocatable product]\n",
      "[Input] green manure, Swiss integrated production, until April [By-product classification: allocatable product]\n",
      "[Input] hoeing [By-product classification: allocatable product]\n",
      "[Input] irrigation [By-product classification: allocatable product]\n",
      "[Input] liquid manure spreading, by vacuum tanker [By-product classification: allocatable product]\n",
      "[Input] maize seed, Swiss integrated production, for sowing [By-product classification: allocatable product]\n",
      "[Input] metolachlor [By-product classification: allocatable product]\n",
      "[Input] nitrogen fertiliser, as N [By-product classification: allocatable product]\n",
      "[Input] Occupation, annual crop, non-irrigated, intensive [natural resource, land]\n",
      "[Input] pesticide, unspecified [By-product classification: allocatable product]\n",
      "[Input] phosphate fertiliser, as P2O5 [By-product classification: allocatable product]\n",
      "[Input] phosphate rock, as P2O5, beneficiated, dry (CAS 065996-94-3) [By-product classification: allocatable product]\n",
      "[Input] solid manure loading and spreading, by hydraulic loader and spreader [By-product classification: allocatable product]\n",
      "[Input] sowing [By-product classification: allocatable product]\n",
      "[Input] tillage, harrowing, by spring tine harrow [By-product classification: allocatable product]\n",
      "[Input] tillage, ploughing [By-product classification: allocatable product]\n",
      "[Input] Transformation, from annual crop, non-irrigated, intensive [natural resource, land]\n",
      "[Input] Transformation, to annual crop, non-irrigated, intensive [natural resource, land]\n",
      "[Input] transport, tractor and trailer, agricultural [By-product classification: allocatable product]\n",
      "[Input] urea, as N [By-product classification: allocatable product]\n"
     ]
    }
   ],
   "source": [
    "for x in sorted(exc_1, key=lambda t: t.flow['Name'].lower()):\n",
    "    if x.direction == 'Input':\n",
    "        print('[%s] %s' %( x.direction, x.flow))"
   ]
  },
  {
   "cell_type": "code",
   "execution_count": 17,
   "metadata": {
    "collapsed": false
   },
   "outputs": [
    {
     "name": "stdout",
     "output_type": "stream",
     "text": [
      "[Output] Ammonia (CAS 007664-41-7) [air, non-urban air or from high stacks]\n",
      "[Output] Atrazine (CAS 001912-24-9) [soil, agricultural]\n",
      "[Output] Cadmium (CAS 007440-43-9) [soil, agricultural]\n",
      "[Output] Cadmium, ion (CAS 022537-48-0) [water, ground-]\n",
      "[Output] Cadmium, ion (CAS 022537-48-0) [water, surface water]\n",
      "[Output] Carbon dioxide, fossil (CAS 000124-38-9) [air, non-urban air or from high stacks]\n",
      "[Output] Chromium (CAS 007440-47-3) [soil, agricultural]\n",
      "[Output] Chromium, ion (CAS 016065-83-1) [water, ground-]\n",
      "[Output] Chromium, ion (CAS 016065-83-1) [water, surface water]\n",
      "[Output] Copper (CAS 007440-50-8) [soil, agricultural]\n",
      "[Output] Copper, ion (CAS 017493-86-6) [water, surface water]\n",
      "[Output] Copper, ion (CAS 017493-86-6) [water, ground-]\n",
      "[Output] Dinitrogen monoxide (CAS 010024-97-2) [air, non-urban air or from high stacks]\n",
      "[Output] Glyphosate (CAS 001071-83-6) [soil, agricultural]\n",
      "[Output] Lead (CAS 007439-92-1) [soil, agricultural]\n",
      "[Output] Lead (CAS 007439-92-1) [water, surface water]\n",
      "[Output] Lead (CAS 007439-92-1) [water, ground-]\n",
      "[Output] maize grain, Swiss integrated production [By-product classification: allocatable product]\n",
      "[Output] Mercury (CAS 007439-97-6) [soil, agricultural]\n",
      "[Output] Mercury (CAS 007439-97-6) [water, surface water]\n",
      "[Output] Mercury (CAS 007439-97-6) [water, ground-]\n",
      "[Output] Metolachlor (CAS 051218-45-2) [soil, agricultural]\n",
      "[Output] Nickel (CAS 007440-02-0) [soil, agricultural]\n",
      "[Output] Nickel, ion (CAS 014701-22-5) [water, surface water]\n",
      "[Output] Nitrate (CAS 014797-55-8) [water, ground-]\n",
      "[Output] Nitrogen oxides (CAS 011104-93-1) [air, non-urban air or from high stacks]\n",
      "[Output] Phosphate (CAS 014265-44-2) [water, ground-]\n",
      "[Output] Phosphate (CAS 014265-44-2) [water, surface water]\n",
      "[Output] Phosphorus (CAS 007723-14-0) [water, surface water]\n",
      "[Output] Water (CAS 007732-18-5) [water, ground-]\n",
      "[Output] Water (CAS 007732-18-5) [air, unspecified]\n",
      "[Output] Water (CAS 007732-18-5) [water, surface water]\n",
      "[Output] Zinc (CAS 007440-66-6) [soil, agricultural]\n",
      "[Output] Zinc, ion (CAS 023713-49-7) [water, surface water]\n",
      "[Output] Zinc, ion (CAS 023713-49-7) [water, ground-]\n"
     ]
    }
   ],
   "source": [
    "for x in sorted(exc_1, key=lambda t: t.flow['Name'].lower()):\n",
    "    if x.direction == 'Output':\n",
    "        print('[%s] %s' %( x.direction, x.flow))"
   ]
  }
 ],
 "metadata": {
  "kernelspec": {
   "display_name": "Python 3",
   "language": "python",
   "name": "python3"
  },
  "language_info": {
   "codemirror_mode": {
    "name": "ipython",
    "version": 3
   },
   "file_extension": ".py",
   "mimetype": "text/x-python",
   "name": "python",
   "nbconvert_exporter": "python",
   "pygments_lexer": "ipython3",
   "version": "3.5.1"
  }
 },
 "nbformat": 4,
 "nbformat_minor": 0
}
