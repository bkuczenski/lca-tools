{
 "cells": [
  {
   "cell_type": "code",
   "execution_count": 1,
   "metadata": {
    "collapsed": false
   },
   "outputs": [],
   "source": [
    "import sys\n",
    "sys.path.append('..')\n",
    "\n",
    "#from lcatools.db_catalog import *\n",
    "from lcatools.tools import gz_files\n",
    "from lcatools.catalog import LcaCatalog\n",
    "\n",
    "import re\n",
    "import os"
   ]
  },
  {
   "cell_type": "code",
   "execution_count": 2,
   "metadata": {
    "collapsed": true
   },
   "outputs": [],
   "source": [
    "catalog_dir = os.path.join(os.path.expanduser('~'), 'Documents', 'GitHub', 'lca-tools-datafiles', 'catalogs')"
   ]
  },
  {
   "cell_type": "code",
   "execution_count": 3,
   "metadata": {
    "collapsed": false
   },
   "outputs": [],
   "source": [
    "files, names = gz_files(catalog_dir)"
   ]
  },
  {
   "cell_type": "code",
   "execution_count": 4,
   "metadata": {
    "collapsed": false
   },
   "outputs": [
    {
     "data": {
      "text/plain": [
       "'ei_lcia'"
      ]
     },
     "execution_count": 4,
     "metadata": {},
     "output_type": "execute_result"
    }
   ],
   "source": [
    "files.pop(4)\n",
    "names.pop(4)"
   ]
  },
  {
   "cell_type": "code",
   "execution_count": 6,
   "metadata": {
    "collapsed": false
   },
   "outputs": [
    {
     "name": "stdout",
     "output_type": "stream",
     "text": [
      "20 new quantity entities added (20 total)\n",
      "6767 new flow entities added (6767 total)\n",
      "11420 new process entities added (11420 total)\n",
      "20 new quantity entities added (20 total)\n",
      "6767 new flow entities added (6767 total)\n",
      "11468 new process entities added (11468 total)\n",
      "20 new quantity entities added (20 total)\n",
      "6767 new flow entities added (6767 total)\n",
      "11578 new process entities added (11578 total)\n",
      "20 new quantity entities added (20 total)\n",
      "6767 new flow entities added (6767 total)\n",
      "13307 new process entities added (13307 total)\n"
     ]
    },
    {
     "ename": "AttributeError",
     "evalue": "'NoneType' object has no attribute 'get_external_ref'",
     "output_type": "error",
     "traceback": [
      "\u001b[0;31m---------------------------------------------------------------------------\u001b[0m",
      "\u001b[0;31mAttributeError\u001b[0m                            Traceback (most recent call last)",
      "\u001b[0;32m<ipython-input-6-ca6a28b99608>\u001b[0m in \u001b[0;36m<module>\u001b[0;34m()\u001b[0m\n\u001b[0;32m----> 1\u001b[0;31m \u001b[0mC\u001b[0m \u001b[0;34m=\u001b[0m \u001b[0mLcaCatalog\u001b[0m\u001b[0;34m(\u001b[0m\u001b[0mcatalog_dir\u001b[0m\u001b[0;34m)\u001b[0m\u001b[0;34m\u001b[0m\u001b[0m\n\u001b[0m",
      "\u001b[0;32m/Users/brandon/Documents/Github/lca-tools/lcatools/catalog.py\u001b[0m in \u001b[0;36m__init__\u001b[0;34m(self, catalog_dir)\u001b[0m\n\u001b[1;32m     26\u001b[0m         \u001b[0mself\u001b[0m\u001b[0;34m.\u001b[0m\u001b[0m_shortest\u001b[0m \u001b[0;34m=\u001b[0m \u001b[0;34m[\u001b[0m\u001b[0;34m]\u001b[0m  \u001b[0;31m# a list of the shortest nickname for each archive\u001b[0m\u001b[0;34m\u001b[0m\u001b[0m\n\u001b[1;32m     27\u001b[0m         \u001b[0;32mif\u001b[0m \u001b[0mcatalog_dir\u001b[0m \u001b[0;32mis\u001b[0m \u001b[0;32mnot\u001b[0m \u001b[0;32mNone\u001b[0m\u001b[0;34m:\u001b[0m\u001b[0;34m\u001b[0m\u001b[0m\n\u001b[0;32m---> 28\u001b[0;31m             \u001b[0mself\u001b[0m\u001b[0;34m.\u001b[0m\u001b[0m_install_catalogs_from_dir\u001b[0m\u001b[0;34m(\u001b[0m\u001b[0mcatalog_dir\u001b[0m\u001b[0;34m)\u001b[0m\u001b[0;34m\u001b[0m\u001b[0m\n\u001b[0m\u001b[1;32m     29\u001b[0m \u001b[0;34m\u001b[0m\u001b[0m\n\u001b[1;32m     30\u001b[0m     \u001b[0;32mdef\u001b[0m \u001b[0m_install_catalogs_from_dir\u001b[0m\u001b[0;34m(\u001b[0m\u001b[0mself\u001b[0m\u001b[0;34m,\u001b[0m \u001b[0mdr\u001b[0m\u001b[0;34m)\u001b[0m\u001b[0;34m:\u001b[0m\u001b[0;34m\u001b[0m\u001b[0m\n",
      "\u001b[0;32m/Users/brandon/Documents/Github/lca-tools/lcatools/catalog.py\u001b[0m in \u001b[0;36m_install_catalogs_from_dir\u001b[0;34m(self, dr)\u001b[0m\n\u001b[1;32m     31\u001b[0m         \u001b[0mfiles\u001b[0m\u001b[0;34m,\u001b[0m \u001b[0mnames\u001b[0m \u001b[0;34m=\u001b[0m \u001b[0mgz_files\u001b[0m\u001b[0;34m(\u001b[0m\u001b[0mdr\u001b[0m\u001b[0;34m)\u001b[0m\u001b[0;34m\u001b[0m\u001b[0m\n\u001b[1;32m     32\u001b[0m         \u001b[0;32mfor\u001b[0m \u001b[0mi\u001b[0m\u001b[0;34m,\u001b[0m \u001b[0mf\u001b[0m \u001b[0;32min\u001b[0m \u001b[0menumerate\u001b[0m\u001b[0;34m(\u001b[0m\u001b[0mfiles\u001b[0m\u001b[0;34m)\u001b[0m\u001b[0;34m:\u001b[0m\u001b[0;34m\u001b[0m\u001b[0m\n\u001b[0;32m---> 33\u001b[0;31m             \u001b[0mself\u001b[0m\u001b[0;34m.\u001b[0m\u001b[0m_archive_from_json\u001b[0m\u001b[0;34m(\u001b[0m\u001b[0mfrom_json\u001b[0m\u001b[0;34m(\u001b[0m\u001b[0mf\u001b[0m\u001b[0;34m)\u001b[0m\u001b[0;34m,\u001b[0m \u001b[0mnames\u001b[0m\u001b[0;34m[\u001b[0m\u001b[0mi\u001b[0m\u001b[0;34m]\u001b[0m\u001b[0;34m)\u001b[0m\u001b[0;34m\u001b[0m\u001b[0m\n\u001b[0m\u001b[1;32m     34\u001b[0m \u001b[0;34m\u001b[0m\u001b[0m\n\u001b[1;32m     35\u001b[0m     \u001b[0;32mdef\u001b[0m \u001b[0m_set_shortest\u001b[0m\u001b[0;34m(\u001b[0m\u001b[0mself\u001b[0m\u001b[0;34m,\u001b[0m \u001b[0mk\u001b[0m\u001b[0;34m)\u001b[0m\u001b[0;34m:\u001b[0m\u001b[0;34m\u001b[0m\u001b[0m\n",
      "\u001b[0;32m/Users/brandon/Documents/Github/lca-tools/lcatools/catalog.py\u001b[0m in \u001b[0;36m_archive_from_json\u001b[0;34m(self, j, nick, **kwargs)\u001b[0m\n\u001b[1;32m     93\u001b[0m             \u001b[0ma\u001b[0m\u001b[0;34m.\u001b[0m\u001b[0mentity_from_json\u001b[0m\u001b[0;34m(\u001b[0m\u001b[0me\u001b[0m\u001b[0;34m)\u001b[0m\u001b[0;34m\u001b[0m\u001b[0m\n\u001b[1;32m     94\u001b[0m         \u001b[0;32mfor\u001b[0m \u001b[0me\u001b[0m \u001b[0;32min\u001b[0m \u001b[0mj\u001b[0m\u001b[0;34m[\u001b[0m\u001b[0;34m'flows'\u001b[0m\u001b[0;34m]\u001b[0m\u001b[0;34m:\u001b[0m\u001b[0;34m\u001b[0m\u001b[0m\n\u001b[0;32m---> 95\u001b[0;31m             \u001b[0ma\u001b[0m\u001b[0;34m.\u001b[0m\u001b[0mentity_from_json\u001b[0m\u001b[0;34m(\u001b[0m\u001b[0me\u001b[0m\u001b[0;34m)\u001b[0m\u001b[0;34m\u001b[0m\u001b[0m\n\u001b[0m\u001b[1;32m     96\u001b[0m         \u001b[0;32mfor\u001b[0m \u001b[0me\u001b[0m \u001b[0;32min\u001b[0m \u001b[0mj\u001b[0m\u001b[0;34m[\u001b[0m\u001b[0;34m'processes'\u001b[0m\u001b[0;34m]\u001b[0m\u001b[0;34m:\u001b[0m\u001b[0;34m\u001b[0m\u001b[0m\n\u001b[1;32m     97\u001b[0m             \u001b[0ma\u001b[0m\u001b[0;34m.\u001b[0m\u001b[0mentity_from_json\u001b[0m\u001b[0;34m(\u001b[0m\u001b[0me\u001b[0m\u001b[0;34m)\u001b[0m\u001b[0;34m\u001b[0m\u001b[0m\n",
      "\u001b[0;32m/Users/brandon/Documents/Github/lca-tools/lcatools/interfaces.py\u001b[0m in \u001b[0;36mentity_from_json\u001b[0;34m(self, e)\u001b[0m\n\u001b[1;32m    169\u001b[0m                     \u001b[0;32mif\u001b[0m \u001b[0;34m'value'\u001b[0m \u001b[0;32min\u001b[0m \u001b[0mc\u001b[0m\u001b[0;34m:\u001b[0m\u001b[0;34m\u001b[0m\u001b[0m\n\u001b[1;32m    170\u001b[0m                         \u001b[0mv\u001b[0m \u001b[0;34m=\u001b[0m \u001b[0mc\u001b[0m\u001b[0;34m[\u001b[0m\u001b[0;34m'value'\u001b[0m\u001b[0;34m]\u001b[0m\u001b[0;34m\u001b[0m\u001b[0m\n\u001b[0;32m--> 171\u001b[0;31m                     \u001b[0mis_ref\u001b[0m \u001b[0;34m=\u001b[0m \u001b[0mq\u001b[0m \u001b[0;34m==\u001b[0m \u001b[0mentity\u001b[0m\u001b[0;34m[\u001b[0m\u001b[0;34m'referenceQuantity'\u001b[0m\u001b[0;34m]\u001b[0m\u001b[0;34m\u001b[0m\u001b[0m\n\u001b[0m\u001b[1;32m    172\u001b[0m                     \u001b[0mentity\u001b[0m\u001b[0;34m.\u001b[0m\u001b[0madd_characterization\u001b[0m\u001b[0;34m(\u001b[0m\u001b[0mq\u001b[0m\u001b[0;34m,\u001b[0m \u001b[0mreference\u001b[0m\u001b[0;34m=\u001b[0m\u001b[0mis_ref\u001b[0m\u001b[0;34m,\u001b[0m \u001b[0mvalue\u001b[0m\u001b[0;34m=\u001b[0m\u001b[0mv\u001b[0m\u001b[0;34m)\u001b[0m\u001b[0;34m\u001b[0m\u001b[0m\n\u001b[1;32m    173\u001b[0m         \u001b[0;32melif\u001b[0m \u001b[0metype\u001b[0m \u001b[0;34m==\u001b[0m \u001b[0;34m'process'\u001b[0m\u001b[0;34m:\u001b[0m\u001b[0;34m\u001b[0m\u001b[0m\n",
      "\u001b[0;32m/Users/brandon/Documents/Github/lca-tools/lcatools/entities.py\u001b[0m in \u001b[0;36m__eq__\u001b[0;34m(self, other)\u001b[0m\n\u001b[1;32m    167\u001b[0m         \u001b[0;34m:\u001b[0m\u001b[0;32mreturn\u001b[0m\u001b[0;34m:\u001b[0m\u001b[0;34m\u001b[0m\u001b[0m\n\u001b[1;32m    168\u001b[0m         \"\"\"\n\u001b[0;32m--> 169\u001b[0;31m         return (self.get_external_ref() == other.get_external_ref() and\n\u001b[0m\u001b[1;32m    170\u001b[0m                 \u001b[0mself\u001b[0m\u001b[0;34m[\u001b[0m\u001b[0;34m'origin'\u001b[0m\u001b[0;34m]\u001b[0m \u001b[0;34m==\u001b[0m \u001b[0mother\u001b[0m\u001b[0;34m[\u001b[0m\u001b[0;34m'origin'\u001b[0m\u001b[0;34m]\u001b[0m \u001b[0;32mand\u001b[0m\u001b[0;34m\u001b[0m\u001b[0m\n\u001b[1;32m    171\u001b[0m                 self.entity_type == other.entity_type)\n",
      "\u001b[0;31mAttributeError\u001b[0m: 'NoneType' object has no attribute 'get_external_ref'"
     ]
    }
   ],
   "source": [
    "C = LcaCatalog(catalog_dir)"
   ]
  },
  {
   "cell_type": "code",
   "execution_count": 5,
   "metadata": {
    "collapsed": false
   },
   "outputs": [],
   "source": [
    "C = LcaCatalog()"
   ]
  },
  {
   "cell_type": "code",
   "execution_count": 6,
   "metadata": {
    "collapsed": false
   },
   "outputs": [
    {
     "name": "stdout",
     "output_type": "stream",
     "text": [
      "20 new quantity entities added (20 total)\n",
      "6767 new flow entities added (6767 total)\n",
      "11420 new process entities added (11420 total)\n",
      "20 new quantity entities added (20 total)\n",
      "6767 new flow entities added (6767 total)\n",
      "11468 new process entities added (11468 total)\n",
      "20 new quantity entities added (20 total)\n",
      "6767 new flow entities added (6767 total)\n",
      "11578 new process entities added (11578 total)\n",
      "20 new quantity entities added (20 total)\n",
      "6767 new flow entities added (6767 total)\n",
      "13307 new process entities added (13307 total)\n",
      "WARNING: path does not resolve.  Archive will be non-functional.\n",
      "Trying local ELCD reference\n",
      "WARNING: path does not resolve.  Archive will be non-functional.\n",
      "Falling back to ELCD Remote Reference\n",
      "Archive refers to a web address using protocol http\n",
      " with query string format=xml\n",
      " caching files locally in /Users/brandon/Documents/Github/lca-tools/lcatools/providers/web_cache/eplca.jrc.ec.europa.eu/ELCD3/resource/\n",
      "Found file in cache: unitgroups/f2275057-f8be-4db9-bb78-5dfc276967a0.xml\n",
      "Found file in cache: unitgroups/8faea1b8-2421-4a68-9f55-86d97d70b321.xml\n",
      "Found file in cache: unitgroups/a700dfc6-43e4-472e-b2a8-b8485dd38776.xml\n",
      "Found file in cache: unitgroups/36932b14-ba61-417b-a80c-eb9935d193f1.xml\n",
      "Found file in cache: unitgroups/9e5a91be-b3d1-4268-8e7d-e5e93f6a75d4.xml\n",
      "Found file in cache: unitgroups/838aaa21-0117-11db-92e3-0800200c9a66.xml\n",
      "Found file in cache: unitgroups/a6941776-ee4b-40fe-9a05-e19faac45240.xml\n",
      "Found file in cache: unitgroups/93a60a57-a4c8-11da-a746-0800200c9a66.xml\n",
      "Found file in cache: unitgroups/93a60a57-a3c8-11da-a746-0800200c9a66.xml\n",
      "Found file in cache: unitgroups/93a60a57-a3c8-12da-a746-0800200c9a66.xml\n",
      "Found file in cache: unitgroups/93a60a57-a3c8-16da-a746-0800200c9a66.xml\n",
      "Found file in cache: unitgroups/93a60a57-a3c8-18da-a746-0800200c9a66.xml\n",
      "Found file in cache: unitgroups/93a60a57-a3c8-20da-a746-0800200c9a66.xml\n",
      "Found file in cache: unitgroups/93a60a57-a3c8-12da-a746-0800200c9a66.xml\n",
      "Found file in cache: unitgroups/4af75db0-dc90-4097-8c21-ac6a2e0baf0c.xml\n",
      "Found file in cache: unitgroups/3dbb60e1-edde-49f7-b28d-f34b4af727b3.xml\n",
      "Found file in cache: unitgroups/59f6a0a2-731f-41c3-86df-d383dc673dfe.xml\n",
      "Found file in cache: unitgroups/c28831de-8759-43da-98bd-05617cb1722d.xml\n",
      "18 new quantity entities added (18 total)\n",
      "2343 new flow entities added (2343 total)\n",
      "503 new process entities added (503 total)\n",
      "Archive refers to a web address using protocol http\n",
      " caching files locally in /Users/brandon/Documents/Github/lca-tools/lcatools/providers/web_cache/gabi-documentation-2016.gabi-software.com/xml-data/\n",
      "Found file in cache: unitgroups/5beb6eed-33a9-47b8-9ede-1dfe8f679159.xml\n",
      "Found file in cache: unitgroups/3620148f-c5db-48ce-9065-a10092089aca.xml\n",
      "Found file in cache: unitgroups/838aaa22-0117-11db-92e3-0800200c9a66.xml\n",
      "Found file in cache: unitgroups/8992910b-42c3-4cc5-96fa-66ac4ac3b6de.xml\n",
      "Found file in cache: unitgroups/93a60a57-a4c8-11da-a746-0800200c9a66.xml\n",
      "Found file in cache: unitgroups/93a60a57-a3c8-11da-a746-0800200c9a66.xml\n",
      "Found file in cache: unitgroups/93a60a57-a3c8-12da-a746-0800200c9a66.xml\n",
      "Found file in cache: unitgroups/93a60a57-a3c8-11da-a746-0800200c9a66.xml\n",
      "Found file in cache: unitgroups/93a60a57-a3c8-18da-a746-0800200c9a66.xml\n",
      "Found file in cache: unitgroups/93a60a57-a3c8-12da-a746-0800200c9a66.xml\n",
      "Found file in cache: unitgroups/46076063-39cb-4e0e-9b18-f6d04fee3f60.xml\n",
      "Found file in cache: unitgroups/af638906-3ec7-4314-8de7-f76039f2dd01.xml\n",
      "12 new quantity entities added (12 total)\n",
      "2304 new flow entities added (2304 total)\n",
      "7457 new process entities added (7457 total)\n",
      "Archive refers to a web address using protocol http\n",
      " caching files locally in /Users/brandon/Documents/Github/lca-tools/lcatools/providers/web_cache/gabi-documentation-2016.gabi-software.com/xml-data/\n",
      "Found file in cache: unitgroups/5beb6eed-33a9-47b8-9ede-1dfe8f679159.xml\n",
      "Found file in cache: unitgroups/3620148f-c5db-48ce-9065-a10092089aca.xml\n",
      "Found file in cache: unitgroups/838aaa22-0117-11db-92e3-0800200c9a66.xml\n",
      "Found file in cache: unitgroups/93a60a57-a4c8-11da-a746-0800200c9a66.xml\n",
      "Found file in cache: unitgroups/93a60a57-a3c8-11da-a746-0800200c9a66.xml\n",
      "Found file in cache: unitgroups/93a60a57-a3c8-12da-a746-0800200c9a66.xml\n",
      "Found file in cache: unitgroups/93a60a57-a3c8-18da-a746-0800200c9a66.xml\n",
      "Found file in cache: unitgroups/93a60a57-a3c8-12da-a746-0800200c9a66.xml\n",
      "Found file in cache: unitgroups/af638906-3ec7-4314-8de7-f76039f2dd01.xml\n",
      "Found file in cache: unitgroups/b3a220db-0613-42ab-84bc-b153d339cb0d.xml\n",
      "10 new quantity entities added (10 total)\n",
      "762 new flow entities added (762 total)\n",
      "3319 new process entities added (3319 total)\n",
      "WARNING: path does not resolve.  Archive will be non-functional.\n",
      "19 new quantity entities added (19 total)\n",
      "4176 new flow entities added (4176 total)\n",
      "701 new process entities added (701 total)\n"
     ]
    }
   ],
   "source": [
    "for i, f in enumerate(files):\n",
    "    C.load_json_archive(f, names[i])"
   ]
  },
  {
   "cell_type": "code",
   "execution_count": 7,
   "metadata": {
    "collapsed": true
   },
   "outputs": [],
   "source": [
    "def asearch(**kwargs):\n",
    "    res_set = []\n",
    "    for i, a in enumerate(C.archives):\n",
    "        rs = a.search(**kwargs)\n",
    "        if rs is not None:\n",
    "            res_set.extend([(C._shortest[i], r) for r in rs])\n",
    "    return res_set\n"
   ]
  },
  {
   "cell_type": "code",
   "execution_count": 24,
   "metadata": {
    "collapsed": false
   },
   "outputs": [],
   "source": [
    "r = asearch(Name=['sugar'], entity_type='flow')"
   ]
  },
  {
   "cell_type": "code",
   "execution_count": 25,
   "metadata": {
    "collapsed": false
   },
   "outputs": [
    {
     "name": "stdout",
     "output_type": "stream",
     "text": [
      "       ecoinvent_3.2_apos_xlsx: sugar refinery [Intermediate flow]\n",
      "       ecoinvent_3.2_apos_xlsx: vinasse, from fermentation of sugarcane [Intermediate flow]\n",
      "       ecoinvent_3.2_apos_xlsx: vinasse, from fermentation of sugar beet [Intermediate flow]\n",
      "       ecoinvent_3.2_apos_xlsx: sugar beet seed, for sowing [Intermediate flow]\n",
      "       ecoinvent_3.2_apos_xlsx: sugar beet pulp [Intermediate flow]\n",
      "       ecoinvent_3.2_apos_xlsx: ash, from combustion of bagasse from sugar cane [Intermediate flow]\n",
      "       ecoinvent_3.2_apos_xlsx: bagasse, from sugarcane [Intermediate flow]\n",
      "       ecoinvent_3.2_apos_xlsx: sugar, from sugar beet [Intermediate flow]\n",
      "       ecoinvent_3.2_apos_xlsx: molasses, from sugar beet [Intermediate flow]\n",
      "       ecoinvent_3.2_apos_xlsx: vinasse, from fermentation of sugarcane molasses [Intermediate flow]\n",
      "       ecoinvent_3.2_apos_xlsx: sugarcane [Intermediate flow]\n",
      "       ecoinvent_3.2_apos_xlsx: vinasse, from fermentation of sugar beet molasses [Intermediate flow]\n",
      "       ecoinvent_3.2_apos_xlsx: sugar beet [Intermediate flow]\n",
      "       ecoinvent_3.2_apos_xlsx: sugar, from sugarcane [Intermediate flow]\n",
      "ecoinvent_3.2_consequential_xl: sugar beet pulp [Intermediate flow]\n",
      "ecoinvent_3.2_consequential_xl: bagasse, from sugarcane [Intermediate flow]\n",
      "ecoinvent_3.2_consequential_xl: sugar beet seed, for sowing [Intermediate flow]\n",
      "ecoinvent_3.2_consequential_xl: vinasse, from fermentation of sugarcane molasses [Intermediate flow]\n",
      "ecoinvent_3.2_consequential_xl: vinasse, from fermentation of sugar beet [Intermediate flow]\n",
      "ecoinvent_3.2_consequential_xl: sugarcane [Intermediate flow]\n",
      "ecoinvent_3.2_consequential_xl: vinasse, from fermentation of sugarcane [Intermediate flow]\n",
      "ecoinvent_3.2_consequential_xl: sugar refinery [Intermediate flow]\n",
      "ecoinvent_3.2_consequential_xl: ash, from combustion of bagasse from sugar cane [Intermediate flow]\n",
      "ecoinvent_3.2_consequential_xl: sugar beet [Intermediate flow]\n",
      "ecoinvent_3.2_consequential_xl: sugar, from sugarcane [Intermediate flow]\n",
      "ecoinvent_3.2_consequential_xl: vinasse, from fermentation of sugar beet molasses [Intermediate flow]\n",
      "ecoinvent_3.2_consequential_xl: sugar, from sugar beet [Intermediate flow]\n",
      "ecoinvent_3.2_consequential_xl: molasses, from sugar beet [Intermediate flow]\n",
      "    ecoinvent_3.2_cut-off_xlsx: vinasse, from fermentation of sugar beet molasses [Intermediate flow]\n",
      "    ecoinvent_3.2_cut-off_xlsx: molasses, from sugar beet [Intermediate flow]\n",
      "    ecoinvent_3.2_cut-off_xlsx: sugar beet [Intermediate flow]\n",
      "    ecoinvent_3.2_cut-off_xlsx: vinasse, from fermentation of sugarcane molasses [Intermediate flow]\n",
      "    ecoinvent_3.2_cut-off_xlsx: sugar beet pulp [Intermediate flow]\n",
      "    ecoinvent_3.2_cut-off_xlsx: vinasse, from fermentation of sugarcane [Intermediate flow]\n",
      "    ecoinvent_3.2_cut-off_xlsx: sugar beet seed, for sowing [Intermediate flow]\n",
      "    ecoinvent_3.2_cut-off_xlsx: vinasse, from fermentation of sugar beet [Intermediate flow]\n",
      "    ecoinvent_3.2_cut-off_xlsx: sugar refinery [Intermediate flow]\n",
      "    ecoinvent_3.2_cut-off_xlsx: sugar, from sugarcane [Intermediate flow]\n",
      "    ecoinvent_3.2_cut-off_xlsx: ash, from combustion of bagasse from sugar cane [Intermediate flow]\n",
      "    ecoinvent_3.2_cut-off_xlsx: sugarcane [Intermediate flow]\n",
      "    ecoinvent_3.2_cut-off_xlsx: bagasse, from sugarcane [Intermediate flow]\n",
      "    ecoinvent_3.2_cut-off_xlsx: sugar, from sugar beet [Intermediate flow]\n",
      "  ecoinvent_3.2_undefined_xlsx: vinasse, from fermentation of sugarcane [Intermediate flow]\n",
      "  ecoinvent_3.2_undefined_xlsx: vinasse, from fermentation of sugarcane molasses [Intermediate flow]\n",
      "  ecoinvent_3.2_undefined_xlsx: sugarcane [Intermediate flow]\n",
      "  ecoinvent_3.2_undefined_xlsx: sugar beet pulp [Intermediate flow]\n",
      "  ecoinvent_3.2_undefined_xlsx: sugar, from sugar beet [Intermediate flow]\n",
      "  ecoinvent_3.2_undefined_xlsx: molasses, from sugar beet [Intermediate flow]\n",
      "  ecoinvent_3.2_undefined_xlsx: sugar refinery [Intermediate flow]\n",
      "  ecoinvent_3.2_undefined_xlsx: ash, from combustion of bagasse from sugar cane [Intermediate flow]\n",
      "  ecoinvent_3.2_undefined_xlsx: sugar beet seed, for sowing [Intermediate flow]\n",
      "  ecoinvent_3.2_undefined_xlsx: vinasse, from fermentation of sugar beet molasses [Intermediate flow]\n",
      "  ecoinvent_3.2_undefined_xlsx: bagasse, from sugarcane [Intermediate flow]\n",
      "  ecoinvent_3.2_undefined_xlsx: sugar, from sugarcane [Intermediate flow]\n",
      "  ecoinvent_3.2_undefined_xlsx: vinasse, from fermentation of sugar beet [Intermediate flow]\n",
      "  ecoinvent_3.2_undefined_xlsx: sugar beet [Intermediate flow]\n",
      "      gabi_2016_all-extensions: Sugar cane (TH; 74.5% H2O content) [Valuable substances, Materials, Renewable primary products]\n",
      "      gabi_2016_all-extensions: Sugar (crystal sugar) [Valuable substances, Materials, Materials from renewable raw materials]\n",
      "      gabi_2016_all-extensions: Sugar beet (75% H2O content) [Valuable substances, Materials, Renewable primary products]\n",
      "      gabi_2016_all-extensions: Ethanol from sugar beet (CAS 000064-17-5) [Valuable substances, Energy carrier, Fuels, Biomass fuels]\n",
      "      gabi_2016_all-extensions: Ethanol from sugar cane (CAS 000064-17-5) [Valuable substances, Energy carrier, Fuels, Biomass fuels]\n",
      "      gabi_2016_all-extensions: Sugar cane (74.5% H2O content) [Valuable substances, Materials, Renewable primary products]\n",
      "                uslci_ecospold: Sugar beets, in ground [resource, unspecified]\n",
      "                uslci_ecospold: Sugar beets, in ground [Chemical Manufacturing, Petrochemical Manufacturing]\n"
     ]
    }
   ],
   "source": [
    "for k in r:\n",
    "    print('%30.30s: %s' % (k[0], k[1]))"
   ]
  },
  {
   "cell_type": "code",
   "execution_count": 10,
   "metadata": {
    "collapsed": true
   },
   "outputs": [],
   "source": [
    "ei_lcia = os.path.join(catalog_dir, 'ei_lcia.json.gz')"
   ]
  },
  {
   "cell_type": "code",
   "execution_count": 6,
   "metadata": {
    "collapsed": false
   },
   "outputs": [
    {
     "ename": "AttributeError",
     "evalue": "'NoneType' object has no attribute 'get_external_ref'",
     "output_type": "error",
     "traceback": [
      "\u001b[0;31m---------------------------------------------------------------------------\u001b[0m",
      "\u001b[0;31mAttributeError\u001b[0m                            Traceback (most recent call last)",
      "\u001b[0;32m<ipython-input-6-7cc94914b029>\u001b[0m in \u001b[0;36m<module>\u001b[0;34m()\u001b[0m\n\u001b[0;32m----> 1\u001b[0;31m \u001b[0mC\u001b[0m\u001b[0;34m.\u001b[0m\u001b[0mload_json_archive\u001b[0m\u001b[0;34m(\u001b[0m\u001b[0mos\u001b[0m\u001b[0;34m.\u001b[0m\u001b[0mpath\u001b[0m\u001b[0;34m.\u001b[0m\u001b[0mjoin\u001b[0m\u001b[0;34m(\u001b[0m\u001b[0mcatalog_dir\u001b[0m\u001b[0;34m,\u001b[0m \u001b[0;34m'ei_lcia.json.gz'\u001b[0m\u001b[0;34m)\u001b[0m\u001b[0;34m,\u001b[0m \u001b[0;34m'ei_lcia'\u001b[0m\u001b[0;34m)\u001b[0m\u001b[0;34m\u001b[0m\u001b[0m\n\u001b[0m",
      "\u001b[0;32m/Users/brandon/Documents/Github/lca-tools/lcatools/catalog.py\u001b[0m in \u001b[0;36mload_json_archive\u001b[0;34m(self, f, nick, **kwargs)\u001b[0m\n\u001b[1;32m    106\u001b[0m \u001b[0;34m\u001b[0m\u001b[0m\n\u001b[1;32m    107\u001b[0m     \u001b[0;32mdef\u001b[0m \u001b[0mload_json_archive\u001b[0m\u001b[0;34m(\u001b[0m\u001b[0mself\u001b[0m\u001b[0;34m,\u001b[0m \u001b[0mf\u001b[0m\u001b[0;34m,\u001b[0m \u001b[0mnick\u001b[0m\u001b[0;34m,\u001b[0m \u001b[0;34m**\u001b[0m\u001b[0mkwargs\u001b[0m\u001b[0;34m)\u001b[0m\u001b[0;34m:\u001b[0m\u001b[0;34m\u001b[0m\u001b[0m\n\u001b[0;32m--> 108\u001b[0;31m         \u001b[0mself\u001b[0m\u001b[0;34m.\u001b[0m\u001b[0m_archive_from_json\u001b[0m\u001b[0;34m(\u001b[0m\u001b[0mfrom_json\u001b[0m\u001b[0;34m(\u001b[0m\u001b[0mf\u001b[0m\u001b[0;34m)\u001b[0m\u001b[0;34m,\u001b[0m \u001b[0mnick\u001b[0m\u001b[0;34m,\u001b[0m \u001b[0;34m**\u001b[0m\u001b[0mkwargs\u001b[0m\u001b[0;34m)\u001b[0m\u001b[0;34m\u001b[0m\u001b[0m\n\u001b[0m\u001b[1;32m    109\u001b[0m \u001b[0;34m\u001b[0m\u001b[0m\n\u001b[1;32m    110\u001b[0m     \u001b[0;32mdef\u001b[0m \u001b[0malias\u001b[0m\u001b[0;34m(\u001b[0m\u001b[0mself\u001b[0m\u001b[0;34m,\u001b[0m \u001b[0mnick\u001b[0m\u001b[0;34m,\u001b[0m \u001b[0malias\u001b[0m\u001b[0;34m)\u001b[0m\u001b[0;34m:\u001b[0m\u001b[0;34m\u001b[0m\u001b[0m\n",
      "\u001b[0;32m/Users/brandon/Documents/Github/lca-tools/lcatools/catalog.py\u001b[0m in \u001b[0;36m_archive_from_json\u001b[0;34m(self, j, nick, **kwargs)\u001b[0m\n\u001b[1;32m     93\u001b[0m             \u001b[0ma\u001b[0m\u001b[0;34m.\u001b[0m\u001b[0mentity_from_json\u001b[0m\u001b[0;34m(\u001b[0m\u001b[0me\u001b[0m\u001b[0;34m)\u001b[0m\u001b[0;34m\u001b[0m\u001b[0m\n\u001b[1;32m     94\u001b[0m         \u001b[0;32mfor\u001b[0m \u001b[0me\u001b[0m \u001b[0;32min\u001b[0m \u001b[0mj\u001b[0m\u001b[0;34m[\u001b[0m\u001b[0;34m'flows'\u001b[0m\u001b[0;34m]\u001b[0m\u001b[0;34m:\u001b[0m\u001b[0;34m\u001b[0m\u001b[0m\n\u001b[0;32m---> 95\u001b[0;31m             \u001b[0ma\u001b[0m\u001b[0;34m.\u001b[0m\u001b[0mentity_from_json\u001b[0m\u001b[0;34m(\u001b[0m\u001b[0me\u001b[0m\u001b[0;34m)\u001b[0m\u001b[0;34m\u001b[0m\u001b[0m\n\u001b[0m\u001b[1;32m     96\u001b[0m         \u001b[0;32mfor\u001b[0m \u001b[0me\u001b[0m \u001b[0;32min\u001b[0m \u001b[0mj\u001b[0m\u001b[0;34m[\u001b[0m\u001b[0;34m'processes'\u001b[0m\u001b[0;34m]\u001b[0m\u001b[0;34m:\u001b[0m\u001b[0;34m\u001b[0m\u001b[0m\n\u001b[1;32m     97\u001b[0m             \u001b[0ma\u001b[0m\u001b[0;34m.\u001b[0m\u001b[0mentity_from_json\u001b[0m\u001b[0;34m(\u001b[0m\u001b[0me\u001b[0m\u001b[0;34m)\u001b[0m\u001b[0;34m\u001b[0m\u001b[0m\n",
      "\u001b[0;32m/Users/brandon/Documents/Github/lca-tools/lcatools/interfaces.py\u001b[0m in \u001b[0;36mentity_from_json\u001b[0;34m(self, e)\u001b[0m\n\u001b[1;32m    169\u001b[0m                     \u001b[0;32mif\u001b[0m \u001b[0;34m'value'\u001b[0m \u001b[0;32min\u001b[0m \u001b[0mc\u001b[0m\u001b[0;34m:\u001b[0m\u001b[0;34m\u001b[0m\u001b[0m\n\u001b[1;32m    170\u001b[0m                         \u001b[0mv\u001b[0m \u001b[0;34m=\u001b[0m \u001b[0mc\u001b[0m\u001b[0;34m[\u001b[0m\u001b[0;34m'value'\u001b[0m\u001b[0;34m]\u001b[0m\u001b[0;34m\u001b[0m\u001b[0m\n\u001b[0;32m--> 171\u001b[0;31m                     \u001b[0mis_ref\u001b[0m \u001b[0;34m=\u001b[0m \u001b[0mq\u001b[0m \u001b[0;34m==\u001b[0m \u001b[0mentity\u001b[0m\u001b[0;34m[\u001b[0m\u001b[0;34m'referenceQuantity'\u001b[0m\u001b[0;34m]\u001b[0m\u001b[0;34m\u001b[0m\u001b[0m\n\u001b[0m\u001b[1;32m    172\u001b[0m                     \u001b[0mentity\u001b[0m\u001b[0;34m.\u001b[0m\u001b[0madd_characterization\u001b[0m\u001b[0;34m(\u001b[0m\u001b[0mq\u001b[0m\u001b[0;34m,\u001b[0m \u001b[0mreference\u001b[0m\u001b[0;34m=\u001b[0m\u001b[0mis_ref\u001b[0m\u001b[0;34m,\u001b[0m \u001b[0mvalue\u001b[0m\u001b[0;34m=\u001b[0m\u001b[0mv\u001b[0m\u001b[0;34m)\u001b[0m\u001b[0;34m\u001b[0m\u001b[0m\n\u001b[1;32m    173\u001b[0m         \u001b[0;32melif\u001b[0m \u001b[0metype\u001b[0m \u001b[0;34m==\u001b[0m \u001b[0;34m'process'\u001b[0m\u001b[0;34m:\u001b[0m\u001b[0;34m\u001b[0m\u001b[0m\n",
      "\u001b[0;32m/Users/brandon/Documents/Github/lca-tools/lcatools/entities.py\u001b[0m in \u001b[0;36m__eq__\u001b[0;34m(self, other)\u001b[0m\n\u001b[1;32m    167\u001b[0m         \u001b[0;34m:\u001b[0m\u001b[0;32mreturn\u001b[0m\u001b[0;34m:\u001b[0m\u001b[0;34m\u001b[0m\u001b[0m\n\u001b[1;32m    168\u001b[0m         \"\"\"\n\u001b[0;32m--> 169\u001b[0;31m         return (self.get_external_ref() == other.get_external_ref() and\n\u001b[0m\u001b[1;32m    170\u001b[0m                 \u001b[0mself\u001b[0m\u001b[0;34m[\u001b[0m\u001b[0;34m'origin'\u001b[0m\u001b[0;34m]\u001b[0m \u001b[0;34m==\u001b[0m \u001b[0mother\u001b[0m\u001b[0;34m[\u001b[0m\u001b[0;34m'origin'\u001b[0m\u001b[0;34m]\u001b[0m \u001b[0;32mand\u001b[0m\u001b[0;34m\u001b[0m\u001b[0m\n\u001b[1;32m    171\u001b[0m                 self.entity_type == other.entity_type)\n",
      "\u001b[0;31mAttributeError\u001b[0m: 'NoneType' object has no attribute 'get_external_ref'"
     ]
    }
   ],
   "source": [
    "C.load_json_archive(os.path.join(catalog_dir, 'ei_lcia.json.gz'), 'ei_lcia')"
   ]
  },
  {
   "cell_type": "code",
   "execution_count": 7,
   "metadata": {
    "collapsed": false
   },
   "outputs": [
    {
     "data": {
      "text/plain": [
       "[<lcatools.providers.ilcd.IlcdArchive at 0x10aa8d898>]"
      ]
     },
     "execution_count": 7,
     "metadata": {},
     "output_type": "execute_result"
    }
   ],
   "source": [
    "C.archives"
   ]
  },
  {
   "cell_type": "code",
   "execution_count": 8,
   "metadata": {
    "collapsed": false
   },
   "outputs": [],
   "source": [
    "from lcatools.providers.ecoinvent_lcia import EcoinventLcia"
   ]
  },
  {
   "cell_type": "code",
   "execution_count": 18,
   "metadata": {
    "collapsed": true
   },
   "outputs": [],
   "source": [
    "from lcatools.tools import from_json\n",
    "import json"
   ]
  },
  {
   "cell_type": "code",
   "execution_count": 11,
   "metadata": {
    "collapsed": true
   },
   "outputs": [],
   "source": [
    "j = from_json(ei_lcia)"
   ]
  },
  {
   "cell_type": "code",
   "execution_count": 12,
   "metadata": {
    "collapsed": false
   },
   "outputs": [],
   "source": [
    "a = EcoinventLcia(j['dataSourceReference'], ns_uuid=j['nsUuid'])"
   ]
  },
  {
   "cell_type": "code",
   "execution_count": 19,
   "metadata": {
    "collapsed": false
   },
   "outputs": [
    {
     "ename": "AttributeError",
     "evalue": "'NoneType' object has no attribute 'get_external_ref'",
     "output_type": "error",
     "traceback": [
      "\u001b[0;31m---------------------------------------------------------------------------\u001b[0m",
      "\u001b[0;31mAttributeError\u001b[0m                            Traceback (most recent call last)",
      "\u001b[0;32m<ipython-input-19-529dafa4358d>\u001b[0m in \u001b[0;36m<module>\u001b[0;34m()\u001b[0m\n\u001b[1;32m      2\u001b[0m     \u001b[0;32mif\u001b[0m \u001b[0;34m'entityId'\u001b[0m \u001b[0;32min\u001b[0m \u001b[0me\u001b[0m\u001b[0;34m:\u001b[0m\u001b[0;34m\u001b[0m\u001b[0m\n\u001b[1;32m      3\u001b[0m         \u001b[0;32mtry\u001b[0m\u001b[0;34m:\u001b[0m\u001b[0;34m\u001b[0m\u001b[0m\n\u001b[0;32m----> 4\u001b[0;31m             \u001b[0ma\u001b[0m\u001b[0;34m.\u001b[0m\u001b[0mentity_from_json\u001b[0m\u001b[0;34m(\u001b[0m\u001b[0me\u001b[0m\u001b[0;34m)\u001b[0m\u001b[0;34m\u001b[0m\u001b[0m\n\u001b[0m\u001b[1;32m      5\u001b[0m         \u001b[0;32mexcept\u001b[0m \u001b[0mAttributeError\u001b[0m\u001b[0;34m:\u001b[0m\u001b[0;34m\u001b[0m\u001b[0m\n\u001b[1;32m      6\u001b[0m             \u001b[0mjson\u001b[0m\u001b[0;34m.\u001b[0m\u001b[0mdumps\u001b[0m\u001b[0;34m(\u001b[0m\u001b[0me\u001b[0m\u001b[0;34m,\u001b[0m \u001b[0mindent\u001b[0m\u001b[0;34m=\u001b[0m\u001b[0;36m2\u001b[0m\u001b[0;34m)\u001b[0m\u001b[0;34m\u001b[0m\u001b[0m\n",
      "\u001b[0;32m/Users/brandon/Documents/Github/lca-tools/lcatools/interfaces.py\u001b[0m in \u001b[0;36mentity_from_json\u001b[0;34m(self, e)\u001b[0m\n\u001b[1;32m    169\u001b[0m                     \u001b[0;32mif\u001b[0m \u001b[0;34m'value'\u001b[0m \u001b[0;32min\u001b[0m \u001b[0mc\u001b[0m\u001b[0;34m:\u001b[0m\u001b[0;34m\u001b[0m\u001b[0m\n\u001b[1;32m    170\u001b[0m                         \u001b[0mv\u001b[0m \u001b[0;34m=\u001b[0m \u001b[0mc\u001b[0m\u001b[0;34m[\u001b[0m\u001b[0;34m'value'\u001b[0m\u001b[0;34m]\u001b[0m\u001b[0;34m\u001b[0m\u001b[0m\n\u001b[0;32m--> 171\u001b[0;31m                     \u001b[0mis_ref\u001b[0m \u001b[0;34m=\u001b[0m \u001b[0mq\u001b[0m \u001b[0;34m==\u001b[0m \u001b[0mentity\u001b[0m\u001b[0;34m[\u001b[0m\u001b[0;34m'referenceQuantity'\u001b[0m\u001b[0;34m]\u001b[0m\u001b[0;34m\u001b[0m\u001b[0m\n\u001b[0m\u001b[1;32m    172\u001b[0m                     \u001b[0mentity\u001b[0m\u001b[0;34m.\u001b[0m\u001b[0madd_characterization\u001b[0m\u001b[0;34m(\u001b[0m\u001b[0mq\u001b[0m\u001b[0;34m,\u001b[0m \u001b[0mreference\u001b[0m\u001b[0;34m=\u001b[0m\u001b[0mis_ref\u001b[0m\u001b[0;34m,\u001b[0m \u001b[0mvalue\u001b[0m\u001b[0;34m=\u001b[0m\u001b[0mv\u001b[0m\u001b[0;34m)\u001b[0m\u001b[0;34m\u001b[0m\u001b[0m\n\u001b[1;32m    173\u001b[0m         \u001b[0;32melif\u001b[0m \u001b[0metype\u001b[0m \u001b[0;34m==\u001b[0m \u001b[0;34m'process'\u001b[0m\u001b[0;34m:\u001b[0m\u001b[0;34m\u001b[0m\u001b[0m\n",
      "\u001b[0;32m/Users/brandon/Documents/Github/lca-tools/lcatools/entities.py\u001b[0m in \u001b[0;36m__eq__\u001b[0;34m(self, other)\u001b[0m\n\u001b[1;32m    167\u001b[0m         \u001b[0;34m:\u001b[0m\u001b[0;32mreturn\u001b[0m\u001b[0;34m:\u001b[0m\u001b[0;34m\u001b[0m\u001b[0m\n\u001b[1;32m    168\u001b[0m         \"\"\"\n\u001b[0;32m--> 169\u001b[0;31m         return (self.get_external_ref() == other.get_external_ref() and\n\u001b[0m\u001b[1;32m    170\u001b[0m                 \u001b[0mself\u001b[0m\u001b[0;34m[\u001b[0m\u001b[0;34m'origin'\u001b[0m\u001b[0;34m]\u001b[0m \u001b[0;34m==\u001b[0m \u001b[0mother\u001b[0m\u001b[0;34m[\u001b[0m\u001b[0;34m'origin'\u001b[0m\u001b[0;34m]\u001b[0m \u001b[0;32mand\u001b[0m\u001b[0;34m\u001b[0m\u001b[0m\n\u001b[1;32m    171\u001b[0m                 self.entity_type == other.entity_type)\n",
      "\u001b[0;31mAttributeError\u001b[0m: 'NoneType' object has no attribute 'get_external_ref'"
     ]
    }
   ],
   "source": [
    "for e in j['flows']:\n",
    "    if 'entityId' in e:\n",
    "        try:\n",
    "            a.entity_from_json(e)\n",
    "        except AttributeError:\n",
    "            json.dumps(e, indent=2)\n",
    "            raise"
   ]
  },
  {
   "cell_type": "code",
   "execution_count": 22,
   "metadata": {
    "collapsed": false
   },
   "outputs": [],
   "source": [
    "def _f_gen():\n",
    "    for i in j['flows']:\n",
    "        yield i\n",
    "_f = _f_gen()"
   ]
  },
  {
   "cell_type": "code",
   "execution_count": 25,
   "metadata": {
    "collapsed": false
   },
   "outputs": [
    {
     "data": {
      "text/plain": [
       "{'CasNumber': None,\n",
       " 'Comment': 'EcoSpold02 Flow',\n",
       " 'Compartment': ['air', 'non-urban air or from high stacks'],\n",
       " 'Name': 'Xenon-137',\n",
       " 'externalId': 'Xenon-137, air, non-urban air or from high stacks',\n",
       " 'origin': '/data/LCI/Ecoinvent/3.2/cutoff/datasets',\n",
       " 'referenceQuantity': None}"
      ]
     },
     "execution_count": 25,
     "metadata": {},
     "output_type": "execute_result"
    }
   ],
   "source": [
    "next(_f)"
   ]
  },
  {
   "cell_type": "code",
   "execution_count": 23,
   "metadata": {
    "collapsed": false
   },
   "outputs": [
    {
     "ename": "TypeError",
     "evalue": "<lcatools.entities.LcQuantity object at 0x116360828> is not JSON serializable",
     "output_type": "error",
     "traceback": [
      "\u001b[0;31m---------------------------------------------------------------------------\u001b[0m",
      "\u001b[0;31mTypeError\u001b[0m                                 Traceback (most recent call last)",
      "\u001b[0;32m<ipython-input-23-da9e35a37647>\u001b[0m in \u001b[0;36m<module>\u001b[0;34m()\u001b[0m\n\u001b[0;32m----> 1\u001b[0;31m \u001b[0mjson\u001b[0m\u001b[0;34m.\u001b[0m\u001b[0mdumps\u001b[0m\u001b[0;34m(\u001b[0m\u001b[0mnext\u001b[0m\u001b[0;34m(\u001b[0m\u001b[0m_f\u001b[0m\u001b[0;34m)\u001b[0m\u001b[0;34m,\u001b[0m \u001b[0mindent\u001b[0m\u001b[0;34m=\u001b[0m\u001b[0;36m2\u001b[0m\u001b[0;34m)\u001b[0m\u001b[0;34m\u001b[0m\u001b[0m\n\u001b[0m",
      "\u001b[0;32m/usr/local/Cellar/python3/3.5.0/Frameworks/Python.framework/Versions/3.5/lib/python3.5/json/__init__.py\u001b[0m in \u001b[0;36mdumps\u001b[0;34m(obj, skipkeys, ensure_ascii, check_circular, allow_nan, cls, indent, separators, default, sort_keys, **kw)\u001b[0m\n\u001b[1;32m    235\u001b[0m         \u001b[0mcheck_circular\u001b[0m\u001b[0;34m=\u001b[0m\u001b[0mcheck_circular\u001b[0m\u001b[0;34m,\u001b[0m \u001b[0mallow_nan\u001b[0m\u001b[0;34m=\u001b[0m\u001b[0mallow_nan\u001b[0m\u001b[0;34m,\u001b[0m \u001b[0mindent\u001b[0m\u001b[0;34m=\u001b[0m\u001b[0mindent\u001b[0m\u001b[0;34m,\u001b[0m\u001b[0;34m\u001b[0m\u001b[0m\n\u001b[1;32m    236\u001b[0m         \u001b[0mseparators\u001b[0m\u001b[0;34m=\u001b[0m\u001b[0mseparators\u001b[0m\u001b[0;34m,\u001b[0m \u001b[0mdefault\u001b[0m\u001b[0;34m=\u001b[0m\u001b[0mdefault\u001b[0m\u001b[0;34m,\u001b[0m \u001b[0msort_keys\u001b[0m\u001b[0;34m=\u001b[0m\u001b[0msort_keys\u001b[0m\u001b[0;34m,\u001b[0m\u001b[0;34m\u001b[0m\u001b[0m\n\u001b[0;32m--> 237\u001b[0;31m         **kw).encode(obj)\n\u001b[0m\u001b[1;32m    238\u001b[0m \u001b[0;34m\u001b[0m\u001b[0m\n\u001b[1;32m    239\u001b[0m \u001b[0;34m\u001b[0m\u001b[0m\n",
      "\u001b[0;32m/usr/local/Cellar/python3/3.5.0/Frameworks/Python.framework/Versions/3.5/lib/python3.5/json/encoder.py\u001b[0m in \u001b[0;36mencode\u001b[0;34m(self, o)\u001b[0m\n\u001b[1;32m    199\u001b[0m         \u001b[0mchunks\u001b[0m \u001b[0;34m=\u001b[0m \u001b[0mself\u001b[0m\u001b[0;34m.\u001b[0m\u001b[0miterencode\u001b[0m\u001b[0;34m(\u001b[0m\u001b[0mo\u001b[0m\u001b[0;34m,\u001b[0m \u001b[0m_one_shot\u001b[0m\u001b[0;34m=\u001b[0m\u001b[0;32mTrue\u001b[0m\u001b[0;34m)\u001b[0m\u001b[0;34m\u001b[0m\u001b[0m\n\u001b[1;32m    200\u001b[0m         \u001b[0;32mif\u001b[0m \u001b[0;32mnot\u001b[0m \u001b[0misinstance\u001b[0m\u001b[0;34m(\u001b[0m\u001b[0mchunks\u001b[0m\u001b[0;34m,\u001b[0m \u001b[0;34m(\u001b[0m\u001b[0mlist\u001b[0m\u001b[0;34m,\u001b[0m \u001b[0mtuple\u001b[0m\u001b[0;34m)\u001b[0m\u001b[0;34m)\u001b[0m\u001b[0;34m:\u001b[0m\u001b[0;34m\u001b[0m\u001b[0m\n\u001b[0;32m--> 201\u001b[0;31m             \u001b[0mchunks\u001b[0m \u001b[0;34m=\u001b[0m \u001b[0mlist\u001b[0m\u001b[0;34m(\u001b[0m\u001b[0mchunks\u001b[0m\u001b[0;34m)\u001b[0m\u001b[0;34m\u001b[0m\u001b[0m\n\u001b[0m\u001b[1;32m    202\u001b[0m         \u001b[0;32mreturn\u001b[0m \u001b[0;34m''\u001b[0m\u001b[0;34m.\u001b[0m\u001b[0mjoin\u001b[0m\u001b[0;34m(\u001b[0m\u001b[0mchunks\u001b[0m\u001b[0;34m)\u001b[0m\u001b[0;34m\u001b[0m\u001b[0m\n\u001b[1;32m    203\u001b[0m \u001b[0;34m\u001b[0m\u001b[0m\n",
      "\u001b[0;32m/usr/local/Cellar/python3/3.5.0/Frameworks/Python.framework/Versions/3.5/lib/python3.5/json/encoder.py\u001b[0m in \u001b[0;36m_iterencode\u001b[0;34m(o, _current_indent_level)\u001b[0m\n\u001b[1;32m    427\u001b[0m             \u001b[0;32myield\u001b[0m \u001b[0;32mfrom\u001b[0m \u001b[0m_iterencode_list\u001b[0m\u001b[0;34m(\u001b[0m\u001b[0mo\u001b[0m\u001b[0;34m,\u001b[0m \u001b[0m_current_indent_level\u001b[0m\u001b[0;34m)\u001b[0m\u001b[0;34m\u001b[0m\u001b[0m\n\u001b[1;32m    428\u001b[0m         \u001b[0;32melif\u001b[0m \u001b[0misinstance\u001b[0m\u001b[0;34m(\u001b[0m\u001b[0mo\u001b[0m\u001b[0;34m,\u001b[0m \u001b[0mdict\u001b[0m\u001b[0;34m)\u001b[0m\u001b[0;34m:\u001b[0m\u001b[0;34m\u001b[0m\u001b[0m\n\u001b[0;32m--> 429\u001b[0;31m             \u001b[0;32myield\u001b[0m \u001b[0;32mfrom\u001b[0m \u001b[0m_iterencode_dict\u001b[0m\u001b[0;34m(\u001b[0m\u001b[0mo\u001b[0m\u001b[0;34m,\u001b[0m \u001b[0m_current_indent_level\u001b[0m\u001b[0;34m)\u001b[0m\u001b[0;34m\u001b[0m\u001b[0m\n\u001b[0m\u001b[1;32m    430\u001b[0m         \u001b[0;32melse\u001b[0m\u001b[0;34m:\u001b[0m\u001b[0;34m\u001b[0m\u001b[0m\n\u001b[1;32m    431\u001b[0m             \u001b[0;32mif\u001b[0m \u001b[0mmarkers\u001b[0m \u001b[0;32mis\u001b[0m \u001b[0;32mnot\u001b[0m \u001b[0;32mNone\u001b[0m\u001b[0;34m:\u001b[0m\u001b[0;34m\u001b[0m\u001b[0m\n",
      "\u001b[0;32m/usr/local/Cellar/python3/3.5.0/Frameworks/Python.framework/Versions/3.5/lib/python3.5/json/encoder.py\u001b[0m in \u001b[0;36m_iterencode_dict\u001b[0;34m(dct, _current_indent_level)\u001b[0m\n\u001b[1;32m    401\u001b[0m                 \u001b[0;32melse\u001b[0m\u001b[0;34m:\u001b[0m\u001b[0;34m\u001b[0m\u001b[0m\n\u001b[1;32m    402\u001b[0m                     \u001b[0mchunks\u001b[0m \u001b[0;34m=\u001b[0m \u001b[0m_iterencode\u001b[0m\u001b[0;34m(\u001b[0m\u001b[0mvalue\u001b[0m\u001b[0;34m,\u001b[0m \u001b[0m_current_indent_level\u001b[0m\u001b[0;34m)\u001b[0m\u001b[0;34m\u001b[0m\u001b[0m\n\u001b[0;32m--> 403\u001b[0;31m                 \u001b[0;32myield\u001b[0m \u001b[0;32mfrom\u001b[0m \u001b[0mchunks\u001b[0m\u001b[0;34m\u001b[0m\u001b[0m\n\u001b[0m\u001b[1;32m    404\u001b[0m         \u001b[0;32mif\u001b[0m \u001b[0mnewline_indent\u001b[0m \u001b[0;32mis\u001b[0m \u001b[0;32mnot\u001b[0m \u001b[0;32mNone\u001b[0m\u001b[0;34m:\u001b[0m\u001b[0;34m\u001b[0m\u001b[0m\n\u001b[1;32m    405\u001b[0m             \u001b[0m_current_indent_level\u001b[0m \u001b[0;34m-=\u001b[0m \u001b[0;36m1\u001b[0m\u001b[0;34m\u001b[0m\u001b[0m\n",
      "\u001b[0;32m/usr/local/Cellar/python3/3.5.0/Frameworks/Python.framework/Versions/3.5/lib/python3.5/json/encoder.py\u001b[0m in \u001b[0;36m_iterencode\u001b[0;34m(o, _current_indent_level)\u001b[0m\n\u001b[1;32m    434\u001b[0m                     \u001b[0;32mraise\u001b[0m \u001b[0mValueError\u001b[0m\u001b[0;34m(\u001b[0m\u001b[0;34m\"Circular reference detected\"\u001b[0m\u001b[0;34m)\u001b[0m\u001b[0;34m\u001b[0m\u001b[0m\n\u001b[1;32m    435\u001b[0m                 \u001b[0mmarkers\u001b[0m\u001b[0;34m[\u001b[0m\u001b[0mmarkerid\u001b[0m\u001b[0;34m]\u001b[0m \u001b[0;34m=\u001b[0m \u001b[0mo\u001b[0m\u001b[0;34m\u001b[0m\u001b[0m\n\u001b[0;32m--> 436\u001b[0;31m             \u001b[0mo\u001b[0m \u001b[0;34m=\u001b[0m \u001b[0m_default\u001b[0m\u001b[0;34m(\u001b[0m\u001b[0mo\u001b[0m\u001b[0;34m)\u001b[0m\u001b[0;34m\u001b[0m\u001b[0m\n\u001b[0m\u001b[1;32m    437\u001b[0m             \u001b[0;32myield\u001b[0m \u001b[0;32mfrom\u001b[0m \u001b[0m_iterencode\u001b[0m\u001b[0;34m(\u001b[0m\u001b[0mo\u001b[0m\u001b[0;34m,\u001b[0m \u001b[0m_current_indent_level\u001b[0m\u001b[0;34m)\u001b[0m\u001b[0;34m\u001b[0m\u001b[0m\n\u001b[1;32m    438\u001b[0m             \u001b[0;32mif\u001b[0m \u001b[0mmarkers\u001b[0m \u001b[0;32mis\u001b[0m \u001b[0;32mnot\u001b[0m \u001b[0;32mNone\u001b[0m\u001b[0;34m:\u001b[0m\u001b[0;34m\u001b[0m\u001b[0m\n",
      "\u001b[0;32m/usr/local/Cellar/python3/3.5.0/Frameworks/Python.framework/Versions/3.5/lib/python3.5/json/encoder.py\u001b[0m in \u001b[0;36mdefault\u001b[0;34m(self, o)\u001b[0m\n\u001b[1;32m    178\u001b[0m \u001b[0;34m\u001b[0m\u001b[0m\n\u001b[1;32m    179\u001b[0m         \"\"\"\n\u001b[0;32m--> 180\u001b[0;31m         \u001b[0;32mraise\u001b[0m \u001b[0mTypeError\u001b[0m\u001b[0;34m(\u001b[0m\u001b[0mrepr\u001b[0m\u001b[0;34m(\u001b[0m\u001b[0mo\u001b[0m\u001b[0;34m)\u001b[0m \u001b[0;34m+\u001b[0m \u001b[0;34m\" is not JSON serializable\"\u001b[0m\u001b[0;34m)\u001b[0m\u001b[0;34m\u001b[0m\u001b[0m\n\u001b[0m\u001b[1;32m    181\u001b[0m \u001b[0;34m\u001b[0m\u001b[0m\n\u001b[1;32m    182\u001b[0m     \u001b[0;32mdef\u001b[0m \u001b[0mencode\u001b[0m\u001b[0;34m(\u001b[0m\u001b[0mself\u001b[0m\u001b[0;34m,\u001b[0m \u001b[0mo\u001b[0m\u001b[0;34m)\u001b[0m\u001b[0;34m:\u001b[0m\u001b[0;34m\u001b[0m\u001b[0m\n",
      "\u001b[0;31mTypeError\u001b[0m: <lcatools.entities.LcQuantity object at 0x116360828> is not JSON serializable"
     ]
    }
   ],
   "source": [
    "json.dumps(next(_f), indent=2)"
   ]
  },
  {
   "cell_type": "code",
   "execution_count": 16,
   "metadata": {
    "collapsed": false
   },
   "outputs": [
    {
     "ename": "KeyError",
     "evalue": "'entityId'",
     "output_type": "error",
     "traceback": [
      "\u001b[0;31m---------------------------------------------------------------------------\u001b[0m",
      "\u001b[0;31mKeyError\u001b[0m                                  Traceback (most recent call last)",
      "\u001b[0;32m<ipython-input-16-beb662f4fe31>\u001b[0m in \u001b[0;36m<module>\u001b[0;34m()\u001b[0m\n\u001b[0;32m----> 1\u001b[0;31m \u001b[0ma\u001b[0m\u001b[0;34m.\u001b[0m\u001b[0mentity_from_json\u001b[0m\u001b[0;34m(\u001b[0m\u001b[0mf\u001b[0m\u001b[0;34m)\u001b[0m\u001b[0;34m\u001b[0m\u001b[0m\n\u001b[0m",
      "\u001b[0;32m/Users/brandon/Documents/Github/lca-tools/lcatools/interfaces.py\u001b[0m in \u001b[0;36mentity_from_json\u001b[0;34m(self, e)\u001b[0m\n\u001b[1;32m    148\u001b[0m         \u001b[0mchars\u001b[0m \u001b[0;34m=\u001b[0m \u001b[0;32mNone\u001b[0m\u001b[0;34m\u001b[0m\u001b[0m\n\u001b[1;32m    149\u001b[0m         \u001b[0mexchs\u001b[0m \u001b[0;34m=\u001b[0m \u001b[0;32mNone\u001b[0m\u001b[0;34m\u001b[0m\u001b[0m\n\u001b[0;32m--> 150\u001b[0;31m         \u001b[0mext_ref\u001b[0m \u001b[0;34m=\u001b[0m \u001b[0me\u001b[0m\u001b[0;34m.\u001b[0m\u001b[0mpop\u001b[0m\u001b[0;34m(\u001b[0m\u001b[0;34m'entityId'\u001b[0m\u001b[0;34m)\u001b[0m\u001b[0;34m\u001b[0m\u001b[0m\n\u001b[0m\u001b[1;32m    151\u001b[0m         \u001b[0muid\u001b[0m \u001b[0;34m=\u001b[0m \u001b[0mself\u001b[0m\u001b[0;34m.\u001b[0m\u001b[0m_key_to_id\u001b[0m\u001b[0;34m(\u001b[0m\u001b[0mext_ref\u001b[0m\u001b[0;34m)\u001b[0m\u001b[0;34m\u001b[0m\u001b[0m\n\u001b[1;32m    152\u001b[0m         \u001b[0metype\u001b[0m \u001b[0;34m=\u001b[0m \u001b[0me\u001b[0m\u001b[0;34m.\u001b[0m\u001b[0mpop\u001b[0m\u001b[0;34m(\u001b[0m\u001b[0;34m'entityType'\u001b[0m\u001b[0;34m)\u001b[0m\u001b[0;34m\u001b[0m\u001b[0m\n",
      "\u001b[0;31mKeyError\u001b[0m: 'entityId'"
     ]
    }
   ],
   "source": [
    "a.entity_from_json(f)"
   ]
  },
  {
   "cell_type": "code",
   "execution_count": 10,
   "metadata": {
    "collapsed": false
   },
   "outputs": [],
   "source": [
    "l.remove('black')"
   ]
  },
  {
   "cell_type": "code",
   "execution_count": 12,
   "metadata": {
    "collapsed": false
   },
   "outputs": [
    {
     "ename": "IndexError",
     "evalue": "list assignment index out of range",
     "output_type": "error",
     "traceback": [
      "\u001b[0;31m---------------------------------------------------------------------------\u001b[0m",
      "\u001b[0;31mIndexError\u001b[0m                                Traceback (most recent call last)",
      "\u001b[0;32m<ipython-input-12-48783621fc48>\u001b[0m in \u001b[0;36m<module>\u001b[0;34m()\u001b[0m\n\u001b[0;32m----> 1\u001b[0;31m \u001b[0ml\u001b[0m\u001b[0;34m[\u001b[0m\u001b[0;36m3\u001b[0m\u001b[0;34m]\u001b[0m \u001b[0;34m=\u001b[0m \u001b[0;34m'red'\u001b[0m\u001b[0;34m\u001b[0m\u001b[0m\n\u001b[0m",
      "\u001b[0;31mIndexError\u001b[0m: list assignment index out of range"
     ]
    }
   ],
   "source": [
    "l[3] = 'red'"
   ]
  },
  {
   "cell_type": "code",
   "execution_count": 5,
   "metadata": {
    "collapsed": false
   },
   "outputs": [
    {
     "data": {
      "text/plain": [
       "['ecoinvent_3.2_apos_xlsx',\n",
       " 'ecoinvent_3.2_consequential_xlsx',\n",
       " 'ecoinvent_3.2_cut-off_xlsx',\n",
       " 'ecoinvent_3.2_undefined_xlsx',\n",
       " 'ei_lcia',\n",
       " 'elcd_3.2',\n",
       " 'gabi_2016_all-extensions',\n",
       " 'gabi_2016_professional-database-2016',\n",
       " 'uslci_ecospold']"
      ]
     },
     "execution_count": 5,
     "metadata": {},
     "output_type": "execute_result"
    }
   ],
   "source": [
    "names"
   ]
  },
  {
   "cell_type": "code",
   "execution_count": 19,
   "metadata": {
    "collapsed": false
   },
   "outputs": [
    {
     "data": {
      "text/plain": [
       "('ecoinvent_3', '.2_apos_xlsx')"
      ]
     },
     "execution_count": 19,
     "metadata": {},
     "output_type": "execute_result"
    }
   ],
   "source": [
    "os.path.splitext(os.path.splitext(os.path.splitext(os.path.basename(files[0]))[0])[0])"
   ]
  },
  {
   "cell_type": "code",
   "execution_count": 4,
   "metadata": {
    "collapsed": true
   },
   "outputs": [],
   "source": [
    "names = [re.sub('\\.json\\.gz$', '', os.path.basename(i)) for i in files]"
   ]
  },
  {
   "cell_type": "code",
   "execution_count": 5,
   "metadata": {
    "collapsed": false
   },
   "outputs": [
    {
     "data": {
      "text/plain": [
       "['ecoinvent_3.2_apos_xlsx',\n",
       " 'ecoinvent_3.2_consequential_xlsx',\n",
       " 'ecoinvent_3.2_cut-off_xlsx',\n",
       " 'ecoinvent_3.2_undefined_xlsx',\n",
       " 'ei3.2_cutoff_spold.gz',\n",
       " 'ei32_cutoff_spold',\n",
       " 'elcd_3.2',\n",
       " 'gabi_2016_all-extensions',\n",
       " 'gabi_2016_professional-database-2016',\n",
       " 'uslci_ecospold']"
      ]
     },
     "execution_count": 5,
     "metadata": {},
     "output_type": "execute_result"
    }
   ],
   "source": [
    "names"
   ]
  },
  {
   "cell_type": "code",
   "execution_count": null,
   "metadata": {
    "collapsed": true
   },
   "outputs": [],
   "source": []
  },
  {
   "cell_type": "code",
   "execution_count": 6,
   "metadata": {
    "collapsed": false
   },
   "outputs": [
    {
     "name": "stdout",
     "output_type": "stream",
     "text": [
      "20 new quantity entities added (20 total)\n",
      "6767 new flow entities added (6767 total)\n",
      "11420 new process entities added (11420 total)\n",
      "20 new quantity entities added (20 total)\n",
      "6767 new flow entities added (6767 total)\n",
      "11468 new process entities added (11468 total)\n",
      "20 new quantity entities added (20 total)\n",
      "6767 new flow entities added (6767 total)\n",
      "11578 new process entities added (11578 total)\n",
      "20 new quantity entities added (20 total)\n",
      "6767 new flow entities added (6767 total)\n",
      "13307 new process entities added (13307 total)\n",
      "Found Extension: zip\n",
      "18 new quantity entities added (18 total)\n",
      "2343 new flow entities added (2343 total)\n",
      "503 new process entities added (503 total)\n",
      "Archive refers to a web address using protocol http\n",
      " caching files locally in /data/GitHub/lca-tools/lcatools/providers/web_cache/gabi-documentation-2016.gabi-software.com/xml-data/\n",
      "Found file in cache: unitgroups/5beb6eed-33a9-47b8-9ede-1dfe8f679159.xml\n",
      "Found file in cache: unitgroups/3620148f-c5db-48ce-9065-a10092089aca.xml\n",
      "Found file in cache: unitgroups/838aaa22-0117-11db-92e3-0800200c9a66.xml\n",
      "Found file in cache: unitgroups/8992910b-42c3-4cc5-96fa-66ac4ac3b6de.xml\n",
      "Found file in cache: unitgroups/93a60a57-a4c8-11da-a746-0800200c9a66.xml\n",
      "Found file in cache: unitgroups/93a60a57-a3c8-11da-a746-0800200c9a66.xml\n",
      "Found file in cache: unitgroups/93a60a57-a3c8-12da-a746-0800200c9a66.xml\n",
      "Found file in cache: unitgroups/93a60a57-a3c8-11da-a746-0800200c9a66.xml\n",
      "Found file in cache: unitgroups/93a60a57-a3c8-18da-a746-0800200c9a66.xml\n",
      "Found file in cache: unitgroups/93a60a57-a3c8-12da-a746-0800200c9a66.xml\n",
      "Found file in cache: unitgroups/46076063-39cb-4e0e-9b18-f6d04fee3f60.xml\n",
      "Found file in cache: unitgroups/af638906-3ec7-4314-8de7-f76039f2dd01.xml\n",
      "12 new quantity entities added (12 total)\n",
      "2304 new flow entities added (2304 total)\n",
      "7457 new process entities added (7457 total)\n",
      "Archive refers to a web address using protocol http\n",
      " caching files locally in /data/GitHub/lca-tools/lcatools/providers/web_cache/gabi-documentation-2016.gabi-software.com/xml-data/\n",
      "Found file in cache: unitgroups/5beb6eed-33a9-47b8-9ede-1dfe8f679159.xml\n",
      "Found file in cache: unitgroups/3620148f-c5db-48ce-9065-a10092089aca.xml\n",
      "Found file in cache: unitgroups/838aaa22-0117-11db-92e3-0800200c9a66.xml\n",
      "Found file in cache: unitgroups/93a60a57-a4c8-11da-a746-0800200c9a66.xml\n",
      "Found file in cache: unitgroups/93a60a57-a3c8-11da-a746-0800200c9a66.xml\n",
      "Found file in cache: unitgroups/93a60a57-a3c8-12da-a746-0800200c9a66.xml\n",
      "Found file in cache: unitgroups/93a60a57-a3c8-18da-a746-0800200c9a66.xml\n",
      "Found file in cache: unitgroups/93a60a57-a3c8-12da-a746-0800200c9a66.xml\n",
      "Found file in cache: unitgroups/af638906-3ec7-4314-8de7-f76039f2dd01.xml\n",
      "Found file in cache: unitgroups/b3a220db-0613-42ab-84bc-b153d339cb0d.xml\n",
      "10 new quantity entities added (10 total)\n",
      "762 new flow entities added (762 total)\n",
      "3319 new process entities added (3319 total)\n",
      "Found Extension: zip\n",
      "19 new quantity entities added (19 total)\n",
      "4176 new flow entities added (4176 total)\n",
      "701 new process entities added (701 total)\n"
     ]
    }
   ],
   "source": [
    "for i in (0, 1, 2, 3, 6, 7, 8, 9):\n",
    "    g = from_json(files[i])\n",
    "    g.write_to_file(files[i], gzip=True, exchanges=True, values=True)"
   ]
  },
  {
   "cell_type": "code",
   "execution_count": 10,
   "metadata": {
    "collapsed": false
   },
   "outputs": [
    {
     "name": "stdout",
     "output_type": "stream",
     "text": [
      "Found Extension: zip\n",
      "18 new quantity entities added (18 total)\n",
      "2343 new flow entities added (2343 total)\n",
      "503 new process entities added (503 total)\n"
     ]
    }
   ],
   "source": [
    "K = from_json()"
   ]
  },
  {
   "cell_type": "code",
   "execution_count": 17,
   "metadata": {
    "collapsed": false
   },
   "outputs": [
    {
     "data": {
      "text/plain": [
       "{'ft2*a': 10.763910416709722,\n",
       " 'ha*a': 0.0001,\n",
       " 'km2*a': 1e-06,\n",
       " 'm2*a': 1.0,\n",
       " 'm2*d': 365.00000365000005,\n",
       " 'mi2*a': 3.8610216008328377e-07}"
      ]
     },
     "execution_count": 17,
     "metadata": {},
     "output_type": "execute_result"
    }
   ],
   "source": [
    "G.quantities()[6]['UnitConversion']"
   ]
  },
  {
   "cell_type": "code",
   "execution_count": 18,
   "metadata": {
    "collapsed": true
   },
   "outputs": [],
   "source": [
    "_, conv = G._create_unit(G.quantities()[6]['referenceUnit'].get_external_ref())"
   ]
  },
  {
   "cell_type": "code",
   "execution_count": 19,
   "metadata": {
    "collapsed": false
   },
   "outputs": [
    {
     "data": {
      "text/plain": [
       "{'ft2*a': 10.763910416709722,\n",
       " 'ha*a': 0.0001,\n",
       " 'km2*a': 1e-06,\n",
       " 'm2*a': 1.0,\n",
       " 'm2*d': 365.00000365000005,\n",
       " 'mi2*a': 3.8610216008328377e-07}"
      ]
     },
     "execution_count": 19,
     "metadata": {},
     "output_type": "execute_result"
    }
   ],
   "source": [
    "conv"
   ]
  },
  {
   "cell_type": "code",
   "execution_count": 56,
   "metadata": {
    "collapsed": false
   },
   "outputs": [
    {
     "name": "stdout",
     "output_type": "stream",
     "text": [
      "Found file in cache: unitgroups/3620148f-c5db-48ce-9065-a10092089aca.xml\n",
      "Found file in cache: unitgroups/af638906-3ec7-4314-8de7-f76039f2dd01.xml\n",
      "Found file in cache: unitgroups/93a60a57-a3c8-11da-a746-0800200c9a66.xml\n",
      "Found file in cache: unitgroups/b3a220db-0613-42ab-84bc-b153d339cb0d.xml\n",
      "Found file in cache: unitgroups/93a60a57-a3c8-12da-a746-0800200c9a66.xml\n",
      "Found file in cache: unitgroups/5beb6eed-33a9-47b8-9ede-1dfe8f679159.xml\n",
      "Found file in cache: unitgroups/93a60a57-a3c8-18da-a746-0800200c9a66.xml\n",
      "Found file in cache: unitgroups/838aaa22-0117-11db-92e3-0800200c9a66.xml\n",
      "Found file in cache: unitgroups/93a60a57-a3c8-12da-a746-0800200c9a66.xml\n",
      "Found file in cache: unitgroups/93a60a57-a4c8-11da-a746-0800200c9a66.xml\n"
     ]
    }
   ],
   "source": [
    "for q in G.quantities():\n",
    "    _, conv = G._create_unit(q['referenceUnit'].get_external_ref())\n",
    "    q['UnitConversion'] = conv"
   ]
  },
  {
   "cell_type": "code",
   "execution_count": 49,
   "metadata": {
    "collapsed": true
   },
   "outputs": [],
   "source": [
    "def convert_interval(interval):\n",
    "    ts_match = re.match('interval\\(\\s*(\\S*)\\s*,\\s*(\\S*)\\s*\\)', interval)\n",
    "    try:\n",
    "        ts = ts_match.groups()\n",
    "    except AttributeError:\n",
    "        print(interval)\n",
    "        raise\n",
    "    return { 'begin': ts[0], 'end': ts[1]}\n",
    "\n",
    "def upgrade_tscope(archive):\n",
    "    for process in archive.processes():\n",
    "        TS = process['TemporalScope']\n",
    "        if isinstance(TS, str):\n",
    "            if bool(re.match('interval\\(.+,.+\\)', TS)):\n",
    "                process['TemporalScope'] = convert_interval(TS)\n",
    "            "
   ]
  },
  {
   "cell_type": "code",
   "execution_count": 57,
   "metadata": {
    "collapsed": false
   },
   "outputs": [],
   "source": [
    "upgrade_tscope(G)"
   ]
  },
  {
   "cell_type": "code",
   "execution_count": 58,
   "metadata": {
    "collapsed": true
   },
   "outputs": [],
   "source": [
    "G.catalog_names.update(gabi_cat_names)"
   ]
  },
  {
   "cell_type": "code",
   "execution_count": 20,
   "metadata": {
    "collapsed": false
   },
   "outputs": [],
   "source": [
    "G.write_to_file(file, gzip=True, exchanges=True, values=True)"
   ]
  },
  {
   "cell_type": "code",
   "execution_count": 8,
   "metadata": {
    "collapsed": false
   },
   "outputs": [
    {
     "name": "stdout",
     "output_type": "stream",
     "text": [
      "Found Extension: zip\n",
      "19 new quantity entities added (19 total)\n",
      "4176 new flow entities added (4176 total)\n",
      "701 new process entities added (701 total)\n"
     ]
    }
   ],
   "source": [
    "a = from_json(f)"
   ]
  },
  {
   "cell_type": "code",
   "execution_count": 9,
   "metadata": {
    "collapsed": false
   },
   "outputs": [
    {
     "name": "stdout",
     "output_type": "stream",
     "text": [
      "Archive refers to a web address using protocol http\n",
      " caching files locally in /data/GitHub/lca-tools/lcatools/providers/web_cache/gabi-documentation-2016.gabi-software.com/xml-data/\n",
      "Archive refers to a web address using protocol http\n",
      " caching files locally in /data/GitHub/lca-tools/lcatools/providers/web_cache/gabi-documentation-2016.gabi-software.com/xml-data/\n",
      "Found file in cache: unitgroups/3620148f-c5db-48ce-9065-a10092089aca.xml\n",
      "Found file in cache: unitgroups/af638906-3ec7-4314-8de7-f76039f2dd01.xml\n",
      "Found file in cache: unitgroups/93a60a57-a3c8-11da-a746-0800200c9a66.xml\n",
      "Found file in cache: unitgroups/838aaa22-0117-11db-92e3-0800200c9a66.xml\n",
      "Found file in cache: unitgroups/b3a220db-0613-42ab-84bc-b153d339cb0d.xml\n",
      "Found file in cache: unitgroups/93a60a57-a3c8-12da-a746-0800200c9a66.xml\n",
      "Found file in cache: unitgroups/5beb6eed-33a9-47b8-9ede-1dfe8f679159.xml\n",
      "Found file in cache: unitgroups/93a60a57-a3c8-18da-a746-0800200c9a66.xml\n",
      "Found file in cache: unitgroups/93a60a57-a3c8-12da-a746-0800200c9a66.xml\n",
      "Found file in cache: unitgroups/93a60a57-a4c8-11da-a746-0800200c9a66.xml\n",
      "10 new quantity entities added (10 total)\n",
      "762 new flow entities added (762 total)\n",
      "3319 new process entities added (3319 total)\n"
     ]
    }
   ],
   "source": [
    "g = from_json(ff)"
   ]
  },
  {
   "cell_type": "code",
   "execution_count": 10,
   "metadata": {
    "collapsed": false
   },
   "outputs": [
    {
     "data": {
      "text/plain": [
       "{'_d': {'Classifications': ['Processes',\n",
       "   'Recovery',\n",
       "   'Material recovery',\n",
       "   'Value-Corrected Substitution'],\n",
       "  'Comment': 'This dataset is intended to apply a value-corrected credit for the substitution of primary metal in open-loop recycling situations where the inherent properties of the material are changed in the sense of downcycling.  To apply the dataset, connect the EoL scrap flow (after collection and separation, but before remelting) to the input of this process flow of the type [Waste for recovery].  Then connect the primary metal dataset to be substituted to the negative input flow of the type [Metals]. The negative input applies the appropriate credit for the scrap class stated in the process name (e.g., aluminum auto fragments, baled used beverage can, etc.).  The parameter for the price ratio represents the ratio between the scrap class and the LME primary metal price, which may be changed by the user, if necessary, using the referenced sources.',\n",
       "  'Name': 'Auto transmissions - scrap credit (open loop)',\n",
       "  'SpatialScope': 'EU-15',\n",
       "  'TemporalScope': 'interval(2015, 2018)',\n",
       "  'origin': 'http://gabi-documentation-2016.gabi-software.com/xml-data/'},\n",
       " '_exchanges': {<lcatools.exchanges.Exchange at 0x7f5079c5ceb8>},\n",
       " '_external_ref': 'processes/efe0e0bd-f641-4586-b591-82ae4cfe33d4',\n",
       " '_uuid': UUID('efe0e0bd-f641-4586-b591-82ae4cfe33d4'),\n",
       " 'entity_type': 'process',\n",
       " 'reference_entity': <lcatools.exchanges.Exchange at 0x7f5079c5ceb8>}"
      ]
     },
     "execution_count": 10,
     "metadata": {},
     "output_type": "execute_result"
    }
   ],
   "source": [
    "g.archive[0].processes()[23].__dict__"
   ]
  },
  {
   "cell_type": "code",
   "execution_count": 12,
   "metadata": {
    "collapsed": false
   },
   "outputs": [
    {
     "data": {
      "text/plain": [
       "{'Classifications': ['Crop Production', 'Wheat Farming'],\n",
       " 'Comment': 'dried to 12% moisture',\n",
       " 'Name': 'Winter wheat straw, ground and stored',\n",
       " 'SpatialScope': 'RNA',\n",
       " 'TemporalScope': 'interval(2010-01-01-07:00, 2011-01-01-07:00)',\n",
       " 'entityId': 'Winter wheat straw, ground and stored',\n",
       " 'entityType': 'process',\n",
       " 'exchanges': [{'direction': 'Input', 'flow': 2186},\n",
       "  {'direction': 'Input', 'flow': 5757},\n",
       "  {'direction': 'Input', 'flow': 5766},\n",
       "  {'direction': 'Input', 'flow': 5768},\n",
       "  {'direction': 'Input', 'flow': 5770},\n",
       "  {'direction': 'Input', 'flow': 5772},\n",
       "  {'direction': 'Input', 'flow': 5776},\n",
       "  {'direction': 'Input', 'flow': 5778},\n",
       "  {'direction': 'Input', 'flow': 24247},\n",
       "  {'direction': 'Output', 'flow': 5376},\n",
       "  {'direction': 'Output', 'flow': 5780}],\n",
       " 'origin': '/home/b/Dropbox/data/USLCI/USLCI_Processes_ecospold1.zip',\n",
       " 'referenceExchange': 'Output: 5376'}"
      ]
     },
     "execution_count": 12,
     "metadata": {},
     "output_type": "execute_result"
    }
   ],
   "source": [
    "a.processes()[23].serialize(exchanges=True)"
   ]
  },
  {
   "cell_type": "code",
   "execution_count": 9,
   "metadata": {
    "collapsed": false
   },
   "outputs": [],
   "source": [
    "import gzip, json\n"
   ]
  },
  {
   "cell_type": "code",
   "execution_count": null,
   "metadata": {
    "collapsed": true
   },
   "outputs": [],
   "source": []
  },
  {
   "cell_type": "code",
   "execution_count": 10,
   "metadata": {
    "collapsed": false
   },
   "outputs": [],
   "source": [
    "with gzip.open(f, 'rt') as fp:\n",
    "    j = json.load(fp)"
   ]
  },
  {
   "cell_type": "code",
   "execution_count": 15,
   "metadata": {
    "collapsed": false
   },
   "outputs": [
    {
     "data": {
      "text/plain": [
       "'EcospoldV1Archive'"
      ]
     },
     "execution_count": 15,
     "metadata": {},
     "output_type": "execute_result"
    }
   ],
   "source": [
    "j['dataSourceType']"
   ]
  },
  {
   "cell_type": "code",
   "execution_count": 11,
   "metadata": {
    "collapsed": false
   },
   "outputs": [
    {
     "data": {
      "text/plain": [
       "'a9d158e0-d48c-4427-8c55-42719e9e11cc'"
      ]
     },
     "execution_count": 11,
     "metadata": {},
     "output_type": "execute_result"
    }
   ],
   "source": [
    "j['nsUuid']"
   ]
  },
  {
   "cell_type": "code",
   "execution_count": 12,
   "metadata": {
    "collapsed": true
   },
   "outputs": [],
   "source": [
    "from lcatools.providers.ecospold import EcospoldV1Archive"
   ]
  },
  {
   "cell_type": "code",
   "execution_count": 13,
   "metadata": {
    "collapsed": false
   },
   "outputs": [
    {
     "name": "stdout",
     "output_type": "stream",
     "text": [
      "Found Extension: zip\n"
     ]
    }
   ],
   "source": [
    "a = EcospoldV1Archive(j['dataSourceReference'], ns_uuid=j['nsUuid'])"
   ]
  },
  {
   "cell_type": "code",
   "execution_count": 20,
   "metadata": {
    "collapsed": true
   },
   "outputs": [],
   "source": [
    "q = j['quantities'][0]"
   ]
  },
  {
   "cell_type": "code",
   "execution_count": 14,
   "metadata": {
    "collapsed": true
   },
   "outputs": [],
   "source": [
    "for q in j['quantities']:\n",
    "    a.entity_from_json(q)"
   ]
  },
  {
   "cell_type": "code",
   "execution_count": 15,
   "metadata": {
    "collapsed": false
   },
   "outputs": [],
   "source": [
    "for f in j['flows']: \n",
    "    a.entity_from_json(f)"
   ]
  },
  {
   "cell_type": "code",
   "execution_count": 18,
   "metadata": {
    "collapsed": false
   },
   "outputs": [
    {
     "data": {
      "text/plain": [
       "[<lcatools.entities.LcProcess at 0x7f589f19e278>]"
      ]
     },
     "execution_count": 18,
     "metadata": {},
     "output_type": "execute_result"
    }
   ],
   "source": [
    "a.processes()"
   ]
  },
  {
   "cell_type": "code",
   "execution_count": 20,
   "metadata": {
    "collapsed": true
   },
   "outputs": [],
   "source": [
    "success = 0"
   ]
  },
  {
   "cell_type": "code",
   "execution_count": 21,
   "metadata": {
    "collapsed": false
   },
   "outputs": [
    {
     "name": "stdout",
     "output_type": "stream",
     "text": [
      "1\n",
      "2\n",
      "3\n",
      "4\n",
      "5\n",
      "6\n",
      "7\n",
      "8\n",
      "9\n",
      "10\n",
      "11\n",
      "12\n",
      "13\n",
      "14\n",
      "15\n",
      "16\n",
      "17\n",
      "18\n",
      "19\n",
      "20\n",
      "21\n",
      "22\n",
      "23\n",
      "24\n",
      "25\n",
      "26\n",
      "27\n",
      "28\n",
      "29\n",
      "30\n",
      "31\n",
      "32\n",
      "33\n",
      "34\n",
      "35\n",
      "36\n",
      "37\n",
      "38\n",
      "39\n",
      "40\n",
      "41\n",
      "42\n",
      "43\n",
      "44\n",
      "45\n",
      "46\n",
      "47\n",
      "48\n",
      "49\n",
      "50\n",
      "51\n",
      "52\n",
      "53\n",
      "54\n",
      "55\n",
      "56\n",
      "57\n",
      "58\n",
      "59\n",
      "60\n",
      "61\n",
      "62\n",
      "63\n",
      "64\n",
      "65\n",
      "66\n",
      "67\n",
      "68\n",
      "69\n",
      "70\n",
      "71\n",
      "72\n",
      "73\n",
      "74\n",
      "75\n",
      "76\n",
      "77\n",
      "78\n",
      "79\n",
      "80\n",
      "81\n",
      "82\n",
      "83\n",
      "84\n",
      "85\n",
      "86\n",
      "87\n",
      "88\n",
      "89\n",
      "90\n",
      "91\n",
      "92\n",
      "93\n",
      "94\n",
      "95\n",
      "96\n",
      "97\n",
      "98\n",
      "99\n",
      "100\n",
      "101\n",
      "102\n",
      "103\n",
      "104\n",
      "105\n",
      "106\n",
      "107\n",
      "108\n",
      "109\n",
      "110\n",
      "111\n",
      "112\n",
      "113\n",
      "114\n",
      "115\n",
      "116\n",
      "117\n",
      "118\n",
      "119\n",
      "120\n",
      "121\n",
      "122\n",
      "123\n",
      "124\n",
      "125\n",
      "126\n",
      "127\n",
      "128\n",
      "129\n",
      "130\n",
      "131\n",
      "132\n",
      "133\n",
      "134\n",
      "135\n",
      "136\n",
      "137\n",
      "138\n",
      "139\n",
      "140\n",
      "141\n",
      "142\n",
      "143\n",
      "144\n",
      "145\n",
      "146\n",
      "147\n",
      "148\n",
      "149\n",
      "150\n",
      "151\n",
      "152\n",
      "153\n",
      "154\n",
      "155\n",
      "156\n",
      "157\n",
      "158\n",
      "159\n",
      "160\n",
      "161\n",
      "162\n",
      "163\n",
      "164\n",
      "165\n",
      "166\n",
      "167\n",
      "168\n",
      "169\n",
      "170\n",
      "171\n",
      "172\n",
      "173\n",
      "174\n",
      "175\n",
      "176\n",
      "177\n",
      "178\n",
      "179\n",
      "180\n",
      "181\n",
      "182\n",
      "183\n",
      "184\n",
      "185\n",
      "186\n",
      "187\n",
      "188\n",
      "189\n",
      "190\n",
      "191\n",
      "192\n",
      "193\n",
      "194\n",
      "195\n",
      "196\n",
      "197\n",
      "198\n",
      "199\n",
      "200\n",
      "201\n",
      "202\n",
      "203\n",
      "204\n",
      "205\n",
      "206\n",
      "207\n",
      "208\n",
      "209\n",
      "210\n",
      "211\n",
      "212\n",
      "213\n",
      "214\n",
      "215\n",
      "216\n",
      "217\n",
      "218\n",
      "219\n",
      "220\n",
      "221\n",
      "222\n",
      "223\n",
      "224\n",
      "225\n",
      "226\n",
      "227\n",
      "228\n",
      "229\n",
      "230\n",
      "231\n",
      "232\n",
      "233\n",
      "234\n",
      "235\n",
      "236\n",
      "237\n",
      "238\n",
      "239\n",
      "240\n",
      "241\n",
      "242\n",
      "243\n",
      "244\n",
      "245\n",
      "246\n",
      "247\n",
      "248\n",
      "249\n",
      "250\n",
      "251\n",
      "252\n",
      "253\n",
      "254\n",
      "255\n",
      "256\n",
      "257\n",
      "258\n",
      "259\n",
      "260\n",
      "261\n",
      "262\n",
      "263\n",
      "264\n",
      "265\n",
      "266\n",
      "267\n",
      "268\n",
      "269\n",
      "270\n",
      "271\n",
      "272\n",
      "273\n",
      "274\n",
      "275\n",
      "276\n",
      "277\n",
      "278\n",
      "279\n",
      "280\n",
      "281\n",
      "282\n",
      "283\n",
      "284\n",
      "285\n",
      "286\n",
      "287\n",
      "288\n",
      "289\n",
      "290\n",
      "291\n",
      "292\n",
      "293\n",
      "294\n",
      "295\n",
      "296\n",
      "297\n",
      "298\n",
      "299\n",
      "300\n",
      "301\n",
      "302\n",
      "303\n",
      "304\n",
      "305\n",
      "306\n",
      "307\n",
      "308\n",
      "309\n",
      "310\n"
     ]
    },
    {
     "ename": "ValueError",
     "evalue": "not enough values to unpack (expected 2, got 1)",
     "output_type": "error",
     "traceback": [
      "\u001b[1;31m---------------------------------------------------------------------------\u001b[0m",
      "\u001b[1;31mValueError\u001b[0m                                Traceback (most recent call last)",
      "\u001b[1;32m<ipython-input-21-922e8c36235c>\u001b[0m in \u001b[0;36m<module>\u001b[1;34m()\u001b[0m\n\u001b[0;32m      2\u001b[0m     \u001b[1;32mif\u001b[0m \u001b[0mi\u001b[0m\u001b[1;33m>\u001b[0m\u001b[0msuccess\u001b[0m\u001b[1;33m:\u001b[0m\u001b[1;33m\u001b[0m\u001b[0m\n\u001b[0;32m      3\u001b[0m         \u001b[0mprint\u001b[0m\u001b[1;33m(\u001b[0m\u001b[0mi\u001b[0m\u001b[1;33m)\u001b[0m\u001b[1;33m\u001b[0m\u001b[0m\n\u001b[1;32m----> 4\u001b[1;33m         \u001b[0ma\u001b[0m\u001b[1;33m.\u001b[0m\u001b[0mentity_from_json\u001b[0m\u001b[1;33m(\u001b[0m\u001b[0mp\u001b[0m\u001b[1;33m)\u001b[0m\u001b[1;33m\u001b[0m\u001b[0m\n\u001b[0m\u001b[0;32m      5\u001b[0m         \u001b[0msuccess\u001b[0m \u001b[1;33m=\u001b[0m \u001b[0mi\u001b[0m\u001b[1;33m\u001b[0m\u001b[0m\n",
      "\u001b[1;32m/data/GitHub/lca-tools/lcatools/interfaces.py\u001b[0m in \u001b[0;36mentity_from_json\u001b[1;34m(self, e)\u001b[0m\n\u001b[0;32m    156\u001b[0m             \u001b[0mentity\u001b[0m \u001b[1;33m=\u001b[0m \u001b[0mLcProcess\u001b[0m\u001b[1;33m(\u001b[0m\u001b[0muid\u001b[0m\u001b[1;33m,\u001b[0m \u001b[1;33m**\u001b[0m\u001b[0me\u001b[0m\u001b[1;33m)\u001b[0m\u001b[1;33m\u001b[0m\u001b[0m\n\u001b[0;32m    157\u001b[0m             \u001b[1;32mif\u001b[0m \u001b[0mrx\u001b[0m \u001b[1;32mis\u001b[0m \u001b[1;32mnot\u001b[0m \u001b[1;32mNone\u001b[0m\u001b[1;33m:\u001b[0m\u001b[1;33m\u001b[0m\u001b[0m\n\u001b[1;32m--> 158\u001b[1;33m                 \u001b[0mdirec\u001b[0m\u001b[1;33m,\u001b[0m \u001b[0mflow\u001b[0m \u001b[1;33m=\u001b[0m \u001b[0mrx\u001b[0m\u001b[1;33m.\u001b[0m\u001b[0msplit\u001b[0m\u001b[1;33m(\u001b[0m\u001b[1;34m': '\u001b[0m\u001b[1;33m)\u001b[0m\u001b[1;33m\u001b[0m\u001b[0m\n\u001b[0m\u001b[0;32m    159\u001b[0m                 \u001b[1;32mtry\u001b[0m\u001b[1;33m:\u001b[0m\u001b[1;33m\u001b[0m\u001b[0m\n\u001b[0;32m    160\u001b[0m                     \u001b[0mentity\u001b[0m\u001b[1;33m[\u001b[0m\u001b[1;34m'referenceExchange'\u001b[0m\u001b[1;33m]\u001b[0m \u001b[1;33m=\u001b[0m \u001b[0mExchange\u001b[0m\u001b[1;33m(\u001b[0m\u001b[0mprocess\u001b[0m\u001b[1;33m=\u001b[0m\u001b[0mentity\u001b[0m\u001b[1;33m,\u001b[0m \u001b[0mflow\u001b[0m\u001b[1;33m=\u001b[0m\u001b[0mself\u001b[0m\u001b[1;33m[\u001b[0m\u001b[0mflow\u001b[0m\u001b[1;33m]\u001b[0m\u001b[1;33m,\u001b[0m \u001b[0mdirection\u001b[0m\u001b[1;33m=\u001b[0m\u001b[0mdirec\u001b[0m\u001b[1;33m)\u001b[0m\u001b[1;33m\u001b[0m\u001b[0m\n",
      "\u001b[1;31mValueError\u001b[0m: not enough values to unpack (expected 2, got 1)"
     ]
    }
   ],
   "source": [
    "for i, p in enumerate(j['processes']):\n",
    "    if i>success:\n",
    "        print(i)\n",
    "        a.entity_from_json(p)\n",
    "        success = i"
   ]
  },
  {
   "cell_type": "code",
   "execution_count": 22,
   "metadata": {
    "collapsed": false
   },
   "outputs": [
    {
     "data": {
      "text/plain": [
       "{'Classifications': ['Paper Manufacturing',\n",
       "  'Pulp, Paper, and Paperboard Mills'],\n",
       " 'Comment': 'Uncoated Freesheet, average North American production, at mill.  By-products were allocated 0% of the impacts to enable the user to choose and apply their own allocation method more easily. All flows are production-weighted means. Data were developed for a full LCA that was critically reviewed.  Reviewers were: • Martha Stevenson, Chairperson – Private Consultant to the public interest with ten years of experience in sustainability, environmental management, packaging and materials recovery; led the development of the Design Guidelines for Sustainable Packaging and the COMPASS software used to compare the environmental impacts of package designs; • Pascal Lesage – Life cycle assessment consultant, Researcher at École Polytechnique de Montréal [at the Inter-University Research Centre for the Life Cycle of Products, Processes and Services (CIRAIG) in Montreal]; and • Dale Phenicie, Environmental Affairs Consulting – Consultant with 35 years of experience in environmental protection and process consulting for the forest products industry. Has served on several U.S. EPA Task Forces dealing with water quality issues and authored several AF&PA Environmental, Health and Safety/Sustainability reports.',\n",
       " 'Name': 'Paper, freesheet, uncoated, average production, at mill, 2006',\n",
       " 'SpatialScope': 'RNA',\n",
       " 'TemporalScope': 'interval(2006-01-01-07:00, 2006-01-01-07:00)',\n",
       " 'exchanges': [{'direction': 'Input', 'flow': 777},\n",
       "  {'direction': 'Input', 'flow': 779},\n",
       "  {'direction': 'Input', 'flow': 783},\n",
       "  {'direction': 'Input', 'flow': 785},\n",
       "  {'direction': 'Input', 'flow': 2178},\n",
       "  {'direction': 'Input', 'flow': 4711},\n",
       "  {'direction': 'Input', 'flow': 4753},\n",
       "  {'direction': 'Input', 'flow': 5414},\n",
       "  {'direction': 'Input', 'flow': 14633},\n",
       "  {'direction': 'Input', 'flow': 15460},\n",
       "  {'direction': 'Input', 'flow': 15462},\n",
       "  {'direction': 'Input', 'flow': 15470},\n",
       "  {'direction': 'Input', 'flow': 20094},\n",
       "  {'direction': 'Input', 'flow': 23687},\n",
       "  {'direction': 'Input', 'flow': 26998},\n",
       "  {'direction': 'Input', 'flow': 28089},\n",
       "  {'direction': 'Input', 'flow': 31176},\n",
       "  {'direction': 'Input', 'flow': 31182},\n",
       "  {'direction': 'Input', 'flow': 31198},\n",
       "  {'direction': 'Input', 'flow': 31200},\n",
       "  {'direction': 'Input', 'flow': 31202},\n",
       "  {'direction': 'Input', 'flow': 31204},\n",
       "  {'direction': 'Input', 'flow': 31206},\n",
       "  {'direction': 'Input', 'flow': 31208},\n",
       "  {'direction': 'Input', 'flow': 31210},\n",
       "  {'direction': 'Input', 'flow': 31212},\n",
       "  {'direction': 'Input', 'flow': 31214},\n",
       "  {'direction': 'Input', 'flow': 31343},\n",
       "  {'direction': 'Input', 'flow': 31345},\n",
       "  {'direction': 'Input', 'flow': 31347},\n",
       "  {'direction': 'Input', 'flow': 31349},\n",
       "  {'direction': 'Input', 'flow': 31351},\n",
       "  {'direction': 'Input', 'flow': 31353},\n",
       "  {'direction': 'Input', 'flow': 31355},\n",
       "  {'direction': 'Input', 'flow': 31357},\n",
       "  {'direction': 'Input', 'flow': 31359},\n",
       "  {'direction': 'Input', 'flow': 31365},\n",
       "  {'direction': 'Input', 'flow': 31375},\n",
       "  {'direction': 'Input', 'flow': 31377},\n",
       "  {'direction': 'Input', 'flow': 31379},\n",
       "  {'direction': 'Input', 'flow': 31497},\n",
       "  {'direction': 'Input', 'flow': 31499},\n",
       "  {'direction': 'Input', 'flow': 31501},\n",
       "  {'direction': 'Input', 'flow': 31503},\n",
       "  {'direction': 'Input', 'flow': 31505},\n",
       "  {'direction': 'Input', 'flow': 31507},\n",
       "  {'direction': 'Input', 'flow': 44167},\n",
       "  {'direction': 'Output', 'flow': 789},\n",
       "  {'direction': 'Output', 'flow': 791},\n",
       "  {'direction': 'Output', 'flow': 4868},\n",
       "  {'direction': 'Output', 'flow': 4872},\n",
       "  {'direction': 'Output', 'flow': 4880},\n",
       "  {'direction': 'Output', 'flow': 4882},\n",
       "  {'direction': 'Output', 'flow': 4886},\n",
       "  {'direction': 'Output', 'flow': 4888},\n",
       "  {'direction': 'Output', 'flow': 5098},\n",
       "  {'direction': 'Output', 'flow': 5106},\n",
       "  {'direction': 'Output', 'flow': 5512},\n",
       "  {'direction': 'Output', 'flow': 5835},\n",
       "  {'direction': 'Output', 'flow': 5875},\n",
       "  {'direction': 'Output', 'flow': 6901},\n",
       "  {'direction': 'Output', 'flow': 6913},\n",
       "  {'direction': 'Output', 'flow': 6925},\n",
       "  {'direction': 'Output', 'flow': 6931},\n",
       "  {'direction': 'Output', 'flow': 6971},\n",
       "  {'direction': 'Output', 'flow': 7049},\n",
       "  {'direction': 'Output', 'flow': 7305},\n",
       "  {'direction': 'Output', 'flow': 8641},\n",
       "  {'direction': 'Output', 'flow': 8671},\n",
       "  {'direction': 'Output', 'flow': 8717},\n",
       "  {'direction': 'Output', 'flow': 9717},\n",
       "  {'direction': 'Output', 'flow': 9719},\n",
       "  {'direction': 'Output', 'flow': 9725},\n",
       "  {'direction': 'Output', 'flow': 9727},\n",
       "  {'direction': 'Output', 'flow': 9761},\n",
       "  {'direction': 'Output', 'flow': 15462},\n",
       "  {'direction': 'Output', 'flow': 15464},\n",
       "  {'direction': 'Output', 'flow': 15466},\n",
       "  {'direction': 'Output', 'flow': 20131},\n",
       "  {'direction': 'Output', 'flow': 24613},\n",
       "  {'direction': 'Output', 'flow': 24617},\n",
       "  {'direction': 'Output', 'flow': 24681},\n",
       "  {'direction': 'Output', 'flow': 24683},\n",
       "  {'direction': 'Output', 'flow': 24745},\n",
       "  {'direction': 'Output', 'flow': 27744},\n",
       "  {'direction': 'Output', 'flow': 31216},\n",
       "  {'direction': 'Output', 'flow': 31220},\n",
       "  {'direction': 'Output', 'flow': 31222},\n",
       "  {'direction': 'Output', 'flow': 31224},\n",
       "  {'direction': 'Output', 'flow': 31226},\n",
       "  {'direction': 'Output', 'flow': 31230},\n",
       "  {'direction': 'Output', 'flow': 31232},\n",
       "  {'direction': 'Output', 'flow': 31505},\n",
       "  {'direction': 'Output', 'flow': 31513},\n",
       "  {'direction': 'Output', 'flow': 31515},\n",
       "  {'direction': 'Output', 'flow': 31517},\n",
       "  {'direction': 'Output', 'flow': 31519}],\n",
       " 'origin': '/home/b/Dropbox/data/USLCI/USLCI_Processes_ecospold1.zip'}"
      ]
     },
     "execution_count": 22,
     "metadata": {},
     "output_type": "execute_result"
    }
   ],
   "source": [
    "j['processes'][310]"
   ]
  },
  {
   "cell_type": "code",
   "execution_count": 16,
   "metadata": {
    "collapsed": false
   },
   "outputs": [],
   "source": [
    "a.entity_from_json(j['processes'][0])"
   ]
  },
  {
   "cell_type": "code",
   "execution_count": 43,
   "metadata": {
    "collapsed": false
   },
   "outputs": [
    {
     "data": {
      "text/plain": [
       "<lcatools.entities.LcFlow at 0x7f38f73b2c88>"
      ]
     },
     "execution_count": 43,
     "metadata": {},
     "output_type": "execute_result"
    }
   ],
   "source": [
    "Exchange(process=a.processes()[0], flow=a[8437]"
   ]
  },
  {
   "cell_type": "code",
   "execution_count": 42,
   "metadata": {
    "collapsed": false
   },
   "outputs": [
    {
     "data": {
      "text/plain": [
       "{'_d': {'Classifications': ['Chemical Manufacturing',\n",
       "   'All Other Basic Organic Chemical Manufacturing'],\n",
       "  'Comment': '100% of elementary flows and inputs from the technosphere were allocated to acetic acid, and 0% to recovered heat\\nImportant note: although most of the data in the US LCI database has \\nundergone some sort of review, the database as a whole has not yet \\nundergone a formal validation process.\\nPlease email comments to lci@nrel.gov.',\n",
       "  'Name': 'Acetic acid, at plant',\n",
       "  'SpatialScope': 'RNA',\n",
       "  'TemporalScope': 'interval(2003-01-01-07:00, 2003-01-01-07:00)',\n",
       "  'exchanges': [{'direction': 'Input', 'flow': 781},\n",
       "   {'direction': 'Input', 'flow': 783},\n",
       "   {'direction': 'Input', 'flow': 855},\n",
       "   {'direction': 'Input', 'flow': 2178},\n",
       "   {'direction': 'Input', 'flow': 5074},\n",
       "   {'direction': 'Input', 'flow': 5084},\n",
       "   {'direction': 'Input', 'flow': 5086},\n",
       "   {'direction': 'Input', 'flow': 5380},\n",
       "   {'direction': 'Input', 'flow': 6524},\n",
       "   {'direction': 'Input', 'flow': 8421},\n",
       "   {'direction': 'Input', 'flow': 9206},\n",
       "   {'direction': 'Input', 'flow': 19362},\n",
       "   {'direction': 'Output', 'flow': 789},\n",
       "   {'direction': 'Output', 'flow': 4840},\n",
       "   {'direction': 'Output', 'flow': 5098},\n",
       "   {'direction': 'Output', 'flow': 5881},\n",
       "   {'direction': 'Output', 'flow': 6877},\n",
       "   {'direction': 'Output', 'flow': 7307},\n",
       "   {'direction': 'Output', 'flow': 8435},\n",
       "   {'direction': 'Output', 'flow': 8437, 'isReference': True},\n",
       "   {'direction': 'Output', 'flow': 8439}],\n",
       "  'origin': '/home/b/Dropbox/data/USLCI/USLCI_Processes_ecospold1.zip'},\n",
       " '_exchanges': set(),\n",
       " '_external_ref': 'Acetic acid, at plant',\n",
       " '_uuid': UUID('f9b7469a-98ea-3434-aedd-cee80a51e655'),\n",
       " 'entity_type': 'process',\n",
       " 'reference_entity': None}"
      ]
     },
     "execution_count": 42,
     "metadata": {},
     "output_type": "execute_result"
    }
   ],
   "source": [
    "a.processes()[0].__dict__"
   ]
  },
  {
   "cell_type": "code",
   "execution_count": 26,
   "metadata": {
    "collapsed": false
   },
   "outputs": [
    {
     "data": {
      "text/plain": [
       "{'_d': {'Comment': 'EcoSpold01',\n",
       "  'Name': 'EcoSpold Quantity Bq',\n",
       "  'origin': '/home/b/Dropbox/data/USLCI/USLCI_Processes_ecospold1.zip'},\n",
       " '_external_ref': 'Bq',\n",
       " '_uuid': UUID('5845c642-88eb-32b3-acb1-29ae9224ac1a'),\n",
       " 'entity_type': 'quantity',\n",
       " 'reference_entity': <lcatools.entities.LcUnit at 0x7f38f69702b0>}"
      ]
     },
     "execution_count": 26,
     "metadata": {},
     "output_type": "execute_result"
    }
   ],
   "source": [
    "a.quantities()[0].__dict__"
   ]
  },
  {
   "cell_type": "code",
   "execution_count": 8,
   "metadata": {
    "collapsed": true
   },
   "outputs": [],
   "source": [
    "C = dict()"
   ]
  },
  {
   "cell_type": "code",
   "execution_count": 26,
   "metadata": {
    "collapsed": true
   },
   "outputs": [],
   "source": [
    "from urllib.request import urlopen"
   ]
  },
  {
   "cell_type": "code",
   "execution_count": 19,
   "metadata": {
    "collapsed": false
   },
   "outputs": [],
   "source": [
    "with open('foo.xml', 'wb') as fp:\n",
    "    fp.write(r.read())\n"
   ]
  },
  {
   "cell_type": "code",
   "execution_count": 13,
   "metadata": {
    "collapsed": true
   },
   "outputs": [],
   "source": [
    "from lxml import objectify"
   ]
  },
  {
   "cell_type": "code",
   "execution_count": 23,
   "metadata": {
    "collapsed": false
   },
   "outputs": [
    {
     "ename": "ValueError",
     "evalue": "Unicode strings with encoding declaration are not supported. Please use bytes input or XML fragments without declaration.",
     "output_type": "error",
     "traceback": [
      "\u001b[1;31m---------------------------------------------------------------------------\u001b[0m",
      "\u001b[1;31mValueError\u001b[0m                                Traceback (most recent call last)",
      "\u001b[1;32m<ipython-input-23-7d79e4c625a9>\u001b[0m in \u001b[0;36m<module>\u001b[1;34m()\u001b[0m\n\u001b[0;32m      1\u001b[0m \u001b[1;32mwith\u001b[0m \u001b[0mopen\u001b[0m\u001b[1;33m(\u001b[0m\u001b[1;34m'foo.xml'\u001b[0m\u001b[1;33m,\u001b[0m \u001b[1;34m'r'\u001b[0m\u001b[1;33m)\u001b[0m \u001b[1;32mas\u001b[0m \u001b[0mfp\u001b[0m\u001b[1;33m:\u001b[0m\u001b[1;33m\u001b[0m\u001b[0m\n\u001b[1;32m----> 2\u001b[1;33m     \u001b[0mo\u001b[0m \u001b[1;33m=\u001b[0m \u001b[0mobjectify\u001b[0m\u001b[1;33m.\u001b[0m\u001b[0mfromstring\u001b[0m\u001b[1;33m(\u001b[0m\u001b[0mfp\u001b[0m\u001b[1;33m.\u001b[0m\u001b[0mread\u001b[0m\u001b[1;33m(\u001b[0m\u001b[1;33m)\u001b[0m\u001b[1;33m)\u001b[0m\u001b[1;33m\u001b[0m\u001b[0m\n\u001b[0m",
      "\u001b[1;32msrc/lxml/lxml.objectify.pyx\u001b[0m in \u001b[0;36mlxml.objectify.fromstring (src/lxml/lxml.objectify.c:25171)\u001b[1;34m()\u001b[0m\n",
      "\u001b[1;32msrc/lxml/lxml.etree.pyx\u001b[0m in \u001b[0;36mlxml.etree.fromstring (src/lxml/lxml.etree.c:77697)\u001b[1;34m()\u001b[0m\n",
      "\u001b[1;32msrc/lxml/parser.pxi\u001b[0m in \u001b[0;36mlxml.etree._parseMemoryDocument (src/lxml/lxml.etree.c:116435)\u001b[1;34m()\u001b[0m\n",
      "\u001b[1;31mValueError\u001b[0m: Unicode strings with encoding declaration are not supported. Please use bytes input or XML fragments without declaration."
     ]
    }
   ],
   "source": [
    "with open('foo.xml', 'r') as fp:\n",
    "    o = objectify.fromstring(fp.read())"
   ]
  },
  {
   "cell_type": "code",
   "execution_count": 9,
   "metadata": {
    "collapsed": false
   },
   "outputs": [
    {
     "name": "stdout",
     "output_type": "stream",
     "text": [
      "Loading /data/GitHub/lca-tools-datafiles/catalogs/ecoinvent_3.2_apos_xlsx.json.gz\n",
      "20 new quantity entities added (20 total)\n",
      "6767 new flow entities added (6767 total)\n",
      "11420 new process entities added (11420 total)\n",
      "CPU times: user 1.79 s, sys: 120 ms, total: 1.91 s\n",
      "Wall time: 1.92 s\n",
      "Loading /data/GitHub/lca-tools-datafiles/catalogs/ecoinvent_3.2_consequential_xlsx.json.gz\n",
      "20 new quantity entities added (20 total)\n",
      "6767 new flow entities added (6767 total)\n",
      "11468 new process entities added (11468 total)\n",
      "CPU times: user 1.92 s, sys: 70 ms, total: 1.99 s\n",
      "Wall time: 2 s\n",
      "Loading /data/GitHub/lca-tools-datafiles/catalogs/ecoinvent_3.2_cut-off_xlsx.json.gz\n",
      "20 new quantity entities added (20 total)\n",
      "6767 new flow entities added (6767 total)\n",
      "11578 new process entities added (11578 total)\n",
      "CPU times: user 2.09 s, sys: 70 ms, total: 2.16 s\n",
      "Wall time: 2.16 s\n",
      "Loading /data/GitHub/lca-tools-datafiles/catalogs/ecoinvent_3.2_undefined_xlsx.json.gz\n",
      "20 new quantity entities added (20 total)\n",
      "6767 new flow entities added (6767 total)\n",
      "13307 new process entities added (13307 total)\n",
      "CPU times: user 2.88 s, sys: 50 ms, total: 2.93 s\n",
      "Wall time: 2.93 s\n",
      "Loading /data/GitHub/lca-tools-datafiles/catalogs/ei3.2_cutoff_spold.gz\n",
      "19 new quantity entities added (19 total)\n",
      "4681 new flow entities added (4681 total)\n",
      "11578 new process entities added (11578 total)\n",
      "CPU times: user 1.18 s, sys: 20 ms, total: 1.2 s\n",
      "Wall time: 1.4 s\n",
      "Loading /data/GitHub/lca-tools-datafiles/catalogs/elcd_3.2.json.gz\n",
      "WARNING: path does not resolve.  Archive will be non-functional.\n",
      "Trying local ELCD reference\n",
      "Found Extension: zip\n",
      "18 new quantity entities added (18 total)\n",
      "2343 new flow entities added (2343 total)\n",
      "503 new process entities added (503 total)\n",
      "CPU times: user 7.08 s, sys: 210 ms, total: 7.29 s\n",
      "Wall time: 7.33 s\n",
      "Loading /data/GitHub/lca-tools-datafiles/catalogs/gabi_2016_all-extensions.json.gz\n",
      "Archive refers to a web address using protocol http\n",
      " caching files locally in /data/GitHub/lca-tools/lcatools/providers/web_cache/gabi-documentation-2016.gabi-software.com/xml-data/\n",
      "Archive refers to a web address using protocol http\n",
      " caching files locally in /data/GitHub/lca-tools/lcatools/providers/web_cache/gabi-documentation-2016.gabi-software.com/xml-data/\n",
      "Found file in cache: unitgroups/93a60a57-a3c8-11da-a746-0800200c9a66.xml\n",
      "Found file in cache: unitgroups/3620148f-c5db-48ce-9065-a10092089aca.xml\n",
      "Found file in cache: unitgroups/af638906-3ec7-4314-8de7-f76039f2dd01.xml\n",
      "Found file in cache: unitgroups/5beb6eed-33a9-47b8-9ede-1dfe8f679159.xml\n",
      "Found file in cache: unitgroups/8992910b-42c3-4cc5-96fa-66ac4ac3b6de.xml\n",
      "Found file in cache: unitgroups/93a60a57-a3c8-12da-a746-0800200c9a66.xml\n",
      "Found file in cache: unitgroups/93a60a57-a3c8-11da-a746-0800200c9a66.xml\n",
      "Found file in cache: unitgroups/46076063-39cb-4e0e-9b18-f6d04fee3f60.xml\n",
      "Found file in cache: unitgroups/93a60a57-a3c8-18da-a746-0800200c9a66.xml\n",
      "Found file in cache: unitgroups/838aaa22-0117-11db-92e3-0800200c9a66.xml\n",
      "Found file in cache: unitgroups/93a60a57-a3c8-12da-a746-0800200c9a66.xml\n",
      "Found file in cache: unitgroups/93a60a57-a4c8-11da-a746-0800200c9a66.xml\n",
      "12 new quantity entities added (12 total)\n",
      "2304 new flow entities added (2304 total)\n",
      "7457 new process entities added (7457 total)\n",
      "CPU times: user 1.3 s, sys: 30 ms, total: 1.33 s\n",
      "Wall time: 2.78 s\n",
      "Loading /data/GitHub/lca-tools-datafiles/catalogs/gabi_2016_professional-database-2016.json.gz\n",
      "Archive refers to a web address using protocol http\n",
      " caching files locally in /data/GitHub/lca-tools/lcatools/providers/web_cache/gabi-documentation-2016.gabi-software.com/xml-data/\n",
      "Archive refers to a web address using protocol http\n",
      " caching files locally in /data/GitHub/lca-tools/lcatools/providers/web_cache/gabi-documentation-2016.gabi-software.com/xml-data/\n",
      "Found file in cache: unitgroups/3620148f-c5db-48ce-9065-a10092089aca.xml\n",
      "Found file in cache: unitgroups/af638906-3ec7-4314-8de7-f76039f2dd01.xml\n",
      "Found file in cache: unitgroups/93a60a57-a3c8-11da-a746-0800200c9a66.xml\n",
      "Found file in cache: unitgroups/838aaa22-0117-11db-92e3-0800200c9a66.xml\n",
      "Found file in cache: unitgroups/b3a220db-0613-42ab-84bc-b153d339cb0d.xml\n",
      "Found file in cache: unitgroups/93a60a57-a3c8-12da-a746-0800200c9a66.xml\n",
      "Found file in cache: unitgroups/5beb6eed-33a9-47b8-9ede-1dfe8f679159.xml\n",
      "Found file in cache: unitgroups/93a60a57-a3c8-18da-a746-0800200c9a66.xml\n",
      "Found file in cache: unitgroups/93a60a57-a3c8-12da-a746-0800200c9a66.xml\n",
      "Found file in cache: unitgroups/93a60a57-a4c8-11da-a746-0800200c9a66.xml\n",
      "10 new quantity entities added (10 total)\n",
      "762 new flow entities added (762 total)\n",
      "3319 new process entities added (3319 total)\n",
      "CPU times: user 1.68 s, sys: 120 ms, total: 1.8 s\n",
      "Wall time: 5.52 s\n",
      "Loading /data/GitHub/lca-tools-datafiles/catalogs/uslci_ecospold.json.gz\n",
      "WARNING: path does not resolve.  Archive will be non-functional.\n",
      "19 new quantity entities added (19 total)\n",
      "4176 new flow entities added (4176 total)\n",
      "701 new process entities added (701 total)\n",
      "CPU times: user 2.1 s, sys: 0 ns, total: 2.1 s\n",
      "Wall time: 2.1 s\n"
     ]
    }
   ],
   "source": [
    "for i in files:\n",
    "    name = re.sub('\\.json\\.gz$', '', i.split(os.path.sep)[-1])\n",
    "    if name not in C:\n",
    "        print('Loading %s' % i)\n",
    "        %time C[name] = from_json(i)\n",
    "                  "
   ]
  },
  {
   "cell_type": "code",
   "execution_count": 10,
   "metadata": {
    "collapsed": false
   },
   "outputs": [
    {
     "data": {
      "text/plain": [
       "{'ecoinvent_3.2_apos_xlsx': <lcatools.providers.ecoinvent_spreadsheet.EcoinventSpreadsheet at 0x7fc690b3b630>,\n",
       " 'ecoinvent_3.2_consequential_xlsx': <lcatools.providers.ecoinvent_spreadsheet.EcoinventSpreadsheet at 0x7fc68ff23358>,\n",
       " 'ecoinvent_3.2_cut-off_xlsx': <lcatools.providers.ecoinvent_spreadsheet.EcoinventSpreadsheet at 0x7fc68e8c61d0>,\n",
       " 'ecoinvent_3.2_undefined_xlsx': <lcatools.providers.ecoinvent_spreadsheet.EcoinventSpreadsheet at 0x7fc68bdf0e10>,\n",
       " 'ei3.2_cutoff_spold.gz': <lcatools.providers.ecospold2.EcospoldV2Archive at 0x7fc68b6e3ac8>,\n",
       " 'elcd_3.2': <lcatools.providers.ilcd.IlcdArchive at 0x7fc684ae4780>,\n",
       " 'gabi_2016_all-extensions': <lcatools.providers.gabi_web_catalog.GabiWebCatalog at 0x7fc689785d68>,\n",
       " 'gabi_2016_professional-database-2016': <lcatools.providers.gabi_web_catalog.GabiWebCatalog at 0x7fc685d23908>,\n",
       " 'uslci_ecospold': <lcatools.providers.ecospold.EcospoldV1Archive at 0x7fc684f18128>}"
      ]
     },
     "execution_count": 10,
     "metadata": {},
     "output_type": "execute_result"
    }
   ],
   "source": [
    "C"
   ]
  },
  {
   "cell_type": "code",
   "execution_count": 48,
   "metadata": {
    "collapsed": false
   },
   "outputs": [],
   "source": [
    "ei32_a = C['ecoinvent_3.2_apos_xlsx']\n",
    "ei32_q = C['ecoinvent_3.2_consequential_xlsx']\n",
    "ei32_c = C['ecoinvent_3.2_cut-off_xlsx']\n",
    "ei32_u = C['ecoinvent_3.2_undefined_xlsx']\n",
    "uslci  = C['uslci_ecospold']\n",
    "gabi_p = C['gabi_2016_professional-database-2016'].archive[0]\n",
    "gabi_x = C['gabi_2016_all-extensions'].archive[0]\n",
    "elcd   = C['elcd_3.2']\n",
    "\n",
    "cats = [ ei32_a, ei32_q, ei32_c, ei32_u, uslci, gabi_p, gabi_x, elcd]\n",
    "cnames = [ names[i] for i in (0, 1, 2, 3, 8, 7, 6, 5)]"
   ]
  },
  {
   "cell_type": "code",
   "execution_count": 44,
   "metadata": {
    "collapsed": false
   },
   "outputs": [
    {
     "data": {
      "text/plain": [
       "<lcatools.providers.ilcd.IlcdArchive at 0x7fb045994ba8>"
      ]
     },
     "execution_count": 44,
     "metadata": {},
     "output_type": "execute_result"
    }
   ],
   "source": [
    "gabi_p.archive[0]"
   ]
  },
  {
   "cell_type": "code",
   "execution_count": 13,
   "metadata": {
    "collapsed": false
   },
   "outputs": [
    {
     "data": {
      "text/plain": [
       "{'extension-database-ia-intermediates-organic',\n",
       " 'extension-database-ib-intermediates-inorganic',\n",
       " 'extension-database-ii-energy',\n",
       " 'extension-database-iii-steel',\n",
       " 'extension-database-iv-aluminium',\n",
       " 'extension-database-ix-end-of-life',\n",
       " 'extension-database-v-non-ferrous-metals',\n",
       " 'extension-database-vi-precious-metals',\n",
       " 'extension-database-vii-plastics',\n",
       " 'extension-database-viii-coatings',\n",
       " 'extension-database-x-manufacturing',\n",
       " 'extension-database-xi-electronics',\n",
       " 'extension-database-xii-renewable-raw-materials',\n",
       " 'extension-database-xiv-construction-materials',\n",
       " 'extension-database-xix-bioplastics',\n",
       " 'extension-database-xv-textile-finishing',\n",
       " 'extension-database-xvi-seat-covers',\n",
       " 'extension-database-xvii-full-us',\n",
       " 'extension-database-xx-food-feed',\n",
       " 'extension-database-xxi-india'}"
      ]
     },
     "execution_count": 13,
     "metadata": {},
     "output_type": "execute_result"
    }
   ],
   "source": [
    "set([k['CatalogName'] for k in cats[-1].processes()])"
   ]
  },
  {
   "cell_type": "code",
   "execution_count": 122,
   "metadata": {
    "collapsed": true
   },
   "outputs": [],
   "source": [
    "def search_catalogs(etype, **kwargs):\n",
    "    \"\"\"\n",
    "    search all the catalogs for a search term. \n",
    "    \"\"\"\n",
    "    results = []\n",
    "    for i, k in enumerate(cats):\n",
    "        for j in k.search(entity_type=etype, **kwargs):\n",
    "            results.append((i, j))\n",
    "    return results"
   ]
  },
  {
   "cell_type": "code",
   "execution_count": 194,
   "metadata": {
    "collapsed": true
   },
   "outputs": [],
   "source": [
    "def processes_with_flow(result):\n",
    "    \"\"\"\n",
    "    takes an element from a list of flow search results: which are a catalog reference and a flow entity\n",
    "    returns a list of processes that exchange it\n",
    "    \"\"\"\n",
    "    return [(result[0], x.process) for x in cats[result[0]].exchanges() if x.flow is result[1]]"
   ]
  },
  {
   "cell_type": "code",
   "execution_count": 188,
   "metadata": {
    "collapsed": true
   },
   "outputs": [],
   "source": [
    "search_term = 'alum.*silicate'"
   ]
  },
  {
   "cell_type": "code",
   "execution_count": 189,
   "metadata": {
    "collapsed": false
   },
   "outputs": [],
   "source": [
    "l = []\n",
    "for n in ('flow', 'process'):\n",
    "    l.extend(search_catalogs(n, Name=search_term))"
   ]
  },
  {
   "cell_type": "code",
   "execution_count": 190,
   "metadata": {
    "collapsed": false
   },
   "outputs": [
    {
     "data": {
      "text/plain": [
       "[(5, <lcatools.entities.LcFlow at 0x7efcc69eaf28>),\n",
       " (6, <lcatools.entities.LcFlow at 0x7efcc704ceb8>),\n",
       " (6, <lcatools.entities.LcFlow at 0x7efcc6f55588>),\n",
       " (6, <lcatools.entities.LcProcess at 0x7efcc40bc940>)]"
      ]
     },
     "execution_count": 190,
     "metadata": {},
     "output_type": "execute_result"
    }
   ],
   "source": [
    "l"
   ]
  },
  {
   "cell_type": "code",
   "execution_count": 191,
   "metadata": {
    "collapsed": false
   },
   "outputs": [
    {
     "name": "stdout",
     "output_type": "stream",
     "text": [
      "(5) Kaolin (aluminium silicate) (CAS 001332-58-7) [Valuable substances, Materials, Minerals]\n",
      "(6) Kaolin (aluminium silicate) (CAS 001332-58-7) [Valuable substances, Materials, Minerals]\n",
      "(6) Aluminium silicate [Valuable substances, Materials, Intermediate products, Inorganic intermediate products]\n",
      "(6) Aluminium silicate (zeolite type A) [US]\n"
     ]
    }
   ],
   "source": [
    "for i in l:\n",
    "    print('(%d) %s' % i)"
   ]
  },
  {
   "cell_type": "code",
   "execution_count": 200,
   "metadata": {
    "collapsed": false
   },
   "outputs": [],
   "source": [
    "def show_processes(res):\n",
    "    \"\"\"\n",
    "    res is a 2-tuple: (index into cats, flow entity)\n",
    "    \"\"\"\n",
    "    for i in res:\n",
    "        print('%s:' % cnames[i[0]])\n",
    "        for j,p in processes_with_flow(i):\n",
    "            if 'CatalogName' in p.properties():\n",
    "                print(' * (%s) %s' % (p['CatalogName'], p))\n",
    "            else:\n",
    "                print(' * %s' % p)\n",
    "            print('   %s%s.xml' % (p['origin'], p.get_external_ref()))\n",
    "    "
   ]
  },
  {
   "cell_type": "code",
   "execution_count": 201,
   "metadata": {
    "collapsed": false
   },
   "outputs": [],
   "source": [
    "def search_for_processes(flowname, **kwargs):\n",
    "    show_processes(search_catalogs('flow', Name=flowname, **kwargs))\n",
    "    \n",
    "    "
   ]
  },
  {
   "cell_type": "code",
   "execution_count": 202,
   "metadata": {
    "collapsed": false,
    "scrolled": true
   },
   "outputs": [
    {
     "name": "stdout",
     "output_type": "stream",
     "text": [
      "gabi_2016_professional-database-2016:\n",
      " * Kaolin [DE]\n",
      "   http://gabi-documentation-2016.gabi-software.com/xml-data/processes/d4b785c0-d395-4a25-8309-b3017b0dea6b.xml\n",
      "gabi_2016_all-extensions:\n",
      " * (extension-database-xiv-construction-materials) Kaolin [DE]\n",
      "   http://gabi-documentation-2016.gabi-software.com/xml-data/processes/d4b785c0-d395-4a25-8309-b3017b0dea6b.xml\n",
      " * (extension-database-xvii-full-us) Kaolin (mining and processing) [US]\n",
      "   http://gabi-documentation-2016.gabi-software.com/xml-data/processes/09327fc4-6fac-4b45-aa8e-a02a339ba20a.xml\n",
      " * (extension-database-xxi-india) Kaolin  [IN]\n",
      "   http://gabi-documentation-2016.gabi-software.com/xml-data/processes/18a54e01-ebda-47cb-a787-d1797a91efe9.xml\n",
      "gabi_2016_all-extensions:\n",
      " * (extension-database-xvii-full-us) Aluminium silicate (zeolite type A) [US]\n",
      "   http://gabi-documentation-2016.gabi-software.com/xml-data/processes/ec8be76c-6908-4c1c-aa48-6fdfe57c653d.xml\n"
     ]
    }
   ],
   "source": [
    "search_for_processes('alum.*silic')"
   ]
  },
  {
   "cell_type": "code",
   "execution_count": 165,
   "metadata": {
    "collapsed": false,
    "scrolled": true
   },
   "outputs": [
    {
     "name": "stdout",
     "output_type": "stream",
     "text": [
      "gabi_2016_all-extensions:\n",
      " * (extension-database-xxi-india) Aluminium chloride (estimation) [IN]\n",
      "   http://gabi-documentation-2016.gabi-software.com/xml-data/processes/db1f6b2c-a900-43c8-a87c-1795543edcbf.xml\n",
      "gabi_2016_all-extensions:\n",
      " * (extension-database-xxi-india) Polyaluminium chloride (estimation) [IN]\n",
      "   http://gabi-documentation-2016.gabi-software.com/xml-data/processes/62d7b764-c83f-4b2e-873b-ca585329eaf9.xml\n"
     ]
    }
   ],
   "source": [
    "search_for_processes('alum.*chlor')"
   ]
  },
  {
   "cell_type": "code",
   "execution_count": 166,
   "metadata": {
    "collapsed": false,
    "scrolled": false
   },
   "outputs": [
    {
     "name": "stdout",
     "output_type": "stream",
     "text": [
      "ecoinvent_3.2_apos_xlsx:\n",
      "ecoinvent_3.2_apos_xlsx:\n",
      "ecoinvent_3.2_apos_xlsx:\n",
      "ecoinvent_3.2_apos_xlsx:\n",
      "ecoinvent_3.2_apos_xlsx:\n",
      "ecoinvent_3.2_consequential_xlsx:\n",
      "ecoinvent_3.2_consequential_xlsx:\n",
      "ecoinvent_3.2_consequential_xlsx:\n",
      "ecoinvent_3.2_consequential_xlsx:\n",
      "ecoinvent_3.2_consequential_xlsx:\n",
      "ecoinvent_3.2_cut-off_xlsx:\n",
      "ecoinvent_3.2_cut-off_xlsx:\n",
      "ecoinvent_3.2_cut-off_xlsx:\n",
      "ecoinvent_3.2_cut-off_xlsx:\n",
      "ecoinvent_3.2_cut-off_xlsx:\n",
      "ecoinvent_3.2_undefined_xlsx:\n",
      "ecoinvent_3.2_undefined_xlsx:\n",
      "ecoinvent_3.2_undefined_xlsx:\n",
      "ecoinvent_3.2_undefined_xlsx:\n",
      "ecoinvent_3.2_undefined_xlsx:\n",
      "gabi_2016_all-extensions:\n",
      " * (extension-database-ia-intermediates-organic) Methyl bromide [DE]\n",
      "   http://gabi-documentation-2016.gabi-software.com/xml-data/processes/4584335a-e81a-4244-a6a9-97e0fc267683.xml\n",
      "elcd_3.2:\n",
      " * corrugated Board ELCD dataset 2009 S [EU-27]\n",
      "   C:\\Users\\Brandon\\Dropbox\\data\\ELCD\\ELCD3.2.zipprocesses/7311da1a-673f-96b5-66ef-00004409928e.xml\n",
      " * Copper tube; technology mix; market mix, at plant; diameter 15 mm, 1 mm thickness [EU-25]\n",
      "   C:\\Users\\Brandon\\Dropbox\\data\\ELCD\\ELCD3.2.zipprocesses/5098e9f2-e2f1-44e9-ac4e-62a8864ae2b6.xml\n",
      " * Bentonite granular, sodium activated [RER]\n",
      "   C:\\Users\\Brandon\\Dropbox\\data\\ELCD\\ELCD3.2.zipprocesses/2b78d6f1-2d78-4781-9701-3d34e00f2762.xml\n",
      " * Continuous filament glass fibre (dry chopped strands) [RER]\n",
      "   C:\\Users\\Brandon\\Dropbox\\data\\ELCD\\ELCD3.2.zipprocesses/b1661cc6-b2f5-46ae-8ce0-f1d33ac7e1af.xml\n",
      " * Continuous filament glass fibre (direct rovings) [RER]\n",
      "   C:\\Users\\Brandon\\Dropbox\\data\\ELCD\\ELCD3.2.zipprocesses/6756d1f6-8661-452f-badf-bd386a8b947a.xml\n",
      " * Steel tinplate without EoL recycling  (collection year 2012/2013) [RER]\n",
      "   C:\\Users\\Brandon\\Dropbox\\data\\ELCD\\ELCD3.2.zipprocesses/a83ee9ac-e392-4ef8-b046-8d88c23a4187.xml\n",
      " * Continuous filament glass fibre (wet chopped strands) [RER]\n",
      "   C:\\Users\\Brandon\\Dropbox\\data\\ELCD\\ELCD3.2.zipprocesses/d176c895-2f1a-4596-804a-0db4d363f8ab.xml\n",
      " * Copper wire; technology mix; market mix, at plant; cross section 1 mm [EU-25]\n",
      "   C:\\Users\\Brandon\\Dropbox\\data\\ELCD\\ELCD3.2.zipprocesses/819e60d3-2652-47de-9f0b-d3bf8a4e0ea9.xml\n",
      " * PCC slurry [RER]\n",
      "   C:\\Users\\Brandon\\Dropbox\\data\\ELCD\\ELCD3.2.zipprocesses/deb8f616-d451-4904-b241-d7295713accf.xml\n",
      " * Bentonite powder, sodium activated [RER]\n",
      "   C:\\Users\\Brandon\\Dropbox\\data\\ELCD\\ELCD3.2.zipprocesses/a2eaa86a-57cd-4f78-9e5a-9bc44458f6b0.xml\n",
      " * GCC slurry [RER]\n",
      "   C:\\Users\\Brandon\\Dropbox\\data\\ELCD\\ELCD3.2.zipprocesses/c220ef06-50b6-4037-b6b2-7562d01ea9e3.xml\n",
      " * titanium Dioxide; Chloride and sulphate processes; production mix, at plant; > 80% TiO2 [GLO]\n",
      "   C:\\Users\\Brandon\\Dropbox\\data\\ELCD\\ELCD3.2.zipprocesses/07927a54-b4f1-5e6e-94ca-00006717e913.xml\n",
      " * Porocalce plaster production [IT]\n",
      "   C:\\Users\\Brandon\\Dropbox\\data\\ELCD\\ELCD3.2.zipprocesses/da78eea3-ead1-4379-80af-14a991a2a746.xml\n",
      " * Copper sheet; technology mix; market mix, at plant; 0,6 mm thickness [EU-25]\n",
      "   C:\\Users\\Brandon\\Dropbox\\data\\ELCD\\ELCD3.2.zipprocesses/1323a7e6-7841-47db-8da1-06355432a908.xml\n",
      " * procarton 2009 ELCD FUall Alu wood - process waste System -agr land [EU-27]\n",
      "   C:\\Users\\Brandon\\Dropbox\\data\\ELCD\\ELCD3.2.zipprocesses/54025657-ca8e-1cd4-3330-0000339bcc6d.xml\n",
      " * PCC dry [RER]\n",
      "   C:\\Users\\Brandon\\Dropbox\\data\\ELCD\\ELCD3.2.zipprocesses/0d703908-42f0-4669-87b5-69061d426797.xml\n",
      " * Continuous filament glass fibre (assembled rovings) [RER]\n",
      "   C:\\Users\\Brandon\\Dropbox\\data\\ELCD\\ELCD3.2.zipprocesses/d1befc51-af18-4725-b356-3c79be66b249.xml\n",
      " * Lead primary and secondary mix  [EU-27]\n",
      "   C:\\Users\\Brandon\\Dropbox\\data\\ELCD\\ELCD3.2.zipprocesses/137f2286-e426-4231-b65d-e65503fa6e5c.xml\n",
      " * Lead sheet mix [EU-27]\n",
      "   C:\\Users\\Brandon\\Dropbox\\data\\ELCD\\ELCD3.2.zipprocesses/11f67def-dc2a-4e74-bb4f-885610a9ae9c.xml\n",
      " *  Graphic Paper [EU-25]\n",
      "   C:\\Users\\Brandon\\Dropbox\\data\\ELCD\\ELCD3.2.zipprocesses/50e97735-1e19-4788-8525-e39de50cd804.xml\n",
      " * GCC dry [RER]\n",
      "   C:\\Users\\Brandon\\Dropbox\\data\\ELCD\\ELCD3.2.zipprocesses/14db2998-ff19-45e6-9951-f5bd9ae8c149.xml\n"
     ]
    }
   ],
   "source": [
    "search_for_processes('.', CasNumber='74-83-9')"
   ]
  },
  {
   "cell_type": "code",
   "execution_count": 192,
   "metadata": {
    "collapsed": false
   },
   "outputs": [
    {
     "name": "stdout",
     "output_type": "stream",
     "text": [
      "gabi_2016_all-extensions:\n",
      " * (extension-database-xvii-full-us) Sodium bicarbonate [US]\n",
      "   http://gabi-documentation-2016.gabi-software.com/xml-data/processes/37d10e61-2410-4669-9340-d5dbbfdd1794.xml\n"
     ]
    }
   ],
   "source": [
    "search_for_processes('sodium.*bic')"
   ]
  },
  {
   "cell_type": "code",
   "execution_count": 208,
   "metadata": {
    "collapsed": false
   },
   "outputs": [],
   "source": [
    "def list_exchanges_for_process(result):\n",
    "    cat = cats[result[0]]\n",
    "    exch = [x for x in cat.exchanges() if x.process is result[1]]\n",
    "    for i in exch:\n",
    "        print('%s' %i)\n",
    "    return exch"
   ]
  },
  {
   "cell_type": "code",
   "execution_count": 203,
   "metadata": {
    "collapsed": false
   },
   "outputs": [
    {
     "data": {
      "text/plain": [
       "[(5, <lcatools.entities.LcFlow at 0x7efcc69eaf28>),\n",
       " (6, <lcatools.entities.LcFlow at 0x7efcc704ceb8>),\n",
       " (6, <lcatools.entities.LcFlow at 0x7efcc6f55588>),\n",
       " (6, <lcatools.entities.LcProcess at 0x7efcc40bc940>)]"
      ]
     },
     "execution_count": 203,
     "metadata": {},
     "output_type": "execute_result"
    }
   ],
   "source": [
    "l"
   ]
  },
  {
   "cell_type": "code",
   "execution_count": null,
   "metadata": {
    "collapsed": true
   },
   "outputs": [],
   "source": []
  },
  {
   "cell_type": "code",
   "execution_count": 204,
   "metadata": {
    "collapsed": false
   },
   "outputs": [],
   "source": [
    "pp = processes_with_flow(l[1])"
   ]
  },
  {
   "cell_type": "code",
   "execution_count": 205,
   "metadata": {
    "collapsed": false
   },
   "outputs": [
    {
     "data": {
      "text/plain": [
       "(6, <lcatools.entities.LcProcess at 0x7efcc402d208>)"
      ]
     },
     "execution_count": 205,
     "metadata": {},
     "output_type": "execute_result"
    }
   ],
   "source": [
    "pp[0]"
   ]
  },
  {
   "cell_type": "code",
   "execution_count": 213,
   "metadata": {
    "collapsed": false
   },
   "outputs": [
    {
     "name": "stdout",
     "output_type": "stream",
     "text": [
      "Kaolin  [IN] has Output: Kaolin (aluminium silicate) (CAS 001332-58-7) [Valuable substances, Materials, Minerals] [kg]\n"
     ]
    },
    {
     "data": {
      "text/plain": [
       "[<lcatools.exchanges.Exchange at 0x7efcc3ebca58>]"
      ]
     },
     "execution_count": 213,
     "metadata": {},
     "output_type": "execute_result"
    }
   ],
   "source": [
    "list_exchanges_for_process(pp[2])"
   ]
  },
  {
   "cell_type": "code",
   "execution_count": 185,
   "metadata": {
    "collapsed": false
   },
   "outputs": [
    {
     "data": {
      "text/plain": [
       "[]"
      ]
     },
     "execution_count": 185,
     "metadata": {},
     "output_type": "execute_result"
    }
   ],
   "source": [
    "[x for x in cats[5].exchanges() if x.process==pp[0]]"
   ]
  },
  {
   "cell_type": "code",
   "execution_count": 171,
   "metadata": {
    "collapsed": false
   },
   "outputs": [
    {
     "data": {
      "text/plain": [
       "['http://gabi-documentation-2016.gabi-software.com/xml-data/processes/d4b785c0-d395-4a25-8309-b3017b0dea6b.xml',\n",
       " 'http://gabi-documentation-2016.gabi-software.com/xml-data/processes/09327fc4-6fac-4b45-aa8e-a02a339ba20a.xml',\n",
       " 'http://gabi-documentation-2016.gabi-software.com/xml-data/processes/18a54e01-ebda-47cb-a787-d1797a91efe9.xml']"
      ]
     },
     "execution_count": 171,
     "metadata": {},
     "output_type": "execute_result"
    }
   ],
   "source": [
    "[_p['origin'] + _p.get_external_ref() + '.xml' for _p in pp ]"
   ]
  },
  {
   "cell_type": "code",
   "execution_count": 172,
   "metadata": {
    "collapsed": false
   },
   "outputs": [],
   "source": [
    "q = C['gabi_2016_all-extensions']"
   ]
  },
  {
   "cell_type": "code",
   "execution_count": 97,
   "metadata": {
    "collapsed": false
   },
   "outputs": [
    {
     "data": {
      "text/plain": [
       "'http://www.gabi-software.com/support/gabi/gabi-database-2016-lci-documentation/extension-database-ia-intermediates-organic/'"
      ]
     },
     "execution_count": 97,
     "metadata": {},
     "output_type": "execute_result"
    }
   ],
   "source": [
    "q.catalog"
   ]
  },
  {
   "cell_type": "code",
   "execution_count": 63,
   "metadata": {
    "collapsed": true
   },
   "outputs": [],
   "source": [
    "def _res_gen(r):\n",
    "    for k in r:\n",
    "        yield k\n",
    "_g = _res_gen(r)"
   ]
  },
  {
   "cell_type": "code",
   "execution_count": 70,
   "metadata": {
    "collapsed": true
   },
   "outputs": [],
   "source": []
  },
  {
   "cell_type": "code",
   "execution_count": 71,
   "metadata": {
    "collapsed": false
   },
   "outputs": [
    {
     "name": "stdout",
     "output_type": "stream",
     "text": [
      "Methane, bromo-, Halon 1001 (CAS 000074-83-9) [air, lower stratosphere + upper troposphere]\n",
      "Methane, bromo-, Halon 1001 (CAS 000074-83-9) [air, low population density, long-term]\n",
      "Methane, bromo-, Halon 1001 (CAS 000074-83-9) [air, non-urban air or from high stacks]\n",
      "Methane, bromotrifluoro-, Halon 1301 (CAS 000075-63-8) [air, low population density, long-term]\n",
      "Methane, bromochlorodifluoro-, Halon 1211 (CAS 000353-59-3) [air, urban air close to ground]\n",
      "Methane, bromotrifluoro-, Halon 1301 (CAS 000075-63-8) [air, lower stratosphere + upper troposphere]\n",
      "Methane, bromo-, Halon 1001 (CAS 000074-83-9) [air, unspecified]\n",
      "Methane, bromochlorodifluoro-, Halon 1211 (CAS 000353-59-3) [air, unspecified]\n",
      "Methane, bromotrifluoro-, Halon 1301 (CAS 000075-63-8) [air, non-urban air or from high stacks]\n",
      "Methane, bromotrifluoro-, Halon 1301 (CAS 000075-63-8) [air, unspecified]\n",
      "Methane, bromo-, Halon 1001 (CAS 000074-83-9) [air, urban air close to ground]\n",
      "Methane, bromochlorodifluoro-, Halon 1211 (CAS 000353-59-3) [air, non-urban air or from high stacks]\n",
      "Methane, bromochlorodifluoro-, Halon 1211 (CAS 000353-59-3) [air, lower stratosphere + upper troposphere]\n",
      "Methane, bromotrifluoro-, Halon 1301 (CAS 000075-63-8) [air, urban air close to ground]\n",
      "Methane, bromochlorodifluoro-, Halon 1211 (CAS 000353-59-3) [air, low population density, long-term]\n",
      "Methane, bromotrifluoro-, Halon 1301 (CAS 000075-63-8) [air, low population density, long-term]\n",
      "Methane, bromotrifluoro-, Halon 1301 (CAS 000075-63-8) [air, non-urban air or from high stacks]\n",
      "Methane, bromo-, Halon 1001 (CAS 000074-83-9) [air, urban air close to ground]\n",
      "Methane, bromo-, Halon 1001 (CAS 000074-83-9) [air, lower stratosphere + upper troposphere]\n",
      "Methane, bromotrifluoro-, Halon 1301 (CAS 000075-63-8) [air, urban air close to ground]\n",
      "Methane, bromochlorodifluoro-, Halon 1211 (CAS 000353-59-3) [air, unspecified]\n",
      "Methane, bromochlorodifluoro-, Halon 1211 (CAS 000353-59-3) [air, low population density, long-term]\n",
      "Methane, bromo-, Halon 1001 (CAS 000074-83-9) [air, low population density, long-term]\n",
      "Methane, bromo-, Halon 1001 (CAS 000074-83-9) [air, unspecified]\n",
      "Methane, bromochlorodifluoro-, Halon 1211 (CAS 000353-59-3) [air, urban air close to ground]\n",
      "Methane, bromochlorodifluoro-, Halon 1211 (CAS 000353-59-3) [air, non-urban air or from high stacks]\n",
      "Methane, bromotrifluoro-, Halon 1301 (CAS 000075-63-8) [air, lower stratosphere + upper troposphere]\n",
      "Methane, bromotrifluoro-, Halon 1301 (CAS 000075-63-8) [air, unspecified]\n",
      "Methane, bromochlorodifluoro-, Halon 1211 (CAS 000353-59-3) [air, lower stratosphere + upper troposphere]\n",
      "Methane, bromo-, Halon 1001 (CAS 000074-83-9) [air, non-urban air or from high stacks]\n",
      "Methane, bromo-, Halon 1001 (CAS 000074-83-9) [air, unspecified]\n",
      "Methane, bromo-, Halon 1001 (CAS 000074-83-9) [air, urban air close to ground]\n",
      "Methane, bromochlorodifluoro-, Halon 1211 (CAS 000353-59-3) [air, non-urban air or from high stacks]\n",
      "Methane, bromochlorodifluoro-, Halon 1211 (CAS 000353-59-3) [air, urban air close to ground]\n",
      "Methane, bromotrifluoro-, Halon 1301 (CAS 000075-63-8) [air, lower stratosphere + upper troposphere]\n",
      "Methane, bromotrifluoro-, Halon 1301 (CAS 000075-63-8) [air, urban air close to ground]\n",
      "Methane, bromochlorodifluoro-, Halon 1211 (CAS 000353-59-3) [air, lower stratosphere + upper troposphere]\n",
      "Methane, bromo-, Halon 1001 (CAS 000074-83-9) [air, non-urban air or from high stacks]\n",
      "Methane, bromotrifluoro-, Halon 1301 (CAS 000075-63-8) [air, low population density, long-term]\n",
      "Methane, bromo-, Halon 1001 (CAS 000074-83-9) [air, low population density, long-term]\n",
      "Methane, bromo-, Halon 1001 (CAS 000074-83-9) [air, lower stratosphere + upper troposphere]\n",
      "Methane, bromotrifluoro-, Halon 1301 (CAS 000075-63-8) [air, unspecified]\n",
      "Methane, bromochlorodifluoro-, Halon 1211 (CAS 000353-59-3) [air, unspecified]\n",
      "Methane, bromochlorodifluoro-, Halon 1211 (CAS 000353-59-3) [air, low population density, long-term]\n",
      "Methane, bromotrifluoro-, Halon 1301 (CAS 000075-63-8) [air, non-urban air or from high stacks]\n",
      "Methane, bromo-, Halon 1001 (CAS 000074-83-9) [air, unspecified]\n",
      "Methane, bromotrifluoro-, Halon 1301 (CAS 000075-63-8) [air, non-urban air or from high stacks]\n",
      "Methane, bromochlorodifluoro-, Halon 1211 (CAS 000353-59-3) [air, low population density, long-term]\n",
      "Methane, bromochlorodifluoro-, Halon 1211 (CAS 000353-59-3) [air, urban air close to ground]\n",
      "Methane, bromotrifluoro-, Halon 1301 (CAS 000075-63-8) [air, unspecified]\n",
      "Methane, bromochlorodifluoro-, Halon 1211 (CAS 000353-59-3) [air, unspecified]\n",
      "Methane, bromo-, Halon 1001 (CAS 000074-83-9) [air, non-urban air or from high stacks]\n",
      "Methane, bromotrifluoro-, Halon 1301 (CAS 000075-63-8) [air, lower stratosphere + upper troposphere]\n",
      "Methane, bromo-, Halon 1001 (CAS 000074-83-9) [air, urban air close to ground]\n",
      "Methane, bromo-, Halon 1001 (CAS 000074-83-9) [air, lower stratosphere + upper troposphere]\n",
      "Methane, bromochlorodifluoro-, Halon 1211 (CAS 000353-59-3) [air, non-urban air or from high stacks]\n",
      "Methane, bromo-, Halon 1001 (CAS 000074-83-9) [air, low population density, long-term]\n",
      "Methane, bromochlorodifluoro-, Halon 1211 (CAS 000353-59-3) [air, lower stratosphere + upper troposphere]\n",
      "Methane, bromotrifluoro-, Halon 1301 (CAS 000075-63-8) [air, low population density, long-term]\n",
      "Methane, bromotrifluoro-, Halon 1301 (CAS 000075-63-8) [air, urban air close to ground]\n",
      "Methane, bromotrifluoro-, Halon 1301 [air, unspecified]\n",
      "Methane, dibromo- [water, unspecified]\n",
      "Methane, bromochlorodifluoro-, Halon 1211 [air, unspecified]\n",
      "Methane, bromotrifluoro-, Halon 1301 [air, high population density]\n",
      "Methane, bromochlorodifluoro-, Halon 1211 [air, low population density]\n",
      "Methane, bromotrifluoro-, Halon 1301 [air, low population density]\n",
      "Methane, bromo-, Halon 1001 [air, unspecified]\n",
      "Methyl bromide (CAS 000074-83-9) [Valuable substances, Materials, Intermediate products, Organic intermediate products]\n"
     ]
    }
   ],
   "source": [
    "for i in _g:\n",
    "    print(str(i[1]))"
   ]
  }
 ],
 "metadata": {
  "kernelspec": {
   "display_name": "Python 3",
   "language": "python",
   "name": "python3"
  },
  "language_info": {
   "codemirror_mode": {
    "name": "ipython",
    "version": 3
   },
   "file_extension": ".py",
   "mimetype": "text/x-python",
   "name": "python",
   "nbconvert_exporter": "python",
   "pygments_lexer": "ipython3",
   "version": "3.5.0"
  }
 },
 "nbformat": 4,
 "nbformat_minor": 0
}
