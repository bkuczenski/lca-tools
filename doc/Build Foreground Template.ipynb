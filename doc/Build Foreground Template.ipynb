{
 "cells": [
  {
   "cell_type": "code",
   "execution_count": 1,
   "metadata": {
    "collapsed": false
   },
   "outputs": [],
   "source": [
    "import os\n",
    "import sys\n",
    "sys.path.append('..')\n",
    "\n",
    "import lcatools\n",
    "\n",
    "from lcatools.foreground.manager import ForegroundManager"
   ]
  },
  {
   "cell_type": "code",
   "execution_count": 2,
   "metadata": {
    "collapsed": true
   },
   "outputs": [],
   "source": [
    "workdir = '/data/LCI/fg-trix/'"
   ]
  },
  {
   "cell_type": "code",
   "execution_count": 3,
   "metadata": {
    "collapsed": false
   },
   "outputs": [],
   "source": [
    "data_dir = os.path.join('/data', 'LCI')\n",
    "catalog_dir = os.path.join('/data', 'GitHub', 'lca-tools-datafiles', 'catalogs')\n",
    "\n",
    "EI_version = '3.2'\n",
    "ecoinvent = os.path.join(data_dir, 'Ecoinvent', EI_version)\n",
    "\n",
    "def ei_xls(model, version='3.2'):\n",
    "    return os.path.join(catalog_dir, '_'.join(['ecoinvent', version, model, 'xlsx']) + '.json.gz')\n",
    "\n",
    "def uslci():\n",
    "    return os.path.join(catalog_dir, 'uslci_ecospold.json.gz')\n",
    "\n",
    "def elcd():\n",
    "    return os.path.join(data_dir, 'ELCD', 'ELCD3.2.zip')\n",
    "\n",
    "def elcd_lcia():\n",
    "    return os.path.join(catalog_dir, 'elcd_lcia.json.gz')\n",
    "\n",
    "def gabi(arg):\n",
    "    fname = {\n",
    "        'pro': 'professional-database-2016',\n",
    "        'ext': 'all-extensions'\n",
    "    }[arg.lower()]\n",
    "    return os.path.join(catalog_dir, 'gabi_2016_' + fname + '.json.gz')\n"
   ]
  },
  {
   "cell_type": "code",
   "execution_count": 4,
   "metadata": {
    "collapsed": false
   },
   "outputs": [
    {
     "name": "stdout",
     "output_type": "stream",
     "text": [
      "Adding quantity entity with 01846770-4cfe-4a25-8ad9-919d8d378345: Number of items\n",
      "Adding quantity entity with 1cc347a0-3bd1-46db-a308-2707c68d2351: Vehicle transport\n",
      "Adding quantity entity with 23911c86-d4d2-4e3e-a45e-8e392af1dc4e: Energy renewable and non renewable (gross calorific value)\n",
      "Adding quantity entity with 4872c95a-5f78-4572-883b-e076187ad87c: Person transport\n",
      "Adding quantity entity with 52dcf2ff-c0f6-417f-a957-788688d67b86: Recycled content (mass)\n",
      "Adding quantity entity with 62e503ce-544a-4599-b2ad-bcea15a7bf20: Carbon content (biogenic)\n",
      "Adding quantity entity with 64b8e725-b0ba-4837-abb9-62dc0e7b9f6f: Carbon content (fossil)\n",
      "Adding quantity entity with 79920f3d-77b3-4f12-8a8f-47accf832eca: Exergy\n",
      "Adding quantity entity with 7ec8d70e-4ffc-4024-86b7-6141cc0a2bf5: Water content (mass)\n",
      "Adding quantity entity with 838aaa20-0117-11db-92e3-0800200c9a66: Goods transport (mass*distance)\n",
      "Adding quantity entity with 838aaa23-0117-11db-92e3-0800200c9a66: Length\n",
      "Adding quantity entity with 8695e049-7a18-4b83-b3bd-035747039652: Energy from renewable raw materials (net cal. value)\n",
      "Adding quantity entity with 93a60a56-a3c8-11da-a746-0800200b9a66: Mass\n",
      "Adding quantity entity with 93a60a56-a3c8-11da-a746-0800200c9a66: Net calorific value\n",
      "Adding quantity entity with 93a60a56-a3c8-13da-a746-0800200c9a66: Normal Volume\n",
      "Adding quantity entity with 93a60a56-a3c8-14da-a746-0800200c9a66: Gross calorific value\n",
      "Adding quantity entity with 93a60a56-a3c8-19da-a746-0800200c9a66: Area\n",
      "Adding quantity entity with 93a60a56-a3c8-21da-a746-0800200c9a66: Area*time\n",
      "Adding quantity entity with 93a60a56-a3c8-22da-a746-0800200c9a66: Volume\n",
      "Adding quantity entity with a182c00f-c0e5-4b7a-b2a1-a735fbee7f9a: Energy renewable and non renewable (net calorific value)\n",
      "Adding quantity entity with bcf81c0a-9fe9-4b88-a25b-99e0dd64ddaa: Price\n",
      "Adding quantity entity with c0447923-0e60-4b3c-97c2-a86dddd9eea5: Duration\n",
      "Adding quantity entity with f3e1017d-1aa3-4763-b563-9494858e1ec7: Hydrogen content (mass)\n",
      "Adding quantity entity with fdfecf14-ff8a-4e17-b2b2-f938c4b5cc27: Market value US 2000, bulk prices\n",
      "Installing ForegroundArchive archive in position 0\n",
      "LCA Catalog with the following archives:\n",
      "[ 0] FG: ForegroundArchive with 24 entities at /data/LCI/fg-trix/\n"
     ]
    }
   ],
   "source": [
    "F = ForegroundManager(workdir)"
   ]
  },
  {
   "cell_type": "code",
   "execution_count": 5,
   "metadata": {
    "collapsed": false
   },
   "outputs": [
    {
     "name": "stdout",
     "output_type": "stream",
     "text": [
      "Loading JSON data from /data/GitHub/lca-tools-datafiles/catalogs/ecoinvent_3.2_undefined_xlsx.json.gz:\n",
      "Loading FG from /data/LCI/Ecoinvent/3.2/current_Version_3.2_undefined_ecoSpold02.zip\n",
      "Found Extension: zip\n",
      "**Upstream reference encountered: /data/LCI/LCIA implementation v3.1 2014_08_13.xlsx\n",
      "\n",
      "718 new quantity entities added (718 total)\n",
      "6767 new flow entities added (6767 total)\n",
      "13307 new process entities added (13307 total)\n",
      "Installing EcoinventSpreadsheet archive in position 1\n",
      "Upstream ref /data/LCI/LCIA implementation v3.1 2014_08_13.xlsx not found in catalog!\n"
     ]
    }
   ],
   "source": [
    "F.add_catalog(ei_xls('undefined'), 'json', nick='EI_REF', data_dir=ecoinvent, model='undefined')"
   ]
  },
  {
   "cell_type": "code",
   "execution_count": 6,
   "metadata": {
    "collapsed": false
   },
   "outputs": [
    {
     "name": "stdout",
     "output_type": "stream",
     "text": [
      "Loading JSON data from /data/GitHub/lca-tools-datafiles/catalogs/ecoinvent_3.2_apos_xlsx.json.gz:\n",
      "Loading FG from /data/LCI/Ecoinvent/3.2/current_Version_3.2_apos_ecoSpold02.zip\n",
      "Found Extension: zip\n",
      "Loading BG from /data/LCI/Ecoinvent/3.2/current_Version_3.2_apos_lcia_ecoSpold02.zip\n",
      "Found Extension: zip\n",
      "**Upstream reference encountered: /home/b/Dropbox/data/Ecoinvent/3.2/activity_overview_for_users_3.2_undefined.xlsx\n",
      "\n",
      "718 new quantity entities added (718 total)\n",
      "6767 new flow entities added (6767 total)\n",
      "11420 new process entities added (11420 total)\n",
      "Installing EcoinventSpreadsheet archive in position 2\n",
      "Upstream ref /home/b/Dropbox/data/Ecoinvent/3.2/activity_overview_for_users_3.2_undefined.xlsx found and linked\n",
      "Loading JSON data from /data/GitHub/lca-tools-datafiles/catalogs/ecoinvent_3.2_consequential_xlsx.json.gz:\n",
      "Loading FG from /data/LCI/Ecoinvent/3.2/current_Version_3.2_consequential_longterm_ecoSpold02.zip\n",
      "Found Extension: zip\n",
      "Loading BG from /data/LCI/Ecoinvent/3.2/current_Version_3.2_consequential_longterm_lcia_ecoSpold02.zip\n",
      "Found Extension: zip\n",
      "**Upstream reference encountered: /home/b/Dropbox/data/Ecoinvent/3.2/activity_overview_for_users_3.2_undefined.xlsx\n",
      "\n",
      "718 new quantity entities added (718 total)\n",
      "6767 new flow entities added (6767 total)\n",
      "11468 new process entities added (11468 total)\n",
      "Installing EcoinventSpreadsheet archive in position 3\n",
      "Upstream ref /home/b/Dropbox/data/Ecoinvent/3.2/activity_overview_for_users_3.2_undefined.xlsx found and linked\n",
      "Loading JSON data from /data/GitHub/lca-tools-datafiles/catalogs/ecoinvent_3.2_cut-off_xlsx.json.gz:\n",
      "Loading FG from /data/LCI/Ecoinvent/3.2/current_Version_3.2_cutoff_ecoSpold02.zip\n",
      "Found Extension: zip\n",
      "Loading BG from /data/LCI/Ecoinvent/3.2/current_Version_3.2_cutoff_lcia_ecoSpold02.zip\n",
      "Found Extension: zip\n",
      "**Upstream reference encountered: /home/b/Dropbox/data/Ecoinvent/3.2/activity_overview_for_users_3.2_undefined.xlsx\n",
      "\n",
      "718 new quantity entities added (718 total)\n",
      "6767 new flow entities added (6767 total)\n",
      "11578 new process entities added (11578 total)\n",
      "Installing EcoinventSpreadsheet archive in position 4\n",
      "Upstream ref /home/b/Dropbox/data/Ecoinvent/3.2/activity_overview_for_users_3.2_undefined.xlsx found and linked\n"
     ]
    }
   ],
   "source": [
    "F.add_catalog(ei_xls('apos'), 'json', nick='EI_A', data_dir=ecoinvent, model='apos')\n",
    "F.add_catalog(ei_xls('consequential'), 'json', nick='EI_Q', data_dir=ecoinvent, model='consequential_longterm')\n",
    "F.add_catalog(ei_xls('cut-off'), 'json', nick='EI_C', data_dir=ecoinvent, model='cutoff')\n",
    "    "
   ]
  },
  {
   "cell_type": "code",
   "execution_count": 7,
   "metadata": {
    "collapsed": false
   },
   "outputs": [
    {
     "name": "stdout",
     "output_type": "stream",
     "text": [
      "Loading JSON data from /data/GitHub/lca-tools-datafiles/catalogs/uslci_ecospold.json.gz:\n",
      "Found Extension: zip\n",
      "19 new quantity entities added (19 total)\n",
      "4176 new flow entities added (4176 total)\n",
      "701 new process entities added (701 total)\n",
      "Installing EcospoldV1Archive archive in position 5\n"
     ]
    }
   ],
   "source": [
    "F.add_catalog(uslci(), 'json', nick='USLCI')"
   ]
  },
  {
   "cell_type": "code",
   "execution_count": 8,
   "metadata": {
    "collapsed": false
   },
   "outputs": [
    {
     "name": "stdout",
     "output_type": "stream",
     "text": [
      "Found Extension: zip\n",
      "Installing IlcdArchive archive in position 6\n"
     ]
    }
   ],
   "source": [
    "F.add_catalog(elcd(), 'Ilcd', nick='ELCD')"
   ]
  },
  {
   "cell_type": "code",
   "execution_count": 9,
   "metadata": {
    "collapsed": false
   },
   "outputs": [
    {
     "name": "stdout",
     "output_type": "stream",
     "text": [
      "Loading JSON data from /data/GitHub/lca-tools-datafiles/catalogs/elcd_lcia.json.gz:\n",
      "Found Extension: zip\n",
      "54 new quantity entities added (54 total)\n",
      "1256 new flow entities added (1256 total)\n",
      "0 new process entities added (0 total)\n",
      "Installing IlcdLcia archive in position 7\n"
     ]
    }
   ],
   "source": [
    "F.add_catalog(elcd_lcia(), 'json', nick='ELCD_LCIA')"
   ]
  },
  {
   "cell_type": "code",
   "execution_count": 10,
   "metadata": {
    "collapsed": false
   },
   "outputs": [
    {
     "name": "stdout",
     "output_type": "stream",
     "text": [
      "Loading JSON data from /data/GitHub/lca-tools-datafiles/catalogs/gabi_2016_professional-database-2016.json.gz:\n",
      "Archive refers to a web address using protocol http\n",
      " caching files locally in /data/GitHub/lca-tools/lcatools/providers/web_cache/gabi-documentation-2016.gabi-software.com/xml-data/\n",
      "Found file in cache: unitgroups/5beb6eed-33a9-47b8-9ede-1dfe8f679159.xml\n",
      "Found file in cache: unitgroups/3620148f-c5db-48ce-9065-a10092089aca.xml\n",
      "Found file in cache: unitgroups/838aaa22-0117-11db-92e3-0800200c9a66.xml\n",
      "Found file in cache: unitgroups/93a60a57-a4c8-11da-a746-0800200c9a66.xml\n",
      "Found file in cache: unitgroups/93a60a57-a3c8-11da-a746-0800200c9a66.xml\n",
      "Found file in cache: unitgroups/93a60a57-a3c8-12da-a746-0800200c9a66.xml\n",
      "Found file in cache: unitgroups/93a60a57-a3c8-18da-a746-0800200c9a66.xml\n",
      "Found file in cache: unitgroups/93a60a57-a3c8-12da-a746-0800200c9a66.xml\n",
      "Found file in cache: unitgroups/af638906-3ec7-4314-8de7-f76039f2dd01.xml\n",
      "Found file in cache: unitgroups/b3a220db-0613-42ab-84bc-b153d339cb0d.xml\n",
      "10 new quantity entities added (10 total)\n",
      "762 new flow entities added (762 total)\n",
      "3319 new process entities added (3319 total)\n",
      "Installing IlcdArchive archive in position 8\n"
     ]
    }
   ],
   "source": [
    "F.add_catalog(gabi('pro'), 'json', nick='GABI_PRO')"
   ]
  },
  {
   "cell_type": "code",
   "execution_count": 11,
   "metadata": {
    "collapsed": false
   },
   "outputs": [
    {
     "name": "stdout",
     "output_type": "stream",
     "text": [
      "Loading JSON data from /data/GitHub/lca-tools-datafiles/catalogs/gabi_2016_all-extensions.json.gz:\n",
      "Archive refers to a web address using protocol http\n",
      " caching files locally in /data/GitHub/lca-tools/lcatools/providers/web_cache/gabi-documentation-2016.gabi-software.com/xml-data/\n",
      "Found file in cache: unitgroups/5beb6eed-33a9-47b8-9ede-1dfe8f679159.xml\n",
      "Found file in cache: unitgroups/3620148f-c5db-48ce-9065-a10092089aca.xml\n",
      "Found file in cache: unitgroups/838aaa22-0117-11db-92e3-0800200c9a66.xml\n",
      "Found file in cache: unitgroups/8992910b-42c3-4cc5-96fa-66ac4ac3b6de.xml\n",
      "Found file in cache: unitgroups/93a60a57-a4c8-11da-a746-0800200c9a66.xml\n",
      "Found file in cache: unitgroups/93a60a57-a3c8-11da-a746-0800200c9a66.xml\n",
      "Found file in cache: unitgroups/93a60a57-a3c8-12da-a746-0800200c9a66.xml\n",
      "Found file in cache: unitgroups/93a60a57-a3c8-11da-a746-0800200c9a66.xml\n",
      "Found file in cache: unitgroups/93a60a57-a3c8-18da-a746-0800200c9a66.xml\n",
      "Found file in cache: unitgroups/93a60a57-a3c8-12da-a746-0800200c9a66.xml\n",
      "Found file in cache: unitgroups/46076063-39cb-4e0e-9b18-f6d04fee3f60.xml\n",
      "Found file in cache: unitgroups/af638906-3ec7-4314-8de7-f76039f2dd01.xml\n",
      "12 new quantity entities added (12 total)\n",
      "2304 new flow entities added (2304 total)\n",
      "7457 new process entities added (7457 total)\n",
      "Installing IlcdArchive archive in position 9\n"
     ]
    }
   ],
   "source": [
    "F.add_catalog(gabi('ext'), 'json', nick='GABI_EXT')"
   ]
  },
  {
   "cell_type": "code",
   "execution_count": 12,
   "metadata": {
    "collapsed": false
   },
   "outputs": [
    {
     "name": "stdout",
     "output_type": "stream",
     "text": [
      "LCA Catalog with the following archives:\n",
      "[ 0] FG       : ForegroundArchive with 24 entities at /data/LCI/fg-trix/\n",
      "[ 1] EI_REF   : EcoinventSpreadsheet with 20792 entities at /home/b/Dropbox/data/Ecoinvent/3.2/activity_overview_for_users_3.2_undefined.xlsx\n",
      "[ 2] EI_A     : EcoinventSpreadsheet with 18905 entities at /home/b/Dropbox/data/Ecoinvent/3.2/activity_overview_for_users_3.2_apos.xlsx [upstream EcoinventSpreadsheet]\n",
      "[ 3] EI_Q     : EcoinventSpreadsheet with 18953 entities at /home/b/Dropbox/data/Ecoinvent/3.2/activity_overview_for_users_3.2_consequential.xlsx [upstream EcoinventSpreadsheet]\n",
      "[ 4] EI_C     : EcoinventSpreadsheet with 19063 entities at /home/b/Dropbox/data/Ecoinvent/3.2/activity_overview_for_users_3.2_cut-off.xlsx [upstream EcoinventSpreadsheet]\n",
      "[ 5] USLCI    : EcospoldV1Archive with 4896 entities at /home/b/Dropbox/data/USLCI/USLCI_Processes_ecospold1.zip\n",
      "[ 6] ELCD     : IlcdArchive with 0 entities at /data/LCI/ELCD/ELCD3.2.zip\n",
      "[ 7] ELCD_LCIA: IlcdLcia with 1310 entities at /home/b/Dropbox/data/ELCD/ELCD3.2.zip\n",
      "[ 8] GABI_PRO : IlcdArchive with 4091 entities at http://gabi-documentation-2016.gabi-software.com/xml-data/\n",
      "[ 9] GABI_EXT : IlcdArchive with 9773 entities at http://gabi-documentation-2016.gabi-software.com/xml-data/\n"
     ]
    }
   ],
   "source": [
    "F._catalog.show()"
   ]
  },
  {
   "cell_type": "code",
   "execution_count": 13,
   "metadata": {
    "collapsed": false
   },
   "outputs": [],
   "source": [
    "F.save()"
   ]
  },
  {
   "cell_type": "code",
   "execution_count": 17,
   "metadata": {
    "collapsed": false
   },
   "outputs": [
    {
     "name": "stdout",
     "output_type": "stream",
     "text": [
      "[ 0] (EI_REF) {f} Magnesium (CAS 007439-95-4) [soil, unspecified] \n",
      "[ 1] (EI_REF) {f} Magnesium (CAS 007439-95-4) [water, ocean] \n",
      "[ 2] (EI_REF) {f} Magnesium (CAS 007439-95-4) [air, unspecified] \n",
      "[ 3] (EI_REF) {f} Magnesium (CAS 007439-95-4) [air, lower stratosphere + upper troposphere] \n",
      "[ 4] (EI_REF) {f} magnesium-alloy, AZ91 [Intermediate flow] \n",
      "[ 5] (EI_REF) {f} magnesium oxide (CAS 1309-48-4) [Intermediate flow] \n",
      "[ 6] (EI_REF) {f} Magnesium (CAS 007439-95-4) [water, unspecified] \n",
      "[ 7] (EI_REF) {f} Magnesium (CAS 007439-95-4) [air, non-urban air or from high stacks] \n",
      "[ 8] (EI_REF) {f} magnesium sulfate (CAS 7487-88-9) [Intermediate flow] \n",
      "[ 9] (EI_REF) {f} Magnesium (CAS 007439-95-4) [air, low population density, long-term] \n",
      "[10] (EI_REF) {f} magnesium (CAS 7439-95-4) [Intermediate flow] \n",
      "[11] (EI_REF) {f} Magnesium (CAS 007439-95-4) [soil, forestry] \n",
      "[12] (EI_REF) {f} Magnesium (CAS 007439-95-4) [water, ground-, long-term] \n",
      "[13] (EI_REF) {f} Magnesium (CAS 007439-95-4) [water, ground-] \n",
      "[14] (EI_REF) {f} Magnesium (CAS 007439-95-4) [air, urban air close to ground] \n",
      "[15] (EI_REF) {f} Magnesium (CAS 007439-95-4) [soil, agricultural] \n",
      "[16] (EI_REF) {f} Magnesium, 0.13% in water (CAS 007439-95-4) [natural resource, in water] \n",
      "[17] (EI_REF) {f} Magnesium (CAS 007439-95-4) [soil, industrial] \n",
      "[18] (EI_REF) {f} Magnesium (CAS 007439-95-4) [water, surface water] \n",
      "[19] (EI_REF) {f} magnesium factory [Intermediate flow] \n",
      "[20] (EI_REF) {f} magnesium-alloy, AZ91, diecast [Intermediate flow] \n",
      "[21] (USLCI) {f} Magnesium [water, ocean] \n",
      "[22] (USLCI) {f} Magnesium [soil, unspecified] \n",
      "[23] (USLCI) {f} Magnesium [water, ground-, long-term] \n",
      "[24] (USLCI) {f} Magnesium, 0.13% in water [resource, in water] \n",
      "[25] (USLCI) {f} Magnesium, 0.13% in water [resource, in ground] \n",
      "[26] (USLCI) {f} Magnesium chloride leach (40%) [resource, in ground] \n",
      "[27] (USLCI) {f} Magnesium [water, river] \n",
      "[28] (USLCI) {f} Magnesium, ion [water, unspecified] \n",
      "[29] (USLCI) {f} Magnesium [air, unspecified] \n",
      "[30] (USLCI) {f} Magnesium [air, low population density] \n",
      "[31] (USLCI) {f} Magnesium [soil, agricultural] \n",
      "[32] (USLCI) {f} Magnesium [water, ground-] \n",
      "[33] (USLCI) {f} Magnesium chloride [resource, in ground] \n",
      "[34] (USLCI) {f} Magnesium chloride [water, unspecified] \n",
      "[35] (USLCI) {f} CUTOFF Magnesium oxide, at plant [CUTOFF Flows] \n",
      "[36] (USLCI) {f} Magnesium [water, unspecified] \n",
      "[37] (USLCI) {f} Magnesium compounds, unspecified [water, low population density, long-term] \n",
      "[38] (USLCI) {f} Magnesium [air, high population density] \n",
      "[39] (USLCI) {f} Magnesium [soil, industrial] \n",
      "[40] (GABI_PRO) {f} Magnesium (CAS 007439-95-4) [Valuable substances, Materials, Metals] \n",
      "[41] (GABI_PRO) {f} Magnesium ingot (CAS 007439-95-4) [Valuable substances, Materials, Metals] \n",
      "[42] (GABI_EXT) {f} Magnesium sulphate (CAS 007487-88-9) [Valuable substances, Materials, Intermediate products, Inorganic intermediate products] \n",
      "[43] (GABI_EXT) {f} Magnesium part (CAS 007439-95-4) [Valuable substances, Systems, Parts, Metal parts] \n"
     ]
    }
   ],
   "source": [
    "res = F.search([1, 5, 6, 7, 8, 9], 'flow', Name='magnesium', show=True)"
   ]
  },
  {
   "cell_type": "code",
   "execution_count": 18,
   "metadata": {
    "collapsed": false
   },
   "outputs": [
    {
     "data": {
      "text/plain": [
       "'(EI_REF) {f} magnesium-alloy, AZ91, diecast [Intermediate flow]'"
      ]
     },
     "execution_count": 18,
     "metadata": {},
     "output_type": "execute_result"
    }
   ],
   "source": [
    "str(res[20])"
   ]
  },
  {
   "cell_type": "code",
   "execution_count": 19,
   "metadata": {
    "collapsed": false
   },
   "outputs": [
    {
     "data": {
      "text/plain": [
       "{'catalog': <lcatools.catalog.CatalogInterface at 0x7f6b46867da0>,\n",
       " 'id': '0fb4446c-bd85-3175-baca-18b633e071ea',\n",
       " 'index': 1}"
      ]
     },
     "execution_count": 19,
     "metadata": {},
     "output_type": "execute_result"
    }
   ],
   "source": [
    "res[20].__dict__"
   ]
  },
  {
   "cell_type": "code",
   "execution_count": 20,
   "metadata": {
    "collapsed": false
   },
   "outputs": [],
   "source": [
    "r = res[20].id"
   ]
  },
  {
   "cell_type": "code",
   "execution_count": 21,
   "metadata": {
    "collapsed": false
   },
   "outputs": [],
   "source": [
    "f = [e for e in F._catalog[1].flows() if e.get_uuid() == r][0]"
   ]
  },
  {
   "cell_type": "code",
   "execution_count": 23,
   "metadata": {
    "collapsed": false
   },
   "outputs": [
    {
     "data": {
      "text/plain": [
       "True"
      ]
     },
     "execution_count": 23,
     "metadata": {},
     "output_type": "execute_result"
    }
   ],
   "source": [
    "f is res[20].entity()"
   ]
  },
  {
   "cell_type": "code",
   "execution_count": 29,
   "metadata": {
    "collapsed": false
   },
   "outputs": [
    {
     "name": "stdout",
     "output_type": "stream",
     "text": [
      "[ 0] magnesium-alloy production, AZ91, diecasting [RER] \n",
      "[ 1] magnesium-alloy production, AZ91, diecasting [RoW] \n",
      "[ 2] market for magnesium-alloy, AZ91, diecast [GLO] \n",
      "[ 3] market for magnesium-alloy, AZ91, diecast [GLO] \n",
      "[ 4] magnesium-alloy production, AZ91, diecasting [GLO] \n",
      "[ 5] magnesium-alloy production, AZ91, diecasting [RER] \n"
     ]
    }
   ],
   "source": [
    "procs = F._catalog.terminate(4, res[20], show=True)"
   ]
  },
  {
   "cell_type": "code",
   "execution_count": 33,
   "metadata": {
    "collapsed": false
   },
   "outputs": [
    {
     "data": {
      "text/plain": [
       "{'_d': {'Comment': 'ConvertedDataset',\n",
       "  'IsicClass': 'Manufacture of basic precious and other non-ferrous metals',\n",
       "  'IsicNumber': '2420',\n",
       "  'Name': 'market for magnesium-alloy, AZ91, diecast',\n",
       "  'SpatialScope': 'GLO',\n",
       "  'TechnologyLevel': 'Undefined',\n",
       "  'TemporalScope': {'begin': '2011-01-01', 'end': '2011-12-31'}},\n",
       " '_exchanges': {<lcatools.exchanges.Exchange at 0x7f6b43f65d68>},\n",
       " '_external_ref': '4075c3d4-e189-41cf-9b95-a408116d8d58',\n",
       " '_origin': '/home/b/Dropbox/data/Ecoinvent/3.2/activity_overview_for_users_3.2_undefined.xlsx',\n",
       " '_uuid': UUID('4075c3d4-e189-41cf-9b95-a408116d8d58'),\n",
       " 'entity_type': 'process',\n",
       " 'reference_entity': {<lcatools.exchanges.Exchange at 0x7f6b43f65d30>}}"
      ]
     },
     "execution_count": 33,
     "metadata": {},
     "output_type": "execute_result"
    }
   ],
   "source": [
    "procs[2].__dict__"
   ]
  },
  {
   "cell_type": "code",
   "execution_count": 41,
   "metadata": {
    "collapsed": false
   },
   "outputs": [],
   "source": [
    "spold = F._catalog[4].fg_lookup(procs[3])[0]"
   ]
  },
  {
   "cell_type": "code",
   "execution_count": 43,
   "metadata": {
    "collapsed": false
   },
   "outputs": [],
   "source": [
    "P = F._catalog[4].fg_lookup(spold)"
   ]
  },
  {
   "cell_type": "code",
   "execution_count": 44,
   "metadata": {
    "collapsed": false
   },
   "outputs": [
    {
     "name": "stdout",
     "output_type": "stream",
     "text": [
      " Input:     [0.345 [metric ton*km]] transport, freight train [By-product classification: allocatable product] (#)\n",
      " Input:     [0.361 [metric ton*km]] transport, freight, lorry, unspecified [By-product classification: allocatable product] (#)\n",
      " Input:     [0.0363 [metric ton*km]] transport, freight, inland waterways, barge [By-product classification: allocatable product] (#)\n",
      " Input: {*} [0.331 [kg]] magnesium-alloy, AZ91, diecast [By-product classification: allocatable product] (#)\n",
      " Input: {*} [0.669 [kg]] magnesium-alloy, AZ91, diecast [By-product classification: allocatable product] (#)\n",
      " Input:     [0.363 [metric ton*km]] transport, freight, sea, transoceanic ship [By-product classification: allocatable product] (#)\n",
      "Output: {*} [1 [kg]] magnesium-alloy, AZ91, diecast [By-product classification: allocatable product]\n"
     ]
    }
   ],
   "source": [
    "for i in P.exchanges():\n",
    "    print('%s' % i)"
   ]
  },
  {
   "cell_type": "code",
   "execution_count": 15,
   "metadata": {
    "collapsed": false
   },
   "outputs": [
    {
     "name": "stdout",
     "output_type": "stream",
     "text": [
      "Loading JSON data from /data/GitHub/lca-tools-datafiles/catalogs/ecoinvent_3.2_apos_xlsx.json.gz:\n",
      "Loading FG from /data/LCI/Ecoinvent/3.2/current_Version_3.2_apos_ecoSpold02.zip\n",
      "Found Extension: zip\n",
      "Loading BG from /data/LCI/Ecoinvent/3.2/current_Version_3.2_apos_lcia_ecoSpold02.zip\n",
      "Found Extension: zip\n",
      "**Upstream reference encountered: /home/b/Dropbox/data/Ecoinvent/3.2/activity_overview_for_users_3.2_undefined.xlsx\n",
      "\n",
      "718 new quantity entities added (718 total)\n",
      "6767 new flow entities added (6767 total)\n",
      "11420 new process entities added (11420 total)\n",
      "Installing EcoinventSpreadsheet archive in position 2\n",
      "Upstream ref /home/b/Dropbox/data/Ecoinvent/3.2/activity_overview_for_users_3.2_undefined.xlsx found and linked\n"
     ]
    }
   ],
   "source": [
    "F.add_catalog(ei_xls('apos'), 'json', nick='EI_APOS', data_dir=ecoinvent, model='apos')"
   ]
  },
  {
   "cell_type": "code",
   "execution_count": 20,
   "metadata": {
    "collapsed": false
   },
   "outputs": [
    {
     "name": "stdout",
     "output_type": "stream",
     "text": [
      "[ 0] (EI_APOS) {f} magnesium-alloy, AZ91, diecast [Intermediate flow] \n",
      "[ 1] (EI_APOS) {f} Magnesium (CAS 007439-95-4) [air, lower stratosphere + upper troposphere] \n",
      "[ 2] (EI_APOS) {f} magnesium-alloy, AZ91 [Intermediate flow] \n",
      "[ 3] (EI_APOS) {f} magnesium oxide (CAS 1309-48-4) [Intermediate flow] \n",
      "[ 4] (EI_APOS) {f} Magnesium (CAS 007439-95-4) [air, non-urban air or from high stacks] \n",
      "[ 5] (EI_APOS) {f} Magnesium (CAS 007439-95-4) [soil, forestry] \n",
      "[ 6] (EI_APOS) {f} Magnesium (CAS 007439-95-4) [soil, unspecified] \n",
      "[ 7] (EI_APOS) {f} Magnesium (CAS 007439-95-4) [soil, agricultural] \n",
      "[ 8] (EI_APOS) {-} 331c4403-4dcb-3cd5-9096-2ce6bd35048c \n",
      "[ 9] (EI_APOS) {f} Magnesium (CAS 007439-95-4) [water, surface water] \n",
      "[10] (EI_APOS) {f} magnesium factory [Intermediate flow] \n",
      "[11] (EI_APOS) {f} Magnesium (CAS 007439-95-4) [air, unspecified] \n",
      "[12] (EI_APOS) {f} Magnesium (CAS 007439-95-4) [water, ocean] \n",
      "[13] (EI_APOS) {f} Magnesium (CAS 007439-95-4) [air, low population density, long-term] \n",
      "[14] (EI_APOS) {f} Magnesium (CAS 007439-95-4) [water, unspecified] \n",
      "[15] (EI_APOS) {f} magnesium sulfate (CAS 7487-88-9) [Intermediate flow] \n",
      "[16] (EI_APOS) {f} Magnesium (CAS 007439-95-4) [water, ground-, long-term] \n",
      "[17] (EI_APOS) {f} Magnesium (CAS 007439-95-4) [water, ground-] \n",
      "[18] (EI_APOS) {f} Magnesium (CAS 007439-95-4) [air, urban air close to ground] \n",
      "[19] (EI_APOS) {f} magnesium (CAS 7439-95-4) [Intermediate flow] \n",
      "[20] (EI_APOS) {f} Magnesium (CAS 007439-95-4) [soil, industrial] \n",
      "[21] (EI_APOS) {p} market for magnesium sulfate [GLO] \n",
      "[22] (EI_APOS) {f} Magnesium (CAS 007439-95-4) [soil, unspecified] \n",
      "[23] (EI_APOS) {p} market for magnesium oxide [GLO] \n",
      "[24] (EI_APOS) {f} Magnesium (CAS 007439-95-4) [water, ocean] \n",
      "[25] (EI_APOS) {f} Magnesium (CAS 007439-95-4) [air, unspecified] \n",
      "[26] (EI_APOS) {p} magnesium oxide production [RER] \n",
      "[27] (EI_APOS) {p} market for magnesium-alloy, AZ91 [GLO] \n",
      "[28] (EI_APOS) {p} magnesium oxide production [GLO] \n",
      "[29] (EI_APOS) {f} Magnesium (CAS 007439-95-4) [air, lower stratosphere + upper troposphere] \n",
      "[30] (EI_APOS) {p} magnesium production, electrolysis [IL] \n",
      "[31] (EI_APOS) {p} magnesium-alloy production, AZ91, diecasting [RER] \n",
      "[32] (EI_APOS) {p} market for magnesium-alloy, AZ91, diecast [GLO] \n",
      "[33] (EI_APOS) {p} magnesium production, electrolysis [GLO] \n",
      "[34] (EI_APOS) {f} magnesium-alloy, AZ91 [Intermediate flow] \n",
      "[35] (EI_APOS) {f} magnesium oxide (CAS 1309-48-4) [Intermediate flow] \n",
      "[36] (EI_APOS) {f} Magnesium (CAS 007439-95-4) [water, unspecified] \n",
      "[37] (EI_APOS) {f} Magnesium (CAS 007439-95-4) [air, non-urban air or from high stacks] \n",
      "[38] (EI_APOS) {p} magnesium factory construction [RER] \n",
      "[39] (EI_APOS) {f} magnesium sulfate (CAS 7487-88-9) [Intermediate flow] \n",
      "[40] (EI_APOS) {f} Magnesium (CAS 007439-95-4) [air, low population density, long-term] \n",
      "[41] (EI_APOS) {f} magnesium (CAS 7439-95-4) [Intermediate flow] \n",
      "[42] (EI_APOS) {p} magnesium-alloy production, AZ91 [GLO] \n",
      "[43] (EI_APOS) {f} Magnesium (CAS 007439-95-4) [soil, forestry] \n",
      "[44] (EI_APOS) {f} Magnesium (CAS 007439-95-4) [water, ground-, long-term] \n",
      "[45] (EI_APOS) {f} Magnesium (CAS 007439-95-4) [water, ground-] \n",
      "[46] (EI_APOS) {p} magnesium production, pidgeon process [GLO] \n",
      "[47] (EI_APOS) {p} market for magnesium [GLO] \n",
      "[48] (EI_APOS) {f} Magnesium (CAS 007439-95-4) [air, urban air close to ground] \n",
      "[49] (EI_APOS) {p} magnesium-alloy production, AZ91, diecasting [GLO] \n",
      "[50] (EI_APOS) {f} Magnesium (CAS 007439-95-4) [soil, agricultural] \n",
      "[51] (EI_APOS) {p} magnesium sulfate production [GLO] \n",
      "[52] (EI_APOS) {f} Magnesium, 0.13% in water (CAS 007439-95-4) [natural resource, in water] \n",
      "[53] (EI_APOS) {p} magnesium sulfate production [RER] \n",
      "[54] (EI_APOS) {p} magnesium production, pidgeon process [CN] \n",
      "[55] (EI_APOS) {f} Magnesium (CAS 007439-95-4) [soil, industrial] \n",
      "[56] (EI_APOS) {p} market for magnesium factory [GLO] \n",
      "[57] (EI_APOS) {f} Magnesium (CAS 007439-95-4) [water, surface water] \n",
      "[58] (EI_APOS) {p} magnesium-alloy production, AZ91 [RER] \n",
      "[59] (EI_APOS) {f} magnesium factory [Intermediate flow] \n",
      "[60] (EI_APOS) {f} magnesium-alloy, AZ91, diecast [Intermediate flow] \n",
      "[61] (EI_APOS) {p} magnesium factory construction [GLO] \n"
     ]
    }
   ],
   "source": [
    "f_apos = F.search(2,Name='magnesium', show=True, entity_type='flow')"
   ]
  },
  {
   "cell_type": "code",
   "execution_count": 23,
   "metadata": {
    "collapsed": false
   },
   "outputs": [
    {
     "name": "stdout",
     "output_type": "stream",
     "text": [
      "[ 0] (EI_APOS) {f} magnesium-alloy, AZ91, diecast [Intermediate flow] \n",
      "[ 1] (EI_APOS) {p} market for magnesium-alloy, AZ91, diecast [GLO] \n",
      "[ 2] (EI_APOS) {p} market for magnesium-alloy, AZ91, diecast [GLO] \n",
      "[ 3] (EI_APOS) {p} market for magnesium-alloy, AZ91, diecast [GLO] \n",
      "[ 4] (EI_APOS) {f} magnesium-alloy, AZ91, diecast [Intermediate flow] \n"
     ]
    }
   ],
   "source": [
    "chex = F.search(2, Name=res[39].entity()['Name'], show=True)"
   ]
  },
  {
   "cell_type": "code",
   "execution_count": 27,
   "metadata": {
    "collapsed": false
   },
   "outputs": [],
   "source": [
    "term = F.terminate(2, chex[0])\n",
    "spold = F._catalog[2].fg_lookup(term[0])\n",
    "Pa = F._catalog[2].fg_lookup(spold[0])"
   ]
  },
  {
   "cell_type": "code",
   "execution_count": 30,
   "metadata": {
    "collapsed": false
   },
   "outputs": [
    {
     "data": {
      "text/plain": [
       "[' Input:     [2.22 [kWh]] electricity, medium voltage [By-product classification: allocatable product] (#)',\n",
       " ' Input:     [1.67 [kg]] magnesium-alloy, AZ91 [By-product classification: allocatable product] (#)',\n",
       " ' Input:     [0.001 [kg]] sulfur hexafluoride, liquid (CAS 002551-62-4) [By-product classification: allocatable product] (#)',\n",
       " 'Output: {*} [1 [kg]] magnesium-alloy, AZ91, diecast [By-product classification: allocatable product]',\n",
       " 'Output:     [0.001 [kg]] Sulfur hexafluoride (CAS 002551-62-4) [air, non-urban air or from high stacks]']"
      ]
     },
     "execution_count": 30,
     "metadata": {},
     "output_type": "execute_result"
    }
   ],
   "source": [
    "[str(x) for x in Pa.exchanges()]"
   ]
  },
  {
   "cell_type": "code",
   "execution_count": 45,
   "metadata": {
    "collapsed": false
   },
   "outputs": [
    {
     "name": "stdout",
     "output_type": "stream",
     "text": [
      "[ 0] (EI_REF) {q} LC quantity: CML 2001 w/o LT, climate change w/o LT, GWP 20a w/o LT \n",
      "[ 1] (EI_REF) {q} LC quantity: CML 2001 w/o LT, climate change w/o LT, GWP 100a w/o LT \n",
      "[ 2] (EI_REF) {q} LC quantity: CML 2001, climate change, upper limit of net GWP \n",
      "[ 3] (EI_REF) {q} LC quantity: CML 2001, climate change, GWP 100a \n",
      "[ 4] (EI_REF) {q} LC quantity: CML 2001, climate change, GWP 20a \n",
      "[ 5] (EI_REF) {q} LC quantity: CML 2001 w/o LT, climate change w/o LT, upper limit of net GWP w/o LT \n",
      "[ 6] (EI_REF) {q} LC quantity: CML 2001, climate change, GWP 500a \n",
      "[ 7] (EI_REF) {q} LC quantity: CML 2001 w/o LT, climate change w/o LT, GWP 500a w/o LT \n",
      "[ 8] (EI_REF) {q} LC quantity: CML 2001 w/o LT, climate change w/o LT, lower limit of net GWP w/o LT \n",
      "[ 9] (EI_REF) {q} LC quantity: CML 2001, climate change, lower limit of net GWP \n"
     ]
    }
   ],
   "source": [
    "qs = F.search(1, entity_type='quantity', Method='CML', Category='clim', show=True)"
   ]
  },
  {
   "cell_type": "code",
   "execution_count": 47,
   "metadata": {
    "collapsed": false
   },
   "outputs": [
    {
     "data": {
      "text/plain": [
       "72"
      ]
     },
     "execution_count": 47,
     "metadata": {},
     "output_type": "execute_result"
    }
   ],
   "source": [
    "len(F._flowdb._quantities._mapping)"
   ]
  },
  {
   "cell_type": "code",
   "execution_count": 52,
   "metadata": {
    "collapsed": true
   },
   "outputs": [],
   "source": [
    "F._flowdb.add_quantity(qs[0])"
   ]
  },
  {
   "cell_type": "code",
   "execution_count": 53,
   "metadata": {
    "collapsed": false
   },
   "outputs": [
    {
     "data": {
      "text/plain": [
       "<lcatools.logical_flows.LogicalQuantity at 0x7f6b33bec240>"
      ]
     },
     "execution_count": 53,
     "metadata": {},
     "output_type": "execute_result"
    }
   ],
   "source": [
    "F._flowdb._quantities._mapping[qs[0].id]"
   ]
  },
  {
   "cell_type": "code",
   "execution_count": 46,
   "metadata": {
    "collapsed": false
   },
   "outputs": [
    {
     "ename": "ValueError",
     "evalue": "Key must be a valid UUID",
     "output_type": "error",
     "traceback": [
      "\u001b[1;31m---------------------------------------------------------------------------\u001b[0m",
      "\u001b[1;31mValueError\u001b[0m                                Traceback (most recent call last)",
      "\u001b[1;32m<ipython-input-46-5e30907009cd>\u001b[0m in \u001b[0;36m<module>\u001b[1;34m()\u001b[0m\n\u001b[0;32m      1\u001b[0m \u001b[1;32mfor\u001b[0m \u001b[0mq\u001b[0m \u001b[1;32min\u001b[0m \u001b[0mqs\u001b[0m\u001b[1;33m:\u001b[0m\u001b[1;33m\u001b[0m\u001b[0m\n\u001b[1;32m----> 2\u001b[1;33m     \u001b[0mF\u001b[0m\u001b[1;33m.\u001b[0m\u001b[0mforeground_quantity\u001b[0m\u001b[1;33m(\u001b[0m\u001b[0mq\u001b[0m\u001b[1;33m)\u001b[0m\u001b[1;33m\u001b[0m\u001b[0m\n\u001b[0m",
      "\u001b[1;32m/data/GitHub/lca-tools/lcatools/foreground/manager.py\u001b[0m in \u001b[0;36mforeground_quantity\u001b[1;34m(self, cat_ref)\u001b[0m\n\u001b[0;32m    144\u001b[0m     \u001b[1;32mdef\u001b[0m \u001b[0mforeground_quantity\u001b[0m\u001b[1;33m(\u001b[0m\u001b[0mself\u001b[0m\u001b[1;33m,\u001b[0m \u001b[0mcat_ref\u001b[0m\u001b[1;33m)\u001b[0m\u001b[1;33m:\u001b[0m\u001b[1;33m\u001b[0m\u001b[0m\n\u001b[0;32m    145\u001b[0m         \u001b[1;32mif\u001b[0m \u001b[0mcat_ref\u001b[0m\u001b[1;33m.\u001b[0m\u001b[0mentity_type\u001b[0m \u001b[1;33m==\u001b[0m \u001b[1;34m'quantity'\u001b[0m\u001b[1;33m:\u001b[0m\u001b[1;33m\u001b[0m\u001b[0m\n\u001b[1;32m--> 146\u001b[1;33m             \u001b[0mnew_ref\u001b[0m \u001b[1;33m=\u001b[0m \u001b[0mself\u001b[0m\u001b[1;33m.\u001b[0m\u001b[0m_add_entity\u001b[0m\u001b[1;33m(\u001b[0m\u001b[1;36m0\u001b[0m\u001b[1;33m,\u001b[0m \u001b[0mcat_ref\u001b[0m\u001b[1;33m.\u001b[0m\u001b[0mentity\u001b[0m\u001b[1;33m(\u001b[0m\u001b[1;33m)\u001b[0m\u001b[1;33m)\u001b[0m\u001b[1;33m\u001b[0m\u001b[0m\n\u001b[0m\u001b[0;32m    147\u001b[0m             \u001b[0mself\u001b[0m\u001b[1;33m.\u001b[0m\u001b[0m_flowdb\u001b[0m\u001b[1;33m.\u001b[0m\u001b[0madd_quantity\u001b[0m\u001b[1;33m(\u001b[0m\u001b[0mcat_ref\u001b[0m\u001b[1;33m)\u001b[0m\u001b[1;33m\u001b[0m\u001b[0m\n\u001b[0;32m    148\u001b[0m             \u001b[0mself\u001b[0m\u001b[1;33m.\u001b[0m\u001b[0m_flowdb\u001b[0m\u001b[1;33m.\u001b[0m\u001b[0madd_ref\u001b[0m\u001b[1;33m(\u001b[0m\u001b[0mcat_ref\u001b[0m\u001b[1;33m,\u001b[0m \u001b[0mnew_ref\u001b[0m\u001b[1;33m)\u001b[0m\u001b[1;33m\u001b[0m\u001b[0m\n",
      "\u001b[1;32m/data/GitHub/lca-tools/lcatools/foreground/manager.py\u001b[0m in \u001b[0;36m_add_entity\u001b[1;34m(self, index, entity)\u001b[0m\n\u001b[0;32m    116\u001b[0m \u001b[1;33m\u001b[0m\u001b[0m\n\u001b[0;32m    117\u001b[0m     \u001b[1;32mdef\u001b[0m \u001b[0m_add_entity\u001b[0m\u001b[1;33m(\u001b[0m\u001b[0mself\u001b[0m\u001b[1;33m,\u001b[0m \u001b[0mindex\u001b[0m\u001b[1;33m,\u001b[0m \u001b[0mentity\u001b[0m\u001b[1;33m)\u001b[0m\u001b[1;33m:\u001b[0m\u001b[1;33m\u001b[0m\u001b[0m\n\u001b[1;32m--> 118\u001b[1;33m         \u001b[0mself\u001b[0m\u001b[1;33m.\u001b[0m\u001b[0m_catalog\u001b[0m\u001b[1;33m[\u001b[0m\u001b[0mindex\u001b[0m\u001b[1;33m]\u001b[0m\u001b[1;33m.\u001b[0m\u001b[0madd\u001b[0m\u001b[1;33m(\u001b[0m\u001b[0mentity\u001b[0m\u001b[1;33m)\u001b[0m\u001b[1;33m\u001b[0m\u001b[0m\n\u001b[0m\u001b[0;32m    119\u001b[0m         \u001b[1;32mreturn\u001b[0m \u001b[0mself\u001b[0m\u001b[1;33m.\u001b[0m\u001b[0m_catalog\u001b[0m\u001b[1;33m.\u001b[0m\u001b[0mref\u001b[0m\u001b[1;33m(\u001b[0m\u001b[0mindex\u001b[0m\u001b[1;33m,\u001b[0m \u001b[0mentity\u001b[0m\u001b[1;33m)\u001b[0m\u001b[1;33m\u001b[0m\u001b[0m\n\u001b[0;32m    120\u001b[0m \u001b[1;33m\u001b[0m\u001b[0m\n",
      "\u001b[1;32m/data/GitHub/lca-tools/lcatools/interfaces.py\u001b[0m in \u001b[0;36madd\u001b[1;34m(self, entity)\u001b[0m\n\u001b[0;32m    146\u001b[0m         \u001b[0mu\u001b[0m \u001b[1;33m=\u001b[0m \u001b[0mself\u001b[0m\u001b[1;33m.\u001b[0m\u001b[0m_key_to_id\u001b[0m\u001b[1;33m(\u001b[0m\u001b[0mkey\u001b[0m\u001b[1;33m)\u001b[0m\u001b[1;33m\u001b[0m\u001b[0m\n\u001b[0;32m    147\u001b[0m         \u001b[1;32mif\u001b[0m \u001b[0mu\u001b[0m \u001b[1;32mis\u001b[0m \u001b[1;32mNone\u001b[0m\u001b[1;33m:\u001b[0m\u001b[1;33m\u001b[0m\u001b[0m\n\u001b[1;32m--> 148\u001b[1;33m             \u001b[1;32mraise\u001b[0m \u001b[0mValueError\u001b[0m\u001b[1;33m(\u001b[0m\u001b[1;34m'Key must be a valid UUID'\u001b[0m\u001b[1;33m)\u001b[0m\u001b[1;33m\u001b[0m\u001b[0m\n\u001b[0m\u001b[0;32m    149\u001b[0m \u001b[1;33m\u001b[0m\u001b[0m\n\u001b[0;32m    150\u001b[0m         \u001b[1;32mif\u001b[0m \u001b[0mu\u001b[0m \u001b[1;32min\u001b[0m \u001b[0mself\u001b[0m\u001b[1;33m.\u001b[0m\u001b[0m_entities\u001b[0m\u001b[1;33m:\u001b[0m\u001b[1;33m\u001b[0m\u001b[0m\n",
      "\u001b[1;31mValueError\u001b[0m: Key must be a valid UUID"
     ]
    }
   ],
   "source": [
    "for q in qs:\n",
    "    F.foreground_quantity(q)"
   ]
  },
  {
   "cell_type": "code",
   "execution_count": 33,
   "metadata": {
    "collapsed": false
   },
   "outputs": [
    {
     "data": {
      "text/plain": [
       "1"
      ]
     },
     "execution_count": 33,
     "metadata": {},
     "output_type": "execute_result"
    }
   ],
   "source": [
    "len([x for x in La.characterizations()])"
   ]
  }
 ],
 "metadata": {
  "kernelspec": {
   "display_name": "Python 3",
   "language": "python",
   "name": "python3"
  },
  "language_info": {
   "codemirror_mode": {
    "name": "ipython",
    "version": 3
   },
   "file_extension": ".py",
   "mimetype": "text/x-python",
   "name": "python",
   "nbconvert_exporter": "python",
   "pygments_lexer": "ipython3",
   "version": "3.5.1"
  }
 },
 "nbformat": 4,
 "nbformat_minor": 0
}
