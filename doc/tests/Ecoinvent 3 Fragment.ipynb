{
 "cells": [
  {
   "cell_type": "code",
   "execution_count": 1,
   "metadata": {
    "collapsed": true
   },
   "outputs": [],
   "source": [
    "import sys\n",
    "import os\n",
    "import json\n",
    "import re\n",
    "\n",
    "sys.path.append('../..')\n",
    "\n",
    "import lcatools\n",
    "from lcatools.foreground.manager import ForegroundManager\n",
    "from lcatools.interact import *"
   ]
  },
  {
   "cell_type": "code",
   "execution_count": 2,
   "metadata": {
    "collapsed": false
   },
   "outputs": [
    {
     "name": "stdout",
     "output_type": "stream",
     "text": [
      "ForegroundArchive archive added in position 0\n",
      "IlcdLcia archive added in position 1\n",
      "JSON archive added in position 2\n",
      "JSON archive added in position 3\n",
      "JSON archive added in position 4\n",
      "JSON archive added in position 5\n",
      "JSON archive added in position 6\n",
      "JSON archive added in position 7\n",
      "JSON archive added in position 8\n",
      "JSON archive added in position 9\n",
      "JSON archive added in position 10\n",
      "Generating flow-quantity database...\n",
      "Loading LCIA data... (0.81 s)\n",
      "Loading JSON data from /data/GitHub/lca-tools-datafiles/catalogs/elcd_lcia.json.gz:\n",
      "Found Extension: zip\n",
      "54 new quantity entities added (54 total)\n",
      "1256 new flow entities added (1256 total)\n",
      "0 new process entities added (0 total)\n",
      "0 unmatched flows found from source LCIA... \n",
      "\n",
      "finished LCIA... (1.72 s)\n",
      "Loading JSON data from /data/GitHub/lca-tools-datafiles/catalogs/ei_lcia.json.gz:\n",
      "**Upstream reference encountered: /data/LCI/Ecoinvent/3.2/undefined\n",
      "\n",
      "710 new quantity entities added (710 total)\n",
      "3255 new flow entities added (3255 total)\n",
      "0 new process entities added (0 total)\n",
      "92 unmatched flows found from source EI-LCIA... \n",
      "\n",
      "finished EI-LCIA... (8.61 s)\n",
      "finished... (8.61 s)\n"
     ]
    }
   ],
   "source": [
    "F = ForegroundManager('.')"
   ]
  },
  {
   "cell_type": "code",
   "execution_count": 3,
   "metadata": {
    "collapsed": false
   },
   "outputs": [
    {
     "name": "stdout",
     "output_type": "stream",
     "text": [
      "[ 0] (EI-LCIA) {q} ReCiPe Midpoint (I), agricultural land occupation, ALOP [LCIA] \n",
      "[ 1] (EI-LCIA) {q} ReCiPe Midpoint (I), photochemical oxidant formation, POFP [LCIA] \n",
      "[ 2] (EI-LCIA) {q} ReCiPe Midpoint (I), freshwater ecotoxicity, FETP100 [LCIA] \n",
      "[ 3] (EI-LCIA) {q} ReCiPe Midpoint (I), metal depletion, MDP [LCIA] \n",
      "[ 4] (EI-LCIA) {q} ReCiPe Midpoint (I), fossil depletion, FDP [LCIA] \n",
      "[ 5] (EI-LCIA) {q} ReCiPe Midpoint (I), urban land occupation, ULOP [LCIA] \n",
      "[ 6] (EI-LCIA) {q} ReCiPe Midpoint (I), ionising radiation, IRP_I [LCIA] \n",
      "[ 7] (EI-LCIA) {q} ReCiPe Midpoint (I), natural land transformation, NLTP [LCIA] \n",
      "[ 8] (EI-LCIA) {q} ReCiPe Midpoint (I), marine ecotoxicity, METP100 [LCIA] \n",
      "[ 9] (EI-LCIA) {q} ReCiPe Midpoint (I), terrestrial acidification, TAP20 [LCIA] \n",
      "[10] (EI-LCIA) {q} ReCiPe Midpoint (I), terrestrial ecotoxicity, TETP100 [LCIA] \n",
      "[11] (EI-LCIA) {q} ReCiPe Midpoint (I), human toxicity, HTP100 [LCIA] \n",
      "[12] (EI-LCIA) {q} ReCiPe Midpoint (I), freshwater eutrophication, FEP [LCIA] \n",
      "[13] (EI-LCIA) {q} ReCiPe Midpoint (I), particulate matter formation, PMFP [LCIA] \n",
      "[14] (EI-LCIA) {q} ReCiPe Midpoint (I), ozone depletion, ODPinf [LCIA] \n",
      "[15] (EI-LCIA) {q} ReCiPe Midpoint (I), marine eutrophication, MEP [LCIA] \n",
      "[16] (EI-LCIA) {q} ReCiPe Midpoint (I), water depletion, WDP [LCIA] \n",
      "[17] (EI-LCIA) {q} ReCiPe Midpoint (I), climate change, GWP20 [LCIA] \n",
      "Add to foreground: (EI-LCIA) {q} ReCiPe Midpoint (I), agricultural land occupation, ALOP [LCIA]\n",
      "Add to foreground: (EI-LCIA) {q} ReCiPe Midpoint (I), photochemical oxidant formation, POFP [LCIA]\n",
      "Add to foreground: (EI-LCIA) {q} ReCiPe Midpoint (I), freshwater ecotoxicity, FETP100 [LCIA]\n",
      "Add to foreground: (EI-LCIA) {q} ReCiPe Midpoint (I), metal depletion, MDP [LCIA]\n",
      "Add to foreground: (EI-LCIA) {q} ReCiPe Midpoint (I), fossil depletion, FDP [LCIA]\n",
      "Add to foreground: (EI-LCIA) {q} ReCiPe Midpoint (I), urban land occupation, ULOP [LCIA]\n",
      "Add to foreground: (EI-LCIA) {q} ReCiPe Midpoint (I), ionising radiation, IRP_I [LCIA]\n",
      "Add to foreground: (EI-LCIA) {q} ReCiPe Midpoint (I), natural land transformation, NLTP [LCIA]\n",
      "Add to foreground: (EI-LCIA) {q} ReCiPe Midpoint (I), marine ecotoxicity, METP100 [LCIA]\n",
      "Add to foreground: (EI-LCIA) {q} ReCiPe Midpoint (I), terrestrial acidification, TAP20 [LCIA]\n"
     ]
    }
   ],
   "source": [
    "for k in F.search('EI-LCIA', 'quantity', Name='ReCiPe mid.*\\(I\\)', show=True)[:10]:\n",
    "    F.add_to_foreground(k)"
   ]
  },
  {
   "cell_type": "code",
   "execution_count": 4,
   "metadata": {
    "collapsed": false
   },
   "outputs": [
    {
     "name": "stdout",
     "output_type": "stream",
     "text": [
      "Loading JSON data from /data/GitHub/lca-tools-datafiles/catalogs/ecoinvent_3.2_apos_xlsx.json.gz:\n",
      "Loading FG from /data/LCI/Ecoinvent/3.2/current_Version_3.2_apos_ecoSpold02.zip\n",
      "Found Extension: zip\n",
      "Loading BG from /data/LCI/Ecoinvent/3.2/current_Version_3.2_apos_lcia_ecoSpold02.zip\n",
      "Found Extension: zip\n",
      "**Upstream reference encountered: /home/b/Dropbox/data/Ecoinvent/3.2/activity_overview_for_users_3.2_undefined.xlsx\n",
      "\n",
      "718 new quantity entities added (718 total)\n",
      "6767 new flow entities added (6767 total)\n",
      "11420 new process entities added (11420 total)\n"
     ]
    }
   ],
   "source": [
    "F.load('EI_A')"
   ]
  },
  {
   "cell_type": "code",
   "execution_count": 5,
   "metadata": {
    "collapsed": false
   },
   "outputs": [
    {
     "name": "stdout",
     "output_type": "stream",
     "text": [
      "[ 0] (EI_A) {p} ethanol production from sugar beet molasses [RoW] \n",
      "[ 1] (EI_A) {p} ethanol production from sugar beet [RoW] \n",
      "[ 2] (EI_A) {p} sugar beet production [RoW] \n"
     ]
    }
   ],
   "source": [
    "sugar_beets = F.search('EI_A', 'process', Name='sugar.?beet', SpatialScope='RoW', show=True)\n"
   ]
  },
  {
   "cell_type": "code",
   "execution_count": 6,
   "metadata": {
    "collapsed": false
   },
   "outputs": [
    {
     "name": "stdout",
     "output_type": "stream",
     "text": [
      "This process has multiple allocations. Select reference flow:\n",
      "\n",
      "Choice Item\n",
      "====== ======================================================================\n",
      " [0]   ethanol, without water, in 95% solution state, from fermentation\n",
      " [1]   molasses, from sugar beet\n",
      "------ ----------------------------------------------------------------------\n",
      "Enter choice (or \"None\"): 0\n",
      "picked ethanol, without water, in 95% solution state, from fermentation (CAS 000064-17-5) [By-product classification: allocatable product]\n",
      "Loading LCIA results from f01eb904-d7e7-4633-b1a7-be54f33daa96_ffcb8cbb-77ab-4f87-8a94-87ca5b8ea79e.spold\n",
      "This process has multiple allocations. Select reference flow:\n",
      "\n",
      "Choice Item\n",
      "====== ======================================================================\n",
      " [0]   ethanol, without water, in 95% solution state, from fermentation\n",
      " [1]   molasses, from sugar beet\n",
      "------ ----------------------------------------------------------------------\n",
      "Enter choice (or \"None\"): 1\n",
      "picked molasses, from sugar beet [By-product classification: allocatable product]\n",
      "Loading LCIA results from f01eb904-d7e7-4633-b1a7-be54f33daa96_26448127-c1ac-4f48-818a-5e8fd9cb1645.spold\n",
      "Loading LCIA results from a1edcec1-cb98-4b3a-9d6a-0cbd1e015f16_ffcb8cbb-77ab-4f87-8a94-87ca5b8ea79e.spold\n",
      "Loading LCIA results from 921b7b9e-7dc0-4efe-8d1c-26de6f65c595_560e69eb-413e-49db-8796-3dd103ae8888.spold\n",
      "Ref Units  |   C0   |   C1   |   C2   |   C3    LCIA Method\n",
      "-----------------------------------------------------------\n",
      "[kg 1,4-D  0.000914 0.000914  0.00584 0.000412  ReCiPe Midpoint (I), freshwater ecotoxicity, FETP100\n",
      "    [m2a]  0.000816 0.000816  0.00868 0.000254  ReCiPe Midpoint (I), urban land occupation, ULOP\n",
      "[kg SO2-E  0.000632 0.000632  0.00603 0.000532  ReCiPe Midpoint (I), terrestrial acidification, TAP20\n",
      "[kg oil-E    0.0602   0.0602    0.153  0.00579  ReCiPe Midpoint (I), fossil depletion, FDP\n",
      "[kg U235-   0.00557  0.00557   0.0178 0.000373  ReCiPe Midpoint (I), ionising radiation, IRP_I\n",
      "     [m2]  2.67e-05 2.67e-05   0.0001 4.98e-06  ReCiPe Midpoint (I), natural land transformation, NLTP\n",
      "[kg Fe-Eq   0.00435  0.00435   0.0262  0.00206  ReCiPe Midpoint (I), metal depletion, MDP\n",
      "[kg 1,4-D  0.000582 0.000582  0.00264 0.000107  ReCiPe Midpoint (I), marine ecotoxicity, METP100\n",
      "[kg NMVOC  0.000343 0.000343  0.00253 0.000176  ReCiPe Midpoint (I), photochemical oxidant formation, POFP\n",
      "    [m2a]    0.0037   0.0037     1.28    0.148  ReCiPe Midpoint (I), agricultural land occupation, ALOP\n",
      "Ref Units  |   C0   |   C1   |   C2   |   C3    LCIA Method\n",
      "\n",
      "Columns:\n",
      "C0: (EI_A) {p} ethanol production from sugar beet molasses [RoW]\n",
      "C1: (EI_A) {p} ethanol production from sugar beet molasses [RoW]\n",
      "C2: (EI_A) {p} ethanol production from sugar beet [RoW]\n",
      "C3: (EI_A) {p} sugar beet production [RoW]\n"
     ]
    }
   ],
   "source": [
    "F.compare_lcia_results([sugar_beets[i] for i in (0, 0, 1, 2)], background=True)"
   ]
  },
  {
   "cell_type": "code",
   "execution_count": 7,
   "metadata": {
    "collapsed": false
   },
   "outputs": [],
   "source": [
    "ref_flow = sugar_beets[0].fg().find_reference('ethanol')"
   ]
  },
  {
   "cell_type": "code",
   "execution_count": 8,
   "metadata": {
    "collapsed": false
   },
   "outputs": [
    {
     "data": {
      "text/plain": [
       "'/data/LCI/Ecoinvent/3.2/current_Version_3.2_apos_ecoSpold02.zip'"
      ]
     },
     "execution_count": 8,
     "metadata": {},
     "output_type": "execute_result"
    }
   ],
   "source": [
    "ref_flow.origin"
   ]
  },
  {
   "cell_type": "code",
   "execution_count": 9,
   "metadata": {
    "collapsed": false
   },
   "outputs": [
    {
     "name": "stdout",
     "output_type": "stream",
     "text": [
      "LcFragment - Name: ethanol production from sugar beet molasses [RoW]:\n",
      "ethanol production from sugar beet molasses [RoW]\n"
     ]
    }
   ],
   "source": [
    "frag = F.create_fragment_from_process(sugar_beets[0], ref_flow=ref_flow)"
   ]
  },
  {
   "cell_type": "code",
   "execution_count": 10,
   "metadata": {
    "collapsed": false
   },
   "outputs": [
    {
     "name": "stdout",
     "output_type": "stream",
     "text": [
      "ethanol production from sugar beet molasses [RoW]\n",
      "Intermediate exchanges:\n",
      " Input:     [0.00952 [MJ]] coke [By-product classification: allocatable product] (#)\n",
      " Input:     [0.564 [MJ]] heat, district or industrial, natural gas [By-product classification: allocatable product] (#)\n",
      " Input:     [-0.0066 [m3]] wastewater, from residence [By-product classification: Waste] (#)\n",
      " Input:     [-0.136 [kg]] molasses, from sugar beet [By-product classification: allocatable product] (#)\n",
      " Input:     [0 [unit]] ethanol fermentation plant [By-product classification: allocatable product] (#)\n",
      " Input:     [-0.773 [kg]] sugar beet pulp [By-product classification: allocatable product] (#)\n",
      " Input:     [0.00131 [kg]] soda ash, light, crystalline, heptahydrate (CAS 497-19-8) [By-product classification: allocatable product] (#)\n",
      " Input:     [0.063 [kWh]] electricity, medium voltage [By-product classification: allocatable product] (#)\n",
      " Input:     [0.000507 [kg]] chemical, inorganic [By-product classification: allocatable product] (#)\n",
      " Input:     [5.95e-11 [unit]] sugar refinery [By-product classification: allocatable product] (#)\n",
      " Input:     [0 [kg]] vinasse, from fermentation of sugar beet molasses [By-product classification: Recyclable] (#)\n",
      " Input:     [-0.139 [kg]] limestone residue [By-product classification: Waste] (#)\n",
      " Input:     [0 [kg]] nitrogen fertiliser, as N [By-product classification: allocatable product] (#)\n",
      " Input:     [2.08 [kg]] tap water (CAS 7732-18-5) [By-product classification: allocatable product] (#)\n",
      " Input:     [0.11 [kg]] lime [By-product classification: allocatable product] (#)\n",
      " Input:     [0.0379 [metric ton*km]] transport, tractor and trailer, agricultural [By-product classification: allocatable product] (#)\n",
      " Input:     [0 [kg]] ammonium sulfate, as N [By-product classification: allocatable product] (#)\n",
      " Input:     [0.000352 [kg]] chemical, organic [By-product classification: allocatable product] (#)\n",
      " Input:     [0.564 [MJ]] heat, district or industrial, natural gas [By-product classification: allocatable product] (#)\n",
      " Input:     [3.79 [kg]] sugar beet [By-product classification: allocatable product] (#)\n",
      " Input:     [2.08 [kg]] tap water (CAS 7732-18-5) [By-product classification: allocatable product] (#)\n",
      " Input:     [0.063 [kWh]] electricity, medium voltage [By-product classification: allocatable product] (#)\n",
      " Input:     [0.000239 [kg]] sulfuric acid [By-product classification: allocatable product] (#)\n",
      "Output: {*} [1 [kg]] ethanol, without water, in 95% solution state, from fermentation (CAS 000064-17-5) [By-product classification: allocatable product]\n",
      "Output: {*} [0 [kg]] molasses, from sugar beet [By-product classification: allocatable product]\n"
     ]
    }
   ],
   "source": [
    "F.intermediate(frag.termination(None).term_node, ref_flow=frag.termination(None).term_flow)"
   ]
  },
  {
   "cell_type": "code",
   "execution_count": 13,
   "metadata": {
    "collapsed": true
   },
   "outputs": [],
   "source": [
    "proc = frag.termination().term_node.fg()"
   ]
  },
  {
   "cell_type": "code",
   "execution_count": 14,
   "metadata": {
    "collapsed": false
   },
   "outputs": [
    {
     "data": {
      "text/plain": [
       "[<lcatools.exchanges.Exchange at 0x7fd6398e5710>,\n",
       " <lcatools.exchanges.Exchange at 0x7fd6398e5cc0>]"
      ]
     },
     "execution_count": 14,
     "metadata": {},
     "output_type": "execute_result"
    }
   ],
   "source": [
    "refs = list(proc.reference_entity)\n",
    "refs"
   ]
  },
  {
   "cell_type": "code",
   "execution_count": 15,
   "metadata": {
    "collapsed": false
   },
   "outputs": [
    {
     "name": "stdout",
     "output_type": "stream",
     "text": [
      "Process Entity\n",
      "           Name: ethanol production from sugar beet molasses\n",
      "        Comment: [This dataset was already contained in the ecoinvent database version 2. It was not individually updated during the transfer to ecoinvent version 3. Life Cycle Impact Assessment results may still have changed, as they are affected by changes in the supply chain, i.e. in other datasets. This dataset was generated following the ecoinvent quality guidelines for version 2. It may have been subject to central changes described in the ecoinvent version 3 change report (http://www.ecoinvent.org/database/ecoinvent-version-3/reports-of-changes/), and the results of the central updates were reviewed extensively. The changes added e.g. consistent water flows and other information throughout the database. The documentation of this dataset can be found in the ecoinvent reports of version 2, which are still available via the ecoinvent website. The change report linked above covers all central changes that were made during the conversion process.]\n",
      "  TemporalScope: {'end': '2015-12-31', 'begin': '1998-01-01'}\n",
      "Classifications: ['EcoSpold01Categories: biomass/fuels', 'ISIC rev.4 ecoinvent: 19a: Liquid and gaseous fuels from biomass']\n",
      "   SpatialScope: RoW\n"
     ]
    }
   ],
   "source": [
    "proc.show()"
   ]
  },
  {
   "cell_type": "code",
   "execution_count": 16,
   "metadata": {
    "collapsed": false
   },
   "outputs": [
    {
     "data": {
      "text/plain": [
       "[' Input:     [0.247 [kg]] Carbon dioxide, in air (CAS 000124-38-9) [natural resource, in air]',\n",
       " 'Output:     [0.25 [kg]] Carbon dioxide, non-fossil (CAS 000124-38-9) [air, urban air close to ground]',\n",
       " 'Output:     [0.00142 [m3]] Water (CAS 007732-18-5) [air, unspecified]',\n",
       " ' Input:     [0 [kg]] ammonium sulfate, as N [By-product classification: allocatable product] (#)',\n",
       " ' Input:     [0.000507 [kg]] chemical, inorganic [By-product classification: allocatable product] (#)',\n",
       " ' Input:     [0.000352 [kg]] chemical, organic [By-product classification: allocatable product] (#)',\n",
       " ' Input:     [0.00952 [MJ]] coke [By-product classification: allocatable product] (#)',\n",
       " ' Input:     [0.063 [kWh]] electricity, medium voltage [By-product classification: allocatable product] (#)',\n",
       " ' Input:     [0.063 [kWh]] electricity, medium voltage [By-product classification: allocatable product] (#)',\n",
       " ' Input:     [0 [unit]] ethanol fermentation plant [By-product classification: allocatable product] (#)',\n",
       " 'Output: {*} [1 [kg]] ethanol, without water, in 95% solution state, from fermentation (CAS 000064-17-5) [By-product classification: allocatable product]',\n",
       " ' Input:     [0.564 [MJ]] heat, district or industrial, natural gas [By-product classification: allocatable product] (#)',\n",
       " ' Input:     [0.564 [MJ]] heat, district or industrial, natural gas [By-product classification: allocatable product] (#)',\n",
       " ' Input:     [0.11 [kg]] lime [By-product classification: allocatable product] (#)',\n",
       " ' Input:     [-0.139 [kg]] limestone residue [By-product classification: Waste] (#)',\n",
       " ' Input:     [-0.136 [kg]] molasses, from sugar beet [By-product classification: allocatable product] (#)',\n",
       " 'Output: {*} [0 [kg]] molasses, from sugar beet [By-product classification: allocatable product]',\n",
       " ' Input:     [0 [kg]] nitrogen fertiliser, as N [By-product classification: allocatable product] (#)',\n",
       " ' Input:     [0.00131 [kg]] soda ash, light, crystalline, heptahydrate (CAS 497-19-8) [By-product classification: allocatable product] (#)',\n",
       " ' Input:     [3.79 [kg]] sugar beet [By-product classification: allocatable product] (#)',\n",
       " ' Input:     [-0.773 [kg]] sugar beet pulp [By-product classification: allocatable product] (#)',\n",
       " ' Input:     [5.95e-11 [unit]] sugar refinery [By-product classification: allocatable product] (#)',\n",
       " ' Input:     [0.000239 [kg]] sulfuric acid [By-product classification: allocatable product] (#)',\n",
       " ' Input:     [2.08 [kg]] tap water (CAS 7732-18-5) [By-product classification: allocatable product] (#)',\n",
       " ' Input:     [2.08 [kg]] tap water (CAS 7732-18-5) [By-product classification: allocatable product] (#)',\n",
       " ' Input:     [0.0379 [metric ton*km]] transport, tractor and trailer, agricultural [By-product classification: allocatable product] (#)',\n",
       " ' Input:     [0 [kg]] vinasse, from fermentation of sugar beet molasses [By-product classification: Recyclable] (#)',\n",
       " ' Input:     [-0.0066 [m3]] wastewater, from residence [By-product classification: Waste] (#)']"
      ]
     },
     "execution_count": 16,
     "metadata": {},
     "output_type": "execute_result"
    }
   ],
   "source": [
    "[str(x) for x in sorted(proc.allocated_exchanges(refs[0]), key=lambda x: x.flow['Name'])]"
   ]
  },
  {
   "cell_type": "code",
   "execution_count": 17,
   "metadata": {
    "collapsed": false
   },
   "outputs": [
    {
     "name": "stdout",
     "output_type": "stream",
     "text": [
      "-<--*  eb54e0e (      1) ethanol production from sugar beet molasses [RoW]\n",
      "    | -<---: 9f43817 (  -0.14) limestone residue\n",
      "    | -<---: c8e5a5b (   0.56) heat, district or industrial, natural gas\n",
      "    | -<---: 379226c (0.00024) sulfuric acid\n",
      "    | -<---: 472b61d (  0.063) electricity, medium voltage\n",
      "    | -<---: a0327e3 (    2.1) tap water\n",
      "    | -<---: 000ffa3 (0.00051) chemical, inorganic\n",
      "    | -<---: a368ced (  0.038) transport, tractor and trailer, agricultural\n",
      "    | -<---: 22c32a2 (   0.56) heat, district or industrial, natural gas\n",
      "    | -<---: 856eab7 (   0.11) lime\n",
      "    | -<---: cdb5a6f (  -0.77) sugar beet pulp\n",
      "    | -<---: 5d73f2b (    3.8) sugar beet\n",
      "    | -<---: a2cc982 (      0) vinasse, from fermentation of sugar beet molasses\n",
      "    | -<---: 8d3ea64 (  -0.14) molasses, from sugar beet\n",
      "    | -<---: 27bc6e0 (      0) nitrogen fertiliser, as N\n",
      "    | -<---: dd4af18 (-0.0066) wastewater, from residence\n",
      "    | -<---: 78e2358 ( 0.0095) coke\n",
      "    | =>=--: 827171d (      0) molasses, from sugar beet\n",
      "    | -<---: e18c7ab ( 0.0013) soda ash, light, crystalline, heptahydrate\n",
      "    | -<---: abccd93 (0.00035) chemical, organic\n",
      "    | -<---: bc807dc (      0) ethanol fermentation plant\n",
      "    | -<---: 8303091 (5.9e-11) sugar refinery\n",
      "    | -<---: 9916358 (    2.1) tap water\n",
      "    | -<---: a4bfa29 (  0.063) electricity, medium voltage\n",
      "    | -<---: ec35f1f (      0) ammonium sulfate, as N\n"
     ]
    }
   ],
   "source": [
    "F.draw_fragment(frag)"
   ]
  },
  {
   "cell_type": "code",
   "execution_count": 18,
   "metadata": {
    "collapsed": false
   },
   "outputs": [
    {
     "name": "stdout",
     "output_type": "stream",
     "text": [
      "LcFragment - Name: limestone residue:\n",
      "shifting (eb54e0e) <--  9f43817 <--  #    : limestone residue\n",
      "None (EI_A) {p} market for limestone residue [GLO]\n",
      "bg\n",
      "BG: ( ** ref) <--  ef5c78b <--  (B#) : limestone residue | (EI_A) {p} market for limestone residue [GLO]\n",
      "LcFragment - Name: heat, district or industrial, natural gas:\n",
      "shifting (eb54e0e) <--  c8e5a5b <--  #    : heat, district or industrial, natural gas\n",
      "None (EI_A) {p} market group for heat, district or industrial, natural gas [GLO]\n",
      "bg\n",
      "BG: ( ** ref) <--  f67e38e <--  (B#) : heat, district or industrial, natural gas | (EI_A) {p} market group for heat, district or industrial, natural gas [GLO]\n",
      "LcFragment - Name: sulfuric acid:\n",
      "shifting (eb54e0e) <--  379226c <--  #    : sulfuric acid\n",
      "None (EI_A) {p} market for sulfuric acid [GLO]\n",
      "bg\n",
      "BG: ( ** ref) <--  e8b919a <--  (B#) : sulfuric acid | (EI_A) {p} market for sulfuric acid [GLO]\n",
      "LcFragment - Name: electricity, medium voltage:\n",
      "shifting (eb54e0e) <--  472b61d <--  #    : electricity, medium voltage\n",
      "None (EI_A) {p} market group for electricity, medium voltage [GLO]\n",
      "bg\n",
      "BG: ( ** ref) <--  30507a0 <--  (B#) : electricity, medium voltage | (EI_A) {p} market group for electricity, medium voltage [GLO]\n",
      "LcFragment - Name: tap water:\n",
      "shifting (eb54e0e) <--  a0327e3 <--  #    : tap water\n",
      "None (EI_A) {p} market for tap water [CH]\n",
      "bg\n",
      "BG: ( ** ref) <--  8fa821a <--  (B#) : tap water | (EI_A) {p} market for tap water [CH]\n",
      "LcFragment - Name: chemical, inorganic:\n",
      "shifting (eb54e0e) <--  000ffa3 <--  #    : chemical, inorganic\n",
      "None (EI_A) {p} market for chemicals, inorganic [GLO]\n",
      "bg\n",
      "BG: ( ** ref) <--  befe9c5 <--  (B#) : chemical, inorganic | (EI_A) {p} market for chemicals, inorganic [GLO]\n",
      "LcFragment - Name: transport, tractor and trailer, agricultural:\n",
      "shifting (eb54e0e) <--  a368ced <--  #    : transport, tractor and trailer, agricultural\n",
      "None (EI_A) {p} market for transport, tractor and trailer, agricultural [GLO]\n",
      "bg\n",
      "BG: ( ** ref) <--  910c93a <--  (B#) : transport, tractor and trailer, agricultural | (EI_A) {p} market for transport, tractor and trailer, agricultural [GLO]\n",
      "LcFragment - Name: lime:\n",
      "shifting (eb54e0e) <--  856eab7 <--  #    : lime\n",
      "None (EI_A) {p} market for lime [GLO]\n",
      "bg\n",
      "BG: ( ** ref) <--  ed69a12 <--  (B#) : lime | (EI_A) {p} market for lime [GLO]\n",
      "LcFragment - Name: sugar beet pulp:\n",
      "shifting (eb54e0e) <--  cdb5a6f <--  #    : sugar beet pulp\n",
      "None (EI_A) {p} market for sugar beet pulp [GLO]\n",
      "bg\n",
      "BG: ( ** ref) <--  1694e89 <--  (B#) : sugar beet pulp | (EI_A) {p} market for sugar beet pulp [GLO]\n",
      "LcFragment - Name: sugar beet:\n",
      "shifting (eb54e0e) <--  5d73f2b <--  #    : sugar beet\n",
      "None (EI_A) {p} market for sugar beet [GLO]\n",
      "bg\n",
      "BG: ( ** ref) <--  e1f22d6 <--  (B#) : sugar beet | (EI_A) {p} market for sugar beet [GLO]\n",
      "LcFragment - Name: vinasse, from fermentation of sugar beet molasses:\n",
      "shifting (eb54e0e) <--  a2cc982 <--  #    : vinasse, from fermentation of sugar beet molasses\n",
      "None (EI_A) {p} market for vinasse, from fermentation of sugar beet molasses [GLO]\n",
      "bg\n",
      "BG: ( ** ref) <--  2aba28b <--  (B#) : vinasse, from fermentation of sugar beet molasses | (EI_A) {p} market for vinasse, from fermentation of sugar beet molasses [GLO]\n",
      "LcFragment - Name: molasses, from sugar beet:\n",
      "shifting (eb54e0e) <--  8d3ea64 <--  #    : molasses, from sugar beet\n",
      "None (EI_A) {p} market for molasses, from sugar beet [GLO]\n",
      "bg\n",
      "BG: ( ** ref) <--  7c6e718 <--  (B#) : molasses, from sugar beet | (EI_A) {p} market for molasses, from sugar beet [GLO]\n",
      "LcFragment - Name: nitrogen fertiliser, as N:\n",
      "shifting (eb54e0e) <--  27bc6e0 <--  #    : nitrogen fertiliser, as N\n",
      "None (EI_A) {p} market for nitrogen fertiliser, as N [GLO]\n",
      "bg\n",
      "BG: ( ** ref) <--  56b4fc6 <--  (B#) : nitrogen fertiliser, as N | (EI_A) {p} market for nitrogen fertiliser, as N [GLO]\n",
      "LcFragment - Name: wastewater, from residence:\n",
      "shifting (eb54e0e) <--  dd4af18 <--  #    : wastewater, from residence\n",
      "None (EI_A) {p} market for wastewater, from residence [GLO]\n",
      "bg\n",
      "BG: ( ** ref) <--  e1ec83a <--  (B#) : wastewater, from residence | (EI_A) {p} market for wastewater, from residence [GLO]\n",
      "LcFragment - Name: coke:\n",
      "shifting (eb54e0e) <--  78e2358 <--  #    : coke\n",
      "None (EI_A) {p} market for coke [GLO]\n",
      "bg\n",
      "BG: ( ** ref) <--  783e7bf <--  (B#) : coke | (EI_A) {p} market for coke [GLO]\n",
      "LcFragment - Name: soda ash, light, crystalline, heptahydrate:\n",
      "shifting (eb54e0e) <--  e18c7ab <--  #    : soda ash, light, crystalline, heptahydrate\n",
      "None (EI_A) {p} market for soda ash, light, crystalline, heptahydrate [GLO]\n",
      "bg\n",
      "BG: ( ** ref) <--  9d8358b <--  (B#) : soda ash, light, crystalline, heptahydrate | (EI_A) {p} market for soda ash, light, crystalline, heptahydrate [GLO]\n",
      "LcFragment - Name: chemical, organic:\n",
      "shifting (eb54e0e) <--  abccd93 <--  #    : chemical, organic\n",
      "None (EI_A) {p} market for chemical, organic [GLO]\n",
      "bg\n",
      "BG: ( ** ref) <--  86fae54 <--  (B#) : chemical, organic | (EI_A) {p} market for chemical, organic [GLO]\n",
      "LcFragment - Name: ethanol fermentation plant:\n",
      "shifting (eb54e0e) <--  bc807dc <--  #    : ethanol fermentation plant\n",
      "None (EI_A) {p} market for ethanol fermentation plant [GLO]\n",
      "bg\n",
      "BG: ( ** ref) <--  a51c488 <--  (B#) : ethanol fermentation plant | (EI_A) {p} market for ethanol fermentation plant [GLO]\n",
      "LcFragment - Name: sugar refinery:\n",
      "shifting (eb54e0e) <--  8303091 <--  #    : sugar refinery\n",
      "None (EI_A) {p} market for sugar refinery [GLO]\n",
      "bg\n",
      "BG: ( ** ref) <--  845001b <--  (B#) : sugar refinery | (EI_A) {p} market for sugar refinery [GLO]\n",
      "LcFragment - Name: ammonium sulfate, as N:\n",
      "shifting (eb54e0e) <--  ec35f1f <--  #    : ammonium sulfate, as N\n",
      "None (EI_A) {p} market for ammonium sulfate, as N [GLO]\n",
      "bg\n",
      "BG: ( ** ref) <--  bbb6ff7 <--  (B#) : ammonium sulfate, as N | (EI_A) {p} market for ammonium sulfate, as N [GLO]\n"
     ]
    }
   ],
   "source": [
    "for f in F.child_flows(frag):\n",
    "    if f.direction == 'Input':\n",
    "        F.fragment_to_background(f)"
   ]
  },
  {
   "cell_type": "code",
   "execution_count": 19,
   "metadata": {
    "collapsed": false
   },
   "outputs": [
    {
     "name": "stdout",
     "output_type": "stream",
     "text": [
      "-<--*  eb54e0e (      1) ethanol production from sugar beet molasses [RoW]\n",
      "    | -<--B  9f43817 (  -0.14) limestone residue\n",
      "    | -<--B  c8e5a5b (   0.56) heat, district or industrial, natural gas\n",
      "    | -<--B  379226c (0.00024) sulfuric acid\n",
      "    | -<--B  472b61d (  0.063) electricity, medium voltage\n",
      "    | -<--B  a0327e3 (    2.1) tap water\n",
      "    | -<--B  000ffa3 (0.00051) chemical, inorganic\n",
      "    | -<--B  a368ced (  0.038) transport, tractor and trailer, agricultural\n",
      "    | -<--B  22c32a2 (   0.56) heat, district or industrial, natural gas\n",
      "    | -<--B  856eab7 (   0.11) lime\n",
      "    | -<--B  cdb5a6f (  -0.77) sugar beet pulp\n",
      "    | -<--B  5d73f2b (    3.8) sugar beet\n",
      "    | -<--B  a2cc982 (      0) vinasse, from fermentation of sugar beet molasses\n",
      "    | -<--B  8d3ea64 (  -0.14) molasses, from sugar beet\n",
      "    | -<--B  27bc6e0 (      0) nitrogen fertiliser, as N\n",
      "    | -<--B  dd4af18 (-0.0066) wastewater, from residence\n",
      "    | -<--B  78e2358 ( 0.0095) coke\n",
      "    | =>=-B  827171d (      0) molasses, from sugar beet\n",
      "    | -<--B  e18c7ab ( 0.0013) soda ash, light, crystalline, heptahydrate\n",
      "    | -<--B  abccd93 (0.00035) chemical, organic\n",
      "    | -<--B  bc807dc (      0) ethanol fermentation plant\n",
      "    | -<--B  8303091 (5.9e-11) sugar refinery\n",
      "    | -<--B  9916358 (    2.1) tap water\n",
      "    | -<--B  a4bfa29 (  0.063) electricity, medium voltage\n",
      "    | -<--B  ec35f1f (      0) ammonium sulfate, as N\n"
     ]
    }
   ],
   "source": [
    "F.draw_fragment(frag)"
   ]
  },
  {
   "cell_type": "code",
   "execution_count": 20,
   "metadata": {
    "collapsed": false
   },
   "outputs": [
    {
     "data": {
      "text/plain": [
       "['( ** ref) <--  ef5c78b <--  (B#) : limestone residue',\n",
       " '(eb54e0e) <--  9f43817 <--  ---: : limestone residue',\n",
       " '(eb54e0e) <--  c8e5a5b <--  ---: : heat, district or industrial, natural gas',\n",
       " '( ** ref) <--  86fae54 <--  (B#) : chemical, organic',\n",
       " '(eb54e0e) <--  379226c <--  ---: : sulfuric acid',\n",
       " '( ** ref) <--  845001b <--  (B#) : sugar refinery',\n",
       " '( ** ref) <--  30507a0 <--  (B#) : electricity, medium voltage',\n",
       " '(eb54e0e) <--  472b61d <--  ---: : electricity, medium voltage',\n",
       " '(eb54e0e) <--  a0327e3 <--  ---: : tap water',\n",
       " '( ** ref) <--  e8b919a <--  (B#) : sulfuric acid',\n",
       " '(eb54e0e) <--  000ffa3 <--  ---: : chemical, inorganic',\n",
       " '(eb54e0e) <--  a368ced <--  ---: : transport, tractor and trailer, agricultural',\n",
       " '(eb54e0e) <--  22c32a2 <--  #    : heat, district or industrial, natural gas',\n",
       " '(eb54e0e) <--  856eab7 <--  ---: : lime',\n",
       " '( ** ref) <--  eb54e0e <--  #    : ethanol, without water, in 95% solution state, from fermentation',\n",
       " '(eb54e0e) <--  cdb5a6f <--  ---: : sugar beet pulp',\n",
       " '( ** ref) <--  befe9c5 <--  (B#) : chemical, inorganic',\n",
       " '( ** ref) <--  e1f22d6 <--  (B#) : sugar beet',\n",
       " '( ** ref) <--  bbb6ff7 <--  (B#) : ammonium sulfate, as N',\n",
       " '(eb54e0e) <--  5d73f2b <--  ---: : sugar beet',\n",
       " '( ** ref) <--  a51c488 <--  (B#) : ethanol fermentation plant',\n",
       " '(eb54e0e) <--  a2cc982 <--  ---: : vinasse, from fermentation of sugar beet molasses',\n",
       " '( ** ref) <--  56b4fc6 <--  (B#) : nitrogen fertiliser, as N',\n",
       " '(eb54e0e) <--  8d3ea64 <--  ---: : molasses, from sugar beet',\n",
       " '( ** ref) <--  1694e89 <--  (B#) : sugar beet pulp',\n",
       " '(eb54e0e) <--  27bc6e0 <--  ---: : nitrogen fertiliser, as N',\n",
       " '( ** ref) <--  910c93a <--  (B#) : transport, tractor and trailer, agricultural',\n",
       " '( ** ref) <--  9d8358b <--  (B#) : soda ash, light, crystalline, heptahydrate',\n",
       " '(eb54e0e) <--  dd4af18 <--  ---: : wastewater, from residence',\n",
       " '( ** ref) <--  783e7bf <--  (B#) : coke',\n",
       " '( ** ref) <--  f67e38e <--  (B#) : heat, district or industrial, natural gas',\n",
       " '( ** ref) <--  ed69a12 <--  (B#) : lime',\n",
       " '( ** ref) <--  2aba28b <--  (B#) : vinasse, from fermentation of sugar beet molasses',\n",
       " '( ** ref) <--  8fa821a <--  (B#) : tap water',\n",
       " '(eb54e0e) <--  78e2358 <--  ---: : coke',\n",
       " '(eb54e0e)  ==> 827171d  ==> ---: : molasses, from sugar beet',\n",
       " '(eb54e0e) <--  e18c7ab <--  ---: : soda ash, light, crystalline, heptahydrate',\n",
       " '(eb54e0e) <--  abccd93 <--  ---: : chemical, organic',\n",
       " '(eb54e0e) <--  bc807dc <--  ---: : ethanol fermentation plant',\n",
       " '( ** ref) <--  7c6e718 <--  (B#) : molasses, from sugar beet',\n",
       " '(eb54e0e) <--  8303091 <--  ---: : sugar refinery',\n",
       " '(eb54e0e) <--  9916358 <--  #    : tap water',\n",
       " '( ** ref) <--  e1ec83a <--  (B#) : wastewater, from residence',\n",
       " '(eb54e0e) <--  a4bfa29 <--  #    : electricity, medium voltage',\n",
       " '(eb54e0e) <--  ec35f1f <--  ---: : ammonium sulfate, as N']"
      ]
     },
     "execution_count": 20,
     "metadata": {},
     "output_type": "execute_result"
    }
   ],
   "source": [
    "[str(f) for f in F[0].fragments(show_all=True)]"
   ]
  },
  {
   "cell_type": "code",
   "execution_count": 21,
   "metadata": {
    "collapsed": false
   },
   "outputs": [
    {
     "name": "stdout",
     "output_type": "stream",
     "text": [
      "Loading LCIA results from b203c4a7-fc43-4434-89b4-490061e32a93_7349f706-8f4e-4061-9e68-a66c269b4030.spold\n",
      "Loading LCIA results from bb6cc7c3-a81e-4b6e-ba86-de97ec13cb7d_2be73167-58e8-4706-a68f-167c80df9f72.spold\n",
      "Loading LCIA results from 40d9dc2f-e712-4d8b-8fa3-ed9f2dbfcdf1_93ee89ba-ff0b-4c4b-a333-af78bda8a9c4.spold\n",
      "Loading LCIA results from ad026e7f-b646-4e4f-9689-6e06868e2538_759b89bd-3aa6-42ad-b767-5bb9ef5d331d.spold\n",
      "Loading LCIA results from 31147725-f08f-4e3d-8196-29744fad76d8_9d63da75-8289-4b96-a900-67ec3bd40a16.spold\n",
      "Loading LCIA results from 6158d46e-b32c-42b9-aa95-1eeb4e593ec2_73b452c8-3ac4-4993-86e4-fe0653467988.spold\n",
      "Loading LCIA results from 57697b27-e4f7-4afc-847f-e0b189a7b900_560e69eb-413e-49db-8796-3dd103ae8888.spold\n",
      "Loading LCIA results from 75aaa5d0-e5df-4977-a8fb-b79dad545a2d_6f4bede8-f885-499c-8ac9-6832e35d9d16.spold\n",
      "Loading LCIA results from 1cbeda02-4edf-45b4-b787-02d6783807e2_725cbdbd-cdb2-484b-9363-2c6facb2ab4b.spold\n",
      "Loading LCIA results from 268b4507-3a49-49d9-8ee6-765059909ac3_f5707bdf-f7e2-479b-b3ea-99c04de8a927.spold\n",
      "Loading LCIA results from 86c6f7e6-a0ea-4897-a7f6-ef757bb46a2c_e98c4987-0c27-4ad8-aa06-568bea573460.spold\n",
      "Loading LCIA results from 61e38d92-d558-4759-b9a8-dea9954cf16f_ba4b7781-39f2-465b-8d98-0bc1c4c82e61.spold\n",
      "Loading LCIA results from f461b3a8-fff5-45d8-90fb-563e157624ad_9e6f12d8-b727-4aef-94e3-c8278e3661d7.spold\n",
      "Loading LCIA results from 71019788-1cb7-4fd2-924a-e1b278cd2a9a_1fa64d0c-afd7-46ab-b95c-3a54e0902dd0.spold\n",
      "Loading LCIA results from 7424a131-694d-48a5-b188-de7adf16dd99_1125e767-7b5d-442e-81d6-9b0d3e1919ac.spold\n",
      "Loading LCIA results from 62c92136-dc40-41fd-8286-e024c3097209_a00b7e35-1bc7-4b73-9df8-05f3dd07ffdb.spold\n",
      "Loading LCIA results from 6268f498-c703-49d1-b646-3ee9d15c0200_7a7db01b-126b-42fa-b3cc-e2ed48081eca.spold\n",
      "Loading LCIA results from 1ae5f888-6823-4250-a3b5-b6de66a0d9cb_c5adb1fb-872e-4446-a3bb-c4b61aa4bd45.spold\n",
      "Loading LCIA results from 6c46fcb8-bd3f-41f0-b9d0-dfbde74ecfec_26448127-c1ac-4f48-818a-5e8fd9cb1645.spold\n",
      "Loading LCIA results from 82552aab-ecf2-4d0b-9e76-e7ec4ce47178_f33b4dc5-f3af-4ca8-aeff-3deeb7159ec1.spold\n"
     ]
    }
   ],
   "source": [
    "for bg in F[0].fragments(background=True):\n",
    "    F.compute_fragment_unit_scores(bg)"
   ]
  },
  {
   "cell_type": "code",
   "execution_count": 22,
   "metadata": {
    "collapsed": false
   },
   "outputs": [
    {
     "name": "stdout",
     "output_type": "stream",
     "text": [
      "ethanol production from sugar beet molasses [RoW]\n"
     ]
    }
   ],
   "source": [
    "F.compute_fragment_unit_scores(frag)"
   ]
  },
  {
   "cell_type": "code",
   "execution_count": 28,
   "metadata": {
    "collapsed": false
   },
   "outputs": [],
   "source": [
    "term = frag.termination()"
   ]
  },
  {
   "cell_type": "code",
   "execution_count": 31,
   "metadata": {
    "collapsed": false
   },
   "outputs": [
    {
     "data": {
      "text/plain": [
       "'ffcb8cbb-77ab-4f87-8a94-87ca5b8ea79e'"
      ]
     },
     "execution_count": 31,
     "metadata": {},
     "output_type": "execute_result"
    }
   ],
   "source": [
    "term.term_flow.get_uuid()"
   ]
  },
  {
   "cell_type": "code",
   "execution_count": null,
   "metadata": {
    "collapsed": true
   },
   "outputs": [],
   "source": [
    "next(x for x in proc.)"
   ]
  },
  {
   "cell_type": "code",
   "execution_count": 36,
   "metadata": {
    "collapsed": false
   },
   "outputs": [
    {
     "data": {
      "text/plain": [
       "1.0"
      ]
     },
     "execution_count": 36,
     "metadata": {},
     "output_type": "execute_result"
    }
   ],
   "source": [
    "proc.exchange(term.term_flow)[term.term_flow]"
   ]
  },
  {
   "cell_type": "code",
   "execution_count": 24,
   "metadata": {
    "collapsed": false
   },
   "outputs": [
    {
     "name": "stdout",
     "output_type": "stream",
     "text": [
      "CPU times: user 20 ms, sys: 0 ns, total: 20 ms\n",
      "Wall time: 21.4 ms\n"
     ]
    }
   ],
   "source": [
    "%time ffs = F.traverse(frag)\n"
   ]
  },
  {
   "cell_type": "code",
   "execution_count": 39,
   "metadata": {
    "collapsed": false
   },
   "outputs": [],
   "source": [
    "w = [i for i in ffs if i.fragment.flow['Name'] == 'tap water']"
   ]
  },
  {
   "cell_type": "code",
   "execution_count": 25,
   "metadata": {
    "collapsed": false
   },
   "outputs": [
    {
     "data": {
      "text/plain": [
       "['1.0',\n",
       " '-1.0',\n",
       " '1.0',\n",
       " '1.0',\n",
       " '1.0',\n",
       " '1.0',\n",
       " '1.0',\n",
       " '1.0',\n",
       " '1.0',\n",
       " '1.0',\n",
       " '-1.0',\n",
       " '1.0',\n",
       " '-1.0',\n",
       " '-1.0',\n",
       " '1.0',\n",
       " '-1.0',\n",
       " '1.0',\n",
       " '-1.0',\n",
       " '1.0',\n",
       " '1.0',\n",
       " '1.0',\n",
       " '1.0',\n",
       " '1.0',\n",
       " '1.0',\n",
       " '1.0']"
      ]
     },
     "execution_count": 25,
     "metadata": {},
     "output_type": "execute_result"
    }
   ],
   "source": [
    "[str(k.term._cached_ev) for k in ffs]"
   ]
  },
  {
   "cell_type": "code",
   "execution_count": 50,
   "metadata": {
    "collapsed": false
   },
   "outputs": [
    {
     "name": "stdout",
     "output_type": "stream",
     "text": [
      "market for tap water [CH]\n",
      "Intermediate exchanges:\n",
      " Input:     [0.129 [kg]] tap water (CAS 7732-18-5) [By-product classification: allocatable product] (#)\n",
      " Input:     [0.319 [kg]] tap water (CAS 7732-18-5) [By-product classification: allocatable product] (#)\n",
      " Input:     [5.1e-10 [km]] water supply network [By-product classification: allocatable product] (#)\n",
      " Input:     [0.01 [kg]] tap water (CAS 7732-18-5) [By-product classification: allocatable product] (#)\n",
      " Input:     [0.01 [kg]] tap water (CAS 7732-18-5) [By-product classification: allocatable product] (#)\n",
      " Input:     [0.38 [kg]] tap water (CAS 7732-18-5) [By-product classification: allocatable product] (#)\n",
      " Input:     [0.141 [kg]] tap water (CAS 7732-18-5) [By-product classification: allocatable product] (#)\n",
      " Input:     [0.141 [kg]] tap water (CAS 7732-18-5) [By-product classification: allocatable product] (#)\n",
      "Output: {*} [1 [kg]] tap water (CAS 7732-18-5) [By-product classification: allocatable product]\n"
     ]
    }
   ],
   "source": [
    "F.intermediate(w[0].term.term_node)"
   ]
  },
  {
   "cell_type": "code",
   "execution_count": 45,
   "metadata": {
    "collapsed": false
   },
   "outputs": [
    {
     "data": {
      "text/plain": [
       "{'_cached_ev': 0.00012867,\n",
       " '_descend': True,\n",
       " '_flow_conversion': 1.0,\n",
       " '_parent': <lcatools.foreground.fragment_flows.LcFragment at 0x7f9774ac19b0>,\n",
       " '_process_ref': <lcatools.catalog.CatalogRef at 0x7f9774ac2080>,\n",
       " '_score_cache': {'276da1bd-49d4-35d0-a24b-391882cb611b': <lcatools.lcia_results.LciaResult at 0x7f9774a7b2b0>,\n",
       "  '5dddb09c-5cb5-3447-aa5c-ef7052b5c0e4': <lcatools.lcia_results.LciaResult at 0x7f9774a7b550>,\n",
       "  '75d86f16-6035-3ab3-a07c-d9bc3af6d3dd': <lcatools.lcia_results.LciaResult at 0x7f9774a7b7f0>,\n",
       "  '81a9c222-3419-362e-8e99-8d451916b22d': <lcatools.lcia_results.LciaResult at 0x7f9774a79fd0>,\n",
       "  '92a57842-db21-37fc-8dd2-c21bd8fdbf6d': <lcatools.lcia_results.LciaResult at 0x7f9774a7b1d0>,\n",
       "  'a44c4138-1181-353d-8f6c-415c038cff5a': <lcatools.lcia_results.LciaResult at 0x7f9774a7b470>,\n",
       "  'cca01bed-5284-394a-a158-65242ba78231': <lcatools.lcia_results.LciaResult at 0x7f9774a7b390>,\n",
       "  'd907604c-9dd0-3581-83ea-1d59e778a3c0': <lcatools.lcia_results.LciaResult at 0x7f9774a7b630>,\n",
       "  'f07336c1-382b-3d84-8f1f-4d7cccacbd2e': <lcatools.lcia_results.LciaResult at 0x7f9774a7b0f0>,\n",
       "  'fa31a1f7-592a-3f64-9636-16391930e513': <lcatools.lcia_results.LciaResult at 0x7f9774a79f28>},\n",
       " 'direction': 'Output',\n",
       " 'term_flow': <lcatools.entities.LcFlow at 0x7f9774ad32b0>}"
      ]
     },
     "execution_count": 45,
     "metadata": {},
     "output_type": "execute_result"
    }
   ],
   "source": [
    "w[0].term.__dict__"
   ]
  },
  {
   "cell_type": "code",
   "execution_count": 26,
   "metadata": {
    "collapsed": false
   },
   "outputs": [
    {
     "data": {
      "text/plain": [
       "0.00018043723"
      ]
     },
     "execution_count": 26,
     "metadata": {},
     "output_type": "execute_result"
    }
   ],
   "source": [
    "ffs[9].term.score_cache(F[0]['276da1bd-49d4-35d0-a24b-391882cb611b']).total()"
   ]
  },
  {
   "cell_type": "code",
   "execution_count": 50,
   "metadata": {
    "collapsed": false
   },
   "outputs": [
    {
     "name": "stdout",
     "output_type": "stream",
     "text": [
      "ethanol production from sugar beet molasses [RoW]\n",
      "This process has multiple allocations. Select reference flow:\n",
      "\n",
      "Choice Item\n",
      "====== ======================================================================\n",
      " [0]   ethanol, without water, in 95% solution state, from fermentation\n",
      " [1]   molasses, from sugar beet\n",
      "------ ----------------------------------------------------------------------\n",
      "Enter choice (or \"None\"): 1\n",
      "picked molasses, from sugar beet [By-product classification: allocatable product]\n",
      "Elementary exchanges:\n",
      " Input:     [0.161 [kg]] Carbon dioxide, in air (CAS 000124-38-9) [natural resource, in air]\n",
      "Output:     [0.411 [kg]] Carbon dioxide, non-fossil (CAS 000124-38-9) [air, urban air close to ground]\n",
      "Output:     [0.000103 [m3]] Water (CAS 007732-18-5) [air, unspecified]\n"
     ]
    }
   ],
   "source": [
    "F.elementary(frag.termination(None).term_node)"
   ]
  },
  {
   "cell_type": "code",
   "execution_count": 48,
   "metadata": {
    "collapsed": false
   },
   "outputs": [
    {
     "name": "stdout",
     "output_type": "stream",
     "text": [
      "ethanol production from sugar beet molasses [RoW]\n",
      "ethanol production from sugar beet molasses [RoW] has Output: ethanol, without water, in 95% solution state, from fermentation (CAS 000064-17-5) [Intermediate flow] [kg]\n",
      "ethanol production from sugar beet molasses [RoW] has Output: molasses, from sugar beet [Intermediate flow] [kg]\n"
     ]
    }
   ],
   "source": [
    "frag.termination(None).term_node.entity().inventory()"
   ]
  },
  {
   "cell_type": "code",
   "execution_count": 23,
   "metadata": {
    "collapsed": false
   },
   "outputs": [
    {
     "ename": "NameError",
     "evalue": "name 'quantity' is not defined",
     "output_type": "error",
     "traceback": [
      "\u001b[1;31m---------------------------------------------------------------------------\u001b[0m",
      "\u001b[1;31mNameError\u001b[0m                                 Traceback (most recent call last)",
      "\u001b[1;32m<ipython-input-23-7f8674304105>\u001b[0m in \u001b[0;36m<module>\u001b[1;34m()\u001b[0m\n\u001b[1;32m----> 1\u001b[1;33m \u001b[0mfrag\u001b[0m\u001b[1;33m.\u001b[0m\u001b[0mtermination\u001b[0m\u001b[1;33m(\u001b[0m\u001b[1;32mNone\u001b[0m\u001b[1;33m)\u001b[0m\u001b[1;33m.\u001b[0m\u001b[0mscore_cache\u001b[0m\u001b[1;33m(\u001b[0m\u001b[0mquantity\u001b[0m\u001b[1;33m)\u001b[0m\u001b[1;33m.\u001b[0m\u001b[0mshow_details\u001b[0m\u001b[1;33m(\u001b[0m\u001b[1;33m)\u001b[0m\u001b[1;33m\u001b[0m\u001b[0m\n\u001b[0m",
      "\u001b[1;31mNameError\u001b[0m: name 'quantity' is not defined"
     ]
    }
   ],
   "source": [
    "frag.termination(None).score_cache(quantity).show_details()"
   ]
  },
  {
   "cell_type": "code",
   "execution_count": 27,
   "metadata": {
    "collapsed": true
   },
   "outputs": [],
   "source": [
    "lcia_methods = (q for q in F[0].lcia_methods())"
   ]
  },
  {
   "cell_type": "code",
   "execution_count": 38,
   "metadata": {
    "collapsed": false
   },
   "outputs": [
    {
     "name": "stdout",
     "output_type": "stream",
     "text": [
      "ReCiPe Midpoint (I), fossil depletion, FDP [LCIA]\n",
      "         1 x          0 =          0 ethanol production from sugar beet molasses [RoW]\n",
      "     0.139 x    0.00379 =   0.000526 limestone residue\n",
      "     0.564 x     0.0139 =    0.00781 heat, district or industrial, natural gas\n",
      "  0.000239 x      0.153 =   3.66e-05 sulfuric acid\n",
      "     0.063 x        0.2 =     0.0126 electricity, medium voltage\n",
      "      2.08 x   5.02e-05 =   0.000105 tap water\n",
      "  0.000507 x       0.56 =   0.000284 chemical, inorganic\n",
      "    0.0379 x      0.116 =     0.0044 transport, tractor and trailer, agricultural\n",
      "      0.11 x     0.0116 =    0.00127 lime\n",
      "     0.773 x          0 =          0 sugar beet pulp\n",
      "      3.79 x     0.0068 =     0.0258 sugar beet\n",
      "        -0 x   0.000254 =         -0 vinasse, from fermentation of sugar beet molasses\n",
      "     0.136 x     0.0107 =    0.00145 molasses, from sugar beet\n",
      "         0 x       1.52 =          0 nitrogen fertiliser, as N\n",
      "    0.0066 x      0.133 =   0.000878 wastewater, from residence\n",
      "   0.00952 x     0.0193 =   0.000184 coke\n",
      "        -0 x     0.0107 =         -0 molasses, from sugar beet\n",
      "   0.00131 x      0.146 =   0.000191 soda ash, light, crystalline, heptahydrate\n",
      "  0.000352 x       1.44 =   0.000507 chemical, organic\n",
      "         0 x   1.35e+06 =          0 ethanol fermentation plant\n",
      "  5.95e-11 x   1.59e+06 =   9.48e-05 sugar refinery\n",
      "         0 x      0.545 =          0 ammonium sulfate, as N\n",
      "Total:  0.0561172\n"
     ]
    }
   ],
   "source": [
    "quantity = next(lcia_methods)\n",
    "total = 0.0\n",
    "print('%s' % quantity)\n",
    "for i in ffs:\n",
    "    mag = i.node_weight\n",
    "    scr = i.term.score_cache(quantity)\n",
    "    if scr is None:\n",
    "        continue\n",
    "    cont = mag * scr.total()\n",
    "    #if i.fragment.direction == i.term.direction:\n",
    "    #    cont *= -1\n",
    "    print('%10.3g x %10.3g = %10.3g %s' % (mag, scr.total(), cont, i.fragment['Name']))\n",
    "    total += cont\n",
    "print('Total: %10.6g' % total)"
   ]
  },
  {
   "cell_type": "code",
   "execution_count": 40,
   "metadata": {
    "collapsed": false
   },
   "outputs": [
    {
     "name": "stdout",
     "output_type": "stream",
     "text": [
      "ReCiPe Midpoint (I), fossil depletion, FDP [LCIA]\n",
      "Loading LCIA results from f01eb904-d7e7-4633-b1a7-be54f33daa96_ffcb8cbb-77ab-4f87-8a94-87ca5b8ea79e.spold\n",
      "result:   0.064554\n"
     ]
    }
   ],
   "source": [
    "print('%s' % quantity)\n",
    "r = F.bg_lcia(frag.termination(None).term_node, [quantity], ref_flow=frag.termination(None).term_flow)\n",
    "print('result: %10.5g' % r[quantity.get_uuid()].total())"
   ]
  },
  {
   "cell_type": "code",
   "execution_count": 41,
   "metadata": {
    "collapsed": false
   },
   "outputs": [
    {
     "name": "stdout",
     "output_type": "stream",
     "text": [
      "ReCiPe Midpoint (I), fossil depletion, FDP [LCIA] kg oil-Eq\n",
      "------------------------------------------------------------\n",
      "         1 x     0.0646 =     0.0646 [RoW] ethanol, without water, in 95% solution state, from fermentation (CAS 000064-17-5) [By-product classification: allocatable product]\n",
      "============================================================\n",
      "             Total score: 0.0645541 \n",
      "    0.0646 ReCiPe Midpoint (I), fossil depletion, FDP [LCIA]\n"
     ]
    }
   ],
   "source": [
    "r[quantity.get_uuid()].show_details()"
   ]
  },
  {
   "cell_type": "code",
   "execution_count": 18,
   "metadata": {
    "collapsed": false
   },
   "outputs": [],
   "source": [
    "term = frag.termination(None)"
   ]
  },
  {
   "cell_type": "code",
   "execution_count": 19,
   "metadata": {
    "collapsed": false
   },
   "outputs": [
    {
     "data": {
      "text/plain": [
       "'/home/b/Dropbox/data/Ecoinvent/3.2/activity_overview_for_users_3.2_undefined.xlsx'"
      ]
     },
     "execution_count": 19,
     "metadata": {},
     "output_type": "execute_result"
    }
   ],
   "source": [
    "term.term_flow.origin"
   ]
  },
  {
   "cell_type": "code",
   "execution_count": 25,
   "metadata": {
    "collapsed": false
   },
   "outputs": [
    {
     "data": {
      "text/plain": [
       "{'direction': 'Output',\n",
       " 'flow': <lcatools.entities.LcFlow at 0x7f2017ca8860>,\n",
       " 'process': <lcatools.entities.LcProcess at 0x7f2017096278>,\n",
       " 'termination': None,\n",
       " 'unit': <lcatools.entities.LcUnit at 0x7f2017fe48d0>,\n",
       " 'value': None}"
      ]
     },
     "execution_count": 25,
     "metadata": {},
     "output_type": "execute_result"
    }
   ],
   "source": [
    "term._process_ref.entity().exchange(term.term_flow).__dict__"
   ]
  },
  {
   "cell_type": "code",
   "execution_count": 26,
   "metadata": {
    "collapsed": false
   },
   "outputs": [
    {
     "name": "stdout",
     "output_type": "stream",
     "text": [
      "ethanol production from sugar beet molasses [RoW]\n",
      "ethanol production from sugar beet molasses [RoW] has Output: molasses, from sugar beet [Intermediate flow] [kg]\n",
      "ethanol production from sugar beet molasses [RoW] has Output: ethanol, without water, in 95% solution state, from fermentation (CAS 000064-17-5) [Intermediate flow] [kg]\n"
     ]
    }
   ],
   "source": [
    "term._process_ref.entity().inventory()"
   ]
  },
  {
   "cell_type": "code",
   "execution_count": 17,
   "metadata": {
    "collapsed": false
   },
   "outputs": [
    {
     "name": "stdout",
     "output_type": "stream",
     "text": [
      "Loading LCIA results from a6b03ed3-532c-43c8-abd6-c8242eb18d05_1125e767-7b5d-442e-81d6-9b0d3e1919ac.spold\n"
     ]
    }
   ],
   "source": [
    "F.compute_fragment_unit_scores(bg)"
   ]
  },
  {
   "cell_type": "code",
   "execution_count": 16,
   "metadata": {
    "collapsed": false
   },
   "outputs": [
    {
     "data": {
      "text/plain": [
       "True"
      ]
     },
     "execution_count": 16,
     "metadata": {},
     "output_type": "execute_result"
    }
   ],
   "source": [
    "F.frag('d92d').termination(None).is_null"
   ]
  },
  {
   "cell_type": "code",
   "execution_count": 29,
   "metadata": {
    "collapsed": false
   },
   "outputs": [
    {
     "name": "stdout",
     "output_type": "stream",
     "text": [
      "\n",
      "Currently loaded archives: \n",
      "X [ 0] FG     : ForegroundArchive with 89 entities at .\n",
      "X [ 2] LCIA   : IlcdLcia with 1310 entities at /home/b/Dropbox/data/ELCD/ELCD3.2.zip\n",
      "X [ 3] EI-LCIA: EcoinventLcia with 3965 entities at /data/LCI/LCIA implementation v3.1 2014_08_13.xlsx\n",
      "X [ 5] EI_A   : EcoinventSpreadsheet with 18905 entities at /home/b/Dropbox/data/Ecoinvent/3.2/activity_overview_for_users_3.2_apos.xlsx\n"
     ]
    }
   ],
   "source": [
    "F.show()"
   ]
  },
  {
   "cell_type": "code",
   "execution_count": 11,
   "metadata": {
    "collapsed": true
   },
   "outputs": [],
   "source": [
    "term = frag.termination(None)"
   ]
  },
  {
   "cell_type": "code",
   "execution_count": 12,
   "metadata": {
    "collapsed": false
   },
   "outputs": [
    {
     "data": {
      "text/plain": [
       "{'_characterizations': {'a6f890e7-2633-39da-8e99-e39791096af6': <lcatools.characterizations.Characterization at 0x7fb6b5e688d0>},\n",
       " '_d': {'CasNumber': '000064-17-5',\n",
       "  'Comment': '',\n",
       "  'Compartment': ['Intermediate flow'],\n",
       "  'Name': 'ethanol, without water, in 95% solution state, from fermentation',\n",
       "  'Synonyms': ''},\n",
       " '_external_ref': 'ethanol, without water, in 95% solution state, from fermentation',\n",
       " '_origin': '/home/b/Dropbox/data/Ecoinvent/3.2/activity_overview_for_users_3.2_undefined.xlsx',\n",
       " '_ref_quantity_factor': 1.0,\n",
       " '_scenarios': {},\n",
       " '_uuid': UUID('bdd926e7-9b82-3772-b28e-fbdac81bd1a9'),\n",
       " 'entity_type': 'flow',\n",
       " 'reference_entity': <lcatools.entities.LcQuantity at 0x7fb6b61a4978>}"
      ]
     },
     "execution_count": 12,
     "metadata": {},
     "output_type": "execute_result"
    }
   ],
   "source": [
    "term.term_flow.__dict__"
   ]
  },
  {
   "cell_type": "code",
   "execution_count": null,
   "metadata": {
    "collapsed": true
   },
   "outputs": [],
   "source": [
    "print('%s' % term.term_flow)\n",
    "for x in F._filter_exch(term.term_node, elem=False, ref_flow=term.term_flow):\n",
    "    print('%s' % x)\n",
    "    "
   ]
  },
  {
   "cell_type": "code",
   "execution_count": 22,
   "metadata": {
    "collapsed": false
   },
   "outputs": [
    {
     "data": {
      "text/plain": [
       "{'_characterizations': {'a6f890e7-2633-39da-8e99-e39791096af6': <lcatools.characterizations.Characterization at 0x7f932c11f5f8>},\n",
       " '_d': {'CasNumber': '000064-17-5',\n",
       "  'Comment': '',\n",
       "  'Compartment': ['Intermediate flow'],\n",
       "  'Name': 'ethanol, without water, in 95% solution state, from fermentation',\n",
       "  'Synonyms': ''},\n",
       " '_external_ref': 'ethanol, without water, in 95% solution state, from fermentation',\n",
       " '_origin': '/home/b/Dropbox/data/Ecoinvent/3.2/activity_overview_for_users_3.2_undefined.xlsx',\n",
       " '_ref_quantity_factor': 1.0,\n",
       " '_scenarios': {},\n",
       " '_uuid': UUID('bdd926e7-9b82-3772-b28e-fbdac81bd1a9'),\n",
       " 'entity_type': 'flow',\n",
       " 'reference_entity': <lcatools.entities.LcQuantity at 0x7f932c45a6a0>}"
      ]
     },
     "execution_count": 22,
     "metadata": {},
     "output_type": "execute_result"
    }
   ],
   "source": [
    "frag.termination().term_flow.__dict__"
   ]
  },
  {
   "cell_type": "code",
   "execution_count": 18,
   "metadata": {
    "collapsed": false
   },
   "outputs": [],
   "source": [
    "ff = next(f for f in F[0].fragments(show_all=True) if f.get_uuid().startswith('8841'))"
   ]
  },
  {
   "cell_type": "code",
   "execution_count": 23,
   "metadata": {
    "collapsed": false
   },
   "outputs": [
    {
     "data": {
      "text/plain": [
       "{'_characterizations': {'487df68b-4994-4027-8fdc-a4dc298257b7': <lcatools.characterizations.Characterization at 0x7f932b441f98>},\n",
       " '_d': {'CasNumber': '000064-17-5',\n",
       "  'Comment': 'EcoSpold02 Flow',\n",
       "  'Compartment': ['By-product classification: allocatable product'],\n",
       "  'Name': 'ethanol, without water, in 95% solution state, from fermentation'},\n",
       " '_external_ref': None,\n",
       " '_origin': '/data/LCI/Ecoinvent/3.2/current_Version_3.2_apos_ecoSpold02.zip',\n",
       " '_ref_quantity_factor': 1.0,\n",
       " '_scenarios': {},\n",
       " '_uuid': UUID('ffcb8cbb-77ab-4f87-8a94-87ca5b8ea79e'),\n",
       " 'entity_type': 'flow',\n",
       " 'reference_entity': <lcatools.entities.LcQuantity at 0x7f932b4419e8>}"
      ]
     },
     "execution_count": 23,
     "metadata": {},
     "output_type": "execute_result"
    }
   ],
   "source": [
    "ff.flow.__dict__"
   ]
  },
  {
   "cell_type": "code",
   "execution_count": 15,
   "metadata": {
    "collapsed": false
   },
   "outputs": [
    {
     "ename": "StopIteration",
     "evalue": "",
     "output_type": "error",
     "traceback": [
      "\u001b[1;31m---------------------------------------------------------------------------\u001b[0m",
      "\u001b[1;31mStopIteration\u001b[0m                             Traceback (most recent call last)",
      "\u001b[1;32m<ipython-input-15-82ebae6cace1>\u001b[0m in \u001b[0;36m<module>\u001b[1;34m()\u001b[0m\n\u001b[1;32m----> 1\u001b[1;33m \u001b[0mnext\u001b[0m\u001b[1;33m(\u001b[0m\u001b[0mF\u001b[0m\u001b[1;33m.\u001b[0m\u001b[0mchild_flows\u001b[0m\u001b[1;33m(\u001b[0m\u001b[0mfrag\u001b[0m\u001b[1;33m,\u001b[0m \u001b[0mbackground\u001b[0m\u001b[1;33m=\u001b[0m\u001b[1;32mTrue\u001b[0m\u001b[1;33m)\u001b[0m\u001b[1;33m)\u001b[0m\u001b[1;33m\u001b[0m\u001b[0m\n\u001b[0m",
      "\u001b[1;31mStopIteration\u001b[0m: "
     ]
    }
   ],
   "source": [
    "next(F.child_flows(frag, background=True))"
   ]
  }
 ],
 "metadata": {
  "kernelspec": {
   "display_name": "Python 3",
   "language": "python",
   "name": "python3"
  },
  "language_info": {
   "codemirror_mode": {
    "name": "ipython",
    "version": 3
   },
   "file_extension": ".py",
   "mimetype": "text/x-python",
   "name": "python",
   "nbconvert_exporter": "python",
   "pygments_lexer": "ipython3",
   "version": "3.5.1"
  }
 },
 "nbformat": 4,
 "nbformat_minor": 0
}
